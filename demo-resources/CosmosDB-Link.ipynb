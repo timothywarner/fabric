{
  "nbformat": 4,
  "nbformat_minor": 2,
  "cells": [
    {
      "cell_type": "code",
      "execution_count": null,
      "outputs": [],
      "metadata": {
        "microsoft": {}
      },
      "source": [
        "# Load to Spark DataFrame\r\n",
        "\r\n",
        "df = spark.read.format(\"cosmos.olap\")\\\r\n",
        "    .option(\"spark.synapse.linkedService\", \"<enter linked service name>\")\\\r\n",
        "    .option(\"spark.cosmos.container\", \"<enter container name>\")\\\r\n",
        "    .load()"
      ]
    },
    {
      "cell_type": "code",
      "execution_count": null,
      "outputs": [],
      "metadata": {
        "jupyter": {
          "source_hidden": false,
          "outputs_hidden": false
        },
        "nteract": {
          "transient": {
            "deleting": false
          }
        },
        "collapsed": true
      },
      "source": [
        "# Create Spark table\r\n",
        "%%sql\r\n",
        "-- To select a preferred list of regions in a multi-region Azure Cosmos DB account, add spark.cosmos.preferredRegions '<Region1>,<Region2>' in the config options\r\n",
        "\r\n",
        "create table call_center using cosmos.olap options (\r\n",
        "    spark.synapse.linkedService '<enter linked service name>',\r\n",
        "    spark.cosmos.container '<enter container name>'\r\n",
        ")"
      ]
    },
    {
      "cell_type": "code",
      "execution_count": null,
      "outputs": [],
      "metadata": {
        "jupyter": {
          "source_hidden": false,
          "outputs_hidden": false
        },
        "nteract": {
          "transient": {
            "deleting": false
          }
        },
        "collapsed": true
      },
      "source": [
        "# Write Spark DataFrame to Azure Cosmos DB container\r\n",
        "# Write a Spark DataFrame into an Azure Cosmos DB container\r\n",
        "# To select a preferred list of regions in a multi-region Azure Cosmos DB account, add .option(\"spark.cosmos.preferredRegions\", \"<Region1>,<Region2>\")\r\n",
        "\r\n",
        "YOURDATAFRAME.write.format(\"cosmos.oltp\")\\\r\n",
        "    .option(\"spark.synapse.linkedService\", \"<enter linked service name>\")\\\r\n",
        "    .option(\"spark.cosmos.container\", \"<enter container name>\")\\\r\n",
        "    .option(\"spark.cosmos.write.upsertEnabled\", \"true\")\\\r\n",
        "    .mode('append')\\\r\n",
        "    .save()"
      ]
    },
    {
      "cell_type": "code",
      "execution_count": null,
      "outputs": [],
      "metadata": {
        "jupyter": {
          "source_hidden": false,
          "outputs_hidden": false
        },
        "nteract": {
          "transient": {
            "deleting": false
          }
        },
        "collapsed": true
      },
      "source": [
        "# Load streaming DataFrame from Azure Cosmos DB container\r\n",
        "# To select a preferred list of regions in a multi-region Azure Cosmos DB account, add .option(\"spark.cosmos.preferredRegions\", \"<Region1>,<Region2>\")\r\n",
        "\r\n",
        "dfStream = spark.readStream\\\r\n",
        "    .format(\"cosmos.oltp\")\\\r\n",
        "    .option(\"spark.synapse.linkedService\", \"<enter linked service name>\")\\\r\n",
        "    .option(\"spark.cosmos.container\", \"<enter container name>\")\\\r\n",
        "    .option(\"spark.cosmos.changeFeed.readEnabled\", \"true\")\\\r\n",
        "    .option(\"spark.cosmos.changeFeed.startFromTheBeginning\", \"true\")\\\r\n",
        "    .option(\"spark.cosmos.changeFeed.checkpointLocation\", \"/localReadCheckpointFolder\")\\\r\n",
        "    .option(\"spark.cosmos.changeFeed.queryName\", \"streamQuery\")\\\r\n",
        "    .load()"
      ]
    },
    {
      "cell_type": "code",
      "execution_count": null,
      "outputs": [],
      "metadata": {
        "jupyter": {
          "source_hidden": false,
          "outputs_hidden": false
        },
        "nteract": {
          "transient": {
            "deleting": false
          }
        },
        "collapsed": true
      },
      "source": [
        "# Write streaming DataFrame to Cosmos DB container\r\n",
        "# To select a preferred list of regions in a multi-region Azure Cosmos DB account, add .option(\"spark.cosmos.preferredRegions\", \"<Region1>,<Region2>\")\r\n",
        "\r\n",
        "# If you are using managed private endpoints for Azure Cosmos DB analytical store and using batch writes/reads and/or streaming writes/reads to transactional store you should set connectionMode to Gateway. \r\n",
        "\r\n",
        "streamQuery = dfStream\\\r\n",
        "        .writeStream\\\r\n",
        "        .format(\"cosmos.oltp\")\\\r\n",
        "        .outputMode(\"append\")\\\r\n",
        "        .option(\"checkpointLocation\", \"/localWriteCheckpointFolder\")\\\r\n",
        "        .option(\"spark.synapse.linkedService\", \"<enter linked service name>\")\\\r\n",
        "        .option(\"spark.cosmos.container\", \"<enter container name>\")\\\r\n",
        "        .option(\"spark.cosmos.connection.mode\", \"gateway\")\\\r\n",
        "        .start()\r\n",
        "\r\n",
        "streamQuery.awaitTermination()"
      ]
    }
  ],
  "metadata": {
    "save_output": true,
    "kernelspec": {
      "name": "synapse_pyspark",
      "display_name": "python"
    },
    "language_info": {
      "name": "python"
    },
    "synapse_widget": {
      "version": "0.1",
      "state": {}
    }
  }
}