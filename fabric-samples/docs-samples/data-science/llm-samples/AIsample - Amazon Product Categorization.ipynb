{
 "cells": [
  {
   "cell_type": "markdown",
   "id": "ea909fa1-f170-4b70-8608-11334c35fdf8",
   "metadata": {
    "nteract": {
     "transient": {
      "deleting": false
     }
    }
   },
   "source": [
    "# Leverage LLMs for Amazon Product Categorization"
   ]
  },
  {
   "cell_type": "markdown",
   "id": "552e1e82-c394-4191-847a-c8874dd984ac",
   "metadata": {
    "nteract": {
     "transient": {
      "deleting": false
     }
    }
   },
   "source": [
    "## Introduction\n",
    "\n",
    "In this notebook, you'll learn how to leverage the native large language model (LLM) endpoints in Microsoft Fabric. The scenario is to use SynapseML and LangChain to build an LLM model to categorize Amazon products to relevant categories based on their name and description. \n",
    "\n",
    "The main steps in this notebook are:\n",
    "\n",
    "1. Import and Install required libraries\n",
    "2. Load the data\n",
    "3. Leverage SynapseML and LangChain to create an LLM model\n",
    "4. Demonstrate the model performance\n",
    "\n",
    "#### Prerequisites\n",
    "\n",
    "- In order to leverage LLM programming in Microsoft Fabric, you would require a paid Fabric capacity (F64 or higher). Read [here](https://aka.ms/fabric/copilot-capacity) about the capacity requirements.\n",
    "\n",
    "- [Add a lakehouse](https://aka.ms/fabric/addlakehouse) to this notebook. You'll be downloading data from a public blob and storing the data in the lakehouse. \n",
    "\n",
    "\n"
   ]
  },
  {
   "cell_type": "markdown",
   "id": "ca53e841-9f76-44f2-9f1e-88b6db2fe9b6",
   "metadata": {
    "nteract": {
     "transient": {
      "deleting": false
     }
    }
   },
   "source": [
    "## Step 1: Install and import required libraries\n",
    "\n",
    "Before we move forward with categorization of Amazon products, it is imperative to first install LangChain and then import the essential libraries from LangChain, Spark, and SynapseML."
   ]
  },
  {
   "cell_type": "code",
   "execution_count": null,
   "id": "864a8d53-d904-4a7f-bfdb-60c9f440bab3",
   "metadata": {
    "jupyter": {
     "outputs_hidden": false,
     "source_hidden": false
    },
    "nteract": {
     "transient": {
      "deleting": false
     }
    }
   },
   "outputs": [
    {
     "data": {
      "application/vnd.livy.statement-meta+json": {
       "execution_finish_time": "2024-04-19T00:27:58.8005944Z",
       "execution_start_time": "2024-04-19T00:27:48.6014749Z",
       "livy_statement_state": "available",
       "parent_msg_id": "f1a47d76-68b6-4148-9d66-974cb714dcc5",
       "queued_time": "2024-04-19T00:27:47.8198298Z",
       "session_id": "a4dd0a71-9384-41ec-bbf3-76fb7d5f449d",
       "session_start_time": null,
       "spark_pool": null,
       "state": "finished",
       "statement_id": 30,
       "statement_ids": [
        26,
        27,
        28,
        29,
        30
       ]
      },
      "text/plain": [
       "StatementMeta(, a4dd0a71-9384-41ec-bbf3-76fb7d5f449d, 30, Finished, Available)"
      ]
     },
     "metadata": {},
     "output_type": "display_data"
    },
    {
     "name": "stdout",
     "output_type": "stream",
     "text": [
      "\n",
      "\u001b[1m[\u001b[0m\u001b[34;49mnotice\u001b[0m\u001b[1;39;49m]\u001b[0m\u001b[39;49m A new release of pip is available: \u001b[0m\u001b[31;49m23.1.2\u001b[0m\u001b[39;49m -> \u001b[0m\u001b[32;49m24.0\u001b[0m\n",
      "\u001b[1m[\u001b[0m\u001b[34;49mnotice\u001b[0m\u001b[1;39;49m]\u001b[0m\u001b[39;49m To update, run: \u001b[0m\u001b[32;49mpython -m pip install --upgrade pip\u001b[0m\n",
      "Note: you may need to restart the kernel to use updated packages.\n",
      "Warning: PySpark kernel has been restarted to use updated packages.\n",
      "\n"
     ]
    }
   ],
   "source": [
    "%pip install openai==0.28.1 | grep -v 'already satisfied'"
   ]
  },
  {
   "cell_type": "code",
   "execution_count": null,
   "id": "05e8adb9-779a-4d82-ba3a-2a929e1bf3e8",
   "metadata": {
    "jupyter": {
     "outputs_hidden": false,
     "source_hidden": false
    },
    "nteract": {
     "transient": {
      "deleting": false
     }
    }
   },
   "outputs": [
    {
     "data": {
      "application/vnd.livy.statement-meta+json": {
       "execution_finish_time": "2024-04-19T00:28:16.1222311Z",
       "execution_start_time": "2024-04-19T00:28:05.6378652Z",
       "livy_statement_state": "available",
       "parent_msg_id": "1795f434-d405-4205-9aba-28b4208d7ea6",
       "queued_time": "2024-04-19T00:28:05.2072886Z",
       "session_id": "a4dd0a71-9384-41ec-bbf3-76fb7d5f449d",
       "session_start_time": null,
       "spark_pool": null,
       "state": "finished",
       "statement_id": 36,
       "statement_ids": [
        32,
        33,
        34,
        35,
        36
       ]
      },
      "text/plain": [
       "StatementMeta(, a4dd0a71-9384-41ec-bbf3-76fb7d5f449d, 36, Finished, Available)"
      ]
     },
     "metadata": {},
     "output_type": "display_data"
    },
    {
     "name": "stdout",
     "output_type": "stream",
     "text": [
      "\n",
      "\u001b[1m[\u001b[0m\u001b[34;49mnotice\u001b[0m\u001b[1;39;49m]\u001b[0m\u001b[39;49m A new release of pip is available: \u001b[0m\u001b[31;49m23.1.2\u001b[0m\u001b[39;49m -> \u001b[0m\u001b[32;49m24.0\u001b[0m\n",
      "\u001b[1m[\u001b[0m\u001b[34;49mnotice\u001b[0m\u001b[1;39;49m]\u001b[0m\u001b[39;49m To update, run: \u001b[0m\u001b[32;49mpython -m pip install --upgrade pip\u001b[0m\n",
      "Note: you may need to restart the kernel to use updated packages.\n",
      "Warning: PySpark kernel has been restarted to use updated packages.\n",
      "\n"
     ]
    }
   ],
   "source": [
    "%pip install openai langchain==0.0.331 | grep -v 'already satisfied'"
   ]
  },
  {
   "cell_type": "code",
   "execution_count": null,
   "id": "336c8d76-eecb-4bf6-a1cf-00741bcec4b2",
   "metadata": {
    "jupyter": {
     "outputs_hidden": false,
     "source_hidden": false
    },
    "nteract": {
     "transient": {
      "deleting": false
     }
    }
   },
   "outputs": [
    {
     "data": {
      "application/vnd.livy.statement-meta+json": {
       "execution_finish_time": "2024-04-19T00:28:22.1167063Z",
       "execution_start_time": "2024-04-19T00:28:21.1041734Z",
       "livy_statement_state": "available",
       "parent_msg_id": "33291121-ab9e-4155-85f3-c73ec5065fb4",
       "queued_time": "2024-04-19T00:27:46.0297697Z",
       "session_id": "a4dd0a71-9384-41ec-bbf3-76fb7d5f449d",
       "session_start_time": null,
       "spark_pool": null,
       "state": "finished",
       "statement_id": 38,
       "statement_ids": [
        38
       ]
      },
      "text/plain": [
       "StatementMeta(, a4dd0a71-9384-41ec-bbf3-76fb7d5f449d, 38, Finished, Available)"
      ]
     },
     "metadata": {},
     "output_type": "display_data"
    }
   ],
   "source": [
    "import os, openai, langchain, uuid\n",
    "os.environ['OPENAI_API_VERSION'] = '2023-05-15'\n",
    "from langchain.chat_models import AzureChatOpenAI\n",
    "from langchain.chains import TransformChain, LLMChain, SimpleSequentialChain\n",
    "from langchain.prompts.chat import (\n",
    "    ChatPromptTemplate,\n",
    "    SystemMessagePromptTemplate,\n",
    "    AIMessagePromptTemplate,\n",
    "    HumanMessagePromptTemplate,\n",
    ")\n",
    "from langchain.schema.messages import HumanMessage, SystemMessage"
   ]
  },
  {
   "cell_type": "markdown",
   "id": "06587a66-9601-4f34-b997-f29713ed6c8a",
   "metadata": {
    "nteract": {
     "transient": {
      "deleting": false
     }
    }
   },
   "source": [
    "## Step 2: Load the data"
   ]
  },
  {
   "cell_type": "markdown",
   "id": "7097ce01-2cb1-4167-bf72-44d33426006b",
   "metadata": {
    "nteract": {
     "transient": {
      "deleting": false
     }
    }
   },
   "source": [
    "### Dataset\n",
    "\n",
    "The dataset contains information about 7996 different products that are sold on Amazon. The products are represented by attributes such as `Product_Name`, `About_Product`, `Technical_Details`, `Shipping_Weight`, and `Product_Specification`."
   ]
  },
  {
   "cell_type": "markdown",
   "id": "d95a20eb-0217-4b35-bade-d63880dbd912",
   "metadata": {
    "nteract": {
     "transient": {
      "deleting": false
     }
    }
   },
   "source": [
    "### Download dataset and upload to lakehouse\n",
    "\n",
    "> [!TIP]\n",
    "> By defining the following parameters, you can use this notebook with different datasets easily.\n"
   ]
  },
  {
   "cell_type": "code",
   "execution_count": null,
   "id": "10bc1c57-af7c-4519-b2dc-0b17210faa2b",
   "metadata": {
    "jupyter": {
     "outputs_hidden": false,
     "source_hidden": false
    },
    "nteract": {
     "transient": {
      "deleting": false
     }
    }
   },
   "outputs": [
    {
     "data": {
      "application/vnd.livy.statement-meta+json": {
       "execution_finish_time": "2024-04-19T00:28:22.8589012Z",
       "execution_start_time": "2024-04-19T00:28:22.5053589Z",
       "livy_statement_state": "available",
       "parent_msg_id": "6794181d-e8f3-4ce5-90f0-930460df9e23",
       "queued_time": "2024-04-19T00:27:46.112183Z",
       "session_id": "a4dd0a71-9384-41ec-bbf3-76fb7d5f449d",
       "session_start_time": null,
       "spark_pool": null,
       "state": "finished",
       "statement_id": 39,
       "statement_ids": [
        39
       ]
      },
      "text/plain": [
       "StatementMeta(, a4dd0a71-9384-41ec-bbf3-76fb7d5f449d, 39, Finished, Available)"
      ]
     },
     "metadata": {},
     "output_type": "display_data"
    }
   ],
   "source": [
    "IS_CUSTOM_DATA = False  # if TRUE, dataset has to be uploaded manually\n",
    "\n",
    "DATA_FOLDER = \"Files/amazon-products\"  # folder with data files\n",
    "DATA_FILE = \"amazon_products.csv\"  # data file name"
   ]
  },
  {
   "cell_type": "markdown",
   "id": "6ccfefcd-046a-40df-a480-43ef225b7fb0",
   "metadata": {
    "nteract": {
     "transient": {
      "deleting": false
     }
    }
   },
   "source": [
    "This code downloads a publicly available version of the dataset and then stores it in a Fabric lakehouse.\n",
    "\n",
    "> [!IMPORTANT]\n",
    "> **Make sure you [add a lakehouse](https://aka.ms/fabric/addlakehouse) to the notebook before running it. Failure to do so will result in an error.**"
   ]
  },
  {
   "cell_type": "code",
   "execution_count": null,
   "id": "4f9f6a76-7286-4184-af3f-d445bee50076",
   "metadata": {
    "jupyter": {
     "outputs_hidden": false,
     "source_hidden": false
    },
    "nteract": {
     "transient": {
      "deleting": false
     }
    }
   },
   "outputs": [
    {
     "data": {
      "application/vnd.livy.statement-meta+json": {
       "execution_finish_time": "2024-04-19T00:28:23.6314345Z",
       "execution_start_time": "2024-04-19T00:28:23.2734672Z",
       "livy_statement_state": "available",
       "parent_msg_id": "501d7b05-387b-4845-ad31-52a2359af432",
       "queued_time": "2024-04-19T00:27:46.1696805Z",
       "session_id": "a4dd0a71-9384-41ec-bbf3-76fb7d5f449d",
       "session_start_time": null,
       "spark_pool": null,
       "state": "finished",
       "statement_id": 40,
       "statement_ids": [
        40
       ]
      },
      "text/plain": [
       "StatementMeta(, a4dd0a71-9384-41ec-bbf3-76fb7d5f449d, 40, Finished, Available)"
      ]
     },
     "metadata": {},
     "output_type": "display_data"
    },
    {
     "name": "stdout",
     "output_type": "stream",
     "text": [
      "Downloaded demo data files into lakehouse.\n"
     ]
    }
   ],
   "source": [
    "if not IS_CUSTOM_DATA:\n",
    "\n",
    "    import os, requests\n",
    "    # Download demo data files into lakehouse if not exist\n",
    "    remote_url = \"https://synapseaisolutionsa.blob.core.windows.net/public/AmazonProducts\"\n",
    "    fname = \"amazon_products.csv\"\n",
    "    download_path = f\"/lakehouse/default/{DATA_FOLDER}/raw\"\n",
    "\n",
    "    if not os.path.exists(\"/lakehouse/default\"):\n",
    "        raise FileNotFoundError(\"Default lakehouse not found, please add a lakehouse and restart the session.\")\n",
    "    os.makedirs(download_path, exist_ok=True)\n",
    "    if not os.path.exists(f\"{download_path}/{fname}\"):\n",
    "        r = requests.get(f\"{remote_url}/{fname}\", timeout=30)\n",
    "        with open(f\"{download_path}/{fname}\", \"wb\") as f:\n",
    "            f.write(r.content)\n",
    "    print(\"Downloaded demo data files into lakehouse.\")"
   ]
  },
  {
   "cell_type": "markdown",
   "id": "463c560b-a647-43ba-bccf-77811200070d",
   "metadata": {
    "nteract": {
     "transient": {
      "deleting": false
     }
    }
   },
   "source": [
    "### Read raw data from the lakehouse\n",
    "\n",
    "Reads raw data from the **Files** section of the lakehouse."
   ]
  },
  {
   "cell_type": "code",
   "execution_count": null,
   "id": "382f1798-26b9-4248-a669-e604d422781a",
   "metadata": {
    "jupyter": {
     "outputs_hidden": false,
     "source_hidden": false
    },
    "nteract": {
     "transient": {
      "deleting": false
     }
    }
   },
   "outputs": [
    {
     "data": {
      "application/vnd.livy.statement-meta+json": {
       "execution_finish_time": "2024-04-19T00:28:26.9520225Z",
       "execution_start_time": "2024-04-19T00:28:24.0350531Z",
       "livy_statement_state": "available",
       "parent_msg_id": "228ac037-1cb8-4752-aff6-11cba61878a5",
       "queued_time": "2024-04-19T00:27:46.2739701Z",
       "session_id": "a4dd0a71-9384-41ec-bbf3-76fb7d5f449d",
       "session_start_time": null,
       "spark_pool": null,
       "state": "finished",
       "statement_id": 41,
       "statement_ids": [
        41
       ]
      },
      "text/plain": [
       "StatementMeta(, a4dd0a71-9384-41ec-bbf3-76fb7d5f449d, 41, Finished, Available)"
      ]
     },
     "metadata": {},
     "output_type": "display_data"
    }
   ],
   "source": [
    "df_spark = (\n",
    "    spark.read.format(\"csv\")\n",
    "    .option(\"header\", \"true\")\n",
    "    .option(\"inferSchema\", True)\n",
    "    .load(f\"{DATA_FOLDER}/raw/{DATA_FILE}\")\n",
    "    .cache()\n",
    ")"
   ]
  },
  {
   "cell_type": "markdown",
   "id": "9c888679-3cba-4900-875f-4d88d791af59",
   "metadata": {
    "nteract": {
     "transient": {
      "deleting": false
     }
    }
   },
   "source": [
    "### Display raw data\n",
    "\n",
    "Explore the raw data using the `display` command. For more information, see [Notebook visualization in Microsoft Fabric](https://aka.ms/fabric/visualization)."
   ]
  },
  {
   "cell_type": "code",
   "execution_count": null,
   "id": "9ffc1bb8-cd6a-43c3-8325-92662c4132dd",
   "metadata": {
    "jupyter": {
     "outputs_hidden": false,
     "source_hidden": false
    },
    "nteract": {
     "transient": {
      "deleting": false
     }
    }
   },
   "outputs": [
    {
     "data": {
      "application/vnd.livy.statement-meta+json": {
       "execution_finish_time": "2024-04-19T00:28:28.713566Z",
       "execution_start_time": "2024-04-19T00:28:27.3806969Z",
       "livy_statement_state": "available",
       "parent_msg_id": "2daa0df2-9116-4bfa-9d80-04d10c095e03",
       "queued_time": "2024-04-19T00:27:46.2825672Z",
       "session_id": "a4dd0a71-9384-41ec-bbf3-76fb7d5f449d",
       "session_start_time": null,
       "spark_pool": null,
       "state": "finished",
       "statement_id": 42,
       "statement_ids": [
        42
       ]
      },
      "text/plain": [
       "StatementMeta(, a4dd0a71-9384-41ec-bbf3-76fb7d5f449d, 42, Finished, Available)"
      ]
     },
     "metadata": {},
     "output_type": "display_data"
    },
    {
     "data": {
      "application/vnd.synapse.widget-view+json": {
       "widget_id": "fc88e12e-8cd4-42e1-8005-e0f5e9b38859",
       "widget_type": "Synapse.DataFrame"
      },
      "text/plain": [
       "SynapseWidget(Synapse.DataFrame, fc88e12e-8cd4-42e1-8005-e0f5e9b38859)"
      ]
     },
     "metadata": {},
     "output_type": "display_data"
    }
   ],
   "source": [
    "display(df_spark)"
   ]
  },
  {
   "cell_type": "code",
   "execution_count": null,
   "id": "3aa0db0c-fd7a-4cac-8fdd-af37a1eac604",
   "metadata": {
    "jupyter": {
     "outputs_hidden": false,
     "source_hidden": false
    },
    "nteract": {
     "transient": {
      "deleting": false
     }
    }
   },
   "outputs": [
    {
     "data": {
      "application/vnd.livy.statement-meta+json": {
       "execution_finish_time": "2024-04-19T00:28:29.4209533Z",
       "execution_start_time": "2024-04-19T00:28:29.0703475Z",
       "livy_statement_state": "available",
       "parent_msg_id": "b66776b3-f0ef-42c4-a081-85154127a990",
       "queued_time": "2024-04-19T00:27:46.3404354Z",
       "session_id": "a4dd0a71-9384-41ec-bbf3-76fb7d5f449d",
       "session_start_time": null,
       "spark_pool": null,
       "state": "finished",
       "statement_id": 43,
       "statement_ids": [
        43
       ]
      },
      "text/plain": [
       "StatementMeta(, a4dd0a71-9384-41ec-bbf3-76fb7d5f449d, 43, Finished, Available)"
      ]
     },
     "metadata": {},
     "output_type": "display_data"
    },
    {
     "data": {
      "text/plain": [
       "['Product_Name',\n",
       " 'About_Product',\n",
       " 'Technical_Details',\n",
       " 'Shipping_Weight',\n",
       " 'Product_Specification']"
      ]
     },
     "execution_count": null,
     "metadata": {},
     "output_type": "execute_result"
    }
   ],
   "source": [
    "# List the columns of the Spark DataFrame\n",
    "df_spark.columns"
   ]
  },
  {
   "cell_type": "code",
   "execution_count": null,
   "id": "30e40899-4ebb-4e61-9931-028a87673695",
   "metadata": {
    "jupyter": {
     "outputs_hidden": false,
     "source_hidden": false
    },
    "nteract": {
     "transient": {
      "deleting": false
     }
    }
   },
   "outputs": [
    {
     "data": {
      "application/vnd.livy.statement-meta+json": {
       "execution_finish_time": "2024-04-19T00:28:30.1970111Z",
       "execution_start_time": "2024-04-19T00:28:29.8361654Z",
       "livy_statement_state": "available",
       "parent_msg_id": "1e2a149f-26e2-4f18-88a3-49cf29480e51",
       "queued_time": "2024-04-19T00:27:46.4043198Z",
       "session_id": "a4dd0a71-9384-41ec-bbf3-76fb7d5f449d",
       "session_start_time": null,
       "spark_pool": null,
       "state": "finished",
       "statement_id": 44,
       "statement_ids": [
        44
       ]
      },
      "text/plain": [
       "StatementMeta(, a4dd0a71-9384-41ec-bbf3-76fb7d5f449d, 44, Finished, Available)"
      ]
     },
     "metadata": {},
     "output_type": "display_data"
    },
    {
     "name": "stdout",
     "output_type": "stream",
     "text": [
      "root\n",
      " |-- Product_Name: string (nullable = true)\n",
      " |-- About_Product: string (nullable = true)\n",
      " |-- Technical_Details: string (nullable = true)\n",
      " |-- Shipping_Weight: string (nullable = true)\n",
      " |-- Product_Specification: string (nullable = true)\n",
      "\n"
     ]
    }
   ],
   "source": [
    "# Display DataFrame schema\n",
    "df_spark.printSchema()"
   ]
  },
  {
   "cell_type": "markdown",
   "id": "3c19e284-3ba3-4495-8225-7b2a51d3d1ef",
   "metadata": {
    "nteract": {
     "transient": {
      "deleting": false
     }
    }
   },
   "source": [
    "## Step 3: Create the LLM model\n",
    "\n",
    "Leverage SynapseML and LangChain to initialize a conversational agent that utilizes the specified GPT-3.5 model hosted on Azure to group Amazon products to relevant categories.\n",
    "\n",
    "> [!TIP]\n",
    "> You don't need to provide any subscription keys or reference any resource ID on Azure."
   ]
  },
  {
   "cell_type": "code",
   "execution_count": null,
   "id": "3f9cb24c-f4ea-4f80-8f2c-1a9d598abe41",
   "metadata": {
    "jupyter": {
     "outputs_hidden": false,
     "source_hidden": false
    },
    "nteract": {
     "transient": {
      "deleting": false
     }
    }
   },
   "outputs": [
    {
     "data": {
      "application/vnd.livy.statement-meta+json": {
       "execution_finish_time": "2024-04-19T00:28:30.9412849Z",
       "execution_start_time": "2024-04-19T00:28:30.5798939Z",
       "livy_statement_state": "available",
       "parent_msg_id": "4c1cc0e3-557f-498a-973e-5774e383fbf6",
       "queued_time": "2024-04-19T00:27:46.4633166Z",
       "session_id": "a4dd0a71-9384-41ec-bbf3-76fb7d5f449d",
       "session_start_time": null,
       "spark_pool": null,
       "state": "finished",
       "statement_id": 45,
       "statement_ids": [
        45
       ]
      },
      "text/plain": [
       "StatementMeta(, a4dd0a71-9384-41ec-bbf3-76fb7d5f449d, 45, Finished, Available)"
      ]
     },
     "metadata": {},
     "output_type": "display_data"
    }
   ],
   "source": [
    "llm = AzureChatOpenAI(\n",
    "    deployment_name='gpt-35-turbo',\n",
    "    model_name='gpt-35-turbo',\n",
    "    temperature=0.1,\n",
    "    verbose=False,\n",
    ")\n",
    "\n",
    "template = \"\"\"\n",
    "    Your job is to determine the product category.\n",
    "    Please use all information available in the dataset to determine the product category as if this is going to be sold on Amazon.\n",
    "    Provide multiple categories separated by a comma if multiple categories are approprate.\n",
    "    If you are unsure or a category cannot be determined, say \"Unknown\".\n",
    "    Write the category as a single word or short phrase.\n",
    "    Examples:\n",
    "    DC Cover Girls: Black Canary by Joëlle Jones Statue: Toys,\n",
    "    Pacific Play Tent Agility Dog Training Chute: Pet Supplies.\"\"\"\n",
    "\n",
    "system_message = SystemMessage(content=template)\n",
    "human_template= \"{text}\"\n",
    "human_message_prompt = HumanMessagePromptTemplate.from_template(human_template)\n",
    "chat_prompt = ChatPromptTemplate.from_messages([system_message, human_message_prompt])\n",
    "chain = LLMChain(llm=llm, prompt=chat_prompt)"
   ]
  },
  {
   "cell_type": "markdown",
   "id": "b2727cc5-53b5-410b-abe9-7c92da5f731b",
   "metadata": {
    "nteract": {
     "transient": {
      "deleting": false
     }
    }
   },
   "source": [
    "## Step 4: Demonstrate the model performance\n",
    "\n",
    "Create a small sample of the spark DataFrame to validate the performance."
   ]
  },
  {
   "cell_type": "code",
   "execution_count": null,
   "id": "0a678d80-0468-4927-a3fa-60f9693e8c30",
   "metadata": {
    "jupyter": {
     "outputs_hidden": false,
     "source_hidden": false
    },
    "nteract": {
     "transient": {
      "deleting": false
     }
    }
   },
   "outputs": [
    {
     "data": {
      "application/vnd.livy.statement-meta+json": {
       "execution_finish_time": "2024-04-19T00:28:31.8077783Z",
       "execution_start_time": "2024-04-19T00:28:31.3226518Z",
       "livy_statement_state": "available",
       "parent_msg_id": "7e66f59d-80b2-4beb-bf66-edee6aa522d0",
       "queued_time": "2024-04-19T00:27:46.5190713Z",
       "session_id": "a4dd0a71-9384-41ec-bbf3-76fb7d5f449d",
       "session_start_time": null,
       "spark_pool": null,
       "state": "finished",
       "statement_id": 46,
       "statement_ids": [
        46
       ]
      },
      "text/plain": [
       "StatementMeta(, a4dd0a71-9384-41ec-bbf3-76fb7d5f449d, 46, Finished, Available)"
      ]
     },
     "metadata": {},
     "output_type": "display_data"
    },
    {
     "data": {
      "application/vnd.synapse.widget-view+json": {
       "widget_id": "4d2f41df-63c3-4b45-a8ca-251d0f9c1ba4",
       "widget_type": "Synapse.DataFrame"
      },
      "text/plain": [
       "SynapseWidget(Synapse.DataFrame, 4d2f41df-63c3-4b45-a8ca-251d0f9c1ba4)"
      ]
     },
     "metadata": {},
     "output_type": "display_data"
    }
   ],
   "source": [
    "# Create a sample DataFrame\n",
    "df_sample = df_spark.sample(False, 0.2, seed=0).limit(30)\n",
    "display(df_sample)"
   ]
  },
  {
   "cell_type": "code",
   "execution_count": null,
   "id": "ee04a37e-4fcf-4dad-bbf6-4856bd57c4c2",
   "metadata": {
    "jupyter": {
     "outputs_hidden": false,
     "source_hidden": false
    },
    "nteract": {
     "transient": {
      "deleting": false
     }
    }
   },
   "outputs": [
    {
     "data": {
      "application/vnd.livy.statement-meta+json": {
       "execution_finish_time": "2024-04-19T00:29:43.798236Z",
       "execution_start_time": "2024-04-19T00:28:32.2012768Z",
       "livy_statement_state": "available",
       "parent_msg_id": "8e8a6445-9072-446d-b0fd-7dc0c8980c6d",
       "queued_time": "2024-04-19T00:27:46.5805144Z",
       "session_id": "a4dd0a71-9384-41ec-bbf3-76fb7d5f449d",
       "session_start_time": null,
       "spark_pool": null,
       "state": "finished",
       "statement_id": 47,
       "statement_ids": [
        47
       ]
      },
      "text/plain": [
       "StatementMeta(, a4dd0a71-9384-41ec-bbf3-76fb7d5f449d, 47, Finished, Available)"
      ]
     },
     "metadata": {},
     "output_type": "display_data"
    },
    {
     "data": {
      "application/vnd.synapse.widget-view+json": {
       "widget_id": "397ce9d1-0f1f-42a3-8055-dad7126026f4",
       "widget_type": "Synapse.DataFrame"
      },
      "text/plain": [
       "SynapseWidget(Synapse.DataFrame, 397ce9d1-0f1f-42a3-8055-dad7126026f4)"
      ]
     },
     "metadata": {},
     "output_type": "display_data"
    }
   ],
   "source": [
    "import warnings\n",
    "warnings.filterwarnings(\"ignore\", category=DeprecationWarning) \n",
    "from synapse.ml.services.langchain import LangchainTransformer\n",
    "\n",
    "transformer = (\n",
    "    LangchainTransformer()\n",
    "    .setInputCol(\"Product_Name\")\n",
    "    .setOutputCol(\"Product_Category\")\n",
    "    .setChain(chain)\n",
    ")\n",
    "display(transformer.transform(df_sample))"
   ]
  },
  {
   "cell_type": "markdown",
   "id": "100434f2-5400-4f27-9305-d4930833455b",
   "metadata": {
    "nteract": {
     "transient": {
      "deleting": false
     }
    }
   },
   "source": [
    "Save the new spark DataFrame that contains the product categories into the lakehouse."
   ]
  },
  {
   "cell_type": "code",
   "execution_count": null,
   "id": "11897ae4-1549-431e-90fb-0639e3c637f8",
   "metadata": {
    "jupyter": {
     "outputs_hidden": false,
     "source_hidden": false
    },
    "nteract": {
     "transient": {
      "deleting": false
     }
    }
   },
   "outputs": [
    {
     "data": {
      "application/vnd.livy.statement-meta+json": {
       "execution_finish_time": "2024-04-19T00:29:49.7621454Z",
       "execution_start_time": "2024-04-19T00:29:44.1984777Z",
       "livy_statement_state": "available",
       "parent_msg_id": "bff24e11-1488-4dad-a0f8-7a08f1fa32b1",
       "queued_time": "2024-04-19T00:27:46.6537425Z",
       "session_id": "a4dd0a71-9384-41ec-bbf3-76fb7d5f449d",
       "session_start_time": null,
       "spark_pool": null,
       "state": "finished",
       "statement_id": 48,
       "statement_ids": [
        48
       ]
      },
      "text/plain": [
       "StatementMeta(, a4dd0a71-9384-41ec-bbf3-76fb7d5f449d, 48, Finished, Available)"
      ]
     },
     "metadata": {},
     "output_type": "display_data"
    }
   ],
   "source": [
    "# Save the new spark DataFrame with product category into the lakehouse\n",
    "df_sample.write.format(\"delta\").mode(\"overwrite\").save(f\"{DATA_FOLDER}/df_sample_productCategory\")"
   ]
  }
 ],
 "metadata": {
  "dependencies": {
   "lakehouse": {
    "default_lakehouse": "b654319a-9fab-4792-a0b6-f903a165ec31",
    "default_lakehouse_name": "LLM_AJ",
    "default_lakehouse_workspace_id": "6ec703a3-3dc7-44d6-ab48-5edda0d1b4e8",
    "known_lakehouses": [
     {
      "id": "b654319a-9fab-4792-a0b6-f903a165ec31"
     }
    ]
   }
  },
  "kernel_info": {
   "name": "synapse_pyspark"
  },
  "kernelspec": {
   "display_name": "Synapse PySpark",
   "language": "Python",
   "name": "synapse_pyspark"
  },
  "language_info": {
   "name": "python"
  },
  "notebook_environment": {},
  "nteract": {
   "version": "nteract-front-end@1.0.0"
  },
  "save_output": true,
  "spark_compute": {
   "compute_id": "/trident/default",
   "session_options": {
    "conf": {},
    "enableDebugMode": false
   }
  }
 },
 "nbformat": 4,
 "nbformat_minor": 5
}
