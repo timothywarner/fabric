{
 "cells": [
  {
   "cell_type": "markdown",
   "id": "b1cce6d9-bb3c-41be-8e30-06f2bf28020f",
   "metadata": {
    "nteract": {
     "transient": {
      "deleting": false
     }
    }
   },
   "source": [
    "# Create, evaluate, and score a recommendation system\n"
   ]
  },
  {
   "cell_type": "markdown",
   "id": "d4082704-8c99-4a23-8f26-a0cde6321bed",
   "metadata": {
    "nteract": {
     "transient": {
      "deleting": false
     }
    }
   },
   "source": [
    "## Introduction\n",
    "\n",
    "In this notebook, you walk through the Microsoft Fabric data data science workflow with an end-to-end example. The scenario is to build a book recommendation system for the users based on their preferences.\n",
    "\n",
    "A recommendation system is a class of machine learning algorithms that offers relevant suggestions to the user. Considering a user's past preferences or ratings, a recommendation system would suggest new items to the user that could include movies to watch, books to read, products to buy, etc. Several types of recommendation algorithms exist, but in this notebook you use a model-based collaborative filtering algorithm called **Alternating Least Squares (ALS) matrix factorization**.\n",
    "\n",
    "<img src=\"https://negustpublicblob.blob.core.windows.net/public/recommenders.png\" style=\"width:600px;\"/>\n",
    "\n",
    "ALS attempts to estimate a ratings matrix $R$ as a product of two lower-rank matrices known as \"factor\" matrices such that $R = U^T V$  where $U$ and $V$ can be called user and item matrix, respectively. The general approach is iterative and during each iteration, one of the factor matrices is held constant, while the other is solved using the least squares. Applying this approach alternately to the matrices $U$ and $V$ is guaranteed to monotonically decrease the overall cost function and hence you can iteratively improve the matrix factorization.\n",
    "\n",
    "<img src=\"https://negustpublicblob.blob.core.windows.net/public/Matrixfactor.svg\" style=\"width:600px;\"/>\n",
    "\n",
    "<br/><br/>\n",
    "\n",
    "Please note that this notebook can be modified to use custom data by adjusting certain parameters that will be discussed below. \n",
    "\n",
    "The summary of the main steps you take in this notebook are as following:\n",
    "\n",
    "1. Load the data\n",
    "2. Understand and process the data using exploratory data analysis\n",
    "3. Train a machine learning model using an Alternating Least Squares (ALS) model and track experiments using MLflow and Fabric Autologging feature\n",
    "4. Save the final machine learning model and load it for scoring and making predictions\n",
    "\n",
    "## Prerequisites\n",
    "- Have a lakehouse added to this notebook. You download data from a public blob, and storing that in the lakehouse. "
   ]
  },
  {
   "cell_type": "markdown",
   "id": "62d69d41",
   "metadata": {},
   "source": [
    "## Step 1: Load the data"
   ]
  },
  {
   "cell_type": "markdown",
   "id": "cadadce4-349e-45bf-849f-7c3f61a7f734",
   "metadata": {
    "nteract": {
     "transient": {
      "deleting": false
     }
    }
   },
   "source": [
    "### Dataset\n",
    "\n",
    "The book recommendation dataset in this scenario consists of three separate datasets:\n",
    "\n",
    "**Books.csv**\n",
    "\n",
    "Each book is identified by its International Standard Book Number (ISBN), with invalid values already being removed. Additional information (e.g., title, author, publication year, publisher) has also been obtained from Amazon Web Services. If a book has multiple authors, only the first is listed. URLs are pointing to Amazon provided for cover images in three separate formats.\n",
    "\n",
    "|ISBN|Book-Title|Book-Author|Year-Of-Publication|Publisher|Image-URL-S|Image-URL-M|Image-URL-L|\n",
    "|---|---|---|---|---|---|---|---|\n",
    "|0195153448|Classical Mythology|Mark P. O. Morford|2002|Oxford University Press|http://images.amazon.com/images/P/0195153448.01.THUMBZZZ.jpg|http://images.amazon.com/images/P/0195153448.01.MZZZZZZZ.jpg|http://images.amazon.com/images/P/0195153448.01.LZZZZZZZ.jpg|\n",
    "|0002005018|Clara Callan|Richard Bruce Wright|2001|HarperFlamingo Canada|http://images.amazon.com/images/P/0002005018.01.THUMBZZZ.jpg|http://images.amazon.com/images/P/0002005018.01.MZZZZZZZ.jpg|http://images.amazon.com/images/P/0002005018.01.LZZZZZZZ.jpg|\n",
    "\n",
    "**Ratings.csv**\n",
    "\n",
    "Ratings for each book are either explicit (provided by users, and measured on a scale from 1-10), or implicit (observed without users providing input, and indicated by 0).\n",
    "\n",
    "|User-ID|ISBN|Book-Rating|\n",
    "|---|---|---|\n",
    "|276725|034545104X|0|\n",
    "|276726|0155061224|5|\n",
    "\n",
    "**Users.csv**\n",
    "\n",
    "User IDs, which have been anonymized and mapped to integers. Demographic data (i.e. Location, Age) are provided if available or else contain *null* values.\n",
    "\n",
    "|User-ID|Location|Age|\n",
    "|---|---|---|\n",
    "|1|\"nyc| new york| usa\"||\n",
    "|2|\"stockton| california| usa\"|18.0|\n"
   ]
  },
  {
   "cell_type": "markdown",
   "id": "f76a2b6d",
   "metadata": {},
   "source": [
    "> [!TIP]\n",
    "> By defining the following parameters, you can use this notebook with different datasets easily."
   ]
  },
  {
   "cell_type": "code",
   "execution_count": null,
   "id": "e7b55b11-ccb1-4fbc-b689-5145002cc03c",
   "metadata": {
    "jupyter": {
     "outputs_hidden": false,
     "source_hidden": false
    },
    "nteract": {
     "transient": {
      "deleting": false
     }
    }
   },
   "outputs": [
    {
     "data": {
      "application/vnd.livy.statement-meta+json": {
       "execution_finish_time": "2023-09-11T14:33:13.0252416Z",
       "execution_start_time": "2023-09-11T14:33:11.0747126Z",
       "livy_statement_state": "available",
       "parent_msg_id": "f9e8101b-d929-4451-afda-08153df9145a",
       "queued_time": "2023-09-11T14:33:00.5636513Z",
       "session_id": "db09740a-036f-4e14-9afc-ee8d112e8535",
       "session_start_time": "2023-09-11T14:33:01.6760692Z",
       "spark_jobs": {
        "jobs": [],
        "limit": 20,
        "numbers": {
         "FAILED": 0,
         "RUNNING": 0,
         "SUCCEEDED": 0,
         "UNKNOWN": 0
        },
        "rule": "ALL_DESC"
       },
       "spark_pool": null,
       "state": "finished",
       "statement_id": 3
      },
      "text/plain": [
       "StatementMeta(, db09740a-036f-4e14-9afc-ee8d112e8535, 3, Finished, Available)"
      ]
     },
     "metadata": {},
     "output_type": "display_data"
    }
   ],
   "source": [
    "IS_CUSTOM_DATA = False  # if True, dataset has to be uploaded manually\n",
    "\n",
    "USER_ID_COL = \"User-ID\"  # must not be '_user_id' for this notebook to run successfully\n",
    "ITEM_ID_COL = \"ISBN\"  # must not be '_item_id' for this notebook to run successfully\n",
    "ITEM_INFO_COL = (\n",
    "    \"Book-Title\"  # must not be '_item_info' for this notebook to run successfully\n",
    ")\n",
    "RATING_COL = (\n",
    "    \"Book-Rating\"  # must not be '_rating' for this notebook to run successfully\n",
    ")\n",
    "IS_SAMPLE = True  # if True, use only <SAMPLE_ROWS> rows of data for training; otherwise use all data\n",
    "SAMPLE_ROWS = 5000  # if IS_SAMPLE is True, use only this number of rows for training\n",
    "\n",
    "DATA_FOLDER = \"Files/book-recommendation/\"  # folder containing the datasets\n",
    "ITEMS_FILE = \"Books.csv\"  # file containing the items information\n",
    "USERS_FILE = \"Users.csv\"  # file containing the users information\n",
    "RATINGS_FILE = \"Ratings.csv\"  # file containing the ratings information\n",
    "\n",
    "EXPERIMENT_NAME = \"aisample-recommendation\"  # MLflow experiment name"
   ]
  },
  {
   "cell_type": "markdown",
   "id": "ff6accde-feb6-424c-ad6d-184945dd819b",
   "metadata": {
    "nteract": {
     "transient": {
      "deleting": false
     }
    }
   },
   "source": [
    "### Download dataset and upload to lakehouse\n",
    "\n",
    "The following code will download a publicly available version of the the dataset and then store it in a Fabric lakehouse.\n",
    "\n",
    "> [!IMPORTANT]\n",
    "> **Make sure you [add a lakehouse](https://aka.ms/fabric/addlakehouse) to the notebook before running it. Failure to do so will result in an error.**"
   ]
  },
  {
   "cell_type": "code",
   "execution_count": null,
   "id": "3d7c0b6b-359e-4103-bcdc-cc568cd62bfa",
   "metadata": {
    "jupyter": {
     "outputs_hidden": false,
     "source_hidden": false
    },
    "nteract": {
     "transient": {
      "deleting": false
     }
    }
   },
   "outputs": [
    {
     "data": {
      "application/vnd.livy.statement-meta+json": {
       "execution_finish_time": "2023-09-11T14:33:13.8396711Z",
       "execution_start_time": "2023-09-11T14:33:13.5037164Z",
       "livy_statement_state": "available",
       "parent_msg_id": "1f217844-d0e1-4eb5-94bd-0d76623c5ca4",
       "queued_time": "2023-09-11T14:33:00.5675082Z",
       "session_id": "db09740a-036f-4e14-9afc-ee8d112e8535",
       "session_start_time": null,
       "spark_jobs": {
        "jobs": [],
        "limit": 20,
        "numbers": {
         "FAILED": 0,
         "RUNNING": 0,
         "SUCCEEDED": 0,
         "UNKNOWN": 0
        },
        "rule": "ALL_DESC"
       },
       "spark_pool": null,
       "state": "finished",
       "statement_id": 4
      },
      "text/plain": [
       "StatementMeta(, db09740a-036f-4e14-9afc-ee8d112e8535, 4, Finished, Available)"
      ]
     },
     "metadata": {},
     "output_type": "display_data"
    },
    {
     "name": "stdout",
     "output_type": "stream",
     "text": [
      "Downloaded demo data files into lakehouse.\n"
     ]
    }
   ],
   "source": [
    "if not IS_CUSTOM_DATA:\n",
    "    # Download data files into lakehouse if it does not exist\n",
    "    import os, requests\n",
    "\n",
    "    remote_url = \"https://synapseaisolutionsa.blob.core.windows.net/public/Book-Recommendation-Dataset\"\n",
    "    file_list = [\"Books.csv\", \"Ratings.csv\", \"Users.csv\"]\n",
    "    download_path = f\"/lakehouse/default/{DATA_FOLDER}/raw\"\n",
    "\n",
    "    if not os.path.exists(\"/lakehouse/default\"):\n",
    "        raise FileNotFoundError(\n",
    "            \"Default lakehouse not found, please add a lakehouse and restart the session.\"\n",
    "        )\n",
    "    os.makedirs(download_path, exist_ok=True)\n",
    "    for fname in file_list:\n",
    "        if not os.path.exists(f\"{download_path}/{fname}\"):\n",
    "            r = requests.get(f\"{remote_url}/{fname}\", timeout=30)\n",
    "            with open(f\"{download_path}/{fname}\", \"wb\") as f:\n",
    "                f.write(r.content)\n",
    "    print(\"Downloaded demo data files into lakehouse.\")"
   ]
  },
  {
   "cell_type": "markdown",
   "id": "abd39a7d-2eeb-41de-bde3-d5b6e866679a",
   "metadata": {
    "nteract": {
     "transient": {
      "deleting": false
     }
    }
   },
   "source": [
    "Start recording the time it takes to run this notebook."
   ]
  },
  {
   "cell_type": "code",
   "execution_count": null,
   "id": "1ba87a73-5ca4-4f57-9701-ab23f2fbd6e4",
   "metadata": {
    "jupyter": {
     "outputs_hidden": false,
     "source_hidden": false
    },
    "nteract": {
     "transient": {
      "deleting": false
     }
    }
   },
   "outputs": [
    {
     "data": {
      "application/vnd.livy.statement-meta+json": {
       "execution_finish_time": "2023-09-11T14:33:14.6845416Z",
       "execution_start_time": "2023-09-11T14:33:14.3283275Z",
       "livy_statement_state": "available",
       "parent_msg_id": "e7f63bd2-93a6-4d9e-9ab1-4ee92aca5ea6",
       "queued_time": "2023-09-11T14:33:00.5680881Z",
       "session_id": "db09740a-036f-4e14-9afc-ee8d112e8535",
       "session_start_time": null,
       "spark_jobs": {
        "jobs": [],
        "limit": 20,
        "numbers": {
         "FAILED": 0,
         "RUNNING": 0,
         "SUCCEEDED": 0,
         "UNKNOWN": 0
        },
        "rule": "ALL_DESC"
       },
       "spark_pool": null,
       "state": "finished",
       "statement_id": 5
      },
      "text/plain": [
       "StatementMeta(, db09740a-036f-4e14-9afc-ee8d112e8535, 5, Finished, Available)"
      ]
     },
     "metadata": {},
     "output_type": "display_data"
    }
   ],
   "source": [
    "# Record the notebook running time\n",
    "import time\n",
    "\n",
    "ts = time.time()"
   ]
  },
  {
   "cell_type": "markdown",
   "id": "ca60cbe7-fb02-4f88-b9f9-c426f9bc3f7d",
   "metadata": {
    "nteract": {
     "transient": {
      "deleting": false
     }
    }
   },
   "source": [
    "### Set up the MLflow experiment tracking\n",
    "\n",
    "Extending the MLflow autologging capabilities, autologging works by automatically capturing the values of input parameters and output metrics of a machine learning model as it is being trained. This information is then logged to your workspace, where it can be accessed and visualized using the MLflow APIs or the corresponding experiment in your workspace. For more information, see [Autologging](https://aka.ms/fabric-autologging)."
   ]
  },
  {
   "cell_type": "code",
   "execution_count": null,
   "id": "023beb35-488f-4555-aca5-7513f320e7df",
   "metadata": {},
   "outputs": [
    {
     "data": {
      "application/vnd.livy.statement-meta+json": {
       "execution_finish_time": "2023-09-11T14:33:18.9694569Z",
       "execution_start_time": "2023-09-11T14:33:15.2087969Z",
       "livy_statement_state": "available",
       "parent_msg_id": "b8b9e41b-24e3-4849-8dbc-7068b5284560",
       "queued_time": "2023-09-11T14:33:00.5728205Z",
       "session_id": "db09740a-036f-4e14-9afc-ee8d112e8535",
       "session_start_time": null,
       "spark_jobs": {
        "jobs": [],
        "limit": 20,
        "numbers": {
         "FAILED": 0,
         "RUNNING": 0,
         "SUCCEEDED": 0,
         "UNKNOWN": 0
        },
        "rule": "ALL_DESC"
       },
       "spark_pool": null,
       "state": "finished",
       "statement_id": 6
      },
      "text/plain": [
       "StatementMeta(, db09740a-036f-4e14-9afc-ee8d112e8535, 6, Finished, Available)"
      ]
     },
     "metadata": {},
     "output_type": "display_data"
    }
   ],
   "source": [
    "# Setup MLflow for experiment tracking\n",
    "import mlflow\n",
    "\n",
    "mlflow.set_experiment(EXPERIMENT_NAME)\n",
    "mlflow.autolog(disable=True)  # Disable MLflow autologging"
   ]
  },
  {
   "cell_type": "markdown",
   "id": "f81b3bc9-06b3-4284-ae1f-8224a6e8af15",
   "metadata": {
    "nteract": {
     "transient": {
      "deleting": false
     }
    }
   },
   "source": [
    "> [!NOTE]\n",
    "> If you want to disable Microsoft Fabric autologging in a notebook session, call `mlflow.autolog()` and set `disable=True`."
   ]
  },
  {
   "cell_type": "markdown",
   "id": "919804a2-0f91-42fe-a7f9-c37c6d6899c7",
   "metadata": {
    "nteract": {
     "transient": {
      "deleting": false
     }
    }
   },
   "source": [
    "### Read raw data from the lakehouse\n",
    "\n",
    "Once the right data has landed in the Lakehouse, you can read the three separate datasets into separate Spark DataFrames in the notebook. Note that the file paths in the cell below use the parameters that you defined above."
   ]
  },
  {
   "cell_type": "code",
   "execution_count": null,
   "id": "7afe5521-3fe1-4d15-91a7-10b18a2d7ebc",
   "metadata": {
    "jupyter": {
     "outputs_hidden": false,
     "source_hidden": false
    },
    "nteract": {
     "transient": {
      "deleting": false
     }
    }
   },
   "outputs": [
    {
     "data": {
      "application/vnd.livy.statement-meta+json": {
       "execution_finish_time": "2023-09-11T14:33:27.9671326Z",
       "execution_start_time": "2023-09-11T14:33:19.4896856Z",
       "livy_statement_state": "available",
       "parent_msg_id": "b717fe03-12d9-4429-8811-976a25a13810",
       "queued_time": "2023-09-11T14:33:00.5734525Z",
       "session_id": "db09740a-036f-4e14-9afc-ee8d112e8535",
       "session_start_time": null,
       "spark_jobs": {
        "jobs": [
         {
          "completionTime": "2023-09-11T14:33:25.910GMT",
          "dataRead": 11148510,
          "dataWritten": 0,
          "description": "Job group for statement 7:\ndf_items = (\n    spark.read.option(\"header\", True)\n    .option(\"inferSchema\", True)\n    .csv(f\"{DATA_FOLDER}/raw/{ITEMS_FILE}\")\n    .cache()\n)\n\ndf_ratings = (\n    spark.read.option(\"header\", True)\n    .option(\"inferSchema\", True)\n    .csv(f\"{DATA_FOLDER}/raw/{RATINGS_FILE}\")\n    .cache()\n)\n\ndf_users = (\n    spark.read.option(\"header\", True)\n    .option(\"inferSchema\", True)\n    .csv(f\"{DATA_FOLDER}/raw/{USERS_FILE}\")\n    .cache()\n)",
          "displayName": "csv at NativeMethodAccessorImpl.java:0",
          "jobGroup": "7",
          "jobId": 13,
          "killedTasksSummary": {},
          "name": "csv at NativeMethodAccessorImpl.java:0",
          "numActiveStages": 0,
          "numActiveTasks": 0,
          "numCompletedIndices": 3,
          "numCompletedStages": 1,
          "numCompletedTasks": 3,
          "numFailedStages": 0,
          "numFailedTasks": 0,
          "numKilledTasks": 0,
          "numSkippedStages": 0,
          "numSkippedTasks": 0,
          "numTasks": 3,
          "rowCount": 278860,
          "stageIds": [
           17
          ],
          "status": "SUCCEEDED",
          "submissionTime": "2023-09-11T14:33:25.614GMT",
          "usageDescription": ""
         },
         {
          "completionTime": "2023-09-11T14:33:25.573GMT",
          "dataRead": 65536,
          "dataWritten": 0,
          "description": "Job group for statement 7:\ndf_items = (\n    spark.read.option(\"header\", True)\n    .option(\"inferSchema\", True)\n    .csv(f\"{DATA_FOLDER}/raw/{ITEMS_FILE}\")\n    .cache()\n)\n\ndf_ratings = (\n    spark.read.option(\"header\", True)\n    .option(\"inferSchema\", True)\n    .csv(f\"{DATA_FOLDER}/raw/{RATINGS_FILE}\")\n    .cache()\n)\n\ndf_users = (\n    spark.read.option(\"header\", True)\n    .option(\"inferSchema\", True)\n    .csv(f\"{DATA_FOLDER}/raw/{USERS_FILE}\")\n    .cache()\n)",
          "displayName": "csv at NativeMethodAccessorImpl.java:0",
          "jobGroup": "7",
          "jobId": 12,
          "killedTasksSummary": {},
          "name": "csv at NativeMethodAccessorImpl.java:0",
          "numActiveStages": 0,
          "numActiveTasks": 0,
          "numCompletedIndices": 1,
          "numCompletedStages": 1,
          "numCompletedTasks": 1,
          "numFailedStages": 0,
          "numFailedTasks": 0,
          "numKilledTasks": 0,
          "numSkippedStages": 0,
          "numSkippedTasks": 0,
          "numTasks": 1,
          "rowCount": 1,
          "stageIds": [
           16
          ],
          "status": "SUCCEEDED",
          "submissionTime": "2023-09-11T14:33:25.438GMT",
          "usageDescription": ""
         },
         {
          "completionTime": "2023-09-11T14:33:25.010GMT",
          "dataRead": 22961572,
          "dataWritten": 0,
          "description": "Job group for statement 7:\ndf_items = (\n    spark.read.option(\"header\", True)\n    .option(\"inferSchema\", True)\n    .csv(f\"{DATA_FOLDER}/raw/{ITEMS_FILE}\")\n    .cache()\n)\n\ndf_ratings = (\n    spark.read.option(\"header\", True)\n    .option(\"inferSchema\", True)\n    .csv(f\"{DATA_FOLDER}/raw/{RATINGS_FILE}\")\n    .cache()\n)\n\ndf_users = (\n    spark.read.option(\"header\", True)\n    .option(\"inferSchema\", True)\n    .csv(f\"{DATA_FOLDER}/raw/{USERS_FILE}\")\n    .cache()\n)",
          "displayName": "csv at NativeMethodAccessorImpl.java:0",
          "jobGroup": "7",
          "jobId": 11,
          "killedTasksSummary": {},
          "name": "csv at NativeMethodAccessorImpl.java:0",
          "numActiveStages": 0,
          "numActiveTasks": 0,
          "numCompletedIndices": 6,
          "numCompletedStages": 1,
          "numCompletedTasks": 6,
          "numFailedStages": 0,
          "numFailedTasks": 0,
          "numKilledTasks": 0,
          "numSkippedStages": 0,
          "numSkippedTasks": 0,
          "numTasks": 6,
          "rowCount": 1149781,
          "stageIds": [
           15
          ],
          "status": "SUCCEEDED",
          "submissionTime": "2023-09-11T14:33:24.261GMT",
          "usageDescription": ""
         },
         {
          "completionTime": "2023-09-11T14:33:24.221GMT",
          "dataRead": 65536,
          "dataWritten": 0,
          "description": "Job group for statement 7:\ndf_items = (\n    spark.read.option(\"header\", True)\n    .option(\"inferSchema\", True)\n    .csv(f\"{DATA_FOLDER}/raw/{ITEMS_FILE}\")\n    .cache()\n)\n\ndf_ratings = (\n    spark.read.option(\"header\", True)\n    .option(\"inferSchema\", True)\n    .csv(f\"{DATA_FOLDER}/raw/{RATINGS_FILE}\")\n    .cache()\n)\n\ndf_users = (\n    spark.read.option(\"header\", True)\n    .option(\"inferSchema\", True)\n    .csv(f\"{DATA_FOLDER}/raw/{USERS_FILE}\")\n    .cache()\n)",
          "displayName": "csv at NativeMethodAccessorImpl.java:0",
          "jobGroup": "7",
          "jobId": 10,
          "killedTasksSummary": {},
          "name": "csv at NativeMethodAccessorImpl.java:0",
          "numActiveStages": 0,
          "numActiveTasks": 0,
          "numCompletedIndices": 1,
          "numCompletedStages": 1,
          "numCompletedTasks": 1,
          "numFailedStages": 0,
          "numFailedTasks": 0,
          "numKilledTasks": 0,
          "numSkippedStages": 0,
          "numSkippedTasks": 0,
          "numTasks": 1,
          "rowCount": 1,
          "stageIds": [
           14
          ],
          "status": "SUCCEEDED",
          "submissionTime": "2023-09-11T14:33:24.045GMT",
          "usageDescription": ""
         },
         {
          "completionTime": "2023-09-11T14:33:23.570GMT",
          "dataRead": 73752387,
          "dataWritten": 0,
          "description": "Job group for statement 7:\ndf_items = (\n    spark.read.option(\"header\", True)\n    .option(\"inferSchema\", True)\n    .csv(f\"{DATA_FOLDER}/raw/{ITEMS_FILE}\")\n    .cache()\n)\n\ndf_ratings = (\n    spark.read.option(\"header\", True)\n    .option(\"inferSchema\", True)\n    .csv(f\"{DATA_FOLDER}/raw/{RATINGS_FILE}\")\n    .cache()\n)\n\ndf_users = (\n    spark.read.option(\"header\", True)\n    .option(\"inferSchema\", True)\n    .csv(f\"{DATA_FOLDER}/raw/{USERS_FILE}\")\n    .cache()\n)",
          "displayName": "csv at NativeMethodAccessorImpl.java:0",
          "jobGroup": "7",
          "jobId": 9,
          "killedTasksSummary": {},
          "name": "csv at NativeMethodAccessorImpl.java:0",
          "numActiveStages": 0,
          "numActiveTasks": 0,
          "numCompletedIndices": 8,
          "numCompletedStages": 1,
          "numCompletedTasks": 8,
          "numFailedStages": 0,
          "numFailedTasks": 0,
          "numKilledTasks": 0,
          "numSkippedStages": 0,
          "numSkippedTasks": 0,
          "numTasks": 8,
          "rowCount": 271361,
          "stageIds": [
           13
          ],
          "status": "SUCCEEDED",
          "submissionTime": "2023-09-11T14:33:22.215GMT",
          "usageDescription": ""
         },
         {
          "completionTime": "2023-09-11T14:33:22.083GMT",
          "dataRead": 65536,
          "dataWritten": 0,
          "description": "Job group for statement 7:\ndf_items = (\n    spark.read.option(\"header\", True)\n    .option(\"inferSchema\", True)\n    .csv(f\"{DATA_FOLDER}/raw/{ITEMS_FILE}\")\n    .cache()\n)\n\ndf_ratings = (\n    spark.read.option(\"header\", True)\n    .option(\"inferSchema\", True)\n    .csv(f\"{DATA_FOLDER}/raw/{RATINGS_FILE}\")\n    .cache()\n)\n\ndf_users = (\n    spark.read.option(\"header\", True)\n    .option(\"inferSchema\", True)\n    .csv(f\"{DATA_FOLDER}/raw/{USERS_FILE}\")\n    .cache()\n)",
          "displayName": "csv at NativeMethodAccessorImpl.java:0",
          "jobGroup": "7",
          "jobId": 8,
          "killedTasksSummary": {},
          "name": "csv at NativeMethodAccessorImpl.java:0",
          "numActiveStages": 0,
          "numActiveTasks": 0,
          "numCompletedIndices": 1,
          "numCompletedStages": 1,
          "numCompletedTasks": 1,
          "numFailedStages": 0,
          "numFailedTasks": 0,
          "numKilledTasks": 0,
          "numSkippedStages": 0,
          "numSkippedTasks": 0,
          "numTasks": 1,
          "rowCount": 1,
          "stageIds": [
           12
          ],
          "status": "SUCCEEDED",
          "submissionTime": "2023-09-11T14:33:21.527GMT",
          "usageDescription": ""
         }
        ],
        "limit": 20,
        "numbers": {
         "FAILED": 0,
         "RUNNING": 0,
         "SUCCEEDED": 6,
         "UNKNOWN": 0
        },
        "rule": "ALL_DESC"
       },
       "spark_pool": null,
       "state": "finished",
       "statement_id": 7
      },
      "text/plain": [
       "StatementMeta(, db09740a-036f-4e14-9afc-ee8d112e8535, 7, Finished, Available)"
      ]
     },
     "metadata": {},
     "output_type": "display_data"
    }
   ],
   "source": [
    "df_items = (\n",
    "    spark.read.option(\"header\", True)\n",
    "    .option(\"inferSchema\", True)\n",
    "    .csv(f\"{DATA_FOLDER}/raw/{ITEMS_FILE}\")\n",
    "    .cache()\n",
    ")\n",
    "\n",
    "df_ratings = (\n",
    "    spark.read.option(\"header\", True)\n",
    "    .option(\"inferSchema\", True)\n",
    "    .csv(f\"{DATA_FOLDER}/raw/{RATINGS_FILE}\")\n",
    "    .cache()\n",
    ")\n",
    "\n",
    "df_users = (\n",
    "    spark.read.option(\"header\", True)\n",
    "    .option(\"inferSchema\", True)\n",
    "    .csv(f\"{DATA_FOLDER}/raw/{USERS_FILE}\")\n",
    "    .cache()\n",
    ")"
   ]
  },
  {
   "cell_type": "markdown",
   "id": "d2b06290",
   "metadata": {},
   "source": [
    "## Step 2: Perform exploratory data analysis"
   ]
  },
  {
   "cell_type": "markdown",
   "id": "d1c14a18-8e5a-4a04-8412-3a564c875bc5",
   "metadata": {
    "nteract": {
     "transient": {
      "deleting": false
     }
    }
   },
   "source": [
    "You can explore each of the DataFrames using the `display` command. This allows you to view high-level statistics of the DataFrames and understand how different columns in the datasets are related to each other. To explore the datasets, you need to import the required libraries."
   ]
  },
  {
   "cell_type": "code",
   "execution_count": null,
   "id": "660d7422-e9f9-42f7-9d35-2d02a18c457e",
   "metadata": {
    "jupyter": {
     "outputs_hidden": false,
     "source_hidden": false
    },
    "nteract": {
     "transient": {
      "deleting": false
     }
    }
   },
   "outputs": [
    {
     "data": {
      "application/vnd.livy.statement-meta+json": {
       "execution_finish_time": "2023-09-11T14:33:32.1411961Z",
       "execution_start_time": "2023-09-11T14:33:28.4213025Z",
       "livy_statement_state": "available",
       "parent_msg_id": "3e097eca-9625-4997-a3a3-faa66b27f84a",
       "queued_time": "2023-09-11T14:33:00.5740173Z",
       "session_id": "db09740a-036f-4e14-9afc-ee8d112e8535",
       "session_start_time": null,
       "spark_jobs": {
        "jobs": [],
        "limit": 20,
        "numbers": {
         "FAILED": 0,
         "RUNNING": 0,
         "SUCCEEDED": 0,
         "UNKNOWN": 0
        },
        "rule": "ALL_DESC"
       },
       "spark_pool": null,
       "state": "finished",
       "statement_id": 8
      },
      "text/plain": [
       "StatementMeta(, db09740a-036f-4e14-9afc-ee8d112e8535, 8, Finished, Available)"
      ]
     },
     "metadata": {},
     "output_type": "display_data"
    }
   ],
   "source": [
    "# Import the required libraries\n",
    "import pyspark.sql.functions as F\n",
    "from pyspark.ml.feature import StringIndexer\n",
    "import matplotlib.pyplot as plt\n",
    "import seaborn as sns\n",
    "color = sns.color_palette()  # adjusting plotting style\n",
    "import pandas as pd  # dataframes"
   ]
  },
  {
   "cell_type": "markdown",
   "id": "30e350f6-98a4-46f3-a331-cfb063de91d7",
   "metadata": {
    "nteract": {
     "transient": {
      "deleting": false
     }
    }
   },
   "source": [
    "### Explore the Book dataset\n",
    "Let's look into the the DataFrame that stores the book data."
   ]
  },
  {
   "cell_type": "code",
   "execution_count": null,
   "id": "f56d8d3c-c30f-4c6c-84e2-63476549ef3a",
   "metadata": {
    "advisor": {
     "adviceMetadata": "{\"artifactId\":\"974c28bc-8ec7-4ee8-8d90-830a0031857e\",\"activityId\":\"db09740a-036f-4e14-9afc-ee8d112e8535\",\"applicationId\":\"application_1694442018519_0001\",\"jobGroupId\":\"9\",\"advices\":{\"info\":1}}"
    },
    "jupyter": {
     "outputs_hidden": false,
     "source_hidden": false
    },
    "nteract": {
     "transient": {
      "deleting": false
     }
    }
   },
   "outputs": [
    {
     "data": {
      "application/vnd.livy.statement-meta+json": {
       "execution_finish_time": "2023-09-11T14:33:39.3399249Z",
       "execution_start_time": "2023-09-11T14:33:32.7087217Z",
       "livy_statement_state": "available",
       "parent_msg_id": "427402b3-5b2f-4e94-9b8b-40aac01210b5",
       "queued_time": "2023-09-11T14:33:00.5745135Z",
       "session_id": "db09740a-036f-4e14-9afc-ee8d112e8535",
       "session_start_time": null,
       "spark_jobs": {
        "jobs": [
         {
          "completionTime": "2023-09-11T14:33:37.040GMT",
          "dataRead": 14086341,
          "dataWritten": 0,
          "description": "Job group for statement 9:\ndisplay(df_items, summary=True)",
          "displayName": "collect at AnalysisRunner.scala:328",
          "jobGroup": "9",
          "jobId": 15,
          "killedTasksSummary": {},
          "name": "collect at AnalysisRunner.scala:328",
          "numActiveStages": 0,
          "numActiveTasks": 0,
          "numCompletedIndices": 1,
          "numCompletedStages": 1,
          "numCompletedTasks": 1,
          "numFailedStages": 0,
          "numFailedTasks": 0,
          "numKilledTasks": 0,
          "numSkippedStages": 1,
          "numSkippedTasks": 8,
          "numTasks": 9,
          "rowCount": 8,
          "stageIds": [
           19,
           20
          ],
          "status": "SUCCEEDED",
          "submissionTime": "2023-09-11T14:33:36.561GMT",
          "usageDescription": ""
         },
         {
          "completionTime": "2023-09-11T14:33:36.529GMT",
          "dataRead": 73752387,
          "dataWritten": 14086341,
          "description": "Job group for statement 9:\ndisplay(df_items, summary=True)",
          "displayName": "collect at AnalysisRunner.scala:328",
          "jobGroup": "9",
          "jobId": 14,
          "killedTasksSummary": {},
          "name": "collect at AnalysisRunner.scala:328",
          "numActiveStages": 0,
          "numActiveTasks": 0,
          "numCompletedIndices": 8,
          "numCompletedStages": 1,
          "numCompletedTasks": 8,
          "numFailedStages": 0,
          "numFailedTasks": 0,
          "numKilledTasks": 0,
          "numSkippedStages": 0,
          "numSkippedTasks": 0,
          "numTasks": 8,
          "rowCount": 271368,
          "stageIds": [
           18
          ],
          "status": "SUCCEEDED",
          "submissionTime": "2023-09-11T14:33:33.216GMT",
          "usageDescription": ""
         }
        ],
        "limit": 20,
        "numbers": {
         "FAILED": 0,
         "RUNNING": 0,
         "SUCCEEDED": 2,
         "UNKNOWN": 0
        },
        "rule": "ALL_DESC"
       },
       "spark_pool": null,
       "state": "finished",
       "statement_id": 9
      },
      "text/plain": [
       "StatementMeta(, db09740a-036f-4e14-9afc-ee8d112e8535, 9, Finished, Available)"
      ]
     },
     "metadata": {},
     "output_type": "display_data"
    },
    {
     "data": {
      "application/vnd.synapse.widget-view+json": {
       "widget_id": "67fc6032-fcee-4c3b-a40f-e4749d14ff3c",
       "widget_type": "Synapse.DataFrame"
      },
      "text/plain": [
       "SynapseWidget(Synapse.DataFrame, 67fc6032-fcee-4c3b-a40f-e4749d14ff3c)"
      ]
     },
     "metadata": {},
     "output_type": "display_data"
    }
   ],
   "source": [
    "display(df_items, summary=True)"
   ]
  },
  {
   "cell_type": "markdown",
   "id": "bcc1eaaa-f048-434a-90e9-048481fbf412",
   "metadata": {
    "nteract": {
     "transient": {
      "deleting": false
     }
    }
   },
   "source": [
    "You add the column named `_item_id` for later use which must only contain integers to suit your recommendation model. Therefore, use a `StringIndexer` to transform the `ITEM_ID_COL` into indices."
   ]
  },
  {
   "cell_type": "code",
   "execution_count": null,
   "id": "360c5b8d-ebb3-46ef-9276-f9f65d573456",
   "metadata": {
    "jupyter": {
     "outputs_hidden": false,
     "source_hidden": false
    },
    "nteract": {
     "transient": {
      "deleting": false
     }
    }
   },
   "outputs": [
    {
     "data": {
      "application/vnd.livy.statement-meta+json": {
       "execution_finish_time": "2023-09-11T14:33:42.5137889Z",
       "execution_start_time": "2023-09-11T14:33:39.8104155Z",
       "livy_statement_state": "available",
       "parent_msg_id": "877b79d3-8a41-456e-895c-2833505584d2",
       "queued_time": "2023-09-11T14:33:00.582598Z",
       "session_id": "db09740a-036f-4e14-9afc-ee8d112e8535",
       "session_start_time": null,
       "spark_jobs": {
        "jobs": [
         {
          "completionTime": "2023-09-11T14:33:40.997GMT",
          "dataRead": 2877562,
          "dataWritten": 0,
          "description": "Job group for statement 10:\ndf_items = (\n    StringIndexer(inputCol=ITEM_ID_COL, outputCol=\"_item_id\")\n    .setHandleInvalid(\"skip\")\n    .fit(df_items)\n    .transform(df_items)\n    .withColumn(\"_item_id\", F.col(\"_item_id\").cast(\"int\"))\n)",
          "displayName": "collect at StringIndexer.scala:204",
          "jobGroup": "10",
          "jobId": 17,
          "killedTasksSummary": {},
          "name": "collect at StringIndexer.scala:204",
          "numActiveStages": 0,
          "numActiveTasks": 0,
          "numCompletedIndices": 1,
          "numCompletedStages": 1,
          "numCompletedTasks": 1,
          "numFailedStages": 0,
          "numFailedTasks": 0,
          "numKilledTasks": 0,
          "numSkippedStages": 1,
          "numSkippedTasks": 8,
          "numTasks": 9,
          "rowCount": 8,
          "stageIds": [
           22,
           23
          ],
          "status": "SUCCEEDED",
          "submissionTime": "2023-09-11T14:33:40.626GMT",
          "usageDescription": ""
         },
         {
          "completionTime": "2023-09-11T14:33:40.576GMT",
          "dataRead": 74660656,
          "dataWritten": 2877562,
          "description": "Job group for statement 10:\ndf_items = (\n    StringIndexer(inputCol=ITEM_ID_COL, outputCol=\"_item_id\")\n    .setHandleInvalid(\"skip\")\n    .fit(df_items)\n    .transform(df_items)\n    .withColumn(\"_item_id\", F.col(\"_item_id\").cast(\"int\"))\n)",
          "displayName": "collect at StringIndexer.scala:204",
          "jobGroup": "10",
          "jobId": 16,
          "killedTasksSummary": {},
          "name": "collect at StringIndexer.scala:204",
          "numActiveStages": 0,
          "numActiveTasks": 0,
          "numCompletedIndices": 8,
          "numCompletedStages": 1,
          "numCompletedTasks": 8,
          "numFailedStages": 0,
          "numFailedTasks": 0,
          "numKilledTasks": 0,
          "numSkippedStages": 0,
          "numSkippedTasks": 0,
          "numTasks": 8,
          "rowCount": 39,
          "stageIds": [
           21
          ],
          "status": "SUCCEEDED",
          "submissionTime": "2023-09-11T14:33:39.998GMT",
          "usageDescription": ""
         }
        ],
        "limit": 20,
        "numbers": {
         "FAILED": 0,
         "RUNNING": 0,
         "SUCCEEDED": 2,
         "UNKNOWN": 0
        },
        "rule": "ALL_DESC"
       },
       "spark_pool": null,
       "state": "finished",
       "statement_id": 10
      },
      "text/plain": [
       "StatementMeta(, db09740a-036f-4e14-9afc-ee8d112e8535, 10, Finished, Available)"
      ]
     },
     "metadata": {},
     "output_type": "display_data"
    }
   ],
   "source": [
    "df_items = (\n",
    "    StringIndexer(inputCol=ITEM_ID_COL, outputCol=\"_item_id\")\n",
    "    .setHandleInvalid(\"skip\")\n",
    "    .fit(df_items)\n",
    "    .transform(df_items)\n",
    "    .withColumn(\"_item_id\", F.col(\"_item_id\").cast(\"int\"))\n",
    ")"
   ]
  },
  {
   "cell_type": "markdown",
   "id": "224e51b8-be76-437d-8964-5f7834553721",
   "metadata": {},
   "source": [
    "Take a look at these values to ensure that the content of the `_item_id` column increases successively as expected."
   ]
  },
  {
   "cell_type": "code",
   "execution_count": null,
   "id": "3234a2eb-8f97-4419-bf5a-c7ecd9bdd63f",
   "metadata": {
    "jupyter": {
     "outputs_hidden": false,
     "source_hidden": false
    },
    "nteract": {
     "transient": {
      "deleting": false
     }
    }
   },
   "outputs": [
    {
     "data": {
      "application/vnd.livy.statement-meta+json": {
       "execution_finish_time": "2023-09-11T14:33:45.7200852Z",
       "execution_start_time": "2023-09-11T14:33:43.0291028Z",
       "livy_statement_state": "available",
       "parent_msg_id": "3e0c4213-8f18-4758-bc41-a5a3c67a1355",
       "queued_time": "2023-09-11T14:33:00.5832865Z",
       "session_id": "db09740a-036f-4e14-9afc-ee8d112e8535",
       "session_start_time": null,
       "spark_jobs": {
        "jobs": [
         {
          "completionTime": "2023-09-11T14:33:44.562GMT",
          "dataRead": 74660656,
          "dataWritten": 0,
          "description": "Job group for statement 11:\ndisplay(df_items.sort(F.col(\"_item_id\").desc()))",
          "displayName": "getRowsInJsonString at Display.scala:452",
          "jobGroup": "11",
          "jobId": 18,
          "killedTasksSummary": {},
          "name": "getRowsInJsonString at Display.scala:452",
          "numActiveStages": 0,
          "numActiveTasks": 0,
          "numCompletedIndices": 8,
          "numCompletedStages": 1,
          "numCompletedTasks": 8,
          "numFailedStages": 0,
          "numFailedTasks": 0,
          "numKilledTasks": 0,
          "numSkippedStages": 0,
          "numSkippedTasks": 0,
          "numTasks": 8,
          "rowCount": 31,
          "stageIds": [
           24
          ],
          "status": "SUCCEEDED",
          "submissionTime": "2023-09-11T14:33:43.362GMT",
          "usageDescription": ""
         }
        ],
        "limit": 20,
        "numbers": {
         "FAILED": 0,
         "RUNNING": 0,
         "SUCCEEDED": 1,
         "UNKNOWN": 0
        },
        "rule": "ALL_DESC"
       },
       "spark_pool": null,
       "state": "finished",
       "statement_id": 11
      },
      "text/plain": [
       "StatementMeta(, db09740a-036f-4e14-9afc-ee8d112e8535, 11, Finished, Available)"
      ]
     },
     "metadata": {},
     "output_type": "display_data"
    },
    {
     "data": {
      "application/vnd.synapse.widget-view+json": {
       "widget_id": "7ee0fec7-401c-46b5-b27f-0c1d43a0d640",
       "widget_type": "Synapse.DataFrame"
      },
      "text/plain": [
       "SynapseWidget(Synapse.DataFrame, 7ee0fec7-401c-46b5-b27f-0c1d43a0d640)"
      ]
     },
     "metadata": {},
     "output_type": "display_data"
    }
   ],
   "source": [
    "display(df_items.sort(F.col(\"_item_id\").desc()))"
   ]
  },
  {
   "cell_type": "markdown",
   "id": "4655a377-f9da-4c20-b042-3b45f54e4e6a",
   "metadata": {
    "nteract": {
     "transient": {
      "deleting": false
     }
    }
   },
   "source": [
    "##### Plot the top 10 authors with the maximum number of books"
   ]
  },
  {
   "cell_type": "code",
   "execution_count": null,
   "id": "fd01e6ad-d2aa-4b0a-a9d5-86772453a65b",
   "metadata": {
    "jupyter": {
     "outputs_hidden": false,
     "source_hidden": false
    },
    "nteract": {
     "transient": {
      "deleting": false
     }
    }
   },
   "outputs": [
    {
     "data": {
      "application/vnd.livy.statement-meta+json": {
       "execution_finish_time": "2023-09-11T14:33:49.9422159Z",
       "execution_start_time": "2023-09-11T14:33:46.2172596Z",
       "livy_statement_state": "available",
       "parent_msg_id": "4573c0e4-5e69-4479-9274-b5d7e054fa6f",
       "queued_time": "2023-09-11T14:33:00.5985663Z",
       "session_id": "db09740a-036f-4e14-9afc-ee8d112e8535",
       "session_start_time": null,
       "spark_jobs": {
        "jobs": [
         {
          "completionTime": "2023-09-11T14:33:47.779GMT",
          "dataRead": 74660656,
          "dataWritten": 0,
          "description": "Job group for statement 12:\ndf_books = df_items.toPandas() # Create a pandas dataframe from the spark dataframe for visualization\nplt.figure(figsize=(8,5))\nsns.countplot(y=\"Book-Author\",palette = 'Paired', data=df_books,order=df_books['Book-Author'].value_counts().index[0:10])\nplt.title(\"Top 10 authors with maximum number of books\")",
          "displayName": "toPandas at /tmp/ipykernel_9996/2332372921.py:1",
          "jobGroup": "12",
          "jobId": 19,
          "killedTasksSummary": {},
          "name": "toPandas at /tmp/ipykernel_9996/2332372921.py:1",
          "numActiveStages": 0,
          "numActiveTasks": 0,
          "numCompletedIndices": 8,
          "numCompletedStages": 1,
          "numCompletedTasks": 8,
          "numFailedStages": 0,
          "numFailedTasks": 0,
          "numKilledTasks": 0,
          "numSkippedStages": 0,
          "numSkippedTasks": 0,
          "numTasks": 8,
          "rowCount": 31,
          "stageIds": [
           25
          ],
          "status": "SUCCEEDED",
          "submissionTime": "2023-09-11T14:33:46.550GMT",
          "usageDescription": ""
         }
        ],
        "limit": 20,
        "numbers": {
         "FAILED": 0,
         "RUNNING": 0,
         "SUCCEEDED": 1,
         "UNKNOWN": 0
        },
        "rule": "ALL_DESC"
       },
       "spark_pool": null,
       "state": "finished",
       "statement_id": 12
      },
      "text/plain": [
       "StatementMeta(, db09740a-036f-4e14-9afc-ee8d112e8535, 12, Finished, Available)"
      ]
     },
     "metadata": {},
     "output_type": "display_data"
    },
    {
     "data": {
      "text/plain": [
       "Text(0.5, 1.0, 'Top 10 authors with maximum number of books')"
      ]
     },
     "execution_count": null,
     "metadata": {},
     "output_type": "execute_result"
    },
    {
     "data": {
      "image/png": "[encoded data removed]",
      "text/plain": [
       "<Figure size 800x500 with 1 Axes>"
      ]
     },
     "metadata": {},
     "output_type": "display_data"
    }
   ],
   "source": [
    "df_books = df_items.toPandas() # Create a pandas dataframe from the spark dataframe for visualization\n",
    "plt.figure(figsize=(8,5))\n",
    "sns.countplot(y=\"Book-Author\",palette = 'Paired', data=df_books,order=df_books['Book-Author'].value_counts().index[0:10])\n",
    "plt.title(\"Top 10 authors with maximum number of books\")"
   ]
  },
  {
   "cell_type": "markdown",
   "id": "cf7a1f6e-b930-4adf-a952-d821a9aeb5d9",
   "metadata": {
    "nteract": {
     "transient": {
      "deleting": false
     }
    }
   },
   "source": [
    "Agatha Christie is the leading author with over 600 books, followed by William Shakespeare."
   ]
  },
  {
   "cell_type": "markdown",
   "id": "71577c6c-1e24-4556-bc5e-20757849b529",
   "metadata": {
    "nteract": {
     "transient": {
      "deleting": false
     }
    }
   },
   "source": [
    "### Explore the User dataset\n",
    "Take a look at the dataframe that stores the user data."
   ]
  },
  {
   "cell_type": "code",
   "execution_count": null,
   "id": "3493804b-6faa-46ab-8f00-f27ef985a09e",
   "metadata": {
    "advisor": {
     "adviceMetadata": "{\"artifactId\":\"974c28bc-8ec7-4ee8-8d90-830a0031857e\",\"activityId\":\"db09740a-036f-4e14-9afc-ee8d112e8535\",\"applicationId\":\"application_1694442018519_0001\",\"jobGroupId\":\"13\",\"advices\":{\"info\":1}}"
    },
    "jupyter": {
     "outputs_hidden": false,
     "source_hidden": false
    },
    "nteract": {
     "transient": {
      "deleting": false
     }
    }
   },
   "outputs": [
    {
     "data": {
      "application/vnd.livy.statement-meta+json": {
       "execution_finish_time": "2023-09-11T14:33:53.0188199Z",
       "execution_start_time": "2023-09-11T14:33:50.4043725Z",
       "livy_statement_state": "available",
       "parent_msg_id": "233d4e50-df57-44db-9796-ae1ac0afa12b",
       "queued_time": "2023-09-11T14:33:00.5992608Z",
       "session_id": "db09740a-036f-4e14-9afc-ee8d112e8535",
       "session_start_time": null,
       "spark_jobs": {
        "jobs": [
         {
          "completionTime": "2023-09-11T14:33:52.023GMT",
          "dataRead": 1572878,
          "dataWritten": 0,
          "description": "Job group for statement 13:\ndisplay(df_users, summary=True)",
          "displayName": "collect at AnalysisRunner.scala:328",
          "jobGroup": "13",
          "jobId": 21,
          "killedTasksSummary": {},
          "name": "collect at AnalysisRunner.scala:328",
          "numActiveStages": 0,
          "numActiveTasks": 0,
          "numCompletedIndices": 1,
          "numCompletedStages": 1,
          "numCompletedTasks": 1,
          "numFailedStages": 0,
          "numFailedTasks": 0,
          "numKilledTasks": 0,
          "numSkippedStages": 1,
          "numSkippedTasks": 3,
          "numTasks": 4,
          "rowCount": 3,
          "stageIds": [
           27,
           28
          ],
          "status": "SUCCEEDED",
          "submissionTime": "2023-09-11T14:33:51.883GMT",
          "usageDescription": ""
         },
         {
          "completionTime": "2023-09-11T14:33:51.859GMT",
          "dataRead": 11148510,
          "dataWritten": 1572878,
          "description": "Job group for statement 13:\ndisplay(df_users, summary=True)",
          "displayName": "collect at AnalysisRunner.scala:328",
          "jobGroup": "13",
          "jobId": 20,
          "killedTasksSummary": {},
          "name": "collect at AnalysisRunner.scala:328",
          "numActiveStages": 0,
          "numActiveTasks": 0,
          "numCompletedIndices": 3,
          "numCompletedStages": 1,
          "numCompletedTasks": 3,
          "numFailedStages": 0,
          "numFailedTasks": 0,
          "numKilledTasks": 0,
          "numSkippedStages": 0,
          "numSkippedTasks": 0,
          "numTasks": 3,
          "rowCount": 278862,
          "stageIds": [
           26
          ],
          "status": "SUCCEEDED",
          "submissionTime": "2023-09-11T14:33:50.730GMT",
          "usageDescription": ""
         }
        ],
        "limit": 20,
        "numbers": {
         "FAILED": 0,
         "RUNNING": 0,
         "SUCCEEDED": 2,
         "UNKNOWN": 0
        },
        "rule": "ALL_DESC"
       },
       "spark_pool": null,
       "state": "finished",
       "statement_id": 13
      },
      "text/plain": [
       "StatementMeta(, db09740a-036f-4e14-9afc-ee8d112e8535, 13, Finished, Available)"
      ]
     },
     "metadata": {},
     "output_type": "display_data"
    },
    {
     "data": {
      "application/vnd.synapse.widget-view+json": {
       "widget_id": "3b55c788-a0d5-411f-b7d0-14677f8a281f",
       "widget_type": "Synapse.DataFrame"
      },
      "text/plain": [
       "SynapseWidget(Synapse.DataFrame, 3b55c788-a0d5-411f-b7d0-14677f8a281f)"
      ]
     },
     "metadata": {},
     "output_type": "display_data"
    }
   ],
   "source": [
    "display(df_users, summary=True)"
   ]
  },
  {
   "cell_type": "markdown",
   "id": "829fc998-b2f0-4761-819f-717ad967d7f5",
   "metadata": {
    "nteract": {
     "transient": {
      "deleting": false
     }
    }
   },
   "source": [
    "Remove the rows with missing `User-ID` values to clean up the data prior to training."
   ]
  },
  {
   "cell_type": "code",
   "execution_count": null,
   "id": "3bcfb117-d761-467a-95d1-445937f3e598",
   "metadata": {
    "jupyter": {
     "outputs_hidden": false,
     "source_hidden": false
    },
    "nteract": {
     "transient": {
      "deleting": false
     }
    }
   },
   "outputs": [
    {
     "data": {
      "application/vnd.livy.statement-meta+json": {
       "execution_finish_time": "2023-09-11T14:33:55.2342996Z",
       "execution_start_time": "2023-09-11T14:33:53.5723606Z",
       "livy_statement_state": "available",
       "parent_msg_id": "f85aaec5-1ec7-445f-8905-e391575003b5",
       "queued_time": "2023-09-11T14:33:00.5999422Z",
       "session_id": "db09740a-036f-4e14-9afc-ee8d112e8535",
       "session_start_time": null,
       "spark_jobs": {
        "jobs": [
         {
          "completionTime": "2023-09-11T14:33:54.497GMT",
          "dataRead": 1572875,
          "dataWritten": 0,
          "description": "Job group for statement 14:\ndf_users = df_users.dropna(subset=(USER_ID_COL))\ndisplay(df_users, summary=True)",
          "displayName": "collect at AnalysisRunner.scala:328",
          "jobGroup": "14",
          "jobId": 23,
          "killedTasksSummary": {},
          "name": "collect at AnalysisRunner.scala:328",
          "numActiveStages": 0,
          "numActiveTasks": 0,
          "numCompletedIndices": 1,
          "numCompletedStages": 1,
          "numCompletedTasks": 1,
          "numFailedStages": 0,
          "numFailedTasks": 0,
          "numKilledTasks": 0,
          "numSkippedStages": 1,
          "numSkippedTasks": 3,
          "numTasks": 4,
          "rowCount": 3,
          "stageIds": [
           30,
           31
          ],
          "status": "SUCCEEDED",
          "submissionTime": "2023-09-11T14:33:54.415GMT",
          "usageDescription": ""
         },
         {
          "completionTime": "2023-09-11T14:33:54.396GMT",
          "dataRead": 6319048,
          "dataWritten": 1572875,
          "description": "Job group for statement 14:\ndf_users = df_users.dropna(subset=(USER_ID_COL))\ndisplay(df_users, summary=True)",
          "displayName": "collect at AnalysisRunner.scala:328",
          "jobGroup": "14",
          "jobId": 22,
          "killedTasksSummary": {},
          "name": "collect at AnalysisRunner.scala:328",
          "numActiveStages": 0,
          "numActiveTasks": 0,
          "numCompletedIndices": 3,
          "numCompletedStages": 1,
          "numCompletedTasks": 3,
          "numFailedStages": 0,
          "numFailedTasks": 0,
          "numKilledTasks": 0,
          "numSkippedStages": 0,
          "numSkippedTasks": 0,
          "numTasks": 3,
          "rowCount": 32,
          "stageIds": [
           29
          ],
          "status": "SUCCEEDED",
          "submissionTime": "2023-09-11T14:33:53.817GMT",
          "usageDescription": ""
         }
        ],
        "limit": 20,
        "numbers": {
         "FAILED": 0,
         "RUNNING": 0,
         "SUCCEEDED": 2,
         "UNKNOWN": 0
        },
        "rule": "ALL_DESC"
       },
       "spark_pool": null,
       "state": "finished",
       "statement_id": 14
      },
      "text/plain": [
       "StatementMeta(, db09740a-036f-4e14-9afc-ee8d112e8535, 14, Finished, Available)"
      ]
     },
     "metadata": {},
     "output_type": "display_data"
    },
    {
     "data": {
      "application/vnd.synapse.widget-view+json": {
       "widget_id": "12253fc4-5663-4340-9209-99de39e32625",
       "widget_type": "Synapse.DataFrame"
      },
      "text/plain": [
       "SynapseWidget(Synapse.DataFrame, 12253fc4-5663-4340-9209-99de39e32625)"
      ]
     },
     "metadata": {},
     "output_type": "display_data"
    }
   ],
   "source": [
    "df_users = df_users.dropna(subset=(USER_ID_COL))\n",
    "display(df_users, summary=True)"
   ]
  },
  {
   "cell_type": "markdown",
   "id": "1abc46c0-37a4-457b-8077-70a59119d9d6",
   "metadata": {
    "nteract": {
     "transient": {
      "deleting": false
     }
    }
   },
   "source": [
    "Similarly, add the column named `_user_id` for later use which must only contain integers to suit your recommendation model. Therefore, use a `StringIndexer` to transform the `USER_ID_COL` into indices.\n",
    "\n",
    "**Note**: In this scenario, the book dataset already consists of an integer column named `User-ID`. However, in order to make this notebook more robust, add a `_user_id` column for compatibility with different datasets."
   ]
  },
  {
   "cell_type": "code",
   "execution_count": null,
   "id": "46e8d227-31a2-4dcb-9e93-91f926e990c6",
   "metadata": {
    "jupyter": {
     "outputs_hidden": false,
     "source_hidden": false
    },
    "nteract": {
     "transient": {
      "deleting": false
     }
    }
   },
   "outputs": [
    {
     "data": {
      "application/vnd.livy.statement-meta+json": {
       "execution_finish_time": "2023-09-11T14:33:58.43799Z",
       "execution_start_time": "2023-09-11T14:33:55.7682439Z",
       "livy_statement_state": "available",
       "parent_msg_id": "eb33a437-9be6-4d12-9ca6-fa1c7795b136",
       "queued_time": "2023-09-11T14:33:00.6005414Z",
       "session_id": "db09740a-036f-4e14-9afc-ee8d112e8535",
       "session_start_time": null,
       "spark_jobs": {
        "jobs": [
         {
          "completionTime": "2023-09-11T14:33:57.893GMT",
          "dataRead": 6319048,
          "dataWritten": 0,
          "description": "Job group for statement 15:\ndf_users = (\n    StringIndexer(inputCol=USER_ID_COL, outputCol=\"_user_id\")\n    .setHandleInvalid(\"skip\")\n    .fit(df_users)\n    .transform(df_users)\n    .withColumn(\"_user_id\", F.col(\"_user_id\").cast(\"int\"))\n)\n\ndisplay(df_users.sort(F.col(\"_user_id\").desc()))",
          "displayName": "getRowsInJsonString at Display.scala:452",
          "jobGroup": "15",
          "jobId": 26,
          "killedTasksSummary": {},
          "name": "getRowsInJsonString at Display.scala:452",
          "numActiveStages": 0,
          "numActiveTasks": 0,
          "numCompletedIndices": 3,
          "numCompletedStages": 1,
          "numCompletedTasks": 3,
          "numFailedStages": 0,
          "numFailedTasks": 0,
          "numKilledTasks": 0,
          "numSkippedStages": 0,
          "numSkippedTasks": 0,
          "numTasks": 3,
          "rowCount": 29,
          "stageIds": [
           35
          ],
          "status": "SUCCEEDED",
          "submissionTime": "2023-09-11T14:33:57.341GMT",
          "usageDescription": ""
         },
         {
          "completionTime": "2023-09-11T14:33:56.367GMT",
          "dataRead": 2081641,
          "dataWritten": 0,
          "description": "Job group for statement 15:\ndf_users = (\n    StringIndexer(inputCol=USER_ID_COL, outputCol=\"_user_id\")\n    .setHandleInvalid(\"skip\")\n    .fit(df_users)\n    .transform(df_users)\n    .withColumn(\"_user_id\", F.col(\"_user_id\").cast(\"int\"))\n)\n\ndisplay(df_users.sort(F.col(\"_user_id\").desc()))",
          "displayName": "collect at StringIndexer.scala:204",
          "jobGroup": "15",
          "jobId": 25,
          "killedTasksSummary": {},
          "name": "collect at StringIndexer.scala:204",
          "numActiveStages": 0,
          "numActiveTasks": 0,
          "numCompletedIndices": 1,
          "numCompletedStages": 1,
          "numCompletedTasks": 1,
          "numFailedStages": 0,
          "numFailedTasks": 0,
          "numKilledTasks": 0,
          "numSkippedStages": 1,
          "numSkippedTasks": 3,
          "numTasks": 4,
          "rowCount": 3,
          "stageIds": [
           33,
           34
          ],
          "status": "SUCCEEDED",
          "submissionTime": "2023-09-11T14:33:56.184GMT",
          "usageDescription": ""
         },
         {
          "completionTime": "2023-09-11T14:33:56.173GMT",
          "dataRead": 6319048,
          "dataWritten": 2081641,
          "description": "Job group for statement 15:\ndf_users = (\n    StringIndexer(inputCol=USER_ID_COL, outputCol=\"_user_id\")\n    .setHandleInvalid(\"skip\")\n    .fit(df_users)\n    .transform(df_users)\n    .withColumn(\"_user_id\", F.col(\"_user_id\").cast(\"int\"))\n)\n\ndisplay(df_users.sort(F.col(\"_user_id\").desc()))",
          "displayName": "collect at StringIndexer.scala:204",
          "jobGroup": "15",
          "jobId": 24,
          "killedTasksSummary": {},
          "name": "collect at StringIndexer.scala:204",
          "numActiveStages": 0,
          "numActiveTasks": 0,
          "numCompletedIndices": 3,
          "numCompletedStages": 1,
          "numCompletedTasks": 3,
          "numFailedStages": 0,
          "numFailedTasks": 0,
          "numKilledTasks": 0,
          "numSkippedStages": 0,
          "numSkippedTasks": 0,
          "numTasks": 3,
          "rowCount": 32,
          "stageIds": [
           32
          ],
          "status": "SUCCEEDED",
          "submissionTime": "2023-09-11T14:33:55.868GMT",
          "usageDescription": ""
         }
        ],
        "limit": 20,
        "numbers": {
         "FAILED": 0,
         "RUNNING": 0,
         "SUCCEEDED": 3,
         "UNKNOWN": 0
        },
        "rule": "ALL_DESC"
       },
       "spark_pool": null,
       "state": "finished",
       "statement_id": 15
      },
      "text/plain": [
       "StatementMeta(, db09740a-036f-4e14-9afc-ee8d112e8535, 15, Finished, Available)"
      ]
     },
     "metadata": {},
     "output_type": "display_data"
    },
    {
     "data": {
      "application/vnd.synapse.widget-view+json": {
       "widget_id": "ec85c5a8-7254-4061-9cc1-0770335cee97",
       "widget_type": "Synapse.DataFrame"
      },
      "text/plain": [
       "SynapseWidget(Synapse.DataFrame, ec85c5a8-7254-4061-9cc1-0770335cee97)"
      ]
     },
     "metadata": {},
     "output_type": "display_data"
    }
   ],
   "source": [
    "df_users = (\n",
    "    StringIndexer(inputCol=USER_ID_COL, outputCol=\"_user_id\")\n",
    "    .setHandleInvalid(\"skip\")\n",
    "    .fit(df_users)\n",
    "    .transform(df_users)\n",
    "    .withColumn(\"_user_id\", F.col(\"_user_id\").cast(\"int\"))\n",
    ")\n",
    "\n",
    "display(df_users.sort(F.col(\"_user_id\").desc()))"
   ]
  },
  {
   "cell_type": "markdown",
   "id": "87b848d8-6056-43bd-8e29-a2e5381224bc",
   "metadata": {
    "nteract": {
     "transient": {
      "deleting": false
     }
    }
   },
   "source": [
    "### Explore the Rating dataset\n",
    "Take a look at the dataframe that stores the rating data."
   ]
  },
  {
   "cell_type": "code",
   "execution_count": null,
   "id": "57ec6bae-93db-4db0-892a-9be3bc1ccf7d",
   "metadata": {
    "jupyter": {
     "outputs_hidden": false,
     "source_hidden": false
    },
    "nteract": {
     "transient": {
      "deleting": false
     }
    }
   },
   "outputs": [
    {
     "data": {
      "application/vnd.livy.statement-meta+json": {
       "execution_finish_time": "2023-09-11T14:34:01.6262948Z",
       "execution_start_time": "2023-09-11T14:33:58.9125843Z",
       "livy_statement_state": "available",
       "parent_msg_id": "1addde62-4529-474f-905d-f61d0baa3ed7",
       "queued_time": "2023-09-11T14:33:00.6043958Z",
       "session_id": "db09740a-036f-4e14-9afc-ee8d112e8535",
       "session_start_time": null,
       "spark_jobs": {
        "jobs": [
         {
          "completionTime": "2023-09-11T14:34:01.018GMT",
          "dataRead": 1420735,
          "dataWritten": 0,
          "description": "Job group for statement 16:\ndisplay(df_ratings, summary=True)",
          "displayName": "collect at AnalysisRunner.scala:328",
          "jobGroup": "16",
          "jobId": 28,
          "killedTasksSummary": {},
          "name": "collect at AnalysisRunner.scala:328",
          "numActiveStages": 0,
          "numActiveTasks": 0,
          "numCompletedIndices": 1,
          "numCompletedStages": 1,
          "numCompletedTasks": 1,
          "numFailedStages": 0,
          "numFailedTasks": 0,
          "numKilledTasks": 0,
          "numSkippedStages": 1,
          "numSkippedTasks": 6,
          "numTasks": 7,
          "rowCount": 6,
          "stageIds": [
           37,
           38
          ],
          "status": "SUCCEEDED",
          "submissionTime": "2023-09-11T14:34:00.876GMT",
          "usageDescription": ""
         },
         {
          "completionTime": "2023-09-11T14:34:00.859GMT",
          "dataRead": 22961572,
          "dataWritten": 1420735,
          "description": "Job group for statement 16:\ndisplay(df_ratings, summary=True)",
          "displayName": "collect at AnalysisRunner.scala:328",
          "jobGroup": "16",
          "jobId": 27,
          "killedTasksSummary": {},
          "name": "collect at AnalysisRunner.scala:328",
          "numActiveStages": 0,
          "numActiveTasks": 0,
          "numCompletedIndices": 6,
          "numCompletedStages": 1,
          "numCompletedTasks": 6,
          "numFailedStages": 0,
          "numFailedTasks": 0,
          "numKilledTasks": 0,
          "numSkippedStages": 0,
          "numSkippedTasks": 0,
          "numTasks": 6,
          "rowCount": 1149786,
          "stageIds": [
           36
          ],
          "status": "SUCCEEDED",
          "submissionTime": "2023-09-11T14:33:59.056GMT",
          "usageDescription": ""
         }
        ],
        "limit": 20,
        "numbers": {
         "FAILED": 0,
         "RUNNING": 0,
         "SUCCEEDED": 2,
         "UNKNOWN": 0
        },
        "rule": "ALL_DESC"
       },
       "spark_pool": null,
       "state": "finished",
       "statement_id": 16
      },
      "text/plain": [
       "StatementMeta(, db09740a-036f-4e14-9afc-ee8d112e8535, 16, Finished, Available)"
      ]
     },
     "metadata": {},
     "output_type": "display_data"
    },
    {
     "data": {
      "application/vnd.synapse.widget-view+json": {
       "widget_id": "3f171886-f708-4d35-aea0-556e02b841dc",
       "widget_type": "Synapse.DataFrame"
      },
      "text/plain": [
       "SynapseWidget(Synapse.DataFrame, 3f171886-f708-4d35-aea0-556e02b841dc)"
      ]
     },
     "metadata": {},
     "output_type": "display_data"
    }
   ],
   "source": [
    "display(df_ratings, summary=True)"
   ]
  },
  {
   "cell_type": "markdown",
   "id": "2a07c665-94df-42bd-a285-ffa2b706ce4d",
   "metadata": {},
   "source": [
    "Collect the distinct ratings and save them to a list named `ratings` for later use."
   ]
  },
  {
   "cell_type": "code",
   "execution_count": null,
   "id": "b22adf2a-2b2a-4625-a4ae-aae616b166d5",
   "metadata": {
    "jupyter": {
     "outputs_hidden": false,
     "source_hidden": false
    },
    "nteract": {
     "transient": {
      "deleting": false
     }
    }
   },
   "outputs": [
    {
     "data": {
      "application/vnd.livy.statement-meta+json": {
       "execution_finish_time": "2023-09-11T14:34:03.0195913Z",
       "execution_start_time": "2023-09-11T14:34:02.0669166Z",
       "livy_statement_state": "available",
       "parent_msg_id": "4091660b-01b2-4f90-a033-2bb90a28eda6",
       "queued_time": "2023-09-11T14:33:00.6050361Z",
       "session_id": "db09740a-036f-4e14-9afc-ee8d112e8535",
       "session_start_time": null,
       "spark_jobs": {
        "jobs": [
         {
          "completionTime": "2023-09-11T14:34:02.505GMT",
          "dataRead": 3876,
          "dataWritten": 0,
          "description": "Job group for statement 17:\nratings = [i[0] for i in df_ratings.select(RATING_COL).distinct().collect()]\nprint(ratings)",
          "displayName": "collect at /tmp/ipykernel_9996/2452077145.py:1",
          "jobGroup": "17",
          "jobId": 30,
          "killedTasksSummary": {},
          "name": "collect at /tmp/ipykernel_9996/2452077145.py:1",
          "numActiveStages": 0,
          "numActiveTasks": 0,
          "numCompletedIndices": 1,
          "numCompletedStages": 1,
          "numCompletedTasks": 1,
          "numFailedStages": 0,
          "numFailedTasks": 0,
          "numKilledTasks": 0,
          "numSkippedStages": 1,
          "numSkippedTasks": 6,
          "numTasks": 7,
          "rowCount": 66,
          "stageIds": [
           40,
           41
          ],
          "status": "SUCCEEDED",
          "submissionTime": "2023-09-11T14:34:02.461GMT",
          "usageDescription": ""
         },
         {
          "completionTime": "2023-09-11T14:34:02.412GMT",
          "dataRead": 18171584,
          "dataWritten": 3876,
          "description": "Job group for statement 17:\nratings = [i[0] for i in df_ratings.select(RATING_COL).distinct().collect()]\nprint(ratings)",
          "displayName": "collect at /tmp/ipykernel_9996/2452077145.py:1",
          "jobGroup": "17",
          "jobId": 29,
          "killedTasksSummary": {},
          "name": "collect at /tmp/ipykernel_9996/2452077145.py:1",
          "numActiveStages": 0,
          "numActiveTasks": 0,
          "numCompletedIndices": 6,
          "numCompletedStages": 1,
          "numCompletedTasks": 6,
          "numFailedStages": 0,
          "numFailedTasks": 0,
          "numKilledTasks": 0,
          "numSkippedStages": 0,
          "numSkippedTasks": 0,
          "numTasks": 6,
          "rowCount": 183,
          "stageIds": [
           39
          ],
          "status": "SUCCEEDED",
          "submissionTime": "2023-09-11T14:34:02.226GMT",
          "usageDescription": ""
         }
        ],
        "limit": 20,
        "numbers": {
         "FAILED": 0,
         "RUNNING": 0,
         "SUCCEEDED": 2,
         "UNKNOWN": 0
        },
        "rule": "ALL_DESC"
       },
       "spark_pool": null,
       "state": "finished",
       "statement_id": 17
      },
      "text/plain": [
       "StatementMeta(, db09740a-036f-4e14-9afc-ee8d112e8535, 17, Finished, Available)"
      ]
     },
     "metadata": {},
     "output_type": "display_data"
    },
    {
     "name": "stdout",
     "output_type": "stream",
     "text": [
      "[1, 6, 3, 5, 9, 4, 8, 7, 10, 2, 0]\n"
     ]
    }
   ],
   "source": [
    "ratings = [i[0] for i in df_ratings.select(RATING_COL).distinct().collect()]\n",
    "print(ratings)"
   ]
  },
  {
   "cell_type": "markdown",
   "id": "1220f032-b83a-45af-bf85-9015efe1715e",
   "metadata": {
    "nteract": {
     "transient": {
      "deleting": false
     }
    }
   },
   "source": [
    "##### Plot the top 10 books with the highest ratings"
   ]
  },
  {
   "cell_type": "code",
   "execution_count": null,
   "id": "872775eb-9a61-49d9-a7ee-656bbfdc1ff1",
   "metadata": {
    "jupyter": {
     "outputs_hidden": false,
     "source_hidden": false
    },
    "nteract": {
     "transient": {
      "deleting": false
     }
    }
   },
   "outputs": [
    {
     "data": {
      "application/vnd.livy.statement-meta+json": {
       "execution_finish_time": "2023-09-11T14:34:06.3290862Z",
       "execution_start_time": "2023-09-11T14:34:03.6131246Z",
       "livy_statement_state": "available",
       "parent_msg_id": "0d7f2054-5640-4bdd-882b-67b6baddfdb9",
       "queued_time": "2023-09-11T14:33:00.6056427Z",
       "session_id": "db09740a-036f-4e14-9afc-ee8d112e8535",
       "session_start_time": null,
       "spark_jobs": {
        "jobs": [],
        "limit": 20,
        "numbers": {
         "FAILED": 0,
         "RUNNING": 0,
         "SUCCEEDED": 0,
         "UNKNOWN": 0
        },
        "rule": "ALL_DESC"
       },
       "spark_pool": null,
       "state": "finished",
       "statement_id": 18
      },
      "text/plain": [
       "StatementMeta(, db09740a-036f-4e14-9afc-ee8d112e8535, 18, Finished, Available)"
      ]
     },
     "metadata": {},
     "output_type": "display_data"
    },
    {
     "data": {
      "text/plain": [
       "Text(0.5, 1.0, 'Top 10 books per number of ratings')"
      ]
     },
     "execution_count": null,
     "metadata": {},
     "output_type": "execute_result"
    },
    {
     "data": {
      "image/png": "[encoded data removed]",
      "text/plain": [
       "<Figure size 800x500 with 1 Axes>"
      ]
     },
     "metadata": {},
     "output_type": "display_data"
    }
   ],
   "source": [
    "plt.figure(figsize=(8,5))\n",
    "sns.countplot(y=\"Book-Title\",palette = 'Paired',data= df_books, order=df_books['Book-Title'].value_counts().index[0:10])\n",
    "plt.title(\"Top 10 books per number of ratings\")"
   ]
  },
  {
   "cell_type": "markdown",
   "id": "705aa6f6-26aa-4e18-9a15-e49025dadfec",
   "metadata": {
    "nteract": {
     "transient": {
      "deleting": false
     }
    }
   },
   "source": [
    "\"Selected Poems\" is most favorable among users according to ratings. The books \"Adventures of Huckleberry Finn\", \"The Secret Garden\", and \"Dracula\", have the same rating."
   ]
  },
  {
   "cell_type": "markdown",
   "id": "ac762b1f-e728-4d50-8633-95e2d1a41960",
   "metadata": {
    "nteract": {
     "transient": {
      "deleting": false
     }
    }
   },
   "source": [
    "### Merge all datasets\n",
    "\n",
    "Once you've looked into all three dataframes corresponding to Book, User and Rating datasets, merge all three dataframes into one dataframe for a more comprehensive analysis."
   ]
  },
  {
   "cell_type": "code",
   "execution_count": null,
   "id": "aa14f28b-d564-40b5-b6f9-4646e90d01a4",
   "metadata": {},
   "outputs": [
    {
     "data": {
      "application/vnd.livy.statement-meta+json": {
       "execution_finish_time": "2023-09-11T14:34:15.2828199Z",
       "execution_start_time": "2023-09-11T14:34:06.8029598Z",
       "livy_statement_state": "available",
       "parent_msg_id": "25a87b08-1cee-4aea-9382-a29b35ef8d86",
       "queued_time": "2023-09-11T14:33:00.6062511Z",
       "session_id": "db09740a-036f-4e14-9afc-ee8d112e8535",
       "session_start_time": null,
       "spark_jobs": {
        "jobs": [
         {
          "completionTime": "2023-09-11T14:34:13.024GMT",
          "dataRead": 93167081,
          "dataWritten": 67965116,
          "description": "Job group for statement 19:\ndf_all = df_ratings.join(df_users, USER_ID_COL, \"inner\").join(\n    df_items, ITEM_ID_COL, \"inner\"\n)\ndf_all_columns = [\n    c for c in df_all.columns if c not in [\"_user_id\", \"_item_id\", RATING_COL]\n]\n\n# Reorders the columns to ensure that _user_id, _item_id, and Book-Rating are the first three columns\ndf_all = (\n    df_all.select([\"_user_id\", \"_item_id\", RATING_COL] + df_all_columns)\n    .withColumn(\"id\", F.monotonically_increasing_id())\n    .cache()\n)\n\ndisplay(df_all)",
          "displayName": "getRowsInJsonString at Display.scala:452",
          "jobGroup": "19",
          "jobId": 32,
          "killedTasksSummary": {},
          "name": "getRowsInJsonString at Display.scala:452",
          "numActiveStages": 0,
          "numActiveTasks": 0,
          "numCompletedIndices": 15,
          "numCompletedStages": 3,
          "numCompletedTasks": 15,
          "numFailedStages": 0,
          "numFailedTasks": 0,
          "numKilledTasks": 0,
          "numSkippedStages": 0,
          "numSkippedTasks": 0,
          "numTasks": 15,
          "rowCount": 1308934,
          "stageIds": [
           45,
           43,
           44
          ],
          "status": "SUCCEEDED",
          "submissionTime": "2023-09-11T14:34:09.367GMT",
          "usageDescription": ""
         }
        ],
        "limit": 20,
        "numbers": {
         "FAILED": 0,
         "RUNNING": 0,
         "SUCCEEDED": 1,
         "UNKNOWN": 0
        },
        "rule": "ALL_DESC"
       },
       "spark_pool": null,
       "state": "finished",
       "statement_id": 19
      },
      "text/plain": [
       "StatementMeta(, db09740a-036f-4e14-9afc-ee8d112e8535, 19, Finished, Available)"
      ]
     },
     "metadata": {},
     "output_type": "display_data"
    },
    {
     "data": {
      "application/vnd.synapse.widget-view+json": {
       "widget_id": "017c9167-f3b2-4ee1-92db-476188a3c8f0",
       "widget_type": "Synapse.DataFrame"
      },
      "text/plain": [
       "SynapseWidget(Synapse.DataFrame, 017c9167-f3b2-4ee1-92db-476188a3c8f0)"
      ]
     },
     "metadata": {},
     "output_type": "display_data"
    }
   ],
   "source": [
    "df_all = df_ratings.join(df_users, USER_ID_COL, \"inner\").join(\n",
    "    df_items, ITEM_ID_COL, \"inner\"\n",
    ")\n",
    "df_all_columns = [\n",
    "    c for c in df_all.columns if c not in [\"_user_id\", \"_item_id\", RATING_COL]\n",
    "]\n",
    "\n",
    "# Reorders the columns to ensure that _user_id, _item_id, and Book-Rating are the first three columns\n",
    "df_all = (\n",
    "    df_all.select([\"_user_id\", \"_item_id\", RATING_COL] + df_all_columns)\n",
    "    .withColumn(\"id\", F.monotonically_increasing_id())\n",
    "    .cache()\n",
    ")\n",
    "\n",
    "display(df_all)"
   ]
  },
  {
   "cell_type": "markdown",
   "id": "98c9912f-1f7c-4df3-97da-188db84dd551",
   "metadata": {
    "nteract": {
     "transient": {
      "deleting": false
     }
    }
   },
   "source": [
    "Count and print the total number of distinct users, the total number of distinct books, and the total number of interactions."
   ]
  },
  {
   "cell_type": "code",
   "execution_count": null,
   "id": "a6aecab5-c642-4cc4-9c97-d126485c6c04",
   "metadata": {
    "jupyter": {
     "outputs_hidden": false,
     "source_hidden": false
    },
    "nteract": {
     "transient": {
      "deleting": false
     }
    }
   },
   "outputs": [
    {
     "data": {
      "application/vnd.livy.statement-meta+json": {
       "execution_finish_time": "2023-09-11T14:34:44.2676271Z",
       "execution_start_time": "2023-09-11T14:34:15.8567633Z",
       "livy_statement_state": "available",
       "parent_msg_id": "923c9396-6cc1-4cc2-8a07-e5b5517ce6b5",
       "queued_time": "2023-09-11T14:33:04.4068931Z",
       "session_id": "db09740a-036f-4e14-9afc-ee8d112e8535",
       "session_start_time": null,
       "spark_jobs": {
        "jobs": [
         {
          "completionTime": "2023-09-11T14:34:43.491GMT",
          "dataRead": 11800,
          "dataWritten": 0,
          "description": "Job group for statement 20:\nprint(f\"Total Users: {df_users.select('_user_id').distinct().count()}\")\nprint(f\"Total Items: {df_items.select('_item_id').distinct().count()}\")\nprint(f\"Total User-Item Interactions: {df_all.count()}\")",
          "displayName": "count at NativeMethodAccessorImpl.java:0",
          "jobGroup": "20",
          "jobId": 40,
          "killedTasksSummary": {},
          "name": "count at NativeMethodAccessorImpl.java:0",
          "numActiveStages": 0,
          "numActiveTasks": 0,
          "numCompletedIndices": 1,
          "numCompletedStages": 1,
          "numCompletedTasks": 1,
          "numFailedStages": 0,
          "numFailedTasks": 0,
          "numKilledTasks": 0,
          "numSkippedStages": 3,
          "numSkippedTasks": 214,
          "numTasks": 215,
          "rowCount": 200,
          "stageIds": [
           63,
           64,
           61,
           62
          ],
          "status": "SUCCEEDED",
          "submissionTime": "2023-09-11T14:34:43.456GMT",
          "usageDescription": ""
         },
         {
          "completionTime": "2023-09-11T14:34:43.435GMT",
          "dataRead": 68201779,
          "dataWritten": 11800,
          "description": "Job group for statement 20:\nprint(f\"Total Users: {df_users.select('_user_id').distinct().count()}\")\nprint(f\"Total Items: {df_items.select('_item_id').distinct().count()}\")\nprint(f\"Total User-Item Interactions: {df_all.count()}\")",
          "displayName": "count at NativeMethodAccessorImpl.java:0",
          "jobGroup": "20",
          "jobId": 39,
          "killedTasksSummary": {},
          "name": "count at NativeMethodAccessorImpl.java:0",
          "numActiveStages": 0,
          "numActiveTasks": 0,
          "numCompletedIndices": 200,
          "numCompletedStages": 1,
          "numCompletedTasks": 200,
          "numFailedStages": 0,
          "numFailedTasks": 0,
          "numKilledTasks": 0,
          "numSkippedStages": 2,
          "numSkippedTasks": 14,
          "numTasks": 214,
          "rowCount": 1296407,
          "stageIds": [
           60,
           58,
           59
          ],
          "status": "SUCCEEDED",
          "submissionTime": "2023-09-11T14:34:19.569GMT",
          "usageDescription": ""
         },
         {
          "completionTime": "2023-09-11T14:34:19.322GMT",
          "dataRead": 58,
          "dataWritten": 0,
          "description": "Job group for statement 20:\nprint(f\"Total Users: {df_users.select('_user_id').distinct().count()}\")\nprint(f\"Total Items: {df_items.select('_item_id').distinct().count()}\")\nprint(f\"Total User-Item Interactions: {df_all.count()}\")",
          "displayName": "count at NativeMethodAccessorImpl.java:0",
          "jobGroup": "20",
          "jobId": 38,
          "killedTasksSummary": {},
          "name": "count at NativeMethodAccessorImpl.java:0",
          "numActiveStages": 0,
          "numActiveTasks": 0,
          "numCompletedIndices": 1,
          "numCompletedStages": 1,
          "numCompletedTasks": 1,
          "numFailedStages": 0,
          "numFailedTasks": 0,
          "numKilledTasks": 0,
          "numSkippedStages": 2,
          "numSkippedTasks": 9,
          "numTasks": 10,
          "rowCount": 1,
          "stageIds": [
           56,
           57,
           55
          ],
          "status": "SUCCEEDED",
          "submissionTime": "2023-09-11T14:34:19.308GMT",
          "usageDescription": ""
         },
         {
          "completionTime": "2023-09-11T14:34:19.295GMT",
          "dataRead": 1538926,
          "dataWritten": 58,
          "description": "Job group for statement 20:\nprint(f\"Total Users: {df_users.select('_user_id').distinct().count()}\")\nprint(f\"Total Items: {df_items.select('_item_id').distinct().count()}\")\nprint(f\"Total User-Item Interactions: {df_all.count()}\")",
          "displayName": "count at NativeMethodAccessorImpl.java:0",
          "jobGroup": "20",
          "jobId": 37,
          "killedTasksSummary": {},
          "name": "count at NativeMethodAccessorImpl.java:0",
          "numActiveStages": 0,
          "numActiveTasks": 0,
          "numCompletedIndices": 1,
          "numCompletedStages": 1,
          "numCompletedTasks": 1,
          "numFailedStages": 0,
          "numFailedTasks": 0,
          "numKilledTasks": 0,
          "numSkippedStages": 1,
          "numSkippedTasks": 8,
          "numTasks": 9,
          "rowCount": 271361,
          "stageIds": [
           53,
           54
          ],
          "status": "SUCCEEDED",
          "submissionTime": "2023-09-11T14:34:18.971GMT",
          "usageDescription": ""
         },
         {
          "completionTime": "2023-09-11T14:34:18.848GMT",
          "dataRead": 74660656,
          "dataWritten": 1538926,
          "description": "Job group for statement 20:\nprint(f\"Total Users: {df_users.select('_user_id').distinct().count()}\")\nprint(f\"Total Items: {df_items.select('_item_id').distinct().count()}\")\nprint(f\"Total User-Item Interactions: {df_all.count()}\")",
          "displayName": "count at NativeMethodAccessorImpl.java:0",
          "jobGroup": "20",
          "jobId": 36,
          "killedTasksSummary": {},
          "name": "count at NativeMethodAccessorImpl.java:0",
          "numActiveStages": 0,
          "numActiveTasks": 0,
          "numCompletedIndices": 8,
          "numCompletedStages": 1,
          "numCompletedTasks": 8,
          "numFailedStages": 0,
          "numFailedTasks": 0,
          "numKilledTasks": 0,
          "numSkippedStages": 0,
          "numSkippedTasks": 0,
          "numTasks": 8,
          "rowCount": 271391,
          "stageIds": [
           52
          ],
          "status": "SUCCEEDED",
          "submissionTime": "2023-09-11T14:34:17.872GMT",
          "usageDescription": ""
         },
         {
          "completionTime": "2023-09-11T14:34:17.529GMT",
          "dataRead": 59,
          "dataWritten": 0,
          "description": "Job group for statement 20:\nprint(f\"Total Users: {df_users.select('_user_id').distinct().count()}\")\nprint(f\"Total Items: {df_items.select('_item_id').distinct().count()}\")\nprint(f\"Total User-Item Interactions: {df_all.count()}\")",
          "displayName": "count at NativeMethodAccessorImpl.java:0",
          "jobGroup": "20",
          "jobId": 35,
          "killedTasksSummary": {},
          "name": "count at NativeMethodAccessorImpl.java:0",
          "numActiveStages": 0,
          "numActiveTasks": 0,
          "numCompletedIndices": 1,
          "numCompletedStages": 1,
          "numCompletedTasks": 1,
          "numFailedStages": 0,
          "numFailedTasks": 0,
          "numKilledTasks": 0,
          "numSkippedStages": 2,
          "numSkippedTasks": 4,
          "numTasks": 5,
          "rowCount": 1,
          "stageIds": [
           51,
           49,
           50
          ],
          "status": "SUCCEEDED",
          "submissionTime": "2023-09-11T14:34:17.507GMT",
          "usageDescription": ""
         },
         {
          "completionTime": "2023-09-11T14:34:17.488GMT",
          "dataRead": 1602685,
          "dataWritten": 59,
          "description": "Job group for statement 20:\nprint(f\"Total Users: {df_users.select('_user_id').distinct().count()}\")\nprint(f\"Total Items: {df_items.select('_item_id').distinct().count()}\")\nprint(f\"Total User-Item Interactions: {df_all.count()}\")",
          "displayName": "count at NativeMethodAccessorImpl.java:0",
          "jobGroup": "20",
          "jobId": 34,
          "killedTasksSummary": {},
          "name": "count at NativeMethodAccessorImpl.java:0",
          "numActiveStages": 0,
          "numActiveTasks": 0,
          "numCompletedIndices": 1,
          "numCompletedStages": 1,
          "numCompletedTasks": 1,
          "numFailedStages": 0,
          "numFailedTasks": 0,
          "numKilledTasks": 0,
          "numSkippedStages": 1,
          "numSkippedTasks": 3,
          "numTasks": 4,
          "rowCount": 278859,
          "stageIds": [
           48,
           47
          ],
          "status": "SUCCEEDED",
          "submissionTime": "2023-09-11T14:34:17.134GMT",
          "usageDescription": ""
         },
         {
          "completionTime": "2023-09-11T14:34:16.927GMT",
          "dataRead": 6319048,
          "dataWritten": 1602685,
          "description": "Job group for statement 20:\nprint(f\"Total Users: {df_users.select('_user_id').distinct().count()}\")\nprint(f\"Total Items: {df_items.select('_item_id').distinct().count()}\")\nprint(f\"Total User-Item Interactions: {df_all.count()}\")",
          "displayName": "count at NativeMethodAccessorImpl.java:0",
          "jobGroup": "20",
          "jobId": 33,
          "killedTasksSummary": {},
          "name": "count at NativeMethodAccessorImpl.java:0",
          "numActiveStages": 0,
          "numActiveTasks": 0,
          "numCompletedIndices": 3,
          "numCompletedStages": 1,
          "numCompletedTasks": 3,
          "numFailedStages": 0,
          "numFailedTasks": 0,
          "numKilledTasks": 0,
          "numSkippedStages": 0,
          "numSkippedTasks": 0,
          "numTasks": 3,
          "rowCount": 278887,
          "stageIds": [
           46
          ],
          "status": "SUCCEEDED",
          "submissionTime": "2023-09-11T14:34:16.254GMT",
          "usageDescription": ""
         }
        ],
        "limit": 20,
        "numbers": {
         "FAILED": 0,
         "RUNNING": 0,
         "SUCCEEDED": 8,
         "UNKNOWN": 0
        },
        "rule": "ALL_DESC"
       },
       "spark_pool": null,
       "state": "finished",
       "statement_id": 20
      },
      "text/plain": [
       "StatementMeta(, db09740a-036f-4e14-9afc-ee8d112e8535, 20, Finished, Available)"
      ]
     },
     "metadata": {},
     "output_type": "display_data"
    },
    {
     "name": "stdout",
     "output_type": "stream",
     "text": [
      "Total Users: 278858\n",
      "Total Items: 271360\n",
      "Total User-Item Interactions: 1031136\n"
     ]
    }
   ],
   "source": [
    "print(f\"Total Users: {df_users.select('_user_id').distinct().count()}\")\n",
    "print(f\"Total Items: {df_items.select('_item_id').distinct().count()}\")\n",
    "print(f\"Total User-Item Interactions: {df_all.count()}\")"
   ]
  },
  {
   "cell_type": "markdown",
   "id": "64ed7d2b-957e-46ed-b9da-07816573d80c",
   "metadata": {
    "nteract": {
     "transient": {
      "deleting": false
     }
    }
   },
   "source": [
    "### Create visualizations\n",
    "\n",
    "Compute the most popular books and then display the top 10. Note that the `<topn>` popular items can be used for **\"Popular\"** or **\"Most purchased\"** recommendation section."
   ]
  },
  {
   "cell_type": "code",
   "execution_count": null,
   "id": "777d503e-b7b9-41c0-98f8-72627f102a4a",
   "metadata": {
    "jupyter": {
     "outputs_hidden": false,
     "source_hidden": false
    },
    "nteract": {
     "transient": {
      "deleting": false
     }
    }
   },
   "outputs": [
    {
     "data": {
      "application/vnd.livy.statement-meta+json": {
       "execution_finish_time": "2023-09-11T14:35:12.9470242Z",
       "execution_start_time": "2023-09-11T14:34:44.7687185Z",
       "livy_statement_state": "available",
       "parent_msg_id": "c6daa4c9-7007-4ff3-9ad8-7a5eb12a6d6b",
       "queued_time": "2023-09-11T14:33:07.6446394Z",
       "session_id": "db09740a-036f-4e14-9afc-ee8d112e8535",
       "session_start_time": null,
       "spark_jobs": {
        "jobs": [
         {
          "completionTime": "2023-09-11T14:35:12.301GMT",
          "dataRead": 74673534,
          "dataWritten": 12878,
          "description": "Job group for statement 21:\n# Compute top popular products\ndf_top_items = (\n    df_all.groupby([\"_item_id\"])\n    .count()\n    .join(df_items, \"_item_id\", \"inner\")\n    .sort([\"count\"], ascending=[0])\n)\n\n# Find top <topn> popular items\ntopn = 10\npd_top_items = df_top_items.limit(topn).toPandas()\npd_top_items.head(10)",
          "displayName": "toPandas at /tmp/ipykernel_9996/1865470362.py:11",
          "jobGroup": "21",
          "jobId": 43,
          "killedTasksSummary": {},
          "name": "toPandas at /tmp/ipykernel_9996/1865470362.py:11",
          "numActiveStages": 0,
          "numActiveTasks": 0,
          "numCompletedIndices": 9,
          "numCompletedStages": 2,
          "numCompletedTasks": 9,
          "numFailedStages": 0,
          "numFailedTasks": 0,
          "numKilledTasks": 0,
          "numSkippedStages": 0,
          "numSkippedTasks": 0,
          "numTasks": 9,
          "rowCount": 191,
          "stageIds": [
           72,
           73
          ],
          "status": "SUCCEEDED",
          "submissionTime": "2023-09-11T14:35:10.774GMT",
          "usageDescription": ""
         },
         {
          "completionTime": "2023-09-11T14:35:08.246GMT",
          "dataRead": 114371936,
          "dataWritten": 5058971,
          "description": "Job group for statement 21:\n# Compute top popular products\ndf_top_items = (\n    df_all.groupby([\"_item_id\"])\n    .count()\n    .join(df_items, \"_item_id\", \"inner\")\n    .sort([\"count\"], ascending=[0])\n)\n\n# Find top <topn> popular items\ntopn = 10\npd_top_items = df_top_items.limit(topn).toPandas()\npd_top_items.head(10)",
          "displayName": "toPandas at /tmp/ipykernel_9996/1865470362.py:11",
          "jobGroup": "21",
          "jobId": 41,
          "killedTasksSummary": {},
          "name": "toPandas at /tmp/ipykernel_9996/1865470362.py:11",
          "numActiveStages": 0,
          "numActiveTasks": 0,
          "numCompletedIndices": 200,
          "numCompletedStages": 1,
          "numCompletedTasks": 200,
          "numFailedStages": 0,
          "numFailedTasks": 0,
          "numKilledTasks": 0,
          "numSkippedStages": 2,
          "numSkippedTasks": 14,
          "numTasks": 214,
          "rowCount": 270351,
          "stageIds": [
           66,
           67,
           65
          ],
          "status": "SUCCEEDED",
          "submissionTime": "2023-09-11T14:34:45.308GMT",
          "usageDescription": ""
         }
        ],
        "limit": 20,
        "numbers": {
         "FAILED": 0,
         "RUNNING": 0,
         "SUCCEEDED": 2,
         "UNKNOWN": 0
        },
        "rule": "ALL_DESC"
       },
       "spark_pool": null,
       "state": "finished",
       "statement_id": 21
      },
      "text/plain": [
       "StatementMeta(, db09740a-036f-4e14-9afc-ee8d112e8535, 21, Finished, Available)"
      ]
     },
     "metadata": {},
     "output_type": "display_data"
    },
    {
     "data": {
      "text/html": [
       "<div>\n",
       "<style scoped>\n",
       "    .dataframe tbody tr th:only-of-type {\n",
       "        vertical-align: middle;\n",
       "    }\n",
       "\n",
       "    .dataframe tbody tr th {\n",
       "        vertical-align: top;\n",
       "    }\n",
       "\n",
       "    .dataframe thead th {\n",
       "        text-align: right;\n",
       "    }\n",
       "</style>\n",
       "<table border=\"1\" class=\"dataframe\">\n",
       "  <thead>\n",
       "    <tr style=\"text-align: right;\">\n",
       "      <th></th>\n",
       "      <th>_item_id</th>\n",
       "      <th>count</th>\n",
       "      <th>ISBN</th>\n",
       "      <th>Book-Title</th>\n",
       "      <th>Book-Author</th>\n",
       "      <th>Year-Of-Publication</th>\n",
       "      <th>Publisher</th>\n",
       "      <th>Image-URL-S</th>\n",
       "      <th>Image-URL-M</th>\n",
       "      <th>Image-URL-L</th>\n",
       "    </tr>\n",
       "  </thead>\n",
       "  <tbody>\n",
       "    <tr>\n",
       "      <th>0</th>\n",
       "      <td>216737</td>\n",
       "      <td>2502</td>\n",
       "      <td>0971880107</td>\n",
       "      <td>Wild Animus</td>\n",
       "      <td>Rich Shapero</td>\n",
       "      <td>2004</td>\n",
       "      <td>Too Far</td>\n",
       "      <td>http://images.amazon.com/images/P/0971880107.0...</td>\n",
       "      <td>http://images.amazon.com/images/P/0971880107.0...</td>\n",
       "      <td>http://images.amazon.com/images/P/0971880107.0...</td>\n",
       "    </tr>\n",
       "    <tr>\n",
       "      <th>1</th>\n",
       "      <td>38729</td>\n",
       "      <td>1295</td>\n",
       "      <td>0316666343</td>\n",
       "      <td>The Lovely Bones: A Novel</td>\n",
       "      <td>Alice Sebold</td>\n",
       "      <td>2002</td>\n",
       "      <td>Little, Brown</td>\n",
       "      <td>http://images.amazon.com/images/P/0316666343.0...</td>\n",
       "      <td>http://images.amazon.com/images/P/0316666343.0...</td>\n",
       "      <td>http://images.amazon.com/images/P/0316666343.0...</td>\n",
       "    </tr>\n",
       "    <tr>\n",
       "      <th>2</th>\n",
       "      <td>71056</td>\n",
       "      <td>883</td>\n",
       "      <td>0385504209</td>\n",
       "      <td>The Da Vinci Code</td>\n",
       "      <td>Dan Brown</td>\n",
       "      <td>2003</td>\n",
       "      <td>Doubleday</td>\n",
       "      <td>http://images.amazon.com/images/P/0385504209.0...</td>\n",
       "      <td>http://images.amazon.com/images/P/0385504209.0...</td>\n",
       "      <td>http://images.amazon.com/images/P/0385504209.0...</td>\n",
       "    </tr>\n",
       "    <tr>\n",
       "      <th>3</th>\n",
       "      <td>7378</td>\n",
       "      <td>732</td>\n",
       "      <td>0060928336</td>\n",
       "      <td>Divine Secrets of the Ya-Ya Sisterhood: A Novel</td>\n",
       "      <td>Rebecca Wells</td>\n",
       "      <td>1997</td>\n",
       "      <td>Perennial</td>\n",
       "      <td>http://images.amazon.com/images/P/0060928336.0...</td>\n",
       "      <td>http://images.amazon.com/images/P/0060928336.0...</td>\n",
       "      <td>http://images.amazon.com/images/P/0060928336.0...</td>\n",
       "    </tr>\n",
       "    <tr>\n",
       "      <th>4</th>\n",
       "      <td>32497</td>\n",
       "      <td>723</td>\n",
       "      <td>0312195516</td>\n",
       "      <td>The Red Tent (Bestselling Backlist)</td>\n",
       "      <td>Anita Diamant</td>\n",
       "      <td>1998</td>\n",
       "      <td>Picador USA</td>\n",
       "      <td>http://images.amazon.com/images/P/0312195516.0...</td>\n",
       "      <td>http://images.amazon.com/images/P/0312195516.0...</td>\n",
       "      <td>http://images.amazon.com/images/P/0312195516.0...</td>\n",
       "    </tr>\n",
       "    <tr>\n",
       "      <th>5</th>\n",
       "      <td>87704</td>\n",
       "      <td>647</td>\n",
       "      <td>044023722X</td>\n",
       "      <td>A Painted House</td>\n",
       "      <td>John Grisham</td>\n",
       "      <td>2001</td>\n",
       "      <td>Dell Publishing Company</td>\n",
       "      <td>http://images.amazon.com/images/P/044023722X.0...</td>\n",
       "      <td>http://images.amazon.com/images/P/044023722X.0...</td>\n",
       "      <td>http://images.amazon.com/images/P/044023722X.0...</td>\n",
       "    </tr>\n",
       "    <tr>\n",
       "      <th>6</th>\n",
       "      <td>21423</td>\n",
       "      <td>615</td>\n",
       "      <td>0142001740</td>\n",
       "      <td>The Secret Life of Bees</td>\n",
       "      <td>Sue Monk Kidd</td>\n",
       "      <td>2003</td>\n",
       "      <td>Penguin Books</td>\n",
       "      <td>http://images.amazon.com/images/P/0142001740.0...</td>\n",
       "      <td>http://images.amazon.com/images/P/0142001740.0...</td>\n",
       "      <td>http://images.amazon.com/images/P/0142001740.0...</td>\n",
       "    </tr>\n",
       "    <tr>\n",
       "      <th>7</th>\n",
       "      <td>145506</td>\n",
       "      <td>614</td>\n",
       "      <td>067976402X</td>\n",
       "      <td>Snow Falling on Cedars</td>\n",
       "      <td>David Guterson</td>\n",
       "      <td>1995</td>\n",
       "      <td>Vintage Books USA</td>\n",
       "      <td>http://images.amazon.com/images/P/067976402X.0...</td>\n",
       "      <td>http://images.amazon.com/images/P/067976402X.0...</td>\n",
       "      <td>http://images.amazon.com/images/P/067976402X.0...</td>\n",
       "    </tr>\n",
       "    <tr>\n",
       "      <th>8</th>\n",
       "      <td>133573</td>\n",
       "      <td>586</td>\n",
       "      <td>0671027360</td>\n",
       "      <td>Angels &amp;amp; Demons</td>\n",
       "      <td>Dan Brown</td>\n",
       "      <td>2001</td>\n",
       "      <td>Pocket Star</td>\n",
       "      <td>http://images.amazon.com/images/P/0671027360.0...</td>\n",
       "      <td>http://images.amazon.com/images/P/0671027360.0...</td>\n",
       "      <td>http://images.amazon.com/images/P/0671027360.0...</td>\n",
       "    </tr>\n",
       "    <tr>\n",
       "      <th>9</th>\n",
       "      <td>94175</td>\n",
       "      <td>585</td>\n",
       "      <td>0446672211</td>\n",
       "      <td>Where the Heart Is (Oprah's Book Club (Paperba...</td>\n",
       "      <td>Billie Letts</td>\n",
       "      <td>1998</td>\n",
       "      <td>Warner Books</td>\n",
       "      <td>http://images.amazon.com/images/P/0446672211.0...</td>\n",
       "      <td>http://images.amazon.com/images/P/0446672211.0...</td>\n",
       "      <td>http://images.amazon.com/images/P/0446672211.0...</td>\n",
       "    </tr>\n",
       "  </tbody>\n",
       "</table>\n",
       "</div>"
      ],
      "text/plain": [
       "   _item_id  count        ISBN  \\\n",
       "0    216737   2502  0971880107   \n",
       "1     38729   1295  0316666343   \n",
       "2     71056    883  0385504209   \n",
       "3      7378    732  0060928336   \n",
       "4     32497    723  0312195516   \n",
       "5     87704    647  044023722X   \n",
       "6     21423    615  0142001740   \n",
       "7    145506    614  067976402X   \n",
       "8    133573    586  0671027360   \n",
       "9     94175    585  0446672211   \n",
       "\n",
       "                                          Book-Title     Book-Author  \\\n",
       "0                                        Wild Animus    Rich Shapero   \n",
       "1                          The Lovely Bones: A Novel    Alice Sebold   \n",
       "2                                  The Da Vinci Code       Dan Brown   \n",
       "3    Divine Secrets of the Ya-Ya Sisterhood: A Novel   Rebecca Wells   \n",
       "4                The Red Tent (Bestselling Backlist)   Anita Diamant   \n",
       "5                                    A Painted House    John Grisham   \n",
       "6                            The Secret Life of Bees   Sue Monk Kidd   \n",
       "7                             Snow Falling on Cedars  David Guterson   \n",
       "8                                Angels &amp; Demons       Dan Brown   \n",
       "9  Where the Heart Is (Oprah's Book Club (Paperba...    Billie Letts   \n",
       "\n",
       "  Year-Of-Publication                Publisher  \\\n",
       "0                2004                  Too Far   \n",
       "1                2002            Little, Brown   \n",
       "2                2003                Doubleday   \n",
       "3                1997                Perennial   \n",
       "4                1998              Picador USA   \n",
       "5                2001  Dell Publishing Company   \n",
       "6                2003            Penguin Books   \n",
       "7                1995        Vintage Books USA   \n",
       "8                2001              Pocket Star   \n",
       "9                1998             Warner Books   \n",
       "\n",
       "                                         Image-URL-S  \\\n",
       "0  http://images.amazon.com/images/P/0971880107.0...   \n",
       "1  http://images.amazon.com/images/P/0316666343.0...   \n",
       "2  http://images.amazon.com/images/P/0385504209.0...   \n",
       "3  http://images.amazon.com/images/P/0060928336.0...   \n",
       "4  http://images.amazon.com/images/P/0312195516.0...   \n",
       "5  http://images.amazon.com/images/P/044023722X.0...   \n",
       "6  http://images.amazon.com/images/P/0142001740.0...   \n",
       "7  http://images.amazon.com/images/P/067976402X.0...   \n",
       "8  http://images.amazon.com/images/P/0671027360.0...   \n",
       "9  http://images.amazon.com/images/P/0446672211.0...   \n",
       "\n",
       "                                         Image-URL-M  \\\n",
       "0  http://images.amazon.com/images/P/0971880107.0...   \n",
       "1  http://images.amazon.com/images/P/0316666343.0...   \n",
       "2  http://images.amazon.com/images/P/0385504209.0...   \n",
       "3  http://images.amazon.com/images/P/0060928336.0...   \n",
       "4  http://images.amazon.com/images/P/0312195516.0...   \n",
       "5  http://images.amazon.com/images/P/044023722X.0...   \n",
       "6  http://images.amazon.com/images/P/0142001740.0...   \n",
       "7  http://images.amazon.com/images/P/067976402X.0...   \n",
       "8  http://images.amazon.com/images/P/0671027360.0...   \n",
       "9  http://images.amazon.com/images/P/0446672211.0...   \n",
       "\n",
       "                                         Image-URL-L  \n",
       "0  http://images.amazon.com/images/P/0971880107.0...  \n",
       "1  http://images.amazon.com/images/P/0316666343.0...  \n",
       "2  http://images.amazon.com/images/P/0385504209.0...  \n",
       "3  http://images.amazon.com/images/P/0060928336.0...  \n",
       "4  http://images.amazon.com/images/P/0312195516.0...  \n",
       "5  http://images.amazon.com/images/P/044023722X.0...  \n",
       "6  http://images.amazon.com/images/P/0142001740.0...  \n",
       "7  http://images.amazon.com/images/P/067976402X.0...  \n",
       "8  http://images.amazon.com/images/P/0671027360.0...  \n",
       "9  http://images.amazon.com/images/P/0446672211.0...  "
      ]
     },
     "execution_count": null,
     "metadata": {},
     "output_type": "execute_result"
    }
   ],
   "source": [
    "# Compute top popular products\n",
    "df_top_items = (\n",
    "    df_all.groupby([\"_item_id\"])\n",
    "    .count()\n",
    "    .join(df_items, \"_item_id\", \"inner\")\n",
    "    .sort([\"count\"], ascending=[0])\n",
    ")\n",
    "\n",
    "# Find top <topn> popular items\n",
    "topn = 10\n",
    "pd_top_items = df_top_items.limit(topn).toPandas()\n",
    "pd_top_items.head(10)"
   ]
  },
  {
   "cell_type": "code",
   "execution_count": null,
   "id": "b6d7b7f5-2a26-424a-8c72-94b6ccefc41e",
   "metadata": {
    "jupyter": {
     "outputs_hidden": false,
     "source_hidden": false
    },
    "nteract": {
     "transient": {
      "deleting": false
     }
    }
   },
   "outputs": [
    {
     "data": {
      "application/vnd.livy.statement-meta+json": {
       "execution_finish_time": "2023-09-11T14:35:13.7666959Z",
       "execution_start_time": "2023-09-11T14:35:13.4311871Z",
       "livy_statement_state": "available",
       "parent_msg_id": "63980c41-c2a6-4554-947a-9241f855e488",
       "queued_time": "2023-09-11T14:33:08.5311546Z",
       "session_id": "db09740a-036f-4e14-9afc-ee8d112e8535",
       "session_start_time": null,
       "spark_jobs": {
        "jobs": [],
        "limit": 20,
        "numbers": {
         "FAILED": 0,
         "RUNNING": 0,
         "SUCCEEDED": 0,
         "UNKNOWN": 0
        },
        "rule": "ALL_DESC"
       },
       "spark_pool": null,
       "state": "finished",
       "statement_id": 22
      },
      "text/plain": [
       "StatementMeta(, db09740a-036f-4e14-9afc-ee8d112e8535, 22, Finished, Available)"
      ]
     },
     "metadata": {},
     "output_type": "display_data"
    },
    {
     "data": {
      "image/png": "[encoded data removed]",
      "text/plain": [
       "<Figure size 1000x500 with 1 Axes>"
      ]
     },
     "metadata": {},
     "output_type": "display_data"
    }
   ],
   "source": [
    "# Plot top <topn> items\n",
    "f, ax = plt.subplots(figsize=(10, 5))\n",
    "plt.xticks(rotation=\"vertical\")\n",
    "sns.barplot(y=ITEM_INFO_COL, x=\"count\", data=pd_top_items)\n",
    "ax.tick_params(axis='x', rotation=45)\n",
    "plt.xlabel(\"Number of Ratings for the Item\")\n",
    "plt.show()"
   ]
  },
  {
   "cell_type": "markdown",
   "id": "c9c82a22-f57b-4b98-8c64-1fd5e1ff1261",
   "metadata": {
    "nteract": {
     "transient": {
      "deleting": false
     }
    }
   },
   "source": [
    "This concludes the brief analysis of the three datasets where you added unique IDs to the user and item datasets and plotted the top items."
   ]
  },
  {
   "cell_type": "markdown",
   "id": "3587d7e8-b907-4e98-b52f-15e94a7788d1",
   "metadata": {
    "nteract": {
     "transient": {
      "deleting": false
     }
    }
   },
   "source": [
    "### Prepare data for machine learning training"
   ]
  },
  {
   "cell_type": "markdown",
   "id": "d178ac19-a670-4ec6-9825-9421c6f9d62f",
   "metadata": {
    "nteract": {
     "transient": {
      "deleting": false
     }
    }
   },
   "source": [
    "#### Prepare training and test datasets\n",
    "\n",
    "Prior to training, you need to perform some additional data preparation steps for the ALS recommender. First cast the rating column into the correct type and then sample the training data with user ratings. Once done with data preparation, split the data into training and test datasets."
   ]
  },
  {
   "cell_type": "code",
   "execution_count": null,
   "id": "cf38a006-521e-46cd-ac4b-ea4cf7a6fe69",
   "metadata": {
    "jupyter": {
     "outputs_hidden": false,
     "source_hidden": false
    },
    "nteract": {
     "transient": {
      "deleting": false
     }
    }
   },
   "outputs": [
    {
     "data": {
      "application/vnd.livy.statement-meta+json": {
       "execution_finish_time": "2023-09-11T14:35:14.6105286Z",
       "execution_start_time": "2023-09-11T14:35:14.2783787Z",
       "livy_statement_state": "available",
       "parent_msg_id": "0d7846cc-d933-44b0-82b7-73c8f56a778e",
       "queued_time": "2023-09-11T14:33:09.164969Z",
       "session_id": "db09740a-036f-4e14-9afc-ee8d112e8535",
       "session_start_time": null,
       "spark_jobs": {
        "jobs": [],
        "limit": 20,
        "numbers": {
         "FAILED": 0,
         "RUNNING": 0,
         "SUCCEEDED": 0,
         "UNKNOWN": 0
        },
        "rule": "ALL_DESC"
       },
       "spark_pool": null,
       "state": "finished",
       "statement_id": 23
      },
      "text/plain": [
       "StatementMeta(, db09740a-036f-4e14-9afc-ee8d112e8535, 23, Finished, Available)"
      ]
     },
     "metadata": {},
     "output_type": "display_data"
    }
   ],
   "source": [
    "if IS_SAMPLE:\n",
    "    # Must sort by '_user_id' before performing limit to ensure ALS work normally\n",
    "    # Note that if train and test datasets have no common _user_id, ALS will fail\n",
    "    df_all = df_all.sort(\"_user_id\").limit(SAMPLE_ROWS)\n",
    "\n",
    "# Cast column into the correct type\n",
    "df_all = df_all.withColumn(RATING_COL, F.col(RATING_COL).cast(\"float\"))\n",
    "\n",
    "# Using a fraction between 0 to 1 returns the approximate size of the dataset, i.e., 0.8 means 80% of the dataset\n",
    "# Rating = 0 means the user didn't rate the item, so it can't be used for training\n",
    "# Use the 80% if the dataset with rating > 0 as the training dataset\n",
    "fractions_train = {0: 0}\n",
    "fractions_test = {0: 0}\n",
    "for i in ratings:\n",
    "    if i == 0:\n",
    "        continue\n",
    "    fractions_train[i] = 0.8\n",
    "    fractions_test[i] = 1\n",
    "# training dataset\n",
    "train = df_all.sampleBy(RATING_COL, fractions=fractions_train)\n",
    "\n",
    "# Join with leftanti will select all rows from df_all with rating > 0 and not in train dataset, i.e., the remaining 20% of the dataset\n",
    "# test dataset\n",
    "test = df_all.join(train, on=\"id\", how=\"leftanti\").sampleBy(\n",
    "    RATING_COL, fractions=fractions_test\n",
    ")"
   ]
  },
  {
   "cell_type": "markdown",
   "id": "0f4c12b1-050d-4404-8643-25dbe8472cc2",
   "metadata": {
    "nteract": {
     "transient": {
      "deleting": false
     }
    }
   },
   "source": [
    "Also compute the sparsity of the dataset to gain a better understanding of the data and the problem at hand. Sparsity refers to the  situation in which feedback data is sparse and insufficient to identify similarities in users' interests."
   ]
  },
  {
   "cell_type": "code",
   "execution_count": null,
   "id": "8f90f521-bffe-4820-b9ae-45c26389e9ae",
   "metadata": {
    "jupyter": {
     "outputs_hidden": false,
     "source_hidden": false
    },
    "nteract": {
     "transient": {
      "deleting": false
     }
    }
   },
   "outputs": [
    {
     "data": {
      "application/vnd.livy.statement-meta+json": {
       "execution_finish_time": "2023-09-11T14:36:21.6524501Z",
       "execution_start_time": "2023-09-11T14:35:15.1180342Z",
       "livy_statement_state": "available",
       "parent_msg_id": "d2b54084-fcae-4318-8e5d-d66eaf0eb672",
       "queued_time": "2023-09-11T14:33:09.9427299Z",
       "session_id": "db09740a-036f-4e14-9afc-ee8d112e8535",
       "session_start_time": null,
       "spark_jobs": {
        "jobs": [
         {
          "completionTime": "2023-09-11T14:36:19.430GMT",
          "dataRead": 122624523,
          "dataWritten": 8252587,
          "description": "Job group for statement 24:\n# Compute the sparsity of the dataset\ndef get_mat_sparsity(ratings):\n    # Count the total number of ratings in the dataset - used as numerator\n    count_nonzero = ratings.select(RATING_COL).count()\n    print(f\"Number of rows: {count_nonzero}\")\n\n    # Count the total number of distinct user_id and distinct product_id - used as denominator\n    total_elements = (\n        ratings.select(\"_user_id\").distinct().count()\n        * ratings.select(\"_item_id\").distinct().count()\n    )\n\n    # Calculate the sparsity by dividing the numerator by the denominator\n    sparsity = (1.0 - (count_nonzero * 1.0) / total_elements) * 100\n    print(\"The ratings dataframe is \", \"%.4f\" % sparsity + \"% sparse.\")\n\nget_mat_sparsity(df_all)",
          "displayName": "count at NativeMethodAccessorImpl.java:0",
          "jobGroup": "24",
          "jobId": 46,
          "killedTasksSummary": {},
          "name": "count at NativeMethodAccessorImpl.java:0",
          "numActiveStages": 0,
          "numActiveTasks": 0,
          "numCompletedIndices": 201,
          "numCompletedStages": 2,
          "numCompletedTasks": 201,
          "numFailedStages": 0,
          "numFailedTasks": 0,
          "numKilledTasks": 0,
          "numSkippedStages": 2,
          "numSkippedTasks": 14,
          "numTasks": 215,
          "rowCount": 1953090,
          "stageIds": [
           84,
           85,
           82,
           83
          ],
          "status": "SUCCEEDED",
          "submissionTime": "2023-09-11T14:35:59.237GMT",
          "usageDescription": ""
         },
         {
          "completionTime": "2023-09-11T14:35:57.866GMT",
          "dataRead": 117740557,
          "dataWritten": 3368621,
          "description": "Job group for statement 24:\n# Compute the sparsity of the dataset\ndef get_mat_sparsity(ratings):\n    # Count the total number of ratings in the dataset - used as numerator\n    count_nonzero = ratings.select(RATING_COL).count()\n    print(f\"Number of rows: {count_nonzero}\")\n\n    # Count the total number of distinct user_id and distinct product_id - used as denominator\n    total_elements = (\n        ratings.select(\"_user_id\").distinct().count()\n        * ratings.select(\"_item_id\").distinct().count()\n    )\n\n    # Calculate the sparsity by dividing the numerator by the denominator\n    sparsity = (1.0 - (count_nonzero * 1.0) / total_elements) * 100\n    print(\"The ratings dataframe is \", \"%.4f\" % sparsity + \"% sparse.\")\n\nget_mat_sparsity(df_all)",
          "displayName": "count at NativeMethodAccessorImpl.java:0",
          "jobGroup": "24",
          "jobId": 45,
          "killedTasksSummary": {},
          "name": "count at NativeMethodAccessorImpl.java:0",
          "numActiveStages": 0,
          "numActiveTasks": 0,
          "numCompletedIndices": 201,
          "numCompletedStages": 2,
          "numCompletedTasks": 201,
          "numFailedStages": 0,
          "numFailedTasks": 0,
          "numKilledTasks": 0,
          "numSkippedStages": 2,
          "numSkippedTasks": 14,
          "numTasks": 215,
          "rowCount": 1953090,
          "stageIds": [
           81,
           78,
           79,
           80
          ],
          "status": "SUCCEEDED",
          "submissionTime": "2023-09-11T14:35:37.259GMT",
          "usageDescription": ""
         },
         {
          "completionTime": "2023-09-11T14:35:35.772GMT",
          "dataRead": 117740557,
          "dataWritten": 3368621,
          "description": "Job group for statement 24:\n# Compute the sparsity of the dataset\ndef get_mat_sparsity(ratings):\n    # Count the total number of ratings in the dataset - used as numerator\n    count_nonzero = ratings.select(RATING_COL).count()\n    print(f\"Number of rows: {count_nonzero}\")\n\n    # Count the total number of distinct user_id and distinct product_id - used as denominator\n    total_elements = (\n        ratings.select(\"_user_id\").distinct().count()\n        * ratings.select(\"_item_id\").distinct().count()\n    )\n\n    # Calculate the sparsity by dividing the numerator by the denominator\n    sparsity = (1.0 - (count_nonzero * 1.0) / total_elements) * 100\n    print(\"The ratings dataframe is \", \"%.4f\" % sparsity + \"% sparse.\")\n\nget_mat_sparsity(df_all)",
          "displayName": "count at NativeMethodAccessorImpl.java:0",
          "jobGroup": "24",
          "jobId": 44,
          "killedTasksSummary": {},
          "name": "count at NativeMethodAccessorImpl.java:0",
          "numActiveStages": 0,
          "numActiveTasks": 0,
          "numCompletedIndices": 201,
          "numCompletedStages": 2,
          "numCompletedTasks": 201,
          "numFailedStages": 0,
          "numFailedTasks": 0,
          "numKilledTasks": 0,
          "numSkippedStages": 2,
          "numSkippedTasks": 14,
          "numTasks": 215,
          "rowCount": 1953090,
          "stageIds": [
           74,
           75,
           76,
           77
          ],
          "status": "SUCCEEDED",
          "submissionTime": "2023-09-11T14:35:16.115GMT",
          "usageDescription": ""
         }
        ],
        "limit": 20,
        "numbers": {
         "FAILED": 0,
         "RUNNING": 0,
         "SUCCEEDED": 3,
         "UNKNOWN": 0
        },
        "rule": "ALL_DESC"
       },
       "spark_pool": null,
       "state": "finished",
       "statement_id": 24
      },
      "text/plain": [
       "StatementMeta(, db09740a-036f-4e14-9afc-ee8d112e8535, 24, Finished, Available)"
      ]
     },
     "metadata": {},
     "output_type": "display_data"
    },
    {
     "name": "stdout",
     "output_type": "stream",
     "text": [
      "Number of rows: 5000\n",
      "The ratings dataframe is  99.7462% sparse.\n"
     ]
    }
   ],
   "source": [
    "# Compute the sparsity of the dataset\n",
    "def get_mat_sparsity(ratings):\n",
    "    # Count the total number of ratings in the dataset - used as numerator\n",
    "    count_nonzero = ratings.select(RATING_COL).count()\n",
    "    print(f\"Number of rows: {count_nonzero}\")\n",
    "\n",
    "    # Count the total number of distinct user_id and distinct product_id - used as denominator\n",
    "    total_elements = (\n",
    "        ratings.select(\"_user_id\").distinct().count()\n",
    "        * ratings.select(\"_item_id\").distinct().count()\n",
    "    )\n",
    "\n",
    "    # Calculate the sparsity by dividing the numerator by the denominator\n",
    "    sparsity = (1.0 - (count_nonzero * 1.0) / total_elements) * 100\n",
    "    print(\"The ratings dataframe is \", \"%.4f\" % sparsity + \"% sparse.\")\n",
    "\n",
    "get_mat_sparsity(df_all)"
   ]
  },
  {
   "cell_type": "code",
   "execution_count": null,
   "id": "72adf414-50fe-42ad-9de1-e14a4f1ab5b6",
   "metadata": {
    "jupyter": {
     "outputs_hidden": false,
     "source_hidden": false
    },
    "nteract": {
     "transient": {
      "deleting": false
     }
    }
   },
   "outputs": [
    {
     "data": {
      "application/vnd.livy.statement-meta+json": {
       "execution_finish_time": "2023-09-11T14:37:06.2491974Z",
       "execution_start_time": "2023-09-11T14:36:22.1590624Z",
       "livy_statement_state": "available",
       "parent_msg_id": "b9638228-b5a2-409f-9ab3-12e522c08406",
       "queued_time": "2023-09-11T14:33:10.3749723Z",
       "session_id": "db09740a-036f-4e14-9afc-ee8d112e8535",
       "session_start_time": null,
       "spark_jobs": {
        "jobs": [
         {
          "completionTime": "2023-09-11T14:37:04.236GMT",
          "dataRead": 122624523,
          "dataWritten": 8252587,
          "description": "Job group for statement 25:\n# Check the id range\n# Note that ALS only supports values in the integer range\nprint(f\"max user_id: {df_all.agg({'_user_id': 'max'}).collect()[0][0]}\")\nprint(f\"max item_id: {df_all.agg({'_item_id': 'max'}).collect()[0][0]}\")",
          "displayName": "collect at /tmp/ipykernel_9996/1113080625.py:4",
          "jobGroup": "25",
          "jobId": 48,
          "killedTasksSummary": {},
          "name": "collect at /tmp/ipykernel_9996/1113080625.py:4",
          "numActiveStages": 0,
          "numActiveTasks": 0,
          "numCompletedIndices": 201,
          "numCompletedStages": 2,
          "numCompletedTasks": 201,
          "numFailedStages": 0,
          "numFailedTasks": 0,
          "numKilledTasks": 0,
          "numSkippedStages": 2,
          "numSkippedTasks": 14,
          "numTasks": 215,
          "rowCount": 1953090,
          "stageIds": [
           93,
           90,
           91,
           92
          ],
          "status": "SUCCEEDED",
          "submissionTime": "2023-09-11T14:36:44.816GMT",
          "usageDescription": ""
         },
         {
          "completionTime": "2023-09-11T14:36:43.561GMT",
          "dataRead": 117740557,
          "dataWritten": 3368621,
          "description": "Job group for statement 25:\n# Check the id range\n# Note that ALS only supports values in the integer range\nprint(f\"max user_id: {df_all.agg({'_user_id': 'max'}).collect()[0][0]}\")\nprint(f\"max item_id: {df_all.agg({'_item_id': 'max'}).collect()[0][0]}\")",
          "displayName": "collect at /tmp/ipykernel_9996/1113080625.py:3",
          "jobGroup": "25",
          "jobId": 47,
          "killedTasksSummary": {},
          "name": "collect at /tmp/ipykernel_9996/1113080625.py:3",
          "numActiveStages": 0,
          "numActiveTasks": 0,
          "numCompletedIndices": 201,
          "numCompletedStages": 2,
          "numCompletedTasks": 201,
          "numFailedStages": 0,
          "numFailedTasks": 0,
          "numKilledTasks": 0,
          "numSkippedStages": 2,
          "numSkippedTasks": 14,
          "numTasks": 215,
          "rowCount": 1953090,
          "stageIds": [
           88,
           89,
           86,
           87
          ],
          "status": "SUCCEEDED",
          "submissionTime": "2023-09-11T14:36:23.284GMT",
          "usageDescription": ""
         }
        ],
        "limit": 20,
        "numbers": {
         "FAILED": 0,
         "RUNNING": 0,
         "SUCCEEDED": 2,
         "UNKNOWN": 0
        },
        "rule": "ALL_DESC"
       },
       "spark_pool": null,
       "state": "finished",
       "statement_id": 25
      },
      "text/plain": [
       "StatementMeta(, db09740a-036f-4e14-9afc-ee8d112e8535, 25, Finished, Available)"
      ]
     },
     "metadata": {},
     "output_type": "display_data"
    },
    {
     "name": "stdout",
     "output_type": "stream",
     "text": [
      "max user_id: 1347\n",
      "max item_id: 271357\n"
     ]
    }
   ],
   "source": [
    "# Check the id range\n",
    "# Note that ALS only supports values in the integer range\n",
    "print(f\"max user_id: {df_all.agg({'_user_id': 'max'}).collect()[0][0]}\")\n",
    "print(f\"max item_id: {df_all.agg({'_item_id': 'max'}).collect()[0][0]}\")"
   ]
  },
  {
   "cell_type": "markdown",
   "id": "dc50ef68",
   "metadata": {},
   "source": [
    "## Step 3: Develop and train the model"
   ]
  },
  {
   "cell_type": "markdown",
   "id": "2762eb40-c336-4212-8de0-e09d16b23aa4",
   "metadata": {
    "nteract": {
     "transient": {
      "deleting": false
     }
    }
   },
   "source": [
    "With your data in place, you can now define the model. Train an Alternating Least Squares (ALS) recommender to give users personalized recommendations."
   ]
  },
  {
   "cell_type": "markdown",
   "id": "341ddf1e-3e14-4fa5-8f2a-fea5417bf37a",
   "metadata": {
    "nteract": {
     "transient": {
      "deleting": false
     }
    }
   },
   "source": [
    "### The machine learning model\n",
    "\n",
    "With the train and test datasets defined, you can now get started on the recommendation model. Spark ML provides a convenient API for building an ALS model. However, the model default setting does not perform well at handling data sparsity and the cold start problem (the difficulty to make recommendations when the users or the items are new).\n",
    "Combine cross validation and auto hyperparameter tuning to improve the performance of the model."
   ]
  },
  {
   "cell_type": "markdown",
   "id": "7e6fce1a-0f33-4611-9e24-d318cbd3d992",
   "metadata": {
    "nteract": {
     "transient": {
      "deleting": false
     }
    }
   },
   "source": [
    "You need to import the required libraries for model training and evaluation."
   ]
  },
  {
   "cell_type": "code",
   "execution_count": null,
   "id": "230ccb09-ead9-46e3-a77f-fdbf848e26ce",
   "metadata": {
    "jupyter": {
     "outputs_hidden": false,
     "source_hidden": false
    },
    "nteract": {
     "transient": {
      "deleting": false
     }
    }
   },
   "outputs": [
    {
     "data": {
      "application/vnd.livy.statement-meta+json": {
       "execution_finish_time": "2023-09-11T14:37:07.017819Z",
       "execution_start_time": "2023-09-11T14:37:06.6892845Z",
       "livy_statement_state": "available",
       "parent_msg_id": "67d5c8b0-0cdf-4798-bf7f-1f65387af245",
       "queued_time": "2023-09-11T14:33:10.9244514Z",
       "session_id": "db09740a-036f-4e14-9afc-ee8d112e8535",
       "session_start_time": null,
       "spark_jobs": {
        "jobs": [],
        "limit": 20,
        "numbers": {
         "FAILED": 0,
         "RUNNING": 0,
         "SUCCEEDED": 0,
         "UNKNOWN": 0
        },
        "rule": "ALL_DESC"
       },
       "spark_pool": null,
       "state": "finished",
       "statement_id": 26
      },
      "text/plain": [
       "StatementMeta(, db09740a-036f-4e14-9afc-ee8d112e8535, 26, Finished, Available)"
      ]
     },
     "metadata": {},
     "output_type": "display_data"
    }
   ],
   "source": [
    "# Import Spark required libraries\n",
    "from pyspark.ml.evaluation import RegressionEvaluator\n",
    "from pyspark.ml.recommendation import ALS\n",
    "from pyspark.ml.tuning import ParamGridBuilder, CrossValidator, TrainValidationSplit"
   ]
  },
  {
   "cell_type": "code",
   "execution_count": null,
   "id": "627ed994-723a-4f4f-b918-a630f7eaa58b",
   "metadata": {
    "jupyter": {
     "outputs_hidden": false,
     "source_hidden": false
    },
    "nteract": {
     "transient": {
      "deleting": false
     }
    }
   },
   "outputs": [
    {
     "data": {
      "application/vnd.livy.statement-meta+json": {
       "execution_finish_time": "2023-09-11T14:37:07.8290722Z",
       "execution_start_time": "2023-09-11T14:37:07.5055289Z",
       "livy_statement_state": "available",
       "parent_msg_id": "f478f882-8dcf-47d0-b688-9f75f396f4a1",
       "queued_time": "2023-09-11T14:33:11.4577141Z",
       "session_id": "db09740a-036f-4e14-9afc-ee8d112e8535",
       "session_start_time": null,
       "spark_jobs": {
        "jobs": [],
        "limit": 20,
        "numbers": {
         "FAILED": 0,
         "RUNNING": 0,
         "SUCCEEDED": 0,
         "UNKNOWN": 0
        },
        "rule": "ALL_DESC"
       },
       "spark_pool": null,
       "state": "finished",
       "statement_id": 27
      },
      "text/plain": [
       "StatementMeta(, db09740a-036f-4e14-9afc-ee8d112e8535, 27, Finished, Available)"
      ]
     },
     "metadata": {},
     "output_type": "display_data"
    }
   ],
   "source": [
    "# Specify the training parameters\n",
    "num_epochs = 1  # Number of epochs, use 1 to reduce the training time\n",
    "rank_size_list = [64]  # Values of rank in ALS for tuning\n",
    "reg_param_list = [0.01, 0.1]  # Values of regParam in ALS for tuning\n",
    "model_tuning_method = \"TrainValidationSplit\"  # TrainValidationSplit or CrossValidator"
   ]
  },
  {
   "cell_type": "code",
   "execution_count": null,
   "id": "c24a52b2-de98-4200-aed8-dad8913b5123",
   "metadata": {
    "jupyter": {
     "outputs_hidden": false,
     "source_hidden": false
    },
    "nteract": {
     "transient": {
      "deleting": false
     }
    }
   },
   "outputs": [
    {
     "data": {
      "application/vnd.livy.statement-meta+json": {
       "execution_finish_time": "2023-09-11T14:37:08.5970437Z",
       "execution_start_time": "2023-09-11T14:37:08.2751747Z",
       "livy_statement_state": "available",
       "parent_msg_id": "288740c9-1fc0-4ade-a4e4-5271bb85a473",
       "queued_time": "2023-09-11T14:33:12.1782096Z",
       "session_id": "db09740a-036f-4e14-9afc-ee8d112e8535",
       "session_start_time": null,
       "spark_jobs": {
        "jobs": [],
        "limit": 20,
        "numbers": {
         "FAILED": 0,
         "RUNNING": 0,
         "SUCCEEDED": 0,
         "UNKNOWN": 0
        },
        "rule": "ALL_DESC"
       },
       "spark_pool": null,
       "state": "finished",
       "statement_id": 28
      },
      "text/plain": [
       "StatementMeta(, db09740a-036f-4e14-9afc-ee8d112e8535, 28, Finished, Available)"
      ]
     },
     "metadata": {},
     "output_type": "display_data"
    }
   ],
   "source": [
    "# Build the recommendation model using ALS on the training data\n",
    "# Set the cold start strategy to 'drop' to ensure that you don't get NaN evaluation metrics\n",
    "als = ALS(\n",
    "    maxIter=num_epochs,\n",
    "    userCol=\"_user_id\",\n",
    "    itemCol=\"_item_id\",\n",
    "    ratingCol=RATING_COL,\n",
    "    coldStartStrategy=\"drop\",\n",
    "    implicitPrefs=False,\n",
    "    nonnegative=True,\n",
    ")"
   ]
  },
  {
   "cell_type": "markdown",
   "id": "28c7afa4-4038-4577-9852-84ba035de2fc",
   "metadata": {
    "nteract": {
     "transient": {
      "deleting": false
     }
    }
   },
   "source": [
    "### Tune model hyperparameters\n",
    "\n",
    "In the following code, you construct a grid of parameters to search over the hyperparameters as well as a regression evaluator with root mean square error as the evaluation metric."
   ]
  },
  {
   "cell_type": "code",
   "execution_count": null,
   "id": "77e7da60-2690-46ed-bdac-e46293c4d661",
   "metadata": {
    "jupyter": {
     "outputs_hidden": false,
     "source_hidden": false
    },
    "nteract": {
     "transient": {
      "deleting": false
     }
    }
   },
   "outputs": [
    {
     "data": {
      "application/vnd.livy.statement-meta+json": {
       "execution_finish_time": "2023-09-11T14:37:09.4210649Z",
       "execution_start_time": "2023-09-11T14:37:09.0927325Z",
       "livy_statement_state": "available",
       "parent_msg_id": "79077b3a-e9e7-409c-8863-e4723fac2731",
       "queued_time": "2023-09-11T14:33:12.7850075Z",
       "session_id": "db09740a-036f-4e14-9afc-ee8d112e8535",
       "session_start_time": null,
       "spark_jobs": {
        "jobs": [],
        "limit": 20,
        "numbers": {
         "FAILED": 0,
         "RUNNING": 0,
         "SUCCEEDED": 0,
         "UNKNOWN": 0
        },
        "rule": "ALL_DESC"
       },
       "spark_pool": null,
       "state": "finished",
       "statement_id": 29
      },
      "text/plain": [
       "StatementMeta(, db09740a-036f-4e14-9afc-ee8d112e8535, 29, Finished, Available)"
      ]
     },
     "metadata": {},
     "output_type": "display_data"
    },
    {
     "name": "stdout",
     "output_type": "stream",
     "text": [
      "Number of models to be tested:  2\n"
     ]
    }
   ],
   "source": [
    "#  Construct a grid search to select the best values for the training parameters\n",
    "param_grid = (\n",
    "    ParamGridBuilder()\n",
    "    .addGrid(als.rank, rank_size_list)\n",
    "    .addGrid(als.regParam, reg_param_list)\n",
    "    .build()\n",
    ")\n",
    "\n",
    "print(\"Number of models to be tested: \", len(param_grid))\n",
    "\n",
    "# Define evaluator and set the loss fucntion to root mean squared error (RMSE) \n",
    "evaluator = RegressionEvaluator(\n",
    "    metricName=\"rmse\", labelCol=RATING_COL, predictionCol=\"prediction\"\n",
    ")"
   ]
  },
  {
   "cell_type": "markdown",
   "id": "e873316a-af0b-4899-8719-896c87e9cf18",
   "metadata": {
    "nteract": {
     "transient": {
      "deleting": false
     }
    }
   },
   "source": [
    "Initiate different model tuning methods based on the pre-configured parameters. Further information of model tuning can be found at [Spark ML tuning](https://spark.apache.org/docs/latest/ml-tuning.html)."
   ]
  },
  {
   "cell_type": "code",
   "execution_count": null,
   "id": "d06c1ff2-244d-488b-93fd-72ddc661d203",
   "metadata": {
    "jupyter": {
     "outputs_hidden": false,
     "source_hidden": false
    },
    "nteract": {
     "transient": {
      "deleting": false
     }
    }
   },
   "outputs": [
    {
     "data": {
      "application/vnd.livy.statement-meta+json": {
       "execution_finish_time": "2023-09-11T14:37:10.2621997Z",
       "execution_start_time": "2023-09-11T14:37:09.9178493Z",
       "livy_statement_state": "available",
       "parent_msg_id": "448ff2b5-9da8-4843-9f2b-42bd108e8727",
       "queued_time": "2023-09-11T14:33:13.5780643Z",
       "session_id": "db09740a-036f-4e14-9afc-ee8d112e8535",
       "session_start_time": null,
       "spark_jobs": {
        "jobs": [],
        "limit": 20,
        "numbers": {
         "FAILED": 0,
         "RUNNING": 0,
         "SUCCEEDED": 0,
         "UNKNOWN": 0
        },
        "rule": "ALL_DESC"
       },
       "spark_pool": null,
       "state": "finished",
       "statement_id": 30
      },
      "text/plain": [
       "StatementMeta(, db09740a-036f-4e14-9afc-ee8d112e8535, 30, Finished, Available)"
      ]
     },
     "metadata": {},
     "output_type": "display_data"
    }
   ],
   "source": [
    "# Build cross validation using CrossValidator and TrainValidationSplit\n",
    "if model_tuning_method == \"CrossValidator\":\n",
    "    tuner = CrossValidator(\n",
    "        estimator=als,\n",
    "        estimatorParamMaps=param_grid,\n",
    "        evaluator=evaluator,\n",
    "        numFolds=5,\n",
    "        collectSubModels=True,\n",
    "    )\n",
    "elif model_tuning_method == \"TrainValidationSplit\":\n",
    "    tuner = TrainValidationSplit(\n",
    "        estimator=als,\n",
    "        estimatorParamMaps=param_grid,\n",
    "        evaluator=evaluator,\n",
    "        # 80% of the training data will be used for training, 20% for validation\n",
    "        trainRatio=0.8,\n",
    "        collectSubModels=True,\n",
    "    )\n",
    "else:\n",
    "    raise ValueError(f\"Unknown model_tuning_method: {model_tuning_method}\")"
   ]
  },
  {
   "cell_type": "markdown",
   "id": "f19bbe76-3dbc-411a-8bd4-9450ab4f822e",
   "metadata": {
    "nteract": {
     "transient": {
      "deleting": false
     }
    }
   },
   "source": [
    "### Evaluate the model\n",
    "\n",
    "You now have different models to compare by evaluating them on the test data. If a model has been well trained, it should have high metrics on the datasets.\n",
    "\n",
    "If the model is overfitted, you may need to increase the size of the training data or reduce some of the redundant features. You may also need to change the model's architecture or fine-tune its hyperparameters.\n",
    "\n",
    "Note that if the R-Squared metric value is negative, it indicates that the trained model performs worse than a horizontal straight line, suggesting that the data is not explained by the trained model."
   ]
  },
  {
   "cell_type": "code",
   "execution_count": null,
   "id": "298f3031-73db-4e24-875d-5bae32871819",
   "metadata": {},
   "outputs": [
    {
     "data": {
      "application/vnd.livy.statement-meta+json": {
       "execution_finish_time": "2023-09-11T14:37:11.0502326Z",
       "execution_start_time": "2023-09-11T14:37:10.7110836Z",
       "livy_statement_state": "available",
       "parent_msg_id": "78e296f0-8d9c-4cf8-969c-03b9f78ad272",
       "queued_time": "2023-09-11T14:33:14.1980785Z",
       "session_id": "db09740a-036f-4e14-9afc-ee8d112e8535",
       "session_start_time": null,
       "spark_jobs": {
        "jobs": [],
        "limit": 20,
        "numbers": {
         "FAILED": 0,
         "RUNNING": 0,
         "SUCCEEDED": 0,
         "UNKNOWN": 0
        },
        "rule": "ALL_DESC"
       },
       "spark_pool": null,
       "state": "finished",
       "statement_id": 31
      },
      "text/plain": [
       "StatementMeta(, db09740a-036f-4e14-9afc-ee8d112e8535, 31, Finished, Available)"
      ]
     },
     "metadata": {},
     "output_type": "display_data"
    }
   ],
   "source": [
    "def evaluate(model, data, verbose=0):\n",
    "    \"\"\"\n",
    "    Evaluate the model by computing rmse, mae, r2 and variance over the data.\n",
    "    \"\"\"\n",
    "\n",
    "    predictions = model.transform(data).withColumn(\n",
    "        \"prediction\", F.col(\"prediction\").cast(\"double\")\n",
    "    )\n",
    "\n",
    "    if verbose > 1:\n",
    "        # Show 10 predictions\n",
    "        predictions.select(\"_user_id\", \"_item_id\", RATING_COL, \"prediction\").limit(\n",
    "            10\n",
    "        ).show()\n",
    "\n",
    "    # Initialize the regression evaluator\n",
    "    evaluator = RegressionEvaluator(predictionCol=\"prediction\", labelCol=RATING_COL)\n",
    "\n",
    "    _evaluator = lambda metric: evaluator.setMetricName(metric).evaluate(predictions)\n",
    "    rmse = _evaluator(\"rmse\")\n",
    "    mae = _evaluator(\"mae\")\n",
    "    r2 = _evaluator(\"r2\")\n",
    "    var = _evaluator(\"var\")\n",
    "\n",
    "    if verbose > 0:\n",
    "        print(f\"RMSE score = {rmse}\")\n",
    "        print(f\"MAE score = {mae}\")\n",
    "        print(f\"R2 score = {r2}\")\n",
    "        print(f\"Explained variance = {var}\")\n",
    "\n",
    "    return predictions, (rmse, mae, r2, var)"
   ]
  },
  {
   "cell_type": "markdown",
   "id": "9f0ed2ed-6bf2-4a92-b395-e938422b526f",
   "metadata": {
    "nteract": {
     "transient": {
      "deleting": false
     }
    }
   },
   "source": [
    "### Track the experiment with MLflow\n",
    "\n",
    "Start the training and evaluation, then use MLflow to track all experiments and log parameters, metrics, and the models."
   ]
  },
  {
   "cell_type": "code",
   "execution_count": null,
   "id": "7e2d917f-b9d2-4336-8c36-f1bfae30bade",
   "metadata": {
    "jupyter": {
     "outputs_hidden": false,
     "source_hidden": false
    },
    "nteract": {
     "transient": {
      "deleting": false
     }
    }
   },
   "outputs": [
    {
     "data": {
      "application/vnd.livy.statement-meta+json": {
       "execution_finish_time": "2023-09-11T14:41:29.9567152Z",
       "execution_start_time": "2023-09-11T14:37:11.5053384Z",
       "livy_statement_state": "available",
       "parent_msg_id": "bce8e474-32ce-43bd-aef0-ee7337db6034",
       "queued_time": "2023-09-11T14:33:15.1700944Z",
       "session_id": "db09740a-036f-4e14-9afc-ee8d112e8535",
       "session_start_time": null,
       "spark_jobs": {
        "jobs": [
         {
          "completionTime": "2023-09-11T14:38:12.760GMT",
          "dataRead": 7690,
          "dataWritten": 0,
          "description": "Job group for statement 32:\nfrom mlflow.models.signature import infer_signature\n\nwith mlflow.start_run(run_name=\"als\"):\n    # Train models\n    models = tuner.fit(train)\n    best_metrics = {\"RMSE\": 10e6, \"MAE\": 10e6, \"R2\": 0, \"Explained variance\": 0}\n    best_index = 0\n    # Evaluate models\n    # Log model, metrics and parameters\n    for idx, model in enumerate(models.subModels):\n        with mlflow.start_run(nested=True, run_name=f\"als_{idx}\") as run:\n            print(\"\nEvaluating on testing data:\")\n            print(f\"subModel No. {idx + 1}\")\n            predictions, (rmse, mae, r2, var) = evaluate(model, test, verbose=1)\n\n            signature = infer_signature(\n                train.select([\"_user_id\", \"_item_id\"]),\n                predictions.select([\"_user_id\", \"_item_id\", \"prediction\"]),\n            )\n            print(\"log model:\")\n            mlflow.spark.log_model(\n                model,\n                f\"{EXPERIMENT_NAME}-alsmodel\",\n                signature=signature,\n                registered_model_name=f\"{EXPERIMENT_NAME...",
          "displayName": "treeAggregate at Statistics.scala:58",
          "jobGroup": "32",
          "jobId": 70,
          "killedTasksSummary": {},
          "name": "treeAggregate at Statistics.scala:58",
          "numActiveStages": 0,
          "numActiveTasks": 0,
          "numCompletedIndices": 1,
          "numCompletedStages": 1,
          "numCompletedTasks": 1,
          "numFailedStages": 0,
          "numFailedTasks": 0,
          "numKilledTasks": 0,
          "numSkippedStages": 4,
          "numSkippedTasks": 215,
          "numTasks": 216,
          "rowCount": 307,
          "stageIds": [
           201,
           202,
           203,
           199,
           200
          ],
          "status": "SUCCEEDED",
          "submissionTime": "2023-09-11T14:38:11.987GMT",
          "usageDescription": ""
         },
         {
          "completionTime": "2023-09-11T14:38:11.752GMT",
          "dataRead": 222442,
          "dataWritten": 295874,
          "description": "Job group for statement 32:\nfrom mlflow.models.signature import infer_signature\n\nwith mlflow.start_run(run_name=\"als\"):\n    # Train models\n    models = tuner.fit(train)\n    best_metrics = {\"RMSE\": 10e6, \"MAE\": 10e6, \"R2\": 0, \"Explained variance\": 0}\n    best_index = 0\n    # Evaluate models\n    # Log model, metrics and parameters\n    for idx, model in enumerate(models.subModels):\n        with mlflow.start_run(nested=True, run_name=f\"als_{idx}\") as run:\n            print(\"\nEvaluating on testing data:\")\n            print(f\"subModel No. {idx + 1}\")\n            predictions, (rmse, mae, r2, var) = evaluate(model, test, verbose=1)\n\n            signature = infer_signature(\n                train.select([\"_user_id\", \"_item_id\"]),\n                predictions.select([\"_user_id\", \"_item_id\", \"prediction\"]),\n            )\n            print(\"log model:\")\n            mlflow.spark.log_model(\n                model,\n                f\"{EXPERIMENT_NAME}-alsmodel\",\n                signature=signature,\n                registered_model_name=f\"{EXPERIMENT_NAME...",
          "displayName": "rdd at RegressionEvaluator.scala:125",
          "jobGroup": "32",
          "jobId": 67,
          "killedTasksSummary": {},
          "name": "rdd at RegressionEvaluator.scala:125",
          "numActiveStages": 0,
          "numActiveTasks": 0,
          "numCompletedIndices": 10,
          "numCompletedStages": 1,
          "numCompletedTasks": 10,
          "numFailedStages": 0,
          "numFailedTasks": 0,
          "numKilledTasks": 0,
          "numSkippedStages": 7,
          "numSkippedTasks": 227,
          "numTasks": 237,
          "rowCount": 1748,
          "stageIds": [
           186,
           183,
           190,
           187,
           188,
           189,
           193,
           182
          ],
          "status": "SUCCEEDED",
          "submissionTime": "2023-09-11T14:38:06.138GMT",
          "usageDescription": ""
         },
         {
          "completionTime": "2023-09-11T14:38:11.686GMT",
          "dataRead": 177403,
          "dataWritten": 60706,
          "description": "Job group for statement 32:\nfrom mlflow.models.signature import infer_signature\n\nwith mlflow.start_run(run_name=\"als\"):\n    # Train models\n    models = tuner.fit(train)\n    best_metrics = {\"RMSE\": 10e6, \"MAE\": 10e6, \"R2\": 0, \"Explained variance\": 0}\n    best_index = 0\n    # Evaluate models\n    # Log model, metrics and parameters\n    for idx, model in enumerate(models.subModels):\n        with mlflow.start_run(nested=True, run_name=f\"als_{idx}\") as run:\n            print(\"\nEvaluating on testing data:\")\n            print(f\"subModel No. {idx + 1}\")\n            predictions, (rmse, mae, r2, var) = evaluate(model, test, verbose=1)\n\n            signature = infer_signature(\n                train.select([\"_user_id\", \"_item_id\"]),\n                predictions.select([\"_user_id\", \"_item_id\", \"prediction\"]),\n            )\n            print(\"log model:\")\n            mlflow.spark.log_model(\n                model,\n                f\"{EXPERIMENT_NAME}-alsmodel\",\n                signature=signature,\n                registered_model_name=f\"{EXPERIMENT_NAME...",
          "displayName": "rdd at RegressionEvaluator.scala:125",
          "jobGroup": "32",
          "jobId": 66,
          "killedTasksSummary": {},
          "name": "rdd at RegressionEvaluator.scala:125",
          "numActiveStages": 0,
          "numActiveTasks": 0,
          "numCompletedIndices": 10,
          "numCompletedStages": 1,
          "numCompletedTasks": 10,
          "numFailedStages": 0,
          "numFailedTasks": 0,
          "numKilledTasks": 0,
          "numSkippedStages": 6,
          "numSkippedTasks": 223,
          "numTasks": 247,
          "rowCount": 521,
          "stageIds": [
           186,
           183,
           190,
           187,
           191,
           188,
           192,
           189,
           182
          ],
          "status": "SUCCEEDED",
          "submissionTime": "2023-09-11T14:38:05.869GMT",
          "usageDescription": ""
         },
         {
          "completionTime": "2023-09-11T14:38:06.491GMT",
          "dataRead": 38015,
          "dataWritten": 7690,
          "description": "Job group for statement 32:\nfrom mlflow.models.signature import infer_signature\n\nwith mlflow.start_run(run_name=\"als\"):\n    # Train models\n    models = tuner.fit(train)\n    best_metrics = {\"RMSE\": 10e6, \"MAE\": 10e6, \"R2\": 0, \"Explained variance\": 0}\n    best_index = 0\n    # Evaluate models\n    # Log model, metrics and parameters\n    for idx, model in enumerate(models.subModels):\n        with mlflow.start_run(nested=True, run_name=f\"als_{idx}\") as run:\n            print(\"\nEvaluating on testing data:\")\n            print(f\"subModel No. {idx + 1}\")\n            predictions, (rmse, mae, r2, var) = evaluate(model, test, verbose=1)\n\n            signature = infer_signature(\n                train.select([\"_user_id\", \"_item_id\"]),\n                predictions.select([\"_user_id\", \"_item_id\", \"prediction\"]),\n            )\n            print(\"log model:\")\n            mlflow.spark.log_model(\n                model,\n                f\"{EXPERIMENT_NAME}-alsmodel\",\n                signature=signature,\n                registered_model_name=f\"{EXPERIMENT_NAME...",
          "displayName": "rdd at RegressionEvaluator.scala:125",
          "jobGroup": "32",
          "jobId": 65,
          "killedTasksSummary": {},
          "name": "rdd at RegressionEvaluator.scala:125",
          "numActiveStages": 0,
          "numActiveTasks": 0,
          "numCompletedIndices": 1,
          "numCompletedStages": 1,
          "numCompletedTasks": 1,
          "numFailedStages": 0,
          "numFailedTasks": 0,
          "numKilledTasks": 0,
          "numSkippedStages": 3,
          "numSkippedTasks": 214,
          "numTasks": 215,
          "rowCount": 308,
          "stageIds": [
           183,
           184,
           185,
           182
          ],
          "status": "SUCCEEDED",
          "submissionTime": "2023-09-11T14:38:05.599GMT",
          "usageDescription": ""
         },
         {
          "completionTime": "2023-09-11T14:38:05.443GMT",
          "dataRead": 200332,
          "dataWritten": 0,
          "description": "Job group for statement 32:\nfrom mlflow.models.signature import infer_signature\n\nwith mlflow.start_run(run_name=\"als\"):\n    # Train models\n    models = tuner.fit(train)\n    best_metrics = {\"RMSE\": 10e6, \"MAE\": 10e6, \"R2\": 0, \"Explained variance\": 0}\n    best_index = 0\n    # Evaluate models\n    # Log model, metrics and parameters\n    for idx, model in enumerate(models.subModels):\n        with mlflow.start_run(nested=True, run_name=f\"als_{idx}\") as run:\n            print(\"\nEvaluating on testing data:\")\n            print(f\"subModel No. {idx + 1}\")\n            predictions, (rmse, mae, r2, var) = evaluate(model, test, verbose=1)\n\n            signature = infer_signature(\n                train.select([\"_user_id\", \"_item_id\"]),\n                predictions.select([\"_user_id\", \"_item_id\", \"prediction\"]),\n            )\n            print(\"log model:\")\n            mlflow.spark.log_model(\n                model,\n                f\"{EXPERIMENT_NAME}-alsmodel\",\n                signature=signature,\n                registered_model_name=f\"{EXPERIMENT_NAME...",
          "displayName": "count at ALS.scala:1080",
          "jobGroup": "32",
          "jobId": 64,
          "killedTasksSummary": {},
          "name": "count at ALS.scala:1080",
          "numActiveStages": 0,
          "numActiveTasks": 0,
          "numCompletedIndices": 10,
          "numCompletedStages": 1,
          "numCompletedTasks": 10,
          "numFailedStages": 0,
          "numFailedTasks": 0,
          "numKilledTasks": 0,
          "numSkippedStages": 7,
          "numSkippedTasks": 227,
          "numTasks": 237,
          "rowCount": 120,
          "stageIds": [
           179,
           180,
           176,
           177,
           174,
           181,
           178,
           175
          ],
          "status": "SUCCEEDED",
          "submissionTime": "2023-09-11T14:38:03.784GMT",
          "usageDescription": ""
         },
         {
          "completionTime": "2023-09-11T14:38:03.766GMT",
          "dataRead": 412493,
          "dataWritten": 328197,
          "description": "Job group for statement 32:\nfrom mlflow.models.signature import infer_signature\n\nwith mlflow.start_run(run_name=\"als\"):\n    # Train models\n    models = tuner.fit(train)\n    best_metrics = {\"RMSE\": 10e6, \"MAE\": 10e6, \"R2\": 0, \"Explained variance\": 0}\n    best_index = 0\n    # Evaluate models\n    # Log model, metrics and parameters\n    for idx, model in enumerate(models.subModels):\n        with mlflow.start_run(nested=True, run_name=f\"als_{idx}\") as run:\n            print(\"\nEvaluating on testing data:\")\n            print(f\"subModel No. {idx + 1}\")\n            predictions, (rmse, mae, r2, var) = evaluate(model, test, verbose=1)\n\n            signature = infer_signature(\n                train.select([\"_user_id\", \"_item_id\"]),\n                predictions.select([\"_user_id\", \"_item_id\", \"prediction\"]),\n            )\n            print(\"log model:\")\n            mlflow.spark.log_model(\n                model,\n                f\"{EXPERIMENT_NAME}-alsmodel\",\n                signature=signature,\n                registered_model_name=f\"{EXPERIMENT_NAME...",
          "displayName": "count at ALS.scala:1075",
          "jobGroup": "32",
          "jobId": 63,
          "killedTasksSummary": {},
          "name": "count at ALS.scala:1075",
          "numActiveStages": 0,
          "numActiveTasks": 0,
          "numCompletedIndices": 30,
          "numCompletedStages": 3,
          "numCompletedTasks": 30,
          "numFailedStages": 0,
          "numFailedTasks": 0,
          "numKilledTasks": 0,
          "numSkippedStages": 6,
          "numSkippedTasks": 217,
          "numTasks": 247,
          "rowCount": 460,
          "stageIds": [
           171,
           168,
           165,
           172,
           169,
           166,
           173,
           170,
           167
          ],
          "status": "SUCCEEDED",
          "submissionTime": "2023-09-11T14:38:00.256GMT",
          "usageDescription": ""
         },
         {
          "completionTime": "2023-09-11T14:38:00.220GMT",
          "dataRead": 45002,
          "dataWritten": 9386,
          "description": "Job group for statement 32:\nfrom mlflow.models.signature import infer_signature\n\nwith mlflow.start_run(run_name=\"als\"):\n    # Train models\n    models = tuner.fit(train)\n    best_metrics = {\"RMSE\": 10e6, \"MAE\": 10e6, \"R2\": 0, \"Explained variance\": 0}\n    best_index = 0\n    # Evaluate models\n    # Log model, metrics and parameters\n    for idx, model in enumerate(models.subModels):\n        with mlflow.start_run(nested=True, run_name=f\"als_{idx}\") as run:\n            print(\"\nEvaluating on testing data:\")\n            print(f\"subModel No. {idx + 1}\")\n            predictions, (rmse, mae, r2, var) = evaluate(model, test, verbose=1)\n\n            signature = infer_signature(\n                train.select([\"_user_id\", \"_item_id\"]),\n                predictions.select([\"_user_id\", \"_item_id\", \"prediction\"]),\n            )\n            print(\"log model:\")\n            mlflow.spark.log_model(\n                model,\n                f\"{EXPERIMENT_NAME}-alsmodel\",\n                signature=signature,\n                registered_model_name=f\"{EXPERIMENT_NAME...",
          "displayName": "count at ALS.scala:980",
          "jobGroup": "32",
          "jobId": 62,
          "killedTasksSummary": {},
          "name": "count at ALS.scala:980",
          "numActiveStages": 0,
          "numActiveTasks": 0,
          "numCompletedIndices": 11,
          "numCompletedStages": 2,
          "numCompletedTasks": 11,
          "numFailedStages": 0,
          "numFailedTasks": 0,
          "numKilledTasks": 0,
          "numSkippedStages": 4,
          "numSkippedTasks": 215,
          "numTasks": 226,
          "rowCount": 300,
          "stageIds": [
           161,
           162,
           159,
           163,
           160,
           164
          ],
          "status": "SUCCEEDED",
          "submissionTime": "2023-09-11T14:37:57.752GMT",
          "usageDescription": ""
         },
         {
          "completionTime": "2023-09-11T14:37:57.504GMT",
          "dataRead": 427173,
          "dataWritten": 17077,
          "description": "Job group for statement 32:\nfrom mlflow.models.signature import infer_signature\n\nwith mlflow.start_run(run_name=\"als\"):\n    # Train models\n    models = tuner.fit(train)\n    best_metrics = {\"RMSE\": 10e6, \"MAE\": 10e6, \"R2\": 0, \"Explained variance\": 0}\n    best_index = 0\n    # Evaluate models\n    # Log model, metrics and parameters\n    for idx, model in enumerate(models.subModels):\n        with mlflow.start_run(nested=True, run_name=f\"als_{idx}\") as run:\n            print(\"\nEvaluating on testing data:\")\n            print(f\"subModel No. {idx + 1}\")\n            predictions, (rmse, mae, r2, var) = evaluate(model, test, verbose=1)\n\n            signature = infer_signature(\n                train.select([\"_user_id\", \"_item_id\"]),\n                predictions.select([\"_user_id\", \"_item_id\", \"prediction\"]),\n            )\n            print(\"log model:\")\n            mlflow.spark.log_model(\n                model,\n                f\"{EXPERIMENT_NAME}-alsmodel\",\n                signature=signature,\n                registered_model_name=f\"{EXPERIMENT_NAME...",
          "displayName": "count at ALS.scala:973",
          "jobGroup": "32",
          "jobId": 61,
          "killedTasksSummary": {},
          "name": "count at ALS.scala:973",
          "numActiveStages": 0,
          "numActiveTasks": 0,
          "numCompletedIndices": 12,
          "numCompletedStages": 3,
          "numCompletedTasks": 12,
          "numFailedStages": 0,
          "numFailedTasks": 0,
          "numKilledTasks": 0,
          "numSkippedStages": 3,
          "numSkippedTasks": 214,
          "numTasks": 226,
          "rowCount": 401,
          "stageIds": [
           153,
           157,
           154,
           158,
           155,
           156
          ],
          "status": "SUCCEEDED",
          "submissionTime": "2023-09-11T14:37:55.247GMT",
          "usageDescription": ""
         },
         {
          "completionTime": "2023-09-11T14:37:54.773GMT",
          "dataRead": 410096,
          "dataWritten": 0,
          "description": "Job group for statement 32:\nfrom mlflow.models.signature import infer_signature\n\nwith mlflow.start_run(run_name=\"als\"):\n    # Train models\n    models = tuner.fit(train)\n    best_metrics = {\"RMSE\": 10e6, \"MAE\": 10e6, \"R2\": 0, \"Explained variance\": 0}\n    best_index = 0\n    # Evaluate models\n    # Log model, metrics and parameters\n    for idx, model in enumerate(models.subModels):\n        with mlflow.start_run(nested=True, run_name=f\"als_{idx}\") as run:\n            print(\"\nEvaluating on testing data:\")\n            print(f\"subModel No. {idx + 1}\")\n            predictions, (rmse, mae, r2, var) = evaluate(model, test, verbose=1)\n\n            signature = infer_signature(\n                train.select([\"_user_id\", \"_item_id\"]),\n                predictions.select([\"_user_id\", \"_item_id\", \"prediction\"]),\n            )\n            print(\"log model:\")\n            mlflow.spark.log_model(\n                model,\n                f\"{EXPERIMENT_NAME}-alsmodel\",\n                signature=signature,\n                registered_model_name=f\"{EXPERIMENT_NAME...",
          "displayName": "isEmpty at ALS.scala:960",
          "jobGroup": "32",
          "jobId": 60,
          "killedTasksSummary": {},
          "name": "isEmpty at ALS.scala:960",
          "numActiveStages": 0,
          "numActiveTasks": 0,
          "numCompletedIndices": 1,
          "numCompletedStages": 1,
          "numCompletedTasks": 1,
          "numFailedStages": 0,
          "numFailedTasks": 0,
          "numKilledTasks": 0,
          "numSkippedStages": 3,
          "numSkippedTasks": 214,
          "numTasks": 215,
          "rowCount": 1,
          "stageIds": [
           150,
           151,
           152,
           149
          ],
          "status": "SUCCEEDED",
          "submissionTime": "2023-09-11T14:37:54.271GMT",
          "usageDescription": ""
         },
         {
          "completionTime": "2023-09-11T14:37:53.649GMT",
          "dataRead": 7690,
          "dataWritten": 0,
          "description": "Job group for statement 32:\nfrom mlflow.models.signature import infer_signature\n\nwith mlflow.start_run(run_name=\"als\"):\n    # Train models\n    models = tuner.fit(train)\n    best_metrics = {\"RMSE\": 10e6, \"MAE\": 10e6, \"R2\": 0, \"Explained variance\": 0}\n    best_index = 0\n    # Evaluate models\n    # Log model, metrics and parameters\n    for idx, model in enumerate(models.subModels):\n        with mlflow.start_run(nested=True, run_name=f\"als_{idx}\") as run:\n            print(\"\nEvaluating on testing data:\")\n            print(f\"subModel No. {idx + 1}\")\n            predictions, (rmse, mae, r2, var) = evaluate(model, test, verbose=1)\n\n            signature = infer_signature(\n                train.select([\"_user_id\", \"_item_id\"]),\n                predictions.select([\"_user_id\", \"_item_id\", \"prediction\"]),\n            )\n            print(\"log model:\")\n            mlflow.spark.log_model(\n                model,\n                f\"{EXPERIMENT_NAME}-alsmodel\",\n                signature=signature,\n                registered_model_name=f\"{EXPERIMENT_NAME...",
          "displayName": "treeAggregate at Statistics.scala:58",
          "jobGroup": "32",
          "jobId": 59,
          "killedTasksSummary": {},
          "name": "treeAggregate at Statistics.scala:58",
          "numActiveStages": 0,
          "numActiveTasks": 0,
          "numCompletedIndices": 1,
          "numCompletedStages": 1,
          "numCompletedTasks": 1,
          "numFailedStages": 0,
          "numFailedTasks": 0,
          "numKilledTasks": 0,
          "numSkippedStages": 4,
          "numSkippedTasks": 215,
          "numTasks": 216,
          "rowCount": 307,
          "stageIds": [
           147,
           144,
           148,
           145,
           146
          ],
          "status": "SUCCEEDED",
          "submissionTime": "2023-09-11T14:37:53.000GMT",
          "usageDescription": ""
         },
         {
          "completionTime": "2023-09-11T14:37:51.679GMT",
          "dataRead": 353666,
          "dataWritten": 295948,
          "description": "Job group for statement 32:\nfrom mlflow.models.signature import infer_signature\n\nwith mlflow.start_run(run_name=\"als\"):\n    # Train models\n    models = tuner.fit(train)\n    best_metrics = {\"RMSE\": 10e6, \"MAE\": 10e6, \"R2\": 0, \"Explained variance\": 0}\n    best_index = 0\n    # Evaluate models\n    # Log model, metrics and parameters\n    for idx, model in enumerate(models.subModels):\n        with mlflow.start_run(nested=True, run_name=f\"als_{idx}\") as run:\n            print(\"\nEvaluating on testing data:\")\n            print(f\"subModel No. {idx + 1}\")\n            predictions, (rmse, mae, r2, var) = evaluate(model, test, verbose=1)\n\n            signature = infer_signature(\n                train.select([\"_user_id\", \"_item_id\"]),\n                predictions.select([\"_user_id\", \"_item_id\", \"prediction\"]),\n            )\n            print(\"log model:\")\n            mlflow.spark.log_model(\n                model,\n                f\"{EXPERIMENT_NAME}-alsmodel\",\n                signature=signature,\n                registered_model_name=f\"{EXPERIMENT_NAME...",
          "displayName": "rdd at RegressionEvaluator.scala:125",
          "jobGroup": "32",
          "jobId": 56,
          "killedTasksSummary": {},
          "name": "rdd at RegressionEvaluator.scala:125",
          "numActiveStages": 0,
          "numActiveTasks": 0,
          "numCompletedIndices": 10,
          "numCompletedStages": 1,
          "numCompletedTasks": 10,
          "numFailedStages": 0,
          "numFailedTasks": 0,
          "numKilledTasks": 0,
          "numSkippedStages": 7,
          "numSkippedTasks": 227,
          "numTasks": 237,
          "rowCount": 2542,
          "stageIds": [
           135,
           132,
           133,
           138,
           127,
           134,
           131,
           128
          ],
          "status": "SUCCEEDED",
          "submissionTime": "2023-09-11T14:37:47.158GMT",
          "usageDescription": ""
         },
         {
          "completionTime": "2023-09-11T14:37:51.629GMT",
          "dataRead": 59673,
          "dataWritten": 59633,
          "description": "Job group for statement 32:\nfrom mlflow.models.signature import infer_signature\n\nwith mlflow.start_run(run_name=\"als\"):\n    # Train models\n    models = tuner.fit(train)\n    best_metrics = {\"RMSE\": 10e6, \"MAE\": 10e6, \"R2\": 0, \"Explained variance\": 0}\n    best_index = 0\n    # Evaluate models\n    # Log model, metrics and parameters\n    for idx, model in enumerate(models.subModels):\n        with mlflow.start_run(nested=True, run_name=f\"als_{idx}\") as run:\n            print(\"\nEvaluating on testing data:\")\n            print(f\"subModel No. {idx + 1}\")\n            predictions, (rmse, mae, r2, var) = evaluate(model, test, verbose=1)\n\n            signature = infer_signature(\n                train.select([\"_user_id\", \"_item_id\"]),\n                predictions.select([\"_user_id\", \"_item_id\", \"prediction\"]),\n            )\n            print(\"log model:\")\n            mlflow.spark.log_model(\n                model,\n                f\"{EXPERIMENT_NAME}-alsmodel\",\n                signature=signature,\n                registered_model_name=f\"{EXPERIMENT_NAME...",
          "displayName": "rdd at RegressionEvaluator.scala:125",
          "jobGroup": "32",
          "jobId": 55,
          "killedTasksSummary": {},
          "name": "rdd at RegressionEvaluator.scala:125",
          "numActiveStages": 0,
          "numActiveTasks": 0,
          "numCompletedIndices": 10,
          "numCompletedStages": 1,
          "numCompletedTasks": 10,
          "numFailedStages": 0,
          "numFailedTasks": 0,
          "numKilledTasks": 0,
          "numSkippedStages": 8,
          "numSkippedTasks": 237,
          "numTasks": 247,
          "rowCount": 482,
          "stageIds": [
           135,
           132,
           136,
           133,
           137,
           127,
           134,
           131,
           128
          ],
          "status": "SUCCEEDED",
          "submissionTime": "2023-09-11T14:37:46.665GMT",
          "usageDescription": ""
         },
         {
          "completionTime": "2023-09-11T14:37:52.944GMT",
          "dataRead": 180922708,
          "dataWritten": 124534845,
          "description": "Job group for statement 32:\nfrom mlflow.models.signature import infer_signature\n\nwith mlflow.start_run(run_name=\"als\"):\n    # Train models\n    models = tuner.fit(train)\n    best_metrics = {\"RMSE\": 10e6, \"MAE\": 10e6, \"R2\": 0, \"Explained variance\": 0}\n    best_index = 0\n    # Evaluate models\n    # Log model, metrics and parameters\n    for idx, model in enumerate(models.subModels):\n        with mlflow.start_run(nested=True, run_name=f\"als_{idx}\") as run:\n            print(\"\nEvaluating on testing data:\")\n            print(f\"subModel No. {idx + 1}\")\n            predictions, (rmse, mae, r2, var) = evaluate(model, test, verbose=1)\n\n            signature = infer_signature(\n                train.select([\"_user_id\", \"_item_id\"]),\n                predictions.select([\"_user_id\", \"_item_id\", \"prediction\"]),\n            )\n            print(\"log model:\")\n            mlflow.spark.log_model(\n                model,\n                f\"{EXPERIMENT_NAME}-alsmodel\",\n                signature=signature,\n                registered_model_name=f\"{EXPERIMENT_NAME...",
          "displayName": "rdd at RegressionEvaluator.scala:125",
          "jobGroup": "32",
          "jobId": 54,
          "killedTasksSummary": {},
          "name": "rdd at RegressionEvaluator.scala:125",
          "numActiveStages": 0,
          "numActiveTasks": 0,
          "numCompletedIndices": 201,
          "numCompletedStages": 2,
          "numCompletedTasks": 201,
          "numFailedStages": 0,
          "numFailedTasks": 0,
          "numKilledTasks": 0,
          "numSkippedStages": 0,
          "numSkippedTasks": 0,
          "numTasks": 215,
          "rowCount": 1953397,
          "stageIds": [
           129,
           130,
           127,
           128
          ],
          "status": "SUCCEEDED",
          "submissionTime": "2023-09-11T14:37:46.292GMT",
          "usageDescription": ""
         },
         {
          "completionTime": "2023-09-11T14:37:45.621GMT",
          "dataRead": 200332,
          "dataWritten": 0,
          "description": "Job group for statement 32:\nfrom mlflow.models.signature import infer_signature\n\nwith mlflow.start_run(run_name=\"als\"):\n    # Train models\n    models = tuner.fit(train)\n    best_metrics = {\"RMSE\": 10e6, \"MAE\": 10e6, \"R2\": 0, \"Explained variance\": 0}\n    best_index = 0\n    # Evaluate models\n    # Log model, metrics and parameters\n    for idx, model in enumerate(models.subModels):\n        with mlflow.start_run(nested=True, run_name=f\"als_{idx}\") as run:\n            print(\"\nEvaluating on testing data:\")\n            print(f\"subModel No. {idx + 1}\")\n            predictions, (rmse, mae, r2, var) = evaluate(model, test, verbose=1)\n\n            signature = infer_signature(\n                train.select([\"_user_id\", \"_item_id\"]),\n                predictions.select([\"_user_id\", \"_item_id\", \"prediction\"]),\n            )\n            print(\"log model:\")\n            mlflow.spark.log_model(\n                model,\n                f\"{EXPERIMENT_NAME}-alsmodel\",\n                signature=signature,\n                registered_model_name=f\"{EXPERIMENT_NAME...",
          "displayName": "count at ALS.scala:1080",
          "jobGroup": "32",
          "jobId": 53,
          "killedTasksSummary": {},
          "name": "count at ALS.scala:1080",
          "numActiveStages": 0,
          "numActiveTasks": 0,
          "numCompletedIndices": 10,
          "numCompletedStages": 1,
          "numCompletedTasks": 10,
          "numFailedStages": 0,
          "numFailedTasks": 0,
          "numKilledTasks": 0,
          "numSkippedStages": 7,
          "numSkippedTasks": 227,
          "numTasks": 237,
          "rowCount": 120,
          "stageIds": [
           121,
           125,
           122,
           119,
           126,
           123,
           120,
           124
          ],
          "status": "SUCCEEDED",
          "submissionTime": "2023-09-11T14:37:44.820GMT",
          "usageDescription": ""
         },
         {
          "completionTime": "2023-09-11T14:37:44.808GMT",
          "dataRead": 413008,
          "dataWritten": 328712,
          "description": "Job group for statement 32:\nfrom mlflow.models.signature import infer_signature\n\nwith mlflow.start_run(run_name=\"als\"):\n    # Train models\n    models = tuner.fit(train)\n    best_metrics = {\"RMSE\": 10e6, \"MAE\": 10e6, \"R2\": 0, \"Explained variance\": 0}\n    best_index = 0\n    # Evaluate models\n    # Log model, metrics and parameters\n    for idx, model in enumerate(models.subModels):\n        with mlflow.start_run(nested=True, run_name=f\"als_{idx}\") as run:\n            print(\"\nEvaluating on testing data:\")\n            print(f\"subModel No. {idx + 1}\")\n            predictions, (rmse, mae, r2, var) = evaluate(model, test, verbose=1)\n\n            signature = infer_signature(\n                train.select([\"_user_id\", \"_item_id\"]),\n                predictions.select([\"_user_id\", \"_item_id\", \"prediction\"]),\n            )\n            print(\"log model:\")\n            mlflow.spark.log_model(\n                model,\n                f\"{EXPERIMENT_NAME}-alsmodel\",\n                signature=signature,\n                registered_model_name=f\"{EXPERIMENT_NAME...",
          "displayName": "count at ALS.scala:1075",
          "jobGroup": "32",
          "jobId": 52,
          "killedTasksSummary": {},
          "name": "count at ALS.scala:1075",
          "numActiveStages": 0,
          "numActiveTasks": 0,
          "numCompletedIndices": 30,
          "numCompletedStages": 3,
          "numCompletedTasks": 30,
          "numFailedStages": 0,
          "numFailedTasks": 0,
          "numKilledTasks": 0,
          "numSkippedStages": 6,
          "numSkippedTasks": 217,
          "numTasks": 247,
          "rowCount": 460,
          "stageIds": [
           117,
           114,
           118,
           115,
           111,
           112,
           116,
           113,
           110
          ],
          "status": "SUCCEEDED",
          "submissionTime": "2023-09-11T14:37:40.910GMT",
          "usageDescription": ""
         },
         {
          "completionTime": "2023-09-11T14:37:40.844GMT",
          "dataRead": 45002,
          "dataWritten": 9386,
          "description": "Job group for statement 32:\nfrom mlflow.models.signature import infer_signature\n\nwith mlflow.start_run(run_name=\"als\"):\n    # Train models\n    models = tuner.fit(train)\n    best_metrics = {\"RMSE\": 10e6, \"MAE\": 10e6, \"R2\": 0, \"Explained variance\": 0}\n    best_index = 0\n    # Evaluate models\n    # Log model, metrics and parameters\n    for idx, model in enumerate(models.subModels):\n        with mlflow.start_run(nested=True, run_name=f\"als_{idx}\") as run:\n            print(\"\nEvaluating on testing data:\")\n            print(f\"subModel No. {idx + 1}\")\n            predictions, (rmse, mae, r2, var) = evaluate(model, test, verbose=1)\n\n            signature = infer_signature(\n                train.select([\"_user_id\", \"_item_id\"]),\n                predictions.select([\"_user_id\", \"_item_id\", \"prediction\"]),\n            )\n            print(\"log model:\")\n            mlflow.spark.log_model(\n                model,\n                f\"{EXPERIMENT_NAME}-alsmodel\",\n                signature=signature,\n                registered_model_name=f\"{EXPERIMENT_NAME...",
          "displayName": "count at ALS.scala:980",
          "jobGroup": "32",
          "jobId": 51,
          "killedTasksSummary": {},
          "name": "count at ALS.scala:980",
          "numActiveStages": 0,
          "numActiveTasks": 0,
          "numCompletedIndices": 11,
          "numCompletedStages": 2,
          "numCompletedTasks": 11,
          "numFailedStages": 0,
          "numFailedTasks": 0,
          "numKilledTasks": 0,
          "numSkippedStages": 4,
          "numSkippedTasks": 215,
          "numTasks": 226,
          "rowCount": 300,
          "stageIds": [
           107,
           104,
           108,
           105,
           109,
           106
          ],
          "status": "SUCCEEDED",
          "submissionTime": "2023-09-11T14:37:38.980GMT",
          "usageDescription": ""
         },
         {
          "completionTime": "2023-09-11T14:37:38.735GMT",
          "dataRead": 427173,
          "dataWritten": 17077,
          "description": "Job group for statement 32:\nfrom mlflow.models.signature import infer_signature\n\nwith mlflow.start_run(run_name=\"als\"):\n    # Train models\n    models = tuner.fit(train)\n    best_metrics = {\"RMSE\": 10e6, \"MAE\": 10e6, \"R2\": 0, \"Explained variance\": 0}\n    best_index = 0\n    # Evaluate models\n    # Log model, metrics and parameters\n    for idx, model in enumerate(models.subModels):\n        with mlflow.start_run(nested=True, run_name=f\"als_{idx}\") as run:\n            print(\"\nEvaluating on testing data:\")\n            print(f\"subModel No. {idx + 1}\")\n            predictions, (rmse, mae, r2, var) = evaluate(model, test, verbose=1)\n\n            signature = infer_signature(\n                train.select([\"_user_id\", \"_item_id\"]),\n                predictions.select([\"_user_id\", \"_item_id\", \"prediction\"]),\n            )\n            print(\"log model:\")\n            mlflow.spark.log_model(\n                model,\n                f\"{EXPERIMENT_NAME}-alsmodel\",\n                signature=signature,\n                registered_model_name=f\"{EXPERIMENT_NAME...",
          "displayName": "count at ALS.scala:973",
          "jobGroup": "32",
          "jobId": 50,
          "killedTasksSummary": {},
          "name": "count at ALS.scala:973",
          "numActiveStages": 0,
          "numActiveTasks": 0,
          "numCompletedIndices": 12,
          "numCompletedStages": 3,
          "numCompletedTasks": 12,
          "numFailedStages": 0,
          "numFailedTasks": 0,
          "numKilledTasks": 0,
          "numSkippedStages": 3,
          "numSkippedTasks": 214,
          "numTasks": 226,
          "rowCount": 401,
          "stageIds": [
           102,
           99,
           103,
           100,
           101,
           98
          ],
          "status": "SUCCEEDED",
          "submissionTime": "2023-09-11T14:37:31.275GMT",
          "usageDescription": ""
         },
         {
          "completionTime": "2023-09-11T14:37:30.797GMT",
          "dataRead": 220031501,
          "dataWritten": 124527155,
          "description": "Job group for statement 32:\nfrom mlflow.models.signature import infer_signature\n\nwith mlflow.start_run(run_name=\"als\"):\n    # Train models\n    models = tuner.fit(train)\n    best_metrics = {\"RMSE\": 10e6, \"MAE\": 10e6, \"R2\": 0, \"Explained variance\": 0}\n    best_index = 0\n    # Evaluate models\n    # Log model, metrics and parameters\n    for idx, model in enumerate(models.subModels):\n        with mlflow.start_run(nested=True, run_name=f\"als_{idx}\") as run:\n            print(\"\nEvaluating on testing data:\")\n            print(f\"subModel No. {idx + 1}\")\n            predictions, (rmse, mae, r2, var) = evaluate(model, test, verbose=1)\n\n            signature = infer_signature(\n                train.select([\"_user_id\", \"_item_id\"]),\n                predictions.select([\"_user_id\", \"_item_id\", \"prediction\"]),\n            )\n            print(\"log model:\")\n            mlflow.spark.log_model(\n                model,\n                f\"{EXPERIMENT_NAME}-alsmodel\",\n                signature=signature,\n                registered_model_name=f\"{EXPERIMENT_NAME...",
          "displayName": "isEmpty at ALS.scala:960",
          "jobGroup": "32",
          "jobId": 49,
          "killedTasksSummary": {},
          "name": "isEmpty at ALS.scala:960",
          "numActiveStages": 0,
          "numActiveTasks": 0,
          "numCompletedIndices": 201,
          "numCompletedStages": 2,
          "numCompletedTasks": 201,
          "numFailedStages": 0,
          "numFailedTasks": 0,
          "numKilledTasks": 0,
          "numSkippedStages": 2,
          "numSkippedTasks": 14,
          "numTasks": 215,
          "rowCount": 1953090,
          "stageIds": [
           96,
           97,
           94,
           95
          ],
          "status": "SUCCEEDED",
          "submissionTime": "2023-09-11T14:37:13.900GMT",
          "usageDescription": ""
         }
        ],
        "limit": 20,
        "numbers": {
         "FAILED": 0,
         "RUNNING": 0,
         "SUCCEEDED": 18,
         "UNKNOWN": 0
        },
        "rule": "ALL_DESC"
       },
       "spark_pool": null,
       "state": "finished",
       "statement_id": 32
      },
      "text/plain": [
       "StatementMeta(, db09740a-036f-4e14-9afc-ee8d112e8535, 32, Finished, Available)"
      ]
     },
     "metadata": {},
     "output_type": "display_data"
    },
    {
     "name": "stdout",
     "output_type": "stream",
     "text": [
      "\n",
      "Evaluating on testing data:\n",
      "subModel No. 1\n",
      "RMSE score = 0.8566210059249003\n",
      "MAE score = 0.1821588006886569\n",
      "R2 score = 0.7106032110200756\n",
      "Explained variance = 3.6549009650456075\n",
      "log model:\n",
      "log metrics:\n",
      "log parameters:\n",
      "\n",
      "Evaluating on testing data:\n",
      "subModel No. 2\n",
      "RMSE score = 0.7864884691975794\n",
      "MAE score = 0.19574565407764388\n",
      "R2 score = 0.6559050461291518\n",
      "Explained variance = 3.5250225745824895\n",
      "log model:\n",
      "log metrics:\n",
      "log parameters:\n"
     ]
    },
    {
     "name": "stderr",
     "output_type": "stream",
     "text": [
      "/home/trusted-service-user/cluster-env/trident_env/lib/python3.10/site-packages/mlflow/models/signature.py:130: UserWarning: Hint: Inferred schema contains integer column(s). Integer columns in Python cannot represent missing values. If your input data contains missing values at inference time, it will be encoded as floats and will cause a schema enforcement error. The best way to avoid this problem is to infer the model schema based on a realistic data sample (training dataset) that includes missing values. Alternatively, you can declare integer columns as doubles (float64) whenever these columns may have missing values. See `Handling Integers With Missing Values <https://www.mlflow.org/docs/latest/models.html#handling-integers-with-missing-values>`_ for more details.\n",
      "  inputs = _infer_schema(model_input)\n",
      "/home/trusted-service-user/cluster-env/trident_env/lib/python3.10/site-packages/mlflow/models/signature.py:131: UserWarning: Hint: Inferred schema contains integer column(s). Integer columns in Python cannot represent missing values. If your input data contains missing values at inference time, it will be encoded as floats and will cause a schema enforcement error. The best way to avoid this problem is to infer the model schema based on a realistic data sample (training dataset) that includes missing values. Alternatively, you can declare integer columns as doubles (float64) whenever these columns may have missing values. See `Handling Integers With Missing Values <https://www.mlflow.org/docs/latest/models.html#handling-integers-with-missing-values>`_ for more details.\n",
      "  outputs = _infer_schema(model_output) if model_output is not None else None\n",
      "2023/09/11 14:39:32 WARNING mlflow.utils.environment: Encountered an unexpected error while inferring pip requirements (model URI: /tmp/tmp0ejzcrc0/model, flavor: spark), fall back to return ['pyspark==3.3.1']. Set logging level to DEBUG to see the full traceback.\n",
      "/home/trusted-service-user/cluster-env/trident_env/lib/python3.10/site-packages/_distutils_hack/__init__.py:33: UserWarning: Setuptools is replacing distutils.\n",
      "  warnings.warn(\"Setuptools is replacing distutils.\")\n",
      "Successfully registered model 'aisample-recommendation-alsmodel'.\n",
      "2023/09/11 14:39:47 INFO mlflow.tracking._model_registry.client: Waiting up to 300 seconds for model version to finish creation.                     Model name: aisample-recommendation-alsmodel, version 4\n",
      "Created version '4' of model 'aisample-recommendation-alsmodel'.\n",
      "2023/09/11 14:40:46 WARNING mlflow.utils.environment: Encountered an unexpected error while inferring pip requirements (model URI: /tmp/tmplhzuq0ib/model, flavor: spark), fall back to return ['pyspark==3.3.1']. Set logging level to DEBUG to see the full traceback.\n",
      "Successfully registered model 'aisample-recommendation-alsmodel'.\n",
      "2023/09/11 14:40:59 INFO mlflow.tracking._model_registry.client: Waiting up to 300 seconds for model version to finish creation.                     Model name: aisample-recommendation-alsmodel, version 5\n",
      "Created version '5' of model 'aisample-recommendation-alsmodel'.\n",
      "2023/09/11 14:41:14 WARNING mlflow.utils.environment: Encountered an unexpected error while inferring pip requirements (model URI: /tmp/tmpg4wgzo9h/model, flavor: spark), fall back to return ['pyspark==3.3.1']. Set logging level to DEBUG to see the full traceback.\n",
      "Successfully registered model 'aisample-recommendation-alsmodel'.\n",
      "2023/09/11 14:41:27 INFO mlflow.tracking._model_registry.client: Waiting up to 300 seconds for model version to finish creation.                     Model name: aisample-recommendation-alsmodel, version 6\n",
      "Created version '6' of model 'aisample-recommendation-alsmodel'.\n"
     ]
    }
   ],
   "source": [
    "from mlflow.models.signature import infer_signature\n",
    "\n",
    "with mlflow.start_run(run_name=\"als\"):\n",
    "    # Train models\n",
    "    models = tuner.fit(train)\n",
    "    best_metrics = {\"RMSE\": 10e6, \"MAE\": 10e6, \"R2\": 0, \"Explained variance\": 0}\n",
    "    best_index = 0\n",
    "    # Evaluate models\n",
    "    # Log model, metrics and parameters\n",
    "    for idx, model in enumerate(models.subModels):\n",
    "        with mlflow.start_run(nested=True, run_name=f\"als_{idx}\") as run:\n",
    "            print(\"\\nEvaluating on testing data:\")\n",
    "            print(f\"subModel No. {idx + 1}\")\n",
    "            predictions, (rmse, mae, r2, var) = evaluate(model, test, verbose=1)\n",
    "\n",
    "            signature = infer_signature(\n",
    "                train.select([\"_user_id\", \"_item_id\"]),\n",
    "                predictions.select([\"_user_id\", \"_item_id\", \"prediction\"]),\n",
    "            )\n",
    "            print(\"log model:\")\n",
    "            mlflow.spark.log_model(\n",
    "                model,\n",
    "                f\"{EXPERIMENT_NAME}-alsmodel\",\n",
    "                signature=signature,\n",
    "                registered_model_name=f\"{EXPERIMENT_NAME}-alsmodel\",\n",
    "                dfs_tmpdir=\"Files/spark\",\n",
    "            )\n",
    "            print(\"log metrics:\")\n",
    "            current_metric = {\n",
    "                \"RMSE\": rmse,\n",
    "                \"MAE\": mae,\n",
    "                \"R2\": r2,\n",
    "                \"Explained variance\": var,\n",
    "            }\n",
    "            mlflow.log_metrics(current_metric)\n",
    "            if rmse < best_metrics[\"RMSE\"]:\n",
    "                best_metrics = current_metric\n",
    "                best_index = idx\n",
    "\n",
    "            print(\"log parameters:\")\n",
    "            mlflow.log_params(\n",
    "                {\n",
    "                    \"subModel_idx\": idx,\n",
    "                    \"num_epochs\": num_epochs,\n",
    "                    \"rank_size_list\": rank_size_list,\n",
    "                    \"reg_param_list\": reg_param_list,\n",
    "                    \"model_tuning_method\": model_tuning_method,\n",
    "                    \"DATA_FOLDER\": DATA_FOLDER,\n",
    "                }\n",
    "            )\n",
    "    # Log best model and related metrics and parameters to the parent run\n",
    "    mlflow.spark.log_model(\n",
    "        models.subModels[best_index],\n",
    "        f\"{EXPERIMENT_NAME}-alsmodel\",\n",
    "        signature=signature,\n",
    "        registered_model_name=f\"{EXPERIMENT_NAME}-alsmodel\",\n",
    "        dfs_tmpdir=\"Files/spark\",\n",
    "    )\n",
    "    mlflow.log_metrics(best_metrics)\n",
    "    mlflow.log_params(\n",
    "        {\n",
    "            \"subModel_idx\": idx,\n",
    "            \"num_epochs\": num_epochs,\n",
    "            \"rank_size_list\": rank_size_list,\n",
    "            \"reg_param_list\": reg_param_list,\n",
    "            \"model_tuning_method\": model_tuning_method,\n",
    "            \"DATA_FOLDER\": DATA_FOLDER,\n",
    "        }\n",
    "    )"
   ]
  },
  {
   "cell_type": "markdown",
   "id": "0c34b00f-2f22-4aaf-aaec-1397c1e529b1",
   "metadata": {
    "nteract": {
     "transient": {
      "deleting": false
     }
    }
   },
   "source": [
    "To view the logged information for the training run, select the experiment named `aisample-recommendation` from your workspace. If you changed the experiment name, select the experiment with the name you specified. The logged information appears similar to the following images. Any experiment with its respective name is logged and you can track its parameters and performance metrics: \n",
    "\n",
    "<img style=\"float: left;\" src=\"https://synapseaisolutionsa.blob.core.windows.net/public/Book-Recommendation-Dataset/book-mlflow.png\"  width=\"45%\" height=\"10%\">\n",
    "<img style=\"float: left;\" src=\"https://synapseaisolutionsa.blob.core.windows.net/public/Book-Recommendation-Dataset/book-logging.png\"  width=\"45%\" height=\"10%\"> \n"
   ]
  },
  {
   "cell_type": "markdown",
   "id": "e674d0ce-4bac-4a83-825b-a0e892e3608f",
   "metadata": {
    "nteract": {
     "transient": {
      "deleting": false
     }
    }
   },
   "source": [
    "## Step 4: Load the final model for scoring and make predictions"
   ]
  },
  {
   "cell_type": "markdown",
   "id": "5aad60fc-7445-4253-bb45-898dc4f12e79",
   "metadata": {
    "nteract": {
     "transient": {
      "deleting": false
     }
    }
   },
   "source": [
    "### Offline recommendation\n",
    "Once done with the training and having selected the best model, load the final model for scoring and generate predictions to recommend the top 10 books for each user. Also present the recommendations in an interpretable format."
   ]
  },
  {
   "cell_type": "code",
   "execution_count": null,
   "id": "234e29d5-bfd2-4a25-a76e-7e033cafb9d7",
   "metadata": {},
   "outputs": [
    {
     "data": {
      "application/vnd.livy.statement-meta+json": {
       "execution_finish_time": "2023-09-11T14:41:41.1424339Z",
       "execution_start_time": "2023-09-11T14:41:30.5248694Z",
       "livy_statement_state": "available",
       "parent_msg_id": "57b258f2-7c43-4b67-a0ee-cc1de461ea72",
       "queued_time": "2023-09-11T14:33:16.492474Z",
       "session_id": "db09740a-036f-4e14-9afc-ee8d112e8535",
       "session_start_time": null,
       "spark_jobs": {
        "jobs": [
         {
          "completionTime": "2023-09-11T14:41:39.135GMT",
          "dataRead": 0,
          "dataWritten": 0,
          "description": "Job group for statement 33:\n# Load the best model\n# Note that mlflow uses the PipelineModel to wrap the original model, thus we extract the original ALSModel from the stages\nmodel_uri = f\"models:/{EXPERIMENT_NAME}-alsmodel/1\"\nloaded_model = mlflow.spark.load_model(model_uri, dfs_tmpdir=\"Files/spark\").stages[-1]",
          "displayName": "load at ALS.scala:559",
          "jobGroup": "33",
          "jobId": 141,
          "killedTasksSummary": {},
          "name": "load at ALS.scala:559",
          "numActiveStages": 0,
          "numActiveTasks": 0,
          "numCompletedIndices": 1,
          "numCompletedStages": 1,
          "numCompletedTasks": 1,
          "numFailedStages": 0,
          "numFailedTasks": 0,
          "numKilledTasks": 0,
          "numSkippedStages": 0,
          "numSkippedTasks": 0,
          "numTasks": 1,
          "rowCount": 0,
          "stageIds": [
           496
          ],
          "status": "SUCCEEDED",
          "submissionTime": "2023-09-11T14:41:38.271GMT",
          "usageDescription": ""
         },
         {
          "completionTime": "2023-09-11T14:41:38.066GMT",
          "dataRead": 0,
          "dataWritten": 0,
          "description": "Job group for statement 33:\n# Load the best model\n# Note that mlflow uses the PipelineModel to wrap the original model, thus we extract the original ALSModel from the stages\nmodel_uri = f\"models:/{EXPERIMENT_NAME}-alsmodel/1\"\nloaded_model = mlflow.spark.load_model(model_uri, dfs_tmpdir=\"Files/spark\").stages[-1]",
          "displayName": "load at ALS.scala:557",
          "jobGroup": "33",
          "jobId": 140,
          "killedTasksSummary": {},
          "name": "load at ALS.scala:557",
          "numActiveStages": 0,
          "numActiveTasks": 0,
          "numCompletedIndices": 1,
          "numCompletedStages": 1,
          "numCompletedTasks": 1,
          "numFailedStages": 0,
          "numFailedTasks": 0,
          "numKilledTasks": 0,
          "numSkippedStages": 0,
          "numSkippedTasks": 0,
          "numTasks": 1,
          "rowCount": 0,
          "stageIds": [
           495
          ],
          "status": "SUCCEEDED",
          "submissionTime": "2023-09-11T14:41:37.215GMT",
          "usageDescription": ""
         },
         {
          "completionTime": "2023-09-11T14:41:36.973GMT",
          "dataRead": 378,
          "dataWritten": 0,
          "description": "Job group for statement 33:\n# Load the best model\n# Note that mlflow uses the PipelineModel to wrap the original model, thus we extract the original ALSModel from the stages\nmodel_uri = f\"models:/{EXPERIMENT_NAME}-alsmodel/1\"\nloaded_model = mlflow.spark.load_model(model_uri, dfs_tmpdir=\"Files/spark\").stages[-1]",
          "displayName": "first at ReadWrite.scala:587",
          "jobGroup": "33",
          "jobId": 139,
          "killedTasksSummary": {},
          "name": "first at ReadWrite.scala:587",
          "numActiveStages": 0,
          "numActiveTasks": 0,
          "numCompletedIndices": 1,
          "numCompletedStages": 1,
          "numCompletedTasks": 1,
          "numFailedStages": 0,
          "numFailedTasks": 0,
          "numKilledTasks": 0,
          "numSkippedStages": 0,
          "numSkippedTasks": 0,
          "numTasks": 1,
          "rowCount": 1,
          "stageIds": [
           494
          ],
          "status": "SUCCEEDED",
          "submissionTime": "2023-09-11T14:41:36.912GMT",
          "usageDescription": ""
         },
         {
          "completionTime": "2023-09-11T14:41:36.766GMT",
          "dataRead": 378,
          "dataWritten": 0,
          "description": "Job group for statement 33:\n# Load the best model\n# Note that mlflow uses the PipelineModel to wrap the original model, thus we extract the original ALSModel from the stages\nmodel_uri = f\"models:/{EXPERIMENT_NAME}-alsmodel/1\"\nloaded_model = mlflow.spark.load_model(model_uri, dfs_tmpdir=\"Files/spark\").stages[-1]",
          "displayName": "first at ReadWrite.scala:587",
          "jobGroup": "33",
          "jobId": 138,
          "killedTasksSummary": {},
          "name": "first at ReadWrite.scala:587",
          "numActiveStages": 0,
          "numActiveTasks": 0,
          "numCompletedIndices": 1,
          "numCompletedStages": 1,
          "numCompletedTasks": 1,
          "numFailedStages": 0,
          "numFailedTasks": 0,
          "numKilledTasks": 0,
          "numSkippedStages": 0,
          "numSkippedTasks": 0,
          "numTasks": 1,
          "rowCount": 1,
          "stageIds": [
           493
          ],
          "status": "SUCCEEDED",
          "submissionTime": "2023-09-11T14:41:36.691GMT",
          "usageDescription": ""
         },
         {
          "completionTime": "2023-09-11T14:41:36.588GMT",
          "dataRead": 210,
          "dataWritten": 0,
          "description": "Job group for statement 33:\n# Load the best model\n# Note that mlflow uses the PipelineModel to wrap the original model, thus we extract the original ALSModel from the stages\nmodel_uri = f\"models:/{EXPERIMENT_NAME}-alsmodel/1\"\nloaded_model = mlflow.spark.load_model(model_uri, dfs_tmpdir=\"Files/spark\").stages[-1]",
          "displayName": "first at ReadWrite.scala:587",
          "jobGroup": "33",
          "jobId": 137,
          "killedTasksSummary": {},
          "name": "first at ReadWrite.scala:587",
          "numActiveStages": 0,
          "numActiveTasks": 0,
          "numCompletedIndices": 1,
          "numCompletedStages": 1,
          "numCompletedTasks": 1,
          "numFailedStages": 0,
          "numFailedTasks": 0,
          "numKilledTasks": 0,
          "numSkippedStages": 0,
          "numSkippedTasks": 0,
          "numTasks": 1,
          "rowCount": 1,
          "stageIds": [
           492
          ],
          "status": "SUCCEEDED",
          "submissionTime": "2023-09-11T14:41:36.132GMT",
          "usageDescription": ""
         },
         {
          "completionTime": "2023-09-11T14:41:35.934GMT",
          "dataRead": 210,
          "dataWritten": 0,
          "description": "Job group for statement 33:\n# Load the best model\n# Note that mlflow uses the PipelineModel to wrap the original model, thus we extract the original ALSModel from the stages\nmodel_uri = f\"models:/{EXPERIMENT_NAME}-alsmodel/1\"\nloaded_model = mlflow.spark.load_model(model_uri, dfs_tmpdir=\"Files/spark\").stages[-1]",
          "displayName": "runJob at PythonRDD.scala:172",
          "jobGroup": "33",
          "jobId": 136,
          "killedTasksSummary": {},
          "name": "runJob at PythonRDD.scala:172",
          "numActiveStages": 0,
          "numActiveTasks": 0,
          "numCompletedIndices": 1,
          "numCompletedStages": 1,
          "numCompletedTasks": 1,
          "numFailedStages": 0,
          "numFailedTasks": 0,
          "numKilledTasks": 0,
          "numSkippedStages": 0,
          "numSkippedTasks": 0,
          "numTasks": 1,
          "rowCount": 1,
          "stageIds": [
           491
          ],
          "status": "SUCCEEDED",
          "submissionTime": "2023-09-11T14:41:31.715GMT",
          "usageDescription": ""
         }
        ],
        "limit": 20,
        "numbers": {
         "FAILED": 0,
         "RUNNING": 0,
         "SUCCEEDED": 6,
         "UNKNOWN": 0
        },
        "rule": "ALL_DESC"
       },
       "spark_pool": null,
       "state": "finished",
       "statement_id": 33
      },
      "text/plain": [
       "StatementMeta(, db09740a-036f-4e14-9afc-ee8d112e8535, 33, Finished, Available)"
      ]
     },
     "metadata": {},
     "output_type": "display_data"
    },
    {
     "name": "stderr",
     "output_type": "stream",
     "text": [
      "2023/09/11 14:41:30 INFO mlflow.spark: 'models:/aisample-recommendation-alsmodel/1' resolved as 'abfss://33953aa3-b8e7-44f4-a8aa-0c2588e6ce74@onelakemsit.pbidedicated.windows.net/fc42012a-38f8-4b16-8396-35751718fbac/3a8e0332-bc1a-4fbd-9630-e48474d81f29/artifacts'\n",
      "2023/09/11 14:41:31 INFO mlflow.spark: File 'abfss://33953aa3-b8e7-44f4-a8aa-0c2588e6ce74@onelakemsit.pbidedicated.windows.net/fc42012a-38f8-4b16-8396-35751718fbac/3a8e0332-bc1a-4fbd-9630-e48474d81f29/artifacts/sparkml' is already on DFS, copy is not necessary.\n"
     ]
    }
   ],
   "source": [
    "# Load the best model\n",
    "# MLflow uses the PipelineModel to wrap the original model to extract the original ALSModel from the stages\n",
    "model_uri = f\"models:/{EXPERIMENT_NAME}-alsmodel/1\"\n",
    "loaded_model = mlflow.spark.load_model(model_uri, dfs_tmpdir=\"Files/spark\").stages[-1]"
   ]
  },
  {
   "cell_type": "code",
   "execution_count": null,
   "id": "d54b4290-5c72-492e-9c0b-4dc488bc068a",
   "metadata": {
    "jupyter": {
     "outputs_hidden": false,
     "source_hidden": false
    },
    "nteract": {
     "transient": {
      "deleting": false
     }
    }
   },
   "outputs": [
    {
     "data": {
      "application/vnd.livy.statement-meta+json": {
       "execution_finish_time": "2023-09-11T14:41:42.0384296Z",
       "execution_start_time": "2023-09-11T14:41:41.7040789Z",
       "livy_statement_state": "available",
       "parent_msg_id": "d09d8281-d473-4861-acf8-3bf1bb0046b5",
       "queued_time": "2023-09-11T14:33:17.8128645Z",
       "session_id": "db09740a-036f-4e14-9afc-ee8d112e8535",
       "session_start_time": null,
       "spark_jobs": {
        "jobs": [],
        "limit": 20,
        "numbers": {
         "FAILED": 0,
         "RUNNING": 0,
         "SUCCEEDED": 0,
         "UNKNOWN": 0
        },
        "rule": "ALL_DESC"
       },
       "spark_pool": null,
       "state": "finished",
       "statement_id": 34
      },
      "text/plain": [
       "StatementMeta(, db09740a-036f-4e14-9afc-ee8d112e8535, 34, Finished, Available)"
      ]
     },
     "metadata": {},
     "output_type": "display_data"
    }
   ],
   "source": [
    "# Generate top 10 book recommendations for each user\n",
    "userRecs = loaded_model.recommendForAllUsers(10)"
   ]
  },
  {
   "cell_type": "code",
   "execution_count": null,
   "id": "e8e75b41-0db0-4682-873d-f48138b74a5b",
   "metadata": {
    "jupyter": {
     "outputs_hidden": false,
     "source_hidden": false
    },
    "nteract": {
     "transient": {
      "deleting": false
     }
    }
   },
   "outputs": [
    {
     "data": {
      "application/vnd.livy.statement-meta+json": {
       "execution_finish_time": "2023-09-11T14:41:49.21306Z",
       "execution_start_time": "2023-09-11T14:41:42.4858974Z",
       "livy_statement_state": "available",
       "parent_msg_id": "06fd3d40-39b1-4004-bfeb-18352fcfc5b3",
       "queued_time": "2023-09-11T14:33:18.8512926Z",
       "session_id": "db09740a-036f-4e14-9afc-ee8d112e8535",
       "session_start_time": null,
       "spark_jobs": {
        "jobs": [
         {
          "completionTime": "2023-09-11T14:41:47.761GMT",
          "dataRead": 0,
          "dataWritten": 0,
          "description": "Job group for statement 35:\n# Represent the recommendations in an interpretable format\nuserRecs = (\n    userRecs.withColumn(\"rec_exp\", F.explode(\"recommendations\"))\n    .select(\"_user_id\", F.col(\"rec_exp._item_id\"), F.col(\"rec_exp.rating\"))\n    .join(df_items.select([\"_item_id\", \"Book-Title\"]), on=\"_item_id\")\n)\nuserRecs.limit(10).show()",
          "displayName": "showString at NativeMethodAccessorImpl.java:0",
          "jobGroup": "35",
          "jobId": 146,
          "killedTasksSummary": {},
          "name": "showString at NativeMethodAccessorImpl.java:0",
          "numActiveStages": 0,
          "numActiveTasks": 0,
          "numCompletedIndices": 1,
          "numCompletedStages": 1,
          "numCompletedTasks": 1,
          "numFailedStages": 0,
          "numFailedTasks": 0,
          "numKilledTasks": 0,
          "numSkippedStages": 2,
          "numSkippedTasks": 11,
          "numTasks": 12,
          "rowCount": 0,
          "stageIds": [
           502,
           503,
           504
          ],
          "status": "SUCCEEDED",
          "submissionTime": "2023-09-11T14:41:47.738GMT",
          "usageDescription": ""
         },
         {
          "completionTime": "2023-09-11T14:41:47.719GMT",
          "dataRead": 0,
          "dataWritten": 0,
          "description": "Job group for statement 35:\n# Represent the recommendations in an interpretable format\nuserRecs = (\n    userRecs.withColumn(\"rec_exp\", F.explode(\"recommendations\"))\n    .select(\"_user_id\", F.col(\"rec_exp._item_id\"), F.col(\"rec_exp.rating\"))\n    .join(df_items.select([\"_item_id\", \"Book-Title\"]), on=\"_item_id\")\n)\nuserRecs.limit(10).show()",
          "displayName": "showString at NativeMethodAccessorImpl.java:0",
          "jobGroup": "35",
          "jobId": 145,
          "killedTasksSummary": {},
          "name": "showString at NativeMethodAccessorImpl.java:0",
          "numActiveStages": 0,
          "numActiveTasks": 0,
          "numCompletedIndices": 1,
          "numCompletedStages": 1,
          "numCompletedTasks": 1,
          "numFailedStages": 0,
          "numFailedTasks": 0,
          "numKilledTasks": 0,
          "numSkippedStages": 1,
          "numSkippedTasks": 10,
          "numTasks": 11,
          "rowCount": 0,
          "stageIds": [
           500,
           501
          ],
          "status": "SUCCEEDED",
          "submissionTime": "2023-09-11T14:41:47.560GMT",
          "usageDescription": ""
         },
         {
          "completionTime": "2023-09-11T14:41:47.535GMT",
          "dataRead": 201921,
          "dataWritten": 655207,
          "description": "Job group for statement 35:\n# Represent the recommendations in an interpretable format\nuserRecs = (\n    userRecs.withColumn(\"rec_exp\", F.explode(\"recommendations\"))\n    .select(\"_user_id\", F.col(\"rec_exp._item_id\"), F.col(\"rec_exp.rating\"))\n    .join(df_items.select([\"_item_id\", \"Book-Title\"]), on=\"_item_id\")\n)\nuserRecs.limit(10).show()",
          "displayName": "showString at NativeMethodAccessorImpl.java:0",
          "jobGroup": "35",
          "jobId": 144,
          "killedTasksSummary": {},
          "name": "showString at NativeMethodAccessorImpl.java:0",
          "numActiveStages": 0,
          "numActiveTasks": 0,
          "numCompletedIndices": 10,
          "numCompletedStages": 1,
          "numCompletedTasks": 10,
          "numFailedStages": 0,
          "numFailedTasks": 0,
          "numKilledTasks": 0,
          "numSkippedStages": 0,
          "numSkippedTasks": 0,
          "numTasks": 10,
          "rowCount": 3771,
          "stageIds": [
           499
          ],
          "status": "SUCCEEDED",
          "submissionTime": "2023-09-11T14:41:46.115GMT",
          "usageDescription": ""
         }
        ],
        "limit": 20,
        "numbers": {
         "FAILED": 0,
         "RUNNING": 0,
         "SUCCEEDED": 3,
         "UNKNOWN": 0
        },
        "rule": "ALL_DESC"
       },
       "spark_pool": null,
       "state": "finished",
       "statement_id": 35
      },
      "text/plain": [
       "StatementMeta(, db09740a-036f-4e14-9afc-ee8d112e8535, 35, Finished, Available)"
      ]
     },
     "metadata": {},
     "output_type": "display_data"
    },
    {
     "name": "stdout",
     "output_type": "stream",
     "text": [
      "+--------+--------+---------+--------------------+\n",
      "|_item_id|_user_id|   rating|          Book-Title|\n",
      "+--------+--------+---------+--------------------+\n",
      "|   71056|       7|10.227177|   The Da Vinci Code|\n",
      "|  170437|       7|8.2797165|The Five People Y...|\n",
      "|   44865|       7|7.9993467|Lasher: Lives of ...|\n",
      "|  125415|       7|6.9831495|Harry Potter and ...|\n",
      "|   86727|       7| 6.354976|     No Greater Love|\n",
      "|    7481|       7|6.0774207|The Poisonwood Bi...|\n",
      "|  169605|       7| 6.069703|     Blood and Money|\n",
      "|  236327|       7|6.0508156|  Concept of Justice|\n",
      "|   70557|       7|5.9909506|Tuesdays with Mor...|\n",
      "|   86654|       7|5.8801236|      A Time to Kill|\n",
      "+--------+--------+---------+--------------------+\n",
      "\n"
     ]
    }
   ],
   "source": [
    "# Represent the recommendations in an interpretable format\n",
    "userRecs = (\n",
    "    userRecs.withColumn(\"rec_exp\", F.explode(\"recommendations\"))\n",
    "    .select(\"_user_id\", F.col(\"rec_exp._item_id\"), F.col(\"rec_exp.rating\"))\n",
    "    .join(df_items.select([\"_item_id\", \"Book-Title\"]), on=\"_item_id\")\n",
    ")\n",
    "userRecs.limit(10).show()"
   ]
  },
  {
   "cell_type": "markdown",
   "id": "ae886a11-4390-4cd9-8559-18296cc22829",
   "metadata": {
    "nteract": {
     "transient": {
      "deleting": false
     }
    }
   },
   "source": [
    "You have received the top 10 book recommendations for each user."
   ]
  },
  {
   "cell_type": "markdown",
   "id": "5e8dfafe-c21b-4277-bed4-cee5e827b006",
   "metadata": {
    "nteract": {
     "transient": {
      "deleting": false
     }
    }
   },
   "source": [
    "#### Save the predictions to the lakehouse\n",
    "\n",
    "Finally, write the recommendation generated by the best ALS model back to the lakehouse."
   ]
  },
  {
   "cell_type": "code",
   "execution_count": null,
   "id": "0e3c64a3-8ea2-4ffe-873b-386b63f1050c",
   "metadata": {
    "jupyter": {
     "outputs_hidden": false,
     "source_hidden": false
    },
    "nteract": {
     "transient": {
      "deleting": false
     }
    }
   },
   "outputs": [
    {
     "data": {
      "application/vnd.livy.statement-meta+json": {
       "execution_finish_time": "2023-09-11T14:41:56.4986393Z",
       "execution_start_time": "2023-09-11T14:41:49.6550868Z",
       "livy_statement_state": "available",
       "parent_msg_id": "e0ac0653-0ddc-4ea5-b0c0-797db749a762",
       "queued_time": "2023-09-11T14:33:19.7447937Z",
       "session_id": "db09740a-036f-4e14-9afc-ee8d112e8535",
       "session_start_time": null,
       "spark_jobs": {
        "jobs": [
         {
          "completionTime": "2023-09-11T14:41:55.025GMT",
          "dataRead": 0,
          "dataWritten": 0,
          "description": "Delta: Job group for statement 36:\n# Code to save the userRecs into lakehouse\nuserRecs.write.format(\"delta\").mode(\"overwrite\").save(\n    f\"{DATA_FOLDER}/predictions/userRecs\"\n): Compute snapshot for version: 0",
          "displayName": "toString at String.java:2994",
          "jobGroup": "36",
          "jobId": 155,
          "killedTasksSummary": {},
          "name": "toString at String.java:2994",
          "numActiveStages": 0,
          "numActiveTasks": 0,
          "numCompletedIndices": 1,
          "numCompletedStages": 1,
          "numCompletedTasks": 1,
          "numFailedStages": 0,
          "numFailedTasks": 0,
          "numKilledTasks": 0,
          "numSkippedStages": 2,
          "numSkippedTasks": 51,
          "numTasks": 52,
          "rowCount": 0,
          "stageIds": [
           517,
           518,
           516
          ],
          "status": "SUCCEEDED",
          "submissionTime": "2023-09-11T14:41:54.961GMT",
          "usageDescription": ""
         },
         {
          "completionTime": "2023-09-11T14:41:54.942GMT",
          "dataRead": 0,
          "dataWritten": 0,
          "description": "Delta: Job group for statement 36:\n# Code to save the userRecs into lakehouse\nuserRecs.write.format(\"delta\").mode(\"overwrite\").save(\n    f\"{DATA_FOLDER}/predictions/userRecs\"\n): Compute snapshot for version: 0",
          "displayName": "toString at String.java:2994",
          "jobGroup": "36",
          "jobId": 154,
          "killedTasksSummary": {},
          "name": "toString at String.java:2994",
          "numActiveStages": 0,
          "numActiveTasks": 0,
          "numCompletedIndices": 50,
          "numCompletedStages": 1,
          "numCompletedTasks": 50,
          "numFailedStages": 0,
          "numFailedTasks": 0,
          "numKilledTasks": 0,
          "numSkippedStages": 1,
          "numSkippedTasks": 1,
          "numTasks": 51,
          "rowCount": 0,
          "stageIds": [
           514,
           515
          ],
          "status": "SUCCEEDED",
          "submissionTime": "2023-09-11T14:41:53.972GMT",
          "usageDescription": ""
         },
         {
          "completionTime": "2023-09-11T14:41:53.663GMT",
          "dataRead": 0,
          "dataWritten": 0,
          "description": "Delta: Job group for statement 36:\n# Code to save the userRecs into lakehouse\nuserRecs.write.format(\"delta\").mode(\"overwrite\").save(\n    f\"{DATA_FOLDER}/predictions/userRecs\"\n): Compute snapshot for version: 0",
          "displayName": "toString at String.java:2994",
          "jobGroup": "36",
          "jobId": 153,
          "killedTasksSummary": {},
          "name": "toString at String.java:2994",
          "numActiveStages": 0,
          "numActiveTasks": 0,
          "numCompletedIndices": 1,
          "numCompletedStages": 1,
          "numCompletedTasks": 1,
          "numFailedStages": 0,
          "numFailedTasks": 0,
          "numKilledTasks": 0,
          "numSkippedStages": 0,
          "numSkippedTasks": 0,
          "numTasks": 1,
          "rowCount": 0,
          "stageIds": [
           513
          ],
          "status": "SUCCEEDED",
          "submissionTime": "2023-09-11T14:41:53.238GMT",
          "usageDescription": ""
         },
         {
          "completionTime": "2023-09-11T14:41:52.678GMT",
          "dataRead": 0,
          "dataWritten": 0,
          "description": "Job group for statement 36:\n# Code to save the userRecs into lakehouse\nuserRecs.write.format(\"delta\").mode(\"overwrite\").save(\n    f\"{DATA_FOLDER}/predictions/userRecs\"\n)",
          "displayName": "Job group for statement 36:\n# Code to save the userRecs into lakehouse\nuserRecs.write.format(\"delta\").mode(\"overwrite\").save(\n    f\"{DATA_FOLDER}/predictions/userRecs\"\n)",
          "jobGroup": "36",
          "jobId": 152,
          "killedTasksSummary": {},
          "name": "",
          "numActiveStages": 0,
          "numActiveTasks": 0,
          "numCompletedIndices": 0,
          "numCompletedStages": 0,
          "numCompletedTasks": 0,
          "numFailedStages": 0,
          "numFailedTasks": 0,
          "numKilledTasks": 0,
          "numSkippedStages": 0,
          "numSkippedTasks": 0,
          "numTasks": 0,
          "rowCount": 0,
          "stageIds": [],
          "status": "SUCCEEDED",
          "submissionTime": "2023-09-11T14:41:52.678GMT",
          "usageDescription": ""
         },
         {
          "completionTime": "2023-09-11T14:41:52.540GMT",
          "dataRead": 0,
          "dataWritten": 0,
          "description": "Job group for statement 36:\n# Code to save the userRecs into lakehouse\nuserRecs.write.format(\"delta\").mode(\"overwrite\").save(\n    f\"{DATA_FOLDER}/predictions/userRecs\"\n)",
          "displayName": "save at NativeMethodAccessorImpl.java:0",
          "jobGroup": "36",
          "jobId": 151,
          "killedTasksSummary": {},
          "name": "save at NativeMethodAccessorImpl.java:0",
          "numActiveStages": 0,
          "numActiveTasks": 0,
          "numCompletedIndices": 1,
          "numCompletedStages": 1,
          "numCompletedTasks": 1,
          "numFailedStages": 0,
          "numFailedTasks": 0,
          "numKilledTasks": 0,
          "numSkippedStages": 2,
          "numSkippedTasks": 11,
          "numTasks": 12,
          "rowCount": 0,
          "stageIds": [
           510,
           511,
           512
          ],
          "status": "SUCCEEDED",
          "submissionTime": "2023-09-11T14:41:51.834GMT",
          "usageDescription": ""
         },
         {
          "completionTime": "2023-09-11T14:41:51.796GMT",
          "dataRead": 0,
          "dataWritten": 0,
          "description": "Job group for statement 36:\n# Code to save the userRecs into lakehouse\nuserRecs.write.format(\"delta\").mode(\"overwrite\").save(\n    f\"{DATA_FOLDER}/predictions/userRecs\"\n)",
          "displayName": "save at NativeMethodAccessorImpl.java:0",
          "jobGroup": "36",
          "jobId": 150,
          "killedTasksSummary": {},
          "name": "save at NativeMethodAccessorImpl.java:0",
          "numActiveStages": 0,
          "numActiveTasks": 0,
          "numCompletedIndices": 1,
          "numCompletedStages": 1,
          "numCompletedTasks": 1,
          "numFailedStages": 0,
          "numFailedTasks": 0,
          "numKilledTasks": 0,
          "numSkippedStages": 1,
          "numSkippedTasks": 10,
          "numTasks": 11,
          "rowCount": 0,
          "stageIds": [
           509,
           508
          ],
          "status": "SUCCEEDED",
          "submissionTime": "2023-09-11T14:41:51.554GMT",
          "usageDescription": ""
         },
         {
          "completionTime": "2023-09-11T14:41:51.530GMT",
          "dataRead": 0,
          "dataWritten": 0,
          "description": "Job group for statement 36:\n# Code to save the userRecs into lakehouse\nuserRecs.write.format(\"delta\").mode(\"overwrite\").save(\n    f\"{DATA_FOLDER}/predictions/userRecs\"\n)",
          "displayName": "save at NativeMethodAccessorImpl.java:0",
          "jobGroup": "36",
          "jobId": 149,
          "killedTasksSummary": {},
          "name": "save at NativeMethodAccessorImpl.java:0",
          "numActiveStages": 0,
          "numActiveTasks": 0,
          "numCompletedIndices": 10,
          "numCompletedStages": 1,
          "numCompletedTasks": 10,
          "numFailedStages": 0,
          "numFailedTasks": 0,
          "numKilledTasks": 0,
          "numSkippedStages": 0,
          "numSkippedTasks": 0,
          "numTasks": 10,
          "rowCount": 0,
          "stageIds": [
           507
          ],
          "status": "SUCCEEDED",
          "submissionTime": "2023-09-11T14:41:50.819GMT",
          "usageDescription": ""
         }
        ],
        "limit": 20,
        "numbers": {
         "FAILED": 0,
         "RUNNING": 0,
         "SUCCEEDED": 7,
         "UNKNOWN": 0
        },
        "rule": "ALL_DESC"
       },
       "spark_pool": null,
       "state": "finished",
       "statement_id": 36
      },
      "text/plain": [
       "StatementMeta(, db09740a-036f-4e14-9afc-ee8d112e8535, 36, Finished, Available)"
      ]
     },
     "metadata": {},
     "output_type": "display_data"
    }
   ],
   "source": [
    "# Code to save the userRecs into lakehouse\n",
    "userRecs.write.format(\"delta\").mode(\"overwrite\").save(\n",
    "    f\"{DATA_FOLDER}/predictions/userRecs\"\n",
    ")"
   ]
  },
  {
   "cell_type": "code",
   "execution_count": null,
   "id": "36469bab-7db2-4b84-bf35-d320ba48ae7b",
   "metadata": {
    "jupyter": {
     "outputs_hidden": false,
     "source_hidden": false
    },
    "nteract": {
     "transient": {
      "deleting": false
     }
    }
   },
   "outputs": [
    {
     "data": {
      "application/vnd.livy.statement-meta+json": {
       "execution_finish_time": "2023-09-11T14:41:57.2634658Z",
       "execution_start_time": "2023-09-11T14:41:56.9267795Z",
       "livy_statement_state": "available",
       "parent_msg_id": "2198affd-56de-4ef8-9960-9b52203aad67",
       "queued_time": "2023-09-11T14:33:20.410754Z",
       "session_id": "db09740a-036f-4e14-9afc-ee8d112e8535",
       "session_start_time": null,
       "spark_jobs": {
        "jobs": [],
        "limit": 20,
        "numbers": {
         "FAILED": 0,
         "RUNNING": 0,
         "SUCCEEDED": 0,
         "UNKNOWN": 0
        },
        "rule": "ALL_DESC"
       },
       "spark_pool": null,
       "state": "finished",
       "statement_id": 37
      },
      "text/plain": [
       "StatementMeta(, db09740a-036f-4e14-9afc-ee8d112e8535, 37, Finished, Available)"
      ]
     },
     "metadata": {},
     "output_type": "display_data"
    },
    {
     "name": "stdout",
     "output_type": "stream",
     "text": [
      "Full run cost 522 seconds.\n"
     ]
    }
   ],
   "source": [
    "# Determine the entire runtime\n",
    "print(f\"Full run cost {int(time.time() - ts)} seconds.\")"
   ]
  }
 ],
 "metadata": {
  "kernel_info": {
   "name": "synapse_pyspark"
  },
  "kernelspec": {
   "display_name": "Synapse PySpark",
   "language": "Python",
   "name": "synapse_pyspark"
  },
  "language_info": {
   "name": "python"
  },
  "notebook_environment": {},
  "nteract": {
   "version": "nteract-front-end@1.0.0"
  },
  "save_output": true,
  "spark_compute": {
   "compute_id": "/trident/default",
   "session_options": {
    "conf": {},
    "enableDebugMode": false
   }
  }
 },
 "nbformat": 4,
 "nbformat_minor": 5
}
