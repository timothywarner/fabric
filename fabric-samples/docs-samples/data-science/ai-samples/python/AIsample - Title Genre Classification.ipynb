{
 "cells": [
  {
   "cell_type": "markdown",
   "id": "290c610a-d11a-4c59-bc50-ebe07b6be7bc",
   "metadata": {
    "nteract": {
     "transient": {
      "deleting": false
     }
    }
   },
   "source": [
    "# Create, evaluate, and score a text classification model"
   ]
  },
  {
   "cell_type": "markdown",
   "id": "fcef74af-ab8a-48b8-8d91-e7938ebda013",
   "metadata": {
    "nteract": {
     "transient": {
      "deleting": false
     }
    }
   },
   "source": [
    "## Introduction\n",
    "\n",
    "This notebook demonstrates Microsoft Fabric end-to-end data science workflow for a text classification model. The scenario is to use word2vec and logistic regression on Spark to determine a book's genre from the British Library book dataset solely based on the book's title.\n",
    "\n",
    "The main steps in this notebook are:\n",
    "\n",
    "1. Install custom libraries\n",
    "2. Load the data\n",
    "3. Understand and process the data using exploratory data analysis\n",
    "4. Train a machine learning model using `word2vec` and logistic regression and track experiments using MLflow and Fabric Autologging feature\n",
    "5. Load the machine learning model for scoring and make predictions\n",
    "\n",
    "## Prerequisites\n",
    "- [Add a lakehouse](https://aka.ms/fabric/addlakehouse) to this notebook. You will be downloading data from a public blob, then storing the data in the lakehouse. "
   ]
  },
  {
   "cell_type": "markdown",
   "id": "1adef613-bf09-4efd-8dd2-6dca7f8ca9b8",
   "metadata": {
    "nteract": {
     "transient": {
      "deleting": false
     }
    }
   },
   "source": [
    "## Step 1: Install custom libraries"
   ]
  },
  {
   "cell_type": "markdown",
   "id": "0ecf049b-ad32-49fb-bac5-238ba67aad38",
   "metadata": {
    "nteract": {
     "transient": {
      "deleting": false
     }
    }
   },
   "source": [
    "When developing a machine learning model or doing ad-hoc data analysis, you may need to quickly install a custom library (e.g., `wordcloud` in this notebook) for the Apache Spark session. To do this, there are two choices.\n",
    "\n",
    "1. You can use the in-line installation capabilities (e.g., `%pip`, `%conda`, etc.) to quickly get started with new libraries. Note that this installation option would install the custom libraries only in the current notebook and not in the workspace.\n",
    "```python\n",
    "# Use pip to install libraries\n",
    "%pip install <library name>\n",
    "\n",
    "# Use conda to install libraries\n",
    "%conda install <library name>\n",
    " \n",
    "```\n",
    "2. Alternatively, you can create a Fabric environment, install libraries from public sources or upload custom libraries to it, and then your workspace admin can attach the environment as the default for the workspace. All the libraries in the environment will then become available for use in any notebooks and Spark job definitions in the workspace. For more information on environments, see [create, configure, and use an environment in Microsoft Fabric](https://aka.ms/fabric/create-environment)."
   ]
  },
  {
   "cell_type": "markdown",
   "id": "ed641f2d-b12a-4449-87ea-2dfb844b22b7",
   "metadata": {},
   "source": [
    "For the classification model in this notebook, you'll need to use the `wordcloud` library to represent the frequency of words in a text where the size of the word represents its frequency. Here, you'll use `%pip install` to install `wordcloud`.\n",
    "\n",
    "Note that the PySpark kernel will be restarted after `%pip install`, thus you'll need to install the library before you run any other cells.\n",
    "\n"
   ]
  },
  {
   "cell_type": "code",
   "execution_count": null,
   "id": "0846876f-3a76-4857-b559-fa8fa8492b95",
   "metadata": {},
   "outputs": [
    {
     "data": {
      "application/vnd.livy.statement-meta+json": {
       "execution_finish_time": "2023-09-05T17:14:54.6637794Z",
       "execution_start_time": "2023-09-05T17:14:52.0442371Z",
       "livy_statement_state": "available",
       "parent_msg_id": "00fdf0ec-8cfe-43eb-94de-3e586ef945a6",
       "queued_time": "2023-09-05T17:14:40.8307089Z",
       "session_id": "3fd88b16-e905-4c38-99da-16b9b46411b3",
       "session_start_time": null,
       "spark_jobs": {
        "jobs": [],
        "limit": 20,
        "numbers": {
         "FAILED": 0,
         "RUNNING": 0,
         "SUCCEEDED": 0,
         "UNKNOWN": 0
        },
        "rule": "ALL_DESC"
       },
       "spark_pool": null,
       "state": "finished",
       "statement_id": 21
      },
      "text/plain": [
       "StatementMeta(, 3fd88b16-e905-4c38-99da-16b9b46411b3, 21, Finished, Available)"
      ]
     },
     "metadata": {},
     "output_type": "display_data"
    },
    {
     "data": {},
     "execution_count": null,
     "metadata": {},
     "output_type": "execute_result"
    },
    {
     "name": "stdout",
     "output_type": "stream",
     "text": [
      "Requirement already satisfied: wordcloud in /nfs4/pyenv-7e57f2fc-5903-4e46-a241-9ef5462f313c/lib/python3.10/site-packages (1.9.2)\n",
      "Requirement already satisfied: matplotlib in /home/trusted-service-user/cluster-env/trident_env/lib/python3.10/site-packages (from wordcloud) (3.6.3)\n",
      "Requirement already satisfied: numpy>=1.6.1 in /home/trusted-service-user/cluster-env/trident_env/lib/python3.10/site-packages (from wordcloud) (1.23.5)\n",
      "Requirement already satisfied: pillow in /home/trusted-service-user/cluster-env/trident_env/lib/python3.10/site-packages (from wordcloud) (9.4.0)\n",
      "Requirement already satisfied: python-dateutil>=2.7 in /home/trusted-service-user/cluster-env/trident_env/lib/python3.10/site-packages (from matplotlib->wordcloud) (2.8.2)\n",
      "Requirement already satisfied: fonttools>=4.22.0 in /home/trusted-service-user/cluster-env/trident_env/lib/python3.10/site-packages (from matplotlib->wordcloud) (4.39.3)\n",
      "Requirement already satisfied: contourpy>=1.0.1 in /home/trusted-service-user/cluster-env/trident_env/lib/python3.10/site-packages (from matplotlib->wordcloud) (1.0.7)\n",
      "Requirement already satisfied: pyparsing>=2.2.1 in /home/trusted-service-user/cluster-env/trident_env/lib/python3.10/site-packages (from matplotlib->wordcloud) (3.0.9)\n",
      "Requirement already satisfied: packaging>=20.0 in /home/trusted-service-user/cluster-env/trident_env/lib/python3.10/site-packages (from matplotlib->wordcloud) (21.3)\n",
      "Requirement already satisfied: cycler>=0.10 in /home/trusted-service-user/cluster-env/trident_env/lib/python3.10/site-packages (from matplotlib->wordcloud) (0.11.0)\n",
      "Requirement already satisfied: kiwisolver>=1.0.1 in /home/trusted-service-user/cluster-env/trident_env/lib/python3.10/site-packages (from matplotlib->wordcloud) (1.4.4)\n",
      "Requirement already satisfied: six>=1.5 in /home/trusted-service-user/cluster-env/trident_env/lib/python3.10/site-packages (from python-dateutil>=2.7->matplotlib->wordcloud) (1.16.0)\n",
      "\n",
      "\u001b[1m[\u001b[0m\u001b[34;49mnotice\u001b[0m\u001b[1;39;49m]\u001b[0m\u001b[39;49m A new release of pip is available: \u001b[0m\u001b[31;49m23.0\u001b[0m\u001b[39;49m -> \u001b[0m\u001b[32;49m23.2.1\u001b[0m\n",
      "\u001b[1m[\u001b[0m\u001b[34;49mnotice\u001b[0m\u001b[1;39;49m]\u001b[0m\u001b[39;49m To update, run: \u001b[0m\u001b[32;49m/nfs4/pyenv-7e57f2fc-5903-4e46-a241-9ef5462f313c/bin/python -m pip install --upgrade pip\u001b[0m\n",
      "Note: you may need to restart the kernel to use updated packages.\n"
     ]
    },
    {
     "data": {},
     "execution_count": null,
     "metadata": {},
     "output_type": "execute_result"
    },
    {
     "name": "stdout",
     "output_type": "stream",
     "text": [
      "Warning: PySpark kernel has been restarted to use updated packages.\n",
      "\n"
     ]
    }
   ],
   "source": [
    "# Install wordcloud for text visualization using pip\n",
    "%pip install wordcloud"
   ]
  },
  {
   "cell_type": "markdown",
   "id": "53f62d14-dd3b-4bea-a130-ded5b6251460",
   "metadata": {
    "nteract": {
     "transient": {
      "deleting": false
     }
    }
   },
   "source": [
    "## Step 2: Load the data"
   ]
  },
  {
   "cell_type": "markdown",
   "id": "11e63bb4-0303-4af1-aa2f-43bf99b06f1a",
   "metadata": {
    "nteract": {
     "transient": {
      "deleting": false
     }
    }
   },
   "source": [
    "### Dataset \n",
    "\n",
    "The dataset is from the British Library book dataset and comprises of metadata about books that have been digitized through collaboration between the British Library and Microsoft. The dataset consists of classifications, created by humans to indicate whether a book is \"fiction\" or \"nonfiction.\" With this dataset, the goal is to train a classification model that determines a book's genre solely based on its title.\n",
    "\n",
    "|BL record ID|Type of resource|Name|Dates associated with name|Type of name|Role|All names|Title|Variant titles|Series title|Number within series|Country of publication|Place of publication|Publisher|Date of publication|Edition|Physical description|Dewey classification|BL shelfmark|Topics|Genre|Languages|Notes|BL record ID for physical resource|classification_id|user_id|created_at|subject_ids|annotator_date_pub|annotator_normalised_date_pub|annotator_edition_statement|annotator_genre|annotator_FAST_genre_terms|annotator_FAST_subject_terms|annotator_comments|annotator_main_language|annotator_other_languages_summaries|annotator_summaries_language|annotator_translation|annotator_original_language|annotator_publisher|annotator_place_pub|annotator_country|annotator_title|Link to digitized book|annotated|\n",
    "|---|---|---|---|---|---|---|---|---|---|---|---|---|---|---|---|---|---|---|---|---|---|---|---|---|---|---|---|---|---|---|---|---|---|---|---|---|---|---|---|---|---|---|---|---|---|\n",
    "|014602826|Monograph|Yearsley, Ann|1753-1806|person||More, Hannah, 1745-1833 [person]; Yearsley, Ann, 1753-1806 [person]|Poems on several occasions [With a prefatory letter by Hannah More.]||||England|London||1786|Fourth edition MANUSCRIPT note|||Digital Store 11644.d.32|||English||003996603||||||||||||||||||||||False|\n",
    "|014602830|Monograph|A, T.||person||Oldham, John, 1653-1683 [person]; A, T. [person]|A Satyr against Vertue. (A poem: supposed to be spoken by a Town-Hector [By John Oldham. The preface signed: T. A.])||||England|London||1679||15 pages (4°)||Digital Store 11602.ee.10. (2.)|||English||000001143||||||||||||||||||||||False|\n"
   ]
  },
  {
   "cell_type": "markdown",
   "id": "b5a41c8e-dd5d-4e8b-93f8-ff7230a52973",
   "metadata": {},
   "source": [
    "### Download dataset and upload to lakehouse\n",
    "\n",
    "> [!TIP]\n",
    "> By defining the following parameters, you can apply this notebook on different datasets easily.\n"
   ]
  },
  {
   "cell_type": "code",
   "execution_count": null,
   "id": "5dc92444-8c48-4631-8f18-a3e5c42c6f1f",
   "metadata": {
    "jupyter": {
     "outputs_hidden": false,
     "source_hidden": false
    },
    "nteract": {
     "transient": {
      "deleting": false
     }
    }
   },
   "outputs": [
    {
     "data": {
      "application/vnd.livy.statement-meta+json": {
       "execution_finish_time": "2023-09-05T17:14:59.1199729Z",
       "execution_start_time": "2023-09-05T17:14:58.7809801Z",
       "livy_statement_state": "available",
       "parent_msg_id": "c96abcb0-69d0-44a9-b22d-df46b668b73d",
       "queued_time": "2023-09-05T17:14:41.2067355Z",
       "session_id": "3fd88b16-e905-4c38-99da-16b9b46411b3",
       "session_start_time": null,
       "spark_jobs": {
        "jobs": [],
        "limit": 20,
        "numbers": {
         "FAILED": 0,
         "RUNNING": 0,
         "SUCCEEDED": 0,
         "UNKNOWN": 0
        },
        "rule": "ALL_DESC"
       },
       "spark_pool": null,
       "state": "finished",
       "statement_id": 23
      },
      "text/plain": [
       "StatementMeta(, 3fd88b16-e905-4c38-99da-16b9b46411b3, 23, Finished, Available)"
      ]
     },
     "metadata": {},
     "output_type": "display_data"
    }
   ],
   "source": [
    "IS_CUSTOM_DATA = False  # if True, dataset has to be uploaded manually by user\n",
    "DATA_FOLDER = \"Files/title-genre-classification\"\n",
    "DATA_FILE = \"blbooksgenre.csv\"\n",
    "\n",
    "# Data schema\n",
    "TEXT_COL = \"Title\"\n",
    "LABEL_COL = \"annotator_genre\"\n",
    "LABELS = [\"Fiction\", \"Non-fiction\"]\n",
    "\n",
    "EXPERIMENT_NAME = \"sample-aisample-textclassification\"  # MLflow experiment name"
   ]
  },
  {
   "cell_type": "markdown",
   "id": "20ff966f-7adb-49ed-8871-5560ede828c5",
   "metadata": {
    "nteract": {
     "transient": {
      "deleting": false
     }
    }
   },
   "source": [
    "The following code downloads a publicly available version of the dataset and then store it in a Fabric lakehouse.\n",
    "\n",
    "> [!IMPORTANT]\n",
    "> **Make sure you [add a lakehouse](https://aka.ms/fabric/addlakehouse) to the notebook before running it. Failure to do so will result in an error.**"
   ]
  },
  {
   "cell_type": "code",
   "execution_count": null,
   "id": "649578f1-29d7-434c-b20f-af240bb14fa7",
   "metadata": {
    "jupyter": {
     "outputs_hidden": false,
     "source_hidden": false
    },
    "nteract": {
     "transient": {
      "deleting": false
     }
    }
   },
   "outputs": [
    {
     "data": {
      "application/vnd.livy.statement-meta+json": {
       "execution_finish_time": "2023-09-05T17:14:59.8274954Z",
       "execution_start_time": "2023-09-05T17:14:59.4858098Z",
       "livy_statement_state": "available",
       "parent_msg_id": "843ab36f-9518-4cef-940f-7c9278f29660",
       "queued_time": "2023-09-05T17:14:41.5800231Z",
       "session_id": "3fd88b16-e905-4c38-99da-16b9b46411b3",
       "session_start_time": null,
       "spark_jobs": {
        "jobs": [],
        "limit": 20,
        "numbers": {
         "FAILED": 0,
         "RUNNING": 0,
         "SUCCEEDED": 0,
         "UNKNOWN": 0
        },
        "rule": "ALL_DESC"
       },
       "spark_pool": null,
       "state": "finished",
       "statement_id": 24
      },
      "text/plain": [
       "StatementMeta(, 3fd88b16-e905-4c38-99da-16b9b46411b3, 24, Finished, Available)"
      ]
     },
     "metadata": {},
     "output_type": "display_data"
    },
    {
     "name": "stdout",
     "output_type": "stream",
     "text": [
      "Downloaded demo data files into lakehouse.\n"
     ]
    }
   ],
   "source": [
    "if not IS_CUSTOM_DATA:\n",
    "    # Download demo data files into lakehouse if it does not exist\n",
    "    import os, requests\n",
    "\n",
    "    remote_url = \"https://synapseaisolutionsa.blob.core.windows.net/public/Title_Genre_Classification\"\n",
    "    fname = \"blbooksgenre.csv\"\n",
    "    download_path = f\"/lakehouse/default/{DATA_FOLDER}/raw\"\n",
    "\n",
    "    if not os.path.exists(\"/lakehouse/default\"):\n",
    "        # Add a lakehouse if no default lakehouse has been added to the notebook\n",
    "        # A new notebook will not link to any lakehouse by default\n",
    "        raise FileNotFoundError(\n",
    "            \"Default lakehouse not found, please add a lakehouse and restart the session.\"\n",
    "        )\n",
    "    os.makedirs(download_path, exist_ok=True)\n",
    "    if not os.path.exists(f\"{download_path}/{fname}\"):\n",
    "        r = requests.get(f\"{remote_url}/{fname}\", timeout=30)\n",
    "        with open(f\"{download_path}/{fname}\", \"wb\") as f:\n",
    "            f.write(r.content)\n",
    "    print(\"Downloaded demo data files into lakehouse.\")"
   ]
  },
  {
   "cell_type": "markdown",
   "id": "d7e8bc2b-a143-4f3d-81ce-599a454cd800",
   "metadata": {
    "nteract": {
     "transient": {
      "deleting": false
     }
    }
   },
   "source": [
    "### Import required libraries\n",
    "\n",
    "Prior to any processing, you need to import required libraries including those for [Spark](https://spark.apache.org/) and [SynapseML](https://aka.ms/AboutSynapseML)."
   ]
  },
  {
   "cell_type": "code",
   "execution_count": null,
   "id": "cb9f1fcf-bf37-46c2-884d-412ac210ded0",
   "metadata": {
    "jupyter": {
     "outputs_hidden": false,
     "source_hidden": false
    },
    "nteract": {
     "transient": {
      "deleting": false
     }
    }
   },
   "outputs": [
    {
     "data": {
      "application/vnd.livy.statement-meta+json": {
       "execution_finish_time": "2023-09-05T17:15:02.9456533Z",
       "execution_start_time": "2023-09-05T17:15:00.2078238Z",
       "livy_statement_state": "available",
       "parent_msg_id": "f16a9390-99bc-44f7-9b8a-d1ecfd5586c7",
       "queued_time": "2023-09-05T17:14:42.2175373Z",
       "session_id": "3fd88b16-e905-4c38-99da-16b9b46411b3",
       "session_start_time": null,
       "spark_jobs": {
        "jobs": [],
        "limit": 20,
        "numbers": {
         "FAILED": 0,
         "RUNNING": 0,
         "SUCCEEDED": 0,
         "UNKNOWN": 0
        },
        "rule": "ALL_DESC"
       },
       "spark_pool": null,
       "state": "finished",
       "statement_id": 25
      },
      "text/plain": [
       "StatementMeta(, 3fd88b16-e905-4c38-99da-16b9b46411b3, 25, Finished, Available)"
      ]
     },
     "metadata": {},
     "output_type": "display_data"
    }
   ],
   "source": [
    "import numpy as np\n",
    "from itertools import chain\n",
    "\n",
    "from wordcloud import WordCloud\n",
    "import matplotlib.pyplot as plt\n",
    "import seaborn as sns\n",
    "\n",
    "import pyspark.sql.functions as F\n",
    "\n",
    "from pyspark.ml import Pipeline\n",
    "from pyspark.ml.feature import *\n",
    "from pyspark.ml.tuning import CrossValidator, ParamGridBuilder\n",
    "from pyspark.ml.classification import LogisticRegression\n",
    "from pyspark.ml.evaluation import (\n",
    "    BinaryClassificationEvaluator,\n",
    "    MulticlassClassificationEvaluator,\n",
    ")\n",
    "\n",
    "from synapse.ml.stages import ClassBalancer\n",
    "from synapse.ml.train import ComputeModelStatistics\n",
    "\n",
    "import mlflow"
   ]
  },
  {
   "cell_type": "markdown",
   "id": "350a9c2e-935e-41ab-b3fb-d34985eccfc9",
   "metadata": {
    "nteract": {
     "transient": {
      "deleting": false
     }
    }
   },
   "source": [
    "### Define hyperparameters\n",
    "\n",
    "Define some hyperparameters for model training.\n",
    "\n",
    ">[!IMPORTANT]\n",
    "> Only modify these hyperparameters if you have an understanding of each parameter."
   ]
  },
  {
   "cell_type": "code",
   "execution_count": null,
   "id": "afe6c1d2-d209-40b3-beed-346b1fb026c4",
   "metadata": {
    "jupyter": {
     "outputs_hidden": false,
     "source_hidden": false
    },
    "nteract": {
     "transient": {
      "deleting": false
     }
    }
   },
   "outputs": [
    {
     "data": {
      "application/vnd.livy.statement-meta+json": {
       "execution_finish_time": "2023-09-05T17:15:03.6571922Z",
       "execution_start_time": "2023-09-05T17:15:03.2944962Z",
       "livy_statement_state": "available",
       "parent_msg_id": "4006a1f1-9f3e-421f-9012-f1e3a2b1184c",
       "queued_time": "2023-09-05T17:14:42.7144032Z",
       "session_id": "3fd88b16-e905-4c38-99da-16b9b46411b3",
       "session_start_time": null,
       "spark_jobs": {
        "jobs": [],
        "limit": 20,
        "numbers": {
         "FAILED": 0,
         "RUNNING": 0,
         "SUCCEEDED": 0,
         "UNKNOWN": 0
        },
        "rule": "ALL_DESC"
       },
       "spark_pool": null,
       "state": "finished",
       "statement_id": 26
      },
      "text/plain": [
       "StatementMeta(, 3fd88b16-e905-4c38-99da-16b9b46411b3, 26, Finished, Available)"
      ]
     },
     "metadata": {},
     "output_type": "display_data"
    }
   ],
   "source": [
    "# Hyper-parameters \n",
    "word2vec_size = 128  # The length of the vector for each word\n",
    "min_word_count = 3  # The minimum number of times that a word must appear to be considered\n",
    "max_iter = 10  # The maximum number of training iterations\n",
    "k_folds = 3  # The number of folds for cross-validation"
   ]
  },
  {
   "cell_type": "markdown",
   "id": "e9dd6ad8-2765-490b-b19d-95abcbbb3a56",
   "metadata": {
    "nteract": {
     "transient": {
      "deleting": false
     }
    }
   },
   "source": [
    "Start recording the time it takes to run this notebook."
   ]
  },
  {
   "cell_type": "code",
   "execution_count": null,
   "id": "d40d0383-edec-4e4b-be39-d8d82676032b",
   "metadata": {
    "jupyter": {
     "outputs_hidden": false,
     "source_hidden": false
    },
    "nteract": {
     "transient": {
      "deleting": false
     }
    }
   },
   "outputs": [
    {
     "data": {
      "application/vnd.livy.statement-meta+json": {
       "execution_finish_time": "2023-09-05T17:15:04.3660057Z",
       "execution_start_time": "2023-09-05T17:15:04.0044865Z",
       "livy_statement_state": "available",
       "parent_msg_id": "c1f965d7-ef27-42c4-9f15-a688b7357c62",
       "queued_time": "2023-09-05T17:14:43.1908091Z",
       "session_id": "3fd88b16-e905-4c38-99da-16b9b46411b3",
       "session_start_time": null,
       "spark_jobs": {
        "jobs": [],
        "limit": 20,
        "numbers": {
         "FAILED": 0,
         "RUNNING": 0,
         "SUCCEEDED": 0,
         "UNKNOWN": 0
        },
        "rule": "ALL_DESC"
       },
       "spark_pool": null,
       "state": "finished",
       "statement_id": 27
      },
      "text/plain": [
       "StatementMeta(, 3fd88b16-e905-4c38-99da-16b9b46411b3, 27, Finished, Available)"
      ]
     },
     "metadata": {},
     "output_type": "display_data"
    }
   ],
   "source": [
    "# Record the notebook running time\n",
    "import time\n",
    "\n",
    "ts = time.time()"
   ]
  },
  {
   "cell_type": "markdown",
   "id": "920c1b99-fd37-4f40-8e49-1fd9ba7d9be6",
   "metadata": {
    "nteract": {
     "transient": {
      "deleting": false
     }
    }
   },
   "source": [
    "### Set up the MLflow experiment tracking\n",
    "\n",
    "Extending the MLflow autologging capabilities, autologging works by automatically capturing the values of input parameters and output metrics of a machine learning model as it is being trained. This information is then logged to the workspace, where it can be accessed and visualized using the MLflow APIs or the corresponding experiment in the workspace. To learn more about  autologging, see [Autologging in Microsoft Fabric](https://aka.ms/fabric-autologging)."
   ]
  },
  {
   "cell_type": "code",
   "execution_count": null,
   "id": "12e482a7-72f7-48ad-bd55-9bd6e61b60f3",
   "metadata": {},
   "outputs": [
    {
     "data": {
      "application/vnd.livy.statement-meta+json": {
       "execution_finish_time": "2023-09-05T17:15:09.1165836Z",
       "execution_start_time": "2023-09-05T17:15:04.7710227Z",
       "livy_statement_state": "available",
       "parent_msg_id": "ca29c25a-688e-4e0d-901c-5c16028c86e0",
       "queued_time": "2023-09-05T17:14:43.6432784Z",
       "session_id": "3fd88b16-e905-4c38-99da-16b9b46411b3",
       "session_start_time": null,
       "spark_jobs": {
        "jobs": [],
        "limit": 20,
        "numbers": {
         "FAILED": 0,
         "RUNNING": 0,
         "SUCCEEDED": 0,
         "UNKNOWN": 0
        },
        "rule": "ALL_DESC"
       },
       "spark_pool": null,
       "state": "finished",
       "statement_id": 28
      },
      "text/plain": [
       "StatementMeta(, 3fd88b16-e905-4c38-99da-16b9b46411b3, 28, Finished, Available)"
      ]
     },
     "metadata": {},
     "output_type": "display_data"
    },
    {
     "name": "stderr",
     "output_type": "stream",
     "text": [
      "2023/09/05 17:15:05 INFO mlflow.tracking.fluent: Experiment with name 'sample-aisample-textclassification' does not exist. Creating a new experiment.\n"
     ]
    }
   ],
   "source": [
    "# Set up Mlflow for experiment tracking\n",
    "\n",
    "mlflow.set_experiment(EXPERIMENT_NAME)\n",
    "mlflow.autolog(disable=True)  # Disable Mlflow autologging"
   ]
  },
  {
   "cell_type": "markdown",
   "id": "1d2884de-17c8-4458-8883-5212f14c0543",
   "metadata": {
    "nteract": {
     "transient": {
      "deleting": false
     }
    }
   },
   "source": [
    "> [!NOTE]\n",
    "> If you want to disable Microsoft Fabric autologging in a notebook session, call `mlflow.autolog()` and set `disable=True`."
   ]
  },
  {
   "cell_type": "markdown",
   "id": "184a16b6-f9fd-4761-908f-c0b3d61e064b",
   "metadata": {
    "nteract": {
     "transient": {
      "deleting": false
     }
    }
   },
   "source": [
    "### Read raw date data from the lakehouse"
   ]
  },
  {
   "cell_type": "code",
   "execution_count": null,
   "id": "5e328d7d-3682-4b6c-b109-6c43016a25b7",
   "metadata": {
    "jupyter": {
     "outputs_hidden": false,
     "source_hidden": false
    },
    "nteract": {
     "transient": {
      "deleting": false
     }
    }
   },
   "outputs": [
    {
     "data": {
      "application/vnd.livy.statement-meta+json": {
       "execution_finish_time": "2023-09-05T17:15:14.7129832Z",
       "execution_start_time": "2023-09-05T17:15:09.5105184Z",
       "livy_statement_state": "available",
       "parent_msg_id": "c669bc8f-5f7c-483a-a7ea-dd8e1674e72e",
       "queued_time": "2023-09-05T17:14:43.9765154Z",
       "session_id": "3fd88b16-e905-4c38-99da-16b9b46411b3",
       "session_start_time": null,
       "spark_jobs": {
        "jobs": [
         {
          "completionTime": "2023-09-05T17:15:13.765GMT",
          "dataRead": 20373564,
          "dataWritten": 0,
          "description": "Job group for statement 29:\nraw_df = spark.read.csv(f\"{DATA_FOLDER}/raw/{DATA_FILE}\", header=True, inferSchema=True)",
          "displayName": "csv at NativeMethodAccessorImpl.java:0",
          "jobGroup": "29",
          "jobId": 9,
          "killedTasksSummary": {},
          "name": "csv at NativeMethodAccessorImpl.java:0",
          "numActiveStages": 0,
          "numActiveTasks": 0,
          "numCompletedIndices": 5,
          "numCompletedStages": 1,
          "numCompletedTasks": 5,
          "numFailedStages": 0,
          "numFailedTasks": 0,
          "numKilledTasks": 0,
          "numSkippedStages": 0,
          "numSkippedTasks": 0,
          "numTasks": 5,
          "rowCount": 62872,
          "stageIds": [
           13
          ],
          "status": "SUCCEEDED",
          "submissionTime": "2023-09-05T17:15:12.841GMT",
          "usageDescription": ""
         },
         {
          "completionTime": "2023-09-05T17:15:12.695GMT",
          "dataRead": 65536,
          "dataWritten": 0,
          "description": "Job group for statement 29:\nraw_df = spark.read.csv(f\"{DATA_FOLDER}/raw/{DATA_FILE}\", header=True, inferSchema=True)",
          "displayName": "csv at NativeMethodAccessorImpl.java:0",
          "jobGroup": "29",
          "jobId": 8,
          "killedTasksSummary": {},
          "name": "csv at NativeMethodAccessorImpl.java:0",
          "numActiveStages": 0,
          "numActiveTasks": 0,
          "numCompletedIndices": 1,
          "numCompletedStages": 1,
          "numCompletedTasks": 1,
          "numFailedStages": 0,
          "numFailedTasks": 0,
          "numKilledTasks": 0,
          "numSkippedStages": 0,
          "numSkippedTasks": 0,
          "numTasks": 1,
          "rowCount": 1,
          "stageIds": [
           12
          ],
          "status": "SUCCEEDED",
          "submissionTime": "2023-09-05T17:15:12.157GMT",
          "usageDescription": ""
         }
        ],
        "limit": 20,
        "numbers": {
         "FAILED": 0,
         "RUNNING": 0,
         "SUCCEEDED": 2,
         "UNKNOWN": 0
        },
        "rule": "ALL_DESC"
       },
       "spark_pool": null,
       "state": "finished",
       "statement_id": 29
      },
      "text/plain": [
       "StatementMeta(, 3fd88b16-e905-4c38-99da-16b9b46411b3, 29, Finished, Available)"
      ]
     },
     "metadata": {},
     "output_type": "display_data"
    }
   ],
   "source": [
    "raw_df = spark.read.csv(f\"{DATA_FOLDER}/raw/{DATA_FILE}\", header=True, inferSchema=True)"
   ]
  },
  {
   "cell_type": "markdown",
   "id": "cc17450e-081e-4180-ae00-08608ba80899",
   "metadata": {
    "nteract": {
     "transient": {
      "deleting": false
     }
    }
   },
   "source": [
    "## Step 3: Exploratory Data Analysis"
   ]
  },
  {
   "cell_type": "markdown",
   "id": "7769766c-8261-43e6-9f73-7047aa3e29ab",
   "metadata": {
    "nteract": {
     "transient": {
      "deleting": false
     }
    }
   },
   "source": [
    "Explore the dataset using the `display` command to view high-level statistics of the dataset or even show the chart views."
   ]
  },
  {
   "cell_type": "code",
   "execution_count": null,
   "id": "b58f7e0e",
   "metadata": {
    "advisor": {
     "adviceMetadata": "{\"artifactId\":\"e6682d98-5d51-49d0-aed5-c256e9a9c27f\",\"activityId\":\"3fd88b16-e905-4c38-99da-16b9b46411b3\",\"applicationId\":\"application_1693933166453_0001\",\"jobGroupId\":\"30\",\"advices\":{\"info\":1}}"
    }
   },
   "outputs": [
    {
     "data": {
      "application/vnd.livy.statement-meta+json": {
       "execution_finish_time": "2023-09-05T17:15:16.8030514Z",
       "execution_start_time": "2023-09-05T17:15:15.1071164Z",
       "livy_statement_state": "available",
       "parent_msg_id": "b0c3c5ee-321c-4218-ab44-a51dd522f3ed",
       "queued_time": "2023-09-05T17:14:44.2471397Z",
       "session_id": "3fd88b16-e905-4c38-99da-16b9b46411b3",
       "session_start_time": null,
       "spark_jobs": {
        "jobs": [
         {
          "completionTime": "2023-09-05T17:15:15.779GMT",
          "dataRead": 0,
          "dataWritten": 0,
          "description": "Job group for statement 30:\ndisplay(raw_df.limit(20))",
          "displayName": "getRowsInJsonString at Display.scala:452",
          "jobGroup": "30",
          "jobId": 11,
          "killedTasksSummary": {},
          "name": "getRowsInJsonString at Display.scala:452",
          "numActiveStages": 0,
          "numActiveTasks": 0,
          "numCompletedIndices": 1,
          "numCompletedStages": 1,
          "numCompletedTasks": 1,
          "numFailedStages": 0,
          "numFailedTasks": 0,
          "numKilledTasks": 0,
          "numSkippedStages": 1,
          "numSkippedTasks": 5,
          "numTasks": 6,
          "rowCount": 0,
          "stageIds": [
           15,
           16
          ],
          "status": "SUCCEEDED",
          "submissionTime": "2023-09-05T17:15:15.719GMT",
          "usageDescription": ""
         },
         {
          "completionTime": "2023-09-05T17:15:15.659GMT",
          "dataRead": 327680,
          "dataWritten": 25478,
          "description": "Job group for statement 30:\ndisplay(raw_df.limit(20))",
          "displayName": "getRowsInJsonString at Display.scala:452",
          "jobGroup": "30",
          "jobId": 10,
          "killedTasksSummary": {},
          "name": "getRowsInJsonString at Display.scala:452",
          "numActiveStages": 0,
          "numActiveTasks": 0,
          "numCompletedIndices": 5,
          "numCompletedStages": 1,
          "numCompletedTasks": 5,
          "numFailedStages": 0,
          "numFailedTasks": 0,
          "numKilledTasks": 0,
          "numSkippedStages": 0,
          "numSkippedTasks": 0,
          "numTasks": 5,
          "rowCount": 200,
          "stageIds": [
           14
          ],
          "status": "SUCCEEDED",
          "submissionTime": "2023-09-05T17:15:15.318GMT",
          "usageDescription": ""
         }
        ],
        "limit": 20,
        "numbers": {
         "FAILED": 0,
         "RUNNING": 0,
         "SUCCEEDED": 2,
         "UNKNOWN": 0
        },
        "rule": "ALL_DESC"
       },
       "spark_pool": null,
       "state": "finished",
       "statement_id": 30
      },
      "text/plain": [
       "StatementMeta(, 3fd88b16-e905-4c38-99da-16b9b46411b3, 30, Finished, Available)"
      ]
     },
     "metadata": {},
     "output_type": "display_data"
    },
    {
     "data": {
      "application/vnd.synapse.widget-view+json": {
       "widget_id": "75f0b4d4-c87b-4d72-8375-1a88912ac9dd",
       "widget_type": "Synapse.DataFrame"
      },
      "text/plain": [
       "SynapseWidget(Synapse.DataFrame, 75f0b4d4-c87b-4d72-8375-1a88912ac9dd)"
      ]
     },
     "metadata": {},
     "output_type": "display_data"
    }
   ],
   "source": [
    "display(raw_df.limit(20))"
   ]
  },
  {
   "cell_type": "markdown",
   "id": "f44f6626-5223-4b65-81bd-d216b492df3f",
   "metadata": {
    "nteract": {
     "transient": {
      "deleting": false
     }
    }
   },
   "source": [
    "###  Data preparation\n",
    "\n",
    "Data Preparation includes the following steps:\n",
    "\n",
    "- Clean the dataset\n",
    "- Deal with dataset imbalance\n",
    "- Tokenize the dataset\n",
    "- Display the wordcloud\n",
    "- Vectorize the dataset\n",
    "\n",
    "\n",
    "Start cleaning the data by removing the duplicates."
   ]
  },
  {
   "cell_type": "code",
   "execution_count": null,
   "id": "32b21007-90d1-48d0-b686-7d77533c1f09",
   "metadata": {
    "jupyter": {
     "outputs_hidden": false,
     "source_hidden": false
    },
    "nteract": {
     "transient": {
      "deleting": false
     }
    }
   },
   "outputs": [
    {
     "data": {
      "application/vnd.livy.statement-meta+json": {
       "execution_finish_time": "2023-09-05T17:15:23.8568699Z",
       "execution_start_time": "2023-09-05T17:15:17.1822572Z",
       "livy_statement_state": "available",
       "parent_msg_id": "6e923db9-6560-4e40-9573-98a76c2d32c5",
       "queued_time": "2023-09-05T17:14:44.5692447Z",
       "session_id": "3fd88b16-e905-4c38-99da-16b9b46411b3",
       "session_start_time": null,
       "spark_jobs": {
        "jobs": [
         {
          "completionTime": "2023-09-05T17:15:22.900GMT",
          "dataRead": 0,
          "dataWritten": 0,
          "description": "Job group for statement 31:\ndf = (\n    raw_df.select([TEXT_COL, LABEL_COL])\n    .where(F.col(LABEL_COL).isin(LABELS))\n    .dropDuplicates([TEXT_COL])\n    .cache()\n)\n\ndisplay(df.limit(20))",
          "displayName": "getRowsInJsonString at Display.scala:452",
          "jobGroup": "31",
          "jobId": 13,
          "killedTasksSummary": {},
          "name": "getRowsInJsonString at Display.scala:452",
          "numActiveStages": 0,
          "numActiveTasks": 0,
          "numCompletedIndices": 1,
          "numCompletedStages": 1,
          "numCompletedTasks": 1,
          "numFailedStages": 0,
          "numFailedTasks": 0,
          "numKilledTasks": 0,
          "numSkippedStages": 2,
          "numSkippedTasks": 505,
          "numTasks": 506,
          "rowCount": 0,
          "stageIds": [
           19,
           20,
           21
          ],
          "status": "SUCCEEDED",
          "submissionTime": "2023-09-05T17:15:22.831GMT",
          "usageDescription": ""
         },
         {
          "completionTime": "2023-09-05T17:15:22.501GMT",
          "dataRead": 20632505,
          "dataWritten": 462732,
          "description": "Job group for statement 31:\ndf = (\n    raw_df.select([TEXT_COL, LABEL_COL])\n    .where(F.col(LABEL_COL).isin(LABELS))\n    .dropDuplicates([TEXT_COL])\n    .cache()\n)\n\ndisplay(df.limit(20))",
          "displayName": "getRowsInJsonString at Display.scala:452",
          "jobGroup": "31",
          "jobId": 12,
          "killedTasksSummary": {},
          "name": "getRowsInJsonString at Display.scala:452",
          "numActiveStages": 0,
          "numActiveTasks": 0,
          "numCompletedIndices": 505,
          "numCompletedStages": 2,
          "numCompletedTasks": 505,
          "numFailedStages": 0,
          "numFailedTasks": 0,
          "numKilledTasks": 0,
          "numSkippedStages": 0,
          "numSkippedTasks": 0,
          "numTasks": 505,
          "rowCount": 9524,
          "stageIds": [
           17,
           18
          ],
          "status": "SUCCEEDED",
          "submissionTime": "2023-09-05T17:15:17.702GMT",
          "usageDescription": ""
         }
        ],
        "limit": 20,
        "numbers": {
         "FAILED": 0,
         "RUNNING": 0,
         "SUCCEEDED": 2,
         "UNKNOWN": 0
        },
        "rule": "ALL_DESC"
       },
       "spark_pool": null,
       "state": "finished",
       "statement_id": 31
      },
      "text/plain": [
       "StatementMeta(, 3fd88b16-e905-4c38-99da-16b9b46411b3, 31, Finished, Available)"
      ]
     },
     "metadata": {},
     "output_type": "display_data"
    },
    {
     "data": {
      "application/vnd.synapse.widget-view+json": {
       "widget_id": "74d37a8c-4102-43a3-b6d9-7626a85de62f",
       "widget_type": "Synapse.DataFrame"
      },
      "text/plain": [
       "SynapseWidget(Synapse.DataFrame, 74d37a8c-4102-43a3-b6d9-7626a85de62f)"
      ]
     },
     "metadata": {},
     "output_type": "display_data"
    }
   ],
   "source": [
    "df = (\n",
    "    raw_df.select([TEXT_COL, LABEL_COL])\n",
    "    .where(F.col(LABEL_COL).isin(LABELS))\n",
    "    .dropDuplicates([TEXT_COL])\n",
    "    .cache()\n",
    ")\n",
    "\n",
    "display(df.limit(20))"
   ]
  },
  {
   "cell_type": "markdown",
   "id": "db68baad-2629-4702-8227-7ce2edf0aece",
   "metadata": {
    "nteract": {
     "transient": {
      "deleting": false
     }
    }
   },
   "source": [
    "Then apply the class balancing in order to address any bias."
   ]
  },
  {
   "cell_type": "code",
   "execution_count": null,
   "id": "f30f8f40-7c3a-4ae8-9d4b-0d18c34d10c5",
   "metadata": {
    "jupyter": {
     "outputs_hidden": false,
     "source_hidden": false
    },
    "nteract": {
     "transient": {
      "deleting": false
     }
    }
   },
   "outputs": [
    {
     "data": {
      "application/vnd.livy.statement-meta+json": {
       "execution_finish_time": "2023-09-05T17:15:32.4648277Z",
       "execution_start_time": "2023-09-05T17:15:24.259848Z",
       "livy_statement_state": "available",
       "parent_msg_id": "81c7af20-3722-48b9-b7ce-baae98d5f559",
       "queued_time": "2023-09-05T17:14:44.8011054Z",
       "session_id": "3fd88b16-e905-4c38-99da-16b9b46411b3",
       "session_start_time": null,
       "spark_jobs": {
        "jobs": [
         {
          "completionTime": "2023-09-05T17:15:31.738GMT",
          "dataRead": 0,
          "dataWritten": 0,
          "description": "Job group for statement 32:\n# Create an instance of ClassBalancer and set the input column to LABEL_COL\ncb = ClassBalancer().setInputCol(LABEL_COL)\n\n# Fit the ClassBalancer instance to the input DataFrame and transform the DataFrame\ndf = cb.fit(df).transform(df)\n\n# Display the first 20 rows of the transformed DataFrame\ndisplay(df.limit(20))",
          "displayName": "getRowsInJsonString at Display.scala:452",
          "jobGroup": "32",
          "jobId": 20,
          "killedTasksSummary": {},
          "name": "getRowsInJsonString at Display.scala:452",
          "numActiveStages": 0,
          "numActiveTasks": 0,
          "numCompletedIndices": 1,
          "numCompletedStages": 1,
          "numCompletedTasks": 1,
          "numFailedStages": 0,
          "numFailedTasks": 0,
          "numKilledTasks": 0,
          "numSkippedStages": 2,
          "numSkippedTasks": 505,
          "numTasks": 506,
          "rowCount": 0,
          "stageIds": [
           38,
           39,
           40
          ],
          "status": "SUCCEEDED",
          "submissionTime": "2023-09-05T17:15:31.683GMT",
          "usageDescription": ""
         },
         {
          "completionTime": "2023-09-05T17:15:31.590GMT",
          "dataRead": 583816,
          "dataWritten": 205498,
          "description": "Job group for statement 32:\n# Create an instance of ClassBalancer and set the input column to LABEL_COL\ncb = ClassBalancer().setInputCol(LABEL_COL)\n\n# Fit the ClassBalancer instance to the input DataFrame and transform the DataFrame\ndf = cb.fit(df).transform(df)\n\n# Display the first 20 rows of the transformed DataFrame\ndisplay(df.limit(20))",
          "displayName": "getRowsInJsonString at Display.scala:452",
          "jobGroup": "32",
          "jobId": 19,
          "killedTasksSummary": {},
          "name": "getRowsInJsonString at Display.scala:452",
          "numActiveStages": 0,
          "numActiveTasks": 0,
          "numCompletedIndices": 500,
          "numCompletedStages": 1,
          "numCompletedTasks": 500,
          "numFailedStages": 0,
          "numFailedTasks": 0,
          "numKilledTasks": 0,
          "numSkippedStages": 1,
          "numSkippedTasks": 5,
          "numTasks": 505,
          "rowCount": 2205,
          "stageIds": [
           37,
           36
          ],
          "status": "SUCCEEDED",
          "submissionTime": "2023-09-05T17:15:30.164GMT",
          "usageDescription": ""
         },
         {
          "completionTime": "2023-09-05T17:15:29.898GMT",
          "dataRead": 583816,
          "dataWritten": 58074,
          "description": "Job group for statement 32:\n# Create an instance of ClassBalancer and set the input column to LABEL_COL\ncb = ClassBalancer().setInputCol(LABEL_COL)\n\n# Fit the ClassBalancer instance to the input DataFrame and transform the DataFrame\ndf = cb.fit(df).transform(df)\n\n# Display the first 20 rows of the transformed DataFrame\ndisplay(df.limit(20))",
          "displayName": "getRowsInJsonString at Display.scala:452",
          "jobGroup": "32",
          "jobId": 17,
          "killedTasksSummary": {},
          "name": "getRowsInJsonString at Display.scala:452",
          "numActiveStages": 0,
          "numActiveTasks": 0,
          "numCompletedIndices": 500,
          "numCompletedStages": 1,
          "numCompletedTasks": 500,
          "numFailedStages": 0,
          "numFailedTasks": 0,
          "numKilledTasks": 0,
          "numSkippedStages": 1,
          "numSkippedTasks": 5,
          "numTasks": 505,
          "rowCount": 1243,
          "stageIds": [
           31,
           32
          ],
          "status": "SUCCEEDED",
          "submissionTime": "2023-09-05T17:15:28.150GMT",
          "usageDescription": ""
         },
         {
          "completionTime": "2023-09-05T17:15:27.576GMT",
          "dataRead": 59,
          "dataWritten": 0,
          "description": "Job group for statement 32:\n# Create an instance of ClassBalancer and set the input column to LABEL_COL\ncb = ClassBalancer().setInputCol(LABEL_COL)\n\n# Fit the ClassBalancer instance to the input DataFrame and transform the DataFrame\ndf = cb.fit(df).transform(df)\n\n# Display the first 20 rows of the transformed DataFrame\ndisplay(df.limit(20))",
          "displayName": "collect at ClassBalancer.scala:46",
          "jobGroup": "32",
          "jobId": 16,
          "killedTasksSummary": {},
          "name": "collect at ClassBalancer.scala:46",
          "numActiveStages": 0,
          "numActiveTasks": 0,
          "numCompletedIndices": 1,
          "numCompletedStages": 1,
          "numCompletedTasks": 1,
          "numFailedStages": 0,
          "numFailedTasks": 0,
          "numKilledTasks": 0,
          "numSkippedStages": 3,
          "numSkippedTasks": 506,
          "numTasks": 507,
          "rowCount": 1,
          "stageIds": [
           30,
           27,
           28,
           29
          ],
          "status": "SUCCEEDED",
          "submissionTime": "2023-09-05T17:15:27.532GMT",
          "usageDescription": ""
         },
         {
          "completionTime": "2023-09-05T17:15:27.491GMT",
          "dataRead": 58074,
          "dataWritten": 59,
          "description": "Job group for statement 32:\n# Create an instance of ClassBalancer and set the input column to LABEL_COL\ncb = ClassBalancer().setInputCol(LABEL_COL)\n\n# Fit the ClassBalancer instance to the input DataFrame and transform the DataFrame\ndf = cb.fit(df).transform(df)\n\n# Display the first 20 rows of the transformed DataFrame\ndisplay(df.limit(20))",
          "displayName": "collect at ClassBalancer.scala:46",
          "jobGroup": "32",
          "jobId": 15,
          "killedTasksSummary": {},
          "name": "collect at ClassBalancer.scala:46",
          "numActiveStages": 0,
          "numActiveTasks": 0,
          "numCompletedIndices": 1,
          "numCompletedStages": 1,
          "numCompletedTasks": 1,
          "numFailedStages": 0,
          "numFailedTasks": 0,
          "numKilledTasks": 0,
          "numSkippedStages": 2,
          "numSkippedTasks": 505,
          "numTasks": 506,
          "rowCount": 760,
          "stageIds": [
           24,
           25,
           26
          ],
          "status": "SUCCEEDED",
          "submissionTime": "2023-09-05T17:15:27.307GMT",
          "usageDescription": ""
         },
         {
          "completionTime": "2023-09-05T17:15:27.226GMT",
          "dataRead": 583816,
          "dataWritten": 58074,
          "description": "Job group for statement 32:\n# Create an instance of ClassBalancer and set the input column to LABEL_COL\ncb = ClassBalancer().setInputCol(LABEL_COL)\n\n# Fit the ClassBalancer instance to the input DataFrame and transform the DataFrame\ndf = cb.fit(df).transform(df)\n\n# Display the first 20 rows of the transformed DataFrame\ndisplay(df.limit(20))",
          "displayName": "collect at ClassBalancer.scala:46",
          "jobGroup": "32",
          "jobId": 14,
          "killedTasksSummary": {},
          "name": "collect at ClassBalancer.scala:46",
          "numActiveStages": 0,
          "numActiveTasks": 0,
          "numCompletedIndices": 500,
          "numCompletedStages": 1,
          "numCompletedTasks": 500,
          "numFailedStages": 0,
          "numFailedTasks": 0,
          "numKilledTasks": 0,
          "numSkippedStages": 1,
          "numSkippedTasks": 5,
          "numTasks": 505,
          "rowCount": 1243,
          "stageIds": [
           22,
           23
          ],
          "status": "SUCCEEDED",
          "submissionTime": "2023-09-05T17:15:24.794GMT",
          "usageDescription": ""
         }
        ],
        "limit": 20,
        "numbers": {
         "FAILED": 0,
         "RUNNING": 0,
         "SUCCEEDED": 6,
         "UNKNOWN": 0
        },
        "rule": "ALL_DESC"
       },
       "spark_pool": null,
       "state": "finished",
       "statement_id": 32
      },
      "text/plain": [
       "StatementMeta(, 3fd88b16-e905-4c38-99da-16b9b46411b3, 32, Finished, Available)"
      ]
     },
     "metadata": {},
     "output_type": "display_data"
    },
    {
     "data": {
      "application/vnd.synapse.widget-view+json": {
       "widget_id": "0a4fa903-7431-4ea6-abaf-f4a2054c807c",
       "widget_type": "Synapse.DataFrame"
      },
      "text/plain": [
       "SynapseWidget(Synapse.DataFrame, 0a4fa903-7431-4ea6-abaf-f4a2054c807c)"
      ]
     },
     "metadata": {},
     "output_type": "display_data"
    }
   ],
   "source": [
    "# Create an instance of ClassBalancer and set the input column to LABEL_COL\n",
    "cb = ClassBalancer().setInputCol(LABEL_COL)\n",
    "\n",
    "# Fit the ClassBalancer instance to the input DataFrame and transform the DataFrame\n",
    "df = cb.fit(df).transform(df)\n",
    "\n",
    "# Display the first 20 rows of the transformed DataFrame\n",
    "display(df.limit(20))"
   ]
  },
  {
   "cell_type": "markdown",
   "id": "7f85158a-af45-476d-9904-f643f4fee54c",
   "metadata": {
    "nteract": {
     "transient": {
      "deleting": false
     }
    }
   },
   "source": [
    "Tokenize by splitting the paragraphs and sentences into smaller units that can be more easily assigned meaning. Then remove the stopwords in order to improve the performance. Stopword removal is one of the most commonly used preprocessing steps in Natural Language Processing (NLP) applications, where the idea is to remove the words that occur commonly across all the documents in the corpus. "
   ]
  },
  {
   "cell_type": "code",
   "execution_count": null,
   "id": "68a158b1-d6d5-4681-9171-38b5e9734344",
   "metadata": {
    "jupyter": {
     "outputs_hidden": false,
     "source_hidden": false
    },
    "nteract": {
     "transient": {
      "deleting": false
     }
    }
   },
   "outputs": [
    {
     "data": {
      "application/vnd.livy.statement-meta+json": {
       "execution_finish_time": "2023-09-05T17:15:38.8630957Z",
       "execution_start_time": "2023-09-05T17:15:33.7341273Z",
       "livy_statement_state": "available",
       "parent_msg_id": "820694df-9e51-4220-8534-24cbd2ab467d",
       "queued_time": "2023-09-05T17:14:45.1756887Z",
       "session_id": "3fd88b16-e905-4c38-99da-16b9b46411b3",
       "session_start_time": null,
       "spark_jobs": {
        "jobs": [
         {
          "completionTime": "2023-09-05T17:15:37.757GMT",
          "dataRead": 0,
          "dataWritten": 0,
          "description": "Job group for statement 33:\n# Text transformer\ntokenizer = Tokenizer(inputCol=TEXT_COL, outputCol=\"tokens\")\nstopwords_remover = StopWordsRemover(inputCol=\"tokens\", outputCol=\"filtered_tokens\")\n\n# Build the pipeline\npipeline = Pipeline(stages=[tokenizer, stopwords_remover])\n\ntoken_df = pipeline.fit(df).transform(df)\n\ndisplay(token_df.limit(20))",
          "displayName": "getRowsInJsonString at Display.scala:452",
          "jobGroup": "33",
          "jobId": 24,
          "killedTasksSummary": {},
          "name": "getRowsInJsonString at Display.scala:452",
          "numActiveStages": 0,
          "numActiveTasks": 0,
          "numCompletedIndices": 1,
          "numCompletedStages": 1,
          "numCompletedTasks": 1,
          "numFailedStages": 0,
          "numFailedTasks": 0,
          "numKilledTasks": 0,
          "numSkippedStages": 2,
          "numSkippedTasks": 505,
          "numTasks": 506,
          "rowCount": 0,
          "stageIds": [
           48,
           49,
           50
          ],
          "status": "SUCCEEDED",
          "submissionTime": "2023-09-05T17:15:37.719GMT",
          "usageDescription": ""
         },
         {
          "completionTime": "2023-09-05T17:15:37.688GMT",
          "dataRead": 583816,
          "dataWritten": 568307,
          "description": "Job group for statement 33:\n# Text transformer\ntokenizer = Tokenizer(inputCol=TEXT_COL, outputCol=\"tokens\")\nstopwords_remover = StopWordsRemover(inputCol=\"tokens\", outputCol=\"filtered_tokens\")\n\n# Build the pipeline\npipeline = Pipeline(stages=[tokenizer, stopwords_remover])\n\ntoken_df = pipeline.fit(df).transform(df)\n\ndisplay(token_df.limit(20))",
          "displayName": "getRowsInJsonString at Display.scala:452",
          "jobGroup": "33",
          "jobId": 23,
          "killedTasksSummary": {},
          "name": "getRowsInJsonString at Display.scala:452",
          "numActiveStages": 0,
          "numActiveTasks": 0,
          "numCompletedIndices": 500,
          "numCompletedStages": 1,
          "numCompletedTasks": 500,
          "numFailedStages": 0,
          "numFailedTasks": 0,
          "numKilledTasks": 0,
          "numSkippedStages": 1,
          "numSkippedTasks": 5,
          "numTasks": 505,
          "rowCount": 2205,
          "stageIds": [
           46,
           47
          ],
          "status": "SUCCEEDED",
          "submissionTime": "2023-09-05T17:15:35.916GMT",
          "usageDescription": ""
         },
         {
          "completionTime": "2023-09-05T17:15:35.678GMT",
          "dataRead": 583816,
          "dataWritten": 58074,
          "description": "Job group for statement 33:\n# Text transformer\ntokenizer = Tokenizer(inputCol=TEXT_COL, outputCol=\"tokens\")\nstopwords_remover = StopWordsRemover(inputCol=\"tokens\", outputCol=\"filtered_tokens\")\n\n# Build the pipeline\npipeline = Pipeline(stages=[tokenizer, stopwords_remover])\n\ntoken_df = pipeline.fit(df).transform(df)\n\ndisplay(token_df.limit(20))",
          "displayName": "getRowsInJsonString at Display.scala:452",
          "jobGroup": "33",
          "jobId": 21,
          "killedTasksSummary": {},
          "name": "getRowsInJsonString at Display.scala:452",
          "numActiveStages": 0,
          "numActiveTasks": 0,
          "numCompletedIndices": 500,
          "numCompletedStages": 1,
          "numCompletedTasks": 500,
          "numFailedStages": 0,
          "numFailedTasks": 0,
          "numKilledTasks": 0,
          "numSkippedStages": 1,
          "numSkippedTasks": 5,
          "numTasks": 505,
          "rowCount": 1243,
          "stageIds": [
           42,
           41
          ],
          "status": "SUCCEEDED",
          "submissionTime": "2023-09-05T17:15:34.090GMT",
          "usageDescription": ""
         }
        ],
        "limit": 20,
        "numbers": {
         "FAILED": 0,
         "RUNNING": 0,
         "SUCCEEDED": 3,
         "UNKNOWN": 0
        },
        "rule": "ALL_DESC"
       },
       "spark_pool": null,
       "state": "finished",
       "statement_id": 33
      },
      "text/plain": [
       "StatementMeta(, 3fd88b16-e905-4c38-99da-16b9b46411b3, 33, Finished, Available)"
      ]
     },
     "metadata": {},
     "output_type": "display_data"
    },
    {
     "data": {
      "application/vnd.synapse.widget-view+json": {
       "widget_id": "7ee254cf-72e5-4a2b-acb2-8ecfa78cdad7",
       "widget_type": "Synapse.DataFrame"
      },
      "text/plain": [
       "SynapseWidget(Synapse.DataFrame, 7ee254cf-72e5-4a2b-acb2-8ecfa78cdad7)"
      ]
     },
     "metadata": {},
     "output_type": "display_data"
    }
   ],
   "source": [
    "# Text transformer\n",
    "tokenizer = Tokenizer(inputCol=TEXT_COL, outputCol=\"tokens\")\n",
    "stopwords_remover = StopWordsRemover(inputCol=\"tokens\", outputCol=\"filtered_tokens\")\n",
    "\n",
    "# Build the pipeline\n",
    "pipeline = Pipeline(stages=[tokenizer, stopwords_remover])\n",
    "\n",
    "token_df = pipeline.fit(df).transform(df)\n",
    "\n",
    "display(token_df.limit(20))"
   ]
  },
  {
   "cell_type": "markdown",
   "id": "09305d86-53d0-4f3a-9302-d39fdd32b63b",
   "metadata": {
    "nteract": {
     "transient": {
      "deleting": false
     }
    }
   },
   "source": [
    "Display the wordcloud for each class.\n",
    "\n",
    "A wordcloud is a visually prominent presentation of “keywords” that appear frequently in text data. The wordcloud is effective because the rendering of keywords forms a cloud-like color picture to better capture the main text data at a glance. Learn [more about `wordcloud`](https://github.com/amueller/word_cloud).\n"
   ]
  },
  {
   "cell_type": "code",
   "execution_count": null,
   "id": "e2892398-bcc7-4216-9274-f28b7d76ebe9",
   "metadata": {
    "jupyter": {
     "outputs_hidden": false,
     "source_hidden": false
    },
    "nteract": {
     "transient": {
      "deleting": false
     }
    }
   },
   "outputs": [
    {
     "data": {
      "application/vnd.livy.statement-meta+json": {
       "execution_finish_time": "2023-09-05T17:15:51.9001704Z",
       "execution_start_time": "2023-09-05T17:15:39.2303938Z",
       "livy_statement_state": "available",
       "parent_msg_id": "86720de9-ead4-40af-9189-92b085076dcf",
       "queued_time": "2023-09-05T17:14:45.6875876Z",
       "session_id": "3fd88b16-e905-4c38-99da-16b9b46411b3",
       "session_start_time": null,
       "spark_jobs": {
        "jobs": [
         {
          "completionTime": "2023-09-05T17:15:47.269GMT",
          "dataRead": 652273,
          "dataWritten": 0,
          "description": "Job group for statement 34:\n# WordCloud\nfor label in LABELS:\n    tokens = (\n        token_df.where(F.col(LABEL_COL) == label)\n        .select(F.explode(\"filtered_tokens\").alias(\"token\"))\n        .where(F.col(\"token\").rlike(r\"^\\w+$\"))\n    )\n\n    top50_tokens = (\n        tokens.groupBy(\"token\").count().orderBy(F.desc(\"count\")).limit(50).collect()\n    )\n\n    # Generate a word cloud image\n    wordcloud = WordCloud(\n        scale=10,\n        background_color=\"white\",\n        random_state=42,  # Make sure the output is always the same for the same input\n    ).generate_from_frequencies(dict(top50_tokens))\n\n    # Display the generated image using matplotlib\n    plt.figure(figsize=(10, 10))\n    plt.title(label, fontsize=20)\n    plt.axis(\"off\")\n    plt.imshow(wordcloud, interpolation=\"bilinear\")",
          "displayName": "collect at /tmp/ipykernel_14119/292748022.py:10",
          "jobGroup": "34",
          "jobId": 32,
          "killedTasksSummary": {},
          "name": "collect at /tmp/ipykernel_14119/292748022.py:10",
          "numActiveStages": 0,
          "numActiveTasks": 0,
          "numCompletedIndices": 1,
          "numCompletedStages": 1,
          "numCompletedTasks": 1,
          "numFailedStages": 0,
          "numFailedTasks": 0,
          "numKilledTasks": 0,
          "numSkippedStages": 2,
          "numSkippedTasks": 505,
          "numTasks": 506,
          "rowCount": 9052,
          "stageIds": [
           70,
           68,
           69
          ],
          "status": "SUCCEEDED",
          "submissionTime": "2023-09-05T17:15:47.164GMT",
          "usageDescription": ""
         },
         {
          "completionTime": "2023-09-05T17:15:47.114GMT",
          "dataRead": 583816,
          "dataWritten": 652273,
          "description": "Job group for statement 34:\n# WordCloud\nfor label in LABELS:\n    tokens = (\n        token_df.where(F.col(LABEL_COL) == label)\n        .select(F.explode(\"filtered_tokens\").alias(\"token\"))\n        .where(F.col(\"token\").rlike(r\"^\\w+$\"))\n    )\n\n    top50_tokens = (\n        tokens.groupBy(\"token\").count().orderBy(F.desc(\"count\")).limit(50).collect()\n    )\n\n    # Generate a word cloud image\n    wordcloud = WordCloud(\n        scale=10,\n        background_color=\"white\",\n        random_state=42,  # Make sure the output is always the same for the same input\n    ).generate_from_frequencies(dict(top50_tokens))\n\n    # Display the generated image using matplotlib\n    plt.figure(figsize=(10, 10))\n    plt.title(label, fontsize=20)\n    plt.axis(\"off\")\n    plt.imshow(wordcloud, interpolation=\"bilinear\")",
          "displayName": "collect at /tmp/ipykernel_14119/292748022.py:10",
          "jobGroup": "34",
          "jobId": 31,
          "killedTasksSummary": {},
          "name": "collect at /tmp/ipykernel_14119/292748022.py:10",
          "numActiveStages": 0,
          "numActiveTasks": 0,
          "numCompletedIndices": 500,
          "numCompletedStages": 1,
          "numCompletedTasks": 500,
          "numFailedStages": 0,
          "numFailedTasks": 0,
          "numKilledTasks": 0,
          "numSkippedStages": 1,
          "numSkippedTasks": 5,
          "numTasks": 505,
          "rowCount": 9536,
          "stageIds": [
           66,
           67
          ],
          "status": "SUCCEEDED",
          "submissionTime": "2023-09-05T17:15:45.063GMT",
          "usageDescription": ""
         },
         {
          "completionTime": "2023-09-05T17:15:44.918GMT",
          "dataRead": 583816,
          "dataWritten": 35340,
          "description": "Job group for statement 34:\n# WordCloud\nfor label in LABELS:\n    tokens = (\n        token_df.where(F.col(LABEL_COL) == label)\n        .select(F.explode(\"filtered_tokens\").alias(\"token\"))\n        .where(F.col(\"token\").rlike(r\"^\\w+$\"))\n    )\n\n    top50_tokens = (\n        tokens.groupBy(\"token\").count().orderBy(F.desc(\"count\")).limit(50).collect()\n    )\n\n    # Generate a word cloud image\n    wordcloud = WordCloud(\n        scale=10,\n        background_color=\"white\",\n        random_state=42,  # Make sure the output is always the same for the same input\n    ).generate_from_frequencies(dict(top50_tokens))\n\n    # Display the generated image using matplotlib\n    plt.figure(figsize=(10, 10))\n    plt.title(label, fontsize=20)\n    plt.axis(\"off\")\n    plt.imshow(wordcloud, interpolation=\"bilinear\")",
          "displayName": "collect at /tmp/ipykernel_14119/292748022.py:10",
          "jobGroup": "34",
          "jobId": 29,
          "killedTasksSummary": {},
          "name": "collect at /tmp/ipykernel_14119/292748022.py:10",
          "numActiveStages": 0,
          "numActiveTasks": 0,
          "numCompletedIndices": 500,
          "numCompletedStages": 1,
          "numCompletedTasks": 500,
          "numFailedStages": 0,
          "numFailedTasks": 0,
          "numKilledTasks": 0,
          "numSkippedStages": 1,
          "numSkippedTasks": 5,
          "numTasks": 505,
          "rowCount": 949,
          "stageIds": [
           61,
           62
          ],
          "status": "SUCCEEDED",
          "submissionTime": "2023-09-05T17:15:43.601GMT",
          "usageDescription": ""
         },
         {
          "completionTime": "2023-09-05T17:15:43.068GMT",
          "dataRead": 143904,
          "dataWritten": 0,
          "description": "Job group for statement 34:\n# WordCloud\nfor label in LABELS:\n    tokens = (\n        token_df.where(F.col(LABEL_COL) == label)\n        .select(F.explode(\"filtered_tokens\").alias(\"token\"))\n        .where(F.col(\"token\").rlike(r\"^\\w+$\"))\n    )\n\n    top50_tokens = (\n        tokens.groupBy(\"token\").count().orderBy(F.desc(\"count\")).limit(50).collect()\n    )\n\n    # Generate a word cloud image\n    wordcloud = WordCloud(\n        scale=10,\n        background_color=\"white\",\n        random_state=42,  # Make sure the output is always the same for the same input\n    ).generate_from_frequencies(dict(top50_tokens))\n\n    # Display the generated image using matplotlib\n    plt.figure(figsize=(10, 10))\n    plt.title(label, fontsize=20)\n    plt.axis(\"off\")\n    plt.imshow(wordcloud, interpolation=\"bilinear\")",
          "displayName": "collect at /tmp/ipykernel_14119/292748022.py:10",
          "jobGroup": "34",
          "jobId": 28,
          "killedTasksSummary": {},
          "name": "collect at /tmp/ipykernel_14119/292748022.py:10",
          "numActiveStages": 0,
          "numActiveTasks": 0,
          "numCompletedIndices": 1,
          "numCompletedStages": 1,
          "numCompletedTasks": 1,
          "numFailedStages": 0,
          "numFailedTasks": 0,
          "numKilledTasks": 0,
          "numSkippedStages": 2,
          "numSkippedTasks": 505,
          "numTasks": 506,
          "rowCount": 1989,
          "stageIds": [
           60,
           58,
           59
          ],
          "status": "SUCCEEDED",
          "submissionTime": "2023-09-05T17:15:42.904GMT",
          "usageDescription": ""
         },
         {
          "completionTime": "2023-09-05T17:15:42.842GMT",
          "dataRead": 583816,
          "dataWritten": 143904,
          "description": "Job group for statement 34:\n# WordCloud\nfor label in LABELS:\n    tokens = (\n        token_df.where(F.col(LABEL_COL) == label)\n        .select(F.explode(\"filtered_tokens\").alias(\"token\"))\n        .where(F.col(\"token\").rlike(r\"^\\w+$\"))\n    )\n\n    top50_tokens = (\n        tokens.groupBy(\"token\").count().orderBy(F.desc(\"count\")).limit(50).collect()\n    )\n\n    # Generate a word cloud image\n    wordcloud = WordCloud(\n        scale=10,\n        background_color=\"white\",\n        random_state=42,  # Make sure the output is always the same for the same input\n    ).generate_from_frequencies(dict(top50_tokens))\n\n    # Display the generated image using matplotlib\n    plt.figure(figsize=(10, 10))\n    plt.title(label, fontsize=20)\n    plt.axis(\"off\")\n    plt.imshow(wordcloud, interpolation=\"bilinear\")",
          "displayName": "collect at /tmp/ipykernel_14119/292748022.py:10",
          "jobGroup": "34",
          "jobId": 27,
          "killedTasksSummary": {},
          "name": "collect at /tmp/ipykernel_14119/292748022.py:10",
          "numActiveStages": 0,
          "numActiveTasks": 0,
          "numCompletedIndices": 500,
          "numCompletedStages": 1,
          "numCompletedTasks": 500,
          "numFailedStages": 0,
          "numFailedTasks": 0,
          "numKilledTasks": 0,
          "numSkippedStages": 1,
          "numSkippedTasks": 5,
          "numTasks": 505,
          "rowCount": 2473,
          "stageIds": [
           56,
           57
          ],
          "status": "SUCCEEDED",
          "submissionTime": "2023-09-05T17:15:40.898GMT",
          "usageDescription": ""
         },
         {
          "completionTime": "2023-09-05T17:15:40.442GMT",
          "dataRead": 583816,
          "dataWritten": 19992,
          "description": "Job group for statement 34:\n# WordCloud\nfor label in LABELS:\n    tokens = (\n        token_df.where(F.col(LABEL_COL) == label)\n        .select(F.explode(\"filtered_tokens\").alias(\"token\"))\n        .where(F.col(\"token\").rlike(r\"^\\w+$\"))\n    )\n\n    top50_tokens = (\n        tokens.groupBy(\"token\").count().orderBy(F.desc(\"count\")).limit(50).collect()\n    )\n\n    # Generate a word cloud image\n    wordcloud = WordCloud(\n        scale=10,\n        background_color=\"white\",\n        random_state=42,  # Make sure the output is always the same for the same input\n    ).generate_from_frequencies(dict(top50_tokens))\n\n    # Display the generated image using matplotlib\n    plt.figure(figsize=(10, 10))\n    plt.title(label, fontsize=20)\n    plt.axis(\"off\")\n    plt.imshow(wordcloud, interpolation=\"bilinear\")",
          "displayName": "collect at /tmp/ipykernel_14119/292748022.py:10",
          "jobGroup": "34",
          "jobId": 25,
          "killedTasksSummary": {},
          "name": "collect at /tmp/ipykernel_14119/292748022.py:10",
          "numActiveStages": 0,
          "numActiveTasks": 0,
          "numCompletedIndices": 500,
          "numCompletedStages": 1,
          "numCompletedTasks": 500,
          "numFailedStages": 0,
          "numFailedTasks": 0,
          "numKilledTasks": 0,
          "numSkippedStages": 1,
          "numSkippedTasks": 5,
          "numTasks": 505,
          "rowCount": 778,
          "stageIds": [
           51,
           52
          ],
          "status": "SUCCEEDED",
          "submissionTime": "2023-09-05T17:15:39.457GMT",
          "usageDescription": ""
         }
        ],
        "limit": 20,
        "numbers": {
         "FAILED": 0,
         "RUNNING": 0,
         "SUCCEEDED": 6,
         "UNKNOWN": 0
        },
        "rule": "ALL_DESC"
       },
       "spark_pool": null,
       "state": "finished",
       "statement_id": 34
      },
      "text/plain": [
       "StatementMeta(, 3fd88b16-e905-4c38-99da-16b9b46411b3, 34, Finished, Available)"
      ]
     },
     "metadata": {},
     "output_type": "display_data"
    },
    {
     "data": {
      "image/png": "[encoded data removed]",
      "text/plain": [
       "<Figure size 1000x1000 with 1 Axes>"
      ]
     },
     "metadata": {},
     "output_type": "display_data"
    },
    {
     "data": {
      "image/png": "[encoded data removed]",
      "text/plain": [
       "<Figure size 1000x1000 with 1 Axes>"
      ]
     },
     "metadata": {},
     "output_type": "display_data"
    }
   ],
   "source": [
    "# WordCloud\n",
    "for label in LABELS:\n",
    "    tokens = (\n",
    "        token_df.where(F.col(LABEL_COL) == label)\n",
    "        .select(F.explode(\"filtered_tokens\").alias(\"token\"))\n",
    "        .where(F.col(\"token\").rlike(r\"^\\w+$\"))\n",
    "    )\n",
    "\n",
    "    top50_tokens = (\n",
    "        tokens.groupBy(\"token\").count().orderBy(F.desc(\"count\")).limit(50).collect()\n",
    "    )\n",
    "\n",
    "    # Generate a word cloud image\n",
    "    wordcloud = WordCloud(\n",
    "        scale=10,\n",
    "        background_color=\"white\",\n",
    "        random_state=42,  # Make sure the output is always the same for the same input\n",
    "    ).generate_from_frequencies(dict(top50_tokens))\n",
    "\n",
    "    # Display the generated image using matplotlib\n",
    "    plt.figure(figsize=(10, 10))\n",
    "    plt.title(label, fontsize=20)\n",
    "    plt.axis(\"off\")\n",
    "    plt.imshow(wordcloud, interpolation=\"bilinear\")"
   ]
  },
  {
   "cell_type": "markdown",
   "id": "5d515752-3aa6-4af5-98dc-b6339cb58d5d",
   "metadata": {
    "nteract": {
     "transient": {
      "deleting": false
     }
    }
   },
   "source": [
    "Finally, use `word2vec` to vectorize the text. `word2vec` creates a representation of each word present in your text into a vector. Words used in similar contexts or having semantic relationships are captured effectively through their closeness in the vector space, indicating that similar words have similar word vectors."
   ]
  },
  {
   "cell_type": "code",
   "execution_count": null,
   "id": "276d331e-be39-48f2-b5be-caa129a6d9e4",
   "metadata": {
    "jupyter": {
     "outputs_hidden": false,
     "source_hidden": false
    },
    "nteract": {
     "transient": {
      "deleting": false
     }
    }
   },
   "outputs": [
    {
     "data": {
      "application/vnd.livy.statement-meta+json": {
       "execution_finish_time": "2023-09-05T17:16:07.2004337Z",
       "execution_start_time": "2023-09-05T17:15:52.2930061Z",
       "livy_statement_state": "available",
       "parent_msg_id": "651aba13-007c-43fd-867b-9de52fd0d460",
       "queued_time": "2023-09-05T17:14:46.0979146Z",
       "session_id": "3fd88b16-e905-4c38-99da-16b9b46411b3",
       "session_start_time": null,
       "spark_jobs": {
        "jobs": [
         {
          "completionTime": "2023-09-05T17:16:06.153GMT",
          "dataRead": 0,
          "dataWritten": 0,
          "description": "Job group for statement 35:\n# Label transformer\nlabel_indexer = StringIndexer(inputCol=LABEL_COL, outputCol=\"labelIdx\")\nvectorizer = Word2Vec(\n    vectorSize=word2vec_size,\n    minCount=min_word_count,\n    inputCol=\"filtered_tokens\",\n    outputCol=\"features\",\n)\n\n# Build the pipeline\npipeline = Pipeline(stages=[label_indexer, vectorizer])\nvec_df = (\n    pipeline.fit(token_df)\n    .transform(token_df)\n    .select([TEXT_COL, LABEL_COL, \"features\", \"labelIdx\", \"weight\"])\n)\n\ndisplay(vec_df.limit(20))",
          "displayName": "getRowsInJsonString at Display.scala:452",
          "jobGroup": "35",
          "jobId": 44,
          "killedTasksSummary": {},
          "name": "getRowsInJsonString at Display.scala:452",
          "numActiveStages": 0,
          "numActiveTasks": 0,
          "numCompletedIndices": 1,
          "numCompletedStages": 1,
          "numCompletedTasks": 1,
          "numFailedStages": 0,
          "numFailedTasks": 0,
          "numKilledTasks": 0,
          "numSkippedStages": 2,
          "numSkippedTasks": 505,
          "numTasks": 506,
          "rowCount": 0,
          "stageIds": [
           102,
           100,
           101
          ],
          "status": "SUCCEEDED",
          "submissionTime": "2023-09-05T17:16:06.118GMT",
          "usageDescription": ""
         },
         {
          "completionTime": "2023-09-05T17:16:06.086GMT",
          "dataRead": 583816,
          "dataWritten": 1716733,
          "description": "Job group for statement 35:\n# Label transformer\nlabel_indexer = StringIndexer(inputCol=LABEL_COL, outputCol=\"labelIdx\")\nvectorizer = Word2Vec(\n    vectorSize=word2vec_size,\n    minCount=min_word_count,\n    inputCol=\"filtered_tokens\",\n    outputCol=\"features\",\n)\n\n# Build the pipeline\npipeline = Pipeline(stages=[label_indexer, vectorizer])\nvec_df = (\n    pipeline.fit(token_df)\n    .transform(token_df)\n    .select([TEXT_COL, LABEL_COL, \"features\", \"labelIdx\", \"weight\"])\n)\n\ndisplay(vec_df.limit(20))",
          "displayName": "getRowsInJsonString at Display.scala:452",
          "jobGroup": "35",
          "jobId": 43,
          "killedTasksSummary": {},
          "name": "getRowsInJsonString at Display.scala:452",
          "numActiveStages": 0,
          "numActiveTasks": 0,
          "numCompletedIndices": 500,
          "numCompletedStages": 1,
          "numCompletedTasks": 500,
          "numFailedStages": 0,
          "numFailedTasks": 0,
          "numKilledTasks": 0,
          "numSkippedStages": 1,
          "numSkippedTasks": 5,
          "numTasks": 505,
          "rowCount": 2205,
          "stageIds": [
           99,
           98
          ],
          "status": "SUCCEEDED",
          "submissionTime": "2023-09-05T17:16:04.343GMT",
          "usageDescription": ""
         },
         {
          "completionTime": "2023-09-05T17:16:04.074GMT",
          "dataRead": 583816,
          "dataWritten": 58074,
          "description": "Job group for statement 35:\n# Label transformer\nlabel_indexer = StringIndexer(inputCol=LABEL_COL, outputCol=\"labelIdx\")\nvectorizer = Word2Vec(\n    vectorSize=word2vec_size,\n    minCount=min_word_count,\n    inputCol=\"filtered_tokens\",\n    outputCol=\"features\",\n)\n\n# Build the pipeline\npipeline = Pipeline(stages=[label_indexer, vectorizer])\nvec_df = (\n    pipeline.fit(token_df)\n    .transform(token_df)\n    .select([TEXT_COL, LABEL_COL, \"features\", \"labelIdx\", \"weight\"])\n)\n\ndisplay(vec_df.limit(20))",
          "displayName": "getRowsInJsonString at Display.scala:452",
          "jobGroup": "35",
          "jobId": 41,
          "killedTasksSummary": {},
          "name": "getRowsInJsonString at Display.scala:452",
          "numActiveStages": 0,
          "numActiveTasks": 0,
          "numCompletedIndices": 500,
          "numCompletedStages": 1,
          "numCompletedTasks": 500,
          "numFailedStages": 0,
          "numFailedTasks": 0,
          "numKilledTasks": 0,
          "numSkippedStages": 1,
          "numSkippedTasks": 5,
          "numTasks": 505,
          "rowCount": 1243,
          "stageIds": [
           93,
           94
          ],
          "status": "SUCCEEDED",
          "submissionTime": "2023-09-05T17:16:03.094GMT",
          "usageDescription": ""
         },
         {
          "completionTime": "2023-09-05T17:16:02.580GMT",
          "dataRead": 1589207,
          "dataWritten": 1005391,
          "description": "Job group for statement 35:\n# Label transformer\nlabel_indexer = StringIndexer(inputCol=LABEL_COL, outputCol=\"labelIdx\")\nvectorizer = Word2Vec(\n    vectorSize=word2vec_size,\n    minCount=min_word_count,\n    inputCol=\"filtered_tokens\",\n    outputCol=\"features\",\n)\n\n# Build the pipeline\npipeline = Pipeline(stages=[label_indexer, vectorizer])\nvec_df = (\n    pipeline.fit(token_df)\n    .transform(token_df)\n    .select([TEXT_COL, LABEL_COL, \"features\", \"labelIdx\", \"weight\"])\n)\n\ndisplay(vec_df.limit(20))",
          "displayName": "collect at Word2Vec.scala:453",
          "jobGroup": "35",
          "jobId": 40,
          "killedTasksSummary": {},
          "name": "collect at Word2Vec.scala:453",
          "numActiveStages": 0,
          "numActiveTasks": 0,
          "numCompletedIndices": 502,
          "numCompletedStages": 3,
          "numCompletedTasks": 502,
          "numFailedStages": 0,
          "numFailedTasks": 0,
          "numKilledTasks": 0,
          "numSkippedStages": 1,
          "numSkippedTasks": 5,
          "numTasks": 507,
          "rowCount": 7500,
          "stageIds": [
           89,
           90,
           91,
           92
          ],
          "status": "SUCCEEDED",
          "submissionTime": "2023-09-05T17:16:00.848GMT",
          "usageDescription": ""
         },
         {
          "completionTime": "2023-09-05T17:16:00.516GMT",
          "dataRead": 1408253,
          "dataWritten": 824437,
          "description": "Job group for statement 35:\n# Label transformer\nlabel_indexer = StringIndexer(inputCol=LABEL_COL, outputCol=\"labelIdx\")\nvectorizer = Word2Vec(\n    vectorSize=word2vec_size,\n    minCount=min_word_count,\n    inputCol=\"filtered_tokens\",\n    outputCol=\"features\",\n)\n\n# Build the pipeline\npipeline = Pipeline(stages=[label_indexer, vectorizer])\nvec_df = (\n    pipeline.fit(token_df)\n    .transform(token_df)\n    .select([TEXT_COL, LABEL_COL, \"features\", \"labelIdx\", \"weight\"])\n)\n\ndisplay(vec_df.limit(20))",
          "displayName": "collect at Word2Vec.scala:191",
          "jobGroup": "35",
          "jobId": 39,
          "killedTasksSummary": {},
          "name": "collect at Word2Vec.scala:191",
          "numActiveStages": 0,
          "numActiveTasks": 0,
          "numCompletedIndices": 1000,
          "numCompletedStages": 2,
          "numCompletedTasks": 1000,
          "numFailedStages": 0,
          "numFailedTasks": 0,
          "numKilledTasks": 0,
          "numSkippedStages": 1,
          "numSkippedTasks": 5,
          "numTasks": 1005,
          "rowCount": 32888,
          "stageIds": [
           88,
           86,
           87
          ],
          "status": "SUCCEEDED",
          "submissionTime": "2023-09-05T17:15:57.196GMT",
          "usageDescription": ""
         },
         {
          "completionTime": "2023-09-05T17:15:57.010GMT",
          "dataRead": 583816,
          "dataWritten": 55332,
          "description": "Job group for statement 35:\n# Label transformer\nlabel_indexer = StringIndexer(inputCol=LABEL_COL, outputCol=\"labelIdx\")\nvectorizer = Word2Vec(\n    vectorSize=word2vec_size,\n    minCount=min_word_count,\n    inputCol=\"filtered_tokens\",\n    outputCol=\"features\",\n)\n\n# Build the pipeline\npipeline = Pipeline(stages=[label_indexer, vectorizer])\nvec_df = (\n    pipeline.fit(token_df)\n    .transform(token_df)\n    .select([TEXT_COL, LABEL_COL, \"features\", \"labelIdx\", \"weight\"])\n)\n\ndisplay(vec_df.limit(20))",
          "displayName": "rdd at Word2Vec.scala:172",
          "jobGroup": "35",
          "jobId": 37,
          "killedTasksSummary": {},
          "name": "rdd at Word2Vec.scala:172",
          "numActiveStages": 0,
          "numActiveTasks": 0,
          "numCompletedIndices": 500,
          "numCompletedStages": 1,
          "numCompletedTasks": 500,
          "numFailedStages": 0,
          "numFailedTasks": 0,
          "numKilledTasks": 0,
          "numSkippedStages": 1,
          "numSkippedTasks": 5,
          "numTasks": 505,
          "rowCount": 1243,
          "stageIds": [
           81,
           82
          ],
          "status": "SUCCEEDED",
          "submissionTime": "2023-09-05T17:15:56.014GMT",
          "usageDescription": ""
         },
         {
          "completionTime": "2023-09-05T17:15:55.861GMT",
          "dataRead": 155434,
          "dataWritten": 0,
          "description": "Job group for statement 35:\n# Label transformer\nlabel_indexer = StringIndexer(inputCol=LABEL_COL, outputCol=\"labelIdx\")\nvectorizer = Word2Vec(\n    vectorSize=word2vec_size,\n    minCount=min_word_count,\n    inputCol=\"filtered_tokens\",\n    outputCol=\"features\",\n)\n\n# Build the pipeline\npipeline = Pipeline(stages=[label_indexer, vectorizer])\nvec_df = (\n    pipeline.fit(token_df)\n    .transform(token_df)\n    .select([TEXT_COL, LABEL_COL, \"features\", \"labelIdx\", \"weight\"])\n)\n\ndisplay(vec_df.limit(20))",
          "displayName": "collect at StringIndexer.scala:204",
          "jobGroup": "35",
          "jobId": 36,
          "killedTasksSummary": {},
          "name": "collect at StringIndexer.scala:204",
          "numActiveStages": 0,
          "numActiveTasks": 0,
          "numCompletedIndices": 1,
          "numCompletedStages": 1,
          "numCompletedTasks": 1,
          "numFailedStages": 0,
          "numFailedTasks": 0,
          "numKilledTasks": 0,
          "numSkippedStages": 2,
          "numSkippedTasks": 505,
          "numTasks": 506,
          "rowCount": 500,
          "stageIds": [
           78,
           79,
           80
          ],
          "status": "SUCCEEDED",
          "submissionTime": "2023-09-05T17:15:55.757GMT",
          "usageDescription": ""
         },
         {
          "completionTime": "2023-09-05T17:15:55.736GMT",
          "dataRead": 583816,
          "dataWritten": 155434,
          "description": "Job group for statement 35:\n# Label transformer\nlabel_indexer = StringIndexer(inputCol=LABEL_COL, outputCol=\"labelIdx\")\nvectorizer = Word2Vec(\n    vectorSize=word2vec_size,\n    minCount=min_word_count,\n    inputCol=\"filtered_tokens\",\n    outputCol=\"features\",\n)\n\n# Build the pipeline\npipeline = Pipeline(stages=[label_indexer, vectorizer])\nvec_df = (\n    pipeline.fit(token_df)\n    .transform(token_df)\n    .select([TEXT_COL, LABEL_COL, \"features\", \"labelIdx\", \"weight\"])\n)\n\ndisplay(vec_df.limit(20))",
          "displayName": "collect at StringIndexer.scala:204",
          "jobGroup": "35",
          "jobId": 35,
          "killedTasksSummary": {},
          "name": "collect at StringIndexer.scala:204",
          "numActiveStages": 0,
          "numActiveTasks": 0,
          "numCompletedIndices": 500,
          "numCompletedStages": 1,
          "numCompletedTasks": 500,
          "numFailedStages": 0,
          "numFailedTasks": 0,
          "numKilledTasks": 0,
          "numSkippedStages": 1,
          "numSkippedTasks": 5,
          "numTasks": 505,
          "rowCount": 984,
          "stageIds": [
           76,
           77
          ],
          "status": "SUCCEEDED",
          "submissionTime": "2023-09-05T17:15:54.071GMT",
          "usageDescription": ""
         },
         {
          "completionTime": "2023-09-05T17:15:53.787GMT",
          "dataRead": 583816,
          "dataWritten": 55332,
          "description": "Job group for statement 35:\n# Label transformer\nlabel_indexer = StringIndexer(inputCol=LABEL_COL, outputCol=\"labelIdx\")\nvectorizer = Word2Vec(\n    vectorSize=word2vec_size,\n    minCount=min_word_count,\n    inputCol=\"filtered_tokens\",\n    outputCol=\"features\",\n)\n\n# Build the pipeline\npipeline = Pipeline(stages=[label_indexer, vectorizer])\nvec_df = (\n    pipeline.fit(token_df)\n    .transform(token_df)\n    .select([TEXT_COL, LABEL_COL, \"features\", \"labelIdx\", \"weight\"])\n)\n\ndisplay(vec_df.limit(20))",
          "displayName": "collect at StringIndexer.scala:204",
          "jobGroup": "35",
          "jobId": 33,
          "killedTasksSummary": {},
          "name": "collect at StringIndexer.scala:204",
          "numActiveStages": 0,
          "numActiveTasks": 0,
          "numCompletedIndices": 500,
          "numCompletedStages": 1,
          "numCompletedTasks": 500,
          "numFailedStages": 0,
          "numFailedTasks": 0,
          "numKilledTasks": 0,
          "numSkippedStages": 1,
          "numSkippedTasks": 5,
          "numTasks": 505,
          "rowCount": 1243,
          "stageIds": [
           71,
           72
          ],
          "status": "SUCCEEDED",
          "submissionTime": "2023-09-05T17:15:52.740GMT",
          "usageDescription": ""
         }
        ],
        "limit": 20,
        "numbers": {
         "FAILED": 0,
         "RUNNING": 0,
         "SUCCEEDED": 9,
         "UNKNOWN": 0
        },
        "rule": "ALL_DESC"
       },
       "spark_pool": null,
       "state": "finished",
       "statement_id": 35
      },
      "text/plain": [
       "StatementMeta(, 3fd88b16-e905-4c38-99da-16b9b46411b3, 35, Finished, Available)"
      ]
     },
     "metadata": {},
     "output_type": "display_data"
    },
    {
     "data": {
      "application/vnd.synapse.widget-view+json": {
       "widget_id": "757b0816-7f29-40e4-bfd4-2fd47ad3d25d",
       "widget_type": "Synapse.DataFrame"
      },
      "text/plain": [
       "SynapseWidget(Synapse.DataFrame, 757b0816-7f29-40e4-bfd4-2fd47ad3d25d)"
      ]
     },
     "metadata": {},
     "output_type": "display_data"
    }
   ],
   "source": [
    "# Label transformer\n",
    "label_indexer = StringIndexer(inputCol=LABEL_COL, outputCol=\"labelIdx\")\n",
    "vectorizer = Word2Vec(\n",
    "    vectorSize=word2vec_size,\n",
    "    minCount=min_word_count,\n",
    "    inputCol=\"filtered_tokens\",\n",
    "    outputCol=\"features\",\n",
    ")\n",
    "\n",
    "# Build the pipeline\n",
    "pipeline = Pipeline(stages=[label_indexer, vectorizer])\n",
    "vec_df = (\n",
    "    pipeline.fit(token_df)\n",
    "    .transform(token_df)\n",
    "    .select([TEXT_COL, LABEL_COL, \"features\", \"labelIdx\", \"weight\"])\n",
    ")\n",
    "\n",
    "display(vec_df.limit(20))"
   ]
  },
  {
   "cell_type": "markdown",
   "id": "fa2beda6-86e9-4eb9-8d0b-0ef7d99d4837",
   "metadata": {
    "nteract": {
     "transient": {
      "deleting": false
     }
    }
   },
   "source": [
    "## Step 4: Model training and evaluation"
   ]
  },
  {
   "cell_type": "markdown",
   "id": "53c24a83-5adc-4cc7-b3fa-094e6f1841fd",
   "metadata": {
    "nteract": {
     "transient": {
      "deleting": false
     }
    }
   },
   "source": [
    "With your data in place, now define the model. In this section, train a logistic regression model to classify the vectorized text."
   ]
  },
  {
   "cell_type": "markdown",
   "id": "c4845ef3-61e2-4d94-ab51-c846c670ddb4",
   "metadata": {
    "nteract": {
     "transient": {
      "deleting": false
     }
    }
   },
   "source": [
    "### Prepare training and test datasets"
   ]
  },
  {
   "cell_type": "code",
   "execution_count": null,
   "id": "b49c17ca-0928-42ff-ac5c-6091ef88f4a4",
   "metadata": {
    "jupyter": {
     "outputs_hidden": false,
     "source_hidden": false
    },
    "nteract": {
     "transient": {
      "deleting": false
     }
    }
   },
   "outputs": [
    {
     "data": {
      "application/vnd.livy.statement-meta+json": {
       "execution_finish_time": "2023-09-05T17:16:07.9007829Z",
       "execution_start_time": "2023-09-05T17:16:07.5526538Z",
       "livy_statement_state": "available",
       "parent_msg_id": "f7ff1f78-fbdf-49c2-aa7a-98a8664eebf1",
       "queued_time": "2023-09-05T17:14:46.4443023Z",
       "session_id": "3fd88b16-e905-4c38-99da-16b9b46411b3",
       "session_start_time": null,
       "spark_jobs": {
        "jobs": [],
        "limit": 20,
        "numbers": {
         "FAILED": 0,
         "RUNNING": 0,
         "SUCCEEDED": 0,
         "UNKNOWN": 0
        },
        "rule": "ALL_DESC"
       },
       "spark_pool": null,
       "state": "finished",
       "statement_id": 36
      },
      "text/plain": [
       "StatementMeta(, 3fd88b16-e905-4c38-99da-16b9b46411b3, 36, Finished, Available)"
      ]
     },
     "metadata": {},
     "output_type": "display_data"
    }
   ],
   "source": [
    "# Split the dataset into training and test sets\n",
    "(train_df, test_df) = vec_df.randomSplit((0.8, 0.2), seed=42)"
   ]
  },
  {
   "cell_type": "markdown",
   "id": "172d2c5f-2aea-441c-a1c1-aaf3c6147cb7",
   "metadata": {
    "nteract": {
     "transient": {
      "deleting": false
     }
    }
   },
   "source": [
    "### Model training and machine learning experiments\n",
    "\n",
    "A machine learning experiment is the primary unit of organization and control for all related machine learning runs. A run corresponds to a single execution of model code. Machine learning experiment tracking refers to the process of managing all the different experiments and their components, such as parameters, metrics, models and other artifacts. Tracking enables you to organize all the required components of a specific machine learning experiment and to easily reproduce past results using saved experiments. Learn more about [machine learning experiments in Microsoft Fabric](https://aka.ms/synapse-experiment).\n"
   ]
  },
  {
   "cell_type": "code",
   "execution_count": null,
   "id": "6a3fb58a-4a33-4c5f-8089-d96eedc52877",
   "metadata": {
    "jupyter": {
     "outputs_hidden": false,
     "source_hidden": false
    },
    "nteract": {
     "transient": {
      "deleting": false
     }
    }
   },
   "outputs": [
    {
     "data": {
      "application/vnd.livy.statement-meta+json": {
       "execution_finish_time": "2023-09-05T17:16:08.6201486Z",
       "execution_start_time": "2023-09-05T17:16:08.2767582Z",
       "livy_statement_state": "available",
       "parent_msg_id": "834dbed2-088c-49e9-b2c4-e26651b94b81",
       "queued_time": "2023-09-05T17:14:46.8427524Z",
       "session_id": "3fd88b16-e905-4c38-99da-16b9b46411b3",
       "session_start_time": null,
       "spark_jobs": {
        "jobs": [],
        "limit": 20,
        "numbers": {
         "FAILED": 0,
         "RUNNING": 0,
         "SUCCEEDED": 0,
         "UNKNOWN": 0
        },
        "rule": "ALL_DESC"
       },
       "spark_pool": null,
       "state": "finished",
       "statement_id": 37
      },
      "text/plain": [
       "StatementMeta(, 3fd88b16-e905-4c38-99da-16b9b46411b3, 37, Finished, Available)"
      ]
     },
     "metadata": {},
     "output_type": "display_data"
    }
   ],
   "source": [
    "# Build the logistic regression classifier\n",
    "lr = (\n",
    "    LogisticRegression()\n",
    "    .setMaxIter(max_iter)\n",
    "    .setFeaturesCol(\"features\")\n",
    "    .setLabelCol(\"labelIdx\")\n",
    "    .setWeightCol(\"weight\")\n",
    ")"
   ]
  },
  {
   "cell_type": "markdown",
   "id": "d51f6f84-e349-47b5-ba33-3859d95af8d0",
   "metadata": {
    "nteract": {
     "transient": {
      "deleting": false
     }
    }
   },
   "source": [
    "### Model training and hyperparameter tuning\n",
    "\n",
    "Construct a grid of parameters to search over the hyperparameters and a cross evaluator estimator to produce a CrossValidatorModel."
   ]
  },
  {
   "cell_type": "code",
   "execution_count": null,
   "id": "75f23295-2fb6-497e-bf71-f937818ca16c",
   "metadata": {
    "jupyter": {
     "outputs_hidden": false,
     "source_hidden": false
    },
    "nteract": {
     "transient": {
      "deleting": false
     }
    }
   },
   "outputs": [
    {
     "data": {
      "application/vnd.livy.statement-meta+json": {
       "execution_finish_time": "2023-09-05T17:16:09.348197Z",
       "execution_start_time": "2023-09-05T17:16:09.0082549Z",
       "livy_statement_state": "available",
       "parent_msg_id": "f7bae4c5-afe0-4840-84a4-6efbd52101b1",
       "queued_time": "2023-09-05T17:14:47.1980422Z",
       "session_id": "3fd88b16-e905-4c38-99da-16b9b46411b3",
       "session_start_time": null,
       "spark_jobs": {
        "jobs": [],
        "limit": 20,
        "numbers": {
         "FAILED": 0,
         "RUNNING": 0,
         "SUCCEEDED": 0,
         "UNKNOWN": 0
        },
        "rule": "ALL_DESC"
       },
       "spark_pool": null,
       "state": "finished",
       "statement_id": 38
      },
      "text/plain": [
       "StatementMeta(, 3fd88b16-e905-4c38-99da-16b9b46411b3, 38, Finished, Available)"
      ]
     },
     "metadata": {},
     "output_type": "display_data"
    }
   ],
   "source": [
    "# Construct a grid search to select the best values for the training parameters\n",
    "param_grid = (\n",
    "    ParamGridBuilder()\n",
    "    .addGrid(lr.regParam, [0.03, 0.1])\n",
    "    .addGrid(lr.elasticNetParam, [0.0, 0.1])\n",
    "    .build()\n",
    ")\n",
    "\n",
    "if len(LABELS) > 2:\n",
    "    evaluator_cls = MulticlassClassificationEvaluator\n",
    "    evaluator_metrics = [\"f1\", \"accuracy\"]\n",
    "else:\n",
    "    evaluator_cls = BinaryClassificationEvaluator\n",
    "    evaluator_metrics = [\"areaUnderROC\", \"areaUnderPR\"]\n",
    "evaluator = evaluator_cls(labelCol=\"labelIdx\", weightCol=\"weight\")\n",
    "\n",
    "# Construct a cross evaluator estimator\n",
    "crossval = CrossValidator(\n",
    "    estimator=lr,\n",
    "    estimatorParamMaps=param_grid,\n",
    "    evaluator=evaluator,\n",
    "    numFolds=k_folds,\n",
    "    collectSubModels=True,\n",
    ")"
   ]
  },
  {
   "cell_type": "markdown",
   "id": "18354ada-b462-4580-9e94-5cc073f243d6",
   "metadata": {
    "nteract": {
     "transient": {
      "deleting": false
     }
    }
   },
   "source": [
    "### Model evaluation\n",
    "\n",
    "You now have different models to compare by evaluating them on the test dataset. If a model has been well trained, it should demonstrate high performance on the relevant metrics on the validation and test datasets."
   ]
  },
  {
   "cell_type": "code",
   "execution_count": null,
   "id": "0595bc50-4279-47ac-b6c7-5881208a2d71",
   "metadata": {
    "jupyter": {
     "outputs_hidden": false,
     "source_hidden": false
    },
    "nteract": {
     "transient": {
      "deleting": false
     }
    }
   },
   "outputs": [
    {
     "data": {
      "application/vnd.livy.statement-meta+json": {
       "execution_finish_time": "2023-09-05T17:16:11.0038025Z",
       "execution_start_time": "2023-09-05T17:16:09.7199704Z",
       "livy_statement_state": "available",
       "parent_msg_id": "f80c5f4b-2a60-4ea6-8788-6cd830e63517",
       "queued_time": "2023-09-05T17:14:47.4806945Z",
       "session_id": "3fd88b16-e905-4c38-99da-16b9b46411b3",
       "session_start_time": null,
       "spark_jobs": {
        "jobs": [],
        "limit": 20,
        "numbers": {
         "FAILED": 0,
         "RUNNING": 0,
         "SUCCEEDED": 0,
         "UNKNOWN": 0
        },
        "rule": "ALL_DESC"
       },
       "spark_pool": null,
       "state": "finished",
       "statement_id": 39
      },
      "text/plain": [
       "StatementMeta(, 3fd88b16-e905-4c38-99da-16b9b46411b3, 39, Finished, Available)"
      ]
     },
     "metadata": {},
     "output_type": "display_data"
    }
   ],
   "source": [
    "def evaluate(model, df):\n",
    "    log_metric = {}\n",
    "    prediction = model.transform(df)\n",
    "    for metric in evaluator_metrics:\n",
    "        value = evaluator.evaluate(prediction, {evaluator.metricName: metric})\n",
    "        log_metric[metric] = value\n",
    "        print(f\"{metric}: {value:.4f}\")\n",
    "    return prediction, log_metric"
   ]
  },
  {
   "cell_type": "markdown",
   "id": "0ba4838d-af96-49a8-b72a-f0bdb9c553e1",
   "metadata": {
    "nteract": {
     "transient": {
      "deleting": false
     }
    }
   },
   "source": [
    "### Experiment tracking with MLflow\n",
    "\n",
    "Start the training and evaluation and use MLflow to track all experiments and log parameters, metrics, and the models. All this information is logged under the experiment name in the workspace."
   ]
  },
  {
   "cell_type": "code",
   "execution_count": null,
   "id": "af337e32-21a8-4764-8510-802c47b0c851",
   "metadata": {
    "jupyter": {
     "outputs_hidden": false,
     "source_hidden": false
    },
    "nteract": {
     "transient": {
      "deleting": false
     }
    }
   },
   "outputs": [
    {
     "data": {
      "application/vnd.livy.statement-meta+json": {
       "execution_finish_time": "2023-09-05T17:23:05.3335622Z",
       "execution_start_time": "2023-09-05T17:16:11.3921711Z",
       "livy_statement_state": "available",
       "parent_msg_id": "dd4769e4-deca-4e0a-ac3a-e7376b647de9",
       "queued_time": "2023-09-05T17:14:48.0334442Z",
       "session_id": "3fd88b16-e905-4c38-99da-16b9b46411b3",
       "session_start_time": null,
       "spark_jobs": {
        "jobs": [
         {
          "completionTime": "2023-09-05T17:19:33.733GMT",
          "dataRead": 0,
          "dataWritten": 0,
          "description": "Job group for statement 40:\nwith mlflow.start_run(run_name=\"lr\"):\n    models = crossval.fit(train_df)\n    best_metrics = {k: 0 for k in evaluator_metrics}\n    best_index = 0\n    for idx, model in enumerate(models.subModels[0]):\n        with mlflow.start_run(nested=True, run_name=f\"lr_{idx}\") as run:\n            print(\"\nEvaluating on testing data:\")\n            print(f\"subModel No. {idx + 1}\")\n            prediction, log_metric = evaluate(model, test_df)\n\n            if log_metric[evaluator_metrics[0]] > best_metrics[evaluator_metrics[0]]:\n                best_metrics = log_metric\n                best_index = idx\n\n            print(\"log model\")\n            mlflow.spark.log_model(\n                model,\n                f\"{EXPERIMENT_NAME}-lrmodel\",\n                registered_model_name=f\"{EXPERIMENT_NAME}-lrmodel\",\n                dfs_tmpdir=\"Files/spark\",\n            )\n\n            print(\"log metrics\")\n            mlflow.log_metrics(log_metric)\n\n            print(\"log parameters\")\n            mlflow.log_params(\n                {\n       ...",
          "displayName": "collect at AreaUnderCurve.scala:44",
          "jobGroup": "40",
          "jobId": 187,
          "killedTasksSummary": {},
          "name": "collect at AreaUnderCurve.scala:44",
          "numActiveStages": 0,
          "numActiveTasks": 0,
          "numCompletedIndices": 450,
          "numCompletedStages": 1,
          "numCompletedTasks": 450,
          "numFailedStages": 0,
          "numFailedTasks": 0,
          "numKilledTasks": 0,
          "numSkippedStages": 3,
          "numSkippedTasks": 1005,
          "numTasks": 1455,
          "rowCount": 0,
          "stageIds": [
           553,
           554,
           555,
           552
          ],
          "status": "SUCCEEDED",
          "submissionTime": "2023-09-05T17:19:33.105GMT",
          "usageDescription": ""
         },
         {
          "completionTime": "2023-09-05T17:19:33.094GMT",
          "dataRead": 0,
          "dataWritten": 0,
          "description": "Job group for statement 40:\nwith mlflow.start_run(run_name=\"lr\"):\n    models = crossval.fit(train_df)\n    best_metrics = {k: 0 for k in evaluator_metrics}\n    best_index = 0\n    for idx, model in enumerate(models.subModels[0]):\n        with mlflow.start_run(nested=True, run_name=f\"lr_{idx}\") as run:\n            print(\"\nEvaluating on testing data:\")\n            print(f\"subModel No. {idx + 1}\")\n            prediction, log_metric = evaluate(model, test_df)\n\n            if log_metric[evaluator_metrics[0]] > best_metrics[evaluator_metrics[0]]:\n                best_metrics = log_metric\n                best_index = idx\n\n            print(\"log model\")\n            mlflow.spark.log_model(\n                model,\n                f\"{EXPERIMENT_NAME}-lrmodel\",\n                registered_model_name=f\"{EXPERIMENT_NAME}-lrmodel\",\n                dfs_tmpdir=\"Files/spark\",\n            )\n\n            print(\"log metrics\")\n            mlflow.log_metrics(log_metric)\n\n            print(\"log parameters\")\n            mlflow.log_params(\n                {\n       ...",
          "displayName": "collect at BinaryClassificationMetrics.scala:237",
          "jobGroup": "40",
          "jobId": 186,
          "killedTasksSummary": {},
          "name": "collect at BinaryClassificationMetrics.scala:237",
          "numActiveStages": 0,
          "numActiveTasks": 0,
          "numCompletedIndices": 450,
          "numCompletedStages": 1,
          "numCompletedTasks": 450,
          "numFailedStages": 0,
          "numFailedTasks": 0,
          "numKilledTasks": 0,
          "numSkippedStages": 3,
          "numSkippedTasks": 1005,
          "numTasks": 1455,
          "rowCount": 0,
          "stageIds": [
           550,
           551,
           548,
           549
          ],
          "status": "SUCCEEDED",
          "submissionTime": "2023-09-05T17:19:32.200GMT",
          "usageDescription": ""
         },
         {
          "completionTime": "2023-09-05T17:19:32.190GMT",
          "dataRead": 0,
          "dataWritten": 0,
          "description": "Job group for statement 40:\nwith mlflow.start_run(run_name=\"lr\"):\n    models = crossval.fit(train_df)\n    best_metrics = {k: 0 for k in evaluator_metrics}\n    best_index = 0\n    for idx, model in enumerate(models.subModels[0]):\n        with mlflow.start_run(nested=True, run_name=f\"lr_{idx}\") as run:\n            print(\"\nEvaluating on testing data:\")\n            print(f\"subModel No. {idx + 1}\")\n            prediction, log_metric = evaluate(model, test_df)\n\n            if log_metric[evaluator_metrics[0]] > best_metrics[evaluator_metrics[0]]:\n                best_metrics = log_metric\n                best_index = idx\n\n            print(\"log model\")\n            mlflow.spark.log_model(\n                model,\n                f\"{EXPERIMENT_NAME}-lrmodel\",\n                registered_model_name=f\"{EXPERIMENT_NAME}-lrmodel\",\n                dfs_tmpdir=\"Files/spark\",\n            )\n\n            print(\"log metrics\")\n            mlflow.log_metrics(log_metric)\n\n            print(\"log parameters\")\n            mlflow.log_params(\n                {\n       ...",
          "displayName": "count at BinaryClassificationMetrics.scala:197",
          "jobGroup": "40",
          "jobId": 185,
          "killedTasksSummary": {},
          "name": "count at BinaryClassificationMetrics.scala:197",
          "numActiveStages": 0,
          "numActiveTasks": 0,
          "numCompletedIndices": 950,
          "numCompletedStages": 2,
          "numCompletedTasks": 950,
          "numFailedStages": 0,
          "numFailedTasks": 0,
          "numKilledTasks": 0,
          "numSkippedStages": 2,
          "numSkippedTasks": 505,
          "numTasks": 1455,
          "rowCount": 0,
          "stageIds": [
           545,
           546,
           547,
           544
          ],
          "status": "SUCCEEDED",
          "submissionTime": "2023-09-05T17:19:31.036GMT",
          "usageDescription": ""
         },
         {
          "completionTime": "2023-09-05T17:19:31.029GMT",
          "dataRead": 0,
          "dataWritten": 0,
          "description": "Job group for statement 40:\nwith mlflow.start_run(run_name=\"lr\"):\n    models = crossval.fit(train_df)\n    best_metrics = {k: 0 for k in evaluator_metrics}\n    best_index = 0\n    for idx, model in enumerate(models.subModels[0]):\n        with mlflow.start_run(nested=True, run_name=f\"lr_{idx}\") as run:\n            print(\"\nEvaluating on testing data:\")\n            print(f\"subModel No. {idx + 1}\")\n            prediction, log_metric = evaluate(model, test_df)\n\n            if log_metric[evaluator_metrics[0]] > best_metrics[evaluator_metrics[0]]:\n                best_metrics = log_metric\n                best_index = idx\n\n            print(\"log model\")\n            mlflow.spark.log_model(\n                model,\n                f\"{EXPERIMENT_NAME}-lrmodel\",\n                registered_model_name=f\"{EXPERIMENT_NAME}-lrmodel\",\n                dfs_tmpdir=\"Files/spark\",\n            )\n\n            print(\"log metrics\")\n            mlflow.log_metrics(log_metric)\n\n            print(\"log parameters\")\n            mlflow.log_params(\n                {\n       ...",
          "displayName": "sortByKey at BinaryClassificationMetrics.scala:189",
          "jobGroup": "40",
          "jobId": 184,
          "killedTasksSummary": {},
          "name": "sortByKey at BinaryClassificationMetrics.scala:189",
          "numActiveStages": 0,
          "numActiveTasks": 0,
          "numCompletedIndices": 1000,
          "numCompletedStages": 2,
          "numCompletedTasks": 1000,
          "numFailedStages": 0,
          "numFailedTasks": 0,
          "numKilledTasks": 0,
          "numSkippedStages": 1,
          "numSkippedTasks": 5,
          "numTasks": 1005,
          "rowCount": 0,
          "stageIds": [
           542,
           543,
           541
          ],
          "status": "SUCCEEDED",
          "submissionTime": "2023-09-05T17:19:29.369GMT",
          "usageDescription": ""
         },
         {
          "completionTime": "2023-09-05T17:19:29.210GMT",
          "dataRead": 0,
          "dataWritten": 0,
          "description": "Job group for statement 40:\nwith mlflow.start_run(run_name=\"lr\"):\n    models = crossval.fit(train_df)\n    best_metrics = {k: 0 for k in evaluator_metrics}\n    best_index = 0\n    for idx, model in enumerate(models.subModels[0]):\n        with mlflow.start_run(nested=True, run_name=f\"lr_{idx}\") as run:\n            print(\"\nEvaluating on testing data:\")\n            print(f\"subModel No. {idx + 1}\")\n            prediction, log_metric = evaluate(model, test_df)\n\n            if log_metric[evaluator_metrics[0]] > best_metrics[evaluator_metrics[0]]:\n                best_metrics = log_metric\n                best_index = idx\n\n            print(\"log model\")\n            mlflow.spark.log_model(\n                model,\n                f\"{EXPERIMENT_NAME}-lrmodel\",\n                registered_model_name=f\"{EXPERIMENT_NAME}-lrmodel\",\n                dfs_tmpdir=\"Files/spark\",\n            )\n\n            print(\"log metrics\")\n            mlflow.log_metrics(log_metric)\n\n            print(\"log parameters\")\n            mlflow.log_params(\n                {\n       ...",
          "displayName": "treeAggregate at RDDLossFunction.scala:61",
          "jobGroup": "40",
          "jobId": 183,
          "killedTasksSummary": {},
          "name": "treeAggregate at RDDLossFunction.scala:61",
          "numActiveStages": 0,
          "numActiveTasks": 0,
          "numCompletedIndices": 521,
          "numCompletedStages": 2,
          "numCompletedTasks": 521,
          "numFailedStages": 0,
          "numFailedTasks": 0,
          "numKilledTasks": 0,
          "numSkippedStages": 1,
          "numSkippedTasks": 5,
          "numTasks": 526,
          "rowCount": 0,
          "stageIds": [
           538,
           539,
           540
          ],
          "status": "SUCCEEDED",
          "submissionTime": "2023-09-05T17:19:27.981GMT",
          "usageDescription": ""
         },
         {
          "completionTime": "2023-09-05T17:19:27.958GMT",
          "dataRead": 0,
          "dataWritten": 0,
          "description": "Job group for statement 40:\nwith mlflow.start_run(run_name=\"lr\"):\n    models = crossval.fit(train_df)\n    best_metrics = {k: 0 for k in evaluator_metrics}\n    best_index = 0\n    for idx, model in enumerate(models.subModels[0]):\n        with mlflow.start_run(nested=True, run_name=f\"lr_{idx}\") as run:\n            print(\"\nEvaluating on testing data:\")\n            print(f\"subModel No. {idx + 1}\")\n            prediction, log_metric = evaluate(model, test_df)\n\n            if log_metric[evaluator_metrics[0]] > best_metrics[evaluator_metrics[0]]:\n                best_metrics = log_metric\n                best_index = idx\n\n            print(\"log model\")\n            mlflow.spark.log_model(\n                model,\n                f\"{EXPERIMENT_NAME}-lrmodel\",\n                registered_model_name=f\"{EXPERIMENT_NAME}-lrmodel\",\n                dfs_tmpdir=\"Files/spark\",\n            )\n\n            print(\"log metrics\")\n            mlflow.log_metrics(log_metric)\n\n            print(\"log parameters\")\n            mlflow.log_params(\n                {\n       ...",
          "displayName": "treeAggregate at RDDLossFunction.scala:61",
          "jobGroup": "40",
          "jobId": 182,
          "killedTasksSummary": {},
          "name": "treeAggregate at RDDLossFunction.scala:61",
          "numActiveStages": 0,
          "numActiveTasks": 0,
          "numCompletedIndices": 521,
          "numCompletedStages": 2,
          "numCompletedTasks": 521,
          "numFailedStages": 0,
          "numFailedTasks": 0,
          "numKilledTasks": 0,
          "numSkippedStages": 1,
          "numSkippedTasks": 5,
          "numTasks": 526,
          "rowCount": 0,
          "stageIds": [
           535,
           536,
           537
          ],
          "status": "SUCCEEDED",
          "submissionTime": "2023-09-05T17:19:26.886GMT",
          "usageDescription": ""
         },
         {
          "completionTime": "2023-09-05T17:19:26.865GMT",
          "dataRead": 0,
          "dataWritten": 0,
          "description": "Job group for statement 40:\nwith mlflow.start_run(run_name=\"lr\"):\n    models = crossval.fit(train_df)\n    best_metrics = {k: 0 for k in evaluator_metrics}\n    best_index = 0\n    for idx, model in enumerate(models.subModels[0]):\n        with mlflow.start_run(nested=True, run_name=f\"lr_{idx}\") as run:\n            print(\"\nEvaluating on testing data:\")\n            print(f\"subModel No. {idx + 1}\")\n            prediction, log_metric = evaluate(model, test_df)\n\n            if log_metric[evaluator_metrics[0]] > best_metrics[evaluator_metrics[0]]:\n                best_metrics = log_metric\n                best_index = idx\n\n            print(\"log model\")\n            mlflow.spark.log_model(\n                model,\n                f\"{EXPERIMENT_NAME}-lrmodel\",\n                registered_model_name=f\"{EXPERIMENT_NAME}-lrmodel\",\n                dfs_tmpdir=\"Files/spark\",\n            )\n\n            print(\"log metrics\")\n            mlflow.log_metrics(log_metric)\n\n            print(\"log parameters\")\n            mlflow.log_params(\n                {\n       ...",
          "displayName": "treeAggregate at RDDLossFunction.scala:61",
          "jobGroup": "40",
          "jobId": 181,
          "killedTasksSummary": {},
          "name": "treeAggregate at RDDLossFunction.scala:61",
          "numActiveStages": 0,
          "numActiveTasks": 0,
          "numCompletedIndices": 521,
          "numCompletedStages": 2,
          "numCompletedTasks": 521,
          "numFailedStages": 0,
          "numFailedTasks": 0,
          "numKilledTasks": 0,
          "numSkippedStages": 1,
          "numSkippedTasks": 5,
          "numTasks": 526,
          "rowCount": 0,
          "stageIds": [
           532,
           533,
           534
          ],
          "status": "SUCCEEDED",
          "submissionTime": "2023-09-05T17:19:25.484GMT",
          "usageDescription": ""
         },
         {
          "completionTime": "2023-09-05T17:19:25.462GMT",
          "dataRead": 0,
          "dataWritten": 0,
          "description": "Job group for statement 40:\nwith mlflow.start_run(run_name=\"lr\"):\n    models = crossval.fit(train_df)\n    best_metrics = {k: 0 for k in evaluator_metrics}\n    best_index = 0\n    for idx, model in enumerate(models.subModels[0]):\n        with mlflow.start_run(nested=True, run_name=f\"lr_{idx}\") as run:\n            print(\"\nEvaluating on testing data:\")\n            print(f\"subModel No. {idx + 1}\")\n            prediction, log_metric = evaluate(model, test_df)\n\n            if log_metric[evaluator_metrics[0]] > best_metrics[evaluator_metrics[0]]:\n                best_metrics = log_metric\n                best_index = idx\n\n            print(\"log model\")\n            mlflow.spark.log_model(\n                model,\n                f\"{EXPERIMENT_NAME}-lrmodel\",\n                registered_model_name=f\"{EXPERIMENT_NAME}-lrmodel\",\n                dfs_tmpdir=\"Files/spark\",\n            )\n\n            print(\"log metrics\")\n            mlflow.log_metrics(log_metric)\n\n            print(\"log parameters\")\n            mlflow.log_params(\n                {\n       ...",
          "displayName": "treeAggregate at RDDLossFunction.scala:61",
          "jobGroup": "40",
          "jobId": 180,
          "killedTasksSummary": {},
          "name": "treeAggregate at RDDLossFunction.scala:61",
          "numActiveStages": 0,
          "numActiveTasks": 0,
          "numCompletedIndices": 521,
          "numCompletedStages": 2,
          "numCompletedTasks": 521,
          "numFailedStages": 0,
          "numFailedTasks": 0,
          "numKilledTasks": 0,
          "numSkippedStages": 1,
          "numSkippedTasks": 5,
          "numTasks": 526,
          "rowCount": 0,
          "stageIds": [
           531,
           529,
           530
          ],
          "status": "SUCCEEDED",
          "submissionTime": "2023-09-05T17:19:24.275GMT",
          "usageDescription": ""
         },
         {
          "completionTime": "2023-09-05T17:19:24.248GMT",
          "dataRead": 0,
          "dataWritten": 0,
          "description": "Job group for statement 40:\nwith mlflow.start_run(run_name=\"lr\"):\n    models = crossval.fit(train_df)\n    best_metrics = {k: 0 for k in evaluator_metrics}\n    best_index = 0\n    for idx, model in enumerate(models.subModels[0]):\n        with mlflow.start_run(nested=True, run_name=f\"lr_{idx}\") as run:\n            print(\"\nEvaluating on testing data:\")\n            print(f\"subModel No. {idx + 1}\")\n            prediction, log_metric = evaluate(model, test_df)\n\n            if log_metric[evaluator_metrics[0]] > best_metrics[evaluator_metrics[0]]:\n                best_metrics = log_metric\n                best_index = idx\n\n            print(\"log model\")\n            mlflow.spark.log_model(\n                model,\n                f\"{EXPERIMENT_NAME}-lrmodel\",\n                registered_model_name=f\"{EXPERIMENT_NAME}-lrmodel\",\n                dfs_tmpdir=\"Files/spark\",\n            )\n\n            print(\"log metrics\")\n            mlflow.log_metrics(log_metric)\n\n            print(\"log parameters\")\n            mlflow.log_params(\n                {\n       ...",
          "displayName": "treeAggregate at RDDLossFunction.scala:61",
          "jobGroup": "40",
          "jobId": 179,
          "killedTasksSummary": {},
          "name": "treeAggregate at RDDLossFunction.scala:61",
          "numActiveStages": 0,
          "numActiveTasks": 0,
          "numCompletedIndices": 521,
          "numCompletedStages": 2,
          "numCompletedTasks": 521,
          "numFailedStages": 0,
          "numFailedTasks": 0,
          "numKilledTasks": 0,
          "numSkippedStages": 1,
          "numSkippedTasks": 5,
          "numTasks": 526,
          "rowCount": 0,
          "stageIds": [
           527,
           528,
           526
          ],
          "status": "SUCCEEDED",
          "submissionTime": "2023-09-05T17:19:23.073GMT",
          "usageDescription": ""
         },
         {
          "completionTime": "2023-09-05T17:19:23.052GMT",
          "dataRead": 0,
          "dataWritten": 0,
          "description": "Job group for statement 40:\nwith mlflow.start_run(run_name=\"lr\"):\n    models = crossval.fit(train_df)\n    best_metrics = {k: 0 for k in evaluator_metrics}\n    best_index = 0\n    for idx, model in enumerate(models.subModels[0]):\n        with mlflow.start_run(nested=True, run_name=f\"lr_{idx}\") as run:\n            print(\"\nEvaluating on testing data:\")\n            print(f\"subModel No. {idx + 1}\")\n            prediction, log_metric = evaluate(model, test_df)\n\n            if log_metric[evaluator_metrics[0]] > best_metrics[evaluator_metrics[0]]:\n                best_metrics = log_metric\n                best_index = idx\n\n            print(\"log model\")\n            mlflow.spark.log_model(\n                model,\n                f\"{EXPERIMENT_NAME}-lrmodel\",\n                registered_model_name=f\"{EXPERIMENT_NAME}-lrmodel\",\n                dfs_tmpdir=\"Files/spark\",\n            )\n\n            print(\"log metrics\")\n            mlflow.log_metrics(log_metric)\n\n            print(\"log parameters\")\n            mlflow.log_params(\n                {\n       ...",
          "displayName": "treeAggregate at RDDLossFunction.scala:61",
          "jobGroup": "40",
          "jobId": 178,
          "killedTasksSummary": {},
          "name": "treeAggregate at RDDLossFunction.scala:61",
          "numActiveStages": 0,
          "numActiveTasks": 0,
          "numCompletedIndices": 521,
          "numCompletedStages": 2,
          "numCompletedTasks": 521,
          "numFailedStages": 0,
          "numFailedTasks": 0,
          "numKilledTasks": 0,
          "numSkippedStages": 1,
          "numSkippedTasks": 5,
          "numTasks": 526,
          "rowCount": 0,
          "stageIds": [
           524,
           525,
           523
          ],
          "status": "SUCCEEDED",
          "submissionTime": "2023-09-05T17:19:21.368GMT",
          "usageDescription": ""
         },
         {
          "completionTime": "2023-09-05T17:19:21.348GMT",
          "dataRead": 0,
          "dataWritten": 0,
          "description": "Job group for statement 40:\nwith mlflow.start_run(run_name=\"lr\"):\n    models = crossval.fit(train_df)\n    best_metrics = {k: 0 for k in evaluator_metrics}\n    best_index = 0\n    for idx, model in enumerate(models.subModels[0]):\n        with mlflow.start_run(nested=True, run_name=f\"lr_{idx}\") as run:\n            print(\"\nEvaluating on testing data:\")\n            print(f\"subModel No. {idx + 1}\")\n            prediction, log_metric = evaluate(model, test_df)\n\n            if log_metric[evaluator_metrics[0]] > best_metrics[evaluator_metrics[0]]:\n                best_metrics = log_metric\n                best_index = idx\n\n            print(\"log model\")\n            mlflow.spark.log_model(\n                model,\n                f\"{EXPERIMENT_NAME}-lrmodel\",\n                registered_model_name=f\"{EXPERIMENT_NAME}-lrmodel\",\n                dfs_tmpdir=\"Files/spark\",\n            )\n\n            print(\"log metrics\")\n            mlflow.log_metrics(log_metric)\n\n            print(\"log parameters\")\n            mlflow.log_params(\n                {\n       ...",
          "displayName": "treeAggregate at RDDLossFunction.scala:61",
          "jobGroup": "40",
          "jobId": 177,
          "killedTasksSummary": {},
          "name": "treeAggregate at RDDLossFunction.scala:61",
          "numActiveStages": 0,
          "numActiveTasks": 0,
          "numCompletedIndices": 521,
          "numCompletedStages": 2,
          "numCompletedTasks": 521,
          "numFailedStages": 0,
          "numFailedTasks": 0,
          "numKilledTasks": 0,
          "numSkippedStages": 1,
          "numSkippedTasks": 5,
          "numTasks": 526,
          "rowCount": 0,
          "stageIds": [
           520,
           521,
           522
          ],
          "status": "SUCCEEDED",
          "submissionTime": "2023-09-05T17:19:19.965GMT",
          "usageDescription": ""
         },
         {
          "completionTime": "2023-09-05T17:19:19.943GMT",
          "dataRead": 0,
          "dataWritten": 0,
          "description": "Job group for statement 40:\nwith mlflow.start_run(run_name=\"lr\"):\n    models = crossval.fit(train_df)\n    best_metrics = {k: 0 for k in evaluator_metrics}\n    best_index = 0\n    for idx, model in enumerate(models.subModels[0]):\n        with mlflow.start_run(nested=True, run_name=f\"lr_{idx}\") as run:\n            print(\"\nEvaluating on testing data:\")\n            print(f\"subModel No. {idx + 1}\")\n            prediction, log_metric = evaluate(model, test_df)\n\n            if log_metric[evaluator_metrics[0]] > best_metrics[evaluator_metrics[0]]:\n                best_metrics = log_metric\n                best_index = idx\n\n            print(\"log model\")\n            mlflow.spark.log_model(\n                model,\n                f\"{EXPERIMENT_NAME}-lrmodel\",\n                registered_model_name=f\"{EXPERIMENT_NAME}-lrmodel\",\n                dfs_tmpdir=\"Files/spark\",\n            )\n\n            print(\"log metrics\")\n            mlflow.log_metrics(log_metric)\n\n            print(\"log parameters\")\n            mlflow.log_params(\n                {\n       ...",
          "displayName": "treeAggregate at RDDLossFunction.scala:61",
          "jobGroup": "40",
          "jobId": 176,
          "killedTasksSummary": {},
          "name": "treeAggregate at RDDLossFunction.scala:61",
          "numActiveStages": 0,
          "numActiveTasks": 0,
          "numCompletedIndices": 521,
          "numCompletedStages": 2,
          "numCompletedTasks": 521,
          "numFailedStages": 0,
          "numFailedTasks": 0,
          "numKilledTasks": 0,
          "numSkippedStages": 1,
          "numSkippedTasks": 5,
          "numTasks": 526,
          "rowCount": 0,
          "stageIds": [
           517,
           518,
           519
          ],
          "status": "SUCCEEDED",
          "submissionTime": "2023-09-05T17:19:18.519GMT",
          "usageDescription": ""
         },
         {
          "completionTime": "2023-09-05T17:19:18.498GMT",
          "dataRead": 0,
          "dataWritten": 0,
          "description": "Job group for statement 40:\nwith mlflow.start_run(run_name=\"lr\"):\n    models = crossval.fit(train_df)\n    best_metrics = {k: 0 for k in evaluator_metrics}\n    best_index = 0\n    for idx, model in enumerate(models.subModels[0]):\n        with mlflow.start_run(nested=True, run_name=f\"lr_{idx}\") as run:\n            print(\"\nEvaluating on testing data:\")\n            print(f\"subModel No. {idx + 1}\")\n            prediction, log_metric = evaluate(model, test_df)\n\n            if log_metric[evaluator_metrics[0]] > best_metrics[evaluator_metrics[0]]:\n                best_metrics = log_metric\n                best_index = idx\n\n            print(\"log model\")\n            mlflow.spark.log_model(\n                model,\n                f\"{EXPERIMENT_NAME}-lrmodel\",\n                registered_model_name=f\"{EXPERIMENT_NAME}-lrmodel\",\n                dfs_tmpdir=\"Files/spark\",\n            )\n\n            print(\"log metrics\")\n            mlflow.log_metrics(log_metric)\n\n            print(\"log parameters\")\n            mlflow.log_params(\n                {\n       ...",
          "displayName": "treeAggregate at RDDLossFunction.scala:61",
          "jobGroup": "40",
          "jobId": 175,
          "killedTasksSummary": {},
          "name": "treeAggregate at RDDLossFunction.scala:61",
          "numActiveStages": 0,
          "numActiveTasks": 0,
          "numCompletedIndices": 521,
          "numCompletedStages": 2,
          "numCompletedTasks": 521,
          "numFailedStages": 0,
          "numFailedTasks": 0,
          "numKilledTasks": 0,
          "numSkippedStages": 1,
          "numSkippedTasks": 5,
          "numTasks": 526,
          "rowCount": 0,
          "stageIds": [
           514,
           515,
           516
          ],
          "status": "SUCCEEDED",
          "submissionTime": "2023-09-05T17:19:17.127GMT",
          "usageDescription": ""
         },
         {
          "completionTime": "2023-09-05T17:19:17.106GMT",
          "dataRead": 0,
          "dataWritten": 0,
          "description": "Job group for statement 40:\nwith mlflow.start_run(run_name=\"lr\"):\n    models = crossval.fit(train_df)\n    best_metrics = {k: 0 for k in evaluator_metrics}\n    best_index = 0\n    for idx, model in enumerate(models.subModels[0]):\n        with mlflow.start_run(nested=True, run_name=f\"lr_{idx}\") as run:\n            print(\"\nEvaluating on testing data:\")\n            print(f\"subModel No. {idx + 1}\")\n            prediction, log_metric = evaluate(model, test_df)\n\n            if log_metric[evaluator_metrics[0]] > best_metrics[evaluator_metrics[0]]:\n                best_metrics = log_metric\n                best_index = idx\n\n            print(\"log model\")\n            mlflow.spark.log_model(\n                model,\n                f\"{EXPERIMENT_NAME}-lrmodel\",\n                registered_model_name=f\"{EXPERIMENT_NAME}-lrmodel\",\n                dfs_tmpdir=\"Files/spark\",\n            )\n\n            print(\"log metrics\")\n            mlflow.log_metrics(log_metric)\n\n            print(\"log parameters\")\n            mlflow.log_params(\n                {\n       ...",
          "displayName": "treeAggregate at RDDLossFunction.scala:61",
          "jobGroup": "40",
          "jobId": 174,
          "killedTasksSummary": {},
          "name": "treeAggregate at RDDLossFunction.scala:61",
          "numActiveStages": 0,
          "numActiveTasks": 0,
          "numCompletedIndices": 521,
          "numCompletedStages": 2,
          "numCompletedTasks": 521,
          "numFailedStages": 0,
          "numFailedTasks": 0,
          "numKilledTasks": 0,
          "numSkippedStages": 1,
          "numSkippedTasks": 5,
          "numTasks": 526,
          "rowCount": 0,
          "stageIds": [
           513,
           511,
           512
          ],
          "status": "SUCCEEDED",
          "submissionTime": "2023-09-05T17:19:15.878GMT",
          "usageDescription": ""
         },
         {
          "completionTime": "2023-09-05T17:19:15.859GMT",
          "dataRead": 0,
          "dataWritten": 0,
          "description": "Job group for statement 40:\nwith mlflow.start_run(run_name=\"lr\"):\n    models = crossval.fit(train_df)\n    best_metrics = {k: 0 for k in evaluator_metrics}\n    best_index = 0\n    for idx, model in enumerate(models.subModels[0]):\n        with mlflow.start_run(nested=True, run_name=f\"lr_{idx}\") as run:\n            print(\"\nEvaluating on testing data:\")\n            print(f\"subModel No. {idx + 1}\")\n            prediction, log_metric = evaluate(model, test_df)\n\n            if log_metric[evaluator_metrics[0]] > best_metrics[evaluator_metrics[0]]:\n                best_metrics = log_metric\n                best_index = idx\n\n            print(\"log model\")\n            mlflow.spark.log_model(\n                model,\n                f\"{EXPERIMENT_NAME}-lrmodel\",\n                registered_model_name=f\"{EXPERIMENT_NAME}-lrmodel\",\n                dfs_tmpdir=\"Files/spark\",\n            )\n\n            print(\"log metrics\")\n            mlflow.log_metrics(log_metric)\n\n            print(\"log parameters\")\n            mlflow.log_params(\n                {\n       ...",
          "displayName": "treeAggregate at RDDLossFunction.scala:61",
          "jobGroup": "40",
          "jobId": 173,
          "killedTasksSummary": {},
          "name": "treeAggregate at RDDLossFunction.scala:61",
          "numActiveStages": 0,
          "numActiveTasks": 0,
          "numCompletedIndices": 521,
          "numCompletedStages": 2,
          "numCompletedTasks": 521,
          "numFailedStages": 0,
          "numFailedTasks": 0,
          "numKilledTasks": 0,
          "numSkippedStages": 1,
          "numSkippedTasks": 5,
          "numTasks": 526,
          "rowCount": 0,
          "stageIds": [
           509,
           510,
           508
          ],
          "status": "SUCCEEDED",
          "submissionTime": "2023-09-05T17:19:14.537GMT",
          "usageDescription": ""
         },
         {
          "completionTime": "2023-09-05T17:19:14.513GMT",
          "dataRead": 0,
          "dataWritten": 0,
          "description": "Job group for statement 40:\nwith mlflow.start_run(run_name=\"lr\"):\n    models = crossval.fit(train_df)\n    best_metrics = {k: 0 for k in evaluator_metrics}\n    best_index = 0\n    for idx, model in enumerate(models.subModels[0]):\n        with mlflow.start_run(nested=True, run_name=f\"lr_{idx}\") as run:\n            print(\"\nEvaluating on testing data:\")\n            print(f\"subModel No. {idx + 1}\")\n            prediction, log_metric = evaluate(model, test_df)\n\n            if log_metric[evaluator_metrics[0]] > best_metrics[evaluator_metrics[0]]:\n                best_metrics = log_metric\n                best_index = idx\n\n            print(\"log model\")\n            mlflow.spark.log_model(\n                model,\n                f\"{EXPERIMENT_NAME}-lrmodel\",\n                registered_model_name=f\"{EXPERIMENT_NAME}-lrmodel\",\n                dfs_tmpdir=\"Files/spark\",\n            )\n\n            print(\"log metrics\")\n            mlflow.log_metrics(log_metric)\n\n            print(\"log parameters\")\n            mlflow.log_params(\n                {\n       ...",
          "displayName": "treeAggregate at RDDLossFunction.scala:61",
          "jobGroup": "40",
          "jobId": 172,
          "killedTasksSummary": {},
          "name": "treeAggregate at RDDLossFunction.scala:61",
          "numActiveStages": 0,
          "numActiveTasks": 0,
          "numCompletedIndices": 521,
          "numCompletedStages": 2,
          "numCompletedTasks": 521,
          "numFailedStages": 0,
          "numFailedTasks": 0,
          "numKilledTasks": 0,
          "numSkippedStages": 1,
          "numSkippedTasks": 5,
          "numTasks": 526,
          "rowCount": 0,
          "stageIds": [
           506,
           507,
           505
          ],
          "status": "SUCCEEDED",
          "submissionTime": "2023-09-05T17:19:12.793GMT",
          "usageDescription": ""
         },
         {
          "completionTime": "2023-09-05T17:19:12.767GMT",
          "dataRead": 0,
          "dataWritten": 0,
          "description": "Job group for statement 40:\nwith mlflow.start_run(run_name=\"lr\"):\n    models = crossval.fit(train_df)\n    best_metrics = {k: 0 for k in evaluator_metrics}\n    best_index = 0\n    for idx, model in enumerate(models.subModels[0]):\n        with mlflow.start_run(nested=True, run_name=f\"lr_{idx}\") as run:\n            print(\"\nEvaluating on testing data:\")\n            print(f\"subModel No. {idx + 1}\")\n            prediction, log_metric = evaluate(model, test_df)\n\n            if log_metric[evaluator_metrics[0]] > best_metrics[evaluator_metrics[0]]:\n                best_metrics = log_metric\n                best_index = idx\n\n            print(\"log model\")\n            mlflow.spark.log_model(\n                model,\n                f\"{EXPERIMENT_NAME}-lrmodel\",\n                registered_model_name=f\"{EXPERIMENT_NAME}-lrmodel\",\n                dfs_tmpdir=\"Files/spark\",\n            )\n\n            print(\"log metrics\")\n            mlflow.log_metrics(log_metric)\n\n            print(\"log parameters\")\n            mlflow.log_params(\n                {\n       ...",
          "displayName": "treeAggregate at Summarizer.scala:233",
          "jobGroup": "40",
          "jobId": 171,
          "killedTasksSummary": {},
          "name": "treeAggregate at Summarizer.scala:233",
          "numActiveStages": 0,
          "numActiveTasks": 0,
          "numCompletedIndices": 521,
          "numCompletedStages": 2,
          "numCompletedTasks": 521,
          "numFailedStages": 0,
          "numFailedTasks": 0,
          "numKilledTasks": 0,
          "numSkippedStages": 1,
          "numSkippedTasks": 5,
          "numTasks": 526,
          "rowCount": 0,
          "stageIds": [
           502,
           503,
           504
          ],
          "status": "SUCCEEDED",
          "submissionTime": "2023-09-05T17:19:11.441GMT",
          "usageDescription": ""
         },
         {
          "completionTime": "2023-09-05T17:19:11.344GMT",
          "dataRead": 0,
          "dataWritten": 0,
          "description": "Job group for statement 40:\nwith mlflow.start_run(run_name=\"lr\"):\n    models = crossval.fit(train_df)\n    best_metrics = {k: 0 for k in evaluator_metrics}\n    best_index = 0\n    for idx, model in enumerate(models.subModels[0]):\n        with mlflow.start_run(nested=True, run_name=f\"lr_{idx}\") as run:\n            print(\"\nEvaluating on testing data:\")\n            print(f\"subModel No. {idx + 1}\")\n            prediction, log_metric = evaluate(model, test_df)\n\n            if log_metric[evaluator_metrics[0]] > best_metrics[evaluator_metrics[0]]:\n                best_metrics = log_metric\n                best_index = idx\n\n            print(\"log model\")\n            mlflow.spark.log_model(\n                model,\n                f\"{EXPERIMENT_NAME}-lrmodel\",\n                registered_model_name=f\"{EXPERIMENT_NAME}-lrmodel\",\n                dfs_tmpdir=\"Files/spark\",\n            )\n\n            print(\"log metrics\")\n            mlflow.log_metrics(log_metric)\n\n            print(\"log parameters\")\n            mlflow.log_params(\n                {\n       ...",
          "displayName": "collect at AreaUnderCurve.scala:44",
          "jobGroup": "40",
          "jobId": 170,
          "killedTasksSummary": {},
          "name": "collect at AreaUnderCurve.scala:44",
          "numActiveStages": 0,
          "numActiveTasks": 0,
          "numCompletedIndices": 450,
          "numCompletedStages": 1,
          "numCompletedTasks": 450,
          "numFailedStages": 0,
          "numFailedTasks": 0,
          "numKilledTasks": 0,
          "numSkippedStages": 3,
          "numSkippedTasks": 1005,
          "numTasks": 1455,
          "rowCount": 0,
          "stageIds": [
           499,
           500,
           501,
           498
          ],
          "status": "SUCCEEDED",
          "submissionTime": "2023-09-05T17:19:10.349GMT",
          "usageDescription": ""
         },
         {
          "completionTime": "2023-09-05T17:19:10.337GMT",
          "dataRead": 56253,
          "dataWritten": 0,
          "description": "Job group for statement 40:\nwith mlflow.start_run(run_name=\"lr\"):\n    models = crossval.fit(train_df)\n    best_metrics = {k: 0 for k in evaluator_metrics}\n    best_index = 0\n    for idx, model in enumerate(models.subModels[0]):\n        with mlflow.start_run(nested=True, run_name=f\"lr_{idx}\") as run:\n            print(\"\nEvaluating on testing data:\")\n            print(f\"subModel No. {idx + 1}\")\n            prediction, log_metric = evaluate(model, test_df)\n\n            if log_metric[evaluator_metrics[0]] > best_metrics[evaluator_metrics[0]]:\n                best_metrics = log_metric\n                best_index = idx\n\n            print(\"log model\")\n            mlflow.spark.log_model(\n                model,\n                f\"{EXPERIMENT_NAME}-lrmodel\",\n                registered_model_name=f\"{EXPERIMENT_NAME}-lrmodel\",\n                dfs_tmpdir=\"Files/spark\",\n            )\n\n            print(\"log metrics\")\n            mlflow.log_metrics(log_metric)\n\n            print(\"log parameters\")\n            mlflow.log_params(\n                {\n       ...",
          "displayName": "collect at BinaryClassificationMetrics.scala:237",
          "jobGroup": "40",
          "jobId": 169,
          "killedTasksSummary": {},
          "name": "collect at BinaryClassificationMetrics.scala:237",
          "numActiveStages": 0,
          "numActiveTasks": 0,
          "numCompletedIndices": 450,
          "numCompletedStages": 1,
          "numCompletedTasks": 450,
          "numFailedStages": 0,
          "numFailedTasks": 0,
          "numKilledTasks": 0,
          "numSkippedStages": 3,
          "numSkippedTasks": 1005,
          "numTasks": 1455,
          "rowCount": 450,
          "stageIds": [
           494,
           495,
           496,
           497
          ],
          "status": "SUCCEEDED",
          "submissionTime": "2023-09-05T17:19:09.689GMT",
          "usageDescription": ""
         },
         {
          "completionTime": "2023-09-05T17:19:09.680GMT",
          "dataRead": 114529,
          "dataWritten": 56253,
          "description": "Job group for statement 40:\nwith mlflow.start_run(run_name=\"lr\"):\n    models = crossval.fit(train_df)\n    best_metrics = {k: 0 for k in evaluator_metrics}\n    best_index = 0\n    for idx, model in enumerate(models.subModels[0]):\n        with mlflow.start_run(nested=True, run_name=f\"lr_{idx}\") as run:\n            print(\"\nEvaluating on testing data:\")\n            print(f\"subModel No. {idx + 1}\")\n            prediction, log_metric = evaluate(model, test_df)\n\n            if log_metric[evaluator_metrics[0]] > best_metrics[evaluator_metrics[0]]:\n                best_metrics = log_metric\n                best_index = idx\n\n            print(\"log model\")\n            mlflow.spark.log_model(\n                model,\n                f\"{EXPERIMENT_NAME}-lrmodel\",\n                registered_model_name=f\"{EXPERIMENT_NAME}-lrmodel\",\n                dfs_tmpdir=\"Files/spark\",\n            )\n\n            print(\"log metrics\")\n            mlflow.log_metrics(log_metric)\n\n            print(\"log parameters\")\n            mlflow.log_params(\n                {\n       ...",
          "displayName": "count at BinaryClassificationMetrics.scala:197",
          "jobGroup": "40",
          "jobId": 168,
          "killedTasksSummary": {},
          "name": "count at BinaryClassificationMetrics.scala:197",
          "numActiveStages": 0,
          "numActiveTasks": 0,
          "numCompletedIndices": 950,
          "numCompletedStages": 2,
          "numCompletedTasks": 950,
          "numFailedStages": 0,
          "numFailedTasks": 0,
          "numKilledTasks": 0,
          "numSkippedStages": 2,
          "numSkippedTasks": 505,
          "numTasks": 1455,
          "rowCount": 1367,
          "stageIds": [
           491,
           492,
           493,
           490
          ],
          "status": "SUCCEEDED",
          "submissionTime": "2023-09-05T17:19:08.524GMT",
          "usageDescription": ""
         }
        ],
        "limit": 20,
        "numbers": {
         "FAILED": 0,
         "RUNNING": 0,
         "SUCCEEDED": 139,
         "UNKNOWN": 0
        },
        "rule": "ALL_DESC"
       },
       "spark_pool": null,
       "state": "finished",
       "statement_id": 40
      },
      "text/plain": [
       "StatementMeta(, 3fd88b16-e905-4c38-99da-16b9b46411b3, 40, Finished, Available)"
      ]
     },
     "metadata": {},
     "output_type": "display_data"
    },
    {
     "name": "stdout",
     "output_type": "stream",
     "text": [
      "\n",
      "Evaluating on testing data:\n",
      "subModel No. 1\n",
      "areaUnderROC: 0.7435\n",
      "areaUnderPR: 0.6555\n",
      "log model\n",
      "log metrics\n",
      "log parameters\n",
      "\n",
      "Evaluating on testing data:\n",
      "subModel No. 2\n",
      "areaUnderROC: 0.7295\n",
      "areaUnderPR: 0.6581\n",
      "log model\n",
      "log metrics\n",
      "log parameters\n",
      "\n",
      "Evaluating on testing data:\n",
      "subModel No. 3\n",
      "areaUnderROC: 0.7338\n",
      "areaUnderPR: 0.6542\n",
      "log model\n",
      "log metrics\n",
      "log parameters\n",
      "\n",
      "Evaluating on testing data:\n",
      "subModel No. 4\n",
      "areaUnderROC: 0.7139\n",
      "areaUnderPR: 0.6411\n",
      "log model\n",
      "log metrics\n",
      "log parameters\n"
     ]
    },
    {
     "name": "stderr",
     "output_type": "stream",
     "text": [
      "2023/09/05 17:21:50 WARNING mlflow.utils.environment: Encountered an unexpected error while inferring pip requirements (model URI: /tmp/tmpnskxxpxj/model, flavor: spark), fall back to return ['pyspark==3.3.1']. Set logging level to DEBUG to see the full traceback.\n",
      "/home/trusted-service-user/cluster-env/trident_env/lib/python3.10/site-packages/_distutils_hack/__init__.py:33: UserWarning: Setuptools is replacing distutils.\n",
      "  warnings.warn(\"Setuptools is replacing distutils.\")\n",
      "Successfully registered model 'sample-aisample-textclassification-lrmodel'.\n",
      "2023/09/05 17:21:58 INFO mlflow.tracking._model_registry.client: Waiting up to 300 seconds for model version to finish creation.                     Model name: sample-aisample-textclassification-lrmodel, version 1\n",
      "Created version '1' of model 'sample-aisample-textclassification-lrmodel'.\n",
      "2023/09/05 17:22:12 WARNING mlflow.utils.environment: Encountered an unexpected error while inferring pip requirements (model URI: /tmp/tmpd4cq_jn2/model, flavor: spark), fall back to return ['pyspark==3.3.1']. Set logging level to DEBUG to see the full traceback.\n",
      "Successfully registered model 'sample-aisample-textclassification-lrmodel'.\n",
      "2023/09/05 17:22:17 INFO mlflow.tracking._model_registry.client: Waiting up to 300 seconds for model version to finish creation.                     Model name: sample-aisample-textclassification-lrmodel, version 2\n",
      "Created version '2' of model 'sample-aisample-textclassification-lrmodel'.\n",
      "2023/09/05 17:22:30 WARNING mlflow.utils.environment: Encountered an unexpected error while inferring pip requirements (model URI: /tmp/tmp45na6h4n/model, flavor: spark), fall back to return ['pyspark==3.3.1']. Set logging level to DEBUG to see the full traceback.\n",
      "Successfully registered model 'sample-aisample-textclassification-lrmodel'.\n",
      "2023/09/05 17:22:35 INFO mlflow.tracking._model_registry.client: Waiting up to 300 seconds for model version to finish creation.                     Model name: sample-aisample-textclassification-lrmodel, version 3\n",
      "Created version '3' of model 'sample-aisample-textclassification-lrmodel'.\n",
      "2023/09/05 17:22:47 WARNING mlflow.utils.environment: Encountered an unexpected error while inferring pip requirements (model URI: /tmp/tmpmsd7lgo1/model, flavor: spark), fall back to return ['pyspark==3.3.1']. Set logging level to DEBUG to see the full traceback.\n",
      "Successfully registered model 'sample-aisample-textclassification-lrmodel'.\n",
      "2023/09/05 17:22:52 INFO mlflow.tracking._model_registry.client: Waiting up to 300 seconds for model version to finish creation.                     Model name: sample-aisample-textclassification-lrmodel, version 4\n",
      "Created version '4' of model 'sample-aisample-textclassification-lrmodel'.\n",
      "2023/09/05 17:22:58 WARNING mlflow.utils.environment: Encountered an unexpected error while inferring pip requirements (model URI: /tmp/tmpef6tee6c/model, flavor: spark), fall back to return ['pyspark==3.3.1']. Set logging level to DEBUG to see the full traceback.\n",
      "Successfully registered model 'sample-aisample-textclassification-lrmodel'.\n",
      "2023/09/05 17:23:02 INFO mlflow.tracking._model_registry.client: Waiting up to 300 seconds for model version to finish creation.                     Model name: sample-aisample-textclassification-lrmodel, version 5\n",
      "Created version '5' of model 'sample-aisample-textclassification-lrmodel'.\n"
     ]
    }
   ],
   "source": [
    "with mlflow.start_run(run_name=\"lr\"):\n",
    "    models = crossval.fit(train_df)\n",
    "    best_metrics = {k: 0 for k in evaluator_metrics}\n",
    "    best_index = 0\n",
    "    for idx, model in enumerate(models.subModels[0]):\n",
    "        with mlflow.start_run(nested=True, run_name=f\"lr_{idx}\") as run:\n",
    "            print(\"\\nEvaluating on testing data:\")\n",
    "            print(f\"subModel No. {idx + 1}\")\n",
    "            prediction, log_metric = evaluate(model, test_df)\n",
    "\n",
    "            if log_metric[evaluator_metrics[0]] > best_metrics[evaluator_metrics[0]]:\n",
    "                best_metrics = log_metric\n",
    "                best_index = idx\n",
    "\n",
    "            print(\"log model\")\n",
    "            mlflow.spark.log_model(\n",
    "                model,\n",
    "                f\"{EXPERIMENT_NAME}-lrmodel\",\n",
    "                registered_model_name=f\"{EXPERIMENT_NAME}-lrmodel\",\n",
    "                dfs_tmpdir=\"Files/spark\",\n",
    "            )\n",
    "\n",
    "            print(\"log metrics\")\n",
    "            mlflow.log_metrics(log_metric)\n",
    "\n",
    "            print(\"log parameters\")\n",
    "            mlflow.log_params(\n",
    "                {\n",
    "                    \"word2vec_size\": word2vec_size,\n",
    "                    \"min_word_count\": min_word_count,\n",
    "                    \"max_iter\": max_iter,\n",
    "                    \"k_folds\": k_folds,\n",
    "                    \"DATA_FILE\": DATA_FILE,\n",
    "                }\n",
    "            )\n",
    "\n",
    "    # Log the best model and its relevant metrics and parameters to the parent run\n",
    "    mlflow.spark.log_model(\n",
    "        models.subModels[0][best_index],\n",
    "        f\"{EXPERIMENT_NAME}-lrmodel\",\n",
    "        registered_model_name=f\"{EXPERIMENT_NAME}-lrmodel\",\n",
    "        dfs_tmpdir=\"Files/spark\",\n",
    "    )\n",
    "    mlflow.log_metrics(best_metrics)\n",
    "    mlflow.log_params(\n",
    "        {\n",
    "            \"word2vec_size\": word2vec_size,\n",
    "            \"min_word_count\": min_word_count,\n",
    "            \"max_iter\": max_iter,\n",
    "            \"k_folds\": k_folds,\n",
    "            \"DATA_FILE\": DATA_FILE,\n",
    "        }\n",
    "    )\n"
   ]
  },
  {
   "cell_type": "markdown",
   "id": "59e1de64-d289-4bb3-93b4-d10abf7e5cc2",
   "metadata": {
    "nteract": {
     "transient": {
      "deleting": false
     }
    }
   },
   "source": [
    "To view your experiments:\n",
    "\n",
    "1. On the left, select your workspace.\n",
    "1. Find and select the experiment name, in this case _sample_aisample-textclassification_."
   ]
  },
  {
   "cell_type": "markdown",
   "id": "b844ae7f-75e6-4400-b3f0-d7c98d269d47",
   "metadata": {
    "nteract": {
     "transient": {
      "deleting": false
     }
    }
   },
   "source": [
    "<img src=\"https://synapseaisolutionsa.blob.core.windows.net/public/Title_Genre_Classification/TextClassification-experiment.png\"  width=\"70%\" height=\"30%\" title=\"Screenshot of an experiment.\">"
   ]
  },
  {
   "cell_type": "markdown",
   "id": "e750447c-d236-48e8-ba33-de996ff5ca03",
   "metadata": {
    "nteract": {
     "transient": {
      "deleting": false
     }
    }
   },
   "source": [
    "## Step 5: Score and save prediction results"
   ]
  },
  {
   "cell_type": "markdown",
   "id": "a53973b2-0cfb-4c18-956c-142b54d4daf6",
   "metadata": {
    "nteract": {
     "transient": {
      "deleting": false
     }
    }
   },
   "source": [
    "Microsoft Fabric offers a scalable function called PREDICT that supports batch scoring in any compute engine and enables customers to operationalize machine learning models. You can create batch predictions straight from a notebook or the item page for a particular model. Learn more about [PREDICT](https://aka.ms/fabric-predict) and how to use it in Microsoft Fabric.\n",
    "\n",
    "From the above evaluation results, model 1 has the largest Area Under the Precision-Recall Curve (AUPRC) and Area Under the Curve Receiver Operating Characteristic (AUC-ROC) metrics. Thus you should use model 1 for prediction.\n",
    "\n",
    "The AUC-ROC measure is widely used to assess the performance of binary classifiers. However, sometimes, it's more appropriate to evaluate the classifier based on measuring AUPRC. AUC-ROC is a chart that visualizes the trade-off between true positive rate (TPR) and false positive rate (FPR). AUPRC is a curve that combines precision (positive predictive value or PPV) and Recall (true positive rate or TPR) in a single visualization.\n"
   ]
  },
  {
   "cell_type": "code",
   "execution_count": null,
   "id": "5e2bb3a3-6025-4bc8-ba62-b86116261389",
   "metadata": {},
   "outputs": [
    {
     "data": {
      "application/vnd.livy.statement-meta+json": {
       "execution_finish_time": "2023-09-05T17:23:14.3856371Z",
       "execution_start_time": "2023-09-05T17:23:05.7101048Z",
       "livy_statement_state": "available",
       "parent_msg_id": "f08822e9-bd1b-464e-82f6-1f40ef6936ee",
       "queued_time": "2023-09-05T17:14:48.3034533Z",
       "session_id": "3fd88b16-e905-4c38-99da-16b9b46411b3",
       "session_start_time": null,
       "spark_jobs": {
        "jobs": [
         {
          "completionTime": "2023-09-05T17:23:13.405GMT",
          "dataRead": 0,
          "dataWritten": 0,
          "description": "Job group for statement 41:\n# Load the best model\nmodel_uri = f\"models:/{EXPERIMENT_NAME}-lrmodel/1\"\nloaded_model = mlflow.spark.load_model(model_uri, dfs_tmpdir=\"Files/spark\")\n\n# Verify the loaded model\nbatch_predictions = loaded_model.transform(test_df)\nbatch_predictions.show(5)",
          "displayName": "showString at NativeMethodAccessorImpl.java:0",
          "jobGroup": "41",
          "jobId": 364,
          "killedTasksSummary": {},
          "name": "showString at NativeMethodAccessorImpl.java:0",
          "numActiveStages": 0,
          "numActiveTasks": 0,
          "numCompletedIndices": 8,
          "numCompletedStages": 1,
          "numCompletedTasks": 8,
          "numFailedStages": 0,
          "numFailedTasks": 0,
          "numKilledTasks": 0,
          "numSkippedStages": 1,
          "numSkippedTasks": 5,
          "numTasks": 13,
          "rowCount": 0,
          "stageIds": [
           1062,
           1063
          ],
          "status": "SUCCEEDED",
          "submissionTime": "2023-09-05T17:23:13.375GMT",
          "usageDescription": ""
         },
         {
          "completionTime": "2023-09-05T17:23:13.369GMT",
          "dataRead": 0,
          "dataWritten": 0,
          "description": "Job group for statement 41:\n# Load the best model\nmodel_uri = f\"models:/{EXPERIMENT_NAME}-lrmodel/1\"\nloaded_model = mlflow.spark.load_model(model_uri, dfs_tmpdir=\"Files/spark\")\n\n# Verify the loaded model\nbatch_predictions = loaded_model.transform(test_df)\nbatch_predictions.show(5)",
          "displayName": "showString at NativeMethodAccessorImpl.java:0",
          "jobGroup": "41",
          "jobId": 363,
          "killedTasksSummary": {},
          "name": "showString at NativeMethodAccessorImpl.java:0",
          "numActiveStages": 0,
          "numActiveTasks": 0,
          "numCompletedIndices": 4,
          "numCompletedStages": 1,
          "numCompletedTasks": 4,
          "numFailedStages": 0,
          "numFailedTasks": 0,
          "numKilledTasks": 0,
          "numSkippedStages": 1,
          "numSkippedTasks": 5,
          "numTasks": 9,
          "rowCount": 0,
          "stageIds": [
           1060,
           1061
          ],
          "status": "SUCCEEDED",
          "submissionTime": "2023-09-05T17:23:13.344GMT",
          "usageDescription": ""
         },
         {
          "completionTime": "2023-09-05T17:23:13.339GMT",
          "dataRead": 0,
          "dataWritten": 0,
          "description": "Job group for statement 41:\n# Load the best model\nmodel_uri = f\"models:/{EXPERIMENT_NAME}-lrmodel/1\"\nloaded_model = mlflow.spark.load_model(model_uri, dfs_tmpdir=\"Files/spark\")\n\n# Verify the loaded model\nbatch_predictions = loaded_model.transform(test_df)\nbatch_predictions.show(5)",
          "displayName": "showString at NativeMethodAccessorImpl.java:0",
          "jobGroup": "41",
          "jobId": 362,
          "killedTasksSummary": {},
          "name": "showString at NativeMethodAccessorImpl.java:0",
          "numActiveStages": 0,
          "numActiveTasks": 0,
          "numCompletedIndices": 1,
          "numCompletedStages": 1,
          "numCompletedTasks": 1,
          "numFailedStages": 0,
          "numFailedTasks": 0,
          "numKilledTasks": 0,
          "numSkippedStages": 1,
          "numSkippedTasks": 5,
          "numTasks": 6,
          "rowCount": 0,
          "stageIds": [
           1058,
           1059
          ],
          "status": "SUCCEEDED",
          "submissionTime": "2023-09-05T17:23:13.257GMT",
          "usageDescription": ""
         },
         {
          "completionTime": "2023-09-05T17:23:13.121GMT",
          "dataRead": 0,
          "dataWritten": 0,
          "description": "Job group for statement 41:\n# Load the best model\nmodel_uri = f\"models:/{EXPERIMENT_NAME}-lrmodel/1\"\nloaded_model = mlflow.spark.load_model(model_uri, dfs_tmpdir=\"Files/spark\")\n\n# Verify the loaded model\nbatch_predictions = loaded_model.transform(test_df)\nbatch_predictions.show(5)",
          "displayName": "showString at NativeMethodAccessorImpl.java:0",
          "jobGroup": "41",
          "jobId": 360,
          "killedTasksSummary": {},
          "name": "showString at NativeMethodAccessorImpl.java:0",
          "numActiveStages": 0,
          "numActiveTasks": 0,
          "numCompletedIndices": 500,
          "numCompletedStages": 1,
          "numCompletedTasks": 500,
          "numFailedStages": 0,
          "numFailedTasks": 0,
          "numKilledTasks": 0,
          "numSkippedStages": 1,
          "numSkippedTasks": 5,
          "numTasks": 505,
          "rowCount": 0,
          "stageIds": [
           1053,
           1054
          ],
          "status": "SUCCEEDED",
          "submissionTime": "2023-09-05T17:23:12.555GMT",
          "usageDescription": ""
         },
         {
          "completionTime": "2023-09-05T17:23:12.132GMT",
          "dataRead": 0,
          "dataWritten": 0,
          "description": "Job group for statement 41:\n# Load the best model\nmodel_uri = f\"models:/{EXPERIMENT_NAME}-lrmodel/1\"\nloaded_model = mlflow.spark.load_model(model_uri, dfs_tmpdir=\"Files/spark\")\n\n# Verify the loaded model\nbatch_predictions = loaded_model.transform(test_df)\nbatch_predictions.show(5)",
          "displayName": "head at LogisticRegression.scala:1353",
          "jobGroup": "41",
          "jobId": 359,
          "killedTasksSummary": {},
          "name": "head at LogisticRegression.scala:1353",
          "numActiveStages": 0,
          "numActiveTasks": 0,
          "numCompletedIndices": 1,
          "numCompletedStages": 1,
          "numCompletedTasks": 1,
          "numFailedStages": 0,
          "numFailedTasks": 0,
          "numKilledTasks": 0,
          "numSkippedStages": 0,
          "numSkippedTasks": 0,
          "numTasks": 1,
          "rowCount": 0,
          "stageIds": [
           1052
          ],
          "status": "SUCCEEDED",
          "submissionTime": "2023-09-05T17:23:11.648GMT",
          "usageDescription": ""
         },
         {
          "completionTime": "2023-09-05T17:23:11.121GMT",
          "dataRead": 0,
          "dataWritten": 0,
          "description": "Job group for statement 41:\n# Load the best model\nmodel_uri = f\"models:/{EXPERIMENT_NAME}-lrmodel/1\"\nloaded_model = mlflow.spark.load_model(model_uri, dfs_tmpdir=\"Files/spark\")\n\n# Verify the loaded model\nbatch_predictions = loaded_model.transform(test_df)\nbatch_predictions.show(5)",
          "displayName": "load at LogisticRegression.scala:1335",
          "jobGroup": "41",
          "jobId": 358,
          "killedTasksSummary": {},
          "name": "load at LogisticRegression.scala:1335",
          "numActiveStages": 0,
          "numActiveTasks": 0,
          "numCompletedIndices": 1,
          "numCompletedStages": 1,
          "numCompletedTasks": 1,
          "numFailedStages": 0,
          "numFailedTasks": 0,
          "numKilledTasks": 0,
          "numSkippedStages": 0,
          "numSkippedTasks": 0,
          "numTasks": 1,
          "rowCount": 0,
          "stageIds": [
           1051
          ],
          "status": "SUCCEEDED",
          "submissionTime": "2023-09-05T17:23:10.510GMT",
          "usageDescription": ""
         },
         {
          "completionTime": "2023-09-05T17:23:10.405GMT",
          "dataRead": 0,
          "dataWritten": 0,
          "description": "Job group for statement 41:\n# Load the best model\nmodel_uri = f\"models:/{EXPERIMENT_NAME}-lrmodel/1\"\nloaded_model = mlflow.spark.load_model(model_uri, dfs_tmpdir=\"Files/spark\")\n\n# Verify the loaded model\nbatch_predictions = loaded_model.transform(test_df)\nbatch_predictions.show(5)",
          "displayName": "first at ReadWrite.scala:587",
          "jobGroup": "41",
          "jobId": 357,
          "killedTasksSummary": {},
          "name": "first at ReadWrite.scala:587",
          "numActiveStages": 0,
          "numActiveTasks": 0,
          "numCompletedIndices": 1,
          "numCompletedStages": 1,
          "numCompletedTasks": 1,
          "numFailedStages": 0,
          "numFailedTasks": 0,
          "numKilledTasks": 0,
          "numSkippedStages": 0,
          "numSkippedTasks": 0,
          "numTasks": 1,
          "rowCount": 0,
          "stageIds": [
           1050
          ],
          "status": "SUCCEEDED",
          "submissionTime": "2023-09-05T17:23:10.368GMT",
          "usageDescription": ""
         },
         {
          "completionTime": "2023-09-05T17:23:10.292GMT",
          "dataRead": 0,
          "dataWritten": 0,
          "description": "Job group for statement 41:\n# Load the best model\nmodel_uri = f\"models:/{EXPERIMENT_NAME}-lrmodel/1\"\nloaded_model = mlflow.spark.load_model(model_uri, dfs_tmpdir=\"Files/spark\")\n\n# Verify the loaded model\nbatch_predictions = loaded_model.transform(test_df)\nbatch_predictions.show(5)",
          "displayName": "first at ReadWrite.scala:587",
          "jobGroup": "41",
          "jobId": 356,
          "killedTasksSummary": {},
          "name": "first at ReadWrite.scala:587",
          "numActiveStages": 0,
          "numActiveTasks": 0,
          "numCompletedIndices": 1,
          "numCompletedStages": 1,
          "numCompletedTasks": 1,
          "numFailedStages": 0,
          "numFailedTasks": 0,
          "numKilledTasks": 0,
          "numSkippedStages": 0,
          "numSkippedTasks": 0,
          "numTasks": 1,
          "rowCount": 0,
          "stageIds": [
           1049
          ],
          "status": "SUCCEEDED",
          "submissionTime": "2023-09-05T17:23:10.248GMT",
          "usageDescription": ""
         },
         {
          "completionTime": "2023-09-05T17:23:10.189GMT",
          "dataRead": 0,
          "dataWritten": 0,
          "description": "Job group for statement 41:\n# Load the best model\nmodel_uri = f\"models:/{EXPERIMENT_NAME}-lrmodel/1\"\nloaded_model = mlflow.spark.load_model(model_uri, dfs_tmpdir=\"Files/spark\")\n\n# Verify the loaded model\nbatch_predictions = loaded_model.transform(test_df)\nbatch_predictions.show(5)",
          "displayName": "first at ReadWrite.scala:587",
          "jobGroup": "41",
          "jobId": 355,
          "killedTasksSummary": {},
          "name": "first at ReadWrite.scala:587",
          "numActiveStages": 0,
          "numActiveTasks": 0,
          "numCompletedIndices": 1,
          "numCompletedStages": 1,
          "numCompletedTasks": 1,
          "numFailedStages": 0,
          "numFailedTasks": 0,
          "numKilledTasks": 0,
          "numSkippedStages": 0,
          "numSkippedTasks": 0,
          "numTasks": 1,
          "rowCount": 0,
          "stageIds": [
           1048
          ],
          "status": "SUCCEEDED",
          "submissionTime": "2023-09-05T17:23:10.149GMT",
          "usageDescription": ""
         },
         {
          "completionTime": "2023-09-05T17:23:10.075GMT",
          "dataRead": 0,
          "dataWritten": 0,
          "description": "Job group for statement 41:\n# Load the best model\nmodel_uri = f\"models:/{EXPERIMENT_NAME}-lrmodel/1\"\nloaded_model = mlflow.spark.load_model(model_uri, dfs_tmpdir=\"Files/spark\")\n\n# Verify the loaded model\nbatch_predictions = loaded_model.transform(test_df)\nbatch_predictions.show(5)",
          "displayName": "runJob at PythonRDD.scala:172",
          "jobGroup": "41",
          "jobId": 354,
          "killedTasksSummary": {},
          "name": "runJob at PythonRDD.scala:172",
          "numActiveStages": 0,
          "numActiveTasks": 0,
          "numCompletedIndices": 1,
          "numCompletedStages": 1,
          "numCompletedTasks": 1,
          "numFailedStages": 0,
          "numFailedTasks": 0,
          "numKilledTasks": 0,
          "numSkippedStages": 0,
          "numSkippedTasks": 0,
          "numTasks": 1,
          "rowCount": 0,
          "stageIds": [
           1047
          ],
          "status": "SUCCEEDED",
          "submissionTime": "2023-09-05T17:23:06.419GMT",
          "usageDescription": ""
         }
        ],
        "limit": 20,
        "numbers": {
         "FAILED": 0,
         "RUNNING": 0,
         "SUCCEEDED": 10,
         "UNKNOWN": 0
        },
        "rule": "ALL_DESC"
       },
       "spark_pool": null,
       "state": "finished",
       "statement_id": 41
      },
      "text/plain": [
       "StatementMeta(, 3fd88b16-e905-4c38-99da-16b9b46411b3, 41, Finished, Available)"
      ]
     },
     "metadata": {},
     "output_type": "display_data"
    },
    {
     "name": "stderr",
     "output_type": "stream",
     "text": [
      "2023/09/05 17:23:05 INFO mlflow.spark: 'models:/sample-aisample-textclassification-lrmodel/1' resolved as 'abfss://acecfceb-abf7-4daa-b5a2-794d4b536a8f@msit-onelake.dfs.fabric.microsoft.com/da3d040a-1492-4c07-bc26-8bafbfe63512/b7008d5f-5660-4a24-932c-52f4a5a4a1e3/artifacts'\n",
      "2023/09/05 17:23:06 INFO mlflow.spark: File 'abfss://acecfceb-abf7-4daa-b5a2-794d4b536a8f@msit-onelake.dfs.fabric.microsoft.com/da3d040a-1492-4c07-bc26-8bafbfe63512/b7008d5f-5660-4a24-932c-52f4a5a4a1e3/artifacts/sparkml' is already on DFS, copy is not necessary.\n"
     ]
    },
    {
     "name": "stdout",
     "output_type": "stream",
     "text": [
      "+--------------------+---------------+--------------------+--------+------------------+--------------------+--------------------+----------+\n",
      "|               Title|annotator_genre|            features|labelIdx|            weight|       rawPrediction|         probability|prediction|\n",
      "+--------------------+---------------+--------------------+--------+------------------+--------------------+--------------------+----------+\n",
      "|Physical, histori...|    Non-fiction|[-0.0075448265549...|     0.0|               1.0|[0.63629026017003...|[0.65391438810354...|       0.0|\n",
      "|Beschrijving van ...|    Non-fiction|[-0.0226123829022...|     0.0|               1.0|[-0.6157430269028...|[0.35075025155754...|       1.0|\n",
      "|Squibs and Cracke...|        Fiction|[-7.8669276886752...|     1.0|2.9563218390804598|[-0.7050312880964...|[0.33069767198117...|       1.0|\n",
      "|The New Far East ...|    Non-fiction|[-0.0123122965451...|     0.0|               1.0|[1.17229123886848...|[0.76355891818826...|       0.0|\n",
      "|Aus Böhmen nach I...|    Non-fiction|[-0.0048078967203...|     0.0|               1.0|[0.14452647275856...|[0.53606885647613...|       0.0|\n",
      "+--------------------+---------------+--------------------+--------+------------------+--------------------+--------------------+----------+\n",
      "only showing top 5 rows\n",
      "\n"
     ]
    }
   ],
   "source": [
    "# Load the best model\n",
    "model_uri = f\"models:/{EXPERIMENT_NAME}-lrmodel/1\"\n",
    "loaded_model = mlflow.spark.load_model(model_uri, dfs_tmpdir=\"Files/spark\")\n",
    "\n",
    "# Verify the loaded model\n",
    "batch_predictions = loaded_model.transform(test_df)\n",
    "batch_predictions.show(5)"
   ]
  },
  {
   "cell_type": "code",
   "execution_count": null,
   "id": "ea6119f5-f101-46be-ad3b-7ab89ac7ae3d",
   "metadata": {
    "jupyter": {
     "outputs_hidden": false,
     "source_hidden": false
    },
    "nteract": {
     "transient": {
      "deleting": false
     }
    }
   },
   "outputs": [
    {
     "data": {
      "application/vnd.livy.statement-meta+json": {
       "execution_finish_time": "2023-09-05T17:23:23.4102482Z",
       "execution_start_time": "2023-09-05T17:23:14.7549379Z",
       "livy_statement_state": "available",
       "parent_msg_id": "8cbe0ef9-2746-450a-a432-bd64ac99d92b",
       "queued_time": "2023-09-05T17:14:48.6489985Z",
       "session_id": "3fd88b16-e905-4c38-99da-16b9b46411b3",
       "session_start_time": null,
       "spark_jobs": {
        "jobs": [
         {
          "completionTime": "2023-09-05T17:23:21.422GMT",
          "dataRead": 0,
          "dataWritten": 0,
          "description": "Delta: Job group for statement 42:\n# Code to save the userRecs into lakehouse\nbatch_predictions.write.format(\"delta\").mode(\"overwrite\").save(\n    f\"{DATA_FOLDER}/predictions/batch_predictions\"\n): Compute snapshot for version: 2",
          "displayName": "toString at String.java:2994",
          "jobGroup": "42",
          "jobId": 375,
          "killedTasksSummary": {},
          "name": "toString at String.java:2994",
          "numActiveStages": 0,
          "numActiveTasks": 0,
          "numCompletedIndices": 1,
          "numCompletedStages": 1,
          "numCompletedTasks": 1,
          "numFailedStages": 0,
          "numFailedTasks": 0,
          "numKilledTasks": 0,
          "numSkippedStages": 2,
          "numSkippedTasks": 53,
          "numTasks": 54,
          "rowCount": 0,
          "stageIds": [
           1086,
           1087,
           1085
          ],
          "status": "SUCCEEDED",
          "submissionTime": "2023-09-05T17:23:21.393GMT",
          "usageDescription": ""
         },
         {
          "completionTime": "2023-09-05T17:23:21.371GMT",
          "dataRead": 0,
          "dataWritten": 0,
          "description": "Delta: Job group for statement 42:\n# Code to save the userRecs into lakehouse\nbatch_predictions.write.format(\"delta\").mode(\"overwrite\").save(\n    f\"{DATA_FOLDER}/predictions/batch_predictions\"\n): Compute snapshot for version: 2",
          "displayName": "toString at String.java:2994",
          "jobGroup": "42",
          "jobId": 374,
          "killedTasksSummary": {},
          "name": "toString at String.java:2994",
          "numActiveStages": 0,
          "numActiveTasks": 0,
          "numCompletedIndices": 50,
          "numCompletedStages": 1,
          "numCompletedTasks": 50,
          "numFailedStages": 0,
          "numFailedTasks": 0,
          "numKilledTasks": 0,
          "numSkippedStages": 1,
          "numSkippedTasks": 3,
          "numTasks": 53,
          "rowCount": 0,
          "stageIds": [
           1083,
           1084
          ],
          "status": "SUCCEEDED",
          "submissionTime": "2023-09-05T17:23:21.001GMT",
          "usageDescription": ""
         },
         {
          "completionTime": "2023-09-05T17:23:20.586GMT",
          "dataRead": 0,
          "dataWritten": 0,
          "description": "Delta: Job group for statement 42:\n# Code to save the userRecs into lakehouse\nbatch_predictions.write.format(\"delta\").mode(\"overwrite\").save(\n    f\"{DATA_FOLDER}/predictions/batch_predictions\"\n): Compute snapshot for version: 2",
          "displayName": "toString at String.java:2994",
          "jobGroup": "42",
          "jobId": 373,
          "killedTasksSummary": {},
          "name": "toString at String.java:2994",
          "numActiveStages": 0,
          "numActiveTasks": 0,
          "numCompletedIndices": 3,
          "numCompletedStages": 1,
          "numCompletedTasks": 3,
          "numFailedStages": 0,
          "numFailedTasks": 0,
          "numKilledTasks": 0,
          "numSkippedStages": 0,
          "numSkippedTasks": 0,
          "numTasks": 3,
          "rowCount": 0,
          "stageIds": [
           1082
          ],
          "status": "SUCCEEDED",
          "submissionTime": "2023-09-05T17:23:20.500GMT",
          "usageDescription": ""
         },
         {
          "completionTime": "2023-09-05T17:23:19.997GMT",
          "dataRead": 0,
          "dataWritten": 0,
          "description": "Job group for statement 42:\n# Code to save the userRecs into lakehouse\nbatch_predictions.write.format(\"delta\").mode(\"overwrite\").save(\n    f\"{DATA_FOLDER}/predictions/batch_predictions\"\n)",
          "displayName": "$anonfun$recordDeltaOperationInternal$1 at SynapseLoggingShim.scala:95",
          "jobGroup": "42",
          "jobId": 372,
          "killedTasksSummary": {},
          "name": "$anonfun$recordDeltaOperationInternal$1 at SynapseLoggingShim.scala:95",
          "numActiveStages": 0,
          "numActiveTasks": 0,
          "numCompletedIndices": 50,
          "numCompletedStages": 1,
          "numCompletedTasks": 50,
          "numFailedStages": 0,
          "numFailedTasks": 0,
          "numKilledTasks": 0,
          "numSkippedStages": 1,
          "numSkippedTasks": 2,
          "numTasks": 52,
          "rowCount": 0,
          "stageIds": [
           1080,
           1081
          ],
          "status": "SUCCEEDED",
          "submissionTime": "2023-09-05T17:23:19.818GMT",
          "usageDescription": ""
         },
         {
          "completionTime": "2023-09-05T17:23:19.727GMT",
          "dataRead": 0,
          "dataWritten": 0,
          "description": "Job group for statement 42:\n# Code to save the userRecs into lakehouse\nbatch_predictions.write.format(\"delta\").mode(\"overwrite\").save(\n    f\"{DATA_FOLDER}/predictions/batch_predictions\"\n)",
          "displayName": "save at NativeMethodAccessorImpl.java:0",
          "jobGroup": "42",
          "jobId": 371,
          "killedTasksSummary": {},
          "name": "save at NativeMethodAccessorImpl.java:0",
          "numActiveStages": 0,
          "numActiveTasks": 0,
          "numCompletedIndices": 1,
          "numCompletedStages": 1,
          "numCompletedTasks": 1,
          "numFailedStages": 0,
          "numFailedTasks": 0,
          "numKilledTasks": 0,
          "numSkippedStages": 2,
          "numSkippedTasks": 505,
          "numTasks": 506,
          "rowCount": 0,
          "stageIds": [
           1077,
           1078,
           1079
          ],
          "status": "SUCCEEDED",
          "submissionTime": "2023-09-05T17:23:19.151GMT",
          "usageDescription": ""
         },
         {
          "completionTime": "2023-09-05T17:23:19.104GMT",
          "dataRead": 0,
          "dataWritten": 0,
          "description": "Job group for statement 42:\n# Code to save the userRecs into lakehouse\nbatch_predictions.write.format(\"delta\").mode(\"overwrite\").save(\n    f\"{DATA_FOLDER}/predictions/batch_predictions\"\n)",
          "displayName": "save at NativeMethodAccessorImpl.java:0",
          "jobGroup": "42",
          "jobId": 370,
          "killedTasksSummary": {},
          "name": "save at NativeMethodAccessorImpl.java:0",
          "numActiveStages": 0,
          "numActiveTasks": 0,
          "numCompletedIndices": 500,
          "numCompletedStages": 1,
          "numCompletedTasks": 500,
          "numFailedStages": 0,
          "numFailedTasks": 0,
          "numKilledTasks": 0,
          "numSkippedStages": 1,
          "numSkippedTasks": 5,
          "numTasks": 505,
          "rowCount": 0,
          "stageIds": [
           1076,
           1075
          ],
          "status": "SUCCEEDED",
          "submissionTime": "2023-09-05T17:23:17.923GMT",
          "usageDescription": ""
         },
         {
          "completionTime": "2023-09-05T17:23:17.790GMT",
          "dataRead": 0,
          "dataWritten": 0,
          "description": "Job group for statement 42:\n# Code to save the userRecs into lakehouse\nbatch_predictions.write.format(\"delta\").mode(\"overwrite\").save(\n    f\"{DATA_FOLDER}/predictions/batch_predictions\"\n)",
          "displayName": "save at NativeMethodAccessorImpl.java:0",
          "jobGroup": "42",
          "jobId": 368,
          "killedTasksSummary": {},
          "name": "save at NativeMethodAccessorImpl.java:0",
          "numActiveStages": 0,
          "numActiveTasks": 0,
          "numCompletedIndices": 500,
          "numCompletedStages": 1,
          "numCompletedTasks": 500,
          "numFailedStages": 0,
          "numFailedTasks": 0,
          "numKilledTasks": 0,
          "numSkippedStages": 1,
          "numSkippedTasks": 5,
          "numTasks": 505,
          "rowCount": 0,
          "stageIds": [
           1071,
           1070
          ],
          "status": "SUCCEEDED",
          "submissionTime": "2023-09-05T17:23:17.203GMT",
          "usageDescription": ""
         },
         {
          "completionTime": "2023-09-05T17:23:17.063GMT",
          "dataRead": 0,
          "dataWritten": 0,
          "description": "Delta: Job group for statement 42:\n# Code to save the userRecs into lakehouse\nbatch_predictions.write.format(\"delta\").mode(\"overwrite\").save(\n    f\"{DATA_FOLDER}/predictions/batch_predictions\"\n): Compute snapshot for version: 1",
          "displayName": "toString at String.java:2994",
          "jobGroup": "42",
          "jobId": 367,
          "killedTasksSummary": {},
          "name": "toString at String.java:2994",
          "numActiveStages": 0,
          "numActiveTasks": 0,
          "numCompletedIndices": 1,
          "numCompletedStages": 1,
          "numCompletedTasks": 1,
          "numFailedStages": 0,
          "numFailedTasks": 0,
          "numKilledTasks": 0,
          "numSkippedStages": 2,
          "numSkippedTasks": 52,
          "numTasks": 53,
          "rowCount": 0,
          "stageIds": [
           1068,
           1069,
           1067
          ],
          "status": "SUCCEEDED",
          "submissionTime": "2023-09-05T17:23:17.002GMT",
          "usageDescription": ""
         },
         {
          "completionTime": "2023-09-05T17:23:16.979GMT",
          "dataRead": 0,
          "dataWritten": 0,
          "description": "Delta: Job group for statement 42:\n# Code to save the userRecs into lakehouse\nbatch_predictions.write.format(\"delta\").mode(\"overwrite\").save(\n    f\"{DATA_FOLDER}/predictions/batch_predictions\"\n): Compute snapshot for version: 1",
          "displayName": "toString at String.java:2994",
          "jobGroup": "42",
          "jobId": 366,
          "killedTasksSummary": {},
          "name": "toString at String.java:2994",
          "numActiveStages": 0,
          "numActiveTasks": 0,
          "numCompletedIndices": 50,
          "numCompletedStages": 1,
          "numCompletedTasks": 50,
          "numFailedStages": 0,
          "numFailedTasks": 0,
          "numKilledTasks": 0,
          "numSkippedStages": 1,
          "numSkippedTasks": 2,
          "numTasks": 52,
          "rowCount": 0,
          "stageIds": [
           1065,
           1066
          ],
          "status": "SUCCEEDED",
          "submissionTime": "2023-09-05T17:23:15.950GMT",
          "usageDescription": ""
         },
         {
          "completionTime": "2023-09-05T17:23:15.540GMT",
          "dataRead": 0,
          "dataWritten": 0,
          "description": "Delta: Job group for statement 42:\n# Code to save the userRecs into lakehouse\nbatch_predictions.write.format(\"delta\").mode(\"overwrite\").save(\n    f\"{DATA_FOLDER}/predictions/batch_predictions\"\n): Compute snapshot for version: 1",
          "displayName": "toString at String.java:2994",
          "jobGroup": "42",
          "jobId": 365,
          "killedTasksSummary": {},
          "name": "toString at String.java:2994",
          "numActiveStages": 0,
          "numActiveTasks": 0,
          "numCompletedIndices": 2,
          "numCompletedStages": 1,
          "numCompletedTasks": 2,
          "numFailedStages": 0,
          "numFailedTasks": 0,
          "numKilledTasks": 0,
          "numSkippedStages": 0,
          "numSkippedTasks": 0,
          "numTasks": 2,
          "rowCount": 0,
          "stageIds": [
           1064
          ],
          "status": "SUCCEEDED",
          "submissionTime": "2023-09-05T17:23:15.031GMT",
          "usageDescription": ""
         }
        ],
        "limit": 20,
        "numbers": {
         "FAILED": 0,
         "RUNNING": 0,
         "SUCCEEDED": 10,
         "UNKNOWN": 0
        },
        "rule": "ALL_DESC"
       },
       "spark_pool": null,
       "state": "finished",
       "statement_id": 42
      },
      "text/plain": [
       "StatementMeta(, 3fd88b16-e905-4c38-99da-16b9b46411b3, 42, Finished, Available)"
      ]
     },
     "metadata": {},
     "output_type": "display_data"
    }
   ],
   "source": [
    "# Code to save the userRecs into lakehouse\n",
    "batch_predictions.write.format(\"delta\").mode(\"overwrite\").save(\n",
    "    f\"{DATA_FOLDER}/predictions/batch_predictions\"\n",
    ")"
   ]
  },
  {
   "cell_type": "code",
   "execution_count": null,
   "id": "67b7e8c5-3998-43f1-841b-1b6166d2b7d3",
   "metadata": {
    "jupyter": {
     "outputs_hidden": false,
     "source_hidden": false
    },
    "nteract": {
     "transient": {
      "deleting": false
     }
    }
   },
   "outputs": [
    {
     "data": {
      "application/vnd.livy.statement-meta+json": {
       "execution_finish_time": "2023-09-05T17:23:24.1217713Z",
       "execution_start_time": "2023-09-05T17:23:23.774751Z",
       "livy_statement_state": "available",
       "parent_msg_id": "a1c3646b-0607-4070-9855-4763c9242801",
       "queued_time": "2023-09-05T17:14:48.9635802Z",
       "session_id": "3fd88b16-e905-4c38-99da-16b9b46411b3",
       "session_start_time": null,
       "spark_jobs": {
        "jobs": [],
        "limit": 20,
        "numbers": {
         "FAILED": 0,
         "RUNNING": 0,
         "SUCCEEDED": 0,
         "UNKNOWN": 0
        },
        "rule": "ALL_DESC"
       },
       "spark_pool": null,
       "state": "finished",
       "statement_id": 43
      },
      "text/plain": [
       "StatementMeta(, 3fd88b16-e905-4c38-99da-16b9b46411b3, 43, Finished, Available)"
      ]
     },
     "metadata": {},
     "output_type": "display_data"
    },
    {
     "name": "stdout",
     "output_type": "stream",
     "text": [
      "Full run cost 499 seconds.\n"
     ]
    }
   ],
   "source": [
    "# Determine the entire runtime\n",
    "print(f\"Full run cost {int(time.time() - ts)} seconds.\")"
   ]
  }
 ],
 "metadata": {
  "kernel_info": {
   "name": "synapse_pyspark"
  },
  "kernelspec": {
   "display_name": "Synapse PySpark",
   "language": "Python",
   "name": "synapse_pyspark"
  },
  "language_info": {
   "name": "python"
  },
  "notebook_environment": {},
  "nteract": {
   "version": "nteract-front-end@1.0.0"
  },
  "save_output": true,
  "spark_compute": {
   "compute_id": "/trident/default",
   "session_options": {
    "conf": {},
    "enableDebugMode": false
   }
  }
 },
 "nbformat": 4,
 "nbformat_minor": 5
}
