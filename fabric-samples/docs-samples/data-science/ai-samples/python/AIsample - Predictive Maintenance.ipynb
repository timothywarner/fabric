{
 "cells": [
  {
   "cell_type": "markdown",
   "id": "17c607cb-082d-40d5-9617-f151b0d65fce",
   "metadata": {
    "nteract": {
     "transient": {
      "deleting": false
     }
    }
   },
   "source": [
    "# Create, evaluate, and score a machine fault detection model"
   ]
  },
  {
   "cell_type": "markdown",
   "id": "a8b81d35-d2b9-4239-8fa0-5c5164829a2e",
   "metadata": {
    "nteract": {
     "transient": {
      "deleting": false
     }
    }
   },
   "source": [
    "## Introduction\n",
    "\n",
    "In this notebook, you learn the data science workflow with an end-to-end example. The scenario is to use machine learning to have a more systematic approach to fault diagnosis in order to proactively identify issues and take actions before a machine's actual failure. In this scenario, the aim is to predict whether a machine would experience a failure based on features such as process temperature, rotational speed, etc. \n",
    "\n",
    "The summary of main steps you take in this notebook are:\n",
    "\n",
    "1. Install custom libraries\n",
    "2. Load the data\n",
    "3. Understand and process the data through exploratory data analysis\n",
    "4. Train machine learning models using Scikit-Learn and XGBoost. Track experiments using MLflow and Fabric Autologging feature \n",
    "5. Score the trained model using Fabric PREDICT feature, save the best model, and load it for predictions\n",
    "6. Demonstrate the model performance via visualizations in Power BI"
   ]
  },
  {
   "cell_type": "markdown",
   "id": "b82359c0-2217-4ba5-beb4-ab1aad67cb77",
   "metadata": {
    "nteract": {
     "transient": {
      "deleting": false
     }
    }
   },
   "source": [
    "## Prerequisites\n",
    "- [Add a lakehouse](https://aka.ms/fabric/addlakehouse) to this notebook. You will be downloading data from a public blob, then storing the data in the lakehouse. "
   ]
  },
  {
   "cell_type": "markdown",
   "id": "e465f36a-52ef-4df0-9f6f-ffef97822cda",
   "metadata": {
    "nteract": {
     "transient": {
      "deleting": false
     }
    }
   },
   "source": [
    "## Step 1: Install custom libraries"
   ]
  },
  {
   "cell_type": "markdown",
   "id": "cd480161-cc96-409a-b624-7366197985a6",
   "metadata": {
    "nteract": {
     "transient": {
      "deleting": false
     }
    }
   },
   "source": [
    "When developing a machine learning model or doing ad-hoc data analysis, you may need to quickly install a custom library (e.g., `imblearn` in this notebook) for your Apache Spark session. To install a library, you have two choices. \n",
    "\n",
    "1. You can use the in-line installation capabilities (for example, `%pip`, `%conda`, etc.) to quickly get started with new libraries. Note that installing this only installs the custom libraries in the current notebook and not in the workspace.\n",
    "\n",
    "```python\n",
    "# Use pip to install libraries\n",
    "%pip install <library name>\n",
    "\n",
    "# Use conda to install libraries\n",
    "%conda install <library name>\n",
    " \n",
    "```\n",
    "2. Alternatively, you can create a Fabric environment, install libraries from public sources or upload custom libraries to it, and then your workspace admin can attach the environment as the default for the workspace. All the libraries in the environment will then become available for use in any notebooks and Spark job definitions in the workspace. For more information on environments, see [create, configure, and use an environment in Microsoft Fabric](https://aka.ms/fabric/create-environment)."
   ]
  },
  {
   "cell_type": "markdown",
   "id": "a8b39c29-58f7-4f70-8ac3-d9f6e617f5b0",
   "metadata": {
    "nteract": {
     "transient": {
      "deleting": false
     }
    }
   },
   "source": [
    "In this notebook, you need to install Imbalanced-learn (imported as `imblearn`) which is a library for synthetic minority oversampling technique (SMOTE). You will proceed with `%pip install` as was discussed in the first approach. Note that the PySpark kernel will be restarted after `%pip install`, thus you need to install the library before you run any other cells."
   ]
  },
  {
   "cell_type": "code",
   "execution_count": null,
   "id": "a1f8636e-5196-4e36-ace7-59ca190e3f80",
   "metadata": {
    "jupyter": {
     "outputs_hidden": false,
     "source_hidden": false
    },
    "ms_comment_ranges": {},
    "ms_comments": [],
    "nteract": {
     "transient": {
      "deleting": false
     }
    }
   },
   "outputs": [
    {
     "data": {
      "application/vnd.livy.statement-meta+json": {
       "execution_finish_time": "2023-09-08T22:36:59.9555731Z",
       "execution_start_time": "2023-09-08T22:36:57.4388056Z",
       "livy_statement_state": "available",
       "parent_msg_id": "ff455d79-e587-43a8-8d02-29211083e80c",
       "queued_time": "2023-09-08T22:36:45.9159808Z",
       "session_id": "94ef0508-639f-4da3-a5fe-32b612c119d8",
       "session_start_time": null,
       "spark_jobs": {
        "jobs": [],
        "limit": 20,
        "numbers": {
         "FAILED": 0,
         "RUNNING": 0,
         "SUCCEEDED": 0,
         "UNKNOWN": 0
        },
        "rule": "ALL_DESC"
       },
       "spark_pool": null,
       "state": "finished",
       "statement_id": 39
      },
      "text/plain": [
       "StatementMeta(, 94ef0508-639f-4da3-a5fe-32b612c119d8, 39, Finished, Available)"
      ]
     },
     "metadata": {},
     "output_type": "display_data"
    },
    {
     "data": {},
     "execution_count": null,
     "metadata": {},
     "output_type": "execute_result"
    },
    {
     "name": "stdout",
     "output_type": "stream",
     "text": [
      "Requirement already satisfied: imblearn in /nfs4/pyenv-59ec15df-9c44-4aad-96b6-cafc78b122ae/lib/python3.10/site-packages (0.0)\n",
      "Requirement already satisfied: imbalanced-learn in /nfs4/pyenv-59ec15df-9c44-4aad-96b6-cafc78b122ae/lib/python3.10/site-packages (from imblearn) (0.11.0)\n",
      "Requirement already satisfied: numpy>=1.17.3 in /home/trusted-service-user/cluster-env/trident_env/lib/python3.10/site-packages (from imbalanced-learn->imblearn) (1.23.5)\n",
      "Requirement already satisfied: scipy>=1.5.0 in /home/trusted-service-user/cluster-env/trident_env/lib/python3.10/site-packages (from imbalanced-learn->imblearn) (1.10.1)\n",
      "Requirement already satisfied: threadpoolctl>=2.0.0 in /home/trusted-service-user/cluster-env/trident_env/lib/python3.10/site-packages (from imbalanced-learn->imblearn) (3.1.0)\n",
      "Requirement already satisfied: joblib>=1.1.1 in /home/trusted-service-user/cluster-env/trident_env/lib/python3.10/site-packages (from imbalanced-learn->imblearn) (1.2.0)\n",
      "Requirement already satisfied: scikit-learn>=1.0.2 in /home/trusted-service-user/cluster-env/trident_env/lib/python3.10/site-packages (from imbalanced-learn->imblearn) (1.2.0)\n",
      "\n",
      "\u001b[1m[\u001b[0m\u001b[34;49mnotice\u001b[0m\u001b[1;39;49m]\u001b[0m\u001b[39;49m A new release of pip is available: \u001b[0m\u001b[31;49m23.0\u001b[0m\u001b[39;49m -> \u001b[0m\u001b[32;49m23.2.1\u001b[0m\n",
      "\u001b[1m[\u001b[0m\u001b[34;49mnotice\u001b[0m\u001b[1;39;49m]\u001b[0m\u001b[39;49m To update, run: \u001b[0m\u001b[32;49m/nfs4/pyenv-59ec15df-9c44-4aad-96b6-cafc78b122ae/bin/python -m pip install --upgrade pip\u001b[0m\n",
      "Note: you may need to restart the kernel to use updated packages.\n"
     ]
    },
    {
     "data": {},
     "execution_count": null,
     "metadata": {},
     "output_type": "execute_result"
    },
    {
     "name": "stdout",
     "output_type": "stream",
     "text": [
      "Warning: PySpark kernel has been restarted to use updated packages.\n",
      "\n"
     ]
    }
   ],
   "source": [
    "# Using pip to install imblearn\n",
    "%pip install imblearn"
   ]
  },
  {
   "cell_type": "markdown",
   "id": "7f8f9c6e-b18d-4aca-97f5-a3421b631244",
   "metadata": {
    "nteract": {
     "transient": {
      "deleting": false
     }
    }
   },
   "source": [
    "## Step 2: Load the data"
   ]
  },
  {
   "cell_type": "markdown",
   "id": "fe215529-c7f6-4864-b2a1-36a85e676ac5",
   "metadata": {
    "nteract": {
     "transient": {
      "deleting": false
     }
    }
   },
   "source": [
    "### Dataset\n",
    "\n",
    "The dataset simulates logging of a manufacturing machine's parameters as a function of time, which is common in industrial settings. It consists of 10,000 data points stored as rows with features as columns. The features include:\n",
    "1. A Unique Identifier (UID) ranging from 1 to 10000. \n",
    "2. Product ID, consisting of a letter L, M, or H, indicating the product quality variant, and a variant-specific serial number. Low, medium, and high-quality variants make up 60%, 30%, and 10% of all products, respectively.\n",
    "3. Air temperature in Kelvin.\n",
    "4. Process Temperature in Kelvin. \n",
    "5. Rotational Speed in rpm.\n",
    "6. Torque in Nm.\n",
    "7. Tool Wear in minutes. The quality variants H, M, and L add 5, 3, and 2 minutes of tool wear to the used tool in the process, respectively.\n",
    "8. Machine Failure Label, indicating whether the machine has failed in this particular data point for any of the following five independent failure modes:\n",
    "<br/><br/>\n",
    "    - Tool Wear Failure (TWF): the tool is replaced or fails at a randomly selected tool wear time between 200 and 240 minutes.\n",
    "    - Heat Dissipation Failure (HDF): heat dissipation causes a process failure if the difference between air and process temperature is below 8.6 K and the tool's rotational speed is below 1380 rpm.\n",
    "    - Power Failure (PWF): the product of torque and rotational speed (in rad/s) equals the power required for the process. The process fails if this power is below 3500 W or above 9000 W.\n",
    "    - OverStrain Failure (OSF): if the product of tool wear and torque exceeds 11,000 minNm for the L product variant (12,000 M, 13,000 H), the process fails due to overstrain.\n",
    "    - Random Failures (RNF): each process has a chance of 0.1% to fail regardless of its process parameters.\n",
    "\n",
    "> [!NOTE]\n",
    "> If at least one of the above failure modes is true, the process fails, and the `machine failure` label is set to 1. It's therefore not transparent to the machine learning method, which of the failure modes has caused the process to fail."
   ]
  },
  {
   "cell_type": "markdown",
   "id": "4ee4092a-a8e1-435b-9ffd-92d77bfed0a6",
   "metadata": {
    "nteract": {
     "transient": {
      "deleting": false
     }
    }
   },
   "source": [
    "### Download dataset and upload to lakehouse\n",
    "\n",
    "Connect to Azure Open Datasets Container and load the Predictive Maintenance dataset. This code downloads a publicly available version of the dataset and then stores it in a Fabric lakehouse.\n",
    "\n",
    "> [!IMPORTANT]\n",
    "> [Add a lakehouse](https://aka.ms/fabric/addlakehouse) to the notebook before running it. **Failure to do so results in an error.**"
   ]
  },
  {
   "cell_type": "code",
   "execution_count": null,
   "id": "233a7b5f-19c2-4575-879c-6538069fea77",
   "metadata": {
    "jupyter": {
     "outputs_hidden": false,
     "source_hidden": false
    },
    "nteract": {
     "transient": {
      "deleting": false
     }
    }
   },
   "outputs": [
    {
     "data": {
      "application/vnd.livy.statement-meta+json": {
       "execution_finish_time": "2023-09-08T22:37:04.2162262Z",
       "execution_start_time": "2023-09-08T22:37:03.8978716Z",
       "livy_statement_state": "available",
       "parent_msg_id": "ce3c44a9-8c3c-4098-8f4c-6b8c160b5d2d",
       "queued_time": "2023-09-08T22:36:46.0914249Z",
       "session_id": "94ef0508-639f-4da3-a5fe-32b612c119d8",
       "session_start_time": null,
       "spark_jobs": {
        "jobs": [],
        "limit": 20,
        "numbers": {
         "FAILED": 0,
         "RUNNING": 0,
         "SUCCEEDED": 0,
         "UNKNOWN": 0
        },
        "rule": "ALL_DESC"
       },
       "spark_pool": null,
       "state": "finished",
       "statement_id": 41
      },
      "text/plain": [
       "StatementMeta(, 94ef0508-639f-4da3-a5fe-32b612c119d8, 41, Finished, Available)"
      ]
     },
     "metadata": {},
     "output_type": "display_data"
    },
    {
     "name": "stdout",
     "output_type": "stream",
     "text": [
      "Downloaded demo data files into lakehouse.\n"
     ]
    }
   ],
   "source": [
    "# Download demo data files into lakehouse if not exist\n",
    "import os, requests\n",
    "DATA_FOLDER = \"Files/predictive_maintenance/\"  # Folder containing the dataset\n",
    "DATA_FILE = \"predictive_maintenance.csv\"  # Data file name\n",
    "remote_url = \"https://synapseaisolutionsa.blob.core.windows.net/public/MachineFaultDetection\"\n",
    "file_list = [\"predictive_maintenance.csv\"]\n",
    "download_path = f\"/lakehouse/default/{DATA_FOLDER}/raw\"\n",
    "\n",
    "if not os.path.exists(\"/lakehouse/default\"):\n",
    "    raise FileNotFoundError(\n",
    "        \"Default lakehouse not found, please add a lakehouse and restart the session.\"\n",
    "    )\n",
    "os.makedirs(download_path, exist_ok=True)\n",
    "for fname in file_list:\n",
    "    if not os.path.exists(f\"{download_path}/{fname}\"):\n",
    "        r = requests.get(f\"{remote_url}/{fname}\", timeout=30)\n",
    "        with open(f\"{download_path}/{fname}\", \"wb\") as f:\n",
    "            f.write(r.content)\n",
    "print(\"Downloaded demo data files into lakehouse.\")"
   ]
  },
  {
   "cell_type": "markdown",
   "id": "64025cfc-77ce-474b-ac13-0a5a55d5f97f",
   "metadata": {
    "nteract": {
     "transient": {
      "deleting": false
     }
    }
   },
   "source": [
    "Start recording the time it takes to run this notebook."
   ]
  },
  {
   "cell_type": "code",
   "execution_count": null,
   "id": "affe159f-01a7-476f-9782-3e0d617c0e9a",
   "metadata": {
    "jupyter": {
     "outputs_hidden": false,
     "source_hidden": false
    },
    "nteract": {
     "transient": {
      "deleting": false
     }
    }
   },
   "outputs": [
    {
     "data": {
      "application/vnd.livy.statement-meta+json": {
       "execution_finish_time": "2023-09-08T22:37:04.8187138Z",
       "execution_start_time": "2023-09-08T22:37:04.4822441Z",
       "livy_statement_state": "available",
       "parent_msg_id": "2c7ff3e4-bf9c-45a8-9b95-6818d9d92876",
       "queued_time": "2023-09-08T22:36:46.3774527Z",
       "session_id": "94ef0508-639f-4da3-a5fe-32b612c119d8",
       "session_start_time": null,
       "spark_jobs": {
        "jobs": [],
        "limit": 20,
        "numbers": {
         "FAILED": 0,
         "RUNNING": 0,
         "SUCCEEDED": 0,
         "UNKNOWN": 0
        },
        "rule": "ALL_DESC"
       },
       "spark_pool": null,
       "state": "finished",
       "statement_id": 42
      },
      "text/plain": [
       "StatementMeta(, 94ef0508-639f-4da3-a5fe-32b612c119d8, 42, Finished, Available)"
      ]
     },
     "metadata": {},
     "output_type": "display_data"
    }
   ],
   "source": [
    "# Record the notebook running time\n",
    "import time\n",
    "\n",
    "ts = time.time()"
   ]
  },
  {
   "cell_type": "markdown",
   "id": "219750b3-d071-44f8-ac93-17492bc80c11",
   "metadata": {
    "nteract": {
     "transient": {
      "deleting": false
     }
    }
   },
   "source": [
    "Once the dataset is downloaded into the lakehouse, you can load it as a spark DataFrame. "
   ]
  },
  {
   "cell_type": "code",
   "execution_count": null,
   "id": "1d4d4445-554d-44f0-ac52-3968e8fc647e",
   "metadata": {
    "jupyter": {
     "outputs_hidden": false,
     "source_hidden": false
    },
    "nteract": {
     "transient": {
      "deleting": false
     }
    }
   },
   "outputs": [
    {
     "data": {
      "application/vnd.livy.statement-meta+json": {
       "execution_finish_time": "2023-09-08T22:37:06.7625954Z",
       "execution_start_time": "2023-09-08T22:37:05.0927995Z",
       "livy_statement_state": "available",
       "parent_msg_id": "1647be82-1a43-4352-baf4-ddb58810e79f",
       "queued_time": "2023-09-08T22:36:46.9114186Z",
       "session_id": "94ef0508-639f-4da3-a5fe-32b612c119d8",
       "session_start_time": null,
       "spark_jobs": {
        "jobs": [
         {
          "completionTime": "2023-09-08T22:37:06.005GMT",
          "dataRead": 425784,
          "dataWritten": 0,
          "description": "Job group for statement 43:\ndf = (\n    spark.read.option(\"header\", True)\n    .option(\"inferSchema\", True)\n    .csv(f\"{DATA_FOLDER}raw/{DATA_FILE}\")\n    .cache()\n)\ndf.show(5)",
          "displayName": "showString at NativeMethodAccessorImpl.java:0",
          "jobGroup": "43",
          "jobId": 35,
          "killedTasksSummary": {},
          "name": "showString at NativeMethodAccessorImpl.java:0",
          "numActiveStages": 0,
          "numActiveTasks": 0,
          "numCompletedIndices": 1,
          "numCompletedStages": 1,
          "numCompletedTasks": 1,
          "numFailedStages": 0,
          "numFailedTasks": 0,
          "numKilledTasks": 0,
          "numSkippedStages": 0,
          "numSkippedTasks": 0,
          "numTasks": 1,
          "rowCount": 1,
          "stageIds": [
           49
          ],
          "status": "SUCCEEDED",
          "submissionTime": "2023-09-08T22:37:05.983GMT",
          "usageDescription": ""
         },
         {
          "completionTime": "2023-09-08T22:37:05.763GMT",
          "dataRead": 531016,
          "dataWritten": 0,
          "description": "Job group for statement 43:\ndf = (\n    spark.read.option(\"header\", True)\n    .option(\"inferSchema\", True)\n    .csv(f\"{DATA_FOLDER}raw/{DATA_FILE}\")\n    .cache()\n)\ndf.show(5)",
          "displayName": "csv at NativeMethodAccessorImpl.java:0",
          "jobGroup": "43",
          "jobId": 34,
          "killedTasksSummary": {},
          "name": "csv at NativeMethodAccessorImpl.java:0",
          "numActiveStages": 0,
          "numActiveTasks": 0,
          "numCompletedIndices": 1,
          "numCompletedStages": 1,
          "numCompletedTasks": 1,
          "numFailedStages": 0,
          "numFailedTasks": 0,
          "numKilledTasks": 0,
          "numSkippedStages": 0,
          "numSkippedTasks": 0,
          "numTasks": 1,
          "rowCount": 10001,
          "stageIds": [
           48
          ],
          "status": "SUCCEEDED",
          "submissionTime": "2023-09-08T22:37:05.662GMT",
          "usageDescription": ""
         },
         {
          "completionTime": "2023-09-08T22:37:05.607GMT",
          "dataRead": 65536,
          "dataWritten": 0,
          "description": "Job group for statement 43:\ndf = (\n    spark.read.option(\"header\", True)\n    .option(\"inferSchema\", True)\n    .csv(f\"{DATA_FOLDER}raw/{DATA_FILE}\")\n    .cache()\n)\ndf.show(5)",
          "displayName": "csv at NativeMethodAccessorImpl.java:0",
          "jobGroup": "43",
          "jobId": 33,
          "killedTasksSummary": {},
          "name": "csv at NativeMethodAccessorImpl.java:0",
          "numActiveStages": 0,
          "numActiveTasks": 0,
          "numCompletedIndices": 1,
          "numCompletedStages": 1,
          "numCompletedTasks": 1,
          "numFailedStages": 0,
          "numFailedTasks": 0,
          "numKilledTasks": 0,
          "numSkippedStages": 0,
          "numSkippedTasks": 0,
          "numTasks": 1,
          "rowCount": 1,
          "stageIds": [
           47
          ],
          "status": "SUCCEEDED",
          "submissionTime": "2023-09-08T22:37:05.525GMT",
          "usageDescription": ""
         }
        ],
        "limit": 20,
        "numbers": {
         "FAILED": 0,
         "RUNNING": 0,
         "SUCCEEDED": 3,
         "UNKNOWN": 0
        },
        "rule": "ALL_DESC"
       },
       "spark_pool": null,
       "state": "finished",
       "statement_id": 43
      },
      "text/plain": [
       "StatementMeta(, 94ef0508-639f-4da3-a5fe-32b612c119d8, 43, Finished, Available)"
      ]
     },
     "metadata": {},
     "output_type": "display_data"
    },
    {
     "name": "stdout",
     "output_type": "stream",
     "text": [
      "+---+----------+----+-------------------+-----------------------+----------------------+-----------+---------------+------+------------+\n",
      "|UDI|Product ID|Type|Air temperature [K]|Process temperature [K]|Rotational speed [rpm]|Torque [Nm]|Tool wear [min]|Target|Failure Type|\n",
      "+---+----------+----+-------------------+-----------------------+----------------------+-----------+---------------+------+------------+\n",
      "|  1|    M14860|   M|              298.1|                  308.6|                  1551|       42.8|              0|     0|  No Failure|\n",
      "|  2|    L47181|   L|              298.2|                  308.7|                  1408|       46.3|              3|     0|  No Failure|\n",
      "|  3|    L47182|   L|              298.1|                  308.5|                  1498|       49.4|              5|     0|  No Failure|\n",
      "|  4|    L47183|   L|              298.2|                  308.6|                  1433|       39.5|              7|     0|  No Failure|\n",
      "|  5|    L47184|   L|              298.2|                  308.7|                  1408|       40.0|              9|     0|  No Failure|\n",
      "+---+----------+----+-------------------+-----------------------+----------------------+-----------+---------------+------+------------+\n",
      "only showing top 5 rows\n",
      "\n"
     ]
    }
   ],
   "source": [
    "df = (\n",
    "    spark.read.option(\"header\", True)\n",
    "    .option(\"inferSchema\", True)\n",
    "    .csv(f\"{DATA_FOLDER}raw/{DATA_FILE}\")\n",
    "    .cache()\n",
    ")\n",
    "df.show(5)"
   ]
  },
  {
   "cell_type": "markdown",
   "id": "40665025-a328-47c7-a30e-e8f8b51069b5",
   "metadata": {
    "nteract": {
     "transient": {
      "deleting": false
     }
    }
   },
   "source": [
    "### Write Spark DataFrame to lakehouse delta table\n",
    "\n",
    "Format the data (for example, replace space with underscore) to facilitate spark operations in subsequent steps. "
   ]
  },
  {
   "cell_type": "code",
   "execution_count": null,
   "id": "c28272ae-87db-4228-a386-43f79ff3f86f",
   "metadata": {
    "jupyter": {
     "outputs_hidden": false,
     "source_hidden": false
    },
    "ms_comment_ranges": {},
    "ms_comments": [],
    "nteract": {
     "transient": {
      "deleting": false
     }
    }
   },
   "outputs": [
    {
     "data": {
      "application/vnd.livy.statement-meta+json": {
       "execution_finish_time": "2023-09-08T22:37:07.8942418Z",
       "execution_start_time": "2023-09-08T22:37:07.019987Z",
       "livy_statement_state": "available",
       "parent_msg_id": "8f43be6d-c5f4-4580-a7e4-535f4cde25e1",
       "queued_time": "2023-09-08T22:36:47.230389Z",
       "session_id": "94ef0508-639f-4da3-a5fe-32b612c119d8",
       "session_start_time": null,
       "spark_jobs": {
        "jobs": [
         {
          "completionTime": "2023-09-08T22:37:07.237GMT",
          "dataRead": 425784,
          "dataWritten": 0,
          "description": "Job group for statement 44:\n# Replace space in column name with underscore to avoid invalid character while saving \ndf = df.toDF(*(c.replace(' ', '_') for c in df.columns))\ntable_name = \"predictive_maintenance_data\"\ndf.show(5)\n",
          "displayName": "showString at NativeMethodAccessorImpl.java:0",
          "jobGroup": "44",
          "jobId": 36,
          "killedTasksSummary": {},
          "name": "showString at NativeMethodAccessorImpl.java:0",
          "numActiveStages": 0,
          "numActiveTasks": 0,
          "numCompletedIndices": 1,
          "numCompletedStages": 1,
          "numCompletedTasks": 1,
          "numFailedStages": 0,
          "numFailedTasks": 0,
          "numKilledTasks": 0,
          "numSkippedStages": 0,
          "numSkippedTasks": 0,
          "numTasks": 1,
          "rowCount": 1,
          "stageIds": [
           50
          ],
          "status": "SUCCEEDED",
          "submissionTime": "2023-09-08T22:37:07.218GMT",
          "usageDescription": ""
         }
        ],
        "limit": 20,
        "numbers": {
         "FAILED": 0,
         "RUNNING": 0,
         "SUCCEEDED": 1,
         "UNKNOWN": 0
        },
        "rule": "ALL_DESC"
       },
       "spark_pool": null,
       "state": "finished",
       "statement_id": 44
      },
      "text/plain": [
       "StatementMeta(, 94ef0508-639f-4da3-a5fe-32b612c119d8, 44, Finished, Available)"
      ]
     },
     "metadata": {},
     "output_type": "display_data"
    },
    {
     "name": "stdout",
     "output_type": "stream",
     "text": [
      "+---+----------+----+-------------------+-----------------------+----------------------+-----------+---------------+------+------------+\n",
      "|UDI|Product_ID|Type|Air_temperature_[K]|Process_temperature_[K]|Rotational_speed_[rpm]|Torque_[Nm]|Tool_wear_[min]|Target|Failure_Type|\n",
      "+---+----------+----+-------------------+-----------------------+----------------------+-----------+---------------+------+------------+\n",
      "|  1|    M14860|   M|              298.1|                  308.6|                  1551|       42.8|              0|     0|  No Failure|\n",
      "|  2|    L47181|   L|              298.2|                  308.7|                  1408|       46.3|              3|     0|  No Failure|\n",
      "|  3|    L47182|   L|              298.1|                  308.5|                  1498|       49.4|              5|     0|  No Failure|\n",
      "|  4|    L47183|   L|              298.2|                  308.6|                  1433|       39.5|              7|     0|  No Failure|\n",
      "|  5|    L47184|   L|              298.2|                  308.7|                  1408|       40.0|              9|     0|  No Failure|\n",
      "+---+----------+----+-------------------+-----------------------+----------------------+-----------+---------------+------+------------+\n",
      "only showing top 5 rows\n",
      "\n"
     ]
    }
   ],
   "source": [
    "# Replace space in column name with underscore to avoid invalid character while saving \n",
    "df = df.toDF(*(c.replace(' ', '_') for c in df.columns))\n",
    "table_name = \"predictive_maintenance_data\"\n",
    "df.show(5)\n"
   ]
  },
  {
   "cell_type": "code",
   "execution_count": null,
   "id": "dba7e74b-6983-47bc-a89f-50ecdec1cfe3",
   "metadata": {
    "jupyter": {
     "outputs_hidden": false,
     "source_hidden": false
    },
    "nteract": {
     "transient": {
      "deleting": false
     }
    }
   },
   "outputs": [
    {
     "data": {
      "application/vnd.livy.statement-meta+json": {
       "execution_finish_time": "2023-09-08T22:37:11.8823796Z",
       "execution_start_time": "2023-09-08T22:37:08.1552487Z",
       "livy_statement_state": "available",
       "parent_msg_id": "17475a3d-6955-4392-9ecd-dd08f19faf98",
       "queued_time": "2023-09-08T22:36:47.4992106Z",
       "session_id": "94ef0508-639f-4da3-a5fe-32b612c119d8",
       "session_start_time": null,
       "spark_jobs": {
        "jobs": [
         {
          "completionTime": "2023-09-08T22:37:10.823GMT",
          "dataRead": 4472,
          "dataWritten": 0,
          "description": "Delta: Job group for statement 45:\n# Save data with processed columns to the lakehouse \ndf.write.mode(\"overwrite\").format(\"delta\").save(f\"Tables/{table_name}\")\nprint(f\"Spark dataframe saved to delta table: {table_name}\"): Compute snapshot for version: 1",
          "displayName": "toString at String.java:2994",
          "jobGroup": "45",
          "jobId": 42,
          "killedTasksSummary": {},
          "name": "toString at String.java:2994",
          "numActiveStages": 0,
          "numActiveTasks": 0,
          "numCompletedIndices": 1,
          "numCompletedStages": 1,
          "numCompletedTasks": 1,
          "numFailedStages": 0,
          "numFailedTasks": 0,
          "numKilledTasks": 0,
          "numSkippedStages": 2,
          "numSkippedTasks": 52,
          "numTasks": 53,
          "rowCount": 50,
          "stageIds": [
           60,
           61,
           59
          ],
          "status": "SUCCEEDED",
          "submissionTime": "2023-09-08T22:37:10.774GMT",
          "usageDescription": ""
         },
         {
          "completionTime": "2023-09-08T22:37:10.747GMT",
          "dataRead": 3804,
          "dataWritten": 4472,
          "description": "Delta: Job group for statement 45:\n# Save data with processed columns to the lakehouse \ndf.write.mode(\"overwrite\").format(\"delta\").save(f\"Tables/{table_name}\")\nprint(f\"Spark dataframe saved to delta table: {table_name}\"): Compute snapshot for version: 1",
          "displayName": "toString at String.java:2994",
          "jobGroup": "45",
          "jobId": 41,
          "killedTasksSummary": {},
          "name": "toString at String.java:2994",
          "numActiveStages": 0,
          "numActiveTasks": 0,
          "numCompletedIndices": 50,
          "numCompletedStages": 1,
          "numCompletedTasks": 50,
          "numFailedStages": 0,
          "numFailedTasks": 0,
          "numKilledTasks": 0,
          "numSkippedStages": 1,
          "numSkippedTasks": 2,
          "numTasks": 52,
          "rowCount": 57,
          "stageIds": [
           57,
           58
          ],
          "status": "SUCCEEDED",
          "submissionTime": "2023-09-08T22:37:10.065GMT",
          "usageDescription": ""
         },
         {
          "completionTime": "2023-09-08T22:37:09.683GMT",
          "dataRead": 4105,
          "dataWritten": 3804,
          "description": "Delta: Job group for statement 45:\n# Save data with processed columns to the lakehouse \ndf.write.mode(\"overwrite\").format(\"delta\").save(f\"Tables/{table_name}\")\nprint(f\"Spark dataframe saved to delta table: {table_name}\"): Compute snapshot for version: 1",
          "displayName": "toString at String.java:2994",
          "jobGroup": "45",
          "jobId": 40,
          "killedTasksSummary": {},
          "name": "toString at String.java:2994",
          "numActiveStages": 0,
          "numActiveTasks": 0,
          "numCompletedIndices": 2,
          "numCompletedStages": 1,
          "numCompletedTasks": 2,
          "numFailedStages": 0,
          "numFailedTasks": 0,
          "numKilledTasks": 0,
          "numSkippedStages": 0,
          "numSkippedTasks": 0,
          "numTasks": 2,
          "rowCount": 14,
          "stageIds": [
           56
          ],
          "status": "SUCCEEDED",
          "submissionTime": "2023-09-08T22:37:09.527GMT",
          "usageDescription": ""
         },
         {
          "completionTime": "2023-09-08T22:37:09.058GMT",
          "dataRead": 2101,
          "dataWritten": 0,
          "description": "Job group for statement 45:\n# Save data with processed columns to the lakehouse \ndf.write.mode(\"overwrite\").format(\"delta\").save(f\"Tables/{table_name}\")\nprint(f\"Spark dataframe saved to delta table: {table_name}\")",
          "displayName": "$anonfun$recordDeltaOperationInternal$1 at SynapseLoggingShim.scala:95",
          "jobGroup": "45",
          "jobId": 39,
          "killedTasksSummary": {},
          "name": "$anonfun$recordDeltaOperationInternal$1 at SynapseLoggingShim.scala:95",
          "numActiveStages": 0,
          "numActiveTasks": 0,
          "numCompletedIndices": 50,
          "numCompletedStages": 1,
          "numCompletedTasks": 50,
          "numFailedStages": 0,
          "numFailedTasks": 0,
          "numKilledTasks": 0,
          "numSkippedStages": 1,
          "numSkippedTasks": 1,
          "numTasks": 51,
          "rowCount": 3,
          "stageIds": [
           54,
           55
          ],
          "status": "SUCCEEDED",
          "submissionTime": "2023-09-08T22:37:08.881GMT",
          "usageDescription": ""
         },
         {
          "completionTime": "2023-09-08T22:37:08.794GMT",
          "dataRead": 311189,
          "dataWritten": 173151,
          "description": "Job group for statement 45:\n# Save data with processed columns to the lakehouse \ndf.write.mode(\"overwrite\").format(\"delta\").save(f\"Tables/{table_name}\")\nprint(f\"Spark dataframe saved to delta table: {table_name}\")",
          "displayName": "save at NativeMethodAccessorImpl.java:0",
          "jobGroup": "45",
          "jobId": 38,
          "killedTasksSummary": {},
          "name": "save at NativeMethodAccessorImpl.java:0",
          "numActiveStages": 0,
          "numActiveTasks": 0,
          "numCompletedIndices": 1,
          "numCompletedStages": 1,
          "numCompletedTasks": 1,
          "numFailedStages": 0,
          "numFailedTasks": 0,
          "numKilledTasks": 0,
          "numSkippedStages": 1,
          "numSkippedTasks": 1,
          "numTasks": 2,
          "rowCount": 20000,
          "stageIds": [
           52,
           53
          ],
          "status": "SUCCEEDED",
          "submissionTime": "2023-09-08T22:37:08.508GMT",
          "usageDescription": ""
         },
         {
          "completionTime": "2023-09-08T22:37:08.462GMT",
          "dataRead": 425784,
          "dataWritten": 311189,
          "description": "Job group for statement 45:\n# Save data with processed columns to the lakehouse \ndf.write.mode(\"overwrite\").format(\"delta\").save(f\"Tables/{table_name}\")\nprint(f\"Spark dataframe saved to delta table: {table_name}\")",
          "displayName": "save at NativeMethodAccessorImpl.java:0",
          "jobGroup": "45",
          "jobId": 37,
          "killedTasksSummary": {},
          "name": "save at NativeMethodAccessorImpl.java:0",
          "numActiveStages": 0,
          "numActiveTasks": 0,
          "numCompletedIndices": 1,
          "numCompletedStages": 1,
          "numCompletedTasks": 1,
          "numFailedStages": 0,
          "numFailedTasks": 0,
          "numKilledTasks": 0,
          "numSkippedStages": 0,
          "numSkippedTasks": 0,
          "numTasks": 1,
          "rowCount": 10001,
          "stageIds": [
           51
          ],
          "status": "SUCCEEDED",
          "submissionTime": "2023-09-08T22:37:08.406GMT",
          "usageDescription": ""
         }
        ],
        "limit": 20,
        "numbers": {
         "FAILED": 0,
         "RUNNING": 0,
         "SUCCEEDED": 6,
         "UNKNOWN": 0
        },
        "rule": "ALL_DESC"
       },
       "spark_pool": null,
       "state": "finished",
       "statement_id": 45
      },
      "text/plain": [
       "StatementMeta(, 94ef0508-639f-4da3-a5fe-32b612c119d8, 45, Finished, Available)"
      ]
     },
     "metadata": {},
     "output_type": "display_data"
    },
    {
     "name": "stdout",
     "output_type": "stream",
     "text": [
      "Spark dataframe saved to delta table: predictive_maintenance_data\n"
     ]
    }
   ],
   "source": [
    "# Save data with processed columns to the lakehouse \n",
    "df.write.mode(\"overwrite\").format(\"delta\").save(f\"Tables/{table_name}\")\n",
    "print(f\"Spark dataframe saved to delta table: {table_name}\")"
   ]
  },
  {
   "cell_type": "markdown",
   "id": "2f25d20a-f40c-4095-9027-d9e3c257d95c",
   "metadata": {
    "nteract": {
     "transient": {
      "deleting": false
     }
    }
   },
   "source": [
    "## Step 3: Preprocess data and perform exploratory data analysis "
   ]
  },
  {
   "cell_type": "markdown",
   "id": "ed8de02c-7160-4051-97e6-f644831bb0e2",
   "metadata": {
    "nteract": {
     "transient": {
      "deleting": false
     }
    }
   },
   "source": [
    "Convert spark DataFrame to pandas dataFrame to use pandas compatible popular plotting libraries. Note that for large datasets, you may need to load a portion of the dataset. "
   ]
  },
  {
   "cell_type": "code",
   "execution_count": null,
   "id": "555edcb2-dfb9-4464-9432-3d04a508b8dc",
   "metadata": {
    "jupyter": {
     "outputs_hidden": false,
     "source_hidden": false
    },
    "ms_comment_ranges": {},
    "ms_comments": [],
    "nteract": {
     "transient": {
      "deleting": false
     }
    }
   },
   "outputs": [
    {
     "data": {
      "application/vnd.livy.statement-meta+json": {
       "execution_finish_time": "2023-09-08T22:37:13.7978629Z",
       "execution_start_time": "2023-09-08T22:37:12.1400621Z",
       "livy_statement_state": "available",
       "parent_msg_id": "750cea6d-ae34-4c6c-8756-db275178f5d1",
       "queued_time": "2023-09-08T22:36:47.7560901Z",
       "session_id": "94ef0508-639f-4da3-a5fe-32b612c119d8",
       "session_start_time": null,
       "spark_jobs": {
        "jobs": [],
        "limit": 20,
        "numbers": {
         "FAILED": 0,
         "RUNNING": 0,
         "SUCCEEDED": 0,
         "UNKNOWN": 0
        },
        "rule": "ALL_DESC"
       },
       "spark_pool": null,
       "state": "finished",
       "statement_id": 46
      },
      "text/plain": [
       "StatementMeta(, 94ef0508-639f-4da3-a5fe-32b612c119d8, 46, Finished, Available)"
      ]
     },
     "metadata": {},
     "output_type": "display_data"
    },
    {
     "name": "stdout",
     "output_type": "stream",
     "text": [
      "<class 'pandas.core.frame.DataFrame'>\n",
      "RangeIndex: 10000 entries, 0 to 9999\n",
      "Data columns (total 8 columns):\n",
      " #   Column                   Non-Null Count  Dtype  \n",
      "---  ------                   --------------  -----  \n",
      " 0   Type                     10000 non-null  object \n",
      " 1   Air_temperature_[K]      10000 non-null  float64\n",
      " 2   Process_temperature_[K]  10000 non-null  float64\n",
      " 3   Rotational_speed_[rpm]   10000 non-null  int32  \n",
      " 4   Torque_[Nm]              10000 non-null  float64\n",
      " 5   Tool_wear_[min]          10000 non-null  int32  \n",
      " 6   IsFail                   10000 non-null  int32  \n",
      " 7   Failure_Type             10000 non-null  object \n",
      "dtypes: float64(3), int32(3), object(2)\n",
      "memory usage: 507.9+ KB\n"
     ]
    }
   ],
   "source": [
    "data = spark.read.format(\"delta\").load(\"Tables/predictive_maintenance_data\")\n",
    "SEED = 1234\n",
    "df = data.toPandas()\n",
    "df.drop(['UDI', 'Product_ID'],axis=1,inplace=True)\n",
    "# Rename the Target column to IsFail\n",
    "df = df.rename(columns = {'Target': \"IsFail\"})\n",
    "df.info()"
   ]
  },
  {
   "cell_type": "markdown",
   "id": "4ae92a93-dd5c-429c-8f36-a3318fb960d5",
   "metadata": {
    "nteract": {
     "transient": {
      "deleting": false
     }
    }
   },
   "source": [
    "Convert specific columns of the dataset to floats and integer types and map strings such as [`L`, `M`, `H`] to numerical values [0, 1, 2]."
   ]
  },
  {
   "cell_type": "code",
   "execution_count": null,
   "id": "f8b6b8d1-e340-4d8b-81ca-933e26bbbf6a",
   "metadata": {
    "jupyter": {
     "outputs_hidden": false,
     "source_hidden": false
    },
    "nteract": {
     "transient": {
      "deleting": false
     }
    }
   },
   "outputs": [
    {
     "data": {
      "application/vnd.livy.statement-meta+json": {
       "execution_finish_time": "2023-09-08T22:37:14.3912062Z",
       "execution_start_time": "2023-09-08T22:37:14.0682095Z",
       "livy_statement_state": "available",
       "parent_msg_id": "d069054e-a9ef-4fb6-b24a-d939a3b73d3c",
       "queued_time": "2023-09-08T22:36:48.0022251Z",
       "session_id": "94ef0508-639f-4da3-a5fe-32b612c119d8",
       "session_start_time": null,
       "spark_jobs": {
        "jobs": [],
        "limit": 20,
        "numbers": {
         "FAILED": 0,
         "RUNNING": 0,
         "SUCCEEDED": 0,
         "UNKNOWN": 0
        },
        "rule": "ALL_DESC"
       },
       "spark_pool": null,
       "state": "finished",
       "statement_id": 47
      },
      "text/plain": [
       "StatementMeta(, 94ef0508-639f-4da3-a5fe-32b612c119d8, 47, Finished, Available)"
      ]
     },
     "metadata": {},
     "output_type": "display_data"
    }
   ],
   "source": [
    "# Convert temperature, rotational speed, torque, and tool wear columns to float\n",
    "df['Air_temperature_[K]'] = df['Air_temperature_[K]'].astype(float)\n",
    "df['Process_temperature_[K]'] = df['Process_temperature_[K]'].astype(float)\n",
    "df['Rotational_speed_[rpm]'] = df['Rotational_speed_[rpm]'].astype(float)\n",
    "df['Torque_[Nm]'] = df['Torque_[Nm]'].astype(float)\n",
    "df['Tool_wear_[min]'] = df['Tool_wear_[min]'].astype(float)\n",
    "\n",
    "# Convert the 'Target' column to integer \n",
    "df['IsFail'] = df['IsFail'].astype(int)\n",
    "# Map 'L', 'M', 'H' to numerical values \n",
    "df['Type'] = df['Type'].map({'L': 0, 'M': 1, 'H': 2})"
   ]
  },
  {
   "cell_type": "markdown",
   "id": "c42965c0-1aa6-41e9-a0e3-cab18a5ec2f4",
   "metadata": {
    "nteract": {
     "transient": {
      "deleting": false
     }
    }
   },
   "source": [
    "### Explore data through visualizations"
   ]
  },
  {
   "cell_type": "code",
   "execution_count": null,
   "id": "0c4a4d96-86ae-4325-abe9-ae3440e982c3",
   "metadata": {
    "jupyter": {
     "outputs_hidden": false,
     "source_hidden": false
    },
    "nteract": {
     "transient": {
      "deleting": false
     }
    }
   },
   "outputs": [
    {
     "data": {
      "application/vnd.livy.statement-meta+json": {
       "execution_finish_time": "2023-09-08T22:37:16.2958363Z",
       "execution_start_time": "2023-09-08T22:37:14.6582358Z",
       "livy_statement_state": "available",
       "parent_msg_id": "e7f5298d-9809-41d7-9109-d46f68ba56bc",
       "queued_time": "2023-09-08T22:36:48.3022334Z",
       "session_id": "94ef0508-639f-4da3-a5fe-32b612c119d8",
       "session_start_time": null,
       "spark_jobs": {
        "jobs": [],
        "limit": 20,
        "numbers": {
         "FAILED": 0,
         "RUNNING": 0,
         "SUCCEEDED": 0,
         "UNKNOWN": 0
        },
        "rule": "ALL_DESC"
       },
       "spark_pool": null,
       "state": "finished",
       "statement_id": 48
      },
      "text/plain": [
       "StatementMeta(, 94ef0508-639f-4da3-a5fe-32b612c119d8, 48, Finished, Available)"
      ]
     },
     "metadata": {},
     "output_type": "display_data"
    },
    {
     "data": {
      "image/png": "[encoded data removed]",
      "text/plain": [
       "<Figure size 1000x800 with 2 Axes>"
      ]
     },
     "metadata": {},
     "output_type": "display_data"
    }
   ],
   "source": [
    "# Import packages and set plotting style\n",
    "import seaborn as sns\n",
    "import matplotlib.pyplot as plt\n",
    "import pandas as pd\n",
    "sns.set_style('darkgrid')\n",
    "\n",
    "# Create the correlation matrix\n",
    "corr_matrix = df.corr(numeric_only=True)\n",
    "\n",
    "# Plot a heatmap\n",
    "plt.figure(figsize=(10, 8))\n",
    "sns.heatmap(corr_matrix, annot=True)\n",
    "plt.show()"
   ]
  },
  {
   "cell_type": "markdown",
   "id": "1e80d69c-6e53-4c24-9feb-3895684e1e4b",
   "metadata": {
    "nteract": {
     "transient": {
      "deleting": false
     }
    }
   },
   "source": [
    "The correlation matrix shows that `Air_temperature`, `Process_temperature`, `Rotational_speed`, `Torque`, and `Tool_wear` have the highest correlation with the `IsFail` variable."
   ]
  },
  {
   "cell_type": "code",
   "execution_count": null,
   "id": "3b9acf2a-4510-4f76-b2b2-583601754c7d",
   "metadata": {
    "jupyter": {
     "outputs_hidden": false,
     "source_hidden": false
    },
    "nteract": {
     "transient": {
      "deleting": false
     }
    }
   },
   "outputs": [
    {
     "data": {
      "application/vnd.livy.statement-meta+json": {
       "execution_finish_time": "2023-09-08T22:37:18.2082664Z",
       "execution_start_time": "2023-09-08T22:37:16.5631714Z",
       "livy_statement_state": "available",
       "parent_msg_id": "df966d9f-ac85-47af-8caa-fd22dca1e4c6",
       "queued_time": "2023-09-08T22:36:48.5387533Z",
       "session_id": "94ef0508-639f-4da3-a5fe-32b612c119d8",
       "session_start_time": null,
       "spark_jobs": {
        "jobs": [],
        "limit": 20,
        "numbers": {
         "FAILED": 0,
         "RUNNING": 0,
         "SUCCEEDED": 0,
         "UNKNOWN": 0
        },
        "rule": "ALL_DESC"
       },
       "spark_pool": null,
       "state": "finished",
       "statement_id": 49
      },
      "text/plain": [
       "StatementMeta(, 94ef0508-639f-4da3-a5fe-32b612c119d8, 49, Finished, Available)"
      ]
     },
     "metadata": {},
     "output_type": "display_data"
    },
    {
     "data": {
      "image/png": "[encoded data removed]",
      "text/plain": [
       "<Figure size 1800x1000 with 5 Axes>"
      ]
     },
     "metadata": {},
     "output_type": "display_data"
    }
   ],
   "source": [
    "# Plot histograms of select features\n",
    "fig, axes = plt.subplots(2, 3, figsize=(18,10))\n",
    "columns = ['Air_temperature_[K]', 'Process_temperature_[K]', 'Rotational_speed_[rpm]', 'Torque_[Nm]', 'Tool_wear_[min]']\n",
    "data=df.copy()\n",
    "for ind, item in enumerate (columns):\n",
    "    column = columns[ind]\n",
    "    df_column = data[column]\n",
    "    df_column.hist(ax = axes[ind%2][ind//2], bins=32).set_title(item)\n",
    "fig.supylabel('count')\n",
    "fig.subplots_adjust(hspace=0.2)\n",
    "fig.delaxes(axes[1,2])"
   ]
  },
  {
   "cell_type": "markdown",
   "id": "f43bb8a2-a7ba-466d-9b0c-1ed93ea9d649",
   "metadata": {
    "nteract": {
     "transient": {
      "deleting": false
     }
    }
   },
   "source": [
    "As can be seen from the plotted graphs, the `Air_temperature`, `Process_temperature`, `Rotational_speed`, `Torque`, and `Tool_wear` variables aren't sparse and appear to have good continuity in the feature space. These plots confirm that training a machine learning model on this dataset is likely to produce results that are reliable and can be generalized to new dataset.    "
   ]
  },
  {
   "cell_type": "markdown",
   "id": "3347ff04-7294-45c7-a2a3-9c741f07a453",
   "metadata": {
    "nteract": {
     "transient": {
      "deleting": false
     }
    }
   },
   "source": [
    "### Inspect the target variable for class imbalance \n",
    "\n",
    "Count the number of samples for failed and unfailed machines and inspect the data balance for each class (`IsFail`=0, `IsFail`=1). "
   ]
  },
  {
   "cell_type": "code",
   "execution_count": null,
   "id": "6f7b69c3-3203-4612-a7f8-a67a0c44ada9",
   "metadata": {
    "jupyter": {
     "outputs_hidden": false,
     "source_hidden": false
    },
    "nteract": {
     "transient": {
      "deleting": false
     }
    }
   },
   "outputs": [
    {
     "data": {
      "application/vnd.livy.statement-meta+json": {
       "execution_finish_time": "2023-09-08T22:37:19.3979098Z",
       "execution_start_time": "2023-09-08T22:37:18.4841104Z",
       "livy_statement_state": "available",
       "parent_msg_id": "525aa172-cc35-4208-9eff-b37d292ef589",
       "queued_time": "2023-09-08T22:36:48.7234292Z",
       "session_id": "94ef0508-639f-4da3-a5fe-32b612c119d8",
       "session_start_time": null,
       "spark_jobs": {
        "jobs": [],
        "limit": 20,
        "numbers": {
         "FAILED": 0,
         "RUNNING": 0,
         "SUCCEEDED": 0,
         "UNKNOWN": 0
        },
        "rule": "ALL_DESC"
       },
       "spark_pool": null,
       "state": "finished",
       "statement_id": 50
      },
      "text/plain": [
       "StatementMeta(, 94ef0508-639f-4da3-a5fe-32b612c119d8, 50, Finished, Available)"
      ]
     },
     "metadata": {},
     "output_type": "display_data"
    },
    {
     "data": {
      "image/png": "[encoded data removed]",
      "text/plain": [
       "<Figure size 1200x200 with 1 Axes>"
      ]
     },
     "metadata": {},
     "output_type": "display_data"
    },
    {
     "data": {
      "image/png": "[encoded data removed]",
      "text/plain": [
       "<Figure size 400x200 with 1 Axes>"
      ]
     },
     "metadata": {},
     "output_type": "display_data"
    }
   ],
   "source": [
    "# Plot the counts for no-failure and each failure types\n",
    "plt.figure(figsize=(12, 2))\n",
    "ax = sns.countplot(x='Failure_Type', data=df)\n",
    "for p in ax.patches:\n",
    "    ax.annotate(f'{p.get_height()}', (p.get_x()+0.4, p.get_height()+50))\n",
    "\n",
    "plt.show()\n",
    "\n",
    "# Plot the counts for no failure versus sum of all failure types\n",
    "plt.figure(figsize=(4, 2))\n",
    "ax = sns.countplot(x='IsFail', data=df)\n",
    "for p in ax.patches:\n",
    "    ax.annotate(f'{p.get_height()}', (p.get_x()+0.4, p.get_height()+50))\n",
    "\n",
    "plt.show()\n"
   ]
  },
  {
   "cell_type": "markdown",
   "id": "aca13dde-1bec-4092-b0b5-92df24311bca",
   "metadata": {
    "nteract": {
     "transient": {
      "deleting": false
     }
    }
   },
   "source": [
    "The plots indicate that the no failure class (shown as `IsFail=0` in the second plot) constitutes most of the samples. Use an oversampling technique to create a more balanced training dataset."
   ]
  },
  {
   "cell_type": "code",
   "execution_count": null,
   "id": "29daffc3-cea3-43ac-b348-c45d2d18645b",
   "metadata": {
    "jupyter": {
     "outputs_hidden": false,
     "source_hidden": false
    },
    "nteract": {
     "transient": {
      "deleting": false
     }
    }
   },
   "outputs": [
    {
     "data": {
      "application/vnd.livy.statement-meta+json": {
       "execution_finish_time": "2023-09-08T22:37:19.9904206Z",
       "execution_start_time": "2023-09-08T22:37:19.6696313Z",
       "livy_statement_state": "available",
       "parent_msg_id": "781d8a80-f1b4-4376-88c0-74b1c858df0c",
       "queued_time": "2023-09-08T22:36:48.9070283Z",
       "session_id": "94ef0508-639f-4da3-a5fe-32b612c119d8",
       "session_start_time": null,
       "spark_jobs": {
        "jobs": [],
        "limit": 20,
        "numbers": {
         "FAILED": 0,
         "RUNNING": 0,
         "SUCCEEDED": 0,
         "UNKNOWN": 0
        },
        "rule": "ALL_DESC"
       },
       "spark_pool": null,
       "state": "finished",
       "statement_id": 51
      },
      "text/plain": [
       "StatementMeta(, 94ef0508-639f-4da3-a5fe-32b612c119d8, 51, Finished, Available)"
      ]
     },
     "metadata": {},
     "output_type": "display_data"
    }
   ],
   "source": [
    "# Separate features and target\n",
    "features = df[['Type', 'Air_temperature_[K]', 'Process_temperature_[K]', 'Rotational_speed_[rpm]', 'Torque_[Nm]', 'Tool_wear_[min]']]\n",
    "labels = df['IsFail']"
   ]
  },
  {
   "cell_type": "code",
   "execution_count": null,
   "id": "fa7c7990-5a4e-421f-aed9-29f69071b79b",
   "metadata": {
    "jupyter": {
     "outputs_hidden": false,
     "source_hidden": false
    },
    "nteract": {
     "transient": {
      "deleting": false
     }
    }
   },
   "outputs": [
    {
     "data": {
      "application/vnd.livy.statement-meta+json": {
       "execution_finish_time": "2023-09-08T22:37:21.2101915Z",
       "execution_start_time": "2023-09-08T22:37:20.2534865Z",
       "livy_statement_state": "available",
       "parent_msg_id": "a066f769-204e-4b94-aef2-e4bc58f44e74",
       "queued_time": "2023-09-08T22:36:49.0750504Z",
       "session_id": "94ef0508-639f-4da3-a5fe-32b612c119d8",
       "session_start_time": null,
       "spark_jobs": {
        "jobs": [],
        "limit": 20,
        "numbers": {
         "FAILED": 0,
         "RUNNING": 0,
         "SUCCEEDED": 0,
         "UNKNOWN": 0
        },
        "rule": "ALL_DESC"
       },
       "spark_pool": null,
       "state": "finished",
       "statement_id": 52
      },
      "text/plain": [
       "StatementMeta(, 94ef0508-639f-4da3-a5fe-32b612c119d8, 52, Finished, Available)"
      ]
     },
     "metadata": {},
     "output_type": "display_data"
    }
   ],
   "source": [
    "# Split the dataset into the train and test sets\n",
    "from sklearn.model_selection import train_test_split\n",
    "X_train, X_test, y_train, y_test = train_test_split(features, labels, test_size=0.2, random_state=42)"
   ]
  },
  {
   "cell_type": "code",
   "execution_count": null,
   "id": "a8b539a1-20cd-4e2f-9fc6-a88c94ca7cee",
   "metadata": {
    "jupyter": {
     "outputs_hidden": false,
     "source_hidden": false
    },
    "nteract": {
     "transient": {
      "deleting": false
     }
    }
   },
   "outputs": [
    {
     "data": {
      "application/vnd.livy.statement-meta+json": {
       "execution_finish_time": "2023-09-08T22:37:24.1012003Z",
       "execution_start_time": "2023-09-08T22:37:21.5159344Z",
       "livy_statement_state": "available",
       "parent_msg_id": "4c1dba72-97cf-4024-b787-1a6ca90f63bd",
       "queued_time": "2023-09-08T22:36:49.2522692Z",
       "session_id": "94ef0508-639f-4da3-a5fe-32b612c119d8",
       "session_start_time": null,
       "spark_jobs": {
        "jobs": [
         {
          "completionTime": "2023-09-08T22:37:23.774GMT",
          "dataRead": 4404,
          "dataWritten": 0,
          "description": "Delta: Job group for statement 53:\n# Ignore warnings\nimport warnings\nwarnings.filterwarnings('ignore')\n# Save test data to lakehouse for use in future\ntable_name = \"predictive_maintenance_test_data\"\ndf_test_X = spark.createDataFrame(X_test)\ndf_test_X.write.mode(\"overwrite\").format(\"delta\").save(f\"Tables/{table_name}\")\nprint(f\"Spark dataframe saved to delta table: {table_name}\"): Compute snapshot for version: 1",
          "displayName": "toString at String.java:2994",
          "jobGroup": "53",
          "jobId": 50,
          "killedTasksSummary": {},
          "name": "toString at String.java:2994",
          "numActiveStages": 0,
          "numActiveTasks": 0,
          "numCompletedIndices": 1,
          "numCompletedStages": 1,
          "numCompletedTasks": 1,
          "numFailedStages": 0,
          "numFailedTasks": 0,
          "numKilledTasks": 0,
          "numSkippedStages": 2,
          "numSkippedTasks": 52,
          "numTasks": 53,
          "rowCount": 50,
          "stageIds": [
           74,
           75,
           73
          ],
          "status": "SUCCEEDED",
          "submissionTime": "2023-09-08T22:37:23.737GMT",
          "usageDescription": ""
         },
         {
          "completionTime": "2023-09-08T22:37:23.691GMT",
          "dataRead": 3499,
          "dataWritten": 4404,
          "description": "Delta: Job group for statement 53:\n# Ignore warnings\nimport warnings\nwarnings.filterwarnings('ignore')\n# Save test data to lakehouse for use in future\ntable_name = \"predictive_maintenance_test_data\"\ndf_test_X = spark.createDataFrame(X_test)\ndf_test_X.write.mode(\"overwrite\").format(\"delta\").save(f\"Tables/{table_name}\")\nprint(f\"Spark dataframe saved to delta table: {table_name}\"): Compute snapshot for version: 1",
          "displayName": "toString at String.java:2994",
          "jobGroup": "53",
          "jobId": 49,
          "killedTasksSummary": {},
          "name": "toString at String.java:2994",
          "numActiveStages": 0,
          "numActiveTasks": 0,
          "numCompletedIndices": 50,
          "numCompletedStages": 1,
          "numCompletedTasks": 50,
          "numFailedStages": 0,
          "numFailedTasks": 0,
          "numKilledTasks": 0,
          "numSkippedStages": 1,
          "numSkippedTasks": 2,
          "numTasks": 52,
          "rowCount": 57,
          "stageIds": [
           71,
           72
          ],
          "status": "SUCCEEDED",
          "submissionTime": "2023-09-08T22:37:22.996GMT",
          "usageDescription": ""
         },
         {
          "completionTime": "2023-09-08T22:37:22.635GMT",
          "dataRead": 3287,
          "dataWritten": 3499,
          "description": "Delta: Job group for statement 53:\n# Ignore warnings\nimport warnings\nwarnings.filterwarnings('ignore')\n# Save test data to lakehouse for use in future\ntable_name = \"predictive_maintenance_test_data\"\ndf_test_X = spark.createDataFrame(X_test)\ndf_test_X.write.mode(\"overwrite\").format(\"delta\").save(f\"Tables/{table_name}\")\nprint(f\"Spark dataframe saved to delta table: {table_name}\"): Compute snapshot for version: 1",
          "displayName": "toString at String.java:2994",
          "jobGroup": "53",
          "jobId": 48,
          "killedTasksSummary": {},
          "name": "toString at String.java:2994",
          "numActiveStages": 0,
          "numActiveTasks": 0,
          "numCompletedIndices": 2,
          "numCompletedStages": 1,
          "numCompletedTasks": 2,
          "numFailedStages": 0,
          "numFailedTasks": 0,
          "numKilledTasks": 0,
          "numSkippedStages": 0,
          "numSkippedTasks": 0,
          "numTasks": 2,
          "rowCount": 14,
          "stageIds": [
           70
          ],
          "status": "SUCCEEDED",
          "submissionTime": "2023-09-08T22:37:22.524GMT",
          "usageDescription": ""
         },
         {
          "completionTime": "2023-09-08T22:37:22.144GMT",
          "dataRead": 1908,
          "dataWritten": 0,
          "description": "Job group for statement 53:\n# Ignore warnings\nimport warnings\nwarnings.filterwarnings('ignore')\n# Save test data to lakehouse for use in future\ntable_name = \"predictive_maintenance_test_data\"\ndf_test_X = spark.createDataFrame(X_test)\ndf_test_X.write.mode(\"overwrite\").format(\"delta\").save(f\"Tables/{table_name}\")\nprint(f\"Spark dataframe saved to delta table: {table_name}\")",
          "displayName": "$anonfun$recordDeltaOperationInternal$1 at SynapseLoggingShim.scala:95",
          "jobGroup": "53",
          "jobId": 47,
          "killedTasksSummary": {},
          "name": "$anonfun$recordDeltaOperationInternal$1 at SynapseLoggingShim.scala:95",
          "numActiveStages": 0,
          "numActiveTasks": 0,
          "numCompletedIndices": 50,
          "numCompletedStages": 1,
          "numCompletedTasks": 50,
          "numFailedStages": 0,
          "numFailedTasks": 0,
          "numKilledTasks": 0,
          "numSkippedStages": 1,
          "numSkippedTasks": 1,
          "numTasks": 51,
          "rowCount": 3,
          "stageIds": [
           68,
           69
          ],
          "status": "SUCCEEDED",
          "submissionTime": "2023-09-08T22:37:22.015GMT",
          "usageDescription": ""
         },
         {
          "completionTime": "2023-09-08T22:37:21.890GMT",
          "dataRead": 47356,
          "dataWritten": 18729,
          "description": "Job group for statement 53:\n# Ignore warnings\nimport warnings\nwarnings.filterwarnings('ignore')\n# Save test data to lakehouse for use in future\ntable_name = \"predictive_maintenance_test_data\"\ndf_test_X = spark.createDataFrame(X_test)\ndf_test_X.write.mode(\"overwrite\").format(\"delta\").save(f\"Tables/{table_name}\")\nprint(f\"Spark dataframe saved to delta table: {table_name}\")",
          "displayName": "save at NativeMethodAccessorImpl.java:0",
          "jobGroup": "53",
          "jobId": 46,
          "killedTasksSummary": {},
          "name": "save at NativeMethodAccessorImpl.java:0",
          "numActiveStages": 0,
          "numActiveTasks": 0,
          "numCompletedIndices": 1,
          "numCompletedStages": 1,
          "numCompletedTasks": 1,
          "numFailedStages": 0,
          "numFailedTasks": 0,
          "numKilledTasks": 0,
          "numSkippedStages": 1,
          "numSkippedTasks": 8,
          "numTasks": 9,
          "rowCount": 4000,
          "stageIds": [
           66,
           67
          ],
          "status": "SUCCEEDED",
          "submissionTime": "2023-09-08T22:37:21.664GMT",
          "usageDescription": ""
         },
         {
          "completionTime": "2023-09-08T22:37:21.616GMT",
          "dataRead": 0,
          "dataWritten": 47356,
          "description": "Job group for statement 53:\n# Ignore warnings\nimport warnings\nwarnings.filterwarnings('ignore')\n# Save test data to lakehouse for use in future\ntable_name = \"predictive_maintenance_test_data\"\ndf_test_X = spark.createDataFrame(X_test)\ndf_test_X.write.mode(\"overwrite\").format(\"delta\").save(f\"Tables/{table_name}\")\nprint(f\"Spark dataframe saved to delta table: {table_name}\")",
          "displayName": "save at NativeMethodAccessorImpl.java:0",
          "jobGroup": "53",
          "jobId": 45,
          "killedTasksSummary": {},
          "name": "save at NativeMethodAccessorImpl.java:0",
          "numActiveStages": 0,
          "numActiveTasks": 0,
          "numCompletedIndices": 8,
          "numCompletedStages": 1,
          "numCompletedTasks": 8,
          "numFailedStages": 0,
          "numFailedTasks": 0,
          "numKilledTasks": 0,
          "numSkippedStages": 0,
          "numSkippedTasks": 0,
          "numTasks": 8,
          "rowCount": 2000,
          "stageIds": [
           65
          ],
          "status": "SUCCEEDED",
          "submissionTime": "2023-09-08T22:37:21.589GMT",
          "usageDescription": ""
         }
        ],
        "limit": 20,
        "numbers": {
         "FAILED": 0,
         "RUNNING": 0,
         "SUCCEEDED": 6,
         "UNKNOWN": 0
        },
        "rule": "ALL_DESC"
       },
       "spark_pool": null,
       "state": "finished",
       "statement_id": 53
      },
      "text/plain": [
       "StatementMeta(, 94ef0508-639f-4da3-a5fe-32b612c119d8, 53, Finished, Available)"
      ]
     },
     "metadata": {},
     "output_type": "display_data"
    },
    {
     "name": "stdout",
     "output_type": "stream",
     "text": [
      "Spark dataframe saved to delta table: predictive_maintenance_test_data\n"
     ]
    }
   ],
   "source": [
    "# Ignore warnings\n",
    "import warnings\n",
    "warnings.filterwarnings('ignore')\n",
    "# Save test data to lakehouse for use in future\n",
    "table_name = \"predictive_maintenance_test_data\"\n",
    "df_test_X = spark.createDataFrame(X_test)\n",
    "df_test_X.write.mode(\"overwrite\").format(\"delta\").save(f\"Tables/{table_name}\")\n",
    "print(f\"Spark dataframe saved to delta table: {table_name}\")"
   ]
  },
  {
   "cell_type": "markdown",
   "id": "e688e1fc-2d8b-4764-afd2-57d6334f11dc",
   "metadata": {
    "nteract": {
     "transient": {
      "deleting": false
     }
    }
   },
   "source": [
    "### Oversample to balance classes the training dataset\n",
    "\n",
    "The previous analysis showed that the dataset is highly imbalanced. The problem with imbalanced classification is that there are too few examples of the minority class for a model to effectively learn the decision boundary. \n",
    "\n",
    "Use [<span style=\"color:blue\">SMOTE</span>](https://imbalanced-learn.org/stable/references/generated/imblearn.over_sampling.SMOTE.html), which is a widely used oversampling technique that generates synthetic examples. It generates examples for the minority class based on the distances between data points using Euclidean distance. This method is different from random oversampling as it creates new examples that aren't just duplicates of the minority class, making it a more effective technique for imbalanced datasets.\n",
    "\n",
    "Note that you will be able to access SMOTE using the `imblearn` library that you installed in Step 1.\n"
   ]
  },
  {
   "cell_type": "code",
   "execution_count": null,
   "id": "482a4ba9-c71c-454b-8b31-14121afe2dac",
   "metadata": {
    "jupyter": {
     "outputs_hidden": false,
     "source_hidden": false
    },
    "nteract": {
     "transient": {
      "deleting": false
     }
    }
   },
   "outputs": [
    {
     "data": {
      "application/vnd.livy.statement-meta+json": {
       "execution_finish_time": "2023-09-08T22:37:24.7284517Z",
       "execution_start_time": "2023-09-08T22:37:24.3731774Z",
       "livy_statement_state": "available",
       "parent_msg_id": "e514baf6-61b6-4f51-8036-8bf08ed6355c",
       "queued_time": "2023-09-08T22:36:49.4282263Z",
       "session_id": "94ef0508-639f-4da3-a5fe-32b612c119d8",
       "session_start_time": null,
       "spark_jobs": {
        "jobs": [],
        "limit": 20,
        "numbers": {
         "FAILED": 0,
         "RUNNING": 0,
         "SUCCEEDED": 0,
         "UNKNOWN": 0
        },
        "rule": "ALL_DESC"
       },
       "spark_pool": null,
       "state": "finished",
       "statement_id": 54
      },
      "text/plain": [
       "StatementMeta(, 94ef0508-639f-4da3-a5fe-32b612c119d8, 54, Finished, Available)"
      ]
     },
     "metadata": {},
     "output_type": "display_data"
    }
   ],
   "source": [
    "# Disable MLflow autologging to avoid tracking the SMOTE fitting\n",
    "import mlflow\n",
    "\n",
    "mlflow.autolog(disable=True)"
   ]
  },
  {
   "cell_type": "code",
   "execution_count": null,
   "id": "4ab8ca69-60bc-469d-82f5-14994cd9e40c",
   "metadata": {
    "jupyter": {
     "outputs_hidden": false,
     "source_hidden": false
    },
    "nteract": {
     "transient": {
      "deleting": false
     }
    }
   },
   "outputs": [
    {
     "data": {
      "application/vnd.livy.statement-meta+json": {
       "execution_finish_time": "2023-09-08T22:37:26.1433244Z",
       "execution_start_time": "2023-09-08T22:37:25.7928225Z",
       "livy_statement_state": "available",
       "parent_msg_id": "cf8078e4-cfb5-41e3-a34a-2fd5f2e7872b",
       "queued_time": "2023-09-08T22:36:49.5976605Z",
       "session_id": "94ef0508-639f-4da3-a5fe-32b612c119d8",
       "session_start_time": null,
       "spark_jobs": {
        "jobs": [],
        "limit": 20,
        "numbers": {
         "FAILED": 0,
         "RUNNING": 0,
         "SUCCEEDED": 0,
         "UNKNOWN": 0
        },
        "rule": "ALL_DESC"
       },
       "spark_pool": null,
       "state": "finished",
       "statement_id": 55
      },
      "text/plain": [
       "StatementMeta(, 94ef0508-639f-4da3-a5fe-32b612c119d8, 55, Finished, Available)"
      ]
     },
     "metadata": {},
     "output_type": "display_data"
    }
   ],
   "source": [
    "from imblearn.combine import SMOTETomek\n",
    "smt = SMOTETomek(random_state=SEED)\n",
    "X_train_res, y_train_res = smt.fit_resample(X_train, y_train)"
   ]
  },
  {
   "cell_type": "code",
   "execution_count": null,
   "id": "f2823846-fa76-4871-877c-7545d7110382",
   "metadata": {
    "jupyter": {
     "outputs_hidden": false,
     "source_hidden": false
    },
    "nteract": {
     "transient": {
      "deleting": false
     }
    }
   },
   "outputs": [
    {
     "data": {
      "application/vnd.livy.statement-meta+json": {
       "execution_finish_time": "2023-09-08T22:37:26.7620092Z",
       "execution_start_time": "2023-09-08T22:37:26.4180664Z",
       "livy_statement_state": "available",
       "parent_msg_id": "e92175a1-f141-4ebe-8efa-fbb7efc11336",
       "queued_time": "2023-09-08T22:36:49.7721855Z",
       "session_id": "94ef0508-639f-4da3-a5fe-32b612c119d8",
       "session_start_time": null,
       "spark_jobs": {
        "jobs": [],
        "limit": 20,
        "numbers": {
         "FAILED": 0,
         "RUNNING": 0,
         "SUCCEEDED": 0,
         "UNKNOWN": 0
        },
        "rule": "ALL_DESC"
       },
       "spark_pool": null,
       "state": "finished",
       "statement_id": 56
      },
      "text/plain": [
       "StatementMeta(, 94ef0508-639f-4da3-a5fe-32b612c119d8, 56, Finished, Available)"
      ]
     },
     "metadata": {},
     "output_type": "display_data"
    },
    {
     "data": {
      "image/png": "[encoded data removed]",
      "text/plain": [
       "<Figure size 400x200 with 1 Axes>"
      ]
     },
     "metadata": {},
     "output_type": "display_data"
    }
   ],
   "source": [
    "# Plot the counts for both classes\n",
    "plt.figure(figsize=(4, 2))\n",
    "ax = sns.countplot(x='IsFail', data=pd.DataFrame({'IsFail': y_train_res.values}))\n",
    "for p in ax.patches:\n",
    "    ax.annotate(f'{p.get_height()}', (p.get_x()+0.4, p.get_height()+50))\n",
    "\n",
    "plt.show()"
   ]
  },
  {
   "cell_type": "markdown",
   "id": "05640e2f-92f0-41c6-bc11-ddaf5ad81231",
   "metadata": {
    "nteract": {
     "transient": {
      "deleting": false
     }
    }
   },
   "source": [
    "You have successfully balanced the dataset and can move to model training."
   ]
  },
  {
   "cell_type": "markdown",
   "id": "dafe8a6a-ebb5-4836-ba23-e9958973326c",
   "metadata": {
    "nteract": {
     "transient": {
      "deleting": false
     }
    }
   },
   "source": [
    "## Step 4: Train and evaluate the model"
   ]
  },
  {
   "cell_type": "markdown",
   "id": "c6d256c9-a45b-4dd5-a51b-7dc001586aa5",
   "metadata": {
    "nteract": {
     "transient": {
      "deleting": false
     }
    }
   },
   "source": [
    "[MLflow](https://aka.ms/fabric-autologging) is used to register models, train and compare various models, and pick the best model for prediction purpose. For model training, you use the following 3 models:\n",
    "\n",
    "1. Random forest classifier\n",
    "2. Logistic regression classifier \n",
    "3. XGBoost classifier "
   ]
  },
  {
   "cell_type": "markdown",
   "id": "dbc33eb1-68de-4971-9782-57f36728a3fb",
   "metadata": {
    "nteract": {
     "transient": {
      "deleting": false
     }
    }
   },
   "source": [
    "### Train a Random Forest classifier"
   ]
  },
  {
   "cell_type": "code",
   "execution_count": null,
   "id": "bd1e6471-53ef-4f7e-89b4-f114205a2a5c",
   "metadata": {
    "jupyter": {
     "outputs_hidden": false,
     "source_hidden": false
    },
    "ms_comment_ranges": {},
    "ms_comments": [],
    "nteract": {
     "transient": {
      "deleting": false
     }
    }
   },
   "outputs": [
    {
     "data": {
      "application/vnd.livy.statement-meta+json": {
       "execution_finish_time": "2023-09-08T22:37:42.5334807Z",
       "execution_start_time": "2023-09-08T22:37:27.0196589Z",
       "livy_statement_state": "available",
       "parent_msg_id": "ec1bf94a-77bc-4561-83b6-e6f3f028fd1f",
       "queued_time": "2023-09-08T22:36:49.9590564Z",
       "session_id": "94ef0508-639f-4da3-a5fe-32b612c119d8",
       "session_start_time": null,
       "spark_jobs": {
        "jobs": [],
        "limit": 20,
        "numbers": {
         "FAILED": 0,
         "RUNNING": 0,
         "SUCCEEDED": 0,
         "UNKNOWN": 0
        },
        "rule": "ALL_DESC"
       },
       "spark_pool": null,
       "state": "finished",
       "statement_id": 57
      },
      "text/plain": [
       "StatementMeta(, 94ef0508-639f-4da3-a5fe-32b612c119d8, 57, Finished, Available)"
      ]
     },
     "metadata": {},
     "output_type": "display_data"
    },
    {
     "name": "stderr",
     "output_type": "stream",
     "text": [
      "2023/09/08 22:37:27 INFO mlflow.tracking.fluent: Autologging successfully enabled for sklearn.\n",
      "2023/09/08 22:37:27 INFO mlflow.tracking.fluent: Autologging successfully enabled for statsmodels.\n",
      "2023/09/08 22:37:27 INFO mlflow.tracking.fluent: Autologging successfully enabled for pyspark.ml.\n",
      "Successfully registered model 'machine_failure_model_rf'.\n",
      "2023/09/08 22:37:38 INFO mlflow.tracking._model_registry.client: Waiting up to 300 seconds for model version to finish creation.                     Model name: machine_failure_model_rf, version 2\n",
      "Created version '2' of model 'machine_failure_model_rf'.\n"
     ]
    },
    {
     "name": "stdout",
     "output_type": "stream",
     "text": [
      "run_id 807065b0-81e4-4b9e-931b-de6306c73c4a, status: RUNNING\n",
      "F1 score_train: 0.9395517666293492\n",
      "Accuracy_train: 0.91975\n",
      "Recall_train: 0.91975\n",
      "F1 score_test: 0.9271343476408416\n",
      "Accuracy_test: 0.903\n",
      "Recall_test: 0.903\n"
     ]
    }
   ],
   "source": [
    "import numpy as np \n",
    "from sklearn.ensemble import RandomForestClassifier\n",
    "from mlflow.models.signature import infer_signature\n",
    "from sklearn.metrics import f1_score, accuracy_score, recall_score\n",
    "\n",
    "mlflow.set_experiment(\"Machine_Failure_Classification\")\n",
    "mlflow.autolog(exclusive=False) # Override the pre-configured autologging behavior\n",
    "\n",
    "with mlflow.start_run() as run:\n",
    "    rfc_id = run.info.run_id\n",
    "    print(f\"run_id {rfc_id}, status: {run.info.status}\")\n",
    "    rfc = RandomForestClassifier(max_depth=5, n_estimators=50)\n",
    "    rfc.fit(X_train_res, y_train_res) \n",
    "    signature = infer_signature(X_train_res, y_train_res)\n",
    "\n",
    "    mlflow.sklearn.log_model(\n",
    "        rfc,\n",
    "        \"machine_failure_model_rf\",\n",
    "        signature=signature,\n",
    "        registered_model_name=\"machine_failure_model_rf\"\n",
    "    ) \n",
    "\n",
    "    y_pred_train = rfc.predict(X_train)\n",
    "    # Calculate the classification metrics for test data\n",
    "    f1_train = f1_score(y_train, y_pred_train, average='weighted')\n",
    "    accuracy_train = accuracy_score(y_train, y_pred_train)\n",
    "    recall_train = recall_score(y_train, y_pred_train, average='weighted')\n",
    "\n",
    "    # Log the classification metrics to MLflow\n",
    "    mlflow.log_metric(\"f1_score_train\", f1_train)\n",
    "    mlflow.log_metric(\"accuracy_train\", accuracy_train)\n",
    "    mlflow.log_metric(\"recall_train\", recall_train)\n",
    "\n",
    "    # Print the run ID and the classification metrics\n",
    "    print(\"F1 score_train:\", f1_train)\n",
    "    print(\"Accuracy_train:\", accuracy_train)\n",
    "    print(\"Recall_train:\", recall_train)    \n",
    "\n",
    "    y_pred_test = rfc.predict(X_test)\n",
    "    # Calculate the classification metrics for test data\n",
    "    f1_test = f1_score(y_test, y_pred_test, average='weighted')\n",
    "    accuracy_test = accuracy_score(y_test, y_pred_test)\n",
    "    recall_test = recall_score(y_test, y_pred_test, average='weighted')\n",
    "\n",
    "    # Log the classification metrics to MLflow\n",
    "    mlflow.log_metric(\"f1_score_test\", f1_test)\n",
    "    mlflow.log_metric(\"accuracy_test\", accuracy_test)\n",
    "    mlflow.log_metric(\"recall_test\", recall_test)\n",
    "\n",
    "    # Print the classification metrics\n",
    "    print(\"F1 score_test:\", f1_test)\n",
    "    print(\"Accuracy_test:\", accuracy_test)\n",
    "    print(\"Recall_test:\", recall_test)"
   ]
  },
  {
   "cell_type": "markdown",
   "id": "9e451d82-385b-4ad5-bac7-393c79b83d2c",
   "metadata": {
    "nteract": {
     "transient": {
      "deleting": false
     }
    }
   },
   "source": [
    "As you can see, both train and test dataset yield F1 score, accuracy and recall of approximately 0.9 using Random Forest classifier. "
   ]
  },
  {
   "cell_type": "markdown",
   "id": "bc4c81a2-54b5-4475-89a7-1fb367271227",
   "metadata": {
    "nteract": {
     "transient": {
      "deleting": false
     }
    }
   },
   "source": [
    "### Train a Logistic Regression classifier"
   ]
  },
  {
   "cell_type": "code",
   "execution_count": null,
   "id": "5da19d14-d20d-4289-89f2-de5a954c621c",
   "metadata": {
    "jupyter": {
     "outputs_hidden": false,
     "source_hidden": false
    },
    "nteract": {
     "transient": {
      "deleting": false
     }
    }
   },
   "outputs": [
    {
     "data": {
      "application/vnd.livy.statement-meta+json": {
       "execution_finish_time": "2023-09-08T22:37:57.5150581Z",
       "execution_start_time": "2023-09-08T22:37:42.8071729Z",
       "livy_statement_state": "available",
       "parent_msg_id": "d57bffd5-f742-4373-9ea7-6f116ed7aad6",
       "queued_time": "2023-09-08T22:36:50.1396Z",
       "session_id": "94ef0508-639f-4da3-a5fe-32b612c119d8",
       "session_start_time": null,
       "spark_jobs": {
        "jobs": [],
        "limit": 20,
        "numbers": {
         "FAILED": 0,
         "RUNNING": 0,
         "SUCCEEDED": 0,
         "UNKNOWN": 0
        },
        "rule": "ALL_DESC"
       },
       "spark_pool": null,
       "state": "finished",
       "statement_id": 58
      },
      "text/plain": [
       "StatementMeta(, 94ef0508-639f-4da3-a5fe-32b612c119d8, 58, Finished, Available)"
      ]
     },
     "metadata": {},
     "output_type": "display_data"
    },
    {
     "name": "stdout",
     "output_type": "stream",
     "text": [
      "run_id 796823eb-6b88-41a1-a66e-adddfb189127, status: RUNNING\n",
      "F1 score_train: 0.8892891488665593\n",
      "Accuracy_train: 0.8415\n",
      "Recall_train: 0.8415\n"
     ]
    },
    {
     "name": "stderr",
     "output_type": "stream",
     "text": [
      "Successfully registered model 'machine_failure_model_lr'.\n",
      "2023/09/08 22:37:52 INFO mlflow.tracking._model_registry.client: Waiting up to 300 seconds for model version to finish creation.                     Model name: machine_failure_model_lr, version 2\n",
      "Created version '2' of model 'machine_failure_model_lr'.\n"
     ]
    }
   ],
   "source": [
    "from sklearn.linear_model import LogisticRegression\n",
    "\n",
    "with mlflow.start_run() as run:\n",
    "    lr_id = run.info.run_id\n",
    "    print(f\"run_id {lr_id}, status: {run.info.status}\")\n",
    "    lr = LogisticRegression(random_state=42)\n",
    "    lr.fit(X_train_res, y_train_res)\n",
    "    signature = infer_signature(X_train_res, y_train_res)\n",
    "  \n",
    "    mlflow.sklearn.log_model(\n",
    "        lr,\n",
    "        \"machine_failure_model_lr\",\n",
    "        signature=signature,\n",
    "        registered_model_name=\"machine_failure_model_lr\"\n",
    "    ) \n",
    "\n",
    "    y_pred_train = lr.predict(X_train)\n",
    "    # Calculate the classification metrics for train data\n",
    "    f1_train = f1_score(y_train, y_pred_train, average='weighted')\n",
    "    accuracy_train = accuracy_score(y_train, y_pred_train)\n",
    "    recall_train = recall_score(y_train, y_pred_train, average='weighted')\n",
    "\n",
    "    # Log the classification metrics to MLflow\n",
    "    mlflow.log_metric(\"f1_score_train\", f1_train)\n",
    "    mlflow.log_metric(\"accuracy_train\", accuracy_train)\n",
    "    mlflow.log_metric(\"recall_train\", recall_train)\n",
    "\n",
    "    # Print the run ID and the classification metrics\n",
    "    print(\"F1 score_train:\", f1_train)\n",
    "    print(\"Accuracy_train:\", accuracy_train)\n",
    "    print(\"Recall_train:\", recall_train)    \n",
    "\n",
    "    y_pred_test = lr.predict(X_test)\n",
    "    # Calculate the classification metrics for test data\n",
    "    f1_test = f1_score(y_test, y_pred_test, average='weighted')\n",
    "    accuracy_test = accuracy_score(y_test, y_pred_test)\n",
    "    recall_test = recall_score(y_test, y_pred_test, average='weighted')\n",
    "\n",
    "    # Log the classification metrics to MLflow\n",
    "    mlflow.log_metric(\"f1_score_test\", f1_test)\n",
    "    mlflow.log_metric(\"accuracy_test\", accuracy_test)\n",
    "    mlflow.log_metric(\"recall_test\", recall_test)\n"
   ]
  },
  {
   "cell_type": "markdown",
   "id": "0f26a8de-86b7-47fb-9d14-b7a439ae9997",
   "metadata": {
    "nteract": {
     "transient": {
      "deleting": false
     }
    }
   },
   "source": [
    "### Train an XGBoost classifier"
   ]
  },
  {
   "cell_type": "code",
   "execution_count": null,
   "id": "c7f6b8b0-2a92-4430-8eeb-a25850d124c2",
   "metadata": {
    "jupyter": {
     "outputs_hidden": false,
     "source_hidden": false
    },
    "nteract": {
     "transient": {
      "deleting": false
     }
    }
   },
   "outputs": [
    {
     "data": {
      "application/vnd.livy.statement-meta+json": {
       "execution_finish_time": "2023-09-08T22:38:10.2953123Z",
       "execution_start_time": "2023-09-08T22:37:57.7945999Z",
       "livy_statement_state": "available",
       "parent_msg_id": "f0f0cf52-f7a1-44b0-9d64-ebfaac604e83",
       "queued_time": "2023-09-08T22:36:50.3203451Z",
       "session_id": "94ef0508-639f-4da3-a5fe-32b612c119d8",
       "session_start_time": null,
       "spark_jobs": {
        "jobs": [],
        "limit": 20,
        "numbers": {
         "FAILED": 0,
         "RUNNING": 0,
         "SUCCEEDED": 0,
         "UNKNOWN": 0
        },
        "rule": "ALL_DESC"
       },
       "spark_pool": null,
       "state": "finished",
       "statement_id": 59
      },
      "text/plain": [
       "StatementMeta(, 94ef0508-639f-4da3-a5fe-32b612c119d8, 59, Finished, Available)"
      ]
     },
     "metadata": {},
     "output_type": "display_data"
    },
    {
     "name": "stderr",
     "output_type": "stream",
     "text": [
      "2023/09/08 22:37:57 INFO mlflow.tracking.fluent: Autologging successfully enabled for xgboost.\n",
      "Successfully registered model 'machine_failure_model_xgb'.\n",
      "2023/09/08 22:38:06 INFO mlflow.tracking._model_registry.client: Waiting up to 300 seconds for model version to finish creation.                     Model name: machine_failure_model_xgb, version 2\n",
      "Created version '2' of model 'machine_failure_model_xgb'.\n"
     ]
    },
    {
     "name": "stdout",
     "output_type": "stream",
     "text": [
      "run_id 04ebf7b6-2d0e-40bb-a894-ada2afd0ad33, status: RUNNING\n",
      "F1 score_train: 0.9983879937642015\n",
      "Accuracy_train: 0.998375\n",
      "Recall_train: 0.998375\n"
     ]
    }
   ],
   "source": [
    "from xgboost import XGBClassifier\n",
    "\n",
    "with mlflow.start_run() as run:\n",
    "    xgb = XGBClassifier()\n",
    "    xgb_id = run.info.run_id \n",
    "    print(f\"run_id {xgb_id}, status: {run.info.status}\")\n",
    "    xgb.fit(X_train_res.to_numpy(), y_train_res.to_numpy()) \n",
    "    signature = infer_signature(X_train_res, y_train_res)\n",
    "  \n",
    "    mlflow.xgboost.log_model(\n",
    "        xgb,\n",
    "        \"machine_failure_model_xgb\",\n",
    "        signature=signature,\n",
    "        registered_model_name=\"machine_failure_model_xgb\"\n",
    "    ) \n",
    "\n",
    "    y_pred_train = xgb.predict(X_train)\n",
    "    # Calculate the classification metrics for train data\n",
    "    f1_train = f1_score(y_train, y_pred_train, average='weighted')\n",
    "    accuracy_train = accuracy_score(y_train, y_pred_train)\n",
    "    recall_train = recall_score(y_train, y_pred_train, average='weighted')\n",
    "\n",
    "    # Log the classification metrics to MLflow\n",
    "    mlflow.log_metric(\"f1_score_train\", f1_train)\n",
    "    mlflow.log_metric(\"accuracy_train\", accuracy_train)\n",
    "    mlflow.log_metric(\"recall_train\", recall_train)\n",
    "\n",
    "    # Print the run ID and the classification metrics\n",
    "    print(\"F1 score_train:\", f1_train)\n",
    "    print(\"Accuracy_train:\", accuracy_train)\n",
    "    print(\"Recall_train:\", recall_train)    \n",
    "\n",
    "    y_pred_test = xgb.predict(X_test)\n",
    "    # Calculate the classification metrics for test data\n",
    "    f1_test = f1_score(y_test, y_pred_test, average='weighted')\n",
    "    accuracy_test = accuracy_score(y_test, y_pred_test)\n",
    "    recall_test = recall_score(y_test, y_pred_test, average='weighted')\n",
    "\n",
    "    # Log the classification metrics to MLflow\n",
    "    mlflow.log_metric(\"f1_score_test\", f1_test)\n",
    "    mlflow.log_metric(\"accuracy_test\", accuracy_test)\n",
    "    mlflow.log_metric(\"recall_test\", recall_test)"
   ]
  },
  {
   "cell_type": "markdown",
   "id": "fdec1ca7-a8dd-42cd-9fe2-af36f1700f90",
   "metadata": {
    "nteract": {
     "transient": {
      "deleting": false
     }
    }
   },
   "source": [
    "## Step 5: Select model and predict outputs"
   ]
  },
  {
   "cell_type": "markdown",
   "id": "bce86f42-5abd-4d24-b95f-1075a07267db",
   "metadata": {
    "nteract": {
     "transient": {
      "deleting": false
     }
    }
   },
   "source": [
    "In the previous section, you trained three different classifiers: Random Forest, Logistic Regression, and XGBoost. You have the choice to either programatically access the results or use the user interface (UI).\n",
    "\n",
    "To use the UI path, navigate to your workspace and filter the models. Then select individual models for details of the model performance. \n"
   ]
  },
  {
   "cell_type": "markdown",
   "id": "a2b292c1-bee4-4b53-833b-ccf89ac48d4d",
   "metadata": {
    "nteract": {
     "transient": {
      "deleting": false
     }
    }
   },
   "source": [
    "<img style=\"float: left;\" src=\"https://synapseaisolutionsa.blob.core.windows.net/public/MachineFaultDetection/Model_inspection.png\"  width=\"60%\" height=\"10%\"> \n",
    "\n",
    "\n",
    "\n",
    "<img style=\"float: left;\" src=\"https://synapseaisolutionsa.blob.core.windows.net/public/MachineFaultDetection/Model_metrics.png\"  width=\"60%\" height=\"10%\">\n",
    "\n"
   ]
  },
  {
   "cell_type": "markdown",
   "id": "42f37ac4-59cf-4e1c-bd96-9dad96a84575",
   "metadata": {
    "nteract": {
     "transient": {
      "deleting": false
     }
    }
   },
   "source": [
    "Alternatively, use the following example to learn how to programatically access the models through MLflow."
   ]
  },
  {
   "cell_type": "code",
   "execution_count": null,
   "id": "a69c43e2-5ea5-42e3-97b4-e6296aeb9201",
   "metadata": {
    "jupyter": {
     "outputs_hidden": false,
     "source_hidden": false
    },
    "nteract": {
     "transient": {
      "deleting": false
     }
    }
   },
   "outputs": [
    {
     "data": {
      "application/vnd.livy.statement-meta+json": {
       "execution_finish_time": "2023-09-08T22:38:11.4892628Z",
       "execution_start_time": "2023-09-08T22:38:10.5749519Z",
       "livy_statement_state": "available",
       "parent_msg_id": "bedf8658-d756-448d-90a1-571634944705",
       "queued_time": "2023-09-08T22:36:50.5414137Z",
       "session_id": "94ef0508-639f-4da3-a5fe-32b612c119d8",
       "session_start_time": null,
       "spark_jobs": {
        "jobs": [],
        "limit": 20,
        "numbers": {
         "FAILED": 0,
         "RUNNING": 0,
         "SUCCEEDED": 0,
         "UNKNOWN": 0
        },
        "rule": "ALL_DESC"
       },
       "spark_pool": null,
       "state": "finished",
       "statement_id": 60
      },
      "text/plain": [
       "StatementMeta(, 94ef0508-639f-4da3-a5fe-32b612c119d8, 60, Finished, Available)"
      ]
     },
     "metadata": {},
     "output_type": "display_data"
    },
    {
     "name": "stdout",
     "output_type": "stream",
     "text": [
      "   training_accuracy_score  training_roc_auc  training_log_loss  \\\n",
      "0                 0.942859          0.984663           0.196636   \n",
      "1                 0.853857          0.930670           0.334941   \n",
      "2                      NaN               NaN                NaN   \n",
      "\n",
      "   training_score  training_f1_score  training_precision_score  \\\n",
      "0        0.942859           0.942833                  0.943674   \n",
      "1        0.853857           0.853847                  0.853951   \n",
      "2             NaN                NaN                       NaN   \n",
      "\n",
      "   training_recall_score  f1_score_train  accuracy_train  recall_train  \\\n",
      "0               0.942859        0.939552        0.919750      0.919750   \n",
      "1               0.853857        0.889289        0.841500      0.841500   \n",
      "2                    NaN        0.998388        0.998375      0.998375   \n",
      "\n",
      "   f1_score_test  accuracy_test  recall_test                        run_name  \n",
      "0       0.927134         0.9030       0.9030         random forest classifer  \n",
      "1       0.883883         0.8355       0.8355  logistic regression classifier  \n",
      "2       0.968540         0.9665       0.9665              xgboost classifier  \n"
     ]
    }
   ],
   "source": [
    "runs = {'random forest classifer':   rfc_id,\n",
    "        'logistic regression classifier': lr_id,\n",
    "        'xgboost classifier': xgb_id}\n",
    "\n",
    "# Create an empty list to hold the metrics\n",
    "df_metrics = []\n",
    "\n",
    "# Loop through the run IDs and retrieve the metrics for each run\n",
    "for run_name, run_id in runs.items():\n",
    "    metrics = mlflow.get_run(run_id).data.metrics\n",
    "    metrics[\"run_name\"] = run_name\n",
    "    df_metrics.append(metrics)\n",
    "\n",
    "# Convert the list to DataFrame\n",
    "df_metrics = pd.DataFrame(df_metrics)\n",
    "\n",
    "# Print the DataFrame\n",
    "print(df_metrics)"
   ]
  },
  {
   "cell_type": "markdown",
   "id": "d7a31bd2-66f3-44a1-afc7-f14e8ac42b72",
   "metadata": {
    "nteract": {
     "transient": {
      "deleting": false
     }
    }
   },
   "source": [
    "Although XGBoost yielded the best results on the training set, it does perform poorly on the test data set, which indicates overfitting. Logistic Regression classifier performs poorly on both training and test datasets. Overall, Random Forest strikes a good balance between training performance and avoiding overfitting.\n",
    "In the following section, choose the registered Random Forest model and perform prediction using the [PREDICT](https://aka.ms/fabric-predict) feature."
   ]
  },
  {
   "cell_type": "code",
   "execution_count": null,
   "id": "4b6e0384-e9de-4022-a141-d9c6cc950494",
   "metadata": {
    "jupyter": {
     "outputs_hidden": false,
     "source_hidden": false
    },
    "ms_comment_ranges": {},
    "ms_comments": [],
    "nteract": {
     "transient": {
      "deleting": false
     }
    }
   },
   "outputs": [
    {
     "data": {
      "application/vnd.livy.statement-meta+json": {
       "execution_finish_time": "2023-09-08T22:38:12.6799796Z",
       "execution_start_time": "2023-09-08T22:38:11.7635665Z",
       "livy_statement_state": "available",
       "parent_msg_id": "18aa4a97-0346-44f5-b414-332c570d39ca",
       "queued_time": "2023-09-08T22:36:50.7923373Z",
       "session_id": "94ef0508-639f-4da3-a5fe-32b612c119d8",
       "session_start_time": null,
       "spark_jobs": {
        "jobs": [],
        "limit": 20,
        "numbers": {
         "FAILED": 0,
         "RUNNING": 0,
         "SUCCEEDED": 0,
         "UNKNOWN": 0
        },
        "rule": "ALL_DESC"
       },
       "spark_pool": null,
       "state": "finished",
       "statement_id": 61
      },
      "text/plain": [
       "StatementMeta(, 94ef0508-639f-4da3-a5fe-32b612c119d8, 61, Finished, Available)"
      ]
     },
     "metadata": {},
     "output_type": "display_data"
    }
   ],
   "source": [
    "from synapse.ml.predict import MLFlowTransformer\n",
    "\n",
    "model = MLFlowTransformer(\n",
    "    inputCols=list(X_test.columns),\n",
    "    outputCol='predictions',\n",
    "    modelName='machine_failure_model_rf',\n",
    "    modelVersion=1\n",
    ")"
   ]
  },
  {
   "cell_type": "markdown",
   "id": "f9e7959f-4e7c-4770-87df-c53370288195",
   "metadata": {
    "nteract": {
     "transient": {
      "deleting": false
     }
    }
   },
   "source": [
    "Now that you've created an MLFLowTransformer object to load the model for inferencing, use the Transformer API to score the model on the test dataset."
   ]
  },
  {
   "cell_type": "code",
   "execution_count": null,
   "id": "7f217591-65ab-40c1-89ef-14c381cdd072",
   "metadata": {
    "jupyter": {
     "outputs_hidden": false,
     "source_hidden": false
    },
    "ms_comment_ranges": {},
    "ms_comments": [],
    "nteract": {
     "transient": {
      "deleting": false
     }
    }
   },
   "outputs": [
    {
     "data": {
      "application/vnd.livy.statement-meta+json": {
       "execution_finish_time": "2023-09-08T22:38:16.6734964Z",
       "execution_start_time": "2023-09-08T22:38:12.9675079Z",
       "livy_statement_state": "available",
       "parent_msg_id": "2e2eb06c-9bbc-4c05-bf2f-b37bed0c7a36",
       "queued_time": "2023-09-08T22:36:51.000513Z",
       "session_id": "94ef0508-639f-4da3-a5fe-32b612c119d8",
       "session_start_time": null,
       "spark_jobs": {
        "jobs": [
         {
          "completionTime": "2023-09-08T22:38:15.903GMT",
          "dataRead": 0,
          "dataWritten": 0,
          "description": "Job group for statement 62:\npredictions = model.transform(spark.createDataFrame(X_test))\npredictions.show()",
          "displayName": "showString at NativeMethodAccessorImpl.java:0",
          "jobGroup": "62",
          "jobId": 51,
          "killedTasksSummary": {},
          "name": "showString at NativeMethodAccessorImpl.java:0",
          "numActiveStages": 0,
          "numActiveTasks": 0,
          "numCompletedIndices": 1,
          "numCompletedStages": 1,
          "numCompletedTasks": 1,
          "numFailedStages": 0,
          "numFailedTasks": 0,
          "numKilledTasks": 0,
          "numSkippedStages": 0,
          "numSkippedTasks": 0,
          "numTasks": 1,
          "rowCount": 0,
          "stageIds": [
           76
          ],
          "status": "SUCCEEDED",
          "submissionTime": "2023-09-08T22:38:13.195GMT",
          "usageDescription": ""
         }
        ],
        "limit": 20,
        "numbers": {
         "FAILED": 0,
         "RUNNING": 0,
         "SUCCEEDED": 1,
         "UNKNOWN": 0
        },
        "rule": "ALL_DESC"
       },
       "spark_pool": null,
       "state": "finished",
       "statement_id": 62
      },
      "text/plain": [
       "StatementMeta(, 94ef0508-639f-4da3-a5fe-32b612c119d8, 62, Finished, Available)"
      ]
     },
     "metadata": {},
     "output_type": "display_data"
    },
    {
     "name": "stdout",
     "output_type": "stream",
     "text": [
      "+----+-------------------+-----------------------+----------------------+-----------+---------------+-----------+\n",
      "|Type|Air_temperature_[K]|Process_temperature_[K]|Rotational_speed_[rpm]|Torque_[Nm]|Tool_wear_[min]|predictions|\n",
      "+----+-------------------+-----------------------+----------------------+-----------+---------------+-----------+\n",
      "|   0|              300.6|                  309.7|                1639.0|       30.4|          121.0|          0|\n",
      "|   0|              303.9|                  313.0|                1551.0|       36.8|          140.0|          0|\n",
      "|   1|              299.1|                  308.6|                1491.0|       38.5|          166.0|          0|\n",
      "|   0|              300.9|                  312.1|                1359.0|       51.7|          146.0|          1|\n",
      "|   0|              303.7|                  312.6|                1621.0|       38.8|          182.0|          0|\n",
      "|   0|              299.0|                  310.3|                1868.0|       24.0|          221.0|          1|\n",
      "|   2|              297.8|                  307.5|                1631.0|       31.3|          124.0|          0|\n",
      "|   0|              297.5|                  308.2|                1327.0|       56.5|          189.0|          1|\n",
      "|   0|              301.3|                  310.3|                1460.0|       41.5|          197.0|          0|\n",
      "|   2|              297.6|                  309.0|                1413.0|       40.2|           51.0|          0|\n",
      "|   1|              300.9|                  309.4|                1724.0|       25.6|          119.0|          0|\n",
      "|   0|              303.3|                  311.3|                1389.0|       53.9|           39.0|          0|\n",
      "|   0|              298.4|                  307.9|                1981.0|       23.2|           16.0|          0|\n",
      "|   0|              299.3|                  308.8|                1636.0|       29.9|          201.0|          0|\n",
      "|   1|              298.1|                  309.2|                1460.0|       45.8|           80.0|          0|\n",
      "|   0|              300.0|                  309.5|                1728.0|       26.0|           37.0|          0|\n",
      "|   2|              299.0|                  308.7|                1940.0|       19.9|           98.0|          0|\n",
      "|   0|              302.2|                  310.8|                1383.0|       46.9|           45.0|          0|\n",
      "|   0|              300.2|                  309.2|                1431.0|       51.3|           57.0|          0|\n",
      "|   0|              299.6|                  310.2|                1468.0|       48.0|            9.0|          0|\n",
      "+----+-------------------+-----------------------+----------------------+-----------+---------------+-----------+\n",
      "only showing top 20 rows\n",
      "\n"
     ]
    }
   ],
   "source": [
    "predictions = model.transform(spark.createDataFrame(X_test))\n",
    "predictions.show()"
   ]
  },
  {
   "cell_type": "markdown",
   "id": "1d9e8c73-3ee4-4237-83e5-39810f29c0e5",
   "metadata": {
    "nteract": {
     "transient": {
      "deleting": false
     }
    }
   },
   "source": [
    "Save the data into the lakehouse which, allows you to access the data for future use such as creating a Power BI dashboard."
   ]
  },
  {
   "cell_type": "code",
   "execution_count": null,
   "id": "7f79989d-a640-444c-b841-a33cbcfdbe38",
   "metadata": {
    "jupyter": {
     "outputs_hidden": false,
     "source_hidden": false
    },
    "nteract": {
     "transient": {
      "deleting": false
     }
    }
   },
   "outputs": [
    {
     "data": {
      "application/vnd.livy.statement-meta+json": {
       "execution_finish_time": "2023-09-08T22:38:25.4409748Z",
       "execution_start_time": "2023-09-08T22:38:16.9505531Z",
       "livy_statement_state": "available",
       "parent_msg_id": "c12ff9bc-574a-4bf9-9dfb-fff8710ec479",
       "queued_time": "2023-09-08T22:36:51.1639027Z",
       "session_id": "94ef0508-639f-4da3-a5fe-32b612c119d8",
       "session_start_time": null,
       "spark_jobs": {
        "jobs": [
         {
          "completionTime": "2023-09-08T22:38:24.207GMT",
          "dataRead": 4421,
          "dataWritten": 0,
          "description": "Delta: Job group for statement 63:\n# Save test data to lakehouse for use in future\ntable_name = \"predictive_maintenance_test_with_predictions\"\npredictions.write.mode(\"overwrite\").format(\"delta\").save(f\"Tables/{table_name}\")\nprint(f\"Spark dataframe saved to delta table: {table_name}\"): Compute snapshot for version: 1",
          "displayName": "toString at String.java:2994",
          "jobGroup": "63",
          "jobId": 57,
          "killedTasksSummary": {},
          "name": "toString at String.java:2994",
          "numActiveStages": 0,
          "numActiveTasks": 0,
          "numCompletedIndices": 1,
          "numCompletedStages": 1,
          "numCompletedTasks": 1,
          "numFailedStages": 0,
          "numFailedTasks": 0,
          "numKilledTasks": 0,
          "numSkippedStages": 2,
          "numSkippedTasks": 52,
          "numTasks": 53,
          "rowCount": 50,
          "stageIds": [
           85,
           86,
           87
          ],
          "status": "SUCCEEDED",
          "submissionTime": "2023-09-08T22:38:24.149GMT",
          "usageDescription": ""
         },
         {
          "completionTime": "2023-09-08T22:38:24.123GMT",
          "dataRead": 3600,
          "dataWritten": 4421,
          "description": "Delta: Job group for statement 63:\n# Save test data to lakehouse for use in future\ntable_name = \"predictive_maintenance_test_with_predictions\"\npredictions.write.mode(\"overwrite\").format(\"delta\").save(f\"Tables/{table_name}\")\nprint(f\"Spark dataframe saved to delta table: {table_name}\"): Compute snapshot for version: 1",
          "displayName": "toString at String.java:2994",
          "jobGroup": "63",
          "jobId": 56,
          "killedTasksSummary": {},
          "name": "toString at String.java:2994",
          "numActiveStages": 0,
          "numActiveTasks": 0,
          "numCompletedIndices": 50,
          "numCompletedStages": 1,
          "numCompletedTasks": 50,
          "numFailedStages": 0,
          "numFailedTasks": 0,
          "numKilledTasks": 0,
          "numSkippedStages": 1,
          "numSkippedTasks": 2,
          "numTasks": 52,
          "rowCount": 57,
          "stageIds": [
           84,
           83
          ],
          "status": "SUCCEEDED",
          "submissionTime": "2023-09-08T22:38:23.278GMT",
          "usageDescription": ""
         },
         {
          "completionTime": "2023-09-08T22:38:22.914GMT",
          "dataRead": 3474,
          "dataWritten": 3600,
          "description": "Delta: Job group for statement 63:\n# Save test data to lakehouse for use in future\ntable_name = \"predictive_maintenance_test_with_predictions\"\npredictions.write.mode(\"overwrite\").format(\"delta\").save(f\"Tables/{table_name}\")\nprint(f\"Spark dataframe saved to delta table: {table_name}\"): Compute snapshot for version: 1",
          "displayName": "toString at String.java:2994",
          "jobGroup": "63",
          "jobId": 55,
          "killedTasksSummary": {},
          "name": "toString at String.java:2994",
          "numActiveStages": 0,
          "numActiveTasks": 0,
          "numCompletedIndices": 2,
          "numCompletedStages": 1,
          "numCompletedTasks": 2,
          "numFailedStages": 0,
          "numFailedTasks": 0,
          "numKilledTasks": 0,
          "numSkippedStages": 0,
          "numSkippedTasks": 0,
          "numTasks": 2,
          "rowCount": 14,
          "stageIds": [
           82
          ],
          "status": "SUCCEEDED",
          "submissionTime": "2023-09-08T22:38:22.814GMT",
          "usageDescription": ""
         },
         {
          "completionTime": "2023-09-08T22:38:22.426GMT",
          "dataRead": 1951,
          "dataWritten": 0,
          "description": "Job group for statement 63:\n# Save test data to lakehouse for use in future\ntable_name = \"predictive_maintenance_test_with_predictions\"\npredictions.write.mode(\"overwrite\").format(\"delta\").save(f\"Tables/{table_name}\")\nprint(f\"Spark dataframe saved to delta table: {table_name}\")",
          "displayName": "$anonfun$recordDeltaOperationInternal$1 at SynapseLoggingShim.scala:95",
          "jobGroup": "63",
          "jobId": 54,
          "killedTasksSummary": {},
          "name": "$anonfun$recordDeltaOperationInternal$1 at SynapseLoggingShim.scala:95",
          "numActiveStages": 0,
          "numActiveTasks": 0,
          "numCompletedIndices": 50,
          "numCompletedStages": 1,
          "numCompletedTasks": 50,
          "numFailedStages": 0,
          "numFailedTasks": 0,
          "numKilledTasks": 0,
          "numSkippedStages": 1,
          "numSkippedTasks": 1,
          "numTasks": 51,
          "rowCount": 3,
          "stageIds": [
           81,
           80
          ],
          "status": "SUCCEEDED",
          "submissionTime": "2023-09-08T22:38:22.284GMT",
          "usageDescription": ""
         },
         {
          "completionTime": "2023-09-08T22:38:22.178GMT",
          "dataRead": 49753,
          "dataWritten": 19331,
          "description": "Job group for statement 63:\n# Save test data to lakehouse for use in future\ntable_name = \"predictive_maintenance_test_with_predictions\"\npredictions.write.mode(\"overwrite\").format(\"delta\").save(f\"Tables/{table_name}\")\nprint(f\"Spark dataframe saved to delta table: {table_name}\")",
          "displayName": "save at NativeMethodAccessorImpl.java:0",
          "jobGroup": "63",
          "jobId": 53,
          "killedTasksSummary": {},
          "name": "save at NativeMethodAccessorImpl.java:0",
          "numActiveStages": 0,
          "numActiveTasks": 0,
          "numCompletedIndices": 1,
          "numCompletedStages": 1,
          "numCompletedTasks": 1,
          "numFailedStages": 0,
          "numFailedTasks": 0,
          "numKilledTasks": 0,
          "numSkippedStages": 1,
          "numSkippedTasks": 8,
          "numTasks": 9,
          "rowCount": 4000,
          "stageIds": [
           78,
           79
          ],
          "status": "SUCCEEDED",
          "submissionTime": "2023-09-08T22:38:21.950GMT",
          "usageDescription": ""
         },
         {
          "completionTime": "2023-09-08T22:38:21.900GMT",
          "dataRead": 0,
          "dataWritten": 49753,
          "description": "Job group for statement 63:\n# Save test data to lakehouse for use in future\ntable_name = \"predictive_maintenance_test_with_predictions\"\npredictions.write.mode(\"overwrite\").format(\"delta\").save(f\"Tables/{table_name}\")\nprint(f\"Spark dataframe saved to delta table: {table_name}\")",
          "displayName": "save at NativeMethodAccessorImpl.java:0",
          "jobGroup": "63",
          "jobId": 52,
          "killedTasksSummary": {},
          "name": "save at NativeMethodAccessorImpl.java:0",
          "numActiveStages": 0,
          "numActiveTasks": 0,
          "numCompletedIndices": 8,
          "numCompletedStages": 1,
          "numCompletedTasks": 8,
          "numFailedStages": 0,
          "numFailedTasks": 0,
          "numKilledTasks": 0,
          "numSkippedStages": 0,
          "numSkippedTasks": 0,
          "numTasks": 8,
          "rowCount": 2000,
          "stageIds": [
           77
          ],
          "status": "SUCCEEDED",
          "submissionTime": "2023-09-08T22:38:17.053GMT",
          "usageDescription": ""
         }
        ],
        "limit": 20,
        "numbers": {
         "FAILED": 0,
         "RUNNING": 0,
         "SUCCEEDED": 6,
         "UNKNOWN": 0
        },
        "rule": "ALL_DESC"
       },
       "spark_pool": null,
       "state": "finished",
       "statement_id": 63
      },
      "text/plain": [
       "StatementMeta(, 94ef0508-639f-4da3-a5fe-32b612c119d8, 63, Finished, Available)"
      ]
     },
     "metadata": {},
     "output_type": "display_data"
    },
    {
     "name": "stdout",
     "output_type": "stream",
     "text": [
      "Spark dataframe saved to delta table: predictive_maintenance_test_with_predictions\n"
     ]
    }
   ],
   "source": [
    "# Save test data to lakehouse for use in future\n",
    "table_name = \"predictive_maintenance_test_with_predictions\"\n",
    "predictions.write.mode(\"overwrite\").format(\"delta\").save(f\"Tables/{table_name}\")\n",
    "print(f\"Spark dataframe saved to delta table: {table_name}\")"
   ]
  },
  {
   "cell_type": "markdown",
   "id": "848cfd4d-02a4-4128-8b61-c8f26b4617c3",
   "metadata": {
    "nteract": {
     "transient": {
      "deleting": false
     }
    }
   },
   "source": [
    "## Step 6: Business Intelligence via Visualizations in Power BI\n"
   ]
  },
  {
   "cell_type": "markdown",
   "id": "0911fe9c-1cc2-4a39-92ae-51607a67b46f",
   "metadata": {
    "nteract": {
     "transient": {
      "deleting": false
     }
    }
   },
   "source": [
    "You can demonstrate the results in an offline format using a Power BI dashboard. \n",
    "\n",
    "<img style=\"float: left;\" src=\"https://synapseaisolutionsa.blob.core.windows.net/public/MachineFaultDetection/PowerBI_report_machine_maintenance.png\"  width=\"75%\" height=\"10%\"> "
   ]
  },
  {
   "cell_type": "markdown",
   "id": "2575776a-323b-4dac-bb3f-0cec801f3973",
   "metadata": {
    "nteract": {
     "transient": {
      "deleting": false
     }
    }
   },
   "source": [
    "The dashboard shows that the `Tool_wear` and `Torque` create a noticeable boundary between failed and unfailed cases as was expected from the earlier correlation analysis in Step 2."
   ]
  },
  {
   "cell_type": "code",
   "execution_count": null,
   "id": "bcd2ec62-99dc-447f-a32d-904c23b49516",
   "metadata": {
    "jupyter": {
     "outputs_hidden": false,
     "source_hidden": false
    },
    "nteract": {
     "transient": {
      "deleting": false
     }
    }
   },
   "outputs": [
    {
     "data": {
      "application/vnd.livy.statement-meta+json": {
       "execution_finish_time": "2023-09-08T22:38:26.048891Z",
       "execution_start_time": "2023-09-08T22:38:25.7169415Z",
       "livy_statement_state": "available",
       "parent_msg_id": "7c85035e-d84a-4c87-b7a1-a970f255c8cb",
       "queued_time": "2023-09-08T22:36:51.3251001Z",
       "session_id": "94ef0508-639f-4da3-a5fe-32b612c119d8",
       "session_start_time": null,
       "spark_jobs": {
        "jobs": [],
        "limit": 20,
        "numbers": {
         "FAILED": 0,
         "RUNNING": 0,
         "SUCCEEDED": 0,
         "UNKNOWN": 0
        },
        "rule": "ALL_DESC"
       },
       "spark_pool": null,
       "state": "finished",
       "statement_id": 64
      },
      "text/plain": [
       "StatementMeta(, 94ef0508-639f-4da3-a5fe-32b612c119d8, 64, Finished, Available)"
      ]
     },
     "metadata": {},
     "output_type": "display_data"
    },
    {
     "name": "stdout",
     "output_type": "stream",
     "text": [
      "Full run cost 81 seconds.\n"
     ]
    }
   ],
   "source": [
    "# Determine the entire runtime\n",
    "print(f\"Full run cost {int(time.time() - ts)} seconds.\")"
   ]
  }
 ],
 "metadata": {
  "kernel_info": {
   "name": "synapse_pyspark"
  },
  "kernelspec": {
   "display_name": "Synapse PySpark",
   "language": "Python",
   "name": "synapse_pyspark"
  },
  "language_info": {
   "name": "python"
  },
  "notebook_environment": {},
  "nteract": {
   "version": "nteract-front-end@1.0.0"
  },
  "save_output": true,
  "spark_compute": {
   "compute_id": "/trident/default",
   "session_options": {
    "conf": {},
    "enableDebugMode": false
   }
  }
 },
 "nbformat": 4,
 "nbformat_minor": 5
}
