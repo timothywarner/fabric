{
 "cells": [
  {
   "cell_type": "markdown",
   "id": "98e321e3-7797-4a8d-9822-2f1084ba2e2f",
   "metadata": {},
   "source": [
    "# Create, evaluate, and score a churn prediction model"
   ]
  },
  {
   "cell_type": "markdown",
   "id": "faa52bd2-a2ca-4cc4-90c2-e37b69df136d",
   "metadata": {
    "nteract": {
     "transient": {
      "deleting": false
     }
    }
   },
   "source": [
    "## Introduction\n",
    "\n",
    "In this notebook, you'll see a Microsoft Fabric data science workflow with an end-to-end example. The scenario is to build a model to predict whether bank customers would churn or not. The churn rate, also known as the rate of attrition refers to the rate at which bank customers stop doing business with the bank.\n",
    "\n",
    "The main steps in this notebook are:\n",
    "\n",
    "1. Install custom libraries\n",
    "2. Load the data\n",
    "3. Understand and process the data through exploratory data analysis and demonstrate the use of Fabric Data Wrangler feature\n",
    "4. Train machine learning models using `Scikit-Learn` and `LightGBM`, and track experiments using MLflow and Fabric Autologging feature\n",
    "5. Evaluate and save the final machine learning model\n",
    "6. Demonstrate the model performance via visualizations in Power BI\n"
   ]
  },
  {
   "cell_type": "markdown",
   "id": "1eb8ee2b-ba0c-43b3-9d9d-8654067ec748",
   "metadata": {
    "nteract": {
     "transient": {
      "deleting": false
     }
    }
   },
   "source": [
    "## Prerequisites\n",
    "- [Add a lakehouse](https://aka.ms/fabric/addlakehouse) to this notebook. You will be downloading data from a public blob, then storing the data in the lakehouse. "
   ]
  },
  {
   "cell_type": "markdown",
   "id": "d198b4dc-fd92-441f-9df2-5fe3266d09f3",
   "metadata": {
    "nteract": {
     "transient": {
      "deleting": false
     }
    }
   },
   "source": [
    "## Step 1: Install custom libraries\n"
   ]
  },
  {
   "cell_type": "markdown",
   "id": "24e40fc3-322e-4f19-9218-1636d3f9e082",
   "metadata": {
    "nteract": {
     "transient": {
      "deleting": false
     }
    }
   },
   "source": [
    "When developing a machine learning model or doing ad-hoc data analysis, you may need to quickly install a custom library (e.g., `imblearn` in this notebook) for the Apache Spark session. To do this, you have two choices. \n",
    "\n",
    "1. You can use the in-line installation capabilities (e.g., `%pip`, `%conda`, etc.) to quickly get started with new libraries. Note that this installation option would install the custom libraries only in the current notebook and not in the workspace.\n",
    "\n",
    "```python\n",
    "# Use pip to install libraries\n",
    "%pip install <library name>\n",
    "\n",
    "# Use conda to install libraries\n",
    "%conda install <library name>\n",
    " \n",
    "```\n",
    "2. Alternatively, you can create a Fabric environment, install libraries from public sources or upload custom libraries to it, and then your workspace admin can attach the environment as the default for the workspace. All the libraries in the environment will then become available for use in any notebooks and Spark job definitions in the workspace. For more information on environments, see [create, configure, and use an environment in Microsoft Fabric](https://aka.ms/fabric/create-environment)."
   ]
  },
  {
   "cell_type": "markdown",
   "id": "591a8c19-19ab-49ce-b1b8-7c3cbfe9a00a",
   "metadata": {
    "nteract": {
     "transient": {
      "deleting": false
     }
    }
   },
   "source": [
    "For this notebook, you'll install the `imblearn` using `%pip install`. Note that the PySpark kernel will be restarted after `%pip install`, thus you'll need to install the library before you run any other cells."
   ]
  },
  {
   "cell_type": "code",
   "execution_count": null,
   "id": "8b5da681-e3ed-4ddc-8ff1-5cea41a3f98a",
   "metadata": {
    "jupyter": {
     "outputs_hidden": false,
     "source_hidden": false
    },
    "nteract": {
     "transient": {
      "deleting": false
     }
    }
   },
   "outputs": [
    {
     "data": {
      "application/vnd.livy.statement-meta+json": {
       "execution_finish_time": "2023-09-05T17:07:32.0213891Z",
       "execution_start_time": "2023-09-05T17:07:29.4876142Z",
       "livy_statement_state": "available",
       "parent_msg_id": "d2651fac-3c89-458a-86b7-335080e689e1",
       "queued_time": "2023-09-05T17:07:19.6093812Z",
       "session_id": "ad4a141b-253f-4dc0-93ea-dbe0e2584e86",
       "session_start_time": null,
       "spark_jobs": {
        "jobs": [],
        "limit": 20,
        "numbers": {
         "FAILED": 0,
         "RUNNING": 0,
         "SUCCEEDED": 0,
         "UNKNOWN": 0
        },
        "rule": "ALL_DESC"
       },
       "spark_pool": null,
       "state": "finished",
       "statement_id": 34
      },
      "text/plain": [
       "StatementMeta(, ad4a141b-253f-4dc0-93ea-dbe0e2584e86, 34, Finished, Available)"
      ]
     },
     "metadata": {},
     "output_type": "display_data"
    },
    {
     "data": {},
     "execution_count": null,
     "metadata": {},
     "output_type": "execute_result"
    },
    {
     "name": "stdout",
     "output_type": "stream",
     "text": [
      "Requirement already satisfied: imblearn in /nfs4/pyenv-6fe11b99-7ced-420d-9b66-c698fe698c09/lib/python3.10/site-packages (0.0)\n",
      "Requirement already satisfied: imbalanced-learn in /nfs4/pyenv-6fe11b99-7ced-420d-9b66-c698fe698c09/lib/python3.10/site-packages (from imblearn) (0.11.0)\n",
      "Requirement already satisfied: numpy>=1.17.3 in /home/trusted-service-user/cluster-env/trident_env/lib/python3.10/site-packages (from imbalanced-learn->imblearn) (1.23.5)\n",
      "Requirement already satisfied: scipy>=1.5.0 in /home/trusted-service-user/cluster-env/trident_env/lib/python3.10/site-packages (from imbalanced-learn->imblearn) (1.10.1)\n",
      "Requirement already satisfied: threadpoolctl>=2.0.0 in /home/trusted-service-user/cluster-env/trident_env/lib/python3.10/site-packages (from imbalanced-learn->imblearn) (3.1.0)\n",
      "Requirement already satisfied: scikit-learn>=1.0.2 in /home/trusted-service-user/cluster-env/trident_env/lib/python3.10/site-packages (from imbalanced-learn->imblearn) (1.2.0)\n",
      "Requirement already satisfied: joblib>=1.1.1 in /home/trusted-service-user/cluster-env/trident_env/lib/python3.10/site-packages (from imbalanced-learn->imblearn) (1.2.0)\n",
      "\n",
      "\u001b[1m[\u001b[0m\u001b[34;49mnotice\u001b[0m\u001b[1;39;49m]\u001b[0m\u001b[39;49m A new release of pip is available: \u001b[0m\u001b[31;49m23.0\u001b[0m\u001b[39;49m -> \u001b[0m\u001b[32;49m23.2.1\u001b[0m\n",
      "\u001b[1m[\u001b[0m\u001b[34;49mnotice\u001b[0m\u001b[1;39;49m]\u001b[0m\u001b[39;49m To update, run: \u001b[0m\u001b[32;49m/nfs4/pyenv-6fe11b99-7ced-420d-9b66-c698fe698c09/bin/python -m pip install --upgrade pip\u001b[0m\n",
      "Note: you may need to restart the kernel to use updated packages.\n"
     ]
    },
    {
     "data": {},
     "execution_count": null,
     "metadata": {},
     "output_type": "execute_result"
    },
    {
     "name": "stdout",
     "output_type": "stream",
     "text": [
      "Warning: PySpark kernel has been restarted to use updated packages.\n",
      "\n"
     ]
    }
   ],
   "source": [
    "# Use pip to install imblearn for SMOTE\n",
    "%pip install imblearn"
   ]
  },
  {
   "cell_type": "markdown",
   "id": "7eccc566-de46-4769-91d1-0c68256c90a4",
   "metadata": {
    "nteract": {
     "transient": {
      "deleting": false
     }
    }
   },
   "source": [
    "## Step 2: Load the data"
   ]
  },
  {
   "cell_type": "markdown",
   "id": "90eec3b3-1a5d-4a3a-bfbd-78b0b035f7a9",
   "metadata": {
    "nteract": {
     "transient": {
      "deleting": false
     }
    }
   },
   "source": [
    "### Dataset\n",
    "\n",
    "The dataset in *churn.csv* contains the churn status of 10,000 customers, along with 14 attributes that include:\n",
    "\n",
    "- Credit score\n",
    "- Geographical location (Germany, France, Spain)\n",
    "- Gender (male, female)\n",
    "- Age\n",
    " Tenure (number of years the person was a customer at that bank)\n",
    "- Account balance\n",
    "- Estimated salary\n",
    "- Number of products that a customer purchased through the bank\n",
    "- Credit card status (whether or not the customer has a credit card)\n",
    "- Active member status (whether or not the person is an active bank customer)\n",
    "\n",
    "The dataset also includes row number, customer ID, and customer surname columns. Values in these columns shouldn't influence a customer's decision to leave the bank.\n",
    "\n",
    "A customer bank account closure event defines the churn for that customer. The dataset `Exited` column refers to the customer's abandonment. Since we have little context about these attributes, we don't need background information about the dataset. We want to understand how these attributes contribute to the `Exited` status.\n",
    "\n",
    "Out of those 10,000 customers, only 2037 customers (roughly 20%) left the bank. Because of the class imbalance ratio, we recommend generation of synthetic data. Confusion matrix accuracy might not have relevance for imbalanced classification. We might want to measure the accuracy using the Area Under the Precision-Recall Curve (AUPRC).\n",
    "\n",
    "- This table shows a preview of the `churn.csv` data:\n",
    "\n",
    "|CustomerID|Surname|CreditScore|Geography|Gender|Age|Tenure|Balance|NumOfProducts|HasCrCard|IsActiveMember|EstimatedSalary|Exited|\n",
    "|---|---|---|---|---|---|---|---|---|---|---|---|---|\n",
    "|15634602|Hargrave|619|France|Female|42|2|0.00|1|1|1|101348.88|1|\n",
    "|15647311|Hill|608|Spain|Female|41|1|83807.86|1|0|1|112542.58|0|"
   ]
  },
  {
   "cell_type": "markdown",
   "id": "26e0b468",
   "metadata": {},
   "source": [
    "### Download dataset and upload to lakehouse\n",
    "\n",
    "Define these parameters, so that you can use this notebook with different datasets:"
   ]
  },
  {
   "cell_type": "code",
   "execution_count": null,
   "id": "bcd5f6a9-2008-4a06-83cd-a0874797a801",
   "metadata": {
    "jupyter": {
     "outputs_hidden": false,
     "source_hidden": false
    },
    "nteract": {
     "transient": {
      "deleting": false
     }
    }
   },
   "outputs": [
    {
     "data": {
      "application/vnd.livy.statement-meta+json": {
       "execution_finish_time": "2023-09-05T17:07:36.8837612Z",
       "execution_start_time": "2023-09-05T17:07:35.6512359Z",
       "livy_statement_state": "available",
       "parent_msg_id": "e1fb2cba-90fb-4fad-afac-d07164b4bb02",
       "queued_time": "2023-09-05T17:07:19.8280415Z",
       "session_id": "ad4a141b-253f-4dc0-93ea-dbe0e2584e86",
       "session_start_time": null,
       "spark_jobs": {
        "jobs": [],
        "limit": 20,
        "numbers": {
         "FAILED": 0,
         "RUNNING": 0,
         "SUCCEEDED": 0,
         "UNKNOWN": 0
        },
        "rule": "ALL_DESC"
       },
       "spark_pool": null,
       "state": "finished",
       "statement_id": 36
      },
      "text/plain": [
       "StatementMeta(, ad4a141b-253f-4dc0-93ea-dbe0e2584e86, 36, Finished, Available)"
      ]
     },
     "metadata": {},
     "output_type": "display_data"
    }
   ],
   "source": [
    "IS_CUSTOM_DATA = False  # If TRUE, the dataset has to be uploaded manually\n",
    "\n",
    "IS_SAMPLE = False  # If TRUE, use only SAMPLE_ROWS of data for training; otherwise, use all data\n",
    "SAMPLE_ROWS = 5000  # If IS_SAMPLE is TRUE, use only this number of rows for training\n",
    "\n",
    "\n",
    "DATA_ROOT = \"/lakehouse/default\"\n",
    "DATA_FOLDER = \"Files/churn\"  # Folder with data files\n",
    "DATA_FILE = \"churn.csv\"  # Data file name"
   ]
  },
  {
   "cell_type": "markdown",
   "id": "20376a28-ff40-47a7-86a0-7fb272c88028",
   "metadata": {
    "nteract": {
     "transient": {
      "deleting": false
     }
    }
   },
   "source": [
    "\n",
    "\n",
    "This code downloads a publicly available version of the dataset, and then stores that dataset in a Fabric lakehouse:\n",
    "\n",
    "> [!IMPORTANT]\n",
    "> [Add a lakehouse](https://aka.ms/fabric/addlakehouse) to the notebook before you run it. Failure to do so will result in an error."
   ]
  },
  {
   "cell_type": "code",
   "execution_count": null,
   "id": "a89670b9-66cb-4679-84a1-bf36923d26a6",
   "metadata": {
    "jupyter": {
     "outputs_hidden": false,
     "source_hidden": false
    },
    "nteract": {
     "transient": {
      "deleting": false
     }
    }
   },
   "outputs": [
    {
     "data": {
      "application/vnd.livy.statement-meta+json": {
       "execution_finish_time": "2023-09-05T17:07:37.5667073Z",
       "execution_start_time": "2023-09-05T17:07:37.2418392Z",
       "livy_statement_state": "available",
       "parent_msg_id": "bc984c2f-b24c-4b1e-bd01-81e5324b021c",
       "queued_time": "2023-09-05T17:07:20.1116966Z",
       "session_id": "ad4a141b-253f-4dc0-93ea-dbe0e2584e86",
       "session_start_time": null,
       "spark_jobs": {
        "jobs": [],
        "limit": 20,
        "numbers": {
         "FAILED": 0,
         "RUNNING": 0,
         "SUCCEEDED": 0,
         "UNKNOWN": 0
        },
        "rule": "ALL_DESC"
       },
       "spark_pool": null,
       "state": "finished",
       "statement_id": 37
      },
      "text/plain": [
       "StatementMeta(, ad4a141b-253f-4dc0-93ea-dbe0e2584e86, 37, Finished, Available)"
      ]
     },
     "metadata": {},
     "output_type": "display_data"
    },
    {
     "name": "stdout",
     "output_type": "stream",
     "text": [
      "Downloaded demo data files into lakehouse.\n"
     ]
    }
   ],
   "source": [
    "import os, requests\n",
    "if not IS_CUSTOM_DATA:\n",
    "# With an Azure Synapse Analytics blob, this can be done in one line\n",
    "\n",
    "#  Download demo data files into the lakehouse if they don't exist\n",
    "    remote_url = \"https://synapseaisolutionsa.blob.core.windows.net/public/bankcustomerchurn\"\n",
    "    file_list = [\"churn.csv\"]\n",
    "    download_path = \"/lakehouse/default/Files/churn/raw\"\n",
    "\n",
    "    if not os.path.exists(\"/lakehouse/default\"):\n",
    "        raise FileNotFoundError(\n",
    "            \"Default lakehouse not found, please add a lakehouse and restart the session.\"\n",
    "        )\n",
    "    os.makedirs(download_path, exist_ok=True)\n",
    "    for fname in file_list:\n",
    "        if not os.path.exists(f\"{download_path}/{fname}\"):\n",
    "            r = requests.get(f\"{remote_url}/{fname}\", timeout=30)\n",
    "            with open(f\"{download_path}/{fname}\", \"wb\") as f:\n",
    "                f.write(r.content)\n",
    "    print(\"Downloaded demo data files into lakehouse.\")"
   ]
  },
  {
   "cell_type": "markdown",
   "id": "1d1e6b5c-5591-478c-aafb-6ed093b70e0b",
   "metadata": {
    "nteract": {
     "transient": {
      "deleting": false
     }
    }
   },
   "source": [
    "Start recording the time needed to run the notebook:"
   ]
  },
  {
   "cell_type": "code",
   "execution_count": null,
   "id": "2994fa0c-4a95-48e1-b463-f2eb72c1846b",
   "metadata": {
    "jupyter": {
     "outputs_hidden": false,
     "source_hidden": false
    },
    "nteract": {
     "transient": {
      "deleting": false
     }
    }
   },
   "outputs": [
    {
     "data": {
      "application/vnd.livy.statement-meta+json": {
       "execution_finish_time": "2023-09-05T17:07:39.051554Z",
       "execution_start_time": "2023-09-05T17:07:37.9494704Z",
       "livy_statement_state": "available",
       "parent_msg_id": "8b9b713f-b431-46e8-94eb-4d66a3bedcb7",
       "queued_time": "2023-09-05T17:07:20.6189726Z",
       "session_id": "ad4a141b-253f-4dc0-93ea-dbe0e2584e86",
       "session_start_time": null,
       "spark_jobs": {
        "jobs": [],
        "limit": 20,
        "numbers": {
         "FAILED": 0,
         "RUNNING": 0,
         "SUCCEEDED": 0,
         "UNKNOWN": 0
        },
        "rule": "ALL_DESC"
       },
       "spark_pool": null,
       "state": "finished",
       "statement_id": 38
      },
      "text/plain": [
       "StatementMeta(, ad4a141b-253f-4dc0-93ea-dbe0e2584e86, 38, Finished, Available)"
      ]
     },
     "metadata": {},
     "output_type": "display_data"
    }
   ],
   "source": [
    "# Record the notebook running time\n",
    "import time\n",
    "\n",
    "ts = time.time()"
   ]
  },
  {
   "cell_type": "markdown",
   "id": "1f22364a-ccb5-4686-9ac0-1120b859fbd5",
   "metadata": {
    "nteract": {
     "transient": {
      "deleting": false
     }
    }
   },
   "source": [
    "### Read raw data from the lakehouse\n",
    "\n",
    "This code reads raw data from the **Files** section of the lakehouse, and adds more columns for different date parts. Creation of the partitioned delta table uses this information."
   ]
  },
  {
   "cell_type": "code",
   "execution_count": null,
   "id": "2cfd34fd-047c-44d0-884a-4941482bd5fb",
   "metadata": {
    "jupyter": {
     "outputs_hidden": false,
     "source_hidden": false
    },
    "nteract": {
     "transient": {
      "deleting": false
     }
    }
   },
   "outputs": [
    {
     "data": {
      "application/vnd.livy.statement-meta+json": {
       "execution_finish_time": "2023-09-05T17:07:41.0464259Z",
       "execution_start_time": "2023-09-05T17:07:39.4071057Z",
       "livy_statement_state": "available",
       "parent_msg_id": "041a4756-8035-419c-86e7-fd81be3f5e6d",
       "queued_time": "2023-09-05T17:07:21.1451724Z",
       "session_id": "ad4a141b-253f-4dc0-93ea-dbe0e2584e86",
       "session_start_time": null,
       "spark_jobs": {
        "jobs": [
         {
          "completionTime": "2023-09-05T17:07:40.223GMT",
          "dataRead": 684858,
          "dataWritten": 0,
          "description": "Job group for statement 39:\ndf = (\n    spark.read.option(\"header\", True)\n    .option(\"inferSchema\", True)\n    .csv(\"Files/churn/raw/churn.csv\")\n    .cache()\n)",
          "displayName": "csv at NativeMethodAccessorImpl.java:0",
          "jobGroup": "39",
          "jobId": 25,
          "killedTasksSummary": {},
          "name": "csv at NativeMethodAccessorImpl.java:0",
          "numActiveStages": 0,
          "numActiveTasks": 0,
          "numCompletedIndices": 1,
          "numCompletedStages": 1,
          "numCompletedTasks": 1,
          "numFailedStages": 0,
          "numFailedTasks": 0,
          "numKilledTasks": 0,
          "numSkippedStages": 0,
          "numSkippedTasks": 0,
          "numTasks": 1,
          "rowCount": 10001,
          "stageIds": [
           39
          ],
          "status": "SUCCEEDED",
          "submissionTime": "2023-09-05T17:07:40.107GMT",
          "usageDescription": ""
         },
         {
          "completionTime": "2023-09-05T17:07:40.063GMT",
          "dataRead": 65536,
          "dataWritten": 0,
          "description": "Job group for statement 39:\ndf = (\n    spark.read.option(\"header\", True)\n    .option(\"inferSchema\", True)\n    .csv(\"Files/churn/raw/churn.csv\")\n    .cache()\n)",
          "displayName": "csv at NativeMethodAccessorImpl.java:0",
          "jobGroup": "39",
          "jobId": 24,
          "killedTasksSummary": {},
          "name": "csv at NativeMethodAccessorImpl.java:0",
          "numActiveStages": 0,
          "numActiveTasks": 0,
          "numCompletedIndices": 1,
          "numCompletedStages": 1,
          "numCompletedTasks": 1,
          "numFailedStages": 0,
          "numFailedTasks": 0,
          "numKilledTasks": 0,
          "numSkippedStages": 0,
          "numSkippedTasks": 0,
          "numTasks": 1,
          "rowCount": 1,
          "stageIds": [
           38
          ],
          "status": "SUCCEEDED",
          "submissionTime": "2023-09-05T17:07:39.991GMT",
          "usageDescription": ""
         }
        ],
        "limit": 20,
        "numbers": {
         "FAILED": 0,
         "RUNNING": 0,
         "SUCCEEDED": 2,
         "UNKNOWN": 0
        },
        "rule": "ALL_DESC"
       },
       "spark_pool": null,
       "state": "finished",
       "statement_id": 39
      },
      "text/plain": [
       "StatementMeta(, ad4a141b-253f-4dc0-93ea-dbe0e2584e86, 39, Finished, Available)"
      ]
     },
     "metadata": {},
     "output_type": "display_data"
    }
   ],
   "source": [
    "df = (\n",
    "    spark.read.option(\"header\", True)\n",
    "    .option(\"inferSchema\", True)\n",
    "    .csv(\"Files/churn/raw/churn.csv\")\n",
    "    .cache()\n",
    ")"
   ]
  },
  {
   "cell_type": "markdown",
   "id": "51a5c225-f482-4703-9b91-5cb6ba1970ae",
   "metadata": {},
   "source": [
    "### Create a pandas DataFrame from the dataset\n",
    "\n",
    "This code converts the Spark DataFrame to a pandas DataFrame, for easier processing and visualization:"
   ]
  },
  {
   "cell_type": "code",
   "execution_count": null,
   "id": "d550d94b-552e-41fd-b23f-3caa064f842a",
   "metadata": {
    "jupyter": {
     "outputs_hidden": false,
     "source_hidden": false
    },
    "nteract": {
     "transient": {
      "deleting": false
     }
    }
   },
   "outputs": [
    {
     "data": {
      "application/vnd.livy.statement-meta+json": {
       "execution_finish_time": "2023-09-05T17:07:41.7394413Z",
       "execution_start_time": "2023-09-05T17:07:41.3918447Z",
       "livy_statement_state": "available",
       "parent_msg_id": "fa6435be-8eb8-4cb7-a569-676f3540d7ba",
       "queued_time": "2023-09-05T17:07:21.51745Z",
       "session_id": "ad4a141b-253f-4dc0-93ea-dbe0e2584e86",
       "session_start_time": null,
       "spark_jobs": {
        "jobs": [],
        "limit": 20,
        "numbers": {
         "FAILED": 0,
         "RUNNING": 0,
         "SUCCEEDED": 0,
         "UNKNOWN": 0
        },
        "rule": "ALL_DESC"
       },
       "spark_pool": null,
       "state": "finished",
       "statement_id": 40
      },
      "text/plain": [
       "StatementMeta(, ad4a141b-253f-4dc0-93ea-dbe0e2584e86, 40, Finished, Available)"
      ]
     },
     "metadata": {},
     "output_type": "display_data"
    }
   ],
   "source": [
    "df = df.toPandas()"
   ]
  },
  {
   "cell_type": "markdown",
   "id": "44379940-befb-4b21-a377-41ba78366ca3",
   "metadata": {
    "nteract": {
     "transient": {
      "deleting": false
     }
    }
   },
   "source": [
    "## Step 3: Perform exploratory data analysis"
   ]
  },
  {
   "cell_type": "markdown",
   "id": "cf0eb500-e05e-4e62-b297-0189a31d1037",
   "metadata": {
    "nteract": {
     "transient": {
      "deleting": false
     }
    }
   },
   "source": [
    "### Display raw data\n",
    "\n",
    "Explore the raw data with `display`, calculate some basic statistics, and show chart views. You must first import the required libraries for data visualization - for example, [seaborn](https://seaborn.pydata.org/). Seaborn is a Python data visualization library, and it provides a high-level interface to build visuals on dataframes and arrays."
   ]
  },
  {
   "cell_type": "code",
   "execution_count": null,
   "id": "73290de5-ed00-415a-b546-5f4a7586cff7",
   "metadata": {
    "jupyter": {
     "outputs_hidden": false,
     "source_hidden": false
    },
    "nteract": {
     "transient": {
      "deleting": false
     }
    }
   },
   "outputs": [
    {
     "data": {
      "application/vnd.livy.statement-meta+json": {
       "execution_finish_time": "2023-09-05T17:07:43.0205641Z",
       "execution_start_time": "2023-09-05T17:07:42.1179128Z",
       "livy_statement_state": "available",
       "parent_msg_id": "d99608e4-495d-44aa-9a1d-cbc1d47a2626",
       "queued_time": "2023-09-05T17:07:21.9676697Z",
       "session_id": "ad4a141b-253f-4dc0-93ea-dbe0e2584e86",
       "session_start_time": null,
       "spark_jobs": {
        "jobs": [],
        "limit": 20,
        "numbers": {
         "FAILED": 0,
         "RUNNING": 0,
         "SUCCEEDED": 0,
         "UNKNOWN": 0
        },
        "rule": "ALL_DESC"
       },
       "spark_pool": null,
       "state": "finished",
       "statement_id": 41
      },
      "text/plain": [
       "StatementMeta(, ad4a141b-253f-4dc0-93ea-dbe0e2584e86, 41, Finished, Available)"
      ]
     },
     "metadata": {},
     "output_type": "display_data"
    }
   ],
   "source": [
    "import seaborn as sns\n",
    "sns.set_theme(style=\"whitegrid\", palette=\"tab10\", rc = {'figure.figsize':(9,6)})\n",
    "import matplotlib.pyplot as plt\n",
    "import matplotlib.ticker as mticker\n",
    "from matplotlib import rc, rcParams\n",
    "import numpy as np\n",
    "import pandas as pd\n",
    "import itertools"
   ]
  },
  {
   "cell_type": "code",
   "execution_count": null,
   "id": "7e4e1172-c117-4a3e-8d40-e3c983f750c9",
   "metadata": {
    "jupyter": {
     "outputs_hidden": false,
     "source_hidden": false
    },
    "nteract": {
     "transient": {
      "deleting": false
     }
    }
   },
   "outputs": [
    {
     "data": {
      "application/vnd.livy.statement-meta+json": {
       "execution_finish_time": "2023-09-05T17:07:45.2267466Z",
       "execution_start_time": "2023-09-05T17:07:43.4288619Z",
       "livy_statement_state": "available",
       "parent_msg_id": "ef4e11d2-10a3-4d79-b23e-e53ba4833d7e",
       "queued_time": "2023-09-05T17:07:22.5127319Z",
       "session_id": "ad4a141b-253f-4dc0-93ea-dbe0e2584e86",
       "session_start_time": null,
       "spark_jobs": {
        "jobs": [
         {
          "completionTime": "2023-09-05T17:07:44.521GMT",
          "dataRead": 584805,
          "dataWritten": 0,
          "description": "Job group for statement 42:\ndisplay(df, summary=True)",
          "displayName": "collect at AnalysisRunner.scala:328",
          "jobGroup": "42",
          "jobId": 28,
          "killedTasksSummary": {},
          "name": "collect at AnalysisRunner.scala:328",
          "numActiveStages": 0,
          "numActiveTasks": 0,
          "numCompletedIndices": 1,
          "numCompletedStages": 1,
          "numCompletedTasks": 1,
          "numFailedStages": 0,
          "numFailedTasks": 0,
          "numKilledTasks": 0,
          "numSkippedStages": 1,
          "numSkippedTasks": 8,
          "numTasks": 9,
          "rowCount": 8,
          "stageIds": [
           42,
           43
          ],
          "status": "SUCCEEDED",
          "submissionTime": "2023-09-05T17:07:44.400GMT",
          "usageDescription": ""
         },
         {
          "completionTime": "2023-09-05T17:07:44.356GMT",
          "dataRead": 0,
          "dataWritten": 584805,
          "description": "Job group for statement 42:\ndisplay(df, summary=True)",
          "displayName": "collect at AnalysisRunner.scala:328",
          "jobGroup": "42",
          "jobId": 27,
          "killedTasksSummary": {},
          "name": "collect at AnalysisRunner.scala:328",
          "numActiveStages": 0,
          "numActiveTasks": 0,
          "numCompletedIndices": 8,
          "numCompletedStages": 1,
          "numCompletedTasks": 8,
          "numFailedStages": 0,
          "numFailedTasks": 0,
          "numKilledTasks": 0,
          "numSkippedStages": 0,
          "numSkippedTasks": 0,
          "numTasks": 8,
          "rowCount": 8,
          "stageIds": [
           41
          ],
          "status": "SUCCEEDED",
          "submissionTime": "2023-09-05T17:07:43.866GMT",
          "usageDescription": ""
         }
        ],
        "limit": 20,
        "numbers": {
         "FAILED": 0,
         "RUNNING": 0,
         "SUCCEEDED": 2,
         "UNKNOWN": 0
        },
        "rule": "ALL_DESC"
       },
       "spark_pool": null,
       "state": "finished",
       "statement_id": 42
      },
      "text/plain": [
       "StatementMeta(, ad4a141b-253f-4dc0-93ea-dbe0e2584e86, 42, Finished, Available)"
      ]
     },
     "metadata": {},
     "output_type": "display_data"
    },
    {
     "name": "stderr",
     "output_type": "stream",
     "text": [
      "/opt/spark/python/lib/pyspark.zip/pyspark/sql/pandas/conversion.py:604: FutureWarning: iteritems is deprecated and will be removed in a future version. Use .items instead.\n",
      "  [(c, t) for (_, c), t in zip(pdf_slice.iteritems(), arrow_types)]\n"
     ]
    },
    {
     "data": {
      "application/vnd.synapse.widget-view+json": {
       "widget_id": "80cdf300-f868-4c74-a5e2-347e3b0c6547",
       "widget_type": "Synapse.DataFrame"
      },
      "text/plain": [
       "SynapseWidget(Synapse.DataFrame, 80cdf300-f868-4c74-a5e2-347e3b0c6547)"
      ]
     },
     "metadata": {},
     "output_type": "display_data"
    }
   ],
   "source": [
    "display(df, summary=True)"
   ]
  },
  {
   "cell_type": "markdown",
   "id": "d5f34273-fae3-4de1-ac85-1807146a121c",
   "metadata": {
    "nteract": {
     "transient": {
      "deleting": false
     }
    }
   },
   "source": [
    "### Use Data Wrangler to perform initial data cleansing\n",
    "\n",
    "Launch Data Wrangler directly from the notebook to explore and transform pandas dataframes. At the notebook ribbon **Data** tab, use the Data Wrangler dropdown prompt to browse the activated pandas DataFrames available for editing. Select the DataFrame you want to open in Data Wrangler.\n",
    "\n",
    "> [!NOTE]\n",
    "> Data Wrangler cannot be opened while the notebook kernel is busy. The cell execution must finish before you launch Data Wrangler. [Learn more about Data Wrangler](https://aka.ms/fabric/datawrangler).\n",
    "\n",
    "<br>\n",
    "\n",
    "<img src=\"https://sdkstorerta.blob.core.windows.net/churnblob/select_datawrangler.png\"  width=\"40%\" height=\"10%\" title=\"Screenshot shows where to access the Data Wrangler.\">"
   ]
  },
  {
   "cell_type": "markdown",
   "id": "eacf1362-b8fc-403d-a0f4-42b3c369d303",
   "metadata": {
    "nteract": {
     "transient": {
      "deleting": false
     }
    }
   },
   "source": [
    "After the Data Wrangler launches, a descriptive overview of the data panel is generated, as shown in the following images. The overview includes information about the dimension of the DataFrame, any missing values, etc. You can use Data Wrangler to generate the script to drop the rows with missing values, the duplicate rows and the columns with specific names. Then, you can copy the script into a cell. The next cell shows that copied script.\n",
    "\n",
    "<img style=\"float: left;\" src=\"https://sdkstorerta.blob.core.windows.net/churnblob/menu_datawrangler.png\"  width=\"45%\" height=\"10%\" title=\"Screenshot shows Data Wrangler menu.\"> \n",
    "<img style=\"float: left;\" src=\"https://sdkstorerta.blob.core.windows.net/churnblob/missing_data_datawrangler.png\"  width=\"45%\" height=\"10%\" title=\"Screenshot shows Data Wrangler missing data display.\">\n",
    "\n"
   ]
  },
  {
   "cell_type": "code",
   "execution_count": null,
   "id": "18014588-2616-4753-8c17-b115aab07310",
   "metadata": {
    "jupyter": {
     "outputs_hidden": false,
     "source_hidden": false
    },
    "nteract": {
     "transient": {
      "deleting": false
     }
    }
   },
   "outputs": [
    {
     "data": {
      "application/vnd.livy.statement-meta+json": {
       "execution_finish_time": "2023-09-05T17:07:46.8779753Z",
       "execution_start_time": "2023-09-05T17:07:45.6319875Z",
       "livy_statement_state": "available",
       "parent_msg_id": "4af8edec-b7f0-4481-849a-95be539d58cd",
       "queued_time": "2023-09-05T17:07:22.8585131Z",
       "session_id": "ad4a141b-253f-4dc0-93ea-dbe0e2584e86",
       "session_start_time": null,
       "spark_jobs": {
        "jobs": [],
        "limit": 20,
        "numbers": {
         "FAILED": 0,
         "RUNNING": 0,
         "SUCCEEDED": 0,
         "UNKNOWN": 0
        },
        "rule": "ALL_DESC"
       },
       "spark_pool": null,
       "state": "finished",
       "statement_id": 43
      },
      "text/plain": [
       "StatementMeta(, ad4a141b-253f-4dc0-93ea-dbe0e2584e86, 43, Finished, Available)"
      ]
     },
     "metadata": {},
     "output_type": "display_data"
    }
   ],
   "source": [
    "def clean_data(df):\n",
    "    # Drop rows with missing data across all columns\n",
    "    df.dropna(inplace=True)\n",
    "    # Drop duplicate rows in columns: 'RowNumber', 'CustomerId'\n",
    "    df.drop_duplicates(subset=['RowNumber', 'CustomerId'], inplace=True)\n",
    "    # Drop columns: 'RowNumber', 'CustomerId', 'Surname'\n",
    "    df.drop(columns=['RowNumber', 'CustomerId', 'Surname'], inplace=True)\n",
    "    return df\n",
    "\n",
    "df_clean = clean_data(df.copy())"
   ]
  },
  {
   "cell_type": "code",
   "execution_count": null,
   "id": "4e92aa6e-bf04-49e6-b4d4-bb3373f09ae3",
   "metadata": {
    "jupyter": {
     "outputs_hidden": false,
     "source_hidden": false
    },
    "nteract": {
     "transient": {
      "deleting": false
     }
    }
   },
   "outputs": [
    {
     "data": {
      "application/vnd.livy.statement-meta+json": {
       "execution_finish_time": "2023-09-05T17:07:47.5892728Z",
       "execution_start_time": "2023-09-05T17:07:47.248448Z",
       "livy_statement_state": "available",
       "parent_msg_id": "b70bee03-54b3-4736-b907-81bb926657e7",
       "queued_time": "2023-09-05T17:07:23.3882116Z",
       "session_id": "ad4a141b-253f-4dc0-93ea-dbe0e2584e86",
       "session_start_time": null,
       "spark_jobs": {
        "jobs": [],
        "limit": 20,
        "numbers": {
         "FAILED": 0,
         "RUNNING": 0,
         "SUCCEEDED": 0,
         "UNKNOWN": 0
        },
        "rule": "ALL_DESC"
       },
       "spark_pool": null,
       "state": "finished",
       "statement_id": 44
      },
      "text/plain": [
       "StatementMeta(, ad4a141b-253f-4dc0-93ea-dbe0e2584e86, 44, Finished, Available)"
      ]
     },
     "metadata": {},
     "output_type": "display_data"
    }
   ],
   "source": [
    "# if IS_SAMPLE is True, use only SAMPLE_ROWS of rows for training\n",
    "if IS_SAMPLE:\n",
    "    df_clean = df_clean.limit(SAMPLE_ROWS)"
   ]
  },
  {
   "cell_type": "markdown",
   "id": "2922660b-dd45-4c2d-8a75-7431fefffb0c",
   "metadata": {
    "nteract": {
     "transient": {
      "deleting": false
     }
    }
   },
   "source": [
    "### Determine attributes\n",
    "\n",
    "This code determines the categorical, numerical, and target attributes:"
   ]
  },
  {
   "cell_type": "code",
   "execution_count": null,
   "id": "3adb4922-607e-4f4e-bdb2-bda535acb94c",
   "metadata": {
    "jupyter": {
     "outputs_hidden": false,
     "source_hidden": false
    },
    "nteract": {
     "transient": {
      "deleting": false
     }
    }
   },
   "outputs": [
    {
     "data": {
      "application/vnd.livy.statement-meta+json": {
       "execution_finish_time": "2023-09-05T17:07:48.3542284Z",
       "execution_start_time": "2023-09-05T17:07:48.0204396Z",
       "livy_statement_state": "available",
       "parent_msg_id": "85795237-ff21-4f91-8938-1279cc6536fb",
       "queued_time": "2023-09-05T17:07:23.9219192Z",
       "session_id": "ad4a141b-253f-4dc0-93ea-dbe0e2584e86",
       "session_start_time": null,
       "spark_jobs": {
        "jobs": [],
        "limit": 20,
        "numbers": {
         "FAILED": 0,
         "RUNNING": 0,
         "SUCCEEDED": 0,
         "UNKNOWN": 0
        },
        "rule": "ALL_DESC"
       },
       "spark_pool": null,
       "state": "finished",
       "statement_id": 45
      },
      "text/plain": [
       "StatementMeta(, ad4a141b-253f-4dc0-93ea-dbe0e2584e86, 45, Finished, Available)"
      ]
     },
     "metadata": {},
     "output_type": "display_data"
    },
    {
     "name": "stdout",
     "output_type": "stream",
     "text": [
      "Exited\n",
      "['Geography', 'Gender', 'NumOfProducts', 'HasCrCard', 'IsActiveMember']\n",
      "['CreditScore', 'Age', 'Tenure', 'Balance', 'EstimatedSalary']\n"
     ]
    }
   ],
   "source": [
    "# Determine the dependent (target) attribute\n",
    "dependent_variable_name = \"Exited\"\n",
    "print(dependent_variable_name)\n",
    "# Determine the categorical attributes\n",
    "categorical_variables = [col for col in df_clean.columns if col in \"O\"\n",
    "                        or df_clean[col].nunique() <=5\n",
    "                        and col not in \"Exited\"]\n",
    "print(categorical_variables)\n",
    "# Determine the numerical attributes\n",
    "numeric_variables = [col for col in df_clean.columns if df_clean[col].dtype != \"object\"\n",
    "                        and df_clean[col].nunique() >5]\n",
    "print(numeric_variables)"
   ]
  },
  {
   "cell_type": "markdown",
   "id": "0640a89c-6a64-4978-89f1-5a45cdd1303e",
   "metadata": {
    "nteract": {
     "transient": {
      "deleting": false
     }
    }
   },
   "source": [
    "### Show the five-number summary\n",
    "\n",
    "Show the five-number summary (minimum score, first quartile, median, third quartile, and maximum score) for the numerical attributes by using box plots:"
   ]
  },
  {
   "cell_type": "code",
   "execution_count": null,
   "id": "f45982d4-de27-43b5-b826-e93730d7e66c",
   "metadata": {
    "jupyter": {
     "outputs_hidden": false,
     "source_hidden": false
    },
    "nteract": {
     "transient": {
      "deleting": false
     }
    }
   },
   "outputs": [
    {
     "data": {
      "application/vnd.livy.statement-meta+json": {
       "execution_finish_time": "2023-09-05T17:07:49.7197377Z",
       "execution_start_time": "2023-09-05T17:07:48.7560279Z",
       "livy_statement_state": "available",
       "parent_msg_id": "1514e5f6-2e74-4f6c-94de-93fbc80be192",
       "queued_time": "2023-09-05T17:07:24.3636474Z",
       "session_id": "ad4a141b-253f-4dc0-93ea-dbe0e2584e86",
       "session_start_time": null,
       "spark_jobs": {
        "jobs": [],
        "limit": 20,
        "numbers": {
         "FAILED": 0,
         "RUNNING": 0,
         "SUCCEEDED": 0,
         "UNKNOWN": 0
        },
        "rule": "ALL_DESC"
       },
       "spark_pool": null,
       "state": "finished",
       "statement_id": 46
      },
      "text/plain": [
       "StatementMeta(, ad4a141b-253f-4dc0-93ea-dbe0e2584e86, 46, Finished, Available)"
      ]
     },
     "metadata": {},
     "output_type": "display_data"
    },
    {
     "name": "stderr",
     "output_type": "stream",
     "text": [
      "/tmp/ipykernel_4067/2095287195.py:4: UserWarning: This figure includes Axes that are not compatible with tight_layout, so results might be incorrect.\n",
      "  fig.tight_layout()\n"
     ]
    },
    {
     "data": {
      "image/png": "[encoded data removed]",
      "text/plain": [
       "<Figure size 1700x800 with 5 Axes>"
      ]
     },
     "metadata": {},
     "output_type": "display_data"
    }
   ],
   "source": [
    "df_num_cols = df_clean[numeric_variables]\n",
    "sns.set(font_scale = 0.7) \n",
    "fig, axes = plt.subplots(nrows = 2, ncols = 3, gridspec_kw =  dict(hspace=0.3), figsize = (17,8))\n",
    "fig.tight_layout()\n",
    "for ax,col in zip(axes.flatten(), df_num_cols.columns):\n",
    "    sns.boxplot(x = df_num_cols[col], color='green', ax = ax)\n",
    "# fig.suptitle('visualize and compare the distribution and central tendency of numerical attributes', color = 'k', fontsize = 12)\n",
    "fig.delaxes(axes[1,2])\n"
   ]
  },
  {
   "cell_type": "markdown",
   "id": "a320fd15-64eb-493e-9b60-500ad4535435",
   "metadata": {
    "nteract": {
     "transient": {
      "deleting": false
     }
    }
   },
   "source": [
    "Show the distribution of exited versus non-exited customers across the categorical attributes:"
   ]
  },
  {
   "cell_type": "code",
   "execution_count": null,
   "id": "c4811cab-6cdc-4014-a0ab-8f90232e6603",
   "metadata": {
    "jupyter": {
     "outputs_hidden": false,
     "source_hidden": false
    },
    "nteract": {
     "transient": {
      "deleting": false
     }
    }
   },
   "outputs": [
    {
     "data": {
      "application/vnd.livy.statement-meta+json": {
       "execution_finish_time": "2023-09-05T17:07:51.054247Z",
       "execution_start_time": "2023-09-05T17:07:50.136599Z",
       "livy_statement_state": "available",
       "parent_msg_id": "4963f8ea-ebab-40cf-b231-e6ab7b6f04a2",
       "queued_time": "2023-09-05T17:07:24.8354564Z",
       "session_id": "ad4a141b-253f-4dc0-93ea-dbe0e2584e86",
       "session_start_time": null,
       "spark_jobs": {
        "jobs": [],
        "limit": 20,
        "numbers": {
         "FAILED": 0,
         "RUNNING": 0,
         "SUCCEEDED": 0,
         "UNKNOWN": 0
        },
        "rule": "ALL_DESC"
       },
       "spark_pool": null,
       "state": "finished",
       "statement_id": 47
      },
      "text/plain": [
       "StatementMeta(, ad4a141b-253f-4dc0-93ea-dbe0e2584e86, 47, Finished, Available)"
      ]
     },
     "metadata": {},
     "output_type": "display_data"
    },
    {
     "data": {
      "image/png": "[encoded data removed]",
      "text/plain": [
       "<Figure size 1500x400 with 6 Axes>"
      ]
     },
     "metadata": {},
     "output_type": "display_data"
    }
   ],
   "source": [
    "attr_list = ['Geography', 'Gender', 'HasCrCard', 'IsActiveMember', 'NumOfProducts', 'Tenure']\n",
    "fig, axarr = plt.subplots(2, 3, figsize=(15, 4))\n",
    "for ind, item in enumerate (attr_list):\n",
    "    sns.countplot(x = item, hue = 'Exited', data = df_clean, ax = axarr[ind%2][ind//2])\n",
    "fig.subplots_adjust(hspace=0.7)"
   ]
  },
  {
   "cell_type": "markdown",
   "id": "5075fddc-1cce-4c64-8d17-499a309440d7",
   "metadata": {
    "nteract": {
     "transient": {
      "deleting": false
     }
    }
   },
   "source": [
    "Use a histogram to show the frequency distribution of numerical attributes:"
   ]
  },
  {
   "cell_type": "code",
   "execution_count": null,
   "id": "8626b081-a301-4cfa-9db3-38ab8524879d",
   "metadata": {
    "jupyter": {
     "outputs_hidden": false,
     "source_hidden": false
    },
    "nteract": {
     "transient": {
      "deleting": false
     }
    }
   },
   "outputs": [
    {
     "data": {
      "application/vnd.livy.statement-meta+json": {
       "execution_finish_time": "2023-09-05T17:07:53.2311238Z",
       "execution_start_time": "2023-09-05T17:07:51.5531524Z",
       "livy_statement_state": "available",
       "parent_msg_id": "326e90f1-227d-4fa6-8f6b-a9d2c800c96e",
       "queued_time": "2023-09-05T17:07:25.2177889Z",
       "session_id": "ad4a141b-253f-4dc0-93ea-dbe0e2584e86",
       "session_start_time": null,
       "spark_jobs": {
        "jobs": [],
        "limit": 20,
        "numbers": {
         "FAILED": 0,
         "RUNNING": 0,
         "SUCCEEDED": 0,
         "UNKNOWN": 0
        },
        "rule": "ALL_DESC"
       },
       "spark_pool": null,
       "state": "finished",
       "statement_id": 48
      },
      "text/plain": [
       "StatementMeta(, ad4a141b-253f-4dc0-93ea-dbe0e2584e86, 48, Finished, Available)"
      ]
     },
     "metadata": {},
     "output_type": "display_data"
    },
    {
     "data": {
      "image/png": "[encoded data removed]",
      "text/plain": [
       "<Figure size 1800x800 with 5 Axes>"
      ]
     },
     "metadata": {},
     "output_type": "display_data"
    }
   ],
   "source": [
    "columns = df_num_cols.columns[: len(df_num_cols.columns)]\n",
    "fig = plt.figure()\n",
    "fig.set_size_inches(18, 8)\n",
    "length = len(columns)\n",
    "for i,j in itertools.zip_longest(columns, range(length)):\n",
    "    plt.subplot((length // 2), 3, j+1)\n",
    "    plt.subplots_adjust(wspace = 0.2, hspace = 0.5)\n",
    "    df_num_cols[i].hist(bins = 20, edgecolor = 'black')\n",
    "    plt.title(i)\n",
    "# fig = fig.suptitle('distribution of numerical attributes', color = 'r' ,fontsize = 14)\n",
    "plt.show()"
   ]
  },
  {
   "cell_type": "markdown",
   "id": "945e1166-0e88-4baa-ac2c-b56b7eeeb7c4",
   "metadata": {
    "nteract": {
     "transient": {
      "deleting": false
     }
    }
   },
   "source": [
    "### Perform feature engineering \n",
    "\n",
    "This feature engineering generates new attributes based on the current attributes:"
   ]
  },
  {
   "cell_type": "code",
   "execution_count": null,
   "id": "e8a3e0c5-db7b-44bf-b11b-8d323934e151",
   "metadata": {
    "jupyter": {
     "outputs_hidden": false,
     "source_hidden": false
    },
    "nteract": {
     "transient": {
      "deleting": false
     }
    }
   },
   "outputs": [
    {
     "data": {
      "application/vnd.livy.statement-meta+json": {
       "execution_finish_time": "2023-09-05T17:07:53.9722051Z",
       "execution_start_time": "2023-09-05T17:07:53.6533109Z",
       "livy_statement_state": "available",
       "parent_msg_id": "639b3fa9-f947-4028-ad1d-928abd136b4d",
       "queued_time": "2023-09-05T17:07:25.5359649Z",
       "session_id": "ad4a141b-253f-4dc0-93ea-dbe0e2584e86",
       "session_start_time": null,
       "spark_jobs": {
        "jobs": [],
        "limit": 20,
        "numbers": {
         "FAILED": 0,
         "RUNNING": 0,
         "SUCCEEDED": 0,
         "UNKNOWN": 0
        },
        "rule": "ALL_DESC"
       },
       "spark_pool": null,
       "state": "finished",
       "statement_id": 49
      },
      "text/plain": [
       "StatementMeta(, ad4a141b-253f-4dc0-93ea-dbe0e2584e86, 49, Finished, Available)"
      ]
     },
     "metadata": {},
     "output_type": "display_data"
    }
   ],
   "source": [
    "df_clean[\"NewTenure\"] = df_clean[\"Tenure\"]/df_clean[\"Age\"]\n",
    "df_clean[\"NewCreditsScore\"] = pd.qcut(df_clean['CreditScore'], 6, labels = [1, 2, 3, 4, 5, 6])\n",
    "df_clean[\"NewAgeScore\"] = pd.qcut(df_clean['Age'], 8, labels = [1, 2, 3, 4, 5, 6, 7, 8])\n",
    "df_clean[\"NewBalanceScore\"] = pd.qcut(df_clean['Balance'].rank(method=\"first\"), 5, labels = [1, 2, 3, 4, 5])\n",
    "df_clean[\"NewEstSalaryScore\"] = pd.qcut(df_clean['EstimatedSalary'], 10, labels = [1, 2, 3, 4, 5, 6, 7, 8, 9, 10])"
   ]
  },
  {
   "cell_type": "markdown",
   "id": "76be9b0c-3f67-461f-8bd7-cd0450b2bc1e",
   "metadata": {
    "nteract": {
     "transient": {
      "deleting": false
     }
    }
   },
   "source": [
    "### Use Data Wrangler to perform one-hot encoding\n",
    "\n",
    "With the same steps to launch Data Wrangler, as discussed earlier, use the Data Wrangler to perform one-hot encoding. This cell shows the copied generated script for one-hot encoding:\n",
    "\n",
    "<img style=\"float: left;\" src=\"https://sdkstorerta.blob.core.windows.net/churnblob/1hotencoding_data_wrangler.png\"  width=\"45%\" height=\"20%\" title=\"Screenshot shows one-hot encoding in the Data Wrangler\"> \n",
    "<img style=\"float: left;\" src=\"https://sdkstorerta.blob.core.windows.net/churnblob/1hotencoding_selectcolumns_data_wrangler.png\"  width=\"45%\" height=\"20%\" title=\"Screenshot shows selection of columns in the Data Wrangler.\">\n",
    "\n",
    "\n",
    "\n"
   ]
  },
  {
   "cell_type": "code",
   "execution_count": null,
   "id": "2b924a18-faf5-4b0b-8b57-3480f2f93083",
   "metadata": {
    "jupyter": {
     "outputs_hidden": false,
     "source_hidden": false
    },
    "nteract": {
     "transient": {
      "deleting": false
     }
    }
   },
   "outputs": [
    {
     "data": {
      "application/vnd.livy.statement-meta+json": {
       "execution_finish_time": "2023-09-05T17:07:54.6945549Z",
       "execution_start_time": "2023-09-05T17:07:54.350239Z",
       "livy_statement_state": "available",
       "parent_msg_id": "e08efaf8-9f84-4d77-8489-5d0bd45e0adb",
       "queued_time": "2023-09-05T17:07:25.8501668Z",
       "session_id": "ad4a141b-253f-4dc0-93ea-dbe0e2584e86",
       "session_start_time": null,
       "spark_jobs": {
        "jobs": [],
        "limit": 20,
        "numbers": {
         "FAILED": 0,
         "RUNNING": 0,
         "SUCCEEDED": 0,
         "UNKNOWN": 0
        },
        "rule": "ALL_DESC"
       },
       "spark_pool": null,
       "state": "finished",
       "statement_id": 50
      },
      "text/plain": [
       "StatementMeta(, ad4a141b-253f-4dc0-93ea-dbe0e2584e86, 50, Finished, Available)"
      ]
     },
     "metadata": {},
     "output_type": "display_data"
    }
   ],
   "source": [
    "df_clean = pd.get_dummies(df_clean, columns=['Geography', 'Gender'])"
   ]
  },
  {
   "cell_type": "markdown",
   "id": "5c4f77d9-1167-460e-a3ba-3268acafd285",
   "metadata": {
    "nteract": {
     "transient": {
      "deleting": false
     }
    }
   },
   "source": [
    "### Create a delta table to generate the Power BI report"
   ]
  },
  {
   "cell_type": "code",
   "execution_count": null,
   "id": "9061366a-dd4f-43e1-9b81-081f43d20378",
   "metadata": {
    "jupyter": {
     "outputs_hidden": false,
     "source_hidden": false
    },
    "nteract": {
     "transient": {
      "deleting": false
     }
    }
   },
   "outputs": [
    {
     "data": {
      "application/vnd.livy.statement-meta+json": {
       "execution_finish_time": "2023-09-05T17:07:59.6012663Z",
       "execution_start_time": "2023-09-05T17:07:55.0738073Z",
       "livy_statement_state": "available",
       "parent_msg_id": "bcc6fa9b-37c7-4e42-921c-3c91a6f40280",
       "queued_time": "2023-09-05T17:07:26.1828921Z",
       "session_id": "ad4a141b-253f-4dc0-93ea-dbe0e2584e86",
       "session_start_time": null,
       "spark_jobs": {
        "jobs": [
         {
          "completionTime": "2023-09-05T17:07:58.588GMT",
          "dataRead": 4562,
          "dataWritten": 0,
          "description": "Delta: Job group for statement 51:\ntable_name = \"df_clean\"\n# Create PySpark DataFrame from Pandas\nsparkDF=spark.createDataFrame(df_clean) \nsparkDF.write.mode(\"overwrite\").format(\"delta\").save(f\"Tables/{table_name}\")\nprint(f\"Spark dataframe saved to delta table: {table_name}\"): Compute snapshot for version: 5",
          "displayName": "toString at String.java:2994",
          "jobGroup": "51",
          "jobId": 34,
          "killedTasksSummary": {},
          "name": "toString at String.java:2994",
          "numActiveStages": 0,
          "numActiveTasks": 0,
          "numCompletedIndices": 1,
          "numCompletedStages": 1,
          "numCompletedTasks": 1,
          "numFailedStages": 0,
          "numFailedTasks": 0,
          "numKilledTasks": 0,
          "numSkippedStages": 2,
          "numSkippedTasks": 56,
          "numTasks": 57,
          "rowCount": 50,
          "stageIds": [
           52,
           53,
           54
          ],
          "status": "SUCCEEDED",
          "submissionTime": "2023-09-05T17:07:58.548GMT",
          "usageDescription": ""
         },
         {
          "completionTime": "2023-09-05T17:07:58.520GMT",
          "dataRead": 11371,
          "dataWritten": 4562,
          "description": "Delta: Job group for statement 51:\ntable_name = \"df_clean\"\n# Create PySpark DataFrame from Pandas\nsparkDF=spark.createDataFrame(df_clean) \nsparkDF.write.mode(\"overwrite\").format(\"delta\").save(f\"Tables/{table_name}\")\nprint(f\"Spark dataframe saved to delta table: {table_name}\"): Compute snapshot for version: 5",
          "displayName": "toString at String.java:2994",
          "jobGroup": "51",
          "jobId": 33,
          "killedTasksSummary": {},
          "name": "toString at String.java:2994",
          "numActiveStages": 0,
          "numActiveTasks": 0,
          "numCompletedIndices": 50,
          "numCompletedStages": 1,
          "numCompletedTasks": 50,
          "numFailedStages": 0,
          "numFailedTasks": 0,
          "numKilledTasks": 0,
          "numSkippedStages": 1,
          "numSkippedTasks": 6,
          "numTasks": 56,
          "rowCount": 69,
          "stageIds": [
           51,
           50
          ],
          "status": "SUCCEEDED",
          "submissionTime": "2023-09-05T17:07:57.830GMT",
          "usageDescription": ""
         },
         {
          "completionTime": "2023-09-05T17:07:57.388GMT",
          "dataRead": 13830,
          "dataWritten": 11371,
          "description": "Delta: Job group for statement 51:\ntable_name = \"df_clean\"\n# Create PySpark DataFrame from Pandas\nsparkDF=spark.createDataFrame(df_clean) \nsparkDF.write.mode(\"overwrite\").format(\"delta\").save(f\"Tables/{table_name}\")\nprint(f\"Spark dataframe saved to delta table: {table_name}\"): Compute snapshot for version: 5",
          "displayName": "toString at String.java:2994",
          "jobGroup": "51",
          "jobId": 32,
          "killedTasksSummary": {},
          "name": "toString at String.java:2994",
          "numActiveStages": 0,
          "numActiveTasks": 0,
          "numCompletedIndices": 6,
          "numCompletedStages": 1,
          "numCompletedTasks": 6,
          "numFailedStages": 0,
          "numFailedTasks": 0,
          "numKilledTasks": 0,
          "numSkippedStages": 0,
          "numSkippedTasks": 0,
          "numTasks": 6,
          "rowCount": 38,
          "stageIds": [
           49
          ],
          "status": "SUCCEEDED",
          "submissionTime": "2023-09-05T17:07:57.249GMT",
          "usageDescription": ""
         },
         {
          "completionTime": "2023-09-05T17:07:56.794GMT",
          "dataRead": 2914,
          "dataWritten": 0,
          "description": "Job group for statement 51:\ntable_name = \"df_clean\"\n# Create PySpark DataFrame from Pandas\nsparkDF=spark.createDataFrame(df_clean) \nsparkDF.write.mode(\"overwrite\").format(\"delta\").save(f\"Tables/{table_name}\")\nprint(f\"Spark dataframe saved to delta table: {table_name}\")",
          "displayName": "$anonfun$recordDeltaOperationInternal$1 at SynapseLoggingShim.scala:95",
          "jobGroup": "51",
          "jobId": 31,
          "killedTasksSummary": {},
          "name": "$anonfun$recordDeltaOperationInternal$1 at SynapseLoggingShim.scala:95",
          "numActiveStages": 0,
          "numActiveTasks": 0,
          "numCompletedIndices": 50,
          "numCompletedStages": 1,
          "numCompletedTasks": 50,
          "numFailedStages": 0,
          "numFailedTasks": 0,
          "numKilledTasks": 0,
          "numSkippedStages": 1,
          "numSkippedTasks": 5,
          "numTasks": 55,
          "rowCount": 6,
          "stageIds": [
           48,
           47
          ],
          "status": "SUCCEEDED",
          "submissionTime": "2023-09-05T17:07:56.572GMT",
          "usageDescription": ""
         },
         {
          "completionTime": "2023-09-05T17:07:56.458GMT",
          "dataRead": 576817,
          "dataWritten": 188341,
          "description": "Job group for statement 51:\ntable_name = \"df_clean\"\n# Create PySpark DataFrame from Pandas\nsparkDF=spark.createDataFrame(df_clean) \nsparkDF.write.mode(\"overwrite\").format(\"delta\").save(f\"Tables/{table_name}\")\nprint(f\"Spark dataframe saved to delta table: {table_name}\")",
          "displayName": "save at NativeMethodAccessorImpl.java:0",
          "jobGroup": "51",
          "jobId": 30,
          "killedTasksSummary": {},
          "name": "save at NativeMethodAccessorImpl.java:0",
          "numActiveStages": 0,
          "numActiveTasks": 0,
          "numCompletedIndices": 1,
          "numCompletedStages": 1,
          "numCompletedTasks": 1,
          "numFailedStages": 0,
          "numFailedTasks": 0,
          "numKilledTasks": 0,
          "numSkippedStages": 1,
          "numSkippedTasks": 8,
          "numTasks": 9,
          "rowCount": 20000,
          "stageIds": [
           45,
           46
          ],
          "status": "SUCCEEDED",
          "submissionTime": "2023-09-05T17:07:56.126GMT",
          "usageDescription": ""
         },
         {
          "completionTime": "2023-09-05T17:07:56.085GMT",
          "dataRead": 0,
          "dataWritten": 576817,
          "description": "Job group for statement 51:\ntable_name = \"df_clean\"\n# Create PySpark DataFrame from Pandas\nsparkDF=spark.createDataFrame(df_clean) \nsparkDF.write.mode(\"overwrite\").format(\"delta\").save(f\"Tables/{table_name}\")\nprint(f\"Spark dataframe saved to delta table: {table_name}\")",
          "displayName": "save at NativeMethodAccessorImpl.java:0",
          "jobGroup": "51",
          "jobId": 29,
          "killedTasksSummary": {},
          "name": "save at NativeMethodAccessorImpl.java:0",
          "numActiveStages": 0,
          "numActiveTasks": 0,
          "numCompletedIndices": 8,
          "numCompletedStages": 1,
          "numCompletedTasks": 8,
          "numFailedStages": 0,
          "numFailedTasks": 0,
          "numKilledTasks": 0,
          "numSkippedStages": 0,
          "numSkippedTasks": 0,
          "numTasks": 8,
          "rowCount": 10000,
          "stageIds": [
           44
          ],
          "status": "SUCCEEDED",
          "submissionTime": "2023-09-05T17:07:55.845GMT",
          "usageDescription": ""
         }
        ],
        "limit": 20,
        "numbers": {
         "FAILED": 0,
         "RUNNING": 0,
         "SUCCEEDED": 6,
         "UNKNOWN": 0
        },
        "rule": "ALL_DESC"
       },
       "spark_pool": null,
       "state": "finished",
       "statement_id": 51
      },
      "text/plain": [
       "StatementMeta(, ad4a141b-253f-4dc0-93ea-dbe0e2584e86, 51, Finished, Available)"
      ]
     },
     "metadata": {},
     "output_type": "display_data"
    },
    {
     "name": "stderr",
     "output_type": "stream",
     "text": [
      "/opt/spark/python/lib/pyspark.zip/pyspark/sql/pandas/conversion.py:425: UserWarning: createDataFrame attempted Arrow optimization because 'spark.sql.execution.arrow.pyspark.enabled' is set to true; however, failed by the reason below:\n",
      "  Unsupported type in conversion from Arrow: uint8\n",
      "Attempting non-optimization as 'spark.sql.execution.arrow.pyspark.fallback.enabled' is set to true.\n",
      "  warn(msg)\n",
      "/opt/spark/python/lib/pyspark.zip/pyspark/sql/pandas/conversion.py:474: FutureWarning: iteritems is deprecated and will be removed in a future version. Use .items instead.\n",
      "  for column, series in pdf.iteritems():\n",
      "/opt/spark/python/lib/pyspark.zip/pyspark/sql/pandas/conversion.py:486: FutureWarning: iteritems is deprecated and will be removed in a future version. Use .items instead.\n",
      "  for column, series in pdf.iteritems():\n"
     ]
    },
    {
     "name": "stdout",
     "output_type": "stream",
     "text": [
      "Spark dataframe saved to delta table: df_clean\n"
     ]
    }
   ],
   "source": [
    "table_name = \"df_clean\"\n",
    "# Create a PySpark DataFrame from pandas\n",
    "sparkDF=spark.createDataFrame(df_clean) \n",
    "sparkDF.write.mode(\"overwrite\").format(\"delta\").save(f\"Tables/{table_name}\")\n",
    "print(f\"Spark DataFrame saved to delta table: {table_name}\")"
   ]
  },
  {
   "cell_type": "markdown",
   "id": "1efc8976-b1e1-4c85-b4ee-8dd29040ca02",
   "metadata": {},
   "source": [
    "### Summary of observations from the exploratory data analysis\n",
    "\n",
    "- Most of the customers are from France. Spain has the lowest churn rate, compared to France and Germany.\n",
    "- Most of the customers have credit cards.\n",
    "- Some customers are both over the age of 60 and have credit scores below 400. However, they can't be considered as outliers\n",
    "- Very few customers have more than two of the bank's products.\n",
    "- Inactive customers have a higher churn rate\n",
    "- Gender and tenure years have little impact on a customer's decision to close a bank account\n"
   ]
  },
  {
   "cell_type": "markdown",
   "id": "80113f25-b8d2-4d79-ac84-6c396dedb539",
   "metadata": {
    "nteract": {
     "transient": {
      "deleting": false
     }
    }
   },
   "source": [
    "## Step 4: Model training and tracking\n"
   ]
  },
  {
   "cell_type": "markdown",
   "id": "a5d1fffa-b0fb-4ac8-9d7f-41339ca50faf",
   "metadata": {
    "nteract": {
     "transient": {
      "deleting": false
     }
    }
   },
   "source": [
    "With the data in place, you can now define the model. Apply random forest and LightGBM models in this notebook.\n",
    "\n",
    "Use the scikit-learn and LightGBM libraries to implement the models, with a few lines of code. Additionally, use MLfLow and Fabric Autologging to track the experiments.\n",
    "\n",
    "This code sample loads the delta table from the lakehouse. You can use other delta tables that themselves use the lakehouse as the source."
   ]
  },
  {
   "cell_type": "code",
   "execution_count": null,
   "id": "025e525b-b00c-4537-9edb-cc445782d736",
   "metadata": {
    "jupyter": {
     "outputs_hidden": false,
     "source_hidden": false
    },
    "nteract": {
     "transient": {
      "deleting": false
     }
    }
   },
   "outputs": [
    {
     "data": {
      "application/vnd.livy.statement-meta+json": {
       "execution_finish_time": "2023-09-05T17:08:01.7084847Z",
       "execution_start_time": "2023-09-05T17:08:00.0001458Z",
       "livy_statement_state": "available",
       "parent_msg_id": "ae6a6eb4-5785-4bb6-847d-f051425f4507",
       "queued_time": "2023-09-05T17:07:26.5212216Z",
       "session_id": "ad4a141b-253f-4dc0-93ea-dbe0e2584e86",
       "session_start_time": null,
       "spark_jobs": {
        "jobs": [
         {
          "completionTime": "2023-09-05T17:08:00.845GMT",
          "dataRead": 185516,
          "dataWritten": 0,
          "description": "Job group for statement 52:\nSEED = 12345\ndf_clean = spark.read.format(\"delta\").load(\"Tables/df_clean\").toPandas()",
          "displayName": "toPandas at /tmp/ipykernel_4067/1650757431.py:2",
          "jobGroup": "52",
          "jobId": 36,
          "killedTasksSummary": {},
          "name": "toPandas at /tmp/ipykernel_4067/1650757431.py:2",
          "numActiveStages": 0,
          "numActiveTasks": 0,
          "numCompletedIndices": 1,
          "numCompletedStages": 1,
          "numCompletedTasks": 1,
          "numFailedStages": 0,
          "numFailedTasks": 0,
          "numKilledTasks": 0,
          "numSkippedStages": 0,
          "numSkippedTasks": 0,
          "numTasks": 1,
          "rowCount": 10000,
          "stageIds": [
           57
          ],
          "status": "SUCCEEDED",
          "submissionTime": "2023-09-05T17:08:00.702GMT",
          "usageDescription": ""
         },
         {
          "completionTime": "2023-09-05T17:08:00.316GMT",
          "dataRead": 3116,
          "dataWritten": 0,
          "description": "Delta: Job group for statement 52:\nSEED = 12345\ndf_clean = spark.read.format(\"delta\").load(\"Tables/df_clean\").toPandas(): Filtering files for query",
          "displayName": "toPandas at /tmp/ipykernel_4067/1650757431.py:2",
          "jobGroup": "52",
          "jobId": 35,
          "killedTasksSummary": {},
          "name": "toPandas at /tmp/ipykernel_4067/1650757431.py:2",
          "numActiveStages": 0,
          "numActiveTasks": 0,
          "numCompletedIndices": 50,
          "numCompletedStages": 1,
          "numCompletedTasks": 50,
          "numFailedStages": 0,
          "numFailedTasks": 0,
          "numKilledTasks": 0,
          "numSkippedStages": 1,
          "numSkippedTasks": 6,
          "numTasks": 56,
          "rowCount": 7,
          "stageIds": [
           56,
           55
          ],
          "status": "SUCCEEDED",
          "submissionTime": "2023-09-05T17:08:00.154GMT",
          "usageDescription": ""
         }
        ],
        "limit": 20,
        "numbers": {
         "FAILED": 0,
         "RUNNING": 0,
         "SUCCEEDED": 2,
         "UNKNOWN": 0
        },
        "rule": "ALL_DESC"
       },
       "spark_pool": null,
       "state": "finished",
       "statement_id": 52
      },
      "text/plain": [
       "StatementMeta(, ad4a141b-253f-4dc0-93ea-dbe0e2584e86, 52, Finished, Available)"
      ]
     },
     "metadata": {},
     "output_type": "display_data"
    }
   ],
   "source": [
    "SEED = 12345\n",
    "df_clean = spark.read.format(\"delta\").load(\"Tables/df_clean\").toPandas()"
   ]
  },
  {
   "cell_type": "markdown",
   "id": "eef9eead-c909-4cb2-848f-12d2ad6a3df3",
   "metadata": {
    "nteract": {
     "transient": {
      "deleting": false
     }
    }
   },
   "source": [
    "### Generate an experiment for tracking and logging the models by using MLflow\\\n",
    "\n",
    "This section shows how to generate an experiment, and it specifies the model and training parameters and the scoring metrics. Additionally, it shows how to train the models, log them, and save the trained models for later use."
   ]
  },
  {
   "cell_type": "code",
   "execution_count": null,
   "id": "33810bac-86b5-46a6-9c37-cd28ca679a43",
   "metadata": {
    "jupyter": {
     "outputs_hidden": false,
     "source_hidden": false
    },
    "nteract": {
     "transient": {
      "deleting": false
     }
    }
   },
   "outputs": [
    {
     "data": {
      "application/vnd.livy.statement-meta+json": {
       "execution_finish_time": "2023-09-05T17:08:02.4462958Z",
       "execution_start_time": "2023-09-05T17:08:02.1127613Z",
       "livy_statement_state": "available",
       "parent_msg_id": "58f67dd4-63b6-45f1-b853-ca6004ab4855",
       "queued_time": "2023-09-05T17:07:26.9030091Z",
       "session_id": "ad4a141b-253f-4dc0-93ea-dbe0e2584e86",
       "session_start_time": null,
       "spark_jobs": {
        "jobs": [],
        "limit": 20,
        "numbers": {
         "FAILED": 0,
         "RUNNING": 0,
         "SUCCEEDED": 0,
         "UNKNOWN": 0
        },
        "rule": "ALL_DESC"
       },
       "spark_pool": null,
       "state": "finished",
       "statement_id": 53
      },
      "text/plain": [
       "StatementMeta(, ad4a141b-253f-4dc0-93ea-dbe0e2584e86, 53, Finished, Available)"
      ]
     },
     "metadata": {},
     "output_type": "display_data"
    }
   ],
   "source": [
    "import mlflow\n",
    "\n",
    "# Set up the experiment name\n",
    "EXPERIMENT_NAME = \"sample-bank-churn-experiment\"  # Mlflow  experiment name"
   ]
  },
  {
   "cell_type": "markdown",
   "id": "6b415622-97f7-480f-bc72-9f63053742fc",
   "metadata": {
    "nteract": {
     "transient": {
      "deleting": false
     }
    }
   },
   "source": [
    "Autologging automatically captures both the input parameter values and the output metrics of a machine learning model, as that model is trained. This information is then logged to your workspace, where the MLflow APIs or the corresponding experiment in your workspace can access and visualize it.\n",
    "\n",
    "When complete, your experiment resembles this image:\n",
    "\n",
    "<img src=\"https://sdkstorerta.blob.core.windows.net/churnblob/experiment_runs.png\"  width=\"70%\" height=\"10%\" title=\"Screenshot shows the experiment page for the bank-churn-experiment.\">\n",
    "\n",
    "All the experiments with their respective names are logged, and you can track their parameters and performance metrics. To learn more about autologging, see [Autologging in Microsoft Fabric](https://aka.ms/fabric-autologging).\n"
   ]
  },
  {
   "cell_type": "markdown",
   "id": "65b8693b-2970-4daf-ad31-067a25b80b60",
   "metadata": {
    "nteract": {
     "transient": {
      "deleting": false
     }
    }
   },
   "source": [
    "### Set experiment and autologging specifications\n"
   ]
  },
  {
   "cell_type": "code",
   "execution_count": null,
   "id": "b08b40bc-e4c1-4faf-a388-2ed301580d16",
   "metadata": {
    "jupyter": {
     "outputs_hidden": false,
     "source_hidden": false
    },
    "nteract": {
     "transient": {
      "deleting": false
     }
    }
   },
   "outputs": [
    {
     "data": {
      "application/vnd.livy.statement-meta+json": {
       "execution_finish_time": "2023-09-05T17:08:06.2623993Z",
       "execution_start_time": "2023-09-05T17:08:03.6078763Z",
       "livy_statement_state": "available",
       "parent_msg_id": "3ab1d185-b2e8-4364-9de1-8c05cf520571",
       "queued_time": "2023-09-05T17:07:27.3126487Z",
       "session_id": "ad4a141b-253f-4dc0-93ea-dbe0e2584e86",
       "session_start_time": null,
       "spark_jobs": {
        "jobs": [],
        "limit": 20,
        "numbers": {
         "FAILED": 0,
         "RUNNING": 0,
         "SUCCEEDED": 0,
         "UNKNOWN": 0
        },
        "rule": "ALL_DESC"
       },
       "spark_pool": null,
       "state": "finished",
       "statement_id": 54
      },
      "text/plain": [
       "StatementMeta(, ad4a141b-253f-4dc0-93ea-dbe0e2584e86, 54, Finished, Available)"
      ]
     },
     "metadata": {},
     "output_type": "display_data"
    },
    {
     "name": "stderr",
     "output_type": "stream",
     "text": [
      "2023/09/05 17:08:03 INFO mlflow.tracking.fluent: Experiment with name 'sample-bank-churn-experiment' does not exist. Creating a new experiment.\n",
      "2023/09/05 17:08:05 INFO mlflow.tracking.fluent: Autologging successfully enabled for statsmodels.\n",
      "2023/09/05 17:08:05 INFO mlflow.tracking.fluent: Autologging successfully enabled for pyspark.ml.\n"
     ]
    }
   ],
   "source": [
    "mlflow.set_experiment(EXPERIMENT_NAME) # Use a date stamp to append to the experiment\n",
    "mlflow.autolog(exclusive=False)"
   ]
  },
  {
   "cell_type": "markdown",
   "id": "634163fa-5062-469e-a5e9-ed49ef7e4607",
   "metadata": {
    "nteract": {
     "transient": {
      "deleting": false
     }
    }
   },
   "source": [
    "### Import scikit-learn and LightGBM"
   ]
  },
  {
   "cell_type": "code",
   "execution_count": null,
   "id": "ffbdd7fd-a273-458c-9cea-dbcd583911dc",
   "metadata": {
    "jupyter": {
     "outputs_hidden": false,
     "source_hidden": false
    },
    "nteract": {
     "transient": {
      "deleting": false
     }
    }
   },
   "outputs": [
    {
     "data": {
      "application/vnd.livy.statement-meta+json": {
       "execution_finish_time": "2023-09-05T17:08:11.2873035Z",
       "execution_start_time": "2023-09-05T17:08:06.6075176Z",
       "livy_statement_state": "available",
       "parent_msg_id": "21b0f4cc-e241-4b77-b449-8d956361425b",
       "queued_time": "2023-09-05T17:07:27.555979Z",
       "session_id": "ad4a141b-253f-4dc0-93ea-dbe0e2584e86",
       "session_start_time": null,
       "spark_jobs": {
        "jobs": [],
        "limit": 20,
        "numbers": {
         "FAILED": 0,
         "RUNNING": 0,
         "SUCCEEDED": 0,
         "UNKNOWN": 0
        },
        "rule": "ALL_DESC"
       },
       "spark_pool": null,
       "state": "finished",
       "statement_id": 55
      },
      "text/plain": [
       "StatementMeta(, ad4a141b-253f-4dc0-93ea-dbe0e2584e86, 55, Finished, Available)"
      ]
     },
     "metadata": {},
     "output_type": "display_data"
    },
    {
     "name": "stderr",
     "output_type": "stream",
     "text": [
      "2023/09/05 17:08:09 INFO mlflow.tracking.fluent: Autologging successfully enabled for sklearn.\n",
      "2023/09/05 17:08:10 INFO mlflow.tracking.fluent: Autologging successfully enabled for lightgbm.\n"
     ]
    }
   ],
   "source": [
    "# Import the required libraries for model training\n",
    "from sklearn.model_selection import train_test_split\n",
    "from lightgbm import LGBMClassifier\n",
    "from sklearn.ensemble import RandomForestClassifier\n",
    "from sklearn.metrics import accuracy_score, f1_score, precision_score, confusion_matrix, recall_score, roc_auc_score, classification_report"
   ]
  },
  {
   "cell_type": "markdown",
   "id": "c72af93c-971d-4b13-9079-0025a5d78b32",
   "metadata": {
    "nteract": {
     "transient": {
      "deleting": false
     }
    }
   },
   "source": [
    "### Prepare training and test datasets"
   ]
  },
  {
   "cell_type": "code",
   "execution_count": null,
   "id": "3c539eed-0f88-4f0a-b7d2-901c2f9930e3",
   "metadata": {
    "jupyter": {
     "outputs_hidden": false,
     "source_hidden": false
    },
    "nteract": {
     "transient": {
      "deleting": false
     }
    }
   },
   "outputs": [
    {
     "data": {
      "application/vnd.livy.statement-meta+json": {
       "execution_finish_time": "2023-09-05T17:08:11.9684649Z",
       "execution_start_time": "2023-09-05T17:08:11.6288242Z",
       "livy_statement_state": "available",
       "parent_msg_id": "e06f2ed8-9812-4f8e-aeeb-49a30c4368ef",
       "queued_time": "2023-09-05T17:07:28.1385741Z",
       "session_id": "ad4a141b-253f-4dc0-93ea-dbe0e2584e86",
       "session_start_time": null,
       "spark_jobs": {
        "jobs": [],
        "limit": 20,
        "numbers": {
         "FAILED": 0,
         "RUNNING": 0,
         "SUCCEEDED": 0,
         "UNKNOWN": 0
        },
        "rule": "ALL_DESC"
       },
       "spark_pool": null,
       "state": "finished",
       "statement_id": 56
      },
      "text/plain": [
       "StatementMeta(, ad4a141b-253f-4dc0-93ea-dbe0e2584e86, 56, Finished, Available)"
      ]
     },
     "metadata": {},
     "output_type": "display_data"
    }
   ],
   "source": [
    "y = df_clean[\"Exited\"]\n",
    "X = df_clean.drop(\"Exited\",axis=1)\n",
    "# Train/test separation\n",
    "X_train, X_test, y_train, y_test = train_test_split(X, y, test_size=0.20, random_state=SEED)"
   ]
  },
  {
   "cell_type": "markdown",
   "id": "c907a17c-ed92-4334-accc-2deec809334c",
   "metadata": {
    "nteract": {
     "transient": {
      "deleting": false
     }
    }
   },
   "source": [
    "### Apply SMOTE to the training data\n",
    "\n",
    "Imbalanced classification has a problem, because it has too few examples of the minority class for a model to effectively learn the decision boundary. To handle this, Synthetic Minority Oversampling Technique (SMOTE) is the most widely used technique to synthesize new samples for the minority class. Access SMOTE with the `imblearn` library that you installed in step 1.\n",
    "\n",
    "Apply SMOTE only to the training dataset. You must leave the test dataset in its original imbalanced distribution, to get a valid approximation of model performance on the original data. This experiment represents the situation in production.\n",
    "\n",
    "For more information, see [SMOTE](https://imbalanced-learn.org/stable/references/generated/imblearn.over_sampling.SMOTE.html#) and [From random over-sampling to SMOTE and ADASYN](https://imbalanced-learn.org/stable/over_sampling.html#smote-adasyn). The imbalanced-learn website hosts these resources."
   ]
  },
  {
   "cell_type": "code",
   "execution_count": null,
   "id": "bdbb6dec-3e17-498a-8e8d-380bc9a59f5a",
   "metadata": {
    "jupyter": {
     "outputs_hidden": false,
     "source_hidden": false
    },
    "nteract": {
     "transient": {
      "deleting": false
     }
    }
   },
   "outputs": [
    {
     "data": {
      "application/vnd.livy.statement-meta+json": {
       "execution_finish_time": "2023-09-05T17:08:18.8224051Z",
       "execution_start_time": "2023-09-05T17:08:12.3092882Z",
       "livy_statement_state": "available",
       "parent_msg_id": "fe9f9eee-6e2f-468c-8b41-d5b29451d1c6",
       "queued_time": "2023-09-05T17:07:28.3770648Z",
       "session_id": "ad4a141b-253f-4dc0-93ea-dbe0e2584e86",
       "session_start_time": null,
       "spark_jobs": {
        "jobs": [],
        "limit": 20,
        "numbers": {
         "FAILED": 0,
         "RUNNING": 0,
         "SUCCEEDED": 0,
         "UNKNOWN": 0
        },
        "rule": "ALL_DESC"
       },
       "spark_pool": null,
       "state": "finished",
       "statement_id": 57
      },
      "text/plain": [
       "StatementMeta(, ad4a141b-253f-4dc0-93ea-dbe0e2584e86, 57, Finished, Available)"
      ]
     },
     "metadata": {},
     "output_type": "display_data"
    },
    {
     "name": "stderr",
     "output_type": "stream",
     "text": [
      "2023/09/05 17:08:13 INFO mlflow.utils.autologging_utils: Created MLflow autologging run with ID 'a562e830-65cb-4325-8a6c-9c308ada3b60', which will track hyperparameters, performance metrics, model artifacts, and lineage information for the current sklearn workflow\n",
      "2023/09/05 17:08:14 WARNING mlflow.sklearn: Training metrics will not be recorded because training labels were not specified. To automatically record training metrics, provide training labels as inputs to the model training function.\n",
      "2023/09/05 17:08:14 WARNING mlflow.sklearn: Failed to infer model signature: the trained model does not specify a `predict` function, which is required in order to infer the signature\n",
      "2023/09/05 17:08:14 WARNING mlflow.sklearn: Model was missing function: predict. Not logging python_function flavor!\n",
      "2023/09/05 17:08:17 WARNING mlflow.utils.autologging_utils: MLflow autologging encountered a warning: \"/home/trusted-service-user/cluster-env/trident_env/lib/python3.10/site-packages/_distutils_hack/__init__.py:33: UserWarning: Setuptools is replacing distutils.\"\n"
     ]
    }
   ],
   "source": [
    "from collections import Counter\n",
    "from imblearn.over_sampling import SMOTE\n",
    "\n",
    "sm = SMOTE(random_state=SEED)\n",
    "X_res, y_res = sm.fit_resample(X_train, y_train)\n",
    "new_train = pd.concat([X_res, y_res], axis=1)"
   ]
  },
  {
   "cell_type": "markdown",
   "id": "039ad12c-e176-4162-80da-f1cd15becaf2",
   "metadata": {
    "nteract": {
     "transient": {
      "deleting": false
     }
    }
   },
   "source": [
    "### Train the model\n",
    "\n",
    "Use Random Forest to train the model, with a maximum depth of four, and with four features:"
   ]
  },
  {
   "cell_type": "code",
   "execution_count": null,
   "id": "8cfb7902-c40f-45a3-a7a1-6ab036bc19bc",
   "metadata": {
    "jupyter": {
     "outputs_hidden": false,
     "source_hidden": false
    },
    "nteract": {
     "transient": {
      "deleting": false
     }
    }
   },
   "outputs": [
    {
     "data": {
      "application/vnd.livy.statement-meta+json": {
       "execution_finish_time": "2023-09-05T17:08:31.8107519Z",
       "execution_start_time": "2023-09-05T17:08:19.2108304Z",
       "livy_statement_state": "available",
       "parent_msg_id": "5b4e0271-b991-457a-a5e5-1799fdcdf2dd",
       "queued_time": "2023-09-05T17:07:28.6096981Z",
       "session_id": "ad4a141b-253f-4dc0-93ea-dbe0e2584e86",
       "session_start_time": null,
       "spark_jobs": {
        "jobs": [],
        "limit": 20,
        "numbers": {
         "FAILED": 0,
         "RUNNING": 0,
         "SUCCEEDED": 0,
         "UNKNOWN": 0
        },
        "rule": "ALL_DESC"
       },
       "spark_pool": null,
       "state": "finished",
       "statement_id": 58
      },
      "text/plain": [
       "StatementMeta(, ad4a141b-253f-4dc0-93ea-dbe0e2584e86, 58, Finished, Available)"
      ]
     },
     "metadata": {},
     "output_type": "display_data"
    },
    {
     "name": "stdout",
     "output_type": "stream",
     "text": [
      "run_id: 0cde1159-b297-4969-a3a9-03ae067343ef; status: RUNNING\n"
     ]
    },
    {
     "name": "stderr",
     "output_type": "stream",
     "text": [
      "2023/09/05 17:08:21 WARNING mlflow.utils.autologging_utils: MLflow autologging encountered a warning: \"/home/trusted-service-user/cluster-env/trident_env/lib/python3.10/site-packages/mlflow/models/signature.py:130: UserWarning: Hint: Inferred schema contains integer column(s). Integer columns in Python cannot represent missing values. If your input data contains missing values at inference time, it will be encoded as floats and will cause a schema enforcement error. The best way to avoid this problem is to infer the model schema based on a realistic data sample (training dataset) that includes missing values. Alternatively, you can declare integer columns as doubles (float64) whenever these columns may have missing values. See `Handling Integers With Missing Values <https://www.mlflow.org/docs/latest/models.html#handling-integers-with-missing-values>`_ for more details.\"\n",
      "Successfully registered model 'rfc1_sm'.\n",
      "2023/09/05 17:08:27 INFO mlflow.tracking._model_registry.client: Waiting up to 300 seconds for model version to finish creation.                     Model name: rfc1_sm, version 7\n",
      "Created version '7' of model 'rfc1_sm'.\n"
     ]
    }
   ],
   "source": [
    "mlflow.sklearn.autolog(registered_model_name='rfc1_sm')  # Register the trained model with autologging\n",
    "rfc1_sm = RandomForestClassifier(max_depth=4, max_features=4, min_samples_split=3, random_state=1) # Pass hyperparameters\n",
    "with mlflow.start_run(run_name=\"rfc1_sm\") as run:\n",
    "    rfc1_sm_run_id = run.info.run_id # Capture run_id for model prediction later\n",
    "    print(\"run_id: {}; status: {}\".format(rfc1_sm_run_id, run.info.status))\n",
    "    # rfc1.fit(X_train,y_train) # Imbalanaced training data\n",
    "    rfc1_sm.fit(X_res, y_res.ravel()) # Balanced training data\n",
    "    rfc1_sm.score(X_test, y_test)\n",
    "    y_pred = rfc1_sm.predict(X_test)\n",
    "    cr_rfc1_sm = classification_report(y_test, y_pred)\n",
    "    cm_rfc1_sm = confusion_matrix(y_test, y_pred)\n",
    "    roc_auc_rfc1_sm = roc_auc_score(y_res, rfc1_sm.predict_proba(X_res)[:, 1])"
   ]
  },
  {
   "cell_type": "markdown",
   "id": "562edcf7-8926-4757-ad5a-871a1f813772",
   "metadata": {
    "nteract": {
     "transient": {
      "deleting": false
     }
    }
   },
   "source": [
    "Use Random Forest to train the model, with a maximum depth of eight, and with six features:"
   ]
  },
  {
   "cell_type": "code",
   "execution_count": null,
   "id": "18ab69b4-7098-4bfb-a393-fcd62a2bc0b4",
   "metadata": {
    "jupyter": {
     "outputs_hidden": false,
     "source_hidden": false
    },
    "nteract": {
     "transient": {
      "deleting": false
     }
    }
   },
   "outputs": [
    {
     "data": {
      "application/vnd.livy.statement-meta+json": {
       "execution_finish_time": "2023-09-05T17:08:45.1286956Z",
       "execution_start_time": "2023-09-05T17:08:33.1434245Z",
       "livy_statement_state": "available",
       "parent_msg_id": "f46036cc-1cac-4b28-a1a8-48ebbc9bb9e4",
       "queued_time": "2023-09-05T17:07:28.9481091Z",
       "session_id": "ad4a141b-253f-4dc0-93ea-dbe0e2584e86",
       "session_start_time": null,
       "spark_jobs": {
        "jobs": [],
        "limit": 20,
        "numbers": {
         "FAILED": 0,
         "RUNNING": 0,
         "SUCCEEDED": 0,
         "UNKNOWN": 0
        },
        "rule": "ALL_DESC"
       },
       "spark_pool": null,
       "state": "finished",
       "statement_id": 59
      },
      "text/plain": [
       "StatementMeta(, ad4a141b-253f-4dc0-93ea-dbe0e2584e86, 59, Finished, Available)"
      ]
     },
     "metadata": {},
     "output_type": "display_data"
    },
    {
     "name": "stdout",
     "output_type": "stream",
     "text": [
      "run_id: dc8f5ee0-b2a1-4dc4-96e6-48896b4de147; status: RUNNING\n"
     ]
    },
    {
     "name": "stderr",
     "output_type": "stream",
     "text": [
      "2023/09/05 17:08:36 WARNING mlflow.utils.autologging_utils: MLflow autologging encountered a warning: \"/home/trusted-service-user/cluster-env/trident_env/lib/python3.10/site-packages/mlflow/models/signature.py:130: UserWarning: Hint: Inferred schema contains integer column(s). Integer columns in Python cannot represent missing values. If your input data contains missing values at inference time, it will be encoded as floats and will cause a schema enforcement error. The best way to avoid this problem is to infer the model schema based on a realistic data sample (training dataset) that includes missing values. Alternatively, you can declare integer columns as doubles (float64) whenever these columns may have missing values. See `Handling Integers With Missing Values <https://www.mlflow.org/docs/latest/models.html#handling-integers-with-missing-values>`_ for more details.\"\n",
      "Successfully registered model 'rfc2_sm'.\n",
      "2023/09/05 17:08:42 INFO mlflow.tracking._model_registry.client: Waiting up to 300 seconds for model version to finish creation.                     Model name: rfc2_sm, version 7\n",
      "Created version '7' of model 'rfc2_sm'.\n"
     ]
    }
   ],
   "source": [
    "mlflow.sklearn.autolog(registered_model_name='rfc2_sm')  # Register the trained model with autologging\n",
    "rfc2_sm = RandomForestClassifier(max_depth=8, max_features=6, min_samples_split=3, random_state=1) # Pass hyperparameters\n",
    "with mlflow.start_run(run_name=\"rfc2_sm\") as run:\n",
    "    rfc2_sm_run_id = run.info.run_id # Capture run_id for model prediction later\n",
    "    print(\"run_id: {}; status: {}\".format(rfc2_sm_run_id, run.info.status))\n",
    "    # rfc2.fit(X_train,y_train) # Imbalanced training data\n",
    "    rfc2_sm.fit(X_res, y_res.ravel()) # Balanced training data\n",
    "    rfc2_sm.score(X_test, y_test)\n",
    "    y_pred = rfc2_sm.predict(X_test)\n",
    "    cr_rfc2_sm = classification_report(y_test, y_pred)\n",
    "    cm_rfc2_sm = confusion_matrix(y_test, y_pred)\n",
    "    roc_auc_rfc2_sm = roc_auc_score(y_res, rfc2_sm.predict_proba(X_res)[:, 1])"
   ]
  },
  {
   "cell_type": "markdown",
   "id": "46086429-c184-46b8-872b-58632eae583e",
   "metadata": {
    "nteract": {
     "transient": {
      "deleting": false
     }
    }
   },
   "source": [
    "Train the model with LightGBM:"
   ]
  },
  {
   "cell_type": "code",
   "execution_count": null,
   "id": "9f7d92a2-17ea-43b0-b17c-b3fac5b76af6",
   "metadata": {
    "jupyter": {
     "outputs_hidden": false,
     "source_hidden": false
    },
    "nteract": {
     "transient": {
      "deleting": false
     }
    }
   },
   "outputs": [
    {
     "data": {
      "application/vnd.livy.statement-meta+json": {
       "execution_finish_time": "2023-09-05T17:08:53.9085292Z",
       "execution_start_time": "2023-09-05T17:08:45.4968905Z",
       "livy_statement_state": "available",
       "parent_msg_id": "aa581556-f71d-4f27-9ce6-dd512c00054f",
       "queued_time": "2023-09-05T17:07:29.4798183Z",
       "session_id": "ad4a141b-253f-4dc0-93ea-dbe0e2584e86",
       "session_start_time": null,
       "spark_jobs": {
        "jobs": [],
        "limit": 20,
        "numbers": {
         "FAILED": 0,
         "RUNNING": 0,
         "SUCCEEDED": 0,
         "UNKNOWN": 0
        },
        "rule": "ALL_DESC"
       },
       "spark_pool": null,
       "state": "finished",
       "statement_id": 60
      },
      "text/plain": [
       "StatementMeta(, ad4a141b-253f-4dc0-93ea-dbe0e2584e86, 60, Finished, Available)"
      ]
     },
     "metadata": {},
     "output_type": "display_data"
    },
    {
     "name": "stdout",
     "output_type": "stream",
     "text": [
      "[LightGBM] [Warning] Unknown parameter: eval_metric\n"
     ]
    },
    {
     "name": "stderr",
     "output_type": "stream",
     "text": [
      "2023/09/05 17:08:47 WARNING mlflow.utils.autologging_utils: MLflow autologging encountered a warning: \"/home/trusted-service-user/cluster-env/trident_env/lib/python3.10/site-packages/mlflow/models/signature.py:130: UserWarning: Hint: Inferred schema contains integer column(s). Integer columns in Python cannot represent missing values. If your input data contains missing values at inference time, it will be encoded as floats and will cause a schema enforcement error. The best way to avoid this problem is to infer the model schema based on a realistic data sample (training dataset) that includes missing values. Alternatively, you can declare integer columns as doubles (float64) whenever these columns may have missing values. See `Handling Integers With Missing Values <https://www.mlflow.org/docs/latest/models.html#handling-integers-with-missing-values>`_ for more details.\"\n",
      "Successfully registered model 'lgbm_sm'.\n",
      "2023/09/05 17:08:52 INFO mlflow.tracking._model_registry.client: Waiting up to 300 seconds for model version to finish creation.                     Model name: lgbm_sm, version 8\n",
      "Created version '8' of model 'lgbm_sm'.\n"
     ]
    }
   ],
   "source": [
    "# lgbm_model\n",
    "mlflow.lightgbm.autolog(registered_model_name='lgbm_sm')  # Register the trained model with autologging\n",
    "lgbm_sm_model = LGBMClassifier(learning_rate = 0.07, \n",
    "                        max_delta_step = 2, \n",
    "                        n_estimators = 100,\n",
    "                        max_depth = 10, \n",
    "                        eval_metric = \"logloss\", \n",
    "                        objective='binary', \n",
    "                        random_state=42)\n",
    "\n",
    "with mlflow.start_run(run_name=\"lgbm_sm\") as run:\n",
    "    lgbm1_sm_run_id = run.info.run_id # Capture run_id for model prediction later\n",
    "    # lgbm_sm_model.fit(X_train,y_train) # Imbalanced training data\n",
    "    lgbm_sm_model.fit(X_res, y_res.ravel()) # Balanced training data\n",
    "    y_pred = lgbm_sm_model.predict(X_test)\n",
    "    accuracy = accuracy_score(y_test, y_pred)\n",
    "    cr_lgbm_sm = classification_report(y_test, y_pred)\n",
    "    cm_lgbm_sm = confusion_matrix(y_test, y_pred)\n",
    "    roc_auc_lgbm_sm = roc_auc_score(y_res, lgbm_sm_model.predict_proba(X_res)[:, 1])"
   ]
  },
  {
   "cell_type": "markdown",
   "id": "449f8d4d-04ac-43a8-a6e4-1c10ace0c376",
   "metadata": {
    "nteract": {
     "transient": {
      "deleting": false
     }
    }
   },
   "source": [
    "### View the experiment artifact to track model performance\n",
    "\n",
    "The experiment runs are automatically saved in the experiment artifact. You can find that artifact in the workspace. An artifact name is based on the name used to set the experiment. All of the trained models, their runs, performance metrics and model parameters are logged on the experiment page.\n",
    "\n",
    "To view your experiments:\n",
    "1. On the left panel, select your workspace.\n",
    "1. Find and select the experiment name, in this case, **sample-bank-churn-experiment**.\n",
    "\n",
    "<img src=\"https://sdkstorerta.blob.core.windows.net/churnblob/experiment_runs.png\"  width=\"400%\" height=\"100%\" title=\"Screenshot shows logged values for one of the models.\">"
   ]
  },
  {
   "cell_type": "markdown",
   "id": "90431a0d-205d-4352-9205-c98ef3b905c4",
   "metadata": {
    "nteract": {
     "transient": {
      "deleting": false
     }
    }
   },
   "source": [
    "## Step 5: Evaluate and save the final machine learning model\n"
   ]
  },
  {
   "cell_type": "markdown",
   "id": "c61dd49a-dbc4-41b2-9065-58acd9072a5a",
   "metadata": {
    "nteract": {
     "transient": {
      "deleting": false
     }
    }
   },
   "source": [
    "Open the saved experiment from the workspace to select and save the best model."
   ]
  },
  {
   "cell_type": "code",
   "execution_count": null,
   "id": "6f5dd987-2bc0-4ece-839d-d1a1fe66b6f1",
   "metadata": {
    "jupyter": {
     "outputs_hidden": false,
     "source_hidden": false
    },
    "nteract": {
     "transient": {
      "deleting": false
     }
    }
   },
   "outputs": [
    {
     "data": {
      "application/vnd.livy.statement-meta+json": {
       "execution_finish_time": "2023-09-05T17:08:56.715524Z",
       "execution_start_time": "2023-09-05T17:08:54.2662251Z",
       "livy_statement_state": "available",
       "parent_msg_id": "89ba4e5c-a80d-468f-a3ff-2080c54f6282",
       "queued_time": "2023-09-05T17:07:29.8765221Z",
       "session_id": "ad4a141b-253f-4dc0-93ea-dbe0e2584e86",
       "session_start_time": null,
       "spark_jobs": {
        "jobs": [],
        "limit": 20,
        "numbers": {
         "FAILED": 0,
         "RUNNING": 0,
         "SUCCEEDED": 0,
         "UNKNOWN": 0
        },
        "rule": "ALL_DESC"
       },
       "spark_pool": null,
       "state": "finished",
       "statement_id": 61
      },
      "text/plain": [
       "StatementMeta(, ad4a141b-253f-4dc0-93ea-dbe0e2584e86, 61, Finished, Available)"
      ]
     },
     "metadata": {},
     "output_type": "display_data"
    }
   ],
   "source": [
    "# Define run_uri to fetch the model\n",
    "# MLflow client: mlflow.model.url, list model\n",
    "load_model_rfc1_sm = mlflow.sklearn.load_model(f\"runs:/{rfc1_sm_run_id}/model\")\n",
    "load_model_rfc2_sm = mlflow.sklearn.load_model(f\"runs:/{rfc2_sm_run_id}/model\")\n",
    "load_model_lgbm1_sm = mlflow.lightgbm.load_model(f\"runs:/{lgbm1_sm_run_id}/model\")"
   ]
  },
  {
   "cell_type": "markdown",
   "id": "5803d3b4-3c9f-4d62-bc2a-79f841ec45cc",
   "metadata": {
    "nteract": {
     "transient": {
      "deleting": false
     }
    }
   },
   "source": [
    "### Assess the performance of the saved models on the testing dataset"
   ]
  },
  {
   "cell_type": "code",
   "execution_count": null,
   "id": "0181064b-34b6-4f26-879d-9d145edfac06",
   "metadata": {
    "jupyter": {
     "outputs_hidden": false,
     "source_hidden": false
    },
    "nteract": {
     "transient": {
      "deleting": false
     }
    }
   },
   "outputs": [
    {
     "data": {
      "application/vnd.livy.statement-meta+json": {
       "execution_finish_time": "2023-09-05T17:08:57.4874844Z",
       "execution_start_time": "2023-09-05T17:08:57.0909581Z",
       "livy_statement_state": "available",
       "parent_msg_id": "fa839d05-dd4a-4ddb-9bd9-ae68a80ea989",
       "queued_time": "2023-09-05T17:07:30.3355314Z",
       "session_id": "ad4a141b-253f-4dc0-93ea-dbe0e2584e86",
       "session_start_time": null,
       "spark_jobs": {
        "jobs": [],
        "limit": 20,
        "numbers": {
         "FAILED": 0,
         "RUNNING": 0,
         "SUCCEEDED": 0,
         "UNKNOWN": 0
        },
        "rule": "ALL_DESC"
       },
       "spark_pool": null,
       "state": "finished",
       "statement_id": 62
      },
      "text/plain": [
       "StatementMeta(, ad4a141b-253f-4dc0-93ea-dbe0e2584e86, 62, Finished, Available)"
      ]
     },
     "metadata": {},
     "output_type": "display_data"
    }
   ],
   "source": [
    "ypred_rfc1_sm = load_model_rfc1_sm.predict(X_test) # Random forest with maximum depth of 4 and 4 features\n",
    "ypred_rfc2_sm = load_model_rfc2_sm.predict(X_test) # Random forest with maximum depth of 8 and 6 features\n",
    "ypred_lgbm1_sm = load_model_lgbm1_sm.predict(X_test) # LightGBM"
   ]
  },
  {
   "cell_type": "markdown",
   "id": "97eb022f-cf7a-4b1e-8c5c-d0c5dfe4a9f1",
   "metadata": {
    "nteract": {
     "transient": {
      "deleting": false
     }
    }
   },
   "source": [
    "### Show true/false positives/negatives by using a confusion matrix\n",
    "\n",
    "To evaluate the accuracy of the classification, build a script that plots the confusion matrix. You can also plot a confusion matrix using SynapseML tools, as shown in the [Fraud Detection sample](https://aka.ms/samples/frauddectection)."
   ]
  },
  {
   "cell_type": "code",
   "execution_count": null,
   "id": "53ae34cf-eed2-457f-8088-00f73acedd3b",
   "metadata": {
    "jupyter": {
     "outputs_hidden": false,
     "source_hidden": false
    },
    "nteract": {
     "transient": {
      "deleting": false
     }
    }
   },
   "outputs": [
    {
     "data": {
      "application/vnd.livy.statement-meta+json": {
       "execution_finish_time": "2023-09-05T17:08:59.06811Z",
       "execution_start_time": "2023-09-05T17:08:57.8188267Z",
       "livy_statement_state": "available",
       "parent_msg_id": "1090d2c5-6861-40f9-a5d4-95a3d04ac054",
       "queued_time": "2023-09-05T17:07:30.7363236Z",
       "session_id": "ad4a141b-253f-4dc0-93ea-dbe0e2584e86",
       "session_start_time": null,
       "spark_jobs": {
        "jobs": [],
        "limit": 20,
        "numbers": {
         "FAILED": 0,
         "RUNNING": 0,
         "SUCCEEDED": 0,
         "UNKNOWN": 0
        },
        "rule": "ALL_DESC"
       },
       "spark_pool": null,
       "state": "finished",
       "statement_id": 63
      },
      "text/plain": [
       "StatementMeta(, ad4a141b-253f-4dc0-93ea-dbe0e2584e86, 63, Finished, Available)"
      ]
     },
     "metadata": {},
     "output_type": "display_data"
    }
   ],
   "source": [
    "def plot_confusion_matrix(cm, classes,\n",
    "                          normalize=False,\n",
    "                          title='Confusion matrix',\n",
    "                          cmap=plt.cm.Blues):\n",
    "    print(cm)\n",
    "    plt.figure(figsize=(4,4))\n",
    "    plt.rcParams.update({'font.size': 10})\n",
    "    plt.imshow(cm, interpolation='nearest', cmap=cmap)\n",
    "    plt.title(title)\n",
    "    plt.colorbar()\n",
    "    tick_marks = np.arange(len(classes))\n",
    "    plt.xticks(tick_marks, classes, rotation=45, color=\"blue\")\n",
    "    plt.yticks(tick_marks, classes, color=\"blue\")\n",
    "\n",
    "    fmt = '.2f' if normalize else 'd'\n",
    "    thresh = cm.max() / 2.\n",
    "    for i, j in itertools.product(range(cm.shape[0]), range(cm.shape[1])):\n",
    "        plt.text(j, i, format(cm[i, j], fmt),\n",
    "                 horizontalalignment=\"center\",\n",
    "                 color=\"red\" if cm[i, j] > thresh else \"black\")\n",
    "\n",
    "    plt.tight_layout()\n",
    "    plt.ylabel('True label')\n",
    "    plt.xlabel('Predicted label')"
   ]
  },
  {
   "cell_type": "markdown",
   "id": "b394b5b7-f4ca-4838-b77f-8ef8bdfd409f",
   "metadata": {
    "nteract": {
     "transient": {
      "deleting": false
     }
    }
   },
   "source": [
    "Create a confusion matrix for the random forest classifier, with a maximum depth of four, with four features:"
   ]
  },
  {
   "cell_type": "code",
   "execution_count": null,
   "id": "89c19e11-fcab-4cd4-96d1-1f97a1ac7215",
   "metadata": {
    "jupyter": {
     "outputs_hidden": false,
     "source_hidden": false
    },
    "nteract": {
     "transient": {
      "deleting": false
     }
    }
   },
   "outputs": [
    {
     "data": {
      "application/vnd.livy.statement-meta+json": {
       "execution_finish_time": "2023-09-05T17:08:59.7861844Z",
       "execution_start_time": "2023-09-05T17:08:59.4222049Z",
       "livy_statement_state": "available",
       "parent_msg_id": "412d3e31-8a73-4867-b1f6-9756d67b2b4e",
       "queued_time": "2023-09-05T17:07:31.2579985Z",
       "session_id": "ad4a141b-253f-4dc0-93ea-dbe0e2584e86",
       "session_start_time": null,
       "spark_jobs": {
        "jobs": [],
        "limit": 20,
        "numbers": {
         "FAILED": 0,
         "RUNNING": 0,
         "SUCCEEDED": 0,
         "UNKNOWN": 0
        },
        "rule": "ALL_DESC"
       },
       "spark_pool": null,
       "state": "finished",
       "statement_id": 64
      },
      "text/plain": [
       "StatementMeta(, ad4a141b-253f-4dc0-93ea-dbe0e2584e86, 64, Finished, Available)"
      ]
     },
     "metadata": {},
     "output_type": "display_data"
    },
    {
     "name": "stdout",
     "output_type": "stream",
     "text": [
      "[[1408  205]\n",
      " [ 142  245]]\n"
     ]
    },
    {
     "data": {
      "image/png": "[encoded data removed]",
      "text/plain": [
       "<Figure size 400x400 with 2 Axes>"
      ]
     },
     "metadata": {},
     "output_type": "display_data"
    }
   ],
   "source": [
    "cfm = confusion_matrix(y_test, y_pred=ypred_rfc1_sm)\n",
    "plot_confusion_matrix(cfm, classes=['Non Churn','Churn'],\n",
    "                      title='Random Forest with max depth of 4')\n",
    "tn, fp, fn, tp = cfm.ravel()"
   ]
  },
  {
   "cell_type": "markdown",
   "id": "50a20d7f-d9cb-42ca-a537-1b50894bedfb",
   "metadata": {
    "nteract": {
     "transient": {
      "deleting": false
     }
    }
   },
   "source": [
    "Create a confusion matrix for the random forest classifier with maximum depth of eight, with six features:"
   ]
  },
  {
   "cell_type": "code",
   "execution_count": null,
   "id": "c5fefc40-de64-4480-8f21-0efd11538f93",
   "metadata": {
    "jupyter": {
     "outputs_hidden": false,
     "source_hidden": false
    },
    "nteract": {
     "transient": {
      "deleting": false
     }
    }
   },
   "outputs": [
    {
     "data": {
      "application/vnd.livy.statement-meta+json": {
       "execution_finish_time": "2023-09-05T17:09:01.2241508Z",
       "execution_start_time": "2023-09-05T17:09:00.8825321Z",
       "livy_statement_state": "available",
       "parent_msg_id": "2deb5334-ece4-436b-a33f-4b238cecebba",
       "queued_time": "2023-09-05T17:07:31.7907009Z",
       "session_id": "ad4a141b-253f-4dc0-93ea-dbe0e2584e86",
       "session_start_time": null,
       "spark_jobs": {
        "jobs": [],
        "limit": 20,
        "numbers": {
         "FAILED": 0,
         "RUNNING": 0,
         "SUCCEEDED": 0,
         "UNKNOWN": 0
        },
        "rule": "ALL_DESC"
       },
       "spark_pool": null,
       "state": "finished",
       "statement_id": 65
      },
      "text/plain": [
       "StatementMeta(, ad4a141b-253f-4dc0-93ea-dbe0e2584e86, 65, Finished, Available)"
      ]
     },
     "metadata": {},
     "output_type": "display_data"
    },
    {
     "name": "stdout",
     "output_type": "stream",
     "text": [
      "[[1463  150]\n",
      " [ 155  232]]\n"
     ]
    },
    {
     "data": {
      "image/png": "[encoded data removed]",
      "text/plain": [
       "<Figure size 400x400 with 2 Axes>"
      ]
     },
     "metadata": {},
     "output_type": "display_data"
    }
   ],
   "source": [
    "cfm = confusion_matrix(y_test, y_pred=ypred_rfc2_sm)\n",
    "plot_confusion_matrix(cfm, classes=['Non Churn','Churn'],\n",
    "                      title='Random Forest with max depth of 8')\n",
    "tn, fp, fn, tp = cfm.ravel()"
   ]
  },
  {
   "cell_type": "markdown",
   "id": "ef73db99-3670-44cb-8e15-f3885ca9a02b",
   "metadata": {
    "nteract": {
     "transient": {
      "deleting": false
     }
    }
   },
   "source": [
    "Create a confusion matrix for LightGBM:"
   ]
  },
  {
   "cell_type": "code",
   "execution_count": null,
   "id": "05052942-cb51-461e-861c-8312bc6182d8",
   "metadata": {
    "jupyter": {
     "outputs_hidden": false,
     "source_hidden": false
    },
    "nteract": {
     "transient": {
      "deleting": false
     }
    }
   },
   "outputs": [
    {
     "data": {
      "application/vnd.livy.statement-meta+json": {
       "execution_finish_time": "2023-09-05T17:09:02.8488905Z",
       "execution_start_time": "2023-09-05T17:09:01.5830647Z",
       "livy_statement_state": "available",
       "parent_msg_id": "fddee274-7332-46cc-b41f-ab3df55977fb",
       "queued_time": "2023-09-05T17:07:32.0729117Z",
       "session_id": "ad4a141b-253f-4dc0-93ea-dbe0e2584e86",
       "session_start_time": null,
       "spark_jobs": {
        "jobs": [],
        "limit": 20,
        "numbers": {
         "FAILED": 0,
         "RUNNING": 0,
         "SUCCEEDED": 0,
         "UNKNOWN": 0
        },
        "rule": "ALL_DESC"
       },
       "spark_pool": null,
       "state": "finished",
       "statement_id": 66
      },
      "text/plain": [
       "StatementMeta(, ad4a141b-253f-4dc0-93ea-dbe0e2584e86, 66, Finished, Available)"
      ]
     },
     "metadata": {},
     "output_type": "display_data"
    },
    {
     "name": "stdout",
     "output_type": "stream",
     "text": [
      "[[1504  109]\n",
      " [ 159  228]]\n"
     ]
    },
    {
     "data": {
      "image/png": "[encoded data removed]",
      "text/plain": [
       "<Figure size 400x400 with 2 Axes>"
      ]
     },
     "metadata": {},
     "output_type": "display_data"
    }
   ],
   "source": [
    "cfm = confusion_matrix(y_test, y_pred=ypred_lgbm1_sm)\n",
    "plot_confusion_matrix(cfm, classes=['Non Churn','Churn'],\n",
    "                      title='LightGBM')\n",
    "tn, fp, fn, tp = cfm.ravel()"
   ]
  },
  {
   "cell_type": "markdown",
   "id": "a23cb929-aa96-49f4-8d16-85b93fab6a51",
   "metadata": {
    "nteract": {
     "transient": {
      "deleting": false
     }
    }
   },
   "source": [
    "### Save results for Power BI\n",
    "\n",
    "Save the delta frame to the lakehouse, to move the model prediction results to a Power BI visualization."
   ]
  },
  {
   "cell_type": "code",
   "execution_count": null,
   "id": "2b27a0b3-5647-463f-b26e-4edbf44bcde8",
   "metadata": {
    "jupyter": {
     "outputs_hidden": false,
     "source_hidden": false
    },
    "nteract": {
     "transient": {
      "deleting": false
     }
    }
   },
   "outputs": [
    {
     "data": {
      "application/vnd.livy.statement-meta+json": {
       "execution_finish_time": "2023-09-05T17:09:09.1750624Z",
       "execution_start_time": "2023-09-05T17:09:03.2044486Z",
       "livy_statement_state": "available",
       "parent_msg_id": "a03f7f22-9ce4-4f10-b81a-860285c6b989",
       "queued_time": "2023-09-05T17:07:32.2944163Z",
       "session_id": "ad4a141b-253f-4dc0-93ea-dbe0e2584e86",
       "session_start_time": null,
       "spark_jobs": {
        "jobs": [
         {
          "completionTime": "2023-09-05T17:09:07.138GMT",
          "dataRead": 4588,
          "dataWritten": 0,
          "description": "Delta: Job group for statement 67:\ndf_pred = X_test.copy()\ndf_pred['y_test'] = y_test\ndf_pred['ypred_rfc1_sm'] = ypred_rfc1_sm\ndf_pred['ypred_rfc2_sm'] =ypred_rfc2_sm\ndf_pred['ypred_lgbm1_sm'] = ypred_lgbm1_sm\ntable_name = \"df_pred_results\"\nsparkDF=spark.createDataFrame(df_pred)\nsparkDF.write.mode(\"overwrite\").format(\"delta\").option(\"overwriteSchema\", \"true\").save(f\"Tables/{table_name}\")\nprint(f\"Spark dataframe saved to delta table: {table_name}\"): Compute snapshot for version: 3",
          "displayName": "toString at String.java:2994",
          "jobGroup": "67",
          "jobId": 45,
          "killedTasksSummary": {},
          "name": "toString at String.java:2994",
          "numActiveStages": 0,
          "numActiveTasks": 0,
          "numCompletedIndices": 1,
          "numCompletedStages": 1,
          "numCompletedTasks": 1,
          "numFailedStages": 0,
          "numFailedTasks": 0,
          "numKilledTasks": 0,
          "numSkippedStages": 2,
          "numSkippedTasks": 54,
          "numTasks": 55,
          "rowCount": 50,
          "stageIds": [
           74,
           72,
           73
          ],
          "status": "SUCCEEDED",
          "submissionTime": "2023-09-05T17:09:07.076GMT",
          "usageDescription": ""
         },
         {
          "completionTime": "2023-09-05T17:09:07.026GMT",
          "dataRead": 8400,
          "dataWritten": 4588,
          "description": "Delta: Job group for statement 67:\ndf_pred = X_test.copy()\ndf_pred['y_test'] = y_test\ndf_pred['ypred_rfc1_sm'] = ypred_rfc1_sm\ndf_pred['ypred_rfc2_sm'] =ypred_rfc2_sm\ndf_pred['ypred_lgbm1_sm'] = ypred_lgbm1_sm\ntable_name = \"df_pred_results\"\nsparkDF=spark.createDataFrame(df_pred)\nsparkDF.write.mode(\"overwrite\").format(\"delta\").option(\"overwriteSchema\", \"true\").save(f\"Tables/{table_name}\")\nprint(f\"Spark dataframe saved to delta table: {table_name}\"): Compute snapshot for version: 3",
          "displayName": "toString at String.java:2994",
          "jobGroup": "67",
          "jobId": 44,
          "killedTasksSummary": {},
          "name": "toString at String.java:2994",
          "numActiveStages": 0,
          "numActiveTasks": 0,
          "numCompletedIndices": 50,
          "numCompletedStages": 1,
          "numCompletedTasks": 50,
          "numFailedStages": 0,
          "numFailedTasks": 0,
          "numKilledTasks": 0,
          "numSkippedStages": 1,
          "numSkippedTasks": 4,
          "numTasks": 54,
          "rowCount": 63,
          "stageIds": [
           70,
           71
          ],
          "status": "SUCCEEDED",
          "submissionTime": "2023-09-05T17:09:06.467GMT",
          "usageDescription": ""
         },
         {
          "completionTime": "2023-09-05T17:09:06.075GMT",
          "dataRead": 10700,
          "dataWritten": 8400,
          "description": "Delta: Job group for statement 67:\ndf_pred = X_test.copy()\ndf_pred['y_test'] = y_test\ndf_pred['ypred_rfc1_sm'] = ypred_rfc1_sm\ndf_pred['ypred_rfc2_sm'] =ypred_rfc2_sm\ndf_pred['ypred_lgbm1_sm'] = ypred_lgbm1_sm\ntable_name = \"df_pred_results\"\nsparkDF=spark.createDataFrame(df_pred)\nsparkDF.write.mode(\"overwrite\").format(\"delta\").option(\"overwriteSchema\", \"true\").save(f\"Tables/{table_name}\")\nprint(f\"Spark dataframe saved to delta table: {table_name}\"): Compute snapshot for version: 3",
          "displayName": "toString at String.java:2994",
          "jobGroup": "67",
          "jobId": 43,
          "killedTasksSummary": {},
          "name": "toString at String.java:2994",
          "numActiveStages": 0,
          "numActiveTasks": 0,
          "numCompletedIndices": 4,
          "numCompletedStages": 1,
          "numCompletedTasks": 4,
          "numFailedStages": 0,
          "numFailedTasks": 0,
          "numKilledTasks": 0,
          "numSkippedStages": 0,
          "numSkippedTasks": 0,
          "numTasks": 4,
          "rowCount": 26,
          "stageIds": [
           69
          ],
          "status": "SUCCEEDED",
          "submissionTime": "2023-09-05T17:09:05.983GMT",
          "usageDescription": ""
         },
         {
          "completionTime": "2023-09-05T17:09:05.563GMT",
          "dataRead": 2817,
          "dataWritten": 0,
          "description": "Job group for statement 67:\ndf_pred = X_test.copy()\ndf_pred['y_test'] = y_test\ndf_pred['ypred_rfc1_sm'] = ypred_rfc1_sm\ndf_pred['ypred_rfc2_sm'] =ypred_rfc2_sm\ndf_pred['ypred_lgbm1_sm'] = ypred_lgbm1_sm\ntable_name = \"df_pred_results\"\nsparkDF=spark.createDataFrame(df_pred)\nsparkDF.write.mode(\"overwrite\").format(\"delta\").option(\"overwriteSchema\", \"true\").save(f\"Tables/{table_name}\")\nprint(f\"Spark dataframe saved to delta table: {table_name}\")",
          "displayName": "$anonfun$recordDeltaOperationInternal$1 at SynapseLoggingShim.scala:95",
          "jobGroup": "67",
          "jobId": 42,
          "killedTasksSummary": {},
          "name": "$anonfun$recordDeltaOperationInternal$1 at SynapseLoggingShim.scala:95",
          "numActiveStages": 0,
          "numActiveTasks": 0,
          "numCompletedIndices": 50,
          "numCompletedStages": 1,
          "numCompletedTasks": 50,
          "numFailedStages": 0,
          "numFailedTasks": 0,
          "numKilledTasks": 0,
          "numSkippedStages": 1,
          "numSkippedTasks": 3,
          "numTasks": 53,
          "rowCount": 5,
          "stageIds": [
           67,
           68
          ],
          "status": "SUCCEEDED",
          "submissionTime": "2023-09-05T17:09:05.452GMT",
          "usageDescription": ""
         },
         {
          "completionTime": "2023-09-05T17:09:05.348GMT",
          "dataRead": 119082,
          "dataWritten": 49811,
          "description": "Job group for statement 67:\ndf_pred = X_test.copy()\ndf_pred['y_test'] = y_test\ndf_pred['ypred_rfc1_sm'] = ypred_rfc1_sm\ndf_pred['ypred_rfc2_sm'] =ypred_rfc2_sm\ndf_pred['ypred_lgbm1_sm'] = ypred_lgbm1_sm\ntable_name = \"df_pred_results\"\nsparkDF=spark.createDataFrame(df_pred)\nsparkDF.write.mode(\"overwrite\").format(\"delta\").option(\"overwriteSchema\", \"true\").save(f\"Tables/{table_name}\")\nprint(f\"Spark dataframe saved to delta table: {table_name}\")",
          "displayName": "save at NativeMethodAccessorImpl.java:0",
          "jobGroup": "67",
          "jobId": 41,
          "killedTasksSummary": {},
          "name": "save at NativeMethodAccessorImpl.java:0",
          "numActiveStages": 0,
          "numActiveTasks": 0,
          "numCompletedIndices": 1,
          "numCompletedStages": 1,
          "numCompletedTasks": 1,
          "numFailedStages": 0,
          "numFailedTasks": 0,
          "numKilledTasks": 0,
          "numSkippedStages": 1,
          "numSkippedTasks": 8,
          "numTasks": 9,
          "rowCount": 4000,
          "stageIds": [
           66,
           65
          ],
          "status": "SUCCEEDED",
          "submissionTime": "2023-09-05T17:09:04.887GMT",
          "usageDescription": ""
         },
         {
          "completionTime": "2023-09-05T17:09:04.792GMT",
          "dataRead": 0,
          "dataWritten": 119082,
          "description": "Job group for statement 67:\ndf_pred = X_test.copy()\ndf_pred['y_test'] = y_test\ndf_pred['ypred_rfc1_sm'] = ypred_rfc1_sm\ndf_pred['ypred_rfc2_sm'] =ypred_rfc2_sm\ndf_pred['ypred_lgbm1_sm'] = ypred_lgbm1_sm\ntable_name = \"df_pred_results\"\nsparkDF=spark.createDataFrame(df_pred)\nsparkDF.write.mode(\"overwrite\").format(\"delta\").option(\"overwriteSchema\", \"true\").save(f\"Tables/{table_name}\")\nprint(f\"Spark dataframe saved to delta table: {table_name}\")",
          "displayName": "save at NativeMethodAccessorImpl.java:0",
          "jobGroup": "67",
          "jobId": 40,
          "killedTasksSummary": {},
          "name": "save at NativeMethodAccessorImpl.java:0",
          "numActiveStages": 0,
          "numActiveTasks": 0,
          "numCompletedIndices": 8,
          "numCompletedStages": 1,
          "numCompletedTasks": 8,
          "numFailedStages": 0,
          "numFailedTasks": 0,
          "numKilledTasks": 0,
          "numSkippedStages": 0,
          "numSkippedTasks": 0,
          "numTasks": 8,
          "rowCount": 2000,
          "stageIds": [
           64
          ],
          "status": "SUCCEEDED",
          "submissionTime": "2023-09-05T17:09:04.710GMT",
          "usageDescription": ""
         },
         {
          "completionTime": "2023-09-05T17:09:04.580GMT",
          "dataRead": 4583,
          "dataWritten": 0,
          "description": "Delta: Job group for statement 67:\ndf_pred = X_test.copy()\ndf_pred['y_test'] = y_test\ndf_pred['ypred_rfc1_sm'] = ypred_rfc1_sm\ndf_pred['ypred_rfc2_sm'] =ypred_rfc2_sm\ndf_pred['ypred_lgbm1_sm'] = ypred_lgbm1_sm\ntable_name = \"df_pred_results\"\nsparkDF=spark.createDataFrame(df_pred)\nsparkDF.write.mode(\"overwrite\").format(\"delta\").option(\"overwriteSchema\", \"true\").save(f\"Tables/{table_name}\")\nprint(f\"Spark dataframe saved to delta table: {table_name}\"): Compute snapshot for version: 2",
          "displayName": "toString at String.java:2994",
          "jobGroup": "67",
          "jobId": 39,
          "killedTasksSummary": {},
          "name": "toString at String.java:2994",
          "numActiveStages": 0,
          "numActiveTasks": 0,
          "numCompletedIndices": 1,
          "numCompletedStages": 1,
          "numCompletedTasks": 1,
          "numFailedStages": 0,
          "numFailedTasks": 0,
          "numKilledTasks": 0,
          "numSkippedStages": 2,
          "numSkippedTasks": 53,
          "numTasks": 54,
          "rowCount": 50,
          "stageIds": [
           63,
           61,
           62
          ],
          "status": "SUCCEEDED",
          "submissionTime": "2023-09-05T17:09:04.546GMT",
          "usageDescription": ""
         },
         {
          "completionTime": "2023-09-05T17:09:04.528GMT",
          "dataRead": 6334,
          "dataWritten": 4583,
          "description": "Delta: Job group for statement 67:\ndf_pred = X_test.copy()\ndf_pred['y_test'] = y_test\ndf_pred['ypred_rfc1_sm'] = ypred_rfc1_sm\ndf_pred['ypred_rfc2_sm'] =ypred_rfc2_sm\ndf_pred['ypred_lgbm1_sm'] = ypred_lgbm1_sm\ntable_name = \"df_pred_results\"\nsparkDF=spark.createDataFrame(df_pred)\nsparkDF.write.mode(\"overwrite\").format(\"delta\").option(\"overwriteSchema\", \"true\").save(f\"Tables/{table_name}\")\nprint(f\"Spark dataframe saved to delta table: {table_name}\"): Compute snapshot for version: 2",
          "displayName": "toString at String.java:2994",
          "jobGroup": "67",
          "jobId": 38,
          "killedTasksSummary": {},
          "name": "toString at String.java:2994",
          "numActiveStages": 0,
          "numActiveTasks": 0,
          "numCompletedIndices": 50,
          "numCompletedStages": 1,
          "numCompletedTasks": 50,
          "numFailedStages": 0,
          "numFailedTasks": 0,
          "numKilledTasks": 0,
          "numSkippedStages": 1,
          "numSkippedTasks": 3,
          "numTasks": 53,
          "rowCount": 60,
          "stageIds": [
           60,
           59
          ],
          "status": "SUCCEEDED",
          "submissionTime": "2023-09-05T17:09:04.018GMT",
          "usageDescription": ""
         },
         {
          "completionTime": "2023-09-05T17:09:03.606GMT",
          "dataRead": 8475,
          "dataWritten": 6334,
          "description": "Delta: Job group for statement 67:\ndf_pred = X_test.copy()\ndf_pred['y_test'] = y_test\ndf_pred['ypred_rfc1_sm'] = ypred_rfc1_sm\ndf_pred['ypred_rfc2_sm'] =ypred_rfc2_sm\ndf_pred['ypred_lgbm1_sm'] = ypred_lgbm1_sm\ntable_name = \"df_pred_results\"\nsparkDF=spark.createDataFrame(df_pred)\nsparkDF.write.mode(\"overwrite\").format(\"delta\").option(\"overwriteSchema\", \"true\").save(f\"Tables/{table_name}\")\nprint(f\"Spark dataframe saved to delta table: {table_name}\"): Compute snapshot for version: 2",
          "displayName": "toString at String.java:2994",
          "jobGroup": "67",
          "jobId": 37,
          "killedTasksSummary": {},
          "name": "toString at String.java:2994",
          "numActiveStages": 0,
          "numActiveTasks": 0,
          "numCompletedIndices": 3,
          "numCompletedStages": 1,
          "numCompletedTasks": 3,
          "numFailedStages": 0,
          "numFailedTasks": 0,
          "numKilledTasks": 0,
          "numSkippedStages": 0,
          "numSkippedTasks": 0,
          "numTasks": 3,
          "rowCount": 20,
          "stageIds": [
           58
          ],
          "status": "SUCCEEDED",
          "submissionTime": "2023-09-05T17:09:03.513GMT",
          "usageDescription": ""
         }
        ],
        "limit": 20,
        "numbers": {
         "FAILED": 0,
         "RUNNING": 0,
         "SUCCEEDED": 9,
         "UNKNOWN": 0
        },
        "rule": "ALL_DESC"
       },
       "spark_pool": null,
       "state": "finished",
       "statement_id": 67
      },
      "text/plain": [
       "StatementMeta(, ad4a141b-253f-4dc0-93ea-dbe0e2584e86, 67, Finished, Available)"
      ]
     },
     "metadata": {},
     "output_type": "display_data"
    },
    {
     "name": "stderr",
     "output_type": "stream",
     "text": [
      "/opt/spark/python/lib/pyspark.zip/pyspark/sql/pandas/conversion.py:604: FutureWarning: iteritems is deprecated and will be removed in a future version. Use .items instead.\n",
      "  [(c, t) for (_, c), t in zip(pdf_slice.iteritems(), arrow_types)]\n"
     ]
    },
    {
     "name": "stdout",
     "output_type": "stream",
     "text": [
      "Spark dataframe saved to delta table: df_pred_results\n"
     ]
    }
   ],
   "source": [
    "df_pred = X_test.copy()\n",
    "df_pred['y_test'] = y_test\n",
    "df_pred['ypred_rfc1_sm'] = ypred_rfc1_sm\n",
    "df_pred['ypred_rfc2_sm'] =ypred_rfc2_sm\n",
    "df_pred['ypred_lgbm1_sm'] = ypred_lgbm1_sm\n",
    "table_name = \"df_pred_results\"\n",
    "sparkDF=spark.createDataFrame(df_pred)\n",
    "sparkDF.write.mode(\"overwrite\").format(\"delta\").option(\"overwriteSchema\", \"true\").save(f\"Tables/{table_name}\")\n",
    "print(f\"Spark DataFrame saved to delta table: {table_name}\")"
   ]
  },
  {
   "cell_type": "markdown",
   "id": "0d503f0e-6758-47ea-b836-8bc955663b20",
   "metadata": {
    "nteract": {
     "transient": {
      "deleting": false
     }
    }
   },
   "source": [
    "## Step 6: Access visualizations in Power BI"
   ]
  },
  {
   "cell_type": "markdown",
   "id": "5a9e488f-cd7f-4076-a90b-2e8687aa3035",
   "metadata": {
    "nteract": {
     "transient": {
      "deleting": false
     }
    }
   },
   "source": [
    "Access your saved table in Power BI:\n",
    "\n",
    "1. On the left, select **OneLake data hub**\n",
    "1. Select the lakehouse that you added to this notebook\n",
    "1. In the **Open this Lakehouse** section, select **Open**\n",
    "1. On the ribbon, select **New semantic model**. Select `df_pred_results`, and then select **Continue** to create a new Power BI semantic model linked to the predictions\n",
    "1. Select **New report** from the tools at the top of the semantic models page, to open the Power BI report authoring page\n",
    "\n",
    "The following screenshot shows some example visualizations. The data panel shows the delta tables and columns to select from a table. After selection of appropriate category (x) and value (y) axis, you can choose the filters and functions - for example, sum or average of the table column.\n",
    "\n",
    "> [!NOTE]\n",
    "> In this screenshot, the illustrated example describes the analysis of the saved prediction results in Power BI:\n",
    "\n",
    "<img src=\"https://synapseaisolutionsa.blob.core.windows.net/public/bankcustomerchurn/PBIviz3.png\"  width=\"100%\" height=\"100%\" title=\"Screenshot shows a Power BI dashboard example.\">"
   ]
  },
  {
   "cell_type": "markdown",
   "id": "61e3d32f-7fe4-4c31-ba4f-593ec631c542",
   "metadata": {
    "nteract": {
     "transient": {
      "deleting": false
     }
    }
   },
   "source": [
    "However, for a real customer churn use-case, the user might need a more thorough set of requirements of the visualizations to create, based on subject matter expertise, and what the firm and business analytics team and firm have standardized as metrics.\n",
    "\n",
    "The Power BI report shows that customers who use more than two of the bank products have a higher churn rate. However, few customers had more than two products. (See the plot in the bottom left panel.) The bank should collect more data, but should also investigate other features that correlate with more products.\n",
    "\n",
    "Bank customers in Germany have a higher churn rate compared to customers in France and Spain. (See the plot in the bottom right panel). Based on the report results, an investigation into the factors that encouraged customers to leave might help.\n",
    "\n",
    "There are more middle aged customers (between 25-45) and customers between 45-60 tend to exit more.\n",
    "\n",
    "Finally, customers with lower credit scores would most likely leave the bank for other financial institutions. The bank should explore ways to encourage customers with lower credit scores and account balances to stay with the bank."
   ]
  },
  {
   "cell_type": "code",
   "execution_count": null,
   "id": "01f8f9d6-017e-4baa-b593-45bbdcf1d47e",
   "metadata": {
    "jupyter": {
     "outputs_hidden": false,
     "source_hidden": false
    },
    "nteract": {
     "transient": {
      "deleting": false
     }
    }
   },
   "outputs": [
    {
     "data": {
      "application/vnd.livy.statement-meta+json": {
       "execution_finish_time": "2023-09-05T17:09:10.5637838Z",
       "execution_start_time": "2023-09-05T17:09:10.2210818Z",
       "livy_statement_state": "available",
       "parent_msg_id": "b266004b-c7b3-44ee-984b-0d385d246bf9",
       "queued_time": "2023-09-05T17:07:32.7401591Z",
       "session_id": "ad4a141b-253f-4dc0-93ea-dbe0e2584e86",
       "session_start_time": null,
       "spark_jobs": {
        "jobs": [],
        "limit": 20,
        "numbers": {
         "FAILED": 0,
         "RUNNING": 0,
         "SUCCEEDED": 0,
         "UNKNOWN": 0
        },
        "rule": "ALL_DESC"
       },
       "spark_pool": null,
       "state": "finished",
       "statement_id": 68
      },
      "text/plain": [
       "StatementMeta(, ad4a141b-253f-4dc0-93ea-dbe0e2584e86, 68, Finished, Available)"
      ]
     },
     "metadata": {},
     "output_type": "display_data"
    },
    {
     "name": "stdout",
     "output_type": "stream",
     "text": [
      "Full run cost 92 seconds.\n"
     ]
    }
   ],
   "source": [
    "# Determine the entire runtime\n",
    "print(f\"Full run cost {int(time.time() - ts)} seconds.\")"
   ]
  }
 ],
 "metadata": {
  "kernel_info": {
   "name": "synapse_pyspark"
  },
  "kernelspec": {
   "display_name": "Synapse PySpark",
   "language": "Python",
   "name": "synapse_pyspark"
  },
  "language_info": {
   "name": "python"
  },
  "notebook_environment": {},
  "nteract": {
   "version": "nteract-front-end@1.0.0"
  },
  "save_output": true,
  "spark_compute": {
   "compute_id": "/trident/default",
   "session_options": {
    "conf": {},
    "enableDebugMode": false
   }
  }
 },
 "nbformat": 4,
 "nbformat_minor": 5
}
