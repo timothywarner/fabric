{
 "cells": [
  {
   "cell_type": "markdown",
   "id": "61a232a2-64a2-4f18-8bf6-75741a345a81",
   "metadata": {
    "nteract": {
     "transient": {
      "deleting": false
     }
    }
   },
   "source": [
    "# Create, evaluate, and score a fraud detection model"
   ]
  },
  {
   "cell_type": "markdown",
   "id": "f3248560-b758-4daa-8f66-f86024368ce7",
   "metadata": {},
   "source": [
    "## Introduction\n",
    "\n",
    "In this notebook, you walk through the Synapse Data Science in Microsoft Fabric workflow with an end-to-end example. The scenario is to build a fraud detection model, using ML algorithms trained on historical data and then use the model to detect future fraudulent transactions.\n",
    "\n",
    "The main steps in this notebook are:\n",
    "\n",
    "1. Install custom libraries\n",
    "2. Load the data \n",
    "3. Understand and process the data through exploratory data analysis\n",
    "4. Train a machine learning model using scikit-learn and track experiments using MLflow and Fabric Autologging feature\n",
    "5. Save and register the best performing machine learning model\n",
    "6. Load the machine learning model for scoring and making predictions\n",
    "\n",
    "#### Prerequisites\n",
    "- [Add a lakehouse](https://aka.ms/fabric/addlakehouse) to this notebook. You'll be downloading data from a public blob and storing the data in the lakehouse. "
   ]
  },
  {
   "cell_type": "markdown",
   "id": "cedad4ea-4a09-4f63-b10b-bfde1167acdf",
   "metadata": {
    "nteract": {
     "transient": {
      "deleting": false
     }
    }
   },
   "source": [
    "## Step 1: Install custom libraries\n",
    "When developing a machine learning model or doing ad-hoc data analysis, you may need to quickly install a custom library (such as `imblearn`) for your Apache Spark session. To install libraries, you have two choices. \n",
    "\n",
    "1. You can use the inline installation capabilities (such as `%pip` and `%conda`) to quickly get started with new libraries. Note that this installation option would install the custom libraries only in the current notebook and not in the workspace.\n",
    "\n",
    "```python\n",
    "# Use pip to install libraries\n",
    "%pip install <library name>\n",
    "\n",
    "# Use conda to install libraries\n",
    "%conda install <library name>\n",
    "```\n",
    "\n",
    "2. Alternatively, you can create a Fabric environment, install libraries from public sources or upload custom libraries to it, and then your workspace admin can attach the environment as the default for the workspace. All the libraries in the environment will then become available for use in any notebooks and Spark job definitions in the workspace. For more information on environments, see [create, configure, and use an environment in Microsoft Fabric](https://aka.ms/fabric/create-environment)."
   ]
  },
  {
   "cell_type": "markdown",
   "id": "1648a2ae-6a98-4d49-9bb9-579ca8b9c898",
   "metadata": {
    "nteract": {
     "transient": {
      "deleting": false
     }
    }
   },
   "source": [
    "For this notebook, you install the `imblearn` library, using `%pip install`. When you run `%pip install`, the PySpark kernel restarts; therefore, you should install the library before you run any other cells in the notebook."
   ]
  },
  {
   "cell_type": "code",
   "execution_count": null,
   "id": "df2e8641-e8b5-453a-bf0c-23127494e6df",
   "metadata": {
    "jupyter": {
     "outputs_hidden": false,
     "source_hidden": false
    },
    "nteract": {
     "transient": {
      "deleting": false
     }
    }
   },
   "outputs": [
    {
     "data": {
      "application/vnd.livy.statement-meta+json": {
       "execution_finish_time": "2023-09-07T17:34:16.844293Z",
       "execution_start_time": "2023-09-07T17:34:14.3602824Z",
       "livy_statement_state": "available",
       "parent_msg_id": "47fdea32-3b80-494c-a307-f83a385d0312",
       "queued_time": "2023-09-07T17:33:48.1489602Z",
       "session_id": "32e3c016-db9c-4f83-b8c0-f7af0f59032f",
       "session_start_time": null,
       "spark_jobs": {
        "jobs": [],
        "limit": 20,
        "numbers": {
         "FAILED": 0,
         "RUNNING": 0,
         "SUCCEEDED": 0,
         "UNKNOWN": 0
        },
        "rule": "ALL_DESC"
       },
       "spark_pool": null,
       "state": "finished",
       "statement_id": 8
      },
      "text/plain": [
       "StatementMeta(, 32e3c016-db9c-4f83-b8c0-f7af0f59032f, 8, Finished, Available)"
      ]
     },
     "metadata": {},
     "output_type": "display_data"
    },
    {
     "data": {},
     "execution_count": null,
     "metadata": {},
     "output_type": "execute_result"
    },
    {
     "name": "stdout",
     "output_type": "stream",
     "text": [
      "Collecting imblearn\n",
      "  Downloading imblearn-0.0-py2.py3-none-any.whl (1.9 kB)\n",
      "Collecting imbalanced-learn\n",
      "  Downloading imbalanced_learn-0.11.0-py3-none-any.whl (235 kB)\n",
      "\u001b[2K     \u001b[90m━━━━━━━━━━━━━━━━━━━━━━━━━━━━━━━━━━━━━━━\u001b[0m \u001b[32m235.6/235.6 kB\u001b[0m \u001b[31m3.2 MB/s\u001b[0m eta \u001b[36m0:00:00\u001b[0m00:01\u001b[0m00:01\u001b[0m\n",
      "\u001b[?25hRequirement already satisfied: numpy>=1.17.3 in /home/trusted-service-user/cluster-env/trident_env/lib/python3.10/site-packages (from imbalanced-learn->imblearn) (1.23.5)\n",
      "Requirement already satisfied: scipy>=1.5.0 in /home/trusted-service-user/cluster-env/trident_env/lib/python3.10/site-packages (from imbalanced-learn->imblearn) (1.10.1)\n",
      "Requirement already satisfied: scikit-learn>=1.0.2 in /home/trusted-service-user/cluster-env/trident_env/lib/python3.10/site-packages (from imbalanced-learn->imblearn) (1.2.0)\n",
      "Requirement already satisfied: joblib>=1.1.1 in /home/trusted-service-user/cluster-env/trident_env/lib/python3.10/site-packages (from imbalanced-learn->imblearn) (1.2.0)\n",
      "Requirement already satisfied: threadpoolctl>=2.0.0 in /home/trusted-service-user/cluster-env/trident_env/lib/python3.10/site-packages (from imbalanced-learn->imblearn) (3.1.0)\n",
      "Installing collected packages: imbalanced-learn, imblearn\n",
      "Successfully installed imbalanced-learn-0.11.0 imblearn-0.0\n",
      "\n",
      "\u001b[1m[\u001b[0m\u001b[34;49mnotice\u001b[0m\u001b[1;39;49m]\u001b[0m\u001b[39;49m A new release of pip is available: \u001b[0m\u001b[31;49m23.0\u001b[0m\u001b[39;49m -> \u001b[0m\u001b[32;49m23.2.1\u001b[0m\n",
      "\u001b[1m[\u001b[0m\u001b[34;49mnotice\u001b[0m\u001b[1;39;49m]\u001b[0m\u001b[39;49m To update, run: \u001b[0m\u001b[32;49m/nfs4/pyenv-31fa20a3-dc98-43d3-a862-5a57aca7c134/bin/python -m pip install --upgrade pip\u001b[0m\n",
      "Note: you may need to restart the kernel to use updated packages.\n"
     ]
    },
    {
     "data": {},
     "execution_count": null,
     "metadata": {},
     "output_type": "execute_result"
    },
    {
     "name": "stdout",
     "output_type": "stream",
     "text": [
      "Warning: PySpark kernel has been restarted to use updated packages.\n",
      "\n"
     ]
    }
   ],
   "source": [
    "# Use pip to install imblearn\n",
    "%pip install imblearn"
   ]
  },
  {
   "cell_type": "markdown",
   "id": "c51d1f41",
   "metadata": {},
   "source": [
    "## Step 2: Load the data"
   ]
  },
  {
   "cell_type": "markdown",
   "id": "39e326f0-e4f8-463c-a0d4-d6d96a2544b7",
   "metadata": {},
   "source": [
    "### Dataset\n",
    "\n",
    "The fraud detection dataset contains credit card transactions made by European cardholders in September 2013 over the course of two days. The dataset contains only numerical features, which is the result of a Principal Component Analysis (PCA) transformation that was done on the original features. The only features that haven't been transformed with PCA are `Time` and `Amount`. To protect confidentiality, the original features or more background information about the dataset can't be provided.\n",
    "\n",
    "- The features `V1`, `V2`, `V3`, …, `V28` are the principal components obtained with PCA.\n",
    "- The feature `Time` contains the elapsed seconds between each transaction and the first transaction in the dataset.\n",
    "- The feature `Amount` is the transaction amount. This feature can be used for example-dependent cost-sensitive learning.\n",
    "- The column `Class` is the response (target) variable and takes the value `1` for fraud and `0` otherwise.\n",
    "\n",
    "Out of the 284,807 transactions, only 492 are fraudulent. Therefore, the minority class (fraud) accounts for only about 0.172% of the data, making the dataset highly imbalanced.\n",
    "\n",
    "The following table shows a preview of the _creditcard.csv_ data:\n",
    "\n",
    "|\"Time\"|\"V1\"|\"V2\"|\"V3\"|\"V4\"|\"V5\"|\"V6\"|\"V7\"|\"V8\"|\"V9\"|\"V10\"|\"V11\"|\"V12\"|\"V13\"|\"V14\"|\"V15\"|\"V16\"|\"V17\"|\"V18\"|\"V19\"|\"V20\"|\"V21\"|\"V22\"|\"V23\"|\"V24\"|\"V25\"|\"V26\"|\"V27\"|\"V28\"|\"Amount\"|\"Class\"|\n",
    "|---|---|---|---|---|---|---|---|---|---|---|---|---|---|---|---|---|---|---|---|---|---|---|---|---|---|---|---|---|---|---|\n",
    "|0|-1.3598071336738|-0.0727811733098497|2.53634673796914|1.37815522427443|-0.338320769942518|0.462387777762292|0.239598554061257|0.0986979012610507|0.363786969611213|0.0907941719789316|-0.551599533260813|-0.617800855762348|-0.991389847235408|-0.311169353699879|1.46817697209427|-0.470400525259478|0.207971241929242|0.0257905801985591|0.403992960255733|0.251412098239705|-0.018306777944153|0.277837575558899|-0.110473910188767|0.0669280749146731|0.128539358273528|-0.189114843888824|0.133558376740387|-0.0210530534538215|149.62|\"0\"|\n",
    "|0|1.19185711131486|0.26615071205963|0.16648011335321|0.448154078460911|0.0600176492822243|-0.0823608088155687|-0.0788029833323113|0.0851016549148104|-0.255425128109186|-0.166974414004614|1.61272666105479|1.06523531137287|0.48909501589608|-0.143772296441519|0.635558093258208|0.463917041022171|-0.114804663102346|-0.183361270123994|-0.145783041325259|-0.0690831352230203|-0.225775248033138|-0.638671952771851|0.101288021253234|-0.339846475529127|0.167170404418143|0.125894532368176|-0.00898309914322813|0.0147241691924927|2.69|\"0\"|\n"
   ]
  },
  {
   "cell_type": "markdown",
   "id": "c8c5d531-4de5-4710-a0d1-7a9b8db6a42b",
   "metadata": {
    "nteract": {
     "transient": {
      "deleting": false
     }
    }
   },
   "source": [
    "### Introduction to SMOTE\n",
    "\n",
    "`imblearn` (imbalanced learn) is a library that uses the Synthetic Minority Oversampling Technique (SMOTE) approach to address the problem of imbalanced classification. Imbalanced classification happens when there are too few examples of the minority class for a model to effectively learn the decision boundary. SMOTE is the most widely used approach to synthesize new samples for the minority class. You can read more about SMOTE [here](https://cran.r-project.org/web/packages/imbalance/imbalance.pdf) and [here](https://cran.r-project.org/web/packages/imbalance/vignettes/imbalance.pdf).\n",
    "\n",
    "\n",
    "You can apply the SMOTE approach by using the `imblearn` library that you installed in Step 1."
   ]
  },
  {
   "cell_type": "markdown",
   "id": "1c5fecbb-55f1-4575-ae06-224e26b60375",
   "metadata": {},
   "source": [
    "> [!TIP]\n",
    "> By defining the following parameters, you can apply this notebook on different datasets easily."
   ]
  },
  {
   "cell_type": "code",
   "execution_count": null,
   "id": "398877d9-fc16-48cc-b8b4-2f7fa264cda7",
   "metadata": {
    "jupyter": {
     "outputs_hidden": false,
     "source_hidden": false
    },
    "nteract": {
     "transient": {
      "deleting": false
     }
    }
   },
   "outputs": [
    {
     "data": {
      "application/vnd.livy.statement-meta+json": {
       "execution_finish_time": "2023-09-07T17:34:21.8065079Z",
       "execution_start_time": "2023-09-07T17:34:20.6263614Z",
       "livy_statement_state": "available",
       "parent_msg_id": "db12e872-06d0-4688-a4d0-2e83a1a843bd",
       "queued_time": "2023-09-07T17:33:48.1495531Z",
       "session_id": "32e3c016-db9c-4f83-b8c0-f7af0f59032f",
       "session_start_time": null,
       "spark_jobs": {
        "jobs": [],
        "limit": 20,
        "numbers": {
         "FAILED": 0,
         "RUNNING": 0,
         "SUCCEEDED": 0,
         "UNKNOWN": 0
        },
        "rule": "ALL_DESC"
       },
       "spark_pool": null,
       "state": "finished",
       "statement_id": 10
      },
      "text/plain": [
       "StatementMeta(, 32e3c016-db9c-4f83-b8c0-f7af0f59032f, 10, Finished, Available)"
      ]
     },
     "metadata": {},
     "output_type": "display_data"
    }
   ],
   "source": [
    "IS_CUSTOM_DATA = False  # if True, dataset has to be uploaded manually\n",
    "\n",
    "TARGET_COL = \"Class\"  # target column name\n",
    "IS_SAMPLE = False  # if True, use only <SAMPLE_ROWS> rows of data for training, otherwise use all data\n",
    "SAMPLE_ROWS = 5000  # if IS_SAMPLE is True, use only this number of rows for training\n",
    "\n",
    "DATA_FOLDER = \"Files/fraud-detection/\"  # folder with data files\n",
    "DATA_FILE = \"creditcard.csv\"  # data file name\n",
    "\n",
    "EXPERIMENT_NAME = \"aisample-fraud\"  # MLflow experiment name"
   ]
  },
  {
   "cell_type": "markdown",
   "id": "cfd8b439-8c0c-4de4-97a3-3c3f397de6c8",
   "metadata": {
    "nteract": {
     "transient": {
      "deleting": false
     }
    }
   },
   "source": [
    "### Download the dataset and upload to the lakehouse\n",
    "\n",
    "The following code downloads a publicly available version of the dataset and then stores it in a Fabric lakehouse.\n",
    "\n",
    "> [!IMPORTANT]\n",
    "> **Make sure you [add a lakehouse](https://aka.ms/fabric/addlakehouse) to the notebook before running it. Failure to do so will result in an error.**"
   ]
  },
  {
   "cell_type": "code",
   "execution_count": null,
   "id": "e2b23a6e-2dc7-4501-b429-d51fb7982456",
   "metadata": {
    "jupyter": {
     "outputs_hidden": false,
     "source_hidden": false
    },
    "nteract": {
     "transient": {
      "deleting": false
     }
    }
   },
   "outputs": [
    {
     "data": {
      "application/vnd.livy.statement-meta+json": {
       "execution_finish_time": "2023-09-07T17:34:28.6414144Z",
       "execution_start_time": "2023-09-07T17:34:22.0634682Z",
       "livy_statement_state": "available",
       "parent_msg_id": "c9197f87-1dba-4e0f-bbe2-2025d3243276",
       "queued_time": "2023-09-07T17:33:48.1681343Z",
       "session_id": "32e3c016-db9c-4f83-b8c0-f7af0f59032f",
       "session_start_time": null,
       "spark_jobs": {
        "jobs": [],
        "limit": 20,
        "numbers": {
         "FAILED": 0,
         "RUNNING": 0,
         "SUCCEEDED": 0,
         "UNKNOWN": 0
        },
        "rule": "ALL_DESC"
       },
       "spark_pool": null,
       "state": "finished",
       "statement_id": 11
      },
      "text/plain": [
       "StatementMeta(, 32e3c016-db9c-4f83-b8c0-f7af0f59032f, 11, Finished, Available)"
      ]
     },
     "metadata": {},
     "output_type": "display_data"
    },
    {
     "name": "stdout",
     "output_type": "stream",
     "text": [
      "Downloaded demo data files into lakehouse.\n"
     ]
    }
   ],
   "source": [
    "if not IS_CUSTOM_DATA:\n",
    "    # Download data files into lakehouse if not already there\n",
    "    import os, requests\n",
    "\n",
    "    remote_url = \"https://synapseaisolutionsa.blob.core.windows.net/public/Credit_Card_Fraud_Detection\"\n",
    "    fname = \"creditcard.csv\"\n",
    "    download_path = f\"/lakehouse/default/{DATA_FOLDER}/raw\"\n",
    "\n",
    "    if not os.path.exists(\"/lakehouse/default\"):\n",
    "        raise FileNotFoundError(\"Default lakehouse not found, please add a lakehouse and restart the session.\")\n",
    "    os.makedirs(download_path, exist_ok=True)\n",
    "    if not os.path.exists(f\"{download_path}/{fname}\"):\n",
    "        r = requests.get(f\"{remote_url}/{fname}\", timeout=30)\n",
    "        with open(f\"{download_path}/{fname}\", \"wb\") as f:\n",
    "            f.write(r.content)\n",
    "    print(\"Downloaded demo data files into lakehouse.\")\n"
   ]
  },
  {
   "cell_type": "markdown",
   "id": "6a57aee7-4b7e-4f6e-a55d-a8a88818b96a",
   "metadata": {
    "nteract": {
     "transient": {
      "deleting": false
     }
    }
   },
   "source": [
    "Start recording the time it takes to run this notebook."
   ]
  },
  {
   "cell_type": "code",
   "execution_count": null,
   "id": "6f1b1389-e53c-4c0a-8459-4b2086f62176",
   "metadata": {
    "jupyter": {
     "outputs_hidden": false,
     "source_hidden": false
    },
    "nteract": {
     "transient": {
      "deleting": false
     }
    }
   },
   "outputs": [
    {
     "data": {
      "application/vnd.livy.statement-meta+json": {
       "execution_finish_time": "2023-09-07T17:34:29.2156362Z",
       "execution_start_time": "2023-09-07T17:34:28.9005538Z",
       "livy_statement_state": "available",
       "parent_msg_id": "5ba6c5aa-2dc7-4c8a-b350-981c13acf13f",
       "queued_time": "2023-09-07T17:33:48.1687793Z",
       "session_id": "32e3c016-db9c-4f83-b8c0-f7af0f59032f",
       "session_start_time": null,
       "spark_jobs": {
        "jobs": [],
        "limit": 20,
        "numbers": {
         "FAILED": 0,
         "RUNNING": 0,
         "SUCCEEDED": 0,
         "UNKNOWN": 0
        },
        "rule": "ALL_DESC"
       },
       "spark_pool": null,
       "state": "finished",
       "statement_id": 12
      },
      "text/plain": [
       "StatementMeta(, 32e3c016-db9c-4f83-b8c0-f7af0f59032f, 12, Finished, Available)"
      ]
     },
     "metadata": {},
     "output_type": "display_data"
    }
   ],
   "source": [
    "# Record the notebook running time\n",
    "import time\n",
    "\n",
    "ts = time.time()"
   ]
  },
  {
   "cell_type": "markdown",
   "id": "90c0a880-9f3a-4c32-b4ce-615327232184",
   "metadata": {
    "nteract": {
     "transient": {
      "deleting": false
     }
    }
   },
   "source": [
    "### Set up MLflow experiment tracking\n",
    "\n",
    "Experiment tracking is the process of saving all relevant experiment-related information for every experiment you run. Sometimes, it's easy to observe that there is no way to get better results when running a particular experiment. In such a situation, you're better off simply stopping the experiment and trying a new one. \n",
    "\n",
    "The Data Science experience in Microsoft Fabric includes autologging, which significantly reduces the amount of code required to automatically log the parameters, metrics, and items of a machine learning model during training. This feature extends MLflow autologging capabilities and is deeply integrated into the Data Science experience. Using autologging, you can easily track and compare the performance of different models and experiments without the need for manual tracking. For more information, see [Autologging in Microsoft Fabric](https://aka.ms/fabric-autologging)."
   ]
  },
  {
   "cell_type": "code",
   "execution_count": null,
   "id": "f8c7e126-3c2d-440c-8621-a9d55878af59",
   "metadata": {},
   "outputs": [
    {
     "data": {
      "application/vnd.livy.statement-meta+json": {
       "execution_finish_time": "2023-09-07T17:34:34.4915089Z",
       "execution_start_time": "2023-09-07T17:34:29.4743027Z",
       "livy_statement_state": "available",
       "parent_msg_id": "fa722e51-422f-46b2-a10a-2c0f0759c227",
       "queued_time": "2023-09-07T17:33:48.169313Z",
       "session_id": "32e3c016-db9c-4f83-b8c0-f7af0f59032f",
       "session_start_time": null,
       "spark_jobs": {
        "jobs": [],
        "limit": 20,
        "numbers": {
         "FAILED": 0,
         "RUNNING": 0,
         "SUCCEEDED": 0,
         "UNKNOWN": 0
        },
        "rule": "ALL_DESC"
       },
       "spark_pool": null,
       "state": "finished",
       "statement_id": 13
      },
      "text/plain": [
       "StatementMeta(, 32e3c016-db9c-4f83-b8c0-f7af0f59032f, 13, Finished, Available)"
      ]
     },
     "metadata": {},
     "output_type": "display_data"
    },
    {
     "name": "stderr",
     "output_type": "stream",
     "text": [
      "2023/09/07 17:34:29 INFO mlflow.tracking.fluent: Experiment with name 'aisample-fraud' does not exist. Creating a new experiment.\n"
     ]
    }
   ],
   "source": [
    "# Set up MLflow for experiment tracking\n",
    "import mlflow\n",
    "\n",
    "mlflow.set_experiment(EXPERIMENT_NAME)\n",
    "mlflow.autolog(disable=True)  # Disable MLflow autologging"
   ]
  },
  {
   "cell_type": "markdown",
   "id": "440a051d-3e66-4973-8c2f-293362ea793d",
   "metadata": {
    "nteract": {
     "transient": {
      "deleting": false
     }
    }
   },
   "source": [
    "> [!TIP]\n",
    "> You can disable Microsoft Fabric autologging in a notebook session by calling `mlflow.autolog()` and setting `disable=True` as shown in the previous code cell."
   ]
  },
  {
   "cell_type": "markdown",
   "id": "f521e57f-0a4b-4833-adb1-55491d1b15bc",
   "metadata": {
    "nteract": {
     "transient": {
      "deleting": false
     }
    }
   },
   "source": [
    "### Read raw data from the lakehouse\n",
    "\n",
    "This code reads raw data from the lakehouse."
   ]
  },
  {
   "cell_type": "code",
   "execution_count": null,
   "id": "361b199d-f45c-4351-9c38-83f73659afbf",
   "metadata": {
    "jupyter": {
     "outputs_hidden": false,
     "source_hidden": false
    },
    "nteract": {
     "transient": {
      "deleting": false
     }
    }
   },
   "outputs": [
    {
     "data": {
      "application/vnd.livy.statement-meta+json": {
       "execution_finish_time": "2023-09-07T17:34:39.923206Z",
       "execution_start_time": "2023-09-07T17:34:34.7471466Z",
       "livy_statement_state": "available",
       "parent_msg_id": "0844a7f1-e331-4082-a365-4919ad62dc3e",
       "queued_time": "2023-09-07T17:33:48.1697838Z",
       "session_id": "32e3c016-db9c-4f83-b8c0-f7af0f59032f",
       "session_start_time": null,
       "spark_jobs": {
        "jobs": [
         {
          "completionTime": "2023-09-07T17:34:39.005GMT",
          "dataRead": 151287504,
          "dataWritten": 0,
          "description": "Job group for statement 14:\ndf = (\n    spark.read.format(\"csv\")\n    .option(\"header\", \"true\")\n    .option(\"inferSchema\", True)\n    .load(f\"{DATA_FOLDER}/raw/{DATA_FILE}\")\n    .cache()\n)",
          "displayName": "load at NativeMethodAccessorImpl.java:0",
          "jobGroup": "14",
          "jobId": 9,
          "killedTasksSummary": {},
          "name": "load at NativeMethodAccessorImpl.java:0",
          "numActiveStages": 0,
          "numActiveTasks": 0,
          "numCompletedIndices": 8,
          "numCompletedStages": 1,
          "numCompletedTasks": 8,
          "numFailedStages": 0,
          "numFailedTasks": 0,
          "numKilledTasks": 0,
          "numSkippedStages": 0,
          "numSkippedTasks": 0,
          "numTasks": 8,
          "rowCount": 284808,
          "stageIds": [
           13
          ],
          "status": "SUCCEEDED",
          "submissionTime": "2023-09-07T17:34:37.419GMT",
          "usageDescription": ""
         },
         {
          "completionTime": "2023-09-07T17:34:37.288GMT",
          "dataRead": 65536,
          "dataWritten": 0,
          "description": "Job group for statement 14:\ndf = (\n    spark.read.format(\"csv\")\n    .option(\"header\", \"true\")\n    .option(\"inferSchema\", True)\n    .load(f\"{DATA_FOLDER}/raw/{DATA_FILE}\")\n    .cache()\n)",
          "displayName": "load at NativeMethodAccessorImpl.java:0",
          "jobGroup": "14",
          "jobId": 8,
          "killedTasksSummary": {},
          "name": "load at NativeMethodAccessorImpl.java:0",
          "numActiveStages": 0,
          "numActiveTasks": 0,
          "numCompletedIndices": 1,
          "numCompletedStages": 1,
          "numCompletedTasks": 1,
          "numFailedStages": 0,
          "numFailedTasks": 0,
          "numKilledTasks": 0,
          "numSkippedStages": 0,
          "numSkippedTasks": 0,
          "numTasks": 1,
          "rowCount": 1,
          "stageIds": [
           12
          ],
          "status": "SUCCEEDED",
          "submissionTime": "2023-09-07T17:34:36.847GMT",
          "usageDescription": ""
         }
        ],
        "limit": 20,
        "numbers": {
         "FAILED": 0,
         "RUNNING": 0,
         "SUCCEEDED": 2,
         "UNKNOWN": 0
        },
        "rule": "ALL_DESC"
       },
       "spark_pool": null,
       "state": "finished",
       "statement_id": 14
      },
      "text/plain": [
       "StatementMeta(, 32e3c016-db9c-4f83-b8c0-f7af0f59032f, 14, Finished, Available)"
      ]
     },
     "metadata": {},
     "output_type": "display_data"
    }
   ],
   "source": [
    "df = (\n",
    "    spark.read.format(\"csv\")\n",
    "    .option(\"header\", \"true\")\n",
    "    .option(\"inferSchema\", True)\n",
    "    .load(f\"{DATA_FOLDER}/raw/{DATA_FILE}\")\n",
    "    .cache()\n",
    ")"
   ]
  },
  {
   "cell_type": "markdown",
   "id": "d3e5403b",
   "metadata": {},
   "source": [
    "## Step 3: Perform exploratory data analysis"
   ]
  },
  {
   "cell_type": "markdown",
   "id": "a1201a0d-c19a-434b-acec-1cf68dd2508f",
   "metadata": {
    "nteract": {
     "transient": {
      "deleting": false
     }
    }
   },
   "source": [
    "In this section, you'll begin by exploring the raw data and high-level statistics. You'll then transform the data by casting the columns into the correct types and converting from a Spark DataFrame into a pandas DataFrame for easier visualization. Finally, you explore and visualize the class distributions in the data.\n",
    "\n",
    "### Display the raw data\n",
    "\n",
    "1. Explore the raw data and view high-level statistics by using the `display` command. For more information, see [Notebook visualization in Microsoft Fabric](https://aka.ms/fabric/visualization)."
   ]
  },
  {
   "cell_type": "code",
   "execution_count": null,
   "id": "1f2da613-5c7a-4878-a388-823032afe017",
   "metadata": {},
   "outputs": [
    {
     "data": {
      "application/vnd.livy.statement-meta+json": {
       "execution_finish_time": "2023-09-07T17:34:42.8076957Z",
       "execution_start_time": "2023-09-07T17:34:40.1815793Z",
       "livy_statement_state": "available",
       "parent_msg_id": "8f1b009b-10de-4fa1-83b2-26b4da8a9fdd",
       "queued_time": "2023-09-07T17:33:48.1702586Z",
       "session_id": "32e3c016-db9c-4f83-b8c0-f7af0f59032f",
       "session_start_time": null,
       "spark_jobs": {
        "jobs": [
         {
          "completionTime": "2023-09-07T17:34:41.176GMT",
          "dataRead": 19443418,
          "dataWritten": 0,
          "description": "Job group for statement 15:\ndisplay(df)",
          "displayName": "getRowsInJsonString at Display.scala:452",
          "jobGroup": "15",
          "jobId": 10,
          "killedTasksSummary": {},
          "name": "getRowsInJsonString at Display.scala:452",
          "numActiveStages": 0,
          "numActiveTasks": 0,
          "numCompletedIndices": 1,
          "numCompletedStages": 1,
          "numCompletedTasks": 1,
          "numFailedStages": 0,
          "numFailedTasks": 0,
          "numKilledTasks": 0,
          "numSkippedStages": 0,
          "numSkippedTasks": 0,
          "numTasks": 1,
          "rowCount": 36693,
          "stageIds": [
           14
          ],
          "status": "SUCCEEDED",
          "submissionTime": "2023-09-07T17:34:40.429GMT",
          "usageDescription": ""
         }
        ],
        "limit": 20,
        "numbers": {
         "FAILED": 0,
         "RUNNING": 0,
         "SUCCEEDED": 1,
         "UNKNOWN": 0
        },
        "rule": "ALL_DESC"
       },
       "spark_pool": null,
       "state": "finished",
       "statement_id": 15
      },
      "text/plain": [
       "StatementMeta(, 32e3c016-db9c-4f83-b8c0-f7af0f59032f, 15, Finished, Available)"
      ]
     },
     "metadata": {},
     "output_type": "display_data"
    },
    {
     "data": {
      "application/vnd.synapse.widget-view+json": {
       "widget_id": "eae3f282-638e-47a8-9a34-04f298f02edd",
       "widget_type": "Synapse.DataFrame"
      },
      "text/plain": [
       "SynapseWidget(Synapse.DataFrame, eae3f282-638e-47a8-9a34-04f298f02edd)"
      ]
     },
     "metadata": {},
     "output_type": "display_data"
    }
   ],
   "source": [
    "display(df)"
   ]
  },
  {
   "cell_type": "markdown",
   "id": "f2058e83",
   "metadata": {},
   "source": [
    "2. Print some basic information about the dataset."
   ]
  },
  {
   "cell_type": "code",
   "execution_count": null,
   "id": "fae839a8-a355-40ac-8eac-48379391d065",
   "metadata": {
    "jupyter": {
     "outputs_hidden": false,
     "source_hidden": false
    },
    "nteract": {
     "transient": {
      "deleting": false
     }
    }
   },
   "outputs": [
    {
     "data": {
      "application/vnd.livy.statement-meta+json": {
       "execution_finish_time": "2023-09-07T17:34:44.6697171Z",
       "execution_start_time": "2023-09-07T17:34:43.0638472Z",
       "livy_statement_state": "available",
       "parent_msg_id": "f734bf41-89dd-4f89-afd5-d787b3461350",
       "queued_time": "2023-09-07T17:33:48.2186266Z",
       "session_id": "32e3c016-db9c-4f83-b8c0-f7af0f59032f",
       "session_start_time": null,
       "spark_jobs": {
        "jobs": [
         {
          "completionTime": "2023-09-07T17:34:44.246GMT",
          "dataRead": 472,
          "dataWritten": 0,
          "description": "Job group for statement 16:\n# Print dataset basic information\nprint(\"records read: \" + str(df.count()))\nprint(\"Schema: \")\ndf.printSchema()",
          "displayName": "count at NativeMethodAccessorImpl.java:0",
          "jobGroup": "16",
          "jobId": 12,
          "killedTasksSummary": {},
          "name": "count at NativeMethodAccessorImpl.java:0",
          "numActiveStages": 0,
          "numActiveTasks": 0,
          "numCompletedIndices": 1,
          "numCompletedStages": 1,
          "numCompletedTasks": 1,
          "numFailedStages": 0,
          "numFailedTasks": 0,
          "numKilledTasks": 0,
          "numSkippedStages": 1,
          "numSkippedTasks": 8,
          "numTasks": 9,
          "rowCount": 8,
          "stageIds": [
           16,
           17
          ],
          "status": "SUCCEEDED",
          "submissionTime": "2023-09-07T17:34:44.212GMT",
          "usageDescription": ""
         },
         {
          "completionTime": "2023-09-07T17:34:44.190GMT",
          "dataRead": 140674254,
          "dataWritten": 472,
          "description": "Job group for statement 16:\n# Print dataset basic information\nprint(\"records read: \" + str(df.count()))\nprint(\"Schema: \")\ndf.printSchema()",
          "displayName": "count at NativeMethodAccessorImpl.java:0",
          "jobGroup": "16",
          "jobId": 11,
          "killedTasksSummary": {},
          "name": "count at NativeMethodAccessorImpl.java:0",
          "numActiveStages": 0,
          "numActiveTasks": 0,
          "numCompletedIndices": 8,
          "numCompletedStages": 1,
          "numCompletedTasks": 8,
          "numFailedStages": 0,
          "numFailedTasks": 0,
          "numKilledTasks": 0,
          "numSkippedStages": 0,
          "numSkippedTasks": 0,
          "numTasks": 8,
          "rowCount": 248126,
          "stageIds": [
           15
          ],
          "status": "SUCCEEDED",
          "submissionTime": "2023-09-07T17:34:43.227GMT",
          "usageDescription": ""
         }
        ],
        "limit": 20,
        "numbers": {
         "FAILED": 0,
         "RUNNING": 0,
         "SUCCEEDED": 2,
         "UNKNOWN": 0
        },
        "rule": "ALL_DESC"
       },
       "spark_pool": null,
       "state": "finished",
       "statement_id": 16
      },
      "text/plain": [
       "StatementMeta(, 32e3c016-db9c-4f83-b8c0-f7af0f59032f, 16, Finished, Available)"
      ]
     },
     "metadata": {},
     "output_type": "display_data"
    },
    {
     "name": "stdout",
     "output_type": "stream",
     "text": [
      "records read: 284807\n",
      "Schema: \n",
      "root\n",
      " |-- Time: double (nullable = true)\n",
      " |-- V1: double (nullable = true)\n",
      " |-- V2: double (nullable = true)\n",
      " |-- V3: double (nullable = true)\n",
      " |-- V4: double (nullable = true)\n",
      " |-- V5: double (nullable = true)\n",
      " |-- V6: double (nullable = true)\n",
      " |-- V7: double (nullable = true)\n",
      " |-- V8: double (nullable = true)\n",
      " |-- V9: double (nullable = true)\n",
      " |-- V10: double (nullable = true)\n",
      " |-- V11: double (nullable = true)\n",
      " |-- V12: double (nullable = true)\n",
      " |-- V13: double (nullable = true)\n",
      " |-- V14: double (nullable = true)\n",
      " |-- V15: double (nullable = true)\n",
      " |-- V16: double (nullable = true)\n",
      " |-- V17: double (nullable = true)\n",
      " |-- V18: double (nullable = true)\n",
      " |-- V19: double (nullable = true)\n",
      " |-- V20: double (nullable = true)\n",
      " |-- V21: double (nullable = true)\n",
      " |-- V22: double (nullable = true)\n",
      " |-- V23: double (nullable = true)\n",
      " |-- V24: double (nullable = true)\n",
      " |-- V25: double (nullable = true)\n",
      " |-- V26: double (nullable = true)\n",
      " |-- V27: double (nullable = true)\n",
      " |-- V28: double (nullable = true)\n",
      " |-- Amount: double (nullable = true)\n",
      " |-- Class: integer (nullable = true)\n",
      "\n"
     ]
    }
   ],
   "source": [
    "# Print dataset basic information\n",
    "print(\"records read: \" + str(df.count()))\n",
    "print(\"Schema: \")\n",
    "df.printSchema()"
   ]
  },
  {
   "cell_type": "markdown",
   "id": "a9616519-d17e-45ed-8756-529e2faf6b32",
   "metadata": {
    "nteract": {
     "transient": {
      "deleting": false
     }
    }
   },
   "source": [
    "### Transform the data\n",
    "\n",
    "1. Cast the dataset's columns into the correct types."
   ]
  },
  {
   "cell_type": "code",
   "execution_count": null,
   "id": "e09f453b-3b5d-4e21-b360-80e86e3f2045",
   "metadata": {
    "jupyter": {
     "outputs_hidden": false,
     "source_hidden": false
    },
    "nteract": {
     "transient": {
      "deleting": false
     }
    }
   },
   "outputs": [
    {
     "data": {
      "application/vnd.livy.statement-meta+json": {
       "execution_finish_time": "2023-09-07T17:34:45.2438898Z",
       "execution_start_time": "2023-09-07T17:34:44.9301934Z",
       "livy_statement_state": "available",
       "parent_msg_id": "1910867d-78a6-4241-8104-6ce13a1765a7",
       "queued_time": "2023-09-07T17:33:48.219327Z",
       "session_id": "32e3c016-db9c-4f83-b8c0-f7af0f59032f",
       "session_start_time": null,
       "spark_jobs": {
        "jobs": [],
        "limit": 20,
        "numbers": {
         "FAILED": 0,
         "RUNNING": 0,
         "SUCCEEDED": 0,
         "UNKNOWN": 0
        },
        "rule": "ALL_DESC"
       },
       "spark_pool": null,
       "state": "finished",
       "statement_id": 17
      },
      "text/plain": [
       "StatementMeta(, 32e3c016-db9c-4f83-b8c0-f7af0f59032f, 17, Finished, Available)"
      ]
     },
     "metadata": {},
     "output_type": "display_data"
    }
   ],
   "source": [
    "import pyspark.sql.functions as F\n",
    "\n",
    "df_columns = df.columns\n",
    "df_columns.remove(TARGET_COL)\n",
    "\n",
    "# Ensure the TARGET_COL is the last column\n",
    "df = df.select(df_columns + [TARGET_COL]).withColumn(TARGET_COL, F.col(TARGET_COL).cast(\"int\"))\n",
    "\n",
    "if IS_SAMPLE:\n",
    "    df = df.limit(SAMPLE_ROWS)"
   ]
  },
  {
   "cell_type": "markdown",
   "id": "49241f4b",
   "metadata": {},
   "source": [
    "2. Convert Spark DataFrame to Pandas DataFrame for easier visualization and processing."
   ]
  },
  {
   "cell_type": "code",
   "execution_count": null,
   "id": "e38b4277-bf9d-45a0-8de7-bdabe5bcde0d",
   "metadata": {
    "jupyter": {
     "outputs_hidden": false,
     "source_hidden": false
    },
    "nteract": {
     "transient": {
      "deleting": false
     }
    }
   },
   "outputs": [
    {
     "data": {
      "application/vnd.livy.statement-meta+json": {
       "execution_finish_time": "2023-09-07T17:34:47.1168274Z",
       "execution_start_time": "2023-09-07T17:34:45.5022027Z",
       "livy_statement_state": "available",
       "parent_msg_id": "8376bd86-5d73-4900-9ce2-172b52034c68",
       "queued_time": "2023-09-07T17:33:48.2199696Z",
       "session_id": "32e3c016-db9c-4f83-b8c0-f7af0f59032f",
       "session_start_time": null,
       "spark_jobs": {
        "jobs": [
         {
          "completionTime": "2023-09-07T17:34:46.456GMT",
          "dataRead": 68533280,
          "dataWritten": 0,
          "description": "Job group for statement 18:\ndf_pd = df.toPandas()",
          "displayName": "toPandas at /tmp/ipykernel_14514/2892643701.py:1",
          "jobGroup": "18",
          "jobId": 13,
          "killedTasksSummary": {},
          "name": "toPandas at /tmp/ipykernel_14514/2892643701.py:1",
          "numActiveStages": 0,
          "numActiveTasks": 0,
          "numCompletedIndices": 8,
          "numCompletedStages": 1,
          "numCompletedTasks": 8,
          "numFailedStages": 0,
          "numFailedTasks": 0,
          "numKilledTasks": 0,
          "numSkippedStages": 0,
          "numSkippedTasks": 0,
          "numTasks": 8,
          "rowCount": 31,
          "stageIds": [
           18
          ],
          "status": "SUCCEEDED",
          "submissionTime": "2023-09-07T17:34:45.659GMT",
          "usageDescription": ""
         }
        ],
        "limit": 20,
        "numbers": {
         "FAILED": 0,
         "RUNNING": 0,
         "SUCCEEDED": 1,
         "UNKNOWN": 0
        },
        "rule": "ALL_DESC"
       },
       "spark_pool": null,
       "state": "finished",
       "statement_id": 18
      },
      "text/plain": [
       "StatementMeta(, 32e3c016-db9c-4f83-b8c0-f7af0f59032f, 18, Finished, Available)"
      ]
     },
     "metadata": {},
     "output_type": "display_data"
    }
   ],
   "source": [
    "df_pd = df.toPandas()"
   ]
  },
  {
   "cell_type": "markdown",
   "id": "a8187606",
   "metadata": {},
   "source": [
    "### Explore the  class distribution in the dataset\n",
    "\n",
    "1. Display the class distribution in the dataset."
   ]
  },
  {
   "cell_type": "code",
   "execution_count": null,
   "id": "ad80f2d6-b7d9-4e6b-a422-073f39db0e5b",
   "metadata": {
    "jupyter": {
     "outputs_hidden": false,
     "source_hidden": false
    },
    "nteract": {
     "transient": {
      "deleting": false
     }
    }
   },
   "outputs": [
    {
     "data": {
      "application/vnd.livy.statement-meta+json": {
       "execution_finish_time": "2023-09-07T17:34:47.6876464Z",
       "execution_start_time": "2023-09-07T17:34:47.375088Z",
       "livy_statement_state": "available",
       "parent_msg_id": "9d6a60c6-cf58-4779-8103-bda6b067fcd0",
       "queued_time": "2023-09-07T17:33:48.2205983Z",
       "session_id": "32e3c016-db9c-4f83-b8c0-f7af0f59032f",
       "session_start_time": null,
       "spark_jobs": {
        "jobs": [],
        "limit": 20,
        "numbers": {
         "FAILED": 0,
         "RUNNING": 0,
         "SUCCEEDED": 0,
         "UNKNOWN": 0
        },
        "rule": "ALL_DESC"
       },
       "spark_pool": null,
       "state": "finished",
       "statement_id": 19
      },
      "text/plain": [
       "StatementMeta(, 32e3c016-db9c-4f83-b8c0-f7af0f59032f, 19, Finished, Available)"
      ]
     },
     "metadata": {},
     "output_type": "display_data"
    },
    {
     "name": "stdout",
     "output_type": "stream",
     "text": [
      "No Frauds 99.83 % of the dataset\n",
      "Frauds 0.17 % of the dataset\n"
     ]
    }
   ],
   "source": [
    "# The distribution of classes in the dataset\n",
    "print('No Frauds', round(df_pd['Class'].value_counts()[0]/len(df_pd) * 100,2), '% of the dataset')\n",
    "print('Frauds', round(df_pd['Class'].value_counts()[1]/len(df_pd) * 100,2), '% of the dataset')"
   ]
  },
  {
   "cell_type": "markdown",
   "id": "5d9abbc5-af21-4605-8edb-b945e63f4874",
   "metadata": {
    "nteract": {
     "transient": {
      "deleting": false
     }
    }
   },
   "source": [
    "The class distribution shows that most of the transactions are nonfraudulent. Therefore, data preprocessing is required before model training in order to avoid overfitting."
   ]
  },
  {
   "cell_type": "markdown",
   "id": "d3310edc-3976-4f49-b953-b80e48f91f73",
   "metadata": {
    "nteract": {
     "transient": {
      "deleting": false
     }
    }
   },
   "source": [
    "2. Use a plot to show the class imbalance in the dataset, by viewing the distribution of fraudulent versus nonfraudulent transactions."
   ]
  },
  {
   "cell_type": "code",
   "execution_count": null,
   "id": "46bec12c-ef32-41bc-8267-cf7e4ff2fa33",
   "metadata": {
    "jupyter": {
     "outputs_hidden": false,
     "source_hidden": false
    },
    "nteract": {
     "transient": {
      "deleting": false
     }
    }
   },
   "outputs": [
    {
     "data": {
      "application/vnd.livy.statement-meta+json": {
       "execution_finish_time": "2023-09-07T17:34:51.612586Z",
       "execution_start_time": "2023-09-07T17:34:47.9425913Z",
       "livy_statement_state": "available",
       "parent_msg_id": "68fcbba8-0eb4-457a-bedd-4a4fc0405c7b",
       "queued_time": "2023-09-07T17:33:48.2211383Z",
       "session_id": "32e3c016-db9c-4f83-b8c0-f7af0f59032f",
       "session_start_time": null,
       "spark_jobs": {
        "jobs": [],
        "limit": 20,
        "numbers": {
         "FAILED": 0,
         "RUNNING": 0,
         "SUCCEEDED": 0,
         "UNKNOWN": 0
        },
        "rule": "ALL_DESC"
       },
       "spark_pool": null,
       "state": "finished",
       "statement_id": 20
      },
      "text/plain": [
       "StatementMeta(, 32e3c016-db9c-4f83-b8c0-f7af0f59032f, 20, Finished, Available)"
      ]
     },
     "metadata": {},
     "output_type": "display_data"
    },
    {
     "data": {
      "text/plain": [
       "Text(0.5, 1.0, 'Class Distributions \\n (0: No Fraud || 1: Fraud)')"
      ]
     },
     "execution_count": null,
     "metadata": {},
     "output_type": "execute_result"
    },
    {
     "data": {
      "image/png": "[encoded data removed]",
      "text/plain": [
       "<Figure size 640x480 with 1 Axes>"
      ]
     },
     "metadata": {},
     "output_type": "display_data"
    }
   ],
   "source": [
    "import seaborn as sns\n",
    "import matplotlib.pyplot as plt\n",
    "\n",
    "colors = [\"#0101DF\", \"#DF0101\"]\n",
    "sns.countplot(x='Class', data=df_pd, palette=colors) \n",
    "plt.title('Class Distributions \\n (0: No Fraud || 1: Fraud)', fontsize=10)"
   ]
  },
  {
   "cell_type": "markdown",
   "id": "79f44d44-084b-4a4d-bf52-6cae139b1c68",
   "metadata": {
    "nteract": {
     "transient": {
      "deleting": false
     }
    }
   },
   "source": [
    "The distribution plot clearly shows the class imbalance in the dataset."
   ]
  },
  {
   "cell_type": "markdown",
   "id": "4ccea93b-67f1-437e-b476-18b4d08a5a45",
   "metadata": {
    "nteract": {
     "transient": {
      "deleting": false
     }
    }
   },
   "source": [
    "3. Show the five-number summary (the minimum score, first quartile, median, third quartile, the maximum score) for the transaction amount, using Box plots."
   ]
  },
  {
   "cell_type": "code",
   "execution_count": null,
   "id": "1629f99b-2a8b-494c-8059-e834a6f0cb18",
   "metadata": {
    "jupyter": {
     "outputs_hidden": false,
     "source_hidden": false
    },
    "nteract": {
     "transient": {
      "deleting": false
     }
    }
   },
   "outputs": [
    {
     "data": {
      "application/vnd.livy.statement-meta+json": {
       "execution_finish_time": "2023-09-07T17:34:52.751875Z",
       "execution_start_time": "2023-09-07T17:34:51.8693889Z",
       "livy_statement_state": "available",
       "parent_msg_id": "c63bf2a9-7747-48c4-9d55-b5e1a59aa696",
       "queued_time": "2023-09-07T17:33:48.221675Z",
       "session_id": "32e3c016-db9c-4f83-b8c0-f7af0f59032f",
       "session_start_time": null,
       "spark_jobs": {
        "jobs": [],
        "limit": 20,
        "numbers": {
         "FAILED": 0,
         "RUNNING": 0,
         "SUCCEEDED": 0,
         "UNKNOWN": 0
        },
        "rule": "ALL_DESC"
       },
       "spark_pool": null,
       "state": "finished",
       "statement_id": 21
      },
      "text/plain": [
       "StatementMeta(, 32e3c016-db9c-4f83-b8c0-f7af0f59032f, 21, Finished, Available)"
      ]
     },
     "metadata": {},
     "output_type": "display_data"
    },
    {
     "data": {
      "image/png": "[encoded data removed]",
      "text/plain": [
       "<Figure size 1200x500 with 2 Axes>"
      ]
     },
     "metadata": {},
     "output_type": "display_data"
    }
   ],
   "source": [
    "fig, (ax1, ax2) = plt.subplots(ncols=2, figsize=(12,5))\n",
    "s = sns.boxplot(ax = ax1, x=\"Class\", y=\"Amount\", hue=\"Class\",data=df_pd, palette=\"PRGn\", showfliers=True) # Remove outliers from the plot\n",
    "s = sns.boxplot(ax = ax2, x=\"Class\", y=\"Amount\", hue=\"Class\",data=df_pd, palette=\"PRGn\", showfliers=False) # Kepp outliers from the plot\n",
    "plt.show()"
   ]
  },
  {
   "cell_type": "markdown",
   "id": "d28e8617-4095-49d6-b06b-fdceeb4faef5",
   "metadata": {
    "nteract": {
     "transient": {
      "deleting": false
     }
    }
   },
   "source": [
    "When the data is highly imbalanced, these Box plots may not demonstrate accurate insights. Alternatively, you can address the class imbalance problem first and then create the same plots for more accurate insights."
   ]
  },
  {
   "cell_type": "markdown",
   "id": "657ae630",
   "metadata": {},
   "source": [
    "## Step 4: Train and evaluate the model"
   ]
  },
  {
   "cell_type": "markdown",
   "id": "b701ff5f-eac6-4545-ae94-5526574a134f",
   "metadata": {
    "nteract": {
     "transient": {
      "deleting": false
     }
    }
   },
   "source": [
    "In this section, you train a LightGBM model to classify the fraud transactions. You train a LightGBM model on the imbalanced dataset and also on the balanced dataset (via SMOTE) and compare the performance of both models."
   ]
  },
  {
   "cell_type": "markdown",
   "id": "ef3a65a9-109c-4163-a558-48348ee649da",
   "metadata": {
    "nteract": {
     "transient": {
      "deleting": false
     }
    }
   },
   "source": [
    "### Prepare training and test datasets\n",
    "\n",
    "Before training, split the data into the training and test datasets."
   ]
  },
  {
   "cell_type": "code",
   "execution_count": null,
   "id": "656929df-8c39-4dda-975c-3f22229e5ba8",
   "metadata": {
    "jupyter": {
     "outputs_hidden": false,
     "source_hidden": false
    },
    "nteract": {
     "transient": {
      "deleting": false
     }
    }
   },
   "outputs": [
    {
     "data": {
      "application/vnd.livy.statement-meta+json": {
       "execution_finish_time": "2023-09-07T17:34:54.6290747Z",
       "execution_start_time": "2023-09-07T17:34:53.0111507Z",
       "livy_statement_state": "available",
       "parent_msg_id": "b197cdb4-b842-4ca7-8216-dfdc952fcf84",
       "queued_time": "2023-09-07T17:33:48.2222236Z",
       "session_id": "32e3c016-db9c-4f83-b8c0-f7af0f59032f",
       "session_start_time": null,
       "spark_jobs": {
        "jobs": [],
        "limit": 20,
        "numbers": {
         "FAILED": 0,
         "RUNNING": 0,
         "SUCCEEDED": 0,
         "UNKNOWN": 0
        },
        "rule": "ALL_DESC"
       },
       "spark_pool": null,
       "state": "finished",
       "statement_id": 22
      },
      "text/plain": [
       "StatementMeta(, 32e3c016-db9c-4f83-b8c0-f7af0f59032f, 22, Finished, Available)"
      ]
     },
     "metadata": {},
     "output_type": "display_data"
    }
   ],
   "source": [
    "# Split the dataset into training and test sets\n",
    "from sklearn.model_selection import train_test_split\n",
    "\n",
    "train, test = train_test_split(df_pd, test_size=0.15)\n",
    "feature_cols = [c for c in df_pd.columns.tolist() if c not in [TARGET_COL]]\n"
   ]
  },
  {
   "cell_type": "markdown",
   "id": "052c3037-a2ff-40e8-bf97-971d37ff3da4",
   "metadata": {
    "nteract": {
     "transient": {
      "deleting": false
     }
    }
   },
   "source": [
    "### Apply SMOTE to the training data to synthesize new samples for the minority class\n",
    "\n",
    "Apply SMOTE only to the training dataset, and not to the test dataset. When you score the model with the test data, you want an approximation of the model's performance on unseen data in production. For this approximation to be valid, your test data needs to represent production data as closely as possible by having the original imbalanced distribution."
   ]
  },
  {
   "cell_type": "code",
   "execution_count": null,
   "id": "9db1d797-6180-4907-abab-05c7e24c035f",
   "metadata": {
    "jupyter": {
     "outputs_hidden": false,
     "source_hidden": false
    },
    "nteract": {
     "transient": {
      "deleting": false
     }
    }
   },
   "outputs": [
    {
     "data": {
      "application/vnd.livy.statement-meta+json": {
       "execution_finish_time": "2023-09-07T17:34:57.4770437Z",
       "execution_start_time": "2023-09-07T17:34:54.886987Z",
       "livy_statement_state": "available",
       "parent_msg_id": "5936db76-63a2-4e50-aaef-c1a83d60c035",
       "queued_time": "2023-09-07T17:33:48.2227959Z",
       "session_id": "32e3c016-db9c-4f83-b8c0-f7af0f59032f",
       "session_start_time": null,
       "spark_jobs": {
        "jobs": [],
        "limit": 20,
        "numbers": {
         "FAILED": 0,
         "RUNNING": 0,
         "SUCCEEDED": 0,
         "UNKNOWN": 0
        },
        "rule": "ALL_DESC"
       },
       "spark_pool": null,
       "state": "finished",
       "statement_id": 23
      },
      "text/plain": [
       "StatementMeta(, 32e3c016-db9c-4f83-b8c0-f7af0f59032f, 23, Finished, Available)"
      ]
     },
     "metadata": {},
     "output_type": "display_data"
    },
    {
     "name": "stdout",
     "output_type": "stream",
     "text": [
      "Original dataset shape Counter({0: 241663, 1: 422})\n",
      "Resampled dataset shape Counter({0: 241663, 1: 241663})\n"
     ]
    }
   ],
   "source": [
    "# Apply SMOTE to the training data\n",
    "import pandas as pd\n",
    "from collections import Counter\n",
    "from imblearn.over_sampling import SMOTE\n",
    "\n",
    "X = train[feature_cols]\n",
    "y = train[TARGET_COL]\n",
    "print(\"Original dataset shape %s\" % Counter(y))\n",
    "\n",
    "sm = SMOTE(random_state=42)\n",
    "X_res, y_res = sm.fit_resample(X, y)\n",
    "print(\"Resampled dataset shape %s\" % Counter(y_res))\n",
    "\n",
    "new_train = pd.concat([X_res, y_res], axis=1)"
   ]
  },
  {
   "cell_type": "markdown",
   "id": "61631908-e5c0-4219-a747-7c013f3f143f",
   "metadata": {},
   "source": [
    "### Train machine learning models and run experiments\n",
    "\n",
    "Apache Spark in Microsoft Fabric enables machine learning with big data, making it possible to obtain valuable insights from large amounts of structured, unstructured, and fast-moving data. There are several options when training machine learning models using Apache Spark in Microsoft Fabric: Apache Spark MLlib, SynapseML, and various other open-source libraries. For more information, see [Train machine learning models in Microsoft Fabric](https://aka.ms/fabric/MLTrain). \n",
    "\n",
    "A **machine learning experiment** is the primary unit of organization and control for all related machine learning runs. A **run** corresponds to a single execution of model code. Machine learning **experiment tracking** refers to the process of managing all the different experiments and their components, such as parameters, metrics, models, and other artifacts. Experiment tracking allows you to organize all the required components of a specific machine learning experiment and to easily reproduce past results, using saved experiments. For more information on machine learning experiments, see [Machine learning experiments in Microsoft Fabric](https://aka.ms/synapse-experiment)."
   ]
  },
  {
   "cell_type": "markdown",
   "id": "a42841b9-dd7a-4086-b80e-00d3a5821052",
   "metadata": {
    "nteract": {
     "transient": {
      "deleting": false
     }
    }
   },
   "source": [
    "1. Update the MLflow autologging configuration to track additional metrics, parameters, and files, by setting `exclusive=False`."
   ]
  },
  {
   "cell_type": "code",
   "execution_count": null,
   "id": "13746c04-daec-4aab-a6da-9dcbca177838",
   "metadata": {
    "jupyter": {
     "outputs_hidden": false,
     "source_hidden": false
    },
    "nteract": {
     "transient": {
      "deleting": false
     }
    }
   },
   "outputs": [
    {
     "data": {
      "application/vnd.livy.statement-meta+json": {
       "execution_finish_time": "2023-09-07T17:35:02.202361Z",
       "execution_start_time": "2023-09-07T17:34:57.733068Z",
       "livy_statement_state": "available",
       "parent_msg_id": "76ca9dc5-558f-401f-ab32-923be51cb6c0",
       "queued_time": "2023-09-07T17:33:48.2233656Z",
       "session_id": "32e3c016-db9c-4f83-b8c0-f7af0f59032f",
       "session_start_time": null,
       "spark_jobs": {
        "jobs": [],
        "limit": 20,
        "numbers": {
         "FAILED": 0,
         "RUNNING": 0,
         "SUCCEEDED": 0,
         "UNKNOWN": 0
        },
        "rule": "ALL_DESC"
       },
       "spark_pool": null,
       "state": "finished",
       "statement_id": 24
      },
      "text/plain": [
       "StatementMeta(, 32e3c016-db9c-4f83-b8c0-f7af0f59032f, 24, Finished, Available)"
      ]
     },
     "metadata": {},
     "output_type": "display_data"
    },
    {
     "name": "stderr",
     "output_type": "stream",
     "text": [
      "2023/09/07 17:34:58 INFO mlflow.tracking.fluent: Autologging successfully enabled for sklearn.\n",
      "2023/09/07 17:35:01 INFO mlflow.tracking.fluent: Autologging successfully enabled for statsmodels.\n",
      "2023/09/07 17:35:01 INFO mlflow.tracking.fluent: Autologging successfully enabled for pyspark.ml.\n"
     ]
    }
   ],
   "source": [
    "mlflow.autolog(exclusive=False)"
   ]
  },
  {
   "cell_type": "markdown",
   "id": "13541648-10fd-40bf-ab4d-df7e6e3ec44f",
   "metadata": {
    "nteract": {
     "transient": {
      "deleting": false
     }
    }
   },
   "source": [
    "2. Train two models using **LightGBM**: one model on the imbalanced dataset and the other on the balanced (via SMOTE) dataset. Then compare the performance of the two models."
   ]
  },
  {
   "cell_type": "code",
   "execution_count": null,
   "id": "8ec73e3e-85d9-471a-b26b-0c07eb741940",
   "metadata": {
    "jupyter": {
     "outputs_hidden": false,
     "source_hidden": false
    },
    "nteract": {
     "transient": {
      "deleting": false
     }
    }
   },
   "outputs": [
    {
     "data": {
      "application/vnd.livy.statement-meta+json": {
       "execution_finish_time": "2023-09-07T17:35:03.3807421Z",
       "execution_start_time": "2023-09-07T17:35:02.4905712Z",
       "livy_statement_state": "available",
       "parent_msg_id": "794cafc1-d1cf-4ccb-8fc4-86208c8ca049",
       "queued_time": "2023-09-07T17:33:48.2239443Z",
       "session_id": "32e3c016-db9c-4f83-b8c0-f7af0f59032f",
       "session_start_time": null,
       "spark_jobs": {
        "jobs": [],
        "limit": 20,
        "numbers": {
         "FAILED": 0,
         "RUNNING": 0,
         "SUCCEEDED": 0,
         "UNKNOWN": 0
        },
        "rule": "ALL_DESC"
       },
       "spark_pool": null,
       "state": "finished",
       "statement_id": 25
      },
      "text/plain": [
       "StatementMeta(, 32e3c016-db9c-4f83-b8c0-f7af0f59032f, 25, Finished, Available)"
      ]
     },
     "metadata": {},
     "output_type": "display_data"
    },
    {
     "name": "stderr",
     "output_type": "stream",
     "text": [
      "2023/09/07 17:35:02 INFO mlflow.tracking.fluent: Autologging successfully enabled for lightgbm.\n"
     ]
    }
   ],
   "source": [
    "import lightgbm as lgb\n",
    "\n",
    "model = lgb.LGBMClassifier(objective=\"binary\") # imbalanced dataset\n",
    "smote_model = lgb.LGBMClassifier(objective=\"binary\") # balanced dataset"
   ]
  },
  {
   "cell_type": "code",
   "execution_count": null,
   "id": "66bd4e49-9ab0-4c01-a25c-70ad77becbf8",
   "metadata": {
    "jupyter": {
     "outputs_hidden": false,
     "source_hidden": false
    },
    "nteract": {
     "transient": {
      "deleting": false
     }
    }
   },
   "outputs": [
    {
     "data": {
      "application/vnd.livy.statement-meta+json": {
       "execution_finish_time": "2023-09-07T17:35:25.0853066Z",
       "execution_start_time": "2023-09-07T17:35:03.6359771Z",
       "livy_statement_state": "available",
       "parent_msg_id": "6c040df1-dd2b-441d-9b77-9704cb27644d",
       "queued_time": "2023-09-07T17:33:48.2279923Z",
       "session_id": "32e3c016-db9c-4f83-b8c0-f7af0f59032f",
       "session_start_time": null,
       "spark_jobs": {
        "jobs": [],
        "limit": 20,
        "numbers": {
         "FAILED": 0,
         "RUNNING": 0,
         "SUCCEEDED": 0,
         "UNKNOWN": 0
        },
        "rule": "ALL_DESC"
       },
       "spark_pool": null,
       "state": "finished",
       "statement_id": 26
      },
      "text/plain": [
       "StatementMeta(, 32e3c016-db9c-4f83-b8c0-f7af0f59032f, 26, Finished, Available)"
      ]
     },
     "metadata": {},
     "output_type": "display_data"
    },
    {
     "name": "stdout",
     "output_type": "stream",
     "text": [
      "Start training with imbalanced data:\n",
      "\n",
      "[10]\tvalid_0's auc: 0.846214\tvalid_0's binary_logloss: 0.0198988\n",
      "[20]\tvalid_0's auc: 0.809169\tvalid_0's binary_logloss: 0.0366592\n",
      "[30]\tvalid_0's auc: 0.832858\tvalid_0's binary_logloss: 0.0550901\n",
      "[40]\tvalid_0's auc: 0.852954\tvalid_0's binary_logloss: 0.0655302\n",
      "[50]\tvalid_0's auc: 0.835051\tvalid_0's binary_logloss: 0.121884\n",
      "[60]\tvalid_0's auc: 0.832776\tvalid_0's binary_logloss: 0.0795111\n",
      "[70]\tvalid_0's auc: 0.831284\tvalid_0's binary_logloss: 0.335081\n",
      "[80]\tvalid_0's auc: 0.915596\tvalid_0's binary_logloss: 0.0567016\n",
      "[90]\tvalid_0's auc: 0.937667\tvalid_0's binary_logloss: 0.0717687\n",
      "[100]\tvalid_0's auc: 0.947153\tvalid_0's binary_logloss: 0.0429635\n",
      "\n",
      "\n",
      "Start training with balanced data:\n",
      "\n",
      "[10]\tvalid_0's auc: 0.979671\tvalid_0's binary_logloss: 0.225364\n",
      "[20]\tvalid_0's auc: 0.984363\tvalid_0's binary_logloss: 0.0967023\n",
      "[30]\tvalid_0's auc: 0.984835\tvalid_0's binary_logloss: 0.0495527\n",
      "[40]\tvalid_0's auc: 0.984481\tvalid_0's binary_logloss: 0.028981\n",
      "[50]\tvalid_0's auc: 0.986184\tvalid_0's binary_logloss: 0.0190629\n",
      "[60]\tvalid_0's auc: 0.985054\tvalid_0's binary_logloss: 0.0135509\n",
      "[70]\tvalid_0's auc: 0.985222\tvalid_0's binary_logloss: 0.00978162\n",
      "[80]\tvalid_0's auc: 0.983597\tvalid_0's binary_logloss: 0.00770507\n",
      "[90]\tvalid_0's auc: 0.983801\tvalid_0's binary_logloss: 0.00617004\n",
      "[100]\tvalid_0's auc: 0.9816\tvalid_0's binary_logloss: 0.00491945\n"
     ]
    },
    {
     "name": "stderr",
     "output_type": "stream",
     "text": [
      "2023/09/07 17:35:13 WARNING mlflow.utils.autologging_utils: MLflow autologging encountered a warning: \"/home/trusted-service-user/cluster-env/trident_env/lib/python3.10/site-packages/_distutils_hack/__init__.py:33: UserWarning: Setuptools is replacing distutils.\"\n"
     ]
    }
   ],
   "source": [
    "# Train LightGBM for both imbalanced and balanced datasets and define the evaluation metrics\n",
    "print(\"Start training with imbalanced data:\\n\")\n",
    "with mlflow.start_run(run_name=\"raw_data\") as raw_run:\n",
    "    model = model.fit(\n",
    "        train[feature_cols],\n",
    "        train[TARGET_COL],\n",
    "        eval_set=[(test[feature_cols], test[TARGET_COL])],\n",
    "        eval_metric=\"auc\",\n",
    "        callbacks=[\n",
    "            lgb.log_evaluation(10),\n",
    "        ],\n",
    "    )\n",
    "\n",
    "print(f\"\\n\\nStart training with balanced data:\\n\")\n",
    "with mlflow.start_run(run_name=\"smote_data\") as smote_run:\n",
    "    smote_model = smote_model.fit(\n",
    "        new_train[feature_cols],\n",
    "        new_train[TARGET_COL],\n",
    "        eval_set=[(test[feature_cols], test[TARGET_COL])],\n",
    "        eval_metric=\"auc\",\n",
    "        callbacks=[\n",
    "            lgb.log_evaluation(10),\n",
    "        ],\n",
    "    )"
   ]
  },
  {
   "cell_type": "markdown",
   "id": "f74a34e4-8edc-4ca9-9529-e91d785ea15c",
   "metadata": {
    "nteract": {
     "transient": {
      "deleting": false
     }
    }
   },
   "source": [
    "### Determine feature importance for training"
   ]
  },
  {
   "cell_type": "markdown",
   "id": "6fb5b2b6-b738-4eec-a891-84cbba22f482",
   "metadata": {
    "nteract": {
     "transient": {
      "deleting": false
     }
    }
   },
   "source": [
    "Determine feature importance for the model that you trained on the imbalanced dataset."
   ]
  },
  {
   "cell_type": "code",
   "execution_count": null,
   "id": "92d4a41d-cd6d-425c-b793-d9a4bc7f64e6",
   "metadata": {
    "jupyter": {
     "outputs_hidden": false,
     "source_hidden": false
    },
    "nteract": {
     "transient": {
      "deleting": false
     }
    }
   },
   "outputs": [
    {
     "data": {
      "application/vnd.livy.statement-meta+json": {
       "execution_finish_time": "2023-09-07T17:35:26.9633245Z",
       "execution_start_time": "2023-09-07T17:35:25.3527269Z",
       "livy_statement_state": "available",
       "parent_msg_id": "a3a2bcf3-c89f-4f86-a352-8abe737bf3f5",
       "queued_time": "2023-09-07T17:33:48.2286961Z",
       "session_id": "32e3c016-db9c-4f83-b8c0-f7af0f59032f",
       "session_start_time": null,
       "spark_jobs": {
        "jobs": [],
        "limit": 20,
        "numbers": {
         "FAILED": 0,
         "RUNNING": 0,
         "SUCCEEDED": 0,
         "UNKNOWN": 0
        },
        "rule": "ALL_DESC"
       },
       "spark_pool": null,
       "state": "finished",
       "statement_id": 27
      },
      "text/plain": [
       "StatementMeta(, 32e3c016-db9c-4f83-b8c0-f7af0f59032f, 27, Finished, Available)"
      ]
     },
     "metadata": {},
     "output_type": "display_data"
    },
    {
     "data": {
      "image/png": "[encoded data removed]",
      "text/plain": [
       "<Figure size 640x480 with 1 Axes>"
      ]
     },
     "metadata": {},
     "output_type": "display_data"
    }
   ],
   "source": [
    "with mlflow.start_run(run_id=raw_run.info.run_id):\n",
    "    importance = lgb.plot_importance(\n",
    "        model, title=\"Feature importance for imbalanced data\"\n",
    "    )\n",
    "    importance.figure.savefig(\"feauture_importance.png\")\n",
    "    mlflow.log_figure(importance.figure, \"feature_importance.png\")"
   ]
  },
  {
   "cell_type": "markdown",
   "id": "2fb06024-c70a-47bb-adf8-da7d094401d7",
   "metadata": {
    "nteract": {
     "transient": {
      "deleting": false
     }
    }
   },
   "source": [
    "Determine feature importance for the model that you trained on balanced (via SMOTE) dataset."
   ]
  },
  {
   "cell_type": "code",
   "execution_count": null,
   "id": "359d41c4-2783-43d9-9f46-1003c9fa90cd",
   "metadata": {},
   "outputs": [
    {
     "data": {
      "application/vnd.livy.statement-meta+json": {
       "execution_finish_time": "2023-09-07T17:35:28.8707714Z",
       "execution_start_time": "2023-09-07T17:35:27.2175132Z",
       "livy_statement_state": "available",
       "parent_msg_id": "58cad0ca-2aa9-41bc-a650-8560a425f1db",
       "queued_time": "2023-09-07T17:33:48.2295005Z",
       "session_id": "32e3c016-db9c-4f83-b8c0-f7af0f59032f",
       "session_start_time": null,
       "spark_jobs": {
        "jobs": [],
        "limit": 20,
        "numbers": {
         "FAILED": 0,
         "RUNNING": 0,
         "SUCCEEDED": 0,
         "UNKNOWN": 0
        },
        "rule": "ALL_DESC"
       },
       "spark_pool": null,
       "state": "finished",
       "statement_id": 28
      },
      "text/plain": [
       "StatementMeta(, 32e3c016-db9c-4f83-b8c0-f7af0f59032f, 28, Finished, Available)"
      ]
     },
     "metadata": {},
     "output_type": "display_data"
    },
    {
     "data": {
      "image/png": "[encoded data removed]",
      "text/plain": [
       "<Figure size 640x480 with 1 Axes>"
      ]
     },
     "metadata": {},
     "output_type": "display_data"
    }
   ],
   "source": [
    "with mlflow.start_run(run_id=smote_run.info.run_id):\n",
    "    smote_importance = lgb.plot_importance(\n",
    "        smote_model, title=\"Feature importance for balanced (via SMOTE) data\"\n",
    "    )\n",
    "    smote_importance.figure.savefig(\"feauture_importance_smote.png\")\n",
    "    mlflow.log_figure(smote_importance.figure, \"feauture_importance_smote.png\")"
   ]
  },
  {
   "cell_type": "markdown",
   "id": "a63616ea-8d67-4de3-9c63-0687cd7a3062",
   "metadata": {
    "nteract": {
     "transient": {
      "deleting": false
     }
    }
   },
   "source": [
    "A comparison of the feature importance plots shows that the important features are drastically different when you train a model with the imbalanced dataset versus the balanced dataset."
   ]
  },
  {
   "cell_type": "markdown",
   "id": "bb9e326e-d06b-458a-ae9f-8800f501948b",
   "metadata": {
    "nteract": {
     "transient": {
      "deleting": false
     }
    }
   },
   "source": [
    "### Evaluate the models"
   ]
  },
  {
   "cell_type": "markdown",
   "id": "dd18620d-9172-4944-aec5-fedf67ab47fe",
   "metadata": {
    "nteract": {
     "transient": {
      "deleting": false
     }
    }
   },
   "source": [
    "In this section, you evaluate the two trained models:\n",
    "\n",
    "- `model` trained on raw, __imbalanced data__\n",
    "- `smote_model` trained on __balanced data__"
   ]
  },
  {
   "cell_type": "markdown",
   "id": "763ea9a8-9e57-4336-8028-c9ae35ed368e",
   "metadata": {
    "nteract": {
     "transient": {
      "deleting": false
     }
    }
   },
   "source": [
    "#### Compute model metrics\n",
    "\n",
    "1. First define a function `prediction_to_spark` that performs predictions and converts the prediction results into a Spark DataFrame. You can later compute model statistics on the prediction results using [SynapseML](https://aka.ms/fabric/SynapseEval)."
   ]
  },
  {
   "cell_type": "code",
   "execution_count": null,
   "id": "872d3c90-39f8-498d-ab05-ad5fd9f88cb2",
   "metadata": {
    "jupyter": {
     "outputs_hidden": false,
     "source_hidden": false
    },
    "nteract": {
     "transient": {
      "deleting": false
     }
    }
   },
   "outputs": [
    {
     "data": {
      "application/vnd.livy.statement-meta+json": {
       "execution_finish_time": "2023-09-07T17:35:29.4887167Z",
       "execution_start_time": "2023-09-07T17:35:29.1326289Z",
       "livy_statement_state": "available",
       "parent_msg_id": "9397b74b-7d2d-4f33-8770-35540d5c5b2b",
       "queued_time": "2023-09-07T17:33:48.2306111Z",
       "session_id": "32e3c016-db9c-4f83-b8c0-f7af0f59032f",
       "session_start_time": null,
       "spark_jobs": {
        "jobs": [],
        "limit": 20,
        "numbers": {
         "FAILED": 0,
         "RUNNING": 0,
         "SUCCEEDED": 0,
         "UNKNOWN": 0
        },
        "rule": "ALL_DESC"
       },
       "spark_pool": null,
       "state": "finished",
       "statement_id": 29
      },
      "text/plain": [
       "StatementMeta(, 32e3c016-db9c-4f83-b8c0-f7af0f59032f, 29, Finished, Available)"
      ]
     },
     "metadata": {},
     "output_type": "display_data"
    }
   ],
   "source": [
    "from pyspark.sql.functions import col\n",
    "from pyspark.sql.types import IntegerType, DoubleType\n",
    "\n",
    "def prediction_to_spark(model, test):\n",
    "    predictions = model.predict(test[feature_cols], num_iteration=model.best_iteration_)\n",
    "    predictions = tuple(zip(test[TARGET_COL].tolist(), predictions.tolist()))\n",
    "    dataColumns = [TARGET_COL, \"prediction\"]\n",
    "    predictions = (\n",
    "        spark.createDataFrame(data=predictions, schema=dataColumns)\n",
    "        .withColumn(TARGET_COL, col(TARGET_COL).cast(IntegerType()))\n",
    "        .withColumn(\"prediction\", col(\"prediction\").cast(DoubleType()))\n",
    "    )\n",
    "\n",
    "    return predictions"
   ]
  },
  {
   "cell_type": "markdown",
   "id": "3f51e29f-ae30-42f2-91d7-ac686028978b",
   "metadata": {
    "nteract": {
     "transient": {
      "deleting": false
     }
    }
   },
   "source": [
    "2. Use the `prediction_to_spark` function to perform predictions with the two models `model` and `smote_model`.\n"
   ]
  },
  {
   "cell_type": "code",
   "execution_count": null,
   "id": "b6f828c9-943a-4bbf-a8d2-a61c474594ba",
   "metadata": {
    "jupyter": {
     "outputs_hidden": false,
     "source_hidden": false
    },
    "nteract": {
     "transient": {
      "deleting": false
     }
    }
   },
   "outputs": [
    {
     "data": {
      "application/vnd.livy.statement-meta+json": {
       "execution_finish_time": "2023-09-07T17:35:33.4121527Z",
       "execution_start_time": "2023-09-07T17:35:29.7424936Z",
       "livy_statement_state": "available",
       "parent_msg_id": "ea97328d-a6b6-4552-8583-cecf7d105939",
       "queued_time": "2023-09-07T17:33:48.2532319Z",
       "session_id": "32e3c016-db9c-4f83-b8c0-f7af0f59032f",
       "session_start_time": null,
       "spark_jobs": {
        "jobs": [
         {
          "completionTime": "2023-09-07T17:35:32.244GMT",
          "dataRead": 0,
          "dataWritten": 488,
          "description": "Job group for statement 30:\npredictions = prediction_to_spark(model, test)\nsmote_predictions = prediction_to_spark(smote_model, test)\npredictions.limit(10).toPandas()",
          "displayName": "toPandas at /tmp/ipykernel_14514/2267550708.py:3",
          "jobGroup": "30",
          "jobId": 14,
          "killedTasksSummary": {},
          "name": "toPandas at /tmp/ipykernel_14514/2267550708.py:3",
          "numActiveStages": 0,
          "numActiveTasks": 0,
          "numCompletedIndices": 9,
          "numCompletedStages": 2,
          "numCompletedTasks": 9,
          "numFailedStages": 0,
          "numFailedTasks": 0,
          "numKilledTasks": 0,
          "numSkippedStages": 0,
          "numSkippedTasks": 0,
          "numTasks": 9,
          "rowCount": 80,
          "stageIds": [
           19,
           20
          ],
          "status": "SUCCEEDED",
          "submissionTime": "2023-09-07T17:35:31.341GMT",
          "usageDescription": ""
         }
        ],
        "limit": 20,
        "numbers": {
         "FAILED": 0,
         "RUNNING": 0,
         "SUCCEEDED": 1,
         "UNKNOWN": 0
        },
        "rule": "ALL_DESC"
       },
       "spark_pool": null,
       "state": "finished",
       "statement_id": 30
      },
      "text/plain": [
       "StatementMeta(, 32e3c016-db9c-4f83-b8c0-f7af0f59032f, 30, Finished, Available)"
      ]
     },
     "metadata": {},
     "output_type": "display_data"
    },
    {
     "data": {
      "text/html": [
       "<div>\n",
       "<style scoped>\n",
       "    .dataframe tbody tr th:only-of-type {\n",
       "        vertical-align: middle;\n",
       "    }\n",
       "\n",
       "    .dataframe tbody tr th {\n",
       "        vertical-align: top;\n",
       "    }\n",
       "\n",
       "    .dataframe thead th {\n",
       "        text-align: right;\n",
       "    }\n",
       "</style>\n",
       "<table border=\"1\" class=\"dataframe\">\n",
       "  <thead>\n",
       "    <tr style=\"text-align: right;\">\n",
       "      <th></th>\n",
       "      <th>Class</th>\n",
       "      <th>prediction</th>\n",
       "    </tr>\n",
       "  </thead>\n",
       "  <tbody>\n",
       "    <tr>\n",
       "      <th>0</th>\n",
       "      <td>0</td>\n",
       "      <td>0.0</td>\n",
       "    </tr>\n",
       "    <tr>\n",
       "      <th>1</th>\n",
       "      <td>0</td>\n",
       "      <td>0.0</td>\n",
       "    </tr>\n",
       "    <tr>\n",
       "      <th>2</th>\n",
       "      <td>0</td>\n",
       "      <td>0.0</td>\n",
       "    </tr>\n",
       "    <tr>\n",
       "      <th>3</th>\n",
       "      <td>0</td>\n",
       "      <td>0.0</td>\n",
       "    </tr>\n",
       "    <tr>\n",
       "      <th>4</th>\n",
       "      <td>0</td>\n",
       "      <td>0.0</td>\n",
       "    </tr>\n",
       "    <tr>\n",
       "      <th>5</th>\n",
       "      <td>0</td>\n",
       "      <td>0.0</td>\n",
       "    </tr>\n",
       "    <tr>\n",
       "      <th>6</th>\n",
       "      <td>0</td>\n",
       "      <td>0.0</td>\n",
       "    </tr>\n",
       "    <tr>\n",
       "      <th>7</th>\n",
       "      <td>0</td>\n",
       "      <td>0.0</td>\n",
       "    </tr>\n",
       "    <tr>\n",
       "      <th>8</th>\n",
       "      <td>0</td>\n",
       "      <td>0.0</td>\n",
       "    </tr>\n",
       "    <tr>\n",
       "      <th>9</th>\n",
       "      <td>0</td>\n",
       "      <td>0.0</td>\n",
       "    </tr>\n",
       "  </tbody>\n",
       "</table>\n",
       "</div>"
      ],
      "text/plain": [
       "   Class  prediction\n",
       "0      0         0.0\n",
       "1      0         0.0\n",
       "2      0         0.0\n",
       "3      0         0.0\n",
       "4      0         0.0\n",
       "5      0         0.0\n",
       "6      0         0.0\n",
       "7      0         0.0\n",
       "8      0         0.0\n",
       "9      0         0.0"
      ]
     },
     "execution_count": null,
     "metadata": {},
     "output_type": "execute_result"
    }
   ],
   "source": [
    "predictions = prediction_to_spark(model, test)\n",
    "smote_predictions = prediction_to_spark(smote_model, test)\n",
    "predictions.limit(10).toPandas()"
   ]
  },
  {
   "cell_type": "markdown",
   "id": "9f10f102",
   "metadata": {},
   "source": [
    "3. Compute metrics for the two models."
   ]
  },
  {
   "cell_type": "code",
   "execution_count": null,
   "id": "95091793-1ae6-4bda-8629-2659c681cc66",
   "metadata": {
    "jupyter": {
     "outputs_hidden": false,
     "source_hidden": false
    },
    "nteract": {
     "transient": {
      "deleting": false
     }
    }
   },
   "outputs": [
    {
     "data": {
      "application/vnd.livy.statement-meta+json": {
       "execution_finish_time": "2023-09-07T17:35:37.3427334Z",
       "execution_start_time": "2023-09-07T17:35:33.6721658Z",
       "livy_statement_state": "available",
       "parent_msg_id": "77b5e3ae-012e-482b-b6f7-b253951e7433",
       "queued_time": "2023-09-07T17:33:48.2542058Z",
       "session_id": "32e3c016-db9c-4f83-b8c0-f7af0f59032f",
       "session_start_time": null,
       "spark_jobs": {
        "jobs": [],
        "limit": 20,
        "numbers": {
         "FAILED": 0,
         "RUNNING": 0,
         "SUCCEEDED": 0,
         "UNKNOWN": 0
        },
        "rule": "ALL_DESC"
       },
       "spark_pool": null,
       "state": "finished",
       "statement_id": 31
      },
      "text/plain": [
       "StatementMeta(, 32e3c016-db9c-4f83-b8c0-f7af0f59032f, 31, Finished, Available)"
      ]
     },
     "metadata": {},
     "output_type": "display_data"
    },
    {
     "data": {
      "application/vnd.synapse.widget-view+json": {
       "widget_id": "f28e4855-8f78-457c-a52b-cf62ff3f9674",
       "widget_type": "Synapse.DataFrame"
      },
      "text/plain": [
       "SynapseWidget(Synapse.DataFrame, f28e4855-8f78-457c-a52b-cf62ff3f9674)"
      ]
     },
     "metadata": {},
     "output_type": "display_data"
    }
   ],
   "source": [
    "from synapse.ml.train import ComputeModelStatistics\n",
    "\n",
    "metrics = ComputeModelStatistics(\n",
    "    evaluationMetric=\"classification\", labelCol=TARGET_COL, scoredLabelsCol=\"prediction\"\n",
    ").transform(predictions)\n",
    "\n",
    "smote_metrics = ComputeModelStatistics(\n",
    "    evaluationMetric=\"classification\", labelCol=TARGET_COL, scoredLabelsCol=\"prediction\"\n",
    ").transform(smote_predictions)\n",
    "display(metrics)"
   ]
  },
  {
   "cell_type": "markdown",
   "id": "0600de5b-2432-4b0b-b033-b6c8f11d9e3b",
   "metadata": {
    "nteract": {
     "transient": {
      "deleting": false
     }
    }
   },
   "source": [
    "#### Evaluate model performance with a confusion matrix\n",
    "\n",
    "A **confusion matrix** displays the number of true positives (TP), true negatives (TN), false positives (FP), and false negatives (FN) that a model produces when scored with test data. For binary classification, you get a `2x2` confusion matrix. For multi-class classification, you get an `nxn` confusion matrix, where `n` is the the number of classes. \n",
    "\n",
    "1. Use a confusion matrix to summarize the performances of the trained machine learning models on the test data. "
   ]
  },
  {
   "cell_type": "code",
   "execution_count": null,
   "id": "abd4b06a-3d1b-4e86-ae6d-9b81203313cf",
   "metadata": {
    "jupyter": {
     "outputs_hidden": false,
     "source_hidden": false
    },
    "nteract": {
     "transient": {
      "deleting": false
     }
    }
   },
   "outputs": [
    {
     "data": {
      "application/vnd.livy.statement-meta+json": {
       "execution_finish_time": "2023-09-07T17:35:37.9355095Z",
       "execution_start_time": "2023-09-07T17:35:37.6157298Z",
       "livy_statement_state": "available",
       "parent_msg_id": "5b10f47c-16ce-478c-8573-e00fdb12165f",
       "queued_time": "2023-09-07T17:33:48.2550394Z",
       "session_id": "32e3c016-db9c-4f83-b8c0-f7af0f59032f",
       "session_start_time": null,
       "spark_jobs": {
        "jobs": [
         {
          "completionTime": "2023-09-07T17:35:37.743GMT",
          "dataRead": 0,
          "dataWritten": 0,
          "description": "Job group for statement 32:\n# Collect confusion matrix value\ncm = metrics.select(\"confusion_matrix\").collect()[0][0].toArray()\nsmote_cm = smote_metrics.select(\"confusion_matrix\").collect()[0][0].toArray()\nprint(cm)",
          "displayName": "collect at /tmp/ipykernel_14514/2119407738.py:3",
          "jobGroup": "32",
          "jobId": 31,
          "killedTasksSummary": {},
          "name": "collect at /tmp/ipykernel_14514/2119407738.py:3",
          "numActiveStages": 0,
          "numActiveTasks": 0,
          "numCompletedIndices": 1,
          "numCompletedStages": 1,
          "numCompletedTasks": 1,
          "numFailedStages": 0,
          "numFailedTasks": 0,
          "numKilledTasks": 0,
          "numSkippedStages": 0,
          "numSkippedTasks": 0,
          "numTasks": 1,
          "rowCount": 0,
          "stageIds": [
           61
          ],
          "status": "SUCCEEDED",
          "submissionTime": "2023-09-07T17:35:37.729GMT",
          "usageDescription": ""
         },
         {
          "completionTime": "2023-09-07T17:35:37.681GMT",
          "dataRead": 0,
          "dataWritten": 0,
          "description": "Job group for statement 32:\n# Collect confusion matrix value\ncm = metrics.select(\"confusion_matrix\").collect()[0][0].toArray()\nsmote_cm = smote_metrics.select(\"confusion_matrix\").collect()[0][0].toArray()\nprint(cm)",
          "displayName": "collect at /tmp/ipykernel_14514/2119407738.py:2",
          "jobGroup": "32",
          "jobId": 30,
          "killedTasksSummary": {},
          "name": "collect at /tmp/ipykernel_14514/2119407738.py:2",
          "numActiveStages": 0,
          "numActiveTasks": 0,
          "numCompletedIndices": 1,
          "numCompletedStages": 1,
          "numCompletedTasks": 1,
          "numFailedStages": 0,
          "numFailedTasks": 0,
          "numKilledTasks": 0,
          "numSkippedStages": 0,
          "numSkippedTasks": 0,
          "numTasks": 1,
          "rowCount": 0,
          "stageIds": [
           60
          ],
          "status": "SUCCEEDED",
          "submissionTime": "2023-09-07T17:35:37.649GMT",
          "usageDescription": ""
         }
        ],
        "limit": 20,
        "numbers": {
         "FAILED": 0,
         "RUNNING": 0,
         "SUCCEEDED": 2,
         "UNKNOWN": 0
        },
        "rule": "ALL_DESC"
       },
       "spark_pool": null,
       "state": "finished",
       "statement_id": 32
      },
      "text/plain": [
       "StatementMeta(, 32e3c016-db9c-4f83-b8c0-f7af0f59032f, 32, Finished, Available)"
      ]
     },
     "metadata": {},
     "output_type": "display_data"
    },
    {
     "name": "stdout",
     "output_type": "stream",
     "text": [
      "[[4.2622e+04 3.0000e+01]\n",
      " [2.6000e+01 4.4000e+01]]\n"
     ]
    }
   ],
   "source": [
    "# Collect confusion matrix value\n",
    "cm = metrics.select(\"confusion_matrix\").collect()[0][0].toArray()\n",
    "smote_cm = smote_metrics.select(\"confusion_matrix\").collect()[0][0].toArray()\n",
    "print(cm)"
   ]
  },
  {
   "cell_type": "markdown",
   "id": "8e432c5b-574d-45ba-acd5-bc1789e8a147",
   "metadata": {
    "nteract": {
     "transient": {
      "deleting": false
     }
    }
   },
   "source": [
    "2. Plot the confusion matrix for the predictions of `smote_model` (trained on __balanced data__)."
   ]
  },
  {
   "cell_type": "code",
   "execution_count": null,
   "id": "c0bc2f8b-74c1-4a2c-b36c-defe52218ab5",
   "metadata": {
    "jupyter": {
     "outputs_hidden": false,
     "source_hidden": false
    },
    "nteract": {
     "transient": {
      "deleting": false
     }
    }
   },
   "outputs": [
    {
     "data": {
      "application/vnd.livy.statement-meta+json": {
       "execution_finish_time": "2023-09-07T17:35:39.8190891Z",
       "execution_start_time": "2023-09-07T17:35:38.1916684Z",
       "livy_statement_state": "available",
       "parent_msg_id": "6adfe81e-ee6b-439b-ba88-4cb05118ab64",
       "queued_time": "2023-09-07T17:33:48.255745Z",
       "session_id": "32e3c016-db9c-4f83-b8c0-f7af0f59032f",
       "session_start_time": null,
       "spark_jobs": {
        "jobs": [],
        "limit": 20,
        "numbers": {
         "FAILED": 0,
         "RUNNING": 0,
         "SUCCEEDED": 0,
         "UNKNOWN": 0
        },
        "rule": "ALL_DESC"
       },
       "spark_pool": null,
       "state": "finished",
       "statement_id": 33
      },
      "text/plain": [
       "StatementMeta(, 32e3c016-db9c-4f83-b8c0-f7af0f59032f, 33, Finished, Available)"
      ]
     },
     "metadata": {},
     "output_type": "display_data"
    },
    {
     "data": {
      "image/png": "[encoded data removed]",
      "text/plain": [
       "<Figure size 500x350 with 2 Axes>"
      ]
     },
     "metadata": {},
     "output_type": "display_data"
    }
   ],
   "source": [
    "# Plot Confusion Matrix\n",
    "import seaborn as sns\n",
    "\n",
    "def plot(cm):\n",
    "    \"\"\"\n",
    "    Plot the confusion matrix.\n",
    "    \"\"\"\n",
    "    sns.set(rc={\"figure.figsize\": (5, 3.5)})\n",
    "    ax = sns.heatmap(cm, annot=True, fmt=\".20g\")\n",
    "    ax.set_title(\"Confusion Matrix\")\n",
    "    ax.set_xlabel(\"Predicted label\")\n",
    "    ax.set_ylabel(\"True label\")\n",
    "    return ax\n",
    "\n",
    "with mlflow.start_run(run_id=smote_run.info.run_id):\n",
    "    ax = plot(smote_cm)\n",
    "    mlflow.log_figure(ax.figure, \"ConfusionMatrix.png\")"
   ]
  },
  {
   "cell_type": "markdown",
   "id": "06ab9bbc-be03-4096-89e1-e06f78299f6d",
   "metadata": {
    "nteract": {
     "transient": {
      "deleting": false
     }
    }
   },
   "source": [
    "3. Plot the confusion matrix for the predictions of `model` (trained on raw, __imbalanced data__)."
   ]
  },
  {
   "cell_type": "code",
   "execution_count": null,
   "id": "c999e79b-a5de-4320-a06e-8a1cb0deae55",
   "metadata": {
    "jupyter": {
     "outputs_hidden": false,
     "source_hidden": false
    },
    "nteract": {
     "transient": {
      "deleting": false
     }
    }
   },
   "outputs": [
    {
     "data": {
      "application/vnd.livy.statement-meta+json": {
       "execution_finish_time": "2023-09-07T17:35:41.6769385Z",
       "execution_start_time": "2023-09-07T17:35:40.0789917Z",
       "livy_statement_state": "available",
       "parent_msg_id": "1f83a653-1caa-49f8-b5ff-bc79e1a93c03",
       "queued_time": "2023-09-07T17:33:48.2564488Z",
       "session_id": "32e3c016-db9c-4f83-b8c0-f7af0f59032f",
       "session_start_time": null,
       "spark_jobs": {
        "jobs": [],
        "limit": 20,
        "numbers": {
         "FAILED": 0,
         "RUNNING": 0,
         "SUCCEEDED": 0,
         "UNKNOWN": 0
        },
        "rule": "ALL_DESC"
       },
       "spark_pool": null,
       "state": "finished",
       "statement_id": 34
      },
      "text/plain": [
       "StatementMeta(, 32e3c016-db9c-4f83-b8c0-f7af0f59032f, 34, Finished, Available)"
      ]
     },
     "metadata": {},
     "output_type": "display_data"
    },
    {
     "data": {
      "image/png": "[encoded data removed]",
      "text/plain": [
       "<Figure size 500x350 with 2 Axes>"
      ]
     },
     "metadata": {},
     "output_type": "display_data"
    }
   ],
   "source": [
    "with mlflow.start_run(run_id=raw_run.info.run_id):\n",
    "    ax = plot(cm)\n",
    "    mlflow.log_figure(ax.figure, \"ConfusionMatrix.png\")"
   ]
  },
  {
   "cell_type": "markdown",
   "id": "6e712950-5cd8-491e-a567-b692d9c65ecc",
   "metadata": {
    "nteract": {
     "transient": {
      "deleting": false
     }
    }
   },
   "source": [
    "#### Evaluate model performance with AUC-ROC and AUPRC measures\n",
    "\n",
    "The **Area Under the Curve Receiver Operating Characteristic (AUC-ROC)** measure is widely used to assess the performance of binary classifiers. AUC-ROC is a chart that visualizes the trade-off between the true positive rate (TPR) and the false positive rate (FPR).\n",
    "\n",
    "In some cases, it's more appropriate to evaluate your classifier based on the **Area Under the Precision-Recall Curve (AUPRC)** measure. The AUPRC is a curve that combines two rates: \n",
    "- the precision, also called the positive predictive value (PPV), and \n",
    "- the recall, also called the true positive rate (TPR)."
   ]
  },
  {
   "cell_type": "markdown",
   "id": "5d05fa48",
   "metadata": {},
   "source": [
    "1. Define a function that returns the AUC-ROC and AUPRC measures."
   ]
  },
  {
   "cell_type": "code",
   "execution_count": null,
   "id": "64263ff5-c40b-4765-b388-7839438564c9",
   "metadata": {
    "jupyter": {
     "outputs_hidden": false,
     "source_hidden": false
    },
    "nteract": {
     "transient": {
      "deleting": false
     }
    }
   },
   "outputs": [
    {
     "data": {
      "application/vnd.livy.statement-meta+json": {
       "execution_finish_time": "2023-09-07T17:35:42.2564003Z",
       "execution_start_time": "2023-09-07T17:35:41.9358018Z",
       "livy_statement_state": "available",
       "parent_msg_id": "529a95e3-e7b7-4d04-b80f-08ff0f27e8b8",
       "queued_time": "2023-09-07T17:33:48.2571981Z",
       "session_id": "32e3c016-db9c-4f83-b8c0-f7af0f59032f",
       "session_start_time": null,
       "spark_jobs": {
        "jobs": [],
        "limit": 20,
        "numbers": {
         "FAILED": 0,
         "RUNNING": 0,
         "SUCCEEDED": 0,
         "UNKNOWN": 0
        },
        "rule": "ALL_DESC"
       },
       "spark_pool": null,
       "state": "finished",
       "statement_id": 35
      },
      "text/plain": [
       "StatementMeta(, 32e3c016-db9c-4f83-b8c0-f7af0f59032f, 35, Finished, Available)"
      ]
     },
     "metadata": {},
     "output_type": "display_data"
    }
   ],
   "source": [
    "from pyspark.ml.evaluation import BinaryClassificationEvaluator\n",
    "\n",
    "def evaluate(predictions):\n",
    "    \"\"\"\n",
    "    Evaluate the model by computing AUROC and AUPRC with the predictions.\n",
    "    \"\"\"\n",
    "\n",
    "    # Initialize the binary evaluator\n",
    "    evaluator = BinaryClassificationEvaluator(rawPredictionCol=\"prediction\", labelCol=TARGET_COL)\n",
    "\n",
    "    _evaluator = lambda metric: evaluator.setMetricName(metric).evaluate(predictions)\n",
    "\n",
    "    # Calculate AUROC, baseline 0.5\n",
    "    auroc = _evaluator(\"areaUnderROC\")\n",
    "    print(f\"The AUROC is: {auroc:.4f}\")\n",
    "\n",
    "    # Calculate AUPRC, baseline positive rate (0.172% in the data)\n",
    "    auprc = _evaluator(\"areaUnderPR\")\n",
    "    print(f\"The AUPRC is: {auprc:.4f}\")\n",
    "\n",
    "    return auroc, auprc\n"
   ]
  },
  {
   "cell_type": "markdown",
   "id": "f68e661d-8e92-4b14-87d5-cad0300ab7a6",
   "metadata": {
    "nteract": {
     "transient": {
      "deleting": false
     }
    }
   },
   "source": [
    "2. Log the AUC-ROC and AUPRC metrics for the model trained on __imbalanced data__."
   ]
  },
  {
   "cell_type": "code",
   "execution_count": null,
   "id": "b713a56c-9e0c-445f-beba-696fd09de42f",
   "metadata": {},
   "outputs": [
    {
     "data": {
      "application/vnd.livy.statement-meta+json": {
       "execution_finish_time": "2023-09-07T17:35:46.2422312Z",
       "execution_start_time": "2023-09-07T17:35:42.5182838Z",
       "livy_statement_state": "available",
       "parent_msg_id": "3860fdbd-5f57-43f5-ad2d-07360a834edb",
       "queued_time": "2023-09-07T17:33:48.2579484Z",
       "session_id": "32e3c016-db9c-4f83-b8c0-f7af0f59032f",
       "session_start_time": null,
       "spark_jobs": {
        "jobs": [
         {
          "completionTime": "2023-09-07T17:35:43.964GMT",
          "dataRead": 245,
          "dataWritten": 0,
          "description": "Job group for statement 36:\nwith mlflow.start_run(run_id=raw_run.info.run_id):\n    auroc, auprc = evaluate(predictions)\n    mlflow.log_metrics({\"AUPRC\": auprc, \"AUROC\": auroc})\n    mlflow.log_params({\"Data_Enhancement\": \"None\", \"DATA_FILE\": DATA_FILE})",
          "displayName": "collect at AreaUnderCurve.scala:44",
          "jobGroup": "36",
          "jobId": 40,
          "killedTasksSummary": {},
          "name": "collect at AreaUnderCurve.scala:44",
          "numActiveStages": 0,
          "numActiveTasks": 0,
          "numCompletedIndices": 2,
          "numCompletedStages": 1,
          "numCompletedTasks": 2,
          "numFailedStages": 0,
          "numFailedTasks": 0,
          "numKilledTasks": 0,
          "numSkippedStages": 2,
          "numSkippedTasks": 16,
          "numTasks": 18,
          "rowCount": 2,
          "stageIds": [
           84,
           85,
           86
          ],
          "status": "SUCCEEDED",
          "submissionTime": "2023-09-07T17:35:43.941GMT",
          "usageDescription": ""
         },
         {
          "completionTime": "2023-09-07T17:35:43.930GMT",
          "dataRead": 126,
          "dataWritten": 0,
          "description": "Job group for statement 36:\nwith mlflow.start_run(run_id=raw_run.info.run_id):\n    auroc, auprc = evaluate(predictions)\n    mlflow.log_metrics({\"AUPRC\": auprc, \"AUROC\": auroc})\n    mlflow.log_params({\"Data_Enhancement\": \"None\", \"DATA_FILE\": DATA_FILE})",
          "displayName": "first at BinaryClassificationMetrics.scala:135",
          "jobGroup": "36",
          "jobId": 39,
          "killedTasksSummary": {},
          "name": "first at BinaryClassificationMetrics.scala:135",
          "numActiveStages": 0,
          "numActiveTasks": 0,
          "numCompletedIndices": 1,
          "numCompletedStages": 1,
          "numCompletedTasks": 1,
          "numFailedStages": 0,
          "numFailedTasks": 0,
          "numKilledTasks": 0,
          "numSkippedStages": 2,
          "numSkippedTasks": 16,
          "numTasks": 17,
          "rowCount": 1,
          "stageIds": [
           81,
           82,
           83
          ],
          "status": "SUCCEEDED",
          "submissionTime": "2023-09-07T17:35:43.912GMT",
          "usageDescription": ""
         },
         {
          "completionTime": "2023-09-07T17:35:43.894GMT",
          "dataRead": 251,
          "dataWritten": 0,
          "description": "Job group for statement 36:\nwith mlflow.start_run(run_id=raw_run.info.run_id):\n    auroc, auprc = evaluate(predictions)\n    mlflow.log_metrics({\"AUPRC\": auprc, \"AUROC\": auroc})\n    mlflow.log_params({\"Data_Enhancement\": \"None\", \"DATA_FILE\": DATA_FILE})",
          "displayName": "collect at BinaryClassificationMetrics.scala:237",
          "jobGroup": "36",
          "jobId": 38,
          "killedTasksSummary": {},
          "name": "collect at BinaryClassificationMetrics.scala:237",
          "numActiveStages": 0,
          "numActiveTasks": 0,
          "numCompletedIndices": 2,
          "numCompletedStages": 1,
          "numCompletedTasks": 2,
          "numFailedStages": 0,
          "numFailedTasks": 0,
          "numKilledTasks": 0,
          "numSkippedStages": 2,
          "numSkippedTasks": 16,
          "numTasks": 18,
          "rowCount": 2,
          "stageIds": [
           78,
           79,
           80
          ],
          "status": "SUCCEEDED",
          "submissionTime": "2023-09-07T17:35:43.867GMT",
          "usageDescription": ""
         },
         {
          "completionTime": "2023-09-07T17:35:43.857GMT",
          "dataRead": 1395,
          "dataWritten": 251,
          "description": "Job group for statement 36:\nwith mlflow.start_run(run_id=raw_run.info.run_id):\n    auroc, auprc = evaluate(predictions)\n    mlflow.log_metrics({\"AUPRC\": auprc, \"AUROC\": auroc})\n    mlflow.log_params({\"Data_Enhancement\": \"None\", \"DATA_FILE\": DATA_FILE})",
          "displayName": "count at BinaryClassificationMetrics.scala:197",
          "jobGroup": "36",
          "jobId": 37,
          "killedTasksSummary": {},
          "name": "count at BinaryClassificationMetrics.scala:197",
          "numActiveStages": 0,
          "numActiveTasks": 0,
          "numCompletedIndices": 10,
          "numCompletedStages": 2,
          "numCompletedTasks": 10,
          "numFailedStages": 0,
          "numFailedTasks": 0,
          "numKilledTasks": 0,
          "numSkippedStages": 1,
          "numSkippedTasks": 8,
          "numTasks": 18,
          "rowCount": 20,
          "stageIds": [
           75,
           76,
           77
          ],
          "status": "SUCCEEDED",
          "submissionTime": "2023-09-07T17:35:43.808GMT",
          "usageDescription": ""
         },
         {
          "completionTime": "2023-09-07T17:35:43.801GMT",
          "dataRead": 1144,
          "dataWritten": 1144,
          "description": "Job group for statement 36:\nwith mlflow.start_run(run_id=raw_run.info.run_id):\n    auroc, auprc = evaluate(predictions)\n    mlflow.log_metrics({\"AUPRC\": auprc, \"AUROC\": auroc})\n    mlflow.log_params({\"Data_Enhancement\": \"None\", \"DATA_FILE\": DATA_FILE})",
          "displayName": "sortByKey at BinaryClassificationMetrics.scala:189",
          "jobGroup": "36",
          "jobId": 36,
          "killedTasksSummary": {},
          "name": "sortByKey at BinaryClassificationMetrics.scala:189",
          "numActiveStages": 0,
          "numActiveTasks": 0,
          "numCompletedIndices": 16,
          "numCompletedStages": 2,
          "numCompletedTasks": 16,
          "numFailedStages": 0,
          "numFailedTasks": 0,
          "numKilledTasks": 0,
          "numSkippedStages": 0,
          "numSkippedTasks": 0,
          "numTasks": 16,
          "rowCount": 32,
          "stageIds": [
           74,
           73
          ],
          "status": "SUCCEEDED",
          "submissionTime": "2023-09-07T17:35:43.539GMT",
          "usageDescription": ""
         },
         {
          "completionTime": "2023-09-07T17:35:43.501GMT",
          "dataRead": 251,
          "dataWritten": 0,
          "description": "Job group for statement 36:\nwith mlflow.start_run(run_id=raw_run.info.run_id):\n    auroc, auprc = evaluate(predictions)\n    mlflow.log_metrics({\"AUPRC\": auprc, \"AUROC\": auroc})\n    mlflow.log_params({\"Data_Enhancement\": \"None\", \"DATA_FILE\": DATA_FILE})",
          "displayName": "collect at AreaUnderCurve.scala:44",
          "jobGroup": "36",
          "jobId": 35,
          "killedTasksSummary": {},
          "name": "collect at AreaUnderCurve.scala:44",
          "numActiveStages": 0,
          "numActiveTasks": 0,
          "numCompletedIndices": 2,
          "numCompletedStages": 1,
          "numCompletedTasks": 2,
          "numFailedStages": 0,
          "numFailedTasks": 0,
          "numKilledTasks": 0,
          "numSkippedStages": 2,
          "numSkippedTasks": 16,
          "numTasks": 18,
          "rowCount": 2,
          "stageIds": [
           70,
           71,
           72
          ],
          "status": "SUCCEEDED",
          "submissionTime": "2023-09-07T17:35:43.482GMT",
          "usageDescription": ""
         },
         {
          "completionTime": "2023-09-07T17:35:43.473GMT",
          "dataRead": 251,
          "dataWritten": 0,
          "description": "Job group for statement 36:\nwith mlflow.start_run(run_id=raw_run.info.run_id):\n    auroc, auprc = evaluate(predictions)\n    mlflow.log_metrics({\"AUPRC\": auprc, \"AUROC\": auroc})\n    mlflow.log_params({\"Data_Enhancement\": \"None\", \"DATA_FILE\": DATA_FILE})",
          "displayName": "collect at BinaryClassificationMetrics.scala:237",
          "jobGroup": "36",
          "jobId": 34,
          "killedTasksSummary": {},
          "name": "collect at BinaryClassificationMetrics.scala:237",
          "numActiveStages": 0,
          "numActiveTasks": 0,
          "numCompletedIndices": 2,
          "numCompletedStages": 1,
          "numCompletedTasks": 2,
          "numFailedStages": 0,
          "numFailedTasks": 0,
          "numKilledTasks": 0,
          "numSkippedStages": 2,
          "numSkippedTasks": 16,
          "numTasks": 18,
          "rowCount": 2,
          "stageIds": [
           67,
           68,
           69
          ],
          "status": "SUCCEEDED",
          "submissionTime": "2023-09-07T17:35:43.451GMT",
          "usageDescription": ""
         },
         {
          "completionTime": "2023-09-07T17:35:43.441GMT",
          "dataRead": 1395,
          "dataWritten": 251,
          "description": "Job group for statement 36:\nwith mlflow.start_run(run_id=raw_run.info.run_id):\n    auroc, auprc = evaluate(predictions)\n    mlflow.log_metrics({\"AUPRC\": auprc, \"AUROC\": auroc})\n    mlflow.log_params({\"Data_Enhancement\": \"None\", \"DATA_FILE\": DATA_FILE})",
          "displayName": "count at BinaryClassificationMetrics.scala:197",
          "jobGroup": "36",
          "jobId": 33,
          "killedTasksSummary": {},
          "name": "count at BinaryClassificationMetrics.scala:197",
          "numActiveStages": 0,
          "numActiveTasks": 0,
          "numCompletedIndices": 10,
          "numCompletedStages": 2,
          "numCompletedTasks": 10,
          "numFailedStages": 0,
          "numFailedTasks": 0,
          "numKilledTasks": 0,
          "numSkippedStages": 1,
          "numSkippedTasks": 8,
          "numTasks": 18,
          "rowCount": 20,
          "stageIds": [
           66,
           64,
           65
          ],
          "status": "SUCCEEDED",
          "submissionTime": "2023-09-07T17:35:43.388GMT",
          "usageDescription": ""
         },
         {
          "completionTime": "2023-09-07T17:35:43.380GMT",
          "dataRead": 1144,
          "dataWritten": 1144,
          "description": "Job group for statement 36:\nwith mlflow.start_run(run_id=raw_run.info.run_id):\n    auroc, auprc = evaluate(predictions)\n    mlflow.log_metrics({\"AUPRC\": auprc, \"AUROC\": auroc})\n    mlflow.log_params({\"Data_Enhancement\": \"None\", \"DATA_FILE\": DATA_FILE})",
          "displayName": "sortByKey at BinaryClassificationMetrics.scala:189",
          "jobGroup": "36",
          "jobId": 32,
          "killedTasksSummary": {},
          "name": "sortByKey at BinaryClassificationMetrics.scala:189",
          "numActiveStages": 0,
          "numActiveTasks": 0,
          "numCompletedIndices": 16,
          "numCompletedStages": 2,
          "numCompletedTasks": 16,
          "numFailedStages": 0,
          "numFailedTasks": 0,
          "numKilledTasks": 0,
          "numSkippedStages": 0,
          "numSkippedTasks": 0,
          "numTasks": 16,
          "rowCount": 32,
          "stageIds": [
           63,
           62
          ],
          "status": "SUCCEEDED",
          "submissionTime": "2023-09-07T17:35:43.027GMT",
          "usageDescription": ""
         }
        ],
        "limit": 20,
        "numbers": {
         "FAILED": 0,
         "RUNNING": 0,
         "SUCCEEDED": 9,
         "UNKNOWN": 0
        },
        "rule": "ALL_DESC"
       },
       "spark_pool": null,
       "state": "finished",
       "statement_id": 36
      },
      "text/plain": [
       "StatementMeta(, 32e3c016-db9c-4f83-b8c0-f7af0f59032f, 36, Finished, Available)"
      ]
     },
     "metadata": {},
     "output_type": "display_data"
    },
    {
     "name": "stdout",
     "output_type": "stream",
     "text": [
      "The AUROC is: 0.8139\n",
      "The AUPRC is: 0.4845\n"
     ]
    }
   ],
   "source": [
    "with mlflow.start_run(run_id=raw_run.info.run_id):\n",
    "    auroc, auprc = evaluate(predictions)\n",
    "    mlflow.log_metrics({\"AUPRC\": auprc, \"AUROC\": auroc})\n",
    "    mlflow.log_params({\"Data_Enhancement\": \"None\", \"DATA_FILE\": DATA_FILE})"
   ]
  },
  {
   "cell_type": "markdown",
   "id": "152120b5-5570-48f8-b412-ef03999bd626",
   "metadata": {
    "nteract": {
     "transient": {
      "deleting": false
     }
    }
   },
   "source": [
    "3. Log the AUC-ROC and AUPRC metrics for the model trained on __balanced data__."
   ]
  },
  {
   "cell_type": "code",
   "execution_count": null,
   "id": "08a1bb3b-1fb9-47ec-8f67-0df4622a7779",
   "metadata": {
    "jupyter": {
     "outputs_hidden": false,
     "source_hidden": false
    },
    "nteract": {
     "transient": {
      "deleting": false
     }
    }
   },
   "outputs": [
    {
     "data": {
      "application/vnd.livy.statement-meta+json": {
       "execution_finish_time": "2023-09-07T17:35:49.0753164Z",
       "execution_start_time": "2023-09-07T17:35:46.5016365Z",
       "livy_statement_state": "available",
       "parent_msg_id": "c9387f48-2da9-4d11-9cbe-36b7eb0699a7",
       "queued_time": "2023-09-07T17:33:48.2587152Z",
       "session_id": "32e3c016-db9c-4f83-b8c0-f7af0f59032f",
       "session_start_time": null,
       "spark_jobs": {
        "jobs": [
         {
          "completionTime": "2023-09-07T17:35:47.860GMT",
          "dataRead": 245,
          "dataWritten": 0,
          "description": "Job group for statement 37:\nwith mlflow.start_run(run_id=smote_run.info.run_id):\n    auroc, auprc = evaluate(smote_predictions)\n    mlflow.log_metrics({\"AUPRC\": auprc, \"AUROC\": auroc})\n    mlflow.log_params({\"Data_Enhancement\": \"SMOTE\", \"DATA_FILE\": DATA_FILE})",
          "displayName": "collect at AreaUnderCurve.scala:44",
          "jobGroup": "37",
          "jobId": 49,
          "killedTasksSummary": {},
          "name": "collect at AreaUnderCurve.scala:44",
          "numActiveStages": 0,
          "numActiveTasks": 0,
          "numCompletedIndices": 2,
          "numCompletedStages": 1,
          "numCompletedTasks": 2,
          "numFailedStages": 0,
          "numFailedTasks": 0,
          "numKilledTasks": 0,
          "numSkippedStages": 2,
          "numSkippedTasks": 16,
          "numTasks": 18,
          "rowCount": 2,
          "stageIds": [
           111,
           109,
           110
          ],
          "status": "SUCCEEDED",
          "submissionTime": "2023-09-07T17:35:47.844GMT",
          "usageDescription": ""
         },
         {
          "completionTime": "2023-09-07T17:35:47.835GMT",
          "dataRead": 126,
          "dataWritten": 0,
          "description": "Job group for statement 37:\nwith mlflow.start_run(run_id=smote_run.info.run_id):\n    auroc, auprc = evaluate(smote_predictions)\n    mlflow.log_metrics({\"AUPRC\": auprc, \"AUROC\": auroc})\n    mlflow.log_params({\"Data_Enhancement\": \"SMOTE\", \"DATA_FILE\": DATA_FILE})",
          "displayName": "first at BinaryClassificationMetrics.scala:135",
          "jobGroup": "37",
          "jobId": 48,
          "killedTasksSummary": {},
          "name": "first at BinaryClassificationMetrics.scala:135",
          "numActiveStages": 0,
          "numActiveTasks": 0,
          "numCompletedIndices": 1,
          "numCompletedStages": 1,
          "numCompletedTasks": 1,
          "numFailedStages": 0,
          "numFailedTasks": 0,
          "numKilledTasks": 0,
          "numSkippedStages": 2,
          "numSkippedTasks": 16,
          "numTasks": 17,
          "rowCount": 1,
          "stageIds": [
           107,
           108,
           106
          ],
          "status": "SUCCEEDED",
          "submissionTime": "2023-09-07T17:35:47.820GMT",
          "usageDescription": ""
         },
         {
          "completionTime": "2023-09-07T17:35:47.812GMT",
          "dataRead": 251,
          "dataWritten": 0,
          "description": "Job group for statement 37:\nwith mlflow.start_run(run_id=smote_run.info.run_id):\n    auroc, auprc = evaluate(smote_predictions)\n    mlflow.log_metrics({\"AUPRC\": auprc, \"AUROC\": auroc})\n    mlflow.log_params({\"Data_Enhancement\": \"SMOTE\", \"DATA_FILE\": DATA_FILE})",
          "displayName": "collect at BinaryClassificationMetrics.scala:237",
          "jobGroup": "37",
          "jobId": 47,
          "killedTasksSummary": {},
          "name": "collect at BinaryClassificationMetrics.scala:237",
          "numActiveStages": 0,
          "numActiveTasks": 0,
          "numCompletedIndices": 2,
          "numCompletedStages": 1,
          "numCompletedTasks": 2,
          "numFailedStages": 0,
          "numFailedTasks": 0,
          "numKilledTasks": 0,
          "numSkippedStages": 2,
          "numSkippedTasks": 16,
          "numTasks": 18,
          "rowCount": 2,
          "stageIds": [
           103,
           104,
           105
          ],
          "status": "SUCCEEDED",
          "submissionTime": "2023-09-07T17:35:47.796GMT",
          "usageDescription": ""
         },
         {
          "completionTime": "2023-09-07T17:35:47.788GMT",
          "dataRead": 1391,
          "dataWritten": 251,
          "description": "Job group for statement 37:\nwith mlflow.start_run(run_id=smote_run.info.run_id):\n    auroc, auprc = evaluate(smote_predictions)\n    mlflow.log_metrics({\"AUPRC\": auprc, \"AUROC\": auroc})\n    mlflow.log_params({\"Data_Enhancement\": \"SMOTE\", \"DATA_FILE\": DATA_FILE})",
          "displayName": "count at BinaryClassificationMetrics.scala:197",
          "jobGroup": "37",
          "jobId": 46,
          "killedTasksSummary": {},
          "name": "count at BinaryClassificationMetrics.scala:197",
          "numActiveStages": 0,
          "numActiveTasks": 0,
          "numCompletedIndices": 10,
          "numCompletedStages": 2,
          "numCompletedTasks": 10,
          "numFailedStages": 0,
          "numFailedTasks": 0,
          "numKilledTasks": 0,
          "numSkippedStages": 1,
          "numSkippedTasks": 8,
          "numTasks": 18,
          "rowCount": 20,
          "stageIds": [
           102,
           100,
           101
          ],
          "status": "SUCCEEDED",
          "submissionTime": "2023-09-07T17:35:47.748GMT",
          "usageDescription": ""
         },
         {
          "completionTime": "2023-09-07T17:35:47.742GMT",
          "dataRead": 1140,
          "dataWritten": 1140,
          "description": "Job group for statement 37:\nwith mlflow.start_run(run_id=smote_run.info.run_id):\n    auroc, auprc = evaluate(smote_predictions)\n    mlflow.log_metrics({\"AUPRC\": auprc, \"AUROC\": auroc})\n    mlflow.log_params({\"Data_Enhancement\": \"SMOTE\", \"DATA_FILE\": DATA_FILE})",
          "displayName": "sortByKey at BinaryClassificationMetrics.scala:189",
          "jobGroup": "37",
          "jobId": 45,
          "killedTasksSummary": {},
          "name": "sortByKey at BinaryClassificationMetrics.scala:189",
          "numActiveStages": 0,
          "numActiveTasks": 0,
          "numCompletedIndices": 16,
          "numCompletedStages": 2,
          "numCompletedTasks": 16,
          "numFailedStages": 0,
          "numFailedTasks": 0,
          "numKilledTasks": 0,
          "numSkippedStages": 0,
          "numSkippedTasks": 0,
          "numTasks": 16,
          "rowCount": 32,
          "stageIds": [
           99,
           98
          ],
          "status": "SUCCEEDED",
          "submissionTime": "2023-09-07T17:35:47.448GMT",
          "usageDescription": ""
         },
         {
          "completionTime": "2023-09-07T17:35:47.416GMT",
          "dataRead": 251,
          "dataWritten": 0,
          "description": "Job group for statement 37:\nwith mlflow.start_run(run_id=smote_run.info.run_id):\n    auroc, auprc = evaluate(smote_predictions)\n    mlflow.log_metrics({\"AUPRC\": auprc, \"AUROC\": auroc})\n    mlflow.log_params({\"Data_Enhancement\": \"SMOTE\", \"DATA_FILE\": DATA_FILE})",
          "displayName": "collect at AreaUnderCurve.scala:44",
          "jobGroup": "37",
          "jobId": 44,
          "killedTasksSummary": {},
          "name": "collect at AreaUnderCurve.scala:44",
          "numActiveStages": 0,
          "numActiveTasks": 0,
          "numCompletedIndices": 2,
          "numCompletedStages": 1,
          "numCompletedTasks": 2,
          "numFailedStages": 0,
          "numFailedTasks": 0,
          "numKilledTasks": 0,
          "numSkippedStages": 2,
          "numSkippedTasks": 16,
          "numTasks": 18,
          "rowCount": 2,
          "stageIds": [
           96,
           97,
           95
          ],
          "status": "SUCCEEDED",
          "submissionTime": "2023-09-07T17:35:47.396GMT",
          "usageDescription": ""
         },
         {
          "completionTime": "2023-09-07T17:35:47.383GMT",
          "dataRead": 251,
          "dataWritten": 0,
          "description": "Job group for statement 37:\nwith mlflow.start_run(run_id=smote_run.info.run_id):\n    auroc, auprc = evaluate(smote_predictions)\n    mlflow.log_metrics({\"AUPRC\": auprc, \"AUROC\": auroc})\n    mlflow.log_params({\"Data_Enhancement\": \"SMOTE\", \"DATA_FILE\": DATA_FILE})",
          "displayName": "collect at BinaryClassificationMetrics.scala:237",
          "jobGroup": "37",
          "jobId": 43,
          "killedTasksSummary": {},
          "name": "collect at BinaryClassificationMetrics.scala:237",
          "numActiveStages": 0,
          "numActiveTasks": 0,
          "numCompletedIndices": 2,
          "numCompletedStages": 1,
          "numCompletedTasks": 2,
          "numFailedStages": 0,
          "numFailedTasks": 0,
          "numKilledTasks": 0,
          "numSkippedStages": 2,
          "numSkippedTasks": 16,
          "numTasks": 18,
          "rowCount": 2,
          "stageIds": [
           93,
           94,
           92
          ],
          "status": "SUCCEEDED",
          "submissionTime": "2023-09-07T17:35:47.368GMT",
          "usageDescription": ""
         },
         {
          "completionTime": "2023-09-07T17:35:47.359GMT",
          "dataRead": 1391,
          "dataWritten": 251,
          "description": "Job group for statement 37:\nwith mlflow.start_run(run_id=smote_run.info.run_id):\n    auroc, auprc = evaluate(smote_predictions)\n    mlflow.log_metrics({\"AUPRC\": auprc, \"AUROC\": auroc})\n    mlflow.log_params({\"Data_Enhancement\": \"SMOTE\", \"DATA_FILE\": DATA_FILE})",
          "displayName": "count at BinaryClassificationMetrics.scala:197",
          "jobGroup": "37",
          "jobId": 42,
          "killedTasksSummary": {},
          "name": "count at BinaryClassificationMetrics.scala:197",
          "numActiveStages": 0,
          "numActiveTasks": 0,
          "numCompletedIndices": 10,
          "numCompletedStages": 2,
          "numCompletedTasks": 10,
          "numFailedStages": 0,
          "numFailedTasks": 0,
          "numKilledTasks": 0,
          "numSkippedStages": 1,
          "numSkippedTasks": 8,
          "numTasks": 18,
          "rowCount": 20,
          "stageIds": [
           89,
           90,
           91
          ],
          "status": "SUCCEEDED",
          "submissionTime": "2023-09-07T17:35:47.318GMT",
          "usageDescription": ""
         },
         {
          "completionTime": "2023-09-07T17:35:47.311GMT",
          "dataRead": 1140,
          "dataWritten": 1140,
          "description": "Job group for statement 37:\nwith mlflow.start_run(run_id=smote_run.info.run_id):\n    auroc, auprc = evaluate(smote_predictions)\n    mlflow.log_metrics({\"AUPRC\": auprc, \"AUROC\": auroc})\n    mlflow.log_params({\"Data_Enhancement\": \"SMOTE\", \"DATA_FILE\": DATA_FILE})",
          "displayName": "sortByKey at BinaryClassificationMetrics.scala:189",
          "jobGroup": "37",
          "jobId": 41,
          "killedTasksSummary": {},
          "name": "sortByKey at BinaryClassificationMetrics.scala:189",
          "numActiveStages": 0,
          "numActiveTasks": 0,
          "numCompletedIndices": 16,
          "numCompletedStages": 2,
          "numCompletedTasks": 16,
          "numFailedStages": 0,
          "numFailedTasks": 0,
          "numKilledTasks": 0,
          "numSkippedStages": 0,
          "numSkippedTasks": 0,
          "numTasks": 16,
          "rowCount": 32,
          "stageIds": [
           88,
           87
          ],
          "status": "SUCCEEDED",
          "submissionTime": "2023-09-07T17:35:47.004GMT",
          "usageDescription": ""
         }
        ],
        "limit": 20,
        "numbers": {
         "FAILED": 0,
         "RUNNING": 0,
         "SUCCEEDED": 9,
         "UNKNOWN": 0
        },
        "rule": "ALL_DESC"
       },
       "spark_pool": null,
       "state": "finished",
       "statement_id": 37
      },
      "text/plain": [
       "StatementMeta(, 32e3c016-db9c-4f83-b8c0-f7af0f59032f, 37, Finished, Available)"
      ]
     },
     "metadata": {},
     "output_type": "display_data"
    },
    {
     "name": "stdout",
     "output_type": "stream",
     "text": [
      "The AUROC is: 0.9281\n",
      "The AUPRC is: 0.5686\n"
     ]
    }
   ],
   "source": [
    "with mlflow.start_run(run_id=smote_run.info.run_id):\n",
    "    auroc, auprc = evaluate(smote_predictions)\n",
    "    mlflow.log_metrics({\"AUPRC\": auprc, \"AUROC\": auroc})\n",
    "    mlflow.log_params({\"Data_Enhancement\": \"SMOTE\", \"DATA_FILE\": DATA_FILE})"
   ]
  },
  {
   "cell_type": "markdown",
   "id": "2cb1662d-23bc-44cd-9781-94c5aaf0f77f",
   "metadata": {
    "nteract": {
     "transient": {
      "deleting": false
     }
    }
   },
   "source": [
    "The model trained on balanced data returns higher AUC-ROC and AUPRC values compared to the model trained on imbalanced data. Based on these measures, SMOTE appears to be an effective technique for enhancing model performance when working with highly imbalanced data.\n",
    "\n",
    "As shown in the following image, any experiment is logged along with its respective name, and you can track the experiment's parameters and performance metrics in your workspace.\n",
    "\n",
    "<img style=\"float: left;\" src=\"https://synapseaisolutionsa.blob.core.windows.net/public/Credit_Card_Fraud_Detection/fraud-mlflow.png\"  width=\"45%\" height=\"10%\">"
   ]
  },
  {
   "cell_type": "markdown",
   "id": "50cf0108-8477-48d9-a307-995f07de394d",
   "metadata": {
    "nteract": {
     "transient": {
      "deleting": false
     }
    }
   },
   "source": [
    "The following image also shows performance metrics for the model trained on the balanced dataset (in **Version 2**). You can select **Version 1** to see the metrics for the model trained on the imbalanced dataset. Comparing the metrics, you'll notice that the AUROC is higher for the model trained with the balanced dataset, indicating that this model is better at correctly predicting `0` classes as `0` and `1` classes as `1`.\n",
    "\n",
    "<img style=\"float: left;\" src=\"https://synapseaisolutionsa.blob.core.windows.net/public/Credit_Card_Fraud_Detection/fraud-logging.png\"  width=\"45%\" height=\"10%\"> \n"
   ]
  },
  {
   "cell_type": "markdown",
   "id": "a0d45a00",
   "metadata": {},
   "source": [
    "## Step 5: Register the models"
   ]
  },
  {
   "cell_type": "markdown",
   "id": "32821d73-df8e-442c-94ea-3ed6b202b4a9",
   "metadata": {
    "nteract": {
     "transient": {
      "deleting": false
     }
    }
   },
   "source": [
    "Use MLflow to register the two models."
   ]
  },
  {
   "cell_type": "code",
   "execution_count": null,
   "id": "7ab74f27-d9d4-4a6a-9ea9-ad748f1a73e0",
   "metadata": {
    "jupyter": {
     "outputs_hidden": false,
     "source_hidden": false
    },
    "nteract": {
     "transient": {
      "deleting": false
     }
    }
   },
   "outputs": [
    {
     "data": {
      "application/vnd.livy.statement-meta+json": {
       "execution_finish_time": "2023-09-07T17:35:57.6240813Z",
       "execution_start_time": "2023-09-07T17:35:49.3366903Z",
       "livy_statement_state": "available",
       "parent_msg_id": "deed3145-f1ee-42fc-bf57-49eb31ecd9ab",
       "queued_time": "2023-09-07T17:33:48.2594964Z",
       "session_id": "32e3c016-db9c-4f83-b8c0-f7af0f59032f",
       "session_start_time": null,
       "spark_jobs": {
        "jobs": [],
        "limit": 20,
        "numbers": {
         "FAILED": 0,
         "RUNNING": 0,
         "SUCCEEDED": 0,
         "UNKNOWN": 0
        },
        "rule": "ALL_DESC"
       },
       "spark_pool": null,
       "state": "finished",
       "statement_id": 38
      },
      "text/plain": [
       "StatementMeta(, 32e3c016-db9c-4f83-b8c0-f7af0f59032f, 38, Finished, Available)"
      ]
     },
     "metadata": {},
     "output_type": "display_data"
    },
    {
     "name": "stderr",
     "output_type": "stream",
     "text": [
      "Successfully registered model 'aisample-fraud-lightgbm'.\n",
      "2023/09/07 17:35:55 INFO mlflow.tracking._model_registry.client: Waiting up to 300 seconds for model version to finish creation.                     Model name: aisample-fraud-lightgbm, version 1\n",
      "Created version '1' of model 'aisample-fraud-lightgbm'.\n",
      "Successfully registered model 'aisample-fraud-lightgbm'.\n",
      "2023/09/07 17:35:57 INFO mlflow.tracking._model_registry.client: Waiting up to 300 seconds for model version to finish creation.                     Model name: aisample-fraud-lightgbm, version 2\n",
      "Created version '2' of model 'aisample-fraud-lightgbm'.\n"
     ]
    },
    {
     "data": {
      "text/plain": [
       "<ModelVersion: creation_timestamp=1694108156878, current_stage='None', description='', last_updated_timestamp=1694108156878, name='aisample-fraud-lightgbm', run_id='97a3428b-b326-4d87-8975-9b9fbd5964ef', run_link='', source='abfss://0a29b6ce-2000-4434-9b3c-e7a48030a82b@olswestccdavcqqagmcte3vt.dfs.core.windows.net/172a6fba-71fb-4277-afda-4118ee37a05c/7b33b8e3-f4e6-44aa-aab2-46a44b120a64/artifacts', status='READY', status_message='', tags={}, user_id='', version='2'>"
      ]
     },
     "execution_count": null,
     "metadata": {},
     "output_type": "execute_result"
    }
   ],
   "source": [
    "# Register the model\n",
    "registered_model_name = f\"{EXPERIMENT_NAME}-lightgbm\"\n",
    "\n",
    "raw_model_uri = \"runs:/{}/model\".format(raw_run.info.run_id)\n",
    "mlflow.register_model(raw_model_uri, registered_model_name)\n",
    "\n",
    "smote_model_uri = \"runs:/{}/model\".format(smote_run.info.run_id)\n",
    "mlflow.register_model(smote_model_uri, registered_model_name)"
   ]
  },
  {
   "cell_type": "markdown",
   "id": "7b5ed09b",
   "metadata": {},
   "source": [
    "## Step 6: Save the prediction results"
   ]
  },
  {
   "cell_type": "markdown",
   "id": "19270bf2-e9f2-4a14-b37b-dffa70eda933",
   "metadata": {
    "nteract": {
     "transient": {
      "deleting": false
     }
    }
   },
   "source": [
    "Microsoft Fabric allows users to operationalize machine learning models with a scalable function called `PREDICT`, which supports batch scoring (or batch inferencing) in any compute engine.\n",
    "\n",
    "You can generate batch predictions directly from the Microsoft Fabric notebook or from a given model's item page. For more information on how to use `PREDICT`, see [Model scoring with PREDICT in Microsoft Fabric](https://aka.ms/fabric-predict).\n",
    "\n",
    "\n",
    "1. Load the better-performing model (*Version 2*) for batch scoring and generate the prediction results."
   ]
  },
  {
   "cell_type": "code",
   "execution_count": null,
   "id": "4bd5337a-56c2-4e3e-86f3-36e2c4ab3e9e",
   "metadata": {
    "jupyter": {
     "outputs_hidden": false,
     "source_hidden": false
    },
    "nteract": {
     "transient": {
      "deleting": false
     }
    }
   },
   "outputs": [
    {
     "data": {
      "application/vnd.livy.statement-meta+json": {
       "execution_finish_time": "2023-09-07T17:35:58.7806514Z",
       "execution_start_time": "2023-09-07T17:35:57.8818261Z",
       "livy_statement_state": "available",
       "parent_msg_id": "46d4a065-9db1-4122-8046-2fca8c17a124",
       "queued_time": "2023-09-07T17:33:48.2603042Z",
       "session_id": "32e3c016-db9c-4f83-b8c0-f7af0f59032f",
       "session_start_time": null,
       "spark_jobs": {
        "jobs": [],
        "limit": 20,
        "numbers": {
         "FAILED": 0,
         "RUNNING": 0,
         "SUCCEEDED": 0,
         "UNKNOWN": 0
        },
        "rule": "ALL_DESC"
       },
       "spark_pool": null,
       "state": "finished",
       "statement_id": 39
      },
      "text/plain": [
       "StatementMeta(, 32e3c016-db9c-4f83-b8c0-f7af0f59032f, 39, Finished, Available)"
      ]
     },
     "metadata": {},
     "output_type": "display_data"
    },
    {
     "name": "stderr",
     "output_type": "stream",
     "text": [
      "/opt/spark/python/lib/pyspark.zip/pyspark/sql/pandas/functions.py:394: UserWarning: In Python 3.6+ and Spark 3.0+, it is preferred to specify type hints for pandas UDF instead of specifying pandas UDF type which will be deprecated in the future releases. See SPARK-28264 for more details.\n",
      "/opt/spark/python/lib/pyspark.zip/pyspark/sql/pandas/conversion.py:604: FutureWarning: iteritems is deprecated and will be removed in a future version. Use .items instead.\n",
      "  [(c, t) for (_, c), t in zip(pdf_slice.iteritems(), arrow_types)]\n"
     ]
    }
   ],
   "source": [
    "from synapse.ml.predict import MLFlowTransformer\n",
    "\n",
    "spark.conf.set(\"spark.synapse.ml.predict.enabled\", \"true\")\n",
    "\n",
    "model = MLFlowTransformer(\n",
    "    inputCols=feature_cols,\n",
    "    outputCol=\"prediction\",\n",
    "    modelName=f\"{EXPERIMENT_NAME}-lightgbm\",\n",
    "    modelVersion=2,\n",
    ")\n",
    "\n",
    "test_spark = spark.createDataFrame(data=test, schema=test.columns.to_list())\n",
    "\n",
    "batch_predictions = model.transform(test_spark)"
   ]
  },
  {
   "cell_type": "markdown",
   "id": "600666a4-cda8-4cae-bd6d-4eef4a8a3ec9",
   "metadata": {
    "nteract": {
     "transient": {
      "deleting": false
     }
    }
   },
   "source": [
    "2. Save predictions into the lakehouse."
   ]
  },
  {
   "cell_type": "code",
   "execution_count": null,
   "id": "a7ef7893-a41e-4f09-a718-a4f4e59fc044",
   "metadata": {
    "jupyter": {
     "outputs_hidden": false,
     "source_hidden": false
    },
    "nteract": {
     "transient": {
      "deleting": false
     }
    }
   },
   "outputs": [
    {
     "data": {
      "application/vnd.livy.statement-meta+json": {
       "execution_finish_time": "2023-09-07T17:36:09.2490217Z",
       "execution_start_time": "2023-09-07T17:35:59.0400783Z",
       "livy_statement_state": "available",
       "parent_msg_id": "882640b8-00a6-46e5-8d27-48488b6cffa8",
       "queued_time": "2023-09-07T17:33:48.2611199Z",
       "session_id": "32e3c016-db9c-4f83-b8c0-f7af0f59032f",
       "session_start_time": null,
       "spark_jobs": {
        "jobs": [
         {
          "completionTime": "2023-09-07T17:36:08.214GMT",
          "dataRead": 4492,
          "dataWritten": 0,
          "description": "Delta: Job group for statement 40:\n# Save the predictions into the lakehouse\nbatch_predictions.write.format(\"delta\").mode(\"overwrite\").save(f\"{DATA_FOLDER}/predictions/batch_predictions\"): Compute snapshot for version: 0",
          "displayName": "toString at String.java:2994",
          "jobGroup": "40",
          "jobId": 55,
          "killedTasksSummary": {},
          "name": "toString at String.java:2994",
          "numActiveStages": 0,
          "numActiveTasks": 0,
          "numCompletedIndices": 1,
          "numCompletedStages": 1,
          "numCompletedTasks": 1,
          "numFailedStages": 0,
          "numFailedTasks": 0,
          "numKilledTasks": 0,
          "numSkippedStages": 2,
          "numSkippedTasks": 51,
          "numTasks": 52,
          "rowCount": 50,
          "stageIds": [
           118,
           119,
           120
          ],
          "status": "SUCCEEDED",
          "submissionTime": "2023-09-07T17:36:08.170GMT",
          "usageDescription": ""
         },
         {
          "completionTime": "2023-09-07T17:36:08.123GMT",
          "dataRead": 3006,
          "dataWritten": 4492,
          "description": "Delta: Job group for statement 40:\n# Save the predictions into the lakehouse\nbatch_predictions.write.format(\"delta\").mode(\"overwrite\").save(f\"{DATA_FOLDER}/predictions/batch_predictions\"): Compute snapshot for version: 0",
          "displayName": "toString at String.java:2994",
          "jobGroup": "40",
          "jobId": 54,
          "killedTasksSummary": {},
          "name": "toString at String.java:2994",
          "numActiveStages": 0,
          "numActiveTasks": 0,
          "numCompletedIndices": 50,
          "numCompletedStages": 1,
          "numCompletedTasks": 50,
          "numFailedStages": 0,
          "numFailedTasks": 0,
          "numKilledTasks": 0,
          "numSkippedStages": 1,
          "numSkippedTasks": 1,
          "numTasks": 51,
          "rowCount": 54,
          "stageIds": [
           117,
           116
          ],
          "status": "SUCCEEDED",
          "submissionTime": "2023-09-07T17:36:07.477GMT",
          "usageDescription": ""
         },
         {
          "completionTime": "2023-09-07T17:36:07.026GMT",
          "dataRead": 5163,
          "dataWritten": 3006,
          "description": "Delta: Job group for statement 40:\n# Save the predictions into the lakehouse\nbatch_predictions.write.format(\"delta\").mode(\"overwrite\").save(f\"{DATA_FOLDER}/predictions/batch_predictions\"): Compute snapshot for version: 0",
          "displayName": "toString at String.java:2994",
          "jobGroup": "40",
          "jobId": 53,
          "killedTasksSummary": {},
          "name": "toString at String.java:2994",
          "numActiveStages": 0,
          "numActiveTasks": 0,
          "numCompletedIndices": 1,
          "numCompletedStages": 1,
          "numCompletedTasks": 1,
          "numFailedStages": 0,
          "numFailedTasks": 0,
          "numKilledTasks": 0,
          "numSkippedStages": 0,
          "numSkippedTasks": 0,
          "numTasks": 1,
          "rowCount": 8,
          "stageIds": [
           115
          ],
          "status": "SUCCEEDED",
          "submissionTime": "2023-09-07T17:36:06.945GMT",
          "usageDescription": ""
         },
         {
          "completionTime": "2023-09-07T17:36:06.454GMT",
          "dataRead": 0,
          "dataWritten": 0,
          "description": "Job group for statement 40:\n# Save the predictions into the lakehouse\nbatch_predictions.write.format(\"delta\").mode(\"overwrite\").save(f\"{DATA_FOLDER}/predictions/batch_predictions\")",
          "displayName": "Job group for statement 40:\n# Save the predictions into the lakehouse\nbatch_predictions.write.format(\"delta\").mode(\"overwrite\").save(f\"{DATA_FOLDER}/predictions/batch_predictions\")",
          "jobGroup": "40",
          "jobId": 52,
          "killedTasksSummary": {},
          "name": "",
          "numActiveStages": 0,
          "numActiveTasks": 0,
          "numCompletedIndices": 0,
          "numCompletedStages": 0,
          "numCompletedTasks": 0,
          "numFailedStages": 0,
          "numFailedTasks": 0,
          "numKilledTasks": 0,
          "numSkippedStages": 0,
          "numSkippedTasks": 0,
          "numTasks": 0,
          "rowCount": 0,
          "stageIds": [],
          "status": "SUCCEEDED",
          "submissionTime": "2023-09-07T17:36:06.454GMT",
          "usageDescription": ""
         },
         {
          "completionTime": "2023-09-07T17:36:06.284GMT",
          "dataRead": 10318216,
          "dataWritten": 12259039,
          "description": "Job group for statement 40:\n# Save the predictions into the lakehouse\nbatch_predictions.write.format(\"delta\").mode(\"overwrite\").save(f\"{DATA_FOLDER}/predictions/batch_predictions\")",
          "displayName": "save at NativeMethodAccessorImpl.java:0",
          "jobGroup": "40",
          "jobId": 51,
          "killedTasksSummary": {},
          "name": "save at NativeMethodAccessorImpl.java:0",
          "numActiveStages": 0,
          "numActiveTasks": 0,
          "numCompletedIndices": 1,
          "numCompletedStages": 1,
          "numCompletedTasks": 1,
          "numFailedStages": 0,
          "numFailedTasks": 0,
          "numKilledTasks": 0,
          "numSkippedStages": 1,
          "numSkippedTasks": 8,
          "numTasks": 9,
          "rowCount": 85444,
          "stageIds": [
           114,
           113
          ],
          "status": "SUCCEEDED",
          "submissionTime": "2023-09-07T17:36:05.282GMT",
          "usageDescription": ""
         },
         {
          "completionTime": "2023-09-07T17:36:05.138GMT",
          "dataRead": 0,
          "dataWritten": 10318216,
          "description": "Job group for statement 40:\n# Save the predictions into the lakehouse\nbatch_predictions.write.format(\"delta\").mode(\"overwrite\").save(f\"{DATA_FOLDER}/predictions/batch_predictions\")",
          "displayName": "save at NativeMethodAccessorImpl.java:0",
          "jobGroup": "40",
          "jobId": 50,
          "killedTasksSummary": {},
          "name": "save at NativeMethodAccessorImpl.java:0",
          "numActiveStages": 0,
          "numActiveTasks": 0,
          "numCompletedIndices": 8,
          "numCompletedStages": 1,
          "numCompletedTasks": 8,
          "numFailedStages": 0,
          "numFailedTasks": 0,
          "numKilledTasks": 0,
          "numSkippedStages": 0,
          "numSkippedTasks": 0,
          "numTasks": 8,
          "rowCount": 42722,
          "stageIds": [
           112
          ],
          "status": "SUCCEEDED",
          "submissionTime": "2023-09-07T17:35:59.308GMT",
          "usageDescription": ""
         }
        ],
        "limit": 20,
        "numbers": {
         "FAILED": 0,
         "RUNNING": 0,
         "SUCCEEDED": 6,
         "UNKNOWN": 0
        },
        "rule": "ALL_DESC"
       },
       "spark_pool": null,
       "state": "finished",
       "statement_id": 40
      },
      "text/plain": [
       "StatementMeta(, 32e3c016-db9c-4f83-b8c0-f7af0f59032f, 40, Finished, Available)"
      ]
     },
     "metadata": {},
     "output_type": "display_data"
    }
   ],
   "source": [
    "# Save the predictions into the lakehouse\n",
    "batch_predictions.write.format(\"delta\").mode(\"overwrite\").save(f\"{DATA_FOLDER}/predictions/batch_predictions\")"
   ]
  },
  {
   "cell_type": "code",
   "execution_count": null,
   "id": "7b499738-7a5f-4cb0-98db-efe7a0926d3e",
   "metadata": {
    "jupyter": {
     "outputs_hidden": false,
     "source_hidden": false
    },
    "nteract": {
     "transient": {
      "deleting": false
     }
    }
   },
   "outputs": [
    {
     "data": {
      "application/vnd.livy.statement-meta+json": {
       "execution_finish_time": "2023-09-07T17:36:12.0426873Z",
       "execution_start_time": "2023-09-07T17:36:09.5084089Z",
       "livy_statement_state": "available",
       "parent_msg_id": "a861bccf-f3f0-4d0f-ae6c-94cc5b46d11a",
       "queued_time": "2023-09-07T17:33:48.2619444Z",
       "session_id": "32e3c016-db9c-4f83-b8c0-f7af0f59032f",
       "session_start_time": null,
       "spark_jobs": {
        "jobs": [
         {
          "completionTime": "2023-09-07T17:36:11.281GMT",
          "dataRead": 0,
          "dataWritten": 10179,
          "description": "Job group for statement 41:\n# Determine the entire runtime\nbatch_predictions.limit(5).toPandas()\nprint(f\"Full run cost {int(time.time() - ts)} seconds.\")",
          "displayName": "toPandas at /tmp/ipykernel_14514/2174249209.py:2",
          "jobGroup": "41",
          "jobId": 56,
          "killedTasksSummary": {},
          "name": "toPandas at /tmp/ipykernel_14514/2174249209.py:2",
          "numActiveStages": 0,
          "numActiveTasks": 0,
          "numCompletedIndices": 9,
          "numCompletedStages": 2,
          "numCompletedTasks": 9,
          "numFailedStages": 0,
          "numFailedTasks": 0,
          "numKilledTasks": 0,
          "numSkippedStages": 0,
          "numSkippedTasks": 0,
          "numTasks": 9,
          "rowCount": 40,
          "stageIds": [
           121,
           122
          ],
          "status": "SUCCEEDED",
          "submissionTime": "2023-09-07T17:36:09.707GMT",
          "usageDescription": ""
         }
        ],
        "limit": 20,
        "numbers": {
         "FAILED": 0,
         "RUNNING": 0,
         "SUCCEEDED": 1,
         "UNKNOWN": 0
        },
        "rule": "ALL_DESC"
       },
       "spark_pool": null,
       "state": "finished",
       "statement_id": 41
      },
      "text/plain": [
       "StatementMeta(, 32e3c016-db9c-4f83-b8c0-f7af0f59032f, 41, Finished, Available)"
      ]
     },
     "metadata": {},
     "output_type": "display_data"
    },
    {
     "name": "stdout",
     "output_type": "stream",
     "text": [
      "Full run cost 102 seconds.\n"
     ]
    }
   ],
   "source": [
    "# Determine the entire runtime\n",
    "batch_predictions.limit(5).toPandas()\n",
    "print(f\"Full run cost {int(time.time() - ts)} seconds.\")"
   ]
  }
 ],
 "metadata": {
  "kernel_info": {
   "name": "synapse_pyspark"
  },
  "kernelspec": {
   "display_name": "Synapse PySpark",
   "language": "Python",
   "name": "synapse_pyspark"
  },
  "language_info": {
   "name": "python"
  },
  "notebook_environment": {},
  "nteract": {
   "version": "nteract-front-end@1.0.0"
  },
  "save_output": true,
  "spark_compute": {
   "compute_id": "/trident/default",
   "session_options": {
    "conf": {},
    "enableDebugMode": false
   }
  }
 },
 "nbformat": 4,
 "nbformat_minor": 5
}
