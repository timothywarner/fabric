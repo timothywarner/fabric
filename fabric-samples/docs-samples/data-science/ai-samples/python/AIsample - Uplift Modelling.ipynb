{
 "cells": [
  {
   "cell_type": "markdown",
   "id": "af6c52ee-d000-4328-83c3-897c06ca276b",
   "metadata": {},
   "source": [
    "# Create, evaluate, and score an uplift model"
   ]
  },
  {
   "cell_type": "markdown",
   "id": "9cfd8e82-be33-4c90-aac7-47d397862ebc",
   "metadata": {
    "nteract": {
     "transient": {
      "deleting": false
     }
    }
   },
   "source": [
    "## Introduction\n",
    "\n",
    "This notebook demonstrates the data science work flow with an end-to-end example. The notebook creates, trains, and evaluates an uplift model that refers to a collection of machine learning techniques. These techniques are used to estimate the incremental effects of a treatment on the behavior of an individual or a sub-group. \n",
    "\n",
    "This notebook covers these topics:\n",
    "\n",
    "1. Load the data\n",
    "2. Understand and process the data through exploratory data analysis\n",
    "3. Train a machine learning model with an uplift model\n",
    "4. Save the final machine learning model\n",
    "5. Load the machine learning model for scoring and making predictions\n",
    "\n",
    "## Prerequisites\n",
    "\n",
    "- [Add a lakehouse](https://aka.ms/fabric/addlakehouse) to this notebook. You will download data from a public blob, then store the data in the lakehouse resource."
   ]
  },
  {
   "cell_type": "markdown",
   "id": "58090d36-f361-4a8e-8a93-80fba833a43e",
   "metadata": {
    "nteract": {
     "transient": {
      "deleting": false
     }
    }
   },
   "source": [
    "### What is uplift modeling?\n",
    "\n",
    "Uplift modeling relies on a set of causal inference techniques that utilize machine learning models to identify the most suitable treatment, from a group of possible treatments, that leads to the most desirable outcome. Study of both a treatment group - individuals who undergo a treatment - and a control group - individuals who do not undergo that treatment - determines outcome desirability. This approach classifies individuals into four main subgroups within a population:\n",
    "\n",
    "- **Persuadables**: This group of individuals will respond positively only when given the treatment.\n",
    "- **Sleeping-dogs**: This group of individuals will show a strong negative response to the treatment.\n",
    "- **Lost Causes**: This group of individuals will never achieve the desired outcome, even with the treatment.\n",
    "- **Sure Things**: This group of individuals will achieve the outcome regardless of whether they receive the treatment or not.\n",
    "\n",
    "For its primary objective, uplift modeling identifies the **\"persuadables\"**, since a focus on them can lead to a more favorable outcome. Conversely, efforts directed toward the **\"lost causes\"** and **\"sure things\"** groups would become ineffective, and the **\"sleeping dogs\"** group could potentially result in negative outcomes. Uplift modeling finds practical applications in various fields\n",
    "\n",
    "- marketing\n",
    "- healthcare\n",
    "- social sciences\n",
    "- etc.\n",
    "\n",
    "where it optimizes decision-making and it enhances the effectiveness of interventions.\n",
    "\n",
    "### Uplift modeling\n",
    "\n",
    "The main techniques used for uplift modeling include:\n",
    "\n",
    "- Meta Learner, to predict the difference between an individual's behavior when the individual undergoes a treatment, and when not undergoing a treatment.\n",
    "\n",
    "- Uplift Tree, a tree-based algorithm that combines both treatment/control group assignment information and response information directly into decisions about splitting criterion for a node.\n",
    "\n",
    "- Neural Network-based Model, which usually works with observational data. It uses deep learning to help determine the distribution of a latent variable. The latent variable represents the co-founder in the uplift modeling.\n",
    "\n",
    "### Uplift modeling offers benefits\n",
    "\n",
    "- For marketing applications, uplift modeling can help identify persuadables who can potentially be swayed to try the treatment. The outreach to identify persuadables could involve a coupon or an online advertisement, for example.\n",
    "- For medical treatments, uplift modeling can help measure how a particular treatment can impact distinct groups. This allows for optimized target selection, to maximize the impact.\n"
   ]
  },
  {
   "cell_type": "markdown",
   "id": "10b9dec8-622d-4f6c-8b4c-23dc3505ede9",
   "metadata": {
    "nteract": {
     "transient": {
      "deleting": false
     }
    }
   },
   "source": [
    "## Step 1: Load the data"
   ]
  },
  {
   "cell_type": "markdown",
   "id": "84827e55-bd4e-4ec4-b29f-54d866ac71af",
   "metadata": {
    "nteract": {
     "transient": {
      "deleting": false
     }
    }
   },
   "source": [
    "#### Dataset\n",
    "\n",
    "The Criteo AI Lab created the dataset. That dataset has 13M rows. Each row represents one user. Each row has twelve features, a treatment indicator, and two binary labels that include visit and conversion.\n",
    "\n",
    "|f0|f1|f2|f3|f4|f5|f6|f7|f8|f9|f10|f11|treatment|conversion|visit|\n",
    "|---|---|---|---|---|---|---|---|---|---|---|---|---|---|---|\n",
    "\n",
    "- **f0 - f11**: feature values (dense, floating values)\n",
    "- **treatment**: whether or not a user was randomly targeted for treatment (e.g., advertising) (1 = treatment, 0 = control)\n",
    "- **conversion**: whether a conversion occurred (e.g., made a purchase) for a user (binary, label)\n",
    "- **visit**: whether a visit occurred (e.g., visit the online store) for a user (binary, label)\n",
    "\n",
    "#### Citation\n",
    "\n",
    "- Dataset homepage: https://ailab.criteo.com/criteo-uplift-prediction-dataset/\n",
    "\n",
    "The dataset used for this notebook requires this BibTex citation:\n",
    "\n",
    "    @inproceedings{Diemert2018,\n",
    "    author = {{Diemert Eustache, Betlei Artem} and Renaudin, Christophe and Massih-Reza, Amini},\n",
    "    title={A Large Scale Benchmark for Uplift Modeling},\n",
    "    publisher = {ACM},\n",
    "    booktitle = {Proceedings of the AdKDD and TargetAd Workshop, KDD, London,United Kingdom, August, 20, 2018},\n",
    "    year = {2018}\n",
    "    }"
   ]
  },
  {
   "cell_type": "markdown",
   "id": "961661cc-00ad-461a-a882-13047b7bfe92",
   "metadata": {
    "nteract": {
     "transient": {
      "deleting": false
     }
    }
   },
   "source": [
    "> [!TIP]\n",
    "> By defining the following parameters, you can apply this notebook on different datasets easily."
   ]
  },
  {
   "cell_type": "code",
   "execution_count": null,
   "id": "daaeb770-009e-4924-85d2-57c7b6a874d5",
   "metadata": {
    "jupyter": {
     "outputs_hidden": false,
     "source_hidden": false
    },
    "nteract": {
     "transient": {
      "deleting": false
     }
    }
   },
   "outputs": [
    {
     "data": {
      "application/vnd.livy.statement-meta+json": {
       "execution_finish_time": "2023-09-08T23:19:54.0020297Z",
       "execution_start_time": "2023-09-08T23:19:51.842555Z",
       "livy_statement_state": "available",
       "parent_msg_id": "b2d44fdf-1a04-44c6-8c2c-2996e2c58b4d",
       "queued_time": "2023-09-08T23:19:41.8542719Z",
       "session_id": "bb877a9c-c8cf-471c-98da-25e85626530f",
       "session_start_time": "2023-09-08T23:19:41.9610298Z",
       "spark_jobs": {
        "jobs": [],
        "limit": 20,
        "numbers": {
         "FAILED": 0,
         "RUNNING": 0,
         "SUCCEEDED": 0,
         "UNKNOWN": 0
        },
        "rule": "ALL_DESC"
       },
       "spark_pool": null,
       "state": "finished",
       "statement_id": 3
      },
      "text/plain": [
       "StatementMeta(, bb877a9c-c8cf-471c-98da-25e85626530f, 3, Finished, Available)"
      ]
     },
     "metadata": {},
     "output_type": "display_data"
    }
   ],
   "source": [
    "IS_CUSTOM_DATA = False  # if True, dataset has to be uploaded manually by user\n",
    "DATA_FOLDER = \"Files/uplift-modelling\"\n",
    "DATA_FILE = \"criteo-research-uplift-v2.1.csv\"\n",
    "\n",
    "FEATURE_COLUMNS = [f\"f{i}\" for i in range(12)]\n",
    "TREATMENT_COLUMN = \"treatment\"\n",
    "LABEL_COLUMN = \"visit\"\n",
    "\n",
    "EXPERIMENT_NAME = \"aisample-upliftmodelling\"  # MLflow experiment name"
   ]
  },
  {
   "cell_type": "markdown",
   "id": "cb5b5a1c-ff44-4706-9c7d-e51c161930aa",
   "metadata": {
    "nteract": {
     "transient": {
      "deleting": false
     }
    }
   },
   "source": [
    "#### Import libraries\n",
    "\n",
    "Before processing, you must import required Spark and SynapseML libraries. You must also import a data visualization library - for example, Seaborn, a Python data visualization library. A data visualization library provides a high-level interface to build visual resources on DataFrames and arrays. Learn more about [Spark](https://spark.apache.org/), [SynapseML](https://aka.ms/AboutSynapseML) and [Seaborn](https://seaborn.pydata.org/)."
   ]
  },
  {
   "cell_type": "code",
   "execution_count": null,
   "id": "723d006f-fc57-4207-a5e5-b604bff6df98",
   "metadata": {},
   "outputs": [
    {
     "data": {
      "application/vnd.livy.statement-meta+json": {
       "execution_finish_time": "2023-09-08T23:20:02.8182102Z",
       "execution_start_time": "2023-09-08T23:19:54.2727167Z",
       "livy_statement_state": "available",
       "parent_msg_id": "3f2ee30d-1c04-40d2-a3af-dd82249dcf21",
       "queued_time": "2023-09-08T23:19:41.8549165Z",
       "session_id": "bb877a9c-c8cf-471c-98da-25e85626530f",
       "session_start_time": null,
       "spark_jobs": {
        "jobs": [],
        "limit": 20,
        "numbers": {
         "FAILED": 0,
         "RUNNING": 0,
         "SUCCEEDED": 0,
         "UNKNOWN": 0
        },
        "rule": "ALL_DESC"
       },
       "spark_pool": null,
       "state": "finished",
       "statement_id": 4
      },
      "text/plain": [
       "StatementMeta(, bb877a9c-c8cf-471c-98da-25e85626530f, 4, Finished, Available)"
      ]
     },
     "metadata": {},
     "output_type": "display_data"
    }
   ],
   "source": [
    "import os\n",
    "import gzip\n",
    "\n",
    "import pyspark.sql.functions as F\n",
    "from pyspark.sql.window import Window\n",
    "from pyspark.sql.types import *\n",
    "\n",
    "import numpy as np\n",
    "import pandas as pd\n",
    "\n",
    "import matplotlib as mpl\n",
    "import matplotlib.pyplot as plt\n",
    "import matplotlib.style as style\n",
    "import seaborn as sns\n",
    "\n",
    "%matplotlib inline\n",
    "\n",
    "from synapse.ml.featurize import Featurize\n",
    "from synapse.ml.core.spark import FluentAPI\n",
    "from synapse.ml.lightgbm import *\n",
    "from synapse.ml.train import ComputeModelStatistics\n",
    "\n",
    "import mlflow"
   ]
  },
  {
   "cell_type": "markdown",
   "id": "81d10e4c-eb33-41e1-a3ef-4ee9c4e481b2",
   "metadata": {
    "nteract": {
     "transient": {
      "deleting": false
     }
    }
   },
   "source": [
    "#### Download a dataset and upload to lakehouse\n",
    "\n",
    "This code downloads a publicly available version of the dataset, and then stores that data resource in a Fabric lakehouse.\n",
    "\n",
    "> [!IMPORTANT]\n",
    "> **Make sure you [add a lakehouse](https://aka.ms/fabric/addlakehouse) to the notebook before running it. Failure to do so will result in an error.**"
   ]
  },
  {
   "cell_type": "code",
   "execution_count": null,
   "id": "2bd24839-523a-4424-be50-ace09179278e",
   "metadata": {
    "jupyter": {
     "outputs_hidden": false,
     "source_hidden": false
    },
    "nteract": {
     "transient": {
      "deleting": false
     }
    }
   },
   "outputs": [
    {
     "data": {
      "application/vnd.livy.statement-meta+json": {
       "execution_finish_time": "2023-09-08T23:20:04.0712302Z",
       "execution_start_time": "2023-09-08T23:20:03.097957Z",
       "livy_statement_state": "available",
       "parent_msg_id": "a3c13bc2-7945-4ac3-be81-82df2411480c",
       "queued_time": "2023-09-08T23:19:41.8557708Z",
       "session_id": "bb877a9c-c8cf-471c-98da-25e85626530f",
       "session_start_time": null,
       "spark_jobs": {
        "jobs": [],
        "limit": 20,
        "numbers": {
         "FAILED": 0,
         "RUNNING": 0,
         "SUCCEEDED": 0,
         "UNKNOWN": 0
        },
        "rule": "ALL_DESC"
       },
       "spark_pool": null,
       "state": "finished",
       "statement_id": 5
      },
      "text/plain": [
       "StatementMeta(, bb877a9c-c8cf-471c-98da-25e85626530f, 5, Finished, Available)"
      ]
     },
     "metadata": {},
     "output_type": "display_data"
    },
    {
     "name": "stdout",
     "output_type": "stream",
     "text": [
      "Downloaded demo data files into lakehouse.\n"
     ]
    }
   ],
   "source": [
    "if not IS_CUSTOM_DATA:\n",
    "    # Download demo data files into lakehouse if not exist\n",
    "    import os, requests\n",
    "\n",
    "    remote_url = \"http://go.criteo.net/criteo-research-uplift-v2.1.csv.gz\"\n",
    "    download_file = \"criteo-research-uplift-v2.1.csv.gz\"\n",
    "    download_path = f\"/lakehouse/default/{DATA_FOLDER}/raw\"\n",
    "\n",
    "    if not os.path.exists(\"/lakehouse/default\"):\n",
    "        raise FileNotFoundError(\"Default lakehouse not found, please add a lakehouse and restart the session.\")\n",
    "    os.makedirs(download_path, exist_ok=True)\n",
    "    if not os.path.exists(f\"{download_path}/{DATA_FILE}\"):\n",
    "        r = requests.get(f\"{remote_url}\", timeout=30)\n",
    "        with open(f\"{download_path}/{download_file}\", \"wb\") as f:\n",
    "            f.write(r.content)\n",
    "        with gzip.open(f\"{download_path}/{download_file}\", \"rb\") as fin:\n",
    "            with open(f\"{download_path}/{DATA_FILE}\", \"wb\") as fout:\n",
    "                fout.write(fin.read())\n",
    "    print(\"Downloaded demo data files into lakehouse.\")"
   ]
  },
  {
   "cell_type": "markdown",
   "id": "3bb4bcc6-6c72-4370-9c00-2257432a2861",
   "metadata": {
    "nteract": {
     "transient": {
      "deleting": false
     }
    }
   },
   "source": [
    "Start recording the runtime of this notebook."
   ]
  },
  {
   "cell_type": "code",
   "execution_count": null,
   "id": "b28508a8-71c5-4351-a0ad-9df05fcf8b8a",
   "metadata": {},
   "outputs": [
    {
     "data": {
      "application/vnd.livy.statement-meta+json": {
       "execution_finish_time": "2023-09-08T23:20:04.6942959Z",
       "execution_start_time": "2023-09-08T23:20:04.3545298Z",
       "livy_statement_state": "available",
       "parent_msg_id": "60655387-8bf6-4f65-8df8-743d0e0e1056",
       "queued_time": "2023-09-08T23:19:41.8565475Z",
       "session_id": "bb877a9c-c8cf-471c-98da-25e85626530f",
       "session_start_time": null,
       "spark_jobs": {
        "jobs": [],
        "limit": 20,
        "numbers": {
         "FAILED": 0,
         "RUNNING": 0,
         "SUCCEEDED": 0,
         "UNKNOWN": 0
        },
        "rule": "ALL_DESC"
       },
       "spark_pool": null,
       "state": "finished",
       "statement_id": 6
      },
      "text/plain": [
       "StatementMeta(, bb877a9c-c8cf-471c-98da-25e85626530f, 6, Finished, Available)"
      ]
     },
     "metadata": {},
     "output_type": "display_data"
    }
   ],
   "source": [
    "# Record the notebook running time\n",
    "import time\n",
    "\n",
    "ts = time.time()"
   ]
  },
  {
   "cell_type": "markdown",
   "id": "b9af9f97-a377-4508-af1a-6aad555e8f21",
   "metadata": {
    "nteract": {
     "transient": {
      "deleting": false
     }
    }
   },
   "source": [
    "#### Set up the MLflow experiment tracking\n",
    "\n",
    "To extend the MLflow logging capabilities, autologging automatically captures the values of input parameters and output metrics of a machine learning model during its training. This information is then logged to the workspace, where the MLflow APIs or the corresponding experiment in the workspace can access and visualize it. Visit [this resource](https://aka.ms/fabric-autologging) for more information about autologging."
   ]
  },
  {
   "cell_type": "code",
   "execution_count": null,
   "id": "ab02f4a4-fa06-4e06-992f-82c3e3c731fc",
   "metadata": {},
   "outputs": [
    {
     "data": {
      "application/vnd.livy.statement-meta+json": {
       "execution_finish_time": "2023-09-08T23:20:07.5388883Z",
       "execution_start_time": "2023-09-08T23:20:04.9579369Z",
       "livy_statement_state": "available",
       "parent_msg_id": "62bbb9e6-2b00-4fbb-9e53-15d0d004542c",
       "queued_time": "2023-09-08T23:19:41.8575066Z",
       "session_id": "bb877a9c-c8cf-471c-98da-25e85626530f",
       "session_start_time": null,
       "spark_jobs": {
        "jobs": [],
        "limit": 20,
        "numbers": {
         "FAILED": 0,
         "RUNNING": 0,
         "SUCCEEDED": 0,
         "UNKNOWN": 0
        },
        "rule": "ALL_DESC"
       },
       "spark_pool": null,
       "state": "finished",
       "statement_id": 7
      },
      "text/plain": [
       "StatementMeta(, bb877a9c-c8cf-471c-98da-25e85626530f, 7, Finished, Available)"
      ]
     },
     "metadata": {},
     "output_type": "display_data"
    }
   ],
   "source": [
    "# Set up the MLflow experiment\n",
    "import mlflow\n",
    "\n",
    "mlflow.set_experiment(EXPERIMENT_NAME)\n",
    "mlflow.autolog(disable=True)  # Disable MLflow autologging"
   ]
  },
  {
   "cell_type": "markdown",
   "id": "3819a24e-6a70-40b0-999b-4b07b93c83d2",
   "metadata": {
    "nteract": {
     "transient": {
      "deleting": false
     }
    }
   },
   "source": [
    "> [!NOTE]\n",
    "> If you want to disable Microsoft Fabric autologging in a notebook session, call `mlflow.autolog()` and set `disable=True`."
   ]
  },
  {
   "cell_type": "markdown",
   "id": "dfda728c-6966-44e6-9af5-2ed83447aac7",
   "metadata": {
    "nteract": {
     "transient": {
      "deleting": false
     }
    }
   },
   "source": [
    "#### Read data from the lakehouse\n",
    "\n",
    "Read raw data from the lakehouse **Files** section and add additional columns for different date parts. The same information will be used to create a partitioned delta table."
   ]
  },
  {
   "cell_type": "code",
   "execution_count": null,
   "id": "7b4bb2f6-71db-457f-b702-9b9bf8e303c0",
   "metadata": {
    "jupyter": {
     "outputs_hidden": false,
     "source_hidden": false
    },
    "nteract": {
     "transient": {
      "deleting": false
     }
    }
   },
   "outputs": [
    {
     "data": {
      "application/vnd.livy.statement-meta+json": {
       "execution_finish_time": "2023-09-08T23:20:39.312766Z",
       "execution_start_time": "2023-09-08T23:20:07.8106883Z",
       "livy_statement_state": "available",
       "parent_msg_id": "b61e2571-9204-4681-88d9-c2864d64f2d0",
       "queued_time": "2023-09-08T23:19:41.8586182Z",
       "session_id": "bb877a9c-c8cf-471c-98da-25e85626530f",
       "session_start_time": null,
       "spark_jobs": {
        "jobs": [
         {
          "completionTime": "2023-09-08T23:20:38.664GMT",
          "dataRead": 3249688085,
          "dataWritten": 0,
          "description": "Job group for statement 8:\nraw_df = spark.read.csv(f\"{DATA_FOLDER}/raw/{DATA_FILE}\", header=True, inferSchema=True).cache()",
          "displayName": "csv at NativeMethodAccessorImpl.java:0",
          "jobGroup": "8",
          "jobId": 9,
          "killedTasksSummary": {},
          "name": "csv at NativeMethodAccessorImpl.java:0",
          "numActiveStages": 0,
          "numActiveTasks": 0,
          "numCompletedIndices": 25,
          "numCompletedStages": 1,
          "numCompletedTasks": 25,
          "numFailedStages": 0,
          "numFailedTasks": 0,
          "numKilledTasks": 0,
          "numSkippedStages": 0,
          "numSkippedTasks": 0,
          "numTasks": 25,
          "rowCount": 13979593,
          "stageIds": [
           13
          ],
          "status": "SUCCEEDED",
          "submissionTime": "2023-09-08T23:20:10.676GMT",
          "usageDescription": ""
         },
         {
          "completionTime": "2023-09-08T23:20:10.543GMT",
          "dataRead": 65536,
          "dataWritten": 0,
          "description": "Job group for statement 8:\nraw_df = spark.read.csv(f\"{DATA_FOLDER}/raw/{DATA_FILE}\", header=True, inferSchema=True).cache()",
          "displayName": "csv at NativeMethodAccessorImpl.java:0",
          "jobGroup": "8",
          "jobId": 8,
          "killedTasksSummary": {},
          "name": "csv at NativeMethodAccessorImpl.java:0",
          "numActiveStages": 0,
          "numActiveTasks": 0,
          "numCompletedIndices": 1,
          "numCompletedStages": 1,
          "numCompletedTasks": 1,
          "numFailedStages": 0,
          "numFailedTasks": 0,
          "numKilledTasks": 0,
          "numSkippedStages": 0,
          "numSkippedTasks": 0,
          "numTasks": 1,
          "rowCount": 1,
          "stageIds": [
           12
          ],
          "status": "SUCCEEDED",
          "submissionTime": "2023-09-08T23:20:10.053GMT",
          "usageDescription": ""
         }
        ],
        "limit": 20,
        "numbers": {
         "FAILED": 0,
         "RUNNING": 0,
         "SUCCEEDED": 2,
         "UNKNOWN": 0
        },
        "rule": "ALL_DESC"
       },
       "spark_pool": null,
       "state": "finished",
       "statement_id": 8
      },
      "text/plain": [
       "StatementMeta(, bb877a9c-c8cf-471c-98da-25e85626530f, 8, Finished, Available)"
      ]
     },
     "metadata": {},
     "output_type": "display_data"
    }
   ],
   "source": [
    "raw_df = spark.read.csv(f\"{DATA_FOLDER}/raw/{DATA_FILE}\", header=True, inferSchema=True).cache()"
   ]
  },
  {
   "cell_type": "markdown",
   "id": "ce193d37-2b0d-4839-b9c0-66ddc2a47f89",
   "metadata": {
    "nteract": {
     "transient": {
      "deleting": false
     }
    }
   },
   "source": [
    "## Step 2: Exploratory data analysis"
   ]
  },
  {
   "cell_type": "markdown",
   "id": "6490f765",
   "metadata": {},
   "source": [
    "Use the `display` command to view high-level statistics about the dataset. You can also show the Chart views to easily visualize subsets of the dataset."
   ]
  },
  {
   "cell_type": "code",
   "execution_count": null,
   "id": "1b1e69b2",
   "metadata": {},
   "outputs": [
    {
     "data": {
      "application/vnd.livy.statement-meta+json": {
       "execution_finish_time": "2023-09-08T23:21:07.843199Z",
       "execution_start_time": "2023-09-08T23:20:39.5768741Z",
       "livy_statement_state": "available",
       "parent_msg_id": "f7d88ddd-571b-46a1-8a04-aae94ed0adec",
       "queued_time": "2023-09-08T23:19:41.8596072Z",
       "session_id": "bb877a9c-c8cf-471c-98da-25e85626530f",
       "session_start_time": null,
       "spark_jobs": {
        "jobs": [
         {
          "completionTime": "2023-09-08T23:21:06.600GMT",
          "dataRead": 0,
          "dataWritten": 0,
          "description": "Job group for statement 9:\ndisplay(raw_df.limit(20))",
          "displayName": "getRowsInJsonString at Display.scala:452",
          "jobGroup": "9",
          "jobId": 11,
          "killedTasksSummary": {},
          "name": "getRowsInJsonString at Display.scala:452",
          "numActiveStages": 0,
          "numActiveTasks": 0,
          "numCompletedIndices": 1,
          "numCompletedStages": 1,
          "numCompletedTasks": 1,
          "numFailedStages": 0,
          "numFailedTasks": 0,
          "numKilledTasks": 0,
          "numSkippedStages": 1,
          "numSkippedTasks": 25,
          "numTasks": 26,
          "rowCount": 0,
          "stageIds": [
           15,
           16
          ],
          "status": "SUCCEEDED",
          "submissionTime": "2023-09-08T23:21:06.539GMT",
          "usageDescription": ""
         },
         {
          "completionTime": "2023-09-08T23:21:06.457GMT",
          "dataRead": 3249688085,
          "dataWritten": 18525,
          "description": "Job group for statement 9:\ndisplay(raw_df.limit(20))",
          "displayName": "getRowsInJsonString at Display.scala:452",
          "jobGroup": "9",
          "jobId": 10,
          "killedTasksSummary": {},
          "name": "getRowsInJsonString at Display.scala:452",
          "numActiveStages": 0,
          "numActiveTasks": 0,
          "numCompletedIndices": 25,
          "numCompletedStages": 1,
          "numCompletedTasks": 25,
          "numFailedStages": 0,
          "numFailedTasks": 0,
          "numKilledTasks": 0,
          "numSkippedStages": 0,
          "numSkippedTasks": 0,
          "numTasks": 25,
          "rowCount": 13980092,
          "stageIds": [
           14
          ],
          "status": "SUCCEEDED",
          "submissionTime": "2023-09-08T23:20:39.847GMT",
          "usageDescription": ""
         }
        ],
        "limit": 20,
        "numbers": {
         "FAILED": 0,
         "RUNNING": 0,
         "SUCCEEDED": 2,
         "UNKNOWN": 0
        },
        "rule": "ALL_DESC"
       },
       "spark_pool": null,
       "state": "finished",
       "statement_id": 9
      },
      "text/plain": [
       "StatementMeta(, bb877a9c-c8cf-471c-98da-25e85626530f, 9, Finished, Available)"
      ]
     },
     "metadata": {},
     "output_type": "display_data"
    },
    {
     "data": {
      "application/vnd.synapse.widget-view+json": {
       "widget_id": "4b4c30fd-819e-47ac-b5b4-8bbc70921bbc",
       "widget_type": "Synapse.DataFrame"
      },
      "text/plain": [
       "SynapseWidget(Synapse.DataFrame, 4b4c30fd-819e-47ac-b5b4-8bbc70921bbc)"
      ]
     },
     "metadata": {},
     "output_type": "display_data"
    }
   ],
   "source": [
    "display(raw_df.limit(20))"
   ]
  },
  {
   "cell_type": "markdown",
   "id": "34c36b4c-88d9-49e9-8ffe-87867a93dd7f",
   "metadata": {
    "nteract": {
     "transient": {
      "deleting": false
     }
    }
   },
   "source": [
    "Examine the percentage of the users that visit, the percentage of users that convert, and the percentage of the visitors that convert."
   ]
  },
  {
   "cell_type": "code",
   "execution_count": null,
   "id": "f1774905-cbef-4f25-9df8-4b7a11262cbe",
   "metadata": {
    "jupyter": {
     "outputs_hidden": false,
     "source_hidden": false
    },
    "nteract": {
     "transient": {
      "deleting": false
     }
    }
   },
   "outputs": [
    {
     "data": {
      "application/vnd.livy.statement-meta+json": {
       "execution_finish_time": "2023-09-08T23:21:09.050238Z",
       "execution_start_time": "2023-09-08T23:21:08.1199607Z",
       "livy_statement_state": "available",
       "parent_msg_id": "b8c0b967-153d-44d0-8a86-906deb79f003",
       "queued_time": "2023-09-08T23:19:41.8610177Z",
       "session_id": "bb877a9c-c8cf-471c-98da-25e85626530f",
       "session_start_time": null,
       "spark_jobs": {
        "jobs": [
         {
          "completionTime": "2023-09-08T23:21:08.830GMT",
          "dataRead": 1964,
          "dataWritten": 0,
          "description": "Job group for statement 10:\nraw_df.select(\n    F.mean(\"visit\").alias(\"Percentage of users that visit\"),\n    F.mean(\"conversion\").alias(\"Percentage of users that convert\"),\n    (F.sum(\"conversion\") / F.sum(\"visit\")).alias(\"Percentage of visitors that convert\"),\n).show()\n",
          "displayName": "showString at NativeMethodAccessorImpl.java:0",
          "jobGroup": "10",
          "jobId": 13,
          "killedTasksSummary": {},
          "name": "showString at NativeMethodAccessorImpl.java:0",
          "numActiveStages": 0,
          "numActiveTasks": 0,
          "numCompletedIndices": 1,
          "numCompletedStages": 1,
          "numCompletedTasks": 1,
          "numFailedStages": 0,
          "numFailedTasks": 0,
          "numKilledTasks": 0,
          "numSkippedStages": 1,
          "numSkippedTasks": 25,
          "numTasks": 26,
          "rowCount": 25,
          "stageIds": [
           19,
           18
          ],
          "status": "SUCCEEDED",
          "submissionTime": "2023-09-08T23:21:08.771GMT",
          "usageDescription": ""
         },
         {
          "completionTime": "2023-09-08T23:21:08.733GMT",
          "dataRead": 1361805488,
          "dataWritten": 1964,
          "description": "Job group for statement 10:\nraw_df.select(\n    F.mean(\"visit\").alias(\"Percentage of users that visit\"),\n    F.mean(\"conversion\").alias(\"Percentage of users that convert\"),\n    (F.sum(\"conversion\") / F.sum(\"visit\")).alias(\"Percentage of visitors that convert\"),\n).show()\n",
          "displayName": "showString at NativeMethodAccessorImpl.java:0",
          "jobGroup": "10",
          "jobId": 12,
          "killedTasksSummary": {},
          "name": "showString at NativeMethodAccessorImpl.java:0",
          "numActiveStages": 0,
          "numActiveTasks": 0,
          "numCompletedIndices": 25,
          "numCompletedStages": 1,
          "numCompletedTasks": 25,
          "numFailedStages": 0,
          "numFailedTasks": 0,
          "numKilledTasks": 0,
          "numSkippedStages": 0,
          "numSkippedTasks": 0,
          "numTasks": 25,
          "rowCount": 1429,
          "stageIds": [
           17
          ],
          "status": "SUCCEEDED",
          "submissionTime": "2023-09-08T23:21:08.300GMT",
          "usageDescription": ""
         }
        ],
        "limit": 20,
        "numbers": {
         "FAILED": 0,
         "RUNNING": 0,
         "SUCCEEDED": 2,
         "UNKNOWN": 0
        },
        "rule": "ALL_DESC"
       },
       "spark_pool": null,
       "state": "finished",
       "statement_id": 10
      },
      "text/plain": [
       "StatementMeta(, bb877a9c-c8cf-471c-98da-25e85626530f, 10, Finished, Available)"
      ]
     },
     "metadata": {},
     "output_type": "display_data"
    },
    {
     "name": "stdout",
     "output_type": "stream",
     "text": [
      "+------------------------------+--------------------------------+-----------------------------------+\n",
      "|Percentage of users that visit|Percentage of users that convert|Percentage of visitors that convert|\n",
      "+------------------------------+--------------------------------+-----------------------------------+\n",
      "|          0.046992000911042324|            0.002916680257907384|                0.06206759025709019|\n",
      "+------------------------------+--------------------------------+-----------------------------------+\n",
      "\n"
     ]
    }
   ],
   "source": [
    "raw_df.select(\n",
    "    F.mean(\"visit\").alias(\"Percentage of users that visit\"),\n",
    "    F.mean(\"conversion\").alias(\"Percentage of users that convert\"),\n",
    "    (F.sum(\"conversion\") / F.sum(\"visit\")).alias(\"Percentage of visitors that convert\"),\n",
    ").show()\n"
   ]
  },
  {
   "cell_type": "markdown",
   "id": "37ad065d-2341-4e68-9c57-50911d7fc0c3",
   "metadata": {
    "nteract": {
     "transient": {
      "deleting": false
     }
    }
   },
   "source": [
    "This analysis indicates that **4.7%** of all users visited the online store. Only **0.29%** converted (e.g., made a purchase). This means that the conversion rate of visitors is **6.2%**."
   ]
  },
  {
   "cell_type": "markdown",
   "id": "0d5be3f7-ac9c-4927-b81b-a53f673a64a6",
   "metadata": {
    "nteract": {
     "transient": {
      "deleting": false
     }
    }
   },
   "source": [
    "Additionally, examine the overall average treatment effect on visits and conversions. A treatment of 1 indicates the user was offered or exposed to advertising (e.g., discount coupons, gifts, or other privileges). A treatment of 0 indicates that the user was not offered or exposed to any form of advertising."
   ]
  },
  {
   "cell_type": "code",
   "execution_count": null,
   "id": "18807dbf-51a4-4c11-a914-5cc48f9766d4",
   "metadata": {
    "jupyter": {
     "outputs_hidden": false,
     "source_hidden": false
    },
    "nteract": {
     "transient": {
      "deleting": false
     }
    }
   },
   "outputs": [
    {
     "data": {
      "application/vnd.livy.statement-meta+json": {
       "execution_finish_time": "2023-09-08T23:21:11.8980335Z",
       "execution_start_time": "2023-09-08T23:21:09.3271199Z",
       "livy_statement_state": "available",
       "parent_msg_id": "b30fd0a5-c320-4a88-9993-f2a28967ea2c",
       "queued_time": "2023-09-08T23:19:41.861598Z",
       "session_id": "bb877a9c-c8cf-471c-98da-25e85626530f",
       "session_start_time": null,
       "spark_jobs": {
        "jobs": [
         {
          "completionTime": "2023-09-08T23:21:10.904GMT",
          "dataRead": 2755,
          "dataWritten": 0,
          "description": "Job group for statement 11:\nraw_df.groupby(\"treatment\").agg(\n    F.mean(\"visit\").alias(\"Percentage of users that visit\"),\n    F.mean(\"conversion\").alias(\"Percentage of users that convert\"),\n    (F.sum(\"conversion\") / F.sum(\"visit\")).alias(\"Percentage of visitors that convert\"),\n).show()\n",
          "displayName": "showString at NativeMethodAccessorImpl.java:0",
          "jobGroup": "11",
          "jobId": 15,
          "killedTasksSummary": {},
          "name": "showString at NativeMethodAccessorImpl.java:0",
          "numActiveStages": 0,
          "numActiveTasks": 0,
          "numCompletedIndices": 1,
          "numCompletedStages": 1,
          "numCompletedTasks": 1,
          "numFailedStages": 0,
          "numFailedTasks": 0,
          "numKilledTasks": 0,
          "numSkippedStages": 1,
          "numSkippedTasks": 25,
          "numTasks": 26,
          "rowCount": 32,
          "stageIds": [
           21,
           22
          ],
          "status": "SUCCEEDED",
          "submissionTime": "2023-09-08T23:21:10.821GMT",
          "usageDescription": ""
         },
         {
          "completionTime": "2023-09-08T23:21:10.737GMT",
          "dataRead": 1361805488,
          "dataWritten": 2755,
          "description": "Job group for statement 11:\nraw_df.groupby(\"treatment\").agg(\n    F.mean(\"visit\").alias(\"Percentage of users that visit\"),\n    F.mean(\"conversion\").alias(\"Percentage of users that convert\"),\n    (F.sum(\"conversion\") / F.sum(\"visit\")).alias(\"Percentage of visitors that convert\"),\n).show()\n",
          "displayName": "showString at NativeMethodAccessorImpl.java:0",
          "jobGroup": "11",
          "jobId": 14,
          "killedTasksSummary": {},
          "name": "showString at NativeMethodAccessorImpl.java:0",
          "numActiveStages": 0,
          "numActiveTasks": 0,
          "numCompletedIndices": 25,
          "numCompletedStages": 1,
          "numCompletedTasks": 25,
          "numFailedStages": 0,
          "numFailedTasks": 0,
          "numKilledTasks": 0,
          "numSkippedStages": 0,
          "numSkippedTasks": 0,
          "numTasks": 25,
          "rowCount": 1436,
          "stageIds": [
           20
          ],
          "status": "SUCCEEDED",
          "submissionTime": "2023-09-08T23:21:09.617GMT",
          "usageDescription": ""
         }
        ],
        "limit": 20,
        "numbers": {
         "FAILED": 0,
         "RUNNING": 0,
         "SUCCEEDED": 2,
         "UNKNOWN": 0
        },
        "rule": "ALL_DESC"
       },
       "spark_pool": null,
       "state": "finished",
       "statement_id": 11
      },
      "text/plain": [
       "StatementMeta(, bb877a9c-c8cf-471c-98da-25e85626530f, 11, Finished, Available)"
      ]
     },
     "metadata": {},
     "output_type": "display_data"
    },
    {
     "name": "stdout",
     "output_type": "stream",
     "text": [
      "+---------+------------------------------+--------------------------------+-----------------------------------+\n",
      "|treatment|Percentage of users that visit|Percentage of users that convert|Percentage of visitors that convert|\n",
      "+---------+------------------------------+--------------------------------+-----------------------------------+\n",
      "|        1|          0.048543360048743316|            0.003089461067412...|                0.06364332968115058|\n",
      "|        0|           0.03820095691954503|            0.001937588015281...|                0.05072092878097497|\n",
      "+---------+------------------------------+--------------------------------+-----------------------------------+\n",
      "\n"
     ]
    }
   ],
   "source": [
    "raw_df.groupby(\"treatment\").agg(\n",
    "    F.mean(\"visit\").alias(\"Percentage of users that visit\"),\n",
    "    F.mean(\"conversion\").alias(\"Percentage of users that convert\"),\n",
    "    (F.sum(\"conversion\") / F.sum(\"visit\")).alias(\"Percentage of visitors that convert\"),\n",
    ").show()\n"
   ]
  },
  {
   "cell_type": "markdown",
   "id": "769f766e-8e17-4ecc-9f19-72efb7cb44e7",
   "metadata": {
    "nteract": {
     "transient": {
      "deleting": false
     }
    }
   },
   "source": [
    "The analysis indicates that **4.9%** of users from the treatment group - users that received the treatment, or advertising - visited the online store. Only **3.8%** of users from the control group - users that did not receive the treatment, or were not offered or exposed to advertising - did the same. Additionally, **0.31%** of all users from the treatment group converted, or made a purchase - while only **0.19%** of users from the control group did so. As a result, the conversion rate of visitors that made a purchase, who were also members of treatment group, is **6.36%**, compared to only **5.07%** for users of the control group. This means that the treatment can potentially improve the visit rate by about **1%**, and the conversion rate of visitors by about **1.3%**. This is a significant improvement."
   ]
  },
  {
   "cell_type": "markdown",
   "id": "bed56605-0882-4cf0-8731-3830a912b990",
   "metadata": {
    "nteract": {
     "transient": {
      "deleting": false
     }
    }
   },
   "source": [
    "## Step 3: Define the model for training"
   ]
  },
  {
   "cell_type": "markdown",
   "id": "6db58b1e-5b13-4751-91cd-bb33efce0b3c",
   "metadata": {
    "nteract": {
     "transient": {
      "deleting": false
     }
    }
   },
   "source": [
    "#### Prepare the training and test the datasets\n",
    "\n",
    "You'll fit a Featurize transformer to the `raw_df` DataFrame, to extract features from the specified input columns and output those features to a new column named `features`.\n",
    "\n",
    "The resulting DataFrame is stored in a new DataFrame named `df`."
   ]
  },
  {
   "cell_type": "code",
   "execution_count": null,
   "id": "88aa91c1-149c-47f3-9385-1eb3e0fc3db4",
   "metadata": {
    "jupyter": {
     "outputs_hidden": false,
     "source_hidden": false
    },
    "nteract": {
     "transient": {
      "deleting": false
     }
    }
   },
   "outputs": [
    {
     "data": {
      "application/vnd.livy.statement-meta+json": {
       "execution_finish_time": "2023-09-08T23:21:14.751905Z",
       "execution_start_time": "2023-09-08T23:21:12.1676493Z",
       "livy_statement_state": "available",
       "parent_msg_id": "3811d08f-54d0-46b1-a4f2-4f6aeb55b716",
       "queued_time": "2023-09-08T23:19:41.8630546Z",
       "session_id": "bb877a9c-c8cf-471c-98da-25e85626530f",
       "session_start_time": null,
       "spark_jobs": {
        "jobs": [
         {
          "completionTime": "2023-09-08T23:21:13.881GMT",
          "dataRead": 4514,
          "dataWritten": 0,
          "description": "Job group for statement 12:\ntransformer = Featurize().setOutputCol(\"features\").setInputCols(FEATURE_COLUMNS).fit(raw_df)\ndf = transformer.transform(raw_df)",
          "displayName": "collect at CleanMissingData.scala:124",
          "jobGroup": "12",
          "jobId": 17,
          "killedTasksSummary": {},
          "name": "collect at CleanMissingData.scala:124",
          "numActiveStages": 0,
          "numActiveTasks": 0,
          "numCompletedIndices": 1,
          "numCompletedStages": 1,
          "numCompletedTasks": 1,
          "numFailedStages": 0,
          "numFailedTasks": 0,
          "numKilledTasks": 0,
          "numSkippedStages": 1,
          "numSkippedTasks": 25,
          "numTasks": 26,
          "rowCount": 25,
          "stageIds": [
           24,
           25
          ],
          "status": "SUCCEEDED",
          "submissionTime": "2023-09-08T23:21:13.832GMT",
          "usageDescription": ""
         },
         {
          "completionTime": "2023-09-08T23:21:13.777GMT",
          "dataRead": 1361805488,
          "dataWritten": 4514,
          "description": "Job group for statement 12:\ntransformer = Featurize().setOutputCol(\"features\").setInputCols(FEATURE_COLUMNS).fit(raw_df)\ndf = transformer.transform(raw_df)",
          "displayName": "collect at CleanMissingData.scala:124",
          "jobGroup": "12",
          "jobId": 16,
          "killedTasksSummary": {},
          "name": "collect at CleanMissingData.scala:124",
          "numActiveStages": 0,
          "numActiveTasks": 0,
          "numCompletedIndices": 25,
          "numCompletedStages": 1,
          "numCompletedTasks": 25,
          "numFailedStages": 0,
          "numFailedTasks": 0,
          "numKilledTasks": 0,
          "numSkippedStages": 0,
          "numSkippedTasks": 0,
          "numTasks": 25,
          "rowCount": 1429,
          "stageIds": [
           23
          ],
          "status": "SUCCEEDED",
          "submissionTime": "2023-09-08T23:21:12.950GMT",
          "usageDescription": ""
         }
        ],
        "limit": 20,
        "numbers": {
         "FAILED": 0,
         "RUNNING": 0,
         "SUCCEEDED": 2,
         "UNKNOWN": 0
        },
        "rule": "ALL_DESC"
       },
       "spark_pool": null,
       "state": "finished",
       "statement_id": 12
      },
      "text/plain": [
       "StatementMeta(, bb877a9c-c8cf-471c-98da-25e85626530f, 12, Finished, Available)"
      ]
     },
     "metadata": {},
     "output_type": "display_data"
    }
   ],
   "source": [
    "transformer = Featurize().setOutputCol(\"features\").setInputCols(FEATURE_COLUMNS).fit(raw_df)\n",
    "df = transformer.transform(raw_df)"
   ]
  },
  {
   "cell_type": "code",
   "execution_count": null,
   "id": "5fcc0e16-0f6b-49ba-9d0b-0f7647d163d3",
   "metadata": {
    "jupyter": {
     "outputs_hidden": false,
     "source_hidden": false
    },
    "nteract": {
     "transient": {
      "deleting": false
     }
    }
   },
   "outputs": [
    {
     "data": {
      "application/vnd.livy.statement-meta+json": {
       "execution_finish_time": "2023-09-08T23:21:40.8575403Z",
       "execution_start_time": "2023-09-08T23:21:15.0095088Z",
       "livy_statement_state": "available",
       "parent_msg_id": "b78257b2-b6a6-4aa3-b385-e6350836de12",
       "queued_time": "2023-09-08T23:19:41.8637115Z",
       "session_id": "bb877a9c-c8cf-471c-98da-25e85626530f",
       "session_start_time": null,
       "spark_jobs": {
        "jobs": [
         {
          "completionTime": "2023-09-08T23:21:39.886GMT",
          "dataRead": 1983,
          "dataWritten": 0,
          "description": "Job group for statement 13:\n# Split the DataFrame into training and test sets, with a 80/20 ratio and a seed of 42\ntrain_df, test_df = df.randomSplit([0.8, 0.2], seed=42)\n\n# Print the training and test dataset sizes\nprint(\"Size of train dataset: %d\" % train_df.count())\nprint(\"Size of test dataset: %d\" % test_df.count())\n\n# Group the training dataset by the treatment column, and count the number of occurrences of each value\ntrain_df.groupby(TREATMENT_COLUMN).count().show()",
          "displayName": "showString at NativeMethodAccessorImpl.java:0",
          "jobGroup": "13",
          "jobId": 23,
          "killedTasksSummary": {},
          "name": "showString at NativeMethodAccessorImpl.java:0",
          "numActiveStages": 0,
          "numActiveTasks": 0,
          "numCompletedIndices": 1,
          "numCompletedStages": 1,
          "numCompletedTasks": 1,
          "numFailedStages": 0,
          "numFailedTasks": 0,
          "numKilledTasks": 0,
          "numSkippedStages": 1,
          "numSkippedTasks": 25,
          "numTasks": 26,
          "rowCount": 32,
          "stageIds": [
           33,
           34
          ],
          "status": "SUCCEEDED",
          "submissionTime": "2023-09-08T23:21:39.837GMT",
          "usageDescription": ""
         },
         {
          "completionTime": "2023-09-08T23:21:39.790GMT",
          "dataRead": 1361805488,
          "dataWritten": 1983,
          "description": "Job group for statement 13:\n# Split the DataFrame into training and test sets, with a 80/20 ratio and a seed of 42\ntrain_df, test_df = df.randomSplit([0.8, 0.2], seed=42)\n\n# Print the training and test dataset sizes\nprint(\"Size of train dataset: %d\" % train_df.count())\nprint(\"Size of test dataset: %d\" % test_df.count())\n\n# Group the training dataset by the treatment column, and count the number of occurrences of each value\ntrain_df.groupby(TREATMENT_COLUMN).count().show()",
          "displayName": "showString at NativeMethodAccessorImpl.java:0",
          "jobGroup": "13",
          "jobId": 22,
          "killedTasksSummary": {},
          "name": "showString at NativeMethodAccessorImpl.java:0",
          "numActiveStages": 0,
          "numActiveTasks": 0,
          "numCompletedIndices": 25,
          "numCompletedStages": 1,
          "numCompletedTasks": 25,
          "numFailedStages": 0,
          "numFailedTasks": 0,
          "numKilledTasks": 0,
          "numSkippedStages": 0,
          "numSkippedTasks": 0,
          "numTasks": 25,
          "rowCount": 1436,
          "stageIds": [
           32
          ],
          "status": "SUCCEEDED",
          "submissionTime": "2023-09-08T23:21:32.101GMT",
          "usageDescription": ""
         },
         {
          "completionTime": "2023-09-08T23:21:31.678GMT",
          "dataRead": 1475,
          "dataWritten": 0,
          "description": "Job group for statement 13:\n# Split the DataFrame into training and test sets, with a 80/20 ratio and a seed of 42\ntrain_df, test_df = df.randomSplit([0.8, 0.2], seed=42)\n\n# Print the training and test dataset sizes\nprint(\"Size of train dataset: %d\" % train_df.count())\nprint(\"Size of test dataset: %d\" % test_df.count())\n\n# Group the training dataset by the treatment column, and count the number of occurrences of each value\ntrain_df.groupby(TREATMENT_COLUMN).count().show()",
          "displayName": "count at NativeMethodAccessorImpl.java:0",
          "jobGroup": "13",
          "jobId": 21,
          "killedTasksSummary": {},
          "name": "count at NativeMethodAccessorImpl.java:0",
          "numActiveStages": 0,
          "numActiveTasks": 0,
          "numCompletedIndices": 1,
          "numCompletedStages": 1,
          "numCompletedTasks": 1,
          "numFailedStages": 0,
          "numFailedTasks": 0,
          "numKilledTasks": 0,
          "numSkippedStages": 1,
          "numSkippedTasks": 25,
          "numTasks": 26,
          "rowCount": 25,
          "stageIds": [
           30,
           31
          ],
          "status": "SUCCEEDED",
          "submissionTime": "2023-09-08T23:21:31.654GMT",
          "usageDescription": ""
         },
         {
          "completionTime": "2023-09-08T23:21:31.637GMT",
          "dataRead": 1361805488,
          "dataWritten": 1475,
          "description": "Job group for statement 13:\n# Split the DataFrame into training and test sets, with a 80/20 ratio and a seed of 42\ntrain_df, test_df = df.randomSplit([0.8, 0.2], seed=42)\n\n# Print the training and test dataset sizes\nprint(\"Size of train dataset: %d\" % train_df.count())\nprint(\"Size of test dataset: %d\" % test_df.count())\n\n# Group the training dataset by the treatment column, and count the number of occurrences of each value\ntrain_df.groupby(TREATMENT_COLUMN).count().show()",
          "displayName": "count at NativeMethodAccessorImpl.java:0",
          "jobGroup": "13",
          "jobId": 20,
          "killedTasksSummary": {},
          "name": "count at NativeMethodAccessorImpl.java:0",
          "numActiveStages": 0,
          "numActiveTasks": 0,
          "numCompletedIndices": 25,
          "numCompletedStages": 1,
          "numCompletedTasks": 25,
          "numFailedStages": 0,
          "numFailedTasks": 0,
          "numKilledTasks": 0,
          "numSkippedStages": 0,
          "numSkippedTasks": 0,
          "numTasks": 25,
          "rowCount": 1429,
          "stageIds": [
           29
          ],
          "status": "SUCCEEDED",
          "submissionTime": "2023-09-08T23:21:24.029GMT",
          "usageDescription": ""
         },
         {
          "completionTime": "2023-09-08T23:21:23.686GMT",
          "dataRead": 1475,
          "dataWritten": 0,
          "description": "Job group for statement 13:\n# Split the DataFrame into training and test sets, with a 80/20 ratio and a seed of 42\ntrain_df, test_df = df.randomSplit([0.8, 0.2], seed=42)\n\n# Print the training and test dataset sizes\nprint(\"Size of train dataset: %d\" % train_df.count())\nprint(\"Size of test dataset: %d\" % test_df.count())\n\n# Group the training dataset by the treatment column, and count the number of occurrences of each value\ntrain_df.groupby(TREATMENT_COLUMN).count().show()",
          "displayName": "count at NativeMethodAccessorImpl.java:0",
          "jobGroup": "13",
          "jobId": 19,
          "killedTasksSummary": {},
          "name": "count at NativeMethodAccessorImpl.java:0",
          "numActiveStages": 0,
          "numActiveTasks": 0,
          "numCompletedIndices": 1,
          "numCompletedStages": 1,
          "numCompletedTasks": 1,
          "numFailedStages": 0,
          "numFailedTasks": 0,
          "numKilledTasks": 0,
          "numSkippedStages": 1,
          "numSkippedTasks": 25,
          "numTasks": 26,
          "rowCount": 25,
          "stageIds": [
           27,
           28
          ],
          "status": "SUCCEEDED",
          "submissionTime": "2023-09-08T23:21:23.648GMT",
          "usageDescription": ""
         },
         {
          "completionTime": "2023-09-08T23:21:23.619GMT",
          "dataRead": 1361805488,
          "dataWritten": 1475,
          "description": "Job group for statement 13:\n# Split the DataFrame into training and test sets, with a 80/20 ratio and a seed of 42\ntrain_df, test_df = df.randomSplit([0.8, 0.2], seed=42)\n\n# Print the training and test dataset sizes\nprint(\"Size of train dataset: %d\" % train_df.count())\nprint(\"Size of test dataset: %d\" % test_df.count())\n\n# Group the training dataset by the treatment column, and count the number of occurrences of each value\ntrain_df.groupby(TREATMENT_COLUMN).count().show()",
          "displayName": "count at NativeMethodAccessorImpl.java:0",
          "jobGroup": "13",
          "jobId": 18,
          "killedTasksSummary": {},
          "name": "count at NativeMethodAccessorImpl.java:0",
          "numActiveStages": 0,
          "numActiveTasks": 0,
          "numCompletedIndices": 25,
          "numCompletedStages": 1,
          "numCompletedTasks": 25,
          "numFailedStages": 0,
          "numFailedTasks": 0,
          "numKilledTasks": 0,
          "numSkippedStages": 0,
          "numSkippedTasks": 0,
          "numTasks": 25,
          "rowCount": 1429,
          "stageIds": [
           26
          ],
          "status": "SUCCEEDED",
          "submissionTime": "2023-09-08T23:21:15.337GMT",
          "usageDescription": ""
         }
        ],
        "limit": 20,
        "numbers": {
         "FAILED": 0,
         "RUNNING": 0,
         "SUCCEEDED": 6,
         "UNKNOWN": 0
        },
        "rule": "ALL_DESC"
       },
       "spark_pool": null,
       "state": "finished",
       "statement_id": 13
      },
      "text/plain": [
       "StatementMeta(, bb877a9c-c8cf-471c-98da-25e85626530f, 13, Finished, Available)"
      ]
     },
     "metadata": {},
     "output_type": "display_data"
    },
    {
     "name": "stdout",
     "output_type": "stream",
     "text": [
      "Size of train dataset: 11182965\n",
      "Size of test dataset: 2796627\n",
      "+---------+-------+\n",
      "|treatment|  count|\n",
      "+---------+-------+\n",
      "|        1|9505415|\n",
      "|        0|1677550|\n",
      "+---------+-------+\n",
      "\n"
     ]
    }
   ],
   "source": [
    "# Split the DataFrame into training and test sets, with a 80/20 ratio and a seed of 42\n",
    "train_df, test_df = df.randomSplit([0.8, 0.2], seed=42)\n",
    "\n",
    "# Print the training and test dataset sizes\n",
    "print(\"Size of train dataset: %d\" % train_df.count())\n",
    "print(\"Size of test dataset: %d\" % test_df.count())\n",
    "\n",
    "# Group the training dataset by the treatment column, and count the number of occurrences of each value\n",
    "train_df.groupby(TREATMENT_COLUMN).count().show()"
   ]
  },
  {
   "cell_type": "markdown",
   "id": "af7aa060-edbd-4bca-9d89-14e25df92d42",
   "metadata": {
    "nteract": {
     "transient": {
      "deleting": false
     }
    }
   },
   "source": [
    "#### Prepare the treatment and control datasets\n",
    "\n",
    "After you create the training and test datasets, you must also form the treatment and control datasets, to train the machine learning models to measure the uplift."
   ]
  },
  {
   "cell_type": "code",
   "execution_count": null,
   "id": "3dd54f60-4e77-479e-ac91-89e68fbfaa4a",
   "metadata": {
    "jupyter": {
     "outputs_hidden": false,
     "source_hidden": false
    },
    "nteract": {
     "transient": {
      "deleting": false
     }
    }
   },
   "outputs": [
    {
     "data": {
      "application/vnd.livy.statement-meta+json": {
       "execution_finish_time": "2023-09-08T23:21:41.4501488Z",
       "execution_start_time": "2023-09-08T23:21:41.1192741Z",
       "livy_statement_state": "available",
       "parent_msg_id": "22043324-7923-4417-916e-c4652f463878",
       "queued_time": "2023-09-08T23:19:41.8644191Z",
       "session_id": "bb877a9c-c8cf-471c-98da-25e85626530f",
       "session_start_time": null,
       "spark_jobs": {
        "jobs": [],
        "limit": 20,
        "numbers": {
         "FAILED": 0,
         "RUNNING": 0,
         "SUCCEEDED": 0,
         "UNKNOWN": 0
        },
        "rule": "ALL_DESC"
       },
       "spark_pool": null,
       "state": "finished",
       "statement_id": 14
      },
      "text/plain": [
       "StatementMeta(, bb877a9c-c8cf-471c-98da-25e85626530f, 14, Finished, Available)"
      ]
     },
     "metadata": {},
     "output_type": "display_data"
    }
   ],
   "source": [
    "# Extract the treatment and control DataFrames\n",
    "treatment_train_df = train_df.where(f\"{TREATMENT_COLUMN} > 0\")\n",
    "control_train_df = train_df.where(f\"{TREATMENT_COLUMN} = 0\")"
   ]
  },
  {
   "cell_type": "markdown",
   "id": "97a88ea8-1981-403c-b0e0-c8a67392d1c8",
   "metadata": {
    "nteract": {
     "transient": {
      "deleting": false
     }
    }
   },
   "source": [
    "Now that you prepared your data, you can proceed to train a model with LightGBM."
   ]
  },
  {
   "cell_type": "markdown",
   "id": "30553ba4-005b-4c4f-8723-a4b8b7822645",
   "metadata": {
    "nteract": {
     "transient": {
      "deleting": false
     }
    }
   },
   "source": [
    "#### Uplift modeling: T-Learner with LightGBM"
   ]
  },
  {
   "cell_type": "markdown",
   "id": "3328c276-86f9-4b3b-802c-33b19d76b78e",
   "metadata": {
    "nteract": {
     "transient": {
      "deleting": false
     }
    }
   },
   "source": [
    "Meta-learners are a set of algorithms, built on top of machine learning algorithms like LightGBM, Xgboost, etc. They help estimate conditional average treatment effect, or **CATE**.\n",
    "T-learner is a meta-learner that doesn't use a single model. Instead, T-learner uses one model per treatment variable. Therefore, two models are developed and hence it is referred to as T-learner. T-learner uses multiple machine learning models to overcome the problem of entirely discarding the treatment, by forcing the learner to first split on it."
   ]
  },
  {
   "cell_type": "code",
   "execution_count": null,
   "id": "3b7e2bef-b1f2-4a98-9b02-394f09c89f2c",
   "metadata": {
    "jupyter": {
     "outputs_hidden": false,
     "source_hidden": false
    },
    "nteract": {
     "transient": {
      "deleting": false
     }
    }
   },
   "outputs": [
    {
     "data": {
      "application/vnd.livy.statement-meta+json": {
       "execution_finish_time": "2023-09-08T23:21:42.6334411Z",
       "execution_start_time": "2023-09-08T23:21:41.7182486Z",
       "livy_statement_state": "available",
       "parent_msg_id": "32faf333-8c2e-438b-96b4-367f83fe413c",
       "queued_time": "2023-09-08T23:19:41.8651385Z",
       "session_id": "bb877a9c-c8cf-471c-98da-25e85626530f",
       "session_start_time": null,
       "spark_jobs": {
        "jobs": [],
        "limit": 20,
        "numbers": {
         "FAILED": 0,
         "RUNNING": 0,
         "SUCCEEDED": 0,
         "UNKNOWN": 0
        },
        "rule": "ALL_DESC"
       },
       "spark_pool": null,
       "state": "finished",
       "statement_id": 15
      },
      "text/plain": [
       "StatementMeta(, bb877a9c-c8cf-471c-98da-25e85626530f, 15, Finished, Available)"
      ]
     },
     "metadata": {},
     "output_type": "display_data"
    },
    {
     "name": "stderr",
     "output_type": "stream",
     "text": [
      "2023/09/08 23:21:41 INFO mlflow.tracking.fluent: Autologging successfully enabled for statsmodels.\n",
      "2023/09/08 23:21:41 INFO mlflow.tracking.fluent: Autologging successfully enabled for pyspark.ml.\n"
     ]
    }
   ],
   "source": [
    "mlflow.autolog(exclusive=False)"
   ]
  },
  {
   "cell_type": "code",
   "execution_count": null,
   "id": "f1586aff-d7de-4569-b250-949d40076f29",
   "metadata": {
    "jupyter": {
     "outputs_hidden": false,
     "source_hidden": false
    },
    "nteract": {
     "transient": {
      "deleting": false
     }
    }
   },
   "outputs": [
    {
     "data": {
      "application/vnd.livy.statement-meta+json": {
       "execution_finish_time": "2023-09-08T23:22:53.6265322Z",
       "execution_start_time": "2023-09-08T23:21:42.8971537Z",
       "livy_statement_state": "available",
       "parent_msg_id": "3ee53e1e-9334-48a5-b9b4-5c193a61103e",
       "queued_time": "2023-09-08T23:19:41.8658513Z",
       "session_id": "bb877a9c-c8cf-471c-98da-25e85626530f",
       "session_start_time": null,
       "spark_jobs": {
        "jobs": [
         {
          "completionTime": "2023-09-08T23:22:47.787GMT",
          "dataRead": 0,
          "dataWritten": 817,
          "description": "Job group for statement 16:\nclassifier = (\n    LightGBMClassifier()\n    .setFeaturesCol(\"features\")  # Set the column name for features\n    .setNumLeaves(10)  # Set the number of leaves in each decision tree\n    .setNumIterations(100)  # Set the number of boosting iterations\n    .setObjective(\"binary\")  # Set the objective function for binary classification\n    .setLabelCol(LABEL_COLUMN)  # Set the column name for the label\n)\n\n# Start a new MLflow run with the name \"uplift\"\nactive_run = mlflow.start_run(run_name=\"uplift\")\n\n# Start a new nested MLflow run with the name \"treatment\"\nwith mlflow.start_run(run_name=\"treatment\", nested=True) as treatment_run:\n    treatment_run_id = treatment_run.info.run_id  # Get the ID of the treatment run\n    treatment_model = classifier.fit(treatment_train_df)  # Fit the classifier on the treatment training data\n\n# Start a new nested MLflow run with the name \"control\"\nwith mlflow.start_run(run_name=\"control\", nested=True) as control_run:\n    control_run_id = control_run.info.run_id  # Get the ID of the co...",
          "displayName": "runJob at SparkHadoopWriter.scala:85",
          "jobGroup": "16",
          "jobId": 31,
          "killedTasksSummary": {},
          "name": "runJob at SparkHadoopWriter.scala:85",
          "numActiveStages": 0,
          "numActiveTasks": 0,
          "numCompletedIndices": 1,
          "numCompletedStages": 1,
          "numCompletedTasks": 1,
          "numFailedStages": 0,
          "numFailedTasks": 0,
          "numKilledTasks": 0,
          "numSkippedStages": 0,
          "numSkippedTasks": 0,
          "numTasks": 1,
          "rowCount": 1,
          "stageIds": [
           42
          ],
          "status": "SUCCEEDED",
          "submissionTime": "2023-09-08T23:22:47.528GMT",
          "usageDescription": ""
         },
         {
          "completionTime": "2023-09-08T23:22:47.249GMT",
          "dataRead": 0,
          "dataWritten": 226,
          "description": "Job group for statement 16:\nclassifier = (\n    LightGBMClassifier()\n    .setFeaturesCol(\"features\")  # Set the column name for features\n    .setNumLeaves(10)  # Set the number of leaves in each decision tree\n    .setNumIterations(100)  # Set the number of boosting iterations\n    .setObjective(\"binary\")  # Set the objective function for binary classification\n    .setLabelCol(LABEL_COLUMN)  # Set the column name for the label\n)\n\n# Start a new MLflow run with the name \"uplift\"\nactive_run = mlflow.start_run(run_name=\"uplift\")\n\n# Start a new nested MLflow run with the name \"treatment\"\nwith mlflow.start_run(run_name=\"treatment\", nested=True) as treatment_run:\n    treatment_run_id = treatment_run.info.run_id  # Get the ID of the treatment run\n    treatment_model = classifier.fit(treatment_train_df)  # Fit the classifier on the treatment training data\n\n# Start a new nested MLflow run with the name \"control\"\nwith mlflow.start_run(run_name=\"control\", nested=True) as control_run:\n    control_run_id = control_run.info.run_id  # Get the ID of the co...",
          "displayName": "runJob at SparkHadoopWriter.scala:85",
          "jobGroup": "16",
          "jobId": 30,
          "killedTasksSummary": {},
          "name": "runJob at SparkHadoopWriter.scala:85",
          "numActiveStages": 0,
          "numActiveTasks": 0,
          "numCompletedIndices": 1,
          "numCompletedStages": 1,
          "numCompletedTasks": 1,
          "numFailedStages": 0,
          "numFailedTasks": 0,
          "numKilledTasks": 0,
          "numSkippedStages": 0,
          "numSkippedTasks": 0,
          "numTasks": 1,
          "rowCount": 1,
          "stageIds": [
           41
          ],
          "status": "SUCCEEDED",
          "submissionTime": "2023-09-08T23:22:46.994GMT",
          "usageDescription": ""
         },
         {
          "completionTime": "2023-09-08T23:22:46.449GMT",
          "dataRead": 1202720770,
          "dataWritten": 0,
          "description": "Job group for statement 16:\nclassifier = (\n    LightGBMClassifier()\n    .setFeaturesCol(\"features\")  # Set the column name for features\n    .setNumLeaves(10)  # Set the number of leaves in each decision tree\n    .setNumIterations(100)  # Set the number of boosting iterations\n    .setObjective(\"binary\")  # Set the objective function for binary classification\n    .setLabelCol(LABEL_COLUMN)  # Set the column name for the label\n)\n\n# Start a new MLflow run with the name \"uplift\"\nactive_run = mlflow.start_run(run_name=\"uplift\")\n\n# Start a new nested MLflow run with the name \"treatment\"\nwith mlflow.start_run(run_name=\"treatment\", nested=True) as treatment_run:\n    treatment_run_id = treatment_run.info.run_id  # Get the ID of the treatment run\n    treatment_model = classifier.fit(treatment_train_df)  # Fit the classifier on the treatment training data\n\n# Start a new nested MLflow run with the name \"control\"\nwith mlflow.start_run(run_name=\"control\", nested=True) as control_run:\n    control_run_id = control_run.info.run_id  # Get the ID of the co...",
          "displayName": "collect at LightGBMBase.scala:623",
          "jobGroup": "16",
          "jobId": 29,
          "killedTasksSummary": {},
          "name": "collect at LightGBMBase.scala:623",
          "numActiveStages": 0,
          "numActiveTasks": 0,
          "numCompletedIndices": 8,
          "numCompletedStages": 1,
          "numCompletedTasks": 8,
          "numFailedStages": 0,
          "numFailedTasks": 0,
          "numKilledTasks": 0,
          "numSkippedStages": 0,
          "numSkippedTasks": 0,
          "numTasks": 8,
          "rowCount": 1255,
          "stageIds": [
           40
          ],
          "status": "SUCCEEDED",
          "submissionTime": "2023-09-08T23:22:34.283GMT",
          "usageDescription": ""
         },
         {
          "completionTime": "2023-09-08T23:22:34.226GMT",
          "dataRead": 168688192,
          "dataWritten": 0,
          "description": "Job group for statement 16:\nclassifier = (\n    LightGBMClassifier()\n    .setFeaturesCol(\"features\")  # Set the column name for features\n    .setNumLeaves(10)  # Set the number of leaves in each decision tree\n    .setNumIterations(100)  # Set the number of boosting iterations\n    .setObjective(\"binary\")  # Set the objective function for binary classification\n    .setLabelCol(LABEL_COLUMN)  # Set the column name for the label\n)\n\n# Start a new MLflow run with the name \"uplift\"\nactive_run = mlflow.start_run(run_name=\"uplift\")\n\n# Start a new nested MLflow run with the name \"treatment\"\nwith mlflow.start_run(run_name=\"treatment\", nested=True) as treatment_run:\n    treatment_run_id = treatment_run.info.run_id  # Get the ID of the treatment run\n    treatment_model = classifier.fit(treatment_train_df)  # Fit the classifier on the treatment training data\n\n# Start a new nested MLflow run with the name \"control\"\nwith mlflow.start_run(run_name=\"control\", nested=True) as control_run:\n    control_run_id = control_run.info.run_id  # Get the ID of the co...",
          "displayName": "first at LightGBMBase.scala:481",
          "jobGroup": "16",
          "jobId": 28,
          "killedTasksSummary": {},
          "name": "first at LightGBMBase.scala:481",
          "numActiveStages": 0,
          "numActiveTasks": 0,
          "numCompletedIndices": 1,
          "numCompletedStages": 1,
          "numCompletedTasks": 1,
          "numFailedStages": 0,
          "numFailedTasks": 0,
          "numKilledTasks": 0,
          "numSkippedStages": 0,
          "numSkippedTasks": 0,
          "numTasks": 1,
          "rowCount": 174,
          "stageIds": [
           39
          ],
          "status": "SUCCEEDED",
          "submissionTime": "2023-09-08T23:22:29.870GMT",
          "usageDescription": ""
         },
         {
          "completionTime": "2023-09-08T23:22:20.877GMT",
          "dataRead": 0,
          "dataWritten": 817,
          "description": "Job group for statement 16:\nclassifier = (\n    LightGBMClassifier()\n    .setFeaturesCol(\"features\")  # Set the column name for features\n    .setNumLeaves(10)  # Set the number of leaves in each decision tree\n    .setNumIterations(100)  # Set the number of boosting iterations\n    .setObjective(\"binary\")  # Set the objective function for binary classification\n    .setLabelCol(LABEL_COLUMN)  # Set the column name for the label\n)\n\n# Start a new MLflow run with the name \"uplift\"\nactive_run = mlflow.start_run(run_name=\"uplift\")\n\n# Start a new nested MLflow run with the name \"treatment\"\nwith mlflow.start_run(run_name=\"treatment\", nested=True) as treatment_run:\n    treatment_run_id = treatment_run.info.run_id  # Get the ID of the treatment run\n    treatment_model = classifier.fit(treatment_train_df)  # Fit the classifier on the treatment training data\n\n# Start a new nested MLflow run with the name \"control\"\nwith mlflow.start_run(run_name=\"control\", nested=True) as control_run:\n    control_run_id = control_run.info.run_id  # Get the ID of the co...",
          "displayName": "runJob at SparkHadoopWriter.scala:85",
          "jobGroup": "16",
          "jobId": 27,
          "killedTasksSummary": {},
          "name": "runJob at SparkHadoopWriter.scala:85",
          "numActiveStages": 0,
          "numActiveTasks": 0,
          "numCompletedIndices": 1,
          "numCompletedStages": 1,
          "numCompletedTasks": 1,
          "numFailedStages": 0,
          "numFailedTasks": 0,
          "numKilledTasks": 0,
          "numSkippedStages": 0,
          "numSkippedTasks": 0,
          "numTasks": 1,
          "rowCount": 1,
          "stageIds": [
           38
          ],
          "status": "SUCCEEDED",
          "submissionTime": "2023-09-08T23:22:20.622GMT",
          "usageDescription": ""
         },
         {
          "completionTime": "2023-09-08T23:22:20.280GMT",
          "dataRead": 0,
          "dataWritten": 226,
          "description": "Job group for statement 16:\nclassifier = (\n    LightGBMClassifier()\n    .setFeaturesCol(\"features\")  # Set the column name for features\n    .setNumLeaves(10)  # Set the number of leaves in each decision tree\n    .setNumIterations(100)  # Set the number of boosting iterations\n    .setObjective(\"binary\")  # Set the objective function for binary classification\n    .setLabelCol(LABEL_COLUMN)  # Set the column name for the label\n)\n\n# Start a new MLflow run with the name \"uplift\"\nactive_run = mlflow.start_run(run_name=\"uplift\")\n\n# Start a new nested MLflow run with the name \"treatment\"\nwith mlflow.start_run(run_name=\"treatment\", nested=True) as treatment_run:\n    treatment_run_id = treatment_run.info.run_id  # Get the ID of the treatment run\n    treatment_model = classifier.fit(treatment_train_df)  # Fit the classifier on the treatment training data\n\n# Start a new nested MLflow run with the name \"control\"\nwith mlflow.start_run(run_name=\"control\", nested=True) as control_run:\n    control_run_id = control_run.info.run_id  # Get the ID of the co...",
          "displayName": "runJob at SparkHadoopWriter.scala:85",
          "jobGroup": "16",
          "jobId": 26,
          "killedTasksSummary": {},
          "name": "runJob at SparkHadoopWriter.scala:85",
          "numActiveStages": 0,
          "numActiveTasks": 0,
          "numCompletedIndices": 1,
          "numCompletedStages": 1,
          "numCompletedTasks": 1,
          "numFailedStages": 0,
          "numFailedTasks": 0,
          "numKilledTasks": 0,
          "numSkippedStages": 0,
          "numSkippedTasks": 0,
          "numTasks": 1,
          "rowCount": 1,
          "stageIds": [
           37
          ],
          "status": "SUCCEEDED",
          "submissionTime": "2023-09-08T23:22:19.670GMT",
          "usageDescription": ""
         },
         {
          "completionTime": "2023-09-08T23:22:18.762GMT",
          "dataRead": 1320160872,
          "dataWritten": 0,
          "description": "Job group for statement 16:\nclassifier = (\n    LightGBMClassifier()\n    .setFeaturesCol(\"features\")  # Set the column name for features\n    .setNumLeaves(10)  # Set the number of leaves in each decision tree\n    .setNumIterations(100)  # Set the number of boosting iterations\n    .setObjective(\"binary\")  # Set the objective function for binary classification\n    .setLabelCol(LABEL_COLUMN)  # Set the column name for the label\n)\n\n# Start a new MLflow run with the name \"uplift\"\nactive_run = mlflow.start_run(run_name=\"uplift\")\n\n# Start a new nested MLflow run with the name \"treatment\"\nwith mlflow.start_run(run_name=\"treatment\", nested=True) as treatment_run:\n    treatment_run_id = treatment_run.info.run_id  # Get the ID of the treatment run\n    treatment_model = classifier.fit(treatment_train_df)  # Fit the classifier on the treatment training data\n\n# Start a new nested MLflow run with the name \"control\"\nwith mlflow.start_run(run_name=\"control\", nested=True) as control_run:\n    control_run_id = control_run.info.run_id  # Get the ID of the co...",
          "displayName": "collect at LightGBMBase.scala:623",
          "jobGroup": "16",
          "jobId": 25,
          "killedTasksSummary": {},
          "name": "collect at LightGBMBase.scala:623",
          "numActiveStages": 0,
          "numActiveTasks": 0,
          "numCompletedIndices": 8,
          "numCompletedStages": 1,
          "numCompletedTasks": 8,
          "numFailedStages": 0,
          "numFailedTasks": 0,
          "numKilledTasks": 0,
          "numSkippedStages": 0,
          "numSkippedTasks": 0,
          "numTasks": 8,
          "rowCount": 1393,
          "stageIds": [
           36
          ],
          "status": "SUCCEEDED",
          "submissionTime": "2023-09-08T23:21:48.077GMT",
          "usageDescription": ""
         },
         {
          "completionTime": "2023-09-08T23:21:47.939GMT",
          "dataRead": 56187832,
          "dataWritten": 0,
          "description": "Job group for statement 16:\nclassifier = (\n    LightGBMClassifier()\n    .setFeaturesCol(\"features\")  # Set the column name for features\n    .setNumLeaves(10)  # Set the number of leaves in each decision tree\n    .setNumIterations(100)  # Set the number of boosting iterations\n    .setObjective(\"binary\")  # Set the objective function for binary classification\n    .setLabelCol(LABEL_COLUMN)  # Set the column name for the label\n)\n\n# Start a new MLflow run with the name \"uplift\"\nactive_run = mlflow.start_run(run_name=\"uplift\")\n\n# Start a new nested MLflow run with the name \"treatment\"\nwith mlflow.start_run(run_name=\"treatment\", nested=True) as treatment_run:\n    treatment_run_id = treatment_run.info.run_id  # Get the ID of the treatment run\n    treatment_model = classifier.fit(treatment_train_df)  # Fit the classifier on the treatment training data\n\n# Start a new nested MLflow run with the name \"control\"\nwith mlflow.start_run(run_name=\"control\", nested=True) as control_run:\n    control_run_id = control_run.info.run_id  # Get the ID of the co...",
          "displayName": "first at LightGBMBase.scala:481",
          "jobGroup": "16",
          "jobId": 24,
          "killedTasksSummary": {},
          "name": "first at LightGBMBase.scala:481",
          "numActiveStages": 0,
          "numActiveTasks": 0,
          "numCompletedIndices": 1,
          "numCompletedStages": 1,
          "numCompletedTasks": 1,
          "numFailedStages": 0,
          "numFailedTasks": 0,
          "numKilledTasks": 0,
          "numSkippedStages": 0,
          "numSkippedTasks": 0,
          "numTasks": 1,
          "rowCount": 58,
          "stageIds": [
           35
          ],
          "status": "SUCCEEDED",
          "submissionTime": "2023-09-08T23:21:45.662GMT",
          "usageDescription": ""
         }
        ],
        "limit": 20,
        "numbers": {
         "FAILED": 0,
         "RUNNING": 0,
         "SUCCEEDED": 8,
         "UNKNOWN": 0
        },
        "rule": "ALL_DESC"
       },
       "spark_pool": null,
       "state": "finished",
       "statement_id": 16
      },
      "text/plain": [
       "StatementMeta(, bb877a9c-c8cf-471c-98da-25e85626530f, 16, Finished, Available)"
      ]
     },
     "metadata": {},
     "output_type": "display_data"
    },
    {
     "name": "stderr",
     "output_type": "stream",
     "text": [
      "2023/09/08 23:22:18 WARNING mlflow.pyspark.ml: Model inputs contain unsupported Spark data types: [StructField('features', VectorUDT(), True)]. Model signature is not logged.\n",
      "2023/09/08 23:22:26 WARNING mlflow.utils.environment: Encountered an unexpected error while inferring pip requirements (model URI: /tmp/tmpack5q2cd/model, flavor: spark), fall back to return ['pyspark==3.3.1']. Set logging level to DEBUG to see the full traceback.\n",
      "2023/09/08 23:22:26 WARNING mlflow.utils.autologging_utils: MLflow autologging encountered a warning: \"/home/trusted-service-user/cluster-env/trident_env/lib/python3.10/site-packages/_distutils_hack/__init__.py:33: UserWarning: Setuptools is replacing distutils.\"\n",
      "2023/09/08 23:22:50 WARNING mlflow.utils.environment: Encountered an unexpected error while inferring pip requirements (model URI: /tmp/tmpuocncyyt/model, flavor: spark), fall back to return ['pyspark==3.3.1']. Set logging level to DEBUG to see the full traceback.\n"
     ]
    }
   ],
   "source": [
    "classifier = (\n",
    "    LightGBMClassifier()\n",
    "    .setFeaturesCol(\"features\")  # Set the column name for features\n",
    "    .setNumLeaves(10)  # Set the number of leaves in each decision tree\n",
    "    .setNumIterations(100)  # Set the number of boosting iterations\n",
    "    .setObjective(\"binary\")  # Set the objective function for binary classification\n",
    "    .setLabelCol(LABEL_COLUMN)  # Set the column name for the label\n",
    ")\n",
    "\n",
    "# Start a new MLflow run with the name \"uplift\"\n",
    "active_run = mlflow.start_run(run_name=\"uplift\")\n",
    "\n",
    "# Start a new nested MLflow run with the name \"treatment\"\n",
    "with mlflow.start_run(run_name=\"treatment\", nested=True) as treatment_run:\n",
    "    treatment_run_id = treatment_run.info.run_id  # Get the ID of the treatment run\n",
    "    treatment_model = classifier.fit(treatment_train_df)  # Fit the classifier on the treatment training data\n",
    "\n",
    "# Start a new nested MLflow run with the name \"control\"\n",
    "with mlflow.start_run(run_name=\"control\", nested=True) as control_run:\n",
    "    control_run_id = control_run.info.run_id  # Get the ID of the control run\n",
    "    control_model = classifier.fit(control_train_df)  # Fit the classifier on the control training data"
   ]
  },
  {
   "cell_type": "markdown",
   "id": "41aeeb3b-05ed-47c8-bd27-16717c8fc9b4",
   "metadata": {
    "nteract": {
     "transient": {
      "deleting": false
     }
    }
   },
   "source": [
    "#### Use the test dataset for a prediction\n",
    "\n",
    "You'll use the `treatment_model` and `control_model`, both defined earlier, to transform the `test_df` test dataset. Then, you'll calculate the predicted uplift. You'll define the predicted uplift as the difference between the predicted treatment outcome and the predicted control outcome. The greater this predicted uplift difference, the greater the effectiveness of the treatment (e.g., advertising) on an individual or a sub-group.\n"
   ]
  },
  {
   "cell_type": "code",
   "execution_count": null,
   "id": "37ee9071-8119-4ca0-b213-78f6b47e12a9",
   "metadata": {
    "jupyter": {
     "outputs_hidden": false,
     "source_hidden": false
    },
    "nteract": {
     "transient": {
      "deleting": false
     }
    }
   },
   "outputs": [
    {
     "data": {
      "application/vnd.livy.statement-meta+json": {
       "execution_finish_time": "2023-09-08T23:23:31.1820478Z",
       "execution_start_time": "2023-09-08T23:22:53.8890825Z",
       "livy_statement_state": "available",
       "parent_msg_id": "1f88948d-e954-4e33-8f6b-e31be63ae913",
       "queued_time": "2023-09-08T23:19:41.8665932Z",
       "session_id": "bb877a9c-c8cf-471c-98da-25e85626530f",
       "session_start_time": null,
       "spark_jobs": {
        "jobs": [
         {
          "completionTime": "2023-09-08T23:23:29.884GMT",
          "dataRead": 0,
          "dataWritten": 0,
          "description": "Job group for statement 17:\ngetPred = F.udf(lambda v: float(v[1]), FloatType())\n\n# Cache the resulting DataFrame for easier access\ntest_pred_df = (\n    test_df.mlTransform(treatment_model)\n    .withColumn(\"treatment_pred\", getPred(\"probability\"))\n    .drop(\"rawPrediction\", \"probability\", \"prediction\")\n    .mlTransform(control_model)\n    .withColumn(\"control_pred\", getPred(\"probability\"))\n    .drop(\"rawPrediction\", \"probability\", \"prediction\")\n    .withColumn(\"pred_uplift\", F.col(\"treatment_pred\") - F.col(\"control_pred\"))\n    .select(TREATMENT_COLUMN, LABEL_COLUMN, \"treatment_pred\", \"control_pred\", \"pred_uplift\")\n    .cache()\n)\n\n# Display the first twenty rows of the resulting DataFrame\ndisplay(test_pred_df.limit(20))",
          "displayName": "getRowsInJsonString at Display.scala:452",
          "jobGroup": "17",
          "jobId": 33,
          "killedTasksSummary": {},
          "name": "getRowsInJsonString at Display.scala:452",
          "numActiveStages": 0,
          "numActiveTasks": 0,
          "numCompletedIndices": 1,
          "numCompletedStages": 1,
          "numCompletedTasks": 1,
          "numFailedStages": 0,
          "numFailedTasks": 0,
          "numKilledTasks": 0,
          "numSkippedStages": 1,
          "numSkippedTasks": 25,
          "numTasks": 26,
          "rowCount": 0,
          "stageIds": [
           45,
           44
          ],
          "status": "SUCCEEDED",
          "submissionTime": "2023-09-08T23:23:29.851GMT",
          "usageDescription": ""
         },
         {
          "completionTime": "2023-09-08T23:23:29.788GMT",
          "dataRead": 1361805488,
          "dataWritten": 5830,
          "description": "Job group for statement 17:\ngetPred = F.udf(lambda v: float(v[1]), FloatType())\n\n# Cache the resulting DataFrame for easier access\ntest_pred_df = (\n    test_df.mlTransform(treatment_model)\n    .withColumn(\"treatment_pred\", getPred(\"probability\"))\n    .drop(\"rawPrediction\", \"probability\", \"prediction\")\n    .mlTransform(control_model)\n    .withColumn(\"control_pred\", getPred(\"probability\"))\n    .drop(\"rawPrediction\", \"probability\", \"prediction\")\n    .withColumn(\"pred_uplift\", F.col(\"treatment_pred\") - F.col(\"control_pred\"))\n    .select(TREATMENT_COLUMN, LABEL_COLUMN, \"treatment_pred\", \"control_pred\", \"pred_uplift\")\n    .cache()\n)\n\n# Display the first twenty rows of the resulting DataFrame\ndisplay(test_pred_df.limit(20))",
          "displayName": "getRowsInJsonString at Display.scala:452",
          "jobGroup": "17",
          "jobId": 32,
          "killedTasksSummary": {},
          "name": "getRowsInJsonString at Display.scala:452",
          "numActiveStages": 0,
          "numActiveTasks": 0,
          "numCompletedIndices": 25,
          "numCompletedStages": 1,
          "numCompletedTasks": 25,
          "numFailedStages": 0,
          "numFailedTasks": 0,
          "numKilledTasks": 0,
          "numSkippedStages": 0,
          "numSkippedTasks": 0,
          "numTasks": 25,
          "rowCount": 1904,
          "stageIds": [
           43
          ],
          "status": "SUCCEEDED",
          "submissionTime": "2023-09-08T23:22:54.586GMT",
          "usageDescription": ""
         }
        ],
        "limit": 20,
        "numbers": {
         "FAILED": 0,
         "RUNNING": 0,
         "SUCCEEDED": 2,
         "UNKNOWN": 0
        },
        "rule": "ALL_DESC"
       },
       "spark_pool": null,
       "state": "finished",
       "statement_id": 17
      },
      "text/plain": [
       "StatementMeta(, bb877a9c-c8cf-471c-98da-25e85626530f, 17, Finished, Available)"
      ]
     },
     "metadata": {},
     "output_type": "display_data"
    },
    {
     "data": {
      "application/vnd.synapse.widget-view+json": {
       "widget_id": "2b05e279-7816-43b3-857c-cb58b1bb8f4d",
       "widget_type": "Synapse.DataFrame"
      },
      "text/plain": [
       "SynapseWidget(Synapse.DataFrame, 2b05e279-7816-43b3-857c-cb58b1bb8f4d)"
      ]
     },
     "metadata": {},
     "output_type": "display_data"
    }
   ],
   "source": [
    "getPred = F.udf(lambda v: float(v[1]), FloatType())\n",
    "\n",
    "# Cache the resulting DataFrame for easier access\n",
    "test_pred_df = (\n",
    "    test_df.mlTransform(treatment_model)\n",
    "    .withColumn(\"treatment_pred\", getPred(\"probability\"))\n",
    "    .drop(\"rawPrediction\", \"probability\", \"prediction\")\n",
    "    .mlTransform(control_model)\n",
    "    .withColumn(\"control_pred\", getPred(\"probability\"))\n",
    "    .drop(\"rawPrediction\", \"probability\", \"prediction\")\n",
    "    .withColumn(\"pred_uplift\", F.col(\"treatment_pred\") - F.col(\"control_pred\"))\n",
    "    .select(TREATMENT_COLUMN, LABEL_COLUMN, \"treatment_pred\", \"control_pred\", \"pred_uplift\")\n",
    "    .cache()\n",
    ")\n",
    "\n",
    "# Display the first twenty rows of the resulting DataFrame\n",
    "display(test_pred_df.limit(20))"
   ]
  },
  {
   "cell_type": "markdown",
   "id": "6f783613-8e24-4cda-b6d9-3a06aad7b650",
   "metadata": {
    "nteract": {
     "transient": {
      "deleting": false
     }
    }
   },
   "source": [
    "#### Perform model evaluation\n",
    "\n",
    "Since actual uplift cannot be observed for each individual, you need to measure the uplift over a group of individuals. You'll use an Uplift Curve that plots the real, cumulative uplift across the population.\n",
    "\n",
    "![criteo_uplift_curve.jpeg](https://mmlspark.blob.core.windows.net/graphics/notebooks/criteo_uplift_curve.jpeg)\n",
    "\n",
    "The x-axis represents the ratio of the population selected for the treatment. A value of 0 suggests no treatment group - no one is exposed to, or offered, the treatment. A value of 1 suggests a full treatment group - everyone is exposed to, or offered, the treatment. The y-axis shows the uplift measure. The aim is to find the size of the treatment group, or the percentage of the population that would be offered or exposed to the treatment (e.g., advertising). This optimizes the target selection, to maximize its impact.\n",
    "\n",
    "First, rank the test DataFrame order by the predicted uplift. The predicted uplift is the difference between the predicted treatment outcome and the predicted control outcome."
   ]
  },
  {
   "cell_type": "code",
   "execution_count": null,
   "id": "78061a75-5f32-422b-9555-314d4a638306",
   "metadata": {
    "jupyter": {
     "outputs_hidden": false,
     "source_hidden": false
    },
    "nteract": {
     "transient": {
      "deleting": false
     }
    }
   },
   "outputs": [
    {
     "data": {
      "application/vnd.livy.statement-meta+json": {
       "execution_finish_time": "2023-09-08T23:23:34.0296887Z",
       "execution_start_time": "2023-09-08T23:23:31.4452702Z",
       "livy_statement_state": "available",
       "parent_msg_id": "16ff6fd9-0fe3-4f6d-b45b-cc3eeb62114e",
       "queued_time": "2023-09-08T23:19:41.8672767Z",
       "session_id": "bb877a9c-c8cf-471c-98da-25e85626530f",
       "session_start_time": null,
       "spark_jobs": {
        "jobs": [
         {
          "completionTime": "2023-09-08T23:23:33.725GMT",
          "dataRead": 24381543,
          "dataWritten": 0,
          "description": "Job group for statement 18:\n# Compute the percentage rank of the predicted uplift values in descending order, and display the top twenty rows\ntest_ranked_df = test_pred_df.withColumn(\"percent_rank\", F.percent_rank().over(Window.orderBy(F.desc(\"pred_uplift\"))))\n\ndisplay(test_ranked_df.limit(20))",
          "displayName": "getRowsInJsonString at Display.scala:452",
          "jobGroup": "18",
          "jobId": 35,
          "killedTasksSummary": {},
          "name": "getRowsInJsonString at Display.scala:452",
          "numActiveStages": 0,
          "numActiveTasks": 0,
          "numCompletedIndices": 1,
          "numCompletedStages": 1,
          "numCompletedTasks": 1,
          "numFailedStages": 0,
          "numFailedTasks": 0,
          "numKilledTasks": 0,
          "numSkippedStages": 1,
          "numSkippedTasks": 25,
          "numTasks": 26,
          "rowCount": 2796627,
          "stageIds": [
           48,
           47
          ],
          "status": "SUCCEEDED",
          "submissionTime": "2023-09-08T23:23:32.291GMT",
          "usageDescription": ""
         },
         {
          "completionTime": "2023-09-08T23:23:32.151GMT",
          "dataRead": 35972800,
          "dataWritten": 24381543,
          "description": "Job group for statement 18:\n# Compute the percentage rank of the predicted uplift values in descending order, and display the top twenty rows\ntest_ranked_df = test_pred_df.withColumn(\"percent_rank\", F.percent_rank().over(Window.orderBy(F.desc(\"pred_uplift\"))))\n\ndisplay(test_ranked_df.limit(20))",
          "displayName": "getRowsInJsonString at Display.scala:452",
          "jobGroup": "18",
          "jobId": 34,
          "killedTasksSummary": {},
          "name": "getRowsInJsonString at Display.scala:452",
          "numActiveStages": 0,
          "numActiveTasks": 0,
          "numCompletedIndices": 25,
          "numCompletedStages": 1,
          "numCompletedTasks": 25,
          "numFailedStages": 0,
          "numFailedTasks": 0,
          "numKilledTasks": 0,
          "numSkippedStages": 0,
          "numSkippedTasks": 0,
          "numTasks": 25,
          "rowCount": 2796918,
          "stageIds": [
           46
          ],
          "status": "SUCCEEDED",
          "submissionTime": "2023-09-08T23:23:31.701GMT",
          "usageDescription": ""
         }
        ],
        "limit": 20,
        "numbers": {
         "FAILED": 0,
         "RUNNING": 0,
         "SUCCEEDED": 2,
         "UNKNOWN": 0
        },
        "rule": "ALL_DESC"
       },
       "spark_pool": null,
       "state": "finished",
       "statement_id": 18
      },
      "text/plain": [
       "StatementMeta(, bb877a9c-c8cf-471c-98da-25e85626530f, 18, Finished, Available)"
      ]
     },
     "metadata": {},
     "output_type": "display_data"
    },
    {
     "data": {
      "application/vnd.synapse.widget-view+json": {
       "widget_id": "e9b3eb0d-ff8b-4654-b0d8-c62ab740be69",
       "widget_type": "Synapse.DataFrame"
      },
      "text/plain": [
       "SynapseWidget(Synapse.DataFrame, e9b3eb0d-ff8b-4654-b0d8-c62ab740be69)"
      ]
     },
     "metadata": {},
     "output_type": "display_data"
    }
   ],
   "source": [
    "# Compute the percentage rank of the predicted uplift values in descending order, and display the top twenty rows\n",
    "test_ranked_df = test_pred_df.withColumn(\"percent_rank\", F.percent_rank().over(Window.orderBy(F.desc(\"pred_uplift\"))))\n",
    "\n",
    "display(test_ranked_df.limit(20))"
   ]
  },
  {
   "cell_type": "markdown",
   "id": "1ba35815-5909-4feb-bb9f-25fc03c44a62",
   "metadata": {},
   "source": [
    "Next, calculate the cumulative percentage of visits in both the treatment and control groups."
   ]
  },
  {
   "cell_type": "code",
   "execution_count": null,
   "id": "40f3209a-647b-4047-a204-22971b41d7f5",
   "metadata": {},
   "outputs": [
    {
     "data": {
      "application/vnd.livy.statement-meta+json": {
       "execution_finish_time": "2023-09-08T23:23:38.672177Z",
       "execution_start_time": "2023-09-08T23:23:34.2910596Z",
       "livy_statement_state": "available",
       "parent_msg_id": "0f6f16a6-a189-429f-8682-473d389c1521",
       "queued_time": "2023-09-08T23:19:41.8679054Z",
       "session_id": "bb877a9c-c8cf-471c-98da-25e85626530f",
       "session_start_time": null,
       "spark_jobs": {
        "jobs": [
         {
          "completionTime": "2023-09-08T23:23:38.325GMT",
          "dataRead": 24381543,
          "dataWritten": 0,
          "description": "Job group for statement 19:\n# Calculate the number of control and treatment samples\nC = test_ranked_df.where(f\"{TREATMENT_COLUMN} == 0\").count()\nT = test_ranked_df.where(f\"{TREATMENT_COLUMN} != 0\").count()\n\n# Add columns to the DataFrame to calculate the control and treatment cumulative sum\ntest_ranked_df = (\n    test_ranked_df.withColumn(\n        \"control_label\",\n        F.when(F.col(TREATMENT_COLUMN) == 0, F.col(LABEL_COLUMN)).otherwise(0),\n    )\n    .withColumn(\n        \"treatment_label\",\n        F.when(F.col(TREATMENT_COLUMN) != 0, F.col(LABEL_COLUMN)).otherwise(0),\n    )\n    .withColumn(\n        \"control_cumsum\",\n        F.sum(\"control_label\").over(Window.orderBy(\"percent_rank\")) / C,\n    )\n    .withColumn(\n        \"treatment_cumsum\",\n        F.sum(\"treatment_label\").over(Window.orderBy(\"percent_rank\")) / T,\n    )\n)\n\n# Display the first 20 rows of the dataframe\ndisplay(test_ranked_df.limit(20))",
          "displayName": "getRowsInJsonString at Display.scala:452",
          "jobGroup": "19",
          "jobId": 41,
          "killedTasksSummary": {},
          "name": "getRowsInJsonString at Display.scala:452",
          "numActiveStages": 0,
          "numActiveTasks": 0,
          "numCompletedIndices": 1,
          "numCompletedStages": 1,
          "numCompletedTasks": 1,
          "numFailedStages": 0,
          "numFailedTasks": 0,
          "numKilledTasks": 0,
          "numSkippedStages": 1,
          "numSkippedTasks": 25,
          "numTasks": 26,
          "rowCount": 2796627,
          "stageIds": [
           56,
           57
          ],
          "status": "SUCCEEDED",
          "submissionTime": "2023-09-08T23:23:36.112GMT",
          "usageDescription": ""
         },
         {
          "completionTime": "2023-09-08T23:23:36.045GMT",
          "dataRead": 35972800,
          "dataWritten": 24381543,
          "description": "Job group for statement 19:\n# Calculate the number of control and treatment samples\nC = test_ranked_df.where(f\"{TREATMENT_COLUMN} == 0\").count()\nT = test_ranked_df.where(f\"{TREATMENT_COLUMN} != 0\").count()\n\n# Add columns to the DataFrame to calculate the control and treatment cumulative sum\ntest_ranked_df = (\n    test_ranked_df.withColumn(\n        \"control_label\",\n        F.when(F.col(TREATMENT_COLUMN) == 0, F.col(LABEL_COLUMN)).otherwise(0),\n    )\n    .withColumn(\n        \"treatment_label\",\n        F.when(F.col(TREATMENT_COLUMN) != 0, F.col(LABEL_COLUMN)).otherwise(0),\n    )\n    .withColumn(\n        \"control_cumsum\",\n        F.sum(\"control_label\").over(Window.orderBy(\"percent_rank\")) / C,\n    )\n    .withColumn(\n        \"treatment_cumsum\",\n        F.sum(\"treatment_label\").over(Window.orderBy(\"percent_rank\")) / T,\n    )\n)\n\n# Display the first 20 rows of the dataframe\ndisplay(test_ranked_df.limit(20))",
          "displayName": "getRowsInJsonString at Display.scala:452",
          "jobGroup": "19",
          "jobId": 40,
          "killedTasksSummary": {},
          "name": "getRowsInJsonString at Display.scala:452",
          "numActiveStages": 0,
          "numActiveTasks": 0,
          "numCompletedIndices": 25,
          "numCompletedStages": 1,
          "numCompletedTasks": 25,
          "numFailedStages": 0,
          "numFailedTasks": 0,
          "numKilledTasks": 0,
          "numSkippedStages": 0,
          "numSkippedTasks": 0,
          "numTasks": 25,
          "rowCount": 2796918,
          "stageIds": [
           55
          ],
          "status": "SUCCEEDED",
          "submissionTime": "2023-09-08T23:23:35.764GMT",
          "usageDescription": ""
         },
         {
          "completionTime": "2023-09-08T23:23:35.410GMT",
          "dataRead": 1472,
          "dataWritten": 0,
          "description": "Job group for statement 19:\n# Calculate the number of control and treatment samples\nC = test_ranked_df.where(f\"{TREATMENT_COLUMN} == 0\").count()\nT = test_ranked_df.where(f\"{TREATMENT_COLUMN} != 0\").count()\n\n# Add columns to the DataFrame to calculate the control and treatment cumulative sum\ntest_ranked_df = (\n    test_ranked_df.withColumn(\n        \"control_label\",\n        F.when(F.col(TREATMENT_COLUMN) == 0, F.col(LABEL_COLUMN)).otherwise(0),\n    )\n    .withColumn(\n        \"treatment_label\",\n        F.when(F.col(TREATMENT_COLUMN) != 0, F.col(LABEL_COLUMN)).otherwise(0),\n    )\n    .withColumn(\n        \"control_cumsum\",\n        F.sum(\"control_label\").over(Window.orderBy(\"percent_rank\")) / C,\n    )\n    .withColumn(\n        \"treatment_cumsum\",\n        F.sum(\"treatment_label\").over(Window.orderBy(\"percent_rank\")) / T,\n    )\n)\n\n# Display the first 20 rows of the dataframe\ndisplay(test_ranked_df.limit(20))",
          "displayName": "count at NativeMethodAccessorImpl.java:0",
          "jobGroup": "19",
          "jobId": 39,
          "killedTasksSummary": {},
          "name": "count at NativeMethodAccessorImpl.java:0",
          "numActiveStages": 0,
          "numActiveTasks": 0,
          "numCompletedIndices": 1,
          "numCompletedStages": 1,
          "numCompletedTasks": 1,
          "numFailedStages": 0,
          "numFailedTasks": 0,
          "numKilledTasks": 0,
          "numSkippedStages": 1,
          "numSkippedTasks": 25,
          "numTasks": 26,
          "rowCount": 25,
          "stageIds": [
           53,
           54
          ],
          "status": "SUCCEEDED",
          "submissionTime": "2023-09-08T23:23:35.392GMT",
          "usageDescription": ""
         },
         {
          "completionTime": "2023-09-08T23:23:35.374GMT",
          "dataRead": 35972800,
          "dataWritten": 1472,
          "description": "Job group for statement 19:\n# Calculate the number of control and treatment samples\nC = test_ranked_df.where(f\"{TREATMENT_COLUMN} == 0\").count()\nT = test_ranked_df.where(f\"{TREATMENT_COLUMN} != 0\").count()\n\n# Add columns to the DataFrame to calculate the control and treatment cumulative sum\ntest_ranked_df = (\n    test_ranked_df.withColumn(\n        \"control_label\",\n        F.when(F.col(TREATMENT_COLUMN) == 0, F.col(LABEL_COLUMN)).otherwise(0),\n    )\n    .withColumn(\n        \"treatment_label\",\n        F.when(F.col(TREATMENT_COLUMN) != 0, F.col(LABEL_COLUMN)).otherwise(0),\n    )\n    .withColumn(\n        \"control_cumsum\",\n        F.sum(\"control_label\").over(Window.orderBy(\"percent_rank\")) / C,\n    )\n    .withColumn(\n        \"treatment_cumsum\",\n        F.sum(\"treatment_label\").over(Window.orderBy(\"percent_rank\")) / T,\n    )\n)\n\n# Display the first 20 rows of the dataframe\ndisplay(test_ranked_df.limit(20))",
          "displayName": "count at NativeMethodAccessorImpl.java:0",
          "jobGroup": "19",
          "jobId": 38,
          "killedTasksSummary": {},
          "name": "count at NativeMethodAccessorImpl.java:0",
          "numActiveStages": 0,
          "numActiveTasks": 0,
          "numCompletedIndices": 25,
          "numCompletedStages": 1,
          "numCompletedTasks": 25,
          "numFailedStages": 0,
          "numFailedTasks": 0,
          "numKilledTasks": 0,
          "numSkippedStages": 0,
          "numSkippedTasks": 0,
          "numTasks": 25,
          "rowCount": 316,
          "stageIds": [
           52
          ],
          "status": "SUCCEEDED",
          "submissionTime": "2023-09-08T23:23:35.066GMT",
          "usageDescription": ""
         },
         {
          "completionTime": "2023-09-08T23:23:34.808GMT",
          "dataRead": 1424,
          "dataWritten": 0,
          "description": "Job group for statement 19:\n# Calculate the number of control and treatment samples\nC = test_ranked_df.where(f\"{TREATMENT_COLUMN} == 0\").count()\nT = test_ranked_df.where(f\"{TREATMENT_COLUMN} != 0\").count()\n\n# Add columns to the DataFrame to calculate the control and treatment cumulative sum\ntest_ranked_df = (\n    test_ranked_df.withColumn(\n        \"control_label\",\n        F.when(F.col(TREATMENT_COLUMN) == 0, F.col(LABEL_COLUMN)).otherwise(0),\n    )\n    .withColumn(\n        \"treatment_label\",\n        F.when(F.col(TREATMENT_COLUMN) != 0, F.col(LABEL_COLUMN)).otherwise(0),\n    )\n    .withColumn(\n        \"control_cumsum\",\n        F.sum(\"control_label\").over(Window.orderBy(\"percent_rank\")) / C,\n    )\n    .withColumn(\n        \"treatment_cumsum\",\n        F.sum(\"treatment_label\").over(Window.orderBy(\"percent_rank\")) / T,\n    )\n)\n\n# Display the first 20 rows of the dataframe\ndisplay(test_ranked_df.limit(20))",
          "displayName": "count at NativeMethodAccessorImpl.java:0",
          "jobGroup": "19",
          "jobId": 37,
          "killedTasksSummary": {},
          "name": "count at NativeMethodAccessorImpl.java:0",
          "numActiveStages": 0,
          "numActiveTasks": 0,
          "numCompletedIndices": 1,
          "numCompletedStages": 1,
          "numCompletedTasks": 1,
          "numFailedStages": 0,
          "numFailedTasks": 0,
          "numKilledTasks": 0,
          "numSkippedStages": 1,
          "numSkippedTasks": 25,
          "numTasks": 26,
          "rowCount": 25,
          "stageIds": [
           51,
           50
          ],
          "status": "SUCCEEDED",
          "submissionTime": "2023-09-08T23:23:34.788GMT",
          "usageDescription": ""
         },
         {
          "completionTime": "2023-09-08T23:23:34.768GMT",
          "dataRead": 35972800,
          "dataWritten": 1424,
          "description": "Job group for statement 19:\n# Calculate the number of control and treatment samples\nC = test_ranked_df.where(f\"{TREATMENT_COLUMN} == 0\").count()\nT = test_ranked_df.where(f\"{TREATMENT_COLUMN} != 0\").count()\n\n# Add columns to the DataFrame to calculate the control and treatment cumulative sum\ntest_ranked_df = (\n    test_ranked_df.withColumn(\n        \"control_label\",\n        F.when(F.col(TREATMENT_COLUMN) == 0, F.col(LABEL_COLUMN)).otherwise(0),\n    )\n    .withColumn(\n        \"treatment_label\",\n        F.when(F.col(TREATMENT_COLUMN) != 0, F.col(LABEL_COLUMN)).otherwise(0),\n    )\n    .withColumn(\n        \"control_cumsum\",\n        F.sum(\"control_label\").over(Window.orderBy(\"percent_rank\")) / C,\n    )\n    .withColumn(\n        \"treatment_cumsum\",\n        F.sum(\"treatment_label\").over(Window.orderBy(\"percent_rank\")) / T,\n    )\n)\n\n# Display the first 20 rows of the dataframe\ndisplay(test_ranked_df.limit(20))",
          "displayName": "count at NativeMethodAccessorImpl.java:0",
          "jobGroup": "19",
          "jobId": 36,
          "killedTasksSummary": {},
          "name": "count at NativeMethodAccessorImpl.java:0",
          "numActiveStages": 0,
          "numActiveTasks": 0,
          "numCompletedIndices": 25,
          "numCompletedStages": 1,
          "numCompletedTasks": 25,
          "numFailedStages": 0,
          "numFailedTasks": 0,
          "numKilledTasks": 0,
          "numSkippedStages": 0,
          "numSkippedTasks": 0,
          "numTasks": 25,
          "rowCount": 316,
          "stageIds": [
           49
          ],
          "status": "SUCCEEDED",
          "submissionTime": "2023-09-08T23:23:34.517GMT",
          "usageDescription": ""
         }
        ],
        "limit": 20,
        "numbers": {
         "FAILED": 0,
         "RUNNING": 0,
         "SUCCEEDED": 6,
         "UNKNOWN": 0
        },
        "rule": "ALL_DESC"
       },
       "spark_pool": null,
       "state": "finished",
       "statement_id": 19
      },
      "text/plain": [
       "StatementMeta(, bb877a9c-c8cf-471c-98da-25e85626530f, 19, Finished, Available)"
      ]
     },
     "metadata": {},
     "output_type": "display_data"
    },
    {
     "data": {
      "application/vnd.synapse.widget-view+json": {
       "widget_id": "ad5b29a3-0feb-4bd7-a223-a7aeb494bf08",
       "widget_type": "Synapse.DataFrame"
      },
      "text/plain": [
       "SynapseWidget(Synapse.DataFrame, ad5b29a3-0feb-4bd7-a223-a7aeb494bf08)"
      ]
     },
     "metadata": {},
     "output_type": "display_data"
    }
   ],
   "source": [
    "# Calculate the number of control and treatment samples\n",
    "C = test_ranked_df.where(f\"{TREATMENT_COLUMN} == 0\").count()\n",
    "T = test_ranked_df.where(f\"{TREATMENT_COLUMN} != 0\").count()\n",
    "\n",
    "# Add columns to the DataFrame to calculate the control and treatment cumulative sum\n",
    "test_ranked_df = (\n",
    "    test_ranked_df.withColumn(\n",
    "        \"control_label\",\n",
    "        F.when(F.col(TREATMENT_COLUMN) == 0, F.col(LABEL_COLUMN)).otherwise(0),\n",
    "    )\n",
    "    .withColumn(\n",
    "        \"treatment_label\",\n",
    "        F.when(F.col(TREATMENT_COLUMN) != 0, F.col(LABEL_COLUMN)).otherwise(0),\n",
    "    )\n",
    "    .withColumn(\n",
    "        \"control_cumsum\",\n",
    "        F.sum(\"control_label\").over(Window.orderBy(\"percent_rank\")) / C,\n",
    "    )\n",
    "    .withColumn(\n",
    "        \"treatment_cumsum\",\n",
    "        F.sum(\"treatment_label\").over(Window.orderBy(\"percent_rank\")) / T,\n",
    "    )\n",
    ")\n",
    "\n",
    "# Display the first 20 rows of the dataframe\n",
    "display(test_ranked_df.limit(20))"
   ]
  },
  {
   "cell_type": "markdown",
   "id": "e3564e70-25e8-4aa1-baf6-19bb0fa683e1",
   "metadata": {},
   "source": [
    "Finally, at each percentage, calculate the uplift of the group as the difference between the cumulative percentage of visits between the treatment and control groups."
   ]
  },
  {
   "cell_type": "code",
   "execution_count": null,
   "id": "b4fa91d5-da05-4269-b42f-05fd8dfbe9b3",
   "metadata": {},
   "outputs": [
    {
     "data": {
      "application/vnd.livy.statement-meta+json": {
       "execution_finish_time": "2023-09-08T23:23:45.5821115Z",
       "execution_start_time": "2023-09-08T23:23:38.9280503Z",
       "livy_statement_state": "available",
       "parent_msg_id": "a6c07c13-ac42-4ef4-9266-3bb8ee5b2c7b",
       "queued_time": "2023-09-08T23:19:41.8685574Z",
       "session_id": "bb877a9c-c8cf-471c-98da-25e85626530f",
       "session_start_time": null,
       "spark_jobs": {
        "jobs": [
         {
          "completionTime": "2023-09-08T23:23:44.219GMT",
          "dataRead": 60354343,
          "dataWritten": 24381543,
          "description": "Job group for statement 20:\ntest_ranked_df = test_ranked_df.withColumn(\"group_uplift\", F.col(\"treatment_cumsum\") - F.col(\"control_cumsum\")).cache()\ndisplay(test_ranked_df.limit(20))",
          "displayName": "getRowsInJsonString at Display.scala:452",
          "jobGroup": "20",
          "jobId": 42,
          "killedTasksSummary": {},
          "name": "getRowsInJsonString at Display.scala:452",
          "numActiveStages": 0,
          "numActiveTasks": 0,
          "numCompletedIndices": 26,
          "numCompletedStages": 2,
          "numCompletedTasks": 26,
          "numFailedStages": 0,
          "numFailedTasks": 0,
          "numKilledTasks": 0,
          "numSkippedStages": 0,
          "numSkippedTasks": 0,
          "numTasks": 26,
          "rowCount": 5593545,
          "stageIds": [
           58,
           59
          ],
          "status": "SUCCEEDED",
          "submissionTime": "2023-09-08T23:23:39.404GMT",
          "usageDescription": ""
         }
        ],
        "limit": 20,
        "numbers": {
         "FAILED": 0,
         "RUNNING": 0,
         "SUCCEEDED": 1,
         "UNKNOWN": 0
        },
        "rule": "ALL_DESC"
       },
       "spark_pool": null,
       "state": "finished",
       "statement_id": 20
      },
      "text/plain": [
       "StatementMeta(, bb877a9c-c8cf-471c-98da-25e85626530f, 20, Finished, Available)"
      ]
     },
     "metadata": {},
     "output_type": "display_data"
    },
    {
     "data": {
      "application/vnd.synapse.widget-view+json": {
       "widget_id": "ace1f9a9-9e27-41a3-829e-75f6320315c3",
       "widget_type": "Synapse.DataFrame"
      },
      "text/plain": [
       "SynapseWidget(Synapse.DataFrame, ace1f9a9-9e27-41a3-829e-75f6320315c3)"
      ]
     },
     "metadata": {},
     "output_type": "display_data"
    }
   ],
   "source": [
    "test_ranked_df = test_ranked_df.withColumn(\"group_uplift\", F.col(\"treatment_cumsum\") - F.col(\"control_cumsum\")).cache()\n",
    "display(test_ranked_df.limit(20))"
   ]
  },
  {
   "cell_type": "markdown",
   "id": "0e9bac10-1ae6-4051-b1ad-97ab170190d3",
   "metadata": {
    "nteract": {
     "transient": {
      "deleting": false
     }
    }
   },
   "source": [
    "Now, plot the uplift curve for the test dataset prediction. Note that you must convert the PySpark DataFrame to a Pandas DataFrame before plotting."
   ]
  },
  {
   "cell_type": "code",
   "execution_count": null,
   "id": "09c53ccf-b86b-421b-aa67-63f15f767202",
   "metadata": {
    "jupyter": {
     "outputs_hidden": false,
     "source_hidden": false
    },
    "nteract": {
     "transient": {
      "deleting": false
     }
    }
   },
   "outputs": [
    {
     "data": {
      "application/vnd.livy.statement-meta+json": {
       "execution_finish_time": "2023-09-08T23:23:52.6142735Z",
       "execution_start_time": "2023-09-08T23:23:45.8477135Z",
       "livy_statement_state": "available",
       "parent_msg_id": "cb2affc0-e4af-4627-bbe0-142778c884a8",
       "queued_time": "2023-09-08T23:19:41.8705408Z",
       "session_id": "bb877a9c-c8cf-471c-98da-25e85626530f",
       "session_start_time": null,
       "spark_jobs": {
        "jobs": [
         {
          "completionTime": "2023-09-08T23:23:46.880GMT",
          "dataRead": 127674616,
          "dataWritten": 0,
          "description": "Job group for statement 21:\ndef uplift_plot(uplift_df):\n    \"\"\"\n    Plot the uplift curve\n    \"\"\"\n    gain_x = uplift_df.percent_rank\n    gain_y = uplift_df.group_uplift\n    # Plot the data\n    fig = plt.figure(figsize=(10, 6))\n    mpl.rcParams[\"font.size\"] = 8\n\n    ax = plt.plot(gain_x, gain_y, color=\"#2077B4\", label=\"Normalized Uplift Model\")\n\n    plt.plot(\n        [0, gain_x.max()],\n        [0, gain_y.max()],\n        \"--\",\n        color=\"tab:orange\",\n        label=\"Random Treatment\",\n    )\n    plt.legend()\n    plt.xlabel(\"Porportion Targeted\")\n    plt.ylabel(\"Uplift\")\n    plt.grid(b=True, which=\"major\")\n\n    return fig, ax\n\n\ntest_ranked_pd_df = test_ranked_df.select([\"pred_uplift\", \"percent_rank\", \"group_uplift\"]).toPandas()\nfig, ax = uplift_plot(test_ranked_pd_df)\n\nmlflow.log_figure(fig, \"UpliftCurve.png\")\n",
          "displayName": "toPandas at /tmp/ipykernel_10137/3726734023.py:28",
          "jobGroup": "21",
          "jobId": 43,
          "killedTasksSummary": {},
          "name": "toPandas at /tmp/ipykernel_10137/3726734023.py:28",
          "numActiveStages": 0,
          "numActiveTasks": 0,
          "numCompletedIndices": 1,
          "numCompletedStages": 1,
          "numCompletedTasks": 1,
          "numFailedStages": 0,
          "numFailedTasks": 0,
          "numKilledTasks": 0,
          "numSkippedStages": 1,
          "numSkippedTasks": 25,
          "numTasks": 26,
          "rowCount": 280,
          "stageIds": [
           60,
           61
          ],
          "status": "SUCCEEDED",
          "submissionTime": "2023-09-08T23:23:46.077GMT",
          "usageDescription": ""
         }
        ],
        "limit": 20,
        "numbers": {
         "FAILED": 0,
         "RUNNING": 0,
         "SUCCEEDED": 1,
         "UNKNOWN": 0
        },
        "rule": "ALL_DESC"
       },
       "spark_pool": null,
       "state": "finished",
       "statement_id": 21
      },
      "text/plain": [
       "StatementMeta(, bb877a9c-c8cf-471c-98da-25e85626530f, 21, Finished, Available)"
      ]
     },
     "metadata": {},
     "output_type": "display_data"
    },
    {
     "name": "stderr",
     "output_type": "stream",
     "text": [
      "/tmp/ipykernel_10137/3726734023.py:23: MatplotlibDeprecationWarning: The 'b' parameter of grid() has been renamed 'visible' since Matplotlib 3.5; support for the old name will be dropped two minor releases later.\n",
      "  plt.grid(b=True, which=\"major\")\n"
     ]
    },
    {
     "data": {
      "image/png": "[encoded data removed]",
      "text/plain": [
       "<Figure size 1000x600 with 1 Axes>"
      ]
     },
     "metadata": {},
     "output_type": "display_data"
    }
   ],
   "source": [
    "def uplift_plot(uplift_df):\n",
    "    \"\"\"\n",
    "    Plot the uplift curve\n",
    "    \"\"\"\n",
    "    gain_x = uplift_df.percent_rank\n",
    "    gain_y = uplift_df.group_uplift\n",
    "    # Plot the data\n",
    "    fig = plt.figure(figsize=(10, 6))\n",
    "    mpl.rcParams[\"font.size\"] = 8\n",
    "\n",
    "    ax = plt.plot(gain_x, gain_y, color=\"#2077B4\", label=\"Normalized Uplift Model\")\n",
    "\n",
    "    plt.plot(\n",
    "        [0, gain_x.max()],\n",
    "        [0, gain_y.max()],\n",
    "        \"--\",\n",
    "        color=\"tab:orange\",\n",
    "        label=\"Random Treatment\",\n",
    "    )\n",
    "    plt.legend()\n",
    "    plt.xlabel(\"Porportion Targeted\")\n",
    "    plt.ylabel(\"Uplift\")\n",
    "    plt.grid()\n",
    "\n",
    "    return fig, ax\n",
    "\n",
    "\n",
    "test_ranked_pd_df = test_ranked_df.select([\"pred_uplift\", \"percent_rank\", \"group_uplift\"]).toPandas()\n",
    "fig, ax = uplift_plot(test_ranked_pd_df)\n",
    "\n",
    "mlflow.log_figure(fig, \"UpliftCurve.png\")\n"
   ]
  },
  {
   "cell_type": "markdown",
   "id": "a37345c8-bc29-4ccd-a6d6-5d71d26cdc70",
   "metadata": {
    "nteract": {
     "transient": {
      "deleting": false
     }
    }
   },
   "source": [
    "This analysis and the uplift curve both show that the top 20% population, as ranked by the prediction, would have a large gain if they received the treatment. This means that the top 20% of the population represents the **persuadables** group. Therefore, you can then set the cutoff score for the desired size of treatment group at 20%, to identify the target selection customers for the greatest impact."
   ]
  },
  {
   "cell_type": "code",
   "execution_count": null,
   "id": "044c8efc-6d02-42c1-914e-407118c34939",
   "metadata": {
    "jupyter": {
     "outputs_hidden": false,
     "source_hidden": false
    },
    "nteract": {
     "transient": {
      "deleting": false
     }
    }
   },
   "outputs": [
    {
     "data": {
      "application/vnd.livy.statement-meta+json": {
       "execution_finish_time": "2023-09-08T23:23:55.4667139Z",
       "execution_start_time": "2023-09-08T23:23:52.884446Z",
       "livy_statement_state": "available",
       "parent_msg_id": "041f52a7-fc5f-44b1-a305-0cf2b48db8bd",
       "queued_time": "2023-09-08T23:19:41.8712797Z",
       "session_id": "bb877a9c-c8cf-471c-98da-25e85626530f",
       "session_start_time": null,
       "spark_jobs": {
        "jobs": [],
        "limit": 20,
        "numbers": {
         "FAILED": 0,
         "RUNNING": 0,
         "SUCCEEDED": 0,
         "UNKNOWN": 0
        },
        "rule": "ALL_DESC"
       },
       "spark_pool": null,
       "state": "finished",
       "statement_id": 22
      },
      "text/plain": [
       "StatementMeta(, bb877a9c-c8cf-471c-98da-25e85626530f, 22, Finished, Available)"
      ]
     },
     "metadata": {},
     "output_type": "display_data"
    },
    {
     "name": "stdout",
     "output_type": "stream",
     "text": [
      "Uplift scores that exceed 0.0039 map to Persuadables.\n"
     ]
    }
   ],
   "source": [
    "cutoff_percentage = 0.2\n",
    "cutoff_score = test_ranked_pd_df.iloc[int(len(test_ranked_pd_df) * cutoff_percentage)][\n",
    "    \"pred_uplift\"\n",
    "]\n",
    "\n",
    "print(\"Uplift scores that exceed {:.4f} map to Persuadables.\".format(cutoff_score))\n",
    "mlflow.log_metrics(\n",
    "    {\"cutoff_score\": cutoff_score, \"cutoff_percentage\": cutoff_percentage}\n",
    ")"
   ]
  },
  {
   "cell_type": "markdown",
   "id": "adcc9678-b7fe-4cd8-b559-76b5606eb1a1",
   "metadata": {
    "nteract": {
     "transient": {
      "deleting": false
     }
    }
   },
   "source": [
    "## Step 4: Register the final ML Model"
   ]
  },
  {
   "cell_type": "markdown",
   "id": "a363089c-5691-426d-a9dd-e30b87c0abc5",
   "metadata": {
    "nteract": {
     "transient": {
      "deleting": false
     }
    }
   },
   "source": [
    "You'll use MLflow to track and log all experiments for both treatment and control groups. This tracking and logging includes the corresponding parameters, metrics, and the models. Note that this information is logged under the experiment name, in the workspace, for later use."
   ]
  },
  {
   "cell_type": "code",
   "execution_count": null,
   "id": "71a0f059-0f53-42e7-a80f-5db480644fb1",
   "metadata": {},
   "outputs": [
    {
     "data": {
      "application/vnd.livy.statement-meta+json": {
       "execution_finish_time": "2023-09-08T23:24:04.1742773Z",
       "execution_start_time": "2023-09-08T23:23:55.7318985Z",
       "livy_statement_state": "available",
       "parent_msg_id": "6dc62ca4-0a3d-474b-a616-396e6371d679",
       "queued_time": "2023-09-08T23:19:41.8719946Z",
       "session_id": "bb877a9c-c8cf-471c-98da-25e85626530f",
       "session_start_time": null,
       "spark_jobs": {
        "jobs": [],
        "limit": 20,
        "numbers": {
         "FAILED": 0,
         "RUNNING": 0,
         "SUCCEEDED": 0,
         "UNKNOWN": 0
        },
        "rule": "ALL_DESC"
       },
       "spark_pool": null,
       "state": "finished",
       "statement_id": 23
      },
      "text/plain": [
       "StatementMeta(, bb877a9c-c8cf-471c-98da-25e85626530f, 23, Finished, Available)"
      ]
     },
     "metadata": {},
     "output_type": "display_data"
    },
    {
     "name": "stderr",
     "output_type": "stream",
     "text": [
      "Successfully registered model 'aisample-upliftmodelling-treatmentmodel'.\n",
      "2023/09/08 23:24:00 INFO mlflow.tracking._model_registry.client: Waiting up to 300 seconds for model version to finish creation.                     Model name: aisample-upliftmodelling-treatmentmodel, version 7\n",
      "Created version '7' of model 'aisample-upliftmodelling-treatmentmodel'.\n",
      "Successfully registered model 'aisample-upliftmodelling-controlmodel'.\n",
      "2023/09/08 23:24:03 INFO mlflow.tracking._model_registry.client: Waiting up to 300 seconds for model version to finish creation.                     Model name: aisample-upliftmodelling-controlmodel, version 7\n",
      "Created version '7' of model 'aisample-upliftmodelling-controlmodel'.\n"
     ]
    }
   ],
   "source": [
    "# Register the model\n",
    "treatment_model_uri = \"runs:/{}/model\".format(treatment_run_id)\n",
    "mlflow.register_model(treatment_model_uri, f\"{EXPERIMENT_NAME}-treatmentmodel\")\n",
    "\n",
    "control_model_uri = \"runs:/{}/model\".format(control_run_id)\n",
    "mlflow.register_model(control_model_uri, f\"{EXPERIMENT_NAME}-controlmodel\")\n",
    "\n",
    "mlflow.end_run()"
   ]
  },
  {
   "cell_type": "markdown",
   "id": "e1f73622-39fb-417c-a1f6-e243aec57ae4",
   "metadata": {
    "nteract": {
     "transient": {
      "deleting": false
     }
    }
   },
   "source": [
    "To view your experiments:\n",
    "1. On the left panel, select your workspace.\n",
    "1. Find and select the experiment name, in this case _aisample-upliftmodelling_."
   ]
  },
  {
   "cell_type": "markdown",
   "id": "fd88fb36-8929-4976-8c3f-93d61d8a47e7",
   "metadata": {
    "nteract": {
     "transient": {
      "deleting": false
     }
    }
   },
   "source": [
    "\n",
    "<img style=\"float: left;\" src=\"https://synapseaisolutionsa.blob.core.windows.net/public/Uplift-experiment.png\"  width=\"75%\" height=\"30%\">\n"
   ]
  },
  {
   "cell_type": "markdown",
   "id": "7a987e7f-db47-4ef6-9bec-60b50c448eba",
   "metadata": {},
   "source": [
    "## Step 5: Save the prediction results"
   ]
  },
  {
   "cell_type": "markdown",
   "id": "29d3cc36-e280-45ba-9166-4cc9384e4092",
   "metadata": {
    "nteract": {
     "transient": {
      "deleting": false
     }
    }
   },
   "source": [
    "Microsoft Fabric offers PREDICT - a scalable function that supports batch scoring in any compute engine. It enables customers to operationalize machine learning models. Users can create batch predictions straight from a notebook or the item page for a specific model. Visit [this](https://aka.ms/fabric-predict) resource to learn more about PREDICT, and to learn how to use PREDICT in Microsoft Fabric."
   ]
  },
  {
   "cell_type": "code",
   "execution_count": null,
   "id": "7ae39e12-f39e-4cfb-bfab-4b25e3f7b53f",
   "metadata": {},
   "outputs": [
    {
     "data": {
      "application/vnd.livy.statement-meta+json": {
       "execution_finish_time": "2023-09-08T23:24:12.9208265Z",
       "execution_start_time": "2023-09-08T23:24:04.4464071Z",
       "livy_statement_state": "available",
       "parent_msg_id": "7f6654c1-79b6-47b4-9f28-c8626a60cb47",
       "queued_time": "2023-09-08T23:19:41.8731428Z",
       "session_id": "bb877a9c-c8cf-471c-98da-25e85626530f",
       "session_start_time": null,
       "spark_jobs": {
        "jobs": [
         {
          "completionTime": "2023-09-08T23:24:11.291GMT",
          "dataRead": 56187832,
          "dataWritten": 0,
          "description": "Job group for statement 24:\n# Load the model back\nloaded_treatmentmodel = mlflow.spark.load_model(treatment_model_uri, dfs_tmpdir=\"Files/spark\")\nloaded_controlmodel = mlflow.spark.load_model(control_model_uri, dfs_tmpdir=\"Files/spark\")\n\n# Make predictions\nbatch_predictions_treatment = loaded_treatmentmodel.transform(test_df)\nbatch_predictions_control = loaded_controlmodel.transform(test_df)\nbatch_predictions_treatment.show(5)\n",
          "displayName": "showString at NativeMethodAccessorImpl.java:0",
          "jobGroup": "24",
          "jobId": 52,
          "killedTasksSummary": {},
          "name": "showString at NativeMethodAccessorImpl.java:0",
          "numActiveStages": 0,
          "numActiveTasks": 0,
          "numCompletedIndices": 1,
          "numCompletedStages": 1,
          "numCompletedTasks": 1,
          "numFailedStages": 0,
          "numFailedTasks": 0,
          "numKilledTasks": 0,
          "numSkippedStages": 0,
          "numSkippedTasks": 0,
          "numTasks": 1,
          "rowCount": 58,
          "stageIds": [
           70
          ],
          "status": "SUCCEEDED",
          "submissionTime": "2023-09-08T23:24:09.847GMT",
          "usageDescription": ""
         },
         {
          "completionTime": "2023-09-08T23:24:09.279GMT",
          "dataRead": 817,
          "dataWritten": 0,
          "description": "Job group for statement 24:\n# Load the model back\nloaded_treatmentmodel = mlflow.spark.load_model(treatment_model_uri, dfs_tmpdir=\"Files/spark\")\nloaded_controlmodel = mlflow.spark.load_model(control_model_uri, dfs_tmpdir=\"Files/spark\")\n\n# Make predictions\nbatch_predictions_treatment = loaded_treatmentmodel.transform(test_df)\nbatch_predictions_control = loaded_controlmodel.transform(test_df)\nbatch_predictions_treatment.show(5)\n",
          "displayName": "first at ReadWrite.scala:587",
          "jobGroup": "24",
          "jobId": 51,
          "killedTasksSummary": {},
          "name": "first at ReadWrite.scala:587",
          "numActiveStages": 0,
          "numActiveTasks": 0,
          "numCompletedIndices": 1,
          "numCompletedStages": 1,
          "numCompletedTasks": 1,
          "numFailedStages": 0,
          "numFailedTasks": 0,
          "numKilledTasks": 0,
          "numSkippedStages": 0,
          "numSkippedTasks": 0,
          "numTasks": 1,
          "rowCount": 1,
          "stageIds": [
           69
          ],
          "status": "SUCCEEDED",
          "submissionTime": "2023-09-08T23:24:09.242GMT",
          "usageDescription": ""
         },
         {
          "completionTime": "2023-09-08T23:24:09.186GMT",
          "dataRead": 817,
          "dataWritten": 0,
          "description": "Job group for statement 24:\n# Load the model back\nloaded_treatmentmodel = mlflow.spark.load_model(treatment_model_uri, dfs_tmpdir=\"Files/spark\")\nloaded_controlmodel = mlflow.spark.load_model(control_model_uri, dfs_tmpdir=\"Files/spark\")\n\n# Make predictions\nbatch_predictions_treatment = loaded_treatmentmodel.transform(test_df)\nbatch_predictions_control = loaded_controlmodel.transform(test_df)\nbatch_predictions_treatment.show(5)\n",
          "displayName": "first at ReadWrite.scala:587",
          "jobGroup": "24",
          "jobId": 50,
          "killedTasksSummary": {},
          "name": "first at ReadWrite.scala:587",
          "numActiveStages": 0,
          "numActiveTasks": 0,
          "numCompletedIndices": 1,
          "numCompletedStages": 1,
          "numCompletedTasks": 1,
          "numFailedStages": 0,
          "numFailedTasks": 0,
          "numKilledTasks": 0,
          "numSkippedStages": 0,
          "numSkippedTasks": 0,
          "numTasks": 1,
          "rowCount": 1,
          "stageIds": [
           68
          ],
          "status": "SUCCEEDED",
          "submissionTime": "2023-09-08T23:24:09.148GMT",
          "usageDescription": ""
         },
         {
          "completionTime": "2023-09-08T23:24:09.094GMT",
          "dataRead": 226,
          "dataWritten": 0,
          "description": "Job group for statement 24:\n# Load the model back\nloaded_treatmentmodel = mlflow.spark.load_model(treatment_model_uri, dfs_tmpdir=\"Files/spark\")\nloaded_controlmodel = mlflow.spark.load_model(control_model_uri, dfs_tmpdir=\"Files/spark\")\n\n# Make predictions\nbatch_predictions_treatment = loaded_treatmentmodel.transform(test_df)\nbatch_predictions_control = loaded_controlmodel.transform(test_df)\nbatch_predictions_treatment.show(5)\n",
          "displayName": "first at ReadWrite.scala:587",
          "jobGroup": "24",
          "jobId": 49,
          "killedTasksSummary": {},
          "name": "first at ReadWrite.scala:587",
          "numActiveStages": 0,
          "numActiveTasks": 0,
          "numCompletedIndices": 1,
          "numCompletedStages": 1,
          "numCompletedTasks": 1,
          "numFailedStages": 0,
          "numFailedTasks": 0,
          "numKilledTasks": 0,
          "numSkippedStages": 0,
          "numSkippedTasks": 0,
          "numTasks": 1,
          "rowCount": 1,
          "stageIds": [
           67
          ],
          "status": "SUCCEEDED",
          "submissionTime": "2023-09-08T23:24:09.058GMT",
          "usageDescription": ""
         },
         {
          "completionTime": "2023-09-08T23:24:08.743GMT",
          "dataRead": 226,
          "dataWritten": 0,
          "description": "Job group for statement 24:\n# Load the model back\nloaded_treatmentmodel = mlflow.spark.load_model(treatment_model_uri, dfs_tmpdir=\"Files/spark\")\nloaded_controlmodel = mlflow.spark.load_model(control_model_uri, dfs_tmpdir=\"Files/spark\")\n\n# Make predictions\nbatch_predictions_treatment = loaded_treatmentmodel.transform(test_df)\nbatch_predictions_control = loaded_controlmodel.transform(test_df)\nbatch_predictions_treatment.show(5)\n",
          "displayName": "runJob at PythonRDD.scala:172",
          "jobGroup": "24",
          "jobId": 48,
          "killedTasksSummary": {},
          "name": "runJob at PythonRDD.scala:172",
          "numActiveStages": 0,
          "numActiveTasks": 0,
          "numCompletedIndices": 1,
          "numCompletedStages": 1,
          "numCompletedTasks": 1,
          "numFailedStages": 0,
          "numFailedTasks": 0,
          "numKilledTasks": 0,
          "numSkippedStages": 0,
          "numSkippedTasks": 0,
          "numTasks": 1,
          "rowCount": 1,
          "stageIds": [
           66
          ],
          "status": "SUCCEEDED",
          "submissionTime": "2023-09-08T23:24:08.642GMT",
          "usageDescription": ""
         },
         {
          "completionTime": "2023-09-08T23:24:07.285GMT",
          "dataRead": 817,
          "dataWritten": 0,
          "description": "Job group for statement 24:\n# Load the model back\nloaded_treatmentmodel = mlflow.spark.load_model(treatment_model_uri, dfs_tmpdir=\"Files/spark\")\nloaded_controlmodel = mlflow.spark.load_model(control_model_uri, dfs_tmpdir=\"Files/spark\")\n\n# Make predictions\nbatch_predictions_treatment = loaded_treatmentmodel.transform(test_df)\nbatch_predictions_control = loaded_controlmodel.transform(test_df)\nbatch_predictions_treatment.show(5)\n",
          "displayName": "first at ReadWrite.scala:587",
          "jobGroup": "24",
          "jobId": 47,
          "killedTasksSummary": {},
          "name": "first at ReadWrite.scala:587",
          "numActiveStages": 0,
          "numActiveTasks": 0,
          "numCompletedIndices": 1,
          "numCompletedStages": 1,
          "numCompletedTasks": 1,
          "numFailedStages": 0,
          "numFailedTasks": 0,
          "numKilledTasks": 0,
          "numSkippedStages": 0,
          "numSkippedTasks": 0,
          "numTasks": 1,
          "rowCount": 1,
          "stageIds": [
           65
          ],
          "status": "SUCCEEDED",
          "submissionTime": "2023-09-08T23:24:07.247GMT",
          "usageDescription": ""
         },
         {
          "completionTime": "2023-09-08T23:24:07.192GMT",
          "dataRead": 817,
          "dataWritten": 0,
          "description": "Job group for statement 24:\n# Load the model back\nloaded_treatmentmodel = mlflow.spark.load_model(treatment_model_uri, dfs_tmpdir=\"Files/spark\")\nloaded_controlmodel = mlflow.spark.load_model(control_model_uri, dfs_tmpdir=\"Files/spark\")\n\n# Make predictions\nbatch_predictions_treatment = loaded_treatmentmodel.transform(test_df)\nbatch_predictions_control = loaded_controlmodel.transform(test_df)\nbatch_predictions_treatment.show(5)\n",
          "displayName": "first at ReadWrite.scala:587",
          "jobGroup": "24",
          "jobId": 46,
          "killedTasksSummary": {},
          "name": "first at ReadWrite.scala:587",
          "numActiveStages": 0,
          "numActiveTasks": 0,
          "numCompletedIndices": 1,
          "numCompletedStages": 1,
          "numCompletedTasks": 1,
          "numFailedStages": 0,
          "numFailedTasks": 0,
          "numKilledTasks": 0,
          "numSkippedStages": 0,
          "numSkippedTasks": 0,
          "numTasks": 1,
          "rowCount": 1,
          "stageIds": [
           64
          ],
          "status": "SUCCEEDED",
          "submissionTime": "2023-09-08T23:24:07.149GMT",
          "usageDescription": ""
         },
         {
          "completionTime": "2023-09-08T23:24:07.038GMT",
          "dataRead": 226,
          "dataWritten": 0,
          "description": "Job group for statement 24:\n# Load the model back\nloaded_treatmentmodel = mlflow.spark.load_model(treatment_model_uri, dfs_tmpdir=\"Files/spark\")\nloaded_controlmodel = mlflow.spark.load_model(control_model_uri, dfs_tmpdir=\"Files/spark\")\n\n# Make predictions\nbatch_predictions_treatment = loaded_treatmentmodel.transform(test_df)\nbatch_predictions_control = loaded_controlmodel.transform(test_df)\nbatch_predictions_treatment.show(5)\n",
          "displayName": "first at ReadWrite.scala:587",
          "jobGroup": "24",
          "jobId": 45,
          "killedTasksSummary": {},
          "name": "first at ReadWrite.scala:587",
          "numActiveStages": 0,
          "numActiveTasks": 0,
          "numCompletedIndices": 1,
          "numCompletedStages": 1,
          "numCompletedTasks": 1,
          "numFailedStages": 0,
          "numFailedTasks": 0,
          "numKilledTasks": 0,
          "numSkippedStages": 0,
          "numSkippedTasks": 0,
          "numTasks": 1,
          "rowCount": 1,
          "stageIds": [
           63
          ],
          "status": "SUCCEEDED",
          "submissionTime": "2023-09-08T23:24:07.003GMT",
          "usageDescription": ""
         },
         {
          "completionTime": "2023-09-08T23:24:06.914GMT",
          "dataRead": 226,
          "dataWritten": 0,
          "description": "Job group for statement 24:\n# Load the model back\nloaded_treatmentmodel = mlflow.spark.load_model(treatment_model_uri, dfs_tmpdir=\"Files/spark\")\nloaded_controlmodel = mlflow.spark.load_model(control_model_uri, dfs_tmpdir=\"Files/spark\")\n\n# Make predictions\nbatch_predictions_treatment = loaded_treatmentmodel.transform(test_df)\nbatch_predictions_control = loaded_controlmodel.transform(test_df)\nbatch_predictions_treatment.show(5)\n",
          "displayName": "runJob at PythonRDD.scala:172",
          "jobGroup": "24",
          "jobId": 44,
          "killedTasksSummary": {},
          "name": "runJob at PythonRDD.scala:172",
          "numActiveStages": 0,
          "numActiveTasks": 0,
          "numCompletedIndices": 1,
          "numCompletedStages": 1,
          "numCompletedTasks": 1,
          "numFailedStages": 0,
          "numFailedTasks": 0,
          "numKilledTasks": 0,
          "numSkippedStages": 0,
          "numSkippedTasks": 0,
          "numTasks": 1,
          "rowCount": 1,
          "stageIds": [
           62
          ],
          "status": "SUCCEEDED",
          "submissionTime": "2023-09-08T23:24:06.290GMT",
          "usageDescription": ""
         }
        ],
        "limit": 20,
        "numbers": {
         "FAILED": 0,
         "RUNNING": 0,
         "SUCCEEDED": 9,
         "UNKNOWN": 0
        },
        "rule": "ALL_DESC"
       },
       "spark_pool": null,
       "state": "finished",
       "statement_id": 24
      },
      "text/plain": [
       "StatementMeta(, bb877a9c-c8cf-471c-98da-25e85626530f, 24, Finished, Available)"
      ]
     },
     "metadata": {},
     "output_type": "display_data"
    },
    {
     "name": "stderr",
     "output_type": "stream",
     "text": [
      "2023/09/08 23:24:04 INFO mlflow.spark: 'runs:/0f031ba3-ab05-4f08-8607-78cbd5e05767/model' resolved as 'sds://lake.trident.com/bf0c4a18-5045-40be-a890-7e904b6be261/6a40b6fe-f756-4db8-ba35-11494ad4abab/0f031ba3-ab05-4f08-8607-78cbd5e05767/artifacts/model'\n",
      "2023/09/08 23:24:05 INFO mlflow.spark: File 'sds://lake.trident.com/bf0c4a18-5045-40be-a890-7e904b6be261/6a40b6fe-f756-4db8-ba35-11494ad4abab/0f031ba3-ab05-4f08-8607-78cbd5e05767/artifacts/model/sparkml' not found on DFS. Will attempt to upload the file.\n",
      "2023/09/08 23:24:05 INFO mlflow.spark: Copied SparkML model to Files/spark/3930a08b-e99d-43c0-aa9e-a413d9c4c0c7\n",
      "2023/09/08 23:24:07 INFO mlflow.spark: 'runs:/7f6bd071-b8f3-4d38-bf98-c4bac3199e2e/model' resolved as 'sds://lake.trident.com/bf0c4a18-5045-40be-a890-7e904b6be261/6a40b6fe-f756-4db8-ba35-11494ad4abab/7f6bd071-b8f3-4d38-bf98-c4bac3199e2e/artifacts/model'\n",
      "2023/09/08 23:24:08 INFO mlflow.spark: File 'sds://lake.trident.com/bf0c4a18-5045-40be-a890-7e904b6be261/6a40b6fe-f756-4db8-ba35-11494ad4abab/7f6bd071-b8f3-4d38-bf98-c4bac3199e2e/artifacts/model/sparkml' not found on DFS. Will attempt to upload the file.\n",
      "2023/09/08 23:24:08 INFO mlflow.spark: Copied SparkML model to Files/spark/b0a62136-6f62-4a64-a4c2-f04e3d3ef56d\n"
     ]
    },
    {
     "name": "stdout",
     "output_type": "stream",
     "text": [
      "+------------------+------------------+-----------------+-----------------+------------------+------------------+-------------------+------------------+-----------------+------------------+-----------------+--------------------+---------+----------+-----+--------+--------------------+--------------------+--------------------+----------+\n",
      "|                f0|                f1|               f2|               f3|                f4|                f5|                 f6|                f7|               f8|                f9|              f10|                 f11|treatment|conversion|visit|exposure|            features|       rawPrediction|         probability|prediction|\n",
      "+------------------+------------------+-----------------+-----------------+------------------+------------------+-------------------+------------------+-----------------+------------------+-----------------+--------------------+---------+----------+-----+--------+--------------------+--------------------+--------------------+----------+\n",
      "|12.616364906986497|10.059654474774547|8.214382844395335|4.679881620097284|10.280525225748212|0.3463602638335841|0.29444271125560606| 10.65526759211423|3.971857989350875|13.190055934673358|5.300374864042156|-0.16867922100056124|        1|         0|    0|       0|[-0.1686792210005...|[6.57403697245921...|[0.99860579671475...|       0.0|\n",
      "|12.616364906986497|10.059654474774547|8.214382844395335|4.679881620097284|10.280525225748212|1.1285177631409207|0.29444271125560606| 9.703094148526326|3.971857989350875|13.190055934673358|5.300374864042156|-0.16867922100056124|        1|         0|    0|       0|[-0.1686792210005...|[6.64070365171077...|[0.9986955958172,...|       0.0|\n",
      "|12.616364906986497|10.059654474774547|8.214382844395335|4.679881620097284|10.280525225748212|1.1285177631409207|0.29444271125560606|11.151218312552132|3.971857989350875|13.190055934673358|5.300374864042156|-0.16867922100056124|        1|         0|    0|       0|[-0.1686792210005...|[6.57403697245921...|[0.99860579671475...|       0.0|\n",
      "|12.616364906986497|10.059654474774547|8.214382844395335|4.679881620097284|10.280525225748212|1.6242183527412077|0.29444271125560606|10.705732371502856|3.971857989350875|13.190055934673358|5.300374864042156|-0.16867922100056124|        1|         0|    0|       0|[-0.1686792210005...|[6.57403697245921...|[0.99860579671475...|       0.0|\n",
      "|12.616364906986497|10.059654474774547|8.214382844395335|4.679881620097284|10.280525225748212|2.2309068425557226|0.29444271125560606|  9.32342987847462|3.971857989350875|13.190055934673358|5.300374864042156|-0.16867922100056124|        1|         0|    0|       0|[-0.1686792210005...|[6.64070365171077...|[0.9986955958172,...|       0.0|\n",
      "+------------------+------------------+-----------------+-----------------+------------------+------------------+-------------------+------------------+-----------------+------------------+-----------------+--------------------+---------+----------+-----+--------+--------------------+--------------------+--------------------+----------+\n",
      "only showing top 5 rows\n",
      "\n"
     ]
    }
   ],
   "source": [
    "# Load the model back\n",
    "loaded_treatmentmodel = mlflow.spark.load_model(treatment_model_uri, dfs_tmpdir=\"Files/spark\")\n",
    "loaded_controlmodel = mlflow.spark.load_model(control_model_uri, dfs_tmpdir=\"Files/spark\")\n",
    "\n",
    "# Make predictions\n",
    "batch_predictions_treatment = loaded_treatmentmodel.transform(test_df)\n",
    "batch_predictions_control = loaded_controlmodel.transform(test_df)\n",
    "batch_predictions_treatment.show(5)\n"
   ]
  },
  {
   "cell_type": "code",
   "execution_count": null,
   "id": "92cfe364-aa31-44e8-ad74-28036cc83e0b",
   "metadata": {},
   "outputs": [
    {
     "data": {
      "application/vnd.livy.statement-meta+json": {
       "execution_finish_time": "2023-09-08T23:25:24.3753058Z",
       "execution_start_time": "2023-09-08T23:24:13.1872222Z",
       "livy_statement_state": "available",
       "parent_msg_id": "aefe4c6d-5d85-44f2-9287-a57785dbef19",
       "queued_time": "2023-09-08T23:19:44.9011583Z",
       "session_id": "bb877a9c-c8cf-471c-98da-25e85626530f",
       "session_start_time": null,
       "spark_jobs": {
        "jobs": [
         {
          "completionTime": "2023-09-08T23:25:22.920GMT",
          "dataRead": 4896,
          "dataWritten": 0,
          "description": "Delta: Job group for statement 25:\n# Save the predictions in the lakehouse\nbatch_predictions_treatment.write.format(\"delta\").mode(\"overwrite\").save(\n    f\"{DATA_FOLDER}/predictions/batch_predictions_treatment\"\n)\nbatch_predictions_control.write.format(\"delta\").mode(\"overwrite\").save(\n    f\"{DATA_FOLDER}/predictions/batch_predictions_control\"\n)\n: Compute snapshot for version: 6",
          "displayName": "toString at String.java:2994",
          "jobGroup": "25",
          "jobId": 70,
          "killedTasksSummary": {},
          "name": "toString at String.java:2994",
          "numActiveStages": 0,
          "numActiveTasks": 0,
          "numCompletedIndices": 1,
          "numCompletedStages": 1,
          "numCompletedTasks": 1,
          "numFailedStages": 0,
          "numFailedTasks": 0,
          "numKilledTasks": 0,
          "numSkippedStages": 2,
          "numSkippedTasks": 57,
          "numTasks": 58,
          "rowCount": 50,
          "stageIds": [
           102,
           103,
           104
          ],
          "status": "SUCCEEDED",
          "submissionTime": "2023-09-08T23:25:22.880GMT",
          "usageDescription": ""
         },
         {
          "completionTime": "2023-09-08T23:25:22.854GMT",
          "dataRead": 16283,
          "dataWritten": 4896,
          "description": "Delta: Job group for statement 25:\n# Save the predictions in the lakehouse\nbatch_predictions_treatment.write.format(\"delta\").mode(\"overwrite\").save(\n    f\"{DATA_FOLDER}/predictions/batch_predictions_treatment\"\n)\nbatch_predictions_control.write.format(\"delta\").mode(\"overwrite\").save(\n    f\"{DATA_FOLDER}/predictions/batch_predictions_control\"\n)\n: Compute snapshot for version: 6",
          "displayName": "toString at String.java:2994",
          "jobGroup": "25",
          "jobId": 69,
          "killedTasksSummary": {},
          "name": "toString at String.java:2994",
          "numActiveStages": 0,
          "numActiveTasks": 0,
          "numCompletedIndices": 50,
          "numCompletedStages": 1,
          "numCompletedTasks": 50,
          "numFailedStages": 0,
          "numFailedTasks": 0,
          "numKilledTasks": 0,
          "numSkippedStages": 1,
          "numSkippedTasks": 7,
          "numTasks": 57,
          "rowCount": 72,
          "stageIds": [
           100,
           101
          ],
          "status": "SUCCEEDED",
          "submissionTime": "2023-09-08T23:25:22.375GMT",
          "usageDescription": ""
         },
         {
          "completionTime": "2023-09-08T23:25:22.038GMT",
          "dataRead": 17281,
          "dataWritten": 16283,
          "description": "Delta: Job group for statement 25:\n# Save the predictions in the lakehouse\nbatch_predictions_treatment.write.format(\"delta\").mode(\"overwrite\").save(\n    f\"{DATA_FOLDER}/predictions/batch_predictions_treatment\"\n)\nbatch_predictions_control.write.format(\"delta\").mode(\"overwrite\").save(\n    f\"{DATA_FOLDER}/predictions/batch_predictions_control\"\n)\n: Compute snapshot for version: 6",
          "displayName": "toString at String.java:2994",
          "jobGroup": "25",
          "jobId": 68,
          "killedTasksSummary": {},
          "name": "toString at String.java:2994",
          "numActiveStages": 0,
          "numActiveTasks": 0,
          "numCompletedIndices": 7,
          "numCompletedStages": 1,
          "numCompletedTasks": 7,
          "numFailedStages": 0,
          "numFailedTasks": 0,
          "numKilledTasks": 0,
          "numSkippedStages": 0,
          "numSkippedTasks": 0,
          "numTasks": 7,
          "rowCount": 44,
          "stageIds": [
           99
          ],
          "status": "SUCCEEDED",
          "submissionTime": "2023-09-08T23:25:21.925GMT",
          "usageDescription": ""
         },
         {
          "completionTime": "2023-09-08T23:25:21.472GMT",
          "dataRead": 3775,
          "dataWritten": 0,
          "description": "Job group for statement 25:\n# Save the predictions in the lakehouse\nbatch_predictions_treatment.write.format(\"delta\").mode(\"overwrite\").save(\n    f\"{DATA_FOLDER}/predictions/batch_predictions_treatment\"\n)\nbatch_predictions_control.write.format(\"delta\").mode(\"overwrite\").save(\n    f\"{DATA_FOLDER}/predictions/batch_predictions_control\"\n)\n",
          "displayName": "$anonfun$recordDeltaOperationInternal$1 at SynapseLoggingShim.scala:95",
          "jobGroup": "25",
          "jobId": 67,
          "killedTasksSummary": {},
          "name": "$anonfun$recordDeltaOperationInternal$1 at SynapseLoggingShim.scala:95",
          "numActiveStages": 0,
          "numActiveTasks": 0,
          "numCompletedIndices": 50,
          "numCompletedStages": 1,
          "numCompletedTasks": 50,
          "numFailedStages": 0,
          "numFailedTasks": 0,
          "numKilledTasks": 0,
          "numSkippedStages": 1,
          "numSkippedTasks": 6,
          "numTasks": 56,
          "rowCount": 8,
          "stageIds": [
           97,
           98
          ],
          "status": "SUCCEEDED",
          "submissionTime": "2023-09-08T23:25:21.350GMT",
          "usageDescription": ""
         },
         {
          "completionTime": "2023-09-08T23:25:21.244GMT",
          "dataRead": 158653838,
          "dataWritten": 111522222,
          "description": "Job group for statement 25:\n# Save the predictions in the lakehouse\nbatch_predictions_treatment.write.format(\"delta\").mode(\"overwrite\").save(\n    f\"{DATA_FOLDER}/predictions/batch_predictions_treatment\"\n)\nbatch_predictions_control.write.format(\"delta\").mode(\"overwrite\").save(\n    f\"{DATA_FOLDER}/predictions/batch_predictions_control\"\n)\n",
          "displayName": "save at NativeMethodAccessorImpl.java:0",
          "jobGroup": "25",
          "jobId": 66,
          "killedTasksSummary": {},
          "name": "save at NativeMethodAccessorImpl.java:0",
          "numActiveStages": 0,
          "numActiveTasks": 0,
          "numCompletedIndices": 1,
          "numCompletedStages": 1,
          "numCompletedTasks": 1,
          "numFailedStages": 0,
          "numFailedTasks": 0,
          "numKilledTasks": 0,
          "numSkippedStages": 1,
          "numSkippedTasks": 25,
          "numTasks": 26,
          "rowCount": 5593254,
          "stageIds": [
           96,
           95
          ],
          "status": "SUCCEEDED",
          "submissionTime": "2023-09-08T23:25:11.451GMT",
          "usageDescription": ""
         },
         {
          "completionTime": "2023-09-08T23:25:11.366GMT",
          "dataRead": 1361805488,
          "dataWritten": 158653838,
          "description": "Job group for statement 25:\n# Save the predictions in the lakehouse\nbatch_predictions_treatment.write.format(\"delta\").mode(\"overwrite\").save(\n    f\"{DATA_FOLDER}/predictions/batch_predictions_treatment\"\n)\nbatch_predictions_control.write.format(\"delta\").mode(\"overwrite\").save(\n    f\"{DATA_FOLDER}/predictions/batch_predictions_control\"\n)\n",
          "displayName": "save at NativeMethodAccessorImpl.java:0",
          "jobGroup": "25",
          "jobId": 65,
          "killedTasksSummary": {},
          "name": "save at NativeMethodAccessorImpl.java:0",
          "numActiveStages": 0,
          "numActiveTasks": 0,
          "numCompletedIndices": 25,
          "numCompletedStages": 1,
          "numCompletedTasks": 25,
          "numFailedStages": 0,
          "numFailedTasks": 0,
          "numKilledTasks": 0,
          "numSkippedStages": 0,
          "numSkippedTasks": 0,
          "numTasks": 25,
          "rowCount": 2798031,
          "stageIds": [
           94
          ],
          "status": "SUCCEEDED",
          "submissionTime": "2023-09-08T23:24:50.706GMT",
          "usageDescription": ""
         },
         {
          "completionTime": "2023-09-08T23:24:50.565GMT",
          "dataRead": 4891,
          "dataWritten": 0,
          "description": "Delta: Job group for statement 25:\n# Save the predictions in the lakehouse\nbatch_predictions_treatment.write.format(\"delta\").mode(\"overwrite\").save(\n    f\"{DATA_FOLDER}/predictions/batch_predictions_treatment\"\n)\nbatch_predictions_control.write.format(\"delta\").mode(\"overwrite\").save(\n    f\"{DATA_FOLDER}/predictions/batch_predictions_control\"\n)\n: Compute snapshot for version: 5",
          "displayName": "toString at String.java:2994",
          "jobGroup": "25",
          "jobId": 64,
          "killedTasksSummary": {},
          "name": "toString at String.java:2994",
          "numActiveStages": 0,
          "numActiveTasks": 0,
          "numCompletedIndices": 1,
          "numCompletedStages": 1,
          "numCompletedTasks": 1,
          "numFailedStages": 0,
          "numFailedTasks": 0,
          "numKilledTasks": 0,
          "numSkippedStages": 2,
          "numSkippedTasks": 56,
          "numTasks": 57,
          "rowCount": 50,
          "stageIds": [
           93,
           91,
           92
          ],
          "status": "SUCCEEDED",
          "submissionTime": "2023-09-08T23:24:50.528GMT",
          "usageDescription": ""
         },
         {
          "completionTime": "2023-09-08T23:24:50.508GMT",
          "dataRead": 14015,
          "dataWritten": 4891,
          "description": "Delta: Job group for statement 25:\n# Save the predictions in the lakehouse\nbatch_predictions_treatment.write.format(\"delta\").mode(\"overwrite\").save(\n    f\"{DATA_FOLDER}/predictions/batch_predictions_treatment\"\n)\nbatch_predictions_control.write.format(\"delta\").mode(\"overwrite\").save(\n    f\"{DATA_FOLDER}/predictions/batch_predictions_control\"\n)\n: Compute snapshot for version: 5",
          "displayName": "toString at String.java:2994",
          "jobGroup": "25",
          "jobId": 63,
          "killedTasksSummary": {},
          "name": "toString at String.java:2994",
          "numActiveStages": 0,
          "numActiveTasks": 0,
          "numCompletedIndices": 50,
          "numCompletedStages": 1,
          "numCompletedTasks": 50,
          "numFailedStages": 0,
          "numFailedTasks": 0,
          "numKilledTasks": 0,
          "numSkippedStages": 1,
          "numSkippedTasks": 6,
          "numTasks": 56,
          "rowCount": 69,
          "stageIds": [
           89,
           90
          ],
          "status": "SUCCEEDED",
          "submissionTime": "2023-09-08T23:24:49.971GMT",
          "usageDescription": ""
         },
         {
          "completionTime": "2023-09-08T23:24:49.672GMT",
          "dataRead": 15379,
          "dataWritten": 14015,
          "description": "Delta: Job group for statement 25:\n# Save the predictions in the lakehouse\nbatch_predictions_treatment.write.format(\"delta\").mode(\"overwrite\").save(\n    f\"{DATA_FOLDER}/predictions/batch_predictions_treatment\"\n)\nbatch_predictions_control.write.format(\"delta\").mode(\"overwrite\").save(\n    f\"{DATA_FOLDER}/predictions/batch_predictions_control\"\n)\n: Compute snapshot for version: 5",
          "displayName": "toString at String.java:2994",
          "jobGroup": "25",
          "jobId": 62,
          "killedTasksSummary": {},
          "name": "toString at String.java:2994",
          "numActiveStages": 0,
          "numActiveTasks": 0,
          "numCompletedIndices": 6,
          "numCompletedStages": 1,
          "numCompletedTasks": 6,
          "numFailedStages": 0,
          "numFailedTasks": 0,
          "numKilledTasks": 0,
          "numSkippedStages": 0,
          "numSkippedTasks": 0,
          "numTasks": 6,
          "rowCount": 38,
          "stageIds": [
           88
          ],
          "status": "SUCCEEDED",
          "submissionTime": "2023-09-08T23:24:49.579GMT",
          "usageDescription": ""
         },
         {
          "completionTime": "2023-09-08T23:24:49.189GMT",
          "dataRead": 4896,
          "dataWritten": 0,
          "description": "Delta: Job group for statement 25:\n# Save the predictions in the lakehouse\nbatch_predictions_treatment.write.format(\"delta\").mode(\"overwrite\").save(\n    f\"{DATA_FOLDER}/predictions/batch_predictions_treatment\"\n)\nbatch_predictions_control.write.format(\"delta\").mode(\"overwrite\").save(\n    f\"{DATA_FOLDER}/predictions/batch_predictions_control\"\n)\n: Compute snapshot for version: 6",
          "displayName": "toString at String.java:2994",
          "jobGroup": "25",
          "jobId": 61,
          "killedTasksSummary": {},
          "name": "toString at String.java:2994",
          "numActiveStages": 0,
          "numActiveTasks": 0,
          "numCompletedIndices": 1,
          "numCompletedStages": 1,
          "numCompletedTasks": 1,
          "numFailedStages": 0,
          "numFailedTasks": 0,
          "numKilledTasks": 0,
          "numSkippedStages": 2,
          "numSkippedTasks": 57,
          "numTasks": 58,
          "rowCount": 50,
          "stageIds": [
           85,
           86,
           87
          ],
          "status": "SUCCEEDED",
          "submissionTime": "2023-09-08T23:24:49.155GMT",
          "usageDescription": ""
         },
         {
          "completionTime": "2023-09-08T23:24:49.132GMT",
          "dataRead": 16282,
          "dataWritten": 4896,
          "description": "Delta: Job group for statement 25:\n# Save the predictions in the lakehouse\nbatch_predictions_treatment.write.format(\"delta\").mode(\"overwrite\").save(\n    f\"{DATA_FOLDER}/predictions/batch_predictions_treatment\"\n)\nbatch_predictions_control.write.format(\"delta\").mode(\"overwrite\").save(\n    f\"{DATA_FOLDER}/predictions/batch_predictions_control\"\n)\n: Compute snapshot for version: 6",
          "displayName": "toString at String.java:2994",
          "jobGroup": "25",
          "jobId": 60,
          "killedTasksSummary": {},
          "name": "toString at String.java:2994",
          "numActiveStages": 0,
          "numActiveTasks": 0,
          "numCompletedIndices": 50,
          "numCompletedStages": 1,
          "numCompletedTasks": 50,
          "numFailedStages": 0,
          "numFailedTasks": 0,
          "numKilledTasks": 0,
          "numSkippedStages": 1,
          "numSkippedTasks": 7,
          "numTasks": 57,
          "rowCount": 72,
          "stageIds": [
           84,
           83
          ],
          "status": "SUCCEEDED",
          "submissionTime": "2023-09-08T23:24:48.623GMT",
          "usageDescription": ""
         },
         {
          "completionTime": "2023-09-08T23:24:48.260GMT",
          "dataRead": 17281,
          "dataWritten": 16282,
          "description": "Delta: Job group for statement 25:\n# Save the predictions in the lakehouse\nbatch_predictions_treatment.write.format(\"delta\").mode(\"overwrite\").save(\n    f\"{DATA_FOLDER}/predictions/batch_predictions_treatment\"\n)\nbatch_predictions_control.write.format(\"delta\").mode(\"overwrite\").save(\n    f\"{DATA_FOLDER}/predictions/batch_predictions_control\"\n)\n: Compute snapshot for version: 6",
          "displayName": "toString at String.java:2994",
          "jobGroup": "25",
          "jobId": 59,
          "killedTasksSummary": {},
          "name": "toString at String.java:2994",
          "numActiveStages": 0,
          "numActiveTasks": 0,
          "numCompletedIndices": 7,
          "numCompletedStages": 1,
          "numCompletedTasks": 7,
          "numFailedStages": 0,
          "numFailedTasks": 0,
          "numKilledTasks": 0,
          "numSkippedStages": 0,
          "numSkippedTasks": 0,
          "numTasks": 7,
          "rowCount": 44,
          "stageIds": [
           82
          ],
          "status": "SUCCEEDED",
          "submissionTime": "2023-09-08T23:24:48.133GMT",
          "usageDescription": ""
         },
         {
          "completionTime": "2023-09-08T23:24:47.696GMT",
          "dataRead": 3775,
          "dataWritten": 0,
          "description": "Job group for statement 25:\n# Save the predictions in the lakehouse\nbatch_predictions_treatment.write.format(\"delta\").mode(\"overwrite\").save(\n    f\"{DATA_FOLDER}/predictions/batch_predictions_treatment\"\n)\nbatch_predictions_control.write.format(\"delta\").mode(\"overwrite\").save(\n    f\"{DATA_FOLDER}/predictions/batch_predictions_control\"\n)\n",
          "displayName": "$anonfun$recordDeltaOperationInternal$1 at SynapseLoggingShim.scala:95",
          "jobGroup": "25",
          "jobId": 58,
          "killedTasksSummary": {},
          "name": "$anonfun$recordDeltaOperationInternal$1 at SynapseLoggingShim.scala:95",
          "numActiveStages": 0,
          "numActiveTasks": 0,
          "numCompletedIndices": 50,
          "numCompletedStages": 1,
          "numCompletedTasks": 50,
          "numFailedStages": 0,
          "numFailedTasks": 0,
          "numKilledTasks": 0,
          "numSkippedStages": 1,
          "numSkippedTasks": 6,
          "numTasks": 56,
          "rowCount": 8,
          "stageIds": [
           81,
           80
          ],
          "status": "SUCCEEDED",
          "submissionTime": "2023-09-08T23:24:47.506GMT",
          "usageDescription": ""
         },
         {
          "completionTime": "2023-09-08T23:24:47.368GMT",
          "dataRead": 162000111,
          "dataWritten": 113578701,
          "description": "Job group for statement 25:\n# Save the predictions in the lakehouse\nbatch_predictions_treatment.write.format(\"delta\").mode(\"overwrite\").save(\n    f\"{DATA_FOLDER}/predictions/batch_predictions_treatment\"\n)\nbatch_predictions_control.write.format(\"delta\").mode(\"overwrite\").save(\n    f\"{DATA_FOLDER}/predictions/batch_predictions_control\"\n)\n",
          "displayName": "save at NativeMethodAccessorImpl.java:0",
          "jobGroup": "25",
          "jobId": 57,
          "killedTasksSummary": {},
          "name": "save at NativeMethodAccessorImpl.java:0",
          "numActiveStages": 0,
          "numActiveTasks": 0,
          "numCompletedIndices": 1,
          "numCompletedStages": 1,
          "numCompletedTasks": 1,
          "numFailedStages": 0,
          "numFailedTasks": 0,
          "numKilledTasks": 0,
          "numSkippedStages": 1,
          "numSkippedTasks": 25,
          "numTasks": 26,
          "rowCount": 5593254,
          "stageIds": [
           78,
           79
          ],
          "status": "SUCCEEDED",
          "submissionTime": "2023-09-08T23:24:37.216GMT",
          "usageDescription": ""
         },
         {
          "completionTime": "2023-09-08T23:24:37.166GMT",
          "dataRead": 1361805488,
          "dataWritten": 162000111,
          "description": "Job group for statement 25:\n# Save the predictions in the lakehouse\nbatch_predictions_treatment.write.format(\"delta\").mode(\"overwrite\").save(\n    f\"{DATA_FOLDER}/predictions/batch_predictions_treatment\"\n)\nbatch_predictions_control.write.format(\"delta\").mode(\"overwrite\").save(\n    f\"{DATA_FOLDER}/predictions/batch_predictions_control\"\n)\n",
          "displayName": "save at NativeMethodAccessorImpl.java:0",
          "jobGroup": "25",
          "jobId": 56,
          "killedTasksSummary": {},
          "name": "save at NativeMethodAccessorImpl.java:0",
          "numActiveStages": 0,
          "numActiveTasks": 0,
          "numCompletedIndices": 25,
          "numCompletedStages": 1,
          "numCompletedTasks": 25,
          "numFailedStages": 0,
          "numFailedTasks": 0,
          "numKilledTasks": 0,
          "numSkippedStages": 0,
          "numSkippedTasks": 0,
          "numTasks": 25,
          "rowCount": 2798031,
          "stageIds": [
           77
          ],
          "status": "SUCCEEDED",
          "submissionTime": "2023-09-08T23:24:15.385GMT",
          "usageDescription": ""
         },
         {
          "completionTime": "2023-09-08T23:24:15.210GMT",
          "dataRead": 4891,
          "dataWritten": 0,
          "description": "Delta: Job group for statement 25:\n# Save the predictions in the lakehouse\nbatch_predictions_treatment.write.format(\"delta\").mode(\"overwrite\").save(\n    f\"{DATA_FOLDER}/predictions/batch_predictions_treatment\"\n)\nbatch_predictions_control.write.format(\"delta\").mode(\"overwrite\").save(\n    f\"{DATA_FOLDER}/predictions/batch_predictions_control\"\n)\n: Compute snapshot for version: 5",
          "displayName": "toString at String.java:2994",
          "jobGroup": "25",
          "jobId": 55,
          "killedTasksSummary": {},
          "name": "toString at String.java:2994",
          "numActiveStages": 0,
          "numActiveTasks": 0,
          "numCompletedIndices": 1,
          "numCompletedStages": 1,
          "numCompletedTasks": 1,
          "numFailedStages": 0,
          "numFailedTasks": 0,
          "numKilledTasks": 0,
          "numSkippedStages": 2,
          "numSkippedTasks": 56,
          "numTasks": 57,
          "rowCount": 50,
          "stageIds": [
           74,
           75,
           76
          ],
          "status": "SUCCEEDED",
          "submissionTime": "2023-09-08T23:24:15.117GMT",
          "usageDescription": ""
         },
         {
          "completionTime": "2023-09-08T23:24:15.076GMT",
          "dataRead": 14012,
          "dataWritten": 4891,
          "description": "Delta: Job group for statement 25:\n# Save the predictions in the lakehouse\nbatch_predictions_treatment.write.format(\"delta\").mode(\"overwrite\").save(\n    f\"{DATA_FOLDER}/predictions/batch_predictions_treatment\"\n)\nbatch_predictions_control.write.format(\"delta\").mode(\"overwrite\").save(\n    f\"{DATA_FOLDER}/predictions/batch_predictions_control\"\n)\n: Compute snapshot for version: 5",
          "displayName": "toString at String.java:2994",
          "jobGroup": "25",
          "jobId": 54,
          "killedTasksSummary": {},
          "name": "toString at String.java:2994",
          "numActiveStages": 0,
          "numActiveTasks": 0,
          "numCompletedIndices": 50,
          "numCompletedStages": 1,
          "numCompletedTasks": 50,
          "numFailedStages": 0,
          "numFailedTasks": 0,
          "numKilledTasks": 0,
          "numSkippedStages": 1,
          "numSkippedTasks": 6,
          "numTasks": 56,
          "rowCount": 69,
          "stageIds": [
           72,
           73
          ],
          "status": "SUCCEEDED",
          "submissionTime": "2023-09-08T23:24:14.256GMT",
          "usageDescription": ""
         },
         {
          "completionTime": "2023-09-08T23:24:13.863GMT",
          "dataRead": 15379,
          "dataWritten": 14012,
          "description": "Delta: Job group for statement 25:\n# Save the predictions in the lakehouse\nbatch_predictions_treatment.write.format(\"delta\").mode(\"overwrite\").save(\n    f\"{DATA_FOLDER}/predictions/batch_predictions_treatment\"\n)\nbatch_predictions_control.write.format(\"delta\").mode(\"overwrite\").save(\n    f\"{DATA_FOLDER}/predictions/batch_predictions_control\"\n)\n: Compute snapshot for version: 5",
          "displayName": "toString at String.java:2994",
          "jobGroup": "25",
          "jobId": 53,
          "killedTasksSummary": {},
          "name": "toString at String.java:2994",
          "numActiveStages": 0,
          "numActiveTasks": 0,
          "numCompletedIndices": 6,
          "numCompletedStages": 1,
          "numCompletedTasks": 6,
          "numFailedStages": 0,
          "numFailedTasks": 0,
          "numKilledTasks": 0,
          "numSkippedStages": 0,
          "numSkippedTasks": 0,
          "numTasks": 6,
          "rowCount": 38,
          "stageIds": [
           71
          ],
          "status": "SUCCEEDED",
          "submissionTime": "2023-09-08T23:24:13.484GMT",
          "usageDescription": ""
         }
        ],
        "limit": 20,
        "numbers": {
         "FAILED": 0,
         "RUNNING": 0,
         "SUCCEEDED": 18,
         "UNKNOWN": 0
        },
        "rule": "ALL_DESC"
       },
       "spark_pool": null,
       "state": "finished",
       "statement_id": 25
      },
      "text/plain": [
       "StatementMeta(, bb877a9c-c8cf-471c-98da-25e85626530f, 25, Finished, Available)"
      ]
     },
     "metadata": {},
     "output_type": "display_data"
    }
   ],
   "source": [
    "# Save the predictions in the lakehouse\n",
    "batch_predictions_treatment.write.format(\"delta\").mode(\"overwrite\").save(\n",
    "    f\"{DATA_FOLDER}/predictions/batch_predictions_treatment\"\n",
    ")\n",
    "batch_predictions_control.write.format(\"delta\").mode(\"overwrite\").save(\n",
    "    f\"{DATA_FOLDER}/predictions/batch_predictions_control\"\n",
    ")\n"
   ]
  },
  {
   "cell_type": "code",
   "execution_count": null,
   "id": "7e31c67e-c44a-407a-b365-bf07cc6363ee",
   "metadata": {},
   "outputs": [
    {
     "data": {
      "application/vnd.livy.statement-meta+json": {
       "execution_finish_time": "2023-09-08T23:25:24.9776327Z",
       "execution_start_time": "2023-09-08T23:25:24.6414455Z",
       "livy_statement_state": "available",
       "parent_msg_id": "64f1bcf9-91ba-4b41-a3c4-59ca1d9d10dc",
       "queued_time": "2023-09-08T23:19:45.7920195Z",
       "session_id": "bb877a9c-c8cf-471c-98da-25e85626530f",
       "session_start_time": null,
       "spark_jobs": {
        "jobs": [],
        "limit": 20,
        "numbers": {
         "FAILED": 0,
         "RUNNING": 0,
         "SUCCEEDED": 0,
         "UNKNOWN": 0
        },
        "rule": "ALL_DESC"
       },
       "spark_pool": null,
       "state": "finished",
       "statement_id": 26
      },
      "text/plain": [
       "StatementMeta(, bb877a9c-c8cf-471c-98da-25e85626530f, 26, Finished, Available)"
      ]
     },
     "metadata": {},
     "output_type": "display_data"
    },
    {
     "name": "stdout",
     "output_type": "stream",
     "text": [
      "Full run cost 320 seconds.\n"
     ]
    }
   ],
   "source": [
    "# Determine the entire runtime\n",
    "print(f\"Full run cost {int(time.time() - ts)} seconds.\")"
   ]
  }
 ],
 "metadata": {
  "kernel_info": {
   "name": "synapse_pyspark"
  },
  "kernelspec": {
   "display_name": "Synapse PySpark",
   "language": "Python",
   "name": "synapse_pyspark"
  },
  "language_info": {
   "name": "python"
  },
  "notebook_environment": {},
  "nteract": {
   "version": "nteract-front-end@1.0.0"
  },
  "save_output": true,
  "spark_compute": {
   "compute_id": "/trident/default",
   "session_options": {
    "conf": {},
    "enableDebugMode": false
   }
  }
 },
 "nbformat": 4,
 "nbformat_minor": 5
}
