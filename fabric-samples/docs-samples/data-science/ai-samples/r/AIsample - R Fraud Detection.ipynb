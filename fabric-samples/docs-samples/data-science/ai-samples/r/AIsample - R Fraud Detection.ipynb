{
 "cells": [
  {
   "cell_type": "markdown",
   "id": "6147c913-8df3-45e9-94b1-c6e264808d4d",
   "metadata": {
    "nteract": {
     "transient": {
      "deleting": false
     }
    }
   },
   "source": [
    "# Create, evaluate, and score a fraud detection model\n"
   ]
  },
  {
   "cell_type": "markdown",
   "id": "6b07140e-5182-4d1a-ac2e-50d6b38ac604",
   "metadata": {
    "nteract": {
     "transient": {
      "deleting": false
     }
    }
   },
   "source": [
    "## Introduction\n",
    "\n",
    "In this notebook, you walk through the Synapse Data Science in Microsoft Fabric workflow with an end-to-end example. The scenario is to build a fraud detection model, using ML algorithms trained on historical data and then use the model to detect future fraudulent transactions.\n",
    "\n",
    "This tutorial covers these steps:\n",
    "\n",
    "- Install custom libraries.\n",
    "- Load the data.\n",
    "- Understand and process the data through exploratory data analysis, and demonstrate the use of the Fabric Data Wrangler feature.\n",
    "- Train machine learning models by using LightGBM.\n",
    "- Use the machine learning models for scoring and making predictions\n",
    "\n",
    "#### Prerequisites\n",
    "- [Add a lakehouse](https://aka.ms/fabric/addlakehouse) to this notebook. You'll be downloading data from a public blob and storing the data in the lakehouse. "
   ]
  },
  {
   "cell_type": "markdown",
   "id": "0b3774dd-0e57-4695-bae6-2be626f401bf",
   "metadata": {
    "nteract": {
     "transient": {
      "deleting": false
     }
    }
   },
   "source": [
    "## Step 1: Install custom libraries"
   ]
  },
  {
   "cell_type": "markdown",
   "id": "fb0f8c83-3d94-4fd5-bde3-6d8615f2f29b",
   "metadata": {
    "nteract": {
     "transient": {
      "deleting": false
     }
    }
   },
   "source": [
    "When you're developing a machine learning model or doing ad hoc data analysis, you might need to quickly install a custom library for your Apache Spark session. To do so, use inline installation capabilities such as `install.packages` and `devtools::install_version`. Alternatively, you can install the required libraries in the workspace by browsing to **Library management** in the workspace settings.\n",
    "\n",
    "\n",
    "1. You can use the in-line installation capabilities (e.g., `install.packages`, `devtools::install_version`, etc.) to quickly get started with new libraries. Note that this approach would only install the custom libraries in current notebook and not in the workspace.\n",
    "\n",
    "For this notebook, you use `install.packages()` to install the imbalanced-learn library (imported as `imbalance`).  Set `quiet` to `TRUE` to make output more concise:"
   ]
  },
  {
   "cell_type": "markdown",
   "id": "f1668fd2-130a-45b4-99dc-88f6328dc47c",
   "metadata": {
    "nteract": {
     "transient": {
      "deleting": false
     }
    }
   },
   "source": [
    "For this notebook, you'll use `install_version()` to install Imbalanced-learn (imported as `imbalance`).  "
   ]
  },
  {
   "cell_type": "code",
   "execution_count": null,
   "id": "5600ebdb-1b91-4676-8b5e-1d541a5395aa",
   "metadata": {
    "jupyter": {
     "outputs_hidden": false,
     "source_hidden": false
    },
    "nteract": {
     "transient": {
      "deleting": false
     }
    }
   },
   "outputs": [
    {
     "data": {
      "application/vnd.livy.statement-meta+json": {
       "execution_finish_time": "2023-09-11T18:19:41.2070745Z",
       "execution_start_time": "2023-09-11T18:15:03.5136835Z",
       "livy_statement_state": "available",
       "parent_msg_id": "841a707f-c97b-4986-9ae0-32f60f3bfa0e",
       "queued_time": "2023-09-11T18:14:33.1007741Z",
       "session_id": "1a89a9fe-074a-4632-a48a-c4402d9807ce",
       "session_start_time": "2023-09-11T18:14:34.1521056Z",
       "spark_jobs": {
        "jobs": [],
        "limit": 20,
        "numbers": {
         "FAILED": 0,
         "RUNNING": 0,
         "SUCCEEDED": 0,
         "UNKNOWN": 0
        },
        "rule": "ALL_DESC"
       },
       "spark_pool": null,
       "state": "finished",
       "statement_id": 3
      },
      "text/plain": [
       "StatementMeta(, 1a89a9fe-074a-4632-a48a-c4402d9807ce, 3, Finished, Available)"
      ]
     },
     "metadata": {},
     "output_type": "display_data"
    },
    {
     "name": "stdout",
     "output_type": "stream",
     "text": [
      "nfs is ready retry=1\n",
      "begin to create dir /nfs4/R/user-lib/application_1694455614743_0001.\n",
      "begin to confige user lib /nfs4/R/user-lib/application_1694455614743_0001.\n",
      "success to confige user lib /nfs4/R/user-lib/application_1694455614743_0001\n",
      "start install.packages pkgs=imbalance time:2023-09-11 18:15:03\n",
      "also installing the dependencies ‘libcoin’, ‘Formula’, ‘inum’, ‘dbscan’, ‘Cubist’, ‘partykit’, ‘bnlearn’, ‘KernelKnn’, ‘mvtnorm’, ‘smotefamily’, ‘FNN’, ‘C50’, ‘RcppArmadillo’\n",
      "\n",
      "[notebook] install.packages pkgs=imbalance cost [274s] time:2023-09-11 18:19:37"
     ]
    }
   ],
   "source": [
    "# Install dependencies\n",
    "devtools::install_version(\"bnlearn\", version = \"4.8\")\n",
    "# Install imbalance for SMOTE\n",
    "devtools::install_version(\"imbalance\", version = \"1.0.2.1\")"
   ]
  },
  {
   "cell_type": "markdown",
   "id": "018ce3f3-57c5-4b37-8c25-062aeab9443a",
   "metadata": {
    "nteract": {
     "transient": {
      "deleting": false
     }
    }
   },
   "source": [
    "## Step 2: Load the data"
   ]
  },
  {
   "cell_type": "markdown",
   "id": "05deb380-5bd8-475d-b810-ad48606943f8",
   "metadata": {
    "nteract": {
     "transient": {
      "deleting": false
     }
    }
   },
   "source": [
    "#### Dataset\n",
    "\n",
    "The fraud detection dataset contains credit card transactions from September 2013, that European cardholders made over the course of two days. The dataset contains only numerical features because of a Principal Component Analysis (PCA) transformation applied to the original features. PCA transformed all features except for `Time` and `Amount`. To protect confidentiality, we can't provide the original features or more background information about the dataset.\n",
    "\n",
    "These details describe the dataset:\n",
    "\n",
    " The `V1`, `V2`, `V3`, …, `V28` features are the principal components obtained with PCA\n",
    "- The `Time` feature contains the elapsed seconds between a transaction and the first transaction in the dataset\n",
    "- The `Amount` feature is the transaction amount. You can use this feature for example-dependent, cost-sensitive learning\n",
    "- The `Class` column is the response (target) variable. It has the value `1` for fraud, and `0` otherwise\n",
    "\n",
    "Only 492 transactions, out of 284,807 transactions total, are fraudulent. The dataset is highly imbalanced, because the minority (fraudulent) class accounts for only about 0.172% of the data.\n",
    "\n",
    "This table shows a preview of the *creditcard.csv* data:\n",
    "\n",
    "|Time|V1|V2|V3|V4|V5|V6|V7|V8|V9|V10|V11|V12|V13|V14|V15|V16|V17|V18|V19|V20|V21|V22|V23|V24|V25|V26|V27|V28|Amount|Class|\n",
    "|---|---|---|---|---|---|---|---|---|---|---|---|---|---|---|---|---|---|---|---|---|---|---|---|---|---|---|---|---|---|---|\n",
    "|0|-1.3598071336738|-0.0727811733098497|2.53634673796914|1.37815522427443|-0.338320769942518|0.462387777762292|0.239598554061257|0.0986979012610507|0.363786969611213|0.0907941719789316|-0.551599533260813|-0.617800855762348|-0.991389847235408|-0.311169353699879|1.46817697209427|-0.470400525259478|0.207971241929242|0.0257905801985591|0.403992960255733|0.251412098239705|-0.018306777944153|0.277837575558899|-0.110473910188767|0.0669280749146731|0.128539358273528|-0.189114843888824|0.133558376740387|-0.0210530534538215|149.62|\"0\"|\n",
    "|0|1.19185711131486|0.26615071205963|0.16648011335321|0.448154078460911|0.0600176492822243|-0.0823608088155687|-0.0788029833323113|0.0851016549148104|-0.255425128109186|-0.166974414004614|1.61272666105479|1.06523531137287|0.48909501589608|-0.143772296441519|0.635558093258208|0.463917041022171|-0.114804663102346|-0.183361270123994|-0.145783041325259|-0.0690831352230203|-0.225775248033138|-0.638671952771851|0.101288021253234|-0.339846475529127|0.167170404418143|0.125894532368176|-0.00898309914322813|0.0147241691924927|2.69|\"0\"|\n"
   ]
  },
  {
   "cell_type": "markdown",
   "id": "64010c53-8de8-4202-ab3b-45ca04e84d34",
   "metadata": {
    "nteract": {
     "transient": {
      "deleting": false
     }
    }
   },
   "source": [
    "### Download the dataset and upload to the lakehouse\n",
    "\n",
    "Define these parameters, so that you can use this notebook with different datasets:"
   ]
  },
  {
   "cell_type": "code",
   "execution_count": null,
   "id": "b8882ff1-2e8e-448b-96de-c06f9a326f7d",
   "metadata": {
    "jupyter": {
     "outputs_hidden": false,
     "source_hidden": false
    },
    "nteract": {
     "transient": {
      "deleting": false
     }
    }
   },
   "outputs": [
    {
     "data": {
      "application/vnd.livy.statement-meta+json": {
       "execution_finish_time": "2023-09-11T18:19:41.9242259Z",
       "execution_start_time": "2023-09-11T18:19:41.585059Z",
       "livy_statement_state": "available",
       "parent_msg_id": "837c13cc-6905-4651-8b38-d26068566928",
       "queued_time": "2023-09-11T18:14:33.1014141Z",
       "session_id": "1a89a9fe-074a-4632-a48a-c4402d9807ce",
       "session_start_time": null,
       "spark_jobs": {
        "jobs": [],
        "limit": 20,
        "numbers": {
         "FAILED": 0,
         "RUNNING": 0,
         "SUCCEEDED": 0,
         "UNKNOWN": 0
        },
        "rule": "ALL_DESC"
       },
       "spark_pool": null,
       "state": "finished",
       "statement_id": 4
      },
      "text/plain": [
       "StatementMeta(, 1a89a9fe-074a-4632-a48a-c4402d9807ce, 4, Finished, Available)"
      ]
     },
     "metadata": {},
     "output_type": "display_data"
    }
   ],
   "source": [
    "IS_CUSTOM_DATA <- FALSE  # If TRUE, the dataset has to be uploaded manually\n",
    "\n",
    "IS_SAMPLE <- FALSE  # If TRUE, use only rows of data for training, otherwise, use all data\n",
    "SAMPLE_ROWS <- 5000  # If IS_SAMPLE is True, use only this number of rows for training\n",
    "\n",
    "DATA_ROOT <- \"/lakehouse/default\"\n",
    "DATA_FOLDER <- \"Files/fraud-detection\"  # Folder with data files\n",
    "DATA_FILE <- \"creditcard.csv\"  # Data file name"
   ]
  },
  {
   "cell_type": "markdown",
   "id": "178c1546-8324-4a43-872c-3165cd8b6a69",
   "metadata": {
    "nteract": {
     "transient": {
      "deleting": false
     }
    }
   },
   "source": [
    "The following code downloads a publicly available version of the dataset and then stores it in a Fabric lakehouse.\n",
    "\n",
    "\n",
    "> [!IMPORTANT]\n",
    "> Be sure to [add a lakehouse](https://aka.ms/fabric/addlakehouse) to the notebook before you run it. If you don't, you'll get an error."
   ]
  },
  {
   "cell_type": "code",
   "execution_count": null,
   "id": "cc2241e7-7c5d-484e-a132-e6f72743e43a",
   "metadata": {
    "jupyter": {
     "outputs_hidden": false,
     "source_hidden": false
    },
    "nteract": {
     "transient": {
      "deleting": false
     }
    }
   },
   "outputs": [
    {
     "data": {
      "application/vnd.livy.statement-meta+json": {
       "execution_finish_time": "2023-09-11T18:19:48.7870353Z",
       "execution_start_time": "2023-09-11T18:19:42.2722727Z",
       "livy_statement_state": "available",
       "parent_msg_id": "219e9b6b-3afc-4b49-aead-f044707c8370",
       "queued_time": "2023-09-11T18:14:33.1019732Z",
       "session_id": "1a89a9fe-074a-4632-a48a-c4402d9807ce",
       "session_start_time": null,
       "spark_jobs": {
        "jobs": [],
        "limit": 20,
        "numbers": {
         "FAILED": 0,
         "RUNNING": 0,
         "SUCCEEDED": 0,
         "UNKNOWN": 0
        },
        "rule": "ALL_DESC"
       },
       "spark_pool": null,
       "state": "finished",
       "statement_id": 5
      },
      "text/plain": [
       "StatementMeta(, 1a89a9fe-074a-4632-a48a-c4402d9807ce, 5, Finished, Available)"
      ]
     },
     "metadata": {},
     "output_type": "display_data"
    },
    {
     "name": "stdout",
     "output_type": "stream",
     "text": [
      "Downloaded demo data files into lakehouse.\n",
      "Warning message:\n",
      "package ‘httr’ was built under R version 4.2.3 "
     ]
    }
   ],
   "source": [
    "if (!IS_CUSTOM_DATA) {\n",
    "    # Download data files into a lakehouse if they don't exist\n",
    "    library(httr)\n",
    "    \n",
    "    remote_url <- \"https://synapseaisolutionsa.blob.core.windows.net/public/Credit_Card_Fraud_Detection\"\n",
    "    fname <- \"creditcard.csv\"\n",
    "    download_path <- file.path(DATA_ROOT, DATA_FOLDER, \"raw\")\n",
    "\n",
    "    dir.create(download_path, showWarnings = FALSE, recursive = TRUE)\n",
    "    if (!file.exists(file.path(download_path, fname))) {\n",
    "        r <- GET(file.path(remote_url, fname), timeout(30))\n",
    "        writeBin(content(r, \"raw\"), file.path(download_path, fname))\n",
    "    }\n",
    "    message(\"Downloaded demo data files into lakehouse.\")\n",
    "}"
   ]
  },
  {
   "cell_type": "markdown",
   "id": "917799c1-f4bd-4e19-831e-76a7b2c97c6d",
   "metadata": {
    "nteract": {
     "transient": {
      "deleting": false
     }
    }
   },
   "source": [
    "Start recording the time it takes to run this notebook:"
   ]
  },
  {
   "cell_type": "code",
   "execution_count": null,
   "id": "23d97979-fe90-44bd-be9d-9bb7f46f0bf6",
   "metadata": {
    "jupyter": {
     "outputs_hidden": false,
     "source_hidden": false
    },
    "nteract": {
     "transient": {
      "deleting": false
     }
    }
   },
   "outputs": [
    {
     "data": {
      "application/vnd.livy.statement-meta+json": {
       "execution_finish_time": "2023-09-11T18:19:49.4632511Z",
       "execution_start_time": "2023-09-11T18:19:49.1394264Z",
       "livy_statement_state": "available",
       "parent_msg_id": "a88fdfd4-82d4-4a9e-8806-67bbcebd9bec",
       "queued_time": "2023-09-11T18:14:33.1024384Z",
       "session_id": "1a89a9fe-074a-4632-a48a-c4402d9807ce",
       "session_start_time": null,
       "spark_jobs": {
        "jobs": [],
        "limit": 20,
        "numbers": {
         "FAILED": 0,
         "RUNNING": 0,
         "SUCCEEDED": 0,
         "UNKNOWN": 0
        },
        "rule": "ALL_DESC"
       },
       "spark_pool": null,
       "state": "finished",
       "statement_id": 6
      },
      "text/plain": [
       "StatementMeta(, 1a89a9fe-074a-4632-a48a-c4402d9807ce, 6, Finished, Available)"
      ]
     },
     "metadata": {},
     "output_type": "display_data"
    }
   ],
   "source": [
    "# Record the notebook running time\n",
    "ts <- as.numeric(Sys.time())"
   ]
  },
  {
   "cell_type": "markdown",
   "id": "7069d90d-45bd-4a7d-a6e2-c19e7bc0b755",
   "metadata": {
    "nteract": {
     "transient": {
      "deleting": false
     }
    }
   },
   "source": [
    "### Read raw date data from the lakehouse\n",
    "\n",
    "This code reads raw data from the **Files** section of the lakehouse:"
   ]
  },
  {
   "cell_type": "code",
   "execution_count": null,
   "id": "5e96b718-ba94-4c1f-af47-415f94d56b0b",
   "metadata": {
    "jupyter": {
     "outputs_hidden": false,
     "source_hidden": false
    },
    "nteract": {
     "transient": {
      "deleting": false
     }
    }
   },
   "outputs": [
    {
     "data": {
      "application/vnd.livy.statement-meta+json": {
       "execution_finish_time": "2023-09-11T18:20:13.4241378Z",
       "execution_start_time": "2023-09-11T18:19:49.8056567Z",
       "livy_statement_state": "available",
       "parent_msg_id": "b040d26d-5cd5-4426-a652-706c1aa2885c",
       "queued_time": "2023-09-11T18:14:33.1029215Z",
       "session_id": "1a89a9fe-074a-4632-a48a-c4402d9807ce",
       "session_start_time": null,
       "spark_jobs": {
        "jobs": [],
        "limit": 20,
        "numbers": {
         "FAILED": 0,
         "RUNNING": 0,
         "SUCCEEDED": 0,
         "UNKNOWN": 0
        },
        "rule": "ALL_DESC"
       },
       "spark_pool": null,
       "state": "finished",
       "statement_id": 7
      },
      "text/plain": [
       "StatementMeta(, 1a89a9fe-074a-4632-a48a-c4402d9807ce, 7, Finished, Available)"
      ]
     },
     "metadata": {},
     "output_type": "display_data"
    }
   ],
   "source": [
    "data_df <- read.csv(file.path(DATA_ROOT, DATA_FOLDER, \"raw\", DATA_FILE))"
   ]
  },
  {
   "cell_type": "markdown",
   "id": "91334129-7424-48dc-ad04-c6ff93227e66",
   "metadata": {
    "nteract": {
     "transient": {
      "deleting": false
     }
    }
   },
   "source": [
    "## Step 3: Perform exploratory data analysis"
   ]
  },
  {
   "cell_type": "markdown",
   "id": "0a85e38f-b5af-4526-b849-364fe1ee6eb8",
   "metadata": {
    "nteract": {
     "transient": {
      "deleting": false
     }
    }
   },
   "source": [
    "Use the `display` command to view the high-level statistics of the dataset:"
   ]
  },
  {
   "cell_type": "code",
   "execution_count": null,
   "id": "336a3048-675c-48f4-943f-89c16efd4e28",
   "metadata": {
    "jupyter": {
     "outputs_hidden": false,
     "source_hidden": false
    },
    "nteract": {
     "transient": {
      "deleting": false
     }
    }
   },
   "outputs": [
    {
     "data": {
      "application/vnd.livy.statement-meta+json": {
       "execution_finish_time": "2023-09-11T18:20:29.4061445Z",
       "execution_start_time": "2023-09-11T18:20:13.7542542Z",
       "livy_statement_state": "available",
       "parent_msg_id": "51863bad-07d9-4284-a90b-a3f6c94e8fdf",
       "queued_time": "2023-09-11T18:14:33.1033843Z",
       "session_id": "1a89a9fe-074a-4632-a48a-c4402d9807ce",
       "session_start_time": null,
       "spark_jobs": {
        "jobs": [
         {
          "completionTime": "2023-09-11T18:20:27.082GMT",
          "dataRead": 0,
          "dataWritten": 0,
          "description": "Job group for statement 8:\ndisplay(as.DataFrame(data_df, numPartitions = 3L))",
          "displayName": "getRowsInJsonString at Display.scala:452",
          "jobGroup": "8",
          "jobId": 8,
          "killedTasksSummary": {},
          "name": "getRowsInJsonString at Display.scala:452",
          "numActiveStages": 0,
          "numActiveTasks": 0,
          "numCompletedIndices": 1,
          "numCompletedStages": 1,
          "numCompletedTasks": 1,
          "numFailedStages": 0,
          "numFailedTasks": 0,
          "numKilledTasks": 0,
          "numSkippedStages": 0,
          "numSkippedTasks": 0,
          "numTasks": 1,
          "rowCount": 0,
          "stageIds": [
           12
          ],
          "status": "SUCCEEDED",
          "submissionTime": "2023-09-11T18:20:22.551GMT",
          "usageDescription": ""
         }
        ],
        "limit": 20,
        "numbers": {
         "FAILED": 0,
         "RUNNING": 0,
         "SUCCEEDED": 1,
         "UNKNOWN": 0
        },
        "rule": "ALL_DESC"
       },
       "spark_pool": null,
       "state": "finished",
       "statement_id": 8
      },
      "text/plain": [
       "StatementMeta(, 1a89a9fe-074a-4632-a48a-c4402d9807ce, 8, Finished, Available)"
      ]
     },
     "metadata": {},
     "output_type": "display_data"
    },
    {
     "data": {
      "application/vnd.synapse.widget-view+json": {
       "widget_id": "e2f63e93-58af-457e-9889-d447130dd2d8",
       "widget_type": "Synapse.DataFrame"
      },
      "text/plain": [
       "SynapseWidget(Synapse.DataFrame, e2f63e93-58af-457e-9889-d447130dd2d8)"
      ]
     },
     "metadata": {},
     "output_type": "display_data"
    }
   ],
   "source": [
    "display(as.DataFrame(data_df, numPartitions = 3L))"
   ]
  },
  {
   "cell_type": "code",
   "execution_count": null,
   "id": "361fa515-3a26-49d0-a1c4-93b46e358e28",
   "metadata": {
    "jupyter": {
     "outputs_hidden": false,
     "source_hidden": false
    },
    "nteract": {
     "transient": {
      "deleting": false
     }
    }
   },
   "outputs": [
    {
     "data": {
      "application/vnd.livy.statement-meta+json": {
       "execution_finish_time": "2023-09-11T18:20:30.2444852Z",
       "execution_start_time": "2023-09-11T18:20:29.9097305Z",
       "livy_statement_state": "available",
       "parent_msg_id": "12d002e4-0abb-48cc-a74a-46c286ec34e9",
       "queued_time": "2023-09-11T18:14:33.1038573Z",
       "session_id": "1a89a9fe-074a-4632-a48a-c4402d9807ce",
       "session_start_time": null,
       "spark_jobs": {
        "jobs": [],
        "limit": 20,
        "numbers": {
         "FAILED": 0,
         "RUNNING": 0,
         "SUCCEEDED": 0,
         "UNKNOWN": 0
        },
        "rule": "ALL_DESC"
       },
       "spark_pool": null,
       "state": "finished",
       "statement_id": 9
      },
      "text/plain": [
       "StatementMeta(, 1a89a9fe-074a-4632-a48a-c4402d9807ce, 9, Finished, Available)"
      ]
     },
     "metadata": {},
     "output_type": "display_data"
    },
    {
     "name": "stdout",
     "output_type": "stream",
     "text": [
      "records read: 284807\n",
      "Schema:\n",
      "'data.frame':\t284807 obs. of  31 variables:\n",
      " $ Time  : num  0 0 1 1 2 2 4 7 7 9 ...\n",
      " $ V1    : num  -1.36 1.192 -1.358 -0.966 -1.158 ...\n",
      " $ V2    : num  -0.0728 0.2662 -1.3402 -0.1852 0.8777 ...\n",
      " $ V3    : num  2.536 0.166 1.773 1.793 1.549 ...\n",
      " $ V4    : num  1.378 0.448 0.38 -0.863 0.403 ...\n",
      " $ V5    : num  -0.3383 0.06 -0.5032 -0.0103 -0.4072 ...\n",
      " $ V6    : num  0.4624 -0.0824 1.8005 1.2472 0.0959 ...\n",
      " $ V7    : num  0.2396 -0.0788 0.7915 0.2376 0.5929 ...\n",
      " $ V8    : num  0.0987 0.0851 0.2477 0.3774 -0.2705 ...\n",
      " $ V9    : num  0.364 -0.255 -1.515 -1.387 0.818 ...\n",
      " $ V10   : num  0.0908 -0.167 0.2076 -0.055 0.7531 ...\n",
      " $ V11   : num  -0.552 1.613 0.625 -0.226 -0.823 ...\n",
      " $ V12   : num  -0.6178 1.0652 0.0661 0.1782 0.5382 ...\n",
      " $ V13   : num  -0.991 0.489 0.717 0.508 1.346 ...\n",
      " $ V14   : num  -0.311 -0.144 -0.166 -0.288 -1.12 ...\n",
      " $ V15   : num  1.468 0.636 2.346 -0.631 0.175 ...\n",
      " $ V16   : num  -0.47 0.464 -2.89 -1.06 -0.451 ...\n",
      " $ V17   : num  0.208 -0.115 1.11 -0.684 -0.237 ...\n",
      " $ V18   : num  0.0258 -0.1834 -0.1214 1.9658 -0.0382 ...\n",
      " $ V19   : num  0.404 -0.146 -2.262 -1.233 0.803 ...\n",
      " $ V20   : num  0.2514 -0.0691 0.525 -0.208 0.4085 ...\n",
      " $ V21   : num  -0.01831 -0.22578 0.248 -0.1083 -0.00943 ...\n",
      " $ V22   : num  0.27784 -0.63867 0.77168 0.00527 0.79828 ...\n",
      " $ V23   : num  -0.11 0.101 0.909 -0.19 -0.137 ...\n",
      " $ V24   : num  0.0669 -0.3398 -0.6893 -1.1756 0.1413 ...\n",
      " $ V25   : num  0.129 0.167 -0.328 0.647 -0.206 ...\n",
      " $ V26   : num  -0.189 0.126 -0.139 -0.222 0.502 ...\n",
      " $ V27   : num  0.13356 -0.00898 -0.05535 0.06272 0.21942 ...\n",
      " $ V28   : num  -0.0211 0.0147 -0.0598 0.0615 0.2152 ...\n",
      " $ Amount: num  149.62 2.69 378.66 123.5 69.99 ...\n",
      " $ Class : int  0 0 0 0 0 0 0 0 0 0 ..."
     ]
    }
   ],
   "source": [
    "# Print dataset basic information\n",
    "message(sprintf(\"records read: %d\", nrow(data_df)))\n",
    "message(\"Schema:\")\n",
    "str(data_df)"
   ]
  },
  {
   "cell_type": "code",
   "execution_count": null,
   "id": "cdf44939-e7bb-4afa-8640-dea672254c42",
   "metadata": {
    "jupyter": {
     "outputs_hidden": false,
     "source_hidden": false
    },
    "nteract": {
     "transient": {
      "deleting": false
     }
    }
   },
   "outputs": [
    {
     "data": {
      "application/vnd.livy.statement-meta+json": {
       "execution_finish_time": "2023-09-11T18:20:30.9777449Z",
       "execution_start_time": "2023-09-11T18:20:30.5978308Z",
       "livy_statement_state": "available",
       "parent_msg_id": "5a95ff36-c9be-4de4-afdb-5bac703e9411",
       "queued_time": "2023-09-11T18:14:33.1043511Z",
       "session_id": "1a89a9fe-074a-4632-a48a-c4402d9807ce",
       "session_start_time": null,
       "spark_jobs": {
        "jobs": [],
        "limit": 20,
        "numbers": {
         "FAILED": 0,
         "RUNNING": 0,
         "SUCCEEDED": 0,
         "UNKNOWN": 0
        },
        "rule": "ALL_DESC"
       },
       "spark_pool": null,
       "state": "finished",
       "statement_id": 10
      },
      "text/plain": [
       "StatementMeta(, 1a89a9fe-074a-4632-a48a-c4402d9807ce, 10, Finished, Available)"
      ]
     },
     "metadata": {},
     "output_type": "display_data"
    }
   ],
   "source": [
    "# If IS_SAMPLE is True, use only SAMPLE_ROWS of rows for training\n",
    "if (IS_SAMPLE) {\n",
    "    data_df = sample_n(data_df, SAMPLE_ROWS)\n",
    "}"
   ]
  },
  {
   "cell_type": "code",
   "execution_count": null,
   "id": "d9d44e9f-83ab-40a8-8cd5-2a4aad559fa0",
   "metadata": {
    "jupyter": {
     "outputs_hidden": false,
     "source_hidden": false
    },
    "nteract": {
     "transient": {
      "deleting": false
     }
    }
   },
   "outputs": [
    {
     "data": {
      "application/vnd.livy.statement-meta+json": {
       "execution_finish_time": "2023-09-11T18:20:31.7158779Z",
       "execution_start_time": "2023-09-11T18:20:31.3467315Z",
       "livy_statement_state": "available",
       "parent_msg_id": "0f8ac84a-4356-4f86-bad3-de46d339b4ad",
       "queued_time": "2023-09-11T18:14:33.1048449Z",
       "session_id": "1a89a9fe-074a-4632-a48a-c4402d9807ce",
       "session_start_time": null,
       "spark_jobs": {
        "jobs": [],
        "limit": 20,
        "numbers": {
         "FAILED": 0,
         "RUNNING": 0,
         "SUCCEEDED": 0,
         "UNKNOWN": 0
        },
        "rule": "ALL_DESC"
       },
       "spark_pool": null,
       "state": "finished",
       "statement_id": 11
      },
      "text/plain": [
       "StatementMeta(, 1a89a9fe-074a-4632-a48a-c4402d9807ce, 11, Finished, Available)"
      ]
     },
     "metadata": {},
     "output_type": "display_data"
    },
    {
     "name": "stdout",
     "output_type": "stream",
     "text": [
      "No Frauds 99.83% of the dataset\n",
      "\n",
      "Frauds 0.17% of the dataset\n"
     ]
    }
   ],
   "source": [
    "# The distribution of classes in the dataset\n",
    "message(sprintf(\"No Frauds %.2f%% of the dataset\\n\", round(sum(data_df$Class == 0)/nrow(data_df) * 100, 2)))\n",
    "message(sprintf(\"Frauds %.2f%% of the dataset\\n\", round(sum(data_df$Class == 1)/nrow(data_df) * 100, 2)))"
   ]
  },
  {
   "cell_type": "markdown",
   "id": "76896049-3eda-43ad-933a-7cd99b14e923",
   "metadata": {
    "nteract": {
     "transient": {
      "deleting": false
     }
    }
   },
   "source": [
    "This class distribution shows that most of the transactions are nonfraudulent. Therefore, data preprocessing is required before model training, to avoid overfitting."
   ]
  },
  {
   "cell_type": "markdown",
   "id": "56a4c226-e12f-4a5b-b3ce-ea7b60fc2b4b",
   "metadata": {
    "nteract": {
     "transient": {
      "deleting": false
     }
    }
   },
   "source": [
    "### View the distribution of fraudulent versus nonfraudulent transactions\n",
    "\n",
    "View the distribution of fraudulent versus nonfraudulent transactions with a plot, to show the class imbalance in the dataset:"
   ]
  },
  {
   "cell_type": "code",
   "execution_count": null,
   "id": "9c28600c-663c-4aac-8d7e-1b97cfda465b",
   "metadata": {
    "jupyter": {
     "outputs_hidden": false,
     "source_hidden": false
    },
    "nteract": {
     "transient": {
      "deleting": false
     }
    }
   },
   "outputs": [
    {
     "data": {
      "application/vnd.livy.statement-meta+json": {
       "execution_finish_time": "2023-09-11T18:20:35.3352197Z",
       "execution_start_time": "2023-09-11T18:20:32.0528844Z",
       "livy_statement_state": "available",
       "parent_msg_id": "84a9b494-ae37-42d6-bd7e-2441f3e202d4",
       "queued_time": "2023-09-11T18:14:33.1053478Z",
       "session_id": "1a89a9fe-074a-4632-a48a-c4402d9807ce",
       "session_start_time": null,
       "spark_jobs": {
        "jobs": [],
        "limit": 20,
        "numbers": {
         "FAILED": 0,
         "RUNNING": 0,
         "SUCCEEDED": 0,
         "UNKNOWN": 0
        },
        "rule": "ALL_DESC"
       },
       "spark_pool": null,
       "state": "finished",
       "statement_id": 12
      },
      "text/plain": [
       "StatementMeta(, 1a89a9fe-074a-4632-a48a-c4402d9807ce, 12, Finished, Available)"
      ]
     },
     "metadata": {},
     "output_type": "display_data"
    },
    {
     "data": {
      "image/png": "[encoded data removed]",
      "text/plain": [
       "\n",
       "Attaching package: ‘ggplot2’\n",
       "\n",
       "The following object is masked from ‘package:SparkR’:\n",
       "\n",
       "    expr\n"
      ]
     },
     "execution_count": null,
     "metadata": {},
     "output_type": "execute_result"
    }
   ],
   "source": [
    "library(ggplot2)\n",
    "\n",
    "ggplot(data_df, aes(x = factor(Class), fill = factor(Class))) +\n",
    "  geom_bar(stat = \"count\") +\n",
    "  scale_x_discrete(labels = c(\"no fraud\", \"fraud\")) +\n",
    "  ggtitle(\"Class Distributions \\n (0: No Fraud || 1: Fraud)\") +\n",
    "  theme(plot.title = element_text(size = 10))"
   ]
  },
  {
   "cell_type": "markdown",
   "id": "cbb8ede1-a78b-4727-bafd-a85521cf2117",
   "metadata": {
    "nteract": {
     "transient": {
      "deleting": false
     }
    }
   },
   "source": [
    "This plot clearly shows how imbalanced the dataset is."
   ]
  },
  {
   "cell_type": "markdown",
   "id": "4478ec9c-486f-4aa4-b552-c6b64c78fcb9",
   "metadata": {
    "nteract": {
     "transient": {
      "deleting": false
     }
    }
   },
   "source": [
    "### Show the five-number summary\n",
    "\n",
    "Show the five-number summary (minimum score, first quartile, median, third quartile, and maximum score) for the transaction amount, with box plots:"
   ]
  },
  {
   "cell_type": "code",
   "execution_count": null,
   "id": "e10ff82d-34a6-4b30-9faa-e5a18e258fc9",
   "metadata": {
    "jupyter": {
     "outputs_hidden": false,
     "source_hidden": false
    },
    "nteract": {
     "transient": {
      "deleting": false
     }
    }
   },
   "outputs": [
    {
     "data": {
      "application/vnd.livy.statement-meta+json": {
       "execution_finish_time": "2023-09-11T18:20:36.5971356Z",
       "execution_start_time": "2023-09-11T18:20:35.7241634Z",
       "livy_statement_state": "available",
       "parent_msg_id": "d9752fec-4729-4dcb-92cc-f586499ce6d9",
       "queued_time": "2023-09-11T18:14:33.1059869Z",
       "session_id": "1a89a9fe-074a-4632-a48a-c4402d9807ce",
       "session_start_time": null,
       "spark_jobs": {
        "jobs": [],
        "limit": 20,
        "numbers": {
         "FAILED": 0,
         "RUNNING": 0,
         "SUCCEEDED": 0,
         "UNKNOWN": 0
        },
        "rule": "ALL_DESC"
       },
       "spark_pool": null,
       "state": "finished",
       "statement_id": 13
      },
      "text/plain": [
       "StatementMeta(, 1a89a9fe-074a-4632-a48a-c4402d9807ce, 13, Finished, Available)"
      ]
     },
     "metadata": {},
     "output_type": "display_data"
    },
    {
     "data": {
      "image/png": "[encoded data removed]",
      "text/plain": [
       "\n",
       "Attaching package: ‘dplyr’\n",
       "\n",
       "The following objects are masked from ‘package:SparkR’:\n",
       "\n",
       "    arrange, between, coalesce, collect, contains, count, cume_dist,\n",
       "    dense_rank, desc, distinct, explain, expr, filter, first, group_by,\n",
       "    intersect, lag, last, lead, mutate, n, n_distinct, ntile,\n",
       "    percent_rank, rename, row_number, sample_frac, select, slice, sql,\n",
       "    summarize, union, where\n",
       "\n",
       "The following objects are masked from ‘package:stats’:\n",
       "\n",
       "    filter, lag\n",
       "\n",
       "The following objects are masked from ‘package:base’:\n",
       "\n",
       "    intersect, setdiff, setequal, union\n",
       "\n",
       "Warning message:\n",
       "package ‘dplyr’ was built under R version 4.2.3 "
      ]
     },
     "execution_count": null,
     "metadata": {},
     "output_type": "execute_result"
    }
   ],
   "source": [
    "library(ggplot2)\n",
    "library(dplyr)\n",
    "\n",
    "ggplot(data_df, aes(x = as.factor(Class), y = Amount, fill = as.factor(Class))) +\n",
    "  geom_boxplot(outlier.shape = NA) +\n",
    "  scale_x_discrete(labels = c(\"no fraud\", \"fraud\")) +\n",
    "  ggtitle(\"Boxplot without Outliers\") +\n",
    "  coord_cartesian(ylim = quantile(data_df$Amount, c(0.05, 0.95)))"
   ]
  },
  {
   "cell_type": "markdown",
   "id": "d8330e64-8345-4293-901d-d40d4b834314",
   "metadata": {
    "nteract": {
     "transient": {
      "deleting": false
     }
    }
   },
   "source": [
    "For highly imbalanced data, box plots might not show accurate insights. However, you can address the `Class` imbalance problem first, and then create the same plots for more accurate insights."
   ]
  },
  {
   "cell_type": "markdown",
   "id": "c60ba486-48c7-4ddf-951d-c0833ae63fc6",
   "metadata": {
    "nteract": {
     "transient": {
      "deleting": false
     }
    }
   },
   "source": [
    "## Step 4: Train and evaluate the models"
   ]
  },
  {
   "cell_type": "markdown",
   "id": "7369ba4f-3cdb-41bb-865d-33206e0609d7",
   "metadata": {
    "nteract": {
     "transient": {
      "deleting": false
     }
    }
   },
   "source": [
    "Here, you train a LightGBM model to classify the fraud transactions. You train a LightGBM model on both the imbalanced dataset and the balanced dataset. Then, you compare the performance of both models."
   ]
  },
  {
   "cell_type": "markdown",
   "id": "45f30fc7-4042-4630-b0cf-f01ee71a275d",
   "metadata": {
    "nteract": {
     "transient": {
      "deleting": false
     }
    }
   },
   "source": [
    "### Prepare training and test datasets"
   ]
  },
  {
   "cell_type": "code",
   "execution_count": null,
   "id": "9aea753f-aa6b-41d5-bfab-07c30d64769b",
   "metadata": {
    "jupyter": {
     "outputs_hidden": false,
     "source_hidden": false
    },
    "nteract": {
     "transient": {
      "deleting": false
     }
    }
   },
   "outputs": [
    {
     "data": {
      "application/vnd.livy.statement-meta+json": {
       "execution_finish_time": "2023-09-11T18:20:38.1023484Z",
       "execution_start_time": "2023-09-11T18:20:37.7821444Z",
       "livy_statement_state": "available",
       "parent_msg_id": "8f75b301-81e1-46fa-9a39-b1c4f5c7288e",
       "queued_time": "2023-09-11T18:14:33.1065372Z",
       "session_id": "1a89a9fe-074a-4632-a48a-c4402d9807ce",
       "session_start_time": null,
       "spark_jobs": {
        "jobs": [],
        "limit": 20,
        "numbers": {
         "FAILED": 0,
         "RUNNING": 0,
         "SUCCEEDED": 0,
         "UNKNOWN": 0
        },
        "rule": "ALL_DESC"
       },
       "spark_pool": null,
       "state": "finished",
       "statement_id": 14
      },
      "text/plain": [
       "StatementMeta(, 1a89a9fe-074a-4632-a48a-c4402d9807ce, 14, Finished, Available)"
      ]
     },
     "metadata": {},
     "output_type": "display_data"
    }
   ],
   "source": [
    "# Split the dataset into training and test datasets\n",
    "set.seed(42)\n",
    "train_sample_ids <- base::sample(seq_len(nrow(data_df)), size = floor(0.85 * nrow(data_df)))\n",
    "\n",
    "train_df <- data_df[train_sample_ids, ]\n",
    "test_df <- data_df[-train_sample_ids, ]"
   ]
  },
  {
   "cell_type": "markdown",
   "id": "6a6fc7bd-1c05-4d5e-931a-f0e75d3510ce",
   "metadata": {
    "nteract": {
     "transient": {
      "deleting": false
     }
    }
   },
   "source": [
    "### Apply SMOTE to the training dataset\n",
    "\n",
    "Imbalanced classification has a problem. It has too few minority class examples for a model to effectively learn the decision boundary. Synthetic Minority Oversampling Technique (SMOTE) can handle this problem. SMOTE is the most widely used approach to synthesize new samples for the minority class. You can access SMOTE by using the `imbalance` library that you installed in Step 1.\n",
    "\n",
    "Apply SMOTE only to the training dataset, instead of the testing dataset. When you score the model with the test data, you need an approximation of the model performance on unseen data in production. For a valid approximation, your test data relies on the original imbalanced distribution to represent production data as closely as possible."
   ]
  },
  {
   "cell_type": "code",
   "execution_count": null,
   "id": "897986af-47a2-4298-a835-9c0ec565c96e",
   "metadata": {
    "jupyter": {
     "outputs_hidden": false,
     "source_hidden": false
    },
    "nteract": {
     "transient": {
      "deleting": false
     }
    }
   },
   "outputs": [
    {
     "data": {
      "application/vnd.livy.statement-meta+json": {
       "execution_finish_time": "2023-09-11T18:20:47.4172636Z",
       "execution_start_time": "2023-09-11T18:20:38.4362541Z",
       "livy_statement_state": "available",
       "parent_msg_id": "e8cd9b0a-85b1-40e0-b628-9d5bb604bbe0",
       "queued_time": "2023-09-11T18:14:33.1070925Z",
       "session_id": "1a89a9fe-074a-4632-a48a-c4402d9807ce",
       "session_start_time": null,
       "spark_jobs": {
        "jobs": [],
        "limit": 20,
        "numbers": {
         "FAILED": 0,
         "RUNNING": 0,
         "SUCCEEDED": 0,
         "UNKNOWN": 0
        },
        "rule": "ALL_DESC"
       },
       "spark_pool": null,
       "state": "finished",
       "statement_id": 15
      },
      "text/plain": [
       "StatementMeta(, 1a89a9fe-074a-4632-a48a-c4402d9807ce, 15, Finished, Available)"
      ]
     },
     "metadata": {},
     "output_type": "display_data"
    },
    {
     "name": "stdout",
     "output_type": "stream",
     "text": [
      "Original dataset shape 0: 241667, 1: 418\n",
      "Resampled dataset shape 0: 241667, 1: 239251"
     ]
    }
   ],
   "source": [
    "# Apply SMOTE to the training dataset\n",
    "library(imbalance)\n",
    "\n",
    "# Print the shape of the original (imbalanced) training dataset\n",
    "train_y_categ <- train_df %>% select(Class) %>% table\n",
    "message(\n",
    "    paste0(\n",
    "        \"Original dataset shape \",\n",
    "        paste(names(train_y_categ), train_y_categ, sep = \": \", collapse = \", \")\n",
    "    )\n",
    ")\n",
    "\n",
    "# Resample the training dataset by using SMOTE\n",
    "smote_train_df <- train_df %>%\n",
    "    mutate(Class = factor(Class)) %>%\n",
    "    oversample(ratio = 0.99, method = \"SMOTE\", classAttr = \"Class\") %>%\n",
    "    mutate(Class = as.integer(as.character(Class)))\n",
    "\n",
    "# Print the shape of the resampled (balanced) training dataset\n",
    "smote_train_y_categ <- smote_train_df %>% select(Class) %>% table\n",
    "message(\n",
    "    paste0(\n",
    "        \"Resampled dataset shape \",\n",
    "        paste(names(smote_train_y_categ), smote_train_y_categ, sep = \": \", collapse = \", \")\n",
    "    )\n",
    ")"
   ]
  },
  {
   "cell_type": "markdown",
   "id": "12fd0fa5-96c5-4c87-bb17-bce851b4c350",
   "metadata": {
    "nteract": {
     "transient": {
      "deleting": false
     }
    }
   },
   "source": [
    "For more information about SMOTE, see the [Package 'imbalance'](https://cran.r-project.org/web/packages/imbalance/imbalance.pdf) and [Working with imbalanced datasets](https://cran.r-project.org/web/packages/imbalance/vignettes/imbalance.pdf) resources at the CRAN website.\n",
    "\n",
    "### Train the model by using LightGBM\n",
    "\n",
    "Train the LightGBM model with both the imbalanced dataset and the balanced (via SMOTE) dataset. Then, compare their performance:"
   ]
  },
  {
   "cell_type": "code",
   "execution_count": null,
   "id": "c280bea3-452c-4110-bfaa-234f8ce97bce",
   "metadata": {
    "jupyter": {
     "outputs_hidden": false,
     "source_hidden": false
    },
    "nteract": {
     "transient": {
      "deleting": false
     }
    }
   },
   "outputs": [
    {
     "data": {
      "application/vnd.livy.statement-meta+json": {
       "execution_finish_time": "2023-09-11T18:23:16.4416547Z",
       "execution_start_time": "2023-09-11T18:20:47.751843Z",
       "livy_statement_state": "available",
       "parent_msg_id": "137a0392-8fc6-4df8-a566-7f0149073fc9",
       "queued_time": "2023-09-11T18:14:33.1077738Z",
       "session_id": "1a89a9fe-074a-4632-a48a-c4402d9807ce",
       "session_start_time": null,
       "spark_jobs": {
        "jobs": [],
        "limit": 20,
        "numbers": {
         "FAILED": 0,
         "RUNNING": 0,
         "SUCCEEDED": 0,
         "UNKNOWN": 0
        },
        "rule": "ALL_DESC"
       },
       "spark_pool": null,
       "state": "finished",
       "statement_id": 16
      },
      "text/plain": [
       "StatementMeta(, 1a89a9fe-074a-4632-a48a-c4402d9807ce, 16, Finished, Available)"
      ]
     },
     "metadata": {},
     "output_type": "display_data"
    },
    {
     "name": "stdout",
     "output_type": "stream",
     "text": [
      "Loading required package: R6\n",
      "\n",
      "Attaching package: ‘lightgbm’\n",
      "\n",
      "The following object is masked from ‘package:dplyr’:\n",
      "\n",
      "    slice\n",
      "\n",
      "The following object is masked from ‘package:SparkR’:\n",
      "\n",
      "    slice\n",
      "\n",
      "Start training with imbalanced data:\n",
      "[LightGBM] [Info] Number of positive: 418, number of negative: 241667\n",
      "[LightGBM] [Warning] Auto-choosing col-wise multi-threading, the overhead of testing was 0.037395 seconds.\n",
      "You can set `force_col_wise=true` to remove the overhead.\n",
      "[LightGBM] [Info] Total Bins 7650\n",
      "[LightGBM] [Info] Number of data points in the train set: 242085, number of used features: 30\n",
      "[LightGBM] [Info] [binary:BoostFromScore]: pavg=0.001727 -> initscore=-6.359835\n",
      "[LightGBM] [Info] Start training from score -6.359835\n",
      "[1] \"[1]:  valid's binary_logloss:0.00594494  valid's auc:0.895445\"\n",
      "[1] \"[2]:  valid's binary_logloss:0.0135924  valid's auc:0.678966\"\n",
      "[1] \"[3]:  valid's binary_logloss:0.00943818  valid's auc:0.828012\"\n",
      "[1] \"[4]:  valid's binary_logloss:0.00835686  valid's auc:0.868802\"\n",
      "[1] \"[5]:  valid's binary_logloss:0.00853258  valid's auc:0.852436\"\n",
      "[1] \"[6]:  valid's binary_logloss:0.00832369  valid's auc:0.85116\"\n",
      "[1] \"[7]:  valid's binary_logloss:0.00822669  valid's auc:0.864437\"\n",
      "[1] \"[8]:  valid's binary_logloss:0.00813175  valid's auc:0.864756\"\n",
      "[1] \"[9]:  valid's binary_logloss:0.00810472  valid's auc:0.864862\"\n",
      "[1] \"[10]:  valid's binary_logloss:0.00811792  valid's auc:0.86414\"\n",
      "[1] \"[11]:  valid's binary_logloss:0.00870906  valid's auc:0.823696\"\n",
      "[1] \"[12]:  valid's binary_logloss:0.00818252  valid's auc:0.863825\"\n",
      "[1] \"[13]:  valid's binary_logloss:0.00818559  valid's auc:0.879413\"\n",
      "[1] \"[14]:  valid's binary_logloss:0.00829849  valid's auc:0.866006\"\n",
      "[1] \"[15]:  valid's binary_logloss:0.00840453  valid's auc:0.870896\"\n",
      "[1] \"[16]:  valid's binary_logloss:0.00834358  valid's auc:0.880715\"\n",
      "[1] \"[17]:  valid's binary_logloss:0.00824618  valid's auc:0.885133\"\n",
      "[1] \"[18]:  valid's binary_logloss:0.00819655  valid's auc:0.886264\"\n",
      "[1] \"[19]:  valid's binary_logloss:0.0081555  valid's auc:0.887146\"\n",
      "[1] \"[20]:  valid's binary_logloss:0.00813096  valid's auc:0.893077\"\n",
      "[1] \"[21]:  valid's binary_logloss:0.00808491  valid's auc:0.892892\"\n",
      "[1] \"[22]:  valid's binary_logloss:0.00805947  valid's auc:0.890527\"\n",
      "[1] \"[23]:  valid's binary_logloss:0.0080391  valid's auc:0.888961\"\n",
      "[1] \"[24]:  valid's binary_logloss:0.00805495  valid's auc:0.90058\"\n",
      "[1] \"[25]:  valid's binary_logloss:0.00803328  valid's auc:0.905227\"\n",
      "[1] \"[26]:  valid's binary_logloss:0.00801125  valid's auc:0.89777\"\n",
      "[1] \"[27]:  valid's binary_logloss:0.00798801  valid's auc:0.904346\"\n",
      "[1] \"[28]:  valid's binary_logloss:0.00797555  valid's auc:0.904107\"\n",
      "[1] \"[29]:  valid's binary_logloss:0.00796701  valid's auc:0.913005\"\n",
      "[1] \"[30]:  valid's binary_logloss:0.00793929  valid's auc:0.913434\"\n",
      "[1] \"[31]:  valid's binary_logloss:0.00792612  valid's auc:0.905666\"\n",
      "[1] \"[32]:  valid's binary_logloss:0.00790976  valid's auc:0.90332\"\n",
      "[1] \"[33]:  valid's binary_logloss:0.00789359  valid's auc:0.904002\"\n",
      "[1] \"[34]:  valid's binary_logloss:0.00788594  valid's auc:0.903975\"\n",
      "[1] \"[35]:  valid's binary_logloss:0.0079169  valid's auc:0.897798\"\n",
      "[1] \"[36]:  valid's binary_logloss:0.00790649  valid's auc:0.893926\"\n",
      "[1] \"[37]:  valid's binary_logloss:0.00789596  valid's auc:0.889871\"\n",
      "[1] \"[38]:  valid's binary_logloss:0.00788698  valid's auc:0.8915\"\n",
      "[1] \"[39]:  valid's binary_logloss:0.00786984  valid's auc:0.89202\"\n",
      "[1] \"[40]:  valid's binary_logloss:0.00784993  valid's auc:0.886086\"\n",
      "[1] \"[41]:  valid's binary_logloss:0.00783261  valid's auc:0.88683\"\n",
      "[1] \"[42]:  valid's binary_logloss:0.00783105  valid's auc:0.900209\"\n",
      "[1] \"[43]:  valid's binary_logloss:0.00782069  valid's auc:0.899787\"\n",
      "[1] \"[44]:  valid's binary_logloss:0.00781498  valid's auc:0.899529\"\n",
      "[1] \"[45]:  valid's binary_logloss:0.00779964  valid's auc:0.899226\"\n",
      "[1] \"[46]:  valid's binary_logloss:0.00778674  valid's auc:0.905492\"\n",
      "[1] \"[47]:  valid's binary_logloss:0.00777129  valid's auc:0.905612\"\n",
      "[1] \"[48]:  valid's binary_logloss:0.00793081  valid's auc:0.890087\"\n",
      "[1] \"[49]:  valid's binary_logloss:0.00792581  valid's auc:0.890141\"\n",
      "[1] \"[50]:  valid's binary_logloss:0.00792978  valid's auc:0.889457\"\n",
      "[1] \"[51]:  valid's binary_logloss:0.00793035  valid's auc:0.896289\"\n",
      "[1] \"[52]:  valid's binary_logloss:0.00791946  valid's auc:0.896739\"\n",
      "[1] \"[53]:  valid's binary_logloss:0.0079105  valid's auc:0.896398\"\n",
      "[1] \"[54]:  valid's binary_logloss:0.00789707  valid's auc:0.897143\"\n",
      "[1] \"[55]:  valid's binary_logloss:0.00789229  valid's auc:0.896879\"\n",
      "[1] \"[56]:  valid's binary_logloss:0.00789498  valid's auc:0.896348\"\n",
      "[1] \"[57]:  valid's binary_logloss:0.00788578  valid's auc:0.895907\"\n",
      "[1] \"[58]:  valid's binary_logloss:0.00788167  valid's auc:0.895023\"\n",
      "[1] \"[59]:  valid's binary_logloss:0.00787445  valid's auc:0.895127\"\n",
      "[1] \"[60]:  valid's binary_logloss:0.00786947  valid's auc:0.895243\"\n",
      "[1] \"[61]:  valid's binary_logloss:0.00786762  valid's auc:0.895645\"\n",
      "[1] \"[62]:  valid's binary_logloss:0.00786591  valid's auc:0.896385\"\n",
      "[1] \"[63]:  valid's binary_logloss:0.00786564  valid's auc:0.895088\"\n",
      "[1] \"[64]:  valid's binary_logloss:0.0078624  valid's auc:0.895273\"\n",
      "[1] \"[65]:  valid's binary_logloss:0.00785941  valid's auc:0.89473\"\n",
      "[1] \"[66]:  valid's binary_logloss:0.00785872  valid's auc:0.899671\"\n",
      "[1] \"[67]:  valid's binary_logloss:0.00785575  valid's auc:0.90288\"\n",
      "[1] \"[68]:  valid's binary_logloss:0.00784921  valid's auc:0.902975\"\n",
      "[1] \"[69]:  valid's binary_logloss:0.0078499  valid's auc:0.902925\"\n",
      "[1] \"[70]:  valid's binary_logloss:0.00785612  valid's auc:0.902813\"\n",
      "[1] \"[71]:  valid's binary_logloss:0.00784924  valid's auc:0.904626\"\n",
      "[1] \"[72]:  valid's binary_logloss:0.00785127  valid's auc:0.904939\"\n",
      "[1] \"[73]:  valid's binary_logloss:0.00784717  valid's auc:0.905026\"\n",
      "[1] \"[74]:  valid's binary_logloss:0.00784706  valid's auc:0.905722\"\n",
      "[1] \"[75]:  valid's binary_logloss:0.00784362  valid's auc:0.90636\"\n",
      "[1] \"[76]:  valid's binary_logloss:0.00784327  valid's auc:0.906133\"\n",
      "[1] \"[77]:  valid's binary_logloss:0.00785047  valid's auc:0.905949\"\n",
      "[1] \"[78]:  valid's binary_logloss:0.00785681  valid's auc:0.905625\"\n",
      "[1] \"[79]:  valid's binary_logloss:0.00785589  valid's auc:0.906747\"\n",
      "[1] \"[80]:  valid's binary_logloss:0.00785211  valid's auc:0.915248\"\n",
      "[1] \"[81]:  valid's binary_logloss:0.00785599  valid's auc:0.914996\"\n",
      "[1] \"[82]:  valid's binary_logloss:0.00785664  valid's auc:0.91505\"\n",
      "[1] \"[83]:  valid's binary_logloss:0.00785272  valid's auc:0.917314\"\n",
      "[1] \"[84]:  valid's binary_logloss:0.00784836  valid's auc:0.918494\"\n",
      "[1] \"[85]:  valid's binary_logloss:0.007851  valid's auc:0.918604\"\n",
      "[1] \"[86]:  valid's binary_logloss:0.0078506  valid's auc:0.918336\"\n",
      "[1] \"[87]:  valid's binary_logloss:0.00785369  valid's auc:0.918384\"\n",
      "[1] \"[88]:  valid's binary_logloss:0.00784956  valid's auc:0.918306\"\n",
      "[1] \"[89]:  valid's binary_logloss:0.00784673  valid's auc:0.919153\"\n",
      "[1] \"[90]:  valid's binary_logloss:0.00784605  valid's auc:0.91941\"\n",
      "[1] \"[91]:  valid's binary_logloss:0.00784549  valid's auc:0.91905\"\n",
      "[1] \"[92]:  valid's binary_logloss:0.00784695  valid's auc:0.918804\"\n",
      "[1] \"[93]:  valid's binary_logloss:0.00784493  valid's auc:0.919145\"\n",
      "[1] \"[94]:  valid's binary_logloss:0.00784443  valid's auc:0.918783\"\n",
      "[1] \"[95]:  valid's binary_logloss:0.00784557  valid's auc:0.918658\"\n",
      "[1] \"[96]:  valid's binary_logloss:0.00784627  valid's auc:0.918237\"\n",
      "[1] \"[97]:  valid's binary_logloss:0.0078424  valid's auc:0.917911\"\n",
      "[1] \"[98]:  valid's binary_logloss:0.00784664  valid's auc:0.917546\"\n",
      "[1] \"[99]:  valid's binary_logloss:0.00784592  valid's auc:0.917742\"\n",
      "[1] \"[100]:  valid's binary_logloss:0.00785125  valid's auc:0.917308\"\n",
      "[1] \"[101]:  valid's binary_logloss:0.00784814  valid's auc:0.917947\"\n",
      "[1] \"[102]:  valid's binary_logloss:0.00785442  valid's auc:0.919384\"\n",
      "[1] \"[103]:  valid's binary_logloss:0.00786068  valid's auc:0.921868\"\n",
      "[1] \"[104]:  valid's binary_logloss:0.0078595  valid's auc:0.924428\"\n",
      "[1] \"[105]:  valid's binary_logloss:0.00785709  valid's auc:0.926359\"\n",
      "[1] \"[106]:  valid's binary_logloss:0.00784905  valid's auc:0.926887\"\n",
      "[1] \"[107]:  valid's binary_logloss:0.00785088  valid's auc:0.92733\"\n",
      "[1] \"[108]:  valid's binary_logloss:0.00785437  valid's auc:0.926985\"\n",
      "[1] \"[109]:  valid's binary_logloss:0.00785774  valid's auc:0.927775\"\n",
      "[1] \"[110]:  valid's binary_logloss:0.00785365  valid's auc:0.928221\"\n",
      "[1] \"[111]:  valid's binary_logloss:0.00785374  valid's auc:0.928733\"\n",
      "[1] \"[112]:  valid's binary_logloss:0.0078533  valid's auc:0.929803\"\n",
      "[1] \"[113]:  valid's binary_logloss:0.00784835  valid's auc:0.930877\"\n",
      "[1] \"[114]:  valid's binary_logloss:0.0078521  valid's auc:0.9311\"\n",
      "[1] \"[115]:  valid's binary_logloss:0.00785007  valid's auc:0.931684\"\n",
      "[1] \"[116]:  valid's binary_logloss:0.00785051  valid's auc:0.932315\"\n",
      "[1] \"[117]:  valid's binary_logloss:0.00784967  valid's auc:0.933427\"\n",
      "[1] \"[118]:  valid's binary_logloss:0.00784486  valid's auc:0.933786\"\n",
      "[1] \"[119]:  valid's binary_logloss:0.00784355  valid's auc:0.933866\"\n",
      "[1] \"[120]:  valid's binary_logloss:0.00785315  valid's auc:0.933634\"\n",
      "[1] \"[121]:  valid's binary_logloss:0.00785147  valid's auc:0.933935\"\n",
      "[1] \"[122]:  valid's binary_logloss:0.00785704  valid's auc:0.934422\"\n",
      "[1] \"[123]:  valid's binary_logloss:0.00785716  valid's auc:0.934387\"\n",
      "[1] \"[124]:  valid's binary_logloss:0.00786168  valid's auc:0.934355\"\n",
      "[1] \"[125]:  valid's binary_logloss:0.00786137  valid's auc:0.934586\"\n",
      "[1] \"[126]:  valid's binary_logloss:0.00786656  valid's auc:0.934526\"\n",
      "[1] \"[127]:  valid's binary_logloss:0.00786612  valid's auc:0.93435\"\n",
      "[1] \"[128]:  valid's binary_logloss:0.00786506  valid's auc:0.934211\"\n",
      "[1] \"[129]:  valid's binary_logloss:0.00787179  valid's auc:0.934486\"\n",
      "[1] \"[130]:  valid's binary_logloss:0.00787375  valid's auc:0.934949\"\n",
      "[1] \"[131]:  valid's binary_logloss:0.00788538  valid's auc:0.934772\"\n",
      "[1] \"[132]:  valid's binary_logloss:0.0078942  valid's auc:0.934591\"\n",
      "[1] \"[133]:  valid's binary_logloss:0.00789672  valid's auc:0.934785\"\n",
      "[1] \"[134]:  valid's binary_logloss:0.0078992  valid's auc:0.934572\"\n",
      "[1] \"[135]:  valid's binary_logloss:0.00790421  valid's auc:0.935311\"\n",
      "[1] \"[136]:  valid's binary_logloss:0.00790752  valid's auc:0.935073\"\n",
      "[1] \"[137]:  valid's binary_logloss:0.00791211  valid's auc:0.93521\"\n",
      "[1] \"[138]:  valid's binary_logloss:0.00791561  valid's auc:0.93526\"\n",
      "[1] \"[139]:  valid's binary_logloss:0.00791371  valid's auc:0.935461\"\n",
      "[1] \"[140]:  valid's binary_logloss:0.00791129  valid's auc:0.93602\"\n",
      "[1] \"[141]:  valid's binary_logloss:0.00791469  valid's auc:0.935756\"\n",
      "[1] \"[142]:  valid's binary_logloss:0.00791973  valid's auc:0.935612\"\n",
      "[1] \"[143]:  valid's binary_logloss:0.00792751  valid's auc:0.935254\"\n",
      "[1] \"[144]:  valid's binary_logloss:0.00792545  valid's auc:0.935529\"\n",
      "[1] \"[145]:  valid's binary_logloss:0.00793191  valid's auc:0.935264\"\n",
      "[1] \"[146]:  valid's binary_logloss:0.00793592  valid's auc:0.935521\"\n",
      "[1] \"[147]:  valid's binary_logloss:0.007938  valid's auc:0.93549\"\n",
      "[1] \"[148]:  valid's binary_logloss:0.00794544  valid's auc:0.93528\"\n",
      "[1] \"[149]:  valid's binary_logloss:0.0079508  valid's auc:0.935382\"\n",
      "[1] \"[150]:  valid's binary_logloss:0.00795598  valid's auc:0.935129\"\n",
      "[1] \"[151]:  valid's binary_logloss:0.00796272  valid's auc:0.9351\"\n",
      "[1] \"[152]:  valid's binary_logloss:0.00797247  valid's auc:0.934931\"\n",
      "[1] \"[153]:  valid's binary_logloss:0.00797784  valid's auc:0.934558\"\n",
      "[1] \"[154]:  valid's binary_logloss:0.00797882  valid's auc:0.934554\"\n",
      "[1] \"[155]:  valid's binary_logloss:0.00798279  valid's auc:0.93471\"\n",
      "[1] \"[156]:  valid's binary_logloss:0.00798766  valid's auc:0.934937\"\n",
      "[1] \"[157]:  valid's binary_logloss:0.00799394  valid's auc:0.935769\"\n",
      "[1] \"[158]:  valid's binary_logloss:0.00799719  valid's auc:0.936037\"\n",
      "[1] \"[159]:  valid's binary_logloss:0.00800284  valid's auc:0.936437\"\n",
      "[1] \"[160]:  valid's binary_logloss:0.00800962  valid's auc:0.936811\"\n",
      "[1] \"[161]:  valid's binary_logloss:0.00801347  valid's auc:0.936772\"\n",
      "[1] \"[162]:  valid's binary_logloss:0.00801896  valid's auc:0.937029\"\n",
      "[1] \"[163]:  valid's binary_logloss:0.00802024  valid's auc:0.937619\"\n",
      "[1] \"[164]:  valid's binary_logloss:0.00802306  valid's auc:0.93812\"\n",
      "[1] \"[165]:  valid's binary_logloss:0.00802342  valid's auc:0.938707\"\n",
      "[1] \"[166]:  valid's binary_logloss:0.00802843  valid's auc:0.938893\"\n",
      "[1] \"[167]:  valid's binary_logloss:0.00804359  valid's auc:0.93867\"\n",
      "[1] \"[168]:  valid's binary_logloss:0.00805006  valid's auc:0.938891\"\n",
      "[1] \"[169]:  valid's binary_logloss:0.00804943  valid's auc:0.939442\"\n",
      "[1] \"[170]:  valid's binary_logloss:0.00805138  valid's auc:0.939959\"\n",
      "[1] \"[171]:  valid's binary_logloss:0.00806087  valid's auc:0.94004\"\n",
      "[1] \"[172]:  valid's binary_logloss:0.00806317  valid's auc:0.94039\"\n",
      "[1] \"[173]:  valid's binary_logloss:0.00806652  valid's auc:0.940737\"\n",
      "[1] \"[174]:  valid's binary_logloss:0.00806736  valid's auc:0.941425\"\n",
      "[1] \"[175]:  valid's binary_logloss:0.00807021  valid's auc:0.941565\"\n",
      "[1] \"[176]:  valid's binary_logloss:0.00807183  valid's auc:0.94184\"\n",
      "[1] \"[177]:  valid's binary_logloss:0.00807622  valid's auc:0.942026\"\n",
      "[1] \"[178]:  valid's binary_logloss:0.00808181  valid's auc:0.941981\"\n",
      "[1] \"[179]:  valid's binary_logloss:0.00809306  valid's auc:0.941563\"\n",
      "[1] \"[180]:  valid's binary_logloss:0.00810078  valid's auc:0.941641\"\n",
      "[1] \"[181]:  valid's binary_logloss:0.00810227  valid's auc:0.941945\"\n",
      "[1] \"[182]:  valid's binary_logloss:0.00810302  valid's auc:0.941798\"\n",
      "[1] \"[183]:  valid's binary_logloss:0.0081103  valid's auc:0.941764\"\n",
      "[1] \"[184]:  valid's binary_logloss:0.00811076  valid's auc:0.941794\"\n",
      "[1] \"[185]:  valid's binary_logloss:0.00811965  valid's auc:0.941756\"\n",
      "[1] \"[186]:  valid's binary_logloss:0.00812356  valid's auc:0.941799\"\n",
      "[1] \"[187]:  valid's binary_logloss:0.00812913  valid's auc:0.941934\"\n",
      "[1] \"[188]:  valid's binary_logloss:0.00813523  valid's auc:0.941922\"\n",
      "[1] \"[189]:  valid's binary_logloss:0.00813911  valid's auc:0.942348\"\n",
      "[1] \"[190]:  valid's binary_logloss:0.00813677  valid's auc:0.942887\"\n",
      "[1] \"[191]:  valid's binary_logloss:0.00814116  valid's auc:0.942995\"\n",
      "[1] \"[192]:  valid's binary_logloss:0.00815099  valid's auc:0.942558\"\n",
      "[1] \"[193]:  valid's binary_logloss:0.00815919  valid's auc:0.942552\"\n",
      "[1] \"[194]:  valid's binary_logloss:0.00816512  valid's auc:0.942517\"\n",
      "[1] \"[195]:  valid's binary_logloss:0.00816282  valid's auc:0.942933\"\n",
      "[1] \"[196]:  valid's binary_logloss:0.00816657  valid's auc:0.943338\"\n",
      "[1] \"[197]:  valid's binary_logloss:0.00816325  valid's auc:0.943671\"\n",
      "[1] \"[198]:  valid's binary_logloss:0.00816781  valid's auc:0.944063\"\n",
      "[1] \"[199]:  valid's binary_logloss:0.00816965  valid's auc:0.944015\"\n",
      "[1] \"[200]:  valid's binary_logloss:0.00817723  valid's auc:0.94433\"\n",
      "[1] \"[201]:  valid's binary_logloss:0.00818815  valid's auc:0.944118\"\n",
      "[1] \"[202]:  valid's binary_logloss:0.00819388  valid's auc:0.944149\"\n",
      "[1] \"[203]:  valid's binary_logloss:0.00819404  valid's auc:0.944236\"\n",
      "[1] \"[204]:  valid's binary_logloss:0.00819792  valid's auc:0.944289\"\n",
      "[1] \"[205]:  valid's binary_logloss:0.00819604  valid's auc:0.944679\"\n",
      "[1] \"[206]:  valid's binary_logloss:0.00819917  valid's auc:0.944592\"\n",
      "[1] \"[207]:  valid's binary_logloss:0.00820588  valid's auc:0.944586\"\n",
      "[1] \"[208]:  valid's binary_logloss:0.00820532  valid's auc:0.944513\"\n",
      "[1] \"[209]:  valid's binary_logloss:0.00820779  valid's auc:0.944481\"\n",
      "[1] \"[210]:  valid's binary_logloss:0.00821106  valid's auc:0.944675\"\n",
      "[1] \"[211]:  valid's binary_logloss:0.00820967  valid's auc:0.944655\"\n",
      "[1] \"[212]:  valid's binary_logloss:0.00821366  valid's auc:0.944787\"\n",
      "[1] \"[213]:  valid's binary_logloss:0.00821648  valid's auc:0.944855\"\n",
      "[1] \"[214]:  valid's binary_logloss:0.00822281  valid's auc:0.945277\"\n",
      "[1] \"[215]:  valid's binary_logloss:0.00822168  valid's auc:0.945525\"\n",
      "[1] \"[216]:  valid's binary_logloss:0.00822354  valid's auc:0.946262\"\n",
      "[1] \"[217]:  valid's binary_logloss:0.00822707  valid's auc:0.946388\"\n",
      "[1] \"[218]:  valid's binary_logloss:0.0082313  valid's auc:0.946409\"\n",
      "[1] \"[219]:  valid's binary_logloss:0.00823204  valid's auc:0.946829\"\n",
      "[1] \"[220]:  valid's binary_logloss:0.00824168  valid's auc:0.946409\"\n",
      "[1] \"[221]:  valid's binary_logloss:0.00825  valid's auc:0.946094\"\n",
      "[1] \"[222]:  valid's binary_logloss:0.00825368  valid's auc:0.946104\"\n",
      "[1] \"[223]:  valid's binary_logloss:0.00825139  valid's auc:0.946435\"\n",
      "[1] \"[224]:  valid's binary_logloss:0.00825334  valid's auc:0.946726\"\n",
      "[1] \"[225]:  valid's binary_logloss:0.00824914  valid's auc:0.947089\"\n",
      "[1] \"[226]:  valid's binary_logloss:0.00825885  valid's auc:0.946876\"\n",
      "[1] \"[227]:  valid's binary_logloss:0.00825739  valid's auc:0.947189\"\n",
      "[1] \"[228]:  valid's binary_logloss:0.00825931  valid's auc:0.94739\"\n",
      "[1] \"[229]:  valid's binary_logloss:0.00825609  valid's auc:0.947634\"\n",
      "[1] \"[230]:  valid's binary_logloss:0.00826858  valid's auc:0.94742\"\n",
      "[1] \"[231]:  valid's binary_logloss:0.00827334  valid's auc:0.947598\"\n",
      "[1] \"[232]:  valid's binary_logloss:0.00828299  valid's auc:0.947401\"\n",
      "[1] \"[233]:  valid's binary_logloss:0.00828616  valid's auc:0.947051\"\n",
      "[1] \"[234]:  valid's binary_logloss:0.00828298  valid's auc:0.947173\"\n",
      "[1] \"[235]:  valid's binary_logloss:0.00828098  valid's auc:0.947217\"\n",
      "[1] \"[236]:  valid's binary_logloss:0.00828048  valid's auc:0.947351\"\n",
      "[1] \"[237]:  valid's binary_logloss:0.00828736  valid's auc:0.94726\"\n",
      "[1] \"[238]:  valid's binary_logloss:0.00829178  valid's auc:0.94701\"\n",
      "[1] \"[239]:  valid's binary_logloss:0.00830309  valid's auc:0.946987\"\n",
      "[1] \"[240]:  valid's binary_logloss:0.00830804  valid's auc:0.9473\"\n",
      "[1] \"[241]:  valid's binary_logloss:0.00831608  valid's auc:0.947233\"\n",
      "[1] \"[242]:  valid's binary_logloss:0.00832303  valid's auc:0.947527\"\n",
      "[1] \"[243]:  valid's binary_logloss:0.00832793  valid's auc:0.947325\"\n",
      "[1] \"[244]:  valid's binary_logloss:0.00833505  valid's auc:0.947092\"\n",
      "[1] \"[245]:  valid's binary_logloss:0.00834157  valid's auc:0.947128\"\n",
      "[1] \"[246]:  valid's binary_logloss:0.00834059  valid's auc:0.947341\"\n",
      "[1] \"[247]:  valid's binary_logloss:0.00835107  valid's auc:0.947318\"\n",
      "[1] \"[248]:  valid's binary_logloss:0.00835709  valid's auc:0.947294\"\n",
      "[1] \"[249]:  valid's binary_logloss:0.00836679  valid's auc:0.947492\"\n",
      "[1] \"[250]:  valid's binary_logloss:0.00837081  valid's auc:0.947533\"\n",
      "[1] \"[251]:  valid's binary_logloss:0.00837669  valid's auc:0.947387\"\n",
      "[1] \"[252]:  valid's binary_logloss:0.00837977  valid's auc:0.947412\"\n",
      "[1] \"[253]:  valid's binary_logloss:0.0083786  valid's auc:0.947344\"\n",
      "[1] \"[254]:  valid's binary_logloss:0.00837824  valid's auc:0.947304\"\n",
      "[1] \"[255]:  valid's binary_logloss:0.00838343  valid's auc:0.947224\"\n",
      "[1] \"[256]:  valid's binary_logloss:0.0083852  valid's auc:0.947359\"\n",
      "[1] \"[257]:  valid's binary_logloss:0.00838192  valid's auc:0.947368\"\n",
      "[1] \"[258]:  valid's binary_logloss:0.00838636  valid's auc:0.947434\"\n",
      "[1] \"[259]:  valid's binary_logloss:0.0083885  valid's auc:0.947574\"\n",
      "[1] \"[260]:  valid's binary_logloss:0.00839523  valid's auc:0.947847\"\n",
      "[1] \"[261]:  valid's binary_logloss:0.00839625  valid's auc:0.94825\"\n",
      "[1] \"[262]:  valid's binary_logloss:0.00840421  valid's auc:0.948475\"\n",
      "[1] \"[263]:  valid's binary_logloss:0.00841215  valid's auc:0.948535\"\n",
      "[1] \"[264]:  valid's binary_logloss:0.00841541  valid's auc:0.948555\"\n",
      "[1] \"[265]:  valid's binary_logloss:0.00842413  valid's auc:0.948522\"\n",
      "[1] \"[266]:  valid's binary_logloss:0.00842757  valid's auc:0.948867\"\n",
      "[1] \"[267]:  valid's binary_logloss:0.0084293  valid's auc:0.949181\"\n",
      "[1] \"[268]:  valid's binary_logloss:0.00843718  valid's auc:0.949031\"\n",
      "[1] \"[269]:  valid's binary_logloss:0.00844542  valid's auc:0.948909\"\n",
      "[1] \"[270]:  valid's binary_logloss:0.00844192  valid's auc:0.949277\"\n",
      "[1] \"[271]:  valid's binary_logloss:0.00843927  valid's auc:0.949699\"\n",
      "[1] \"[272]:  valid's binary_logloss:0.00844889  valid's auc:0.949966\"\n",
      "[1] \"[273]:  valid's binary_logloss:0.00845193  valid's auc:0.950475\"\n",
      "[1] \"[274]:  valid's binary_logloss:0.00846047  valid's auc:0.950635\"\n",
      "[1] \"[275]:  valid's binary_logloss:0.00847514  valid's auc:0.950619\"\n",
      "[1] \"[276]:  valid's binary_logloss:0.00848107  valid's auc:0.950587\"\n",
      "[1] \"[277]:  valid's binary_logloss:0.00848414  valid's auc:0.95043\"\n",
      "[1] \"[278]:  valid's binary_logloss:0.00849531  valid's auc:0.950652\"\n",
      "[1] \"[279]:  valid's binary_logloss:0.00849734  valid's auc:0.950841\"\n",
      "[1] \"[280]:  valid's binary_logloss:0.00850081  valid's auc:0.951091\"\n",
      "[1] \"[281]:  valid's binary_logloss:0.00851268  valid's auc:0.951307\"\n",
      "[1] \"[282]:  valid's binary_logloss:0.0085138  valid's auc:0.951521\"\n",
      "[1] \"[283]:  valid's binary_logloss:0.0085242  valid's auc:0.951749\"\n",
      "[1] \"[284]:  valid's binary_logloss:0.00853289  valid's auc:0.951826\"\n",
      "[1] \"[285]:  valid's binary_logloss:0.0085423  valid's auc:0.951898\"\n",
      "[1] \"[286]:  valid's binary_logloss:0.00855186  valid's auc:0.951702\"\n",
      "[1] \"[287]:  valid's binary_logloss:0.00855488  valid's auc:0.952173\"\n",
      "[1] \"[288]:  valid's binary_logloss:0.00855892  valid's auc:0.952639\"\n",
      "[1] \"[289]:  valid's binary_logloss:0.00856531  valid's auc:0.952779\"\n",
      "[1] \"[290]:  valid's binary_logloss:0.0085717  valid's auc:0.952943\"\n",
      "[1] \"[291]:  valid's binary_logloss:0.00857114  valid's auc:0.953266\"\n",
      "[1] \"[292]:  valid's binary_logloss:0.00857126  valid's auc:0.95367\"\n",
      "[1] \"[293]:  valid's binary_logloss:0.00858241  valid's auc:0.953878\"\n",
      "[1] \"[294]:  valid's binary_logloss:0.00859603  valid's auc:0.953807\"\n",
      "[1] \"[295]:  valid's binary_logloss:0.00860143  valid's auc:0.953921\"\n",
      "[1] \"[296]:  valid's binary_logloss:0.00860939  valid's auc:0.953677\"\n",
      "[1] \"[297]:  valid's binary_logloss:0.00862159  valid's auc:0.95371\"\n",
      "[1] \"[298]:  valid's binary_logloss:0.0086306  valid's auc:0.95389\"\n",
      "[1] \"[299]:  valid's binary_logloss:0.00863928  valid's auc:0.953979\"\n",
      "[1] \"[300]:  valid's binary_logloss:0.00864889  valid's auc:0.953754\"\n",
      "\n",
      "\n",
      "Start training with balanced data:\n",
      "[LightGBM] [Info] Number of positive: 239251, number of negative: 241667\n",
      "[LightGBM] [Warning] Auto-choosing row-wise multi-threading, the overhead of testing was 0.017372 seconds.\n",
      "You can set `force_row_wise=true` to remove the overhead.\n",
      "And if memory is not enough, you can set `force_col_wise=true`.\n",
      "[LightGBM] [Info] Total Bins 7650\n",
      "[LightGBM] [Info] Number of data points in the train set: 480918, number of used features: 30\n",
      "[LightGBM] [Info] [binary:BoostFromScore]: pavg=0.497488 -> initscore=-0.010048\n",
      "[LightGBM] [Info] Start training from score -0.010048\n",
      "[1] \"[1]:  valid's binary_logloss:0.6431  valid's auc:0.962466\"\n",
      "[1] \"[2]:  valid's binary_logloss:0.602294  valid's auc:0.96137\"\n",
      "[1] \"[3]:  valid's binary_logloss:0.565124  valid's auc:0.962155\"\n",
      "[1] \"[4]:  valid's binary_logloss:0.531035  valid's auc:0.962222\"\n",
      "[1] \"[5]:  valid's binary_logloss:0.499747  valid's auc:0.963588\"\n",
      "[1] \"[6]:  valid's binary_logloss:0.470882  valid's auc:0.963439\"\n",
      "[1] \"[7]:  valid's binary_logloss:0.44429  valid's auc:0.963304\"\n",
      "[1] \"[8]:  valid's binary_logloss:0.41967  valid's auc:0.969104\"\n",
      "[1] \"[9]:  valid's binary_logloss:0.396848  valid's auc:0.968161\"\n",
      "[1] \"[10]:  valid's binary_logloss:0.375611  valid's auc:0.967035\"\n",
      "[1] \"[11]:  valid's binary_logloss:0.355895  valid's auc:0.966609\"\n",
      "[1] \"[12]:  valid's binary_logloss:0.337451  valid's auc:0.967009\"\n",
      "[1] \"[13]:  valid's binary_logloss:0.320047  valid's auc:0.96725\"\n",
      "[1] \"[14]:  valid's binary_logloss:0.303929  valid's auc:0.966911\"\n",
      "[1] \"[15]:  valid's binary_logloss:0.288708  valid's auc:0.967618\"\n",
      "[1] \"[16]:  valid's binary_logloss:0.274412  valid's auc:0.967379\"\n",
      "[1] \"[17]:  valid's binary_logloss:0.260996  valid's auc:0.966798\"\n",
      "[1] \"[18]:  valid's binary_logloss:0.248423  valid's auc:0.966897\"\n",
      "[1] \"[19]:  valid's binary_logloss:0.236649  valid's auc:0.966908\"\n",
      "[1] \"[20]:  valid's binary_logloss:0.225551  valid's auc:0.966635\"\n",
      "[1] \"[21]:  valid's binary_logloss:0.215024  valid's auc:0.966574\"\n",
      "[1] \"[22]:  valid's binary_logloss:0.205071  valid's auc:0.966502\"\n",
      "[1] \"[23]:  valid's binary_logloss:0.195737  valid's auc:0.966603\"\n",
      "[1] \"[24]:  valid's binary_logloss:0.186826  valid's auc:0.966345\"\n",
      "[1] \"[25]:  valid's binary_logloss:0.178435  valid's auc:0.966713\"\n",
      "[1] \"[26]:  valid's binary_logloss:0.170443  valid's auc:0.966483\"\n",
      "[1] \"[27]:  valid's binary_logloss:0.16299  valid's auc:0.966209\"\n",
      "[1] \"[28]:  valid's binary_logloss:0.155964  valid's auc:0.966224\"\n",
      "[1] \"[29]:  valid's binary_logloss:0.149185  valid's auc:0.96619\"\n",
      "[1] \"[30]:  valid's binary_logloss:0.142932  valid's auc:0.96641\"\n",
      "[1] \"[31]:  valid's binary_logloss:0.136853  valid's auc:0.970195\"\n",
      "[1] \"[32]:  valid's binary_logloss:0.131139  valid's auc:0.969854\"\n",
      "[1] \"[33]:  valid's binary_logloss:0.12584  valid's auc:0.969742\"\n",
      "[1] \"[34]:  valid's binary_logloss:0.120668  valid's auc:0.969481\"\n",
      "[1] \"[35]:  valid's binary_logloss:0.115682  valid's auc:0.973827\"\n",
      "[1] \"[36]:  valid's binary_logloss:0.111024  valid's auc:0.973773\"\n",
      "[1] \"[37]:  valid's binary_logloss:0.10662  valid's auc:0.973801\"\n",
      "[1] \"[38]:  valid's binary_logloss:0.102384  valid's auc:0.973446\"\n",
      "[1] \"[39]:  valid's binary_logloss:0.0983734  valid's auc:0.972985\"\n",
      "[1] \"[40]:  valid's binary_logloss:0.0945463  valid's auc:0.972038\"\n",
      "[1] \"[41]:  valid's binary_logloss:0.0909164  valid's auc:0.972971\"\n",
      "[1] \"[42]:  valid's binary_logloss:0.0873719  valid's auc:0.97285\"\n",
      "[1] \"[43]:  valid's binary_logloss:0.084012  valid's auc:0.972811\"\n",
      "[1] \"[44]:  valid's binary_logloss:0.080877  valid's auc:0.972687\"\n",
      "[1] \"[45]:  valid's binary_logloss:0.0778501  valid's auc:0.972296\"\n",
      "[1] \"[46]:  valid's binary_logloss:0.0749734  valid's auc:0.972076\"\n",
      "[1] \"[47]:  valid's binary_logloss:0.0722286  valid's auc:0.97175\"\n",
      "[1] \"[48]:  valid's binary_logloss:0.0696051  valid's auc:0.971468\"\n",
      "[1] \"[49]:  valid's binary_logloss:0.0671098  valid's auc:0.971466\"\n",
      "[1] \"[50]:  valid's binary_logloss:0.0647281  valid's auc:0.971297\"\n",
      "[1] \"[51]:  valid's binary_logloss:0.0625216  valid's auc:0.972093\"\n",
      "[1] \"[52]:  valid's binary_logloss:0.0602707  valid's auc:0.97226\"\n",
      "[1] \"[53]:  valid's binary_logloss:0.0581491  valid's auc:0.972079\"\n",
      "[1] \"[54]:  valid's binary_logloss:0.0560936  valid's auc:0.971735\"\n",
      "[1] \"[55]:  valid's binary_logloss:0.054174  valid's auc:0.970717\"\n",
      "[1] \"[56]:  valid's binary_logloss:0.0522885  valid's auc:0.969854\"\n",
      "[1] \"[57]:  valid's binary_logloss:0.0505257  valid's auc:0.969469\"\n",
      "[1] \"[58]:  valid's binary_logloss:0.0488079  valid's auc:0.969249\"\n",
      "[1] \"[59]:  valid's binary_logloss:0.0471555  valid's auc:0.968581\"\n",
      "[1] \"[60]:  valid's binary_logloss:0.0455991  valid's auc:0.968154\"\n",
      "[1] \"[61]:  valid's binary_logloss:0.0441536  valid's auc:0.968034\"\n",
      "[1] \"[62]:  valid's binary_logloss:0.042767  valid's auc:0.967698\"\n",
      "[1] \"[63]:  valid's binary_logloss:0.0414407  valid's auc:0.967295\"\n",
      "[1] \"[64]:  valid's binary_logloss:0.040234  valid's auc:0.96694\"\n",
      "[1] \"[65]:  valid's binary_logloss:0.0390127  valid's auc:0.966668\"\n",
      "[1] \"[66]:  valid's binary_logloss:0.0378249  valid's auc:0.966237\"\n",
      "[1] \"[67]:  valid's binary_logloss:0.0367543  valid's auc:0.965954\"\n",
      "[1] \"[68]:  valid's binary_logloss:0.0356178  valid's auc:0.966043\"\n",
      "[1] \"[69]:  valid's binary_logloss:0.0345785  valid's auc:0.965635\"\n",
      "[1] \"[70]:  valid's binary_logloss:0.0335607  valid's auc:0.96528\"\n",
      "[1] \"[71]:  valid's binary_logloss:0.0326485  valid's auc:0.965765\"\n",
      "[1] \"[72]:  valid's binary_logloss:0.0316845  valid's auc:0.965199\"\n",
      "[1] \"[73]:  valid's binary_logloss:0.0307805  valid's auc:0.964811\"\n",
      "[1] \"[74]:  valid's binary_logloss:0.0299031  valid's auc:0.964169\"\n",
      "[1] \"[75]:  valid's binary_logloss:0.0290785  valid's auc:0.963787\"\n",
      "[1] \"[76]:  valid's binary_logloss:0.0282836  valid's auc:0.9634\"\n",
      "[1] \"[77]:  valid's binary_logloss:0.0275217  valid's auc:0.9626\"\n",
      "[1] \"[78]:  valid's binary_logloss:0.026802  valid's auc:0.962206\"\n",
      "[1] \"[79]:  valid's binary_logloss:0.0261092  valid's auc:0.964068\"\n",
      "[1] \"[80]:  valid's binary_logloss:0.0254602  valid's auc:0.96367\"\n",
      "[1] \"[81]:  valid's binary_logloss:0.02482  valid's auc:0.963057\"\n",
      "[1] \"[82]:  valid's binary_logloss:0.0241831  valid's auc:0.962312\"\n",
      "[1] \"[83]:  valid's binary_logloss:0.0235169  valid's auc:0.963032\"\n",
      "[1] \"[84]:  valid's binary_logloss:0.0229557  valid's auc:0.963047\"\n",
      "[1] \"[85]:  valid's binary_logloss:0.0223783  valid's auc:0.963944\"\n",
      "[1] \"[86]:  valid's binary_logloss:0.0218457  valid's auc:0.963338\"\n",
      "[1] \"[87]:  valid's binary_logloss:0.0213577  valid's auc:0.963138\"\n",
      "[1] \"[88]:  valid's binary_logloss:0.0208548  valid's auc:0.963922\"\n",
      "[1] \"[89]:  valid's binary_logloss:0.0202662  valid's auc:0.963508\"\n",
      "[1] \"[90]:  valid's binary_logloss:0.0197866  valid's auc:0.964182\"\n",
      "[1] \"[91]:  valid's binary_logloss:0.019319  valid's auc:0.963749\"\n",
      "[1] \"[92]:  valid's binary_logloss:0.0188966  valid's auc:0.962997\"\n",
      "[1] \"[93]:  valid's binary_logloss:0.0184743  valid's auc:0.96232\"\n",
      "[1] \"[94]:  valid's binary_logloss:0.0180471  valid's auc:0.963163\"\n",
      "[1] \"[95]:  valid's binary_logloss:0.0176267  valid's auc:0.96277\"\n",
      "[1] \"[96]:  valid's binary_logloss:0.017241  valid's auc:0.963244\"\n",
      "[1] \"[97]:  valid's binary_logloss:0.0168434  valid's auc:0.96377\"\n",
      "[1] \"[98]:  valid's binary_logloss:0.0164828  valid's auc:0.963672\"\n",
      "[1] \"[99]:  valid's binary_logloss:0.0161504  valid's auc:0.963846\"\n",
      "[1] \"[100]:  valid's binary_logloss:0.015825  valid's auc:0.96327\"\n",
      "[1] \"[101]:  valid's binary_logloss:0.0155001  valid's auc:0.963276\"\n",
      "[1] \"[102]:  valid's binary_logloss:0.0151548  valid's auc:0.962756\"\n",
      "[1] \"[103]:  valid's binary_logloss:0.0148671  valid's auc:0.962266\"\n",
      "[1] \"[104]:  valid's binary_logloss:0.0145705  valid's auc:0.961918\"\n",
      "[1] \"[105]:  valid's binary_logloss:0.0142975  valid's auc:0.961486\"\n",
      "[1] \"[106]:  valid's binary_logloss:0.0140437  valid's auc:0.961344\"\n",
      "[1] \"[107]:  valid's binary_logloss:0.0137856  valid's auc:0.961132\"\n",
      "[1] \"[108]:  valid's binary_logloss:0.0135279  valid's auc:0.962422\"\n",
      "[1] \"[109]:  valid's binary_logloss:0.0132929  valid's auc:0.962063\"\n",
      "[1] \"[110]:  valid's binary_logloss:0.0130548  valid's auc:0.961876\"\n",
      "[1] \"[111]:  valid's binary_logloss:0.0128311  valid's auc:0.961696\"\n",
      "[1] \"[112]:  valid's binary_logloss:0.0125928  valid's auc:0.961548\"\n",
      "[1] \"[113]:  valid's binary_logloss:0.0123974  valid's auc:0.961004\"\n",
      "[1] \"[114]:  valid's binary_logloss:0.0121993  valid's auc:0.960641\"\n",
      "[1] \"[115]:  valid's binary_logloss:0.0119706  valid's auc:0.960511\"\n",
      "[1] \"[116]:  valid's binary_logloss:0.0117544  valid's auc:0.959944\"\n",
      "[1] \"[117]:  valid's binary_logloss:0.0115465  valid's auc:0.960581\"\n",
      "[1] \"[118]:  valid's binary_logloss:0.0113717  valid's auc:0.960276\"\n",
      "[1] \"[119]:  valid's binary_logloss:0.0111897  valid's auc:0.959756\"\n",
      "[1] \"[120]:  valid's binary_logloss:0.0110209  valid's auc:0.959384\"\n",
      "[1] \"[121]:  valid's binary_logloss:0.0108209  valid's auc:0.960722\"\n",
      "[1] \"[122]:  valid's binary_logloss:0.0106653  valid's auc:0.96054\"\n",
      "[1] \"[123]:  valid's binary_logloss:0.0105013  valid's auc:0.960769\"\n",
      "[1] \"[124]:  valid's binary_logloss:0.0103416  valid's auc:0.960031\"\n",
      "[1] \"[125]:  valid's binary_logloss:0.0101823  valid's auc:0.959311\"\n",
      "[1] \"[126]:  valid's binary_logloss:0.0100353  valid's auc:0.960493\"\n",
      "[1] \"[127]:  valid's binary_logloss:0.0098838  valid's auc:0.961247\"\n",
      "[1] \"[128]:  valid's binary_logloss:0.0097637  valid's auc:0.960622\"\n",
      "[1] \"[129]:  valid's binary_logloss:0.00961895  valid's auc:0.960848\"\n",
      "[1] \"[130]:  valid's binary_logloss:0.00948274  valid's auc:0.960773\"\n",
      "[1] \"[131]:  valid's binary_logloss:0.00936096  valid's auc:0.96098\"\n",
      "[1] \"[132]:  valid's binary_logloss:0.00925331  valid's auc:0.960529\"\n",
      "[1] \"[133]:  valid's binary_logloss:0.00912731  valid's auc:0.961236\"\n",
      "[1] \"[134]:  valid's binary_logloss:0.00900808  valid's auc:0.961666\"\n",
      "[1] \"[135]:  valid's binary_logloss:0.00890164  valid's auc:0.961814\"\n",
      "[1] \"[136]:  valid's binary_logloss:0.00880896  valid's auc:0.962277\"\n",
      "[1] \"[137]:  valid's binary_logloss:0.00870478  valid's auc:0.96378\"\n",
      "[1] \"[138]:  valid's binary_logloss:0.00860129  valid's auc:0.963716\"\n",
      "[1] \"[139]:  valid's binary_logloss:0.00850097  valid's auc:0.963695\"\n",
      "[1] \"[140]:  valid's binary_logloss:0.0083844  valid's auc:0.963967\"\n",
      "[1] \"[141]:  valid's binary_logloss:0.00828884  valid's auc:0.964643\"\n",
      "[1] \"[142]:  valid's binary_logloss:0.00820567  valid's auc:0.963907\"\n",
      "[1] \"[143]:  valid's binary_logloss:0.00812073  valid's auc:0.963736\"\n",
      "[1] \"[144]:  valid's binary_logloss:0.00803973  valid's auc:0.963259\"\n",
      "[1] \"[145]:  valid's binary_logloss:0.00794817  valid's auc:0.962943\"\n",
      "[1] \"[146]:  valid's binary_logloss:0.00678628  valid's auc:0.963056\"\n",
      "[1] \"[147]:  valid's binary_logloss:0.0066978  valid's auc:0.96298\"\n",
      "[1] \"[148]:  valid's binary_logloss:0.00661439  valid's auc:0.963307\"\n",
      "[1] \"[149]:  valid's binary_logloss:0.0065326  valid's auc:0.9637\"\n",
      "[1] \"[150]:  valid's binary_logloss:0.00645423  valid's auc:0.963819\"\n",
      "[1] \"[151]:  valid's binary_logloss:0.00637137  valid's auc:0.96463\"\n",
      "[1] \"[152]:  valid's binary_logloss:0.0063066  valid's auc:0.963945\"\n",
      "[1] \"[153]:  valid's binary_logloss:0.0061884  valid's auc:0.963681\"\n",
      "[1] \"[154]:  valid's binary_logloss:0.00611576  valid's auc:0.963488\"\n",
      "[1] \"[155]:  valid's binary_logloss:0.00604781  valid's auc:0.963308\"\n",
      "[1] \"[156]:  valid's binary_logloss:0.00598608  valid's auc:0.96289\"\n",
      "[1] \"[157]:  valid's binary_logloss:0.0059194  valid's auc:0.962308\"\n",
      "[1] \"[158]:  valid's binary_logloss:0.00585498  valid's auc:0.962239\"\n",
      "[1] \"[159]:  valid's binary_logloss:0.00579692  valid's auc:0.962838\"\n",
      "[1] \"[160]:  valid's binary_logloss:0.00573652  valid's auc:0.963098\"\n",
      "[1] \"[161]:  valid's binary_logloss:0.00567987  valid's auc:0.96308\"\n",
      "[1] \"[162]:  valid's binary_logloss:0.0056204  valid's auc:0.963114\"\n",
      "[1] \"[163]:  valid's binary_logloss:0.00557255  valid's auc:0.962639\"\n",
      "[1] \"[164]:  valid's binary_logloss:0.0055174  valid's auc:0.9623\"\n",
      "[1] \"[165]:  valid's binary_logloss:0.00546016  valid's auc:0.962232\"\n",
      "[1] \"[166]:  valid's binary_logloss:0.00541291  valid's auc:0.961944\"\n",
      "[1] \"[167]:  valid's binary_logloss:0.00532033  valid's auc:0.962446\"\n",
      "[1] \"[168]:  valid's binary_logloss:0.00526307  valid's auc:0.963119\"\n",
      "[1] \"[169]:  valid's binary_logloss:0.00522031  valid's auc:0.962568\"\n",
      "[1] \"[170]:  valid's binary_logloss:0.0051765  valid's auc:0.962469\"\n",
      "[1] \"[171]:  valid's binary_logloss:0.00512525  valid's auc:0.962464\"\n",
      "[1] \"[172]:  valid's binary_logloss:0.00506776  valid's auc:0.962967\"\n",
      "[1] \"[173]:  valid's binary_logloss:0.00502472  valid's auc:0.962922\"\n",
      "[1] \"[174]:  valid's binary_logloss:0.0049741  valid's auc:0.963225\"\n",
      "[1] \"[175]:  valid's binary_logloss:0.00493232  valid's auc:0.963116\"\n",
      "[1] \"[176]:  valid's binary_logloss:0.00489855  valid's auc:0.962526\"\n",
      "[1] \"[177]:  valid's binary_logloss:0.00485307  valid's auc:0.962779\"\n",
      "[1] \"[178]:  valid's binary_logloss:0.00481186  valid's auc:0.96295\"\n",
      "[1] \"[179]:  valid's binary_logloss:0.00477106  valid's auc:0.963634\"\n",
      "[1] \"[180]:  valid's binary_logloss:0.00473363  valid's auc:0.963147\"\n",
      "[1] \"[181]:  valid's binary_logloss:0.00469808  valid's auc:0.962942\"\n",
      "[1] \"[182]:  valid's binary_logloss:0.00466584  valid's auc:0.963115\"\n",
      "[1] \"[183]:  valid's binary_logloss:0.0046294  valid's auc:0.963327\"\n",
      "[1] \"[184]:  valid's binary_logloss:0.00459858  valid's auc:0.963261\"\n",
      "[1] \"[185]:  valid's binary_logloss:0.00456288  valid's auc:0.963378\"\n",
      "[1] \"[186]:  valid's binary_logloss:0.00454486  valid's auc:0.963276\"\n",
      "[1] \"[187]:  valid's binary_logloss:0.00450959  valid's auc:0.963539\"\n",
      "[1] \"[188]:  valid's binary_logloss:0.00448129  valid's auc:0.963414\"\n",
      "[1] \"[189]:  valid's binary_logloss:0.00445859  valid's auc:0.964064\"\n",
      "[1] \"[190]:  valid's binary_logloss:0.00442762  valid's auc:0.963771\"\n",
      "[1] \"[191]:  valid's binary_logloss:0.00439416  valid's auc:0.963471\"\n",
      "[1] \"[192]:  valid's binary_logloss:0.00437148  valid's auc:0.963348\"\n",
      "[1] \"[193]:  valid's binary_logloss:0.00445319  valid's auc:0.963383\"\n",
      "[1] \"[194]:  valid's binary_logloss:0.00442196  valid's auc:0.963746\"\n",
      "[1] \"[195]:  valid's binary_logloss:0.00438804  valid's auc:0.963968\"\n",
      "[1] \"[196]:  valid's binary_logloss:0.00437428  valid's auc:0.964298\"\n",
      "[1] \"[197]:  valid's binary_logloss:0.00435374  valid's auc:0.964171\"\n",
      "[1] \"[198]:  valid's binary_logloss:0.00433086  valid's auc:0.964021\"\n",
      "[1] \"[199]:  valid's binary_logloss:0.00430634  valid's auc:0.963946\"\n",
      "[1] \"[200]:  valid's binary_logloss:0.00429067  valid's auc:0.963893\"\n",
      "[1] \"[201]:  valid's binary_logloss:0.00427374  valid's auc:0.963898\"\n",
      "[1] \"[202]:  valid's binary_logloss:0.00424887  valid's auc:0.964034\"\n",
      "[1] \"[203]:  valid's binary_logloss:0.00423435  valid's auc:0.964072\"\n",
      "[1] \"[204]:  valid's binary_logloss:0.00421869  valid's auc:0.964092\"\n",
      "[1] \"[205]:  valid's binary_logloss:0.00420527  valid's auc:0.963817\"\n",
      "[1] \"[206]:  valid's binary_logloss:0.00418674  valid's auc:0.964054\"\n",
      "[1] \"[207]:  valid's binary_logloss:0.00417116  valid's auc:0.964301\"\n",
      "[1] \"[208]:  valid's binary_logloss:0.00415904  valid's auc:0.963906\"\n",
      "[1] \"[209]:  valid's binary_logloss:0.00414328  valid's auc:0.964042\"\n",
      "[1] \"[210]:  valid's binary_logloss:0.00413246  valid's auc:0.964204\"\n",
      "[1] \"[211]:  valid's binary_logloss:0.00411967  valid's auc:0.964187\"\n",
      "[1] \"[212]:  valid's binary_logloss:0.00409477  valid's auc:0.964534\"\n",
      "[1] \"[213]:  valid's binary_logloss:0.00407665  valid's auc:0.964389\"\n",
      "[1] \"[214]:  valid's binary_logloss:0.00405484  valid's auc:0.964508\"\n",
      "[1] \"[215]:  valid's binary_logloss:0.00403324  valid's auc:0.964617\"\n",
      "[1] \"[216]:  valid's binary_logloss:0.00401561  valid's auc:0.964494\"\n",
      "[1] \"[217]:  valid's binary_logloss:0.0039988  valid's auc:0.964545\"\n",
      "[1] \"[218]:  valid's binary_logloss:0.00398746  valid's auc:0.964487\"\n",
      "[1] \"[219]:  valid's binary_logloss:0.0039763  valid's auc:0.964689\"\n",
      "[1] \"[220]:  valid's binary_logloss:0.0039597  valid's auc:0.964913\"\n",
      "[1] \"[221]:  valid's binary_logloss:0.00394387  valid's auc:0.964935\"\n",
      "[1] \"[222]:  valid's binary_logloss:0.00393261  valid's auc:0.965448\"\n",
      "[1] \"[223]:  valid's binary_logloss:0.00392499  valid's auc:0.96514\"\n",
      "[1] \"[224]:  valid's binary_logloss:0.00391972  valid's auc:0.964981\"\n",
      "[1] \"[225]:  valid's binary_logloss:0.00391123  valid's auc:0.96486\"\n",
      "[1] \"[226]:  valid's binary_logloss:0.00389734  valid's auc:0.964782\"\n",
      "[1] \"[227]:  valid's binary_logloss:0.00388403  valid's auc:0.964717\"\n",
      "[1] \"[228]:  valid's binary_logloss:0.00386552  valid's auc:0.965322\"\n",
      "[1] \"[229]:  valid's binary_logloss:0.00386081  valid's auc:0.965334\"\n",
      "[1] \"[230]:  valid's binary_logloss:0.00384441  valid's auc:0.965265\"\n",
      "[1] \"[231]:  valid's binary_logloss:0.00382812  valid's auc:0.965446\"\n",
      "[1] \"[232]:  valid's binary_logloss:0.00381722  valid's auc:0.965818\"\n",
      "[1] \"[233]:  valid's binary_logloss:0.00381257  valid's auc:0.965561\"\n",
      "[1] \"[234]:  valid's binary_logloss:0.00380036  valid's auc:0.96545\"\n",
      "[1] \"[235]:  valid's binary_logloss:0.00378505  valid's auc:0.965739\"\n",
      "[1] \"[236]:  valid's binary_logloss:0.00378119  valid's auc:0.965869\"\n",
      "[1] \"[237]:  valid's binary_logloss:0.00377672  valid's auc:0.965809\"\n",
      "[1] \"[238]:  valid's binary_logloss:0.00376879  valid's auc:0.965928\"\n",
      "[1] \"[239]:  valid's binary_logloss:0.00376302  valid's auc:0.965615\"\n",
      "[1] \"[240]:  valid's binary_logloss:0.00375504  valid's auc:0.965275\"\n",
      "[1] \"[241]:  valid's binary_logloss:0.00374481  valid's auc:0.965474\"\n",
      "[1] \"[242]:  valid's binary_logloss:0.00373425  valid's auc:0.965539\"\n",
      "[1] \"[243]:  valid's binary_logloss:0.00372837  valid's auc:0.965419\"\n",
      "[1] \"[244]:  valid's binary_logloss:0.00371992  valid's auc:0.965215\"\n",
      "[1] \"[245]:  valid's binary_logloss:0.00371319  valid's auc:0.965545\"\n",
      "[1] \"[246]:  valid's binary_logloss:0.00370701  valid's auc:0.965732\"\n",
      "[1] \"[247]:  valid's binary_logloss:0.00369601  valid's auc:0.965798\"\n",
      "[1] \"[248]:  valid's binary_logloss:0.00368924  valid's auc:0.965858\"\n",
      "[1] \"[249]:  valid's binary_logloss:0.00368489  valid's auc:0.965666\"\n",
      "[1] \"[250]:  valid's binary_logloss:0.00367651  valid's auc:0.966018\"\n",
      "[1] \"[251]:  valid's binary_logloss:0.0036722  valid's auc:0.965913\"\n",
      "[1] \"[252]:  valid's binary_logloss:0.00366746  valid's auc:0.965859\"\n",
      "[1] \"[253]:  valid's binary_logloss:0.0036548  valid's auc:0.966291\"\n",
      "[1] \"[254]:  valid's binary_logloss:0.00365405  valid's auc:0.966305\"\n",
      "[1] \"[255]:  valid's binary_logloss:0.00364473  valid's auc:0.966439\"\n",
      "[1] \"[256]:  valid's binary_logloss:0.00363628  valid's auc:0.966519\"\n",
      "[1] \"[257]:  valid's binary_logloss:0.00362909  valid's auc:0.966351\"\n",
      "[1] \"[258]:  valid's binary_logloss:0.0036201  valid's auc:0.966441\"\n",
      "[1] \"[259]:  valid's binary_logloss:0.00361493  valid's auc:0.966328\"\n",
      "[1] \"[260]:  valid's binary_logloss:0.00360741  valid's auc:0.96628\"\n",
      "[1] \"[261]:  valid's binary_logloss:0.00359881  valid's auc:0.966553\"\n",
      "[1] \"[262]:  valid's binary_logloss:0.00359929  valid's auc:0.96661\"\n",
      "[1] \"[263]:  valid's binary_logloss:0.00359475  valid's auc:0.966839\"\n",
      "[1] \"[264]:  valid's binary_logloss:0.00358886  valid's auc:0.967043\"\n",
      "[1] \"[265]:  valid's binary_logloss:0.00358014  valid's auc:0.967248\"\n",
      "[1] \"[266]:  valid's binary_logloss:0.0035736  valid's auc:0.967578\"\n",
      "[1] \"[267]:  valid's binary_logloss:0.00356705  valid's auc:0.967384\"\n",
      "[1] \"[268]:  valid's binary_logloss:0.00356391  valid's auc:0.9675\"\n",
      "[1] \"[269]:  valid's binary_logloss:0.00355972  valid's auc:0.967486\"\n",
      "[1] \"[270]:  valid's binary_logloss:0.00355803  valid's auc:0.967389\"\n",
      "[1] \"[271]:  valid's binary_logloss:0.00355884  valid's auc:0.967064\"\n",
      "[1] \"[272]:  valid's binary_logloss:0.00355009  valid's auc:0.967234\"\n",
      "[1] \"[273]:  valid's binary_logloss:0.00354583  valid's auc:0.967356\"\n",
      "[1] \"[274]:  valid's binary_logloss:0.00354239  valid's auc:0.967147\"\n",
      "[1] \"[275]:  valid's binary_logloss:0.00353995  valid's auc:0.967445\"\n",
      "[1] \"[276]:  valid's binary_logloss:0.00352784  valid's auc:0.967873\"\n",
      "[1] \"[277]:  valid's binary_logloss:0.00352529  valid's auc:0.967826\"\n",
      "[1] \"[278]:  valid's binary_logloss:0.00351952  valid's auc:0.96767\"\n",
      "[1] \"[279]:  valid's binary_logloss:0.0035184  valid's auc:0.967655\"\n",
      "[1] \"[280]:  valid's binary_logloss:0.00351123  valid's auc:0.967706\"\n",
      "[1] \"[281]:  valid's binary_logloss:0.00351116  valid's auc:0.967793\"\n",
      "[1] \"[282]:  valid's binary_logloss:0.00350938  valid's auc:0.967866\"\n",
      "[1] \"[283]:  valid's binary_logloss:0.00351296  valid's auc:0.967545\"\n",
      "[1] \"[284]:  valid's binary_logloss:0.00350641  valid's auc:0.96774\"\n",
      "[1] \"[285]:  valid's binary_logloss:0.00350109  valid's auc:0.96773\"\n",
      "[1] \"[286]:  valid's binary_logloss:0.0034953  valid's auc:0.967686\"\n",
      "[1] \"[287]:  valid's binary_logloss:0.00348825  valid's auc:0.967854\"\n",
      "[1] \"[288]:  valid's binary_logloss:0.00348689  valid's auc:0.96786\"\n",
      "[1] \"[289]:  valid's binary_logloss:0.00348439  valid's auc:0.967774\"\n",
      "[1] \"[290]:  valid's binary_logloss:0.00347944  valid's auc:0.967672\"\n",
      "[1] \"[291]:  valid's binary_logloss:0.00347292  valid's auc:0.967741\"\n",
      "[1] \"[292]:  valid's binary_logloss:0.00346599  valid's auc:0.968059\"\n",
      "[1] \"[293]:  valid's binary_logloss:0.00346194  valid's auc:0.967961\"\n",
      "[1] \"[294]:  valid's binary_logloss:0.00345689  valid's auc:0.96794\"\n",
      "[1] \"[295]:  valid's binary_logloss:0.00345361  valid's auc:0.968013\"\n",
      "[1] \"[296]:  valid's binary_logloss:0.00345199  valid's auc:0.96799\"\n",
      "[1] \"[297]:  valid's binary_logloss:0.00345024  valid's auc:0.967809\"\n",
      "[1] \"[298]:  valid's binary_logloss:0.00344068  valid's auc:0.96822\"\n",
      "[1] \"[299]:  valid's binary_logloss:0.00343689  valid's auc:0.968168\"\n",
      "[1] \"[300]:  valid's binary_logloss:0.0034345  valid's auc:0.968213\"\n",
      "Warning message:\n",
      "package ‘R6’ was built under R version 4.2.3 "
     ]
    }
   ],
   "source": [
    "# Train LightGBM for both imbalanced and balanced datasets and define the evaluation metrics\n",
    "library(lightgbm)\n",
    "\n",
    "# Get the ID of the label column\n",
    "label_col <- which(names(train_df) == \"Class\")\n",
    "\n",
    "# Convert the testing dataset for the model\n",
    "test_mtx <- as.matrix(test_df)\n",
    "test_x <- test_mtx[, -label_col]\n",
    "test_y <- test_mtx[, label_col]\n",
    "\n",
    "# Set up the parameters for training\n",
    "params <- list(\n",
    "    objective = \"binary\",\n",
    "    learning_rate = 0.05,\n",
    "    first_metric_only = TRUE\n",
    ")\n",
    "\n",
    "# Train for the imbalanced dataset\n",
    "message(\"Start training with imbalanced data:\")\n",
    "train_mtx <- as.matrix(train_df)\n",
    "train_x <- train_mtx[, -label_col]\n",
    "train_y <- train_mtx[, label_col]\n",
    "train_data <- lgb.Dataset(train_x, label = train_y)\n",
    "valid_data <- lgb.Dataset.create.valid(train_data, test_x, label = test_y)\n",
    "model <- lgb.train(\n",
    "    data = train_data,\n",
    "    params = params,\n",
    "    eval = list(\"binary_logloss\", \"auc\"),\n",
    "    valids = list(valid = valid_data),\n",
    "    nrounds = 300L\n",
    ")\n",
    "\n",
    "# Train for balanced (via SMOTE) dataset   \n",
    "message(\"\\n\\nStart training with balanced data:\")\n",
    "smote_train_mtx <- as.matrix(smote_train_df)\n",
    "smote_train_x <- smote_train_mtx[, -label_col]\n",
    "smote_train_y <- smote_train_mtx[, label_col]\n",
    "smote_train_data <- lgb.Dataset(smote_train_x, label = smote_train_y)\n",
    "smote_valid_data <- lgb.Dataset.create.valid(smote_train_data, test_x, label = test_y)\n",
    "smote_model <- lgb.train(\n",
    "    data = smote_train_data,\n",
    "    params = params,\n",
    "    eval = list(\"binary_logloss\", \"auc\"),\n",
    "    valids = list(valid = smote_valid_data),\n",
    "    nrounds = 300L\n",
    ")"
   ]
  },
  {
   "cell_type": "markdown",
   "id": "6cdc8d56-e0db-41e3-8982-c570a0993ae9",
   "metadata": {
    "nteract": {
     "transient": {
      "deleting": false
     }
    }
   },
   "source": [
    "### Determine feature importance\n",
    "\n",
    "For the model that you trained on the balanced (via SMOTE) dataset, calculate the feature importance:"
   ]
  },
  {
   "cell_type": "code",
   "execution_count": null,
   "id": "6088fdc6-ce55-4809-8a36-6612930c4480",
   "metadata": {
    "jupyter": {
     "outputs_hidden": false,
     "source_hidden": false
    },
    "nteract": {
     "transient": {
      "deleting": false
     }
    }
   },
   "outputs": [
    {
     "data": {
      "application/vnd.livy.statement-meta+json": {
       "execution_finish_time": "2023-09-11T18:23:17.6920968Z",
       "execution_start_time": "2023-09-11T18:23:16.805897Z",
       "livy_statement_state": "available",
       "parent_msg_id": "2b73eec0-a4bd-4929-83ad-df9159428995",
       "queued_time": "2023-09-11T18:14:37.3344755Z",
       "session_id": "1a89a9fe-074a-4632-a48a-c4402d9807ce",
       "session_start_time": null,
       "spark_jobs": {
        "jobs": [],
        "limit": 20,
        "numbers": {
         "FAILED": 0,
         "RUNNING": 0,
         "SUCCEEDED": 0,
         "UNKNOWN": 0
        },
        "rule": "ALL_DESC"
       },
       "spark_pool": null,
       "state": "finished",
       "statement_id": 17
      },
      "text/plain": [
       "StatementMeta(, 1a89a9fe-074a-4632-a48a-c4402d9807ce, 17, Finished, Available)"
      ]
     },
     "metadata": {},
     "output_type": "display_data"
    },
    {
     "data": {
      "image/png": "[encoded data removed]",
      "text/plain": []
     },
     "execution_count": null,
     "metadata": {},
     "output_type": "execute_result"
    }
   ],
   "source": [
    "imp <- lgb.importance(model, percentage = TRUE)\n",
    "ggplot(imp, aes(x = Frequency, y = reorder(Feature, Frequency), fill = Frequency)) +\n",
    "  scale_fill_gradient(low=\"steelblue\", high=\"tomato\") +\n",
    "  geom_bar(stat = \"identity\") +\n",
    "  geom_text(aes(label = sprintf(\"%.4f\", Frequency)), hjust = -0.1) +\n",
    "  theme(axis.text.x = element_text(angle = 90)) +\n",
    "  xlim(0, max(imp$Frequency) * 1.1)"
   ]
  },
  {
   "cell_type": "markdown",
   "id": "58e1f315-3104-4419-8834-34bc1d24cb13",
   "metadata": {
    "nteract": {
     "transient": {
      "deleting": false
     }
    }
   },
   "source": [
    "Determine the feature importance for the model that you trained on the balanced (via SMOTE) dataset:"
   ]
  },
  {
   "cell_type": "code",
   "execution_count": null,
   "id": "bcf58286-f9b8-433d-bfa4-52182c8daa23",
   "metadata": {
    "jupyter": {
     "outputs_hidden": false,
     "source_hidden": false
    },
    "nteract": {
     "transient": {
      "deleting": false
     }
    }
   },
   "outputs": [
    {
     "data": {
      "application/vnd.livy.statement-meta+json": {
       "execution_finish_time": "2023-09-11T18:23:22.9607428Z",
       "execution_start_time": "2023-09-11T18:23:18.0240454Z",
       "livy_statement_state": "available",
       "parent_msg_id": "ea377252-d3bc-4994-a62c-5dc883f395f8",
       "queued_time": "2023-09-11T18:14:39.7487315Z",
       "session_id": "1a89a9fe-074a-4632-a48a-c4402d9807ce",
       "session_start_time": null,
       "spark_jobs": {
        "jobs": [],
        "limit": 20,
        "numbers": {
         "FAILED": 0,
         "RUNNING": 0,
         "SUCCEEDED": 0,
         "UNKNOWN": 0
        },
        "rule": "ALL_DESC"
       },
       "spark_pool": null,
       "state": "finished",
       "statement_id": 18
      },
      "text/plain": [
       "StatementMeta(, 1a89a9fe-074a-4632-a48a-c4402d9807ce, 18, Finished, Available)"
      ]
     },
     "metadata": {},
     "output_type": "display_data"
    },
    {
     "data": {
      "image/png": "[encoded data removed]",
      "text/plain": []
     },
     "execution_count": null,
     "metadata": {},
     "output_type": "execute_result"
    }
   ],
   "source": [
    "smote_imp <- lgb.importance(smote_model, percentage = TRUE)\n",
    "ggplot(smote_imp, aes(x = Frequency, y = reorder(Feature, Frequency), fill = Frequency)) +\n",
    "  geom_bar(stat = \"identity\") +\n",
    "  scale_fill_gradient(low=\"steelblue\", high=\"tomato\") +\n",
    "  geom_text(aes(label = sprintf(\"%.4f\", Frequency)), hjust = -0.1) +\n",
    "  theme(axis.text.x = element_text(angle = 90)) +\n",
    "  xlim(0, max(smote_imp$Frequency) * 1.1)"
   ]
  },
  {
   "cell_type": "markdown",
   "id": "1f38f67a-7dfa-4493-9d01-411613ff09f2",
   "metadata": {
    "nteract": {
     "transient": {
      "deleting": false
     }
    }
   },
   "source": [
    "A comparison of these plots clearly shows that balanced and imbalanced training datasets have large feature importance differences."
   ]
  },
  {
   "cell_type": "markdown",
   "id": "2579fdf6-5a70-4c49-8bef-1c5b780ddb87",
   "metadata": {
    "nteract": {
     "transient": {
      "deleting": false
     }
    }
   },
   "source": [
    "#### Evaluate the models\n",
    "\n",
    "Here, you evaluate the two trained models:\n",
    "\n",
    "- `model` trained on raw, imbalanced data\n",
    "- `smote_model` trained on balanced data"
   ]
  },
  {
   "cell_type": "code",
   "execution_count": null,
   "id": "645b6a73-6cde-4f44-b6aa-ce78ca5f267a",
   "metadata": {
    "jupyter": {
     "outputs_hidden": false,
     "source_hidden": false
    },
    "nteract": {
     "transient": {
      "deleting": false
     }
    }
   },
   "outputs": [
    {
     "data": {
      "application/vnd.livy.statement-meta+json": {
       "execution_finish_time": "2023-09-11T18:23:24.2083461Z",
       "execution_start_time": "2023-09-11T18:23:23.274613Z",
       "livy_statement_state": "available",
       "parent_msg_id": "b7358fd6-e546-4c0a-88b9-077e595dda02",
       "queued_time": "2023-09-11T18:14:41.1087704Z",
       "session_id": "1a89a9fe-074a-4632-a48a-c4402d9807ce",
       "session_start_time": null,
       "spark_jobs": {
        "jobs": [],
        "limit": 20,
        "numbers": {
         "FAILED": 0,
         "RUNNING": 0,
         "SUCCEEDED": 0,
         "UNKNOWN": 0
        },
        "rule": "ALL_DESC"
       },
       "spark_pool": null,
       "state": "finished",
       "statement_id": 19
      },
      "text/plain": [
       "StatementMeta(, 1a89a9fe-074a-4632-a48a-c4402d9807ce, 19, Finished, Available)"
      ]
     },
     "metadata": {},
     "output_type": "display_data"
    }
   ],
   "source": [
    "preds <- predict(model, test_mtx[, -label_col])\n",
    "smote_preds <- predict(smote_model, test_mtx[, -label_col])"
   ]
  },
  {
   "cell_type": "markdown",
   "id": "d58d6509-40a4-4fed-a1f2-e9311e01bd17",
   "metadata": {
    "nteract": {
     "transient": {
      "deleting": false
     }
    }
   },
   "source": [
    "### Evaluate model performance with a confusion matrix\n",
    "\n",
    "A *confusion matrix* displays the number of:\n",
    "\n",
    "* true positives (TP)\n",
    "* true negatives (TN)\n",
    "* false positives (FP)\n",
    "* false negatives (FN)\n",
    "\n",
    "that a model produces when scored with test data. For binary classification, the model returns a `2x2` confusion matrix. For multiclass classification, the model returns an `nxn` confusion matrix, where `n` is the number of classes.\n",
    "\n",
    "Use a confusion matrix to summarize the performance of the trained machine learning models on the test data:"
   ]
  },
  {
   "cell_type": "code",
   "execution_count": null,
   "id": "8b7226f5-e2d2-4d62-b92a-f101efd67ac4",
   "metadata": {
    "jupyter": {
     "outputs_hidden": false,
     "source_hidden": false
    },
    "nteract": {
     "transient": {
      "deleting": false
     }
    }
   },
   "outputs": [
    {
     "data": {
      "application/vnd.livy.statement-meta+json": {
       "execution_finish_time": "2023-09-11T18:23:24.8537632Z",
       "execution_start_time": "2023-09-11T18:23:24.5308623Z",
       "livy_statement_state": "available",
       "parent_msg_id": "eaf1ea60-dcd9-4767-b11e-d3a902a342eb",
       "queued_time": "2023-09-11T18:14:41.7999129Z",
       "session_id": "1a89a9fe-074a-4632-a48a-c4402d9807ce",
       "session_start_time": null,
       "spark_jobs": {
        "jobs": [],
        "limit": 20,
        "numbers": {
         "FAILED": 0,
         "RUNNING": 0,
         "SUCCEEDED": 0,
         "UNKNOWN": 0
        },
        "rule": "ALL_DESC"
       },
       "spark_pool": null,
       "state": "finished",
       "statement_id": 20
      },
      "text/plain": [
       "StatementMeta(, 1a89a9fe-074a-4632-a48a-c4402d9807ce, 20, Finished, Available)"
      ]
     },
     "metadata": {},
     "output_type": "display_data"
    }
   ],
   "source": [
    "plot_cm <- function(preds, refs, title) {\n",
    "    library(caret)\n",
    "    cm <- confusionMatrix(factor(refs), factor(preds))\n",
    "    cm_table <- as.data.frame(cm$table)\n",
    "    cm_table$Prediction <- factor(cm_table$Prediction, levels=rev(levels(cm_table$Prediction)))\n",
    "\n",
    "    ggplot(cm_table, aes(Reference, Prediction, fill = Freq)) +\n",
    "            geom_tile() +\n",
    "            geom_text(aes(label = Freq)) +\n",
    "            scale_fill_gradient(low = \"white\", high = \"steelblue\", trans = \"log\") +\n",
    "            labs(x = \"Prediction\", y = \"Reference\", title = title) +\n",
    "            scale_x_discrete(labels=c(\"0\", \"1\")) +\n",
    "            scale_y_discrete(labels=c(\"1\", \"0\")) +\n",
    "            coord_equal() +\n",
    "            theme(legend.position = \"none\")\n",
    "}"
   ]
  },
  {
   "cell_type": "markdown",
   "id": "05dc0f07",
   "metadata": {},
   "source": [
    "Plot the confusion matrix for the model trained on the imbalanced dataset:"
   ]
  },
  {
   "cell_type": "code",
   "execution_count": null,
   "id": "eabf8f9b-29df-4110-a711-c33bd09b6f1e",
   "metadata": {
    "jupyter": {
     "outputs_hidden": false,
     "source_hidden": false
    },
    "nteract": {
     "transient": {
      "deleting": false
     }
    }
   },
   "outputs": [
    {
     "data": {
      "application/vnd.livy.statement-meta+json": {
       "execution_finish_time": "2023-09-11T18:23:28.8826148Z",
       "execution_start_time": "2023-09-11T18:23:25.1942148Z",
       "livy_statement_state": "available",
       "parent_msg_id": "9ae8a46c-a1f5-4f0d-9957-072229748029",
       "queued_time": "2023-09-11T18:14:42.2645639Z",
       "session_id": "1a89a9fe-074a-4632-a48a-c4402d9807ce",
       "session_start_time": null,
       "spark_jobs": {
        "jobs": [],
        "limit": 20,
        "numbers": {
         "FAILED": 0,
         "RUNNING": 0,
         "SUCCEEDED": 0,
         "UNKNOWN": 0
        },
        "rule": "ALL_DESC"
       },
       "spark_pool": null,
       "state": "finished",
       "statement_id": 21
      },
      "text/plain": [
       "StatementMeta(, 1a89a9fe-074a-4632-a48a-c4402d9807ce, 21, Finished, Available)"
      ]
     },
     "metadata": {},
     "output_type": "display_data"
    },
    {
     "data": {
      "image/png": "[encoded data removed]",
      "text/plain": [
       "Loading required package: lattice\n",
       "\n",
       "Attaching package: ‘lattice’\n",
       "\n",
       "The following object is masked from ‘package:SparkR’:\n",
       "\n",
       "    histogram\n",
       "\n",
       "\n",
       "Attaching package: ‘caret’\n",
       "\n",
       "The following object is masked from ‘package:httr’:\n",
       "\n",
       "    progress\n",
       "\n",
       "Warning message:\n",
       "package ‘lattice’ was built under R version 4.2.3 "
      ]
     },
     "execution_count": null,
     "metadata": {},
     "output_type": "execute_result"
    }
   ],
   "source": [
    "# The value of the prediction indicates the probability that a transaction is a fraud\n",
    "# Use 0.5 as the threshold for fraud/no-fraud transactions\n",
    "plot_cm(ifelse(preds > 0.5, 1, 0), test_df$Class, \"Confusion Matrix (Imbalanced dataset)\")"
   ]
  },
  {
   "cell_type": "markdown",
   "id": "0d436db0",
   "metadata": {},
   "source": [
    "Plot the confusion matrix for the model trained on the balanced dataset:"
   ]
  },
  {
   "cell_type": "code",
   "execution_count": null,
   "id": "b7d1f5a8-b9ec-4d56-8282-89cbb825c555",
   "metadata": {
    "jupyter": {
     "outputs_hidden": false,
     "source_hidden": false
    },
    "nteract": {
     "transient": {
      "deleting": false
     }
    }
   },
   "outputs": [
    {
     "data": {
      "application/vnd.livy.statement-meta+json": {
       "execution_finish_time": "2023-09-11T18:23:29.538482Z",
       "execution_start_time": "2023-09-11T18:23:29.2004464Z",
       "livy_statement_state": "available",
       "parent_msg_id": "553bfe96-1886-4970-9a39-c1d2ece8caf0",
       "queued_time": "2023-09-11T18:14:42.5729141Z",
       "session_id": "1a89a9fe-074a-4632-a48a-c4402d9807ce",
       "session_start_time": null,
       "spark_jobs": {
        "jobs": [],
        "limit": 20,
        "numbers": {
         "FAILED": 0,
         "RUNNING": 0,
         "SUCCEEDED": 0,
         "UNKNOWN": 0
        },
        "rule": "ALL_DESC"
       },
       "spark_pool": null,
       "state": "finished",
       "statement_id": 22
      },
      "text/plain": [
       "StatementMeta(, 1a89a9fe-074a-4632-a48a-c4402d9807ce, 22, Finished, Available)"
      ]
     },
     "metadata": {},
     "output_type": "display_data"
    },
    {
     "data": {
      "image/png": "[encoded data removed]",
      "text/plain": []
     },
     "execution_count": null,
     "metadata": {},
     "output_type": "execute_result"
    }
   ],
   "source": [
    "plot_cm(ifelse(smote_preds > 0.5, 1, 0), test_df$Class, \"Confusion Matrix (Balanced dataset)\")"
   ]
  },
  {
   "cell_type": "markdown",
   "id": "56c41b63-c577-4707-b48d-45a3472aa06f",
   "metadata": {
    "nteract": {
     "transient": {
      "deleting": false
     }
    }
   },
   "source": [
    "### Evaluate model performance with AUC-ROC and AUPRC measures\n",
    "\n",
    "The Area Under the Curve Receiver Operating Characteristic (AUC-ROC) measure assesses the performance of binary classifiers. The AUC-ROC chart visualizes the trade-off between the true positive rate (TPR) and the false positive rate (FPR).\n",
    "\n",
    "In some cases, it's more appropriate to eIn some cases, it's more appropriate to evaluate your classifier based on the Area Under the Precision-Recall Curve (AUPRC) measure. The AUPRC is a curve that combines these rates:\n",
    "\n",
    "- The precision, or the positive predictive value (PPV)\n",
    "- The recall, or TPR"
   ]
  },
  {
   "cell_type": "code",
   "execution_count": null,
   "id": "8dd57f5f-e87f-4e1e-b847-ed19b4b77ead",
   "metadata": {
    "jupyter": {
     "outputs_hidden": false,
     "source_hidden": false
    },
    "nteract": {
     "transient": {
      "deleting": false
     }
    }
   },
   "outputs": [
    {
     "data": {
      "application/vnd.livy.statement-meta+json": {
       "execution_finish_time": "2023-09-11T18:23:40.0806461Z",
       "execution_start_time": "2023-09-11T18:23:29.895177Z",
       "livy_statement_state": "available",
       "parent_msg_id": "be1b0ad8-197e-400a-8c62-41d31e6e8dee",
       "queued_time": "2023-09-11T18:14:42.9996472Z",
       "session_id": "1a89a9fe-074a-4632-a48a-c4402d9807ce",
       "session_start_time": null,
       "spark_jobs": {
        "jobs": [],
        "limit": 20,
        "numbers": {
         "FAILED": 0,
         "RUNNING": 0,
         "SUCCEEDED": 0,
         "UNKNOWN": 0
        },
        "rule": "ALL_DESC"
       },
       "spark_pool": null,
       "state": "finished",
       "statement_id": 23
      },
      "text/plain": [
       "StatementMeta(, 1a89a9fe-074a-4632-a48a-c4402d9807ce, 23, Finished, Available)"
      ]
     },
     "metadata": {},
     "output_type": "display_data"
    },
    {
     "name": "stdout",
     "output_type": "stream",
     "text": [
      "start install.packages pkgs=PRROC time:2023-09-11 18:23:29\n",
      "[notebook] install.packages pkgs=PRROC cost [9s] time:2023-09-11 18:23:38"
     ]
    }
   ],
   "source": [
    "# Use the PRROC package to help calculate and plot AUC-ROC and AUPRC\n",
    "install.packages(\"PRROC\", quiet = TRUE)\n",
    "library(PRROC)"
   ]
  },
  {
   "cell_type": "markdown",
   "id": "84420a61-e171-4217-ae78-171fee9b53a5",
   "metadata": {
    "nteract": {
     "transient": {
      "deleting": false
     }
    }
   },
   "source": [
    "#### Calculate the AUC-ROC and AUPRC metrics\n",
    "\n",
    "Calculate and plot the AUC-ROC and AUPRC metrics for the two models."
   ]
  },
  {
   "cell_type": "markdown",
   "id": "d72b96ce-e437-4e38-8971-5b3956a45193",
   "metadata": {
    "nteract": {
     "transient": {
      "deleting": false
     }
    }
   },
   "source": [
    "### **Imbalanced dataset**"
   ]
  },
  {
   "cell_type": "code",
   "execution_count": null,
   "id": "232c49aa-781d-4764-b8c5-2fd1a3851a94",
   "metadata": {
    "jupyter": {
     "outputs_hidden": false,
     "source_hidden": false
    },
    "nteract": {
     "transient": {
      "deleting": false
     }
    }
   },
   "outputs": [
    {
     "data": {
      "application/vnd.livy.statement-meta+json": {
       "execution_finish_time": "2023-09-11T18:23:40.7615564Z",
       "execution_start_time": "2023-09-11T18:23:40.4311955Z",
       "livy_statement_state": "available",
       "parent_msg_id": "f6c53000-aed2-4020-978a-8f15f902d31b",
       "queued_time": "2023-09-11T18:14:43.7032184Z",
       "session_id": "1a89a9fe-074a-4632-a48a-c4402d9807ce",
       "session_start_time": null,
       "spark_jobs": {
        "jobs": [],
        "limit": 20,
        "numbers": {
         "FAILED": 0,
         "RUNNING": 0,
         "SUCCEEDED": 0,
         "UNKNOWN": 0
        },
        "rule": "ALL_DESC"
       },
       "spark_pool": null,
       "state": "finished",
       "statement_id": 24
      },
      "text/plain": [
       "StatementMeta(, 1a89a9fe-074a-4632-a48a-c4402d9807ce, 24, Finished, Available)"
      ]
     },
     "metadata": {},
     "output_type": "display_data"
    }
   ],
   "source": [
    "fg <- preds[test_df$Class == 1]\n",
    "bg <- preds[test_df$Class == 0]"
   ]
  },
  {
   "cell_type": "markdown",
   "id": "9d9438a0",
   "metadata": {},
   "source": [
    "Print the area under the AUC-ROC curve:"
   ]
  },
  {
   "cell_type": "code",
   "execution_count": null,
   "id": "b91cd86b-00fa-4868-81ab-52311ddfcf4c",
   "metadata": {
    "jupyter": {
     "outputs_hidden": false,
     "source_hidden": false
    },
    "nteract": {
     "transient": {
      "deleting": false
     }
    }
   },
   "outputs": [
    {
     "data": {
      "application/vnd.livy.statement-meta+json": {
       "execution_finish_time": "2023-09-11T18:23:41.3970496Z",
       "execution_start_time": "2023-09-11T18:23:41.0727318Z",
       "livy_statement_state": "available",
       "parent_msg_id": "0ba6f800-ca6d-4b3d-b02a-3f290b9bef81",
       "queued_time": "2023-09-11T18:14:44.1571541Z",
       "session_id": "1a89a9fe-074a-4632-a48a-c4402d9807ce",
       "session_start_time": null,
       "spark_jobs": {
        "jobs": [],
        "limit": 20,
        "numbers": {
         "FAILED": 0,
         "RUNNING": 0,
         "SUCCEEDED": 0,
         "UNKNOWN": 0
        },
        "rule": "ALL_DESC"
       },
       "spark_pool": null,
       "state": "finished",
       "statement_id": 25
      },
      "text/plain": [
       "StatementMeta(, 1a89a9fe-074a-4632-a48a-c4402d9807ce, 25, Finished, Available)"
      ]
     },
     "metadata": {},
     "output_type": "display_data"
    },
    {
     "name": "stdout",
     "output_type": "stream",
     "text": [
      "\n",
      "  ROC curve\n",
      "\n",
      "    Area under curve:\n",
      "     0.8954433 \n",
      "\n",
      "    Curve for scores from  0.001642452  to  1 \n",
      "    ( can be plotted with plot(x) )\n"
     ]
    }
   ],
   "source": [
    "# Compute AUC-ROC\n",
    "roc <- roc.curve(scores.class0 = fg, scores.class1 = bg, curve = TRUE)\n",
    "print(roc)"
   ]
  },
  {
   "cell_type": "code",
   "execution_count": null,
   "id": "1a7bd199-d5b3-4f78-919c-a574a95417ef",
   "metadata": {
    "jupyter": {
     "outputs_hidden": false,
     "source_hidden": false
    },
    "nteract": {
     "transient": {
      "deleting": false
     }
    }
   },
   "outputs": [
    {
     "data": {
      "application/vnd.livy.statement-meta+json": {
       "execution_finish_time": "2023-09-11T18:23:42.0687303Z",
       "execution_start_time": "2023-09-11T18:23:41.7218756Z",
       "livy_statement_state": "available",
       "parent_msg_id": "fcc65bb8-0610-4481-95e9-095c23de3119",
       "queued_time": "2023-09-11T18:14:44.5702299Z",
       "session_id": "1a89a9fe-074a-4632-a48a-c4402d9807ce",
       "session_start_time": null,
       "spark_jobs": {
        "jobs": [],
        "limit": 20,
        "numbers": {
         "FAILED": 0,
         "RUNNING": 0,
         "SUCCEEDED": 0,
         "UNKNOWN": 0
        },
        "rule": "ALL_DESC"
       },
       "spark_pool": null,
       "state": "finished",
       "statement_id": 26
      },
      "text/plain": [
       "StatementMeta(, 1a89a9fe-074a-4632-a48a-c4402d9807ce, 26, Finished, Available)"
      ]
     },
     "metadata": {},
     "output_type": "display_data"
    },
    {
     "data": {
      "image/png": "[encoded data removed]",
      "text/plain": []
     },
     "execution_count": null,
     "metadata": {},
     "output_type": "execute_result"
    }
   ],
   "source": [
    "# Plot AUC-ROC\n",
    "plot(roc)"
   ]
  },
  {
   "cell_type": "markdown",
   "id": "bc79476b",
   "metadata": {},
   "source": [
    "Print the AUPRC curve:"
   ]
  },
  {
   "cell_type": "code",
   "execution_count": null,
   "id": "256de9bc-b04d-4c6c-a9c0-733beb494b82",
   "metadata": {
    "jupyter": {
     "outputs_hidden": false,
     "source_hidden": false
    },
    "nteract": {
     "transient": {
      "deleting": false
     }
    }
   },
   "outputs": [
    {
     "data": {
      "application/vnd.livy.statement-meta+json": {
       "execution_finish_time": "2023-09-11T18:23:42.7450079Z",
       "execution_start_time": "2023-09-11T18:23:42.4093639Z",
       "livy_statement_state": "available",
       "parent_msg_id": "8d0e2afe-4666-414d-b429-6cf890289e63",
       "queued_time": "2023-09-11T18:14:45.0459962Z",
       "session_id": "1a89a9fe-074a-4632-a48a-c4402d9807ce",
       "session_start_time": null,
       "spark_jobs": {
        "jobs": [],
        "limit": 20,
        "numbers": {
         "FAILED": 0,
         "RUNNING": 0,
         "SUCCEEDED": 0,
         "UNKNOWN": 0
        },
        "rule": "ALL_DESC"
       },
       "spark_pool": null,
       "state": "finished",
       "statement_id": 27
      },
      "text/plain": [
       "StatementMeta(, 1a89a9fe-074a-4632-a48a-c4402d9807ce, 27, Finished, Available)"
      ]
     },
     "metadata": {},
     "output_type": "display_data"
    },
    {
     "name": "stdout",
     "output_type": "stream",
     "text": [
      "\n",
      "  Precision-recall curve\n",
      "\n",
      "    Area under curve (Integral):\n",
      "     0.7928619 \n",
      "\n",
      "    Area under curve (Davis & Goadrich):\n",
      "     0.7955138 \n",
      "\n",
      "    Curve for scores from  0.001642452  to  1 \n",
      "    ( can be plotted with plot(x) )\n"
     ]
    }
   ],
   "source": [
    "# Compute AUPRC\n",
    "pr <- pr.curve(scores.class0 = fg, scores.class1 = bg, curve = TRUE)\n",
    "print(pr)"
   ]
  },
  {
   "cell_type": "markdown",
   "id": "7996f7b7",
   "metadata": {},
   "source": [
    "Plot the AUPRC curve:"
   ]
  },
  {
   "cell_type": "code",
   "execution_count": null,
   "id": "b4af8909-dff5-4c52-ac50-2cef0705f7e7",
   "metadata": {
    "jupyter": {
     "outputs_hidden": false,
     "source_hidden": false
    },
    "nteract": {
     "transient": {
      "deleting": false
     }
    }
   },
   "outputs": [
    {
     "data": {
      "application/vnd.livy.statement-meta+json": {
       "execution_finish_time": "2023-09-11T18:23:44.2926565Z",
       "execution_start_time": "2023-09-11T18:23:43.0941267Z",
       "livy_statement_state": "available",
       "parent_msg_id": "e68183c0-5dbf-4862-8ba2-425cb055384d",
       "queued_time": "2023-09-11T18:14:45.71954Z",
       "session_id": "1a89a9fe-074a-4632-a48a-c4402d9807ce",
       "session_start_time": null,
       "spark_jobs": {
        "jobs": [],
        "limit": 20,
        "numbers": {
         "FAILED": 0,
         "RUNNING": 0,
         "SUCCEEDED": 0,
         "UNKNOWN": 0
        },
        "rule": "ALL_DESC"
       },
       "spark_pool": null,
       "state": "finished",
       "statement_id": 28
      },
      "text/plain": [
       "StatementMeta(, 1a89a9fe-074a-4632-a48a-c4402d9807ce, 28, Finished, Available)"
      ]
     },
     "metadata": {},
     "output_type": "display_data"
    },
    {
     "data": {
      "image/png": "[encoded data removed]",
      "text/plain": []
     },
     "execution_count": null,
     "metadata": {},
     "output_type": "execute_result"
    }
   ],
   "source": [
    "# Plot AUPRC\n",
    "plot(pr)"
   ]
  },
  {
   "cell_type": "markdown",
   "id": "837a714f-2cfb-4cb9-9c6e-20e2ed0c973d",
   "metadata": {
    "nteract": {
     "transient": {
      "deleting": false
     }
    }
   },
   "source": [
    "#### Balanced (via SMOTE) dataset"
   ]
  },
  {
   "cell_type": "markdown",
   "id": "8cc3693c",
   "metadata": {},
   "source": [
    "Calculate the predictions:"
   ]
  },
  {
   "cell_type": "code",
   "execution_count": null,
   "id": "c8a2b711-8bf8-4720-bf9f-20f8ffa3e5bb",
   "metadata": {
    "jupyter": {
     "outputs_hidden": false,
     "source_hidden": false
    },
    "nteract": {
     "transient": {
      "deleting": false
     }
    }
   },
   "outputs": [
    {
     "data": {
      "application/vnd.livy.statement-meta+json": {
       "execution_finish_time": "2023-09-11T18:23:44.9493558Z",
       "execution_start_time": "2023-09-11T18:23:44.6249048Z",
       "livy_statement_state": "available",
       "parent_msg_id": "2aeda7a4-44ca-4992-9a00-362c390d89d3",
       "queued_time": "2023-09-11T18:14:46.0756596Z",
       "session_id": "1a89a9fe-074a-4632-a48a-c4402d9807ce",
       "session_start_time": null,
       "spark_jobs": {
        "jobs": [],
        "limit": 20,
        "numbers": {
         "FAILED": 0,
         "RUNNING": 0,
         "SUCCEEDED": 0,
         "UNKNOWN": 0
        },
        "rule": "ALL_DESC"
       },
       "spark_pool": null,
       "state": "finished",
       "statement_id": 29
      },
      "text/plain": [
       "StatementMeta(, 1a89a9fe-074a-4632-a48a-c4402d9807ce, 29, Finished, Available)"
      ]
     },
     "metadata": {},
     "output_type": "display_data"
    }
   ],
   "source": [
    "smote_fg <- smote_preds[test_df$Class == 1]\n",
    "smote_bg <- smote_preds[test_df$Class == 0]"
   ]
  },
  {
   "cell_type": "markdown",
   "id": "045920f5",
   "metadata": {},
   "source": [
    "Print the AUC-ROC curve:"
   ]
  },
  {
   "cell_type": "code",
   "execution_count": null,
   "id": "4fd806ff-d2ec-430a-ad51-9ff65d305116",
   "metadata": {
    "jupyter": {
     "outputs_hidden": false,
     "source_hidden": false
    },
    "nteract": {
     "transient": {
      "deleting": false
     }
    }
   },
   "outputs": [
    {
     "data": {
      "application/vnd.livy.statement-meta+json": {
       "execution_finish_time": "2023-09-11T18:23:46.2748397Z",
       "execution_start_time": "2023-09-11T18:23:45.3104113Z",
       "livy_statement_state": "available",
       "parent_msg_id": "b42954b2-3641-4fde-99a7-3a43481a1052",
       "queued_time": "2023-09-11T18:14:46.399955Z",
       "session_id": "1a89a9fe-074a-4632-a48a-c4402d9807ce",
       "session_start_time": null,
       "spark_jobs": {
        "jobs": [],
        "limit": 20,
        "numbers": {
         "FAILED": 0,
         "RUNNING": 0,
         "SUCCEEDED": 0,
         "UNKNOWN": 0
        },
        "rule": "ALL_DESC"
       },
       "spark_pool": null,
       "state": "finished",
       "statement_id": 30
      },
      "text/plain": [
       "StatementMeta(, 1a89a9fe-074a-4632-a48a-c4402d9807ce, 30, Finished, Available)"
      ]
     },
     "metadata": {},
     "output_type": "display_data"
    },
    {
     "name": "stdout",
     "output_type": "stream",
     "text": [
      "\n",
      "  ROC curve\n",
      "\n",
      "    Area under curve:\n",
      "     0.9682134 \n",
      "\n",
      "    Curve for scores from  8.1973e-16  to  0.9999987 \n",
      "    ( can be plotted with plot(x) )\n"
     ]
    }
   ],
   "source": [
    "# Compute AUC-ROC\n",
    "smote_roc <- roc.curve(scores.class0 = smote_fg, scores.class1 = smote_bg, curve = TRUE)\n",
    "print(smote_roc)"
   ]
  },
  {
   "cell_type": "markdown",
   "id": "6a03d8ac",
   "metadata": {},
   "source": [
    "Plot the AUC-ROC curve:"
   ]
  },
  {
   "cell_type": "code",
   "execution_count": null,
   "id": "eb573a43-ab48-4288-b550-2ee78d3e8697",
   "metadata": {
    "jupyter": {
     "outputs_hidden": false,
     "source_hidden": false
    },
    "nteract": {
     "transient": {
      "deleting": false
     }
    }
   },
   "outputs": [
    {
     "data": {
      "application/vnd.livy.statement-meta+json": {
       "execution_finish_time": "2023-09-11T18:23:46.9972513Z",
       "execution_start_time": "2023-09-11T18:23:46.6662524Z",
       "livy_statement_state": "available",
       "parent_msg_id": "e4905a89-61c4-4570-9e38-0ab85c432064",
       "queued_time": "2023-09-11T18:14:46.7995305Z",
       "session_id": "1a89a9fe-074a-4632-a48a-c4402d9807ce",
       "session_start_time": null,
       "spark_jobs": {
        "jobs": [],
        "limit": 20,
        "numbers": {
         "FAILED": 0,
         "RUNNING": 0,
         "SUCCEEDED": 0,
         "UNKNOWN": 0
        },
        "rule": "ALL_DESC"
       },
       "spark_pool": null,
       "state": "finished",
       "statement_id": 31
      },
      "text/plain": [
       "StatementMeta(, 1a89a9fe-074a-4632-a48a-c4402d9807ce, 31, Finished, Available)"
      ]
     },
     "metadata": {},
     "output_type": "display_data"
    },
    {
     "data": {
      "image/png": "[encoded data removed]",
      "text/plain": []
     },
     "execution_count": null,
     "metadata": {},
     "output_type": "execute_result"
    }
   ],
   "source": [
    "# Plot AUC-ROC\n",
    "plot(smote_roc)"
   ]
  },
  {
   "cell_type": "code",
   "execution_count": null,
   "id": "41a24e85-62f0-4c26-8289-1c09587cedce",
   "metadata": {
    "jupyter": {
     "outputs_hidden": false,
     "source_hidden": false
    },
    "nteract": {
     "transient": {
      "deleting": false
     }
    }
   },
   "outputs": [
    {
     "data": {
      "application/vnd.livy.statement-meta+json": {
       "execution_finish_time": "2023-09-11T18:23:47.7025154Z",
       "execution_start_time": "2023-09-11T18:23:47.3523362Z",
       "livy_statement_state": "available",
       "parent_msg_id": "0da0249c-92ac-4f72-b8dc-0cec31384ab8",
       "queued_time": "2023-09-11T18:14:47.4823Z",
       "session_id": "1a89a9fe-074a-4632-a48a-c4402d9807ce",
       "session_start_time": null,
       "spark_jobs": {
        "jobs": [],
        "limit": 20,
        "numbers": {
         "FAILED": 0,
         "RUNNING": 0,
         "SUCCEEDED": 0,
         "UNKNOWN": 0
        },
        "rule": "ALL_DESC"
       },
       "spark_pool": null,
       "state": "finished",
       "statement_id": 32
      },
      "text/plain": [
       "StatementMeta(, 1a89a9fe-074a-4632-a48a-c4402d9807ce, 32, Finished, Available)"
      ]
     },
     "metadata": {},
     "output_type": "display_data"
    },
    {
     "name": "stdout",
     "output_type": "stream",
     "text": [
      "\n",
      "  Precision-recall curve\n",
      "\n",
      "    Area under curve (Integral):\n",
      "     0.8377414 \n",
      "\n",
      "    Area under curve (Davis & Goadrich):\n",
      "     0.8377397 \n",
      "\n",
      "    Curve for scores from  8.1973e-16  to  0.9999987 \n",
      "    ( can be plotted with plot(x) )\n"
     ]
    }
   ],
   "source": [
    "# Compute AUPRC\n",
    "smote_pr <- pr.curve(scores.class0 = smote_fg, scores.class1 = smote_bg, curve = TRUE)\n",
    "print(smote_pr)"
   ]
  },
  {
   "cell_type": "code",
   "execution_count": null,
   "id": "1dd86cc8-821b-4d11-9855-407bd15a8ab1",
   "metadata": {
    "jupyter": {
     "outputs_hidden": false,
     "source_hidden": false
    },
    "nteract": {
     "transient": {
      "deleting": false
     }
    }
   },
   "outputs": [
    {
     "data": {
      "application/vnd.livy.statement-meta+json": {
       "execution_finish_time": "2023-09-11T18:23:49.1595128Z",
       "execution_start_time": "2023-09-11T18:23:48.0256185Z",
       "livy_statement_state": "available",
       "parent_msg_id": "c089e410-a1fa-407b-a78a-bb66bbe24df6",
       "queued_time": "2023-09-11T18:14:48.0581317Z",
       "session_id": "1a89a9fe-074a-4632-a48a-c4402d9807ce",
       "session_start_time": null,
       "spark_jobs": {
        "jobs": [],
        "limit": 20,
        "numbers": {
         "FAILED": 0,
         "RUNNING": 0,
         "SUCCEEDED": 0,
         "UNKNOWN": 0
        },
        "rule": "ALL_DESC"
       },
       "spark_pool": null,
       "state": "finished",
       "statement_id": 33
      },
      "text/plain": [
       "StatementMeta(, 1a89a9fe-074a-4632-a48a-c4402d9807ce, 33, Finished, Available)"
      ]
     },
     "metadata": {},
     "output_type": "display_data"
    },
    {
     "data": {
      "image/png": "[encoded data removed]",
      "text/plain": []
     },
     "execution_count": null,
     "metadata": {},
     "output_type": "execute_result"
    }
   ],
   "source": [
    "# Plot AUPRC\n",
    "plot(smote_pr)"
   ]
  },
  {
   "cell_type": "markdown",
   "id": "61cbe6bd-2972-44b5-9b52-922173500cce",
   "metadata": {
    "nteract": {
     "transient": {
      "deleting": false
     }
    }
   },
   "source": [
    "The earlier figures clearly show that the model trained on the balanced dataset outperforms the model trained on the imbalanced dataset, for both AUC-ROC and AUPRC scores. This result suggests that SMOTE effectively improves model performance when working with highly imbalanced data."
   ]
  },
  {
   "cell_type": "code",
   "execution_count": null,
   "id": "244d956a-4559-4861-b128-efdbee78374c",
   "metadata": {
    "jupyter": {
     "outputs_hidden": false,
     "source_hidden": false
    },
    "nteract": {
     "transient": {
      "deleting": false
     }
    }
   },
   "outputs": [
    {
     "data": {
      "application/vnd.livy.statement-meta+json": {
       "execution_finish_time": "2023-09-11T18:23:49.8614888Z",
       "execution_start_time": "2023-09-11T18:23:49.4748465Z",
       "livy_statement_state": "available",
       "parent_msg_id": "3bc1ac38-3f7a-4e89-81ea-ea27e3f4f44d",
       "queued_time": "2023-09-11T18:14:48.7865758Z",
       "session_id": "1a89a9fe-074a-4632-a48a-c4402d9807ce",
       "session_start_time": null,
       "spark_jobs": {
        "jobs": [],
        "limit": 20,
        "numbers": {
         "FAILED": 0,
         "RUNNING": 0,
         "SUCCEEDED": 0,
         "UNKNOWN": 0
        },
        "rule": "ALL_DESC"
       },
       "spark_pool": null,
       "state": "finished",
       "statement_id": 34
      },
      "text/plain": [
       "StatementMeta(, 1a89a9fe-074a-4632-a48a-c4402d9807ce, 34, Finished, Available)"
      ]
     },
     "metadata": {},
     "output_type": "display_data"
    },
    {
     "name": "stdout",
     "output_type": "stream",
     "text": [
      "Full run cost 240 seconds.\n"
     ]
    }
   ],
   "source": [
    "# Determine the entire runtime\n",
    "message(paste0(\"Full run cost \", as.integer(Sys.time() - ts), \" seconds.\\n\"))"
   ]
  }
 ],
 "metadata": {
  "kernel_info": {
   "name": "synapse_pyspark"
  },
  "kernelspec": {
   "display_name": "Synapse PySpark",
   "name": "synapse_pyspark"
  },
  "language_info": {
   "name": "r"
  },
  "notebook_environment": {},
  "nteract": {
   "version": "nteract-front-end@1.0.0"
  },
  "save_output": true,
  "spark_compute": {
   "compute_id": "/trident/default",
   "session_options": {
    "conf": {},
    "enableDebugMode": false
   }
  }
 },
 "nbformat": 4,
 "nbformat_minor": 5
}
