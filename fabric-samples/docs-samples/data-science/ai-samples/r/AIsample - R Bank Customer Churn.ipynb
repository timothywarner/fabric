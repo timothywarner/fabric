{
 "cells": [
  {
   "cell_type": "markdown",
   "id": "9877558c-eb5e-4f13-85ac-1401db3d8e20",
   "metadata": {
    "nteract": {
     "transient": {
      "deleting": false
     }
    }
   },
   "source": [
    "# Create, evaluate, and score a churn prediction model"
   ]
  },
  {
   "cell_type": "markdown",
   "id": "34082526-8276-460a-b625-733b3246a119",
   "metadata": {
    "nteract": {
     "transient": {
      "deleting": false
     }
    }
   },
   "source": [
    "## Introduction\n",
    "\n",
    "In this notebook, you'll see a Microsoft Fabric data science workflow with an end-to-end example. The scenario is to build a model to predict whether bank customers would churn or not. The churn rate, also known as the rate of attrition refers to the rate at which bank customers stop doing business with the bank.\n",
    "\n",
    "The summary of main steps you take in this notebook are as following:\n",
    "\n",
    "- Install custom libraries.\n",
    "- Load the data.\n",
    "- Understand and process the data through exploratory data analysis.\n",
    "- Train machine learning models by using scikit-learn and LightGBM.\n",
    "- Evaluate and save the final machine learning model.\n",
    "- Demonstrate the model's performance via visualizations in Power BI.\n"
   ]
  },
  {
   "cell_type": "markdown",
   "id": "1d292182-25ef-4d19-91ef-480a13d73ae2",
   "metadata": {
    "nteract": {
     "transient": {
      "deleting": false
     }
    }
   },
   "source": [
    "## Prerequisites\n",
    "- [Add a lakehouse](https://aka.ms/fabric/addlakehouse) to this notebook. You will be downloading data from a public blob, then storing the data in the lakehouse. "
   ]
  },
  {
   "cell_type": "markdown",
   "id": "4d0a441e-30b4-411a-82ed-121019b0e7f8",
   "metadata": {
    "nteract": {
     "transient": {
      "deleting": false
     }
    }
   },
   "source": [
    "## Step 1: Install custom libraries"
   ]
  },
  {
   "cell_type": "markdown",
   "id": "e77304eb-9992-439d-9142-16b2eab60b67",
   "metadata": {
    "editable": true,
    "nteract": {
     "transient": {
      "deleting": false
     }
    },
    "run_control": {
     "frozen": false
    }
   },
   "source": [
    "\n",
    "For machine learning model development or ad-hoc data analysis, you might need to quickly install a custom library for your Apache Spark session. You have two options to install libraries.\n",
    "\n",
    "* Use inline installation resources, for example `install.packages` and `devtools::install_version`, to install in your current notebook only.\n",
    "* Alternatively, you can create a Fabric environment, install libraries from public sources or upload custom libraries to it, and then your workspace admin can attach the environment as the default for the workspace. All the libraries in the environment will then become available for use in any notebooks and Spark job definitions in the workspace. For more information on environments, see [create, configure, and use an environment in Microsoft Fabric](https://aka.ms/fabric/create-environment).\n",
    "\n",
    "In this tutorial, use `install.packages()` to install the `imbalance` and `randomForest` libraries. Set `quiet` to `TRUE` to make the output more concise:"
   ]
  },
  {
   "cell_type": "markdown",
   "id": "bbff5c3e-f3e7-439b-a87a-a5fea538679b",
   "metadata": {
    "nteract": {
     "transient": {
      "deleting": false
     }
    }
   },
   "source": [
    "In this notebook, you will be using the `imbalance` and `randomForest` libraries.  \n",
    "\n",
    "In the following, you'll use `install.packages()` to install the these libraries.  Set `quiet` to `TRUE` to make output more concise."
   ]
  },
  {
   "cell_type": "code",
   "execution_count": null,
   "id": "afd9e80e",
   "metadata": {},
   "outputs": [
    {
     "data": {
      "application/vnd.livy.statement-meta+json": {
       "execution_finish_time": "2023-09-15T20:27:46.5365296Z",
       "execution_start_time": "2023-09-15T20:23:23.9519938Z",
       "livy_statement_state": "available",
       "parent_msg_id": "c3c5d051-cbc0-4dcd-81be-947f721ac55b",
       "queued_time": "2023-09-15T20:19:54.9232798Z",
       "session_id": "3753b326-451b-4e6b-bf24-9f1372d6e5da",
       "session_start_time": "2023-09-15T20:19:55.3023168Z",
       "spark_jobs": {
        "jobs": [],
        "limit": 20,
        "numbers": {
         "FAILED": 0,
         "RUNNING": 0,
         "SUCCEEDED": 0,
         "UNKNOWN": 0
        },
        "rule": "ALL_DESC"
       },
       "spark_pool": null,
       "state": "finished",
       "statement_id": 3
      },
      "text/plain": [
       "StatementMeta(, 3753b326-451b-4e6b-bf24-9f1372d6e5da, 3, Finished, Available)"
      ]
     },
     "metadata": {},
     "output_type": "display_data"
    },
    {
     "name": "stdout",
     "output_type": "stream",
     "text": [
      "nfs is ready retry=1\n",
      "begin to create dir /nfs4/R/user-lib/application_1694809280385_0001.\n",
      "begin to confige user lib /nfs4/R/user-lib/application_1694809280385_0001.\n",
      "success to confige user lib /nfs4/R/user-lib/application_1694809280385_0001\n",
      "start install.packages pkgs=imbalance time:2023-09-15 20:23:23\n",
      "also installing the dependencies ‘libcoin’, ‘Formula’, ‘inum’, ‘dbscan’, ‘Cubist’, ‘partykit’, ‘bnlearn’, ‘KernelKnn’, ‘mvtnorm’, ‘smotefamily’, ‘FNN’, ‘C50’, ‘RcppArmadillo’\n",
      "\n",
      "[notebook] install.packages pkgs=imbalance cost [253s] time:2023-09-15 20:27:36\n",
      "start install.packages pkgs=randomForest time:2023-09-15 20:27:36\n",
      "[notebook] install.packages pkgs=randomForest cost [9s] time:2023-09-15 20:27:45"
     ]
    }
   ],
   "source": [
    "# Install dependencies\n",
    "devtools::install_version(\"bnlearn\", version = \"4.8\")\n",
    "# Install imbalance for SMOTE\n",
    "devtools::install_version(\"imbalance\", version = \"1.0.2.1\")\n",
    "# Install the random forest algorithm\n",
    "devtools::install_version(\"randomForest\", version = \"4.7-1.1\")"
   ]
  },
  {
   "cell_type": "markdown",
   "id": "507119fd-2330-45e0-a982-c56bb8b37620",
   "metadata": {
    "nteract": {
     "transient": {
      "deleting": false
     }
    }
   },
   "source": [
    "## Step 2: Load the data\n"
   ]
  },
  {
   "cell_type": "markdown",
   "id": "c35cf81a-e337-4804-ac9f-9c3fa4e8612d",
   "metadata": {
    "nteract": {
     "transient": {
      "deleting": false
     }
    }
   },
   "source": [
    "#### Dataset\n",
    "\n",
    "The dataset in *churn.csv* contains the churn status of 10,000 customers, along with 14 attributes that include:\n",
    "\n",
    "- Credit score\n",
    "- Geographical location (Germany, France, Spain)\n",
    "- Gender (male, female)\n",
    "- Age\n",
    "- Tenure (number of years the person was a customer at that bank)\n",
    "- Account balance\n",
    "- Estimated salary\n",
    "- Number of products that a customer purchased through the bank\n",
    "- Credit card status (whether or not a customer has a credit card)\n",
    "- Active member status (whether or not the person is an active bank customer)\n",
    "\n",
    "The dataset also includes row number, customer ID, and customer surname columns. Values in these columns shouldn't influence a customer's decision to leave the bank.\n",
    "\n",
    "A customer bank account closure event defines the churn for that customer. The dataset `Exited` column refers to the customer's abandonment. Since we have little context about these attributes, we don't need background information about the dataset. We want to understand how these attributes contribute to the `Exited` status.\n",
    "\n",
    "Out of the 10,000 customers, only 2037 customers (around 20%) left the bank. Because of the class imbalance ratio, we recommend generating synthetic data generation.\n",
    "\n",
    "This table shows a preview sample of the `churn.csv` data:\n",
    "\n",
    "\n",
    "|\"CustomerID\"|\"Surname\"|\"CreditScore\"|\"Geography\"|\"Gender\"|\"Age\"|\"Tenure\"|\"Balance\"|\"NumOfProducts\"|\"HasCrCard\"|\"IsActiveMember\"|\"EstimatedSalary\"|\"Exited\"|\n",
    "|---|---|---|---|---|---|---|---|---|---|---|---|---|\n",
    "|15634602|Hargrave|619|France|Female|42|2|0.00|1|1|1|101348.88|1|\n",
    "|15647311|Hill|608|Spain|Female|41|1|83807.86|1|0|1|112542.58|0|\n",
    "\n"
   ]
  },
  {
   "cell_type": "markdown",
   "id": "a734ae43-5a9c-4577-9003-6c454c943dba",
   "metadata": {
    "nteract": {
     "transient": {
      "deleting": false
     }
    }
   },
   "source": [
    "#### Download dataset and upload to lakehouse\n",
    "\n",
    "> [Add a lakehouse](https://aka.ms/fabric/addlakehouse) to the notebook before you run it. Failure to do so will result in an error.\n",
    "\n",
    "This code downloads a publicly available version of the dataset, and then stores that data in a Fabric lakehouse:"
   ]
  },
  {
   "cell_type": "code",
   "execution_count": null,
   "id": "73d2f371-2e4b-4f66-97a8-f003a91f264d",
   "metadata": {
    "jupyter": {
     "outputs_hidden": false,
     "source_hidden": false
    },
    "nteract": {
     "transient": {
      "deleting": false
     }
    }
   },
   "outputs": [
    {
     "data": {
      "application/vnd.livy.statement-meta+json": {
       "execution_finish_time": "2023-09-15T20:27:48.0496121Z",
       "execution_start_time": "2023-09-15T20:27:46.9077229Z",
       "livy_statement_state": "available",
       "parent_msg_id": "348a4d58-70d8-47d9-8375-465b2d45d10b",
       "queued_time": "2023-09-15T20:19:54.9316802Z",
       "session_id": "3753b326-451b-4e6b-bf24-9f1372d6e5da",
       "session_start_time": null,
       "spark_jobs": {
        "jobs": [],
        "limit": 20,
        "numbers": {
         "FAILED": 0,
         "RUNNING": 0,
         "SUCCEEDED": 0,
         "UNKNOWN": 0
        },
        "rule": "ALL_DESC"
       },
       "spark_pool": null,
       "state": "finished",
       "statement_id": 4
      },
      "text/plain": [
       "StatementMeta(, 3753b326-451b-4e6b-bf24-9f1372d6e5da, 4, Finished, Available)"
      ]
     },
     "metadata": {},
     "output_type": "display_data"
    },
    {
     "name": "stdout",
     "output_type": "stream",
     "text": [
      "[1] \"Downloaded demo data files into lakehouse.\""
     ]
    }
   ],
   "source": [
    "library(fs)\n",
    "library(httr)\n",
    "\n",
    "remote_url <- \"https://sdkstorerta.blob.core.windows.net/churnblob\"\n",
    "file_list <- c(\"churn.csv\")\n",
    "download_path <- \"/lakehouse/default/Files/churn/raw\"\n",
    "\n",
    "if (!dir_exists(\"/lakehouse/default\")) {\n",
    "  stop(\"Default lakehouse not found, please add a lakehouse and restart the session.\")\n",
    "}\n",
    "dir_create(download_path, recurse= TRUE)\n",
    "for (fname in file_list) {\n",
    "  if (!file_exists(paste0(download_path, \"/\", fname))) {\n",
    "    r <- GET(paste0(remote_url, \"/\", fname), timeout(30))\n",
    "    writeBin(content(r, \"raw\"), paste0(download_path, \"/\", fname))\n",
    "  }\n",
    "}\n",
    "print(\"Downloaded demo data files into lakehouse.\")"
   ]
  },
  {
   "cell_type": "markdown",
   "id": "8b0f2aab-6349-404d-be3e-875e6dfb4bc9",
   "metadata": {
    "nteract": {
     "transient": {
      "deleting": false
     }
    }
   },
   "source": [
    "Start recording the time needed to run this notebook:"
   ]
  },
  {
   "cell_type": "code",
   "execution_count": null,
   "id": "36b463bf-29de-43a5-92dc-43d1098f765b",
   "metadata": {
    "jupyter": {
     "outputs_hidden": false,
     "source_hidden": false
    },
    "nteract": {
     "transient": {
      "deleting": false
     }
    }
   },
   "outputs": [
    {
     "data": {
      "application/vnd.livy.statement-meta+json": {
       "execution_finish_time": "2023-09-15T20:27:48.8621007Z",
       "execution_start_time": "2023-09-15T20:27:48.4082885Z",
       "livy_statement_state": "available",
       "parent_msg_id": "fbb3ded8-aa44-4678-8b57-b55f6d44754e",
       "queued_time": "2023-09-15T20:19:54.9322957Z",
       "session_id": "3753b326-451b-4e6b-bf24-9f1372d6e5da",
       "session_start_time": null,
       "spark_jobs": {
        "jobs": [],
        "limit": 20,
        "numbers": {
         "FAILED": 0,
         "RUNNING": 0,
         "SUCCEEDED": 0,
         "UNKNOWN": 0
        },
        "rule": "ALL_DESC"
       },
       "spark_pool": null,
       "state": "finished",
       "statement_id": 5
      },
      "text/plain": [
       "StatementMeta(, 3753b326-451b-4e6b-bf24-9f1372d6e5da, 5, Finished, Available)"
      ]
     },
     "metadata": {},
     "output_type": "display_data"
    }
   ],
   "source": [
    "# Record the notebook running time\n",
    "ts <- as.numeric(Sys.time())"
   ]
  },
  {
   "cell_type": "markdown",
   "id": "82aa20da-ca5e-4585-9f22-2ca95a49c21f",
   "metadata": {
    "nteract": {
     "transient": {
      "deleting": false
     }
    }
   },
   "source": [
    "### Read raw date data from the lakehouse\n",
    "\n",
    "This code reads raw data from the **Files** section of the lakehouse:"
   ]
  },
  {
   "cell_type": "code",
   "execution_count": null,
   "id": "a909a461-ee4d-4e85-8b51-4db3e63918ec",
   "metadata": {
    "jupyter": {
     "outputs_hidden": false,
     "source_hidden": false
    },
    "nteract": {
     "transient": {
      "deleting": false
     }
    }
   },
   "outputs": [
    {
     "data": {
      "application/vnd.livy.statement-meta+json": {
       "execution_finish_time": "2023-09-15T20:27:51.5501938Z",
       "execution_start_time": "2023-09-15T20:27:49.2093309Z",
       "livy_statement_state": "available",
       "parent_msg_id": "bc33283f-50a3-4695-8407-d4bc171372aa",
       "queued_time": "2023-09-15T20:19:54.9328144Z",
       "session_id": "3753b326-451b-4e6b-bf24-9f1372d6e5da",
       "session_start_time": null,
       "spark_jobs": {
        "jobs": [],
        "limit": 20,
        "numbers": {
         "FAILED": 0,
         "RUNNING": 0,
         "SUCCEEDED": 0,
         "UNKNOWN": 0
        },
        "rule": "ALL_DESC"
       },
       "spark_pool": null,
       "state": "finished",
       "statement_id": 6
      },
      "text/plain": [
       "StatementMeta(, 3753b326-451b-4e6b-bf24-9f1372d6e5da, 6, Finished, Available)"
      ]
     },
     "metadata": {},
     "output_type": "display_data"
    },
    {
     "name": "stdout",
     "output_type": "stream",
     "text": [
      "Rows: 10000 Columns: 14\n",
      "── Column specification ────────────────────────────────────────────────────────\n",
      "Delimiter: \",\"\n",
      "chr  (3): Surname, Geography, Gender\n",
      "dbl (11): RowNumber, CustomerId, CreditScore, Age, Tenure, Balance, NumOfPro...\n",
      "\n",
      "ℹ Use `spec()` to retrieve the full column specification for this data.\n",
      "ℹ Specify the column types or set `show_col_types = FALSE` to quiet this message."
     ]
    }
   ],
   "source": [
    "fname <- \"churn.csv\"\n",
    "download_path <- \"/lakehouse/default/Files/churn/raw\"\n",
    "rdf <- readr::read_csv(paste0(download_path, \"/\", fname))"
   ]
  },
  {
   "cell_type": "markdown",
   "id": "998f0e13-4d11-4e81-a657-0021bf08526e",
   "metadata": {
    "nteract": {
     "transient": {
      "deleting": false
     }
    }
   },
   "source": [
    "## Step 3: Perform exploratory data analysis"
   ]
  },
  {
   "cell_type": "markdown",
   "id": "27397143-89e7-40ab-8a72-5e603449f3e9",
   "metadata": {
    "nteract": {
     "transient": {
      "deleting": false
     }
    }
   },
   "source": [
    "### Display raw data\n",
    "\n",
    "Use the `head()` or `str()` commands to perform a preliminary exploration of the raw data:  "
   ]
  },
  {
   "cell_type": "code",
   "execution_count": null,
   "id": "7e591d69-be93-4fac-873b-9063ed8d6f4d",
   "metadata": {
    "jupyter": {
     "outputs_hidden": false,
     "source_hidden": false
    },
    "nteract": {
     "transient": {
      "deleting": false
     }
    }
   },
   "outputs": [
    {
     "data": {
      "application/vnd.livy.statement-meta+json": {
       "execution_finish_time": "2023-09-15T20:27:52.3703149Z",
       "execution_start_time": "2023-09-15T20:27:51.9168407Z",
       "livy_statement_state": "available",
       "parent_msg_id": "34865994-0a11-436c-a2b1-b3a8a06f19e9",
       "queued_time": "2023-09-15T20:19:54.9407915Z",
       "session_id": "3753b326-451b-4e6b-bf24-9f1372d6e5da",
       "session_start_time": null,
       "spark_jobs": {
        "jobs": [],
        "limit": 20,
        "numbers": {
         "FAILED": 0,
         "RUNNING": 0,
         "SUCCEEDED": 0,
         "UNKNOWN": 0
        },
        "rule": "ALL_DESC"
       },
       "spark_pool": null,
       "state": "finished",
       "statement_id": 7
      },
      "text/plain": [
       "StatementMeta(, 3753b326-451b-4e6b-bf24-9f1372d6e5da, 7, Finished, Available)"
      ]
     },
     "metadata": {},
     "output_type": "display_data"
    },
    {
     "name": "stdout",
     "output_type": "stream",
     "text": [
      "# A tibble: 6 × 14\n",
      "  RowNumber Custom…¹ Surname Credi…² Geogr…³ Gender   Age Tenure Balance NumOf…⁴\n",
      "      <dbl>    <dbl> <chr>     <dbl> <chr>   <chr>  <dbl>  <dbl>   <dbl>   <dbl>\n",
      "1         1 15634602 Hargra…     619 France  Female    42      2      0        1\n",
      "2         2 15647311 Hill        608 Spain   Female    41      1  83808.       1\n",
      "3         3 15619304 Onio        502 France  Female    42      8 159661.       3\n",
      "4         4 15701354 Boni        699 France  Female    39      1      0        2\n",
      "5         5 15737888 Mitche…     850 Spain   Female    43      2 125511.       1\n",
      "6         6 15574012 Chu         645 Spain   Male      44      8 113756.       2\n",
      "# … with 4 more variables: HasCrCard <dbl>, IsActiveMember <dbl>,\n",
      "#   EstimatedSalary <dbl>, Exited <dbl>, and abbreviated variable names\n",
      "#   ¹​CustomerId, ²​CreditScore, ³​Geography, ⁴​NumOfProducts"
     ]
    }
   ],
   "source": [
    "head(rdf)"
   ]
  },
  {
   "cell_type": "markdown",
   "id": "d7d61baa-5d51-4df2-93ac-9f34c64e038f",
   "metadata": {
    "nteract": {
     "transient": {
      "deleting": false
     }
    }
   },
   "source": [
    "### Perform initial data cleaning\n",
    "\n",
    "You must convert the R DataFrame to a Spark DataFrame. These operations on the Spark DataFrame clean the raw dataset:\n",
    "\n",
    "- Drop the rows that have missing data across all columns.\n",
    "- Drop the duplicate rows across the columns `RowNumber` and `CustomerId`.\n",
    "- Drop the columns `RowNumber`, `CustomerId`, and `Surname`."
   ]
  },
  {
   "cell_type": "code",
   "execution_count": null,
   "id": "f3311f8c-8f4b-47a3-b8a4-568106015506",
   "metadata": {
    "jupyter": {
     "outputs_hidden": false,
     "source_hidden": false
    },
    "nteract": {
     "transient": {
      "deleting": false
     }
    }
   },
   "outputs": [
    {
     "data": {
      "application/vnd.livy.statement-meta+json": {
       "execution_finish_time": "2023-09-15T20:27:53.1880769Z",
       "execution_start_time": "2023-09-15T20:27:52.7264969Z",
       "livy_statement_state": "available",
       "parent_msg_id": "13328b5c-bbb2-4a42-aa49-0bcdedef56df",
       "queued_time": "2023-09-15T20:19:54.9414268Z",
       "session_id": "3753b326-451b-4e6b-bf24-9f1372d6e5da",
       "session_start_time": null,
       "spark_jobs": {
        "jobs": [],
        "limit": 20,
        "numbers": {
         "FAILED": 0,
         "RUNNING": 0,
         "SUCCEEDED": 0,
         "UNKNOWN": 0
        },
        "rule": "ALL_DESC"
       },
       "spark_pool": null,
       "state": "finished",
       "statement_id": 8
      },
      "text/plain": [
       "StatementMeta(, 3753b326-451b-4e6b-bf24-9f1372d6e5da, 8, Finished, Available)"
      ]
     },
     "metadata": {},
     "output_type": "display_data"
    }
   ],
   "source": [
    "# Transform the R DataFrame to a Spark DataFrame\n",
    "df <- as.DataFrame(rdf)\n",
    "\n",
    "clean_data <- function(df) {\n",
    "  sdf <- df %>%\n",
    "    # Drop rows that have missing data across all columns\n",
    "    na.omit() %>%\n",
    "    # Drop duplicate rows in columns: 'RowNumber', 'CustomerId'\n",
    "    dropDuplicates(c(\"RowNumber\", \"CustomerId\")) %>%\n",
    "    # Drop columns: 'RowNumber', 'CustomerId', 'Surname'\n",
    "    SparkR::select(\"CreditScore\", \"Geography\", \"Gender\", \"Age\", \"Tenure\", \"Balance\", \"NumOfProducts\", \"HasCrCard\", \"IsActiveMember\", \"EstimatedSalary\", \"Exited\")\n",
    "  return(sdf)\n",
    "}\n",
    "\n",
    "df_clean <- clean_data(df)"
   ]
  },
  {
   "cell_type": "markdown",
   "id": "614623de-0753-444e-b0d5-e70b06fff703",
   "metadata": {
    "nteract": {
     "transient": {
      "deleting": false
     }
    }
   },
   "source": [
    "Explore the Spark DataFrame with the `display` command:"
   ]
  },
  {
   "cell_type": "code",
   "execution_count": null,
   "id": "53c510ec-b8d1-4756-bf23-ee844f304904",
   "metadata": {
    "jupyter": {
     "outputs_hidden": false,
     "source_hidden": false
    },
    "nteract": {
     "transient": {
      "deleting": false
     }
    }
   },
   "outputs": [
    {
     "data": {
      "application/vnd.livy.statement-meta+json": {
       "execution_finish_time": "2023-09-15T20:28:05.1228724Z",
       "execution_start_time": "2023-09-15T20:27:53.5339427Z",
       "livy_statement_state": "available",
       "parent_msg_id": "fda6f508-218a-438b-bbe6-a471692ac03f",
       "queued_time": "2023-09-15T20:19:54.9420729Z",
       "session_id": "3753b326-451b-4e6b-bf24-9f1372d6e5da",
       "session_start_time": null,
       "spark_jobs": {
        "jobs": [
         {
          "completionTime": "2023-09-15T20:28:02.779GMT",
          "dataRead": 693492,
          "dataWritten": 0,
          "description": "Job group for statement 9:\ndisplay(df_clean)",
          "displayName": "getRowsInJsonString at Display.scala:452",
          "jobGroup": "9",
          "jobId": 9,
          "killedTasksSummary": {},
          "name": "getRowsInJsonString at Display.scala:452",
          "numActiveStages": 0,
          "numActiveTasks": 0,
          "numCompletedIndices": 1,
          "numCompletedStages": 1,
          "numCompletedTasks": 1,
          "numFailedStages": 0,
          "numFailedTasks": 0,
          "numKilledTasks": 0,
          "numSkippedStages": 1,
          "numSkippedTasks": 1,
          "numTasks": 2,
          "rowCount": 10000,
          "stageIds": [
           13,
           14
          ],
          "status": "SUCCEEDED",
          "submissionTime": "2023-09-15T20:28:02.570GMT",
          "usageDescription": ""
         },
         {
          "completionTime": "2023-09-15T20:28:02.506GMT",
          "dataRead": 0,
          "dataWritten": 693492,
          "description": "Job group for statement 9:\ndisplay(df_clean)",
          "displayName": "getRowsInJsonString at Display.scala:452",
          "jobGroup": "9",
          "jobId": 8,
          "killedTasksSummary": {},
          "name": "getRowsInJsonString at Display.scala:452",
          "numActiveStages": 0,
          "numActiveTasks": 0,
          "numCompletedIndices": 1,
          "numCompletedStages": 1,
          "numCompletedTasks": 1,
          "numFailedStages": 0,
          "numFailedTasks": 0,
          "numKilledTasks": 0,
          "numSkippedStages": 0,
          "numSkippedTasks": 0,
          "numTasks": 1,
          "rowCount": 10000,
          "stageIds": [
           12
          ],
          "status": "SUCCEEDED",
          "submissionTime": "2023-09-15T20:27:56.559GMT",
          "usageDescription": ""
         }
        ],
        "limit": 20,
        "numbers": {
         "FAILED": 0,
         "RUNNING": 0,
         "SUCCEEDED": 2,
         "UNKNOWN": 0
        },
        "rule": "ALL_DESC"
       },
       "spark_pool": null,
       "state": "finished",
       "statement_id": 9
      },
      "text/plain": [
       "StatementMeta(, 3753b326-451b-4e6b-bf24-9f1372d6e5da, 9, Finished, Available)"
      ]
     },
     "metadata": {},
     "output_type": "display_data"
    },
    {
     "data": {
      "application/vnd.synapse.widget-view+json": {
       "widget_id": "a7262038-863d-4a52-aeb6-a8a34343e300",
       "widget_type": "Synapse.DataFrame"
      },
      "text/plain": [
       "SynapseWidget(Synapse.DataFrame, a7262038-863d-4a52-aeb6-a8a34343e300)"
      ]
     },
     "metadata": {},
     "output_type": "display_data"
    }
   ],
   "source": [
    "display(df_clean)"
   ]
  },
  {
   "cell_type": "markdown",
   "id": "0eb37710-4b16-4483-b516-92a085280daa",
   "metadata": {
    "nteract": {
     "transient": {
      "deleting": false
     }
    }
   },
   "source": [
    "This code determines the categorical, numerical, and target attributes:"
   ]
  },
  {
   "cell_type": "code",
   "execution_count": null,
   "id": "1a552a5b-2504-489e-a162-72cd0d3d6dab",
   "metadata": {
    "jupyter": {
     "outputs_hidden": false,
     "source_hidden": false
    },
    "nteract": {
     "transient": {
      "deleting": false
     }
    }
   },
   "outputs": [
    {
     "data": {
      "application/vnd.livy.statement-meta+json": {
       "execution_finish_time": "2023-09-15T20:28:11.3482627Z",
       "execution_start_time": "2023-09-15T20:28:05.5935603Z",
       "livy_statement_state": "available",
       "parent_msg_id": "50c1de10-2791-4c8f-88be-223466d6f282",
       "queued_time": "2023-09-15T20:19:54.9426265Z",
       "session_id": "3753b326-451b-4e6b-bf24-9f1372d6e5da",
       "session_start_time": null,
       "spark_jobs": {
        "jobs": [
         {
          "completionTime": "2023-09-15T20:28:09.936GMT",
          "dataRead": 101,
          "dataWritten": 0,
          "description": "Job group for statement 10:\n# Determine the dependent (target) attribute\ndependent_variable_name <- \"Exited\"\nprint(dependent_variable_name)\n\n# Get the distinct values for each column\nexprs = lapply(names(df_clean), function(x) alias(countDistinct(df_clean[[x]]), x))\n# Use do.call to splice the aggregation expressions to aggregate function\ndistinct_value_number <- SparkR::collect(do.call(agg, c(x = df_clean, exprs)))\n\n# Determine the categorical attributes\ncategorical_variables <- names(df_clean)[sapply(names(df_clean), function(col) col %in% c(\"0\") || distinct_value_number[[col]] <= 5 && !(col %in% c(dependent_variable_name)))]\nprint(categorical_variables)\n\n# Determine the numerical attributes\nnumeric_variables <- names(df_clean)[sapply(names(df_clean), function(col) coltypes(SparkR::select(df_clean, col)) == \"numeric\" && distinct_value_number[[col]] > 5)]\nprint(numeric_variables)",
          "displayName": "dfToCols at NativeMethodAccessorImpl.java:0",
          "jobGroup": "10",
          "jobId": 13,
          "killedTasksSummary": {},
          "name": "dfToCols at NativeMethodAccessorImpl.java:0",
          "numActiveStages": 0,
          "numActiveTasks": 0,
          "numCompletedIndices": 1,
          "numCompletedStages": 1,
          "numCompletedTasks": 1,
          "numFailedStages": 0,
          "numFailedTasks": 0,
          "numKilledTasks": 0,
          "numSkippedStages": 3,
          "numSkippedTasks": 3,
          "numTasks": 4,
          "rowCount": 1,
          "stageIds": [
           24,
           21,
           22,
           23
          ],
          "status": "SUCCEEDED",
          "submissionTime": "2023-09-15T20:28:09.908GMT",
          "usageDescription": ""
         },
         {
          "completionTime": "2023-09-15T20:28:09.825GMT",
          "dataRead": 277080,
          "dataWritten": 101,
          "description": "Job group for statement 10:\n# Determine the dependent (target) attribute\ndependent_variable_name <- \"Exited\"\nprint(dependent_variable_name)\n\n# Get the distinct values for each column\nexprs = lapply(names(df_clean), function(x) alias(countDistinct(df_clean[[x]]), x))\n# Use do.call to splice the aggregation expressions to aggregate function\ndistinct_value_number <- SparkR::collect(do.call(agg, c(x = df_clean, exprs)))\n\n# Determine the categorical attributes\ncategorical_variables <- names(df_clean)[sapply(names(df_clean), function(col) col %in% c(\"0\") || distinct_value_number[[col]] <= 5 && !(col %in% c(dependent_variable_name)))]\nprint(categorical_variables)\n\n# Determine the numerical attributes\nnumeric_variables <- names(df_clean)[sapply(names(df_clean), function(col) coltypes(SparkR::select(df_clean, col)) == \"numeric\" && distinct_value_number[[col]] > 5)]\nprint(numeric_variables)",
          "displayName": "dfToCols at NativeMethodAccessorImpl.java:0",
          "jobGroup": "10",
          "jobId": 12,
          "killedTasksSummary": {},
          "name": "dfToCols at NativeMethodAccessorImpl.java:0",
          "numActiveStages": 0,
          "numActiveTasks": 0,
          "numCompletedIndices": 1,
          "numCompletedStages": 1,
          "numCompletedTasks": 1,
          "numFailedStages": 0,
          "numFailedTasks": 0,
          "numKilledTasks": 0,
          "numSkippedStages": 2,
          "numSkippedTasks": 2,
          "numTasks": 3,
          "rowCount": 16938,
          "stageIds": [
           19,
           20,
           18
          ],
          "status": "SUCCEEDED",
          "submissionTime": "2023-09-15T20:28:09.694GMT",
          "usageDescription": ""
         },
         {
          "completionTime": "2023-09-15T20:28:09.606GMT",
          "dataRead": 693492,
          "dataWritten": 277080,
          "description": "Job group for statement 10:\n# Determine the dependent (target) attribute\ndependent_variable_name <- \"Exited\"\nprint(dependent_variable_name)\n\n# Get the distinct values for each column\nexprs = lapply(names(df_clean), function(x) alias(countDistinct(df_clean[[x]]), x))\n# Use do.call to splice the aggregation expressions to aggregate function\ndistinct_value_number <- SparkR::collect(do.call(agg, c(x = df_clean, exprs)))\n\n# Determine the categorical attributes\ncategorical_variables <- names(df_clean)[sapply(names(df_clean), function(col) col %in% c(\"0\") || distinct_value_number[[col]] <= 5 && !(col %in% c(dependent_variable_name)))]\nprint(categorical_variables)\n\n# Determine the numerical attributes\nnumeric_variables <- names(df_clean)[sapply(names(df_clean), function(col) coltypes(SparkR::select(df_clean, col)) == \"numeric\" && distinct_value_number[[col]] > 5)]\nprint(numeric_variables)",
          "displayName": "dfToCols at NativeMethodAccessorImpl.java:0",
          "jobGroup": "10",
          "jobId": 11,
          "killedTasksSummary": {},
          "name": "dfToCols at NativeMethodAccessorImpl.java:0",
          "numActiveStages": 0,
          "numActiveTasks": 0,
          "numCompletedIndices": 1,
          "numCompletedStages": 1,
          "numCompletedTasks": 1,
          "numFailedStages": 0,
          "numFailedTasks": 0,
          "numKilledTasks": 0,
          "numSkippedStages": 1,
          "numSkippedTasks": 1,
          "numTasks": 2,
          "rowCount": 26937,
          "stageIds": [
           16,
           17
          ],
          "status": "SUCCEEDED",
          "submissionTime": "2023-09-15T20:28:09.262GMT",
          "usageDescription": ""
         },
         {
          "completionTime": "2023-09-15T20:28:09.022GMT",
          "dataRead": 0,
          "dataWritten": 693492,
          "description": "Job group for statement 10:\n# Determine the dependent (target) attribute\ndependent_variable_name <- \"Exited\"\nprint(dependent_variable_name)\n\n# Get the distinct values for each column\nexprs = lapply(names(df_clean), function(x) alias(countDistinct(df_clean[[x]]), x))\n# Use do.call to splice the aggregation expressions to aggregate function\ndistinct_value_number <- SparkR::collect(do.call(agg, c(x = df_clean, exprs)))\n\n# Determine the categorical attributes\ncategorical_variables <- names(df_clean)[sapply(names(df_clean), function(col) col %in% c(\"0\") || distinct_value_number[[col]] <= 5 && !(col %in% c(dependent_variable_name)))]\nprint(categorical_variables)\n\n# Determine the numerical attributes\nnumeric_variables <- names(df_clean)[sapply(names(df_clean), function(col) coltypes(SparkR::select(df_clean, col)) == \"numeric\" && distinct_value_number[[col]] > 5)]\nprint(numeric_variables)",
          "displayName": "dfToCols at NativeMethodAccessorImpl.java:0",
          "jobGroup": "10",
          "jobId": 10,
          "killedTasksSummary": {},
          "name": "dfToCols at NativeMethodAccessorImpl.java:0",
          "numActiveStages": 0,
          "numActiveTasks": 0,
          "numCompletedIndices": 1,
          "numCompletedStages": 1,
          "numCompletedTasks": 1,
          "numFailedStages": 0,
          "numFailedTasks": 0,
          "numKilledTasks": 0,
          "numSkippedStages": 0,
          "numSkippedTasks": 0,
          "numTasks": 1,
          "rowCount": 10000,
          "stageIds": [
           15
          ],
          "status": "SUCCEEDED",
          "submissionTime": "2023-09-15T20:28:05.977GMT",
          "usageDescription": ""
         }
        ],
        "limit": 20,
        "numbers": {
         "FAILED": 0,
         "RUNNING": 0,
         "SUCCEEDED": 4,
         "UNKNOWN": 0
        },
        "rule": "ALL_DESC"
       },
       "spark_pool": null,
       "state": "finished",
       "statement_id": 10
      },
      "text/plain": [
       "StatementMeta(, 3753b326-451b-4e6b-bf24-9f1372d6e5da, 10, Finished, Available)"
      ]
     },
     "metadata": {},
     "output_type": "display_data"
    },
    {
     "name": "stdout",
     "output_type": "stream",
     "text": [
      "[1] \"Exited\"\n",
      "[1] \"Geography\"      \"Gender\"         \"NumOfProducts\"  \"HasCrCard\"     \n",
      "[5] \"IsActiveMember\"\n",
      "[1] \"CreditScore\"     \"Age\"             \"Tenure\"          \"Balance\"        \n",
      "[5] \"EstimatedSalary\""
     ]
    }
   ],
   "source": [
    "# Determine the dependent (target) attribute\n",
    "dependent_variable_name <- \"Exited\"\n",
    "print(dependent_variable_name)\n",
    "\n",
    "# Obtain the distinct values for each column\n",
    "exprs = lapply(names(df_clean), function(x) alias(countDistinct(df_clean[[x]]), x))\n",
    "# Use do.call to splice the aggregation expressions to aggregate function\n",
    "distinct_value_number <- SparkR::collect(do.call(agg, c(x = df_clean, exprs)))\n",
    "\n",
    "# Determine the categorical attributes\n",
    "categorical_variables <- names(df_clean)[sapply(names(df_clean), function(col) col %in% c(\"0\") || distinct_value_number[[col]] <= 5 && !(col %in% c(dependent_variable_name)))]\n",
    "print(categorical_variables)\n",
    "\n",
    "# Determine the numerical attributes\n",
    "numeric_variables <- names(df_clean)[sapply(names(df_clean), function(col) coltypes(SparkR::select(df_clean, col)) == \"numeric\" && distinct_value_number[[col]] > 5)]\n",
    "print(numeric_variables)"
   ]
  },
  {
   "cell_type": "markdown",
   "id": "fc759d53-bb16-4887-915a-acd88218e188",
   "metadata": {
    "nteract": {
     "transient": {
      "deleting": false
     }
    }
   },
   "source": [
    "For easier processing and visualization, convert the cleaned Spark DataFrame to an R DataFrame:"
   ]
  },
  {
   "cell_type": "code",
   "execution_count": null,
   "id": "e82ea117-97c8-4f67-a4f3-4a34151ce8ad",
   "metadata": {
    "jupyter": {
     "outputs_hidden": false,
     "source_hidden": false
    },
    "nteract": {
     "transient": {
      "deleting": false
     }
    }
   },
   "outputs": [
    {
     "data": {
      "application/vnd.livy.statement-meta+json": {
       "execution_finish_time": "2023-09-15T20:28:17.4512672Z",
       "execution_start_time": "2023-09-15T20:28:11.6964092Z",
       "livy_statement_state": "available",
       "parent_msg_id": "3348f3f3-89ed-4ca4-a0ee-bed9040668bd",
       "queued_time": "2023-09-15T20:19:54.9431549Z",
       "session_id": "3753b326-451b-4e6b-bf24-9f1372d6e5da",
       "session_start_time": null,
       "spark_jobs": {
        "jobs": [
         {
          "completionTime": "2023-09-15T20:28:14.990GMT",
          "dataRead": 693492,
          "dataWritten": 0,
          "description": "Job group for statement 11:\n# Transfrom spark DataFrame to R DataFrame\nrdf_clean <- SparkR::collect(df_clean)",
          "displayName": "dfToCols at NativeMethodAccessorImpl.java:0",
          "jobGroup": "11",
          "jobId": 15,
          "killedTasksSummary": {},
          "name": "dfToCols at NativeMethodAccessorImpl.java:0",
          "numActiveStages": 0,
          "numActiveTasks": 0,
          "numCompletedIndices": 1,
          "numCompletedStages": 1,
          "numCompletedTasks": 1,
          "numFailedStages": 0,
          "numFailedTasks": 0,
          "numKilledTasks": 0,
          "numSkippedStages": 1,
          "numSkippedTasks": 1,
          "numTasks": 2,
          "rowCount": 10000,
          "stageIds": [
           27,
           26
          ],
          "status": "SUCCEEDED",
          "submissionTime": "2023-09-15T20:28:14.927GMT",
          "usageDescription": ""
         },
         {
          "completionTime": "2023-09-15T20:28:14.906GMT",
          "dataRead": 0,
          "dataWritten": 693492,
          "description": "Job group for statement 11:\n# Transfrom spark DataFrame to R DataFrame\nrdf_clean <- SparkR::collect(df_clean)",
          "displayName": "dfToCols at NativeMethodAccessorImpl.java:0",
          "jobGroup": "11",
          "jobId": 14,
          "killedTasksSummary": {},
          "name": "dfToCols at NativeMethodAccessorImpl.java:0",
          "numActiveStages": 0,
          "numActiveTasks": 0,
          "numCompletedIndices": 1,
          "numCompletedStages": 1,
          "numCompletedTasks": 1,
          "numFailedStages": 0,
          "numFailedTasks": 0,
          "numKilledTasks": 0,
          "numSkippedStages": 0,
          "numSkippedTasks": 0,
          "numTasks": 1,
          "rowCount": 10000,
          "stageIds": [
           25
          ],
          "status": "SUCCEEDED",
          "submissionTime": "2023-09-15T20:28:11.972GMT",
          "usageDescription": ""
         }
        ],
        "limit": 20,
        "numbers": {
         "FAILED": 0,
         "RUNNING": 0,
         "SUCCEEDED": 2,
         "UNKNOWN": 0
        },
        "rule": "ALL_DESC"
       },
       "spark_pool": null,
       "state": "finished",
       "statement_id": 11
      },
      "text/plain": [
       "StatementMeta(, 3753b326-451b-4e6b-bf24-9f1372d6e5da, 11, Finished, Available)"
      ]
     },
     "metadata": {},
     "output_type": "display_data"
    }
   ],
   "source": [
    "# Transform the Spark DataFrame to an R DataFrame\n",
    "rdf_clean <- SparkR::collect(df_clean)"
   ]
  },
  {
   "cell_type": "markdown",
   "id": "c39fceb0-e058-453e-b57d-d189682e95f6",
   "metadata": {
    "nteract": {
     "transient": {
      "deleting": false
     }
    }
   },
   "source": [
    "### Show the five-number summary \n",
    "\n",
    "Use box plots to show the five-number summary (minimum score, first quartile, median, third quartile, maximum score) for the numerical attributes:"
   ]
  },
  {
   "cell_type": "code",
   "execution_count": null,
   "id": "2ca8d329-ca68-461f-b660-7bff53cc79be",
   "metadata": {
    "jupyter": {
     "outputs_hidden": false,
     "source_hidden": false
    },
    "nteract": {
     "transient": {
      "deleting": false
     }
    }
   },
   "outputs": [
    {
     "data": {
      "application/vnd.livy.statement-meta+json": {
       "execution_finish_time": "2023-09-15T20:28:19.8601648Z",
       "execution_start_time": "2023-09-15T20:28:17.8713862Z",
       "livy_statement_state": "available",
       "parent_msg_id": "8602abf4-3773-4ffd-8d35-5c8fe977f23b",
       "queued_time": "2023-09-15T20:19:54.9495875Z",
       "session_id": "3753b326-451b-4e6b-bf24-9f1372d6e5da",
       "session_start_time": null,
       "spark_jobs": {
        "jobs": [],
        "limit": 20,
        "numbers": {
         "FAILED": 0,
         "RUNNING": 0,
         "SUCCEEDED": 0,
         "UNKNOWN": 0
        },
        "rule": "ALL_DESC"
       },
       "spark_pool": null,
       "state": "finished",
       "statement_id": 12
      },
      "text/plain": [
       "StatementMeta(, 3753b326-451b-4e6b-bf24-9f1372d6e5da, 12, Finished, Available)"
      ]
     },
     "metadata": {},
     "output_type": "display_data"
    },
    {
     "data": {
      "image/png": "[encoded data removed]",
      "text/plain": []
     },
     "execution_count": null,
     "metadata": {},
     "output_type": "execute_result"
    }
   ],
   "source": [
    "# Set the overall layout of the graphics window\n",
    "par(mfrow = c(2, 1), \n",
    "    mar = c(2, 1, 2, 1)) # Margin size\n",
    "\n",
    "for(item in numeric_variables[1:2]){\n",
    "    # Create a box plot\n",
    "    boxplot(rdf_clean[, item], \n",
    "            main = item, \n",
    "            col = \"darkgreen\", \n",
    "            cex.main = 1.5, # Title size\n",
    "            cex.lab = 1.3, # Axis label size\n",
    "            cex.axis = 1.2,\n",
    "            horizontal = TRUE) # Axis size\n",
    "}"
   ]
  },
  {
   "cell_type": "code",
   "execution_count": null,
   "id": "410e7e64-f466-4947-b0e2-8c9a9bcd5c2b",
   "metadata": {
    "jupyter": {
     "outputs_hidden": false,
     "source_hidden": false
    },
    "nteract": {
     "transient": {
      "deleting": false
     }
    }
   },
   "outputs": [
    {
     "data": {
      "application/vnd.livy.statement-meta+json": {
       "execution_finish_time": "2023-09-15T20:28:20.6937826Z",
       "execution_start_time": "2023-09-15T20:28:20.2227276Z",
       "livy_statement_state": "available",
       "parent_msg_id": "97da7259-5fbf-4898-bf38-95bd73499bfb",
       "queued_time": "2023-09-15T20:19:54.9502619Z",
       "session_id": "3753b326-451b-4e6b-bf24-9f1372d6e5da",
       "session_start_time": null,
       "spark_jobs": {
        "jobs": [],
        "limit": 20,
        "numbers": {
         "FAILED": 0,
         "RUNNING": 0,
         "SUCCEEDED": 0,
         "UNKNOWN": 0
        },
        "rule": "ALL_DESC"
       },
       "spark_pool": null,
       "state": "finished",
       "statement_id": 13
      },
      "text/plain": [
       "StatementMeta(, 3753b326-451b-4e6b-bf24-9f1372d6e5da, 13, Finished, Available)"
      ]
     },
     "metadata": {},
     "output_type": "display_data"
    },
    {
     "data": {
      "image/png": "[encoded data removed]",
      "text/plain": []
     },
     "execution_count": null,
     "metadata": {},
     "output_type": "execute_result"
    }
   ],
   "source": [
    "# Set the overall layout of the graphics window\n",
    "par(mfrow = c(3, 1), \n",
    "    mar = c(2, 1, 2, 1)) # Margin size\n",
    "\n",
    "for(item in numeric_variables[3:5]){\n",
    "    # Create box plot\n",
    "    boxplot(rdf_clean[, item], \n",
    "            main = item, \n",
    "            col = \"darkgreen\", \n",
    "            cex.main = 1.5, # Title size\n",
    "            cex.lab = 1.3, # Axis label size\n",
    "            cex.axis = 1.2,\n",
    "            horizontal = TRUE) # Axis size\n",
    "}"
   ]
  },
  {
   "cell_type": "markdown",
   "id": "7212651d-e654-40bf-9d82-4b3ddca01f91",
   "metadata": {
    "nteract": {
     "transient": {
      "deleting": false
     }
    }
   },
   "source": [
    "### Show the distribution of exited and non-exited customers\n",
    "\n",
    "Show the distribution of exited versus non-exited customers across the categorical attributes:"
   ]
  },
  {
   "cell_type": "code",
   "execution_count": null,
   "id": "beca985c-f818-4340-8ce4-397f8b0eee9e",
   "metadata": {
    "jupyter": {
     "outputs_hidden": false,
     "source_hidden": false
    },
    "nteract": {
     "transient": {
      "deleting": false
     }
    }
   },
   "outputs": [
    {
     "data": {
      "application/vnd.livy.statement-meta+json": {
       "execution_finish_time": "2023-09-15T20:28:21.5602505Z",
       "execution_start_time": "2023-09-15T20:28:21.0996467Z",
       "livy_statement_state": "available",
       "parent_msg_id": "6c3dcb68-d394-453a-94aa-b5266e89e4c4",
       "queued_time": "2023-09-15T20:19:54.9509617Z",
       "session_id": "3753b326-451b-4e6b-bf24-9f1372d6e5da",
       "session_start_time": null,
       "spark_jobs": {
        "jobs": [],
        "limit": 20,
        "numbers": {
         "FAILED": 0,
         "RUNNING": 0,
         "SUCCEEDED": 0,
         "UNKNOWN": 0
        },
        "rule": "ALL_DESC"
       },
       "spark_pool": null,
       "state": "finished",
       "statement_id": 14
      },
      "text/plain": [
       "StatementMeta(, 3753b326-451b-4e6b-bf24-9f1372d6e5da, 14, Finished, Available)"
      ]
     },
     "metadata": {},
     "output_type": "display_data"
    },
    {
     "data": {
      "image/png": "[encoded data removed]",
      "text/plain": []
     },
     "execution_count": null,
     "metadata": {},
     "output_type": "execute_result"
    }
   ],
   "source": [
    "attr_list <- c('Geography', 'Gender', 'HasCrCard', 'IsActiveMember', 'NumOfProducts', 'Tenure')\n",
    "par(mfrow = c(2, 1), \n",
    "    mar = c(2, 1, 2, 1)) # Margin size\n",
    "for (item in attr_list[1:2]) {\n",
    "    counts <- table(rdf_clean$Exited, rdf_clean[,item])\n",
    "    barplot(counts, main=item, col=c(\"darkblue\",\"yellow\"), \n",
    "            cex.main = 1.5, # Title size\n",
    "            cex.axis = 1.2,\n",
    "            legend = rownames(counts), beside=TRUE)\n",
    "}\n"
   ]
  },
  {
   "cell_type": "code",
   "execution_count": null,
   "id": "35b4c776-b486-4eb6-bd9d-57b9720457bc",
   "metadata": {
    "jupyter": {
     "outputs_hidden": false,
     "source_hidden": false
    },
    "nteract": {
     "transient": {
      "deleting": false
     }
    }
   },
   "outputs": [
    {
     "data": {
      "application/vnd.livy.statement-meta+json": {
       "execution_finish_time": "2023-09-15T20:28:22.4025423Z",
       "execution_start_time": "2023-09-15T20:28:21.9378701Z",
       "livy_statement_state": "available",
       "parent_msg_id": "cabd39f4-17e5-43aa-a295-f9350983c32a",
       "queued_time": "2023-09-15T20:19:54.9516098Z",
       "session_id": "3753b326-451b-4e6b-bf24-9f1372d6e5da",
       "session_start_time": null,
       "spark_jobs": {
        "jobs": [],
        "limit": 20,
        "numbers": {
         "FAILED": 0,
         "RUNNING": 0,
         "SUCCEEDED": 0,
         "UNKNOWN": 0
        },
        "rule": "ALL_DESC"
       },
       "spark_pool": null,
       "state": "finished",
       "statement_id": 15
      },
      "text/plain": [
       "StatementMeta(, 3753b326-451b-4e6b-bf24-9f1372d6e5da, 15, Finished, Available)"
      ]
     },
     "metadata": {},
     "output_type": "display_data"
    },
    {
     "data": {
      "image/png": "[encoded data removed]",
      "text/plain": []
     },
     "execution_count": null,
     "metadata": {},
     "output_type": "execute_result"
    }
   ],
   "source": [
    "par(mfrow = c(2, 1), \n",
    "    mar = c(2, 2, 2, 1)) # Margin size\n",
    "for (item in attr_list[3:4]) {\n",
    "    counts <- table(rdf_clean$Exited, rdf_clean[,item])\n",
    "    barplot(counts, main=item, col=c(\"darkblue\",\"yellow\"), \n",
    "            cex.main = 1.5, # Title size\n",
    "            cex.axis = 1.2,\n",
    "            legend = rownames(counts), beside=TRUE)\n",
    "}"
   ]
  },
  {
   "cell_type": "code",
   "execution_count": null,
   "id": "e9c49826-27a0-4eaf-bc8f-92b3d113fb06",
   "metadata": {
    "jupyter": {
     "outputs_hidden": false,
     "source_hidden": false
    },
    "nteract": {
     "transient": {
      "deleting": false
     }
    }
   },
   "outputs": [
    {
     "data": {
      "application/vnd.livy.statement-meta+json": {
       "execution_finish_time": "2023-09-15T20:28:23.2254885Z",
       "execution_start_time": "2023-09-15T20:28:22.752415Z",
       "livy_statement_state": "available",
       "parent_msg_id": "96f578b5-4c18-407a-9aef-9526ad9fd1aa",
       "queued_time": "2023-09-15T20:19:54.9521862Z",
       "session_id": "3753b326-451b-4e6b-bf24-9f1372d6e5da",
       "session_start_time": null,
       "spark_jobs": {
        "jobs": [],
        "limit": 20,
        "numbers": {
         "FAILED": 0,
         "RUNNING": 0,
         "SUCCEEDED": 0,
         "UNKNOWN": 0
        },
        "rule": "ALL_DESC"
       },
       "spark_pool": null,
       "state": "finished",
       "statement_id": 16
      },
      "text/plain": [
       "StatementMeta(, 3753b326-451b-4e6b-bf24-9f1372d6e5da, 16, Finished, Available)"
      ]
     },
     "metadata": {},
     "output_type": "display_data"
    },
    {
     "data": {
      "image/png": "[encoded data removed]",
      "text/plain": []
     },
     "execution_count": null,
     "metadata": {},
     "output_type": "execute_result"
    }
   ],
   "source": [
    "par(mfrow = c(2, 1), \n",
    "    mar = c(2, 1, 2, 1)) # Margin size\n",
    "for (item in attr_list[5:6]) {\n",
    "    counts <- table(rdf_clean$Exited, rdf_clean[,item])\n",
    "    barplot(counts, main=item, col=c(\"darkblue\",\"yellow\"), \n",
    "            cex.main = 1.5, # Title size\n",
    "            cex.axis = 1.2,\n",
    "            legend = rownames(counts), beside=TRUE)\n",
    "}"
   ]
  },
  {
   "cell_type": "markdown",
   "id": "471cf4ca-e525-4efd-8bea-63ae5b5c819e",
   "metadata": {
    "nteract": {
     "transient": {
      "deleting": false
     }
    }
   },
   "source": [
    "### Show the distribution of numerical attributes\n",
    "\n",
    "Use a histogram to show the frequency distribution of numerical attributes:"
   ]
  },
  {
   "cell_type": "code",
   "execution_count": null,
   "id": "c3638293-f41b-4d99-b732-77825f4fc73d",
   "metadata": {
    "jupyter": {
     "outputs_hidden": false,
     "source_hidden": false
    },
    "nteract": {
     "transient": {
      "deleting": false
     }
    }
   },
   "outputs": [
    {
     "data": {
      "application/vnd.livy.statement-meta+json": {
       "execution_finish_time": "2023-09-15T20:28:24.0534387Z",
       "execution_start_time": "2023-09-15T20:28:23.5997656Z",
       "livy_statement_state": "available",
       "parent_msg_id": "8d426615-e5e4-4d2b-b8b2-1cb08aa6d19d",
       "queued_time": "2023-09-15T20:19:54.952776Z",
       "session_id": "3753b326-451b-4e6b-bf24-9f1372d6e5da",
       "session_start_time": null,
       "spark_jobs": {
        "jobs": [],
        "limit": 20,
        "numbers": {
         "FAILED": 0,
         "RUNNING": 0,
         "SUCCEEDED": 0,
         "UNKNOWN": 0
        },
        "rule": "ALL_DESC"
       },
       "spark_pool": null,
       "state": "finished",
       "statement_id": 17
      },
      "text/plain": [
       "StatementMeta(, 3753b326-451b-4e6b-bf24-9f1372d6e5da, 17, Finished, Available)"
      ]
     },
     "metadata": {},
     "output_type": "display_data"
    },
    {
     "data": {
      "image/png": "[encoded data removed]",
      "text/plain": []
     },
     "execution_count": null,
     "metadata": {},
     "output_type": "execute_result"
    }
   ],
   "source": [
    "# Set the overall layout of the graphics window\n",
    "par(mfrow = c(2, 1), \n",
    "    mar = c(2, 4, 2, 4) + 0.1) # Margin size\n",
    "\n",
    "# Create histograms\n",
    "for (item in numeric_variables[1:2]) {\n",
    "    hist(rdf_clean[, item], \n",
    "         main = item, \n",
    "         col = \"darkgreen\", \n",
    "         xlab = item,\n",
    "         cex.main = 1.5, # Title size\n",
    "         cex.axis = 1.2,\n",
    "         breaks = 20) # Number of bins\n",
    "}"
   ]
  },
  {
   "cell_type": "code",
   "execution_count": null,
   "id": "45e978b2-e1f4-4da6-8f22-80b3a060838d",
   "metadata": {
    "jupyter": {
     "outputs_hidden": false,
     "source_hidden": false
    },
    "nteract": {
     "transient": {
      "deleting": false
     }
    }
   },
   "outputs": [
    {
     "data": {
      "application/vnd.livy.statement-meta+json": {
       "execution_finish_time": "2023-09-15T20:28:24.9719415Z",
       "execution_start_time": "2023-09-15T20:28:24.4510554Z",
       "livy_statement_state": "available",
       "parent_msg_id": "273de4f1-ef1e-4585-9220-c3b3799dab12",
       "queued_time": "2023-09-15T20:19:54.9533826Z",
       "session_id": "3753b326-451b-4e6b-bf24-9f1372d6e5da",
       "session_start_time": null,
       "spark_jobs": {
        "jobs": [],
        "limit": 20,
        "numbers": {
         "FAILED": 0,
         "RUNNING": 0,
         "SUCCEEDED": 0,
         "UNKNOWN": 0
        },
        "rule": "ALL_DESC"
       },
       "spark_pool": null,
       "state": "finished",
       "statement_id": 18
      },
      "text/plain": [
       "StatementMeta(, 3753b326-451b-4e6b-bf24-9f1372d6e5da, 18, Finished, Available)"
      ]
     },
     "metadata": {},
     "output_type": "display_data"
    },
    {
     "data": {
      "image/png": "[encoded data removed]",
      "text/plain": []
     },
     "execution_count": null,
     "metadata": {},
     "output_type": "execute_result"
    }
   ],
   "source": [
    "# Set the overall layout of the graphics window\n",
    "par(mfrow = c(3, 1), \n",
    "    mar = c(2, 4, 2, 4) + 0.1) # Margin size\n",
    "\n",
    "# Create histograms\n",
    "for (item in numeric_variables[3:5]) {\n",
    "    hist(rdf_clean[, item], \n",
    "         main = item, \n",
    "         col = \"darkgreen\", \n",
    "         xlab = item,\n",
    "         cex.main = 1.5, # Title size\n",
    "         cex.axis = 1.2,\n",
    "         breaks = 20) # Number of bins\n",
    "}"
   ]
  },
  {
   "cell_type": "markdown",
   "id": "afd326da-9e2c-4580-9b0d-d747fb142e04",
   "metadata": {
    "nteract": {
     "transient": {
      "deleting": false
     }
    }
   },
   "source": [
    "#### Perform feature engineering\n",
    "\n",
    "This feature engineering generates new attributes based on current attributes:"
   ]
  },
  {
   "cell_type": "code",
   "execution_count": null,
   "id": "141e1405-6a9f-49da-b1dc-a1d3e356acd5",
   "metadata": {
    "jupyter": {
     "outputs_hidden": false,
     "source_hidden": false
    },
    "nteract": {
     "transient": {
      "deleting": false
     }
    }
   },
   "outputs": [
    {
     "data": {
      "application/vnd.livy.statement-meta+json": {
       "execution_finish_time": "2023-09-15T20:28:25.7993234Z",
       "execution_start_time": "2023-09-15T20:28:25.3186873Z",
       "livy_statement_state": "available",
       "parent_msg_id": "e083d061-85e6-418a-95d9-719e20936d00",
       "queued_time": "2023-09-15T20:19:58.3384243Z",
       "session_id": "3753b326-451b-4e6b-bf24-9f1372d6e5da",
       "session_start_time": null,
       "spark_jobs": {
        "jobs": [],
        "limit": 20,
        "numbers": {
         "FAILED": 0,
         "RUNNING": 0,
         "SUCCEEDED": 0,
         "UNKNOWN": 0
        },
        "rule": "ALL_DESC"
       },
       "spark_pool": null,
       "state": "finished",
       "statement_id": 19
      },
      "text/plain": [
       "StatementMeta(, 3753b326-451b-4e6b-bf24-9f1372d6e5da, 19, Finished, Available)"
      ]
     },
     "metadata": {},
     "output_type": "display_data"
    }
   ],
   "source": [
    "rdf_clean$NewTenure <- rdf_clean$Tenure / rdf_clean$Age\n",
    "rdf_clean$NewCreditsScore <- as.numeric(cut(rdf_clean$CreditScore, breaks=quantile(rdf_clean$CreditScore, probs=seq(0, 1, by=1/6)), include.lowest=TRUE, labels=c(1, 2, 3, 4, 5, 6)))\n",
    "rdf_clean$NewAgeScore <- as.numeric(cut(rdf_clean$Age, breaks=quantile(rdf_clean$Age, probs=seq(0, 1, by=1/8)), include.lowest=TRUE, labels=c(1, 2, 3, 4, 5, 6, 7, 8)))\n",
    "rdf_clean$NewBalanceScore <- as.numeric(cut(rank(rdf_clean$Balance), breaks=quantile(rank(rdf_clean$Balance, ties.method = \"first\"), probs=seq(0, 1, by=1/5)), include.lowest=TRUE, labels=c(1, 2, 3, 4, 5)))\n",
    "rdf_clean$NewEstSalaryScore <- as.numeric(cut(rdf_clean$EstimatedSalary, breaks=quantile(rdf_clean$EstimatedSalary, probs=seq(0, 1, by=1/10)), include.lowest=TRUE, labels=c(1:10)))"
   ]
  },
  {
   "cell_type": "markdown",
   "id": "fa1d99e2-ddde-4f08-b977-024c450821f1",
   "metadata": {
    "nteract": {
     "transient": {
      "deleting": false
     }
    }
   },
   "source": [
    "#### Perform one-hot encoding\n",
    "\n",
    "Use one-hot encoding to convert the categorical attributes to numerical attributes, to feed them into the machine learning model:"
   ]
  },
  {
   "cell_type": "code",
   "execution_count": null,
   "id": "0c04c0d6-4a0d-49d3-9803-ba83b55aee48",
   "metadata": {
    "jupyter": {
     "outputs_hidden": false,
     "source_hidden": false
    },
    "nteract": {
     "transient": {
      "deleting": false
     }
    }
   },
   "outputs": [
    {
     "data": {
      "application/vnd.livy.statement-meta+json": {
       "execution_finish_time": "2023-09-15T20:28:26.7137244Z",
       "execution_start_time": "2023-09-15T20:28:26.2098727Z",
       "livy_statement_state": "available",
       "parent_msg_id": "4bd3defd-8677-4cf6-be54-f3ff12ea4ce7",
       "queued_time": "2023-09-15T20:19:59.7122919Z",
       "session_id": "3753b326-451b-4e6b-bf24-9f1372d6e5da",
       "session_start_time": null,
       "spark_jobs": {
        "jobs": [],
        "limit": 20,
        "numbers": {
         "FAILED": 0,
         "RUNNING": 0,
         "SUCCEEDED": 0,
         "UNKNOWN": 0
        },
        "rule": "ALL_DESC"
       },
       "spark_pool": null,
       "state": "finished",
       "statement_id": 20
      },
      "text/plain": [
       "StatementMeta(, 3753b326-451b-4e6b-bf24-9f1372d6e5da, 20, Finished, Available)"
      ]
     },
     "metadata": {},
     "output_type": "display_data"
    }
   ],
   "source": [
    "rdf_clean <- cbind(rdf_clean, model.matrix(~Geography+Gender-1, data=rdf_clean))\n",
    "rdf_clean <- subset(rdf_clean, select = - c(Geography, Gender))"
   ]
  },
  {
   "cell_type": "markdown",
   "id": "6668cfe1-0ed0-4e76-97fd-56ad3c6b189f",
   "metadata": {
    "nteract": {
     "transient": {
      "deleting": false
     }
    }
   },
   "source": [
    "#### Create a delta table to generate the Power BI report"
   ]
  },
  {
   "cell_type": "code",
   "execution_count": null,
   "id": "e5871860-8a6a-4c30-b6ef-f289479bb9f7",
   "metadata": {
    "jupyter": {
     "outputs_hidden": false,
     "source_hidden": false
    },
    "nteract": {
     "transient": {
      "deleting": false
     }
    }
   },
   "outputs": [
    {
     "data": {
      "application/vnd.livy.statement-meta+json": {
       "execution_finish_time": "2023-09-15T20:28:38.3924733Z",
       "execution_start_time": "2023-09-15T20:28:27.0710897Z",
       "livy_statement_state": "available",
       "parent_msg_id": "0ced3d24-12da-44f7-9deb-b9c7655aebb6",
       "queued_time": "2023-09-15T20:20:00.2822459Z",
       "session_id": "3753b326-451b-4e6b-bf24-9f1372d6e5da",
       "session_start_time": null,
       "spark_jobs": {
        "jobs": [
         {
          "completionTime": "2023-09-15T20:28:37.310GMT",
          "dataRead": 4521,
          "dataWritten": 0,
          "description": "Delta: Job group for statement 21:\ntable_name <- \"rdf_clean\"\n# Create Spark DataFrame from R data frame\nsparkDF <- as.DataFrame(rdf_clean)\nwrite.df(sparkDF, paste0(\"Tables/\", table_name), source = \"delta\", mode = \"overwrite\")\ncat(paste0(\"Spark dataframe saved to delta table: \", table_name)): Compute snapshot for version: 1",
          "displayName": "toString at String.java:2994",
          "jobGroup": "21",
          "jobId": 24,
          "killedTasksSummary": {},
          "name": "toString at String.java:2994",
          "numActiveStages": 0,
          "numActiveTasks": 0,
          "numCompletedIndices": 1,
          "numCompletedStages": 1,
          "numCompletedTasks": 1,
          "numFailedStages": 0,
          "numFailedTasks": 0,
          "numKilledTasks": 0,
          "numSkippedStages": 2,
          "numSkippedTasks": 52,
          "numTasks": 53,
          "rowCount": 50,
          "stageIds": [
           42,
           43,
           44
          ],
          "status": "SUCCEEDED",
          "submissionTime": "2023-09-15T20:28:37.269GMT",
          "usageDescription": ""
         },
         {
          "completionTime": "2023-09-15T20:28:37.247GMT",
          "dataRead": 4003,
          "dataWritten": 4521,
          "description": "Delta: Job group for statement 21:\ntable_name <- \"rdf_clean\"\n# Create Spark DataFrame from R data frame\nsparkDF <- as.DataFrame(rdf_clean)\nwrite.df(sparkDF, paste0(\"Tables/\", table_name), source = \"delta\", mode = \"overwrite\")\ncat(paste0(\"Spark dataframe saved to delta table: \", table_name)): Compute snapshot for version: 1",
          "displayName": "toString at String.java:2994",
          "jobGroup": "21",
          "jobId": 23,
          "killedTasksSummary": {},
          "name": "toString at String.java:2994",
          "numActiveStages": 0,
          "numActiveTasks": 0,
          "numCompletedIndices": 50,
          "numCompletedStages": 1,
          "numCompletedTasks": 50,
          "numFailedStages": 0,
          "numFailedTasks": 0,
          "numKilledTasks": 0,
          "numSkippedStages": 1,
          "numSkippedTasks": 2,
          "numTasks": 52,
          "rowCount": 57,
          "stageIds": [
           40,
           41
          ],
          "status": "SUCCEEDED",
          "submissionTime": "2023-09-15T20:28:36.628GMT",
          "usageDescription": ""
         },
         {
          "completionTime": "2023-09-15T20:28:35.968GMT",
          "dataRead": 5570,
          "dataWritten": 4003,
          "description": "Delta: Job group for statement 21:\ntable_name <- \"rdf_clean\"\n# Create Spark DataFrame from R data frame\nsparkDF <- as.DataFrame(rdf_clean)\nwrite.df(sparkDF, paste0(\"Tables/\", table_name), source = \"delta\", mode = \"overwrite\")\ncat(paste0(\"Spark dataframe saved to delta table: \", table_name)): Compute snapshot for version: 1",
          "displayName": "toString at String.java:2994",
          "jobGroup": "21",
          "jobId": 22,
          "killedTasksSummary": {},
          "name": "toString at String.java:2994",
          "numActiveStages": 0,
          "numActiveTasks": 0,
          "numCompletedIndices": 2,
          "numCompletedStages": 1,
          "numCompletedTasks": 2,
          "numFailedStages": 0,
          "numFailedTasks": 0,
          "numKilledTasks": 0,
          "numSkippedStages": 0,
          "numSkippedTasks": 0,
          "numTasks": 2,
          "rowCount": 14,
          "stageIds": [
           39
          ],
          "status": "SUCCEEDED",
          "submissionTime": "2023-09-15T20:28:35.727GMT",
          "usageDescription": ""
         },
         {
          "completionTime": "2023-09-15T20:28:34.876GMT",
          "dataRead": 2268,
          "dataWritten": 0,
          "description": "Job group for statement 21:\ntable_name <- \"rdf_clean\"\n# Create Spark DataFrame from R data frame\nsparkDF <- as.DataFrame(rdf_clean)\nwrite.df(sparkDF, paste0(\"Tables/\", table_name), source = \"delta\", mode = \"overwrite\")\ncat(paste0(\"Spark dataframe saved to delta table: \", table_name))",
          "displayName": "$anonfun$recordDeltaOperationInternal$1 at SynapseLoggingShim.scala:95",
          "jobGroup": "21",
          "jobId": 21,
          "killedTasksSummary": {},
          "name": "$anonfun$recordDeltaOperationInternal$1 at SynapseLoggingShim.scala:95",
          "numActiveStages": 0,
          "numActiveTasks": 0,
          "numCompletedIndices": 50,
          "numCompletedStages": 1,
          "numCompletedTasks": 50,
          "numFailedStages": 0,
          "numFailedTasks": 0,
          "numKilledTasks": 0,
          "numSkippedStages": 1,
          "numSkippedTasks": 1,
          "numTasks": 51,
          "rowCount": 3,
          "stageIds": [
           37,
           38
          ],
          "status": "SUCCEEDED",
          "submissionTime": "2023-09-15T20:28:34.725GMT",
          "usageDescription": ""
         },
         {
          "completionTime": "2023-09-15T20:28:34.638GMT",
          "dataRead": 554862,
          "dataWritten": 184769,
          "description": "Job group for statement 21:\ntable_name <- \"rdf_clean\"\n# Create Spark DataFrame from R data frame\nsparkDF <- as.DataFrame(rdf_clean)\nwrite.df(sparkDF, paste0(\"Tables/\", table_name), source = \"delta\", mode = \"overwrite\")\ncat(paste0(\"Spark dataframe saved to delta table: \", table_name))",
          "displayName": "save at NativeMethodAccessorImpl.java:0",
          "jobGroup": "21",
          "jobId": 20,
          "killedTasksSummary": {},
          "name": "save at NativeMethodAccessorImpl.java:0",
          "numActiveStages": 0,
          "numActiveTasks": 0,
          "numCompletedIndices": 1,
          "numCompletedStages": 1,
          "numCompletedTasks": 1,
          "numFailedStages": 0,
          "numFailedTasks": 0,
          "numKilledTasks": 0,
          "numSkippedStages": 1,
          "numSkippedTasks": 1,
          "numTasks": 2,
          "rowCount": 20000,
          "stageIds": [
           35,
           36
          ],
          "status": "SUCCEEDED",
          "submissionTime": "2023-09-15T20:28:33.547GMT",
          "usageDescription": ""
         },
         {
          "completionTime": "2023-09-15T20:28:33.507GMT",
          "dataRead": 0,
          "dataWritten": 554862,
          "description": "Job group for statement 21:\ntable_name <- \"rdf_clean\"\n# Create Spark DataFrame from R data frame\nsparkDF <- as.DataFrame(rdf_clean)\nwrite.df(sparkDF, paste0(\"Tables/\", table_name), source = \"delta\", mode = \"overwrite\")\ncat(paste0(\"Spark dataframe saved to delta table: \", table_name))",
          "displayName": "save at NativeMethodAccessorImpl.java:0",
          "jobGroup": "21",
          "jobId": 19,
          "killedTasksSummary": {},
          "name": "save at NativeMethodAccessorImpl.java:0",
          "numActiveStages": 0,
          "numActiveTasks": 0,
          "numCompletedIndices": 1,
          "numCompletedStages": 1,
          "numCompletedTasks": 1,
          "numFailedStages": 0,
          "numFailedTasks": 0,
          "numKilledTasks": 0,
          "numSkippedStages": 0,
          "numSkippedTasks": 0,
          "numTasks": 1,
          "rowCount": 10000,
          "stageIds": [
           34
          ],
          "status": "SUCCEEDED",
          "submissionTime": "2023-09-15T20:28:30.036GMT",
          "usageDescription": ""
         },
         {
          "completionTime": "2023-09-15T20:28:29.851GMT",
          "dataRead": 4516,
          "dataWritten": 0,
          "description": "Delta: Job group for statement 21:\ntable_name <- \"rdf_clean\"\n# Create Spark DataFrame from R data frame\nsparkDF <- as.DataFrame(rdf_clean)\nwrite.df(sparkDF, paste0(\"Tables/\", table_name), source = \"delta\", mode = \"overwrite\")\ncat(paste0(\"Spark dataframe saved to delta table: \", table_name)): Compute snapshot for version: 0",
          "displayName": "toString at String.java:2994",
          "jobGroup": "21",
          "jobId": 18,
          "killedTasksSummary": {},
          "name": "toString at String.java:2994",
          "numActiveStages": 0,
          "numActiveTasks": 0,
          "numCompletedIndices": 1,
          "numCompletedStages": 1,
          "numCompletedTasks": 1,
          "numFailedStages": 0,
          "numFailedTasks": 0,
          "numKilledTasks": 0,
          "numSkippedStages": 2,
          "numSkippedTasks": 51,
          "numTasks": 52,
          "rowCount": 50,
          "stageIds": [
           33,
           31,
           32
          ],
          "status": "SUCCEEDED",
          "submissionTime": "2023-09-15T20:28:29.805GMT",
          "usageDescription": ""
         },
         {
          "completionTime": "2023-09-15T20:28:29.786GMT",
          "dataRead": 2049,
          "dataWritten": 4516,
          "description": "Delta: Job group for statement 21:\ntable_name <- \"rdf_clean\"\n# Create Spark DataFrame from R data frame\nsparkDF <- as.DataFrame(rdf_clean)\nwrite.df(sparkDF, paste0(\"Tables/\", table_name), source = \"delta\", mode = \"overwrite\")\ncat(paste0(\"Spark dataframe saved to delta table: \", table_name)): Compute snapshot for version: 0",
          "displayName": "toString at String.java:2994",
          "jobGroup": "21",
          "jobId": 17,
          "killedTasksSummary": {},
          "name": "toString at String.java:2994",
          "numActiveStages": 0,
          "numActiveTasks": 0,
          "numCompletedIndices": 50,
          "numCompletedStages": 1,
          "numCompletedTasks": 50,
          "numFailedStages": 0,
          "numFailedTasks": 0,
          "numKilledTasks": 0,
          "numSkippedStages": 1,
          "numSkippedTasks": 1,
          "numTasks": 51,
          "rowCount": 54,
          "stageIds": [
           30,
           29
          ],
          "status": "SUCCEEDED",
          "submissionTime": "2023-09-15T20:28:28.970GMT",
          "usageDescription": ""
         },
         {
          "completionTime": "2023-09-15T20:28:28.399GMT",
          "dataRead": 3536,
          "dataWritten": 2049,
          "description": "Delta: Job group for statement 21:\ntable_name <- \"rdf_clean\"\n# Create Spark DataFrame from R data frame\nsparkDF <- as.DataFrame(rdf_clean)\nwrite.df(sparkDF, paste0(\"Tables/\", table_name), source = \"delta\", mode = \"overwrite\")\ncat(paste0(\"Spark dataframe saved to delta table: \", table_name)): Compute snapshot for version: 0",
          "displayName": "toString at String.java:2994",
          "jobGroup": "21",
          "jobId": 16,
          "killedTasksSummary": {},
          "name": "toString at String.java:2994",
          "numActiveStages": 0,
          "numActiveTasks": 0,
          "numCompletedIndices": 1,
          "numCompletedStages": 1,
          "numCompletedTasks": 1,
          "numFailedStages": 0,
          "numFailedTasks": 0,
          "numKilledTasks": 0,
          "numSkippedStages": 0,
          "numSkippedTasks": 0,
          "numTasks": 1,
          "rowCount": 8,
          "stageIds": [
           28
          ],
          "status": "SUCCEEDED",
          "submissionTime": "2023-09-15T20:28:28.040GMT",
          "usageDescription": ""
         }
        ],
        "limit": 20,
        "numbers": {
         "FAILED": 0,
         "RUNNING": 0,
         "SUCCEEDED": 9,
         "UNKNOWN": 0
        },
        "rule": "ALL_DESC"
       },
       "spark_pool": null,
       "state": "finished",
       "statement_id": 21
      },
      "text/plain": [
       "StatementMeta(, 3753b326-451b-4e6b-bf24-9f1372d6e5da, 21, Finished, Available)"
      ]
     },
     "metadata": {},
     "output_type": "display_data"
    },
    {
     "name": "stdout",
     "output_type": "stream",
     "text": [
      "Spark dataframe saved to delta table: rdf_clean"
     ]
    }
   ],
   "source": [
    "table_name <- \"rdf_clean\"\n",
    "# Create a Spark DataFrame from an R DataFrame\n",
    "sparkDF <- as.DataFrame(rdf_clean)\n",
    "write.df(sparkDF, paste0(\"Tables/\", table_name), source = \"delta\", mode = \"overwrite\")\n",
    "cat(paste0(\"Spark DataFrame saved to delta table: \", table_name))"
   ]
  },
  {
   "cell_type": "markdown",
   "id": "836ded25-18e9-46de-800e-8d1c2cfbc358",
   "metadata": {
    "nteract": {
     "transient": {
      "deleting": false
     }
    }
   },
   "source": [
    "#### Summary of observations from the exploratory data analysis\n",
    "\n",
    "- Most of the customers are from France. Spain has the lowest churn rate, compared to France and Germany\n",
    "- Some customers are both over the age of 60 and have credit scores below 400. However, they can't be considered as outliers\n",
    "- Few customers have more than two bank products\n",
    "- Inactive customers have a higher churn rate\n",
    "- Gender and tenure years have little impact on a customer's decision to close a bank account\n"
   ]
  },
  {
   "cell_type": "markdown",
   "id": "7ca639b4-64e4-40dd-b779-e859587e93c8",
   "metadata": {
    "nteract": {
     "transient": {
      "deleting": false
     }
    }
   },
   "source": [
    "## Step 4: Perform model training"
   ]
  },
  {
   "cell_type": "markdown",
   "id": "d5a74bc2-7d45-4513-acba-4224ba0f5003",
   "metadata": {
    "nteract": {
     "transient": {
      "deleting": false
     }
    }
   },
   "source": [
    "With the data in place, you can now define the model. Apply Random Forest and LightGBM models. Use `randomForest` and `LightGBM` to implement the models with a few lines of code.\n",
    "\n",
    "Load the delta table from the lakehouse. You can use other delta tables that consider the lakehouse as the source."
   ]
  },
  {
   "cell_type": "code",
   "execution_count": null,
   "id": "5e2d9f2f-612e-4011-9d61-a0fc8edc2e47",
   "metadata": {
    "jupyter": {
     "outputs_hidden": false,
     "source_hidden": false
    },
    "nteract": {
     "transient": {
      "deleting": false
     }
    }
   },
   "outputs": [
    {
     "data": {
      "application/vnd.livy.statement-meta+json": {
       "execution_finish_time": "2023-09-15T20:28:43.0192949Z",
       "execution_start_time": "2023-09-15T20:28:38.7519031Z",
       "livy_statement_state": "available",
       "parent_msg_id": "13277b1f-49eb-4519-a64e-93de3e65fbd0",
       "queued_time": "2023-09-15T20:20:00.7434065Z",
       "session_id": "3753b326-451b-4e6b-bf24-9f1372d6e5da",
       "session_start_time": null,
       "spark_jobs": {
        "jobs": [
         {
          "completionTime": "2023-09-15T20:28:40.232GMT",
          "dataRead": 182764,
          "dataWritten": 0,
          "description": "Job group for statement 22:\nSEED <- 12345\nrdf_clean <- read.df(\"Tables/rdf_clean\", source = \"delta\")\ndf_clean <- as.data.frame(rdf_clean)",
          "displayName": "dfToCols at NativeMethodAccessorImpl.java:0",
          "jobGroup": "22",
          "jobId": 26,
          "killedTasksSummary": {},
          "name": "dfToCols at NativeMethodAccessorImpl.java:0",
          "numActiveStages": 0,
          "numActiveTasks": 0,
          "numCompletedIndices": 1,
          "numCompletedStages": 1,
          "numCompletedTasks": 1,
          "numFailedStages": 0,
          "numFailedTasks": 0,
          "numKilledTasks": 0,
          "numSkippedStages": 0,
          "numSkippedTasks": 0,
          "numTasks": 1,
          "rowCount": 10000,
          "stageIds": [
           47
          ],
          "status": "SUCCEEDED",
          "submissionTime": "2023-09-15T20:28:39.553GMT",
          "usageDescription": ""
         },
         {
          "completionTime": "2023-09-15T20:28:39.248GMT",
          "dataRead": 2470,
          "dataWritten": 0,
          "description": "Delta: Job group for statement 22:\nSEED <- 12345\nrdf_clean <- read.df(\"Tables/rdf_clean\", source = \"delta\")\ndf_clean <- as.data.frame(rdf_clean): Filtering files for query",
          "displayName": "$anonfun$recordDeltaOperationInternal$1 at SynapseLoggingShim.scala:95",
          "jobGroup": "22",
          "jobId": 25,
          "killedTasksSummary": {},
          "name": "$anonfun$recordDeltaOperationInternal$1 at SynapseLoggingShim.scala:95",
          "numActiveStages": 0,
          "numActiveTasks": 0,
          "numCompletedIndices": 50,
          "numCompletedStages": 1,
          "numCompletedTasks": 50,
          "numFailedStages": 0,
          "numFailedTasks": 0,
          "numKilledTasks": 0,
          "numSkippedStages": 1,
          "numSkippedTasks": 2,
          "numTasks": 52,
          "rowCount": 4,
          "stageIds": [
           45,
           46
          ],
          "status": "SUCCEEDED",
          "submissionTime": "2023-09-15T20:28:39.103GMT",
          "usageDescription": ""
         }
        ],
        "limit": 20,
        "numbers": {
         "FAILED": 0,
         "RUNNING": 0,
         "SUCCEEDED": 2,
         "UNKNOWN": 0
        },
        "rule": "ALL_DESC"
       },
       "spark_pool": null,
       "state": "finished",
       "statement_id": 22
      },
      "text/plain": [
       "StatementMeta(, 3753b326-451b-4e6b-bf24-9f1372d6e5da, 22, Finished, Available)"
      ]
     },
     "metadata": {},
     "output_type": "display_data"
    }
   ],
   "source": [
    "SEED <- 12345\n",
    "rdf_clean <- read.df(\"Tables/rdf_clean\", source = \"delta\")\n",
    "df_clean <- as.data.frame(rdf_clean)"
   ]
  },
  {
   "cell_type": "markdown",
   "id": "cac51d3a-6d8e-487a-9091-3eff57d3a3cc",
   "metadata": {
    "nteract": {
     "transient": {
      "deleting": false
     }
    }
   },
   "source": [
    "Import `randomForest` and `lightgbm`:"
   ]
  },
  {
   "cell_type": "code",
   "execution_count": null,
   "id": "ccfad39e-8d1a-4bd2-8e82-ae40dab1670b",
   "metadata": {
    "jupyter": {
     "outputs_hidden": false,
     "source_hidden": false
    },
    "nteract": {
     "transient": {
      "deleting": false
     }
    }
   },
   "outputs": [
    {
     "data": {
      "application/vnd.livy.statement-meta+json": {
       "execution_finish_time": "2023-09-15T20:28:45.3438013Z",
       "execution_start_time": "2023-09-15T20:28:43.3758091Z",
       "livy_statement_state": "available",
       "parent_msg_id": "59f364a0-f2c2-43db-87ff-ecfc62afbaff",
       "queued_time": "2023-09-15T20:20:01.1735178Z",
       "session_id": "3753b326-451b-4e6b-bf24-9f1372d6e5da",
       "session_start_time": null,
       "spark_jobs": {
        "jobs": [],
        "limit": 20,
        "numbers": {
         "FAILED": 0,
         "RUNNING": 0,
         "SUCCEEDED": 0,
         "UNKNOWN": 0
        },
        "rule": "ALL_DESC"
       },
       "spark_pool": null,
       "state": "finished",
       "statement_id": 23
      },
      "text/plain": [
       "StatementMeta(, 3753b326-451b-4e6b-bf24-9f1372d6e5da, 23, Finished, Available)"
      ]
     },
     "metadata": {},
     "output_type": "display_data"
    },
    {
     "name": "stdout",
     "output_type": "stream",
     "text": [
      "randomForest 4.7-1.1\n",
      "Type rfNews() to see new features/changes/bug fixes.\n",
      "Loading required package: R6\n",
      "\n",
      "Attaching package: ‘lightgbm’\n",
      "\n",
      "The following object is masked from ‘package:SparkR’:\n",
      "\n",
      "    slice\n"
     ]
    }
   ],
   "source": [
    "library(randomForest)\n",
    "library(lightgbm)"
   ]
  },
  {
   "cell_type": "markdown",
   "id": "f65bde63-541e-4268-8a1e-57b3b172e10a",
   "metadata": {
    "nteract": {
     "transient": {
      "deleting": false
     }
    }
   },
   "source": [
    "Prepare the training and testing datasets:"
   ]
  },
  {
   "cell_type": "code",
   "execution_count": null,
   "id": "44d7e089-016a-43c5-8c39-36855d38ab4b",
   "metadata": {
    "jupyter": {
     "outputs_hidden": false,
     "source_hidden": false
    },
    "nteract": {
     "transient": {
      "deleting": false
     }
    }
   },
   "outputs": [
    {
     "data": {
      "application/vnd.livy.statement-meta+json": {
       "execution_finish_time": "2023-09-15T20:28:46.1916063Z",
       "execution_start_time": "2023-09-15T20:28:45.7336158Z",
       "livy_statement_state": "available",
       "parent_msg_id": "b9b26aaa-f87a-4953-a286-f6f4503c5030",
       "queued_time": "2023-09-15T20:20:01.5160369Z",
       "session_id": "3753b326-451b-4e6b-bf24-9f1372d6e5da",
       "session_start_time": null,
       "spark_jobs": {
        "jobs": [],
        "limit": 20,
        "numbers": {
         "FAILED": 0,
         "RUNNING": 0,
         "SUCCEEDED": 0,
         "UNKNOWN": 0
        },
        "rule": "ALL_DESC"
       },
       "spark_pool": null,
       "state": "finished",
       "statement_id": 24
      },
      "text/plain": [
       "StatementMeta(, 3753b326-451b-4e6b-bf24-9f1372d6e5da, 24, Finished, Available)"
      ]
     },
     "metadata": {},
     "output_type": "display_data"
    }
   ],
   "source": [
    "set.seed(SEED)\n",
    "y <- factor(df_clean$Exited)\n",
    "X <- df_clean[, !(colnames(df_clean) %in% c(\"Exited\"))]\n",
    "split <- base::sample(c(TRUE, FALSE), nrow(df_clean), replace = TRUE, prob = c(0.8, 0.2))\n",
    "X_train <- X[split,]\n",
    "X_test <- X[!split,]\n",
    "y_train <- y[split]\n",
    "y_test <- y[!split]\n",
    "train_df <- cbind(X_train, y_train)"
   ]
  },
  {
   "cell_type": "markdown",
   "id": "01e5257f-668f-48bf-b932-b20c9dbacf05",
   "metadata": {
    "nteract": {
     "transient": {
      "deleting": false
     }
    }
   },
   "source": [
    "### Apply SMOTE to the training dataset\n",
    "\n",
    "Imbalanced classification has a problem, because it has too few examples of the minority class for a model to effectively learn the decision boundary. To handle this, Synthetic Minority Oversampling Technique (SMOTE) is the most widely used technique to synthesize new samples for the minority class. Access SMOTE with the `imblearn` library that you installed in step 1.\n",
    "\n",
    "Apply SMOTE only to the training dataset. You must leave the test dataset in its original imbalanced distribution, to get a valid approximation of model performance on the original data. This experiment represents the situation in production.\n",
    "\n",
    "First, show the distribution of classes in the dataset, to learn which class is the minority class. The ratio of minority class to majority class is defined as `imbalance Ratio` in the `imbalance` library."
   ]
  },
  {
   "cell_type": "code",
   "execution_count": null,
   "id": "aae69146-27b8-4475-b4d8-5ab77c9892ca",
   "metadata": {
    "jupyter": {
     "outputs_hidden": false,
     "source_hidden": false
    },
    "nteract": {
     "transient": {
      "deleting": false
     }
    }
   },
   "outputs": [
    {
     "data": {
      "application/vnd.livy.statement-meta+json": {
       "execution_finish_time": "2023-09-15T20:28:47.0073624Z",
       "execution_start_time": "2023-09-15T20:28:46.5456844Z",
       "livy_statement_state": "available",
       "parent_msg_id": "94bbda60-6712-4153-9b22-d7234300f77b",
       "queued_time": "2023-09-15T20:20:01.9652162Z",
       "session_id": "3753b326-451b-4e6b-bf24-9f1372d6e5da",
       "session_start_time": null,
       "spark_jobs": {
        "jobs": [],
        "limit": 20,
        "numbers": {
         "FAILED": 0,
         "RUNNING": 0,
         "SUCCEEDED": 0,
         "UNKNOWN": 0
        },
        "rule": "ALL_DESC"
       },
       "spark_pool": null,
       "state": "finished",
       "statement_id": 25
      },
      "text/plain": [
       "StatementMeta(, 3753b326-451b-4e6b-bf24-9f1372d6e5da, 25, Finished, Available)"
      ]
     },
     "metadata": {},
     "output_type": "display_data"
    },
    {
     "name": "stdout",
     "output_type": "stream",
     "text": [
      "Original imbalance ratio is 25.53% as {Size of minority class}/{Size of majority class}.\n",
      "Positive class(Exited) takes 20.34% of the dataset.\n",
      "Negatvie class(Non-Exited) takes 79.66% of the dataset."
     ]
    }
   ],
   "source": [
    "original_ratio <- imbalance::imbalanceRatio(train_df, classAttr = \"y_train\")\n",
    "message(sprintf(\"Original imbalance ratio is %.2f%% as {Size of minority class}/{Size of majority class}.\", original_ratio * 100))\n",
    "message(sprintf(\"Positive class(Exited) takes %.2f%% of the dataset.\", round(sum(train_df$y_train == 1)/nrow(train_df) * 100, 2)))\n",
    "message(sprintf(\"Negatvie class(Non-Exited) takes %.2f%% of the dataset.\", round(sum(train_df$y_train == 0)/nrow(train_df) * 100, 2)))"
   ]
  },
  {
   "cell_type": "markdown",
   "id": "efee02b5-f050-4884-8bc8-5bae4bced646",
   "metadata": {
    "nteract": {
     "transient": {
      "deleting": false
     }
    }
   },
   "source": [
    "In the training dataset:\n",
    "\n",
    "- `Positive class(Exited)` refers to the minority class, which takes 20.34% of the dataset.\n",
    "- `Negative class(Non-Exited)` refers to the majority class, which takes 79.66% of the dataset.\n",
    "\n",
    "The next cell rewrites the oversample function of the `imbalance` library, to generate a balanced dataset:"
   ]
  },
  {
   "cell_type": "code",
   "execution_count": null,
   "id": "85771a69-9a16-4cef-b85e-b17a7b335395",
   "metadata": {
    "jupyter": {
     "outputs_hidden": false,
     "source_hidden": false
    },
    "nteract": {
     "transient": {
      "deleting": false
     }
    }
   },
   "outputs": [
    {
     "data": {
      "application/vnd.livy.statement-meta+json": {
       "execution_finish_time": "2023-09-15T20:28:47.8297681Z",
       "execution_start_time": "2023-09-15T20:28:47.367175Z",
       "livy_statement_state": "available",
       "parent_msg_id": "6fb8d07d-a77c-4ce5-8c77-54beedbc58d6",
       "queued_time": "2023-09-15T20:20:02.5306672Z",
       "session_id": "3753b326-451b-4e6b-bf24-9f1372d6e5da",
       "session_start_time": null,
       "spark_jobs": {
        "jobs": [],
        "limit": 20,
        "numbers": {
         "FAILED": 0,
         "RUNNING": 0,
         "SUCCEEDED": 0,
         "UNKNOWN": 0
        },
        "rule": "ALL_DESC"
       },
       "spark_pool": null,
       "state": "finished",
       "statement_id": 26
      },
      "text/plain": [
       "StatementMeta(, 3753b326-451b-4e6b-bf24-9f1372d6e5da, 26, Finished, Available)"
      ]
     },
     "metadata": {},
     "output_type": "display_data"
    }
   ],
   "source": [
    "binary_oversample <- function(train_df, X_train, y_train, class_Attr = \"Class\"){\n",
    "    negative_num <- sum(y_train == 0) # Compute the number of the negative class\n",
    "    positive_num <- sum(y_train == 1) # Compute the number of the positive class\n",
    "    difference_num <- abs(negative_num - positive_num) # Compute the difference between the negative and positive classes\n",
    "    originalShape <- imbalance:::datasetStructure(train_df, class_Attr) # Get the original dataset schema\n",
    "    new_samples <- smotefamily::SMOTE(X_train, y_train, dup_size = ceiling(max(negative_num, positive_num)/min(negative_num, positive_num))) # Use SMOTE to oversample\n",
    "    new_samples <- new_samples$syn_data # Get the synthetic data\n",
    "    new_samples <- new_samples[base::sample(1:nrow(new_samples), size = difference_num), ] # Sample and shuffle the synthetic data\n",
    "    new_samples <- new_samples[, -ncol(new_samples)] # Remove the class column\n",
    "    new_samples <- imbalance:::normalizeNewSamples(originalShape, new_samples) # Normalize the synthetic data\n",
    "    new_train_df <- rbind(train_df, new_samples) # Concatenate original and synthetic data by row\n",
    "    new_train_df <- new_train_df[base::sample(nrow(new_train_df)), ] # sShuffle the training dataset\n",
    "    new_train_df\n",
    "}"
   ]
  },
  {
   "cell_type": "markdown",
   "id": "ab67119b-af70-4369-9cc3-8ecb3e6d44e6",
   "metadata": {
    "nteract": {
     "transient": {
      "deleting": false
     }
    }
   },
   "source": [
    "To learn more about SMOTE, see the [Package `imbalance`](https://cran.r-project.org/web/packages/imbalance/imbalance.pdf) and [Working with imbalanced datasets](https://cran.r-project.org/web/packages/imbalance/vignettes/imbalance.pdf) resources on the CRAN website.\n",
    "\n",
    "### Oversample the training dataset\n",
    "\n",
    "Use the newly defined oversample function to perform oversampling on the training dataset:"
   ]
  },
  {
   "cell_type": "code",
   "execution_count": null,
   "id": "e5ed7350-1dcb-4487-9b08-1248f09a0ff9",
   "metadata": {
    "jupyter": {
     "outputs_hidden": false,
     "source_hidden": false
    },
    "nteract": {
     "transient": {
      "deleting": false
     }
    }
   },
   "outputs": [
    {
     "data": {
      "application/vnd.livy.statement-meta+json": {
       "execution_finish_time": "2023-09-15T20:28:49.2866186Z",
       "execution_start_time": "2023-09-15T20:28:48.1834655Z",
       "livy_statement_state": "available",
       "parent_msg_id": "127cfc3e-f58c-470e-a322-247c06d2afe5",
       "queued_time": "2023-09-15T20:20:02.9721326Z",
       "session_id": "3753b326-451b-4e6b-bf24-9f1372d6e5da",
       "session_start_time": null,
       "spark_jobs": {
        "jobs": [],
        "limit": 20,
        "numbers": {
         "FAILED": 0,
         "RUNNING": 0,
         "SUCCEEDED": 0,
         "UNKNOWN": 0
        },
        "rule": "ALL_DESC"
       },
       "spark_pool": null,
       "state": "finished",
       "statement_id": 27
      },
      "text/plain": [
       "StatementMeta(, 3753b326-451b-4e6b-bf24-9f1372d6e5da, 27, Finished, Available)"
      ]
     },
     "metadata": {},
     "output_type": "display_data"
    },
    {
     "name": "stdout",
     "output_type": "stream",
     "text": [
      "\n",
      "Attaching package: ‘dplyr’\n",
      "\n",
      "The following object is masked from ‘package:lightgbm’:\n",
      "\n",
      "    slice\n",
      "\n",
      "The following object is masked from ‘package:randomForest’:\n",
      "\n",
      "    combine\n",
      "\n",
      "The following objects are masked from ‘package:SparkR’:\n",
      "\n",
      "    arrange, between, coalesce, collect, contains, count, cume_dist,\n",
      "    dense_rank, desc, distinct, explain, expr, filter, first, group_by,\n",
      "    intersect, lag, last, lead, mutate, n, n_distinct, ntile,\n",
      "    percent_rank, rename, row_number, sample_frac, select, slice, sql,\n",
      "    summarize, union, where\n",
      "\n",
      "The following objects are masked from ‘package:stats’:\n",
      "\n",
      "    filter, lag\n",
      "\n",
      "The following objects are masked from ‘package:base’:\n",
      "\n",
      "    intersect, setdiff, setequal, union\n",
      "\n",
      "Imbalance ratio after using smote is 100.00%\n"
     ]
    }
   ],
   "source": [
    "library(dplyr)\n",
    "new_train_df <- binary_oversample(train_df, X_train, y_train, class_Attr=\"y_train\")\n",
    "smote_ratio <- imbalance::imbalanceRatio(new_train_df, classAttr = \"y_train\")\n",
    "message(sprintf(\"Imbalance ratio after using smote is %.2f%%\\n\", smote_ratio * 100))"
   ]
  },
  {
   "cell_type": "markdown",
   "id": "bbf44ba6-afea-4401-ac2a-157794d02a2b",
   "metadata": {
    "nteract": {
     "transient": {
      "deleting": false
     }
    }
   },
   "source": [
    "### Train the model"
   ]
  },
  {
   "cell_type": "markdown",
   "id": "784c4ec8-75c6-42fe-a2e1-24fdba41844f",
   "metadata": {
    "nteract": {
     "transient": {
      "deleting": false
     }
    }
   },
   "source": [
    "Use random forest to train the model, with four features:"
   ]
  },
  {
   "cell_type": "code",
   "execution_count": null,
   "id": "8560e97e-f4ba-4c73-abe3-abf8893afd30",
   "metadata": {
    "jupyter": {
     "outputs_hidden": false,
     "source_hidden": false
    },
    "nteract": {
     "transient": {
      "deleting": false
     }
    }
   },
   "outputs": [
    {
     "data": {
      "application/vnd.livy.statement-meta+json": {
       "execution_finish_time": "2023-09-15T20:29:03.2812378Z",
       "execution_start_time": "2023-09-15T20:28:49.6555252Z",
       "livy_statement_state": "available",
       "parent_msg_id": "be8bd6a7-759a-4436-a1af-caefa2dbaa0f",
       "queued_time": "2023-09-15T20:20:03.3091656Z",
       "session_id": "3753b326-451b-4e6b-bf24-9f1372d6e5da",
       "session_start_time": null,
       "spark_jobs": {
        "jobs": [],
        "limit": 20,
        "numbers": {
         "FAILED": 0,
         "RUNNING": 0,
         "SUCCEEDED": 0,
         "UNKNOWN": 0
        },
        "rule": "ALL_DESC"
       },
       "spark_pool": null,
       "state": "finished",
       "statement_id": 28
      },
      "text/plain": [
       "StatementMeta(, 3753b326-451b-4e6b-bf24-9f1372d6e5da, 28, Finished, Available)"
      ]
     },
     "metadata": {},
     "output_type": "display_data"
    },
    {
     "name": "stdout",
     "output_type": "stream",
     "text": [
      "Setting levels: control = 1, case = 2\n",
      "Setting direction: controls < cases\n",
      "[1] \"The auc is 0.72534355994432\""
     ]
    }
   ],
   "source": [
    "set.seed(1)\n",
    "rfc1_sm <- randomForest(y_train ~ ., data = new_train_df, ntree = 500, mtry = 4, nodesize = 3)\n",
    "y_pred <- predict(rfc1_sm, X_test, type = \"response\")\n",
    "cr_rfc1_sm <- caret::confusionMatrix(y_pred, y_test)\n",
    "cm_rfc1_sm <- table(y_pred, y_test)\n",
    "roc_auc_rfc1_sm <- pROC::auc(pROC::roc(as.numeric(y_test), as.numeric(y_pred)))\n",
    "print(paste0(\"The auc is \", roc_auc_rfc1_sm))"
   ]
  },
  {
   "cell_type": "markdown",
   "id": "8f4aebc8-c4f3-4a62-98e1-85653d19b78f",
   "metadata": {
    "nteract": {
     "transient": {
      "deleting": false
     }
    }
   },
   "source": [
    "Use random forest to train the model, with six features:"
   ]
  },
  {
   "cell_type": "code",
   "execution_count": null,
   "id": "6370dc3a-e35b-4206-89cc-e56f4a4b10b4",
   "metadata": {
    "jupyter": {
     "outputs_hidden": false,
     "source_hidden": false
    },
    "nteract": {
     "transient": {
      "deleting": false
     }
    }
   },
   "outputs": [
    {
     "data": {
      "application/vnd.livy.statement-meta+json": {
       "execution_finish_time": "2023-09-15T20:29:15.0180953Z",
       "execution_start_time": "2023-09-15T20:29:03.6152148Z",
       "livy_statement_state": "available",
       "parent_msg_id": "e69ead84-de71-47ce-af83-59e5f713365d",
       "queued_time": "2023-09-15T20:20:03.6409685Z",
       "session_id": "3753b326-451b-4e6b-bf24-9f1372d6e5da",
       "session_start_time": null,
       "spark_jobs": {
        "jobs": [],
        "limit": 20,
        "numbers": {
         "FAILED": 0,
         "RUNNING": 0,
         "SUCCEEDED": 0,
         "UNKNOWN": 0
        },
        "rule": "ALL_DESC"
       },
       "spark_pool": null,
       "state": "finished",
       "statement_id": 29
      },
      "text/plain": [
       "StatementMeta(, 3753b326-451b-4e6b-bf24-9f1372d6e5da, 29, Finished, Available)"
      ]
     },
     "metadata": {},
     "output_type": "display_data"
    },
    {
     "name": "stdout",
     "output_type": "stream",
     "text": [
      "Setting levels: control = 1, case = 2\n",
      "Setting direction: controls < cases\n",
      "[1] \"The auc is 0.723998281032502\""
     ]
    }
   ],
   "source": [
    "rfc2_sm <- randomForest(y_train ~ ., data = new_train_df, ntree = 500, mtry = 6, nodesize = 3)\n",
    "y_pred <- predict(rfc2_sm, X_test, type = \"response\")\n",
    "cr_rfc2_sm <- caret::confusionMatrix(y_pred, y_test)\n",
    "cm_rfc2_sm <- table(y_pred, y_test)\n",
    "roc_auc_rfc2_sm <- pROC::auc(pROC::roc(as.numeric(y_test), as.numeric(y_pred)))\n",
    "print(paste0(\"The auc is \", roc_auc_rfc2_sm))"
   ]
  },
  {
   "cell_type": "markdown",
   "id": "45c83ff0-38ce-4ef9-995b-6f2bee2716a6",
   "metadata": {
    "nteract": {
     "transient": {
      "deleting": false
     }
    }
   },
   "source": [
    "Train the model with LightGBM:"
   ]
  },
  {
   "cell_type": "code",
   "execution_count": null,
   "id": "48726506-0451-4a19-a187-f503c7b8323b",
   "metadata": {
    "jupyter": {
     "outputs_hidden": false,
     "source_hidden": false
    },
    "nteract": {
     "transient": {
      "deleting": false
     }
    }
   },
   "outputs": [
    {
     "data": {
      "application/vnd.livy.statement-meta+json": {
       "execution_finish_time": "2023-09-15T20:29:25.0366709Z",
       "execution_start_time": "2023-09-15T20:29:15.381874Z",
       "livy_statement_state": "available",
       "parent_msg_id": "63231757-e0a1-43ee-b3eb-2080ab13b180",
       "queued_time": "2023-09-15T20:20:04.0458249Z",
       "session_id": "3753b326-451b-4e6b-bf24-9f1372d6e5da",
       "session_start_time": null,
       "spark_jobs": {
        "jobs": [],
        "limit": 20,
        "numbers": {
         "FAILED": 0,
         "RUNNING": 0,
         "SUCCEEDED": 0,
         "UNKNOWN": 0
        },
        "rule": "ALL_DESC"
       },
       "spark_pool": null,
       "state": "finished",
       "statement_id": 30
      },
      "text/plain": [
       "StatementMeta(, 3753b326-451b-4e6b-bf24-9f1372d6e5da, 30, Finished, Available)"
      ]
     },
     "metadata": {},
     "output_type": "display_data"
    },
    {
     "name": "stdout",
     "output_type": "stream",
     "text": [
      "[LightGBM] [Warning] Unknown parameter: eval_metric\n",
      "[LightGBM] [Warning] Unknown parameter: nrounds\n",
      "[LightGBM] [Warning] Accuracy may be bad since you didn't explicitly set num_leaves OR 2^max_depth > num_leaves. (num_leaves=31).\n",
      "[LightGBM] [Warning] Unknown parameter: eval_metric\n",
      "[LightGBM] [Warning] Unknown parameter: nrounds\n",
      "[LightGBM] [Warning] Accuracy may be bad since you didn't explicitly set num_leaves OR 2^max_depth > num_leaves. (num_leaves=31).\n",
      "[LightGBM] [Warning] Unknown parameter: eval_metric\n",
      "[LightGBM] [Warning] Unknown parameter: nrounds\n",
      "[LightGBM] [Warning] Accuracy may be bad since you didn't explicitly set num_leaves OR 2^max_depth > num_leaves. (num_leaves=31).\n",
      "[LightGBM] [Warning] Unknown parameter: eval_metric\n",
      "[LightGBM] [Warning] Unknown parameter: nrounds\n",
      "[LightGBM] [Warning] Accuracy may be bad since you didn't explicitly set num_leaves OR 2^max_depth > num_leaves. (num_leaves=31).\n",
      "[LightGBM] [Info] Number of positive: 6385, number of negative: 6385\n",
      "[LightGBM] [Warning] Auto-choosing row-wise multi-threading, the overhead of testing was 0.022619 seconds.\n",
      "You can set `force_row_wise=true` to remove the overhead.\n",
      "And if memory is not enough, you can set `force_col_wise=true`.\n",
      "[LightGBM] [Info] Total Bins 4335\n",
      "[LightGBM] [Info] Number of data points in the train set: 12770, number of used features: 17\n",
      "[LightGBM] [Warning] Unknown parameter: eval_metric\n",
      "[LightGBM] [Warning] Unknown parameter: nrounds\n",
      "[LightGBM] [Warning] Accuracy may be bad since you didn't explicitly set num_leaves OR 2^max_depth > num_leaves. (num_leaves=31).\n",
      "[LightGBM] [Info] [binary:BoostFromScore]: pavg=0.500000 -> initscore=0.000000\n",
      "[1] \"[1]:  test's binary_logloss:0.642707\"\n",
      "[1] \"[2]:  test's binary_logloss:0.601218\"\n",
      "[1] \"[3]:  test's binary_logloss:0.566407\"\n",
      "[1] \"[4]:  test's binary_logloss:0.538533\"\n",
      "[1] \"[5]:  test's binary_logloss:0.513748\"\n",
      "[1] \"[6]:  test's binary_logloss:0.491133\"\n",
      "[1] \"[7]:  test's binary_logloss:0.472884\"\n",
      "[1] \"[8]:  test's binary_logloss:0.456423\"\n",
      "[1] \"[9]:  test's binary_logloss:0.442312\"\n",
      "[1] \"[10]:  test's binary_logloss:0.430226\"\n",
      "[1] \"[11]:  test's binary_logloss:0.419695\"\n",
      "[1] \"[12]:  test's binary_logloss:0.409986\"\n",
      "[1] \"[13]:  test's binary_logloss:0.401965\"\n",
      "[1] \"[14]:  test's binary_logloss:0.395045\"\n",
      "[1] \"[15]:  test's binary_logloss:0.38788\"\n",
      "[1] \"[16]:  test's binary_logloss:0.382246\"\n",
      "[1] \"[17]:  test's binary_logloss:0.377522\"\n",
      "[1] \"[18]:  test's binary_logloss:0.373159\"\n",
      "[1] \"[19]:  test's binary_logloss:0.36955\"\n",
      "[1] \"[20]:  test's binary_logloss:0.365729\"\n",
      "[1] \"[21]:  test's binary_logloss:0.362436\"\n",
      "[1] \"[22]:  test's binary_logloss:0.359417\"\n",
      "[1] \"[23]:  test's binary_logloss:0.356846\"\n",
      "[1] \"[24]:  test's binary_logloss:0.354761\"\n",
      "[1] \"[25]:  test's binary_logloss:0.352761\"\n",
      "[1] \"[26]:  test's binary_logloss:0.350712\"\n",
      "[1] \"[27]:  test's binary_logloss:0.349218\"\n",
      "[1] \"[28]:  test's binary_logloss:0.347371\"\n",
      "[1] \"[29]:  test's binary_logloss:0.345958\"\n",
      "[1] \"[30]:  test's binary_logloss:0.344635\"\n",
      "[1] \"[31]:  test's binary_logloss:0.343079\"\n",
      "[1] \"[32]:  test's binary_logloss:0.342276\"\n",
      "[1] \"[33]:  test's binary_logloss:0.341275\"\n",
      "[1] \"[34]:  test's binary_logloss:0.340255\"\n",
      "[1] \"[35]:  test's binary_logloss:0.339407\"\n",
      "[1] \"[36]:  test's binary_logloss:0.338737\"\n",
      "[1] \"[37]:  test's binary_logloss:0.338447\"\n",
      "[1] \"[38]:  test's binary_logloss:0.338146\"\n",
      "[1] \"[39]:  test's binary_logloss:0.337248\"\n",
      "[1] \"[40]:  test's binary_logloss:0.337321\"\n",
      "[1] \"[41]:  test's binary_logloss:0.336845\"\n",
      "[1] \"[42]:  test's binary_logloss:0.336358\"\n",
      "[1] \"[43]:  test's binary_logloss:0.335937\"\n",
      "[1] \"[44]:  test's binary_logloss:0.335314\"\n",
      "[1] \"[45]:  test's binary_logloss:0.33518\"\n",
      "[1] \"[46]:  test's binary_logloss:0.33514\"\n",
      "[1] \"[47]:  test's binary_logloss:0.334986\"\n",
      "[1] \"[48]:  test's binary_logloss:0.334465\"\n",
      "[1] \"[49]:  test's binary_logloss:0.334782\"\n",
      "[1] \"[50]:  test's binary_logloss:0.334883\"\n",
      "[1] \"[51]:  test's binary_logloss:0.334454\"\n",
      "[1] \"[52]:  test's binary_logloss:0.333935\"\n",
      "[1] \"[53]:  test's binary_logloss:0.334262\"\n",
      "[1] \"[54]:  test's binary_logloss:0.334026\"\n",
      "[1] \"[55]:  test's binary_logloss:0.33435\"\n",
      "[1] \"[56]:  test's binary_logloss:0.334403\"\n",
      "[1] \"[57]:  test's binary_logloss:0.334673\"\n",
      "[1] \"[58]:  test's binary_logloss:0.33445\"\n",
      "[1] \"[59]:  test's binary_logloss:0.334769\"\n",
      "[1] \"[60]:  test's binary_logloss:0.334576\"\n",
      "[1] \"[61]:  test's binary_logloss:0.3347\"\n",
      "[1] \"[62]:  test's binary_logloss:0.334928\"\n",
      "[1] \"[63]:  test's binary_logloss:0.335102\"\n",
      "[1] \"[64]:  test's binary_logloss:0.335003\"\n",
      "[1] \"[65]:  test's binary_logloss:0.335262\"\n",
      "[1] \"[66]:  test's binary_logloss:0.335195\"\n",
      "[1] \"[67]:  test's binary_logloss:0.335072\"\n",
      "[1] \"[68]:  test's binary_logloss:0.33525\"\n",
      "[1] \"[69]:  test's binary_logloss:0.335279\"\n",
      "[1] \"[70]:  test's binary_logloss:0.335302\"\n",
      "[1] \"[71]:  test's binary_logloss:0.335451\"\n",
      "[1] \"[72]:  test's binary_logloss:0.336008\"\n",
      "[1] \"[73]:  test's binary_logloss:0.335838\"\n",
      "[1] \"[74]:  test's binary_logloss:0.335918\"\n",
      "[1] \"[75]:  test's binary_logloss:0.335757\"\n",
      "[1] \"[76]:  test's binary_logloss:0.335671\"\n",
      "[1] \"[77]:  test's binary_logloss:0.335794\"\n",
      "[1] \"[78]:  test's binary_logloss:0.335495\"\n",
      "[1] \"[79]:  test's binary_logloss:0.335945\"\n",
      "[1] \"[80]:  test's binary_logloss:0.336155\"\n",
      "[1] \"[81]:  test's binary_logloss:0.336584\"\n",
      "[1] \"[82]:  test's binary_logloss:0.336453\"\n",
      "[1] \"[83]:  test's binary_logloss:0.336314\"\n",
      "[1] \"[84]:  test's binary_logloss:0.336425\"\n",
      "[1] \"[85]:  test's binary_logloss:0.336756\"\n",
      "[1] \"[86]:  test's binary_logloss:0.336879\"\n",
      "[1] \"[87]:  test's binary_logloss:0.337095\"\n",
      "[1] \"[88]:  test's binary_logloss:0.337199\"\n",
      "[1] \"[89]:  test's binary_logloss:0.337354\"\n",
      "[1] \"[90]:  test's binary_logloss:0.337638\"\n",
      "[1] \"[91]:  test's binary_logloss:0.337935\"\n",
      "[1] \"[92]:  test's binary_logloss:0.33809\"\n",
      "[1] \"[93]:  test's binary_logloss:0.337781\"\n",
      "[1] \"[94]:  test's binary_logloss:0.3384\"\n",
      "[1] \"[95]:  test's binary_logloss:0.338667\"\n",
      "[1] \"[96]:  test's binary_logloss:0.339022\"\n",
      "[1] \"[97]:  test's binary_logloss:0.339179\"\n",
      "[1] \"[98]:  test's binary_logloss:0.339215\"\n",
      "[1] \"[99]:  test's binary_logloss:0.339303\"\n",
      "[1] \"[100]:  test's binary_logloss:0.339245\"\n",
      "Setting levels: control = 0, case = 1\n",
      "Setting direction: controls < cases\n",
      "[1] \"The auc is 0.732280932851275\""
     ]
    }
   ],
   "source": [
    "set.seed(42)\n",
    "X_train <- new_train_df[, !(colnames(new_train_df) %in% c(\"y_train\"))]\n",
    "y_train <- as.numeric(as.character(new_train_df$y_train))\n",
    "y_test <- as.numeric(as.character(y_test))\n",
    "lgbm_sm_model <- lgb.train(list(objective = \"binary\", learning_rate = 0.1, max_delta_step = 2, nrounds = 100, max_depth = 10, eval_metric = \"logloss\"), lgb.Dataset(as.matrix(X_train), label = as.vector(y_train)), valids = list(test = lgb.Dataset(as.matrix(X_test), label = as.vector(as.numeric(y_test)))))\n",
    "y_pred <- as.numeric(predict(lgbm_sm_model, as.matrix(X_test)) > 0.5)\n",
    "accuracy <- mean(y_pred == as.vector(y_test))\n",
    "cr_lgbm_sm <- caret::confusionMatrix(as.factor(y_pred), as.factor(as.vector(y_test)))\n",
    "cm_lgbm_sm <- table(y_pred, as.vector(y_test))\n",
    "roc_auc_lgbm_sm <- pROC::auc(pROC::roc(as.vector(y_test), y_pred))\n",
    "print(paste0(\"The auc is \", roc_auc_lgbm_sm))"
   ]
  },
  {
   "cell_type": "markdown",
   "id": "d0a0dc58-0613-448d-b52e-5932fb2d69e2",
   "metadata": {
    "nteract": {
     "transient": {
      "deleting": false
     }
    }
   },
   "source": [
    "## Step 5: Evaluate and save the final machine learning model\n"
   ]
  },
  {
   "cell_type": "markdown",
   "id": "1bcb574b-5c21-436c-9fb2-be8144e853c6",
   "metadata": {
    "nteract": {
     "transient": {
      "deleting": false
     }
    }
   },
   "source": [
    "Assess the performance of the saved models on the testing dataset:"
   ]
  },
  {
   "cell_type": "code",
   "execution_count": null,
   "id": "b4ed281a-bd46-49ac-b3e2-f97895a0c350",
   "metadata": {
    "jupyter": {
     "outputs_hidden": false,
     "source_hidden": false
    },
    "nteract": {
     "transient": {
      "deleting": false
     }
    }
   },
   "outputs": [
    {
     "data": {
      "application/vnd.livy.statement-meta+json": {
       "execution_finish_time": "2023-09-15T20:29:26.5199423Z",
       "execution_start_time": "2023-09-15T20:29:25.3999456Z",
       "livy_statement_state": "available",
       "parent_msg_id": "c1de8209-5e46-4a70-b762-d5fd0d88bcf2",
       "queued_time": "2023-09-15T20:20:04.5357516Z",
       "session_id": "3753b326-451b-4e6b-bf24-9f1372d6e5da",
       "session_start_time": null,
       "spark_jobs": {
        "jobs": [],
        "limit": 20,
        "numbers": {
         "FAILED": 0,
         "RUNNING": 0,
         "SUCCEEDED": 0,
         "UNKNOWN": 0
        },
        "rule": "ALL_DESC"
       },
       "spark_pool": null,
       "state": "finished",
       "statement_id": 31
      },
      "text/plain": [
       "StatementMeta(, 3753b326-451b-4e6b-bf24-9f1372d6e5da, 31, Finished, Available)"
      ]
     },
     "metadata": {},
     "output_type": "display_data"
    }
   ],
   "source": [
    "ypred_rfc1_sm <- predict(rfc1_sm, X_test, type = \"response\")\n",
    "ypred_rfc2_sm <- predict(rfc2_sm, X_test, type = \"response\")\n",
    "ypred_lgbm1_sm <- as.numeric(predict(lgbm_sm_model, as.matrix(X_test)) > 0.5)"
   ]
  },
  {
   "cell_type": "markdown",
   "id": "ae531781-ac6a-4984-b91a-1ed756a48ba3",
   "metadata": {
    "nteract": {
     "transient": {
      "deleting": false
     }
    }
   },
   "source": [
    "Show true/false positives/negatives with a confusion matrix. Develop a script to plot the confusion matrix, to evaluate the classification accuracy:"
   ]
  },
  {
   "cell_type": "code",
   "execution_count": null,
   "id": "1f77abff-6a42-4dfe-bb26-1d4d4f6a8dcb",
   "metadata": {
    "jupyter": {
     "outputs_hidden": false,
     "source_hidden": false
    },
    "nteract": {
     "transient": {
      "deleting": false
     }
    }
   },
   "outputs": [
    {
     "data": {
      "application/vnd.livy.statement-meta+json": {
       "execution_finish_time": "2023-09-15T20:29:27.3644193Z",
       "execution_start_time": "2023-09-15T20:29:26.9177018Z",
       "livy_statement_state": "available",
       "parent_msg_id": "b8138ae1-45ff-4130-83b6-561bd6f9fe4e",
       "queued_time": "2023-09-15T20:20:04.9582395Z",
       "session_id": "3753b326-451b-4e6b-bf24-9f1372d6e5da",
       "session_start_time": null,
       "spark_jobs": {
        "jobs": [],
        "limit": 20,
        "numbers": {
         "FAILED": 0,
         "RUNNING": 0,
         "SUCCEEDED": 0,
         "UNKNOWN": 0
        },
        "rule": "ALL_DESC"
       },
       "spark_pool": null,
       "state": "finished",
       "statement_id": 32
      },
      "text/plain": [
       "StatementMeta(, 3753b326-451b-4e6b-bf24-9f1372d6e5da, 32, Finished, Available)"
      ]
     },
     "metadata": {},
     "output_type": "display_data"
    }
   ],
   "source": [
    "plot_confusion_matrix <- function(cm, classes, normalize=FALSE, title='Confusion matrix', cmap=heat.colors(10)) {\n",
    "  if (normalize) {\n",
    "    cm <- cm / rowSums(cm)\n",
    "  }\n",
    "  op <- par(mar = c(6,6,3,1))\n",
    "  image(1:nrow(cm), 1:ncol(cm), t(cm[nrow(cm):1,]), col = cmap, xaxt = 'n', yaxt = 'n', main = title, xlab = \"Prediction\", ylab = \"Reference\")\n",
    "  axis(1, at = 1:nrow(cm), labels = classes, las = 2)\n",
    "  axis(2, at = 1:ncol(cm), labels = rev(classes))\n",
    "  for (i in seq_len(nrow(cm))) {\n",
    "    for (j in seq_len(ncol(cm))) {\n",
    "      text(i, ncol(cm) - j + 1, cm[j,i], cex = 0.8)\n",
    "    }\n",
    "  }\n",
    "  par(op)\n",
    "}"
   ]
  },
  {
   "cell_type": "markdown",
   "id": "532d0968-e975-494a-97a8-c4ef460efafc",
   "metadata": {
    "nteract": {
     "transient": {
      "deleting": false
     }
    }
   },
   "source": [
    "Create a confusion matrix for the random forest classifier with four features:"
   ]
  },
  {
   "cell_type": "code",
   "execution_count": null,
   "id": "9cfd9303-f174-44ee-9bb2-cbbfdf60e48d",
   "metadata": {
    "jupyter": {
     "outputs_hidden": false,
     "source_hidden": false
    },
    "nteract": {
     "transient": {
      "deleting": false
     }
    }
   },
   "outputs": [
    {
     "data": {
      "application/vnd.livy.statement-meta+json": {
       "execution_finish_time": "2023-09-15T20:29:28.2112925Z",
       "execution_start_time": "2023-09-15T20:29:27.729959Z",
       "livy_statement_state": "available",
       "parent_msg_id": "31fea133-3f09-4cd4-8fd4-b0640826ced7",
       "queued_time": "2023-09-15T20:20:05.2637244Z",
       "session_id": "3753b326-451b-4e6b-bf24-9f1372d6e5da",
       "session_start_time": null,
       "spark_jobs": {
        "jobs": [],
        "limit": 20,
        "numbers": {
         "FAILED": 0,
         "RUNNING": 0,
         "SUCCEEDED": 0,
         "UNKNOWN": 0
        },
        "rule": "ALL_DESC"
       },
       "spark_pool": null,
       "state": "finished",
       "statement_id": 33
      },
      "text/plain": [
       "StatementMeta(, 3753b326-451b-4e6b-bf24-9f1372d6e5da, 33, Finished, Available)"
      ]
     },
     "metadata": {},
     "output_type": "display_data"
    },
    {
     "data": {
      "image/png": "[encoded data removed]",
      "text/plain": []
     },
     "execution_count": null,
     "metadata": {},
     "output_type": "execute_result"
    }
   ],
   "source": [
    "cfm <- table(y_test, ypred_rfc1_sm)\n",
    "plot_confusion_matrix(cfm, classes=c('Non Churn','Churn'), title='Random Forest with features of 4')\n",
    "tn <- cfm[1,1]\n",
    "fp <- cfm[1,2]\n",
    "fn <- cfm[2,1]\n",
    "tp <- cfm[2,2]"
   ]
  },
  {
   "cell_type": "markdown",
   "id": "ed2f6e78-a3ad-4c39-a6a6-70c358fd6c0e",
   "metadata": {
    "nteract": {
     "transient": {
      "deleting": false
     }
    }
   },
   "source": [
    "Create a confusion matrix for the random forest classifier with six features:"
   ]
  },
  {
   "cell_type": "code",
   "execution_count": null,
   "id": "4d980871-24b2-4dd2-941e-18ef72fc4464",
   "metadata": {
    "jupyter": {
     "outputs_hidden": false,
     "source_hidden": false
    },
    "nteract": {
     "transient": {
      "deleting": false
     }
    }
   },
   "outputs": [
    {
     "data": {
      "application/vnd.livy.statement-meta+json": {
       "execution_finish_time": "2023-09-15T20:29:28.9996702Z",
       "execution_start_time": "2023-09-15T20:29:28.5643791Z",
       "livy_statement_state": "available",
       "parent_msg_id": "6af7443a-d5b7-4a2d-a999-8637b182b21e",
       "queued_time": "2023-09-15T20:20:05.7271725Z",
       "session_id": "3753b326-451b-4e6b-bf24-9f1372d6e5da",
       "session_start_time": null,
       "spark_jobs": {
        "jobs": [],
        "limit": 20,
        "numbers": {
         "FAILED": 0,
         "RUNNING": 0,
         "SUCCEEDED": 0,
         "UNKNOWN": 0
        },
        "rule": "ALL_DESC"
       },
       "spark_pool": null,
       "state": "finished",
       "statement_id": 34
      },
      "text/plain": [
       "StatementMeta(, 3753b326-451b-4e6b-bf24-9f1372d6e5da, 34, Finished, Available)"
      ]
     },
     "metadata": {},
     "output_type": "display_data"
    },
    {
     "data": {
      "image/png": "[encoded data removed]",
      "text/plain": []
     },
     "execution_count": null,
     "metadata": {},
     "output_type": "execute_result"
    }
   ],
   "source": [
    "cfm <- table(y_test, ypred_rfc2_sm)\n",
    "plot_confusion_matrix(cfm, classes=c('Non  Churn','Churn'), title='Random Forest with features of 6')\n",
    "tn <- cfm[1,1]\n",
    "fp <- cfm[1,2]\n",
    "fn <- cfm[2,1]\n",
    "tp <- cfm[2,2]"
   ]
  },
  {
   "cell_type": "markdown",
   "id": "e17e4d79-885e-47fb-9962-1c8366a5ab5c",
   "metadata": {
    "nteract": {
     "transient": {
      "deleting": false
     }
    }
   },
   "source": [
    "Create a confusion matrix for LightGBM:"
   ]
  },
  {
   "cell_type": "code",
   "execution_count": null,
   "id": "6cdd3fb5-1dba-49f8-b24a-526d91c82607",
   "metadata": {
    "jupyter": {
     "outputs_hidden": false,
     "source_hidden": false
    },
    "nteract": {
     "transient": {
      "deleting": false
     }
    }
   },
   "outputs": [
    {
     "data": {
      "application/vnd.livy.statement-meta+json": {
       "execution_finish_time": "2023-09-15T20:29:29.8142327Z",
       "execution_start_time": "2023-09-15T20:29:29.3598704Z",
       "livy_statement_state": "available",
       "parent_msg_id": "171654e0-a77c-4836-bcb9-950a02bbf0b1",
       "queued_time": "2023-09-15T20:20:06.0503255Z",
       "session_id": "3753b326-451b-4e6b-bf24-9f1372d6e5da",
       "session_start_time": null,
       "spark_jobs": {
        "jobs": [],
        "limit": 20,
        "numbers": {
         "FAILED": 0,
         "RUNNING": 0,
         "SUCCEEDED": 0,
         "UNKNOWN": 0
        },
        "rule": "ALL_DESC"
       },
       "spark_pool": null,
       "state": "finished",
       "statement_id": 35
      },
      "text/plain": [
       "StatementMeta(, 3753b326-451b-4e6b-bf24-9f1372d6e5da, 35, Finished, Available)"
      ]
     },
     "metadata": {},
     "output_type": "display_data"
    },
    {
     "data": {
      "image/png": "[encoded data removed]",
      "text/plain": []
     },
     "execution_count": null,
     "metadata": {},
     "output_type": "execute_result"
    }
   ],
   "source": [
    "cfm <- table(y_test, ypred_lgbm1_sm)\n",
    "plot_confusion_matrix(cfm, classes=c('Non Churn','Churn'), title='LightGBM')\n",
    "tn <- cfm[1,1]\n",
    "fp <- cfm[1,2]\n",
    "fn <- cfm[2,1]\n",
    "tp <- cfm[2,2]"
   ]
  },
  {
   "cell_type": "markdown",
   "id": "6823395a-c7b2-4e31-ab0b-5af00fc7ca23",
   "metadata": {
    "nteract": {
     "transient": {
      "deleting": false
     }
    }
   },
   "source": [
    "#### Save results for Power BI\n",
    "\n",
    "Save the delta frame to the lakehouse, to move the model prediction results to a Power BI visualization:"
   ]
  },
  {
   "cell_type": "code",
   "execution_count": null,
   "id": "eaed04b0-3239-4d08-a07c-6b82513ce0ff",
   "metadata": {
    "jupyter": {
     "outputs_hidden": false,
     "source_hidden": false
    },
    "nteract": {
     "transient": {
      "deleting": false
     }
    }
   },
   "outputs": [
    {
     "data": {
      "application/vnd.livy.statement-meta+json": {
       "execution_finish_time": "2023-09-15T20:29:39.5692435Z",
       "execution_start_time": "2023-09-15T20:29:30.1635301Z",
       "livy_statement_state": "available",
       "parent_msg_id": "46d72445-bbfd-4e19-8e9a-524f9aeb5757",
       "queued_time": "2023-09-15T20:20:06.5270998Z",
       "session_id": "3753b326-451b-4e6b-bf24-9f1372d6e5da",
       "session_start_time": null,
       "spark_jobs": {
        "jobs": [
         {
          "completionTime": "2023-09-15T20:29:37.955GMT",
          "dataRead": 4574,
          "dataWritten": 0,
          "description": "Delta: Job group for statement 36:\ndf_pred <- X_test\ndf_pred$y_test <- y_test\ndf_pred$ypred_rfc1_sm <- ypred_rfc1_sm\ndf_pred$ypred_rfc2_sm <- ypred_rfc2_sm\ndf_pred$ypred_lgbm1_sm <- ypred_lgbm1_sm\n\ntable_name <- \"df_pred_results\"\nsparkDF <- as.DataFrame(df_pred)\nwrite.df(sparkDF, paste0(\"Tables/\", table_name), source = \"delta\", mode = \"overwrite\", overwriteSchema = \"true\")\n\ncat(paste0(\"Spark dataframe saved to delta table: \", table_name)): Compute snapshot for version: 6",
          "displayName": "toString at String.java:2994",
          "jobGroup": "36",
          "jobId": 35,
          "killedTasksSummary": {},
          "name": "toString at String.java:2994",
          "numActiveStages": 0,
          "numActiveTasks": 0,
          "numCompletedIndices": 1,
          "numCompletedStages": 1,
          "numCompletedTasks": 1,
          "numFailedStages": 0,
          "numFailedTasks": 0,
          "numKilledTasks": 0,
          "numSkippedStages": 2,
          "numSkippedTasks": 57,
          "numTasks": 58,
          "rowCount": 50,
          "stageIds": [
           63,
           64,
           62
          ],
          "status": "SUCCEEDED",
          "submissionTime": "2023-09-15T20:29:37.912GMT",
          "usageDescription": ""
         },
         {
          "completionTime": "2023-09-15T20:29:37.890GMT",
          "dataRead": 15074,
          "dataWritten": 4574,
          "description": "Delta: Job group for statement 36:\ndf_pred <- X_test\ndf_pred$y_test <- y_test\ndf_pred$ypred_rfc1_sm <- ypred_rfc1_sm\ndf_pred$ypred_rfc2_sm <- ypred_rfc2_sm\ndf_pred$ypred_lgbm1_sm <- ypred_lgbm1_sm\n\ntable_name <- \"df_pred_results\"\nsparkDF <- as.DataFrame(df_pred)\nwrite.df(sparkDF, paste0(\"Tables/\", table_name), source = \"delta\", mode = \"overwrite\", overwriteSchema = \"true\")\n\ncat(paste0(\"Spark dataframe saved to delta table: \", table_name)): Compute snapshot for version: 6",
          "displayName": "toString at String.java:2994",
          "jobGroup": "36",
          "jobId": 34,
          "killedTasksSummary": {},
          "name": "toString at String.java:2994",
          "numActiveStages": 0,
          "numActiveTasks": 0,
          "numCompletedIndices": 50,
          "numCompletedStages": 1,
          "numCompletedTasks": 50,
          "numFailedStages": 0,
          "numFailedTasks": 0,
          "numKilledTasks": 0,
          "numSkippedStages": 1,
          "numSkippedTasks": 7,
          "numTasks": 57,
          "rowCount": 73,
          "stageIds": [
           60,
           61
          ],
          "status": "SUCCEEDED",
          "submissionTime": "2023-09-15T20:29:37.268GMT",
          "usageDescription": ""
         },
         {
          "completionTime": "2023-09-15T20:29:36.307GMT",
          "dataRead": 19300,
          "dataWritten": 15074,
          "description": "Delta: Job group for statement 36:\ndf_pred <- X_test\ndf_pred$y_test <- y_test\ndf_pred$ypred_rfc1_sm <- ypred_rfc1_sm\ndf_pred$ypred_rfc2_sm <- ypred_rfc2_sm\ndf_pred$ypred_lgbm1_sm <- ypred_lgbm1_sm\n\ntable_name <- \"df_pred_results\"\nsparkDF <- as.DataFrame(df_pred)\nwrite.df(sparkDF, paste0(\"Tables/\", table_name), source = \"delta\", mode = \"overwrite\", overwriteSchema = \"true\")\n\ncat(paste0(\"Spark dataframe saved to delta table: \", table_name)): Compute snapshot for version: 6",
          "displayName": "toString at String.java:2994",
          "jobGroup": "36",
          "jobId": 33,
          "killedTasksSummary": {},
          "name": "toString at String.java:2994",
          "numActiveStages": 0,
          "numActiveTasks": 0,
          "numCompletedIndices": 7,
          "numCompletedStages": 1,
          "numCompletedTasks": 7,
          "numFailedStages": 0,
          "numFailedTasks": 0,
          "numKilledTasks": 0,
          "numSkippedStages": 0,
          "numSkippedTasks": 0,
          "numTasks": 7,
          "rowCount": 46,
          "stageIds": [
           59
          ],
          "status": "SUCCEEDED",
          "submissionTime": "2023-09-15T20:29:36.082GMT",
          "usageDescription": ""
         },
         {
          "completionTime": "2023-09-15T20:29:35.240GMT",
          "dataRead": 2593,
          "dataWritten": 0,
          "description": "Job group for statement 36:\ndf_pred <- X_test\ndf_pred$y_test <- y_test\ndf_pred$ypred_rfc1_sm <- ypred_rfc1_sm\ndf_pred$ypred_rfc2_sm <- ypred_rfc2_sm\ndf_pred$ypred_lgbm1_sm <- ypred_lgbm1_sm\n\ntable_name <- \"df_pred_results\"\nsparkDF <- as.DataFrame(df_pred)\nwrite.df(sparkDF, paste0(\"Tables/\", table_name), source = \"delta\", mode = \"overwrite\", overwriteSchema = \"true\")\n\ncat(paste0(\"Spark dataframe saved to delta table: \", table_name))",
          "displayName": "$anonfun$recordDeltaOperationInternal$1 at SynapseLoggingShim.scala:95",
          "jobGroup": "36",
          "jobId": 32,
          "killedTasksSummary": {},
          "name": "$anonfun$recordDeltaOperationInternal$1 at SynapseLoggingShim.scala:95",
          "numActiveStages": 0,
          "numActiveTasks": 0,
          "numCompletedIndices": 50,
          "numCompletedStages": 1,
          "numCompletedTasks": 50,
          "numFailedStages": 0,
          "numFailedTasks": 0,
          "numKilledTasks": 0,
          "numSkippedStages": 1,
          "numSkippedTasks": 6,
          "numTasks": 56,
          "rowCount": 4,
          "stageIds": [
           57,
           58
          ],
          "status": "SUCCEEDED",
          "submissionTime": "2023-09-15T20:29:35.108GMT",
          "usageDescription": ""
         },
         {
          "completionTime": "2023-09-15T20:29:35.027GMT",
          "dataRead": 98255,
          "dataWritten": 47325,
          "description": "Job group for statement 36:\ndf_pred <- X_test\ndf_pred$y_test <- y_test\ndf_pred$ypred_rfc1_sm <- ypred_rfc1_sm\ndf_pred$ypred_rfc2_sm <- ypred_rfc2_sm\ndf_pred$ypred_lgbm1_sm <- ypred_lgbm1_sm\n\ntable_name <- \"df_pred_results\"\nsparkDF <- as.DataFrame(df_pred)\nwrite.df(sparkDF, paste0(\"Tables/\", table_name), source = \"delta\", mode = \"overwrite\", overwriteSchema = \"true\")\n\ncat(paste0(\"Spark dataframe saved to delta table: \", table_name))",
          "displayName": "save at NativeMethodAccessorImpl.java:0",
          "jobGroup": "36",
          "jobId": 31,
          "killedTasksSummary": {},
          "name": "save at NativeMethodAccessorImpl.java:0",
          "numActiveStages": 0,
          "numActiveTasks": 0,
          "numCompletedIndices": 1,
          "numCompletedStages": 1,
          "numCompletedTasks": 1,
          "numFailedStages": 0,
          "numFailedTasks": 0,
          "numKilledTasks": 0,
          "numSkippedStages": 1,
          "numSkippedTasks": 1,
          "numTasks": 2,
          "rowCount": 3970,
          "stageIds": [
           56,
           55
          ],
          "status": "SUCCEEDED",
          "submissionTime": "2023-09-15T20:29:34.156GMT",
          "usageDescription": ""
         },
         {
          "completionTime": "2023-09-15T20:29:34.109GMT",
          "dataRead": 0,
          "dataWritten": 98255,
          "description": "Job group for statement 36:\ndf_pred <- X_test\ndf_pred$y_test <- y_test\ndf_pred$ypred_rfc1_sm <- ypred_rfc1_sm\ndf_pred$ypred_rfc2_sm <- ypred_rfc2_sm\ndf_pred$ypred_lgbm1_sm <- ypred_lgbm1_sm\n\ntable_name <- \"df_pred_results\"\nsparkDF <- as.DataFrame(df_pred)\nwrite.df(sparkDF, paste0(\"Tables/\", table_name), source = \"delta\", mode = \"overwrite\", overwriteSchema = \"true\")\n\ncat(paste0(\"Spark dataframe saved to delta table: \", table_name))",
          "displayName": "save at NativeMethodAccessorImpl.java:0",
          "jobGroup": "36",
          "jobId": 30,
          "killedTasksSummary": {},
          "name": "save at NativeMethodAccessorImpl.java:0",
          "numActiveStages": 0,
          "numActiveTasks": 0,
          "numCompletedIndices": 1,
          "numCompletedStages": 1,
          "numCompletedTasks": 1,
          "numFailedStages": 0,
          "numFailedTasks": 0,
          "numKilledTasks": 0,
          "numSkippedStages": 0,
          "numSkippedTasks": 0,
          "numTasks": 1,
          "rowCount": 1985,
          "stageIds": [
           54
          ],
          "status": "SUCCEEDED",
          "submissionTime": "2023-09-15T20:29:33.198GMT",
          "usageDescription": ""
         },
         {
          "completionTime": "2023-09-15T20:29:32.966GMT",
          "dataRead": 4569,
          "dataWritten": 0,
          "description": "Delta: Job group for statement 36:\ndf_pred <- X_test\ndf_pred$y_test <- y_test\ndf_pred$ypred_rfc1_sm <- ypred_rfc1_sm\ndf_pred$ypred_rfc2_sm <- ypred_rfc2_sm\ndf_pred$ypred_lgbm1_sm <- ypred_lgbm1_sm\n\ntable_name <- \"df_pred_results\"\nsparkDF <- as.DataFrame(df_pred)\nwrite.df(sparkDF, paste0(\"Tables/\", table_name), source = \"delta\", mode = \"overwrite\", overwriteSchema = \"true\")\n\ncat(paste0(\"Spark dataframe saved to delta table: \", table_name)): Compute snapshot for version: 5",
          "displayName": "toString at String.java:2994",
          "jobGroup": "36",
          "jobId": 29,
          "killedTasksSummary": {},
          "name": "toString at String.java:2994",
          "numActiveStages": 0,
          "numActiveTasks": 0,
          "numCompletedIndices": 1,
          "numCompletedStages": 1,
          "numCompletedTasks": 1,
          "numFailedStages": 0,
          "numFailedTasks": 0,
          "numKilledTasks": 0,
          "numSkippedStages": 2,
          "numSkippedTasks": 56,
          "numTasks": 57,
          "rowCount": 50,
          "stageIds": [
           51,
           52,
           53
          ],
          "status": "SUCCEEDED",
          "submissionTime": "2023-09-15T20:29:32.930GMT",
          "usageDescription": ""
         },
         {
          "completionTime": "2023-09-15T20:29:32.914GMT",
          "dataRead": 13022,
          "dataWritten": 4569,
          "description": "Delta: Job group for statement 36:\ndf_pred <- X_test\ndf_pred$y_test <- y_test\ndf_pred$ypred_rfc1_sm <- ypred_rfc1_sm\ndf_pred$ypred_rfc2_sm <- ypred_rfc2_sm\ndf_pred$ypred_lgbm1_sm <- ypred_lgbm1_sm\n\ntable_name <- \"df_pred_results\"\nsparkDF <- as.DataFrame(df_pred)\nwrite.df(sparkDF, paste0(\"Tables/\", table_name), source = \"delta\", mode = \"overwrite\", overwriteSchema = \"true\")\n\ncat(paste0(\"Spark dataframe saved to delta table: \", table_name)): Compute snapshot for version: 5",
          "displayName": "toString at String.java:2994",
          "jobGroup": "36",
          "jobId": 28,
          "killedTasksSummary": {},
          "name": "toString at String.java:2994",
          "numActiveStages": 0,
          "numActiveTasks": 0,
          "numCompletedIndices": 50,
          "numCompletedStages": 1,
          "numCompletedTasks": 50,
          "numFailedStages": 0,
          "numFailedTasks": 0,
          "numKilledTasks": 0,
          "numSkippedStages": 1,
          "numSkippedTasks": 6,
          "numTasks": 56,
          "rowCount": 70,
          "stageIds": [
           49,
           50
          ],
          "status": "SUCCEEDED",
          "submissionTime": "2023-09-15T20:29:32.342GMT",
          "usageDescription": ""
         },
         {
          "completionTime": "2023-09-15T20:29:30.944GMT",
          "dataRead": 17083,
          "dataWritten": 13022,
          "description": "Delta: Job group for statement 36:\ndf_pred <- X_test\ndf_pred$y_test <- y_test\ndf_pred$ypred_rfc1_sm <- ypred_rfc1_sm\ndf_pred$ypred_rfc2_sm <- ypred_rfc2_sm\ndf_pred$ypred_lgbm1_sm <- ypred_lgbm1_sm\n\ntable_name <- \"df_pred_results\"\nsparkDF <- as.DataFrame(df_pred)\nwrite.df(sparkDF, paste0(\"Tables/\", table_name), source = \"delta\", mode = \"overwrite\", overwriteSchema = \"true\")\n\ncat(paste0(\"Spark dataframe saved to delta table: \", table_name)): Compute snapshot for version: 5",
          "displayName": "toString at String.java:2994",
          "jobGroup": "36",
          "jobId": 27,
          "killedTasksSummary": {},
          "name": "toString at String.java:2994",
          "numActiveStages": 0,
          "numActiveTasks": 0,
          "numCompletedIndices": 6,
          "numCompletedStages": 1,
          "numCompletedTasks": 6,
          "numFailedStages": 0,
          "numFailedTasks": 0,
          "numKilledTasks": 0,
          "numSkippedStages": 0,
          "numSkippedTasks": 0,
          "numTasks": 6,
          "rowCount": 40,
          "stageIds": [
           48
          ],
          "status": "SUCCEEDED",
          "submissionTime": "2023-09-15T20:29:30.643GMT",
          "usageDescription": ""
         }
        ],
        "limit": 20,
        "numbers": {
         "FAILED": 0,
         "RUNNING": 0,
         "SUCCEEDED": 9,
         "UNKNOWN": 0
        },
        "rule": "ALL_DESC"
       },
       "spark_pool": null,
       "state": "finished",
       "statement_id": 36
      },
      "text/plain": [
       "StatementMeta(, 3753b326-451b-4e6b-bf24-9f1372d6e5da, 36, Finished, Available)"
      ]
     },
     "metadata": {},
     "output_type": "display_data"
    },
    {
     "name": "stdout",
     "output_type": "stream",
     "text": [
      "Spark dataframe saved to delta table: df_pred_results"
     ]
    }
   ],
   "source": [
    "df_pred <- X_test\n",
    "df_pred$y_test <- y_test\n",
    "df_pred$ypred_rfc1_sm <- ypred_rfc1_sm\n",
    "df_pred$ypred_rfc2_sm <- ypred_rfc2_sm\n",
    "df_pred$ypred_lgbm1_sm <- ypred_lgbm1_sm\n",
    "\n",
    "table_name <- \"df_pred_results\"\n",
    "sparkDF <- as.DataFrame(df_pred)\n",
    "write.df(sparkDF, paste0(\"Tables/\", table_name), source = \"delta\", mode = \"overwrite\", overwriteSchema = \"true\")\n",
    "\n",
    "cat(paste0(\"Spark DataFrame saved to delta table: \", table_name))"
   ]
  },
  {
   "cell_type": "markdown",
   "id": "b579023b-d67e-49a4-9799-9de8d36b1455",
   "metadata": {
    "nteract": {
     "transient": {
      "deleting": false
     }
    }
   },
   "source": [
    "## Step 6: Access visualizations in Power BI"
   ]
  },
  {
   "cell_type": "markdown",
   "id": "06a929b2-3416-49a6-8603-7f2e9940605d",
   "metadata": {
    "nteract": {
     "transient": {
      "deleting": false
     }
    }
   },
   "source": [
    "Access your saved table in Power BI:\n",
    "\n",
    "1. On the left, select **OneLake data hub**\n",
    "1. Select the lakehouse that you added to this notebook\n",
    "1. In the **Open this Lakehouse** section, select **Open**\n",
    "1. On the ribbon, select **New semantic model**. Select `df_pred_results`, and then select **Continue** to create a new Power BI semantic model linked to the predictions\n",
    "1. On the tools at the top of the dataset page, select **New report** to open the Power BI report authoring page.\n",
    "\n",
    "\n",
    "The following screenshot shows some example visualizations. The data panel shows the delta tables and columns to select from a table. After selection of appropriate category (x) axis and value (y) axis, you can choose the filters and functions. For example, you can choose a sum or average of the table column.\n",
    "\n",
    "> [!NOTE]\n",
    "> The screenshot is an illustrated example that shows the analysis of the saved prediction results in Power BI. For a real use case of customer churn, platform users might need a more thorough ideation of the visualizations to create, based on both subject matter expertise and what the organization and business analytics team and firm have standardized as metrics.\n",
    "\n",
    "<img src=\"https://synapseaisolutionsa.blob.core.windows.net/public/bankcustomerchurn/PBIviz3.png\"  width=\"100%\" height=\"100%\">"
   ]
  },
  {
   "cell_type": "markdown",
   "id": "e05dcad4",
   "metadata": {},
   "source": [
    "The Power BI report shows that customers who use more than two of the bank products have a higher churn rate. However, few customers had more than two products. (See the plot in the lower-left panel.) The bank should collect more data but also investigate other features that correlate with more products.\n",
    "\n",
    "Bank customers in Germany have a higher churn rate compared to customers in France and Spain. (See the plot in the lower-right panel.) Based on the report results, an investigation into the factors that encouraged customers to leave might help.\n",
    "\n",
    "There are more middle-aged customers (between 25 and 45). Customers between 45 and 60 tend to exit more.\n",
    "\n",
    "Finally, customers with lower credit scores would most likely leave the bank for other financial institutions. The bank should explore ways to encourage customers with lower credit scores and account balances to stay with the bank."
   ]
  },
  {
   "cell_type": "code",
   "execution_count": null,
   "id": "69f2c620-7f1d-4099-8079-5f6744fdb7a1",
   "metadata": {
    "jupyter": {
     "outputs_hidden": false,
     "source_hidden": false
    },
    "nteract": {
     "transient": {
      "deleting": false
     }
    }
   },
   "outputs": [
    {
     "data": {
      "application/vnd.livy.statement-meta+json": {
       "execution_finish_time": "2023-09-15T20:29:40.3763247Z",
       "execution_start_time": "2023-09-15T20:29:39.9237563Z",
       "livy_statement_state": "available",
       "parent_msg_id": "0baa7f87-a372-4a85-b6b7-9b567088fde9",
       "queued_time": "2023-09-15T20:20:06.9456477Z",
       "session_id": "3753b326-451b-4e6b-bf24-9f1372d6e5da",
       "session_start_time": null,
       "spark_jobs": {
        "jobs": [],
        "limit": 20,
        "numbers": {
         "FAILED": 0,
         "RUNNING": 0,
         "SUCCEEDED": 0,
         "UNKNOWN": 0
        },
        "rule": "ALL_DESC"
       },
       "spark_pool": null,
       "state": "finished",
       "statement_id": 37
      },
      "text/plain": [
       "StatementMeta(, 3753b326-451b-4e6b-bf24-9f1372d6e5da, 37, Finished, Available)"
      ]
     },
     "metadata": {},
     "output_type": "display_data"
    },
    {
     "name": "stdout",
     "output_type": "stream",
     "text": [
      "Full run cost 111 seconds."
     ]
    }
   ],
   "source": [
    "# Determine the entire runtime\n",
    "cat(paste0(\"Full run cost \", as.integer(Sys.time() - ts), \" seconds.\\n\"))"
   ]
  }
 ],
 "metadata": {
  "kernel_info": {
   "name": "synapse_pyspark"
  },
  "kernelspec": {
   "display_name": "Synapse PySpark",
   "language": "Python",
   "name": "synapse_pyspark"
  },
  "language_info": {
   "name": "r"
  },
  "notebook_environment": {},
  "nteract": {
   "version": "nteract-front-end@1.0.0"
  },
  "save_output": true,
  "spark_compute": {
   "compute_id": "/trident/default",
   "session_options": {
    "conf": {},
    "enableDebugMode": false
   }
  }
 },
 "nbformat": 4,
 "nbformat_minor": 5
}
