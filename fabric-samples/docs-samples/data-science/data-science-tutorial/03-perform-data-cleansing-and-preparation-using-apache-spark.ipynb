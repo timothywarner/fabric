{
    "cells": [{
            "cell_type": "markdown",
            "source": ["# Module 3: Perform Data Cleansing and preparation using Apache Spark"],
            "metadata": {}
        }, {
            "cell_type": "markdown",
            "source": ["Please add the lakehouse you created earlier as the default lakehouse in this notebook."],
            "metadata": {
                "nteract": {
                    "transient": {
                        "deleting": false
                    }
                }
            }
        }, {
            "cell_type": "markdown",
            "source": ["#### Load NYC taxi Data from lakehouse delta table"],
            "metadata": {}
        }, {
            "cell_type": "code",
            "source": ["nytaxi_df = spark.read.format(\"delta\").load(\"Tables/nyctaxi_raw\")"],
            "outputs": [{
                    "output_type": "display_data",
                    "data": {
                        "application/vnd.livy.statement-meta+json": {
                            "spark_pool": null,
                            "session_id": "1e76f307-3177-4fcc-99db-0ed06995d666",
                            "statement_id": 3,
                            "state": "finished",
                            "livy_statement_state": "available",
                            "queued_time": "2023-05-08T06:26:35.7130869Z",
                            "session_start_time": "2023-05-08T06:26:36.3609915Z",
                            "execution_start_time": "2023-05-08T06:26:45.8999601Z",
                            "execution_finish_time": "2023-05-08T06:26:51.4532387Z",
                            "spark_jobs": {
                                "numbers": {
                                    "SUCCEEDED": 3,
                                    "RUNNING": 0,
                                    "UNKNOWN": 0,
                                    "FAILED": 0
                                },
                                "jobs": [{
                                        "dataWritten": 0,
                                        "dataRead": 4795,
                                        "rowCount": 50,
                                        "jobId": 9,
                                        "name": "toString at String.java:2994",
                                        "description": "Delta: Job group for statement 3:\nnytaxi_df = spark.read.format(\"delta\").load(\"Tables/nyctaxi_raw\"): Compute snapshot for version: 0",
                                        "submissionTime": "2023-05-08T06:26:50.889GMT",
                                        "completionTime": "2023-05-08T06:26:50.941GMT",
                                        "stageIds": [15, 13, 14],
                                        "jobGroup": "3",
                                        "status": "SUCCEEDED",
                                        "numTasks": 52,
                                        "numActiveTasks": 0,
                                        "numCompletedTasks": 1,
                                        "numSkippedTasks": 51,
                                        "numFailedTasks": 0,
                                        "numKilledTasks": 0,
                                        "numCompletedIndices": 1,
                                        "numActiveStages": 0,
                                        "numCompletedStages": 1,
                                        "numSkippedStages": 2,
                                        "numFailedStages": 0,
                                        "killedTasksSummary": {}
                                    }, {
                                        "dataWritten": 4795,
                                        "dataRead": 16511,
                                        "rowCount": 67,
                                        "jobId": 8,
                                        "name": "toString at String.java:2994",
                                        "description": "Delta: Job group for statement 3:\nnytaxi_df = spark.read.format(\"delta\").load(\"Tables/nyctaxi_raw\"): Compute snapshot for version: 0",
                                        "submissionTime": "2023-05-08T06:26:49.999GMT",
                                        "completionTime": "2023-05-08T06:26:50.865GMT",
                                        "stageIds": [12, 11],
                                        "jobGroup": "3",
                                        "status": "SUCCEEDED",
                                        "numTasks": 51,
                                        "numActiveTasks": 0,
                                        "numCompletedTasks": 50,
                                        "numSkippedTasks": 1,
                                        "numFailedTasks": 0,
                                        "numKilledTasks": 0,
                                        "numCompletedIndices": 50,
                                        "numActiveStages": 0,
                                        "numCompletedStages": 1,
                                        "numSkippedStages": 1,
                                        "numFailedStages": 0,
                                        "killedTasksSummary": {}
                                    }, {
                                        "dataWritten": 16511,
                                        "dataRead": 27370,
                                        "rowCount": 34,
                                        "jobId": 7,
                                        "name": "toString at String.java:2994",
                                        "description": "Delta: Job group for statement 3:\nnytaxi_df = spark.read.format(\"delta\").load(\"Tables/nyctaxi_raw\"): Compute snapshot for version: 0",
                                        "submissionTime": "2023-05-08T06:26:46.978GMT",
                                        "completionTime": "2023-05-08T06:26:47.711GMT",
                                        "stageIds": [10],
                                        "jobGroup": "3",
                                        "status": "SUCCEEDED",
                                        "numTasks": 1,
                                        "numActiveTasks": 0,
                                        "numCompletedTasks": 1,
                                        "numSkippedTasks": 0,
                                        "numFailedTasks": 0,
                                        "numKilledTasks": 0,
                                        "numCompletedIndices": 1,
                                        "numActiveStages": 0,
                                        "numCompletedStages": 1,
                                        "numSkippedStages": 0,
                                        "numFailedStages": 0,
                                        "killedTasksSummary": {}
                                    }
                                ],
                                "limit": 20,
                                "rule": "ALL_DESC"
                            },
                            "parent_msg_id": "73d31520-45ee-4a33-9c74-f6c119f6759b"
                        },
                        "text/plain": "StatementMeta(, 1e76f307-3177-4fcc-99db-0ed06995d666, 3, Finished, Available)"
                    },
                    "metadata": {}
                }
            ],
            "execution_count": 1,
            "metadata": {}
        }, {
            "cell_type": "markdown",
            "source": ["##### Get Summary Statistics of all the columns using Spark dataframe summary"],
            "metadata": {}
        }, {
            "cell_type": "code",
            "source": ["display(nytaxi_df.summary())"],
            "outputs": [{
                    "output_type": "display_data",
                    "data": {
                        "application/vnd.livy.statement-meta+json": {
                            "spark_pool": null,
                            "session_id": "1e76f307-3177-4fcc-99db-0ed06995d666",
                            "statement_id": 4,
                            "state": "finished",
                            "livy_statement_state": "available",
                            "queued_time": "2023-05-08T06:26:35.7218723Z",
                            "session_start_time": null,
                            "execution_start_time": "2023-05-08T06:26:52.7129587Z",
                            "execution_finish_time": "2023-05-08T06:32:53.8650198Z",
                            "spark_jobs": {
                                "numbers": {
                                    "SUCCEEDED": 3,
                                    "RUNNING": 0,
                                    "UNKNOWN": 0,
                                    "FAILED": 0
                                },
                                "jobs": [{
                                        "dataWritten": 0,
                                        "dataRead": 9892359,
                                        "rowCount": 13,
                                        "jobId": 12,
                                        "name": "summary at NativeMethodAccessorImpl.java:0",
                                        "description": "Job group for statement 4:\ndisplay(nytaxi_df.summary())",
                                        "submissionTime": "2023-05-08T06:32:47.658GMT",
                                        "completionTime": "2023-05-08T06:32:53.085GMT",
                                        "stageIds": [19, 20],
                                        "jobGroup": "4",
                                        "status": "SUCCEEDED",
                                        "numTasks": 14,
                                        "numActiveTasks": 0,
                                        "numCompletedTasks": 1,
                                        "numSkippedTasks": 13,
                                        "numFailedTasks": 0,
                                        "numKilledTasks": 0,
                                        "numCompletedIndices": 1,
                                        "numActiveStages": 0,
                                        "numCompletedStages": 1,
                                        "numSkippedStages": 1,
                                        "numFailedStages": 0,
                                        "killedTasksSummary": {}
                                    }, {
                                        "dataWritten": 9892359,
                                        "dataRead": 444579429,
                                        "rowCount": 46429631,
                                        "jobId": 11,
                                        "name": "summary at NativeMethodAccessorImpl.java:0",
                                        "description": "Job group for statement 4:\ndisplay(nytaxi_df.summary())",
                                        "submissionTime": "2023-05-08T06:26:53.302GMT",
                                        "completionTime": "2023-05-08T06:32:47.628GMT",
                                        "stageIds": [18],
                                        "jobGroup": "4",
                                        "status": "SUCCEEDED",
                                        "numTasks": 13,
                                        "numActiveTasks": 0,
                                        "numCompletedTasks": 13,
                                        "numSkippedTasks": 0,
                                        "numFailedTasks": 0,
                                        "numKilledTasks": 0,
                                        "numCompletedIndices": 13,
                                        "numActiveStages": 0,
                                        "numCompletedStages": 1,
                                        "numSkippedStages": 0,
                                        "numFailedStages": 0,
                                        "killedTasksSummary": {}
                                    }, {
                                        "dataWritten": 0,
                                        "dataRead": 14454,
                                        "rowCount": 16,
                                        "jobId": 10,
                                        "name": "$anonfun$recordDeltaOperationInternal$1 at SynapseLoggingShim.scala:95",
                                        "description": "Delta: Job group for statement 4:\ndisplay(nytaxi_df.summary()): Filtering files for query",
                                        "submissionTime": "2023-05-08T06:26:52.853GMT",
                                        "completionTime": "2023-05-08T06:26:53.109GMT",
                                        "stageIds": [16, 17],
                                        "jobGroup": "4",
                                        "status": "SUCCEEDED",
                                        "numTasks": 51,
                                        "numActiveTasks": 0,
                                        "numCompletedTasks": 50,
                                        "numSkippedTasks": 1,
                                        "numFailedTasks": 0,
                                        "numKilledTasks": 0,
                                        "numCompletedIndices": 50,
                                        "numActiveStages": 0,
                                        "numCompletedStages": 1,
                                        "numSkippedStages": 1,
                                        "numFailedStages": 0,
                                        "killedTasksSummary": {}
                                    }
                                ],
                                "limit": 20,
                                "rule": "ALL_DESC"
                            },
                            "parent_msg_id": "1952100a-3ed3-4cf5-86cd-9699c6e19081"
                        },
                        "text/plain": "StatementMeta(, 1e76f307-3177-4fcc-99db-0ed06995d666, 4, Finished, Available)"
                    },
                    "metadata": {}
                }, {
                    "output_type": "display_data",
                    "data": {
                        "application/vnd.synapse.widget-view+json": {
                            "widget_id": "f2b1b398-6154-4db7-8fce-5ec9783d4859",
                            "widget_type": "Synapse.DataFrame"
                        },
                        "text/plain": "SynapseWidget(Synapse.DataFrame, f2b1b398-6154-4db7-8fce-5ec9783d4859)"
                    },
                    "metadata": {}
                }
            ],
            "execution_count": 2,
            "metadata": {
                "collapsed": false
            }
        }, {
            "cell_type": "markdown",
            "source": ["#### Clean data and add additional derived columns\r\n", "\r\n", "**<u>Add derived Columns</u>**\r\n", "- pickupDate - convert datetime to date for visualizations and reporting.\r\n", "- weekDay - day number of the week\r\n", "- weekDayName - day names abbreviated.\r\n", "- dayofMonth - day number of the month\r\n", "- pickupHour - hour of pickup time\r\n", "- tripDuration - representing duration in minutes of the trip.\r\n", "- timeBins - Binned time of the day\r\n", "\r\n", "\r\n", "**<u>Filter Conditions</u>** <p>\r\n", "- fareAmount is between 0 and 100 \r\n", "- tripDistance greater than 0, remove outstation trips(outliers) tripDistance>100.\r\n", "- tripDuration is less than 3 hours (180 minutes) \r\n", "- passengerCount is between 1 and 8.\r\n", "- startLat, startLon, endLat, endLon are not NULL.\r\n", "\r\n", "The inputs for setting these conditions were derived from EDA performed in Module 2. Specifically,\r\n", "- fareAmount == 0 can be treated as 'dirty data' (\"free ride\"), and 100 threshold is picked to ignore \"outliers\" based on reviewing the diagram (it also corresponds to 0.9997 quantile of values in that column)\r\n", "- we consider tripDistance==0 to be 'cancelled trip', therefore of no interest\r\n", "- tripDuration threshold was calculated by evaluating mean trip duration (~15 minutes) + 3 standard deviations (58 minutes), i.e. roughly 3 hours.\r\n", "- we decided to disregard trips with 0 passengers as meaningless, and we haven't seen any trips with over 8 passengers\r\n", "- intuitively, and confirmed by visualizations, the trips and their properties are not evenly distributed throughout the day, hence it's important to consider 'timeBins'\r\n"],
            "metadata": {}
        }, {
            "cell_type": "code",
            "source": ["from pyspark.sql.functions import col,when, dayofweek, date_format, hour,unix_timestamp, round, dayofmonth, lit\r\n", "nytaxidf_prep = nytaxi_df.withColumn('pickupDate', col('tpepPickupDateTime').cast('date'))\\\r\n", "                            .withColumn(\"weekDay\", dayofweek(col(\"tpepPickupDateTime\")))\\\r\n", "                            .withColumn(\"weekDayName\", date_format(col(\"tpepPickupDateTime\"), \"EEEE\"))\\\r\n", "                            .withColumn(\"dayofMonth\", dayofweek(col(\"tpepPickupDateTime\")))\\\r\n", "                            .withColumn(\"pickupHour\", hour(col(\"tpepPickupDateTime\")))\\\r\n", "                            .withColumn(\"tripDuration\", (unix_timestamp(col(\"tpepDropoffDateTime\")) - unix_timestamp(col(\"tpepPickupDateTime\")))/60)\\\r\n", "                            .withColumn(\"timeBins\", when((col(\"pickupHour\") >=7) & (col(\"pickupHour\")<=10) ,\"MorningRush\")\\\r\n", "                            .when((col(\"pickupHour\") >=11) & (col(\"pickupHour\")<=15) ,\"Afternoon\")\\\r\n", "                            .when((col(\"pickupHour\") >=16) & (col(\"pickupHour\")<=19) ,\"EveningRush\")\\\r\n", "                            .when((col(\"pickupHour\") <=6) | (col(\"pickupHour\")>=20) ,\"Night\"))\\\r\n", "                            .filter(\"\"\"fareAmount > 0 AND fareAmount < 100 and tripDistance > 0 AND tripDistance < 100 \r\n", "                                    AND tripDuration > 0 AND tripDuration <= 180 \r\n", "                                    AND passengerCount > 0 AND passengerCount <= 8\r\n", "                                    AND startLat IS NOT NULL AND startLon IS NOT NULL AND endLat IS NOT NULL AND endLon IS NOT NULL\"\"\")"],
            "outputs": [{
                    "output_type": "display_data",
                    "data": {
                        "application/vnd.livy.statement-meta+json": {
                            "spark_pool": null,
                            "session_id": "1e76f307-3177-4fcc-99db-0ed06995d666",
                            "statement_id": 5,
                            "state": "finished",
                            "livy_statement_state": "available",
                            "queued_time": "2023-05-08T06:26:35.7310966Z",
                            "session_start_time": null,
                            "execution_start_time": "2023-05-08T06:32:54.9491839Z",
                            "execution_finish_time": "2023-05-08T06:32:55.320154Z",
                            "spark_jobs": {
                                "numbers": {
                                    "SUCCEEDED": 0,
                                    "RUNNING": 0,
                                    "UNKNOWN": 0,
                                    "FAILED": 0
                                },
                                "jobs": [],
                                "limit": 20,
                                "rule": "ALL_DESC"
                            },
                            "parent_msg_id": "3c6349d0-7195-439e-acab-6582284f16d3"
                        },
                        "text/plain": "StatementMeta(, 1e76f307-3177-4fcc-99db-0ed06995d666, 5, Finished, Available)"
                    },
                    "metadata": {}
                }
            ],
            "execution_count": 3,
            "metadata": {}
        }, {
            "cell_type": "markdown",
            "source": ["#### Save Cleansed and prepared data to lakehouse delta table"],
            "metadata": {}
        }, {
            "cell_type": "code",
            "source": ["table_name = \"nyctaxi_prep\"\r\n", "nytaxidf_prep.write.mode(\"overwrite\").format(\"delta\").save(f\"Tables/{table_name}\")\r\n", "print(f\"Spark dataframe saved to delta table: {table_name}\")"],
            "outputs": [{
                    "output_type": "display_data",
                    "data": {
                        "application/vnd.livy.statement-meta+json": {
                            "spark_pool": null,
                            "session_id": "1e76f307-3177-4fcc-99db-0ed06995d666",
                            "statement_id": 6,
                            "state": "finished",
                            "livy_statement_state": "available",
                            "queued_time": "2023-05-08T06:26:35.7398765Z",
                            "session_start_time": null,
                            "execution_start_time": "2023-05-08T06:32:56.5364959Z",
                            "execution_finish_time": "2023-05-08T06:34:14.8534707Z",
                            "spark_jobs": {
                                "numbers": {
                                    "SUCCEEDED": 6,
                                    "RUNNING": 0,
                                    "UNKNOWN": 0,
                                    "FAILED": 0
                                },
                                "jobs": [{
                                        "dataWritten": 0,
                                        "dataRead": 4880,
                                        "rowCount": 50,
                                        "jobId": 18,
                                        "name": "toString at String.java:2994",
                                        "description": "Delta: Job group for statement 6:\ntable_name = \"nyctaxi_prep\"\nnytaxidf_prep.write.mode(\"overwrite\").format(\"delta\").save(f\"Tables/{table_name}\")\nprint(f\"Spark dataframe saved to delta table: {table_name}\"): Compute snapshot for version: 0",
                                        "submissionTime": "2023-05-08T06:34:12.790GMT",
                                        "completionTime": "2023-05-08T06:34:12.849GMT",
                                        "stageIds": [27, 28, 29],
                                        "jobGroup": "6",
                                        "status": "SUCCEEDED",
                                        "numTasks": 52,
                                        "numActiveTasks": 0,
                                        "numCompletedTasks": 1,
                                        "numSkippedTasks": 51,
                                        "numFailedTasks": 0,
                                        "numKilledTasks": 0,
                                        "numCompletedIndices": 1,
                                        "numActiveStages": 0,
                                        "numCompletedStages": 1,
                                        "numSkippedStages": 2,
                                        "numFailedStages": 0,
                                        "killedTasksSummary": {}
                                    }, {
                                        "dataWritten": 4880,
                                        "dataRead": 18035,
                                        "rowCount": 66,
                                        "jobId": 17,
                                        "name": "toString at String.java:2994",
                                        "description": "Delta: Job group for statement 6:\ntable_name = \"nyctaxi_prep\"\nnytaxidf_prep.write.mode(\"overwrite\").format(\"delta\").save(f\"Tables/{table_name}\")\nprint(f\"Spark dataframe saved to delta table: {table_name}\"): Compute snapshot for version: 0",
                                        "submissionTime": "2023-05-08T06:34:12.174GMT",
                                        "completionTime": "2023-05-08T06:34:12.771GMT",
                                        "stageIds": [25, 26],
                                        "jobGroup": "6",
                                        "status": "SUCCEEDED",
                                        "numTasks": 51,
                                        "numActiveTasks": 0,
                                        "numCompletedTasks": 50,
                                        "numSkippedTasks": 1,
                                        "numFailedTasks": 0,
                                        "numKilledTasks": 0,
                                        "numCompletedIndices": 50,
                                        "numActiveStages": 0,
                                        "numCompletedStages": 1,
                                        "numSkippedStages": 1,
                                        "numFailedStages": 0,
                                        "killedTasksSummary": {}
                                    }, {
                                        "dataWritten": 18035,
                                        "dataRead": 31221,
                                        "rowCount": 32,
                                        "jobId": 16,
                                        "name": "toString at String.java:2994",
                                        "description": "Delta: Job group for statement 6:\ntable_name = \"nyctaxi_prep\"\nnytaxidf_prep.write.mode(\"overwrite\").format(\"delta\").save(f\"Tables/{table_name}\")\nprint(f\"Spark dataframe saved to delta table: {table_name}\"): Compute snapshot for version: 0",
                                        "submissionTime": "2023-05-08T06:34:11.694GMT",
                                        "completionTime": "2023-05-08T06:34:11.981GMT",
                                        "stageIds": [24],
                                        "jobGroup": "6",
                                        "status": "SUCCEEDED",
                                        "numTasks": 1,
                                        "numActiveTasks": 0,
                                        "numCompletedTasks": 1,
                                        "numSkippedTasks": 0,
                                        "numFailedTasks": 0,
                                        "numKilledTasks": 0,
                                        "numCompletedIndices": 1,
                                        "numActiveStages": 0,
                                        "numCompletedStages": 1,
                                        "numSkippedStages": 0,
                                        "numFailedStages": 0,
                                        "killedTasksSummary": {}
                                    }, {
                                        "dataWritten": 0,
                                        "dataRead": 0,
                                        "rowCount": 0,
                                        "jobId": 15,
                                        "name": "",
                                        "description": "Job group for statement 6:\ntable_name = \"nyctaxi_prep\"\nnytaxidf_prep.write.mode(\"overwrite\").format(\"delta\").save(f\"Tables/{table_name}\")\nprint(f\"Spark dataframe saved to delta table: {table_name}\")",
                                        "submissionTime": "2023-05-08T06:34:10.644GMT",
                                        "completionTime": "2023-05-08T06:34:10.644GMT",
                                        "stageIds": [],
                                        "jobGroup": "6",
                                        "status": "SUCCEEDED",
                                        "numTasks": 0,
                                        "numActiveTasks": 0,
                                        "numCompletedTasks": 0,
                                        "numSkippedTasks": 0,
                                        "numFailedTasks": 0,
                                        "numKilledTasks": 0,
                                        "numCompletedIndices": 0,
                                        "numActiveStages": 0,
                                        "numCompletedStages": 0,
                                        "numSkippedStages": 0,
                                        "numFailedStages": 0,
                                        "killedTasksSummary": {}
                                    }, {
                                        "dataWritten": 1282374789,
                                        "dataRead": 1068636588,
                                        "rowCount": 92460605,
                                        "jobId": 14,
                                        "name": "save at NativeMethodAccessorImpl.java:0",
                                        "description": "Job group for statement 6:\ntable_name = \"nyctaxi_prep\"\nnytaxidf_prep.write.mode(\"overwrite\").format(\"delta\").save(f\"Tables/{table_name}\")\nprint(f\"Spark dataframe saved to delta table: {table_name}\")",
                                        "submissionTime": "2023-05-08T06:33:01.287GMT",
                                        "completionTime": "2023-05-08T06:34:10.536GMT",
                                        "stageIds": [23],
                                        "jobGroup": "6",
                                        "status": "SUCCEEDED",
                                        "numTasks": 13,
                                        "numActiveTasks": 0,
                                        "numCompletedTasks": 13,
                                        "numSkippedTasks": 0,
                                        "numFailedTasks": 0,
                                        "numKilledTasks": 0,
                                        "numCompletedIndices": 13,
                                        "numActiveStages": 0,
                                        "numCompletedStages": 1,
                                        "numSkippedStages": 0,
                                        "numFailedStages": 0,
                                        "killedTasksSummary": {}
                                    }, {
                                        "dataWritten": 0,
                                        "dataRead": 16511,
                                        "rowCount": 17,
                                        "jobId": 13,
                                        "name": "$anonfun$recordDeltaOperationInternal$1 at SynapseLoggingShim.scala:95",
                                        "description": "Delta: Job group for statement 6:\ntable_name = \"nyctaxi_prep\"\nnytaxidf_prep.write.mode(\"overwrite\").format(\"delta\").save(f\"Tables/{table_name}\")\nprint(f\"Spark dataframe saved to delta table: {table_name}\"): Filtering files for query",
                                        "submissionTime": "2023-05-08T06:32:57.526GMT",
                                        "completionTime": "2023-05-08T06:33:01.076GMT",
                                        "stageIds": [21, 22],
                                        "jobGroup": "6",
                                        "status": "SUCCEEDED",
                                        "numTasks": 51,
                                        "numActiveTasks": 0,
                                        "numCompletedTasks": 50,
                                        "numSkippedTasks": 1,
                                        "numFailedTasks": 0,
                                        "numKilledTasks": 0,
                                        "numCompletedIndices": 50,
                                        "numActiveStages": 0,
                                        "numCompletedStages": 1,
                                        "numSkippedStages": 1,
                                        "numFailedStages": 0,
                                        "killedTasksSummary": {}
                                    }
                                ],
                                "limit": 20,
                                "rule": "ALL_DESC"
                            },
                            "parent_msg_id": "fb099de9-cd43-4d48-a171-9311f9703a9a"
                        },
                        "text/plain": "StatementMeta(, 1e76f307-3177-4fcc-99db-0ed06995d666, 6, Finished, Available)"
                    },
                    "metadata": {}
                }, {
                    "output_type": "stream",
                    "name": "stdout",
                    "text": ["Spark dataframe saved to delta table: nyctaxi_prep\n"]
                }
            ],
            "execution_count": 4,
            "metadata": {}
        }
    ],
    "metadata": {
        "language_info": {
            "name": "python"
        },
        "kernelspec": {
            "name": "synapse_pyspark",
            "language": "Python",
            "display_name": "Synapse PySpark"
        },
        "widgets": {},
        "kernel_info": {
            "name": "synapse_pyspark"
        },
        "save_output": true,
        "spark_compute": {
            "compute_id": "/trident/default",
            "session_options": {
                "enableDebugMode": false,
                "conf": {}
            }
        },
        "notebook_environment": {},
        "synapse_widget": {
            "version": "0.1",
            "state": {
                "f2b1b398-6154-4db7-8fce-5ec9783d4859": {
                    "type": "Synapse.DataFrame",
                    "sync_state": {
                        "table": {
                            "rows": [{
                                    "0": "count",
                                    "1": "46429618",
                                    "2": "46429618",
                                    "3": "46429618",
                                    "4": "1942",
                                    "5": "1942",
                                    "6": "46427676",
                                    "7": "46427676",
                                    "8": "46427676",
                                    "9": "46427676",
                                    "10": "46429618",
                                    "11": "46429618",
                                    "12": "46429618",
                                    "13": "46429618",
                                    "14": "46429618",
                                    "15": "46429618",
                                    "16": "46429618",
                                    "17": "46429618",
                                    "18": "46429618",
                                    "19": "46429618",
                                    "20": "46429618",
                                    "21": "46429618",
                                    "index": 1
                                }, {
                                    "0": "mean",
                                    "1": "1.5317228326108563",
                                    "2": "1.6610720553419156",
                                    "3": "4.962012819920268",
                                    "4": "149.70957775489185",
                                    "5": "149.30690010298662",
                                    "6": "-72.85619717010741",
                                    "7": "40.13528357267226",
                                    "8": "-72.91461303915123",
                                    "9": "40.16839480068262",
                                    "10": "1.0557340144388008",
                                    "11": "NULL",
                                    "12": "1.3394473544882493",
                                    "13": "12.6660054657355",
                                    "14": "0.3313988835747045",
                                    "15": "0.4975593469237675",
                                    "16": "0.2996700899179276",
                                    "17": "1.7824359894598176",
                                    "18": "0.3031372590667765",
                                    "19": "15.880194900881428",
                                    "20": "2016.0",
                                    "21": "2.5420566242866784",
                                    "index": 2
                                }, {
                                    "0": "stddev",
                                    "1": "0.4989926525049927",
                                    "2": "1.3139169916343283",
                                    "3": "4204.500118805532",
                                    "4": "67.92532418822987",
                                    "5": "77.01095249704501",
                                    "6": "9.024036700756385",
                                    "7": "4.971160942109716",
                                    "8": "8.78799966355609",
                                    "9": "4.841580411193702",
                                    "10": "1.380516042193366",
                                    "11": "NULL",
                                    "12": "0.4894259214352761",
                                    "13": "79.32456119314139",
                                    "14": "0.47449635649062455",
                                    "15": "0.04832080551443236",
                                    "16": "0.012942445637416613",
                                    "17": "2.567661982276718",
                                    "18": "1.6990334591158898",
                                    "19": "79.73221658960101",
                                    "20": "0.0",
                                    "21": "1.1099772059855804",
                                    "index": 3
                                }, {
                                    "0": "min",
                                    "1": "1",
                                    "2": "0",
                                    "3": "-3390583.8",
                                    "4": "10",
                                    "5": "1",
                                    "6": "-161.69866943359375",
                                    "7": "-77.03948974609375",
                                    "8": "-161.69866943359375",
                                    "9": "-77.03948974609375",
                                    "10": "1",
                                    "11": "N",
                                    "12": "1",
                                    "13": "-957.6",
                                    "14": "-58.5",
                                    "15": "-1.0",
                                    "16": "-0.3",
                                    "17": "-220.8",
                                    "18": "-99.99",
                                    "19": "-958.4",
                                    "20": "2016",
                                    "21": "1",
                                    "index": 4
                                }, {
                                    "0": "25%",
                                    "1": "1.0",
                                    "2": "1",
                                    "3": "1.0",
                                    "4": "100.0",
                                    "5": "79.0",
                                    "6": "-73.9916763305664",
                                    "7": "40.736209869384766",
                                    "8": "-73.99120330810547",
                                    "9": "40.734615325927734",
                                    "10": "1",
                                    "11": "NULL",
                                    "12": "1.0",
                                    "13": "6.5",
                                    "14": "0.0",
                                    "15": "0.5",
                                    "16": "0.3",
                                    "17": "0.0",
                                    "18": "0.0",
                                    "19": "8.5",
                                    "20": "2016",
                                    "21": "2",
                                    "index": 5
                                }, {
                                    "0": "50%",
                                    "1": "2.0",
                                    "2": "1",
                                    "3": "1.7",
                                    "4": "142.0",
                                    "5": "157.0",
                                    "6": "-73.98152160644531",
                                    "7": "40.75340270996094",
                                    "8": "-73.97953796386719",
                                    "9": "40.753883361816406",
                                    "10": "1",
                                    "11": "NULL",
                                    "12": "1.0",
                                    "13": "9.5",
                                    "14": "0.0",
                                    "15": "0.5",
                                    "16": "0.3",
                                    "17": "1.35",
                                    "18": "0.0",
                                    "19": "11.76",
                                    "20": "2016",
                                    "21": "3",
                                    "index": 6
                                }, {
                                    "0": "75%",
                                    "1": "2.0",
                                    "2": "2",
                                    "3": "3.1",
                                    "4": "229.0",
                                    "5": "231.0",
                                    "6": "-73.96651458740234",
                                    "7": "40.767940521240234",
                                    "8": "-73.96212768554688",
                                    "9": "40.769447326660156",
                                    "10": "1",
                                    "11": "NULL",
                                    "12": "2.0",
                                    "13": "14.5",
                                    "14": "0.5",
                                    "15": "0.5",
                                    "16": "0.3",
                                    "17": "2.36",
                                    "18": "0.0",
                                    "19": "17.3",
                                    "20": "2016",
                                    "21": "4",
                                    "index": 7
                                }, {
                                    "0": "max",
                                    "1": "2",
                                    "2": "9",
                                    "3": "1.90726288E7",
                                    "4": "97",
                                    "5": "97",
                                    "6": "94.64386749267578",
                                    "7": "66.85681915283203",
                                    "8": "38.89659118652344",
                                    "9": "405.3166809082031",
                                    "10": "99",
                                    "11": "Y",
                                    "12": "5",
                                    "13": "429496.72",
                                    "14": "648.87",
                                    "15": "89.7",
                                    "16": "1.1",
                                    "17": "998.14",
                                    "18": "1410.32",
                                    "19": "429562.25",
                                    "20": "2016",
                                    "21": "4",
                                    "index": 8
                                }
                            ],
                            "schema": [{
                                    "key": "0",
                                    "name": "summary",
                                    "type": "string"
                                }, {
                                    "key": "1",
                                    "name": "vendorID",
                                    "type": "string"
                                }, {
                                    "key": "2",
                                    "name": "passengerCount",
                                    "type": "string"
                                }, {
                                    "key": "3",
                                    "name": "tripDistance",
                                    "type": "string"
                                }, {
                                    "key": "4",
                                    "name": "puLocationId",
                                    "type": "string"
                                }, {
                                    "key": "5",
                                    "name": "doLocationId",
                                    "type": "string"
                                }, {
                                    "key": "6",
                                    "name": "startLon",
                                    "type": "string"
                                }, {
                                    "key": "7",
                                    "name": "startLat",
                                    "type": "string"
                                }, {
                                    "key": "8",
                                    "name": "endLon",
                                    "type": "string"
                                }, {
                                    "key": "9",
                                    "name": "endLat",
                                    "type": "string"
                                }, {
                                    "key": "10",
                                    "name": "rateCodeId",
                                    "type": "string"
                                }, {
                                    "key": "11",
                                    "name": "storeAndFwdFlag",
                                    "type": "string"
                                }, {
                                    "key": "12",
                                    "name": "paymentType",
                                    "type": "string"
                                }, {
                                    "key": "13",
                                    "name": "fareAmount",
                                    "type": "string"
                                }, {
                                    "key": "14",
                                    "name": "extra",
                                    "type": "string"
                                }, {
                                    "key": "15",
                                    "name": "mtaTax",
                                    "type": "string"
                                }, {
                                    "key": "16",
                                    "name": "improvementSurcharge",
                                    "type": "string"
                                }, {
                                    "key": "17",
                                    "name": "tipAmount",
                                    "type": "string"
                                }, {
                                    "key": "18",
                                    "name": "tollsAmount",
                                    "type": "string"
                                }, {
                                    "key": "19",
                                    "name": "totalAmount",
                                    "type": "string"
                                }, {
                                    "key": "20",
                                    "name": "puYear",
                                    "type": "string"
                                }, {
                                    "key": "21",
                                    "name": "puMonth",
                                    "type": "string"
                                }
                            ],
                            "truncated": false
                        },
                        "isSummary": false,
                        "language": "scala"
                    },
                    "persist_state": {
                        "view": {
                            "type": "details",
                            "tableOptions": {},
                            "chartOptions": {
                                "chartType": "bar",
                                "categoryFieldKeys": ["0"],
                                "seriesFieldKeys": ["0"],
                                "aggregationType": "count",
                                "isStacked": false,
                                "binsNumber": 10
                            }
                        }
                    }
                }
            }
        }
    },
    "nbformat": 4,
    "nbformat_minor": 0
}
