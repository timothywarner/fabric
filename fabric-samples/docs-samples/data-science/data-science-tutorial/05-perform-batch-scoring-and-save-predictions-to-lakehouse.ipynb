{
    "cells": [{
            "cell_type": "markdown",
            "source": ["# Module 5: Perform batch scoring and save predictions to lakehouse"],
            "metadata": {}
        }, {
            "cell_type": "markdown",
            "source": ["We start with mounting the default lakehouse, as in modules 2-4, and setting configurations to optimize performance, as in module 1."],
            "metadata": {
                "nteract": {
                    "transient": {
                        "deleting": false
                    }
                }
            }
        }, {
            "cell_type": "code",
            "source": ["spark.conf.set(\"spark.sql.parquet.vorder.enabled\", \"true\") # Enable VOrder write\r\n", "spark.conf.set(\"spark.microsoft.delta.optimizeWrite.enabled\", \"true\") # Enable automatic delta optimized write"],
            "outputs": [{
                    "output_type": "display_data",
                    "data": {
                        "application/vnd.livy.statement-meta+json": {
                            "spark_pool": null,
                            "session_id": "84315cdd-6867-4656-a537-5cbe8ee79d78",
                            "statement_id": 3,
                            "state": "finished",
                            "livy_statement_state": "available",
                            "queued_time": "2023-05-08T07:19:19.0528594Z",
                            "session_start_time": "2023-05-08T07:19:19.7382197Z",
                            "execution_start_time": "2023-05-08T07:19:34.9645995Z",
                            "execution_finish_time": "2023-05-08T07:19:36.7520434Z",
                            "spark_jobs": {
                                "numbers": {
                                    "UNKNOWN": 0,
                                    "RUNNING": 0,
                                    "FAILED": 0,
                                    "SUCCEEDED": 0
                                },
                                "jobs": [],
                                "limit": 20,
                                "rule": "ALL_DESC"
                            },
                            "parent_msg_id": "7594cffe-fbec-4e56-ae96-4bf3ba03657d"
                        },
                        "text/plain": "StatementMeta(, 84315cdd-6867-4656-a537-5cbe8ee79d78, 3, Finished, Available)"
                    },
                    "metadata": {}
                }
            ],
            "execution_count": 1,
            "metadata": {
                "jupyter": {
                    "source_hidden": false,
                    "outputs_hidden": false
                },
                "nteract": {
                    "transient": {
                        "deleting": false
                    }
                }
            }
        }, {
            "cell_type": "markdown",
            "source": ["#### Read a random sample of cleansed data from lakehouse for the year 2016 and month 3"],
            "metadata": {}
        }, {
            "cell_type": "code",
            "source": ["SEED = 1234 # Random seed\r\n", "input_df = spark.read.format(\"delta\").load(\"Tables/nyctaxi_prep\")\\\r\n", "            .filter(\"puYear = 2016 AND puMonth = 3\")\\\r\n", "            .sample(True, 0.01, seed=SEED) ## Sampling data to reduce execution time for this tutorial"],
            "outputs": [{
                    "output_type": "display_data",
                    "data": {
                        "application/vnd.livy.statement-meta+json": {
                            "spark_pool": null,
                            "session_id": "84315cdd-6867-4656-a537-5cbe8ee79d78",
                            "statement_id": 4,
                            "state": "finished",
                            "livy_statement_state": "available",
                            "queued_time": "2023-05-08T07:19:19.0544526Z",
                            "session_start_time": null,
                            "execution_start_time": "2023-05-08T07:19:37.8898492Z",
                            "execution_finish_time": "2023-05-08T07:19:43.2853157Z",
                            "spark_jobs": {
                                "numbers": {
                                    "UNKNOWN": 0,
                                    "RUNNING": 0,
                                    "FAILED": 0,
                                    "SUCCEEDED": 3
                                },
                                "jobs": [{
                                        "dataWritten": 0,
                                        "dataRead": 4880,
                                        "rowCount": 50,
                                        "jobId": 9,
                                        "name": "toString at String.java:2994",
                                        "description": "Delta: Job group for statement 4:\nSEED = 1234 # Random seed\ninput_df = spark.read.format(\"delta\").load(\"Tables/nyctaxi_prep\")            .filter(\"puYear = 2016 AND puMonth = 3\")            .sample(True, 0.01, seed=SEED) ## Sampling data to reduce execution time for this tutorial: Compute snapshot for version: 0",
                                        "submissionTime": "2023-05-08T07:19:42.664GMT",
                                        "completionTime": "2023-05-08T07:19:42.713GMT",
                                        "stageIds": [15, 13, 14],
                                        "jobGroup": "4",
                                        "status": "SUCCEEDED",
                                        "numTasks": 52,
                                        "numActiveTasks": 0,
                                        "numCompletedTasks": 1,
                                        "numSkippedTasks": 51,
                                        "numFailedTasks": 0,
                                        "numKilledTasks": 0,
                                        "numCompletedIndices": 1,
                                        "numActiveStages": 0,
                                        "numCompletedStages": 1,
                                        "numSkippedStages": 2,
                                        "numFailedStages": 0,
                                        "killedTasksSummary": {}
                                    }, {
                                        "dataWritten": 4880,
                                        "dataRead": 18035,
                                        "rowCount": 66,
                                        "jobId": 8,
                                        "name": "toString at String.java:2994",
                                        "description": "Delta: Job group for statement 4:\nSEED = 1234 # Random seed\ninput_df = spark.read.format(\"delta\").load(\"Tables/nyctaxi_prep\")            .filter(\"puYear = 2016 AND puMonth = 3\")            .sample(True, 0.01, seed=SEED) ## Sampling data to reduce execution time for this tutorial: Compute snapshot for version: 0",
                                        "submissionTime": "2023-05-08T07:19:41.878GMT",
                                        "completionTime": "2023-05-08T07:19:42.637GMT",
                                        "stageIds": [12, 11],
                                        "jobGroup": "4",
                                        "status": "SUCCEEDED",
                                        "numTasks": 51,
                                        "numActiveTasks": 0,
                                        "numCompletedTasks": 50,
                                        "numSkippedTasks": 1,
                                        "numFailedTasks": 0,
                                        "numKilledTasks": 0,
                                        "numCompletedIndices": 50,
                                        "numActiveStages": 0,
                                        "numCompletedStages": 1,
                                        "numSkippedStages": 1,
                                        "numFailedStages": 0,
                                        "killedTasksSummary": {}
                                    }, {
                                        "dataWritten": 18035,
                                        "dataRead": 31221,
                                        "rowCount": 32,
                                        "jobId": 7,
                                        "name": "toString at String.java:2994",
                                        "description": "Delta: Job group for statement 4:\nSEED = 1234 # Random seed\ninput_df = spark.read.format(\"delta\").load(\"Tables/nyctaxi_prep\")            .filter(\"puYear = 2016 AND puMonth = 3\")            .sample(True, 0.01, seed=SEED) ## Sampling data to reduce execution time for this tutorial: Compute snapshot for version: 0",
                                        "submissionTime": "2023-05-08T07:19:38.685GMT",
                                        "completionTime": "2023-05-08T07:19:39.321GMT",
                                        "stageIds": [10],
                                        "jobGroup": "4",
                                        "status": "SUCCEEDED",
                                        "numTasks": 1,
                                        "numActiveTasks": 0,
                                        "numCompletedTasks": 1,
                                        "numSkippedTasks": 0,
                                        "numFailedTasks": 0,
                                        "numKilledTasks": 0,
                                        "numCompletedIndices": 1,
                                        "numActiveStages": 0,
                                        "numCompletedStages": 1,
                                        "numSkippedStages": 0,
                                        "numFailedStages": 0,
                                        "killedTasksSummary": {}
                                    }
                                ],
                                "limit": 20,
                                "rule": "ALL_DESC"
                            },
                            "parent_msg_id": "46bbe660-2e09-42e0-86de-b5e57381bfe9"
                        },
                        "text/plain": "StatementMeta(, 84315cdd-6867-4656-a537-5cbe8ee79d78, 4, Finished, Available)"
                    },
                    "metadata": {}
                }
            ],
            "execution_count": 2,
            "metadata": {}
        }, {
            "cell_type": "markdown",
            "source": ["#### Get the trained and registered model to generate predictions"],
            "metadata": {}
        }, {
            "cell_type": "code",
            "source": ["import mlflow\r\n", "from pyspark.ml.feature import OneHotEncoder, VectorAssembler, StringIndexer\r\n", "from pyspark.ml import Pipeline\r\n", "from synapse.ml.core.platform import *\r\n", "from synapse.ml.lightgbm import LightGBMRegressor\r\n", "\r\n", "## Define run_uri to fetch the model\r\n", "run_uri = \"<Enter the run_uri from module 04 here>\"\r\n", "loaded_model = mlflow.spark.load_model(run_uri, dfs_tmpdir=\"Files/tmp/mlflow\")"],
            "outputs": [{
                    "output_type": "display_data",
                    "data": {
                        "application/vnd.livy.statement-meta+json": {
                            "spark_pool": null,
                            "session_id": "84315cdd-6867-4656-a537-5cbe8ee79d78",
                            "statement_id": 5,
                            "state": "finished",
                            "livy_statement_state": "available",
                            "queued_time": "2023-05-08T07:19:19.0607011Z",
                            "session_start_time": null,
                            "execution_start_time": "2023-05-08T07:19:44.2931914Z",
                            "execution_finish_time": "2023-05-08T07:20:01.9454591Z",
                            "spark_jobs": {
                                "numbers": {
                                    "UNKNOWN": 0,
                                    "RUNNING": 0,
                                    "FAILED": 0,
                                    "SUCCEEDED": 14
                                },
                                "jobs": [{
                                        "dataWritten": 0,
                                        "dataRead": 665,
                                        "rowCount": 1,
                                        "jobId": 23,
                                        "name": "first at ReadWrite.scala:587",
                                        "description": "Job group for statement 5:\nimport mlflow\nfrom pyspark.ml.feature import OneHotEncoder, VectorAssembler, StringIndexer\nfrom pyspark.ml import Pipeline\nfrom synapse.ml.core.platform import *\nfrom synapse.ml.lightgbm import LightGBMRegressor\n\n## Define run_uri to fetch the model\nrun_uri = \"<Enter the run_uri from module 04 here>\"\nrun_uri = \"runs:/b1bb91e0-55cf-4302-86d5-53b8aba63d13/nyctaxi_tripduration_lightgbm\"\nloaded_model = mlflow.spark.load_model(run_uri, dfs_tmpdir=\"Files/tmp/mlflow\")",
                                        "submissionTime": "2023-05-08T07:19:59.051GMT",
                                        "completionTime": "2023-05-08T07:19:59.154GMT",
                                        "stageIds": [29],
                                        "jobGroup": "5",
                                        "status": "SUCCEEDED",
                                        "numTasks": 1,
                                        "numActiveTasks": 0,
                                        "numCompletedTasks": 1,
                                        "numSkippedTasks": 0,
                                        "numFailedTasks": 0,
                                        "numKilledTasks": 0,
                                        "numCompletedIndices": 1,
                                        "numActiveStages": 0,
                                        "numCompletedStages": 1,
                                        "numSkippedStages": 0,
                                        "numFailedStages": 0,
                                        "killedTasksSummary": {}
                                    }, {
                                        "dataWritten": 0,
                                        "dataRead": 665,
                                        "rowCount": 1,
                                        "jobId": 22,
                                        "name": "first at ReadWrite.scala:587",
                                        "description": "Job group for statement 5:\nimport mlflow\nfrom pyspark.ml.feature import OneHotEncoder, VectorAssembler, StringIndexer\nfrom pyspark.ml import Pipeline\nfrom synapse.ml.core.platform import *\nfrom synapse.ml.lightgbm import LightGBMRegressor\n\n## Define run_uri to fetch the model\nrun_uri = \"<Enter the run_uri from module 04 here>\"\nrun_uri = \"runs:/b1bb91e0-55cf-4302-86d5-53b8aba63d13/nyctaxi_tripduration_lightgbm\"\nloaded_model = mlflow.spark.load_model(run_uri, dfs_tmpdir=\"Files/tmp/mlflow\")",
                                        "submissionTime": "2023-05-08T07:19:58.628GMT",
                                        "completionTime": "2023-05-08T07:19:58.725GMT",
                                        "stageIds": [28],
                                        "jobGroup": "5",
                                        "status": "SUCCEEDED",
                                        "numTasks": 1,
                                        "numActiveTasks": 0,
                                        "numCompletedTasks": 1,
                                        "numSkippedTasks": 0,
                                        "numFailedTasks": 0,
                                        "numKilledTasks": 0,
                                        "numCompletedIndices": 1,
                                        "numActiveStages": 0,
                                        "numCompletedStages": 1,
                                        "numSkippedStages": 0,
                                        "numFailedStages": 0,
                                        "killedTasksSummary": {}
                                    }, {
                                        "dataWritten": 0,
                                        "dataRead": 430,
                                        "rowCount": 1,
                                        "jobId": 21,
                                        "name": "first at ReadWrite.scala:587",
                                        "description": "Job group for statement 5:\nimport mlflow\nfrom pyspark.ml.feature import OneHotEncoder, VectorAssembler, StringIndexer\nfrom pyspark.ml import Pipeline\nfrom synapse.ml.core.platform import *\nfrom synapse.ml.lightgbm import LightGBMRegressor\n\n## Define run_uri to fetch the model\nrun_uri = \"<Enter the run_uri from module 04 here>\"\nrun_uri = \"runs:/b1bb91e0-55cf-4302-86d5-53b8aba63d13/nyctaxi_tripduration_lightgbm\"\nloaded_model = mlflow.spark.load_model(run_uri, dfs_tmpdir=\"Files/tmp/mlflow\")",
                                        "submissionTime": "2023-05-08T07:19:58.366GMT",
                                        "completionTime": "2023-05-08T07:19:58.462GMT",
                                        "stageIds": [27],
                                        "jobGroup": "5",
                                        "status": "SUCCEEDED",
                                        "numTasks": 1,
                                        "numActiveTasks": 0,
                                        "numCompletedTasks": 1,
                                        "numSkippedTasks": 0,
                                        "numFailedTasks": 0,
                                        "numKilledTasks": 0,
                                        "numCompletedIndices": 1,
                                        "numActiveStages": 0,
                                        "numCompletedStages": 1,
                                        "numSkippedStages": 0,
                                        "numFailedStages": 0,
                                        "killedTasksSummary": {}
                                    }, {
                                        "dataWritten": 0,
                                        "dataRead": 430,
                                        "rowCount": 1,
                                        "jobId": 20,
                                        "name": "first at ReadWrite.scala:587",
                                        "description": "Job group for statement 5:\nimport mlflow\nfrom pyspark.ml.feature import OneHotEncoder, VectorAssembler, StringIndexer\nfrom pyspark.ml import Pipeline\nfrom synapse.ml.core.platform import *\nfrom synapse.ml.lightgbm import LightGBMRegressor\n\n## Define run_uri to fetch the model\nrun_uri = \"<Enter the run_uri from module 04 here>\"\nrun_uri = \"runs:/b1bb91e0-55cf-4302-86d5-53b8aba63d13/nyctaxi_tripduration_lightgbm\"\nloaded_model = mlflow.spark.load_model(run_uri, dfs_tmpdir=\"Files/tmp/mlflow\")",
                                        "submissionTime": "2023-05-08T07:19:58.049GMT",
                                        "completionTime": "2023-05-08T07:19:58.153GMT",
                                        "stageIds": [26],
                                        "jobGroup": "5",
                                        "status": "SUCCEEDED",
                                        "numTasks": 1,
                                        "numActiveTasks": 0,
                                        "numCompletedTasks": 1,
                                        "numSkippedTasks": 0,
                                        "numFailedTasks": 0,
                                        "numKilledTasks": 0,
                                        "numCompletedIndices": 1,
                                        "numActiveStages": 0,
                                        "numCompletedStages": 1,
                                        "numSkippedStages": 0,
                                        "numFailedStages": 0,
                                        "killedTasksSummary": {}
                                    }, {
                                        "dataWritten": 0,
                                        "dataRead": 1231,
                                        "rowCount": 1,
                                        "jobId": 19,
                                        "name": "head at OneHotEncoder.scala:419",
                                        "description": "Job group for statement 5:\nimport mlflow\nfrom pyspark.ml.feature import OneHotEncoder, VectorAssembler, StringIndexer\nfrom pyspark.ml import Pipeline\nfrom synapse.ml.core.platform import *\nfrom synapse.ml.lightgbm import LightGBMRegressor\n\n## Define run_uri to fetch the model\nrun_uri = \"<Enter the run_uri from module 04 here>\"\nrun_uri = \"runs:/b1bb91e0-55cf-4302-86d5-53b8aba63d13/nyctaxi_tripduration_lightgbm\"\nloaded_model = mlflow.spark.load_model(run_uri, dfs_tmpdir=\"Files/tmp/mlflow\")",
                                        "submissionTime": "2023-05-08T07:19:57.498GMT",
                                        "completionTime": "2023-05-08T07:19:57.874GMT",
                                        "stageIds": [25],
                                        "jobGroup": "5",
                                        "status": "SUCCEEDED",
                                        "numTasks": 1,
                                        "numActiveTasks": 0,
                                        "numCompletedTasks": 1,
                                        "numSkippedTasks": 0,
                                        "numFailedTasks": 0,
                                        "numKilledTasks": 0,
                                        "numCompletedIndices": 1,
                                        "numActiveStages": 0,
                                        "numCompletedStages": 1,
                                        "numSkippedStages": 0,
                                        "numFailedStages": 0,
                                        "killedTasksSummary": {}
                                    }, {
                                        "dataWritten": 0,
                                        "dataRead": 0,
                                        "rowCount": 0,
                                        "jobId": 18,
                                        "name": "parquet at OneHotEncoder.scala:418",
                                        "description": "Job group for statement 5:\nimport mlflow\nfrom pyspark.ml.feature import OneHotEncoder, VectorAssembler, StringIndexer\nfrom pyspark.ml import Pipeline\nfrom synapse.ml.core.platform import *\nfrom synapse.ml.lightgbm import LightGBMRegressor\n\n## Define run_uri to fetch the model\nrun_uri = \"<Enter the run_uri from module 04 here>\"\nrun_uri = \"runs:/b1bb91e0-55cf-4302-86d5-53b8aba63d13/nyctaxi_tripduration_lightgbm\"\nloaded_model = mlflow.spark.load_model(run_uri, dfs_tmpdir=\"Files/tmp/mlflow\")",
                                        "submissionTime": "2023-05-08T07:19:57.259GMT",
                                        "completionTime": "2023-05-08T07:19:57.407GMT",
                                        "stageIds": [24],
                                        "jobGroup": "5",
                                        "status": "SUCCEEDED",
                                        "numTasks": 1,
                                        "numActiveTasks": 0,
                                        "numCompletedTasks": 1,
                                        "numSkippedTasks": 0,
                                        "numFailedTasks": 0,
                                        "numKilledTasks": 0,
                                        "numCompletedIndices": 1,
                                        "numActiveStages": 0,
                                        "numCompletedStages": 1,
                                        "numSkippedStages": 0,
                                        "numFailedStages": 0,
                                        "killedTasksSummary": {}
                                    }, {
                                        "dataWritten": 0,
                                        "dataRead": 503,
                                        "rowCount": 1,
                                        "jobId": 17,
                                        "name": "first at ReadWrite.scala:587",
                                        "description": "Job group for statement 5:\nimport mlflow\nfrom pyspark.ml.feature import OneHotEncoder, VectorAssembler, StringIndexer\nfrom pyspark.ml import Pipeline\nfrom synapse.ml.core.platform import *\nfrom synapse.ml.lightgbm import LightGBMRegressor\n\n## Define run_uri to fetch the model\nrun_uri = \"<Enter the run_uri from module 04 here>\"\nrun_uri = \"runs:/b1bb91e0-55cf-4302-86d5-53b8aba63d13/nyctaxi_tripduration_lightgbm\"\nloaded_model = mlflow.spark.load_model(run_uri, dfs_tmpdir=\"Files/tmp/mlflow\")",
                                        "submissionTime": "2023-05-08T07:19:56.845GMT",
                                        "completionTime": "2023-05-08T07:19:56.943GMT",
                                        "stageIds": [23],
                                        "jobGroup": "5",
                                        "status": "SUCCEEDED",
                                        "numTasks": 1,
                                        "numActiveTasks": 0,
                                        "numCompletedTasks": 1,
                                        "numSkippedTasks": 0,
                                        "numFailedTasks": 0,
                                        "numKilledTasks": 0,
                                        "numCompletedIndices": 1,
                                        "numActiveStages": 0,
                                        "numCompletedStages": 1,
                                        "numSkippedStages": 0,
                                        "numFailedStages": 0,
                                        "killedTasksSummary": {}
                                    }, {
                                        "dataWritten": 0,
                                        "dataRead": 503,
                                        "rowCount": 1,
                                        "jobId": 16,
                                        "name": "first at ReadWrite.scala:587",
                                        "description": "Job group for statement 5:\nimport mlflow\nfrom pyspark.ml.feature import OneHotEncoder, VectorAssembler, StringIndexer\nfrom pyspark.ml import Pipeline\nfrom synapse.ml.core.platform import *\nfrom synapse.ml.lightgbm import LightGBMRegressor\n\n## Define run_uri to fetch the model\nrun_uri = \"<Enter the run_uri from module 04 here>\"\nrun_uri = \"runs:/b1bb91e0-55cf-4302-86d5-53b8aba63d13/nyctaxi_tripduration_lightgbm\"\nloaded_model = mlflow.spark.load_model(run_uri, dfs_tmpdir=\"Files/tmp/mlflow\")",
                                        "submissionTime": "2023-05-08T07:19:56.541GMT",
                                        "completionTime": "2023-05-08T07:19:56.662GMT",
                                        "stageIds": [22],
                                        "jobGroup": "5",
                                        "status": "SUCCEEDED",
                                        "numTasks": 1,
                                        "numActiveTasks": 0,
                                        "numCompletedTasks": 1,
                                        "numSkippedTasks": 0,
                                        "numFailedTasks": 0,
                                        "numKilledTasks": 0,
                                        "numCompletedIndices": 1,
                                        "numActiveStages": 0,
                                        "numCompletedStages": 1,
                                        "numSkippedStages": 0,
                                        "numFailedStages": 0,
                                        "killedTasksSummary": {}
                                    }, {
                                        "dataWritten": 0,
                                        "dataRead": 1661,
                                        "rowCount": 1,
                                        "jobId": 15,
                                        "name": "head at StringIndexer.scala:524",
                                        "description": "Job group for statement 5:\nimport mlflow\nfrom pyspark.ml.feature import OneHotEncoder, VectorAssembler, StringIndexer\nfrom pyspark.ml import Pipeline\nfrom synapse.ml.core.platform import *\nfrom synapse.ml.lightgbm import LightGBMRegressor\n\n## Define run_uri to fetch the model\nrun_uri = \"<Enter the run_uri from module 04 here>\"\nrun_uri = \"runs:/b1bb91e0-55cf-4302-86d5-53b8aba63d13/nyctaxi_tripduration_lightgbm\"\nloaded_model = mlflow.spark.load_model(run_uri, dfs_tmpdir=\"Files/tmp/mlflow\")",
                                        "submissionTime": "2023-05-08T07:19:55.882GMT",
                                        "completionTime": "2023-05-08T07:19:56.321GMT",
                                        "stageIds": [21],
                                        "jobGroup": "5",
                                        "status": "SUCCEEDED",
                                        "numTasks": 1,
                                        "numActiveTasks": 0,
                                        "numCompletedTasks": 1,
                                        "numSkippedTasks": 0,
                                        "numFailedTasks": 0,
                                        "numKilledTasks": 0,
                                        "numCompletedIndices": 1,
                                        "numActiveStages": 0,
                                        "numCompletedStages": 1,
                                        "numSkippedStages": 0,
                                        "numFailedStages": 0,
                                        "killedTasksSummary": {}
                                    }, {
                                        "dataWritten": 0,
                                        "dataRead": 0,
                                        "rowCount": 0,
                                        "jobId": 14,
                                        "name": "parquet at StringIndexer.scala:523",
                                        "description": "Job group for statement 5:\nimport mlflow\nfrom pyspark.ml.feature import OneHotEncoder, VectorAssembler, StringIndexer\nfrom pyspark.ml import Pipeline\nfrom synapse.ml.core.platform import *\nfrom synapse.ml.lightgbm import LightGBMRegressor\n\n## Define run_uri to fetch the model\nrun_uri = \"<Enter the run_uri from module 04 here>\"\nrun_uri = \"runs:/b1bb91e0-55cf-4302-86d5-53b8aba63d13/nyctaxi_tripduration_lightgbm\"\nloaded_model = mlflow.spark.load_model(run_uri, dfs_tmpdir=\"Files/tmp/mlflow\")",
                                        "submissionTime": "2023-05-08T07:19:55.579GMT",
                                        "completionTime": "2023-05-08T07:19:55.796GMT",
                                        "stageIds": [20],
                                        "jobGroup": "5",
                                        "status": "SUCCEEDED",
                                        "numTasks": 1,
                                        "numActiveTasks": 0,
                                        "numCompletedTasks": 1,
                                        "numSkippedTasks": 0,
                                        "numFailedTasks": 0,
                                        "numKilledTasks": 0,
                                        "numCompletedIndices": 1,
                                        "numActiveStages": 0,
                                        "numCompletedStages": 1,
                                        "numSkippedStages": 0,
                                        "numFailedStages": 0,
                                        "killedTasksSummary": {}
                                    }, {
                                        "dataWritten": 0,
                                        "dataRead": 526,
                                        "rowCount": 1,
                                        "jobId": 13,
                                        "name": "first at ReadWrite.scala:587",
                                        "description": "Job group for statement 5:\nimport mlflow\nfrom pyspark.ml.feature import OneHotEncoder, VectorAssembler, StringIndexer\nfrom pyspark.ml import Pipeline\nfrom synapse.ml.core.platform import *\nfrom synapse.ml.lightgbm import LightGBMRegressor\n\n## Define run_uri to fetch the model\nrun_uri = \"<Enter the run_uri from module 04 here>\"\nrun_uri = \"runs:/b1bb91e0-55cf-4302-86d5-53b8aba63d13/nyctaxi_tripduration_lightgbm\"\nloaded_model = mlflow.spark.load_model(run_uri, dfs_tmpdir=\"Files/tmp/mlflow\")",
                                        "submissionTime": "2023-05-08T07:19:55.213GMT",
                                        "completionTime": "2023-05-08T07:19:55.310GMT",
                                        "stageIds": [19],
                                        "jobGroup": "5",
                                        "status": "SUCCEEDED",
                                        "numTasks": 1,
                                        "numActiveTasks": 0,
                                        "numCompletedTasks": 1,
                                        "numSkippedTasks": 0,
                                        "numFailedTasks": 0,
                                        "numKilledTasks": 0,
                                        "numCompletedIndices": 1,
                                        "numActiveStages": 0,
                                        "numCompletedStages": 1,
                                        "numSkippedStages": 0,
                                        "numFailedStages": 0,
                                        "killedTasksSummary": {}
                                    }, {
                                        "dataWritten": 0,
                                        "dataRead": 526,
                                        "rowCount": 1,
                                        "jobId": 12,
                                        "name": "first at ReadWrite.scala:587",
                                        "description": "Job group for statement 5:\nimport mlflow\nfrom pyspark.ml.feature import OneHotEncoder, VectorAssembler, StringIndexer\nfrom pyspark.ml import Pipeline\nfrom synapse.ml.core.platform import *\nfrom synapse.ml.lightgbm import LightGBMRegressor\n\n## Define run_uri to fetch the model\nrun_uri = \"<Enter the run_uri from module 04 here>\"\nrun_uri = \"runs:/b1bb91e0-55cf-4302-86d5-53b8aba63d13/nyctaxi_tripduration_lightgbm\"\nloaded_model = mlflow.spark.load_model(run_uri, dfs_tmpdir=\"Files/tmp/mlflow\")",
                                        "submissionTime": "2023-05-08T07:19:54.921GMT",
                                        "completionTime": "2023-05-08T07:19:55.036GMT",
                                        "stageIds": [18],
                                        "jobGroup": "5",
                                        "status": "SUCCEEDED",
                                        "numTasks": 1,
                                        "numActiveTasks": 0,
                                        "numCompletedTasks": 1,
                                        "numSkippedTasks": 0,
                                        "numFailedTasks": 0,
                                        "numKilledTasks": 0,
                                        "numCompletedIndices": 1,
                                        "numActiveStages": 0,
                                        "numCompletedStages": 1,
                                        "numSkippedStages": 0,
                                        "numFailedStages": 0,
                                        "killedTasksSummary": {}
                                    }, {
                                        "dataWritten": 0,
                                        "dataRead": 313,
                                        "rowCount": 1,
                                        "jobId": 11,
                                        "name": "first at ReadWrite.scala:587",
                                        "description": "Job group for statement 5:\nimport mlflow\nfrom pyspark.ml.feature import OneHotEncoder, VectorAssembler, StringIndexer\nfrom pyspark.ml import Pipeline\nfrom synapse.ml.core.platform import *\nfrom synapse.ml.lightgbm import LightGBMRegressor\n\n## Define run_uri to fetch the model\nrun_uri = \"<Enter the run_uri from module 04 here>\"\nrun_uri = \"runs:/b1bb91e0-55cf-4302-86d5-53b8aba63d13/nyctaxi_tripduration_lightgbm\"\nloaded_model = mlflow.spark.load_model(run_uri, dfs_tmpdir=\"Files/tmp/mlflow\")",
                                        "submissionTime": "2023-05-08T07:19:54.647GMT",
                                        "completionTime": "2023-05-08T07:19:54.749GMT",
                                        "stageIds": [17],
                                        "jobGroup": "5",
                                        "status": "SUCCEEDED",
                                        "numTasks": 1,
                                        "numActiveTasks": 0,
                                        "numCompletedTasks": 1,
                                        "numSkippedTasks": 0,
                                        "numFailedTasks": 0,
                                        "numKilledTasks": 0,
                                        "numCompletedIndices": 1,
                                        "numActiveStages": 0,
                                        "numCompletedStages": 1,
                                        "numSkippedStages": 0,
                                        "numFailedStages": 0,
                                        "killedTasksSummary": {}
                                    }, {
                                        "dataWritten": 0,
                                        "dataRead": 313,
                                        "rowCount": 1,
                                        "jobId": 10,
                                        "name": "runJob at PythonRDD.scala:172",
                                        "description": "Job group for statement 5:\nimport mlflow\nfrom pyspark.ml.feature import OneHotEncoder, VectorAssembler, StringIndexer\nfrom pyspark.ml import Pipeline\nfrom synapse.ml.core.platform import *\nfrom synapse.ml.lightgbm import LightGBMRegressor\n\n## Define run_uri to fetch the model\nrun_uri = \"<Enter the run_uri from module 04 here>\"\nrun_uri = \"runs:/b1bb91e0-55cf-4302-86d5-53b8aba63d13/nyctaxi_tripduration_lightgbm\"\nloaded_model = mlflow.spark.load_model(run_uri, dfs_tmpdir=\"Files/tmp/mlflow\")",
                                        "submissionTime": "2023-05-08T07:19:53.700GMT",
                                        "completionTime": "2023-05-08T07:19:54.342GMT",
                                        "stageIds": [16],
                                        "jobGroup": "5",
                                        "status": "SUCCEEDED",
                                        "numTasks": 1,
                                        "numActiveTasks": 0,
                                        "numCompletedTasks": 1,
                                        "numSkippedTasks": 0,
                                        "numFailedTasks": 0,
                                        "numKilledTasks": 0,
                                        "numCompletedIndices": 1,
                                        "numActiveStages": 0,
                                        "numCompletedStages": 1,
                                        "numSkippedStages": 0,
                                        "numFailedStages": 0,
                                        "killedTasksSummary": {}
                                    }
                                ],
                                "limit": 20,
                                "rule": "ALL_DESC"
                            },
                            "parent_msg_id": "3d243bd5-d9a1-4531-8f29-ca53ebcbbf91"
                        },
                        "text/plain": "StatementMeta(, 84315cdd-6867-4656-a537-5cbe8ee79d78, 5, Finished, Available)"
                    },
                    "metadata": {}
                }, {
                    "output_type": "stream",
                    "name": "stderr",
                    "text": ["2023/05/08 07:19:46 INFO mlflow.spark: 'runs:/b1bb91e0-55cf-4302-86d5-53b8aba63d13/nyctaxi_tripduration_lightgbm' resolved as 'sds://lake.trident.com/c43639aa-073c-4b8b-987b-2110918da2c5/b79ad202-f108-4a47-a73f-860e97c05e34/b1bb91e0-55cf-4302-86d5-53b8aba63d13/artifacts/nyctaxi_tripduration_lightgbm'\n2023/05/08 07:19:49 INFO mlflow.spark: File 'sds://lake.trident.com/c43639aa-073c-4b8b-987b-2110918da2c5/b79ad202-f108-4a47-a73f-860e97c05e34/b1bb91e0-55cf-4302-86d5-53b8aba63d13/artifacts/nyctaxi_tripduration_lightgbm/sparkml' not found on DFS. Will attempt to upload the file.\n2023/05/08 07:19:53 INFO mlflow.spark: Copied SparkML model to Files/tmp/mlflow/6bed470d-db95-4f9d-beb8-9353fd9045a8\n"]
                }
            ],
            "execution_count": 3,
            "metadata": {}
        }, {
            "cell_type": "markdown",
            "source": ["#### Run model transform on the input dataframe to generate predictions and remove unnecessary vector features created for model training"],
            "metadata": {}
        }, {
            "cell_type": "code",
            "source": ["# Generate predictions by applying model transform on the input dataframe\r\n", "predictions = loaded_model.transform(input_df)\r\n", "cols_toremove = ['storeAndFwdFlagIdx', 'timeBinsIdx', 'vendorIDIdx', 'paymentTypeIdx', 'vendorIDEnc',\r\n", " 'rateCodeIdEnc', 'paymentTypeEnc', 'weekDayEnc', 'pickupHourEnc', 'storeAndFwdFlagEnc', 'timeBinsEnc', 'features','weekDayNameIdx',\r\n", " 'pickupHourIdx', 'rateCodeIdIdx', 'weekDayNameEnc']\r\n", "output_df = predictions.withColumnRenamed(\"prediction\", \"predictedtripDuration\").drop(*cols_toremove)"],
            "outputs": [{
                    "output_type": "display_data",
                    "data": {
                        "application/vnd.livy.statement-meta+json": {
                            "spark_pool": null,
                            "session_id": "84315cdd-6867-4656-a537-5cbe8ee79d78",
                            "statement_id": 6,
                            "state": "finished",
                            "livy_statement_state": "available",
                            "queued_time": "2023-05-08T07:19:19.0698034Z",
                            "session_start_time": null,
                            "execution_start_time": "2023-05-08T07:20:03.0483507Z",
                            "execution_finish_time": "2023-05-08T07:20:03.4017191Z",
                            "spark_jobs": {
                                "numbers": {
                                    "UNKNOWN": 0,
                                    "RUNNING": 0,
                                    "FAILED": 0,
                                    "SUCCEEDED": 0
                                },
                                "jobs": [],
                                "limit": 20,
                                "rule": "ALL_DESC"
                            },
                            "parent_msg_id": "6d1df54e-416d-477d-bb3f-8929cdf30098"
                        },
                        "text/plain": "StatementMeta(, 84315cdd-6867-4656-a537-5cbe8ee79d78, 6, Finished, Available)"
                    },
                    "metadata": {}
                }
            ],
            "execution_count": 4,
            "metadata": {}
        }, {
            "cell_type": "markdown",
            "source": ["#### Save predictions to lakehouse delta table"],
            "metadata": {}
        }, {
            "cell_type": "code",
            "source": ["table_name = \"nyctaxi_pred\"\r\n", "output_df.write.mode(\"overwrite\").format(\"delta\").save(f\"Tables/{table_name}\")\r\n", "print(f\"Output Predictions saved to delta table: {table_name}\")"],
            "outputs": [{
                    "output_type": "display_data",
                    "data": {
                        "application/vnd.livy.statement-meta+json": {
                            "spark_pool": null,
                            "session_id": "84315cdd-6867-4656-a537-5cbe8ee79d78",
                            "statement_id": 7,
                            "state": "finished",
                            "livy_statement_state": "available",
                            "queued_time": "2023-05-08T07:19:19.0709245Z",
                            "session_start_time": null,
                            "execution_start_time": "2023-05-08T07:20:04.5185859Z",
                            "execution_finish_time": "2023-05-08T07:20:23.9522234Z",
                            "spark_jobs": {
                                "numbers": {
                                    "UNKNOWN": 0,
                                    "RUNNING": 0,
                                    "FAILED": 0,
                                    "SUCCEEDED": 7
                                },
                                "jobs": [{
                                        "dataWritten": 0,
                                        "dataRead": 4741,
                                        "rowCount": 50,
                                        "jobId": 30,
                                        "name": "toString at String.java:2994",
                                        "description": "Delta: Job group for statement 7:\ntable_name = \"nyctaxi_pred\"\noutput_df.write.mode(\"overwrite\").format(\"delta\").save(f\"Tables/{table_name}\")\nprint(f\"Output Predictions saved to delta table: {table_name}\"): Compute snapshot for version: 0",
                                        "submissionTime": "2023-05-08T07:20:22.585GMT",
                                        "completionTime": "2023-05-08T07:20:22.618GMT",
                                        "stageIds": [38, 39, 40],
                                        "jobGroup": "7",
                                        "status": "SUCCEEDED",
                                        "numTasks": 52,
                                        "numActiveTasks": 0,
                                        "numCompletedTasks": 1,
                                        "numSkippedTasks": 51,
                                        "numFailedTasks": 0,
                                        "numKilledTasks": 0,
                                        "numCompletedIndices": 1,
                                        "numActiveStages": 0,
                                        "numCompletedStages": 1,
                                        "numSkippedStages": 2,
                                        "numFailedStages": 0,
                                        "killedTasksSummary": {}
                                    }, {
                                        "dataWritten": 4741,
                                        "dataRead": 2758,
                                        "rowCount": 54,
                                        "jobId": 29,
                                        "name": "toString at String.java:2994",
                                        "description": "Delta: Job group for statement 7:\ntable_name = \"nyctaxi_pred\"\noutput_df.write.mode(\"overwrite\").format(\"delta\").save(f\"Tables/{table_name}\")\nprint(f\"Output Predictions saved to delta table: {table_name}\"): Compute snapshot for version: 0",
                                        "submissionTime": "2023-05-08T07:20:21.755GMT",
                                        "completionTime": "2023-05-08T07:20:22.564GMT",
                                        "stageIds": [37, 36],
                                        "jobGroup": "7",
                                        "status": "SUCCEEDED",
                                        "numTasks": 51,
                                        "numActiveTasks": 0,
                                        "numCompletedTasks": 50,
                                        "numSkippedTasks": 1,
                                        "numFailedTasks": 0,
                                        "numKilledTasks": 0,
                                        "numCompletedIndices": 50,
                                        "numActiveStages": 0,
                                        "numCompletedStages": 1,
                                        "numSkippedStages": 1,
                                        "numFailedStages": 0,
                                        "killedTasksSummary": {}
                                    }, {
                                        "dataWritten": 2758,
                                        "dataRead": 5480,
                                        "rowCount": 8,
                                        "jobId": 28,
                                        "name": "toString at String.java:2994",
                                        "description": "Delta: Job group for statement 7:\ntable_name = \"nyctaxi_pred\"\noutput_df.write.mode(\"overwrite\").format(\"delta\").save(f\"Tables/{table_name}\")\nprint(f\"Output Predictions saved to delta table: {table_name}\"): Compute snapshot for version: 0",
                                        "submissionTime": "2023-05-08T07:20:21.432GMT",
                                        "completionTime": "2023-05-08T07:20:21.575GMT",
                                        "stageIds": [35],
                                        "jobGroup": "7",
                                        "status": "SUCCEEDED",
                                        "numTasks": 1,
                                        "numActiveTasks": 0,
                                        "numCompletedTasks": 1,
                                        "numSkippedTasks": 0,
                                        "numFailedTasks": 0,
                                        "numKilledTasks": 0,
                                        "numCompletedIndices": 1,
                                        "numActiveStages": 0,
                                        "numCompletedStages": 1,
                                        "numSkippedStages": 0,
                                        "numFailedStages": 0,
                                        "killedTasksSummary": {}
                                    }, {
                                        "dataWritten": 0,
                                        "dataRead": 0,
                                        "rowCount": 0,
                                        "jobId": 27,
                                        "name": "",
                                        "description": "Job group for statement 7:\ntable_name = \"nyctaxi_pred\"\noutput_df.write.mode(\"overwrite\").format(\"delta\").save(f\"Tables/{table_name}\")\nprint(f\"Output Predictions saved to delta table: {table_name}\")",
                                        "submissionTime": "2023-05-08T07:20:20.370GMT",
                                        "completionTime": "2023-05-08T07:20:20.370GMT",
                                        "stageIds": [],
                                        "jobGroup": "7",
                                        "status": "SUCCEEDED",
                                        "numTasks": 0,
                                        "numActiveTasks": 0,
                                        "numCompletedTasks": 0,
                                        "numSkippedTasks": 0,
                                        "numFailedTasks": 0,
                                        "numKilledTasks": 0,
                                        "numCompletedIndices": 0,
                                        "numActiveStages": 0,
                                        "numCompletedStages": 0,
                                        "numSkippedStages": 0,
                                        "numFailedStages": 0,
                                        "killedTasksSummary": {}
                                    }, {
                                        "dataWritten": 5229439,
                                        "dataRead": 9586056,
                                        "rowCount": 243070,
                                        "jobId": 26,
                                        "name": "save at NativeMethodAccessorImpl.java:0",
                                        "description": "Job group for statement 7:\ntable_name = \"nyctaxi_pred\"\noutput_df.write.mode(\"overwrite\").format(\"delta\").save(f\"Tables/{table_name}\")\nprint(f\"Output Predictions saved to delta table: {table_name}\")",
                                        "submissionTime": "2023-05-08T07:20:18.270GMT",
                                        "completionTime": "2023-05-08T07:20:20.258GMT",
                                        "stageIds": [33, 34],
                                        "jobGroup": "7",
                                        "status": "SUCCEEDED",
                                        "numTasks": 10,
                                        "numActiveTasks": 0,
                                        "numCompletedTasks": 1,
                                        "numSkippedTasks": 9,
                                        "numFailedTasks": 0,
                                        "numKilledTasks": 0,
                                        "numCompletedIndices": 1,
                                        "numActiveStages": 0,
                                        "numCompletedStages": 1,
                                        "numSkippedStages": 1,
                                        "numFailedStages": 0,
                                        "killedTasksSummary": {}
                                    }, {
                                        "dataWritten": 9586056,
                                        "dataRead": 505226174,
                                        "rowCount": 18068612,
                                        "jobId": 25,
                                        "name": "save at NativeMethodAccessorImpl.java:0",
                                        "description": "Job group for statement 7:\ntable_name = \"nyctaxi_pred\"\noutput_df.write.mode(\"overwrite\").format(\"delta\").save(f\"Tables/{table_name}\")\nprint(f\"Output Predictions saved to delta table: {table_name}\")",
                                        "submissionTime": "2023-05-08T07:20:06.209GMT",
                                        "completionTime": "2023-05-08T07:20:18.222GMT",
                                        "stageIds": [32],
                                        "jobGroup": "7",
                                        "status": "SUCCEEDED",
                                        "numTasks": 9,
                                        "numActiveTasks": 0,
                                        "numCompletedTasks": 9,
                                        "numSkippedTasks": 0,
                                        "numFailedTasks": 0,
                                        "numKilledTasks": 0,
                                        "numCompletedIndices": 9,
                                        "numActiveStages": 0,
                                        "numCompletedStages": 1,
                                        "numSkippedStages": 0,
                                        "numFailedStages": 0,
                                        "killedTasksSummary": {}
                                    }, {
                                        "dataWritten": 0,
                                        "dataRead": 16086,
                                        "rowCount": 15,
                                        "jobId": 24,
                                        "name": "$anonfun$recordDeltaOperationInternal$1 at SynapseLoggingShim.scala:95",
                                        "description": "Delta: Job group for statement 7:\ntable_name = \"nyctaxi_pred\"\noutput_df.write.mode(\"overwrite\").format(\"delta\").save(f\"Tables/{table_name}\")\nprint(f\"Output Predictions saved to delta table: {table_name}\"): Filtering files for query",
                                        "submissionTime": "2023-05-08T07:20:05.271GMT",
                                        "completionTime": "2023-05-08T07:20:05.965GMT",
                                        "stageIds": [30, 31],
                                        "jobGroup": "7",
                                        "status": "SUCCEEDED",
                                        "numTasks": 51,
                                        "numActiveTasks": 0,
                                        "numCompletedTasks": 50,
                                        "numSkippedTasks": 1,
                                        "numFailedTasks": 0,
                                        "numKilledTasks": 0,
                                        "numCompletedIndices": 50,
                                        "numActiveStages": 0,
                                        "numCompletedStages": 1,
                                        "numSkippedStages": 1,
                                        "numFailedStages": 0,
                                        "killedTasksSummary": {}
                                    }
                                ],
                                "limit": 20,
                                "rule": "ALL_DESC"
                            },
                            "parent_msg_id": "28352b3a-af20-41ce-ad68-bef5e493835f"
                        },
                        "text/plain": "StatementMeta(, 84315cdd-6867-4656-a537-5cbe8ee79d78, 7, Finished, Available)"
                    },
                    "metadata": {}
                }, {
                    "output_type": "stream",
                    "name": "stdout",
                    "text": ["Output Predictions saved to delta table: nyctaxi_pred\n"]
                }
            ],
            "execution_count": 5,
            "metadata": {}
        }, {
            "cell_type": "markdown",
            "source": ["#### Preview predicted dataframe"],
            "metadata": {}
        }, {
            "cell_type": "code",
            "source": ["%%sql\r\n", "SELECT * FROM nyctaxi_pred LIMIT 20"],
            "outputs": [{
                    "output_type": "display_data",
                    "data": {
                        "application/vnd.livy.statement-meta+json": {
                            "spark_pool": null,
                            "session_id": "84315cdd-6867-4656-a537-5cbe8ee79d78",
                            "statement_id": 8,
                            "state": "finished",
                            "livy_statement_state": "available",
                            "queued_time": "2023-05-08T07:19:19.071916Z",
                            "session_start_time": null,
                            "execution_start_time": "2023-05-08T07:20:25.3226533Z",
                            "execution_finish_time": "2023-05-08T07:20:35.6695249Z",
                            "spark_jobs": {
                                "numbers": {
                                    "UNKNOWN": 0,
                                    "RUNNING": 0,
                                    "FAILED": 0,
                                    "SUCCEEDED": 2
                                },
                                "jobs": [{
                                        "dataWritten": 0,
                                        "dataRead": 5225544,
                                        "rowCount": 4096,
                                        "jobId": 32,
                                        "name": "take at SQLInterpreter.scala:133",
                                        "description": "Job group for statement 8:\nSELECT * FROM nyctaxi_pred LIMIT 20",
                                        "submissionTime": "2023-05-08T07:20:33.702GMT",
                                        "completionTime": "2023-05-08T07:20:34.400GMT",
                                        "stageIds": [43],
                                        "jobGroup": "8",
                                        "status": "SUCCEEDED",
                                        "numTasks": 1,
                                        "numActiveTasks": 0,
                                        "numCompletedTasks": 1,
                                        "numSkippedTasks": 0,
                                        "numFailedTasks": 0,
                                        "numKilledTasks": 0,
                                        "numCompletedIndices": 1,
                                        "numActiveStages": 0,
                                        "numCompletedStages": 1,
                                        "numSkippedStages": 0,
                                        "numFailedStages": 0,
                                        "killedTasksSummary": {}
                                    }, {
                                        "dataWritten": 0,
                                        "dataRead": 2973,
                                        "rowCount": 3,
                                        "jobId": 31,
                                        "name": "$anonfun$recordDeltaOperationInternal$1 at SynapseLoggingShim.scala:95",
                                        "description": "Delta: Job group for statement 8:\nSELECT * FROM nyctaxi_pred LIMIT 20: Filtering files for query",
                                        "submissionTime": "2023-05-08T07:20:33.195GMT",
                                        "completionTime": "2023-05-08T07:20:33.568GMT",
                                        "stageIds": [42, 41],
                                        "jobGroup": "8",
                                        "status": "SUCCEEDED",
                                        "numTasks": 51,
                                        "numActiveTasks": 0,
                                        "numCompletedTasks": 50,
                                        "numSkippedTasks": 1,
                                        "numFailedTasks": 0,
                                        "numKilledTasks": 0,
                                        "numCompletedIndices": 50,
                                        "numActiveStages": 0,
                                        "numCompletedStages": 1,
                                        "numSkippedStages": 1,
                                        "numFailedStages": 0,
                                        "killedTasksSummary": {}
                                    }
                                ],
                                "limit": 20,
                                "rule": "ALL_DESC"
                            },
                            "parent_msg_id": "8dfcf901-31d0-4e61-bf56-a4425c93dd24"
                        },
                        "text/plain": "StatementMeta(, 84315cdd-6867-4656-a537-5cbe8ee79d78, 8, Finished, Available)"
                    },
                    "metadata": {}
                }, {
                    "output_type": "execute_result",
                    "execution_count": 6,
                    "data": {
                        "application/vnd.synapse.sparksql-result+json": {
                            "schema": {
                                "type": "struct",
                                "fields": [{
                                        "name": "vendorID",
                                        "type": "string",
                                        "nullable": true,
                                        "metadata": {}
                                    }, {
                                        "name": "tpepPickupDateTime",
                                        "type": "timestamp",
                                        "nullable": true,
                                        "metadata": {}
                                    }, {
                                        "name": "tpepDropoffDateTime",
                                        "type": "timestamp",
                                        "nullable": true,
                                        "metadata": {}
                                    }, {
                                        "name": "passengerCount",
                                        "type": "integer",
                                        "nullable": true,
                                        "metadata": {}
                                    }, {
                                        "name": "tripDistance",
                                        "type": "double",
                                        "nullable": true,
                                        "metadata": {}
                                    }, {
                                        "name": "puLocationId",
                                        "type": "string",
                                        "nullable": true,
                                        "metadata": {}
                                    }, {
                                        "name": "doLocationId",
                                        "type": "string",
                                        "nullable": true,
                                        "metadata": {}
                                    }, {
                                        "name": "startLon",
                                        "type": "double",
                                        "nullable": true,
                                        "metadata": {}
                                    }, {
                                        "name": "startLat",
                                        "type": "double",
                                        "nullable": true,
                                        "metadata": {}
                                    }, {
                                        "name": "endLon",
                                        "type": "double",
                                        "nullable": true,
                                        "metadata": {}
                                    }, {
                                        "name": "endLat",
                                        "type": "double",
                                        "nullable": true,
                                        "metadata": {}
                                    }, {
                                        "name": "rateCodeId",
                                        "type": "integer",
                                        "nullable": true,
                                        "metadata": {}
                                    }, {
                                        "name": "storeAndFwdFlag",
                                        "type": "string",
                                        "nullable": true,
                                        "metadata": {}
                                    }, {
                                        "name": "paymentType",
                                        "type": "string",
                                        "nullable": true,
                                        "metadata": {}
                                    }, {
                                        "name": "fareAmount",
                                        "type": "double",
                                        "nullable": true,
                                        "metadata": {}
                                    }, {
                                        "name": "extra",
                                        "type": "double",
                                        "nullable": true,
                                        "metadata": {}
                                    }, {
                                        "name": "mtaTax",
                                        "type": "double",
                                        "nullable": true,
                                        "metadata": {}
                                    }, {
                                        "name": "improvementSurcharge",
                                        "type": "string",
                                        "nullable": true,
                                        "metadata": {}
                                    }, {
                                        "name": "tipAmount",
                                        "type": "double",
                                        "nullable": true,
                                        "metadata": {}
                                    }, {
                                        "name": "tollsAmount",
                                        "type": "double",
                                        "nullable": true,
                                        "metadata": {}
                                    }, {
                                        "name": "totalAmount",
                                        "type": "double",
                                        "nullable": true,
                                        "metadata": {}
                                    }, {
                                        "name": "puYear",
                                        "type": "integer",
                                        "nullable": true,
                                        "metadata": {}
                                    }, {
                                        "name": "puMonth",
                                        "type": "integer",
                                        "nullable": true,
                                        "metadata": {}
                                    }, {
                                        "name": "pickupDate",
                                        "type": "date",
                                        "nullable": true,
                                        "metadata": {}
                                    }, {
                                        "name": "weekDay",
                                        "type": "integer",
                                        "nullable": true,
                                        "metadata": {}
                                    }, {
                                        "name": "weekDayName",
                                        "type": "string",
                                        "nullable": true,
                                        "metadata": {}
                                    }, {
                                        "name": "dayofMonth",
                                        "type": "integer",
                                        "nullable": true,
                                        "metadata": {}
                                    }, {
                                        "name": "pickupHour",
                                        "type": "integer",
                                        "nullable": true,
                                        "metadata": {}
                                    }, {
                                        "name": "tripDuration",
                                        "type": "double",
                                        "nullable": true,
                                        "metadata": {}
                                    }, {
                                        "name": "timeBins",
                                        "type": "string",
                                        "nullable": true,
                                        "metadata": {}
                                    }, {
                                        "name": "predictedtripDuration",
                                        "type": "double",
                                        "nullable": true,
                                        "metadata": {
                                            "ml_attr": {}
                                        }
                                    }
                                ]
                            },
                            "data": [["1", "2016-03-09T06:18:17Z", "2016-03-09T06:43:08Z", 1, 17.3, null, null, -73.98596954345703, 40.75944900512695, -74.17671966552734, 40.6942138671875, 3, "N", "1", 64, 0, 0, "0.3", 10, 18.5, 92.8, 2016, 3, "2016-03-09", 4, "Wednesday", 4, 6, 24.85, "Night", 29.260948144377224], ["1", "2016-03-11T12:40:19Z", "2016-03-11T13:16:03Z", 1, 17.5, null, null, -73.98051452636719, 40.755393981933594, -74.17668151855469, 40.69401931762695, 3, "N", "1", 69, 0, 0, "0.3", 10, 15, 94.3, 2016, 3, "2016-03-11", 6, "Friday", 6, 12, 35.733333333333334, "Afternoon", 36.41545984749564], ["2", "2016-03-31T11:56:26Z", "2016-03-31T12:22:19Z", 1, 12.24, null, null, -74.0052490234375, 40.728843688964844, -74.18327331542969, 40.68809509277344, 3, "N", "1", 52.5, 0, 0, "0.3", 10, 18.2, 81, 2016, 3, "2016-03-31", 5, "Thursday", 5, 11, 25.883333333333333, "Afternoon", 29.426084357973785], ["1", "2016-03-11T14:32:25Z", "2016-03-11T15:04:08Z", 1, 17, null, null, -74.00555419921875, 40.75069046020508, -74.17767333984375, 40.69041442871094, 3, "N", "1", 64.5, 0, 0, "0.3", 10, 10.5, 85.3, 2016, 3, "2016-03-11", 6, "Friday", 6, 14, 31.716666666666665, "Afternoon", 40.496923959711815], ["1", "2016-03-28T14:58:37Z", "2016-03-28T15:49:59Z", 1, 17.2, null, null, -73.99801635742188, 40.77378463745117, -74.18336486816406, 40.688087463378906, 3, "N", "1", 71, 0, 0, "0.3", 10, 15.15, 96.45, 2016, 3, "2016-03-28", 2, "Monday", 2, 14, 51.36666666666667, "Afternoon", 35.401704741215106], ["1", "2016-03-24T08:37:48Z", "2016-03-24T09:04:20Z", 1, 14.9, null, null, -74.01033020019531, 40.712196350097656, -74.18145751953125, 40.68770217895508, 3, "N", "1", 58.5, 0, 0, "0.3", 10, 18.5, 87.3, 2016, 3, "2016-03-24", 5, "Thursday", 5, 8, 26.533333333333335, "MorningRush", 34.36054606180286], ["1", "2016-03-20T08:54:41Z", "2016-03-20T09:23:08Z", 1, 17, null, null, -74.00704956054688, 40.716304779052734, -74.14443969726562, 40.71263122558594, 3, "N", "1", 64.5, 0, 0, "0.3", 10, 10.5, 85.3, 2016, 3, "2016-03-20", 1, "Sunday", 1, 8, 28.45, "MorningRush", 24.200643028143997], ["1", "2016-03-16T11:06:12Z", "2016-03-16T11:36:20Z", 1, 13, null, null, -74.0077896118164, 40.73231506347656, -74.18327331542969, 40.68808364868164, 3, "N", "1", 55.5, 0, 0, "0.3", 10, 10.5, 76.3, 2016, 3, "2016-03-16", 4, "Wednesday", 4, 11, 30.133333333333333, "Afternoon", 28.874700878221915], ["1", "2016-03-11T10:04:29Z", "2016-03-11T10:37:10Z", 1, 17, null, null, -73.9794921875, 40.76622772216797, -74.18363189697266, 40.688289642333984, 3, "N", "1", 64.5, 0, 0, "0.3", 16, 15.4, 96.2, 2016, 3, "2016-03-11", 6, "Friday", 6, 10, 32.68333333333333, "MorningRush", 34.383186945556936], ["1", "2016-03-18T10:52:43Z", "2016-03-18T11:34:50Z", 1, 18.1, null, null, -73.97373962402344, 40.75449752807617, -74.18250274658203, 40.68773651123047, 3, "Y", "1", 71.5, 0, 0, "0.3", 17.25, 14.5, 103.55, 2016, 3, "2016-03-18", 6, "Friday", 6, 10, 42.11666666666667, "MorningRush", 38.906690837102175], ["1", "2016-03-08T10:27:37Z", "2016-03-08T11:03:13Z", 1, 17.5, null, null, -73.98506927490234, 40.747379302978516, -74.18161010742188, 40.69456100463867, 3, "N", "1", 67, 0, 0, "0.3", 16.45, 15.1, 98.85, 2016, 3, "2016-03-08", 3, "Tuesday", 3, 10, 35.6, "MorningRush", 35.83351350564488], ["2", "2016-03-04T10:42:13Z", "2016-03-04T11:12:30Z", 1, 18.54, null, null, -73.99906158447266, 40.76079177856445, -74.1777114868164, 40.695518493652344, 3, "N", "1", 68.5, 0, 0, "0.3", 15, 16.04, 99.84, 2016, 3, "2016-03-04", 6, "Friday", 6, 10, 30.283333333333335, "MorningRush", 40.079739558336804], ["2", "2016-03-16T10:25:28Z", "2016-03-16T10:56:14Z", 1, 19.13, null, null, 0, 0, 0, 0, 3, "N", "1", 71.5, 0, 0, "0.3", 18.36, 20, 110.16, 2016, 3, "2016-03-16", 4, "Wednesday", 4, 10, 30.766666666666666, "MorningRush", 39.51952721127214], ["2", "2016-03-10T10:25:33Z", "2016-03-10T11:11:15Z", 1, 18.75, null, null, -73.97364807128906, 40.754539489746094, -74.17711639404297, 40.694969177246094, 3, "N", "1", 74.5, 0, 0, "0.3", 18.17, 16.04, 109.01, 2016, 3, "2016-03-10", 5, "Thursday", 5, 10, 45.7, "MorningRush", 40.72625040919842], ["1", "2016-03-06T10:26:40Z", "2016-03-06T10:58:35Z", 1, 18.3, null, null, -73.97439575195312, 40.75706481933594, -74.17742156982422, 40.69523620605469, 3, "N", "1", 69.5, 0, 0, "0.3", 17.05, 15.5, 102.35, 2016, 3, "2016-03-06", 1, "Sunday", 1, 10, 31.916666666666668, "MorningRush", 30.489424372848873], ["2", "2016-03-09T10:14:38Z", "2016-03-09T10:49:13Z", 1, 18.64, null, null, -73.97845458984375, 40.77721405029297, -74.17713165283203, 40.69503402709961, 3, "N", "1", 69, 0, 0, "0.3", 19.95, 10.5, 99.75, 2016, 3, "2016-03-09", 4, "Wednesday", 4, 10, 34.583333333333336, "MorningRush", 40.609947811306455], ["2", "2016-03-21T11:50:34Z", "2016-03-21T12:21:33Z", 1, 15.67, null, null, -73.98975372314453, 40.733219146728516, -74.18172454833984, 40.68771743774414, 3, "N", "1", 62, 0, 0, "0.3", 19.92, 17.4, 99.62, 2016, 3, "2016-03-21", 2, "Monday", 2, 11, 30.983333333333334, "Afternoon", 32.64778048389362], ["1", "2016-03-20T13:57:30Z", "2016-03-20T14:22:08Z", 1, 18.3, null, null, -73.99345397949219, 40.75263977050781, -74.183349609375, 40.688167572021484, 3, "N", "1", 67, 0, 0, "0.3", 12, 18.75, 98.05, 2016, 3, "2016-03-20", 1, "Sunday", 1, 13, 24.633333333333333, "Afternoon", 36.48451988521695], ["2", "2016-03-16T15:56:13Z", "2016-03-16T16:46:22Z", 1, 17.72, null, null, -73.9786605834961, 40.76225662231445, -74.17716979980469, 40.691261291503906, 3, "N", "1", 73.5, 0, 0, "0.3", 18.26, 17.5, 109.56, 2016, 3, "2016-03-16", 4, "Wednesday", 4, 15, 50.15, "Afternoon", 43.956913907052446], ["2", "2016-03-22T15:45:05Z", "2016-03-22T16:31:21Z", 1, 16.7, null, null, -73.9808349609375, 40.7668342590332, -74.1832504272461, 40.68801498413086, 3, "N", "1", 70, 0, 0, "0.3", 17.16, 15.5, 102.96, 2016, 3, "2016-03-22", 3, "Tuesday", 3, 15, 46.266666666666666, "Afternoon", 40.26607481007989]]
                        },
                        "text/plain": "<Spark SQL result set with 20 rows and 31 fields>"
                    },
                    "metadata": {}
                }
            ],
            "execution_count": 6,
            "metadata": {
                "microsoft": {
                    "language": "sparksql"
                },
                "collapsed": false
            }
        }
    ],
    "metadata": {
        "language_info": {
            "name": "python"
        },
        "kernelspec": {
            "name": "synapse_pyspark",
            "language": "Python",
            "display_name": "Synapse PySpark"
        },
        "widgets": {},
        "kernel_info": {
            "name": "synapse_pyspark"
        },
        "save_output": true,
        "spark_compute": {
            "compute_id": "/trident/default",
            "session_options": {
                "enableDebugMode": false,
                "conf": {}
            }
        },
        "notebook_environment": {},
        "synapse_widget": {
            "version": "0.1",
            "state": {}
        }
    },
    "nbformat": 4,
    "nbformat_minor": 0
}
