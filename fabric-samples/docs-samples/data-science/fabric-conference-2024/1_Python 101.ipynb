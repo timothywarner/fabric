{
 "cells": [
  {
   "cell_type": "markdown",
   "id": "e1171d89-effb-405b-8f63-4c70d4249ab3",
   "metadata": {
    "nteract": {
     "transient": {
      "deleting": false
     }
    }
   },
   "source": [
    "# Lab 1: Python 101"
   ]
  },
  {
   "cell_type": "markdown",
   "id": "8db3a4bb-7537-4f03-b108-dc1a61ce5963",
   "metadata": {
    "nteract": {
     "transient": {
      "deleting": false
     }
    }
   },
   "source": [
    "## The print() Function\n",
    "\n",
    "**Purpose**: The ```print()``` function in Python is used to display output to the console. It can be used to print strings, numbers, or any other printable information.\n",
    "\n",
    "**Syntax**: The basic syntax of the ```print()``` function is ```print(object(s), sep=separator, end=end, file=file, flush=flush)```. For our current example, we are only concerned with the first argument, which is the object(s) to be printed.\n",
    "\n",
    "\n",
    "**Example**: In our code, ```print(\"Hello world!\")``` tells Python to output the string \"Hello world!\" to the console."
   ]
  },
  {
   "cell_type": "code",
   "execution_count": null,
   "id": "5933ca43-ce6e-4cb1-9fa1-b70104021475",
   "metadata": {},
   "outputs": [],
   "source": [
    "print(\"Hello world!\")  # this is a comment"
   ]
  },
  {
   "cell_type": "markdown",
   "id": "45d0ef0b-7741-4a57-99f0-09b933d52383",
   "metadata": {
    "nteract": {
     "transient": {
      "deleting": false
     }
    }
   },
   "source": [
    "## Strings\n",
    "\n",
    "In Python, strings are one of the most common data types you'll work with. They can represent anything from simple text to complex data outputs. Let's explore some basic operations and concepts related to strings through a practical example."
   ]
  },
  {
   "cell_type": "code",
   "execution_count": null,
   "id": "61a70f46-a6c3-446e-9121-330bd4a7a43d",
   "metadata": {
    "jupyter": {
     "outputs_hidden": false,
     "source_hidden": false
    },
    "nteract": {
     "transient": {
      "deleting": false
     }
    }
   },
   "outputs": [],
   "source": [
    "my_string0 = \"Welcome to FabCon\"               # double quotes\n",
    "\n",
    "my_string1 = 'More strings' + my_string0       # single quotes and + for concatenation\n",
    "\n",
    "# for multiline string use triple-quotes \"\"\" \n",
    "# put a 'f' in front to get string interpolation\n",
    "my_string2 = f\"\"\"A multiline                  \n",
    "string with a another string: {my_string1}\n",
    "\"\"\"\n",
    "\n",
    "my_string2"
   ]
  },
  {
   "cell_type": "markdown",
   "id": "7582c6ff-d04c-437a-ac28-14dd3ef69c4e",
   "metadata": {
    "nteract": {
     "transient": {
      "deleting": false
     }
    }
   },
   "source": [
    "## Lists, Tuples and Dictionary\n",
    "\n",
    "Python offers several collection data types that are used to store collections of data. Among these, tuples, dictionaries, and lists are the most commonly used. Understanding how to work with these types is fundamental to programming in Python.\n",
    "\n",
    "### Lists\n",
    "- **Definition**: A list is a mutable collection which is ordered and changeable. Lists allow duplicate members.\n",
    "- **Creation**: Use square brackets [] to create a list.\n",
    "- **Accessing Elements**: Access list items by referring to the index number.\n",
    "\n",
    "### Tuples\n",
    "- **Definition**: A tuple is an immutable (unchangeable) collection of items of any data type.\n",
    "- **Creation**: Use parentheses () to create a tuple.\n",
    "- **Accessing Elements**: Access tuple items by referring to the index number, using square brackets [].\n",
    "\n",
    "### Dictionaries\n",
    "- **Definition**: A dictionary is a mutable collection that is used to store data values in key:value pairs.\n",
    "- **Creation**: Use curly brackets {} to create a dictionary.\n",
    "- **Accessing Elements**: Access the data value by referring to its key name, using square brackets [].\n"
   ]
  },
  {
   "cell_type": "code",
   "execution_count": null,
   "id": "4307031a-a9ae-46d3-b2f7-cc0b13d8a085",
   "metadata": {
    "jupyter": {
     "outputs_hidden": false,
     "source_hidden": false
    },
    "nteract": {
     "transient": {
      "deleting": false
     }
    }
   },
   "outputs": [],
   "source": [
    "my_list = [1, 2, 3] # a list\n",
    "\n",
    "my_list[0] = 'A'    # access using []\n",
    "\n",
    "my_list"
   ]
  },
  {
   "cell_type": "code",
   "execution_count": null,
   "id": "1811abd5-ce52-460e-a78b-b528a93d028b",
   "metadata": {
    "jupyter": {
     "outputs_hidden": false,
     "source_hidden": false
    },
    "nteract": {
     "transient": {
      "deleting": false
     }
    }
   },
   "outputs": [],
   "source": [
    "my_tuple = (1, 2, 3, 4, 5) # a tuple (immutable)\n",
    "\n",
    "my_tuple[0:2]              # slicing!"
   ]
  },
  {
   "cell_type": "code",
   "execution_count": null,
   "id": "df33d652-ad65-4561-b57e-5fada7c7e2d0",
   "metadata": {
    "jupyter": {
     "outputs_hidden": false,
     "source_hidden": false
    },
    "nteract": {
     "transient": {
      "deleting": false
     }
    }
   },
   "outputs": [],
   "source": [
    "# a dictionary\n",
    "my_dict = {\n",
    "    \"key0\": \"value0\",\n",
    "    \"key1\": \"value1\" \n",
    "}\n",
    "\n",
    "my_dict[\"key1\"]"
   ]
  },
  {
   "cell_type": "code",
   "execution_count": null,
   "id": "914fb7ba-766b-4181-b00a-bda111049584",
   "metadata": {
    "jupyter": {
     "outputs_hidden": false,
     "source_hidden": false
    },
    "nteract": {
     "transient": {
      "deleting": false
     }
    }
   },
   "outputs": [],
   "source": [
    "my_dict.keys()"
   ]
  },
  {
   "cell_type": "markdown",
   "id": "8bc8e82d-ce4f-47ef-951d-44b20dd076c8",
   "metadata": {
    "nteract": {
     "transient": {
      "deleting": false
     }
    }
   },
   "source": [
    "## Flow control\n",
    "\n",
    "Now, we'll explore two fundamental concepts in Python programming: ```for``` loops and ```if/else``` blocks. These structures are essential for controlling the flow of your programs, allowing for repeated actions and decision-making based on conditions."
   ]
  },
  {
   "cell_type": "code",
   "execution_count": null,
   "id": "e730282a-a48b-40d1-aa19-cca183b5838f",
   "metadata": {
    "jupyter": {
     "outputs_hidden": false,
     "source_hidden": false
    },
    "nteract": {
     "transient": {
      "deleting": false
     }
    }
   },
   "outputs": [],
   "source": [
    "# Python cares about spaces/tabs, so blocks needs to be aligned\n",
    "if len(my_list) == 0:\n",
    "    print(\"My list is empty\")\n",
    "else:\n",
    "    print(f\"My list has some values: {my_list}\")"
   ]
  },
  {
   "cell_type": "code",
   "execution_count": null,
   "id": "2ab2c7ac-6993-4453-bea9-61b40da9a7c8",
   "metadata": {
    "jupyter": {
     "outputs_hidden": false,
     "source_hidden": false
    },
    "nteract": {
     "transient": {
      "deleting": false
     }
    }
   },
   "outputs": [],
   "source": [
    "# a for loop\n",
    "for num in range(3):\n",
    "    print(num)"
   ]
  },
  {
   "cell_type": "code",
   "execution_count": null,
   "id": "4f52e093-d8ff-474f-95f3-3569717d7737",
   "metadata": {
    "jupyter": {
     "outputs_hidden": false,
     "source_hidden": false
    },
    "nteract": {
     "transient": {
      "deleting": false
     }
    }
   },
   "outputs": [],
   "source": [
    "# another for loop over our list\n",
    "for item in my_list:\n",
    "    print(f\"Item {item}\")"
   ]
  },
  {
   "cell_type": "markdown",
   "id": "87faeaa4-abe6-43eb-87cc-0448d402190b",
   "metadata": {
    "nteract": {
     "transient": {
      "deleting": false
     }
    }
   },
   "source": [
    "## Python comprehension"
   ]
  },
  {
   "cell_type": "code",
   "execution_count": null,
   "id": "2a5f3033-5cf0-4464-9e50-6e635768656c",
   "metadata": {
    "jupyter": {
     "outputs_hidden": false,
     "source_hidden": false
    },
    "nteract": {
     "transient": {
      "deleting": false
     }
    }
   },
   "outputs": [],
   "source": [
    "# list comprehension\n",
    "\n",
    "x = [i for i in range(5)]\n",
    "x"
   ]
  },
  {
   "cell_type": "code",
   "execution_count": null,
   "id": "ac729eb0-91e6-436f-a081-573d35acbf32",
   "metadata": {
    "jupyter": {
     "outputs_hidden": false,
     "source_hidden": false
    },
    "nteract": {
     "transient": {
      "deleting": false
     }
    }
   },
   "outputs": [],
   "source": [
    "x = [\n",
    "    f'i: {i}'         # the list element\n",
    "    for i in range(5) # one or more for statements\n",
    "    if i % 2 == 0     # one or more conditions\n",
    "]\n",
    "x"
   ]
  },
  {
   "cell_type": "code",
   "execution_count": null,
   "id": "24c956fa-4a6d-40d6-9b34-7d10965a8ca4",
   "metadata": {
    "jupyter": {
     "outputs_hidden": false,
     "source_hidden": false
    },
    "nteract": {
     "transient": {
      "deleting": false
     }
    }
   },
   "outputs": [],
   "source": [
    "# dictionary comprehension\n",
    "y = {\n",
    "    x: x**2             # key: value\n",
    "    for x in range(5)   # the loop\n",
    "}\n",
    "\n",
    "y"
   ]
  },
  {
   "cell_type": "markdown",
   "id": "b1b42e3d-bdd1-4d09-bc36-d0dc2097f382",
   "metadata": {
    "nteract": {
     "transient": {
      "deleting": false
     }
    }
   },
   "source": [
    "## Imports\n",
    "\n",
    "One of the powerful features of Python is its vast standard library and the plethora of third-party modules available. To use the functions, classes, or variables defined in these modules, you first need to bring them into your scope through importing. This process is facilitated by ```import``` statements, which are a fundamental aspect of Python programming.\n",
    "\n",
    "An ```import``` statement in Python is used to make code defined in one module available in another. Modules are simply files containing Python code - they can define functions, classes, and variables. When you import a module, you're essentially telling Python to read another file and make its contents accessible to your current file.\n"
   ]
  },
  {
   "cell_type": "code",
   "execution_count": null,
   "id": "a94cc80d-0685-49ec-b62d-f86d0bb4e06b",
   "metadata": {
    "jupyter": {
     "outputs_hidden": false,
     "source_hidden": false
    },
    "nteract": {
     "transient": {
      "deleting": false
     }
    }
   },
   "outputs": [],
   "source": [
    "# Fabric comes with common Python packages pre-installed\n",
    "import pandas as pd\n",
    "\n",
    "# Create a new data frame from a dictionary\n",
    "df = pd.DataFrame({\n",
    "    \"NumCol\": [1, 2, 3],\n",
    "    \"Names\": [\"Tom\", \"Liz\", \"Bob\"]\n",
    "})\n",
    "\n",
    "df"
   ]
  },
  {
   "cell_type": "code",
   "execution_count": null,
   "id": "5fab3828-b025-4907-b4e6-407b43702dac",
   "metadata": {
    "jupyter": {
     "outputs_hidden": false,
     "source_hidden": false
    },
    "nteract": {
     "transient": {
      "deleting": false
     }
    }
   },
   "outputs": [],
   "source": [
    "# access one one column\n",
    "df[\"NumCol\"]"
   ]
  },
  {
   "cell_type": "markdown",
   "id": "e477ac8b-af60-404f-9c2d-e5dccb951bea",
   "metadata": {
    "nteract": {
     "transient": {
      "deleting": false
     }
    }
   },
   "source": [
    "## Exceptions\n",
    "\n",
    "Let's delve into an example that demonstrates how to handle a KeyError exception, commonly encountered when working with dictionaries or pandas DataFrames."
   ]
  },
  {
   "cell_type": "code",
   "execution_count": null,
   "id": "6fef7136-c4b3-45d3-bb1b-4a7f405902fd",
   "metadata": {
    "jupyter": {
     "outputs_hidden": false,
     "source_hidden": false
    },
    "nteract": {
     "transient": {
      "deleting": false
     }
    }
   },
   "outputs": [],
   "source": [
    "try:\n",
    "    # again careful w/ spaces & tabs\n",
    "\n",
    "    # try to access unknown column\n",
    "    x = df['Unknown Column']\n",
    "\n",
    "    # we'll never get here!\n",
    "except KeyError as e:\n",
    "    # catching the exception\n",
    "    print(f\"Exception raised: {e}\")\n"
   ]
  }
 ],
 "metadata": {
  "dependencies": {
   "lakehouse": {}
  },
  "kernel_info": {
   "name": "synapse_pyspark"
  },
  "kernelspec": {
   "display_name": "Synapse PySpark",
   "language": "Python",
   "name": "synapse_pyspark"
  },
  "language_info": {
   "name": "python"
  },
  "nteract": {
   "version": "nteract-front-end@1.0.0"
  },
  "spark_compute": {
   "compute_id": "/trident/default"
  }
 },
 "nbformat": 4,
 "nbformat_minor": 5
}
