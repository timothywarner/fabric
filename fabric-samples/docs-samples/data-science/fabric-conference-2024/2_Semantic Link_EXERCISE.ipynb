{
 "cells": [
  {
   "cell_type": "markdown",
   "id": "ef6b2d20-853a-4f2a-96d9-fe769dca271a",
   "metadata": {
    "nteract": {
     "transient": {
      "deleting": false
     }
    }
   },
   "source": [
    "# Lab 2: Semantic Link\n"
   ]
  },
  {
   "cell_type": "markdown",
   "id": "cfc1a476-cf8c-4e31-89c9-d429933e3117",
   "metadata": {
    "nteract": {
     "transient": {
      "deleting": false
     }
    }
   },
   "source": [
    "## Step 1: Setup your notebook\n",
    "\n",
    "### Select Lakehouse (FC_Workshop)\n",
    "First, add the Lakehouse you created from the prior lab exercise.\n",
    "\n",
    "![image-alt-text](https://synapseaisolutionsa.blob.core.windows.net/public/Fabric-Conference/add-lakehouse.png)\n",
    "\n",
    "### Select environment or install within session\n",
    "![Select Environment and then select your environment from the list](https://synapseaisolutionsa.blob.core.windows.net/public/Fabric-Conference/AttachEnv2.png)"
   ]
  },
  {
   "cell_type": "code",
   "execution_count": null,
   "id": "9262b838-a210-44dc-9e42-102f8ee04f5c",
   "metadata": {
    "jupyter": {
     "outputs_hidden": true
    }
   },
   "outputs": [],
   "source": [
    "# Install the library or use the myEnv created from earlier\n",
    "%pip install semantic-link"
   ]
  },
  {
   "cell_type": "code",
   "execution_count": null,
   "id": "09eda167-8946-45ea-8f08-540ce546f13c",
   "metadata": {
    "jupyter": {
     "outputs_hidden": false,
     "source_hidden": false
    },
    "nteract": {
     "transient": {
      "deleting": false
     }
    }
   },
   "outputs": [],
   "source": [
    "# make sure we can use %%dax\n",
    "%load_ext sempy"
   ]
  },
  {
   "cell_type": "markdown",
   "id": "bffef0ff-1021-4062-a35c-e0baf73b398a",
   "metadata": {
    "nteract": {
     "transient": {
      "deleting": false
     }
    }
   },
   "source": [
    "## Step 2: Import Semantic Link\n",
    "\n",
    "Semantic link is a feature that allows you to establish a connection between semantic models and Synapse Data Science in Microsoft Fabric.\n",
    "\n",
    "![Overview of semantic link](https://learn.microsoft.com/en-us/fabric/data-science/media/semantic-link-overview/data-flow-with-semantic-link.png)\n",
    "\n",
    "With semantic link, you can use semantic models from Power BI in the Data Science experience to perform tasks such as in-depth statistical analysis and predictive modeling with machine learning techniques. The output of your data science work can be stored in OneLake using Apache Spark and ingested into Power BI using Direct Lake.\n",
    "\n",
    "You can learn more about Semantic Link functions using [What is semantic link?](https://learn.microsoft.com/en-us/fabric/data-science/semantic-link-overview)."
   ]
  },
  {
   "cell_type": "code",
   "execution_count": null,
   "id": "6e8a3d60-368d-464c-aa88-df498b8318cd",
   "metadata": {
    "jupyter": {
     "outputs_hidden": false,
     "source_hidden": false
    },
    "nteract": {
     "transient": {
      "deleting": false
     }
    }
   },
   "outputs": [],
   "source": [
    "import sempy.fabric as fabric\n",
    "from sempy.relationships import plot_relationship_metadata\n",
    "from sempy.fabric._client._tools import import_pbix_sample"
   ]
  },
  {
   "cell_type": "markdown",
   "id": "c98fb8a1-ec67-455a-90ef-d8adb46eb11f",
   "metadata": {
    "nteract": {
     "transient": {
      "deleting": false
     }
    }
   },
   "source": [
    "## Step 3: Let's explore our model"
   ]
  },
  {
   "cell_type": "code",
   "execution_count": null,
   "id": "d5af9642-5b55-44c5-baba-42c624dbd205",
   "metadata": {
    "jupyter": {
     "outputs_hidden": false,
     "source_hidden": false
    },
    "nteract": {
     "transient": {
      "deleting": false
     }
    }
   },
   "outputs": [],
   "source": [
    "# Load our Churn dataset - a PBIX sample has been pre-configured with the relationships and semantic info\n",
    "dataset = 'Churn'\n",
    "import_pbix_sample([dataset])"
   ]
  },
  {
   "cell_type": "code",
   "execution_count": null,
   "id": "52a41c94-c496-44c4-87aa-67aa899f6f77",
   "metadata": {
    "jupyter": {
     "outputs_hidden": false,
     "source_hidden": false
    },
    "nteract": {
     "transient": {
      "deleting": false
     }
    }
   },
   "outputs": [],
   "source": [
    "df_relationships = fabric.list_relationships(dataset)\n",
    "plot_relationship_metadata(df_relationships)"
   ]
  },
  {
   "cell_type": "code",
   "execution_count": null,
   "id": "252e75c2-da4b-42af-8404-1fa54f47d2a7",
   "metadata": {
    "jupyter": {
     "outputs_hidden": false,
     "source_hidden": false
    },
    "nteract": {
     "transient": {
      "deleting": false
     }
    }
   },
   "outputs": [],
   "source": [
    "fabric.list_measures(dataset)"
   ]
  },
  {
   "cell_type": "code",
   "execution_count": null,
   "id": "32f3f0b3-2178-4cbb-a5bc-00be797f4185",
   "metadata": {
    "jupyter": {
     "outputs_hidden": false,
     "source_hidden": false
    },
    "nteract": {
     "transient": {
      "deleting": false
     }
    }
   },
   "outputs": [],
   "source": [
    "# Outstanding balances per country\n",
    "\n",
    "df_balance_by_geography = fabric.evaluate_measure(\n",
    "    dataset,\n",
    "    [\"Balance\"],\n",
    "    [\"Customers[Geography]\"])\n",
    "\n",
    "df_balance_by_geography.set_index('Geography').plot.bar()"
   ]
  },
  {
   "cell_type": "code",
   "execution_count": null,
   "id": "83874fcf-2db2-4873-bc01-857af7d7efca",
   "metadata": {
    "jupyter": {
     "outputs_hidden": false,
     "source_hidden": false
    },
    "nteract": {
     "transient": {
      "deleting": false
     }
    }
   },
   "outputs": [],
   "source": [
    "df_measures = fabric.evaluate_measure(\n",
    "    dataset,\n",
    "    [\"Number Of Products\", \"Last Credit Score\", \"Balance\"],\n",
    "    [\"Customers[CustomerId]\"])\n",
    "\n",
    "df_measures\n"
   ]
  },
  {
   "cell_type": "code",
   "execution_count": null,
   "id": "66a125a3-fdad-40bf-927b-722c7ffa51a0",
   "metadata": {
    "jupyter": {
     "outputs_hidden": false,
     "source_hidden": false
    },
    "nteract": {
     "transient": {
      "deleting": false
     }
    }
   },
   "outputs": [],
   "source": [
    "df_customer = fabric.read_table(dataset, \"Customers\")\n",
    "df_customer"
   ]
  },
  {
   "cell_type": "code",
   "execution_count": null,
   "id": "909dcd62-73e0-4b9e-b82b-8fa75d3fc2fb",
   "metadata": {
    "jupyter": {
     "outputs_hidden": false,
     "source_hidden": false
    },
    "nteract": {
     "transient": {
      "deleting": false
     }
    }
   },
   "outputs": [],
   "source": [
    "df_account = fabric.read_table(dataset, \"Accounts\")\n",
    "df_account"
   ]
  },
  {
   "cell_type": "code",
   "execution_count": null,
   "id": "b4e7dbc8-5eea-4b7d-ac2b-483a31011c7a",
   "metadata": {
    "jupyter": {
     "outputs_hidden": false,
     "source_hidden": false
    },
    "nteract": {
     "transient": {
      "deleting": false
     }
    }
   },
   "outputs": [],
   "source": [
    "# merge all data\n",
    "df_churn = df_customer.merge(df_measures).merge(df_account)\n",
    "df_churn"
   ]
  },
  {
   "cell_type": "markdown",
   "id": "48be527e-e2b5-40e9-a173-77eead42bfc2",
   "metadata": {
    "nteract": {
     "transient": {
      "deleting": false
     }
    }
   },
   "source": [
    "Semantic data frames provide convenience methods to write data to a lakehouse."
   ]
  },
  {
   "cell_type": "code",
   "execution_count": null,
   "id": "8c2b6a8e-f3ef-4b40-815f-20ed292d8df5",
   "metadata": {
    "jupyter": {
     "outputs_hidden": false,
     "source_hidden": false
    },
    "nteract": {
     "transient": {
      "deleting": false
     }
    }
   },
   "outputs": [],
   "source": [
    "df_churn.to_lakehouse_table('ChurnFromSemanticLink', mode = \"overwrite\")"
   ]
  },
  {
   "cell_type": "markdown",
   "id": "da77e406-34b2-4d0e-9c78-bf9a3c002c29",
   "metadata": {
    "nteract": {
     "transient": {
      "deleting": false
     }
    }
   },
   "source": [
    "# Exercise 1: Analyze data with Pandas plots\n",
    "\n",
    "You can learn more about how to use plotting functions in Pandas using [this documentation](https://pandas.pydata.org/pandas-docs/stable/reference/api/pandas.DataFrame.plot.html).\n",
    "\n",
    "In this exercise, you will:\n",
    "- Plot the average credit score by geography and tenure.\n",
    "- Analyze the impact on tenure based on geography.\n",
    "\n",
    "To do this, you will:\n",
    "1. TODO: Generate a code snippet that creates `df_credit_score_by_geo_tenure`. To do this, start with the DataFrame named `df_churn`. Then, follow these steps:\n",
    "   * **Group the data** by the 'Geography' and 'Tenure' columns. This is done using the `groupby` method. *Hint:* By setting `as_index=False`, you ensure that the grouping columns are not used as the index in the resulting DataFrame.\n",
    "   * **Calculate the mean** of the 'Last Credit Score' for each group. This is achieved by selecting the 'Last Credit Score' column and applying the `mean` function.\n",
    "   * **Pivot the result** to reformat the data so that 'Tenure' becomes the index, 'Geography' becomes the column labels, and the values are the mean 'Last Credit Score'. This is done using the `pivot` method, where `index='Tenure'`, `columns='Geography'`, and `values='Last Credit Score'`.\n",
    "1. Plot the dataframe as a bar chart. This step is provided below.\n",
    "1. Customize the bar chart to visualize credit scores above or below a common average (e.g. using the bottom argument). This step is provided below.\n"
   ]
  },
  {
   "cell_type": "code",
   "execution_count": null,
   "id": "76b9b22e-c2b8-40bd-954f-e38b7ff8a8d3",
   "metadata": {
    "jupyter": {
     "outputs_hidden": false,
     "source_hidden": false
    },
    "nteract": {
     "transient": {
      "deleting": false
     }
    }
   },
   "outputs": [],
   "source": [
    "# Modify this code using the instructions above\n",
    "df_credit_score_by_geo_tenure = # Complete\n",
    "\n",
    "# Do not change this code\n",
    "baseline = 650\n",
    "\n",
    "(df_credit_score_by_geo_tenure - baseline).plot.bar(bottom=baseline) "
   ]
  },
  {
   "cell_type": "markdown",
   "id": "6b08e9f6-7060-4078-975e-9635ca5fe50f",
   "metadata": {
    "nteract": {
     "transient": {
      "deleting": false
     }
    }
   },
   "source": [
    "# Exercise 2: Leverage DAX for computations"
   ]
  },
  {
   "cell_type": "markdown",
   "id": "9619bbc3-c953-49d3-bbd0-124ff02da321",
   "metadata": {
    "nteract": {
     "transient": {
      "deleting": false
     }
    }
   },
   "source": [
    "Repeat the exercise 1, but this time perform the computation using DAX.\n",
    "\n",
    "In this exercise, you will do the following:\n",
    "1. Add the appropriate DAX query to compute the average credit score per Geography per Tenure. You can use the ```%%dax``` notebook magic to experiment within the notebook.\n",
    "1. Pivot the data using Pandas to get a dataframe like this:\n",
    "\n",
    "    ![image-alt-text](https://synapseaisolutionsa.blob.core.windows.net/public/Fabric-Conference/semantic-link-pivot-df.png)"
   ]
  },
  {
   "cell_type": "code",
   "execution_count": null,
   "id": "19b6db17-efb9-4e5d-85ba-932ce3277a03",
   "metadata": {
    "jupyter": {
     "outputs_hidden": false,
     "source_hidden": false
    },
    "nteract": {
     "transient": {
      "deleting": false
     }
    }
   },
   "outputs": [],
   "source": [
    "%%dax Churn\n",
    "\n",
    "# Write DAX Query here"
   ]
  },
  {
   "cell_type": "code",
   "execution_count": null,
   "id": "4a0d525c-fe3d-4a71-9b4f-b90a2775f88e",
   "metadata": {
    "jupyter": {
     "outputs_hidden": false,
     "source_hidden": false
    },
    "nteract": {
     "transient": {
      "deleting": false
     }
    }
   },
   "outputs": [],
   "source": [
    "df = fabric.evaluate_dax(dataset, \n",
    "\"\"\"\n",
    "UPDATE WITH DAX QUERY ABOVE\n",
    ")\n",
    "\"\"\")\n",
    "\n",
    "df.head()"
   ]
  },
  {
   "cell_type": "code",
   "execution_count": null,
   "id": "b20f2f3d-b483-4efa-93ed-8549911c31ba",
   "metadata": {
    "jupyter": {
     "outputs_hidden": false,
     "source_hidden": false
    },
    "nteract": {
     "transient": {
      "deleting": false
     }
    }
   },
   "outputs": [],
   "source": [
    "df.pivot(index='Customers[Tenure]', columns='Customers[Geography]', values='[Average Credit Score]')"
   ]
  }
 ],
 "metadata": {
  "dependencies": {
   "environment": {
    "environmentId": "adff0e2f-0bc4-4e39-ab37-5e812820031b",
    "workspaceId": "d14e81af-d4d8-475c-b74c-f9607e4479bf"
   },
   "lakehouse": {}
  },
  "kernel_info": {
   "name": "synapse_pyspark"
  },
  "kernelspec": {
   "display_name": "Synapse PySpark",
   "language": "Python",
   "name": "synapse_pyspark"
  },
  "language_info": {
   "name": "python"
  },
  "nteract": {
   "version": "nteract-front-end@1.0.0"
  },
  "spark_compute": {
   "compute_id": "/trident/default"
  }
 },
 "nbformat": 4,
 "nbformat_minor": 5
}
