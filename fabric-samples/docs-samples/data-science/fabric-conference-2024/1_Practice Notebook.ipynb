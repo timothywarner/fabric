{
 "cells": [
  {
   "cell_type": "markdown",
   "id": "64f635af-1c08-4a70-b0a1-c4c98664b8e5",
   "metadata": {
    "nteract": {
     "transient": {
      "deleting": false
     }
    }
   },
   "source": [
    "# Practice Notebook\n",
    "\n",
    "In this notebook, you will familiarize yourself with Fabric Lakehouses and how to interact with them using Fabric notebooks. You will also explore various features within the notebook."
   ]
  },
  {
   "cell_type": "markdown",
   "id": "99d311ab-c7cc-4479-8c3a-2675c0f3f3ff",
   "metadata": {
    "nteract": {
     "transient": {
      "deleting": false
     }
    }
   },
   "source": [
    "# Step 1: Attach a Lakehouse\n",
    "\n",
    "First, we will start by attching a Lakehouse to your notebook. This simplifies the workflow to read and write data within your notebooks.\n",
    "\n",
    "To do this:\n",
    "\n",
    "1. Select **Lakehouses**.\n",
    "2. Select **Add Lakehouse**.\n",
    "3. Provide the name for your Lakehouse. You will use this Lakehouse for the rest of the exercises. **Suggested Name: FC_Workshop**\n",
    "4. In other notebooks, you can attach to the same Lakehouse by selecting **+Data sources** and **Existing Lakehouse**.\n"
   ]
  },
  {
   "cell_type": "markdown",
   "id": "9673639a-b776-44d1-88ff-d180f63fa1bc",
   "metadata": {
    "nteract": {
     "transient": {
      "deleting": false
     }
    }
   },
   "source": [
    "# Step 2: Change your notebook environment\n",
    "\n",
    "Next, before we start our notebook session, we'll also change our default notebook environment. \n",
    "\n",
    "![Select Environment and then select your environment from the list](https://synapseaisolutionsa.blob.core.windows.net/public/Fabric-Conference/AttachEnv.png)\n"
   ]
  },
  {
   "cell_type": "markdown",
   "id": "830610d0-9445-4e9d-af0d-55da3dcb020b",
   "metadata": {
    "nteract": {
     "transient": {
      "deleting": false
     }
    }
   },
   "source": [
    "# Step 3: Install libraries\n",
    "\n",
    "In addition to the Notebook Environment, you can also install libraries for your notebook session using ```% pip install```."
   ]
  },
  {
   "cell_type": "markdown",
   "id": "91bd6210-eef3-4ba4-91c5-44b387e5458d",
   "metadata": {
    "jupyter": {
     "magics_cell_name": "magics-cell-markdown",
     "magics_signature": "27ac753c3c60167f65c4d05fa7809cd85f1f0273d5b842aca4f65a01"
    }
   },
   "source": [
    "\n",
    "#### Run the cell below to install the required packages for Copilot\n"
   ]
  },
  {
   "cell_type": "code",
   "execution_count": null,
   "id": "8b308e93-300c-41c5-8d7f-8b8982bf68ec",
   "metadata": {
    "jupyter": {
     "magics_cell_name": "magics-cell-code",
     "magics_signature": "f2fd67edf890a73ba04d50cb915084367e32fd4731082321a5d29268",
     "magics_version": "1.0",
     "outputs_hidden": true
    }
   },
   "outputs": [
    {
     "data": {
      "application/vnd.livy.statement-meta+json": {
       "execution_finish_time": "2024-03-26T23:20:42.9478004Z",
       "execution_start_time": "2024-03-26T23:20:10.3075362Z",
       "livy_statement_state": "available",
       "parent_msg_id": "468d87c8-4ffc-4977-af60-5d6ee5f1a3d7",
       "queued_time": "2024-03-26T23:19:24.9828768Z",
       "session_id": "97871f36-6cdb-43e1-ad5a-e735e500ffff",
       "session_start_time": null,
       "spark_pool": null,
       "state": "finished",
       "statement_id": 8
      },
      "text/plain": [
       "StatementMeta(, 97871f36-6cdb-43e1-ad5a-e735e500ffff, 8, Finished, Available)"
      ]
     },
     "metadata": {},
     "output_type": "display_data"
    },
    {
     "name": "stdout",
     "output_type": "stream",
     "text": [
      "Collecting chat-magics==0.0.0\n",
      "  Downloading https://aka.ms/chat_magics-0.0.0-py3-none-any.whl (17 kB)\n",
      "Collecting ds-copilot@ https://aka.ms/ds_copilot-0.0.0-py3-none-any.whl (from chat-magics==0.0.0)\n",
      "  Downloading https://aka.ms/ds_copilot-0.0.0-py3-none-any.whl (44 kB)\n",
      "\u001b[2K     \u001b[90m━━━━━━━━━━━━━━━━━━━━━━━━━━━━━━━━━━━━━━━━\u001b[0m \u001b[32m44.4/44.4 kB\u001b[0m \u001b[31m2.2 MB/s\u001b[0m eta \u001b[36m0:00:00\u001b[0m\n",
      "\u001b[?25hCollecting chat-magics-fabric@ https://aka.ms/chat_magics_fabric-0.0.0-py3-none-any.whl (from chat-magics==0.0.0)\n",
      "  Downloading https://aka.ms/chat_magics_fabric-0.0.0-py3-none-any.whl (124 kB)\n",
      "\u001b[2K     \u001b[90m━━━━━━━━━━━━━━━━━━━━━━━━━━━━━━━━━━━━━━━\u001b[0m \u001b[32m124.2/124.2 kB\u001b[0m \u001b[31m3.6 MB/s\u001b[0m eta \u001b[36m0:00:00\u001b[0m\n",
      "\u001b[?25hCollecting pydantic==2.4.2 (from chat-magics-fabric@ https://aka.ms/chat_magics_fabric-0.0.0-py3-none-any.whl->chat-magics==0.0.0)\n",
      "  Downloading pydantic-2.4.2-py3-none-any.whl (395 kB)\n",
      "\u001b[2K     \u001b[90m━━━━━━━━━━━━━━━━━━━━━━━━━━━━━━━━━━━━━━\u001b[0m \u001b[32m395.8/395.8 kB\u001b[0m \u001b[31m20.3 MB/s\u001b[0m eta \u001b[36m0:00:00\u001b[0m\n",
      "\u001b[?25hCollecting mlflow-skinny!=2.6.0 (from chat-magics-fabric@ https://aka.ms/chat_magics_fabric-0.0.0-py3-none-any.whl->chat-magics==0.0.0)\n",
      "  Downloading mlflow_skinny-2.11.3-py3-none-any.whl (5.4 MB)\n",
      "\u001b[2K     \u001b[90m━━━━━━━━━━━━━━━━━━━━━━━━━━━━━━━━━━━━━━━━\u001b[0m \u001b[32m5.4/5.4 MB\u001b[0m \u001b[31m126.5 MB/s\u001b[0m eta \u001b[36m0:00:00\u001b[0m00:01\u001b[0m\n",
      "\u001b[?25hCollecting chromadb==0.4.17 (from chat-magics-fabric@ https://aka.ms/chat_magics_fabric-0.0.0-py3-none-any.whl->chat-magics==0.0.0)\n",
      "  Downloading chromadb-0.4.17-py3-none-any.whl (496 kB)\n",
      "\u001b[2K     \u001b[90m━━━━━━━━━━━━━━━━━━━━━━━━━━━━━━━━━━━━━\u001b[0m \u001b[32m496.8/496.8 kB\u001b[0m \u001b[31m138.7 MB/s\u001b[0m eta \u001b[36m0:00:00\u001b[0m\n",
      "\u001b[?25hRequirement already satisfied: chroma-hnswlib==0.7.3 in /home/trusted-service-user/cluster-env/trident_env/lib/python3.10/site-packages (from chat-magics-fabric@ https://aka.ms/chat_magics_fabric-0.0.0-py3-none-any.whl->chat-magics==0.0.0) (0.7.3)\n",
      "Collecting annotated-types==0.6.0 (from chat-magics-fabric@ https://aka.ms/chat_magics_fabric-0.0.0-py3-none-any.whl->chat-magics==0.0.0)\n",
      "  Downloading annotated_types-0.6.0-py3-none-any.whl (12 kB)\n",
      "Requirement already satisfied: anyio==3.7.1 in /home/trusted-service-user/cluster-env/trident_env/lib/python3.10/site-packages (from chat-magics-fabric@ https://aka.ms/chat_magics_fabric-0.0.0-py3-none-any.whl->chat-magics==0.0.0) (3.7.1)\n",
      "Collecting backoff==2.2.1 (from chat-magics-fabric@ https://aka.ms/chat_magics_fabric-0.0.0-py3-none-any.whl->chat-magics==0.0.0)\n",
      "  Downloading backoff-2.2.1-py3-none-any.whl (15 kB)\n",
      "Collecting bcrypt==4.1.1 (from chat-magics-fabric@ https://aka.ms/chat_magics_fabric-0.0.0-py3-none-any.whl->chat-magics==0.0.0)\n",
      "  Downloading bcrypt-4.1.1-cp37-abi3-manylinux_2_28_x86_64.whl (699 kB)\n",
      "\u001b[2K     \u001b[90m━━━━━━━━━━━━━━━━━━━━━━━━━━━━━━━━━━━━━\u001b[0m \u001b[32m699.4/699.4 kB\u001b[0m \u001b[31m146.8 MB/s\u001b[0m eta \u001b[36m0:00:00\u001b[0m\n",
      "\u001b[?25hCollecting branca==0.7.0 (from chat-magics-fabric@ https://aka.ms/chat_magics_fabric-0.0.0-py3-none-any.whl->chat-magics==0.0.0)\n",
      "  Downloading branca-0.7.0-py3-none-any.whl (25 kB)\n",
      "Collecting click-plugins==1.1.1 (from chat-magics-fabric@ https://aka.ms/chat_magics_fabric-0.0.0-py3-none-any.whl->chat-magics==0.0.0)\n",
      "  Downloading click_plugins-1.1.1-py2.py3-none-any.whl (7.5 kB)\n",
      "Collecting cligj==0.7.2 (from chat-magics-fabric@ https://aka.ms/chat_magics_fabric-0.0.0-py3-none-any.whl->chat-magics==0.0.0)\n",
      "  Downloading cligj-0.7.2-py3-none-any.whl (7.1 kB)\n",
      "Requirement already satisfied: clr-loader==0.2.6 in /home/trusted-service-user/cluster-env/trident_env/lib/python3.10/site-packages (from chat-magics-fabric@ https://aka.ms/chat_magics_fabric-0.0.0-py3-none-any.whl->chat-magics==0.0.0) (0.2.6)\n",
      "Requirement already satisfied: coloredlogs==15.0.1 in /home/trusted-service-user/cluster-env/trident_env/lib/python3.10/site-packages (from chat-magics-fabric@ https://aka.ms/chat_magics_fabric-0.0.0-py3-none-any.whl->chat-magics==0.0.0) (15.0.1)\n",
      "Collecting deprecated==1.2.14 (from chat-magics-fabric@ https://aka.ms/chat_magics_fabric-0.0.0-py3-none-any.whl->chat-magics==0.0.0)\n",
      "  Downloading Deprecated-1.2.14-py2.py3-none-any.whl (9.6 kB)\n",
      "Collecting exceptiongroup==1.2.0 (from chat-magics-fabric@ https://aka.ms/chat_magics_fabric-0.0.0-py3-none-any.whl->chat-magics==0.0.0)\n",
      "  Downloading exceptiongroup-1.2.0-py3-none-any.whl (16 kB)\n",
      "Collecting fastapi==0.104.1 (from chat-magics-fabric@ https://aka.ms/chat_magics_fabric-0.0.0-py3-none-any.whl->chat-magics==0.0.0)\n",
      "  Downloading fastapi-0.104.1-py3-none-any.whl (92 kB)\n",
      "\u001b[2K     \u001b[90m━━━━━━━━━━━━━━━━━━━━━━━━━━━━━━━━━━━━━━━━\u001b[0m \u001b[32m92.9/92.9 kB\u001b[0m \u001b[31m38.5 MB/s\u001b[0m eta \u001b[36m0:00:00\u001b[0m\n",
      "\u001b[?25hCollecting fiona==1.9.5 (from chat-magics-fabric@ https://aka.ms/chat_magics_fabric-0.0.0-py3-none-any.whl->chat-magics==0.0.0)\n",
      "  Downloading fiona-1.9.5-cp310-cp310-manylinux2014_x86_64.whl (15.7 MB)\n",
      "\u001b[2K     \u001b[90m━━━━━━━━━━━━━━━━━━━━━━━━━━━━━━━━━━━━━━━\u001b[0m \u001b[32m15.7/15.7 MB\u001b[0m \u001b[31m106.3 MB/s\u001b[0m eta \u001b[36m0:00:00\u001b[0m00:01\u001b[0m00:01\u001b[0m\n",
      "\u001b[?25hCollecting folium==0.15.1 (from chat-magics-fabric@ https://aka.ms/chat_magics_fabric-0.0.0-py3-none-any.whl->chat-magics==0.0.0)\n",
      "  Downloading folium-0.15.1-py2.py3-none-any.whl (97 kB)\n",
      "\u001b[2K     \u001b[90m━━━━━━━━━━━━━━━━━━━━━━━━━━━━━━━━━━━━━━━━\u001b[0m \u001b[32m97.0/97.0 kB\u001b[0m \u001b[31m48.9 MB/s\u001b[0m eta \u001b[36m0:00:00\u001b[0m\n",
      "\u001b[?25hCollecting fsspec==2023.12.1 (from chat-magics-fabric@ https://aka.ms/chat_magics_fabric-0.0.0-py3-none-any.whl->chat-magics==0.0.0)\n",
      "  Downloading fsspec-2023.12.1-py3-none-any.whl (168 kB)\n",
      "\u001b[2K     \u001b[90m━━━━━━━━━━━━━━━━━━━━━━━━━━━━━━━━━━━━━━\u001b[0m \u001b[32m168.9/168.9 kB\u001b[0m \u001b[31m74.6 MB/s\u001b[0m eta \u001b[36m0:00:00\u001b[0m\n",
      "\u001b[?25hCollecting geopandas==0.14.1 (from chat-magics-fabric@ https://aka.ms/chat_magics_fabric-0.0.0-py3-none-any.whl->chat-magics==0.0.0)\n",
      "  Downloading geopandas-0.14.1-py3-none-any.whl (1.1 MB)\n",
      "\u001b[2K     \u001b[90m━━━━━━━━━━━━━━━━━━━━━━━━━━━━━━━━━━━━━━━━\u001b[0m \u001b[32m1.1/1.1 MB\u001b[0m \u001b[31m161.0 MB/s\u001b[0m eta \u001b[36m0:00:00\u001b[0m\n",
      "\u001b[?25hCollecting googleapis-common-protos==1.62.0 (from chat-magics-fabric@ https://aka.ms/chat_magics_fabric-0.0.0-py3-none-any.whl->chat-magics==0.0.0)\n",
      "  Downloading googleapis_common_protos-1.62.0-py2.py3-none-any.whl (228 kB)\n",
      "\u001b[2K     \u001b[90m━━━━━━━━━━━━━━━━━━━━━━━━━━━━━━━━━━━━━━\u001b[0m \u001b[32m228.7/228.7 kB\u001b[0m \u001b[31m91.4 MB/s\u001b[0m eta \u001b[36m0:00:00\u001b[0m\n",
      "\u001b[?25hCollecting grpcio==1.60.0 (from chat-magics-fabric@ https://aka.ms/chat_magics_fabric-0.0.0-py3-none-any.whl->chat-magics==0.0.0)\n",
      "  Downloading grpcio-1.60.0-cp310-cp310-manylinux_2_17_x86_64.manylinux2014_x86_64.whl (5.4 MB)\n",
      "\u001b[2K     \u001b[90m━━━━━━━━━━━━━━━━━━━━━━━━━━━━━━━━━━━━━━━━\u001b[0m \u001b[32m5.4/5.4 MB\u001b[0m \u001b[31m114.9 MB/s\u001b[0m eta \u001b[36m0:00:00\u001b[0ma \u001b[36m0:00:01\u001b[0m\n",
      "\u001b[?25hRequirement already satisfied: h11==0.14.0 in /home/trusted-service-user/cluster-env/trident_env/lib/python3.10/site-packages (from chat-magics-fabric@ https://aka.ms/chat_magics_fabric-0.0.0-py3-none-any.whl->chat-magics==0.0.0) (0.14.0)\n",
      "Collecting holidays==0.38 (from chat-magics-fabric@ https://aka.ms/chat_magics_fabric-0.0.0-py3-none-any.whl->chat-magics==0.0.0)\n",
      "  Downloading holidays-0.38-py3-none-any.whl (854 kB)\n",
      "\u001b[2K     \u001b[90m━━━━━━━━━━━━━━━━━━━━━━━━━━━━━━━━━━━━━\u001b[0m \u001b[32m854.3/854.3 kB\u001b[0m \u001b[31m159.4 MB/s\u001b[0m eta \u001b[36m0:00:00\u001b[0m\n",
      "\u001b[?25hCollecting httptools==0.6.1 (from chat-magics-fabric@ https://aka.ms/chat_magics_fabric-0.0.0-py3-none-any.whl->chat-magics==0.0.0)\n",
      "  Downloading httptools-0.6.1-cp310-cp310-manylinux_2_5_x86_64.manylinux1_x86_64.manylinux_2_17_x86_64.manylinux2014_x86_64.whl (341 kB)\n",
      "\u001b[2K     \u001b[90m━━━━━━━━━━━━━━━━━━━━━━━━━━━━━━━━━━━━━\u001b[0m \u001b[32m341.4/341.4 kB\u001b[0m \u001b[31m106.4 MB/s\u001b[0m eta \u001b[36m0:00:00\u001b[0m\n",
      "\u001b[?25hCollecting huggingface-hub==0.19.4 (from chat-magics-fabric@ https://aka.ms/chat_magics_fabric-0.0.0-py3-none-any.whl->chat-magics==0.0.0)\n",
      "  Downloading huggingface_hub-0.19.4-py3-none-any.whl (311 kB)\n",
      "\u001b[2K     \u001b[90m━━━━━━━━━━━━━━━━━━━━━━━━━━━━━━━━━━━━━━\u001b[0m \u001b[32m311.7/311.7 kB\u001b[0m \u001b[31m95.6 MB/s\u001b[0m eta \u001b[36m0:00:00\u001b[0m\n",
      "\u001b[?25hCollecting importlib-metadata==6.11.0 (from chat-magics-fabric@ https://aka.ms/chat_magics_fabric-0.0.0-py3-none-any.whl->chat-magics==0.0.0)\n",
      "  Downloading importlib_metadata-6.11.0-py3-none-any.whl (23 kB)\n",
      "Collecting kubernetes==28.1.0 (from chat-magics-fabric@ https://aka.ms/chat_magics_fabric-0.0.0-py3-none-any.whl->chat-magics==0.0.0)\n",
      "  Downloading kubernetes-28.1.0-py2.py3-none-any.whl (1.6 MB)\n",
      "\u001b[2K     \u001b[90m━━━━━━━━━━━━━━━━━━━━━━━━━━━━━━━━━━━━━━━━\u001b[0m \u001b[32m1.6/1.6 MB\u001b[0m \u001b[31m182.2 MB/s\u001b[0m eta \u001b[36m0:00:00\u001b[0m\n",
      "\u001b[?25hCollecting mapclassify==2.6.1 (from chat-magics-fabric@ https://aka.ms/chat_magics_fabric-0.0.0-py3-none-any.whl->chat-magics==0.0.0)\n",
      "  Downloading mapclassify-2.6.1-py3-none-any.whl (38 kB)\n",
      "Collecting meteostat==1.6.7 (from chat-magics-fabric@ https://aka.ms/chat_magics_fabric-0.0.0-py3-none-any.whl->chat-magics==0.0.0)\n",
      "  Downloading meteostat-1.6.7-py3-none-any.whl (31 kB)\n",
      "Collecting mlflow-skinny!=2.6.0 (from chat-magics-fabric@ https://aka.ms/chat_magics_fabric-0.0.0-py3-none-any.whl->chat-magics==0.0.0)\n",
      "  Downloading mlflow_skinny-2.9.1-py3-none-any.whl (4.7 MB)\n",
      "\u001b[2K     \u001b[90m━━━━━━━━━━━━━━━━━━━━━━━━━━━━━━━━━━━━━━━━\u001b[0m \u001b[32m4.7/4.7 MB\u001b[0m \u001b[31m149.5 MB/s\u001b[0m eta \u001b[36m0:00:00\u001b[0m\n",
      "\u001b[?25hCollecting monotonic==1.6 (from chat-magics-fabric@ https://aka.ms/chat_magics_fabric-0.0.0-py3-none-any.whl->chat-magics==0.0.0)\n",
      "  Downloading monotonic-1.6-py2.py3-none-any.whl (8.2 kB)\n",
      "Requirement already satisfied: mpmath==1.3.0 in /home/trusted-service-user/cluster-env/trident_env/lib/python3.10/site-packages (from chat-magics-fabric@ https://aka.ms/chat_magics_fabric-0.0.0-py3-none-any.whl->chat-magics==0.0.0) (1.3.0)\n",
      "Collecting networkx==3.2.1 (from chat-magics-fabric@ https://aka.ms/chat_magics_fabric-0.0.0-py3-none-any.whl->chat-magics==0.0.0)\n",
      "  Downloading networkx-3.2.1-py3-none-any.whl (1.6 MB)\n",
      "\u001b[2K     \u001b[90m━━━━━━━━━━━━━━━━━━━━━━━━━━━━━━━━━━━━━━━━\u001b[0m \u001b[32m1.6/1.6 MB\u001b[0m \u001b[31m172.4 MB/s\u001b[0m eta \u001b[36m0:00:00\u001b[0m\n",
      "\u001b[?25hCollecting onnxruntime==1.16.3 (from chat-magics-fabric@ https://aka.ms/chat_magics_fabric-0.0.0-py3-none-any.whl->chat-magics==0.0.0)\n",
      "  Downloading onnxruntime-1.16.3-cp310-cp310-manylinux_2_17_x86_64.manylinux2014_x86_64.whl (6.4 MB)\n",
      "\u001b[2K     \u001b[90m━━━━━━━━━━━━━━━━━━━━━━━━━━━━━━━━━━━━━━━━\u001b[0m \u001b[32m6.4/6.4 MB\u001b[0m \u001b[31m130.8 MB/s\u001b[0m eta \u001b[36m0:00:00\u001b[0ma \u001b[36m0:00:01\u001b[0m\n",
      "\u001b[?25hCollecting opentelemetry-api==1.21.0 (from chat-magics-fabric@ https://aka.ms/chat_magics_fabric-0.0.0-py3-none-any.whl->chat-magics==0.0.0)\n",
      "  Downloading opentelemetry_api-1.21.0-py3-none-any.whl (57 kB)\n",
      "\u001b[2K     \u001b[90m━━━━━━━━━━━━━━━━━━━━━━━━━━━━━━━━━━━━━━━━\u001b[0m \u001b[32m57.9/57.9 kB\u001b[0m \u001b[31m28.9 MB/s\u001b[0m eta \u001b[36m0:00:00\u001b[0m\n",
      "\u001b[?25hCollecting opentelemetry-exporter-otlp-proto-common==1.21.0 (from chat-magics-fabric@ https://aka.ms/chat_magics_fabric-0.0.0-py3-none-any.whl->chat-magics==0.0.0)\n",
      "  Downloading opentelemetry_exporter_otlp_proto_common-1.21.0-py3-none-any.whl (17 kB)\n",
      "Collecting opentelemetry-exporter-otlp-proto-grpc==1.21.0 (from chat-magics-fabric@ https://aka.ms/chat_magics_fabric-0.0.0-py3-none-any.whl->chat-magics==0.0.0)\n",
      "  Downloading opentelemetry_exporter_otlp_proto_grpc-1.21.0-py3-none-any.whl (18 kB)\n",
      "Collecting opentelemetry-proto==1.21.0 (from chat-magics-fabric@ https://aka.ms/chat_magics_fabric-0.0.0-py3-none-any.whl->chat-magics==0.0.0)\n",
      "  Downloading opentelemetry_proto-1.21.0-py3-none-any.whl (50 kB)\n",
      "\u001b[2K     \u001b[90m━━━━━━━━━━━━━━━━━━━━━━━━━━━━━━━━━━━━━━━━\u001b[0m \u001b[32m50.8/50.8 kB\u001b[0m \u001b[31m26.3 MB/s\u001b[0m eta \u001b[36m0:00:00\u001b[0m\n",
      "\u001b[?25hCollecting opentelemetry-sdk==1.21.0 (from chat-magics-fabric@ https://aka.ms/chat_magics_fabric-0.0.0-py3-none-any.whl->chat-magics==0.0.0)\n",
      "  Downloading opentelemetry_sdk-1.21.0-py3-none-any.whl (105 kB)\n",
      "\u001b[2K     \u001b[90m━━━━━━━━━━━━━━━━━━━━━━━━━━━━━━━━━━━━━━\u001b[0m \u001b[32m105.3/105.3 kB\u001b[0m \u001b[31m47.1 MB/s\u001b[0m eta \u001b[36m0:00:00\u001b[0m\n",
      "\u001b[?25hCollecting opentelemetry-semantic-conventions==0.42b0 (from chat-magics-fabric@ https://aka.ms/chat_magics_fabric-0.0.0-py3-none-any.whl->chat-magics==0.0.0)\n",
      "  Downloading opentelemetry_semantic_conventions-0.42b0-py3-none-any.whl (36 kB)\n",
      "Requirement already satisfied: overrides==7.4.0 in /home/trusted-service-user/cluster-env/trident_env/lib/python3.10/site-packages (from chat-magics-fabric@ https://aka.ms/chat_magics_fabric-0.0.0-py3-none-any.whl->chat-magics==0.0.0) (7.4.0)\n",
      "Collecting phonenumbers==8.13.26 (from chat-magics-fabric@ https://aka.ms/chat_magics_fabric-0.0.0-py3-none-any.whl->chat-magics==0.0.0)\n",
      "  Downloading phonenumbers-8.13.26-py2.py3-none-any.whl (2.6 MB)\n",
      "\u001b[2K     \u001b[90m━━━━━━━━━━━━━━━━━━━━━━━━━━━━━━━━━━━━━━━━\u001b[0m \u001b[32m2.6/2.6 MB\u001b[0m \u001b[31m122.4 MB/s\u001b[0m eta \u001b[36m0:00:00\u001b[0m\n",
      "\u001b[?25hCollecting posthog==3.1.0 (from chat-magics-fabric@ https://aka.ms/chat_magics_fabric-0.0.0-py3-none-any.whl->chat-magics==0.0.0)\n",
      "  Downloading posthog-3.1.0-py2.py3-none-any.whl (37 kB)\n",
      "Requirement already satisfied: pulsar-client==3.3.0 in /home/trusted-service-user/cluster-env/trident_env/lib/python3.10/site-packages (from chat-magics-fabric@ https://aka.ms/chat_magics_fabric-0.0.0-py3-none-any.whl->chat-magics==0.0.0) (3.3.0)\n",
      "Collecting pydantic-core==2.10.1 (from chat-magics-fabric@ https://aka.ms/chat_magics_fabric-0.0.0-py3-none-any.whl->chat-magics==0.0.0)\n",
      "  Downloading pydantic_core-2.10.1-cp310-cp310-manylinux_2_17_x86_64.manylinux2014_x86_64.whl (2.0 MB)\n",
      "\u001b[2K     \u001b[90m━━━━━━━━━━━━━━━━━━━━━━━━━━━━━━━━━━━━━━━━\u001b[0m \u001b[32m2.0/2.0 MB\u001b[0m \u001b[31m190.5 MB/s\u001b[0m eta \u001b[36m0:00:00\u001b[0m\n",
      "\u001b[?25hRequirement already satisfied: pypika==0.48.9 in /home/trusted-service-user/cluster-env/trident_env/lib/python3.10/site-packages (from chat-magics-fabric@ https://aka.ms/chat_magics_fabric-0.0.0-py3-none-any.whl->chat-magics==0.0.0) (0.48.9)\n",
      "Collecting pyproj==3.6.1 (from chat-magics-fabric@ https://aka.ms/chat_magics_fabric-0.0.0-py3-none-any.whl->chat-magics==0.0.0)\n",
      "  Downloading pyproj-3.6.1-cp310-cp310-manylinux_2_17_x86_64.manylinux2014_x86_64.whl (8.3 MB)\n",
      "\u001b[2K     \u001b[90m━━━━━━━━━━━━━━━━━━━━━━━━━━━━━━━━━━━━━━━━\u001b[0m \u001b[32m8.3/8.3 MB\u001b[0m \u001b[31m139.5 MB/s\u001b[0m eta \u001b[36m0:00:00\u001b[0ma \u001b[36m0:00:01\u001b[0m\n",
      "\u001b[?25hCollecting python-dotenv==1.0.0 (from chat-magics-fabric@ https://aka.ms/chat_magics_fabric-0.0.0-py3-none-any.whl->chat-magics==0.0.0)\n",
      "  Downloading python_dotenv-1.0.0-py3-none-any.whl (19 kB)\n",
      "Requirement already satisfied: pythonnet==3.0.1 in /home/trusted-service-user/cluster-env/trident_env/lib/python3.10/site-packages (from chat-magics-fabric@ https://aka.ms/chat_magics_fabric-0.0.0-py3-none-any.whl->chat-magics==0.0.0) (3.0.1)\n",
      "Collecting semantic-link==0.3.6 (from chat-magics-fabric@ https://aka.ms/chat_magics_fabric-0.0.0-py3-none-any.whl->chat-magics==0.0.0)\n",
      "  Downloading semantic_link-0.3.6-py3-none-any.whl (8.2 kB)\n",
      "Collecting semantic-link-functions-geopandas==0.3.6 (from chat-magics-fabric@ https://aka.ms/chat_magics_fabric-0.0.0-py3-none-any.whl->chat-magics==0.0.0)\n",
      "  Downloading semantic_link_functions_geopandas-0.3.6-py3-none-any.whl (4.0 kB)\n",
      "Collecting semantic-link-functions-holidays==0.3.6 (from chat-magics-fabric@ https://aka.ms/chat_magics_fabric-0.0.0-py3-none-any.whl->chat-magics==0.0.0)\n",
      "  Downloading semantic_link_functions_holidays-0.3.6-py3-none-any.whl (4.2 kB)\n",
      "Collecting semantic-link-functions-meteostat==0.3.6 (from chat-magics-fabric@ https://aka.ms/chat_magics_fabric-0.0.0-py3-none-any.whl->chat-magics==0.0.0)\n",
      "  Downloading semantic_link_functions_meteostat-0.3.6-py3-none-any.whl (4.5 kB)\n",
      "Collecting semantic-link-functions-phonenumbers==0.3.6 (from chat-magics-fabric@ https://aka.ms/chat_magics_fabric-0.0.0-py3-none-any.whl->chat-magics==0.0.0)\n",
      "  Downloading semantic_link_functions_phonenumbers-0.3.6-py3-none-any.whl (4.3 kB)\n",
      "Collecting semantic-link-functions-validators==0.3.6 (from chat-magics-fabric@ https://aka.ms/chat_magics_fabric-0.0.0-py3-none-any.whl->chat-magics==0.0.0)\n",
      "  Downloading semantic_link_functions_validators-0.3.6-py3-none-any.whl (4.7 kB)\n",
      "Collecting semantic-link-sempy==0.3.6 (from chat-magics-fabric@ https://aka.ms/chat_magics_fabric-0.0.0-py3-none-any.whl->chat-magics==0.0.0)\n",
      "  Downloading semantic_link_sempy-0.3.6-py3-none-any.whl (2.9 MB)\n",
      "\u001b[2K     \u001b[90m━━━━━━━━━━━━━━━━━━━━━━━━━━━━━━━━━━━━━━━━\u001b[0m \u001b[32m2.9/2.9 MB\u001b[0m \u001b[31m157.1 MB/s\u001b[0m eta \u001b[36m0:00:00\u001b[0m\n",
      "\u001b[?25hCollecting shapely==2.0.2 (from chat-magics-fabric@ https://aka.ms/chat_magics_fabric-0.0.0-py3-none-any.whl->chat-magics==0.0.0)\n",
      "  Downloading shapely-2.0.2-cp310-cp310-manylinux_2_17_x86_64.manylinux2014_x86_64.whl (2.5 MB)\n",
      "\u001b[2K     \u001b[90m━━━━━━━━━━━━━━━━━━━━━━━━━━━━━━━━━━━━━━━━\u001b[0m \u001b[32m2.5/2.5 MB\u001b[0m \u001b[31m146.0 MB/s\u001b[0m eta \u001b[36m0:00:00\u001b[0m\n",
      "\u001b[?25hRequirement already satisfied: starlette==0.27.0 in /home/trusted-service-user/cluster-env/trident_env/lib/python3.10/site-packages (from chat-magics-fabric@ https://aka.ms/chat_magics_fabric-0.0.0-py3-none-any.whl->chat-magics==0.0.0) (0.27.0)\n",
      "Requirement already satisfied: sympy==1.12 in /home/trusted-service-user/cluster-env/trident_env/lib/python3.10/site-packages (from chat-magics-fabric@ https://aka.ms/chat_magics_fabric-0.0.0-py3-none-any.whl->chat-magics==0.0.0) (1.12)\n",
      "Requirement already satisfied: tenacity==8.2.3 in /home/trusted-service-user/cluster-env/trident_env/lib/python3.10/site-packages (from chat-magics-fabric@ https://aka.ms/chat_magics_fabric-0.0.0-py3-none-any.whl->chat-magics==0.0.0) (8.2.3)\n",
      "Collecting tiktoken==0.5.2 (from chat-magics-fabric@ https://aka.ms/chat_magics_fabric-0.0.0-py3-none-any.whl->chat-magics==0.0.0)\n",
      "  Downloading tiktoken-0.5.2-cp310-cp310-manylinux_2_17_x86_64.manylinux2014_x86_64.whl (2.0 MB)\n",
      "\u001b[2K     \u001b[90m━━━━━━━━━━━━━━━━━━━━━━━━━━━━━━━━━━━━━━━━\u001b[0m \u001b[32m2.0/2.0 MB\u001b[0m \u001b[31m132.6 MB/s\u001b[0m eta \u001b[36m0:00:00\u001b[0m\n",
      "\u001b[?25hCollecting tokenizers==0.15.0 (from chat-magics-fabric@ https://aka.ms/chat_magics_fabric-0.0.0-py3-none-any.whl->chat-magics==0.0.0)\n",
      "  Downloading tokenizers-0.15.0-cp310-cp310-manylinux_2_17_x86_64.manylinux2014_x86_64.whl (3.8 MB)\n",
      "\u001b[2K     \u001b[90m━━━━━━━━━━━━━━━━━━━━━━━━━━━━━━━━━━━━━━━━\u001b[0m \u001b[32m3.8/3.8 MB\u001b[0m \u001b[31m59.1 MB/s\u001b[0m eta \u001b[36m0:00:00\u001b[0mta \u001b[36m0:00:01\u001b[0m\n",
      "\u001b[?25hRequirement already satisfied: typer==0.9.0 in /home/trusted-service-user/cluster-env/trident_env/lib/python3.10/site-packages (from chat-magics-fabric@ https://aka.ms/chat_magics_fabric-0.0.0-py3-none-any.whl->chat-magics==0.0.0) (0.9.0)\n",
      "Collecting typing-extensions==4.8.0 (from chat-magics-fabric@ https://aka.ms/chat_magics_fabric-0.0.0-py3-none-any.whl->chat-magics==0.0.0)\n",
      "  Downloading typing_extensions-4.8.0-py3-none-any.whl (31 kB)\n",
      "Collecting uvicorn==0.24.0.post1 (from chat-magics-fabric@ https://aka.ms/chat_magics_fabric-0.0.0-py3-none-any.whl->chat-magics==0.0.0)\n",
      "  Downloading uvicorn-0.24.0.post1-py3-none-any.whl (59 kB)\n",
      "\u001b[2K     \u001b[90m━━━━━━━━━━━━━━━━━━━━━━━━━━━━━━━━━━━━━━━━\u001b[0m \u001b[32m59.7/59.7 kB\u001b[0m \u001b[31m25.7 MB/s\u001b[0m eta \u001b[36m0:00:00\u001b[0m\n",
      "\u001b[?25hCollecting uvloop==0.19.0 (from chat-magics-fabric@ https://aka.ms/chat_magics_fabric-0.0.0-py3-none-any.whl->chat-magics==0.0.0)\n",
      "  Downloading uvloop-0.19.0-cp310-cp310-manylinux_2_17_x86_64.manylinux2014_x86_64.whl (3.4 MB)\n",
      "\u001b[2K     \u001b[90m━━━━━━━━━━━━━━━━━━━━━━━━━━━━━━━━━━━━━━━━\u001b[0m \u001b[32m3.4/3.4 MB\u001b[0m \u001b[31m123.6 MB/s\u001b[0m eta \u001b[36m0:00:00\u001b[0m\n",
      "\u001b[?25hCollecting validators==0.22.0 (from chat-magics-fabric@ https://aka.ms/chat_magics_fabric-0.0.0-py3-none-any.whl->chat-magics==0.0.0)\n",
      "  Downloading validators-0.22.0-py3-none-any.whl (26 kB)\n",
      "Collecting watchfiles==0.21.0 (from chat-magics-fabric@ https://aka.ms/chat_magics_fabric-0.0.0-py3-none-any.whl->chat-magics==0.0.0)\n",
      "  Downloading watchfiles-0.21.0-cp310-cp310-manylinux_2_17_x86_64.manylinux2014_x86_64.whl (1.3 MB)\n",
      "\u001b[2K     \u001b[90m━━━━━━━━━━━━━━━━━━━━━━━━━━━━━━━━━━━━━━━━\u001b[0m \u001b[32m1.3/1.3 MB\u001b[0m \u001b[31m190.5 MB/s\u001b[0m eta \u001b[36m0:00:00\u001b[0m\n",
      "\u001b[?25hRequirement already satisfied: websockets==12.0 in /home/trusted-service-user/cluster-env/trident_env/lib/python3.10/site-packages (from chat-magics-fabric@ https://aka.ms/chat_magics_fabric-0.0.0-py3-none-any.whl->chat-magics==0.0.0) (12.0)\n",
      "Collecting xyzservices==2023.10.1 (from chat-magics-fabric@ https://aka.ms/chat_magics_fabric-0.0.0-py3-none-any.whl->chat-magics==0.0.0)\n",
      "  Downloading xyzservices-2023.10.1-py3-none-any.whl (56 kB)\n",
      "\u001b[2K     \u001b[90m━━━━━━━━━━━━━━━━━━━━━━━━━━━━━━━━━━━━━━━━\u001b[0m \u001b[32m56.3/56.3 kB\u001b[0m \u001b[31m24.5 MB/s\u001b[0m eta \u001b[36m0:00:00\u001b[0m\n",
      "\u001b[?25hCollecting openai==0.27.10 (from ds-copilot@ https://aka.ms/ds_copilot-0.0.0-py3-none-any.whl->chat-magics==0.0.0)\n",
      "  Downloading openai-0.27.10-py3-none-any.whl (76 kB)\n",
      "\u001b[2K     \u001b[90m━━━━━━━━━━━━━━━━━━━━━━━━━━━━━━━━━━━━━━━━\u001b[0m \u001b[32m76.5/76.5 kB\u001b[0m \u001b[31m38.1 MB/s\u001b[0m eta \u001b[36m0:00:00\u001b[0m\n",
      "\u001b[?25hRequirement already satisfied: pandas<3.0.0,>=1.5.0 in /home/trusted-service-user/cluster-env/trident_env/lib/python3.10/site-packages (from ds-copilot@ https://aka.ms/ds_copilot-0.0.0-py3-none-any.whl->chat-magics==0.0.0) (2.0.3)\n",
      "Requirement already satisfied: idna>=2.8 in /home/trusted-service-user/cluster-env/trident_env/lib/python3.10/site-packages (from anyio==3.7.1->chat-magics-fabric@ https://aka.ms/chat_magics_fabric-0.0.0-py3-none-any.whl->chat-magics==0.0.0) (3.4)\n",
      "Requirement already satisfied: sniffio>=1.1 in /home/trusted-service-user/cluster-env/trident_env/lib/python3.10/site-packages (from anyio==3.7.1->chat-magics-fabric@ https://aka.ms/chat_magics_fabric-0.0.0-py3-none-any.whl->chat-magics==0.0.0) (1.3.0)\n",
      "Requirement already satisfied: jinja2 in /home/trusted-service-user/cluster-env/trident_env/lib/python3.10/site-packages (from branca==0.7.0->chat-magics-fabric@ https://aka.ms/chat_magics_fabric-0.0.0-py3-none-any.whl->chat-magics==0.0.0) (3.1.2)\n",
      "Requirement already satisfied: numpy in /home/trusted-service-user/cluster-env/trident_env/lib/python3.10/site-packages (from chroma-hnswlib==0.7.3->chat-magics-fabric@ https://aka.ms/chat_magics_fabric-0.0.0-py3-none-any.whl->chat-magics==0.0.0) (1.24.3)\n",
      "Requirement already satisfied: requests>=2.28 in /home/trusted-service-user/cluster-env/trident_env/lib/python3.10/site-packages (from chromadb==0.4.17->chat-magics-fabric@ https://aka.ms/chat_magics_fabric-0.0.0-py3-none-any.whl->chat-magics==0.0.0) (2.31.0)\n",
      "Requirement already satisfied: uvicorn[standard]>=0.18.3 in /home/trusted-service-user/cluster-env/trident_env/lib/python3.10/site-packages (from chromadb==0.4.17->chat-magics-fabric@ https://aka.ms/chat_magics_fabric-0.0.0-py3-none-any.whl->chat-magics==0.0.0) (0.23.2)\n",
      "Requirement already satisfied: tqdm>=4.65.0 in /home/trusted-service-user/cluster-env/trident_env/lib/python3.10/site-packages (from chromadb==0.4.17->chat-magics-fabric@ https://aka.ms/chat_magics_fabric-0.0.0-py3-none-any.whl->chat-magics==0.0.0) (4.66.1)\n",
      "Requirement already satisfied: importlib-resources in /home/trusted-service-user/cluster-env/trident_env/lib/python3.10/site-packages (from chromadb==0.4.17->chat-magics-fabric@ https://aka.ms/chat_magics_fabric-0.0.0-py3-none-any.whl->chat-magics==0.0.0) (6.1.0)\n",
      "Requirement already satisfied: PyYAML>=6.0.0 in /home/trusted-service-user/cluster-env/trident_env/lib/python3.10/site-packages (from chromadb==0.4.17->chat-magics-fabric@ https://aka.ms/chat_magics_fabric-0.0.0-py3-none-any.whl->chat-magics==0.0.0) (6.0.1)\n",
      "Requirement already satisfied: click>=4.0 in /home/trusted-service-user/cluster-env/trident_env/lib/python3.10/site-packages (from click-plugins==1.1.1->chat-magics-fabric@ https://aka.ms/chat_magics_fabric-0.0.0-py3-none-any.whl->chat-magics==0.0.0) (8.1.7)\n",
      "Requirement already satisfied: cffi>=1.13 in /home/trusted-service-user/cluster-env/trident_env/lib/python3.10/site-packages (from clr-loader==0.2.6->chat-magics-fabric@ https://aka.ms/chat_magics_fabric-0.0.0-py3-none-any.whl->chat-magics==0.0.0) (1.16.0)\n",
      "Requirement already satisfied: humanfriendly>=9.1 in /home/trusted-service-user/cluster-env/trident_env/lib/python3.10/site-packages (from coloredlogs==15.0.1->chat-magics-fabric@ https://aka.ms/chat_magics_fabric-0.0.0-py3-none-any.whl->chat-magics==0.0.0) (10.0)\n",
      "Requirement already satisfied: wrapt<2,>=1.10 in /home/trusted-service-user/cluster-env/trident_env/lib/python3.10/site-packages (from deprecated==1.2.14->chat-magics-fabric@ https://aka.ms/chat_magics_fabric-0.0.0-py3-none-any.whl->chat-magics==0.0.0) (1.15.0)\n",
      "Requirement already satisfied: attrs>=19.2.0 in /home/trusted-service-user/cluster-env/trident_env/lib/python3.10/site-packages (from fiona==1.9.5->chat-magics-fabric@ https://aka.ms/chat_magics_fabric-0.0.0-py3-none-any.whl->chat-magics==0.0.0) (23.1.0)\n",
      "Requirement already satisfied: certifi in /home/trusted-service-user/cluster-env/trident_env/lib/python3.10/site-packages (from fiona==1.9.5->chat-magics-fabric@ https://aka.ms/chat_magics_fabric-0.0.0-py3-none-any.whl->chat-magics==0.0.0) (2023.7.22)\n",
      "Requirement already satisfied: six in /home/trusted-service-user/cluster-env/trident_env/lib/python3.10/site-packages (from fiona==1.9.5->chat-magics-fabric@ https://aka.ms/chat_magics_fabric-0.0.0-py3-none-any.whl->chat-magics==0.0.0) (1.16.0)\n",
      "Requirement already satisfied: setuptools in /home/trusted-service-user/cluster-env/trident_env/lib/python3.10/site-packages (from fiona==1.9.5->chat-magics-fabric@ https://aka.ms/chat_magics_fabric-0.0.0-py3-none-any.whl->chat-magics==0.0.0) (68.2.2)\n",
      "Requirement already satisfied: packaging in /home/trusted-service-user/cluster-env/trident_env/lib/python3.10/site-packages (from geopandas==0.14.1->chat-magics-fabric@ https://aka.ms/chat_magics_fabric-0.0.0-py3-none-any.whl->chat-magics==0.0.0) (23.2)\n",
      "Requirement already satisfied: protobuf!=3.20.0,!=3.20.1,!=4.21.1,!=4.21.2,!=4.21.3,!=4.21.4,!=4.21.5,<5.0.0.dev0,>=3.19.5 in /home/trusted-service-user/cluster-env/trident_env/lib/python3.10/site-packages (from googleapis-common-protos==1.62.0->chat-magics-fabric@ https://aka.ms/chat_magics_fabric-0.0.0-py3-none-any.whl->chat-magics==0.0.0) (4.21.12)\n",
      "Requirement already satisfied: python-dateutil in /home/trusted-service-user/cluster-env/trident_env/lib/python3.10/site-packages (from holidays==0.38->chat-magics-fabric@ https://aka.ms/chat_magics_fabric-0.0.0-py3-none-any.whl->chat-magics==0.0.0) (2.8.2)\n",
      "Requirement already satisfied: filelock in /home/trusted-service-user/cluster-env/trident_env/lib/python3.10/site-packages (from huggingface-hub==0.19.4->chat-magics-fabric@ https://aka.ms/chat_magics_fabric-0.0.0-py3-none-any.whl->chat-magics==0.0.0) (3.11.0)\n",
      "Requirement already satisfied: zipp>=0.5 in /home/trusted-service-user/cluster-env/trident_env/lib/python3.10/site-packages (from importlib-metadata==6.11.0->chat-magics-fabric@ https://aka.ms/chat_magics_fabric-0.0.0-py3-none-any.whl->chat-magics==0.0.0) (3.17.0)\n",
      "Requirement already satisfied: google-auth>=1.0.1 in /home/trusted-service-user/cluster-env/trident_env/lib/python3.10/site-packages (from kubernetes==28.1.0->chat-magics-fabric@ https://aka.ms/chat_magics_fabric-0.0.0-py3-none-any.whl->chat-magics==0.0.0) (2.23.3)\n",
      "Requirement already satisfied: websocket-client!=0.40.0,!=0.41.*,!=0.42.*,>=0.32.0 in /home/trusted-service-user/cluster-env/trident_env/lib/python3.10/site-packages (from kubernetes==28.1.0->chat-magics-fabric@ https://aka.ms/chat_magics_fabric-0.0.0-py3-none-any.whl->chat-magics==0.0.0) (1.6.4)\n",
      "Requirement already satisfied: requests-oauthlib in /home/trusted-service-user/cluster-env/trident_env/lib/python3.10/site-packages (from kubernetes==28.1.0->chat-magics-fabric@ https://aka.ms/chat_magics_fabric-0.0.0-py3-none-any.whl->chat-magics==0.0.0) (1.3.1)\n",
      "Requirement already satisfied: oauthlib>=3.2.2 in /home/trusted-service-user/cluster-env/trident_env/lib/python3.10/site-packages (from kubernetes==28.1.0->chat-magics-fabric@ https://aka.ms/chat_magics_fabric-0.0.0-py3-none-any.whl->chat-magics==0.0.0) (3.2.2)\n",
      "Requirement already satisfied: urllib3<2.0,>=1.24.2 in /home/trusted-service-user/cluster-env/trident_env/lib/python3.10/site-packages (from kubernetes==28.1.0->chat-magics-fabric@ https://aka.ms/chat_magics_fabric-0.0.0-py3-none-any.whl->chat-magics==0.0.0) (1.26.17)\n",
      "Requirement already satisfied: scikit-learn>=1.0 in /home/trusted-service-user/cluster-env/trident_env/lib/python3.10/site-packages (from mapclassify==2.6.1->chat-magics-fabric@ https://aka.ms/chat_magics_fabric-0.0.0-py3-none-any.whl->chat-magics==0.0.0) (1.3.0)\n",
      "Requirement already satisfied: scipy>=1.8 in /home/trusted-service-user/cluster-env/trident_env/lib/python3.10/site-packages (from mapclassify==2.6.1->chat-magics-fabric@ https://aka.ms/chat_magics_fabric-0.0.0-py3-none-any.whl->chat-magics==0.0.0) (1.10.1)\n",
      "Requirement already satisfied: pytz in /home/trusted-service-user/cluster-env/trident_env/lib/python3.10/site-packages (from meteostat==1.6.7->chat-magics-fabric@ https://aka.ms/chat_magics_fabric-0.0.0-py3-none-any.whl->chat-magics==0.0.0) (2023.3.post1)\n",
      "Requirement already satisfied: cloudpickle<4 in /home/trusted-service-user/cluster-env/trident_env/lib/python3.10/site-packages (from mlflow-skinny!=2.6.0->chat-magics-fabric@ https://aka.ms/chat_magics_fabric-0.0.0-py3-none-any.whl->chat-magics==0.0.0) (2.2.1)\n",
      "Requirement already satisfied: databricks-cli<1,>=0.8.7 in /home/trusted-service-user/cluster-env/trident_env/lib/python3.10/site-packages (from mlflow-skinny!=2.6.0->chat-magics-fabric@ https://aka.ms/chat_magics_fabric-0.0.0-py3-none-any.whl->chat-magics==0.0.0) (0.18.0)\n",
      "Requirement already satisfied: entrypoints<1 in /home/trusted-service-user/cluster-env/trident_env/lib/python3.10/site-packages (from mlflow-skinny!=2.6.0->chat-magics-fabric@ https://aka.ms/chat_magics_fabric-0.0.0-py3-none-any.whl->chat-magics==0.0.0) (0.4)\n",
      "Requirement already satisfied: gitpython<4,>=2.1.0 in /home/trusted-service-user/cluster-env/trident_env/lib/python3.10/site-packages (from mlflow-skinny!=2.6.0->chat-magics-fabric@ https://aka.ms/chat_magics_fabric-0.0.0-py3-none-any.whl->chat-magics==0.0.0) (3.1.40)\n",
      "Requirement already satisfied: sqlparse<1,>=0.4.0 in /home/trusted-service-user/cluster-env/trident_env/lib/python3.10/site-packages (from mlflow-skinny!=2.6.0->chat-magics-fabric@ https://aka.ms/chat_magics_fabric-0.0.0-py3-none-any.whl->chat-magics==0.0.0) (0.4.4)\n",
      "Requirement already satisfied: flatbuffers in /home/trusted-service-user/cluster-env/trident_env/lib/python3.10/site-packages (from onnxruntime==1.16.3->chat-magics-fabric@ https://aka.ms/chat_magics_fabric-0.0.0-py3-none-any.whl->chat-magics==0.0.0) (23.5.26)\n",
      "Requirement already satisfied: aiohttp in /home/trusted-service-user/cluster-env/trident_env/lib/python3.10/site-packages (from openai==0.27.10->ds-copilot@ https://aka.ms/ds_copilot-0.0.0-py3-none-any.whl->chat-magics==0.0.0) (3.8.6)\n",
      "Requirement already satisfied: regex>=2022.1.18 in /home/trusted-service-user/cluster-env/trident_env/lib/python3.10/site-packages (from tiktoken==0.5.2->chat-magics-fabric@ https://aka.ms/chat_magics_fabric-0.0.0-py3-none-any.whl->chat-magics==0.0.0) (2023.8.8)\n",
      "Requirement already satisfied: tzdata>=2022.1 in /home/trusted-service-user/cluster-env/trident_env/lib/python3.10/site-packages (from pandas<3.0.0,>=1.5.0->ds-copilot@ https://aka.ms/ds_copilot-0.0.0-py3-none-any.whl->chat-magics==0.0.0) (2023.3)\n",
      "Requirement already satisfied: pycparser in /home/trusted-service-user/cluster-env/trident_env/lib/python3.10/site-packages (from cffi>=1.13->clr-loader==0.2.6->chat-magics-fabric@ https://aka.ms/chat_magics_fabric-0.0.0-py3-none-any.whl->chat-magics==0.0.0) (2.21)\n",
      "Requirement already satisfied: pyjwt>=1.7.0 in /home/trusted-service-user/cluster-env/trident_env/lib/python3.10/site-packages (from databricks-cli<1,>=0.8.7->mlflow-skinny!=2.6.0->chat-magics-fabric@ https://aka.ms/chat_magics_fabric-0.0.0-py3-none-any.whl->chat-magics==0.0.0) (2.8.0)\n",
      "Requirement already satisfied: tabulate>=0.7.7 in /home/trusted-service-user/cluster-env/trident_env/lib/python3.10/site-packages (from databricks-cli<1,>=0.8.7->mlflow-skinny!=2.6.0->chat-magics-fabric@ https://aka.ms/chat_magics_fabric-0.0.0-py3-none-any.whl->chat-magics==0.0.0) (0.9.0)\n",
      "Requirement already satisfied: gitdb<5,>=4.0.1 in /home/trusted-service-user/cluster-env/trident_env/lib/python3.10/site-packages (from gitpython<4,>=2.1.0->mlflow-skinny!=2.6.0->chat-magics-fabric@ https://aka.ms/chat_magics_fabric-0.0.0-py3-none-any.whl->chat-magics==0.0.0) (4.0.11)\n",
      "Requirement already satisfied: cachetools<6.0,>=2.0.0 in /home/trusted-service-user/cluster-env/trident_env/lib/python3.10/site-packages (from google-auth>=1.0.1->kubernetes==28.1.0->chat-magics-fabric@ https://aka.ms/chat_magics_fabric-0.0.0-py3-none-any.whl->chat-magics==0.0.0) (5.3.2)\n",
      "Requirement already satisfied: pyasn1-modules>=0.2.1 in /home/trusted-service-user/cluster-env/trident_env/lib/python3.10/site-packages (from google-auth>=1.0.1->kubernetes==28.1.0->chat-magics-fabric@ https://aka.ms/chat_magics_fabric-0.0.0-py3-none-any.whl->chat-magics==0.0.0) (0.3.0)\n",
      "Requirement already satisfied: rsa<5,>=3.1.4 in /home/trusted-service-user/cluster-env/trident_env/lib/python3.10/site-packages (from google-auth>=1.0.1->kubernetes==28.1.0->chat-magics-fabric@ https://aka.ms/chat_magics_fabric-0.0.0-py3-none-any.whl->chat-magics==0.0.0) (4.9)\n",
      "Requirement already satisfied: MarkupSafe>=2.0 in /home/trusted-service-user/cluster-env/trident_env/lib/python3.10/site-packages (from jinja2->branca==0.7.0->chat-magics-fabric@ https://aka.ms/chat_magics_fabric-0.0.0-py3-none-any.whl->chat-magics==0.0.0) (2.1.3)\n",
      "Requirement already satisfied: charset-normalizer<4,>=2 in /home/trusted-service-user/cluster-env/trident_env/lib/python3.10/site-packages (from requests>=2.28->chromadb==0.4.17->chat-magics-fabric@ https://aka.ms/chat_magics_fabric-0.0.0-py3-none-any.whl->chat-magics==0.0.0) (3.3.1)\n",
      "Requirement already satisfied: joblib>=1.1.1 in /home/trusted-service-user/cluster-env/trident_env/lib/python3.10/site-packages (from scikit-learn>=1.0->mapclassify==2.6.1->chat-magics-fabric@ https://aka.ms/chat_magics_fabric-0.0.0-py3-none-any.whl->chat-magics==0.0.0) (1.3.2)\n",
      "Requirement already satisfied: threadpoolctl>=2.0.0 in /home/trusted-service-user/cluster-env/trident_env/lib/python3.10/site-packages (from scikit-learn>=1.0->mapclassify==2.6.1->chat-magics-fabric@ https://aka.ms/chat_magics_fabric-0.0.0-py3-none-any.whl->chat-magics==0.0.0) (3.2.0)\n",
      "INFO: pip is looking at multiple versions of uvicorn[standard] to determine which version is compatible with other requirements. This could take a while.\n",
      "Collecting uvicorn[standard]>=0.18.3 (from chromadb==0.4.17->chat-magics-fabric@ https://aka.ms/chat_magics_fabric-0.0.0-py3-none-any.whl->chat-magics==0.0.0)\n",
      "  Downloading uvicorn-0.29.0-py3-none-any.whl (60 kB)\n",
      "\u001b[2K     \u001b[90m━━━━━━━━━━━━━━━━━━━━━━━━━━━━━━━━━━━━━━━━\u001b[0m \u001b[32m60.8/60.8 kB\u001b[0m \u001b[31m20.4 MB/s\u001b[0m eta \u001b[36m0:00:00\u001b[0m\n",
      "\u001b[?25h  Downloading uvicorn-0.28.1-py3-none-any.whl (60 kB)\n",
      "\u001b[2K     \u001b[90m━━━━━━━━━━━━━━━━━━━━━━━━━━━━━━━━━━━━━━━━\u001b[0m \u001b[32m60.5/60.5 kB\u001b[0m \u001b[31m26.4 MB/s\u001b[0m eta \u001b[36m0:00:00\u001b[0m\n",
      "\u001b[?25h  Downloading uvicorn-0.28.0-py3-none-any.whl (60 kB)\n",
      "\u001b[2K     \u001b[90m━━━━━━━━━━━━━━━━━━━━━━━━━━━━━━━━━━━━━━━━\u001b[0m \u001b[32m60.6/60.6 kB\u001b[0m \u001b[31m27.3 MB/s\u001b[0m eta \u001b[36m0:00:00\u001b[0m\n",
      "\u001b[?25h  Downloading uvicorn-0.27.1-py3-none-any.whl (60 kB)\n",
      "\u001b[2K     \u001b[90m━━━━━━━━━━━━━━━━━━━━━━━━━━━━━━━━━━━━━━━━\u001b[0m \u001b[32m60.8/60.8 kB\u001b[0m \u001b[31m21.9 MB/s\u001b[0m eta \u001b[36m0:00:00\u001b[0m\n",
      "\u001b[?25h  Downloading uvicorn-0.27.0.post1-py3-none-any.whl (60 kB)\n",
      "\u001b[2K     \u001b[90m━━━━━━━━━━━━━━━━━━━━━━━━━━━━━━━━━━━━━━━━\u001b[0m \u001b[32m60.7/60.7 kB\u001b[0m \u001b[31m24.1 MB/s\u001b[0m eta \u001b[36m0:00:00\u001b[0m\n",
      "\u001b[?25h  Downloading uvicorn-0.27.0-py3-none-any.whl (60 kB)\n",
      "\u001b[2K     \u001b[90m━━━━━━━━━━━━━━━━━━━━━━━━━━━━━━━━━━━━━━━━\u001b[0m \u001b[32m60.6/60.6 kB\u001b[0m \u001b[31m26.1 MB/s\u001b[0m eta \u001b[36m0:00:00\u001b[0m\n",
      "\u001b[?25h  Downloading uvicorn-0.26.0-py3-none-any.whl (60 kB)\n",
      "\u001b[2K     \u001b[90m━━━━━━━━━━━━━━━━━━━━━━━━━━━━━━━━━━━━━━━━\u001b[0m \u001b[32m60.5/60.5 kB\u001b[0m \u001b[31m31.4 MB/s\u001b[0m eta \u001b[36m0:00:00\u001b[0m\n",
      "\u001b[?25hINFO: pip is looking at multiple versions of uvicorn[standard] to determine which version is compatible with other requirements. This could take a while.\n",
      "  Downloading uvicorn-0.25.0-py3-none-any.whl (60 kB)\n",
      "\u001b[2K     \u001b[90m━━━━━━━━━━━━━━━━━━━━━━━━━━━━━━━━━━━━━━━━\u001b[0m \u001b[32m60.3/60.3 kB\u001b[0m \u001b[31m30.2 MB/s\u001b[0m eta \u001b[36m0:00:00\u001b[0m\n",
      "\u001b[?25hRequirement already satisfied: multidict<7.0,>=4.5 in /home/trusted-service-user/cluster-env/trident_env/lib/python3.10/site-packages (from aiohttp->openai==0.27.10->ds-copilot@ https://aka.ms/ds_copilot-0.0.0-py3-none-any.whl->chat-magics==0.0.0) (6.0.4)\n",
      "Requirement already satisfied: async-timeout<5.0,>=4.0.0a3 in /home/trusted-service-user/cluster-env/trident_env/lib/python3.10/site-packages (from aiohttp->openai==0.27.10->ds-copilot@ https://aka.ms/ds_copilot-0.0.0-py3-none-any.whl->chat-magics==0.0.0) (4.0.3)\n",
      "Requirement already satisfied: yarl<2.0,>=1.0 in /home/trusted-service-user/cluster-env/trident_env/lib/python3.10/site-packages (from aiohttp->openai==0.27.10->ds-copilot@ https://aka.ms/ds_copilot-0.0.0-py3-none-any.whl->chat-magics==0.0.0) (1.9.2)\n",
      "Requirement already satisfied: frozenlist>=1.1.1 in /home/trusted-service-user/cluster-env/trident_env/lib/python3.10/site-packages (from aiohttp->openai==0.27.10->ds-copilot@ https://aka.ms/ds_copilot-0.0.0-py3-none-any.whl->chat-magics==0.0.0) (1.4.0)\n",
      "Requirement already satisfied: aiosignal>=1.1.2 in /home/trusted-service-user/cluster-env/trident_env/lib/python3.10/site-packages (from aiohttp->openai==0.27.10->ds-copilot@ https://aka.ms/ds_copilot-0.0.0-py3-none-any.whl->chat-magics==0.0.0) (1.3.1)\n",
      "Requirement already satisfied: smmap<6,>=3.0.1 in /home/trusted-service-user/cluster-env/trident_env/lib/python3.10/site-packages (from gitdb<5,>=4.0.1->gitpython<4,>=2.1.0->mlflow-skinny!=2.6.0->chat-magics-fabric@ https://aka.ms/chat_magics_fabric-0.0.0-py3-none-any.whl->chat-magics==0.0.0) (5.0.0)\n",
      "Requirement already satisfied: pyasn1<0.6.0,>=0.4.6 in /home/trusted-service-user/cluster-env/trident_env/lib/python3.10/site-packages (from pyasn1-modules>=0.2.1->google-auth>=1.0.1->kubernetes==28.1.0->chat-magics-fabric@ https://aka.ms/chat_magics_fabric-0.0.0-py3-none-any.whl->chat-magics==0.0.0) (0.5.0)\n",
      "Installing collected packages: phonenumbers, monotonic, xyzservices, validators, uvloop, typing-extensions, shapely, python-dotenv, pyproj, opentelemetry-semantic-conventions, opentelemetry-proto, networkx, importlib-metadata, httptools, grpcio, googleapis-common-protos, fsspec, exceptiongroup, deprecated, cligj, click-plugins, bcrypt, backoff, annotated-types, uvicorn, tiktoken, pydantic-core, posthog, opentelemetry-exporter-otlp-proto-common, opentelemetry-api, onnxruntime, huggingface-hub, holidays, fiona, branca, watchfiles, tokenizers, pydantic, opentelemetry-sdk, openai, mlflow-skinny, meteostat, mapclassify, kubernetes, geopandas, folium, semantic-link-sempy, opentelemetry-exporter-otlp-proto-grpc, fastapi, semantic-link-functions-validators, semantic-link-functions-phonenumbers, semantic-link-functions-meteostat, semantic-link-functions-holidays, semantic-link-functions-geopandas, chromadb, semantic-link, ds-copilot, chat-magics-fabric, chat-magics\n",
      "  Attempting uninstall: monotonic\n",
      "    Found existing installation: monotonic 1.5\n",
      "    Not uninstalling monotonic at /home/trusted-service-user/cluster-env/trident_env/lib/python3.10/site-packages, outside environment /nfs4/pyenv-644e04fc-7aab-463e-9f9d-0a65f161a012\n",
      "    Can't uninstall 'monotonic'. No files were found to uninstall.\n",
      "  Attempting uninstall: typing-extensions\n",
      "    Found existing installation: typing_extensions 4.5.0\n",
      "    Not uninstalling typing-extensions at /home/trusted-service-user/cluster-env/trident_env/lib/python3.10/site-packages, outside environment /nfs4/pyenv-644e04fc-7aab-463e-9f9d-0a65f161a012\n",
      "    Can't uninstall 'typing_extensions'. No files were found to uninstall.\n",
      "  Attempting uninstall: networkx\n",
      "    Found existing installation: networkx 3.2\n",
      "    Not uninstalling networkx at /home/trusted-service-user/cluster-env/trident_env/lib/python3.10/site-packages, outside environment /nfs4/pyenv-644e04fc-7aab-463e-9f9d-0a65f161a012\n",
      "    Can't uninstall 'networkx'. No files were found to uninstall.\n",
      "  Attempting uninstall: importlib-metadata\n",
      "    Found existing installation: importlib-metadata 6.8.0\n",
      "    Not uninstalling importlib-metadata at /home/trusted-service-user/cluster-env/trident_env/lib/python3.10/site-packages, outside environment /nfs4/pyenv-644e04fc-7aab-463e-9f9d-0a65f161a012\n",
      "    Can't uninstall 'importlib-metadata'. No files were found to uninstall.\n",
      "  Attempting uninstall: grpcio\n",
      "    Found existing installation: grpcio 1.54.3\n",
      "    Not uninstalling grpcio at /home/trusted-service-user/cluster-env/trident_env/lib/python3.10/site-packages, outside environment /nfs4/pyenv-644e04fc-7aab-463e-9f9d-0a65f161a012\n",
      "    Can't uninstall 'grpcio'. No files were found to uninstall.\n",
      "  Attempting uninstall: fsspec\n",
      "    Found existing installation: fsspec 2023.10.0\n",
      "    Not uninstalling fsspec at /home/trusted-service-user/cluster-env/trident_env/lib/python3.10/site-packages, outside environment /nfs4/pyenv-644e04fc-7aab-463e-9f9d-0a65f161a012\n",
      "    Can't uninstall 'fsspec'. No files were found to uninstall.\n",
      "  Attempting uninstall: exceptiongroup\n",
      "    Found existing installation: exceptiongroup 1.1.3\n",
      "    Not uninstalling exceptiongroup at /home/trusted-service-user/cluster-env/trident_env/lib/python3.10/site-packages, outside environment /nfs4/pyenv-644e04fc-7aab-463e-9f9d-0a65f161a012\n",
      "    Can't uninstall 'exceptiongroup'. No files were found to uninstall.\n",
      "  Attempting uninstall: bcrypt\n",
      "    Found existing installation: bcrypt 4.0.1\n",
      "    Not uninstalling bcrypt at /home/trusted-service-user/cluster-env/trident_env/lib/python3.10/site-packages, outside environment /nfs4/pyenv-644e04fc-7aab-463e-9f9d-0a65f161a012\n",
      "    Can't uninstall 'bcrypt'. No files were found to uninstall.\n",
      "  Attempting uninstall: backoff\n",
      "    Found existing installation: backoff 1.11.1\n",
      "    Not uninstalling backoff at /home/trusted-service-user/cluster-env/trident_env/lib/python3.10/site-packages, outside environment /nfs4/pyenv-644e04fc-7aab-463e-9f9d-0a65f161a012\n",
      "    Can't uninstall 'backoff'. No files were found to uninstall.\n",
      "  Attempting uninstall: uvicorn\n",
      "    Found existing installation: uvicorn 0.23.2\n",
      "    Not uninstalling uvicorn at /home/trusted-service-user/cluster-env/trident_env/lib/python3.10/site-packages, outside environment /nfs4/pyenv-644e04fc-7aab-463e-9f9d-0a65f161a012\n",
      "    Can't uninstall 'uvicorn'. No files were found to uninstall.\n",
      "  Attempting uninstall: tiktoken\n",
      "    Found existing installation: tiktoken 0.5.1\n",
      "    Not uninstalling tiktoken at /home/trusted-service-user/cluster-env/trident_env/lib/python3.10/site-packages, outside environment /nfs4/pyenv-644e04fc-7aab-463e-9f9d-0a65f161a012\n",
      "    Can't uninstall 'tiktoken'. No files were found to uninstall.\n",
      "  Attempting uninstall: posthog\n",
      "    Found existing installation: posthog 3.0.2\n",
      "    Not uninstalling posthog at /home/trusted-service-user/cluster-env/trident_env/lib/python3.10/site-packages, outside environment /nfs4/pyenv-644e04fc-7aab-463e-9f9d-0a65f161a012\n",
      "    Can't uninstall 'posthog'. No files were found to uninstall.\n",
      "  Attempting uninstall: onnxruntime\n",
      "    Found existing installation: onnxruntime 1.16.1\n",
      "    Not uninstalling onnxruntime at /home/trusted-service-user/cluster-env/trident_env/lib/python3.10/site-packages, outside environment /nfs4/pyenv-644e04fc-7aab-463e-9f9d-0a65f161a012\n",
      "    Can't uninstall 'onnxruntime'. No files were found to uninstall.\n",
      "  Attempting uninstall: huggingface-hub\n",
      "    Found existing installation: huggingface-hub 0.18.0\n",
      "    Not uninstalling huggingface-hub at /home/trusted-service-user/cluster-env/trident_env/lib/python3.10/site-packages, outside environment /nfs4/pyenv-644e04fc-7aab-463e-9f9d-0a65f161a012\n",
      "    Can't uninstall 'huggingface-hub'. No files were found to uninstall.\n",
      "  Attempting uninstall: holidays\n",
      "    Found existing installation: holidays 0.35\n",
      "    Not uninstalling holidays at /home/trusted-service-user/cluster-env/trident_env/lib/python3.10/site-packages, outside environment /nfs4/pyenv-644e04fc-7aab-463e-9f9d-0a65f161a012\n",
      "    Can't uninstall 'holidays'. No files were found to uninstall.\n",
      "  Attempting uninstall: tokenizers\n",
      "    Found existing installation: tokenizers 0.13.3\n",
      "    Not uninstalling tokenizers at /home/trusted-service-user/cluster-env/trident_env/lib/python3.10/site-packages, outside environment /nfs4/pyenv-644e04fc-7aab-463e-9f9d-0a65f161a012\n",
      "    Can't uninstall 'tokenizers'. No files were found to uninstall.\n",
      "  Attempting uninstall: pydantic\n",
      "    Found existing installation: pydantic 1.10.9\n",
      "    Not uninstalling pydantic at /home/trusted-service-user/cluster-env/trident_env/lib/python3.10/site-packages, outside environment /nfs4/pyenv-644e04fc-7aab-463e-9f9d-0a65f161a012\n",
      "    Can't uninstall 'pydantic'. No files were found to uninstall.\n",
      "  Attempting uninstall: openai\n",
      "    Found existing installation: openai 0.27.8\n",
      "    Not uninstalling openai at /home/trusted-service-user/cluster-env/trident_env/lib/python3.10/site-packages, outside environment /nfs4/pyenv-644e04fc-7aab-463e-9f9d-0a65f161a012\n",
      "    Can't uninstall 'openai'. No files were found to uninstall.\n",
      "  Attempting uninstall: mlflow-skinny\n",
      "    Found existing installation: mlflow-skinny 2.6.0\n",
      "    Not uninstalling mlflow-skinny at /home/trusted-service-user/cluster-env/trident_env/lib/python3.10/site-packages, outside environment /nfs4/pyenv-644e04fc-7aab-463e-9f9d-0a65f161a012\n",
      "    Can't uninstall 'mlflow-skinny'. No files were found to uninstall.\n",
      "  Attempting uninstall: fastapi\n",
      "    Found existing installation: fastapi 0.103.2\n",
      "    Not uninstalling fastapi at /home/trusted-service-user/cluster-env/trident_env/lib/python3.10/site-packages, outside environment /nfs4/pyenv-644e04fc-7aab-463e-9f9d-0a65f161a012\n",
      "    Can't uninstall 'fastapi'. No files were found to uninstall.\n",
      "  Attempting uninstall: chromadb\n",
      "    Found existing installation: chromadb 0.4.13\n",
      "    Not uninstalling chromadb at /home/trusted-service-user/cluster-env/trident_env/lib/python3.10/site-packages, outside environment /nfs4/pyenv-644e04fc-7aab-463e-9f9d-0a65f161a012\n",
      "    Can't uninstall 'chromadb'. No files were found to uninstall.\n",
      "\u001b[31mERROR: pip's dependency resolver does not currently take into account all the packages that are installed. This behaviour is the source of the following dependency conflicts.\n",
      "sentence-transformers 2.0.0 requires sentencepiece, which is not installed.\n",
      "sentence-transformers 2.0.0 requires torchvision, which is not installed.\n",
      "dash 2.14.0 requires Flask<2.3.0,>=1.0.4, but you have flask 3.0.0 which is incompatible.\n",
      "dash 2.14.0 requires Werkzeug<2.3.0, but you have werkzeug 3.0.1 which is incompatible.\n",
      "datasets 2.14.6 requires fsspec[http]<=2023.10.0,>=2023.1.0, but you have fsspec 2023.12.1 which is incompatible.\n",
      "tensorflow 2.12.1 requires typing-extensions<4.6.0,>=3.6.6, but you have typing-extensions 4.8.0 which is incompatible.\n",
      "transformers 4.26.0 requires tokenizers!=0.11.3,<0.14,>=0.11.1, but you have tokenizers 0.15.0 which is incompatible.\u001b[0m\u001b[31m\n",
      "\u001b[0mSuccessfully installed annotated-types-0.6.0 backoff-2.2.1 bcrypt-4.1.1 branca-0.7.0 chat-magics-0.1.24.2.27 chat-magics-fabric-0.1.12.24.2.27 chromadb-0.4.17 click-plugins-1.1.1 cligj-0.7.2 deprecated-1.2.14 ds-copilot-0.1.24.2.27 exceptiongroup-1.2.0 fastapi-0.104.1 fiona-1.9.5 folium-0.15.1 fsspec-2023.12.1 geopandas-0.14.1 googleapis-common-protos-1.62.0 grpcio-1.60.0 holidays-0.38 httptools-0.6.1 huggingface-hub-0.19.4 importlib-metadata-6.11.0 kubernetes-28.1.0 mapclassify-2.6.1 meteostat-1.6.7 mlflow-skinny-2.9.1 monotonic-1.6 networkx-3.2.1 onnxruntime-1.16.3 openai-0.27.10 opentelemetry-api-1.21.0 opentelemetry-exporter-otlp-proto-common-1.21.0 opentelemetry-exporter-otlp-proto-grpc-1.21.0 opentelemetry-proto-1.21.0 opentelemetry-sdk-1.21.0 opentelemetry-semantic-conventions-0.42b0 phonenumbers-8.13.26 posthog-3.1.0 pydantic-2.4.2 pydantic-core-2.10.1 pyproj-3.6.1 python-dotenv-1.0.0 semantic-link-0.3.6 semantic-link-functions-geopandas-0.3.6 semantic-link-functions-holidays-0.3.6 semantic-link-functions-meteostat-0.3.6 semantic-link-functions-phonenumbers-0.3.6 semantic-link-functions-validators-0.3.6 semantic-link-sempy-0.3.6 shapely-2.0.2 tiktoken-0.5.2 tokenizers-0.15.0 typing-extensions-4.8.0 uvicorn-0.24.0.post1 uvloop-0.19.0 validators-0.22.0 watchfiles-0.21.0 xyzservices-2023.10.1\n",
      "\n",
      "\u001b[1m[\u001b[0m\u001b[34;49mnotice\u001b[0m\u001b[1;39;49m]\u001b[0m\u001b[39;49m A new release of pip is available: \u001b[0m\u001b[31;49m23.1.2\u001b[0m\u001b[39;49m -> \u001b[0m\u001b[32;49m24.0\u001b[0m\n",
      "\u001b[1m[\u001b[0m\u001b[34;49mnotice\u001b[0m\u001b[1;39;49m]\u001b[0m\u001b[39;49m To update, run: \u001b[0m\u001b[32;49mpython -m pip install --upgrade pip\u001b[0m\n",
      "Note: you may need to restart the kernel to use updated packages.\n"
     ]
    },
    {
     "data": {
      "text/markdown": [
       "### **Chat_magic commands**\n",
       "\n",
       "* Using installed DSCopilot package.\n",
       "* Service: fabric\n",
       "* Model: gpt-35-turbo-16k\n",
       "\n",
       "\n"
      ],
      "text/plain": [
       "<IPython.core.display.Markdown object>"
      ]
     },
     "metadata": {},
     "output_type": "display_data"
    },
    {
     "data": {
      "text/markdown": [
       "#### **AI Processor Disclaimer**\n",
       "\n",
       "\n",
       "#### Data Privacy and Security\n",
       "\n",
       "Chat-magics is powered by Azure OpenAI Service and is subject to the supplemental terms of use for\n",
       "[Microsoft Azure Previews](https://azure.microsoft.com/en-us/support/legal/preview-supplemental-terms/).\n",
       "Azure OpenAI is fully controlled by Microsoft.\n",
       "\n",
       "In order to generate a response, chat-magics uses (a) your prompt or input and, when appropriate,\n",
       "(b) additional data that is retrieved through the grounding process to provide more relevant,\n",
       "contextual responses. This information is sent to Azure OpenAI, where it is processed and an\n",
       "output is generated. Therefore, data processed by Azure OpenAI can include:\n",
       "\n",
       "- Your prompt or input\n",
       "- Grounding data\n",
       "- Chat-magics response or output\n",
       "\n",
       "Your Data:\n",
       "\n",
       "- Is not used to train models.\n",
       "- Is not available to other customers.\n",
       "- Is stored for up to 30 days and may be reviewed by Microsoft employees for abuse monitoring.\n",
       "\n",
       "Here is your current privacy configuration:  \n",
       "* You ARE sharing previous messages sent to and replies from the LLM.  \n",
       "* You ARE sharing the contents of cells that you have executed.  \n",
       "* You ARE sharing the outputs of cells that you have executed.  \n",
       "* You ARE sharing the schemas of data sources in your notebook.  \n",
       "* You ARE sharing sample data from data sources in your notebook.  \n",
       "* You ARE sharing schemas from external data sources.  \n",
       "* You ARE automatically scanning for external data sources.  \n",
       "\n",
       "\n",
       "Consider what sharing settings are appropriate when working with sensitive or confidential data. You can change your sharing settings at any time by using the command: %set\\_sharing\\_level\n",
       "\n"
      ],
      "text/plain": [
       "<IPython.core.display.Markdown object>"
      ]
     },
     "metadata": {},
     "output_type": "display_data"
    },
    {
     "data": {
      "text/markdown": [
       "\n",
       "### **Usage**\n",
       "Use the `%chat_magics` command to display this help message.\n",
       "\n",
       "<details>\n",
       "<summary>Expand for details...</summary>\n",
       "\n",
       "To get started, try something like the following:\n",
       "\n",
       "    %%code\n",
       "    Load my_data.csv from the current folder into a pandas dataframe.\n",
       "\n",
       "#### Main Commands\n",
       "* `%%chat` - Ask questions about your notebook state or let the chat-magics help you understand or author it.\n",
       "* `%%code` - Generate code to work with or visualize your data.\n",
       "* `%%describe` - Describe a loaded dataframe.\n",
       "* `%%add_comments` - Add comments to the code in a cell.\n",
       "* `%%fix_errors` - Fix errors in a cell.\n",
       "* `%%translate` - Translate code from one language to another.\n",
       "\n",
       "#### Configuration Commands\n",
       "* `%set_output` - Set whether code responses are generated to the current cell, next cell, cell output, a variable, or not at all.\n",
       "* `%set_language` - Set the default language for generated code.\n",
       "* `%set_sharing_level` - Control how much chat, code, output, and data is shared with the the configured AI processor.\n",
       "\n",
       "#### Context Commands\n",
       "* `%pin & %unpin` - Pin and unpin dataframes to better focus AI responses.\n",
       "* `%new_task` - Provide overall guidance for generated responses. Clears history.\n",
       "* `%ignore` - Ignore a cell so that it is not processed by chat-magics.\n",
       "\n",
       "#### Detailed Usage\n",
       "For detailed information on each command, use the `?` (help operator), e.g. `%%code?` or `%set_sharing_level?`. Also, note that some magic commands may not be available depending on the AI service you have configured.\n",
       "\n",
       "</details>"
      ],
      "text/plain": [
       "<IPython.core.display.Markdown object>"
      ]
     },
     "metadata": {},
     "output_type": "display_data"
    },
    {
     "name": "stdout",
     "output_type": "stream",
     "text": [
      "Warning: PySpark kernel has been restarted to use updated packages.\n",
      "\n"
     ]
    }
   ],
   "source": [
    "\n",
    "#Run this cell to install the required packages for Copilot\n",
    "%pip install https://aka.ms/chat_magics-0.0.0-py3-none-any.whl\n",
    "%load_ext chat_magics\n"
   ]
  },
  {
   "cell_type": "markdown",
   "id": "a1e18bce-d3b2-4c77-aea0-0c2a76b1d67f",
   "metadata": {
    "nteract": {
     "transient": {
      "deleting": false
     }
    }
   },
   "source": [
    "# Step 4: Practice loading and writing data from Lakehouse"
   ]
  },
  {
   "cell_type": "markdown",
   "id": "7ff4f3ba-3f78-41e2-ba57-2a0203332704",
   "metadata": {
    "nteract": {
     "transient": {
      "deleting": false
     }
    }
   },
   "source": [
    "## Write data to Lakehouse"
   ]
  },
  {
   "cell_type": "code",
   "execution_count": null,
   "id": "ca7f3949-ab70-486a-89f9-34e98b80f5d7",
   "metadata": {
    "jupyter": {
     "outputs_hidden": false,
     "source_hidden": false
    },
    "nteract": {
     "transient": {
      "deleting": false
     }
    }
   },
   "outputs": [
    {
     "data": {
      "application/vnd.livy.statement-meta+json": {
       "execution_finish_time": "2024-03-26T23:20:59.1417929Z",
       "execution_start_time": "2024-03-26T23:20:50.8562702Z",
       "livy_statement_state": "available",
       "parent_msg_id": "8cc4cc24-6331-40f8-8ebf-1b7ebcc71d58",
       "queued_time": "2024-03-26T23:19:24.9836304Z",
       "session_id": "97871f36-6cdb-43e1-ad5a-e735e500ffff",
       "session_start_time": null,
       "spark_pool": null,
       "state": "finished",
       "statement_id": 10
      },
      "text/plain": [
       "StatementMeta(, 97871f36-6cdb-43e1-ad5a-e735e500ffff, 10, Finished, Available)"
      ]
     },
     "metadata": {},
     "output_type": "display_data"
    }
   ],
   "source": [
    "import sklearn\n",
    "from sklearn.datasets import fetch_california_housing\n",
    "from pyspark.sql import SparkSession\n",
    "from pyspark.ml.feature import VectorAssembler\n",
    "\n",
    "# Load scikit-learn dataset\n",
    "housing = fetch_california_housing()\n",
    "\n",
    "# Convert scikit-learn dataset to a pandas DataFrame\n",
    "import pandas as pd\n",
    "data = pd.DataFrame(housing.data, columns=housing.feature_names)\n",
    "data['target'] = housing.target\n",
    "\n",
    "# Drop index column\n",
    "data.reset_index(drop=True, inplace=True)\n",
    "\n",
    "# Convert pandas DataFrame to Spark DataFrame\n",
    "spark_df = spark.createDataFrame(data)\n",
    "\n",
    "# Save Spark DataFrame to a lakehouse (e.g., Delta Lake)\n",
    "spark_df.write.format(\"delta\").mode(\"overwrite\").save(\"Tables/practiceData\")\n",
    "\n"
   ]
  },
  {
   "cell_type": "markdown",
   "id": "db8d17c6-b2c5-45da-8bb6-7606ace62526",
   "metadata": {
    "nteract": {
     "transient": {
      "deleting": false
     }
    }
   },
   "source": [
    "## Read data from Lakehouse\n",
    "\n",
    "If you don't see the practiceData populated within the Lakehouse, you can refresh the Table list.\n",
    "\n",
    "![Refresh list of tables](https://synapseaisolutionsa.blob.core.windows.net/public/Fabric-Conference/RefreshTables.png)"
   ]
  },
  {
   "cell_type": "code",
   "execution_count": null,
   "id": "fa26e455-f56d-4276-8e32-ee42b58b72a1",
   "metadata": {
    "jupyter": {
     "outputs_hidden": false,
     "source_hidden": false
    },
    "nteract": {
     "transient": {
      "deleting": false
     }
    }
   },
   "outputs": [],
   "source": [
    "df = spark.sql(\"SELECT * FROM FC_Workshop.practiceData\")\n",
    "display(df)"
   ]
  },
  {
   "cell_type": "markdown",
   "id": "c9717fbd-023e-4a86-8b85-c6c93b1baead",
   "metadata": {
    "nteract": {
     "transient": {
      "deleting": false
     }
    }
   },
   "source": [
    "## Use Copilot Chat Magics\n",
    "\n",
    "To learn more, you can read [Overview of Chat Magics in Fabric](https://learn.microsoft.com/en-us/fabric/get-started/copilot-notebooks-chat-magics).\n",
    "\n",
    "### Instant query and code generation\n",
    "The ```%%chat``` command allows you to ask questions about the state of your notebook. \n",
    "\n",
    "The ```%%code``` enables code generation for data manipulation or visualization.\n",
    "\n",
    "\n",
    "### Commenting and debugging\n",
    "The ``` %%add_comments``` and ```%%fix_errors``` commands help add comments to your code and fix errors respectively. This helps make your notebook more readable and error-free."
   ]
  },
  {
   "cell_type": "code",
   "execution_count": null,
   "id": "323e7d08-e3e5-4b00-bbd6-32cd2aa0a3c1",
   "metadata": {
    "jupyter": {
     "outputs_hidden": false,
     "source_hidden": false
    },
    "nteract": {
     "transient": {
      "deleting": false
     }
    }
   },
   "outputs": [
    {
     "data": {
      "application/vnd.livy.statement-meta+json": {
       "execution_finish_time": "2024-03-26T23:21:15.1220701Z",
       "execution_start_time": "2024-03-26T23:21:02.8997656Z",
       "livy_statement_state": "available",
       "parent_msg_id": "b153b5ca-b274-4f4e-87bf-ba93fb40e715",
       "queued_time": "2024-03-26T23:19:24.9847746Z",
       "session_id": "97871f36-6cdb-43e1-ad5a-e735e500ffff",
       "session_start_time": null,
       "spark_pool": null,
       "state": "finished",
       "statement_id": 12
      },
      "text/plain": [
       "StatementMeta(, 97871f36-6cdb-43e1-ad5a-e735e500ffff, 12, Finished, Available)"
      ]
     },
     "metadata": {},
     "output_type": "display_data"
    },
    {
     "data": {
      "text/markdown": [
       "##### ATTENTION: AI-generated code can include errors or operations you didn't intend. Review the code generated carefully before running it.\n",
       "To create a histogram to visualize the distribution of the \"HouseAge\" column, you can use the `hist` function from pandas or PySpark.\n",
       "\n",
       "Here's an example using pandas:\n",
       "\n",
       "1. **Histogram of HouseAge using Pandas:**\n",
       "This plot will show the distribution of the \"HouseAge\" column using a histogram.\n",
       "```python\n",
       "import pandas as pd\n",
       "import matplotlib.pyplot as plt\n",
       "\n",
       "# Assuming your dataframe is named 'df'\n",
       "plt.figure(figsize=(10, 6))\n",
       "plt.hist(df['HouseAge'], bins=20, color='blue', edgecolor='black')\n",
       "plt.xlabel('House Age')\n",
       "plt.ylabel('Frequency')\n",
       "plt.title('Distribution of House Age')\n",
       "plt.show()\n",
       "```\n",
       "\n",
       "Note: Make sure to adjust the figure size, number of bins, and color according to your preference.\n",
       "\n",
       "If your dataframe is a PySpark dataframe, you need to convert it to a pandas dataframe first before plotting. Here's an example:\n",
       "\n",
       "2. **Histogram of HouseAge using PySpark:**\n",
       "This plot will show the distribution of the \"HouseAge\" column using a histogram.\n",
       "```python\n",
       "import pandas as pd\n",
       "import matplotlib.pyplot as plt\n",
       "\n",
       "# Assuming your PySpark dataframe is named 'spark_df'\n",
       "pandas_df = spark_df.toPandas()\n",
       "\n",
       "plt.figure(figsize=(10, 6))\n",
       "plt.hist(pandas_df['HouseAge'], bins=20, color='blue', edgecolor='black')\n",
       "plt.xlabel('House Age')\n",
       "plt.ylabel('Frequency')\n",
       "plt.title('Distribution of House Age')\n",
       "plt.show()\n",
       "```\n",
       "\n",
       "Note: Make sure to adjust the figure size, number of bins, and color according to your preference.\n",
       "\n",
       "Remember to replace `'df'` or `'spark_df'` with the actual name of your dataframe variable."
      ],
      "text/plain": [
       "<IPython.core.display.Markdown object>"
      ]
     },
     "metadata": {},
     "output_type": "display_data"
    }
   ],
   "source": [
    "%%chat \n",
    "How can I create a histogram to see the distribution of HouseAge"
   ]
  },
  {
   "cell_type": "code",
   "execution_count": null,
   "id": "a9d2d39c-eb7c-4f35-97c1-e1f79668a1bb",
   "metadata": {
    "jupyter": {
     "outputs_hidden": false,
     "source_hidden": false
    },
    "nteract": {
     "transient": {
      "deleting": false
     }
    }
   },
   "outputs": [
    {
     "data": {
      "text/markdown": [
       "**chat-magics** generated the following cell.  Tokens: 23\n",
       "\n",
       "Remember that AI can make mistakes, so carefully review code before executing."
      ],
      "text/plain": [
       "<IPython.core.display.Markdown object>"
      ]
     },
     "metadata": {},
     "output_type": "display_data"
    }
   ],
   "source": [
    "%%code \n",
    "Load practiceData table into a Spark dataframe and convert it into a Pandas dataframe "
   ]
  },
  {
   "cell_type": "code",
   "execution_count": null,
   "id": "f51f1d7c-4430-4d9c-91b9-d790bcc9bf4e",
   "metadata": {
    "jupyter": {
     "outputs_hidden": false,
     "source_hidden": false
    },
    "nteract": {
     "transient": {
      "deleting": false
     }
    }
   },
   "outputs": [],
   "source": [
    "df = spark.table('fc_workshop.practicedata')\n",
    "pandas_df = df.toPandas()"
   ]
  },
  {
   "cell_type": "code",
   "execution_count": null,
   "id": "e4943fa9-ee14-43dc-9836-e7d4c3fd85bd",
   "metadata": {
    "jupyter": {
     "outputs_hidden": false,
     "source_hidden": false
    },
    "nteract": {
     "transient": {
      "deleting": false
     }
    }
   },
   "outputs": [
    {
     "data": {
      "application/vnd.livy.statement-meta+json": {
       "execution_finish_time": "2024-03-26T23:21:20.3136441Z",
       "execution_start_time": "2024-03-26T23:21:18.7247968Z",
       "livy_statement_state": "available",
       "parent_msg_id": "c8d41934-0d34-4683-9dc0-1594bcb19b6d",
       "queued_time": "2024-03-26T23:19:24.9858857Z",
       "session_id": "97871f36-6cdb-43e1-ad5a-e735e500ffff",
       "session_start_time": null,
       "spark_pool": null,
       "state": "finished",
       "statement_id": 14
      },
      "text/plain": [
       "StatementMeta(, 97871f36-6cdb-43e1-ad5a-e735e500ffff, 14, Finished, Available)"
      ]
     },
     "metadata": {},
     "output_type": "display_data"
    }
   ],
   "source": [
    "df_spark = spark.read.table(\"practiceData\")\n",
    "df_pandas = df_spark.toPandas()"
   ]
  },
  {
   "cell_type": "code",
   "execution_count": null,
   "id": "465d6bb2-2f7b-4054-ae87-e1fbde2bbadb",
   "metadata": {
    "jupyter": {
     "outputs_hidden": false,
     "source_hidden": false
    },
    "nteract": {
     "transient": {
      "deleting": false
     }
    }
   },
   "outputs": [
    {
     "data": {
      "text/markdown": [
       "**chat-magics** generated the following cell.  Tokens: 19\n",
       "\n",
       "Remember that AI can make mistakes, so carefully review code before executing."
      ],
      "text/plain": [
       "<IPython.core.display.Markdown object>"
      ]
     },
     "metadata": {},
     "output_type": "display_data"
    }
   ],
   "source": [
    "%%code\n",
    "Filter out rows where HouseAge in df_pandas >= 80"
   ]
  },
  {
   "cell_type": "code",
   "execution_count": null,
   "id": "d2b7369e-a1e8-4dba-ac32-bb5e33441325",
   "metadata": {
    "jupyter": {
     "outputs_hidden": false,
     "source_hidden": false
    },
    "nteract": {
     "transient": {
      "deleting": false
     }
    }
   },
   "outputs": [],
   "source": [
    "pandas_df_filtered = pandas_df[pandas_df['HouseAge'] < 80]"
   ]
  },
  {
   "cell_type": "code",
   "execution_count": null,
   "id": "ff201d45-6e30-47c6-90f6-df6b558f7780",
   "metadata": {
    "jupyter": {
     "outputs_hidden": false,
     "source_hidden": false
    },
    "nteract": {
     "transient": {
      "deleting": false
     }
    }
   },
   "outputs": [
    {
     "data": {
      "application/vnd.livy.statement-meta+json": {
       "execution_finish_time": "2024-03-26T23:21:23.2127636Z",
       "execution_start_time": "2024-03-26T23:21:22.935389Z",
       "livy_statement_state": "available",
       "parent_msg_id": "d88813ad-fc63-4cc3-b2f1-3a876c695459",
       "queued_time": "2024-03-26T23:19:24.9870642Z",
       "session_id": "97871f36-6cdb-43e1-ad5a-e735e500ffff",
       "session_start_time": null,
       "spark_pool": null,
       "state": "finished",
       "statement_id": 16
      },
      "text/plain": [
       "StatementMeta(, 97871f36-6cdb-43e1-ad5a-e735e500ffff, 16, Finished, Available)"
      ]
     },
     "metadata": {},
     "output_type": "display_data"
    }
   ],
   "source": [
    "df_filtered = df_pandas[df_pandas['HouseAge'] < 80]"
   ]
  },
  {
   "cell_type": "code",
   "execution_count": null,
   "id": "209ccebf-d0b8-4d10-9c82-528dced93df9",
   "metadata": {
    "jupyter": {
     "outputs_hidden": false,
     "source_hidden": false
    },
    "nteract": {
     "transient": {
      "deleting": false
     }
    }
   },
   "outputs": [
    {
     "data": {
      "application/vnd.livy.statement-meta+json": {
       "execution_finish_time": "2024-03-26T23:21:24.1001488Z",
       "execution_start_time": "2024-03-26T23:21:23.7982494Z",
       "livy_statement_state": "available",
       "parent_msg_id": "25963f89-b4b8-44d3-94f5-36ed69a5b34e",
       "queued_time": "2024-03-26T23:19:24.9876599Z",
       "session_id": "97871f36-6cdb-43e1-ad5a-e735e500ffff",
       "session_start_time": null,
       "spark_pool": null,
       "state": "finished",
       "statement_id": 17
      },
      "text/plain": [
       "StatementMeta(, 97871f36-6cdb-43e1-ad5a-e735e500ffff, 17, Finished, Available)"
      ]
     },
     "metadata": {},
     "output_type": "display_data"
    }
   ],
   "source": [
    "df_filtered = df_pandas[df_pandas['HouseAge'] >= 80]"
   ]
  }
 ],
 "metadata": {
  "dependencies": {
   "environment": {},
   "lakehouse": {}
  },
  "kernel_info": {
   "name": "synapse_pyspark"
  },
  "kernelspec": {
   "display_name": "Synapse PySpark",
   "language": "Python",
   "name": "synapse_pyspark"
  },
  "language_info": {
   "name": "python"
  },
  "nteract": {
   "version": "nteract-front-end@1.0.0"
  },
  "spark_compute": {
   "compute_id": "/trident/default"
  }
 },
 "nbformat": 4,
 "nbformat_minor": 5
}
