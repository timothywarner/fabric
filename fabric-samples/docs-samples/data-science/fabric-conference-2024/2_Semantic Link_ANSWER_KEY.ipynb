{
 "cells": [
  {
   "cell_type": "markdown",
   "id": "ef6b2d20-853a-4f2a-96d9-fe769dca271a",
   "metadata": {
    "nteract": {
     "transient": {
      "deleting": false
     }
    }
   },
   "source": [
    "# Lab 2: Semantic Link\n"
   ]
  },
  {
   "cell_type": "markdown",
   "id": "cfc1a476-cf8c-4e31-89c9-d429933e3117",
   "metadata": {
    "nteract": {
     "transient": {
      "deleting": false
     }
    }
   },
   "source": [
    "## Step 1: Setup your notebook\n",
    "\n",
    "### Select Lakehouse (FC_Workshop)\n",
    "First, add the Lakehouse you created from the prior lab exercise.\n",
    "\n",
    "![image-alt-text](https://synapseaisolutionsa.blob.core.windows.net/public/Fabric-Conference/add-lakehouse.png)\n",
    "\n",
    "### Select environment or install within session\n",
    "![Select Environment and then select your environment from the list](https://synapseaisolutionsa.blob.core.windows.net/public/Fabric-Conference/AttachEnv2.png)"
   ]
  },
  {
   "cell_type": "code",
   "execution_count": null,
   "id": "9262b838-a210-44dc-9e42-102f8ee04f5c",
   "metadata": {
    "jupyter": {
     "outputs_hidden": true
    }
   },
   "outputs": [
    {
     "data": {
      "application/vnd.livy.statement-meta+json": {
       "execution_finish_time": "2024-03-26T23:26:13.4035087Z",
       "execution_start_time": "2024-03-26T23:26:10.2489697Z",
       "livy_statement_state": "available",
       "parent_msg_id": "e919cfec-3f8f-4c90-bf09-4817011185b8",
       "queued_time": "2024-03-26T23:25:36.3936794Z",
       "session_id": "3182f88b-3979-4468-bd9f-ef63cd3458cf",
       "session_start_time": null,
       "spark_pool": null,
       "state": "finished",
       "statement_id": 8
      },
      "text/plain": [
       "StatementMeta(, 3182f88b-3979-4468-bd9f-ef63cd3458cf, 8, Finished, Available)"
      ]
     },
     "metadata": {},
     "output_type": "display_data"
    },
    {
     "name": "stdout",
     "output_type": "stream",
     "text": [
      "Collecting semantic-link\n",
      "  Downloading semantic_link-0.7.2-py3-none-any.whl (8.2 kB)\n",
      "Collecting semantic-link-sempy==0.7.2 (from semantic-link)\n",
      "  Downloading semantic_link_sempy-0.7.2-py3-none-any.whl (3.0 MB)\n",
      "\u001b[2K     \u001b[90m━━━━━━━━━━━━━━━━━━━━━━━━━━━━━━━━━━━━━━━━\u001b[0m \u001b[32m3.0/3.0 MB\u001b[0m \u001b[31m71.7 MB/s\u001b[0m eta \u001b[36m0:00:00\u001b[0m00:01\u001b[0m\n",
      "\u001b[?25hCollecting semantic-link-functions-geopandas==0.7.2 (from semantic-link)\n",
      "  Downloading semantic_link_functions_geopandas-0.7.2-py3-none-any.whl (4.0 kB)\n",
      "Collecting semantic-link-functions-holidays==0.7.2 (from semantic-link)\n",
      "  Downloading semantic_link_functions_holidays-0.7.2-py3-none-any.whl (4.2 kB)\n",
      "Collecting semantic-link-functions-meteostat==0.7.2 (from semantic-link)\n",
      "  Downloading semantic_link_functions_meteostat-0.7.2-py3-none-any.whl (4.5 kB)\n",
      "Collecting semantic-link-functions-phonenumbers==0.7.2 (from semantic-link)\n",
      "  Downloading semantic_link_functions_phonenumbers-0.7.2-py3-none-any.whl (4.3 kB)\n",
      "Collecting semantic-link-functions-validators==0.7.2 (from semantic-link)\n",
      "  Downloading semantic_link_functions_validators-0.7.2-py3-none-any.whl (4.7 kB)\n",
      "Collecting geopandas (from semantic-link-functions-geopandas==0.7.2->semantic-link)\n",
      "  Downloading geopandas-0.14.3-py3-none-any.whl (1.1 MB)\n",
      "\u001b[2K     \u001b[90m━━━━━━━━━━━━━━━━━━━━━━━━━━━━━━━━━━━━━━━━\u001b[0m \u001b[32m1.1/1.1 MB\u001b[0m \u001b[31m139.6 MB/s\u001b[0m eta \u001b[36m0:00:00\u001b[0m\n",
      "\u001b[?25hCollecting folium (from semantic-link-functions-geopandas==0.7.2->semantic-link)\n",
      "  Downloading folium-0.16.0-py2.py3-none-any.whl (100 kB)\n",
      "\u001b[2K     \u001b[90m━━━━━━━━━━━━━━━━━━━━━━━━━━━━━━━━━━━━━━\u001b[0m \u001b[32m100.0/100.0 kB\u001b[0m \u001b[31m48.2 MB/s\u001b[0m eta \u001b[36m0:00:00\u001b[0m\n",
      "\u001b[?25hCollecting mapclassify (from semantic-link-functions-geopandas==0.7.2->semantic-link)\n",
      "  Downloading mapclassify-2.6.1-py3-none-any.whl (38 kB)\n",
      "Requirement already satisfied: holidays in /home/trusted-service-user/cluster-env/trident_env/lib/python3.10/site-packages (from semantic-link-functions-holidays==0.7.2->semantic-link) (0.35)\n",
      "Collecting meteostat (from semantic-link-functions-meteostat==0.7.2->semantic-link)\n",
      "  Downloading meteostat-1.6.7-py3-none-any.whl (31 kB)\n",
      "Collecting phonenumbers (from semantic-link-functions-phonenumbers==0.7.2->semantic-link)\n",
      "  Downloading phonenumbers-8.13.33-py2.py3-none-any.whl (2.6 MB)\n",
      "\u001b[2K     \u001b[90m━━━━━━━━━━━━━━━━━━━━━━━━━━━━━━━━━━━━━━━━\u001b[0m \u001b[32m2.6/2.6 MB\u001b[0m \u001b[31m117.1 MB/s\u001b[0m eta \u001b[36m0:00:00\u001b[0m\n",
      "\u001b[?25hCollecting validators (from semantic-link-functions-validators==0.7.2->semantic-link)\n",
      "  Downloading validators-0.24.0-py3-none-any.whl (27 kB)\n",
      "Requirement already satisfied: pythonnet>=3.0.1 in /home/trusted-service-user/cluster-env/trident_env/lib/python3.10/site-packages (from semantic-link-sempy==0.7.2->semantic-link) (3.0.1)\n",
      "Requirement already satisfied: clr-loader>=0.2.6 in /home/trusted-service-user/cluster-env/trident_env/lib/python3.10/site-packages (from semantic-link-sempy==0.7.2->semantic-link) (0.2.6)\n",
      "Requirement already satisfied: graphviz>=0.20.1 in /home/trusted-service-user/cluster-env/trident_env/lib/python3.10/site-packages (from semantic-link-sempy==0.7.2->semantic-link) (0.20.1)\n",
      "Requirement already satisfied: pyarrow>=12.0.1 in /home/trusted-service-user/cluster-env/trident_env/lib/python3.10/site-packages (from semantic-link-sempy==0.7.2->semantic-link) (12.0.1)\n",
      "Requirement already satisfied: scikit-learn>=1.3.0 in /home/trusted-service-user/cluster-env/trident_env/lib/python3.10/site-packages (from semantic-link-sempy==0.7.2->semantic-link) (1.3.0)\n",
      "Requirement already satisfied: setuptools>=68.2.2 in /home/trusted-service-user/cluster-env/trident_env/lib/python3.10/site-packages (from semantic-link-sempy==0.7.2->semantic-link) (68.2.2)\n",
      "Requirement already satisfied: tqdm>=4.66.1 in /home/trusted-service-user/cluster-env/trident_env/lib/python3.10/site-packages (from semantic-link-sempy==0.7.2->semantic-link) (4.66.1)\n",
      "Requirement already satisfied: cffi>=1.13 in /home/trusted-service-user/cluster-env/trident_env/lib/python3.10/site-packages (from clr-loader>=0.2.6->semantic-link-sempy==0.7.2->semantic-link) (1.16.0)\n",
      "Requirement already satisfied: numpy>=1.16.6 in /home/trusted-service-user/cluster-env/trident_env/lib/python3.10/site-packages (from pyarrow>=12.0.1->semantic-link-sempy==0.7.2->semantic-link) (1.24.3)\n",
      "Requirement already satisfied: scipy>=1.5.0 in /home/trusted-service-user/cluster-env/trident_env/lib/python3.10/site-packages (from scikit-learn>=1.3.0->semantic-link-sempy==0.7.2->semantic-link) (1.10.1)\n",
      "Requirement already satisfied: joblib>=1.1.1 in /home/trusted-service-user/cluster-env/trident_env/lib/python3.10/site-packages (from scikit-learn>=1.3.0->semantic-link-sempy==0.7.2->semantic-link) (1.3.2)\n",
      "Requirement already satisfied: threadpoolctl>=2.0.0 in /home/trusted-service-user/cluster-env/trident_env/lib/python3.10/site-packages (from scikit-learn>=1.3.0->semantic-link-sempy==0.7.2->semantic-link) (3.2.0)\n",
      "Collecting branca>=0.6.0 (from folium->semantic-link-functions-geopandas==0.7.2->semantic-link)\n",
      "  Downloading branca-0.7.1-py3-none-any.whl (25 kB)\n",
      "Requirement already satisfied: jinja2>=2.9 in /home/trusted-service-user/cluster-env/trident_env/lib/python3.10/site-packages (from folium->semantic-link-functions-geopandas==0.7.2->semantic-link) (3.1.2)\n",
      "Requirement already satisfied: requests in /home/trusted-service-user/cluster-env/trident_env/lib/python3.10/site-packages (from folium->semantic-link-functions-geopandas==0.7.2->semantic-link) (2.31.0)\n",
      "Collecting xyzservices (from folium->semantic-link-functions-geopandas==0.7.2->semantic-link)\n",
      "  Downloading xyzservices-2023.10.1-py3-none-any.whl (56 kB)\n",
      "\u001b[2K     \u001b[90m━━━━━━━━━━━━━━━━━━━━━━━━━━━━━━━━━━━━━━━━\u001b[0m \u001b[32m56.3/56.3 kB\u001b[0m \u001b[31m26.6 MB/s\u001b[0m eta \u001b[36m0:00:00\u001b[0m\n",
      "\u001b[?25hCollecting fiona>=1.8.21 (from geopandas->semantic-link-functions-geopandas==0.7.2->semantic-link)\n",
      "  Downloading fiona-1.9.6-cp310-cp310-manylinux2014_x86_64.whl (15.7 MB)\n",
      "\u001b[2K     \u001b[90m━━━━━━━━━━━━━━━━━━━━━━━━━━━━━━━━━━━━━━━\u001b[0m \u001b[32m15.7/15.7 MB\u001b[0m \u001b[31m132.2 MB/s\u001b[0m eta \u001b[36m0:00:00\u001b[0m00:01\u001b[0m00:01\u001b[0m\n",
      "\u001b[?25hRequirement already satisfied: packaging in /home/trusted-service-user/cluster-env/trident_env/lib/python3.10/site-packages (from geopandas->semantic-link-functions-geopandas==0.7.2->semantic-link) (23.2)\n",
      "Requirement already satisfied: pandas>=1.4.0 in /home/trusted-service-user/cluster-env/trident_env/lib/python3.10/site-packages (from geopandas->semantic-link-functions-geopandas==0.7.2->semantic-link) (2.0.3)\n",
      "Collecting pyproj>=3.3.0 (from geopandas->semantic-link-functions-geopandas==0.7.2->semantic-link)\n",
      "  Downloading pyproj-3.6.1-cp310-cp310-manylinux_2_17_x86_64.manylinux2014_x86_64.whl (8.3 MB)\n",
      "\u001b[2K     \u001b[90m━━━━━━━━━━━━━━━━━━━━━━━━━━━━━━━━━━━━━━━━\u001b[0m \u001b[32m8.3/8.3 MB\u001b[0m \u001b[31m142.0 MB/s\u001b[0m eta \u001b[36m0:00:00\u001b[0ma \u001b[36m0:00:01\u001b[0m\n",
      "\u001b[?25hCollecting shapely>=1.8.0 (from geopandas->semantic-link-functions-geopandas==0.7.2->semantic-link)\n",
      "  Downloading shapely-2.0.3-cp310-cp310-manylinux_2_17_x86_64.manylinux2014_x86_64.whl (2.5 MB)\n",
      "\u001b[2K     \u001b[90m━━━━━━━━━━━━━━━━━━━━━━━━━━━━━━━━━━━━━━━━\u001b[0m \u001b[32m2.5/2.5 MB\u001b[0m \u001b[31m175.6 MB/s\u001b[0m eta \u001b[36m0:00:00\u001b[0m\n",
      "\u001b[?25hRequirement already satisfied: python-dateutil in /home/trusted-service-user/cluster-env/trident_env/lib/python3.10/site-packages (from holidays->semantic-link-functions-holidays==0.7.2->semantic-link) (2.8.2)\n",
      "Requirement already satisfied: networkx>=2.7 in /home/trusted-service-user/cluster-env/trident_env/lib/python3.10/site-packages (from mapclassify->semantic-link-functions-geopandas==0.7.2->semantic-link) (3.2)\n",
      "Requirement already satisfied: pytz in /home/trusted-service-user/cluster-env/trident_env/lib/python3.10/site-packages (from meteostat->semantic-link-functions-meteostat==0.7.2->semantic-link) (2023.3.post1)\n",
      "Requirement already satisfied: pycparser in /home/trusted-service-user/cluster-env/trident_env/lib/python3.10/site-packages (from cffi>=1.13->clr-loader>=0.2.6->semantic-link-sempy==0.7.2->semantic-link) (2.21)\n",
      "Requirement already satisfied: attrs>=19.2.0 in /home/trusted-service-user/cluster-env/trident_env/lib/python3.10/site-packages (from fiona>=1.8.21->geopandas->semantic-link-functions-geopandas==0.7.2->semantic-link) (23.1.0)\n",
      "Requirement already satisfied: certifi in /home/trusted-service-user/cluster-env/trident_env/lib/python3.10/site-packages (from fiona>=1.8.21->geopandas->semantic-link-functions-geopandas==0.7.2->semantic-link) (2023.7.22)\n",
      "Requirement already satisfied: click~=8.0 in /home/trusted-service-user/cluster-env/trident_env/lib/python3.10/site-packages (from fiona>=1.8.21->geopandas->semantic-link-functions-geopandas==0.7.2->semantic-link) (8.1.7)\n",
      "Collecting click-plugins>=1.0 (from fiona>=1.8.21->geopandas->semantic-link-functions-geopandas==0.7.2->semantic-link)\n",
      "  Downloading click_plugins-1.1.1-py2.py3-none-any.whl (7.5 kB)\n",
      "Collecting cligj>=0.5 (from fiona>=1.8.21->geopandas->semantic-link-functions-geopandas==0.7.2->semantic-link)\n",
      "  Downloading cligj-0.7.2-py3-none-any.whl (7.1 kB)\n",
      "Requirement already satisfied: six in /home/trusted-service-user/cluster-env/trident_env/lib/python3.10/site-packages (from fiona>=1.8.21->geopandas->semantic-link-functions-geopandas==0.7.2->semantic-link) (1.16.0)\n",
      "Requirement already satisfied: MarkupSafe>=2.0 in /home/trusted-service-user/cluster-env/trident_env/lib/python3.10/site-packages (from jinja2>=2.9->folium->semantic-link-functions-geopandas==0.7.2->semantic-link) (2.1.3)\n",
      "Requirement already satisfied: tzdata>=2022.1 in /home/trusted-service-user/cluster-env/trident_env/lib/python3.10/site-packages (from pandas>=1.4.0->geopandas->semantic-link-functions-geopandas==0.7.2->semantic-link) (2023.3)\n",
      "Requirement already satisfied: charset-normalizer<4,>=2 in /home/trusted-service-user/cluster-env/trident_env/lib/python3.10/site-packages (from requests->folium->semantic-link-functions-geopandas==0.7.2->semantic-link) (3.3.1)\n",
      "Requirement already satisfied: idna<4,>=2.5 in /home/trusted-service-user/cluster-env/trident_env/lib/python3.10/site-packages (from requests->folium->semantic-link-functions-geopandas==0.7.2->semantic-link) (3.4)\n",
      "Requirement already satisfied: urllib3<3,>=1.21.1 in /home/trusted-service-user/cluster-env/trident_env/lib/python3.10/site-packages (from requests->folium->semantic-link-functions-geopandas==0.7.2->semantic-link) (1.26.17)\n",
      "Installing collected packages: phonenumbers, xyzservices, validators, shapely, pyproj, cligj, click-plugins, fiona, branca, meteostat, mapclassify, geopandas, folium, semantic-link-sempy, semantic-link-functions-validators, semantic-link-functions-phonenumbers, semantic-link-functions-meteostat, semantic-link-functions-holidays, semantic-link-functions-geopandas, semantic-link\n",
      "Successfully installed branca-0.7.1 click-plugins-1.1.1 cligj-0.7.2 fiona-1.9.6 folium-0.16.0 geopandas-0.14.3 mapclassify-2.6.1 meteostat-1.6.7 phonenumbers-8.13.33 pyproj-3.6.1 semantic-link-0.7.2 semantic-link-functions-geopandas-0.7.2 semantic-link-functions-holidays-0.7.2 semantic-link-functions-meteostat-0.7.2 semantic-link-functions-phonenumbers-0.7.2 semantic-link-functions-validators-0.7.2 semantic-link-sempy-0.7.2 shapely-2.0.3 validators-0.24.0 xyzservices-2023.10.1\n",
      "\n",
      "\u001b[1m[\u001b[0m\u001b[34;49mnotice\u001b[0m\u001b[1;39;49m]\u001b[0m\u001b[39;49m A new release of pip is available: \u001b[0m\u001b[31;49m23.1.2\u001b[0m\u001b[39;49m -> \u001b[0m\u001b[32;49m24.0\u001b[0m\n",
      "\u001b[1m[\u001b[0m\u001b[34;49mnotice\u001b[0m\u001b[1;39;49m]\u001b[0m\u001b[39;49m To update, run: \u001b[0m\u001b[32;49mpython -m pip install --upgrade pip\u001b[0m\n",
      "Note: you may need to restart the kernel to use updated packages.\n",
      "Warning: PySpark kernel has been restarted to use updated packages.\n",
      "\n"
     ]
    }
   ],
   "source": [
    "# Install the library or use the myEnv created from earlier\n",
    "%pip install semantic-link"
   ]
  },
  {
   "cell_type": "code",
   "execution_count": null,
   "id": "09eda167-8946-45ea-8f08-540ce546f13c",
   "metadata": {
    "jupyter": {
     "outputs_hidden": false,
     "source_hidden": false
    },
    "nteract": {
     "transient": {
      "deleting": false
     }
    }
   },
   "outputs": [
    {
     "data": {
      "application/vnd.livy.statement-meta+json": {
       "execution_finish_time": "2024-03-26T23:26:29.3533217Z",
       "execution_start_time": "2024-03-26T23:26:16.8240311Z",
       "livy_statement_state": "available",
       "parent_msg_id": "bae53f5f-d8b9-4cb2-ab7d-cfbf0098b5b6",
       "queued_time": "2024-03-26T23:25:36.3945491Z",
       "session_id": "3182f88b-3979-4468-bd9f-ef63cd3458cf",
       "session_start_time": null,
       "spark_pool": null,
       "state": "finished",
       "statement_id": 10
      },
      "text/plain": [
       "StatementMeta(, 3182f88b-3979-4468-bd9f-ef63cd3458cf, 10, Finished, Available)"
      ]
     },
     "metadata": {},
     "output_type": "display_data"
    }
   ],
   "source": [
    "# make sure we can use %%dax\n",
    "%load_ext sempy"
   ]
  },
  {
   "cell_type": "markdown",
   "id": "bffef0ff-1021-4062-a35c-e0baf73b398a",
   "metadata": {
    "nteract": {
     "transient": {
      "deleting": false
     }
    }
   },
   "source": [
    "## Step 2: Import Semantic Link\n",
    "\n",
    "Semantic link is a feature that allows you to establish a connection between semantic models and Synapse Data Science in Microsoft Fabric.\n",
    "\n",
    "![Overview of semantic link](https://learn.microsoft.com/en-us/fabric/data-science/media/semantic-link-overview/data-flow-with-semantic-link.png)\n",
    "\n",
    "With semantic link, you can use semantic models from Power BI in the Data Science experience to perform tasks such as in-depth statistical analysis and predictive modeling with machine learning techniques. The output of your data science work can be stored in OneLake using Apache Spark and ingested into Power BI using Direct Lake.\n",
    "\n",
    "You can learn more about Semantic Link functions using [What is semantic link?](https://learn.microsoft.com/en-us/fabric/data-science/semantic-link-overview)."
   ]
  },
  {
   "cell_type": "code",
   "execution_count": null,
   "id": "6e8a3d60-368d-464c-aa88-df498b8318cd",
   "metadata": {
    "jupyter": {
     "outputs_hidden": false,
     "source_hidden": false
    },
    "nteract": {
     "transient": {
      "deleting": false
     }
    }
   },
   "outputs": [
    {
     "data": {
      "application/vnd.livy.statement-meta+json": {
       "execution_finish_time": "2024-03-26T23:26:30.1757757Z",
       "execution_start_time": "2024-03-26T23:26:29.9065501Z",
       "livy_statement_state": "available",
       "parent_msg_id": "5e8853fc-032a-4ee2-8439-ca24b89aa532",
       "queued_time": "2024-03-26T23:25:36.3951641Z",
       "session_id": "3182f88b-3979-4468-bd9f-ef63cd3458cf",
       "session_start_time": null,
       "spark_pool": null,
       "state": "finished",
       "statement_id": 11
      },
      "text/plain": [
       "StatementMeta(, 3182f88b-3979-4468-bd9f-ef63cd3458cf, 11, Finished, Available)"
      ]
     },
     "metadata": {},
     "output_type": "display_data"
    }
   ],
   "source": [
    "import sempy.fabric as fabric\n",
    "from sempy.relationships import plot_relationship_metadata\n",
    "from sempy.fabric._client._tools import import_pbix_sample"
   ]
  },
  {
   "cell_type": "markdown",
   "id": "c98fb8a1-ec67-455a-90ef-d8adb46eb11f",
   "metadata": {
    "nteract": {
     "transient": {
      "deleting": false
     }
    }
   },
   "source": [
    "## Step 3: Let's explore our model"
   ]
  },
  {
   "cell_type": "code",
   "execution_count": null,
   "id": "d5af9642-5b55-44c5-baba-42c624dbd205",
   "metadata": {
    "jupyter": {
     "outputs_hidden": false,
     "source_hidden": false
    },
    "nteract": {
     "transient": {
      "deleting": false
     }
    }
   },
   "outputs": [
    {
     "data": {
      "application/vnd.livy.statement-meta+json": {
       "execution_finish_time": "2024-03-26T23:27:10.0081545Z",
       "execution_start_time": "2024-03-26T23:26:30.7118681Z",
       "livy_statement_state": "available",
       "parent_msg_id": "37263f1d-d601-4ead-a080-1b6e06af1fba",
       "queued_time": "2024-03-26T23:25:36.3957053Z",
       "session_id": "3182f88b-3979-4468-bd9f-ef63cd3458cf",
       "session_start_time": null,
       "spark_pool": null,
       "state": "finished",
       "statement_id": 12
      },
      "text/plain": [
       "StatementMeta(, 3182f88b-3979-4468-bd9f-ef63cd3458cf, 12, Finished, Available)"
      ]
     },
     "metadata": {},
     "output_type": "display_data"
    },
    {
     "name": "stderr",
     "output_type": "stream",
     "text": [
      "Uploading Power BI semantic model 'Churn': 100%|██████████| 1/1 [00:35<00:00, 35.07s/it]\n"
     ]
    }
   ],
   "source": [
    "# Load our Churn dataset - a PBIX sample has been pre-configured with the relationships and semantic info\n",
    "dataset = 'Churn'\n",
    "import_pbix_sample([dataset])"
   ]
  },
  {
   "cell_type": "code",
   "execution_count": null,
   "id": "52a41c94-c496-44c4-87aa-67aa899f6f77",
   "metadata": {
    "jupyter": {
     "outputs_hidden": false,
     "source_hidden": false
    },
    "nteract": {
     "transient": {
      "deleting": false
     }
    }
   },
   "outputs": [
    {
     "data": {
      "application/vnd.livy.statement-meta+json": {
       "execution_finish_time": "2024-03-26T23:27:18.9794693Z",
       "execution_start_time": "2024-03-26T23:27:10.5107682Z",
       "livy_statement_state": "available",
       "parent_msg_id": "4a5136ef-1bf7-41fe-8d2b-24eb06b07f2c",
       "queued_time": "2024-03-26T23:25:36.3962396Z",
       "session_id": "3182f88b-3979-4468-bd9f-ef63cd3458cf",
       "session_start_time": null,
       "spark_pool": null,
       "state": "finished",
       "statement_id": 13
      },
      "text/plain": [
       "StatementMeta(, 3182f88b-3979-4468-bd9f-ef63cd3458cf, 13, Finished, Available)"
      ]
     },
     "metadata": {},
     "output_type": "display_data"
    },
    {
     "data": {
      "image/svg+xml": [
       "<?xml version=\"1.0\" encoding=\"UTF-8\" standalone=\"no\"?>\n",
       "<!DOCTYPE svg PUBLIC \"-//W3C//DTD SVG 1.1//EN\"\n",
       " \"http://www.w3.org/Graphics/SVG/1.1/DTD/svg11.dtd\">\n",
       "<!-- Generated by graphviz version 8.1.0 (20230707.2238)\n",
       " -->\n",
       "<!-- Pages: 1 -->\n",
       "<svg width=\"1017pt\" height=\"332pt\"\n",
       " viewBox=\"0.00 0.00 1016.75 332.38\" xmlns=\"http://www.w3.org/2000/svg\" xmlns:xlink=\"http://www.w3.org/1999/xlink\">\n",
       "<g id=\"graph0\" class=\"graph\" transform=\"scale(1 1) rotate(0) translate(4 328.38)\">\n",
       "<polygon fill=\"white\" stroke=\"none\" points=\"-4,4 -4,-328.38 1012.75,-328.38 1012.75,4 -4,4\"/>\n",
       "<!-- Customers -->\n",
       "<g id=\"node1\" class=\"node\">\n",
       "<title>Customers</title>\n",
       "<polygon fill=\"none\" stroke=\"black\" points=\"548.62,-126.75 548.62,-148.5 622.12,-148.5 622.12,-126.75 548.62,-126.75\"/>\n",
       "<text text-anchor=\"start\" x=\"555\" y=\"-133.2\" font-family=\"Times,serif\" font-weight=\"bold\" font-size=\"14.00\">Customers</text>\n",
       "<polygon fill=\"none\" stroke=\"black\" points=\"548.62,-105 548.62,-126.75 622.12,-126.75 622.12,-105 548.62,-105\"/>\n",
       "<text text-anchor=\"start\" x=\"551.62\" y=\"-110.45\" font-family=\"Times,serif\" font-size=\"14.00\">CustomerId</text>\n",
       "</g>\n",
       "<!-- Customer Products -->\n",
       "<g id=\"node2\" class=\"node\">\n",
       "<title>Customer Products</title>\n",
       "<polygon fill=\"none\" stroke=\"black\" points=\"846.25,-298.62 846.25,-320.38 967,-320.38 967,-298.62 846.25,-298.62\"/>\n",
       "<text text-anchor=\"start\" x=\"849.25\" y=\"-305.07\" font-family=\"Times,serif\" font-weight=\"bold\" font-size=\"14.00\">Customer Products</text>\n",
       "<polygon fill=\"none\" stroke=\"black\" points=\"846.25,-276.88 846.25,-298.62 967,-298.62 967,-276.88 846.25,-276.88\"/>\n",
       "<text text-anchor=\"start\" x=\"849.25\" y=\"-282.32\" font-family=\"Times,serif\" font-size=\"14.00\">CustomerId</text>\n",
       "<polygon fill=\"none\" stroke=\"black\" points=\"846.25,-255.12 846.25,-276.88 967,-276.88 967,-255.12 846.25,-255.12\"/>\n",
       "<text text-anchor=\"start\" x=\"849.25\" y=\"-260.57\" font-family=\"Times,serif\" font-size=\"14.00\">ProductId</text>\n",
       "</g>\n",
       "<!-- Customers&#45;&gt;Customer Products -->\n",
       "<g id=\"edge1\" class=\"edge\">\n",
       "<title>Customers:CustomerId&#45;&gt;Customer Products:CustomerId</title>\n",
       "<path fill=\"none\" stroke=\"black\" d=\"M623.38,-115.75C692.51,-115.75 717.21,-125.39 768.5,-171.75 811.47,-210.59 787.36,-278.29 834.76,-286.85\"/>\n",
       "<polygon fill=\"black\" stroke=\"black\" points=\"834.37,-290.41 844.62,-287.75 834.95,-283.44 834.37,-290.41\"/>\n",
       "</g>\n",
       "<!-- Credit History -->\n",
       "<g id=\"node4\" class=\"node\">\n",
       "<title>Credit History</title>\n",
       "<polygon fill=\"none\" stroke=\"black\" points=\"812.5,-207.62 812.5,-229.38 1000.75,-229.38 1000.75,-207.62 812.5,-207.62\"/>\n",
       "<text text-anchor=\"start\" x=\"859.38\" y=\"-214.07\" font-family=\"Times,serif\" font-weight=\"bold\" font-size=\"14.00\">Credit History</text>\n",
       "<polygon fill=\"none\" stroke=\"black\" points=\"812.5,-185.88 812.5,-207.62 1000.75,-207.62 1000.75,-185.88 812.5,-185.88\"/>\n",
       "<text text-anchor=\"start\" x=\"815.5\" y=\"-191.32\" font-family=\"Times,serif\" font-size=\"14.00\">Credit Score Reporting Date</text>\n",
       "<polygon fill=\"none\" stroke=\"black\" points=\"812.5,-164.12 812.5,-185.88 1000.75,-185.88 1000.75,-164.12 812.5,-164.12\"/>\n",
       "<text text-anchor=\"start\" x=\"815.5\" y=\"-169.57\" font-family=\"Times,serif\" font-size=\"14.00\">CustomerId</text>\n",
       "</g>\n",
       "<!-- Customers&#45;&gt;Credit History -->\n",
       "<g id=\"edge3\" class=\"edge\">\n",
       "<title>Customers:CustomerId&#45;&gt;Credit History:CustomerId</title>\n",
       "<path fill=\"none\" stroke=\"black\" d=\"M623.38,-115.75C707.29,-115.75 722.7,-169.79 800.72,-174.43\"/>\n",
       "<polygon fill=\"black\" stroke=\"black\" points=\"800.53,-177.96 810.62,-174.75 800.73,-170.96 800.53,-177.96\"/>\n",
       "</g>\n",
       "<!-- Accounts -->\n",
       "<g id=\"node5\" class=\"node\">\n",
       "<title>Accounts</title>\n",
       "<polygon fill=\"none\" stroke=\"black\" points=\"869.88,-116.75 869.88,-138.5 943.38,-138.5 943.38,-116.75 869.88,-116.75\"/>\n",
       "<text text-anchor=\"start\" x=\"879.62\" y=\"-123.2\" font-family=\"Times,serif\" font-weight=\"bold\" font-size=\"14.00\">Accounts</text>\n",
       "<polygon fill=\"none\" stroke=\"black\" points=\"869.88,-95 869.88,-116.75 943.38,-116.75 943.38,-95 869.88,-95\"/>\n",
       "<text text-anchor=\"start\" x=\"872.88\" y=\"-100.45\" font-family=\"Times,serif\" font-size=\"14.00\">CustomerId</text>\n",
       "</g>\n",
       "<!-- Customers&#45;&gt;Accounts -->\n",
       "<g id=\"edge4\" class=\"edge\">\n",
       "<title>Customers:CustomerId&#45;&gt;Accounts:CustomerId</title>\n",
       "<path fill=\"none\" stroke=\"black\" d=\"M634.28,-115.72C730.89,-115.1 761.15,-106.4 857.79,-105.78\"/>\n",
       "<polygon fill=\"black\" stroke=\"black\" points=\"634.36,-112.22 624.38,-115.75 634.39,-119.22 634.36,-112.22\"/>\n",
       "<polygon fill=\"black\" stroke=\"black\" points=\"857.64,-109.28 867.62,-105.75 857.61,-102.28 857.64,-109.28\"/>\n",
       "</g>\n",
       "<!-- Transactions -->\n",
       "<g id=\"node8\" class=\"node\">\n",
       "<title>Transactions</title>\n",
       "<polygon fill=\"none\" stroke=\"black\" points=\"849.62,-47.62 849.62,-69.38 963.62,-69.38 963.62,-47.62 849.62,-47.62\"/>\n",
       "<text text-anchor=\"start\" x=\"866.12\" y=\"-54.08\" font-family=\"Times,serif\" font-weight=\"bold\" font-size=\"14.00\">Transactions</text>\n",
       "<polygon fill=\"none\" stroke=\"black\" points=\"849.62,-25.88 849.62,-47.62 963.62,-47.62 963.62,-25.88 849.62,-25.88\"/>\n",
       "<text text-anchor=\"start\" x=\"852.62\" y=\"-31.32\" font-family=\"Times,serif\" font-size=\"14.00\">CustomerId</text>\n",
       "<polygon fill=\"none\" stroke=\"black\" points=\"849.62,-4.12 849.62,-25.88 963.62,-25.88 963.62,-4.12 849.62,-4.12\"/>\n",
       "<text text-anchor=\"start\" x=\"852.62\" y=\"-9.57\" font-family=\"Times,serif\" font-size=\"14.00\">Transaction Date</text>\n",
       "</g>\n",
       "<!-- Customers&#45;&gt;Transactions -->\n",
       "<g id=\"edge8\" class=\"edge\">\n",
       "<title>Customers:CustomerId&#45;&gt;Transactions:CustomerId</title>\n",
       "<path fill=\"none\" stroke=\"black\" d=\"M623.38,-115.75C673.1,-115.75 780.94,-46.32 837.94,-37.64\"/>\n",
       "<polygon fill=\"black\" stroke=\"black\" points=\"837.95,-41.07 847.62,-36.75 837.37,-34.09 837.95,-41.07\"/>\n",
       "</g>\n",
       "<!-- Products -->\n",
       "<g id=\"node3\" class=\"node\">\n",
       "<title>Products</title>\n",
       "<polygon fill=\"none\" stroke=\"black\" points=\"552,-276.75 552,-298.5 618.75,-298.5 618.75,-276.75 552,-276.75\"/>\n",
       "<text text-anchor=\"start\" x=\"558.38\" y=\"-283.2\" font-family=\"Times,serif\" font-weight=\"bold\" font-size=\"14.00\">Products</text>\n",
       "<polygon fill=\"none\" stroke=\"black\" points=\"552,-255 552,-276.75 618.75,-276.75 618.75,-255 552,-255\"/>\n",
       "<text text-anchor=\"start\" x=\"555\" y=\"-260.45\" font-family=\"Times,serif\" font-size=\"14.00\">ProductId</text>\n",
       "</g>\n",
       "<!-- Products&#45;&gt;Customer Products -->\n",
       "<g id=\"edge2\" class=\"edge\">\n",
       "<title>Products:ProductId&#45;&gt;Customer Products:ProductId</title>\n",
       "<path fill=\"none\" stroke=\"black\" d=\"M619.38,-265.75C716.2,-265.75 743.1,-265.75 834.73,-265.75\"/>\n",
       "<polygon fill=\"black\" stroke=\"black\" points=\"834.63,-269.25 844.62,-265.75 834.62,-262.25 834.63,-269.25\"/>\n",
       "</g>\n",
       "<!-- LocalDateTable_5370b966&#45;33be&#45;45c4&#45;b490&#45;861e4fc41bec -->\n",
       "<g id=\"node6\" class=\"node\">\n",
       "<title>LocalDateTable_5370b966&#45;33be&#45;45c4&#45;b490&#45;861e4fc41bec</title>\n",
       "<polygon fill=\"none\" stroke=\"black\" points=\"8,-25.75 8,-47.5 358.25,-47.5 358.25,-25.75 8,-25.75\"/>\n",
       "<text text-anchor=\"start\" x=\"11\" y=\"-32.2\" font-family=\"Times,serif\" font-weight=\"bold\" font-size=\"14.00\">LocalDateTable_5370b966&#45;33be&#45;45c4&#45;b490&#45;861e4fc41bec</text>\n",
       "<polygon fill=\"none\" stroke=\"black\" points=\"8,-4 8,-25.75 358.25,-25.75 358.25,-4 8,-4\"/>\n",
       "<text text-anchor=\"start\" x=\"11\" y=\"-9.45\" font-family=\"Times,serif\" font-size=\"14.00\">Date</text>\n",
       "</g>\n",
       "<!-- Calendar -->\n",
       "<g id=\"node7\" class=\"node\">\n",
       "<title>Calendar</title>\n",
       "<polygon fill=\"none\" stroke=\"black\" points=\"555.38,-25.75 555.38,-47.5 615.38,-47.5 615.38,-25.75 555.38,-25.75\"/>\n",
       "<text text-anchor=\"start\" x=\"558.38\" y=\"-32.2\" font-family=\"Times,serif\" font-weight=\"bold\" font-size=\"14.00\">Calendar</text>\n",
       "<polygon fill=\"none\" stroke=\"black\" points=\"555.38,-4 555.38,-25.75 615.38,-25.75 615.38,-4 555.38,-4\"/>\n",
       "<text text-anchor=\"start\" x=\"558.38\" y=\"-9.45\" font-family=\"Times,serif\" font-size=\"14.00\">Date</text>\n",
       "</g>\n",
       "<!-- LocalDateTable_5370b966&#45;33be&#45;45c4&#45;b490&#45;861e4fc41bec&#45;&gt;Calendar -->\n",
       "<g id=\"edge5\" class=\"edge\">\n",
       "<title>LocalDateTable_5370b966&#45;33be&#45;45c4&#45;b490&#45;861e4fc41bec:Date&#45;&gt;Calendar:Date</title>\n",
       "<path fill=\"none\" stroke=\"black\" d=\"M359.12,-14.75C442.17,-14.75 465.61,-14.75 543.54,-14.75\"/>\n",
       "<polygon fill=\"black\" stroke=\"black\" points=\"543.38,-18.25 553.38,-14.75 543.37,-11.25 543.38,-18.25\"/>\n",
       "</g>\n",
       "<!-- Calendar&#45;&gt;Transactions -->\n",
       "<g id=\"edge6\" class=\"edge\">\n",
       "<title>Calendar:Date&#45;&gt;Transactions:Transaction Date</title>\n",
       "<path fill=\"none\" stroke=\"black\" d=\"M616.38,-14.75C715.87,-14.75 743.44,-14.75 837.73,-14.75\"/>\n",
       "<polygon fill=\"black\" stroke=\"black\" points=\"837.63,-18.25 847.62,-14.75 837.62,-11.25 837.63,-18.25\"/>\n",
       "</g>\n",
       "<!-- LocalDateTable_d28d75e7&#45;bdbc&#45;4b16&#45;bc89&#45;d431f679c0d7 -->\n",
       "<g id=\"node9\" class=\"node\">\n",
       "<title>LocalDateTable_d28d75e7&#45;bdbc&#45;4b16&#45;bc89&#45;d431f679c0d7</title>\n",
       "<polygon fill=\"none\" stroke=\"black\" points=\"410.25,-206.75 410.25,-228.5 760.5,-228.5 760.5,-206.75 410.25,-206.75\"/>\n",
       "<text text-anchor=\"start\" x=\"413.25\" y=\"-213.2\" font-family=\"Times,serif\" font-weight=\"bold\" font-size=\"14.00\">LocalDateTable_d28d75e7&#45;bdbc&#45;4b16&#45;bc89&#45;d431f679c0d7</text>\n",
       "<polygon fill=\"none\" stroke=\"black\" points=\"410.25,-185 410.25,-206.75 760.5,-206.75 760.5,-185 410.25,-185\"/>\n",
       "<text text-anchor=\"start\" x=\"413.25\" y=\"-190.45\" font-family=\"Times,serif\" font-size=\"14.00\">Date</text>\n",
       "</g>\n",
       "<!-- LocalDateTable_d28d75e7&#45;bdbc&#45;4b16&#45;bc89&#45;d431f679c0d7&#45;&gt;Credit History -->\n",
       "<g id=\"edge7\" class=\"edge\">\n",
       "<title>LocalDateTable_d28d75e7&#45;bdbc&#45;4b16&#45;bc89&#45;d431f679c0d7:Date&#45;&gt;Credit History:Credit Score Reporting Date</title>\n",
       "<path fill=\"none\" stroke=\"black\" d=\"M761.38,-195.75C779.7,-195.75 786.74,-196.42 801.01,-196.66\"/>\n",
       "<polygon fill=\"black\" stroke=\"black\" points=\"800.6,-200.17 810.62,-196.75 800.65,-193.17 800.6,-200.17\"/>\n",
       "</g>\n",
       "</g>\n",
       "</svg>\n"
      ],
      "text/plain": [
       "<graphviz.graphs.Digraph at 0x7c95cd8196c0>"
      ]
     },
     "execution_count": null,
     "metadata": {},
     "output_type": "execute_result"
    }
   ],
   "source": [
    "df_relationships = fabric.list_relationships(dataset)\n",
    "plot_relationship_metadata(df_relationships)"
   ]
  },
  {
   "cell_type": "code",
   "execution_count": null,
   "id": "252e75c2-da4b-42af-8404-1fa54f47d2a7",
   "metadata": {
    "jupyter": {
     "outputs_hidden": false,
     "source_hidden": false
    },
    "nteract": {
     "transient": {
      "deleting": false
     }
    }
   },
   "outputs": [
    {
     "data": {
      "application/vnd.livy.statement-meta+json": {
       "execution_finish_time": "2024-03-26T23:27:19.7797837Z",
       "execution_start_time": "2024-03-26T23:27:19.5001197Z",
       "livy_statement_state": "available",
       "parent_msg_id": "a0e3f76c-b808-42e3-bcc4-4e04ad86b3b2",
       "queued_time": "2024-03-26T23:25:36.3971688Z",
       "session_id": "3182f88b-3979-4468-bd9f-ef63cd3458cf",
       "session_start_time": null,
       "spark_pool": null,
       "state": "finished",
       "statement_id": 14
      },
      "text/plain": [
       "StatementMeta(, 3182f88b-3979-4468-bd9f-ef63cd3458cf, 14, Finished, Available)"
      ]
     },
     "metadata": {},
     "output_type": "display_data"
    },
    {
     "data": {
      "text/html": [
       "<div>\n",
       "<style scoped>\n",
       "    .dataframe tbody tr th:only-of-type {\n",
       "        vertical-align: middle;\n",
       "    }\n",
       "\n",
       "    .dataframe tbody tr th {\n",
       "        vertical-align: top;\n",
       "    }\n",
       "\n",
       "    .dataframe thead th {\n",
       "        text-align: right;\n",
       "    }\n",
       "</style>\n",
       "<table border=\"1\" class=\"dataframe\">\n",
       "  <thead>\n",
       "    <tr style=\"text-align: right;\">\n",
       "      <th></th>\n",
       "      <th>Table Name</th>\n",
       "      <th>Measure Name</th>\n",
       "      <th>Measure Expression</th>\n",
       "      <th>Measure Data Type</th>\n",
       "      <th>Measure Hidden</th>\n",
       "      <th>Measure Display Folder</th>\n",
       "      <th>Measure Description</th>\n",
       "      <th>Format String</th>\n",
       "      <th>Data Category</th>\n",
       "      <th>Detail Rows Definition</th>\n",
       "      <th>Format String Definition</th>\n",
       "    </tr>\n",
       "  </thead>\n",
       "  <tbody>\n",
       "    <tr>\n",
       "      <th>0</th>\n",
       "      <td>Customer Products</td>\n",
       "      <td>Number Of Products</td>\n",
       "      <td>COUNTROWS('Customer Products')</td>\n",
       "      <td>Int64</td>\n",
       "      <td>False</td>\n",
       "      <td></td>\n",
       "      <td></td>\n",
       "      <td>0</td>\n",
       "      <td></td>\n",
       "      <td>None</td>\n",
       "      <td>None</td>\n",
       "    </tr>\n",
       "    <tr>\n",
       "      <th>1</th>\n",
       "      <td>Credit History</td>\n",
       "      <td>Last Credit Score</td>\n",
       "      <td>MAXX(\\n    TOPN(\\n        1,\\n        'Credit ...</td>\n",
       "      <td>Int64</td>\n",
       "      <td>False</td>\n",
       "      <td></td>\n",
       "      <td></td>\n",
       "      <td>0</td>\n",
       "      <td></td>\n",
       "      <td>None</td>\n",
       "      <td>None</td>\n",
       "    </tr>\n",
       "    <tr>\n",
       "      <th>2</th>\n",
       "      <td>Transactions</td>\n",
       "      <td>Balance</td>\n",
       "      <td>SUM(Transactions[Amount])</td>\n",
       "      <td>Decimal</td>\n",
       "      <td>False</td>\n",
       "      <td></td>\n",
       "      <td></td>\n",
       "      <td>\\$#,0.###############;(\\$#,0.###############);...</td>\n",
       "      <td></td>\n",
       "      <td>None</td>\n",
       "      <td>None</td>\n",
       "    </tr>\n",
       "  </tbody>\n",
       "</table>\n",
       "</div>"
      ],
      "text/plain": [
       "          Table Name        Measure Name  \\\n",
       "0  Customer Products  Number Of Products   \n",
       "1     Credit History   Last Credit Score   \n",
       "2       Transactions             Balance   \n",
       "\n",
       "                                  Measure Expression Measure Data Type  \\\n",
       "0                     COUNTROWS('Customer Products')             Int64   \n",
       "1  MAXX(\\n    TOPN(\\n        1,\\n        'Credit ...             Int64   \n",
       "2                          SUM(Transactions[Amount])           Decimal   \n",
       "\n",
       "   Measure Hidden Measure Display Folder Measure Description  \\\n",
       "0           False                                              \n",
       "1           False                                              \n",
       "2           False                                              \n",
       "\n",
       "                                       Format String Data Category  \\\n",
       "0                                                  0                 \n",
       "1                                                  0                 \n",
       "2  \\$#,0.###############;(\\$#,0.###############);...                 \n",
       "\n",
       "  Detail Rows Definition Format String Definition  \n",
       "0                   None                     None  \n",
       "1                   None                     None  \n",
       "2                   None                     None  "
      ]
     },
     "execution_count": null,
     "metadata": {},
     "output_type": "execute_result"
    }
   ],
   "source": [
    "fabric.list_measures(dataset)"
   ]
  },
  {
   "cell_type": "code",
   "execution_count": null,
   "id": "32f3f0b3-2178-4cbb-a5bc-00be797f4185",
   "metadata": {
    "jupyter": {
     "outputs_hidden": false,
     "source_hidden": false
    },
    "nteract": {
     "transient": {
      "deleting": false
     }
    }
   },
   "outputs": [
    {
     "data": {
      "application/vnd.livy.statement-meta+json": {
       "execution_finish_time": "2024-03-26T23:27:23.9644297Z",
       "execution_start_time": "2024-03-26T23:27:20.2806463Z",
       "livy_statement_state": "available",
       "parent_msg_id": "61455659-afe2-452b-b041-c92f23b5e663",
       "queued_time": "2024-03-26T23:25:36.3979241Z",
       "session_id": "3182f88b-3979-4468-bd9f-ef63cd3458cf",
       "session_start_time": null,
       "spark_pool": null,
       "state": "finished",
       "statement_id": 15
      },
      "text/plain": [
       "StatementMeta(, 3182f88b-3979-4468-bd9f-ef63cd3458cf, 15, Finished, Available)"
      ]
     },
     "metadata": {},
     "output_type": "display_data"
    },
    {
     "data": {
      "text/plain": [
       "<Axes: xlabel='Geography'>"
      ]
     },
     "execution_count": null,
     "metadata": {},
     "output_type": "execute_result"
    },
    {
     "data": {
      "image/png": "[encoded data removed]",
      "text/plain": [
       "<Figure size 640x480 with 1 Axes>"
      ]
     },
     "metadata": {},
     "output_type": "display_data"
    }
   ],
   "source": [
    "# Outstanding balances per country\n",
    "\n",
    "df_balance_by_geography = fabric.evaluate_measure(\n",
    "    dataset,\n",
    "    [\"Balance\"],\n",
    "    [\"Customers[Geography]\"])\n",
    "\n",
    "df_balance_by_geography.set_index('Geography').plot.bar()"
   ]
  },
  {
   "cell_type": "code",
   "execution_count": null,
   "id": "83874fcf-2db2-4873-bc01-857af7d7efca",
   "metadata": {
    "jupyter": {
     "outputs_hidden": false,
     "source_hidden": false
    },
    "nteract": {
     "transient": {
      "deleting": false
     }
    }
   },
   "outputs": [
    {
     "data": {
      "application/vnd.livy.statement-meta+json": {
       "execution_finish_time": "2024-03-26T23:27:28.0314273Z",
       "execution_start_time": "2024-03-26T23:27:24.4528542Z",
       "livy_statement_state": "available",
       "parent_msg_id": "61fec536-d2a9-4737-b3ad-7dd342a1f3eb",
       "queued_time": "2024-03-26T23:25:36.3986654Z",
       "session_id": "3182f88b-3979-4468-bd9f-ef63cd3458cf",
       "session_start_time": null,
       "spark_pool": null,
       "state": "finished",
       "statement_id": 16
      },
      "text/plain": [
       "StatementMeta(, 3182f88b-3979-4468-bd9f-ef63cd3458cf, 16, Finished, Available)"
      ]
     },
     "metadata": {},
     "output_type": "display_data"
    },
    {
     "data": {
      "text/html": [
       "<div>\n",
       "<style scoped>\n",
       "    .dataframe tbody tr th:only-of-type {\n",
       "        vertical-align: middle;\n",
       "    }\n",
       "\n",
       "    .dataframe tbody tr th {\n",
       "        vertical-align: top;\n",
       "    }\n",
       "\n",
       "    .dataframe thead th {\n",
       "        text-align: right;\n",
       "    }\n",
       "</style>\n",
       "<table border=\"1\" class=\"dataframe\">\n",
       "  <thead>\n",
       "    <tr style=\"text-align: right;\">\n",
       "      <th></th>\n",
       "      <th>CustomerId</th>\n",
       "      <th>Number Of Products</th>\n",
       "      <th>Last Credit Score</th>\n",
       "      <th>Balance</th>\n",
       "    </tr>\n",
       "  </thead>\n",
       "  <tbody>\n",
       "    <tr>\n",
       "      <th>0</th>\n",
       "      <td>15565701</td>\n",
       "      <td>1</td>\n",
       "      <td>698</td>\n",
       "      <td>161993.89</td>\n",
       "    </tr>\n",
       "    <tr>\n",
       "      <th>1</th>\n",
       "      <td>15565706</td>\n",
       "      <td>1</td>\n",
       "      <td>612</td>\n",
       "      <td>0.0</td>\n",
       "    </tr>\n",
       "    <tr>\n",
       "      <th>2</th>\n",
       "      <td>15565714</td>\n",
       "      <td>2</td>\n",
       "      <td>601</td>\n",
       "      <td>64430.06</td>\n",
       "    </tr>\n",
       "    <tr>\n",
       "      <th>3</th>\n",
       "      <td>15565779</td>\n",
       "      <td>1</td>\n",
       "      <td>627</td>\n",
       "      <td>57809.32</td>\n",
       "    </tr>\n",
       "    <tr>\n",
       "      <th>4</th>\n",
       "      <td>15565796</td>\n",
       "      <td>1</td>\n",
       "      <td>745</td>\n",
       "      <td>96048.55</td>\n",
       "    </tr>\n",
       "    <tr>\n",
       "      <th>...</th>\n",
       "      <td>...</td>\n",
       "      <td>...</td>\n",
       "      <td>...</td>\n",
       "      <td>...</td>\n",
       "    </tr>\n",
       "    <tr>\n",
       "      <th>9995</th>\n",
       "      <td>15815628</td>\n",
       "      <td>1</td>\n",
       "      <td>711</td>\n",
       "      <td>113899.92</td>\n",
       "    </tr>\n",
       "    <tr>\n",
       "      <th>9996</th>\n",
       "      <td>15815645</td>\n",
       "      <td>2</td>\n",
       "      <td>481</td>\n",
       "      <td>152303.66</td>\n",
       "    </tr>\n",
       "    <tr>\n",
       "      <th>9997</th>\n",
       "      <td>15815656</td>\n",
       "      <td>1</td>\n",
       "      <td>541</td>\n",
       "      <td>100116.67</td>\n",
       "    </tr>\n",
       "    <tr>\n",
       "      <th>9998</th>\n",
       "      <td>15815660</td>\n",
       "      <td>1</td>\n",
       "      <td>758</td>\n",
       "      <td>154139.45</td>\n",
       "    </tr>\n",
       "    <tr>\n",
       "      <th>9999</th>\n",
       "      <td>15815690</td>\n",
       "      <td>1</td>\n",
       "      <td>614</td>\n",
       "      <td>113348.5</td>\n",
       "    </tr>\n",
       "  </tbody>\n",
       "</table>\n",
       "<p>10000 rows × 4 columns</p>\n",
       "</div>"
      ],
      "text/plain": [
       "      CustomerId  Number Of Products  Last Credit Score    Balance\n",
       "0       15565701                   1                698  161993.89\n",
       "1       15565706                   1                612        0.0\n",
       "2       15565714                   2                601   64430.06\n",
       "3       15565779                   1                627   57809.32\n",
       "4       15565796                   1                745   96048.55\n",
       "...          ...                 ...                ...        ...\n",
       "9995    15815628                   1                711  113899.92\n",
       "9996    15815645                   2                481  152303.66\n",
       "9997    15815656                   1                541  100116.67\n",
       "9998    15815660                   1                758  154139.45\n",
       "9999    15815690                   1                614   113348.5\n",
       "\n",
       "[10000 rows x 4 columns]"
      ]
     },
     "execution_count": null,
     "metadata": {},
     "output_type": "execute_result"
    }
   ],
   "source": [
    "df_measures = fabric.evaluate_measure(\n",
    "    dataset,\n",
    "    [\"Number Of Products\", \"Last Credit Score\", \"Balance\"],\n",
    "    [\"Customers[CustomerId]\"])\n",
    "\n",
    "df_measures\n"
   ]
  },
  {
   "cell_type": "code",
   "execution_count": null,
   "id": "66a125a3-fdad-40bf-927b-722c7ffa51a0",
   "metadata": {
    "jupyter": {
     "outputs_hidden": false,
     "source_hidden": false
    },
    "nteract": {
     "transient": {
      "deleting": false
     }
    }
   },
   "outputs": [
    {
     "data": {
      "application/vnd.livy.statement-meta+json": {
       "execution_finish_time": "2024-03-26T23:27:32.3137891Z",
       "execution_start_time": "2024-03-26T23:27:28.679514Z",
       "livy_statement_state": "available",
       "parent_msg_id": "2055a4ab-c6c4-44d9-a114-975fdf81dc87",
       "queued_time": "2024-03-26T23:25:36.3993548Z",
       "session_id": "3182f88b-3979-4468-bd9f-ef63cd3458cf",
       "session_start_time": null,
       "spark_pool": null,
       "state": "finished",
       "statement_id": 17
      },
      "text/plain": [
       "StatementMeta(, 3182f88b-3979-4468-bd9f-ef63cd3458cf, 17, Finished, Available)"
      ]
     },
     "metadata": {},
     "output_type": "display_data"
    },
    {
     "data": {
      "text/html": [
       "<div>\n",
       "<style scoped>\n",
       "    .dataframe tbody tr th:only-of-type {\n",
       "        vertical-align: middle;\n",
       "    }\n",
       "\n",
       "    .dataframe tbody tr th {\n",
       "        vertical-align: top;\n",
       "    }\n",
       "\n",
       "    .dataframe thead th {\n",
       "        text-align: right;\n",
       "    }\n",
       "</style>\n",
       "<table border=\"1\" class=\"dataframe\">\n",
       "  <thead>\n",
       "    <tr style=\"text-align: right;\">\n",
       "      <th></th>\n",
       "      <th>CustomerId</th>\n",
       "      <th>Surname</th>\n",
       "      <th>Geography</th>\n",
       "      <th>Gender</th>\n",
       "      <th>Age</th>\n",
       "      <th>Tenure</th>\n",
       "      <th>Has Credit Card</th>\n",
       "      <th>Is Active</th>\n",
       "    </tr>\n",
       "  </thead>\n",
       "  <tbody>\n",
       "    <tr>\n",
       "      <th>0</th>\n",
       "      <td>15592531</td>\n",
       "      <td>Bartlett</td>\n",
       "      <td>France</td>\n",
       "      <td>Male</td>\n",
       "      <td>50</td>\n",
       "      <td>7</td>\n",
       "      <td>No</td>\n",
       "      <td>Yes</td>\n",
       "    </tr>\n",
       "    <tr>\n",
       "      <th>1</th>\n",
       "      <td>15706552</td>\n",
       "      <td>Odinakachukwu</td>\n",
       "      <td>France</td>\n",
       "      <td>Male</td>\n",
       "      <td>36</td>\n",
       "      <td>7</td>\n",
       "      <td>Yes</td>\n",
       "      <td>Yes</td>\n",
       "    </tr>\n",
       "    <tr>\n",
       "      <th>2</th>\n",
       "      <td>15717426</td>\n",
       "      <td>Armstrong</td>\n",
       "      <td>France</td>\n",
       "      <td>Male</td>\n",
       "      <td>36</td>\n",
       "      <td>7</td>\n",
       "      <td>No</td>\n",
       "      <td>Yes</td>\n",
       "    </tr>\n",
       "    <tr>\n",
       "      <th>3</th>\n",
       "      <td>15731511</td>\n",
       "      <td>Ritchie</td>\n",
       "      <td>France</td>\n",
       "      <td>Male</td>\n",
       "      <td>45</td>\n",
       "      <td>7</td>\n",
       "      <td>Yes</td>\n",
       "      <td>No</td>\n",
       "    </tr>\n",
       "    <tr>\n",
       "      <th>4</th>\n",
       "      <td>15724944</td>\n",
       "      <td>Tien</td>\n",
       "      <td>France</td>\n",
       "      <td>Male</td>\n",
       "      <td>34</td>\n",
       "      <td>7</td>\n",
       "      <td>No</td>\n",
       "      <td>Yes</td>\n",
       "    </tr>\n",
       "    <tr>\n",
       "      <th>...</th>\n",
       "      <td>...</td>\n",
       "      <td>...</td>\n",
       "      <td>...</td>\n",
       "      <td>...</td>\n",
       "      <td>...</td>\n",
       "      <td>...</td>\n",
       "      <td>...</td>\n",
       "      <td>...</td>\n",
       "    </tr>\n",
       "    <tr>\n",
       "      <th>9995</th>\n",
       "      <td>15584812</td>\n",
       "      <td>Overby</td>\n",
       "      <td>Spain</td>\n",
       "      <td>Female</td>\n",
       "      <td>39</td>\n",
       "      <td>0</td>\n",
       "      <td>Yes</td>\n",
       "      <td>No</td>\n",
       "    </tr>\n",
       "    <tr>\n",
       "      <th>9996</th>\n",
       "      <td>15643523</td>\n",
       "      <td>Power</td>\n",
       "      <td>Spain</td>\n",
       "      <td>Female</td>\n",
       "      <td>30</td>\n",
       "      <td>10</td>\n",
       "      <td>No</td>\n",
       "      <td>No</td>\n",
       "    </tr>\n",
       "    <tr>\n",
       "      <th>9997</th>\n",
       "      <td>15691170</td>\n",
       "      <td>Vasilyeva</td>\n",
       "      <td>Spain</td>\n",
       "      <td>Female</td>\n",
       "      <td>29</td>\n",
       "      <td>10</td>\n",
       "      <td>No</td>\n",
       "      <td>Yes</td>\n",
       "    </tr>\n",
       "    <tr>\n",
       "      <th>9998</th>\n",
       "      <td>15762708</td>\n",
       "      <td>Chiemezie</td>\n",
       "      <td>Spain</td>\n",
       "      <td>Female</td>\n",
       "      <td>38</td>\n",
       "      <td>10</td>\n",
       "      <td>No</td>\n",
       "      <td>Yes</td>\n",
       "    </tr>\n",
       "    <tr>\n",
       "      <th>9999</th>\n",
       "      <td>15722532</td>\n",
       "      <td>Angelo</td>\n",
       "      <td>Spain</td>\n",
       "      <td>Female</td>\n",
       "      <td>36</td>\n",
       "      <td>10</td>\n",
       "      <td>Yes</td>\n",
       "      <td>Yes</td>\n",
       "    </tr>\n",
       "  </tbody>\n",
       "</table>\n",
       "<p>10000 rows × 8 columns</p>\n",
       "</div>"
      ],
      "text/plain": [
       "      CustomerId        Surname Geography  Gender  Age  Tenure  \\\n",
       "0       15592531       Bartlett    France    Male   50       7   \n",
       "1       15706552  Odinakachukwu    France    Male   36       7   \n",
       "2       15717426      Armstrong    France    Male   36       7   \n",
       "3       15731511        Ritchie    France    Male   45       7   \n",
       "4       15724944           Tien    France    Male   34       7   \n",
       "...          ...            ...       ...     ...  ...     ...   \n",
       "9995    15584812         Overby     Spain  Female   39       0   \n",
       "9996    15643523          Power     Spain  Female   30      10   \n",
       "9997    15691170      Vasilyeva     Spain  Female   29      10   \n",
       "9998    15762708      Chiemezie     Spain  Female   38      10   \n",
       "9999    15722532         Angelo     Spain  Female   36      10   \n",
       "\n",
       "     Has Credit Card Is Active  \n",
       "0                 No       Yes  \n",
       "1                Yes       Yes  \n",
       "2                 No       Yes  \n",
       "3                Yes        No  \n",
       "4                 No       Yes  \n",
       "...              ...       ...  \n",
       "9995             Yes        No  \n",
       "9996              No        No  \n",
       "9997              No       Yes  \n",
       "9998              No       Yes  \n",
       "9999             Yes       Yes  \n",
       "\n",
       "[10000 rows x 8 columns]"
      ]
     },
     "execution_count": null,
     "metadata": {},
     "output_type": "execute_result"
    }
   ],
   "source": [
    "df_customer = fabric.read_table(dataset, \"Customers\")\n",
    "df_customer"
   ]
  },
  {
   "cell_type": "code",
   "execution_count": null,
   "id": "909dcd62-73e0-4b9e-b82b-8fa75d3fc2fb",
   "metadata": {
    "jupyter": {
     "outputs_hidden": false,
     "source_hidden": false
    },
    "nteract": {
     "transient": {
      "deleting": false
     }
    }
   },
   "outputs": [
    {
     "data": {
      "application/vnd.livy.statement-meta+json": {
       "execution_finish_time": "2024-03-26T23:27:33.7356187Z",
       "execution_start_time": "2024-03-26T23:27:32.8605856Z",
       "livy_statement_state": "available",
       "parent_msg_id": "026e5d30-e079-42a3-a561-d900768bf992",
       "queued_time": "2024-03-26T23:25:36.4000499Z",
       "session_id": "3182f88b-3979-4468-bd9f-ef63cd3458cf",
       "session_start_time": null,
       "spark_pool": null,
       "state": "finished",
       "statement_id": 18
      },
      "text/plain": [
       "StatementMeta(, 3182f88b-3979-4468-bd9f-ef63cd3458cf, 18, Finished, Available)"
      ]
     },
     "metadata": {},
     "output_type": "display_data"
    },
    {
     "data": {
      "text/html": [
       "<div>\n",
       "<style scoped>\n",
       "    .dataframe tbody tr th:only-of-type {\n",
       "        vertical-align: middle;\n",
       "    }\n",
       "\n",
       "    .dataframe tbody tr th {\n",
       "        vertical-align: top;\n",
       "    }\n",
       "\n",
       "    .dataframe thead th {\n",
       "        text-align: right;\n",
       "    }\n",
       "</style>\n",
       "<table border=\"1\" class=\"dataframe\">\n",
       "  <thead>\n",
       "    <tr style=\"text-align: right;\">\n",
       "      <th></th>\n",
       "      <th>CustomerId</th>\n",
       "      <th>EstimatedSalary</th>\n",
       "      <th>Exited</th>\n",
       "      <th>AccountId</th>\n",
       "    </tr>\n",
       "  </thead>\n",
       "  <tbody>\n",
       "    <tr>\n",
       "      <th>0</th>\n",
       "      <td>15647311</td>\n",
       "      <td>112542.58</td>\n",
       "      <td>False</td>\n",
       "      <td>1</td>\n",
       "    </tr>\n",
       "    <tr>\n",
       "      <th>1</th>\n",
       "      <td>15701354</td>\n",
       "      <td>93826.63</td>\n",
       "      <td>False</td>\n",
       "      <td>3</td>\n",
       "    </tr>\n",
       "    <tr>\n",
       "      <th>2</th>\n",
       "      <td>15737888</td>\n",
       "      <td>79084.1</td>\n",
       "      <td>False</td>\n",
       "      <td>4</td>\n",
       "    </tr>\n",
       "    <tr>\n",
       "      <th>3</th>\n",
       "      <td>15592531</td>\n",
       "      <td>10062.8</td>\n",
       "      <td>False</td>\n",
       "      <td>6</td>\n",
       "    </tr>\n",
       "    <tr>\n",
       "      <th>4</th>\n",
       "      <td>15792365</td>\n",
       "      <td>74940.5</td>\n",
       "      <td>False</td>\n",
       "      <td>8</td>\n",
       "    </tr>\n",
       "    <tr>\n",
       "      <th>...</th>\n",
       "      <td>...</td>\n",
       "      <td>...</td>\n",
       "      <td>...</td>\n",
       "      <td>...</td>\n",
       "    </tr>\n",
       "    <tr>\n",
       "      <th>9995</th>\n",
       "      <td>15672754</td>\n",
       "      <td>53445.17</td>\n",
       "      <td>True</td>\n",
       "      <td>9981</td>\n",
       "    </tr>\n",
       "    <tr>\n",
       "      <th>9996</th>\n",
       "      <td>15768163</td>\n",
       "      <td>115146.4</td>\n",
       "      <td>True</td>\n",
       "      <td>9982</td>\n",
       "    </tr>\n",
       "    <tr>\n",
       "      <th>9997</th>\n",
       "      <td>15769959</td>\n",
       "      <td>69384.71</td>\n",
       "      <td>True</td>\n",
       "      <td>9991</td>\n",
       "    </tr>\n",
       "    <tr>\n",
       "      <th>9998</th>\n",
       "      <td>15584532</td>\n",
       "      <td>42085.58</td>\n",
       "      <td>True</td>\n",
       "      <td>9997</td>\n",
       "    </tr>\n",
       "    <tr>\n",
       "      <th>9999</th>\n",
       "      <td>15682355</td>\n",
       "      <td>92888.52</td>\n",
       "      <td>True</td>\n",
       "      <td>9998</td>\n",
       "    </tr>\n",
       "  </tbody>\n",
       "</table>\n",
       "<p>10000 rows × 4 columns</p>\n",
       "</div>"
      ],
      "text/plain": [
       "      CustomerId  EstimatedSalary  Exited  AccountId\n",
       "0       15647311        112542.58   False          1\n",
       "1       15701354         93826.63   False          3\n",
       "2       15737888          79084.1   False          4\n",
       "3       15592531          10062.8   False          6\n",
       "4       15792365          74940.5   False          8\n",
       "...          ...              ...     ...        ...\n",
       "9995    15672754         53445.17    True       9981\n",
       "9996    15768163         115146.4    True       9982\n",
       "9997    15769959         69384.71    True       9991\n",
       "9998    15584532         42085.58    True       9997\n",
       "9999    15682355         92888.52    True       9998\n",
       "\n",
       "[10000 rows x 4 columns]"
      ]
     },
     "execution_count": null,
     "metadata": {},
     "output_type": "execute_result"
    }
   ],
   "source": [
    "df_account = fabric.read_table(dataset, \"Accounts\")\n",
    "df_account"
   ]
  },
  {
   "cell_type": "code",
   "execution_count": null,
   "id": "b4e7dbc8-5eea-4b7d-ac2b-483a31011c7a",
   "metadata": {
    "jupyter": {
     "outputs_hidden": false,
     "source_hidden": false
    },
    "nteract": {
     "transient": {
      "deleting": false
     }
    }
   },
   "outputs": [
    {
     "data": {
      "application/vnd.livy.statement-meta+json": {
       "execution_finish_time": "2024-03-26T23:27:34.5452053Z",
       "execution_start_time": "2024-03-26T23:27:34.2648179Z",
       "livy_statement_state": "available",
       "parent_msg_id": "92096948-0e61-465a-80cb-9a5a423e0794",
       "queued_time": "2024-03-26T23:25:36.4006614Z",
       "session_id": "3182f88b-3979-4468-bd9f-ef63cd3458cf",
       "session_start_time": null,
       "spark_pool": null,
       "state": "finished",
       "statement_id": 19
      },
      "text/plain": [
       "StatementMeta(, 3182f88b-3979-4468-bd9f-ef63cd3458cf, 19, Finished, Available)"
      ]
     },
     "metadata": {},
     "output_type": "display_data"
    },
    {
     "data": {
      "text/html": [
       "<div>\n",
       "<style scoped>\n",
       "    .dataframe tbody tr th:only-of-type {\n",
       "        vertical-align: middle;\n",
       "    }\n",
       "\n",
       "    .dataframe tbody tr th {\n",
       "        vertical-align: top;\n",
       "    }\n",
       "\n",
       "    .dataframe thead th {\n",
       "        text-align: right;\n",
       "    }\n",
       "</style>\n",
       "<table border=\"1\" class=\"dataframe\">\n",
       "  <thead>\n",
       "    <tr style=\"text-align: right;\">\n",
       "      <th></th>\n",
       "      <th>CustomerId</th>\n",
       "      <th>Surname</th>\n",
       "      <th>Geography</th>\n",
       "      <th>Gender</th>\n",
       "      <th>Age</th>\n",
       "      <th>Tenure</th>\n",
       "      <th>Has Credit Card</th>\n",
       "      <th>Is Active</th>\n",
       "      <th>Number Of Products</th>\n",
       "      <th>Last Credit Score</th>\n",
       "      <th>Balance</th>\n",
       "      <th>EstimatedSalary</th>\n",
       "      <th>Exited</th>\n",
       "      <th>AccountId</th>\n",
       "    </tr>\n",
       "  </thead>\n",
       "  <tbody>\n",
       "    <tr>\n",
       "      <th>0</th>\n",
       "      <td>15592531</td>\n",
       "      <td>Bartlett</td>\n",
       "      <td>France</td>\n",
       "      <td>Male</td>\n",
       "      <td>50</td>\n",
       "      <td>7</td>\n",
       "      <td>No</td>\n",
       "      <td>Yes</td>\n",
       "      <td>2</td>\n",
       "      <td>822</td>\n",
       "      <td>0.0</td>\n",
       "      <td>10062.8</td>\n",
       "      <td>False</td>\n",
       "      <td>6</td>\n",
       "    </tr>\n",
       "    <tr>\n",
       "      <th>1</th>\n",
       "      <td>15706552</td>\n",
       "      <td>Odinakachukwu</td>\n",
       "      <td>France</td>\n",
       "      <td>Male</td>\n",
       "      <td>36</td>\n",
       "      <td>7</td>\n",
       "      <td>Yes</td>\n",
       "      <td>Yes</td>\n",
       "      <td>1</td>\n",
       "      <td>533</td>\n",
       "      <td>85311.7</td>\n",
       "      <td>156731.91</td>\n",
       "      <td>False</td>\n",
       "      <td>31</td>\n",
       "    </tr>\n",
       "    <tr>\n",
       "      <th>2</th>\n",
       "      <td>15717426</td>\n",
       "      <td>Armstrong</td>\n",
       "      <td>France</td>\n",
       "      <td>Male</td>\n",
       "      <td>36</td>\n",
       "      <td>7</td>\n",
       "      <td>No</td>\n",
       "      <td>Yes</td>\n",
       "      <td>1</td>\n",
       "      <td>850</td>\n",
       "      <td>0.0</td>\n",
       "      <td>40812.9</td>\n",
       "      <td>False</td>\n",
       "      <td>38</td>\n",
       "    </tr>\n",
       "    <tr>\n",
       "      <th>3</th>\n",
       "      <td>15731511</td>\n",
       "      <td>Ritchie</td>\n",
       "      <td>France</td>\n",
       "      <td>Male</td>\n",
       "      <td>45</td>\n",
       "      <td>7</td>\n",
       "      <td>Yes</td>\n",
       "      <td>No</td>\n",
       "      <td>2</td>\n",
       "      <td>808</td>\n",
       "      <td>118626.55</td>\n",
       "      <td>147132.46</td>\n",
       "      <td>False</td>\n",
       "      <td>91</td>\n",
       "    </tr>\n",
       "    <tr>\n",
       "      <th>4</th>\n",
       "      <td>15724944</td>\n",
       "      <td>Tien</td>\n",
       "      <td>France</td>\n",
       "      <td>Male</td>\n",
       "      <td>34</td>\n",
       "      <td>7</td>\n",
       "      <td>No</td>\n",
       "      <td>Yes</td>\n",
       "      <td>2</td>\n",
       "      <td>663</td>\n",
       "      <td>0.0</td>\n",
       "      <td>180427.24</td>\n",
       "      <td>False</td>\n",
       "      <td>141</td>\n",
       "    </tr>\n",
       "    <tr>\n",
       "      <th>...</th>\n",
       "      <td>...</td>\n",
       "      <td>...</td>\n",
       "      <td>...</td>\n",
       "      <td>...</td>\n",
       "      <td>...</td>\n",
       "      <td>...</td>\n",
       "      <td>...</td>\n",
       "      <td>...</td>\n",
       "      <td>...</td>\n",
       "      <td>...</td>\n",
       "      <td>...</td>\n",
       "      <td>...</td>\n",
       "      <td>...</td>\n",
       "      <td>...</td>\n",
       "    </tr>\n",
       "    <tr>\n",
       "      <th>9995</th>\n",
       "      <td>15584812</td>\n",
       "      <td>Overby</td>\n",
       "      <td>Spain</td>\n",
       "      <td>Female</td>\n",
       "      <td>39</td>\n",
       "      <td>0</td>\n",
       "      <td>Yes</td>\n",
       "      <td>No</td>\n",
       "      <td>2</td>\n",
       "      <td>693</td>\n",
       "      <td>0.0</td>\n",
       "      <td>81901.6</td>\n",
       "      <td>False</td>\n",
       "      <td>9427</td>\n",
       "    </tr>\n",
       "    <tr>\n",
       "      <th>9996</th>\n",
       "      <td>15643523</td>\n",
       "      <td>Power</td>\n",
       "      <td>Spain</td>\n",
       "      <td>Female</td>\n",
       "      <td>30</td>\n",
       "      <td>10</td>\n",
       "      <td>No</td>\n",
       "      <td>No</td>\n",
       "      <td>2</td>\n",
       "      <td>710</td>\n",
       "      <td>0.0</td>\n",
       "      <td>19500.1</td>\n",
       "      <td>False</td>\n",
       "      <td>9569</td>\n",
       "    </tr>\n",
       "    <tr>\n",
       "      <th>9997</th>\n",
       "      <td>15691170</td>\n",
       "      <td>Vasilyeva</td>\n",
       "      <td>Spain</td>\n",
       "      <td>Female</td>\n",
       "      <td>29</td>\n",
       "      <td>10</td>\n",
       "      <td>No</td>\n",
       "      <td>Yes</td>\n",
       "      <td>1</td>\n",
       "      <td>590</td>\n",
       "      <td>99250.08</td>\n",
       "      <td>129629.41</td>\n",
       "      <td>False</td>\n",
       "      <td>9813</td>\n",
       "    </tr>\n",
       "    <tr>\n",
       "      <th>9998</th>\n",
       "      <td>15762708</td>\n",
       "      <td>Chiemezie</td>\n",
       "      <td>Spain</td>\n",
       "      <td>Female</td>\n",
       "      <td>38</td>\n",
       "      <td>10</td>\n",
       "      <td>No</td>\n",
       "      <td>Yes</td>\n",
       "      <td>1</td>\n",
       "      <td>619</td>\n",
       "      <td>119658.49</td>\n",
       "      <td>8646.58</td>\n",
       "      <td>False</td>\n",
       "      <td>9848</td>\n",
       "    </tr>\n",
       "    <tr>\n",
       "      <th>9999</th>\n",
       "      <td>15722532</td>\n",
       "      <td>Angelo</td>\n",
       "      <td>Spain</td>\n",
       "      <td>Female</td>\n",
       "      <td>36</td>\n",
       "      <td>10</td>\n",
       "      <td>Yes</td>\n",
       "      <td>Yes</td>\n",
       "      <td>1</td>\n",
       "      <td>690</td>\n",
       "      <td>91760.11</td>\n",
       "      <td>135784.94</td>\n",
       "      <td>False</td>\n",
       "      <td>9904</td>\n",
       "    </tr>\n",
       "  </tbody>\n",
       "</table>\n",
       "<p>10000 rows × 14 columns</p>\n",
       "</div>"
      ],
      "text/plain": [
       "      CustomerId        Surname Geography  Gender  Age  Tenure  \\\n",
       "0       15592531       Bartlett    France    Male   50       7   \n",
       "1       15706552  Odinakachukwu    France    Male   36       7   \n",
       "2       15717426      Armstrong    France    Male   36       7   \n",
       "3       15731511        Ritchie    France    Male   45       7   \n",
       "4       15724944           Tien    France    Male   34       7   \n",
       "...          ...            ...       ...     ...  ...     ...   \n",
       "9995    15584812         Overby     Spain  Female   39       0   \n",
       "9996    15643523          Power     Spain  Female   30      10   \n",
       "9997    15691170      Vasilyeva     Spain  Female   29      10   \n",
       "9998    15762708      Chiemezie     Spain  Female   38      10   \n",
       "9999    15722532         Angelo     Spain  Female   36      10   \n",
       "\n",
       "     Has Credit Card Is Active  Number Of Products  Last Credit Score  \\\n",
       "0                 No       Yes                   2                822   \n",
       "1                Yes       Yes                   1                533   \n",
       "2                 No       Yes                   1                850   \n",
       "3                Yes        No                   2                808   \n",
       "4                 No       Yes                   2                663   \n",
       "...              ...       ...                 ...                ...   \n",
       "9995             Yes        No                   2                693   \n",
       "9996              No        No                   2                710   \n",
       "9997              No       Yes                   1                590   \n",
       "9998              No       Yes                   1                619   \n",
       "9999             Yes       Yes                   1                690   \n",
       "\n",
       "        Balance  EstimatedSalary  Exited  AccountId  \n",
       "0           0.0          10062.8   False          6  \n",
       "1       85311.7        156731.91   False         31  \n",
       "2           0.0          40812.9   False         38  \n",
       "3     118626.55        147132.46   False         91  \n",
       "4           0.0        180427.24   False        141  \n",
       "...         ...              ...     ...        ...  \n",
       "9995        0.0          81901.6   False       9427  \n",
       "9996        0.0          19500.1   False       9569  \n",
       "9997   99250.08        129629.41   False       9813  \n",
       "9998  119658.49          8646.58   False       9848  \n",
       "9999   91760.11        135784.94   False       9904  \n",
       "\n",
       "[10000 rows x 14 columns]"
      ]
     },
     "execution_count": null,
     "metadata": {},
     "output_type": "execute_result"
    }
   ],
   "source": [
    "# merge all data\n",
    "df_churn = df_customer.merge(df_measures).merge(df_account)\n",
    "df_churn"
   ]
  },
  {
   "cell_type": "markdown",
   "id": "48be527e-e2b5-40e9-a173-77eead42bfc2",
   "metadata": {
    "nteract": {
     "transient": {
      "deleting": false
     }
    }
   },
   "source": [
    "Semantic data frames provide convenience methods to write data to a lakehouse."
   ]
  },
  {
   "cell_type": "code",
   "execution_count": null,
   "id": "8c2b6a8e-f3ef-4b40-815f-20ed292d8df5",
   "metadata": {
    "jupyter": {
     "outputs_hidden": false,
     "source_hidden": false
    },
    "nteract": {
     "transient": {
      "deleting": false
     }
    }
   },
   "outputs": [
    {
     "data": {
      "application/vnd.livy.statement-meta+json": {
       "execution_finish_time": "2024-03-26T23:27:56.2103244Z",
       "execution_start_time": "2024-03-26T23:27:35.082243Z",
       "livy_statement_state": "available",
       "parent_msg_id": "a9f8796f-a0ff-4a37-b0b0-396b5990a66d",
       "queued_time": "2024-03-26T23:25:36.4012964Z",
       "session_id": "3182f88b-3979-4468-bd9f-ef63cd3458cf",
       "session_start_time": null,
       "spark_pool": null,
       "state": "finished",
       "statement_id": 20
      },
      "text/plain": [
       "StatementMeta(, 3182f88b-3979-4468-bd9f-ef63cd3458cf, 20, Finished, Available)"
      ]
     },
     "metadata": {},
     "output_type": "display_data"
    }
   ],
   "source": [
    "df_churn.to_lakehouse_table('ChurnFromSemanticLink', mode = \"overwrite\")"
   ]
  },
  {
   "cell_type": "markdown",
   "id": "da77e406-34b2-4d0e-9c78-bf9a3c002c29",
   "metadata": {
    "nteract": {
     "transient": {
      "deleting": false
     }
    }
   },
   "source": [
    "# Exercise 1: Analyze data with Pandas plots\n",
    "\n",
    "You can learn more about how to use plotting functions in Pandas using [this documentation](https://pandas.pydata.org/pandas-docs/stable/reference/api/pandas.DataFrame.plot.html).\n",
    "\n",
    "In this exercise, you will:\n",
    "- Plot the average credit score by geography and tenure.\n",
    "- Analyze the impact on tenure based on geography.\n",
    "\n",
    "To do this, you will:\n",
    "1. Generate a code snippet that creates `df_credit_score_by_geo_tenure`. To do this, start with the DataFrame named `df_churn`. Then, follow these steps:\n",
    "   * **Group the data** by the 'Geography' and 'Tenure' columns. This is done using the `groupby` method. *Hint:* By setting `as_index=False`, you ensure that the grouping columns are not used as the index in the resulting DataFrame.\n",
    "   * **Calculate the mean** of the 'Last Credit Score' for each group. This is achieved by selecting the 'Last Credit Score' column and applying the `mean` function.\n",
    "   * **Pivot the result** to reformat the data so that 'Tenure' becomes the index, 'Geography' becomes the column labels, and the values are the mean 'Last Credit Score'. This is done using the `pivot` method, where `index='Tenure'`, `columns='Geography'`, and `values='Last Credit Score'`.\n",
    "1. Plot the dataframe as a bar chart\n",
    "1. Customize the bar chart to visualize credit scores above or below a common average (e.g. using the bottom argument)\n"
   ]
  },
  {
   "cell_type": "code",
   "execution_count": null,
   "id": "76b9b22e-c2b8-40bd-954f-e38b7ff8a8d3",
   "metadata": {
    "jupyter": {
     "outputs_hidden": false,
     "source_hidden": false
    },
    "nteract": {
     "transient": {
      "deleting": false
     }
    }
   },
   "outputs": [
    {
     "data": {
      "application/vnd.livy.statement-meta+json": {
       "execution_finish_time": "2024-03-26T23:27:57.6273437Z",
       "execution_start_time": "2024-03-26T23:27:56.739817Z",
       "livy_statement_state": "available",
       "parent_msg_id": "5f0639dc-df46-4d01-8713-e67ce2ce6ea4",
       "queued_time": "2024-03-26T23:25:36.4019142Z",
       "session_id": "3182f88b-3979-4468-bd9f-ef63cd3458cf",
       "session_start_time": null,
       "spark_pool": null,
       "state": "finished",
       "statement_id": 21
      },
      "text/plain": [
       "StatementMeta(, 3182f88b-3979-4468-bd9f-ef63cd3458cf, 21, Finished, Available)"
      ]
     },
     "metadata": {},
     "output_type": "display_data"
    },
    {
     "data": {
      "text/plain": [
       "<Axes: xlabel='Tenure'>"
      ]
     },
     "execution_count": null,
     "metadata": {},
     "output_type": "execute_result"
    },
    {
     "data": {
      "image/png": "[encoded data removed]",
      "text/plain": [
       "<Figure size 640x480 with 1 Axes>"
      ]
     },
     "metadata": {},
     "output_type": "display_data"
    }
   ],
   "source": [
    "df_credit_score_by_geo_tenure = (df_churn\n",
    "    .groupby(['Geography', 'Tenure'], as_index=False)['Last Credit Score'].mean()\n",
    "    .pivot(index='Tenure', columns='Geography', values='Last Credit Score') \n",
    ")\n",
    "\n",
    "baseline = 650\n",
    "\n",
    "(df_credit_score_by_geo_tenure - baseline).plot.bar(bottom=baseline) "
   ]
  },
  {
   "cell_type": "markdown",
   "id": "6b08e9f6-7060-4078-975e-9635ca5fe50f",
   "metadata": {
    "nteract": {
     "transient": {
      "deleting": false
     }
    }
   },
   "source": [
    "# Exercise 2: Leverage DAX for computations"
   ]
  },
  {
   "cell_type": "markdown",
   "id": "9619bbc3-c953-49d3-bbd0-124ff02da321",
   "metadata": {
    "nteract": {
     "transient": {
      "deleting": false
     }
    }
   },
   "source": [
    "Repeat the exercise 1, but this time perform the computation using DAX.\n",
    "\n",
    "In this exercise, you will do the following:\n",
    "1. Add the appropriate DAX query to compute the average credit score per Geography per Tenure. You can use the ```%%dax``` notebook magic to experiment within the notebook.\n",
    "1. Pivot the data using Pandas to get a dataframe like this:\n",
    "\n",
    "    ![image-alt-text](https://synapseaisolutionsa.blob.core.windows.net/public/Fabric-Conference/semantic-link-pivot-df.png)"
   ]
  },
  {
   "cell_type": "code",
   "execution_count": null,
   "id": "19b6db17-efb9-4e5d-85ba-932ce3277a03",
   "metadata": {
    "jupyter": {
     "outputs_hidden": false,
     "source_hidden": false
    },
    "nteract": {
     "transient": {
      "deleting": false
     }
    }
   },
   "outputs": [
    {
     "data": {
      "application/vnd.livy.statement-meta+json": {
       "execution_finish_time": "2024-03-26T23:28:00.640845Z",
       "execution_start_time": "2024-03-26T23:27:58.1376103Z",
       "livy_statement_state": "available",
       "parent_msg_id": "94889958-9f9f-4514-a94c-130ad0597556",
       "queued_time": "2024-03-26T23:25:36.4025367Z",
       "session_id": "3182f88b-3979-4468-bd9f-ef63cd3458cf",
       "session_start_time": null,
       "spark_pool": null,
       "state": "finished",
       "statement_id": 22
      },
      "text/plain": [
       "StatementMeta(, 3182f88b-3979-4468-bd9f-ef63cd3458cf, 22, Finished, Available)"
      ]
     },
     "metadata": {},
     "output_type": "display_data"
    },
    {
     "data": {
      "text/html": [
       "<div>\n",
       "<style scoped>\n",
       "    .dataframe tbody tr th:only-of-type {\n",
       "        vertical-align: middle;\n",
       "    }\n",
       "\n",
       "    .dataframe tbody tr th {\n",
       "        vertical-align: top;\n",
       "    }\n",
       "\n",
       "    .dataframe thead th {\n",
       "        text-align: right;\n",
       "    }\n",
       "</style>\n",
       "<table border=\"1\" class=\"dataframe\">\n",
       "  <thead>\n",
       "    <tr style=\"text-align: right;\">\n",
       "      <th></th>\n",
       "      <th>Customers[Geography]</th>\n",
       "      <th>Customers[Tenure]</th>\n",
       "      <th>[Average Credit Score]</th>\n",
       "    </tr>\n",
       "  </thead>\n",
       "  <tbody>\n",
       "    <tr>\n",
       "      <th>0</th>\n",
       "      <td>France</td>\n",
       "      <td>2</td>\n",
       "      <td>650.411429</td>\n",
       "    </tr>\n",
       "    <tr>\n",
       "      <th>1</th>\n",
       "      <td>Spain</td>\n",
       "      <td>2</td>\n",
       "      <td>654.169355</td>\n",
       "    </tr>\n",
       "    <tr>\n",
       "      <th>2</th>\n",
       "      <td>Germany</td>\n",
       "      <td>2</td>\n",
       "      <td>656.247273</td>\n",
       "    </tr>\n",
       "    <tr>\n",
       "      <th>3</th>\n",
       "      <td>France</td>\n",
       "      <td>1</td>\n",
       "      <td>647.10775</td>\n",
       "    </tr>\n",
       "    <tr>\n",
       "      <th>4</th>\n",
       "      <td>Spain</td>\n",
       "      <td>1</td>\n",
       "      <td>646.206612</td>\n",
       "    </tr>\n",
       "    <tr>\n",
       "      <th>5</th>\n",
       "      <td>Germany</td>\n",
       "      <td>1</td>\n",
       "      <td>654.594697</td>\n",
       "    </tr>\n",
       "    <tr>\n",
       "      <th>6</th>\n",
       "      <td>France</td>\n",
       "      <td>8</td>\n",
       "      <td>647.004301</td>\n",
       "    </tr>\n",
       "    <tr>\n",
       "      <th>7</th>\n",
       "      <td>Spain</td>\n",
       "      <td>8</td>\n",
       "      <td>654.263514</td>\n",
       "    </tr>\n",
       "    <tr>\n",
       "      <th>8</th>\n",
       "      <td>Germany</td>\n",
       "      <td>8</td>\n",
       "      <td>641.757576</td>\n",
       "    </tr>\n",
       "    <tr>\n",
       "      <th>9</th>\n",
       "      <td>France</td>\n",
       "      <td>7</td>\n",
       "      <td>647.371377</td>\n",
       "    </tr>\n",
       "    <tr>\n",
       "      <th>10</th>\n",
       "      <td>Spain</td>\n",
       "      <td>7</td>\n",
       "      <td>653.557769</td>\n",
       "    </tr>\n",
       "    <tr>\n",
       "      <th>11</th>\n",
       "      <td>Germany</td>\n",
       "      <td>7</td>\n",
       "      <td>650.68</td>\n",
       "    </tr>\n",
       "    <tr>\n",
       "      <th>12</th>\n",
       "      <td>France</td>\n",
       "      <td>4</td>\n",
       "      <td>653.798828</td>\n",
       "    </tr>\n",
       "    <tr>\n",
       "      <th>13</th>\n",
       "      <td>Spain</td>\n",
       "      <td>4</td>\n",
       "      <td>648.15102</td>\n",
       "    </tr>\n",
       "    <tr>\n",
       "      <th>14</th>\n",
       "      <td>Germany</td>\n",
       "      <td>4</td>\n",
       "      <td>649.974138</td>\n",
       "    </tr>\n",
       "    <tr>\n",
       "      <th>15</th>\n",
       "      <td>France</td>\n",
       "      <td>6</td>\n",
       "      <td>647.081511</td>\n",
       "    </tr>\n",
       "    <tr>\n",
       "      <th>16</th>\n",
       "      <td>Spain</td>\n",
       "      <td>6</td>\n",
       "      <td>642.78481</td>\n",
       "    </tr>\n",
       "    <tr>\n",
       "      <th>17</th>\n",
       "      <td>Germany</td>\n",
       "      <td>6</td>\n",
       "      <td>652.84141</td>\n",
       "    </tr>\n",
       "    <tr>\n",
       "      <th>18</th>\n",
       "      <td>France</td>\n",
       "      <td>3</td>\n",
       "      <td>650.008147</td>\n",
       "    </tr>\n",
       "    <tr>\n",
       "      <th>19</th>\n",
       "      <td>Spain</td>\n",
       "      <td>3</td>\n",
       "      <td>650.521401</td>\n",
       "    </tr>\n",
       "    <tr>\n",
       "      <th>20</th>\n",
       "      <td>Germany</td>\n",
       "      <td>3</td>\n",
       "      <td>651.521073</td>\n",
       "    </tr>\n",
       "    <tr>\n",
       "      <th>21</th>\n",
       "      <td>France</td>\n",
       "      <td>10</td>\n",
       "      <td>646.781893</td>\n",
       "    </tr>\n",
       "    <tr>\n",
       "      <th>22</th>\n",
       "      <td>Spain</td>\n",
       "      <td>10</td>\n",
       "      <td>661.831933</td>\n",
       "    </tr>\n",
       "    <tr>\n",
       "      <th>23</th>\n",
       "      <td>Germany</td>\n",
       "      <td>10</td>\n",
       "      <td>659.335938</td>\n",
       "    </tr>\n",
       "    <tr>\n",
       "      <th>24</th>\n",
       "      <td>France</td>\n",
       "      <td>5</td>\n",
       "      <td>648.639175</td>\n",
       "    </tr>\n",
       "    <tr>\n",
       "      <th>25</th>\n",
       "      <td>Spain</td>\n",
       "      <td>5</td>\n",
       "      <td>649.253731</td>\n",
       "    </tr>\n",
       "    <tr>\n",
       "      <th>26</th>\n",
       "      <td>Germany</td>\n",
       "      <td>5</td>\n",
       "      <td>655.382239</td>\n",
       "    </tr>\n",
       "    <tr>\n",
       "      <th>27</th>\n",
       "      <td>France</td>\n",
       "      <td>9</td>\n",
       "      <td>656.886905</td>\n",
       "    </tr>\n",
       "    <tr>\n",
       "      <th>28</th>\n",
       "      <td>Spain</td>\n",
       "      <td>9</td>\n",
       "      <td>657.085308</td>\n",
       "    </tr>\n",
       "    <tr>\n",
       "      <th>29</th>\n",
       "      <td>Germany</td>\n",
       "      <td>9</td>\n",
       "      <td>644.847584</td>\n",
       "    </tr>\n",
       "    <tr>\n",
       "      <th>30</th>\n",
       "      <td>France</td>\n",
       "      <td>0</td>\n",
       "      <td>649.926829</td>\n",
       "    </tr>\n",
       "    <tr>\n",
       "      <th>31</th>\n",
       "      <td>Spain</td>\n",
       "      <td>0</td>\n",
       "      <td>653.485437</td>\n",
       "    </tr>\n",
       "    <tr>\n",
       "      <th>32</th>\n",
       "      <td>Germany</td>\n",
       "      <td>0</td>\n",
       "      <td>654.761905</td>\n",
       "    </tr>\n",
       "  </tbody>\n",
       "</table>\n",
       "</div>"
      ],
      "text/plain": [
       "   Customers[Geography]  Customers[Tenure]  [Average Credit Score]\n",
       "0                France                  2              650.411429\n",
       "1                 Spain                  2              654.169355\n",
       "2               Germany                  2              656.247273\n",
       "3                France                  1               647.10775\n",
       "4                 Spain                  1              646.206612\n",
       "5               Germany                  1              654.594697\n",
       "6                France                  8              647.004301\n",
       "7                 Spain                  8              654.263514\n",
       "8               Germany                  8              641.757576\n",
       "9                France                  7              647.371377\n",
       "10                Spain                  7              653.557769\n",
       "11              Germany                  7                  650.68\n",
       "12               France                  4              653.798828\n",
       "13                Spain                  4               648.15102\n",
       "14              Germany                  4              649.974138\n",
       "15               France                  6              647.081511\n",
       "16                Spain                  6               642.78481\n",
       "17              Germany                  6               652.84141\n",
       "18               France                  3              650.008147\n",
       "19                Spain                  3              650.521401\n",
       "20              Germany                  3              651.521073\n",
       "21               France                 10              646.781893\n",
       "22                Spain                 10              661.831933\n",
       "23              Germany                 10              659.335938\n",
       "24               France                  5              648.639175\n",
       "25                Spain                  5              649.253731\n",
       "26              Germany                  5              655.382239\n",
       "27               France                  9              656.886905\n",
       "28                Spain                  9              657.085308\n",
       "29              Germany                  9              644.847584\n",
       "30               France                  0              649.926829\n",
       "31                Spain                  0              653.485437\n",
       "32              Germany                  0              654.761905"
      ]
     },
     "execution_count": null,
     "metadata": {},
     "output_type": "execute_result"
    }
   ],
   "source": [
    "%%dax Churn\n",
    "\n",
    "DEFINE\n",
    "    MEASURE Customers[AVG Credit Score] = AVERAGEX(Customers, [Last Credit Score])\n",
    "EVALUATE\n",
    "\n",
    "SUMMARIZECOLUMNS(\n",
    "    Customers[Geography],\n",
    "    Customers[Tenure],\n",
    "    \"Average Credit Score\", [AVG Credit Score]\n",
    ")"
   ]
  },
  {
   "cell_type": "code",
   "execution_count": null,
   "id": "4a0d525c-fe3d-4a71-9b4f-b90a2775f88e",
   "metadata": {
    "jupyter": {
     "outputs_hidden": false,
     "source_hidden": false
    },
    "nteract": {
     "transient": {
      "deleting": false
     }
    }
   },
   "outputs": [
    {
     "data": {
      "application/vnd.livy.statement-meta+json": {
       "execution_finish_time": "2024-03-26T23:28:01.44943Z",
       "execution_start_time": "2024-03-26T23:28:01.1831094Z",
       "livy_statement_state": "available",
       "parent_msg_id": "628e1916-89c0-4634-811a-1e6289f18c8b",
       "queued_time": "2024-03-26T23:25:36.4031527Z",
       "session_id": "3182f88b-3979-4468-bd9f-ef63cd3458cf",
       "session_start_time": null,
       "spark_pool": null,
       "state": "finished",
       "statement_id": 23
      },
      "text/plain": [
       "StatementMeta(, 3182f88b-3979-4468-bd9f-ef63cd3458cf, 23, Finished, Available)"
      ]
     },
     "metadata": {},
     "output_type": "display_data"
    },
    {
     "data": {
      "text/html": [
       "<div>\n",
       "<style scoped>\n",
       "    .dataframe tbody tr th:only-of-type {\n",
       "        vertical-align: middle;\n",
       "    }\n",
       "\n",
       "    .dataframe tbody tr th {\n",
       "        vertical-align: top;\n",
       "    }\n",
       "\n",
       "    .dataframe thead th {\n",
       "        text-align: right;\n",
       "    }\n",
       "</style>\n",
       "<table border=\"1\" class=\"dataframe\">\n",
       "  <thead>\n",
       "    <tr style=\"text-align: right;\">\n",
       "      <th></th>\n",
       "      <th>Customers[Geography]</th>\n",
       "      <th>Customers[Tenure]</th>\n",
       "      <th>[Average Credit Score]</th>\n",
       "    </tr>\n",
       "  </thead>\n",
       "  <tbody>\n",
       "    <tr>\n",
       "      <th>0</th>\n",
       "      <td>France</td>\n",
       "      <td>2</td>\n",
       "      <td>650.411429</td>\n",
       "    </tr>\n",
       "    <tr>\n",
       "      <th>1</th>\n",
       "      <td>Spain</td>\n",
       "      <td>2</td>\n",
       "      <td>654.169355</td>\n",
       "    </tr>\n",
       "    <tr>\n",
       "      <th>2</th>\n",
       "      <td>Germany</td>\n",
       "      <td>2</td>\n",
       "      <td>656.247273</td>\n",
       "    </tr>\n",
       "    <tr>\n",
       "      <th>3</th>\n",
       "      <td>France</td>\n",
       "      <td>1</td>\n",
       "      <td>647.10775</td>\n",
       "    </tr>\n",
       "    <tr>\n",
       "      <th>4</th>\n",
       "      <td>Spain</td>\n",
       "      <td>1</td>\n",
       "      <td>646.206612</td>\n",
       "    </tr>\n",
       "  </tbody>\n",
       "</table>\n",
       "</div>"
      ],
      "text/plain": [
       "  Customers[Geography]  Customers[Tenure]  [Average Credit Score]\n",
       "0               France                  2              650.411429\n",
       "1                Spain                  2              654.169355\n",
       "2              Germany                  2              656.247273\n",
       "3               France                  1               647.10775\n",
       "4                Spain                  1              646.206612"
      ]
     },
     "execution_count": null,
     "metadata": {},
     "output_type": "execute_result"
    }
   ],
   "source": [
    "df = fabric.evaluate_dax(dataset, \n",
    "\"\"\"\n",
    "DEFINE\n",
    "    MEASURE Customers[AVG Credit Score] = AVERAGEX(Customers, [Last Credit Score])\n",
    "EVALUATE\n",
    "SUMMARIZECOLUMNS(\n",
    "    Customers[Geography],\n",
    "    Customers[Tenure],\n",
    "    \"Average Credit Score\", [AVG Credit Score]\n",
    ")\n",
    "\"\"\")\n",
    "\n",
    "df.head()"
   ]
  },
  {
   "cell_type": "code",
   "execution_count": null,
   "id": "b20f2f3d-b483-4efa-93ed-8549911c31ba",
   "metadata": {
    "jupyter": {
     "outputs_hidden": false,
     "source_hidden": false
    },
    "nteract": {
     "transient": {
      "deleting": false
     }
    }
   },
   "outputs": [
    {
     "data": {
      "application/vnd.livy.statement-meta+json": {
       "execution_finish_time": "2024-03-26T23:28:02.3374958Z",
       "execution_start_time": "2024-03-26T23:28:01.9964024Z",
       "livy_statement_state": "available",
       "parent_msg_id": "00100114-78a8-4bcf-ae96-3ffa7aef2359",
       "queued_time": "2024-03-26T23:25:36.4037995Z",
       "session_id": "3182f88b-3979-4468-bd9f-ef63cd3458cf",
       "session_start_time": null,
       "spark_pool": null,
       "state": "finished",
       "statement_id": 24
      },
      "text/plain": [
       "StatementMeta(, 3182f88b-3979-4468-bd9f-ef63cd3458cf, 24, Finished, Available)"
      ]
     },
     "metadata": {},
     "output_type": "display_data"
    },
    {
     "data": {
      "text/html": [
       "<div>\n",
       "<style scoped>\n",
       "    .dataframe tbody tr th:only-of-type {\n",
       "        vertical-align: middle;\n",
       "    }\n",
       "\n",
       "    .dataframe tbody tr th {\n",
       "        vertical-align: top;\n",
       "    }\n",
       "\n",
       "    .dataframe thead th {\n",
       "        text-align: right;\n",
       "    }\n",
       "</style>\n",
       "<table border=\"1\" class=\"dataframe\">\n",
       "  <thead>\n",
       "    <tr style=\"text-align: right;\">\n",
       "      <th>Customers[Geography]</th>\n",
       "      <th>France</th>\n",
       "      <th>Germany</th>\n",
       "      <th>Spain</th>\n",
       "    </tr>\n",
       "    <tr>\n",
       "      <th>Customers[Tenure]</th>\n",
       "      <th></th>\n",
       "      <th></th>\n",
       "      <th></th>\n",
       "    </tr>\n",
       "  </thead>\n",
       "  <tbody>\n",
       "    <tr>\n",
       "      <th>0</th>\n",
       "      <td>649.926829</td>\n",
       "      <td>654.761905</td>\n",
       "      <td>653.485437</td>\n",
       "    </tr>\n",
       "    <tr>\n",
       "      <th>1</th>\n",
       "      <td>647.10775</td>\n",
       "      <td>654.594697</td>\n",
       "      <td>646.206612</td>\n",
       "    </tr>\n",
       "    <tr>\n",
       "      <th>2</th>\n",
       "      <td>650.411429</td>\n",
       "      <td>656.247273</td>\n",
       "      <td>654.169355</td>\n",
       "    </tr>\n",
       "    <tr>\n",
       "      <th>3</th>\n",
       "      <td>650.008147</td>\n",
       "      <td>651.521073</td>\n",
       "      <td>650.521401</td>\n",
       "    </tr>\n",
       "    <tr>\n",
       "      <th>4</th>\n",
       "      <td>653.798828</td>\n",
       "      <td>649.974138</td>\n",
       "      <td>648.15102</td>\n",
       "    </tr>\n",
       "    <tr>\n",
       "      <th>5</th>\n",
       "      <td>648.639175</td>\n",
       "      <td>655.382239</td>\n",
       "      <td>649.253731</td>\n",
       "    </tr>\n",
       "    <tr>\n",
       "      <th>6</th>\n",
       "      <td>647.081511</td>\n",
       "      <td>652.84141</td>\n",
       "      <td>642.78481</td>\n",
       "    </tr>\n",
       "    <tr>\n",
       "      <th>7</th>\n",
       "      <td>647.371377</td>\n",
       "      <td>650.68</td>\n",
       "      <td>653.557769</td>\n",
       "    </tr>\n",
       "    <tr>\n",
       "      <th>8</th>\n",
       "      <td>647.004301</td>\n",
       "      <td>641.757576</td>\n",
       "      <td>654.263514</td>\n",
       "    </tr>\n",
       "    <tr>\n",
       "      <th>9</th>\n",
       "      <td>656.886905</td>\n",
       "      <td>644.847584</td>\n",
       "      <td>657.085308</td>\n",
       "    </tr>\n",
       "    <tr>\n",
       "      <th>10</th>\n",
       "      <td>646.781893</td>\n",
       "      <td>659.335938</td>\n",
       "      <td>661.831933</td>\n",
       "    </tr>\n",
       "  </tbody>\n",
       "</table>\n",
       "</div>"
      ],
      "text/plain": [
       "Customers[Geography]     France      Germany     Spain  \n",
       "Customers[Tenure]                                       \n",
       "0                     649.926829  654.761905  653.485437\n",
       "1                      647.10775  654.594697  646.206612\n",
       "2                     650.411429  656.247273  654.169355\n",
       "3                     650.008147  651.521073  650.521401\n",
       "4                     653.798828  649.974138   648.15102\n",
       "5                     648.639175  655.382239  649.253731\n",
       "6                     647.081511   652.84141   642.78481\n",
       "7                     647.371377      650.68  653.557769\n",
       "8                     647.004301  641.757576  654.263514\n",
       "9                     656.886905  644.847584  657.085308\n",
       "10                    646.781893  659.335938  661.831933"
      ]
     },
     "execution_count": null,
     "metadata": {},
     "output_type": "execute_result"
    }
   ],
   "source": [
    "df.pivot(index='Customers[Tenure]', columns='Customers[Geography]', values='[Average Credit Score]')"
   ]
  }
 ],
 "metadata": {
  "dependencies": {
   "environment": {},
   "lakehouse": {}
  },
  "kernel_info": {
   "name": "synapse_pyspark"
  },
  "kernelspec": {
   "display_name": "Synapse PySpark",
   "language": "Python",
   "name": "synapse_pyspark"
  },
  "language_info": {
   "name": "python"
  },
  "nteract": {
   "version": "nteract-front-end@1.0.0"
  },
  "spark_compute": {
   "compute_id": "/trident/default"
  }
 },
 "nbformat": 4,
 "nbformat_minor": 5
}
