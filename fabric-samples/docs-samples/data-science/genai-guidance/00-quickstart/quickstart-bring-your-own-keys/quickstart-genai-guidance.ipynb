{
	"cells": [
		{
			"cell_type": "markdown",
			"id": "9ce1fb73-c21b-4182-968d-8bc455d5da14",
			"metadata": {
				"nteract": {
					"transient": {
						"deleting": false
					}
				}
			},
			"source": [
				"# Building Retrieval Augmented Generation in Fabric: A Step-by-Step Guide"
			]
		},
		{
			"cell_type": "markdown",
			"id": "d7de9957-3931-4359-971b-dc3d2fa6457d",
			"metadata": {
				"microsoft": {
					"language": "python",
					"language_group": "synapse_pyspark"
				},
				"nteract": {
					"transient": {
						"deleting": false
					}
				}
			},
			"source": [
				"## Introduction\n",
				"\n",
				"Large Language Models (LLMs) such as OpenAI's ChatGPT are powerful tools, but their effectiveness for business applications and meeting customer needs greatly improves when customized with specific data using Generative AI (GenAI) solutions. Without this customization, LLMs may not deliver optimal results tailored to the requirements and expectations of businesses and their customers. \n",
				"\n",
				"One straightforward approach to enhance the results is to manually integrate specific information into prompts. For more advanced improvements, fine-tuning LLMs with custom data proves effective. This notebook demonstrates the Retrieval Augmented Generation (RAG) strategy, which supplements LLMs with dynamically retrieved and relevant information (e.g., business-specific data) to enrich their knowledge.\n",
				"\n",
				"Implementing RAG involves methods such as web searching or utilizing specific APIs. An effective approach is utilizing a Vector Search Index to efficiently explore unstructured text data. The Vector Index searches through a database of text chunks and ranks them based on how closely they match the meaning of the user's question  or query. Since full documents or articles are usually too large to embed directly into a vector, they are typically split into smaller chunks. These smaller chunks are then indexed in systems like Azure AI Search, making it easier to retrieve relevant information efficiently.\n",
				"\n",
				"<img src=\"https://appliedaipublicdata.blob.core.windows.net/cmuqa-08-09/output/fabric_guidance_genai.png\" style=\"width:1000px;\"/>\n",
				"\n",
				"This tutorial provides a quickstart guide to use Fabric for building RAG applications. The main steps in this tutorial are as following:\n",
				"\n",
				"1. Set up Azure OpenAI and Azure AI Search Services\n",
				"2. Load and manipulate the data from [CMU's QA dataset](https://www.cs.cmu.edu/~ark/QA-data/) of Wikipedia articles\n",
				"3. Chunk the data by leveraging Spark pooling for efficient processing\n",
				"4. Create embeddings using [Azure OpenAI Services](https://aka.ms/openai-embeddings)\n",
				"5. Create a Vector Index using [Azure AI Search](https://aka.ms/what-is-azure-search)\n",
				"6. Generate answers based on the retrieved context using [OpenAI](https://aka.ms/azure-openai-overview)\n",
				"\n",
				"\n",
				"## Prerequisites\n",
				"\n",
				"You need the following services to run this notebook.\n",
				"\n",
				"- [Microsoft Fabric](https://aka.ms/fabric/getting-started)\n",
				"- [Add a lakehouse](https://aka.ms/fabric/addlakehouse) to this notebook. You will download data from a public blob, then store the data in the lakehouse resource.\n",
				"- [Azure AI Studio for OpenAI](https://aka.ms/what-is-ai-studio)\n",
				"- [Azure AI Search](https://aka.ms/azure-ai-search)\n"
			]
		},
		{
			"cell_type": "markdown",
			"id": "8470049b-b464-41ce-a249-f9cafb6ce3d8",
			"metadata": {
				"microsoft": {
					"language": "python",
					"language_group": "synapse_pyspark"
				},
				"nteract": {
					"transient": {
						"deleting": false
					}
				}
			},
			"source": [
				"## Step 1: Overview of Azure Setup"
			]
		},
		{
			"cell_type": "markdown",
			"id": "46f2d1ab-62ad-47b6-a2e5-84beb01db642",
			"metadata": {
				"microsoft": {
					"language": "python",
					"language_group": "synapse_pyspark"
				},
				"nteract": {
					"transient": {
						"deleting": false
					}
				}
			},
			"source": [
				"#### Set up Azure OpenAI and Azure AI Search Keys\n",
				"\n",
				"To set up Azure OpenAI and Azure AI Search Services, you need to have an Azure subscription. If you don't have one, you can create a free account [here](https://aka.ms/azure-free-account-overview). \n",
				"\n",
				"Once you have an Azure subscription, you can follow the instructions [here](https://aka.ms/openai-create-deploy) to learn how to create an Azure OpenAI Service. \n",
				"\n",
				"In this section, you will define the endpoints and necessary keys to set up your Azure services. For deploying your own OpenAI models outside of Fabric, [Azure AI Studio for OpenAI](https://aka.ms/what-is-ai-studio) is recommended. Two models are required for RAG: `text-embedding-ada-002` for embedding and `gpt-35-turbo` or a similar chat model. Please provide the specific names and keys for these models in the following.\n",
				"\n",
				"Once done with setting up your Azure OpenAI Service, you need to set up your Azure AI Search which offers a user-friendly interface to create a vector database in Azure. Since you already have an Azure subscription, you can also create an Azure AI Search Service by following the instructions [here](https://aka.ms/azure-ai-search).\n",
				"\n",
				"You may choose a free tier for the Azure AI Search Service, which allows you to have 3 indexes and 50 MB of storage. The free tier is sufficient for this tutorial. You will need to select a subscription, set up a resource group, and name the service. Once configured, obtain the keys to specify as `aisearch_api_key`. Please complete the details for `aisearch_index_name`, etc in the following. \n",
				"\n",
				"<img src=\"https://appliedaipublicdata.blob.core.windows.net/cmuqa-08-09/output/Azure_AI_Search_Free_Tier.png\" style=\"width:800px;\"/>\n"
			]
		},
		{
			"cell_type": "code",
			"execution_count": null,
			"id": "03bf5635-5b2d-46ca-a6cc-0c8555e58354",
			"metadata": {
				"jupyter": {
					"outputs_hidden": false,
					"source_hidden": false
				},
				"microsoft": {
					"language": "python",
					"language_group": "synapse_pyspark"
				},
				"nteract": {
					"transient": {
						"deleting": false
					}
				}
			},
			"outputs": [],
			"source": [
				"# Fill in the following lines with your Azure OpenAI service information\n",
				"aoai_endpoint = \"https://<CHANGE_ME>.openai.azure.com\" # TODO: Provide the url endpoint for your created Azure OpenAI\n",
				"aoai_key = \"\" # TODO: Fill in your API key from Azure OpenAI \n",
				"aoai_deployment_name_embeddings = \"text-embedding-ada-002\"\n",
				"aoai_model_name_query = \"gpt-35-turbo\"\n",
				"aoai_api_version = \"2024-02-01\"\n",
				"\n",
				"# Setup key accesses to Azure AI Search\n",
				"aisearch_index_name = \"\" # TODO: Create a new index name: must only contain lowercase, numbers, and dashes\n",
				"aisearch_api_key = \"\" # TODO: Fill in your API key from Azure AI Search\n",
				"aisearch_endpoint = \"https://<CHANGE_ME>.search.windows.net\" # TODO: Provide the url endpoint for your created Azure AI Search "
			]
		},
		{
			"cell_type": "markdown",
			"id": "b8a6736d-a065-4769-936c-16e0f087d2a3",
			"metadata": {
				"microsoft": {
					"language": "python",
					"language_group": "synapse_pyspark"
				},
				"nteract": {
					"transient": {
						"deleting": false
					}
				}
			},
			"source": [
				"Once you have setup your Azure OpenAI and Azure AI Search Keys, you must import required libraries from [Spark](https://spark.apache.org/), [SynapseML](https://aka.ms/AboutSynapseML), [Azure Search](https://aka.ms/azure-search-libraries), and OpenAI. \n",
				"\n",
				"Make sure to use the `environment.yaml` from the same location as this notebook file to upload into Fabric to create, save, and publish a [Fabric environment](https://aka.ms/fabric/create-environment). Then select the newly created environment before running the cell below for imports."
			]
		},
		{
			"cell_type": "code",
			"execution_count": null,
			"id": "a8dc19ea-ca49-43e2-bc63-6e0c59edc332",
			"metadata": {
				"jupyter": {
					"outputs_hidden": false,
					"source_hidden": false
				},
				"microsoft": {
					"language": "python",
					"language_group": "synapse_pyspark"
				},
				"nteract": {
					"transient": {
						"deleting": false
					}
				}
			},
			"outputs": [],
			"source": [
				"import warnings\n",
				"warnings.filterwarnings(\"ignore\", category=DeprecationWarning) \n",
				"\n",
				"import os, requests, json, warnings\n",
				"\n",
				"from datetime import datetime, timedelta\n",
				"from azure.core.credentials import AzureKeyCredential\n",
				"from azure.search.documents import SearchClient\n",
				"\n",
				"from pyspark.sql import functions as F\n",
				"from pyspark.sql.functions import to_timestamp, current_timestamp, concat, col, split, explode, udf, monotonically_increasing_id, when, rand, coalesce, lit, input_file_name, regexp_extract, concat_ws, length, ceil\n",
				"from pyspark.sql.types import StructType, StructField, StringType, IntegerType, TimestampType, ArrayType, FloatType\n",
				"from pyspark.sql import Row\n",
				"import pandas as pd\n",
				"from azure.search.documents.indexes import SearchIndexClient\n",
				"from azure.search.documents.models import (\n",
				"    VectorizedQuery,\n",
				")\n",
				"from azure.search.documents.indexes.models import (  \n",
				"    SearchIndex,  \n",
				"    SearchField,  \n",
				"    SearchFieldDataType,  \n",
				"    SimpleField,  \n",
				"    SearchableField,   \n",
				"    SemanticConfiguration,  \n",
				"    SemanticPrioritizedFields,\n",
				"    SemanticField,  \n",
				"    SemanticSearch,\n",
				"    VectorSearch,  \n",
				"    HnswAlgorithmConfiguration,\n",
				"    HnswParameters,  \n",
				"    VectorSearchProfile,\n",
				"    VectorSearchAlgorithmKind,\n",
				"    VectorSearchAlgorithmMetric,\n",
				")\n",
				"\n",
				"import openai\n",
				"import matplotlib.pyplot as plt\n",
				"from synapse.ml.featurize.text import PageSplitter\n",
				"import ipywidgets as widgets  \n",
				"from IPython.display import display as w_display"
			]
		},
		{
			"cell_type": "markdown",
			"id": "4c501ebb-5e22-418f-8c15-257882b5f597",
			"metadata": {
				"microsoft": {
					"language": "python",
					"language_group": "synapse_pyspark"
				},
				"nteract": {
					"transient": {
						"deleting": false
					}
				}
			},
			"source": [
				"## Step 2: Load the data into the Lakehouse and Spark"
			]
		},
		{
			"cell_type": "markdown",
			"id": "63d497bd-1d64-4154-9f8f-b0307010cbda",
			"metadata": {
				"nteract": {
					"transient": {
						"deleting": false
					}
				}
			},
			"source": [
				"#### Dataset\n",
				"\n",
				"The Carnegie Mellon University Question-Answer dataset version 1.2 is a corpus of Wikipedia articles, manually-generated factual questions based on the articles, and manually-generated answers. The data is hosted on an Azure blob storage under the same license [GFDL](http://www.gnu.org/licenses/fdl.html). For simplicity, the data is cleaned up and refined into a single structured table with the following fields.\n",
				"\n",
				"- ArticleTitle: the name of the Wikipedia article from which questions and answers initially came.\n",
				"- Question: manually generated question based on article\n",
				"- Answer: manually generated answer based on question and article\n",
				"- DifficultyFromQuestioner: prescribed difficulty rating for the question as given to the question-writer\n",
				"- DiffuctlyFromAnswerer: Difficulty rating assigned by the individual who evaluated and answered the question, which may differ from the difficulty from DifficultyFromQuestioner\n",
				"- ExtractedPath: path to original article. There may be more than one Question-Answer pair per article\n",
				"- text: cleaned wikipedia artices\n",
				"\n",
				"For more information about the license, please download a copy of the license named `LICENSE-S08,S09` from the same location.\n",
				"\n",
				"##### History and Citation\n",
				"\n",
				"The dataset used for this notebook requires the following citation:\n",
				"\n",
				"    CMU Question/Answer Dataset, Release 1.2\n",
				"\n",
				"    8/23/2013\n",
				"\n",
				"    Noah A. Smith, Michael Heilman, and Rebecca Hw\n",
				"\n",
				"    Question Generation as a Competitive Undergraduate Course Project\n",
				"\n",
				"    In Proceedings of the NSF Workshop on the Question Generation Shared Task and Evaluation Challenge, Arlington, VA, September 2008. \n",
				"    Available at: http://www.cs.cmu.edu/~nasmith/papers/smith+heilman+hwa.nsf08.pdf\n",
				"\n",
				"    Original dataset acknowledgements:\n",
				"    This research project was supported by NSF IIS-0713265 (to Smith), an NSF Graduate Research Fellowship (to Heilman), NSF IIS-0712810 and IIS-0745914 (to Hwa), and Institute of Education Sciences, U.S. Department of Education R305B040063 (to Carnegie Mellon).\n",
				"\n",
				"    cmu-qa-08-09 (modified verison)\n",
				"\n",
				"    6/12/2024\n",
				"\n",
				"    Amir Jafari, Alexandra Savelieva, Brice Chung, Hossein Khadivi Heris, Journey McDowell\n",
				"\n",
				"    Released under same license GFDL (http://www.gnu.org/licenses/fdl.html)\n",
				"    All the GNU license applies to the dataset in all copies.\n",
				"\n",
				"    "
			]
		},
		{
			"cell_type": "code",
			"execution_count": null,
			"id": "7bf0bca7-9c93-4059-9308-6f09eda2a80b",
			"metadata": {
				"collapsed": false,
				"jupyter": {
					"outputs_hidden": false,
					"source_hidden": false
				},
				"microsoft": {
					"language": "python",
					"language_group": "synapse_pyspark"
				},
				"nteract": {
					"transient": {
						"deleting": false
					}
				}
			},
			"outputs": [],
			"source": [
				"# Publicly hosted refined dataset inspired by https://www.cs.cmu.edu/~ark/QA-data/\n",
				"storage_account_name = \"appliedaipublicdata\"\n",
				"container_name = \"cmuqa-08-09\"\n",
				"\n",
				"wasbs_path = f\"wasbs://{container_name}@{storage_account_name}.blob.core.windows.net/output/part-00000-c258b030-b04e-4f9d-b887-c85225af4332-c000.snappy.parquet\"  \n",
				"\n",
				"# Save as a delta lake, parquet table to Tables section of the default lakehouse\n",
				"spark.read.parquet(wasbs_path).write.mode(\"overwrite\").format(\"delta\").saveAsTable(\"cmu_qa_08_09\")\n",
				"\n",
				"# Read parquet table from default lakehouse into spark dataframe\n",
				"df_dataset = spark.sql(\"SELECT * FROM cmu_qa_08_09\")\n",
				"display(df_dataset)"
			]
		},
		{
			"cell_type": "markdown",
			"id": "38648731-b3af-4795-9c01-4f2750429cd8",
			"metadata": {
				"microsoft": {
					"language": "python",
					"language_group": "synapse_pyspark"
				},
				"nteract": {
					"transient": {
						"deleting": false
					}
				}
			},
			"source": [
				"The original dataset is divided into student Semesters S08, S09, and S10. Each semester contains multiple sets, and each set comprises approximately 10 Wikipedia articles. As illustrated earlier, due to varying licenses, the entire datasets are consolidated into a single table encompassing S08 and S09, omitting S10. For sake of simplicity in demonstration, this tutorial will specifically highlight sets 1 and 2 within S08. The primary focus areas will be `wildlife` and `countries`."
			]
		},
		{
			"cell_type": "code",
			"execution_count": null,
			"id": "fc2743fc-744f-4f42-9e3f-f55bb100bbb3",
			"metadata": {
				"collapsed": false,
				"jupyter": {
					"outputs_hidden": false,
					"source_hidden": false
				},
				"microsoft": {
					"language": "python",
					"language_group": "synapse_pyspark"
				},
				"nteract": {
					"transient": {
						"deleting": false
					}
				}
			},
			"outputs": [],
			"source": [
				"# Filter the DataFrame to include only the specified paths\n",
				"df_selected = df_dataset.filter((col(\"ExtractedPath\").like(\"S08/data/set1/%\")) | (col(\"ExtractedPath\").like(\"S08/data/set2/%\")))\n",
				"\n",
				"# Select only the required columns\n",
				"filtered_df = df_selected.select('ExtractedPath', 'ArticleTitle', 'text')\n",
				"\n",
				"# Drop duplicate rows based on ExtractedPath, ArticleTitle, and text\n",
				"df_wiki = filtered_df.dropDuplicates(['ExtractedPath', 'ArticleTitle', 'text'])\n",
				"\n",
				"# Show the result\n",
				"display(df_wiki)"
			]
		},
		{
			"cell_type": "markdown",
			"id": "d32b74de-ad3f-4811-97ad-dad5a20bd56d",
			"metadata": {
				"microsoft": {
					"language": "python",
					"language_group": "synapse_pyspark"
				},
				"nteract": {
					"transient": {
						"deleting": false
					}
				}
			},
			"source": [
				"## Step 3: Chunk the text "
			]
		},
		{
			"cell_type": "markdown",
			"id": "69b5dd2c-9995-46ea-a306-87b116f59de0",
			"metadata": {
				"microsoft": {
					"language": "python",
					"language_group": "synapse_pyspark"
				},
				"nteract": {
					"transient": {
						"deleting": false
					}
				}
			},
			"source": [
				"When large documents are inputted into the LLMs, it needs to extract the most important information to answer user queries. Chunking involves breaking down large text into smaller segments or chunks. In the RAG context, embedding smaller chunks rather than entire documents for the knowledge base means retrieving only the most relevant chunks in response to a user's query. This approach reduces input tokens and provides more focused context for the LLM to process.\n",
				"\n",
				"To perform chunking, you should use the `PageSplitter` implementation from the `SynapseML` library for distributed processing. Adjusting the page length parameters (in characters) is crucial for optimizing performance based on the text size supported by the language model and the number of chunks selected as context for the conversational bot. For demonstration, a page length of 4000 characters is recommended."
			]
		},
		{
			"cell_type": "code",
			"execution_count": null,
			"id": "a1a89263-5340-48fc-a64b-0c032345dc3c",
			"metadata": {
				"collapsed": false,
				"jupyter": {
					"outputs_hidden": false,
					"source_hidden": false
				},
				"microsoft": {
					"language": "python",
					"language_group": "synapse_pyspark"
				},
				"nteract": {
					"transient": {
						"deleting": false
					}
				}
			},
			"outputs": [],
			"source": [
				"ps = (\n",
				"    PageSplitter()\n",
				"    .setInputCol(\"text\")\n",
				"    .setMaximumPageLength(4000)\n",
				"    .setMinimumPageLength(3000)\n",
				"    .setOutputCol(\"chunks\")\n",
				")\n",
				"\n",
				"df_splitted = ps.transform(df_wiki) \n",
				"display(df_splitted.limit(10)) "
			]
		},
		{
			"cell_type": "markdown",
			"id": "4b269af9-ff00-4eeb-b3be-f2fc958e6f6d",
			"metadata": {
				"microsoft": {
					"language": "python",
					"language_group": "synapse_pyspark"
				},
				"nteract": {
					"transient": {
						"deleting": false
					}
				}
			},
			"source": [
				"Note that each row can contain multiple chunks from the same document represented as a vector. The function `explode` distributes and duplicates the vector's content across several rows."
			]
		},
		{
			"cell_type": "code",
			"execution_count": null,
			"id": "996c4cc8-62ca-4e59-a294-8b475976ba5a",
			"metadata": {
				"collapsed": false,
				"jupyter": {
					"outputs_hidden": false,
					"source_hidden": false
				},
				"microsoft": {
					"language": "python",
					"language_group": "synapse_pyspark"
				},
				"nteract": {
					"transient": {
						"deleting": false
					}
				}
			},
			"outputs": [],
			"source": [
				"df_chunks = df_splitted.select('ExtractedPath', 'ArticleTitle', 'text', explode(col(\"chunks\")).alias(\"chunk\"))\n",
				"display(df_chunks)"
			]
		},
		{
			"cell_type": "markdown",
			"id": "8d4d8328-3913-4afd-92b1-7e85eb6829af",
			"metadata": {
				"microsoft": {
					"language": "python",
					"language_group": "synapse_pyspark"
				},
				"nteract": {
					"transient": {
						"deleting": false
					}
				}
			},
			"source": [
				"Now, you will add a unique id for each row. "
			]
		},
		{
			"cell_type": "code",
			"execution_count": null,
			"id": "815b44d7-53c1-493d-877b-b585489a2dec",
			"metadata": {
				"collapsed": false,
				"jupyter": {
					"outputs_hidden": false,
					"source_hidden": false
				},
				"microsoft": {
					"language": "python",
					"language_group": "synapse_pyspark"
				},
				"nteract": {
					"transient": {
						"deleting": false
					}
				}
			},
			"outputs": [],
			"source": [
				"df_chunks_id = df_chunks.withColumn(\"Id\", monotonically_increasing_id())\n",
				"display(df_chunks_id)"
			]
		},
		{
			"cell_type": "markdown",
			"id": "9b438612-b42c-4921-934d-c24252e9b140",
			"metadata": {
				"microsoft": {
					"language": "python",
					"language_group": "synapse_pyspark"
				},
				"nteract": {
					"transient": {
						"deleting": false
					}
				}
			},
			"source": [
				"#"
			]
		},
		{
			"cell_type": "markdown",
			"id": "d40ed73e-e30a-4e91-aaee-e15aa585b814",
			"metadata": {
				"microsoft": {
					"language": "python",
					"language_group": "synapse_pyspark"
				},
				"nteract": {
					"transient": {
						"deleting": false
					}
				}
			},
			"source": [
				"## Step 4: Create Embeddings"
			]
		},
		{
			"cell_type": "markdown",
			"id": "3d119a0e-59d8-44ff-b37a-26f0148fd78e",
			"metadata": {
				"microsoft": {
					"language": "python",
					"language_group": "synapse_pyspark"
				},
				"nteract": {
					"transient": {
						"deleting": false
					}
				}
			},
			"source": [
				"In RAG, embedding refers to incorporating relevant chunks of information from documents into the model's knowledge base. These chunks are chosen based on their relevance to potential user queries, allowing the model to retrieve specific and targeted information rather than entire documents. Embedding helps optimize the retrieval process by providing concise and pertinent context for generating accurate responses to user inputs.\n",
				"\n",
				"In this section, you will utilize Azure OpenAI to generate embeddings for each chunk of text. The integration between Azure and Spark offers a significant advantage for handling large datasets efficiently. Although the current dataset is not particularly large, employing Spark User-Defined Functions (UDFs) ensures readiness for future scalability. UDFs enable the creation of custom functions that can process Spark DataFrames, enhancing Spark's capabilities.\n",
				"\n",
				"Next, you will encapsulate the embedding function with a UDF decorator to compute embeddings effectively. Below is the code snippet demonstrating the UDF definition and its application to the DataFrame.\n"
			]
		},
		{
			"cell_type": "code",
			"execution_count": null,
			"id": "868a18bb-6649-4112-b045-611f48b8e086",
			"metadata": {
				"collapsed": false,
				"jupyter": {
					"outputs_hidden": false,
					"source_hidden": false
				},
				"microsoft": {
					"language": "python",
					"language_group": "synapse_pyspark"
				},
				"nteract": {
					"transient": {
						"deleting": false
					}
				}
			},
			"outputs": [],
			"source": [
				"# UDF definition\n",
				"@udf(returnType=ArrayType(FloatType()))\n",
				"def get_openai_embedding(chunk):\n",
				"    embed_client = openai.AzureOpenAI(\n",
				"        api_version=aoai_api_version,\n",
				"        azure_endpoint=aoai_endpoint,\n",
				"        api_key=aoai_key,\n",
				"    )\n",
				"    query_embedding = embed_client.embeddings.create(input=chunk, model=aoai_deployment_name_embeddings).data[0].embedding\n",
				"    return query_embedding\n",
				"\n",
				"# Apply UDF to DataFrame\n",
				"df_embeddings = df_chunks_id.withColumn(\"Embedding\", get_openai_embedding(col(\"Chunk\")))\n",
				"\n",
				"# Display the result\n",
				"display(df_embeddings)"
			]
		},
		{
			"cell_type": "markdown",
			"id": "1093aa67-795e-4d9e-a2e6-8945fe84bfe9",
			"metadata": {
				"microsoft": {
					"language": "python",
					"language_group": "synapse_pyspark"
				},
				"nteract": {
					"transient": {
						"deleting": false
					}
				}
			},
			"source": [
				"## Step 5: Create Vector Index with Azure AI Search "
			]
		},
		{
			"cell_type": "markdown",
			"id": "5a0f29c3-dc82-4b4b-ba8e-65664bb09ea1",
			"metadata": {
				"microsoft": {
					"language": "python",
					"language_group": "synapse_pyspark"
				},
				"nteract": {
					"transient": {
						"deleting": false
					}
				}
			},
			"source": [
				"In RAG, creating a vector index helps quickly retrieve the most relevant information for user queries. By organizing document chunks into a vector space, RAG can match and generate responses based on similar content rather than just keywords. This makes the responses more accurate and meaningful, improving how well the system understands and responds to user inputs.\n",
				"\n",
				"In the next steps, you will set up a search index in Azure AI Search that integrates both semantic and vector search capabilities. You can begin by initializing the `SearchIndexClient` with the required endpoint and API key. Then, define the data structure using a list of fields, specifying their types and attributes. The `Chunk` field will hold the text to be retrieved, while the `Embedding` field will facilitate vector-based searches. Additional fields like `ArticleTitle` and `ExtractedPath` can be included for filtering purposes. For custom datasets, you can adjust the fields as necessary.\n",
				"\n",
				"For vector search, configure the Hierarchical Navigable Small Worlds (HNSW) algorithm by specifying its parameters and creating a usage profile. You can also set up semantic search by defining a configuration that emphasizes specific fields for improved relevance. Finally, create the search index with these configurations and utilize the client to create or update the index, ensuring it supports advanced search operations. \n",
				"\n",
				"Note that while this tutorial focuses on vector search, Azure Search offers text search, filtering, and semantic ranking capabilities that are beneficial for various applications."
			]
		},
		{
			"cell_type": "markdown",
			"id": "26a9e587-bfa4-4898-a43e-68d1556a4118",
			"metadata": {
				"microsoft": {
					"language": "python",
					"language_group": "synapse_pyspark"
				},
				"nteract": {
					"transient": {
						"deleting": false
					}
				}
			},
			"source": [
				"> [!TIP]\n",
				"> You can skip the following details. You will use the Python SDK for Azure AI Search to create a new Vector Index. This index will include fields for `Chunk`, which holds the text to be retrieved, and `Embedding`, generated from the OpenAI embedding model. Additional searchable fields like `ArticleTitle` and `ExtractedPath` are useful in this dataset, but you can customize your own dataset by adding or removing fields as needed."
			]
		},
		{
			"cell_type": "code",
			"execution_count": null,
			"id": "7ebe3f21-dba8-4fc7-a1d4-481e08399488",
			"metadata": {
				"jupyter": {
					"outputs_hidden": false,
					"source_hidden": false
				},
				"microsoft": {
					"language": "python",
					"language_group": "synapse_pyspark"
				},
				"nteract": {
					"transient": {
						"deleting": false
					}
				}
			},
			"outputs": [],
			"source": [
				"index_client = SearchIndexClient(\n",
				"    endpoint=aisearch_endpoint,\n",
				"    credential=AzureKeyCredential(aisearch_api_key),\n",
				")\n",
				"fields = [\n",
				"    SimpleField(name=\"Id\", type=SearchFieldDataType.String, key=True, sortable=True, filterable=True, facetable=True),\n",
				"    SearchableField(name=\"ArticleTitle\", type=SearchFieldDataType.String, filterable=True),\n",
				"    SearchableField(name=\"ExtractedPath\", type=SearchFieldDataType.String, filterable=True),\n",
				"    SearchableField(name=\"Chunk\", type=SearchFieldDataType.String, searchable=True),\n",
				"    SearchField(name=\"Embedding\",\n",
				"                type=SearchFieldDataType.Collection(SearchFieldDataType.Single),\n",
				"                searchable=True,\n",
				"                vector_search_dimensions=1536,\n",
				"                vector_search_profile_name=\"my-vector-config\"\n",
				"    ),\n",
				"]\n",
				"\n",
				"vector_search = VectorSearch(\n",
				"    algorithms=[\n",
				"        HnswAlgorithmConfiguration(\n",
				"            name=\"myHnsw\",\n",
				"            kind=VectorSearchAlgorithmKind.HNSW,\n",
				"            parameters=HnswParameters(\n",
				"                m=4,\n",
				"                ef_construction=400,\n",
				"                ef_search=500,\n",
				"                metric=VectorSearchAlgorithmMetric.COSINE\n",
				"            )\n",
				"        )\n",
				"    ],\n",
				"    profiles=[\n",
				"        VectorSearchProfile(\n",
				"            name=\"my-vector-config\",\n",
				"            algorithm_configuration_name=\"myHnsw\",\n",
				"        ),\n",
				"    ]\n",
				")\n",
				"\n",
				"# Note: Useful for reranking \n",
				"semantic_config = SemanticConfiguration(\n",
				"    name=\"my-semantic-config\",\n",
				"    prioritized_fields=SemanticPrioritizedFields(\n",
				"        title_field=SemanticField(field_name=\"ArticleTitle\"),\n",
				"        prioritized_content_fields=[SemanticField(field_name=\"Chunk\")]\n",
				"    )\n",
				")\n",
				"\n",
				"# Create the semantic settings with the configuration\n",
				"semantic_search = SemanticSearch(configurations=[semantic_config])\n",
				"\n",
				"# Create the search index with the semantic settings\n",
				"index = SearchIndex(\n",
				"    name=aisearch_index_name,\n",
				"    fields=fields,\n",
				"    vector_search=vector_search,\n",
				"    semantic_search=semantic_search\n",
				")\n",
				"result = index_client.create_or_update_index(index)\n",
				"print(f' {result.name} created')\n"
			]
		},
		{
			"cell_type": "markdown",
			"id": "bfc476d5-7c19-4807-a4a4-887fd64186c4",
			"metadata": {
				"microsoft": {
					"language": "python",
					"language_group": "synapse_pyspark"
				},
				"nteract": {
					"transient": {
						"deleting": false
					}
				}
			},
			"source": [
				"The following code defines a User Defined Function (UDF) named `insertToAISearch` that inserts data into an Azure AI Search index. This UDF, annotated with `@udf(returnType=StringType())`, specifies the return type as a string. The function takes five parameters: `Id`, `ArticleTitle`, `ExtractedPath`, `Chunk`, and `Embedding`. It constructs a URL for the Azure AI Search API, incorporating the search service name and index name. The function then creates a payload in JSON format, including the document fields and specifying the search action as `upload`. The headers are set to include the content type and the API key for authentication. A POST request is sent to the constructed URL with the headers and payload, and the response from the server is printed. This function facilitates the uploading of documents to the Azure AI Search index. Please make sure to include the fields specified in the previous section for your own dataset."
			]
		},
		{
			"cell_type": "code",
			"execution_count": null,
			"id": "62c6edc6-f96c-4e89-865d-5e701c813544",
			"metadata": {
				"jupyter": {
					"outputs_hidden": false,
					"source_hidden": false
				},
				"microsoft": {
					"language": "python",
					"language_group": "synapse_pyspark"
				},
				"nteract": {
					"transient": {
						"deleting": false
					}
				}
			},
			"outputs": [],
			"source": [
				"@udf(returnType=StringType())\n",
				"def insertToAISearch(Id, ArticleTitle, ExtractedPath, Chunk, Embedding):\n",
				"    url = f\"{aisearch_endpoint}/indexes/{aisearch_index_name}/docs/index?api-version=2023-11-01\"\n",
				"\n",
				"    payload = json.dumps(\n",
				"        {\n",
				"            \"value\": [\n",
				"                {\n",
				"                    \"Id\": str(Id),\n",
				"                    \"ArticleTitle\": ArticleTitle,\n",
				"                    \"ExtractedPath\": ExtractedPath,\n",
				"                    \"Chunk\": Chunk, \n",
				"                    \"Embedding\": Embedding,\n",
				"                    \"@search.action\": \"upload\",\n",
				"                },\n",
				"            ]\n",
				"        }\n",
				"    )\n",
				"\n",
				"    headers = {\n",
				"        \"Content-Type\": \"application/json\",\n",
				"        \"api-key\": aisearch_api_key,\n",
				"    }\n",
				"\n",
				"    response = requests.request(\"POST\", url, headers=headers, data=payload)\n",
				"    print(response.text)\n",
				"\n",
				"    if response.status_code == 200 or response.status_code == 201:\n",
				"        return \"Success\"\n",
				"    else:\n",
				"        return response.text"
			]
		},
		{
			"cell_type": "markdown",
			"id": "a66e4131-0ccf-4bfe-b425-2954405d2a87",
			"metadata": {
				"microsoft": {
					"language": "python",
					"language_group": "synapse_pyspark"
				},
				"nteract": {
					"transient": {
						"deleting": false
					}
				}
			},
			"source": [
				"In the following, you will be using the previously defined UDF `insertToAISearch` to upload data from a DataFrame to the Azure AI Search index. The DataFrame `df_embeddings` contains fields such as `Id`, `ArticleTitle`, `ExtractedPath`, `Chunk`, and `Embedding`.\n",
				"\n",
				"You apply the `insertToAISearch` function to each row to add a new column named `errorAISearch` to `df_embeddings`. This column captures responses from the Azure AI Search API, allowing you to check for any upload errors. This error checking ensures that each document is successfully uploaded to the search index.\n",
				"\n",
				"Finally, you use the `display` function to examine the modified DataFrame `df_embeddings_ingested` visually and verify the processing accuracy."
			]
		},
		{
			"cell_type": "code",
			"execution_count": null,
			"id": "23880541-031b-4883-8419-23b45d19e343",
			"metadata": {
				"collapsed": false,
				"jupyter": {
					"outputs_hidden": false,
					"source_hidden": false
				},
				"microsoft": {
					"language": "python",
					"language_group": "synapse_pyspark"
				},
				"nteract": {
					"transient": {
						"deleting": false
					}
				}
			},
			"outputs": [],
			"source": [
				"df_embeddings_ingested = df_embeddings.withColumn(\n",
				"    \"errorAISearch\",\n",
				"    insertToAISearch(\n",
				"        df_embeddings[\"Id\"],\n",
				"        df_embeddings[\"ArticleTitle\"],\n",
				"        df_embeddings[\"ExtractedPath\"],\n",
				"        df_embeddings[\"Chunk\"],\n",
				"        df_embeddings[\"Embedding\"]\n",
				"    ),\n",
				")\n",
				"\n",
				"display(df_embeddings_ingested)"
			]
		},
		{
			"cell_type": "markdown",
			"id": "8c340f15-ed44-4adb-bc5b-2ad55bb3fd3f",
			"metadata": {
				"microsoft": {
					"language": "python",
					"language_group": "synapse_pyspark"
				},
				"nteract": {
					"transient": {
						"deleting": false
					}
				}
			},
			"source": [
				"You can now proceed to perform sanity checks to ensure the data has been correctly uploaded to the Azure AI Search index. First, count the number of successful uploads by filtering the DataFrame for rows where `errorAISearch` is \"Success\" and using the count method to determine the total. Next, identify unsuccessful uploads by filtering for rows containing errors in `errorAISearch` and count these occurrences. Print the counts of successful and unsuccessful uploads to summarize the results. If there are any unsuccessful uploads, use the show method to display details of those rows. This allows you to inspect and address any issues, ensuring the upload process is validated and any necessary corrective actions are taken."
			]
		},
		{
			"cell_type": "code",
			"execution_count": null,
			"id": "fce35c33-029c-46fe-ac3c-e4aa0a6c2cf4",
			"metadata": {
				"jupyter": {
					"outputs_hidden": false,
					"source_hidden": false
				},
				"microsoft": {
					"language": "python",
					"language_group": "synapse_pyspark"
				},
				"nteract": {
					"transient": {
						"deleting": false
					}
				}
			},
			"outputs": [],
			"source": [
				"\n",
				"# Count the number of successful uploads\n",
				"successful_uploads = df_embeddings_ingested.filter(col(\"errorAISearch\") == \"Success\").count()\n",
				"\n",
				"# Identify and display unsuccessful uploads\n",
				"unsuccessful_uploads = df_embeddings_ingested.filter(col(\"errorAISearch\") != \"Success\")\n",
				"unsuccessful_uploads_count = unsuccessful_uploads.count()\n",
				"\n",
				"# Display the results\n",
				"print(f\"Number of successful uploads: {successful_uploads}\")\n",
				"print(f\"Number of unsuccessful uploads: {unsuccessful_uploads_count}\")\n",
				"\n",
				"# Show details of unsuccessful uploads if any\n",
				"if unsuccessful_uploads_count > 0:\n",
				"    unsuccessful_uploads.show()"
			]
		},
		{
			"cell_type": "markdown",
			"id": "d5abe6dd-8145-4558-a9b1-915f045e9300",
			"metadata": {
				"nteract": {
					"transient": {
						"deleting": false
					}
				}
			},
			"source": [
				"## Step 6: Demonstrate Retrieval Augmented Generation"
			]
		},
		{
			"cell_type": "markdown",
			"id": "183c1173",
			"metadata": {},
			"source": [
				"Once you've chunked, embedded, and created a vector index, the final step is to use this indexed data to find and retrieve the most relevant information based on user queries. This allows the system to generate accurate responses or recommendations by leveraging the indexed data's organization and similarity scores from the embeddings. \n",
				"\n",
				"In the following, you create a function for retrieving chunks of relevant Wikipedia articles from the vector index named Azure AI Search. Whenever a new question gets asked, you procedurally\n",
				"\n",
				"- embed the question into a vector\n",
				"- retrieve the top N chunks from Azure AI Search using the vector\n",
				"- concatenate the results to get a single string"
			]
		},
		{
			"cell_type": "code",
			"execution_count": null,
			"id": "d07128d1-ecb6-4913-a27b-a114d9d5a0dd",
			"metadata": {
				"jupyter": {
					"outputs_hidden": false,
					"source_hidden": false
				},
				"microsoft": {
					"language": "python",
					"language_group": "synapse_pyspark"
				},
				"nteract": {
					"transient": {
						"deleting": false
					}
				}
			},
			"outputs": [],
			"source": [
				"def get_context_source(question, topN=3):\n",
				"    \"\"\"\n",
				"    Retrieves contextual information and sources related to a given question using embeddings and a vector search.  \n",
				"    Parameters:  \n",
				"    question (str): The question for which the context and sources are to be retrieved.  \n",
				"    topN (int, optional): The number of top results to retrieve. Default is 3.  \n",
				"      \n",
				"    Returns:  \n",
				"    List: A list containing two elements:  \n",
				"        1. A string with the concatenated retrieved context.  \n",
				"        2. A list of retrieved source paths.  \n",
				"    \"\"\"\n",
				"    embed_client = openai.AzureOpenAI(\n",
				"        api_version=aoai_api_version,\n",
				"        azure_endpoint=aoai_endpoint,\n",
				"        api_key=aoai_key,\n",
				"    )\n",
				"\n",
				"    query_embedding = embed_client.embeddings.create(input=question, model=aoai_deployment_name_embeddings).data[0].embedding\n",
				"\n",
				"    vector_query = VectorizedQuery(vector=query_embedding, k_nearest_neighbors=topN, fields=\"Embedding\")\n",
				"\n",
				"    search_client = SearchClient(\n",
				"        aisearch_endpoint,\n",
				"        aisearch_index_name,\n",
				"        credential=AzureKeyCredential(aisearch_api_key)\n",
				"    )\n",
				"\n",
				"    results = search_client.search(   \n",
				"        vector_queries=[vector_query],\n",
				"        top=topN,\n",
				"    )\n",
				"\n",
				"    retrieved_context = \"\"\n",
				"    retrieved_sources = []\n",
				"    for result in results:\n",
				"        retrieved_context += result['ExtractedPath'] + \"\\n\" + result['Chunk'] + \"\\n\\n\"\n",
				"        retrieved_sources.append(result['ExtractedPath'])\n",
				"\n",
				"    return [retrieved_context, retrieved_sources]"
			]
		},
		{
			"cell_type": "markdown",
			"id": "2ffe3c7b",
			"metadata": {},
			"source": [
				"You need another function to get the response from the OpenAI Chat model. This function combines the user question with the context retrieved from Azure AI Search. This example is basic and doesn't include chat history or memory. First, you initialize the chat client with the chosen model and then perform a chat completion to obtain the response. The messages have a \"system\" content that can be adjusted to enhance the response's tone, conciseness, and other aspects."
			]
		},
		{
			"cell_type": "code",
			"execution_count": null,
			"id": "dff129ac-da5e-4284-aa2a-83b2348315be",
			"metadata": {
				"jupyter": {
					"outputs_hidden": false,
					"source_hidden": false
				},
				"microsoft": {
					"language": "python",
					"language_group": "synapse_pyspark"
				},
				"nteract": {
					"transient": {
						"deleting": false
					}
				}
			},
			"outputs": [],
			"source": [
				"def get_answer(question, context):\n",
				"    \"\"\"  \n",
				"    Generates a response to a given question using provided context and an Azure OpenAI model.  \n",
				"    \n",
				"    Parameters:  \n",
				"        question (str): The question that needs to be answered.  \n",
				"        context (str): The contextual information related to the question that will help generate a relevant response.  \n",
				"    \n",
				"    Returns:  \n",
				"        str: The response generated by the Azure OpenAI model based on the provided question and context.  \n",
				"    \"\"\"\n",
				"    messages = [\n",
				"        {\n",
				"            \"role\": \"system\",\n",
				"            \"content\": \"You are a helpful chat assistant who will be provided text information for you to refer to in response.\"\n",
				"        }\n",
				"    ]\n",
				"\n",
				"    messages.append(\n",
				"        {\n",
				"            \"role\": \"user\", \n",
				"            \"content\": question + \"\\n\" + context,\n",
				"        },\n",
				"    )\n",
				"\n",
				"    chat_client = openai.AzureOpenAI(\n",
				"        azure_endpoint=aoai_endpoint,\n",
				"        api_key=aoai_key,\n",
				"        api_version=aoai_api_version,\n",
				"    )\n",
				"\n",
				"    chat_completion = chat_client.chat.completions.create(\n",
				"        model=aoai_model_name_query,\n",
				"        messages=messages,\n",
				"    )\n",
				"\n",
				"    return chat_completion.choices[0].message.content"
			]
		},
		{
			"cell_type": "code",
			"execution_count": null,
			"id": "ba8975a7-2b0e-4316-b910-c7332429f65e",
			"metadata": {
				"jupyter": {
					"outputs_hidden": false,
					"source_hidden": false
				},
				"microsoft": {
					"language": "python",
					"language_group": "synapse_pyspark"
				},
				"nteract": {
					"transient": {
						"deleting": false
					}
				}
			},
			"outputs": [],
			"source": [
				"question = \"How do elephants communicate over long distances?\"\n",
				"retrieved_context, retrieved_sources = get_context_source(question)"
			]
		},
		{
			"cell_type": "code",
			"execution_count": null,
			"id": "d6102c4d-6306-4b62-b040-b7d272cdc1e6",
			"metadata": {
				"jupyter": {
					"outputs_hidden": false,
					"source_hidden": false
				},
				"microsoft": {
					"language": "python",
					"language_group": "synapse_pyspark"
				},
				"nteract": {
					"transient": {
						"deleting": false
					}
				}
			},
			"outputs": [],
			"source": [
				"answer = get_answer(question, retrieved_context)\n",
				"print(answer)"
			]
		},
		{
			"cell_type": "markdown",
			"id": "b1b88435-2f72-4df7-8140-f8b11a5f9aa9",
			"metadata": {
				"nteract": {
					"transient": {
						"deleting": false
					}
				}
			},
			"source": [
				"You have successfully learned how to use the tools mentioned above to embed and chunk the CMU QA dataset for your RAG application. Now that you've seen the retrieval and answering functions in action, you can create a basic ipywidget to serve as a chatbot interface.  After running the cell below, enter your question and press `Enter` to get a response from the RAG solution. Modify the text to ask a new question and press `Enter` again.\n",
				"\n",
				"> [!Tip]\n",
				"> This RAG solution can make mistakes. Feel free to change the OpenAI model to gpt-4 or modify the system content prompt "
			]
		},
		{
			"cell_type": "code",
			"execution_count": null,
			"id": "1e419c79-e538-4057-bb39-7a15dbeced67",
			"metadata": {
				"jupyter": {
					"outputs_hidden": false,
					"source_hidden": false
				},
				"microsoft": {
					"language": "python",
					"language_group": "synapse_pyspark"
				},
				"nteract": {
					"transient": {
						"deleting": false
					}
				}
			},
			"outputs": [],
			"source": [
				"# Create a text box for input  \n",
				"text = widgets.Text(  \n",
				"    value='',  \n",
				"    placeholder='Type something',  \n",
				"    description='Question:',  \n",
				"    disabled=False,  \n",
				"    continuous_update=False,  \n",
				"    layout=widgets.Layout(width='800px')  # Adjust the width as needed  \n",
				")  \n",
				"  \n",
				"# Create an HTML widget to display the answer  \n",
				"label = widgets.HTML(  \n",
				"    value='',  \n",
				"    layout=widgets.Layout(width='800px')  # Adjust the width as needed  \n",
				")  \n",
				"  \n",
				"# Define what happens when the text box value changes  \n",
				"def on_text_change(change):  \n",
				"    if change['type'] == 'change' and change['name'] == 'value':  \n",
				"        retrieved_context, retrieved_sources = get_context_source(change['new'])  \n",
				"        label.value = f\"<div style='word-wrap: break-word; line-height: 1;'>{get_answer(change['new'], retrieved_context)}</div>\"  \n",
				"  \n",
				"text.observe(on_text_change)  \n",
				"  \n",
				"# Display the text box and label  \n",
				"w_display(text, label)"
			]
		},
		{
			"cell_type": "markdown",
			"id": "68f3b60e-42a8-476d-9699-72373ae63afd",
			"metadata": {
				"microsoft": {
					"language": "python",
					"language_group": "synapse_pyspark"
				},
				"nteract": {
					"transient": {
						"deleting": false
					}
				}
			},
			"source": [
				"This concludes the Quickstart tutorial on creating a RAG application in Fabric. \n",
				"\n",
				"Fabric is a platform for unifying your company's data, empowering you to leverage knowledge for your GenAI applications effectively."
			]
		}
	],
	"metadata": {
		"dependencies": {
			"environment": {
				"environmentId": "",
				"workspaceId": ""
			},
			"lakehouse": {
				"default_lakehouse": "",
				"default_lakehouse_name": "",
				"default_lakehouse_workspace_id": ""
			}
		},
		"kernel_info": {
			"name": "synapse_pyspark"
		},
		"kernelspec": {
			"display_name": "Synapse PySpark",
			"language": "Python",
			"name": "synapse_pyspark"
		},
		"language_info": {
			"name": "python"
		},
		"microsoft": {
			"language": "python",
			"language_group": "synapse_pyspark",
			"ms_spell_check": {
				"ms_spell_check_language": "en"
			}
		},
		"nteract": {
			"version": "nteract-front-end@1.0.0"
		},
		"spark_compute": {
			"compute_id": "/trident/default"
		},
		"synapse_widget": {
			"state": {},
			"version": "0.1"
		},
		"widgets": {}
	},
	"nbformat": 4,
	"nbformat_minor": 5
}
