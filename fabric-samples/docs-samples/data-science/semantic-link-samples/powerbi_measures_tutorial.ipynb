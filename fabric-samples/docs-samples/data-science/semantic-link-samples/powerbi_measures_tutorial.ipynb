{
 "cells": [
  {
   "cell_type": "markdown",
   "id": "2c8b374e-9883-4f6f-9df8-d068ee21d8e5",
   "metadata": {},
   "source": [
    "# Tutorial: Extract and calculate Power BI measures from a Jupyter notebook\n",
    "This tutorial illustrates how to use SemPy to calculate measures in semantic models (Power BI datasets)."
   ]
  },
  {
   "cell_type": "markdown",
   "id": "33c46a9a-09e8-4109-b9fc-ce6a9083db3f",
   "metadata": {
    "nteract": {
     "transient": {
      "deleting": false
     }
    }
   },
   "source": [
    "### In this tutorial, you learn how to:\n",
    "- Evaluate Power BI measures programmatically via a Python interface of semantic link's Python library ([SemPy](https://learn.microsoft.com/en-us/python/api/semantic-link-sempy)), apply filtering, grouping, and so on.\n",
    "- Get familiarized with components of SemPy that help bridge the gap between AI and BI. These components include:\n",
    "    - FabricDataFrame - a pandas-like structure enhanced with additional semantic information.\n",
    "    - Useful functions that allow you to fetch semantic models, including raw data, configurations, and measures."
   ]
  },
  {
   "cell_type": "markdown",
   "id": "060a6d9f-49c6-4840-b843-152379377515",
   "metadata": {
    "nteract": {
     "transient": {
      "deleting": false
     }
    }
   },
   "source": [
    "### Prerequisites\n",
    "\n",
    "* A [Microsoft Fabric subscription](https://learn.microsoft.com/fabric/enterprise/licenses). Or sign up for a free [Microsoft Fabric (Preview) trial](https://learn.microsoft.com/fabric/get-started/fabric-trial).\n",
    "* Sign in to [Microsoft Fabric](https://fabric.microsoft.com/).\n",
    "* Go to the Data Science experience in Microsoft Fabric.\n",
    "* Select **Workspaces** from the left navigation pane to find and select your workspace. This workspace becomes your current workspace.\n",
    "* Download the [_Retail Analysis Sample PBIX.pbix_](https://download.microsoft.com/download/9/6/D/96DDC2FF-2568-491D-AAFA-AFDD6F763AE3/Retail%20Analysis%20Sample%20PBIX.pbix) dataset and upload it to your workspace.\n",
    "* Open your notebook. You have two options:\n",
    "    * [Import this notebook into your workspace](https://learn.microsoft.com/en-us/fabric/data-engineering/how-to-use-notebook#import-existing-notebooks). You can import from the Data Science homepage.\n",
    "    * Alternatively, you can create [a new notebook](https://learn.microsoft.com/fabric/data-engineering/how-to-use-notebook#create-notebooks) to copy/paste code into cells.\n",
    "* In the Lakehouse explorer section of your notebook, add a new or existing lakehouse to your notebook. For more information on how to add a lakehouse, see [Attach a lakehouse to your notebook](https://learn.microsoft.com/en-us/fabric/data-science/tutorial-data-science-prepare-system#attach-a-lakehouse-to-the-notebooks)."
   ]
  },
  {
   "cell_type": "markdown",
   "id": "f003ff81-c3e0-4f14-9336-6bd21629a860",
   "metadata": {
    "nteract": {
     "transient": {
      "deleting": false
     }
    }
   },
   "source": [
    "## Set up the notebook\n",
    "\n",
    "In this section, you set up a notebook environment with the necessary modules and data.\n",
    "\n",
    "1. install `SemPy` from PyPI using the `%pip` in-line installation capability within the notebook:"
   ]
  },
  {
   "cell_type": "code",
   "execution_count": null,
   "id": "450c8f7b-6896-4349-8101-014057015aa8",
   "metadata": {
    "jupyter": {
     "outputs_hidden": false,
     "source_hidden": false
    },
    "nteract": {
     "transient": {
      "deleting": false
     }
    },
    "tags": [
     "fabric_skip_execution"
    ]
   },
   "outputs": [
    {
     "data": {
      "application/vnd.livy.statement-meta+json": {
       "execution_finish_time": "2023-09-25T20:59:14.0688547Z",
       "execution_start_time": "2023-09-25T20:59:14.0686762Z",
       "livy_statement_state": "available",
       "parent_msg_id": "b847311c-d914-4c1b-b497-90257369b86a",
       "queued_time": "2023-09-25T20:58:44.2915401Z",
       "session_id": "203c1ef6-c809-42a7-8bd7-577b3bec7114",
       "session_start_time": null,
       "spark_jobs": {
        "jobs": [],
        "limit": 20,
        "numbers": {
         "FAILED": 0,
         "RUNNING": 0,
         "SUCCEEDED": 0,
         "UNKNOWN": 0
        },
        "rule": "ALL_DESC"
       },
       "spark_pool": null,
       "state": "finished",
       "statement_id": -1
      },
      "text/plain": [
       "StatementMeta(, 203c1ef6-c809-42a7-8bd7-577b3bec7114, -1, Finished, Available)"
      ]
     },
     "metadata": {},
     "output_type": "display_data"
    },
    {
     "data": {},
     "execution_count": null,
     "metadata": {},
     "output_type": "execute_result"
    },
    {
     "name": "stdout",
     "output_type": "stream",
     "text": [
      "Collecting semantic-link\n",
      "  Downloading semantic_link-0.3.4-py3-none-any.whl (8.2 kB)\n",
      "Collecting semantic-link-functions-geopandas==0.3.4\n",
      "  Downloading semantic_link_functions_geopandas-0.3.4-py3-none-any.whl (4.0 kB)\n",
      "Collecting semantic-link-functions-holidays==0.3.4\n",
      "  Downloading semantic_link_functions_holidays-0.3.4-py3-none-any.whl (4.2 kB)\n",
      "Collecting semantic-link-sempy==0.3.4\n",
      "  Downloading semantic_link_sempy-0.3.4-py3-none-any.whl (2.9 MB)\n",
      "\u001b[2K     \u001b[90m━━━━━━━━━━━━━━━━━━━━━━━━━━━━━━━━━━━━━━━━\u001b[0m \u001b[32m2.9/2.9 MB\u001b[0m \u001b[31m116.2 MB/s\u001b[0m eta \u001b[36m0:00:00\u001b[0m\n",
      "\u001b[?25hCollecting semantic-link-functions-phonenumbers==0.3.4\n",
      "  Downloading semantic_link_functions_phonenumbers-0.3.4-py3-none-any.whl (4.3 kB)\n",
      "Collecting semantic-link-functions-meteostat==0.3.4\n",
      "  Downloading semantic_link_functions_meteostat-0.3.4-py3-none-any.whl (4.5 kB)\n",
      "Collecting semantic-link-functions-validators==0.3.4\n",
      "  Downloading semantic_link_functions_validators-0.3.4-py3-none-any.whl (4.8 kB)\n",
      "Collecting mapclassify\n",
      "  Downloading mapclassify-2.6.0-py3-none-any.whl (40 kB)\n",
      "\u001b[2K     \u001b[90m━━━━━━━━━━━━━━━━━━━━━━━━━━━━━━━━━━━━━━━━\u001b[0m \u001b[32m40.8/40.8 kB\u001b[0m \u001b[31m18.4 MB/s\u001b[0m eta \u001b[36m0:00:00\u001b[0m\n",
      "\u001b[?25hCollecting geopandas\n",
      "  Downloading geopandas-0.14.0-py3-none-any.whl (1.1 MB)\n",
      "\u001b[2K     \u001b[90m━━━━━━━━━━━━━━━━━━━━━━━━━━━━━━━━━━━━━━━━\u001b[0m \u001b[32m1.1/1.1 MB\u001b[0m \u001b[31m125.7 MB/s\u001b[0m eta \u001b[36m0:00:00\u001b[0m\n",
      "\u001b[?25hCollecting folium\n",
      "  Downloading folium-0.14.0-py2.py3-none-any.whl (102 kB)\n",
      "\u001b[2K     \u001b[90m━━━━━━━━━━━━━━━━━━━━━━━━━━━━━━━━━━━━━━\u001b[0m \u001b[32m102.3/102.3 kB\u001b[0m \u001b[31m46.8 MB/s\u001b[0m eta \u001b[36m0:00:00\u001b[0m\n",
      "\u001b[?25hCollecting holidays\n",
      "  Downloading holidays-0.33-py3-none-any.whl (759 kB)\n",
      "\u001b[2K     \u001b[90m━━━━━━━━━━━━━━━━━━━━━━━━━━━━━━━━━━━━━\u001b[0m \u001b[32m759.7/759.7 kB\u001b[0m \u001b[31m144.6 MB/s\u001b[0m eta \u001b[36m0:00:00\u001b[0m\n",
      "\u001b[?25hCollecting meteostat\n",
      "  Downloading meteostat-1.6.5-py3-none-any.whl (31 kB)\n",
      "Collecting phonenumbers\n",
      "  Downloading phonenumbers-8.13.21-py2.py3-none-any.whl (2.6 MB)\n",
      "\u001b[2K     \u001b[90m━━━━━━━━━━━━━━━━━━━━━━━━━━━━━━━━━━━━━━━━\u001b[0m \u001b[32m2.6/2.6 MB\u001b[0m \u001b[31m140.3 MB/s\u001b[0m eta \u001b[36m0:00:00\u001b[0m\n",
      "\u001b[?25hCollecting validators\n",
      "  Downloading validators-0.22.0-py3-none-any.whl (26 kB)\n",
      "Collecting pythonnet==3.0.1\n",
      "  Downloading pythonnet-3.0.1-py3-none-any.whl (284 kB)\n",
      "\u001b[2K     \u001b[90m━━━━━━━━━━━━━━━━━━━━━━━━━━━━━━━━━━━━━━\u001b[0m \u001b[32m284.5/284.5 kB\u001b[0m \u001b[31m98.0 MB/s\u001b[0m eta \u001b[36m0:00:00\u001b[0m\n",
      "\u001b[?25hCollecting clr-loader<0.3.0,>=0.2.2\n",
      "  Downloading clr_loader-0.2.6-py3-none-any.whl (51 kB)\n",
      "\u001b[2K     \u001b[90m━━━━━━━━━━━━━━━━━━━━━━━━━━━━━━━━━━━━━━━━\u001b[0m \u001b[32m51.3/51.3 kB\u001b[0m \u001b[31m28.5 MB/s\u001b[0m eta \u001b[36m0:00:00\u001b[0m\n",
      "\u001b[?25hCollecting branca>=0.6.0\n",
      "  Downloading branca-0.6.0-py3-none-any.whl (24 kB)\n",
      "Requirement already satisfied: numpy in /home/trusted-service-user/cluster-env/trident_env/lib/python3.10/site-packages (from folium->semantic-link-functions-geopandas==0.3.4->semantic-link) (1.23.5)\n",
      "Requirement already satisfied: jinja2>=2.9 in /home/trusted-service-user/cluster-env/trident_env/lib/python3.10/site-packages (from folium->semantic-link-functions-geopandas==0.3.4->semantic-link) (3.1.2)\n",
      "Requirement already satisfied: requests in /home/trusted-service-user/cluster-env/trident_env/lib/python3.10/site-packages (from folium->semantic-link-functions-geopandas==0.3.4->semantic-link) (2.28.2)\n",
      "Collecting pyproj>=3.3.0\n",
      "  Downloading pyproj-3.6.1-cp310-cp310-manylinux_2_17_x86_64.manylinux2014_x86_64.whl (8.3 MB)\n",
      "\u001b[2K     \u001b[90m━━━━━━━━━━━━━━━━━━━━━━━━━━━━━━━━━━━━━━━━\u001b[0m \u001b[32m8.3/8.3 MB\u001b[0m \u001b[31m162.4 MB/s\u001b[0m eta \u001b[36m0:00:00\u001b[0m00:01\u001b[0m\n",
      "\u001b[?25hRequirement already satisfied: packaging in /home/trusted-service-user/cluster-env/trident_env/lib/python3.10/site-packages (from geopandas->semantic-link-functions-geopandas==0.3.4->semantic-link) (22.0)\n",
      "Collecting fiona>=1.8.21\n",
      "  Downloading Fiona-1.9.4.post1-cp310-cp310-manylinux_2_17_x86_64.manylinux2014_x86_64.whl (16.4 MB)\n",
      "\u001b[2K     \u001b[90m━━━━━━━━━━━━━━━━━━━━━━━━━━━━━━━━━━━━━━━\u001b[0m \u001b[32m16.4/16.4 MB\u001b[0m \u001b[31m115.7 MB/s\u001b[0m eta \u001b[36m0:00:00\u001b[0m00:01\u001b[0m00:01\u001b[0m\n",
      "\u001b[?25hCollecting shapely>=1.8.0\n",
      "  Downloading shapely-2.0.1-cp310-cp310-manylinux_2_17_x86_64.manylinux2014_x86_64.whl (2.3 MB)\n",
      "\u001b[2K     \u001b[90m━━━━━━━━━━━━━━━━━━━━━━━━━━━━━━━━━━━━━━━━\u001b[0m \u001b[32m2.3/2.3 MB\u001b[0m \u001b[31m101.0 MB/s\u001b[0m eta \u001b[36m0:00:00\u001b[0m\n",
      "\u001b[?25hRequirement already satisfied: pandas>=1.4.0 in /home/trusted-service-user/cluster-env/trident_env/lib/python3.10/site-packages (from geopandas->semantic-link-functions-geopandas==0.3.4->semantic-link) (1.5.3)\n",
      "Requirement already satisfied: python-dateutil in /home/trusted-service-user/cluster-env/trident_env/lib/python3.10/site-packages (from holidays->semantic-link-functions-holidays==0.3.4->semantic-link) (2.8.2)\n",
      "Requirement already satisfied: scipy>=1.0 in /home/trusted-service-user/cluster-env/trident_env/lib/python3.10/site-packages (from mapclassify->semantic-link-functions-geopandas==0.3.4->semantic-link) (1.10.1)\n",
      "Collecting networkx\n",
      "  Downloading networkx-3.1-py3-none-any.whl (2.1 MB)\n",
      "\u001b[2K     \u001b[90m━━━━━━━━━━━━━━━━━━━━━━━━━━━━━━━━━━━━━━━━\u001b[0m \u001b[32m2.1/2.1 MB\u001b[0m \u001b[31m177.8 MB/s\u001b[0m eta \u001b[36m0:00:00\u001b[0m\n",
      "\u001b[?25hRequirement already satisfied: scikit-learn in /home/trusted-service-user/cluster-env/trident_env/lib/python3.10/site-packages (from mapclassify->semantic-link-functions-geopandas==0.3.4->semantic-link) (1.2.0)\n",
      "Requirement already satisfied: pytz in /home/trusted-service-user/cluster-env/trident_env/lib/python3.10/site-packages (from meteostat->semantic-link-functions-meteostat==0.3.4->semantic-link) (2022.7.1)\n",
      "Requirement already satisfied: cffi>=1.13 in /home/trusted-service-user/cluster-env/trident_env/lib/python3.10/site-packages (from clr-loader<0.3.0,>=0.2.2->pythonnet==3.0.1->semantic-link-sempy==0.3.4->semantic-link) (1.15.1)\n",
      "Requirement already satisfied: attrs>=19.2.0 in /home/trusted-service-user/cluster-env/trident_env/lib/python3.10/site-packages (from fiona>=1.8.21->geopandas->semantic-link-functions-geopandas==0.3.4->semantic-link) (22.2.0)\n",
      "Requirement already satisfied: certifi in /home/trusted-service-user/cluster-env/trident_env/lib/python3.10/site-packages (from fiona>=1.8.21->geopandas->semantic-link-functions-geopandas==0.3.4->semantic-link) (2022.12.7)\n",
      "Requirement already satisfied: six in /home/trusted-service-user/cluster-env/trident_env/lib/python3.10/site-packages (from fiona>=1.8.21->geopandas->semantic-link-functions-geopandas==0.3.4->semantic-link) (1.16.0)\n",
      "Requirement already satisfied: click~=8.0 in /home/trusted-service-user/cluster-env/trident_env/lib/python3.10/site-packages (from fiona>=1.8.21->geopandas->semantic-link-functions-geopandas==0.3.4->semantic-link) (8.1.3)\n",
      "Collecting cligj>=0.5\n",
      "  Downloading cligj-0.7.2-py3-none-any.whl (7.1 kB)\n",
      "Collecting click-plugins>=1.0\n",
      "  Downloading click_plugins-1.1.1-py2.py3-none-any.whl (7.5 kB)\n",
      "Requirement already satisfied: MarkupSafe>=2.0 in /home/trusted-service-user/cluster-env/trident_env/lib/python3.10/site-packages (from jinja2>=2.9->folium->semantic-link-functions-geopandas==0.3.4->semantic-link) (2.1.2)\n",
      "Requirement already satisfied: idna<4,>=2.5 in /home/trusted-service-user/cluster-env/trident_env/lib/python3.10/site-packages (from requests->folium->semantic-link-functions-geopandas==0.3.4->semantic-link) (3.4)\n",
      "Requirement already satisfied: urllib3<1.27,>=1.21.1 in /home/trusted-service-user/cluster-env/trident_env/lib/python3.10/site-packages (from requests->folium->semantic-link-functions-geopandas==0.3.4->semantic-link) (1.26.14)\n",
      "Requirement already satisfied: charset-normalizer<4,>=2 in /home/trusted-service-user/cluster-env/trident_env/lib/python3.10/site-packages (from requests->folium->semantic-link-functions-geopandas==0.3.4->semantic-link) (2.1.1)\n",
      "Requirement already satisfied: threadpoolctl>=2.0.0 in /home/trusted-service-user/cluster-env/trident_env/lib/python3.10/site-packages (from scikit-learn->mapclassify->semantic-link-functions-geopandas==0.3.4->semantic-link) (3.1.0)\n",
      "Requirement already satisfied: joblib>=1.1.1 in /home/trusted-service-user/cluster-env/trident_env/lib/python3.10/site-packages (from scikit-learn->mapclassify->semantic-link-functions-geopandas==0.3.4->semantic-link) (1.2.0)\n",
      "Requirement already satisfied: pycparser in /home/trusted-service-user/cluster-env/trident_env/lib/python3.10/site-packages (from cffi>=1.13->clr-loader<0.3.0,>=0.2.2->pythonnet==3.0.1->semantic-link-sempy==0.3.4->semantic-link) (2.21)\n",
      "Installing collected packages: phonenumbers, validators, shapely, pyproj, networkx, cligj, click-plugins, holidays, fiona, clr-loader, branca, pythonnet, meteostat, mapclassify, geopandas, folium, semantic-link-sempy, semantic-link-functions-validators, semantic-link-functions-phonenumbers, semantic-link-functions-meteostat, semantic-link-functions-holidays, semantic-link-functions-geopandas, semantic-link\n",
      "Successfully installed branca-0.6.0 click-plugins-1.1.1 cligj-0.7.2 clr-loader-0.2.6 fiona-1.9.4.post1 folium-0.14.0 geopandas-0.14.0 holidays-0.33 mapclassify-2.6.0 meteostat-1.6.5 networkx-3.1 phonenumbers-8.13.21 pyproj-3.6.1 pythonnet-3.0.1 semantic-link-0.3.4 semantic-link-functions-geopandas-0.3.4 semantic-link-functions-holidays-0.3.4 semantic-link-functions-meteostat-0.3.4 semantic-link-functions-phonenumbers-0.3.4 semantic-link-functions-validators-0.3.4 semantic-link-sempy-0.3.4 shapely-2.0.1 validators-0.22.0\n",
      "\n",
      "\u001b[1m[\u001b[0m\u001b[34;49mnotice\u001b[0m\u001b[1;39;49m]\u001b[0m\u001b[39;49m A new release of pip is available: \u001b[0m\u001b[31;49m23.0\u001b[0m\u001b[39;49m -> \u001b[0m\u001b[32;49m23.2.1\u001b[0m\n",
      "\u001b[1m[\u001b[0m\u001b[34;49mnotice\u001b[0m\u001b[1;39;49m]\u001b[0m\u001b[39;49m To update, run: \u001b[0m\u001b[32;49m/nfs4/pyenv-615719c6-e8ce-482c-b57d-1b957177bf22/bin/python -m pip install --upgrade pip\u001b[0m\n",
      "Note: you may need to restart the kernel to use updated packages.\n"
     ]
    },
    {
     "data": {},
     "execution_count": null,
     "metadata": {},
     "output_type": "execute_result"
    },
    {
     "name": "stdout",
     "output_type": "stream",
     "text": [
      "Warning: PySpark kernel has been restarted to use updated packages.\n",
      "\n"
     ]
    }
   ],
   "source": [
    "%pip install semantic-link"
   ]
  },
  {
   "cell_type": "markdown",
   "id": "b2eeffb5-e381-4c0d-93b7-06c94f6e80da",
   "metadata": {},
   "source": [
    "2. Perform necessary imports of modules that you'll need later: "
   ]
  },
  {
   "cell_type": "code",
   "execution_count": null,
   "id": "d07e388f-8496-4914-9784-8724c4ee4053",
   "metadata": {},
   "outputs": [
    {
     "data": {
      "application/vnd.livy.statement-meta+json": {
       "execution_finish_time": "2023-09-25T20:59:26.8019971Z",
       "execution_start_time": "2023-09-25T20:59:19.5369583Z",
       "livy_statement_state": "available",
       "parent_msg_id": "339cf147-34f3-4a7e-997b-59197e537c35",
       "queued_time": "2023-09-25T20:58:44.2923941Z",
       "session_id": "203c1ef6-c809-42a7-8bd7-577b3bec7114",
       "session_start_time": null,
       "spark_jobs": {
        "jobs": [],
        "limit": 20,
        "numbers": {
         "FAILED": 0,
         "RUNNING": 0,
         "SUCCEEDED": 0,
         "UNKNOWN": 0
        },
        "rule": "ALL_DESC"
       },
       "spark_pool": null,
       "state": "finished",
       "statement_id": 9
      },
      "text/plain": [
       "StatementMeta(, 203c1ef6-c809-42a7-8bd7-577b3bec7114, 9, Finished, Available)"
      ]
     },
     "metadata": {},
     "output_type": "display_data"
    }
   ],
   "source": [
    "import sempy.fabric as fabric"
   ]
  },
  {
   "cell_type": "markdown",
   "id": "b6be722a-e443-4aac-b6e5-6a133ff82e13",
   "metadata": {
    "nteract": {
     "transient": {
      "deleting": false
     }
    }
   },
   "source": [
    "3. You can connect to the Power BI workspace. List the semantic models in the workspace:"
   ]
  },
  {
   "cell_type": "code",
   "execution_count": null,
   "id": "ea419824-4ac2-4272-939e-70d3b4181e25",
   "metadata": {
    "jupyter": {
     "outputs_hidden": false,
     "source_hidden": false
    },
    "nteract": {
     "transient": {
      "deleting": false
     }
    }
   },
   "outputs": [
    {
     "data": {
      "application/vnd.livy.statement-meta+json": {
       "execution_finish_time": "2023-09-25T20:59:32.9511414Z",
       "execution_start_time": "2023-09-25T20:59:27.1967116Z",
       "livy_statement_state": "available",
       "parent_msg_id": "47f67c1f-7143-4bcf-b329-e420ff064458",
       "queued_time": "2023-09-25T20:58:44.2931Z",
       "session_id": "203c1ef6-c809-42a7-8bd7-577b3bec7114",
       "session_start_time": null,
       "spark_jobs": {
        "jobs": [],
        "limit": 20,
        "numbers": {
         "FAILED": 0,
         "RUNNING": 0,
         "SUCCEEDED": 0,
         "UNKNOWN": 0
        },
        "rule": "ALL_DESC"
       },
       "spark_pool": null,
       "state": "finished",
       "statement_id": 10
      },
      "text/plain": [
       "StatementMeta(, 203c1ef6-c809-42a7-8bd7-577b3bec7114, 10, Finished, Available)"
      ]
     },
     "metadata": {},
     "output_type": "display_data"
    },
    {
     "data": {
      "text/html": [
       "<div>\n",
       "<style scoped>\n",
       "    .dataframe tbody tr th:only-of-type {\n",
       "        vertical-align: middle;\n",
       "    }\n",
       "\n",
       "    .dataframe tbody tr th {\n",
       "        vertical-align: top;\n",
       "    }\n",
       "\n",
       "    .dataframe thead th {\n",
       "        text-align: right;\n",
       "    }\n",
       "</style>\n",
       "<table border=\"1\" class=\"dataframe\">\n",
       "  <thead>\n",
       "    <tr style=\"text-align: right;\">\n",
       "      <th></th>\n",
       "      <th>Dataset Name</th>\n",
       "      <th>Dataset ID</th>\n",
       "      <th>Created Timestamp</th>\n",
       "      <th>Last Update</th>\n",
       "    </tr>\n",
       "  </thead>\n",
       "  <tbody>\n",
       "    <tr>\n",
       "      <th>0</th>\n",
       "      <td>semantic_link_data</td>\n",
       "      <td>7e659c31-a025-4f17-85f3-f259c7cdef19</td>\n",
       "      <td>2021-02-12 23:00:58</td>\n",
       "      <td>0001-01-01 00:00:00</td>\n",
       "    </tr>\n",
       "    <tr>\n",
       "      <th>1</th>\n",
       "      <td>Customer Profitability Sample</td>\n",
       "      <td>3bb45e13-8773-445c-8356-ada632997731</td>\n",
       "      <td>2014-07-22 03:50:22</td>\n",
       "      <td>0001-01-01 00:00:00</td>\n",
       "    </tr>\n",
       "    <tr>\n",
       "      <th>2</th>\n",
       "      <td>Retail Analysis Sample PBIX</td>\n",
       "      <td>0a4b5b1f-76c9-4dda-9e8c-7739790a9c98</td>\n",
       "      <td>2014-05-30 20:16:22</td>\n",
       "      <td>0001-01-01 00:00:00</td>\n",
       "    </tr>\n",
       "  </tbody>\n",
       "</table>\n",
       "</div>"
      ],
      "text/plain": [
       "                    Dataset Name                            Dataset ID  \\\n",
       "0             semantic_link_data  7e659c31-a025-4f17-85f3-f259c7cdef19   \n",
       "1  Customer Profitability Sample  3bb45e13-8773-445c-8356-ada632997731   \n",
       "2    Retail Analysis Sample PBIX  0a4b5b1f-76c9-4dda-9e8c-7739790a9c98   \n",
       "\n",
       "    Created Timestamp          Last Update  \n",
       "0 2021-02-12 23:00:58  0001-01-01 00:00:00  \n",
       "1 2014-07-22 03:50:22  0001-01-01 00:00:00  \n",
       "2 2014-05-30 20:16:22  0001-01-01 00:00:00  "
      ]
     },
     "execution_count": null,
     "metadata": {},
     "output_type": "execute_result"
    }
   ],
   "source": [
    "fabric.list_datasets()"
   ]
  },
  {
   "cell_type": "markdown",
   "id": "8f361492-9b89-4c7b-af83-47b58a84ad7b",
   "metadata": {
    "nteract": {
     "transient": {
      "deleting": false
     }
    }
   },
   "source": [
    "In this tutorial, you use the _Retail Analysis Sample PBIX_ semantic model:"
   ]
  },
  {
   "cell_type": "code",
   "execution_count": null,
   "id": "4d6517ba-7697-491a-b9af-01539b91001f",
   "metadata": {},
   "outputs": [
    {
     "data": {
      "application/vnd.livy.statement-meta+json": {
       "execution_finish_time": "2023-09-25T20:59:33.7901522Z",
       "execution_start_time": "2023-09-25T20:59:33.3372145Z",
       "livy_statement_state": "available",
       "parent_msg_id": "5f2ef44d-d329-4d0d-8676-0cd613e04e3b",
       "queued_time": "2023-09-25T20:58:44.2936873Z",
       "session_id": "203c1ef6-c809-42a7-8bd7-577b3bec7114",
       "session_start_time": null,
       "spark_jobs": {
        "jobs": [],
        "limit": 20,
        "numbers": {
         "FAILED": 0,
         "RUNNING": 0,
         "SUCCEEDED": 0,
         "UNKNOWN": 0
        },
        "rule": "ALL_DESC"
       },
       "spark_pool": null,
       "state": "finished",
       "statement_id": 11
      },
      "text/plain": [
       "StatementMeta(, 203c1ef6-c809-42a7-8bd7-577b3bec7114, 11, Finished, Available)"
      ]
     },
     "metadata": {},
     "output_type": "display_data"
    }
   ],
   "source": [
    "dataset = \"Retail Analysis Sample PBIX\""
   ]
  },
  {
   "cell_type": "markdown",
   "id": "bc0a8c8d-489e-4156-87c6-666f9fc74e2b",
   "metadata": {},
   "source": [
    "## List workspace measures"
   ]
  },
  {
   "cell_type": "markdown",
   "id": "584c8c0d-70b7-47c6-957e-6591299c43a4",
   "metadata": {
    "nteract": {
     "transient": {
      "deleting": false
     }
    }
   },
   "source": [
    "Start by listing measures in the semantic model, using SemPy's `list_measures` function as follows:"
   ]
  },
  {
   "cell_type": "code",
   "execution_count": null,
   "id": "a6005d93-69f9-4840-98e0-4ca422a21955",
   "metadata": {},
   "outputs": [
    {
     "data": {
      "application/vnd.livy.statement-meta+json": {
       "execution_finish_time": "2023-09-25T20:59:36.1386246Z",
       "execution_start_time": "2023-09-25T20:59:34.1999302Z",
       "livy_statement_state": "available",
       "parent_msg_id": "e438ff1c-e3ad-4210-8d87-7c23493b308d",
       "queued_time": "2023-09-25T20:58:44.2968392Z",
       "session_id": "203c1ef6-c809-42a7-8bd7-577b3bec7114",
       "session_start_time": null,
       "spark_jobs": {
        "jobs": [],
        "limit": 20,
        "numbers": {
         "FAILED": 0,
         "RUNNING": 0,
         "SUCCEEDED": 0,
         "UNKNOWN": 0
        },
        "rule": "ALL_DESC"
       },
       "spark_pool": null,
       "state": "finished",
       "statement_id": 12
      },
      "text/plain": [
       "StatementMeta(, 203c1ef6-c809-42a7-8bd7-577b3bec7114, 12, Finished, Available)"
      ]
     },
     "metadata": {},
     "output_type": "display_data"
    },
    {
     "data": {
      "text/html": [
       "<div>\n",
       "<style scoped>\n",
       "    .dataframe tbody tr th:only-of-type {\n",
       "        vertical-align: middle;\n",
       "    }\n",
       "\n",
       "    .dataframe tbody tr th {\n",
       "        vertical-align: top;\n",
       "    }\n",
       "\n",
       "    .dataframe thead th {\n",
       "        text-align: right;\n",
       "    }\n",
       "</style>\n",
       "<table border=\"1\" class=\"dataframe\">\n",
       "  <thead>\n",
       "    <tr style=\"text-align: right;\">\n",
       "      <th></th>\n",
       "      <th>Table Name</th>\n",
       "      <th>Measure Name</th>\n",
       "      <th>Measure Expression</th>\n",
       "      <th>Measure Data Type</th>\n",
       "    </tr>\n",
       "  </thead>\n",
       "  <tbody>\n",
       "    <tr>\n",
       "      <th>0</th>\n",
       "      <td>Store</td>\n",
       "      <td>Average Selling Area Size</td>\n",
       "      <td>AVERAGE([SellingAreaSize])</td>\n",
       "      <td>Double</td>\n",
       "    </tr>\n",
       "    <tr>\n",
       "      <th>1</th>\n",
       "      <td>Store</td>\n",
       "      <td>New Stores</td>\n",
       "      <td>CALCULATE(COUNTA([Store Type]), FILTER(ALL(Sto...</td>\n",
       "      <td>Int64</td>\n",
       "    </tr>\n",
       "    <tr>\n",
       "      <th>2</th>\n",
       "      <td>Store</td>\n",
       "      <td>New Stores Target</td>\n",
       "      <td>14</td>\n",
       "      <td>Int64</td>\n",
       "    </tr>\n",
       "    <tr>\n",
       "      <th>3</th>\n",
       "      <td>Store</td>\n",
       "      <td>Total Stores</td>\n",
       "      <td>COUNTA([StoreNumberName])</td>\n",
       "      <td>Int64</td>\n",
       "    </tr>\n",
       "    <tr>\n",
       "      <th>4</th>\n",
       "      <td>Store</td>\n",
       "      <td>Open Store Count</td>\n",
       "      <td>COUNTA([OpenDate])</td>\n",
       "      <td>Int64</td>\n",
       "    </tr>\n",
       "    <tr>\n",
       "      <th>5</th>\n",
       "      <td>Store</td>\n",
       "      <td>Count of OpenDate</td>\n",
       "      <td>COUNTA('Store'[OpenDate])</td>\n",
       "      <td>Int64</td>\n",
       "    </tr>\n",
       "    <tr>\n",
       "      <th>6</th>\n",
       "      <td>Sales</td>\n",
       "      <td>Regular_Sales_Dollars</td>\n",
       "      <td>SUM([Sum_Regular_Sales_Dollars])</td>\n",
       "      <td>Double</td>\n",
       "    </tr>\n",
       "    <tr>\n",
       "      <th>7</th>\n",
       "      <td>Sales</td>\n",
       "      <td>Markdown_Sales_Dollars</td>\n",
       "      <td>SUM([Sum_Markdown_Sales_Dollars])</td>\n",
       "      <td>Double</td>\n",
       "    </tr>\n",
       "    <tr>\n",
       "      <th>8</th>\n",
       "      <td>Sales</td>\n",
       "      <td>TotalSales</td>\n",
       "      <td>[Regular_Sales_Dollars]+[Markdown_Sales_Dollars]</td>\n",
       "      <td>Double</td>\n",
       "    </tr>\n",
       "    <tr>\n",
       "      <th>9</th>\n",
       "      <td>Sales</td>\n",
       "      <td>TotalSalesLY</td>\n",
       "      <td>CALCULATE([TotalSales], Sales[ScenarioID]=2)</td>\n",
       "      <td>Double</td>\n",
       "    </tr>\n",
       "    <tr>\n",
       "      <th>10</th>\n",
       "      <td>Sales</td>\n",
       "      <td>Gross Margin This Year</td>\n",
       "      <td>CALCULATE(SUM([Sum_GrossMarginAmount]), Sales[...</td>\n",
       "      <td>Double</td>\n",
       "    </tr>\n",
       "    <tr>\n",
       "      <th>11</th>\n",
       "      <td>Sales</td>\n",
       "      <td>Gross Margin This Year %</td>\n",
       "      <td>[Gross Margin This Year]/[TotalSalesTY]</td>\n",
       "      <td>Double</td>\n",
       "    </tr>\n",
       "    <tr>\n",
       "      <th>12</th>\n",
       "      <td>Sales</td>\n",
       "      <td>Gross Margin Last Year</td>\n",
       "      <td>CALCULATE(SUM([Sum_GrossMarginAmount]), Sales[...</td>\n",
       "      <td>Double</td>\n",
       "    </tr>\n",
       "    <tr>\n",
       "      <th>13</th>\n",
       "      <td>Sales</td>\n",
       "      <td>Gross Margin Last Year %</td>\n",
       "      <td>[Gross Margin Last Year]/[TotalSalesLY]</td>\n",
       "      <td>Double</td>\n",
       "    </tr>\n",
       "    <tr>\n",
       "      <th>14</th>\n",
       "      <td>Sales</td>\n",
       "      <td>Regular_Sales_Units</td>\n",
       "      <td>SUM([Sum_Regular_Sales_Units])</td>\n",
       "      <td>Double</td>\n",
       "    </tr>\n",
       "    <tr>\n",
       "      <th>15</th>\n",
       "      <td>Sales</td>\n",
       "      <td>Markdown_Sales_Units</td>\n",
       "      <td>SUM([Sum_Markdown_Sales_Units])</td>\n",
       "      <td>Double</td>\n",
       "    </tr>\n",
       "    <tr>\n",
       "      <th>16</th>\n",
       "      <td>Sales</td>\n",
       "      <td>TotalUnits</td>\n",
       "      <td>[Regular_Sales_Units]+[Markdown_Sales_Units]</td>\n",
       "      <td>Double</td>\n",
       "    </tr>\n",
       "    <tr>\n",
       "      <th>17</th>\n",
       "      <td>Sales</td>\n",
       "      <td>Total Units Last Year</td>\n",
       "      <td>CALCULATE([TotalUnits], Sales[ScenarioID]=2)</td>\n",
       "      <td>Double</td>\n",
       "    </tr>\n",
       "    <tr>\n",
       "      <th>18</th>\n",
       "      <td>Sales</td>\n",
       "      <td>Total Units This Year</td>\n",
       "      <td>CALCULATE([TotalUnits], Sales[ScenarioID]=1)</td>\n",
       "      <td>Double</td>\n",
       "    </tr>\n",
       "    <tr>\n",
       "      <th>19</th>\n",
       "      <td>Sales</td>\n",
       "      <td>Avg $/Unit TY</td>\n",
       "      <td>IF([Total Units This Year]&lt;&gt;0, [TotalSalesTY]/...</td>\n",
       "      <td>Double</td>\n",
       "    </tr>\n",
       "    <tr>\n",
       "      <th>20</th>\n",
       "      <td>Sales</td>\n",
       "      <td>Avg $/Unit LY</td>\n",
       "      <td>IF([Total Units Last Year]&lt;&gt;0, [TotalSalesLY]/...</td>\n",
       "      <td>Double</td>\n",
       "    </tr>\n",
       "    <tr>\n",
       "      <th>21</th>\n",
       "      <td>Sales</td>\n",
       "      <td>Total Sales Var</td>\n",
       "      <td>[TotalSalesTY]-[TotalSalesLY]</td>\n",
       "      <td>Double</td>\n",
       "    </tr>\n",
       "    <tr>\n",
       "      <th>22</th>\n",
       "      <td>Sales</td>\n",
       "      <td>Total Sales Var %</td>\n",
       "      <td>IF([TotalSalesLY]&lt;&gt;0, [Total Sales Var]/[Total...</td>\n",
       "      <td>Double</td>\n",
       "    </tr>\n",
       "    <tr>\n",
       "      <th>23</th>\n",
       "      <td>Sales</td>\n",
       "      <td>Sales Per Sq Ft</td>\n",
       "      <td>([TotalSalesTY]/(DISTINCTCOUNT([MonthID])*SUM(...</td>\n",
       "      <td>Double</td>\n",
       "    </tr>\n",
       "    <tr>\n",
       "      <th>24</th>\n",
       "      <td>Sales</td>\n",
       "      <td>Last Year Sales</td>\n",
       "      <td>[TotalSalesLY]</td>\n",
       "      <td>Double</td>\n",
       "    </tr>\n",
       "    <tr>\n",
       "      <th>25</th>\n",
       "      <td>Sales</td>\n",
       "      <td>Total Sales Variance</td>\n",
       "      <td>[Total Sales Var]</td>\n",
       "      <td>Double</td>\n",
       "    </tr>\n",
       "    <tr>\n",
       "      <th>26</th>\n",
       "      <td>Sales</td>\n",
       "      <td>Total Sales Variance %</td>\n",
       "      <td>[Total Sales Var %]</td>\n",
       "      <td>Double</td>\n",
       "    </tr>\n",
       "    <tr>\n",
       "      <th>27</th>\n",
       "      <td>Sales</td>\n",
       "      <td>Store Count</td>\n",
       "      <td>DISTINCTCOUNT([LocationID])</td>\n",
       "      <td>Int64</td>\n",
       "    </tr>\n",
       "    <tr>\n",
       "      <th>28</th>\n",
       "      <td>Sales</td>\n",
       "      <td>Average Unit Price</td>\n",
       "      <td>[Avg $/Unit TY]</td>\n",
       "      <td>Double</td>\n",
       "    </tr>\n",
       "    <tr>\n",
       "      <th>29</th>\n",
       "      <td>Sales</td>\n",
       "      <td>Average Unit Price Last Year</td>\n",
       "      <td>[Avg $/Unit LY]</td>\n",
       "      <td>Double</td>\n",
       "    </tr>\n",
       "    <tr>\n",
       "      <th>30</th>\n",
       "      <td>Sales</td>\n",
       "      <td>TotalSalesTY</td>\n",
       "      <td>CALCULATE([TotalSales], Sales[ScenarioID]=1)</td>\n",
       "      <td>Double</td>\n",
       "    </tr>\n",
       "    <tr>\n",
       "      <th>31</th>\n",
       "      <td>Sales</td>\n",
       "      <td>This Year Sales</td>\n",
       "      <td>[TotalSalesTY]</td>\n",
       "      <td>Double</td>\n",
       "    </tr>\n",
       "  </tbody>\n",
       "</table>\n",
       "</div>"
      ],
      "text/plain": [
       "   Table Name                  Measure Name  \\\n",
       "0       Store     Average Selling Area Size   \n",
       "1       Store                    New Stores   \n",
       "2       Store             New Stores Target   \n",
       "3       Store                  Total Stores   \n",
       "4       Store              Open Store Count   \n",
       "5       Store             Count of OpenDate   \n",
       "6       Sales         Regular_Sales_Dollars   \n",
       "7       Sales        Markdown_Sales_Dollars   \n",
       "8       Sales                    TotalSales   \n",
       "9       Sales                  TotalSalesLY   \n",
       "10      Sales        Gross Margin This Year   \n",
       "11      Sales      Gross Margin This Year %   \n",
       "12      Sales        Gross Margin Last Year   \n",
       "13      Sales      Gross Margin Last Year %   \n",
       "14      Sales           Regular_Sales_Units   \n",
       "15      Sales          Markdown_Sales_Units   \n",
       "16      Sales                    TotalUnits   \n",
       "17      Sales         Total Units Last Year   \n",
       "18      Sales         Total Units This Year   \n",
       "19      Sales                 Avg $/Unit TY   \n",
       "20      Sales                 Avg $/Unit LY   \n",
       "21      Sales               Total Sales Var   \n",
       "22      Sales             Total Sales Var %   \n",
       "23      Sales               Sales Per Sq Ft   \n",
       "24      Sales               Last Year Sales   \n",
       "25      Sales          Total Sales Variance   \n",
       "26      Sales        Total Sales Variance %   \n",
       "27      Sales                   Store Count   \n",
       "28      Sales            Average Unit Price   \n",
       "29      Sales  Average Unit Price Last Year   \n",
       "30      Sales                  TotalSalesTY   \n",
       "31      Sales               This Year Sales   \n",
       "\n",
       "                                   Measure Expression Measure Data Type  \n",
       "0                          AVERAGE([SellingAreaSize])            Double  \n",
       "1   CALCULATE(COUNTA([Store Type]), FILTER(ALL(Sto...             Int64  \n",
       "2                                                  14             Int64  \n",
       "3                           COUNTA([StoreNumberName])             Int64  \n",
       "4                                  COUNTA([OpenDate])             Int64  \n",
       "5                           COUNTA('Store'[OpenDate])             Int64  \n",
       "6                    SUM([Sum_Regular_Sales_Dollars])            Double  \n",
       "7                   SUM([Sum_Markdown_Sales_Dollars])            Double  \n",
       "8    [Regular_Sales_Dollars]+[Markdown_Sales_Dollars]            Double  \n",
       "9        CALCULATE([TotalSales], Sales[ScenarioID]=2)            Double  \n",
       "10  CALCULATE(SUM([Sum_GrossMarginAmount]), Sales[...            Double  \n",
       "11            [Gross Margin This Year]/[TotalSalesTY]            Double  \n",
       "12  CALCULATE(SUM([Sum_GrossMarginAmount]), Sales[...            Double  \n",
       "13            [Gross Margin Last Year]/[TotalSalesLY]            Double  \n",
       "14                     SUM([Sum_Regular_Sales_Units])            Double  \n",
       "15                    SUM([Sum_Markdown_Sales_Units])            Double  \n",
       "16       [Regular_Sales_Units]+[Markdown_Sales_Units]            Double  \n",
       "17       CALCULATE([TotalUnits], Sales[ScenarioID]=2)            Double  \n",
       "18       CALCULATE([TotalUnits], Sales[ScenarioID]=1)            Double  \n",
       "19  IF([Total Units This Year]<>0, [TotalSalesTY]/...            Double  \n",
       "20  IF([Total Units Last Year]<>0, [TotalSalesLY]/...            Double  \n",
       "21                      [TotalSalesTY]-[TotalSalesLY]            Double  \n",
       "22  IF([TotalSalesLY]<>0, [Total Sales Var]/[Total...            Double  \n",
       "23  ([TotalSalesTY]/(DISTINCTCOUNT([MonthID])*SUM(...            Double  \n",
       "24                                     [TotalSalesLY]            Double  \n",
       "25                                  [Total Sales Var]            Double  \n",
       "26                                [Total Sales Var %]            Double  \n",
       "27                        DISTINCTCOUNT([LocationID])             Int64  \n",
       "28                                    [Avg $/Unit TY]            Double  \n",
       "29                                    [Avg $/Unit LY]            Double  \n",
       "30       CALCULATE([TotalSales], Sales[ScenarioID]=1)            Double  \n",
       "31                                     [TotalSalesTY]            Double  "
      ]
     },
     "execution_count": null,
     "metadata": {},
     "output_type": "execute_result"
    }
   ],
   "source": [
    "fabric.list_measures(dataset)"
   ]
  },
  {
   "cell_type": "markdown",
   "id": "7603151d-e46d-4566-86df-55ed348dc343",
   "metadata": {},
   "source": [
    "## Evaluate measures"
   ]
  },
  {
   "cell_type": "markdown",
   "id": "5b47723b-ab02-4c22-85fc-9c986b19c1f1",
   "metadata": {},
   "source": [
    "### Evaluate a raw measure"
   ]
  },
  {
   "cell_type": "markdown",
   "id": "7ba90eae-c410-4443-88bb-8ecaebbad241",
   "metadata": {
    "nteract": {
     "transient": {
      "deleting": false
     }
    }
   },
   "source": [
    "In the following code, use SemPy's `evaluate_measure` function to calculate a preconfigured measure that is called \"Average Selling Area Size\". You can see the underlying formula for this measure in the output of the previous cell. "
   ]
  },
  {
   "cell_type": "code",
   "execution_count": null,
   "id": "05136b6c-55fc-434a-9cc8-b396f5fdfe2e",
   "metadata": {
    "tags": []
   },
   "outputs": [
    {
     "data": {
      "application/vnd.livy.statement-meta+json": {
       "execution_finish_time": "2023-09-25T20:59:39.5605107Z",
       "execution_start_time": "2023-09-25T20:59:36.5613749Z",
       "livy_statement_state": "available",
       "parent_msg_id": "986d45e0-23a4-40a7-80f0-9544268bef64",
       "queued_time": "2023-09-25T20:58:44.2974751Z",
       "session_id": "203c1ef6-c809-42a7-8bd7-577b3bec7114",
       "session_start_time": null,
       "spark_jobs": {
        "jobs": [],
        "limit": 20,
        "numbers": {
         "FAILED": 0,
         "RUNNING": 0,
         "SUCCEEDED": 0,
         "UNKNOWN": 0
        },
        "rule": "ALL_DESC"
       },
       "spark_pool": null,
       "state": "finished",
       "statement_id": 13
      },
      "text/plain": [
       "StatementMeta(, 203c1ef6-c809-42a7-8bd7-577b3bec7114, 13, Finished, Available)"
      ]
     },
     "metadata": {},
     "output_type": "display_data"
    },
    {
     "data": {
      "text/html": [
       "<div>\n",
       "<style scoped>\n",
       "    .dataframe tbody tr th:only-of-type {\n",
       "        vertical-align: middle;\n",
       "    }\n",
       "\n",
       "    .dataframe tbody tr th {\n",
       "        vertical-align: top;\n",
       "    }\n",
       "\n",
       "    .dataframe thead th {\n",
       "        text-align: right;\n",
       "    }\n",
       "</style>\n",
       "<table border=\"1\" class=\"dataframe\">\n",
       "  <thead>\n",
       "    <tr style=\"text-align: right;\">\n",
       "      <th></th>\n",
       "      <th>Average Selling Area Size</th>\n",
       "    </tr>\n",
       "  </thead>\n",
       "  <tbody>\n",
       "    <tr>\n",
       "      <th>0</th>\n",
       "      <td>24326.923077</td>\n",
       "    </tr>\n",
       "  </tbody>\n",
       "</table>\n",
       "</div>"
      ],
      "text/plain": [
       "   Average Selling Area Size\n",
       "0               24326.923077"
      ]
     },
     "execution_count": null,
     "metadata": {},
     "output_type": "execute_result"
    }
   ],
   "source": [
    "fabric.evaluate_measure(dataset, measure=\"Average Selling Area Size\")"
   ]
  },
  {
   "cell_type": "markdown",
   "id": "2bda16fa-50df-4f10-956a-6908429bbf7d",
   "metadata": {},
   "source": [
    "### Evaluate a measure with `groupby_columns`"
   ]
  },
  {
   "cell_type": "markdown",
   "id": "7e61706b-875e-441f-9c6b-b452ebc275da",
   "metadata": {},
   "source": [
    "You can group the measure output by certain columns by supplying the additional parameter `groupby_columns`:"
   ]
  },
  {
   "cell_type": "code",
   "execution_count": null,
   "id": "205e6dd8-54cf-4617-9d4f-ab28c93686f5",
   "metadata": {},
   "outputs": [
    {
     "data": {
      "application/vnd.livy.statement-meta+json": {
       "execution_finish_time": "2023-09-25T20:59:40.3722962Z",
       "execution_start_time": "2023-09-25T20:59:39.9617045Z",
       "livy_statement_state": "available",
       "parent_msg_id": "a03636bb-bd89-4ba9-8a86-2fd192838c3e",
       "queued_time": "2023-09-25T20:58:44.2982101Z",
       "session_id": "203c1ef6-c809-42a7-8bd7-577b3bec7114",
       "session_start_time": null,
       "spark_jobs": {
        "jobs": [],
        "limit": 20,
        "numbers": {
         "FAILED": 0,
         "RUNNING": 0,
         "SUCCEEDED": 0,
         "UNKNOWN": 0
        },
        "rule": "ALL_DESC"
       },
       "spark_pool": null,
       "state": "finished",
       "statement_id": 14
      },
      "text/plain": [
       "StatementMeta(, 203c1ef6-c809-42a7-8bd7-577b3bec7114, 14, Finished, Available)"
      ]
     },
     "metadata": {},
     "output_type": "display_data"
    },
    {
     "data": {
      "text/html": [
       "<div>\n",
       "<style scoped>\n",
       "    .dataframe tbody tr th:only-of-type {\n",
       "        vertical-align: middle;\n",
       "    }\n",
       "\n",
       "    .dataframe tbody tr th {\n",
       "        vertical-align: top;\n",
       "    }\n",
       "\n",
       "    .dataframe thead th {\n",
       "        text-align: right;\n",
       "    }\n",
       "</style>\n",
       "<table border=\"1\" class=\"dataframe\">\n",
       "  <thead>\n",
       "    <tr style=\"text-align: right;\">\n",
       "      <th></th>\n",
       "      <th>Chain</th>\n",
       "      <th>DistrictName</th>\n",
       "      <th>Average Selling Area Size</th>\n",
       "    </tr>\n",
       "  </thead>\n",
       "  <tbody>\n",
       "    <tr>\n",
       "      <th>0</th>\n",
       "      <td>Fashions Direct</td>\n",
       "      <td>FD - District #1</td>\n",
       "      <td>43888.888889</td>\n",
       "    </tr>\n",
       "    <tr>\n",
       "      <th>1</th>\n",
       "      <td>Fashions Direct</td>\n",
       "      <td>FD - District #2</td>\n",
       "      <td>47777.777778</td>\n",
       "    </tr>\n",
       "    <tr>\n",
       "      <th>2</th>\n",
       "      <td>Fashions Direct</td>\n",
       "      <td>FD - District #3</td>\n",
       "      <td>50000.0</td>\n",
       "    </tr>\n",
       "    <tr>\n",
       "      <th>3</th>\n",
       "      <td>Fashions Direct</td>\n",
       "      <td>FD - District #4</td>\n",
       "      <td>50500.0</td>\n",
       "    </tr>\n",
       "    <tr>\n",
       "      <th>4</th>\n",
       "      <td>Lindseys</td>\n",
       "      <td>LI - District #1</td>\n",
       "      <td>10384.615385</td>\n",
       "    </tr>\n",
       "    <tr>\n",
       "      <th>5</th>\n",
       "      <td>Lindseys</td>\n",
       "      <td>LI - District #2</td>\n",
       "      <td>10909.090909</td>\n",
       "    </tr>\n",
       "    <tr>\n",
       "      <th>6</th>\n",
       "      <td>Lindseys</td>\n",
       "      <td>LI - District #3</td>\n",
       "      <td>10333.333333</td>\n",
       "    </tr>\n",
       "    <tr>\n",
       "      <th>7</th>\n",
       "      <td>Lindseys</td>\n",
       "      <td>LI - District #4</td>\n",
       "      <td>12500.0</td>\n",
       "    </tr>\n",
       "    <tr>\n",
       "      <th>8</th>\n",
       "      <td>Lindseys</td>\n",
       "      <td>LI - District #5</td>\n",
       "      <td>11785.714286</td>\n",
       "    </tr>\n",
       "  </tbody>\n",
       "</table>\n",
       "</div>"
      ],
      "text/plain": [
       "             Chain      DistrictName  Average Selling Area Size\n",
       "0  Fashions Direct  FD - District #1               43888.888889\n",
       "1  Fashions Direct  FD - District #2               47777.777778\n",
       "2  Fashions Direct  FD - District #3                    50000.0\n",
       "3  Fashions Direct  FD - District #4                    50500.0\n",
       "4         Lindseys  LI - District #1               10384.615385\n",
       "5         Lindseys  LI - District #2               10909.090909\n",
       "6         Lindseys  LI - District #3               10333.333333\n",
       "7         Lindseys  LI - District #4                    12500.0\n",
       "8         Lindseys  LI - District #5               11785.714286"
      ]
     },
     "execution_count": null,
     "metadata": {},
     "output_type": "execute_result"
    }
   ],
   "source": [
    "fabric.evaluate_measure(dataset, measure=\"Average Selling Area Size\", groupby_columns=[\"Store[Chain]\", \"Store[DistrictName]\"])"
   ]
  },
  {
   "cell_type": "markdown",
   "id": "be431292-a299-4dd5-a441-d4cc09b2c897",
   "metadata": {
    "nteract": {
     "transient": {
      "deleting": false
     }
    }
   },
   "source": [
    "In the previous code, you grouped by the columns `Chain` and `DistrictName` of the `Store` table in the semantic model."
   ]
  },
  {
   "cell_type": "markdown",
   "id": "5ca11d56-7017-40f8-b53e-f6a143631d27",
   "metadata": {},
   "source": [
    "### Evaluate a measure with filters"
   ]
  },
  {
   "cell_type": "markdown",
   "id": "30187436-6023-40c8-9660-ad59b6ad0fff",
   "metadata": {},
   "source": [
    "You can also use the `filters` parameter to specify specific values that the result can contain for particular columns:"
   ]
  },
  {
   "cell_type": "code",
   "execution_count": null,
   "id": "709bf6b1-04a5-402d-9906-6883ba7c1071",
   "metadata": {},
   "outputs": [
    {
     "data": {
      "application/vnd.livy.statement-meta+json": {
       "execution_finish_time": "2023-09-25T20:59:41.8825825Z",
       "execution_start_time": "2023-09-25T20:59:40.7656304Z",
       "livy_statement_state": "available",
       "parent_msg_id": "20b1f18d-9c8d-49cc-93cd-d7910aff67df",
       "queued_time": "2023-09-25T20:58:44.2988487Z",
       "session_id": "203c1ef6-c809-42a7-8bd7-577b3bec7114",
       "session_start_time": null,
       "spark_jobs": {
        "jobs": [],
        "limit": 20,
        "numbers": {
         "FAILED": 0,
         "RUNNING": 0,
         "SUCCEEDED": 0,
         "UNKNOWN": 0
        },
        "rule": "ALL_DESC"
       },
       "spark_pool": null,
       "state": "finished",
       "statement_id": 15
      },
      "text/plain": [
       "StatementMeta(, 203c1ef6-c809-42a7-8bd7-577b3bec7114, 15, Finished, Available)"
      ]
     },
     "metadata": {},
     "output_type": "display_data"
    },
    {
     "data": {
      "text/html": [
       "<div>\n",
       "<style scoped>\n",
       "    .dataframe tbody tr th:only-of-type {\n",
       "        vertical-align: middle;\n",
       "    }\n",
       "\n",
       "    .dataframe tbody tr th {\n",
       "        vertical-align: top;\n",
       "    }\n",
       "\n",
       "    .dataframe thead th {\n",
       "        text-align: right;\n",
       "    }\n",
       "</style>\n",
       "<table border=\"1\" class=\"dataframe\">\n",
       "  <thead>\n",
       "    <tr style=\"text-align: right;\">\n",
       "      <th></th>\n",
       "      <th>Territory</th>\n",
       "      <th>Total Units Last Year</th>\n",
       "    </tr>\n",
       "  </thead>\n",
       "  <tbody>\n",
       "    <tr>\n",
       "      <th>0</th>\n",
       "      <td>PA</td>\n",
       "      <td>11309</td>\n",
       "    </tr>\n",
       "    <tr>\n",
       "      <th>1</th>\n",
       "      <td>TN</td>\n",
       "      <td>81663</td>\n",
       "    </tr>\n",
       "    <tr>\n",
       "      <th>2</th>\n",
       "      <td>VA</td>\n",
       "      <td>160863</td>\n",
       "    </tr>\n",
       "  </tbody>\n",
       "</table>\n",
       "</div>"
      ],
      "text/plain": [
       "  Territory  Total Units Last Year\n",
       "0        PA                  11309\n",
       "1        TN                  81663\n",
       "2        VA                 160863"
      ]
     },
     "execution_count": null,
     "metadata": {},
     "output_type": "execute_result"
    }
   ],
   "source": [
    "fabric.evaluate_measure(dataset, \\\n",
    "                        measure=\"Total Units Last Year\", \\\n",
    "                        groupby_columns=[\"Store[Territory]\"], \\\n",
    "                        filters={\"Store[Territory]\": [\"PA\", \"TN\", \"VA\"], \"Store[Chain]\": [\"Lindseys\"]})"
   ]
  },
  {
   "cell_type": "markdown",
   "id": "b7625ffd-447d-48f3-8052-5ab27585b23a",
   "metadata": {
    "nteract": {
     "transient": {
      "deleting": false
     }
    }
   },
   "source": [
    "Note that `Store` is the name of the table, `Territory` is the name of the column, and `PA` is one of the values that are allowed by the filter."
   ]
  },
  {
   "cell_type": "markdown",
   "id": "b6bdd2ca-967c-45f5-ab7b-5de13acd05af",
   "metadata": {},
   "source": [
    "### Evaluate a measure across multiple tables"
   ]
  },
  {
   "cell_type": "markdown",
   "id": "4addf34c-0108-44b6-9d99-74236a8bd87d",
   "metadata": {},
   "source": [
    "These groups can span multiple tables in the semantic model."
   ]
  },
  {
   "cell_type": "code",
   "execution_count": null,
   "id": "e8107b17-7a0f-4495-970d-f60b888cebe8",
   "metadata": {},
   "outputs": [
    {
     "data": {
      "application/vnd.livy.statement-meta+json": {
       "execution_finish_time": "2023-09-25T21:00:09.6098158Z",
       "execution_start_time": "2023-09-25T20:59:42.2979433Z",
       "livy_statement_state": "available",
       "parent_msg_id": "fab3cbde-7bbb-44dc-b3e5-d9b2d02ed2a2",
       "queued_time": "2023-09-25T20:58:44.2994988Z",
       "session_id": "203c1ef6-c809-42a7-8bd7-577b3bec7114",
       "session_start_time": null,
       "spark_jobs": {
        "jobs": [],
        "limit": 20,
        "numbers": {
         "FAILED": 0,
         "RUNNING": 0,
         "SUCCEEDED": 0,
         "UNKNOWN": 0
        },
        "rule": "ALL_DESC"
       },
       "spark_pool": null,
       "state": "finished",
       "statement_id": 16
      },
      "text/plain": [
       "StatementMeta(, 203c1ef6-c809-42a7-8bd7-577b3bec7114, 16, Finished, Available)"
      ]
     },
     "metadata": {},
     "output_type": "display_data"
    },
    {
     "data": {
      "text/html": [
       "<div>\n",
       "<style scoped>\n",
       "    .dataframe tbody tr th:only-of-type {\n",
       "        vertical-align: middle;\n",
       "    }\n",
       "\n",
       "    .dataframe tbody tr th {\n",
       "        vertical-align: top;\n",
       "    }\n",
       "\n",
       "    .dataframe thead th {\n",
       "        text-align: right;\n",
       "    }\n",
       "</style>\n",
       "<table border=\"1\" class=\"dataframe\">\n",
       "  <thead>\n",
       "    <tr style=\"text-align: right;\">\n",
       "      <th></th>\n",
       "      <th>Territory</th>\n",
       "      <th>ItemID</th>\n",
       "      <th>Total Units Last Year</th>\n",
       "    </tr>\n",
       "  </thead>\n",
       "  <tbody>\n",
       "    <tr>\n",
       "      <th>0</th>\n",
       "      <td>DE</td>\n",
       "      <td>18049</td>\n",
       "      <td>1</td>\n",
       "    </tr>\n",
       "    <tr>\n",
       "      <th>1</th>\n",
       "      <td>DE</td>\n",
       "      <td>18069</td>\n",
       "      <td>1</td>\n",
       "    </tr>\n",
       "    <tr>\n",
       "      <th>2</th>\n",
       "      <td>DE</td>\n",
       "      <td>18079</td>\n",
       "      <td>1</td>\n",
       "    </tr>\n",
       "    <tr>\n",
       "      <th>3</th>\n",
       "      <td>DE</td>\n",
       "      <td>18085</td>\n",
       "      <td>1</td>\n",
       "    </tr>\n",
       "    <tr>\n",
       "      <th>4</th>\n",
       "      <td>DE</td>\n",
       "      <td>18087</td>\n",
       "      <td>3</td>\n",
       "    </tr>\n",
       "    <tr>\n",
       "      <th>...</th>\n",
       "      <td>...</td>\n",
       "      <td>...</td>\n",
       "      <td>...</td>\n",
       "    </tr>\n",
       "    <tr>\n",
       "      <th>178636</th>\n",
       "      <td>WV</td>\n",
       "      <td>244167</td>\n",
       "      <td>13</td>\n",
       "    </tr>\n",
       "    <tr>\n",
       "      <th>178637</th>\n",
       "      <td>WV</td>\n",
       "      <td>244223</td>\n",
       "      <td>4</td>\n",
       "    </tr>\n",
       "    <tr>\n",
       "      <th>178638</th>\n",
       "      <td>WV</td>\n",
       "      <td>244242</td>\n",
       "      <td>2</td>\n",
       "    </tr>\n",
       "    <tr>\n",
       "      <th>178639</th>\n",
       "      <td>WV</td>\n",
       "      <td>244246</td>\n",
       "      <td>2</td>\n",
       "    </tr>\n",
       "    <tr>\n",
       "      <th>178640</th>\n",
       "      <td>WV</td>\n",
       "      <td>244277</td>\n",
       "      <td>14</td>\n",
       "    </tr>\n",
       "  </tbody>\n",
       "</table>\n",
       "<p>178641 rows × 3 columns</p>\n",
       "</div>"
      ],
      "text/plain": [
       "       Territory  ItemID  Total Units Last Year\n",
       "0             DE   18049                      1\n",
       "1             DE   18069                      1\n",
       "2             DE   18079                      1\n",
       "3             DE   18085                      1\n",
       "4             DE   18087                      3\n",
       "...          ...     ...                    ...\n",
       "178636        WV  244167                     13\n",
       "178637        WV  244223                      4\n",
       "178638        WV  244242                      2\n",
       "178639        WV  244246                      2\n",
       "178640        WV  244277                     14\n",
       "\n",
       "[178641 rows x 3 columns]"
      ]
     },
     "execution_count": null,
     "metadata": {},
     "output_type": "execute_result"
    }
   ],
   "source": [
    "fabric.evaluate_measure(dataset, measure=\"Total Units Last Year\", groupby_columns=[\"Store[Territory]\", \"Sales[ItemID]\"])"
   ]
  },
  {
   "cell_type": "markdown",
   "id": "aaf13224-53bd-4cb4-ab9b-1265f91b18fd",
   "metadata": {},
   "source": [
    "### Evaluate multiple measures"
   ]
  },
  {
   "cell_type": "markdown",
   "id": "361c00ac-f902-4bc5-bbf2-056df4b43209",
   "metadata": {
    "nteract": {
     "transient": {
      "deleting": false
     }
    }
   },
   "source": [
    "The function `evaluate_measure` allows you to supply identifiers of multiple measures and output the calculated values in the same DataFrame:"
   ]
  },
  {
   "cell_type": "code",
   "execution_count": null,
   "id": "a724a024-c57f-497a-a27d-16ecae57d6fb",
   "metadata": {},
   "outputs": [
    {
     "data": {
      "application/vnd.livy.statement-meta+json": {
       "execution_finish_time": "2023-09-25T21:00:10.4145095Z",
       "execution_start_time": "2023-09-25T21:00:09.977972Z",
       "livy_statement_state": "available",
       "parent_msg_id": "11dadedb-5805-4a18-b1ce-ed218b721f22",
       "queued_time": "2023-09-25T20:58:44.3001858Z",
       "session_id": "203c1ef6-c809-42a7-8bd7-577b3bec7114",
       "session_start_time": null,
       "spark_jobs": {
        "jobs": [],
        "limit": 20,
        "numbers": {
         "FAILED": 0,
         "RUNNING": 0,
         "SUCCEEDED": 0,
         "UNKNOWN": 0
        },
        "rule": "ALL_DESC"
       },
       "spark_pool": null,
       "state": "finished",
       "statement_id": 17
      },
      "text/plain": [
       "StatementMeta(, 203c1ef6-c809-42a7-8bd7-577b3bec7114, 17, Finished, Available)"
      ]
     },
     "metadata": {},
     "output_type": "display_data"
    },
    {
     "data": {
      "text/html": [
       "<div>\n",
       "<style scoped>\n",
       "    .dataframe tbody tr th:only-of-type {\n",
       "        vertical-align: middle;\n",
       "    }\n",
       "\n",
       "    .dataframe tbody tr th {\n",
       "        vertical-align: top;\n",
       "    }\n",
       "\n",
       "    .dataframe thead th {\n",
       "        text-align: right;\n",
       "    }\n",
       "</style>\n",
       "<table border=\"1\" class=\"dataframe\">\n",
       "  <thead>\n",
       "    <tr style=\"text-align: right;\">\n",
       "      <th></th>\n",
       "      <th>Chain</th>\n",
       "      <th>DistrictName</th>\n",
       "      <th>Average Selling Area Size</th>\n",
       "      <th>Total Stores</th>\n",
       "    </tr>\n",
       "  </thead>\n",
       "  <tbody>\n",
       "    <tr>\n",
       "      <th>0</th>\n",
       "      <td>Fashions Direct</td>\n",
       "      <td>FD - District #1</td>\n",
       "      <td>43888.888889</td>\n",
       "      <td>9</td>\n",
       "    </tr>\n",
       "    <tr>\n",
       "      <th>1</th>\n",
       "      <td>Fashions Direct</td>\n",
       "      <td>FD - District #2</td>\n",
       "      <td>47777.777778</td>\n",
       "      <td>9</td>\n",
       "    </tr>\n",
       "    <tr>\n",
       "      <th>2</th>\n",
       "      <td>Fashions Direct</td>\n",
       "      <td>FD - District #3</td>\n",
       "      <td>50000.0</td>\n",
       "      <td>9</td>\n",
       "    </tr>\n",
       "    <tr>\n",
       "      <th>3</th>\n",
       "      <td>Fashions Direct</td>\n",
       "      <td>FD - District #4</td>\n",
       "      <td>50500.0</td>\n",
       "      <td>10</td>\n",
       "    </tr>\n",
       "    <tr>\n",
       "      <th>4</th>\n",
       "      <td>Lindseys</td>\n",
       "      <td>LI - District #1</td>\n",
       "      <td>10384.615385</td>\n",
       "      <td>13</td>\n",
       "    </tr>\n",
       "    <tr>\n",
       "      <th>5</th>\n",
       "      <td>Lindseys</td>\n",
       "      <td>LI - District #2</td>\n",
       "      <td>10909.090909</td>\n",
       "      <td>11</td>\n",
       "    </tr>\n",
       "    <tr>\n",
       "      <th>6</th>\n",
       "      <td>Lindseys</td>\n",
       "      <td>LI - District #3</td>\n",
       "      <td>10333.333333</td>\n",
       "      <td>15</td>\n",
       "    </tr>\n",
       "    <tr>\n",
       "      <th>7</th>\n",
       "      <td>Lindseys</td>\n",
       "      <td>LI - District #4</td>\n",
       "      <td>12500.0</td>\n",
       "      <td>14</td>\n",
       "    </tr>\n",
       "    <tr>\n",
       "      <th>8</th>\n",
       "      <td>Lindseys</td>\n",
       "      <td>LI - District #5</td>\n",
       "      <td>11785.714286</td>\n",
       "      <td>14</td>\n",
       "    </tr>\n",
       "  </tbody>\n",
       "</table>\n",
       "</div>"
      ],
      "text/plain": [
       "             Chain      DistrictName  Average Selling Area Size  Total Stores\n",
       "0  Fashions Direct  FD - District #1               43888.888889             9\n",
       "1  Fashions Direct  FD - District #2               47777.777778             9\n",
       "2  Fashions Direct  FD - District #3                    50000.0             9\n",
       "3  Fashions Direct  FD - District #4                    50500.0            10\n",
       "4         Lindseys  LI - District #1               10384.615385            13\n",
       "5         Lindseys  LI - District #2               10909.090909            11\n",
       "6         Lindseys  LI - District #3               10333.333333            15\n",
       "7         Lindseys  LI - District #4                    12500.0            14\n",
       "8         Lindseys  LI - District #5               11785.714286            14"
      ]
     },
     "execution_count": null,
     "metadata": {},
     "output_type": "execute_result"
    }
   ],
   "source": [
    "fabric.evaluate_measure(dataset, measure=[\"Average Selling Area Size\", \"Total Stores\"], groupby_columns=[\"Store[Chain]\", \"Store[DistrictName]\"])"
   ]
  },
  {
   "cell_type": "markdown",
   "id": "5139a35a-b300-47ed-91ac-17eee5cde7ce",
   "metadata": {},
   "source": [
    "## Use Power BI XMLA connector"
   ]
  },
  {
   "cell_type": "markdown",
   "id": "1ead6f8f-b3ff-48b6-aae4-d5b84a676a62",
   "metadata": {},
   "source": [
    "The default semantic model client is backed by Power BI's REST APIs. If there are any issues running queries with this client, it's possible to switch the back end to Power BI's XMLA interface using `use_xmla=True`. The SemPy parameters remain the same for measure calculation with XMLA."
   ]
  },
  {
   "cell_type": "code",
   "execution_count": null,
   "id": "639f90e2-fb11-4548-9963-dcd39e2f0569",
   "metadata": {},
   "outputs": [
    {
     "data": {
      "application/vnd.livy.statement-meta+json": {
       "execution_finish_time": "2023-09-25T21:00:13.7507163Z",
       "execution_start_time": "2023-09-25T21:00:10.8138288Z",
       "livy_statement_state": "available",
       "parent_msg_id": "afb0d10e-f0b2-4144-96ce-ea982deada16",
       "queued_time": "2023-09-25T20:58:44.3017859Z",
       "session_id": "203c1ef6-c809-42a7-8bd7-577b3bec7114",
       "session_start_time": null,
       "spark_jobs": {
        "jobs": [],
        "limit": 20,
        "numbers": {
         "FAILED": 0,
         "RUNNING": 0,
         "SUCCEEDED": 0,
         "UNKNOWN": 0
        },
        "rule": "ALL_DESC"
       },
       "spark_pool": null,
       "state": "finished",
       "statement_id": 18
      },
      "text/plain": [
       "StatementMeta(, 203c1ef6-c809-42a7-8bd7-577b3bec7114, 18, Finished, Available)"
      ]
     },
     "metadata": {},
     "output_type": "display_data"
    },
    {
     "data": {
      "text/html": [
       "<div>\n",
       "<style scoped>\n",
       "    .dataframe tbody tr th:only-of-type {\n",
       "        vertical-align: middle;\n",
       "    }\n",
       "\n",
       "    .dataframe tbody tr th {\n",
       "        vertical-align: top;\n",
       "    }\n",
       "\n",
       "    .dataframe thead th {\n",
       "        text-align: right;\n",
       "    }\n",
       "</style>\n",
       "<table border=\"1\" class=\"dataframe\">\n",
       "  <thead>\n",
       "    <tr style=\"text-align: right;\">\n",
       "      <th></th>\n",
       "      <th>Chain</th>\n",
       "      <th>DistrictName</th>\n",
       "      <th>Average Selling Area Size</th>\n",
       "      <th>Total Stores</th>\n",
       "    </tr>\n",
       "  </thead>\n",
       "  <tbody>\n",
       "    <tr>\n",
       "      <th>0</th>\n",
       "      <td>Lindseys</td>\n",
       "      <td>LI - District #2</td>\n",
       "      <td>11000</td>\n",
       "      <td>10</td>\n",
       "    </tr>\n",
       "    <tr>\n",
       "      <th>1</th>\n",
       "      <td>Lindseys</td>\n",
       "      <td>LI - District #5</td>\n",
       "      <td>12000</td>\n",
       "      <td>5</td>\n",
       "    </tr>\n",
       "    <tr>\n",
       "      <th>2</th>\n",
       "      <td>Lindseys</td>\n",
       "      <td>LI - District #1</td>\n",
       "      <td>10000</td>\n",
       "      <td>1</td>\n",
       "    </tr>\n",
       "  </tbody>\n",
       "</table>\n",
       "</div>"
      ],
      "text/plain": [
       "      Chain      DistrictName  Average Selling Area Size  Total Stores\n",
       "0  Lindseys  LI - District #2                      11000            10\n",
       "1  Lindseys  LI - District #5                      12000             5\n",
       "2  Lindseys  LI - District #1                      10000             1"
      ]
     },
     "execution_count": null,
     "metadata": {},
     "output_type": "execute_result"
    }
   ],
   "source": [
    "fabric.evaluate_measure(dataset, \\\n",
    "                        measure=[\"Average Selling Area Size\", \"Total Stores\"], \\\n",
    "                        groupby_columns=[\"Store[Chain]\", \"Store[DistrictName]\"], \\\n",
    "                        filters={\"Store[Territory]\": [\"PA\", \"TN\", \"VA\"], \"Store[Chain]\": [\"Lindseys\"]}, \\\n",
    "                        use_xmla=True)"
   ]
  },
  {
   "cell_type": "markdown",
   "id": "979bd7fa-17e0-4c3b-a247-f3086898fb07",
   "metadata": {
    "nteract": {
     "transient": {
      "deleting": false
     }
    }
   },
   "source": [
    "## Related content\n",
    "\n",
    "Check out other tutorials for semantic link / SemPy:\n",
    "1. [Clean data with functional dependencies](https://github.com/microsoft/fabric-samples/blob/main/docs-samples/data-science/semantic-link-samples/data_cleaning_functional_dependencies_tutorial.ipynb)\n",
    "1. [Analyze functional dependencies in a sample semantic model](https://github.com/microsoft/fabric-samples/blob/main/docs-samples/data-science/semantic-link-samples/powerbi_dependencies_tutorial.ipynb)\n",
    "1. [Discover relationships in the _Synthea_ dataset, using semantic link](https://github.com/microsoft/fabric-samples/blob/main/docs-samples/data-science/semantic-link-samples/relationships_detection_tutorial.ipynb)\n",
    "1. [Discover relationships in a semantic model, using semantic link](https://github.com/microsoft/fabric-samples/blob/main/docs-samples/data-science/semantic-link-samples/powerbi_relationships_tutorial.ipynb)"
   ]
  },
  {
   "cell_type": "markdown",
   "id": "4cb52e89",
   "metadata": {},
   "source": []
  }
 ],
 "metadata": {
  "kernel_info": {
   "name": "synapse_pyspark"
  },
  "kernelspec": {
   "display_name": "Synapse PySpark",
   "language": "Python",
   "name": "synapse_pyspark"
  },
  "language_info": {
   "name": "python"
  },
  "notebook_environment": {},
  "nteract": {
   "version": "nteract-front-end@1.0.0"
  },
  "save_output": true,
  "spark_compute": {
   "compute_id": "/trident/default",
   "session_options": {
    "conf": {},
    "enableDebugMode": false
   }
  }
 },
 "nbformat": 4,
 "nbformat_minor": 5
}
