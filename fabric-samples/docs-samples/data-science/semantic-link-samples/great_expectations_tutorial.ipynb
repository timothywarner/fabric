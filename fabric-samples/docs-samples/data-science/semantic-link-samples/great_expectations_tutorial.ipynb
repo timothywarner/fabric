{
 "cells": [
  {
   "cell_type": "markdown",
   "metadata": {},
   "source": [
    "# Tutorial: Use Great Expectations (GX) to validate Power BI semantic models"
   ]
  },
  {
   "cell_type": "markdown",
   "id": "33c46a9a-09e8-4109-b9fc-ce6a9083db3f",
   "metadata": {
    "nteract": {
     "transient": {
      "deleting": false
     }
    }
   },
   "source": [
    "This tutorial illustrates how to use SemPy together with [Great Expectations](https://greatexpectations.io/) (GX) to perform data validation on Power BI semantic models.\n",
    "\n",
    "In this tutorial, you learn how to:\n",
    "\n",
    "- Validate constraints on a dataset in your Fabric workspace with Great Expectation's Fabric Data Source (built on semantic link).\n",
    "    - Configure a GX Data Context, Data Assets, and Expectations.\n",
    "    - View validation results with a GX Checkpoint. \n",
    "- Use semantic link to analyze raw data."
   ]
  },
  {
   "cell_type": "markdown",
   "id": "33c46a9a-09e8-4109-b9fc-ce6a9083db3f",
   "metadata": {
    "nteract": {
     "transient": {
      "deleting": false
     }
    }
   },
   "source": [
    "### Prerequisites\n",
    "\n",
    "* A [Microsoft Fabric subscription](https://learn.microsoft.com/fabric/enterprise/licenses). Or sign up for a free [Microsoft Fabric (Preview) trial](https://learn.microsoft.com/fabric/get-started/fabric-trial).\n",
    "* Sign in to [Microsoft Fabric](https://fabric.microsoft.com/).\n",
    "* Go to the Data Science experience in Microsoft Fabric.\n",
    "* Select **Workspaces** from the left navigation pane to find and select your workspace. This workspace becomes your current workspace.\n",
    "* Download the [_Retail Analysis Sample PBIX.pbix_](https://download.microsoft.com/download/9/6/D/96DDC2FF-2568-491D-AAFA-AFDD6F763AE3/Retail%20Analysis%20Sample%20PBIX.pbix) dataset and upload it to your workspace.\n",
    "* Open your notebook. You have two options:\n",
    "    * [Import this notebook into your workspace](https://learn.microsoft.com/en-us/fabric/data-engineering/how-to-use-notebook#import-existing-notebooks). You can import from the Data Science homepage.\n",
    "    * Alternatively, you can create [a new notebook](https://learn.microsoft.com/fabric/data-engineering/how-to-use-notebook#create-notebooks) to copy/paste code into cells.\n",
    "* Add a lakehouse to the notebook."
   ]
  },
  {
   "cell_type": "markdown",
   "id": "f003ff81-c3e0-4f14-9336-6bd21629a860",
   "metadata": {
    "nteract": {
     "transient": {
      "deleting": false
     }
    }
   },
   "source": [
    "## Set up the notebook\n",
    "\n",
    "In this section, you set up a notebook environment with the necessary modules and data.\n",
    "\n",
    "1. Install `SemPy` and the relevant `Great Expectations` libraries from PyPI using the `%pip` in-line installation capability within the notebook."
   ]
  },
  {
   "cell_type": "code",
   "execution_count": null,
   "id": "450c8f7b-6896-4349-8101-014057015aa8",
   "metadata": {
    "jupyter": {
     "outputs_hidden": true,
     "source_hidden": false
    },
    "nteract": {
     "transient": {
      "deleting": false
     }
    },
    "tags": [
     "fabric_skip_execution"
    ]
   },
   "outputs": [],
   "source": [
    "# install libraries\n",
    "%pip install semantic-link great-expectations great_expectations_experimental great_expectations_zipcode_expectations\n",
    "\n",
    "# load %%dax cell magic\n",
    "%load_ext sempy"
   ]
  },
  {
   "cell_type": "markdown",
   "id": "b2eeffb5-e381-4c0d-93b7-06c94f6e80da",
   "metadata": {},
   "source": [
    "2. Perform necessary imports of modules that you'll need later: "
   ]
  },
  {
   "cell_type": "code",
   "execution_count": null,
   "id": "9fb2ad54-6b22-4180-8959-43f47ed36e58",
   "metadata": {
    "jupyter": {
     "outputs_hidden": false,
     "source_hidden": false
    },
    "nteract": {
     "transient": {
      "deleting": false
     }
    }
   },
   "outputs": [],
   "source": [
    "import great_expectations as gx\n",
    "from great_expectations.expectations.expectation import ExpectationConfiguration\n",
    "from great_expectations_zipcode_expectations.expectations import expect_column_values_to_be_valid_zip5"
   ]
  },
  {
   "cell_type": "markdown",
   "id": "56e558dd-2c75-4966-ac27-33fc7b08d129",
   "metadata": {
    "nteract": {
     "transient": {
      "deleting": false
     }
    }
   },
   "source": [
    "## Set up GX Data Context and Data Source\n",
    "\n",
    "In order to get started with Great Expectations, you first have to set up a GX [Data Context](https://docs.greatexpectations.io/docs/reference/learn/terms/data_context/). The context serves as an entry point for GX operations and holds all relevant configurations."
   ]
  },
  {
   "cell_type": "code",
   "execution_count": null,
   "id": "8ce91d3c-5a6d-4337-9ae1-bbfb04aebc04",
   "metadata": {
    "jupyter": {
     "outputs_hidden": false,
     "source_hidden": false
    },
    "nteract": {
     "transient": {
      "deleting": false
     }
    }
   },
   "outputs": [],
   "source": [
    "context = gx.get_context()"
   ]
  },
  {
   "cell_type": "markdown",
   "id": "b8706404-81ce-4353-a3e3-68e3e4a10df6",
   "metadata": {
    "nteract": {
     "transient": {
      "deleting": false
     }
    }
   },
   "source": [
    "You can now add your Fabric dataset to this context as a [Data Source](https://docs.greatexpectations.io/docs/reference/learn/terms/datasource) to start interacting with the data. This tutorial uses a standard Power BI sample semantic model [Retail Analysis Sample .pbix file](https://learn.microsoft.com/en-us/power-bi/create-reports/sample-retail-analysis)."
   ]
  },
  {
   "cell_type": "code",
   "execution_count": null,
   "id": "39ab4697-9e19-411c-9144-1e751ff6bc6f",
   "metadata": {
    "jupyter": {
     "outputs_hidden": false,
     "source_hidden": false
    },
    "nteract": {
     "transient": {
      "deleting": false
     }
    }
   },
   "outputs": [],
   "source": [
    "ds = context.sources.add_fabric_powerbi(\"Retail Analysis Data Source\", dataset=\"Retail Analysis Sample PBIX\")"
   ]
  },
  {
   "cell_type": "markdown",
   "id": "d29cc78a-ba34-472e-a5cd-e024f7f25645",
   "metadata": {
    "nteract": {
     "transient": {
      "deleting": false
     }
    }
   },
   "source": [
    "## Specify Data Assets\n",
    "\n",
    "Define [Data Assets](https://docs.greatexpectations.io/docs/reference/learn/terms/data_asset) to specify the subset of data you'd like to work with. The asset can be as simple as full tables, or be as complex as a custom Data Analysis Expressions (DAX) query.\n",
    "\n",
    "Here, you'll add multiple assets:\n",
    "* Power BI table\n",
    "* Power BI measure\n",
    "* Custom DAX query\n",
    "* [Dynamic Management View](https://learn.microsoft.com/en-us/analysis-services/instances/use-dynamic-management-views-dmvs-to-monitor-analysis-services?view=asallproducts-allversions) (DMV) query\n"
   ]
  },
  {
   "cell_type": "markdown",
   "id": "b6089586-a700-4bc3-a6d6-ef6e01b7ec09",
   "metadata": {
    "nteract": {
     "transient": {
      "deleting": false
     }
    }
   },
   "source": [
    "### Power BI table\n",
    "\n",
    "Add a Power BI table as a data asset."
   ]
  },
  {
   "cell_type": "code",
   "execution_count": null,
   "id": "804ef10b-9098-40c8-8bcc-db71858015ad",
   "metadata": {
    "jupyter": {
     "outputs_hidden": false,
     "source_hidden": false
    },
    "nteract": {
     "transient": {
      "deleting": false
     }
    }
   },
   "outputs": [],
   "source": [
    "ds.add_powerbi_table_asset(\"Store Asset\", table=\"Store\")"
   ]
  },
  {
   "cell_type": "markdown",
   "id": "a959824c-328b-4e6e-bccf-deb867abe3b1",
   "metadata": {
    "nteract": {
     "transient": {
      "deleting": false
     }
    }
   },
   "source": [
    "### Power BI measure\n",
    "\n",
    "If your dataset contains preconfigured measures, you add the measures as assets following a similar API to SemPy's `evaluate_measure`. "
   ]
  },
  {
   "cell_type": "code",
   "execution_count": null,
   "id": "279f29c4-d386-4e9e-8379-1c3208e9fc84",
   "metadata": {
    "jupyter": {
     "outputs_hidden": true,
     "source_hidden": false
    },
    "nteract": {
     "transient": {
      "deleting": false
     }
    }
   },
   "outputs": [],
   "source": [
    "ds.add_powerbi_measure_asset(\n",
    "    \"Total Units Asset\",\n",
    "    measure=\"TotalUnits\",\n",
    "    groupby_columns=[\"Time[FiscalYear]\", \"Time[FiscalMonth]\"]\n",
    ")"
   ]
  },
  {
   "cell_type": "markdown",
   "id": "fa5a5971-c065-4a7e-bfac-231d8b68f259",
   "metadata": {
    "nteract": {
     "transient": {
      "deleting": false
     }
    }
   },
   "source": [
    "### DAX\n",
    "If you'd like to define your own measures or have more control over specific rows, you can add a DAX asset with a custom DAX query. Here, we define a `Total Units Ratio` measure by dividing two existing measures."
   ]
  },
  {
   "cell_type": "code",
   "execution_count": null,
   "id": "ad5f7668-5a73-4849-9742-f1813df08467",
   "metadata": {
    "jupyter": {
     "outputs_hidden": true,
     "source_hidden": false
    },
    "nteract": {
     "transient": {
      "deleting": false
     }
    }
   },
   "outputs": [],
   "source": [
    "ds.add_powerbi_dax_asset(\n",
    "    \"Total Units YoY Asset\",\n",
    "    dax_string=\n",
    "    \"\"\"\n",
    "    EVALUATE SUMMARIZECOLUMNS(\n",
    "        'Time'[FiscalYear],\n",
    "        'Time'[FiscalMonth],\n",
    "        \"Total Units Ratio\", DIVIDE([Total Units This Year], [Total Units Last Year])\n",
    "    )    \n",
    "    \"\"\"\n",
    ")"
   ]
  },
  {
   "cell_type": "markdown",
   "id": "64fa7244-fa06-47d4-91f0-36b331fdc561",
   "metadata": {
    "nteract": {
     "transient": {
      "deleting": false
     }
    }
   },
   "source": [
    "### DMV query\n",
    "\n",
    "In some cases, it might be helpful to use [Dynamic Management View](https://learn.microsoft.com/en-us/analysis-services/instances/use-dynamic-management-views-dmvs-to-monitor-analysis-services?view=asallproducts-allversions) (DMV) calculations as part of the data validation process. For example, you can keep track of the number of referential integrity violations within your dataset. For more information, see \"[Clean data = faster reports](https://dax.tips/2019/11/28/clean-data-faster-reports/)\" "
   ]
  },
  {
   "cell_type": "code",
   "execution_count": null,
   "id": "f5294f71-b569-4146-aa50-4d05c45591f3",
   "metadata": {
    "jupyter": {
     "outputs_hidden": true,
     "source_hidden": false
    },
    "nteract": {
     "transient": {
      "deleting": false
     }
    }
   },
   "outputs": [],
   "source": [
    "ds.add_powerbi_dax_asset(\n",
    "    \"Referential Integrity Violation\",\n",
    "    dax_string=\n",
    "    \"\"\"\n",
    "    SELECT\n",
    "        [Database_name],\n",
    "        [Dimension_Name],\n",
    "        [RIVIOLATION_COUNT]\n",
    "    FROM $SYSTEM.DISCOVER_STORAGE_TABLES\n",
    "    \"\"\"\n",
    ")"
   ]
  },
  {
   "cell_type": "markdown",
   "id": "a88e5f55-194d-43ff-8d25-5e0d93ac2852",
   "metadata": {
    "nteract": {
     "transient": {
      "deleting": false
     }
    }
   },
   "source": [
    "## Expectations\n",
    "\n",
    "In order to add specific constraints to the assets, you first have to configure [Expectation Suites](https://docs.greatexpectations.io/docs/reference/learn/terms/expectation_suite). After adding individual [Expectations](https://docs.greatexpectations.io/docs/reference/learn/terms/expectation) to each suite, you can then update the Data Context set up in the beginning with the new suite. For a full list of available expectations, see the [GX Expectation Gallery](https://greatexpectations.io/expectations/).\n",
    "\n",
    "Start by adding a \"Retail Store Suite\" with two expectations:\n",
    "* a valid zip code\n",
    "* a table with row count between 80 and 200"
   ]
  },
  {
   "cell_type": "code",
   "execution_count": null,
   "id": "5637d4f9-4cd8-4f8c-99bb-f8d6157770ba",
   "metadata": {
    "jupyter": {
     "outputs_hidden": true,
     "source_hidden": false
    },
    "nteract": {
     "transient": {
      "deleting": false
     }
    }
   },
   "outputs": [],
   "source": [
    "suite_store = context.add_expectation_suite(\"Retail Store Suite\")\n",
    "\n",
    "suite_store.add_expectation(ExpectationConfiguration(\"expect_column_values_to_be_valid_zip5\", { \"column\": \"PostalCode\" }))\n",
    "suite_store.add_expectation(ExpectationConfiguration(\"expect_table_row_count_to_be_between\", { \"min_value\": 80, \"max_value\": 200 }))\n",
    "\n",
    "context.add_or_update_expectation_suite(expectation_suite=suite_store)"
   ]
  },
  {
   "cell_type": "markdown",
   "id": "ba513df5-314c-49c5-ac2c-adb3b2dfc58f",
   "metadata": {
    "nteract": {
     "transient": {
      "deleting": false
     }
    }
   },
   "source": [
    "##### `TotalUnits` Measure"
   ]
  },
  {
   "cell_type": "markdown",
   "id": "ccbc88b4-2112-42fb-8ccb-001501e4afb8",
   "metadata": {
    "nteract": {
     "transient": {
      "deleting": false
     }
    }
   },
   "source": [
    "Add a \"Retail Measure Suite\" with one expectation:\n",
    "\n",
    "* Column values should be greater than 50,000"
   ]
  },
  {
   "cell_type": "code",
   "execution_count": null,
   "id": "98cbb69b-86cf-4460-b71e-89d3df564eb6",
   "metadata": {
    "jupyter": {
     "outputs_hidden": true,
     "source_hidden": false
    },
    "nteract": {
     "transient": {
      "deleting": false
     }
    }
   },
   "outputs": [],
   "source": [
    "suite_measure = context.add_expectation_suite(\"Retail Measure Suite\")\n",
    "suite_measure.add_expectation(ExpectationConfiguration(\n",
    "    \"expect_column_values_to_be_between\", \n",
    "    {\n",
    "        \"column\": \"TotalUnits\",\n",
    "        \"min_value\": 50000\n",
    "    }\n",
    "))\n",
    "\n",
    "context.add_or_update_expectation_suite(expectation_suite=suite_measure)"
   ]
  },
  {
   "cell_type": "markdown",
   "id": "2da347b3-0675-4ff4-8bef-11de53b0d5b9",
   "metadata": {
    "nteract": {
     "transient": {
      "deleting": false
     }
    }
   },
   "source": [
    "### `Total Units Ratio` DAX\n",
    "\n",
    "Add a \"Retail DAX Suite\" with one expectation:\n",
    "\n",
    "* Column values for Total Units Ratio shoud be between 0.8 and 1.5"
   ]
  },
  {
   "cell_type": "code",
   "execution_count": null,
   "id": "1ec9ec2d-23d0-4d42-979a-0194b7c06962",
   "metadata": {
    "jupyter": {
     "outputs_hidden": true,
     "source_hidden": false
    },
    "nteract": {
     "transient": {
      "deleting": false
     }
    }
   },
   "outputs": [],
   "source": [
    "suite_dax = context.add_expectation_suite(\"Retail DAX Suite\")\n",
    "suite_dax.add_expectation(ExpectationConfiguration(\n",
    "    \"expect_column_values_to_be_between\", \n",
    "    {\n",
    "        \"column\": \"[Total Units Ratio]\",\n",
    "        \"min_value\": 0.8,\n",
    "        \"max_value\": 1.5\n",
    "    }\n",
    "))\n",
    "\n",
    "context.add_or_update_expectation_suite(expectation_suite=suite_dax)"
   ]
  },
  {
   "cell_type": "markdown",
   "id": "f7cd617d-9d01-45e9-985a-453701583ea2",
   "metadata": {
    "nteract": {
     "transient": {
      "deleting": false
     }
    }
   },
   "source": [
    "### Referential Integrity Violations (DMV)\n",
    "\n",
    "Add a \"Retail DMV Suite\" with one expectation:\n",
    "\n",
    "* the RIVIOLATION_COUNT should be 0"
   ]
  },
  {
   "cell_type": "code",
   "execution_count": null,
   "id": "457fddfe-1bb1-4d2b-86fd-4ae8f376bc17",
   "metadata": {
    "jupyter": {
     "outputs_hidden": true,
     "source_hidden": false
    },
    "nteract": {
     "transient": {
      "deleting": false
     }
    }
   },
   "outputs": [],
   "source": [
    "suite_dmv = context.add_expectation_suite(\"Retail DMV Suite\")\n",
    "# There should be no RI violations\n",
    "suite_dmv.add_expectation(ExpectationConfiguration(\n",
    "    \"expect_column_values_to_be_in_set\", \n",
    "    {\n",
    "        \"column\": \"RIVIOLATION_COUNT\",\n",
    "        \"value_set\": [0]\n",
    "    }\n",
    "))\n",
    "context.add_or_update_expectation_suite(expectation_suite=suite_dmv)"
   ]
  },
  {
   "cell_type": "markdown",
   "id": "f2ee7351-a2ad-47dd-99b3-b762b573493c",
   "metadata": {
    "nteract": {
     "transient": {
      "deleting": false
     }
    }
   },
   "source": [
    "## Validation\n",
    "\n",
    "To actually run the specified expectations against the data, first create a [Checkpoint](https://docs.greatexpectations.io/docs/reference/learn/terms/checkpoint) and add it to the context. For more information on Checkpoint configuration, see [Data Validation workflow](https://docs.greatexpectations.io/docs/reference/learn/guides/validation/validate_data_overview)."
   ]
  },
  {
   "cell_type": "code",
   "execution_count": null,
   "id": "0563e117-7075-4386-963a-fb038cf6c813",
   "metadata": {
    "jupyter": {
     "outputs_hidden": false,
     "source_hidden": false
    },
    "nteract": {
     "transient": {
      "deleting": false
     }
    }
   },
   "outputs": [],
   "source": [
    "checkpoint_config = {\n",
    "    \"name\": f\"Retail Analysis Checkpoint\",\n",
    "    \"validations\": [\n",
    "        {\n",
    "            \"expectation_suite_name\": \"Retail Store Suite\",\n",
    "            \"batch_request\": {\n",
    "                \"datasource_name\": \"Retail Analysis Data Source\",\n",
    "                \"data_asset_name\": \"Store Asset\",\n",
    "            },\n",
    "        },\n",
    "        {\n",
    "            \"expectation_suite_name\": \"Retail Measure Suite\",\n",
    "            \"batch_request\": {\n",
    "                \"datasource_name\": \"Retail Analysis Data Source\",\n",
    "                \"data_asset_name\": \"Total Units Asset\",\n",
    "            },\n",
    "        },\n",
    "        {\n",
    "            \"expectation_suite_name\": \"Retail DAX Suite\",\n",
    "            \"batch_request\": {\n",
    "                \"datasource_name\": \"Retail Analysis Data Source\",\n",
    "                \"data_asset_name\": \"Total Units YoY Asset\",\n",
    "            },\n",
    "        },\n",
    "        {\n",
    "            \"expectation_suite_name\": \"Retail DMV Suite\",\n",
    "            \"batch_request\": {\n",
    "                \"datasource_name\": \"Retail Analysis Data Source\",\n",
    "                \"data_asset_name\": \"Referential Integrity Violation\",\n",
    "            },\n",
    "        },\n",
    "    ],\n",
    "}\n",
    "checkpoint = context.add_checkpoint(\n",
    "    **checkpoint_config\n",
    ")"
   ]
  },
  {
   "cell_type": "markdown",
   "id": "afad6356-c009-4917-ba47-4dc87c301437",
   "metadata": {
    "nteract": {
     "transient": {
      "deleting": false
     }
    }
   },
   "source": [
    "Now run the checkpoint and extract the results as a pandas DataFrame for simple formatting."
   ]
  },
  {
   "cell_type": "code",
   "execution_count": null,
   "id": "01b57cda-d900-4c64-9698-483dcbbbf4e3",
   "metadata": {
    "jupyter": {
     "outputs_hidden": false,
     "source_hidden": false
    },
    "nteract": {
     "transient": {
      "deleting": false
     }
    }
   },
   "outputs": [],
   "source": [
    "result = checkpoint.run()"
   ]
  },
  {
   "cell_type": "markdown",
   "id": "08fd30db-3e56-4d12-8986-fc361a932166",
   "metadata": {
    "nteract": {
     "transient": {
      "deleting": false
     }
    }
   },
   "source": [
    "Process and print your results."
   ]
  },
  {
   "cell_type": "code",
   "execution_count": null,
   "id": "f56e3d93-86c8-4446-aaa5-202bbabb1494",
   "metadata": {
    "jupyter": {
     "outputs_hidden": false,
     "source_hidden": false
    },
    "nteract": {
     "transient": {
      "deleting": false
     }
    }
   },
   "outputs": [],
   "source": [
    "import pandas as pd\n",
    "\n",
    "data = []\n",
    "\n",
    "for run_result in result.run_results:\n",
    "    for validation_result in result.run_results[run_result][\"validation_result\"][\"results\"]:\n",
    "        row = {\n",
    "            \"Batch ID\": run_result.batch_identifier,\n",
    "            \"type\": validation_result.expectation_config.expectation_type,\n",
    "            \"success\": validation_result.success\n",
    "        }\n",
    "\n",
    "        row.update(dict(validation_result.result))\n",
    "        \n",
    "        data.append(row)\n",
    "\n",
    "result_df = pd.DataFrame.from_records(data)    \n",
    "\n",
    "result_df[[\"Batch ID\", \"type\", \"success\", \"element_count\", \"unexpected_count\", \"partial_unexpected_list\"]]"
   ]
  },
  {
   "cell_type": "markdown",
   "id": "364be09f-926d-4ce8-a571-a60994038680",
   "metadata": {
    "nteract": {
     "transient": {
      "deleting": false
     }
    }
   },
   "source": [
    "From these results you can see that all your expectations passed the validation, except for the \"Total Units YoY Asset\" that you defined through a custom DAX query. "
   ]
  },
  {
   "cell_type": "markdown",
   "id": "78468979-e58c-4d54-961d-f74280a56e2f",
   "metadata": {
    "nteract": {
     "transient": {
      "deleting": false
     }
    }
   },
   "source": [
    "## Diagnostics\n",
    "\n",
    "Using semantic link, you can fetch the source data to understand which exact years are out of range. Semantic link provides an inline magic for executing DAX queries. Use semantic link to execute the same query you passed into the GX Data Asset and visualize the resulting values."
   ]
  },
  {
   "cell_type": "code",
   "execution_count": null,
   "id": "6e418e72-3f62-4db9-8601-8163b77fe969",
   "metadata": {
    "jupyter": {
     "outputs_hidden": false,
     "source_hidden": false
    },
    "nteract": {
     "transient": {
      "deleting": false
     }
    }
   },
   "outputs": [],
   "source": [
    "%%dax \"Retail Analysis Sample PBIX\"\n",
    "\n",
    "EVALUATE SUMMARIZECOLUMNS(\n",
    "    'Time'[FiscalYear],\n",
    "    'Time'[FiscalMonth],\n",
    "    \"Total Units Ratio\", DIVIDE([Total Units This Year], [Total Units Last Year])\n",
    ")"
   ]
  },
  {
   "cell_type": "markdown",
   "id": "f1bd01cc-3df8-4f7c-9f24-6a86ec597113",
   "metadata": {
    "nteract": {
     "transient": {
      "deleting": false
     }
    }
   },
   "source": [
    "Save these results in a DataFrame."
   ]
  },
  {
   "cell_type": "code",
   "execution_count": null,
   "id": "c92ace40-860a-46d9-aaae-6a6961dc9492",
   "metadata": {
    "jupyter": {
     "outputs_hidden": false,
     "source_hidden": false
    },
    "nteract": {
     "transient": {
      "deleting": false
     }
    }
   },
   "outputs": [],
   "source": [
    "df = _"
   ]
  },
  {
   "cell_type": "markdown",
   "id": "015bf575-977e-42e7-8093-ec9159b2c515",
   "metadata": {
    "nteract": {
     "transient": {
      "deleting": false
     }
    }
   },
   "source": [
    "Plot the results."
   ]
  },
  {
   "cell_type": "code",
   "execution_count": null,
   "id": "4038027b-7a54-41e5-944a-e0fe6fb3c00a",
   "metadata": {
    "jupyter": {
     "outputs_hidden": false,
     "source_hidden": false
    },
    "nteract": {
     "transient": {
      "deleting": false
     }
    }
   },
   "outputs": [],
   "source": [
    "import matplotlib.pyplot as plt\n",
    "\n",
    "df[\"Total Units % Change YoY\"] = (df[\"[Total Units Ratio]\"] - 1)\n",
    "\n",
    "df.set_index([\"Time[FiscalYear]\", \"Time[FiscalMonth]\"]).plot.bar(y=\"Total Units % Change YoY\")\n",
    "\n",
    "plt.axhline(0)\n",
    "\n",
    "plt.axhline(-0.2, color=\"red\", linestyle=\"dotted\")\n",
    "plt.axhline( 0.5, color=\"red\", linestyle=\"dotted\")\n",
    "\n",
    "None"
   ]
  },
  {
   "cell_type": "markdown",
   "id": "d5b087ab-cff4-45d7-9203-fb5d4aa92675",
   "metadata": {
    "nteract": {
     "transient": {
      "deleting": false
     }
    }
   },
   "source": [
    "From the plot, you can see that April and July were slightly out of range and can then take further steps to investigate."
   ]
  },
  {
   "cell_type": "markdown",
   "id": "e61a7259-39fc-435c-9f4d-6797364608e2",
   "metadata": {
    "nteract": {
     "transient": {
      "deleting": false
     }
    }
   },
   "source": [
    "## Storing GX Configuration\n",
    "\n",
    "As the data in your dataset changes over time, you might want to rerun the GX validations you just performed. Currently, the Data Context (containing the connected Data Assets, Expectation Suites, and Checkpoint) lives ephemerally, but it can be converted to a File Context for future use. Alternatively, you can instantiate a File Context (see [Instantiate a Data Context](https://docs.greatexpectations.io/docs/reference/learn/guides/setup/configuring_data_contexts/instantiating_data_contexts/instantiate_data_context#specify-a-folder-containing-a-previously-initialized-filesystem-data-context))."
   ]
  },
  {
   "cell_type": "code",
   "execution_count": null,
   "id": "ecfecd54-c3b5-4604-8faf-7225f1af86b8",
   "metadata": {
    "jupyter": {
     "outputs_hidden": false,
     "source_hidden": false
    },
    "nteract": {
     "transient": {
      "deleting": false
     }
    }
   },
   "outputs": [],
   "source": [
    "context = context.convert_to_file_context()"
   ]
  },
  {
   "cell_type": "markdown",
   "id": "8f4c8985-da34-4659-949a-5eadd29cafdc",
   "metadata": {
    "nteract": {
     "transient": {
      "deleting": false
     }
    }
   },
   "source": [
    "Now that you saved the context, copy the `gx` directory to your lakehouse.\n",
    "\n",
    "\n",
    "> [!IMPORTANT]\n",
    "> **This cell assumes you  [added a lakehouse](https://aka.ms/fabric/addlakehouse) to the notebook.** If there is no lakehouse attached, you won't see an error, but you also won't later be able to get the context. If you add a lakehouse now, the kernel will restart, so you'll have to re-run the entire notebook to get back to this point."
   ]
  },
  {
   "cell_type": "code",
   "execution_count": null,
   "id": "f8eec23f-575a-4890-aac6-881a7bf1d4d7",
   "metadata": {
    "jupyter": {
     "outputs_hidden": false,
     "source_hidden": false
    },
    "nteract": {
     "transient": {
      "deleting": false
     }
    }
   },
   "outputs": [],
   "source": [
    "# copy GX directory to attached lakehouse\n",
    "!cp -r gx/ /lakehouse/default/Files/gx"
   ]
  },
  {
   "cell_type": "markdown",
   "id": "ae6679cf-56a6-4847-9bcc-14dba07bb04c",
   "metadata": {
    "nteract": {
     "transient": {
      "deleting": false
     }
    }
   },
   "source": [
    "Now, future contexts can be created with `context = gx.get_context(project_root_dir=\"<your path here>\")` to use all the configurations from this tutorial.\n",
    "\n",
    "For example, in a new notebook, attach the same lakehouse and use `context = gx.get_context(project_root_dir=\"/lakehouse/default/Files/gx\")` to retrieve the context."
   ]
  }
 ],
 "metadata": {
  "kernel_info": {
   "name": "synapse_pyspark"
  },
  "kernelspec": {
   "display_name": "Synapse PySpark",
   "language": "Python",
   "name": "synapse_pyspark"
  },
  "language_info": {
   "name": "python"
  },
  "notebook_environment": {},
  "nteract": {
   "version": "nteract-front-end@1.0.0"
  },
  "save_output": true,
  "spark_compute": {
   "compute_id": "/trident/default",
   "session_options": {
    "conf": {},
    "enableDebugMode": false
   }
  }
 },
 "nbformat": 4,
 "nbformat_minor": 5
}
